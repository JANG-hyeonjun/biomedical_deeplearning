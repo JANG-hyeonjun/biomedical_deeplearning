{
  "nbformat": 4,
  "nbformat_minor": 0,
  "metadata": {
    "colab": {
      "name": "lab02_201602955_장현준.ipynb",
      "provenance": [],
      "collapsed_sections": [],
      "authorship_tag": "ABX9TyNrf1POsbHhI0n2SZ/DI3EU",
      "include_colab_link": true
    },
    "kernelspec": {
      "name": "python3",
      "display_name": "Python 3"
    },
    "language_info": {
      "name": "python"
    }
  },
  "cells": [
    {
      "cell_type": "markdown",
      "metadata": {
        "id": "view-in-github",
        "colab_type": "text"
      },
      "source": [
        "<a href=\"https://colab.research.google.com/github/JANG-hyeonjun/biomedical_deeplearning/blob/main/lab02_201602955_%EC%9E%A5%ED%98%84%EC%A4%80.ipynb\" target=\"_parent\"><img src=\"https://colab.research.google.com/assets/colab-badge.svg\" alt=\"Open In Colab\"/></a>"
      ]
    },
    {
      "cell_type": "markdown",
      "metadata": {
        "id": "cbB1qFAdbzZD"
      },
      "source": [
        "#3.2linear-regression-scratch"
      ]
    },
    {
      "cell_type": "markdown",
      "metadata": {
        "id": "pBtH5lyImE_E"
      },
      "source": [
        "## 3.2.1generating the Dataset"
      ]
    },
    {
      "cell_type": "code",
      "metadata": {
        "colab": {
          "base_uri": "https://localhost:8080/"
        },
        "id": "hYVc20INbLf1",
        "outputId": "6d2ddb27-413b-4988-c26b-fdef42b1f2a9"
      },
      "source": [
        "!pip install -U mxnet-cu101==1.7.0\n",
        "!pip install d2l==0.16.2"
      ],
      "execution_count": 363,
      "outputs": [
        {
          "output_type": "stream",
          "text": [
            "Requirement already up-to-date: mxnet-cu101==1.7.0 in /usr/local/lib/python3.7/dist-packages (1.7.0)\n",
            "Requirement already satisfied, skipping upgrade: graphviz<0.9.0,>=0.8.1 in /usr/local/lib/python3.7/dist-packages (from mxnet-cu101==1.7.0) (0.8.4)\n",
            "Requirement already satisfied, skipping upgrade: numpy<2.0.0,>1.16.0 in /usr/local/lib/python3.7/dist-packages (from mxnet-cu101==1.7.0) (1.19.5)\n",
            "Requirement already satisfied, skipping upgrade: requests<3,>=2.20.0 in /usr/local/lib/python3.7/dist-packages (from mxnet-cu101==1.7.0) (2.23.0)\n",
            "Requirement already satisfied, skipping upgrade: chardet<4,>=3.0.2 in /usr/local/lib/python3.7/dist-packages (from requests<3,>=2.20.0->mxnet-cu101==1.7.0) (3.0.4)\n",
            "Requirement already satisfied, skipping upgrade: idna<3,>=2.5 in /usr/local/lib/python3.7/dist-packages (from requests<3,>=2.20.0->mxnet-cu101==1.7.0) (2.10)\n",
            "Requirement already satisfied, skipping upgrade: certifi>=2017.4.17 in /usr/local/lib/python3.7/dist-packages (from requests<3,>=2.20.0->mxnet-cu101==1.7.0) (2020.12.5)\n",
            "Requirement already satisfied, skipping upgrade: urllib3!=1.25.0,!=1.25.1,<1.26,>=1.21.1 in /usr/local/lib/python3.7/dist-packages (from requests<3,>=2.20.0->mxnet-cu101==1.7.0) (1.24.3)\n",
            "Requirement already satisfied: d2l==0.16.2 in /usr/local/lib/python3.7/dist-packages (0.16.2)\n",
            "Requirement already satisfied: matplotlib in /usr/local/lib/python3.7/dist-packages (from d2l==0.16.2) (3.2.2)\n",
            "Requirement already satisfied: pandas in /usr/local/lib/python3.7/dist-packages (from d2l==0.16.2) (1.1.5)\n",
            "Requirement already satisfied: requests in /usr/local/lib/python3.7/dist-packages (from d2l==0.16.2) (2.23.0)\n",
            "Requirement already satisfied: jupyter in /usr/local/lib/python3.7/dist-packages (from d2l==0.16.2) (1.0.0)\n",
            "Requirement already satisfied: numpy in /usr/local/lib/python3.7/dist-packages (from d2l==0.16.2) (1.19.5)\n",
            "Requirement already satisfied: kiwisolver>=1.0.1 in /usr/local/lib/python3.7/dist-packages (from matplotlib->d2l==0.16.2) (1.3.1)\n",
            "Requirement already satisfied: python-dateutil>=2.1 in /usr/local/lib/python3.7/dist-packages (from matplotlib->d2l==0.16.2) (2.8.1)\n",
            "Requirement already satisfied: pyparsing!=2.0.4,!=2.1.2,!=2.1.6,>=2.0.1 in /usr/local/lib/python3.7/dist-packages (from matplotlib->d2l==0.16.2) (2.4.7)\n",
            "Requirement already satisfied: cycler>=0.10 in /usr/local/lib/python3.7/dist-packages (from matplotlib->d2l==0.16.2) (0.10.0)\n",
            "Requirement already satisfied: pytz>=2017.2 in /usr/local/lib/python3.7/dist-packages (from pandas->d2l==0.16.2) (2018.9)\n",
            "Requirement already satisfied: urllib3!=1.25.0,!=1.25.1,<1.26,>=1.21.1 in /usr/local/lib/python3.7/dist-packages (from requests->d2l==0.16.2) (1.24.3)\n",
            "Requirement already satisfied: certifi>=2017.4.17 in /usr/local/lib/python3.7/dist-packages (from requests->d2l==0.16.2) (2020.12.5)\n",
            "Requirement already satisfied: idna<3,>=2.5 in /usr/local/lib/python3.7/dist-packages (from requests->d2l==0.16.2) (2.10)\n",
            "Requirement already satisfied: chardet<4,>=3.0.2 in /usr/local/lib/python3.7/dist-packages (from requests->d2l==0.16.2) (3.0.4)\n",
            "Requirement already satisfied: ipykernel in /usr/local/lib/python3.7/dist-packages (from jupyter->d2l==0.16.2) (4.10.1)\n",
            "Requirement already satisfied: ipywidgets in /usr/local/lib/python3.7/dist-packages (from jupyter->d2l==0.16.2) (7.6.3)\n",
            "Requirement already satisfied: qtconsole in /usr/local/lib/python3.7/dist-packages (from jupyter->d2l==0.16.2) (5.0.3)\n",
            "Requirement already satisfied: nbconvert in /usr/local/lib/python3.7/dist-packages (from jupyter->d2l==0.16.2) (5.6.1)\n",
            "Requirement already satisfied: jupyter-console in /usr/local/lib/python3.7/dist-packages (from jupyter->d2l==0.16.2) (5.2.0)\n",
            "Requirement already satisfied: notebook in /usr/local/lib/python3.7/dist-packages (from jupyter->d2l==0.16.2) (5.3.1)\n",
            "Requirement already satisfied: six>=1.5 in /usr/local/lib/python3.7/dist-packages (from python-dateutil>=2.1->matplotlib->d2l==0.16.2) (1.15.0)\n",
            "Requirement already satisfied: tornado>=4.0 in /usr/local/lib/python3.7/dist-packages (from ipykernel->jupyter->d2l==0.16.2) (5.1.1)\n",
            "Requirement already satisfied: jupyter-client in /usr/local/lib/python3.7/dist-packages (from ipykernel->jupyter->d2l==0.16.2) (5.3.5)\n",
            "Requirement already satisfied: traitlets>=4.1.0 in /usr/local/lib/python3.7/dist-packages (from ipykernel->jupyter->d2l==0.16.2) (5.0.5)\n",
            "Requirement already satisfied: ipython>=4.0.0 in /usr/local/lib/python3.7/dist-packages (from ipykernel->jupyter->d2l==0.16.2) (5.5.0)\n",
            "Requirement already satisfied: nbformat>=4.2.0 in /usr/local/lib/python3.7/dist-packages (from ipywidgets->jupyter->d2l==0.16.2) (5.1.2)\n",
            "Requirement already satisfied: widgetsnbextension~=3.5.0 in /usr/local/lib/python3.7/dist-packages (from ipywidgets->jupyter->d2l==0.16.2) (3.5.1)\n",
            "Requirement already satisfied: jupyterlab-widgets>=1.0.0; python_version >= \"3.6\" in /usr/local/lib/python3.7/dist-packages (from ipywidgets->jupyter->d2l==0.16.2) (1.0.0)\n",
            "Requirement already satisfied: ipython-genutils in /usr/local/lib/python3.7/dist-packages (from qtconsole->jupyter->d2l==0.16.2) (0.2.0)\n",
            "Requirement already satisfied: pyzmq>=17.1 in /usr/local/lib/python3.7/dist-packages (from qtconsole->jupyter->d2l==0.16.2) (22.0.3)\n",
            "Requirement already satisfied: jupyter-core in /usr/local/lib/python3.7/dist-packages (from qtconsole->jupyter->d2l==0.16.2) (4.7.1)\n",
            "Requirement already satisfied: qtpy in /usr/local/lib/python3.7/dist-packages (from qtconsole->jupyter->d2l==0.16.2) (1.9.0)\n",
            "Requirement already satisfied: pygments in /usr/local/lib/python3.7/dist-packages (from qtconsole->jupyter->d2l==0.16.2) (2.6.1)\n",
            "Requirement already satisfied: defusedxml in /usr/local/lib/python3.7/dist-packages (from nbconvert->jupyter->d2l==0.16.2) (0.7.1)\n",
            "Requirement already satisfied: testpath in /usr/local/lib/python3.7/dist-packages (from nbconvert->jupyter->d2l==0.16.2) (0.4.4)\n",
            "Requirement already satisfied: pandocfilters>=1.4.1 in /usr/local/lib/python3.7/dist-packages (from nbconvert->jupyter->d2l==0.16.2) (1.4.3)\n",
            "Requirement already satisfied: entrypoints>=0.2.2 in /usr/local/lib/python3.7/dist-packages (from nbconvert->jupyter->d2l==0.16.2) (0.3)\n",
            "Requirement already satisfied: bleach in /usr/local/lib/python3.7/dist-packages (from nbconvert->jupyter->d2l==0.16.2) (3.3.0)\n",
            "Requirement already satisfied: jinja2>=2.4 in /usr/local/lib/python3.7/dist-packages (from nbconvert->jupyter->d2l==0.16.2) (2.11.3)\n",
            "Requirement already satisfied: mistune<2,>=0.8.1 in /usr/local/lib/python3.7/dist-packages (from nbconvert->jupyter->d2l==0.16.2) (0.8.4)\n",
            "Requirement already satisfied: prompt-toolkit<2.0.0,>=1.0.0 in /usr/local/lib/python3.7/dist-packages (from jupyter-console->jupyter->d2l==0.16.2) (1.0.18)\n",
            "Requirement already satisfied: terminado>=0.8.1 in /usr/local/lib/python3.7/dist-packages (from notebook->jupyter->d2l==0.16.2) (0.9.3)\n",
            "Requirement already satisfied: Send2Trash in /usr/local/lib/python3.7/dist-packages (from notebook->jupyter->d2l==0.16.2) (1.5.0)\n",
            "Requirement already satisfied: setuptools>=18.5 in /usr/local/lib/python3.7/dist-packages (from ipython>=4.0.0->ipykernel->jupyter->d2l==0.16.2) (54.2.0)\n",
            "Requirement already satisfied: pickleshare in /usr/local/lib/python3.7/dist-packages (from ipython>=4.0.0->ipykernel->jupyter->d2l==0.16.2) (0.7.5)\n",
            "Requirement already satisfied: simplegeneric>0.8 in /usr/local/lib/python3.7/dist-packages (from ipython>=4.0.0->ipykernel->jupyter->d2l==0.16.2) (0.8.1)\n",
            "Requirement already satisfied: pexpect; sys_platform != \"win32\" in /usr/local/lib/python3.7/dist-packages (from ipython>=4.0.0->ipykernel->jupyter->d2l==0.16.2) (4.8.0)\n",
            "Requirement already satisfied: decorator in /usr/local/lib/python3.7/dist-packages (from ipython>=4.0.0->ipykernel->jupyter->d2l==0.16.2) (4.4.2)\n",
            "Requirement already satisfied: jsonschema!=2.5.0,>=2.4 in /usr/local/lib/python3.7/dist-packages (from nbformat>=4.2.0->ipywidgets->jupyter->d2l==0.16.2) (2.6.0)\n",
            "Requirement already satisfied: webencodings in /usr/local/lib/python3.7/dist-packages (from bleach->nbconvert->jupyter->d2l==0.16.2) (0.5.1)\n",
            "Requirement already satisfied: packaging in /usr/local/lib/python3.7/dist-packages (from bleach->nbconvert->jupyter->d2l==0.16.2) (20.9)\n",
            "Requirement already satisfied: MarkupSafe>=0.23 in /usr/local/lib/python3.7/dist-packages (from jinja2>=2.4->nbconvert->jupyter->d2l==0.16.2) (1.1.1)\n",
            "Requirement already satisfied: wcwidth in /usr/local/lib/python3.7/dist-packages (from prompt-toolkit<2.0.0,>=1.0.0->jupyter-console->jupyter->d2l==0.16.2) (0.2.5)\n",
            "Requirement already satisfied: ptyprocess; os_name != \"nt\" in /usr/local/lib/python3.7/dist-packages (from terminado>=0.8.1->notebook->jupyter->d2l==0.16.2) (0.7.0)\n"
          ],
          "name": "stdout"
        }
      ]
    },
    {
      "cell_type": "code",
      "metadata": {
        "id": "3jruGoCQbv-j"
      },
      "source": [
        "%matplotlib inline \n",
        "import random\n",
        "import torch\n",
        "from d2l import torch as d2l"
      ],
      "execution_count": 364,
      "outputs": []
    },
    {
      "cell_type": "code",
      "metadata": {
        "id": "eXiwXQD8bwZw"
      },
      "source": [
        "def synthetic_data(w,b,num_examples):\n",
        "    X = torch.normal(0,1,(num_examples,len(w)))\n",
        "    print(w.shape)\n",
        "    print(X.shape)\n",
        "    y = torch.matmul(X,w) + b\n",
        "    print(len(y))\n",
        "    y += torch.normal(0,0.01,y.shape)\n",
        "    print('\\n')\n",
        "    print(len(y))\n",
        "    return X,y.reshape((-1,1))\n"
      ],
      "execution_count": 365,
      "outputs": []
    },
    {
      "cell_type": "code",
      "metadata": {
        "colab": {
          "base_uri": "https://localhost:8080/"
        },
        "id": "nHT5HfaGbwcb",
        "outputId": "a71ac166-e21f-4b9f-ffd4-6bb4b1c07b92"
      },
      "source": [
        "true_w = torch.tensor([2,-3.4])\n",
        "true_b = 4.2\n",
        "features,labels = synthetic_data(true_w,true_b,1000)"
      ],
      "execution_count": 366,
      "outputs": [
        {
          "output_type": "stream",
          "text": [
            "torch.Size([2])\n",
            "torch.Size([1000, 2])\n",
            "1000\n",
            "\n",
            "\n",
            "1000\n"
          ],
          "name": "stdout"
        }
      ]
    },
    {
      "cell_type": "code",
      "metadata": {
        "colab": {
          "base_uri": "https://localhost:8080/"
        },
        "id": "Iq5Qf1TNbwet",
        "outputId": "5967347c-16e3-4cf5-a972-cd7902d066c4"
      },
      "source": [
        "print(features.shape)\n",
        "print(labels.shape)\n",
        "print(len(features))"
      ],
      "execution_count": 367,
      "outputs": [
        {
          "output_type": "stream",
          "text": [
            "torch.Size([1000, 2])\n",
            "torch.Size([1000, 1])\n",
            "1000\n"
          ],
          "name": "stdout"
        }
      ]
    },
    {
      "cell_type": "code",
      "metadata": {
        "colab": {
          "base_uri": "https://localhost:8080/"
        },
        "id": "GPaVAuzobwhe",
        "outputId": "c082402c-653a-4d9d-911d-b7d82d6feb12"
      },
      "source": [
        "print('features:',features[0],'\\nlabel:',labels[0])"
      ],
      "execution_count": 368,
      "outputs": [
        {
          "output_type": "stream",
          "text": [
            "features: tensor([0.5418, 0.8111]) \n",
            "label: tensor([2.5197])\n"
          ],
          "name": "stdout"
        }
      ]
    },
    {
      "cell_type": "code",
      "metadata": {
        "colab": {
          "base_uri": "https://localhost:8080/"
        },
        "id": "8tcg42iMlWUS",
        "outputId": "95a3517d-17b6-45e6-e3a5-53afd7a4929c"
      },
      "source": [
        "print(features[:,(1)])"
      ],
      "execution_count": 369,
      "outputs": [
        {
          "output_type": "stream",
          "text": [
            "tensor([ 8.1115e-01, -3.0234e-01,  1.0786e-01, -4.3357e-01,  4.8784e-01,\n",
            "        -3.5050e-01, -3.0368e-02,  9.0159e-01,  1.3380e+00,  3.9203e-02,\n",
            "         1.3829e+00,  3.1461e-01,  8.2112e-02,  1.0023e+00, -1.2854e+00,\n",
            "         6.3037e-01, -5.3785e-01, -1.2015e+00, -1.3401e+00,  4.0594e-01,\n",
            "         1.8787e+00, -2.9226e+00,  7.6715e-01,  9.3067e-01,  2.1871e+00,\n",
            "        -2.3192e+00,  1.4671e-01,  6.5066e-01, -2.6628e-01, -5.1058e-01,\n",
            "         5.1104e-01, -9.5230e-03, -3.2770e-01, -1.6547e+00, -2.4428e+00,\n",
            "         1.8382e-01,  1.7515e-01,  9.6158e-01,  3.5698e-01,  1.7644e-01,\n",
            "         1.7028e-01, -6.9785e-01, -4.2381e-01,  2.8966e-01, -1.5717e+00,\n",
            "         1.0033e+00,  1.4601e+00,  3.3331e-01, -6.2997e-01,  1.3988e-01,\n",
            "         1.1876e+00, -6.0337e-02, -5.9455e-02, -4.0477e-01,  4.8002e-02,\n",
            "        -8.5845e-01, -3.8774e-01, -3.0272e-01,  1.4631e-01, -1.0043e-01,\n",
            "         5.5284e-01, -4.3527e-01,  1.9432e+00, -9.5844e-01, -7.6128e-01,\n",
            "         1.9129e-01, -1.1222e+00, -7.5221e-01, -4.9817e-01,  2.1481e-01,\n",
            "        -1.3069e+00, -1.4932e+00,  1.3754e+00, -2.2775e-01,  5.5150e-01,\n",
            "        -6.7425e-01, -1.5283e+00,  1.5559e+00, -3.1068e-02, -8.6214e-02,\n",
            "         7.7011e-01, -4.8437e-01, -1.5308e+00,  1.7608e+00,  8.6809e-01,\n",
            "         2.2502e+00, -4.6162e-01,  7.3381e-01, -9.5157e-01, -7.2869e-01,\n",
            "        -4.1385e-01,  7.1812e-02, -2.8832e-01, -1.9426e-01,  5.9942e-01,\n",
            "         2.2196e+00,  1.3622e-01,  1.3870e+00,  2.3806e-01,  7.4090e-01,\n",
            "        -2.1566e-01, -6.2004e-01, -1.4344e+00, -7.0245e-03,  1.1622e+00,\n",
            "        -8.3123e-01,  4.3518e-01,  2.6684e-01, -1.5541e+00, -7.3059e-01,\n",
            "        -3.3868e-01,  1.0451e+00,  6.6678e-01,  2.1118e-01, -1.2133e+00,\n",
            "        -8.3707e-01, -4.2827e-01, -5.3155e-01, -4.9387e-01,  1.6905e+00,\n",
            "        -1.5254e+00,  1.8088e+00,  2.1923e-01,  4.7919e-01,  5.6180e-01,\n",
            "         7.5377e-02, -4.0689e-01, -5.9564e-01, -1.1752e+00, -4.4720e-01,\n",
            "         3.7293e-01,  1.8326e+00, -8.5163e-01,  1.1577e+00,  8.0645e-01,\n",
            "        -7.1553e-01, -9.1517e-02,  2.0450e+00, -5.5932e-02,  3.3299e-01,\n",
            "        -1.4884e+00,  1.2882e+00, -7.9575e-01, -4.7209e-01, -1.1392e-02,\n",
            "         9.5173e-02, -3.7886e-01,  1.0566e-01,  5.9077e-01, -1.0763e+00,\n",
            "         8.0648e-01, -8.8572e-01, -1.0064e+00, -4.3220e-01, -1.3982e+00,\n",
            "        -1.9708e-01, -1.1665e+00,  1.6260e-01,  8.7366e-01, -4.8591e-02,\n",
            "        -7.4404e-02,  3.4767e-01, -1.0482e-01, -1.2080e+00, -1.6540e+00,\n",
            "         4.1021e-01,  1.8478e-01, -5.1157e-01, -1.0431e+00,  1.0177e-01,\n",
            "         5.6258e-01, -1.0702e+00, -3.0623e-01,  8.8115e-01, -5.5981e-01,\n",
            "        -5.5520e-01, -1.7699e+00,  8.2856e-01,  2.3142e-01, -3.2491e-01,\n",
            "        -1.8330e+00, -1.9187e+00, -8.0274e-01, -2.5694e+00, -1.0641e+00,\n",
            "        -1.9087e+00,  1.1018e+00, -9.5114e-01, -8.8565e-01, -1.1865e+00,\n",
            "         1.0002e+00, -1.1704e+00,  1.2053e+00, -1.4569e+00,  1.6857e+00,\n",
            "         2.9056e-01,  5.9433e-01, -1.2997e+00, -1.6258e+00,  1.0813e+00,\n",
            "        -4.6114e-01,  4.8931e-01, -8.6477e-01, -1.1064e+00,  2.0453e-01,\n",
            "         1.4153e+00,  3.8897e-01, -2.7244e-03, -2.6475e-01, -6.5836e-01,\n",
            "         4.6061e-01, -1.3479e-02, -4.7163e-01, -4.3890e-01, -5.3139e-01,\n",
            "        -1.4757e+00, -1.4498e+00,  7.3471e-01, -4.5246e-01, -5.5000e-02,\n",
            "        -7.6598e-01,  2.5949e+00,  1.6095e-01,  4.4604e-01,  6.3968e-01,\n",
            "        -1.0904e-01,  6.6399e-01,  1.6271e+00,  1.0243e+00, -3.9432e-01,\n",
            "         8.3246e-01, -1.8719e+00, -1.3491e+00, -7.8200e-01, -1.0813e+00,\n",
            "        -3.2181e-01,  3.5537e-02, -2.9314e+00,  1.2539e-01, -2.8608e-01,\n",
            "         3.2341e-01, -6.7212e-01,  1.0245e+00, -1.0978e+00, -3.2582e-01,\n",
            "         1.7399e+00,  1.5613e-01,  3.4512e-01,  1.0052e-01,  3.9759e-01,\n",
            "         1.0358e+00,  6.9777e-01,  6.6554e-01, -1.6335e+00,  1.0354e+00,\n",
            "         4.3386e-02,  8.5284e-01, -1.6816e+00,  3.7221e-01, -1.1560e+00,\n",
            "        -8.5356e-01, -1.7843e-02, -1.2092e+00, -9.2433e-02,  1.0278e+00,\n",
            "         3.0410e-01, -6.9495e-01, -7.8550e-01,  1.3669e+00,  2.0818e+00,\n",
            "         8.7228e-01,  1.5443e-01,  1.8683e+00,  2.3229e-01,  1.4372e+00,\n",
            "        -2.4213e-01,  1.2375e+00, -1.1439e+00, -9.7811e-01, -4.4904e-01,\n",
            "         1.6012e+00, -1.4959e-01,  1.5930e+00,  7.4688e-01, -8.9186e-01,\n",
            "        -4.8752e-01,  1.2405e+00, -1.7751e-02, -7.1266e-02, -3.2648e-01,\n",
            "        -3.5952e-01,  1.2573e+00, -9.3350e-01, -8.6152e-02, -6.7545e-01,\n",
            "         7.8423e-01,  1.1267e+00,  2.4069e+00,  2.3837e-01, -1.8118e-01,\n",
            "         4.9285e-01, -1.9390e-01, -1.5000e-01, -7.9177e-01,  1.2008e+00,\n",
            "         1.2374e-01, -2.2011e-01,  1.8132e+00, -7.1560e-01,  1.0581e-01,\n",
            "         1.3557e+00, -1.8433e-01,  1.1136e+00,  8.5303e-01,  5.8203e-01,\n",
            "         1.8141e-01,  3.0203e-01, -3.3741e-02,  3.0956e-02, -1.1934e+00,\n",
            "        -5.8847e-01, -9.5325e-01, -1.6245e+00,  5.4437e-01,  2.1685e-01,\n",
            "         1.2495e+00, -2.2072e+00,  8.0603e-01,  2.7783e-01, -9.7876e-01,\n",
            "        -6.7444e-01, -6.7399e-01,  1.2632e+00,  1.0810e+00,  2.4735e-01,\n",
            "         1.8641e+00,  6.7039e-01, -7.2763e-01,  1.2936e+00,  1.3800e+00,\n",
            "        -7.1960e-01, -6.6324e-01, -4.3749e-01, -6.2875e-02,  4.5906e-01,\n",
            "        -4.8343e-01, -1.0028e+00,  2.2444e+00, -8.1468e-01, -9.1822e-01,\n",
            "         3.8420e-01,  4.4846e-01, -2.9528e-01, -2.2784e+00, -3.5762e-01,\n",
            "         5.2860e-01, -5.1212e-01,  5.5432e-01,  5.8743e-01,  1.1227e+00,\n",
            "        -2.7232e+00,  1.8438e-01, -2.1615e+00,  1.7276e+00,  2.0683e+00,\n",
            "         1.6834e-02, -2.1666e+00,  6.2652e-01, -4.3973e-01,  1.4750e+00,\n",
            "        -7.6333e-01,  1.0603e+00,  1.5781e-01, -7.4703e-01,  1.2697e+00,\n",
            "        -1.9801e+00,  3.5816e-01,  1.5405e-01, -1.0553e+00, -2.1808e-01,\n",
            "         1.1505e+00,  1.9465e-01, -1.2067e+00,  1.3494e+00,  1.9252e-01,\n",
            "        -8.6119e-01,  5.0835e-01, -9.8841e-01,  6.9540e-01, -1.1712e+00,\n",
            "         4.5859e-02,  2.5334e-01,  2.2684e-01,  9.8713e-01, -1.2345e+00,\n",
            "        -1.2710e+00, -3.2661e-01, -9.2295e-01, -5.6721e-01,  5.1238e-02,\n",
            "         1.4149e+00, -2.9175e-01, -1.3461e+00,  7.4388e-01,  1.8090e+00,\n",
            "         4.9786e-02, -1.0171e+00, -2.6116e+00,  5.8012e-01, -9.2636e-02,\n",
            "         1.0547e+00,  2.6779e-01,  2.1944e-01, -2.1436e+00, -2.6856e-01,\n",
            "         1.4733e+00, -1.5707e+00,  8.5245e-01,  5.5246e-01, -1.2390e+00,\n",
            "        -3.5050e-01, -3.2283e-02, -4.9554e-01, -7.0230e-01, -1.2748e+00,\n",
            "         3.4277e-02, -7.0069e-01, -8.1045e-01,  2.8173e-01,  2.3752e-01,\n",
            "        -2.2660e-02, -7.0471e-01, -2.0272e+00, -8.9187e-01,  1.8798e+00,\n",
            "        -2.0021e-01,  2.8874e-01,  2.5339e+00,  1.1217e+00, -6.2728e-01,\n",
            "         8.1432e-01, -8.1780e-01, -1.9667e+00,  1.5303e-01,  9.3120e-01,\n",
            "        -2.2942e-01, -1.1713e+00,  1.4276e+00,  6.8249e-01,  1.0154e-01,\n",
            "         6.1311e-01,  9.5240e-01,  9.8463e-02, -9.4970e-01,  1.6113e-01,\n",
            "        -1.4064e+00,  6.2884e-01,  1.0998e-01,  1.1603e+00,  1.7227e-01,\n",
            "        -1.7690e+00,  1.8275e-01, -3.4073e-01, -9.6916e-01, -2.1519e+00,\n",
            "        -7.0473e-01, -2.3212e-02, -7.8341e-01,  1.6653e-01, -2.4019e+00,\n",
            "        -5.1698e-02, -5.4285e-01,  2.0166e+00, -1.2842e+00, -3.1852e-01,\n",
            "         5.2556e-01,  1.5750e+00,  1.0065e+00,  2.1358e+00, -4.2368e-01,\n",
            "        -5.4953e-01,  3.0173e-01,  3.9709e-01, -5.2341e-02, -2.2441e-01,\n",
            "         2.3811e-01, -1.0790e+00,  3.3488e-01,  7.4165e-01, -9.3498e-01,\n",
            "        -1.7714e+00, -5.8067e-01, -5.1464e-01,  1.2781e+00, -4.0923e-01,\n",
            "         5.6110e-01,  4.2220e-01, -9.9084e-01, -1.0017e+00,  1.0941e+00,\n",
            "         1.0715e+00, -9.6171e-01, -8.6422e-01,  1.6069e+00, -1.1323e+00,\n",
            "         1.0442e+00, -2.0955e+00, -1.3861e+00,  2.0711e+00, -8.4589e-01,\n",
            "         1.3470e+00,  2.7468e-01,  9.9936e-03,  1.4753e+00, -1.7487e+00,\n",
            "        -1.5927e+00, -4.2311e-01, -2.1476e+00, -1.2157e+00,  1.0797e-02,\n",
            "         1.8982e-02, -1.0842e+00, -1.2476e-01,  1.6628e-01,  1.6724e+00,\n",
            "        -9.9684e-01,  1.2657e+00, -4.7274e-01, -1.1216e+00, -1.7333e+00,\n",
            "         6.7007e-01, -4.0035e-01, -7.9891e-01,  4.0428e-01,  5.2452e-01,\n",
            "         7.9752e-01, -2.4678e-02, -6.5083e-01, -1.7027e-01,  6.2631e-01,\n",
            "         1.4898e+00, -5.9334e-01, -1.7583e+00, -3.9692e-01, -1.5793e+00,\n",
            "         2.1304e-01,  3.7743e-01, -1.4329e-01, -1.9972e+00, -6.2758e-01,\n",
            "        -1.2974e+00,  1.0090e+00,  6.8373e-01,  1.1649e+00, -4.5501e-01,\n",
            "         6.6285e-01, -1.8227e+00, -5.4885e-01,  7.2055e-01, -2.2692e+00,\n",
            "         3.1019e-01,  6.6056e-01,  2.5037e-01,  8.6605e-01,  1.0696e+00,\n",
            "        -1.9738e-01, -2.3605e+00,  1.7126e+00, -1.8884e+00,  9.2047e-01,\n",
            "         1.1192e+00, -3.6471e-01,  2.6689e-01,  1.9708e+00, -4.1550e-01,\n",
            "         2.8221e-01,  1.1575e+00, -1.3768e+00,  6.5789e-01, -6.3033e-01,\n",
            "         4.7112e-01, -1.0257e+00,  6.2287e-01,  9.4487e-01, -1.1053e+00,\n",
            "        -8.7300e-02, -1.6781e-01, -1.9119e-01, -3.4059e-01, -4.9162e-01,\n",
            "        -7.8517e-02,  6.2088e-01,  6.8065e-01, -7.5665e-01, -1.3020e+00,\n",
            "         8.4556e-01,  5.3232e-01, -1.5846e-01, -5.7498e-01,  1.9391e+00,\n",
            "         7.2881e-02,  2.1557e+00, -6.1849e-02, -5.3478e-01, -1.1279e-01,\n",
            "        -1.0622e+00, -1.5911e+00, -7.7406e-01, -6.5555e-01, -1.1754e+00,\n",
            "         5.1941e-01, -1.0438e+00,  1.2484e+00, -5.8691e-01,  2.4467e-01,\n",
            "         1.2283e+00,  3.2554e-01,  8.7792e-01,  1.2987e+00, -4.2727e-01,\n",
            "         9.6438e-01, -1.4677e+00,  4.5852e-01,  1.1719e+00,  1.1986e+00,\n",
            "         4.9089e-01, -6.4592e-01, -2.8573e-02, -2.7088e-02, -3.0381e-01,\n",
            "        -9.3996e-01, -9.5193e-01, -1.2653e+00,  6.3747e-01,  1.7733e+00,\n",
            "         4.3694e-01, -8.4006e-01,  1.1163e-01,  5.7631e-01,  1.1217e+00,\n",
            "        -1.6115e+00, -1.2287e+00, -8.3585e-01, -7.0786e-01,  4.3818e-01,\n",
            "         6.8348e-01, -3.1574e-01, -4.7475e-01, -2.9138e-01, -1.3141e+00,\n",
            "        -4.3819e-01,  6.3073e-01,  7.6019e-01,  8.3268e-02,  2.2814e+00,\n",
            "         3.1567e-01, -1.0285e+00,  2.1054e-01, -6.8699e-01,  2.9835e-01,\n",
            "         5.9758e-01,  1.3136e+00,  1.6912e+00,  7.3807e-01, -1.9661e+00,\n",
            "         4.7448e-01,  1.2052e+00, -1.9973e+00,  3.2222e-01, -7.3731e-02,\n",
            "        -1.0720e+00,  1.8861e+00,  2.1133e-01,  1.2713e+00, -1.3801e+00,\n",
            "         1.5993e-01,  8.3000e-01, -3.6030e-01, -1.3013e+00,  2.4252e-01,\n",
            "        -1.9788e+00, -2.1407e+00,  3.0730e-01,  6.7866e-01, -3.2139e+00,\n",
            "         1.6276e+00, -1.1242e+00,  1.5062e-01,  1.1572e-01,  9.5591e-01,\n",
            "        -1.0338e+00,  4.1377e-01,  1.4152e+00,  9.2146e-01,  6.0158e-01,\n",
            "         9.9582e-01, -1.0178e+00, -1.9390e+00,  2.1852e+00, -3.8753e-01,\n",
            "         1.2673e+00, -4.0388e-01,  2.4223e-02, -2.4032e-01, -5.7138e-01,\n",
            "        -4.7215e-01, -1.1456e+00, -7.3925e-01, -1.2989e+00, -1.3644e+00,\n",
            "        -1.1349e-01, -2.8423e-01, -1.8419e-01,  2.4364e-01,  9.4586e-02,\n",
            "        -1.1951e+00,  1.9760e-01, -5.8431e-01,  1.4988e+00,  9.9889e-01,\n",
            "        -2.8152e+00, -1.2847e+00,  1.6320e-01, -4.1680e-01, -4.1955e-01,\n",
            "         1.8205e+00,  2.2514e+00, -7.3972e-02,  1.0264e+00,  2.1267e-01,\n",
            "         1.5996e+00,  5.6990e-01,  1.1455e+00,  8.0319e-01,  4.7208e-01,\n",
            "        -8.5737e-02,  1.3924e-01,  2.3471e-01,  3.1046e-01, -4.2997e-03,\n",
            "         2.7834e+00, -2.3013e-01, -1.2562e+00, -8.9767e-01,  2.2378e+00,\n",
            "         6.7351e-02, -8.2236e-01,  1.1775e+00,  6.5370e-01,  1.2335e+00,\n",
            "        -1.8690e+00, -9.6420e-01,  1.1808e+00,  2.0462e+00,  8.8133e-01,\n",
            "         9.2578e-01,  2.1730e+00,  1.2355e+00,  2.3021e+00,  6.9466e-01,\n",
            "         2.2347e+00,  6.9575e-01,  4.0992e-01,  1.1753e+00, -2.3868e-01,\n",
            "         7.5869e-01, -3.2779e-01, -3.5209e-02,  6.8046e-03,  3.5364e-01,\n",
            "        -1.7636e-01, -7.0028e-02,  1.3473e+00, -5.2802e-01,  5.1940e-01,\n",
            "         1.1898e+00,  4.0011e-01, -1.0354e+00, -2.9055e-01, -6.2940e-01,\n",
            "         1.4727e+00,  3.0758e-01, -5.6814e-01,  6.4187e-01, -1.3169e-03,\n",
            "        -1.0819e+00, -5.8816e-01,  4.3807e-01, -1.3795e+00,  6.0767e-01,\n",
            "         4.3752e-02, -8.8207e-01, -2.6977e-01, -2.2728e+00,  6.2924e-01,\n",
            "        -1.9383e+00, -1.7221e+00,  1.9309e-01, -1.0259e+00, -1.6465e-01,\n",
            "        -1.0797e+00,  3.6550e-02, -2.3887e+00,  1.1143e-01, -5.0075e-01,\n",
            "        -2.0584e+00, -2.3623e-01,  7.5053e-01, -4.2239e-01, -7.8399e-01,\n",
            "        -4.1710e-01, -6.0100e-01, -1.5824e+00,  1.0561e+00,  6.7557e-01,\n",
            "         1.1143e+00, -1.2398e-01,  5.0961e-01,  1.1423e-01, -3.3113e-01,\n",
            "        -6.8420e-01, -1.5248e+00, -9.2149e-02,  1.4781e+00,  8.0419e-01,\n",
            "        -1.4578e+00, -1.1739e+00,  9.9475e-01,  1.6074e-01, -1.2611e-01,\n",
            "         1.1306e+00, -4.0241e+00, -7.9859e-01, -3.4252e-01,  9.0432e-01,\n",
            "        -6.9655e-02,  1.5506e-01,  6.5982e-01, -9.1076e-01,  1.7989e-01,\n",
            "         8.5998e-01, -3.5998e-01, -1.4861e+00, -2.6249e-01,  5.5043e-01,\n",
            "        -1.2389e+00, -1.1224e+00, -3.6187e-01,  1.5037e+00, -2.7986e-01,\n",
            "         1.2429e+00, -2.6398e-01,  1.1043e+00,  1.1109e+00, -2.9434e-01,\n",
            "        -6.3971e-01,  1.2628e+00, -1.2039e+00,  6.3401e-01,  1.3764e+00,\n",
            "        -4.8746e-01,  9.0744e-01,  3.9420e-01, -1.0791e+00,  2.1971e+00,\n",
            "        -8.3211e-02,  8.2725e-01, -9.1078e-01,  5.7229e-01,  4.3670e-01,\n",
            "        -1.6808e+00, -1.0341e+00, -2.4972e+00,  8.7093e-03,  1.2605e+00,\n",
            "        -1.6595e+00,  9.5372e-01, -7.4735e-01, -4.6394e-01, -2.2358e+00,\n",
            "         4.1621e-01,  4.0358e-01,  1.6939e+00, -7.8151e-01,  5.8831e-01,\n",
            "         2.1582e-01, -8.6612e-01,  1.9909e+00, -4.4333e-01, -2.2871e+00,\n",
            "        -3.8292e-01, -7.5737e-01,  1.0880e+00,  1.4191e+00, -8.6845e-01,\n",
            "        -1.7106e+00, -6.0079e-01, -1.8758e+00,  3.4670e-01, -8.8354e-01,\n",
            "         4.2763e-01, -7.6426e-01, -1.1963e+00, -5.6657e-01, -1.4016e+00,\n",
            "        -1.0562e-01, -9.7608e-01,  6.8323e-01, -4.1533e-01,  2.0576e+00,\n",
            "         4.0510e-02, -2.8304e-01, -3.7229e-01, -5.7351e-01,  3.6488e-01,\n",
            "         4.2876e-01, -6.6090e-01,  7.2526e-01,  2.2916e+00, -1.3914e+00,\n",
            "         5.0735e-02, -6.4301e-01,  2.2692e+00, -4.6399e-01,  8.1509e-01,\n",
            "        -1.2957e+00, -3.2803e-01,  2.0192e-01, -1.5333e+00,  1.5078e+00,\n",
            "        -1.9452e-01, -1.3282e-02,  1.1781e-01, -6.4518e-01, -1.0488e+00,\n",
            "        -4.1307e-01, -1.4173e+00, -2.6389e-01,  2.3106e-01,  4.9922e-01,\n",
            "         8.4339e-01,  4.3600e-01, -4.3961e-02,  1.6568e+00, -1.9491e+00,\n",
            "        -4.4538e-01,  4.8804e-01, -1.5307e+00, -2.0579e-01, -1.2089e+00,\n",
            "         1.1501e-01, -2.8491e-01, -4.2124e-01, -5.8939e-01,  7.9385e-01,\n",
            "        -1.9543e-01,  4.4352e-01, -1.0908e+00,  1.1531e+00,  3.4556e-01,\n",
            "        -4.7311e-01, -4.7300e-01, -1.2864e+00,  5.5260e-01, -1.4187e+00,\n",
            "         1.1761e+00, -4.8830e-01,  1.2036e-01, -1.3996e+00, -1.3358e+00,\n",
            "         8.6349e-01,  1.1626e+00,  1.9413e+00, -1.8460e-01,  1.8482e+00,\n",
            "        -1.5272e+00,  1.0357e-01, -3.2108e-02, -6.2806e-01, -1.3641e+00,\n",
            "         9.3188e-02, -4.2305e-01, -8.3109e-02,  8.5542e-02, -4.4345e-01,\n",
            "        -2.2340e-01, -2.5339e+00, -3.2927e-01, -1.2845e-01, -5.3843e-01,\n",
            "        -1.0919e+00,  8.1480e-01,  6.7605e-02, -3.9397e-01,  1.4947e+00,\n",
            "         1.7256e-01,  9.1087e-01,  2.9288e-01, -5.1373e-01, -8.4903e-02])\n"
          ],
          "name": "stdout"
        }
      ]
    },
    {
      "cell_type": "code",
      "metadata": {
        "colab": {
          "base_uri": "https://localhost:8080/",
          "height": 244
        },
        "id": "YOq4OFtIbwjQ",
        "outputId": "4a884905-afc5-4bb9-b59c-a1f90146ee34"
      },
      "source": [
        "d2l.set_figsize()\n",
        "\n",
        "d2l.plt.scatter(features[:,(1)].detach().numpy(),\n",
        "                labels.detach().numpy(),1);"
      ],
      "execution_count": 370,
      "outputs": [
        {
          "output_type": "display_data",
          "data": {
            "text/plain": [
              "<Figure size 252x180 with 1 Axes>"
            ],
            "image/svg+xml": "<?xml version=\"1.0\" encoding=\"utf-8\" standalone=\"no\"?>\n<!DOCTYPE svg PUBLIC \"-//W3C//DTD SVG 1.1//EN\"\n  \"http://www.w3.org/Graphics/SVG/1.1/DTD/svg11.dtd\">\n<!-- Created with matplotlib (https://matplotlib.org/) -->\n<svg height=\"167.279324pt\" version=\"1.1\" viewBox=\"0 0 231.442187 167.279324\" width=\"231.442187pt\" xmlns=\"http://www.w3.org/2000/svg\" xmlns:xlink=\"http://www.w3.org/1999/xlink\">\n <defs>\n  <style type=\"text/css\">\n*{stroke-linecap:butt;stroke-linejoin:round;}\n  </style>\n </defs>\n <g id=\"figure_1\">\n  <g id=\"patch_1\">\n   <path d=\"M 0 167.279324 \nL 231.442187 167.279324 \nL 231.442187 0 \nL 0 0 \nz\n\" style=\"fill:none;\"/>\n  </g>\n  <g id=\"axes_1\">\n   <g id=\"patch_2\">\n    <path d=\"M 28.942188 143.401199 \nL 224.242188 143.401199 \nL 224.242188 7.501199 \nL 28.942188 7.501199 \nz\n\" style=\"fill:#ffffff;\"/>\n   </g>\n   <g id=\"PathCollection_1\">\n    <defs>\n     <path d=\"M 0 0.5 \nC 0.132602 0.5 0.25979 0.447317 0.353553 0.353553 \nC 0.447317 0.25979 0.5 0.132602 0.5 0 \nC 0.5 -0.132602 0.447317 -0.25979 0.353553 -0.353553 \nC 0.25979 -0.447317 0.132602 -0.5 0 -0.5 \nC -0.132602 -0.5 -0.25979 -0.447317 -0.353553 -0.353553 \nC -0.447317 -0.25979 -0.5 -0.132602 -0.5 0 \nC -0.5 0.132602 -0.447317 0.25979 -0.353553 0.353553 \nC -0.25979 0.447317 -0.132602 0.5 0 0.5 \nz\n\" id=\"m74c4ddc5a9\" style=\"stroke:#1f77b4;\"/>\n    </defs>\n    <g clip-path=\"url(#pc94ddec853)\">\n     <use style=\"fill:#1f77b4;stroke:#1f77b4;\" x=\"163.927747\" xlink:href=\"#m74c4ddc5a9\" y=\"92.551649\"/>\n     <use style=\"fill:#1f77b4;stroke:#1f77b4;\" x=\"134.8869\" xlink:href=\"#m74c4ddc5a9\" y=\"68.644233\"/>\n     <use style=\"fill:#1f77b4;stroke:#1f77b4;\" x=\"145.585461\" xlink:href=\"#m74c4ddc5a9\" y=\"90.243201\"/>\n     <use style=\"fill:#1f77b4;stroke:#1f77b4;\" x=\"131.464318\" xlink:href=\"#m74c4ddc5a9\" y=\"93.08465\"/>\n     <use style=\"fill:#1f77b4;stroke:#1f77b4;\" x=\"155.495764\" xlink:href=\"#m74c4ddc5a9\" y=\"93.525776\"/>\n     <use style=\"fill:#1f77b4;stroke:#1f77b4;\" x=\"133.631094\" xlink:href=\"#m74c4ddc5a9\" y=\"78.861623\"/>\n     <use style=\"fill:#1f77b4;stroke:#1f77b4;\" x=\"141.980315\" xlink:href=\"#m74c4ddc5a9\" y=\"66.297239\"/>\n     <use style=\"fill:#1f77b4;stroke:#1f77b4;\" x=\"166.286697\" xlink:href=\"#m74c4ddc5a9\" y=\"87.032189\"/>\n     <use style=\"fill:#1f77b4;stroke:#1f77b4;\" x=\"177.667989\" xlink:href=\"#m74c4ddc5a9\" y=\"97.53209\"/>\n     <use style=\"fill:#1f77b4;stroke:#1f77b4;\" x=\"143.794793\" xlink:href=\"#m74c4ddc5a9\" y=\"80.804713\"/>\n     <use style=\"fill:#1f77b4;stroke:#1f77b4;\" x=\"178.840746\" xlink:href=\"#m74c4ddc5a9\" y=\"107.004568\"/>\n     <use style=\"fill:#1f77b4;stroke:#1f77b4;\" x=\"150.977558\" xlink:href=\"#m74c4ddc5a9\" y=\"91.389584\"/>\n     <use style=\"fill:#1f77b4;stroke:#1f77b4;\" x=\"144.913899\" xlink:href=\"#m74c4ddc5a9\" y=\"72.928275\"/>\n     <use style=\"fill:#1f77b4;stroke:#1f77b4;\" x=\"168.912388\" xlink:href=\"#m74c4ddc5a9\" y=\"111.886915\"/>\n     <use style=\"fill:#1f77b4;stroke:#1f77b4;\" x=\"109.247518\" xlink:href=\"#m74c4ddc5a9\" y=\"56.142729\"/>\n     <use style=\"fill:#1f77b4;stroke:#1f77b4;\" x=\"159.212947\" xlink:href=\"#m74c4ddc5a9\" y=\"105.012287\"/>\n     <use style=\"fill:#1f77b4;stroke:#1f77b4;\" x=\"128.744588\" xlink:href=\"#m74c4ddc5a9\" y=\"96.156612\"/>\n     <use style=\"fill:#1f77b4;stroke:#1f77b4;\" x=\"111.436845\" xlink:href=\"#m74c4ddc5a9\" y=\"61.607158\"/>\n     <use style=\"fill:#1f77b4;stroke:#1f77b4;\" x=\"107.821301\" xlink:href=\"#m74c4ddc5a9\" y=\"70.266792\"/>\n     <use style=\"fill:#1f77b4;stroke:#1f77b4;\" x=\"153.359576\" xlink:href=\"#m74c4ddc5a9\" y=\"79.844593\"/>\n     <use style=\"fill:#1f77b4;stroke:#1f77b4;\" x=\"191.7694\" xlink:href=\"#m74c4ddc5a9\" y=\"105.605207\"/>\n     <use style=\"fill:#1f77b4;stroke:#1f77b4;\" x=\"66.549324\" xlink:href=\"#m74c4ddc5a9\" y=\"36.550007\"/>\n     <use style=\"fill:#1f77b4;stroke:#1f77b4;\" x=\"162.780304\" xlink:href=\"#m74c4ddc5a9\" y=\"94.176355\"/>\n     <use style=\"fill:#1f77b4;stroke:#1f77b4;\" x=\"167.04503\" xlink:href=\"#m74c4ddc5a9\" y=\"83.277521\"/>\n     <use style=\"fill:#1f77b4;stroke:#1f77b4;\" x=\"199.815193\" xlink:href=\"#m74c4ddc5a9\" y=\"117.275753\"/>\n     <use style=\"fill:#1f77b4;stroke:#1f77b4;\" x=\"82.284776\" xlink:href=\"#m74c4ddc5a9\" y=\"42.388094\"/>\n     <use style=\"fill:#1f77b4;stroke:#1f77b4;\" x=\"146.598745\" xlink:href=\"#m74c4ddc5a9\" y=\"92.791009\"/>\n     <use style=\"fill:#1f77b4;stroke:#1f77b4;\" x=\"159.74214\" xlink:href=\"#m74c4ddc5a9\" y=\"90.912348\"/>\n     <use style=\"fill:#1f77b4;stroke:#1f77b4;\" x=\"135.827533\" xlink:href=\"#m74c4ddc5a9\" y=\"82.14385\"/>\n     <use style=\"fill:#1f77b4;stroke:#1f77b4;\" x=\"129.455839\" xlink:href=\"#m74c4ddc5a9\" y=\"76.734545\"/>\n     <use style=\"fill:#1f77b4;stroke:#1f77b4;\" x=\"156.10085\" xlink:href=\"#m74c4ddc5a9\" y=\"89.47925\"/>\n     <use style=\"fill:#1f77b4;stroke:#1f77b4;\" x=\"142.523963\" xlink:href=\"#m74c4ddc5a9\" y=\"73.058498\"/>\n     <use style=\"fill:#1f77b4;stroke:#1f77b4;\" x=\"134.225598\" xlink:href=\"#m74c4ddc5a9\" y=\"81.138203\"/>\n     <use style=\"fill:#1f77b4;stroke:#1f77b4;\" x=\"99.615203\" xlink:href=\"#m74c4ddc5a9\" y=\"41.966033\"/>\n     <use style=\"fill:#1f77b4;stroke:#1f77b4;\" x=\"79.061285\" xlink:href=\"#m74c4ddc5a9\" y=\"28.886537\"/>\n     <use style=\"fill:#1f77b4;stroke:#1f77b4;\" x=\"147.566459\" xlink:href=\"#m74c4ddc5a9\" y=\"81.109194\"/>\n     <use style=\"fill:#1f77b4;stroke:#1f77b4;\" x=\"147.34053\" xlink:href=\"#m74c4ddc5a9\" y=\"82.752253\"/>\n     <use style=\"fill:#1f77b4;stroke:#1f77b4;\" x=\"167.851145\" xlink:href=\"#m74c4ddc5a9\" y=\"101.174627\"/>\n     <use style=\"fill:#1f77b4;stroke:#1f77b4;\" x=\"152.082608\" xlink:href=\"#m74c4ddc5a9\" y=\"110.649483\"/>\n     <use style=\"fill:#1f77b4;stroke:#1f77b4;\" x=\"147.374063\" xlink:href=\"#m74c4ddc5a9\" y=\"91.892961\"/>\n     <use style=\"fill:#1f77b4;stroke:#1f77b4;\" x=\"147.213343\" xlink:href=\"#m74c4ddc5a9\" y=\"75.888011\"/>\n     <use style=\"fill:#1f77b4;stroke:#1f77b4;\" x=\"124.571667\" xlink:href=\"#m74c4ddc5a9\" y=\"84.759639\"/>\n     <use style=\"fill:#1f77b4;stroke:#1f77b4;\" x=\"131.718936\" xlink:href=\"#m74c4ddc5a9\" y=\"68.092256\"/>\n     <use style=\"fill:#1f77b4;stroke:#1f77b4;\" x=\"150.327037\" xlink:href=\"#m74c4ddc5a9\" y=\"105.52483\"/>\n     <use style=\"fill:#1f77b4;stroke:#1f77b4;\" x=\"101.781881\" xlink:href=\"#m74c4ddc5a9\" y=\"50.040396\"/>\n     <use style=\"fill:#1f77b4;stroke:#1f77b4;\" x=\"168.939337\" xlink:href=\"#m74c4ddc5a9\" y=\"103.141302\"/>\n     <use style=\"fill:#1f77b4;stroke:#1f77b4;\" x=\"180.852952\" xlink:href=\"#m74c4ddc5a9\" y=\"108.225471\"/>\n     <use style=\"fill:#1f77b4;stroke:#1f77b4;\" x=\"151.465331\" xlink:href=\"#m74c4ddc5a9\" y=\"78.628978\"/>\n     <use style=\"fill:#1f77b4;stroke:#1f77b4;\" x=\"126.342083\" xlink:href=\"#m74c4ddc5a9\" y=\"86.97957\"/>\n     <use style=\"fill:#1f77b4;stroke:#1f77b4;\" x=\"146.420513\" xlink:href=\"#m74c4ddc5a9\" y=\"76.202974\"/>\n     <use style=\"fill:#1f77b4;stroke:#1f77b4;\" x=\"173.746162\" xlink:href=\"#m74c4ddc5a9\" y=\"104.618851\"/>\n     <use style=\"fill:#1f77b4;stroke:#1f77b4;\" x=\"141.198699\" xlink:href=\"#m74c4ddc5a9\" y=\"81.255394\"/>\n     <use style=\"fill:#1f77b4;stroke:#1f77b4;\" x=\"141.221701\" xlink:href=\"#m74c4ddc5a9\" y=\"74.883234\"/>\n     <use style=\"fill:#1f77b4;stroke:#1f77b4;\" x=\"132.215609\" xlink:href=\"#m74c4ddc5a9\" y=\"73.850568\"/>\n     <use style=\"fill:#1f77b4;stroke:#1f77b4;\" x=\"144.024274\" xlink:href=\"#m74c4ddc5a9\" y=\"94.885597\"/>\n     <use style=\"fill:#1f77b4;stroke:#1f77b4;\" x=\"120.383109\" xlink:href=\"#m74c4ddc5a9\" y=\"81.58669\"/>\n     <use style=\"fill:#1f77b4;stroke:#1f77b4;\" x=\"132.659747\" xlink:href=\"#m74c4ddc5a9\" y=\"78.152133\"/>\n     <use style=\"fill:#1f77b4;stroke:#1f77b4;\" x=\"134.877066\" xlink:href=\"#m74c4ddc5a9\" y=\"76.474535\"/>\n     <use style=\"fill:#1f77b4;stroke:#1f77b4;\" x=\"146.588163\" xlink:href=\"#m74c4ddc5a9\" y=\"89.915551\"/>\n     <use style=\"fill:#1f77b4;stroke:#1f77b4;\" x=\"140.153021\" xlink:href=\"#m74c4ddc5a9\" y=\"73.450008\"/>\n     <use style=\"fill:#1f77b4;stroke:#1f77b4;\" x=\"157.190926\" xlink:href=\"#m74c4ddc5a9\" y=\"97.298209\"/>\n     <use style=\"fill:#1f77b4;stroke:#1f77b4;\" x=\"131.420124\" xlink:href=\"#m74c4ddc5a9\" y=\"70.594224\"/>\n     <use style=\"fill:#1f77b4;stroke:#1f77b4;\" x=\"193.452353\" xlink:href=\"#m74c4ddc5a9\" y=\"115.003376\"/>\n     <use style=\"fill:#1f77b4;stroke:#1f77b4;\" x=\"117.775428\" xlink:href=\"#m74c4ddc5a9\" y=\"50.490843\"/>\n     <use style=\"fill:#1f77b4;stroke:#1f77b4;\" x=\"122.917413\" xlink:href=\"#m74c4ddc5a9\" y=\"52.549398\"/>\n     <use style=\"fill:#1f77b4;stroke:#1f77b4;\" x=\"147.761356\" xlink:href=\"#m74c4ddc5a9\" y=\"84.269331\"/>\n     <use style=\"fill:#1f77b4;stroke:#1f77b4;\" x=\"113.505212\" xlink:href=\"#m74c4ddc5a9\" y=\"64.360091\"/>\n     <use style=\"fill:#1f77b4;stroke:#1f77b4;\" x=\"123.153904\" xlink:href=\"#m74c4ddc5a9\" y=\"69.49294\"/>\n     <use style=\"fill:#1f77b4;stroke:#1f77b4;\" x=\"129.779687\" xlink:href=\"#m74c4ddc5a9\" y=\"82.320717\"/>\n     <use style=\"fill:#1f77b4;stroke:#1f77b4;\" x=\"148.374715\" xlink:href=\"#m74c4ddc5a9\" y=\"96.161036\"/>\n     <use style=\"fill:#1f77b4;stroke:#1f77b4;\" x=\"108.686218\" xlink:href=\"#m74c4ddc5a9\" y=\"65.950909\"/>\n     <use style=\"fill:#1f77b4;stroke:#1f77b4;\" x=\"103.82814\" xlink:href=\"#m74c4ddc5a9\" y=\"63.64684\"/>\n     <use style=\"fill:#1f77b4;stroke:#1f77b4;\" x=\"178.644143\" xlink:href=\"#m74c4ddc5a9\" y=\"96.055202\"/>\n     <use style=\"fill:#1f77b4;stroke:#1f77b4;\" x=\"136.832486\" xlink:href=\"#m74c4ddc5a9\" y=\"94.882397\"/>\n     <use style=\"fill:#1f77b4;stroke:#1f77b4;\" x=\"157.155905\" xlink:href=\"#m74c4ddc5a9\" y=\"100.131189\"/>\n     <use style=\"fill:#1f77b4;stroke:#1f77b4;\" x=\"125.187248\" xlink:href=\"#m74c4ddc5a9\" y=\"79.036132\"/>\n     <use style=\"fill:#1f77b4;stroke:#1f77b4;\" x=\"102.911758\" xlink:href=\"#m74c4ddc5a9\" y=\"79.849807\"/>\n     <use style=\"fill:#1f77b4;stroke:#1f77b4;\" x=\"183.350933\" xlink:href=\"#m74c4ddc5a9\" y=\"97.31482\"/>\n     <use style=\"fill:#1f77b4;stroke:#1f77b4;\" x=\"141.962059\" xlink:href=\"#m74c4ddc5a9\" y=\"97.277049\"/>\n     <use style=\"fill:#1f77b4;stroke:#1f77b4;\" x=\"140.523798\" xlink:href=\"#m74c4ddc5a9\" y=\"89.531412\"/>\n     <use style=\"fill:#1f77b4;stroke:#1f77b4;\" x=\"162.857632\" xlink:href=\"#m74c4ddc5a9\" y=\"93.927633\"/>\n     <use style=\"fill:#1f77b4;stroke:#1f77b4;\" x=\"130.139628\" xlink:href=\"#m74c4ddc5a9\" y=\"61.295056\"/>\n     <use style=\"fill:#1f77b4;stroke:#1f77b4;\" x=\"102.846457\" xlink:href=\"#m74c4ddc5a9\" y=\"52.131213\"/>\n     <use style=\"fill:#1f77b4;stroke:#1f77b4;\" x=\"188.695152\" xlink:href=\"#m74c4ddc5a9\" y=\"113.991822\"/>\n     <use style=\"fill:#1f77b4;stroke:#1f77b4;\" x=\"165.413021\" xlink:href=\"#m74c4ddc5a9\" y=\"107.087042\"/>\n     <use style=\"fill:#1f77b4;stroke:#1f77b4;\" x=\"201.460828\" xlink:href=\"#m74c4ddc5a9\" y=\"128.032958\"/>\n     <use style=\"fill:#1f77b4;stroke:#1f77b4;\" x=\"130.732901\" xlink:href=\"#m74c4ddc5a9\" y=\"75.016751\"/>\n     <use style=\"fill:#1f77b4;stroke:#1f77b4;\" x=\"161.910673\" xlink:href=\"#m74c4ddc5a9\" y=\"96.422941\"/>\n     <use style=\"fill:#1f77b4;stroke:#1f77b4;\" x=\"117.954545\" xlink:href=\"#m74c4ddc5a9\" y=\"69.525497\"/>\n     <use style=\"fill:#1f77b4;stroke:#1f77b4;\" x=\"123.767413\" xlink:href=\"#m74c4ddc5a9\" y=\"80.381751\"/>\n     <use style=\"fill:#1f77b4;stroke:#1f77b4;\" x=\"131.978822\" xlink:href=\"#m74c4ddc5a9\" y=\"78.678158\"/>\n     <use style=\"fill:#1f77b4;stroke:#1f77b4;\" x=\"144.645262\" xlink:href=\"#m74c4ddc5a9\" y=\"100.344614\"/>\n     <use style=\"fill:#1f77b4;stroke:#1f77b4;\" x=\"135.252752\" xlink:href=\"#m74c4ddc5a9\" y=\"75.360534\"/>\n     <use style=\"fill:#1f77b4;stroke:#1f77b4;\" x=\"137.705928\" xlink:href=\"#m74c4ddc5a9\" y=\"94.096519\"/>\n     <use style=\"fill:#1f77b4;stroke:#1f77b4;\" x=\"158.405734\" xlink:href=\"#m74c4ddc5a9\" y=\"97.263705\"/>\n     <use style=\"fill:#1f77b4;stroke:#1f77b4;\" x=\"200.6603\" xlink:href=\"#m74c4ddc5a9\" y=\"118.593958\"/>\n     <use style=\"fill:#1f77b4;stroke:#1f77b4;\" x=\"146.3252\" xlink:href=\"#m74c4ddc5a9\" y=\"74.934663\"/>\n     <use style=\"fill:#1f77b4;stroke:#1f77b4;\" x=\"178.945945\" xlink:href=\"#m74c4ddc5a9\" y=\"102.356652\"/>\n     <use style=\"fill:#1f77b4;stroke:#1f77b4;\" x=\"148.981224\" xlink:href=\"#m74c4ddc5a9\" y=\"82.627992\"/>\n     <use style=\"fill:#1f77b4;stroke:#1f77b4;\" x=\"162.095695\" xlink:href=\"#m74c4ddc5a9\" y=\"95.508477\"/>\n     <use style=\"fill:#1f77b4;stroke:#1f77b4;\" x=\"137.14771\" xlink:href=\"#m74c4ddc5a9\" y=\"79.782461\"/>\n     <use style=\"fill:#1f77b4;stroke:#1f77b4;\" x=\"126.601185\" xlink:href=\"#m74c4ddc5a9\" y=\"85.314659\"/>\n     <use style=\"fill:#1f77b4;stroke:#1f77b4;\" x=\"105.362814\" xlink:href=\"#m74c4ddc5a9\" y=\"45.352219\"/>\n     <use style=\"fill:#1f77b4;stroke:#1f77b4;\" x=\"142.589127\" xlink:href=\"#m74c4ddc5a9\" y=\"73.739194\"/>\n     <use style=\"fill:#1f77b4;stroke:#1f77b4;\" x=\"173.083644\" xlink:href=\"#m74c4ddc5a9\" y=\"115.096311\"/>\n     <use style=\"fill:#1f77b4;stroke:#1f77b4;\" x=\"121.093131\" xlink:href=\"#m74c4ddc5a9\" y=\"83.953779\"/>\n     <use style=\"fill:#1f77b4;stroke:#1f77b4;\" x=\"154.122166\" xlink:href=\"#m74c4ddc5a9\" y=\"92.203989\"/>\n     <use style=\"fill:#1f77b4;stroke:#1f77b4;\" x=\"149.731804\" xlink:href=\"#m74c4ddc5a9\" y=\"79.04497\"/>\n     <use style=\"fill:#1f77b4;stroke:#1f77b4;\" x=\"102.238926\" xlink:href=\"#m74c4ddc5a9\" y=\"55.863311\"/>\n     <use style=\"fill:#1f77b4;stroke:#1f77b4;\" x=\"123.717961\" xlink:href=\"#m74c4ddc5a9\" y=\"72.946375\"/>\n     <use style=\"fill:#1f77b4;stroke:#1f77b4;\" x=\"133.939206\" xlink:href=\"#m74c4ddc5a9\" y=\"74.760083\"/>\n     <use style=\"fill:#1f77b4;stroke:#1f77b4;\" x=\"170.030058\" xlink:href=\"#m74c4ddc5a9\" y=\"106.737512\"/>\n     <use style=\"fill:#1f77b4;stroke:#1f77b4;\" x=\"160.162636\" xlink:href=\"#m74c4ddc5a9\" y=\"85.323522\"/>\n     <use style=\"fill:#1f77b4;stroke:#1f77b4;\" x=\"148.28006\" xlink:href=\"#m74c4ddc5a9\" y=\"86.365283\"/>\n     <use style=\"fill:#1f77b4;stroke:#1f77b4;\" x=\"111.127123\" xlink:href=\"#m74c4ddc5a9\" y=\"65.511883\"/>\n     <use style=\"fill:#1f77b4;stroke:#1f77b4;\" x=\"120.940799\" xlink:href=\"#m74c4ddc5a9\" y=\"61.547289\"/>\n     <use style=\"fill:#1f77b4;stroke:#1f77b4;\" x=\"131.602587\" xlink:href=\"#m74c4ddc5a9\" y=\"62.791315\"/>\n     <use style=\"fill:#1f77b4;stroke:#1f77b4;\" x=\"128.909097\" xlink:href=\"#m74c4ddc5a9\" y=\"74.368668\"/>\n     <use style=\"fill:#1f77b4;stroke:#1f77b4;\" x=\"129.891794\" xlink:href=\"#m74c4ddc5a9\" y=\"88.04593\"/>\n     <use style=\"fill:#1f77b4;stroke:#1f77b4;\" x=\"186.861813\" xlink:href=\"#m74c4ddc5a9\" y=\"120.727635\"/>\n     <use style=\"fill:#1f77b4;stroke:#1f77b4;\" x=\"102.989451\" xlink:href=\"#m74c4ddc5a9\" y=\"59.71897\"/>\n     <use style=\"fill:#1f77b4;stroke:#1f77b4;\" x=\"189.94657\" xlink:href=\"#m74c4ddc5a9\" y=\"102.934617\"/>\n     <use style=\"fill:#1f77b4;stroke:#1f77b4;\" x=\"148.489945\" xlink:href=\"#m74c4ddc5a9\" y=\"88.175262\"/>\n     <use style=\"fill:#1f77b4;stroke:#1f77b4;\" x=\"155.270179\" xlink:href=\"#m74c4ddc5a9\" y=\"109.587528\"/>\n     <use style=\"fill:#1f77b4;stroke:#1f77b4;\" x=\"157.424645\" xlink:href=\"#m74c4ddc5a9\" y=\"83.383829\"/>\n     <use style=\"fill:#1f77b4;stroke:#1f77b4;\" x=\"144.738244\" xlink:href=\"#m74c4ddc5a9\" y=\"99.042401\"/>\n     <use style=\"fill:#1f77b4;stroke:#1f77b4;\" x=\"132.160202\" xlink:href=\"#m74c4ddc5a9\" y=\"65.492996\"/>\n     <use style=\"fill:#1f77b4;stroke:#1f77b4;\" x=\"127.237378\" xlink:href=\"#m74c4ddc5a9\" y=\"72.517195\"/>\n     <use style=\"fill:#1f77b4;stroke:#1f77b4;\" x=\"112.12132\" xlink:href=\"#m74c4ddc5a9\" y=\"48.364695\"/>\n     <use style=\"fill:#1f77b4;stroke:#1f77b4;\" x=\"131.10889\" xlink:href=\"#m74c4ddc5a9\" y=\"66.325964\"/>\n     <use style=\"fill:#1f77b4;stroke:#1f77b4;\" x=\"152.498672\" xlink:href=\"#m74c4ddc5a9\" y=\"90.018635\"/>\n     <use style=\"fill:#1f77b4;stroke:#1f77b4;\" x=\"190.567053\" xlink:href=\"#m74c4ddc5a9\" y=\"110.541242\"/>\n     <use style=\"fill:#1f77b4;stroke:#1f77b4;\" x=\"120.56095\" xlink:href=\"#m74c4ddc5a9\" y=\"52.969101\"/>\n     <use style=\"fill:#1f77b4;stroke:#1f77b4;\" x=\"172.966726\" xlink:href=\"#m74c4ddc5a9\" y=\"108.197484\"/>\n     <use style=\"fill:#1f77b4;stroke:#1f77b4;\" x=\"163.805419\" xlink:href=\"#m74c4ddc5a9\" y=\"104.571506\"/>\n     <use style=\"fill:#1f77b4;stroke:#1f77b4;\" x=\"124.110572\" xlink:href=\"#m74c4ddc5a9\" y=\"80.559312\"/>\n     <use style=\"fill:#1f77b4;stroke:#1f77b4;\" x=\"140.385473\" xlink:href=\"#m74c4ddc5a9\" y=\"94.088901\"/>\n     <use style=\"fill:#1f77b4;stroke:#1f77b4;\" x=\"196.107711\" xlink:href=\"#m74c4ddc5a9\" y=\"109.678363\"/>\n     <use style=\"fill:#1f77b4;stroke:#1f77b4;\" x=\"141.313567\" xlink:href=\"#m74c4ddc5a9\" y=\"83.974971\"/>\n     <use style=\"fill:#1f77b4;stroke:#1f77b4;\" x=\"151.457151\" xlink:href=\"#m74c4ddc5a9\" y=\"103.995526\"/>\n     <use style=\"fill:#1f77b4;stroke:#1f77b4;\" x=\"103.952357\" xlink:href=\"#m74c4ddc5a9\" y=\"61.139946\"/>\n     <use style=\"fill:#1f77b4;stroke:#1f77b4;\" x=\"176.370718\" xlink:href=\"#m74c4ddc5a9\" y=\"114.512464\"/>\n     <use style=\"fill:#1f77b4;stroke:#1f77b4;\" x=\"122.018549\" xlink:href=\"#m74c4ddc5a9\" y=\"63.911762\"/>\n     <use style=\"fill:#1f77b4;stroke:#1f77b4;\" x=\"130.459762\" xlink:href=\"#m74c4ddc5a9\" y=\"79.374974\"/>\n     <use style=\"fill:#1f77b4;stroke:#1f77b4;\" x=\"142.475219\" xlink:href=\"#m74c4ddc5a9\" y=\"86.945266\"/>\n     <use style=\"fill:#1f77b4;stroke:#1f77b4;\" x=\"145.254529\" xlink:href=\"#m74c4ddc5a9\" y=\"76.332488\"/>\n     <use style=\"fill:#1f77b4;stroke:#1f77b4;\" x=\"132.891185\" xlink:href=\"#m74c4ddc5a9\" y=\"92.818194\"/>\n     <use style=\"fill:#1f77b4;stroke:#1f77b4;\" x=\"145.52804\" xlink:href=\"#m74c4ddc5a9\" y=\"82.662792\"/>\n     <use style=\"fill:#1f77b4;stroke:#1f77b4;\" x=\"158.180244\" xlink:href=\"#m74c4ddc5a9\" y=\"81.818527\"/>\n     <use style=\"fill:#1f77b4;stroke:#1f77b4;\" x=\"114.701655\" xlink:href=\"#m74c4ddc5a9\" y=\"51.592759\"/>\n     <use style=\"fill:#1f77b4;stroke:#1f77b4;\" x=\"163.805983\" xlink:href=\"#m74c4ddc5a9\" y=\"76.297643\"/>\n     <use style=\"fill:#1f77b4;stroke:#1f77b4;\" x=\"119.672023\" xlink:href=\"#m74c4ddc5a9\" y=\"63.734134\"/>\n     <use style=\"fill:#1f77b4;stroke:#1f77b4;\" x=\"116.524604\" xlink:href=\"#m74c4ddc5a9\" y=\"85.941131\"/>\n     <use style=\"fill:#1f77b4;stroke:#1f77b4;\" x=\"131.500146\" xlink:href=\"#m74c4ddc5a9\" y=\"81.328333\"/>\n     <use style=\"fill:#1f77b4;stroke:#1f77b4;\" x=\"106.307019\" xlink:href=\"#m74c4ddc5a9\" y=\"66.680917\"/>\n     <use style=\"fill:#1f77b4;stroke:#1f77b4;\" x=\"137.632354\" xlink:href=\"#m74c4ddc5a9\" y=\"96.1931\"/>\n     <use style=\"fill:#1f77b4;stroke:#1f77b4;\" x=\"112.348212\" xlink:href=\"#m74c4ddc5a9\" y=\"77.665492\"/>\n     <use style=\"fill:#1f77b4;stroke:#1f77b4;\" x=\"147.013213\" xlink:href=\"#m74c4ddc5a9\" y=\"83.917295\"/>\n     <use style=\"fill:#1f77b4;stroke:#1f77b4;\" x=\"165.558104\" xlink:href=\"#m74c4ddc5a9\" y=\"106.26996\"/>\n     <use style=\"fill:#1f77b4;stroke:#1f77b4;\" x=\"141.505042\" xlink:href=\"#m74c4ddc5a9\" y=\"91.057916\"/>\n     <use style=\"fill:#1f77b4;stroke:#1f77b4;\" x=\"140.831809\" xlink:href=\"#m74c4ddc5a9\" y=\"79.790859\"/>\n     <use style=\"fill:#1f77b4;stroke:#1f77b4;\" x=\"151.839897\" xlink:href=\"#m74c4ddc5a9\" y=\"82.858979\"/>\n     <use style=\"fill:#1f77b4;stroke:#1f77b4;\" x=\"140.038648\" xlink:href=\"#m74c4ddc5a9\" y=\"82.322688\"/>\n     <use style=\"fill:#1f77b4;stroke:#1f77b4;\" x=\"111.266547\" xlink:href=\"#m74c4ddc5a9\" y=\"72.828182\"/>\n     <use style=\"fill:#1f77b4;stroke:#1f77b4;\" x=\"99.634368\" xlink:href=\"#m74c4ddc5a9\" y=\"57.18466\"/>\n     <use style=\"fill:#1f77b4;stroke:#1f77b4;\" x=\"153.470944\" xlink:href=\"#m74c4ddc5a9\" y=\"91.791294\"/>\n     <use style=\"fill:#1f77b4;stroke:#1f77b4;\" x=\"147.591679\" xlink:href=\"#m74c4ddc5a9\" y=\"95.634642\"/>\n     <use style=\"fill:#1f77b4;stroke:#1f77b4;\" x=\"129.430133\" xlink:href=\"#m74c4ddc5a9\" y=\"79.107277\"/>\n     <use style=\"fill:#1f77b4;stroke:#1f77b4;\" x=\"115.566756\" xlink:href=\"#m74c4ddc5a9\" y=\"74.975438\"/>\n     <use style=\"fill:#1f77b4;stroke:#1f77b4;\" x=\"145.426615\" xlink:href=\"#m74c4ddc5a9\" y=\"92.834303\"/>\n     <use style=\"fill:#1f77b4;stroke:#1f77b4;\" x=\"157.444901\" xlink:href=\"#m74c4ddc5a9\" y=\"88.293562\"/>\n     <use style=\"fill:#1f77b4;stroke:#1f77b4;\" x=\"114.860924\" xlink:href=\"#m74c4ddc5a9\" y=\"79.474715\"/>\n     <use style=\"fill:#1f77b4;stroke:#1f77b4;\" x=\"134.785506\" xlink:href=\"#m74c4ddc5a9\" y=\"86.615617\"/>\n     <use style=\"fill:#1f77b4;stroke:#1f77b4;\" x=\"165.753665\" xlink:href=\"#m74c4ddc5a9\" y=\"102.604997\"/>\n     <use style=\"fill:#1f77b4;stroke:#1f77b4;\" x=\"128.17208\" xlink:href=\"#m74c4ddc5a9\" y=\"81.217168\"/>\n     <use style=\"fill:#1f77b4;stroke:#1f77b4;\" x=\"128.292304\" xlink:href=\"#m74c4ddc5a9\" y=\"79.373583\"/>\n     <use style=\"fill:#1f77b4;stroke:#1f77b4;\" x=\"96.612986\" xlink:href=\"#m74c4ddc5a9\" y=\"48.198061\"/>\n     <use style=\"fill:#1f77b4;stroke:#1f77b4;\" x=\"164.382072\" xlink:href=\"#m74c4ddc5a9\" y=\"104.409604\"/>\n     <use style=\"fill:#1f77b4;stroke:#1f77b4;\" x=\"148.808035\" xlink:href=\"#m74c4ddc5a9\" y=\"88.191748\"/>\n     <use style=\"fill:#1f77b4;stroke:#1f77b4;\" x=\"134.298417\" xlink:href=\"#m74c4ddc5a9\" y=\"78.961351\"/>\n     <use style=\"fill:#1f77b4;stroke:#1f77b4;\" x=\"94.96627\" xlink:href=\"#m74c4ddc5a9\" y=\"44.121528\"/>\n     <use style=\"fill:#1f77b4;stroke:#1f77b4;\" x=\"92.730611\" xlink:href=\"#m74c4ddc5a9\" y=\"59.70984\"/>\n     <use style=\"fill:#1f77b4;stroke:#1f77b4;\" x=\"121.836068\" xlink:href=\"#m74c4ddc5a9\" y=\"78.962521\"/>\n     <use style=\"fill:#1f77b4;stroke:#1f77b4;\" x=\"75.760186\" xlink:href=\"#m74c4ddc5a9\" y=\"45.371364\"/>\n     <use style=\"fill:#1f77b4;stroke:#1f77b4;\" x=\"115.01886\" xlink:href=\"#m74c4ddc5a9\" y=\"77.042302\"/>\n     <use style=\"fill:#1f77b4;stroke:#1f77b4;\" x=\"92.990705\" xlink:href=\"#m74c4ddc5a9\" y=\"37.336546\"/>\n     <use style=\"fill:#1f77b4;stroke:#1f77b4;\" x=\"171.507301\" xlink:href=\"#m74c4ddc5a9\" y=\"97.418722\"/>\n     <use style=\"fill:#1f77b4;stroke:#1f77b4;\" x=\"117.965744\" xlink:href=\"#m74c4ddc5a9\" y=\"68.538069\"/>\n     <use style=\"fill:#1f77b4;stroke:#1f77b4;\" x=\"119.673689\" xlink:href=\"#m74c4ddc5a9\" y=\"87.877499\"/>\n     <use style=\"fill:#1f77b4;stroke:#1f77b4;\" x=\"111.828179\" xlink:href=\"#m74c4ddc5a9\" y=\"62.716781\"/>\n     <use style=\"fill:#1f77b4;stroke:#1f77b4;\" x=\"168.859029\" xlink:href=\"#m74c4ddc5a9\" y=\"87.608182\"/>\n     <use style=\"fill:#1f77b4;stroke:#1f77b4;\" x=\"112.247586\" xlink:href=\"#m74c4ddc5a9\" y=\"76.697856\"/>\n     <use style=\"fill:#1f77b4;stroke:#1f77b4;\" x=\"174.208279\" xlink:href=\"#m74c4ddc5a9\" y=\"110.941998\"/>\n     <use style=\"fill:#1f77b4;stroke:#1f77b4;\" x=\"104.773924\" xlink:href=\"#m74c4ddc5a9\" y=\"74.233398\"/>\n     <use style=\"fill:#1f77b4;stroke:#1f77b4;\" x=\"186.738006\" xlink:href=\"#m74c4ddc5a9\" y=\"110.462575\"/>\n     <use style=\"fill:#1f77b4;stroke:#1f77b4;\" x=\"150.350367\" xlink:href=\"#m74c4ddc5a9\" y=\"90.842571\"/>\n     <use style=\"fill:#1f77b4;stroke:#1f77b4;\" x=\"158.273002\" xlink:href=\"#m74c4ddc5a9\" y=\"91.759992\"/>\n     <use style=\"fill:#1f77b4;stroke:#1f77b4;\" x=\"108.876006\" xlink:href=\"#m74c4ddc5a9\" y=\"49.865954\"/>\n     <use style=\"fill:#1f77b4;stroke:#1f77b4;\" x=\"100.370099\" xlink:href=\"#m74c4ddc5a9\" y=\"74.7065\"/>\n     <use style=\"fill:#1f77b4;stroke:#1f77b4;\" x=\"170.974363\" xlink:href=\"#m74c4ddc5a9\" y=\"109.159795\"/>\n     <use style=\"fill:#1f77b4;stroke:#1f77b4;\" x=\"130.74544\" xlink:href=\"#m74c4ddc5a9\" y=\"72.779966\"/>\n     <use style=\"fill:#1f77b4;stroke:#1f77b4;\" x=\"155.533897\" xlink:href=\"#m74c4ddc5a9\" y=\"82.423595\"/>\n     <use style=\"fill:#1f77b4;stroke:#1f77b4;\" x=\"120.218305\" xlink:href=\"#m74c4ddc5a9\" y=\"64.784265\"/>\n     <use style=\"fill:#1f77b4;stroke:#1f77b4;\" x=\"113.917673\" xlink:href=\"#m74c4ddc5a9\" y=\"59.680813\"/>\n     <use style=\"fill:#1f77b4;stroke:#1f77b4;\" x=\"148.106698\" xlink:href=\"#m74c4ddc5a9\" y=\"84.859914\"/>\n     <use style=\"fill:#1f77b4;stroke:#1f77b4;\" x=\"179.684795\" xlink:href=\"#m74c4ddc5a9\" y=\"108.240368\"/>\n     <use style=\"fill:#1f77b4;stroke:#1f77b4;\" x=\"152.917001\" xlink:href=\"#m74c4ddc5a9\" y=\"97.907625\"/>\n     <use style=\"fill:#1f77b4;stroke:#1f77b4;\" x=\"142.701279\" xlink:href=\"#m74c4ddc5a9\" y=\"94.417868\"/>\n     <use style=\"fill:#1f77b4;stroke:#1f77b4;\" x=\"135.867313\" xlink:href=\"#m74c4ddc5a9\" y=\"79.715435\"/>\n     <use style=\"fill:#1f77b4;stroke:#1f77b4;\" x=\"125.601801\" xlink:href=\"#m74c4ddc5a9\" y=\"88.706752\"/>\n     <use style=\"fill:#1f77b4;stroke:#1f77b4;\" x=\"154.785402\" xlink:href=\"#m74c4ddc5a9\" y=\"77.818408\"/>\n     <use style=\"fill:#1f77b4;stroke:#1f77b4;\" x=\"142.420777\" xlink:href=\"#m74c4ddc5a9\" y=\"94.805638\"/>\n     <use style=\"fill:#1f77b4;stroke:#1f77b4;\" x=\"130.471737\" xlink:href=\"#m74c4ddc5a9\" y=\"76.700537\"/>\n     <use style=\"fill:#1f77b4;stroke:#1f77b4;\" x=\"131.325505\" xlink:href=\"#m74c4ddc5a9\" y=\"95.648519\"/>\n     <use style=\"fill:#1f77b4;stroke:#1f77b4;\" x=\"128.913119\" xlink:href=\"#m74c4ddc5a9\" y=\"74.310163\"/>\n     <use style=\"fill:#1f77b4;stroke:#1f77b4;\" x=\"104.285891\" xlink:href=\"#m74c4ddc5a9\" y=\"64.342281\"/>\n     <use style=\"fill:#1f77b4;stroke:#1f77b4;\" x=\"104.960753\" xlink:href=\"#m74c4ddc5a9\" y=\"75.373161\"/>\n     <use style=\"fill:#1f77b4;stroke:#1f77b4;\" x=\"161.934248\" xlink:href=\"#m74c4ddc5a9\" y=\"87.145537\"/>\n     <use style=\"fill:#1f77b4;stroke:#1f77b4;\" x=\"130.971658\" xlink:href=\"#m74c4ddc5a9\" y=\"57.719563\"/>\n     <use style=\"fill:#1f77b4;stroke:#1f77b4;\" x=\"141.337895\" xlink:href=\"#m74c4ddc5a9\" y=\"80.264146\"/>\n     <use style=\"fill:#1f77b4;stroke:#1f77b4;\" x=\"122.794932\" xlink:href=\"#m74c4ddc5a9\" y=\"64.122367\"/>\n     <use style=\"fill:#1f77b4;stroke:#1f77b4;\" x=\"210.449278\" xlink:href=\"#m74c4ddc5a9\" y=\"130.757862\"/>\n     <use style=\"fill:#1f77b4;stroke:#1f77b4;\" x=\"146.970009\" xlink:href=\"#m74c4ddc5a9\" y=\"85.027051\"/>\n     <use style=\"fill:#1f77b4;stroke:#1f77b4;\" x=\"154.405527\" xlink:href=\"#m74c4ddc5a9\" y=\"94.232765\"/>\n     <use style=\"fill:#1f77b4;stroke:#1f77b4;\" x=\"159.455872\" xlink:href=\"#m74c4ddc5a9\" y=\"92.750658\"/>\n     <use style=\"fill:#1f77b4;stroke:#1f77b4;\" x=\"139.928502\" xlink:href=\"#m74c4ddc5a9\" y=\"102.04881\"/>\n     <use style=\"fill:#1f77b4;stroke:#1f77b4;\" x=\"160.089811\" xlink:href=\"#m74c4ddc5a9\" y=\"100.402955\"/>\n     <use style=\"fill:#1f77b4;stroke:#1f77b4;\" x=\"185.209167\" xlink:href=\"#m74c4ddc5a9\" y=\"112.304999\"/>\n     <use style=\"fill:#1f77b4;stroke:#1f77b4;\" x=\"169.487787\" xlink:href=\"#m74c4ddc5a9\" y=\"88.043212\"/>\n     <use style=\"fill:#1f77b4;stroke:#1f77b4;\" x=\"132.488182\" xlink:href=\"#m74c4ddc5a9\" y=\"80.941085\"/>\n     <use style=\"fill:#1f77b4;stroke:#1f77b4;\" x=\"164.483559\" xlink:href=\"#m74c4ddc5a9\" y=\"100.815206\"/>\n     <use style=\"fill:#1f77b4;stroke:#1f77b4;\" x=\"93.950975\" xlink:href=\"#m74c4ddc5a9\" y=\"58.909405\"/>\n     <use style=\"fill:#1f77b4;stroke:#1f77b4;\" x=\"107.587675\" xlink:href=\"#m74c4ddc5a9\" y=\"55.016818\"/>\n     <use style=\"fill:#1f77b4;stroke:#1f77b4;\" x=\"122.377137\" xlink:href=\"#m74c4ddc5a9\" y=\"71.953579\"/>\n     <use style=\"fill:#1f77b4;stroke:#1f77b4;\" x=\"114.570775\" xlink:href=\"#m74c4ddc5a9\" y=\"64.456404\"/>\n     <use style=\"fill:#1f77b4;stroke:#1f77b4;\" x=\"134.379329\" xlink:href=\"#m74c4ddc5a9\" y=\"77.762425\"/>\n     <use style=\"fill:#1f77b4;stroke:#1f77b4;\" x=\"143.699182\" xlink:href=\"#m74c4ddc5a9\" y=\"70.072017\"/>\n     <use style=\"fill:#1f77b4;stroke:#1f77b4;\" x=\"66.317473\" xlink:href=\"#m74c4ddc5a9\" y=\"46.850595\"/>\n     <use style=\"fill:#1f77b4;stroke:#1f77b4;\" x=\"146.042597\" xlink:href=\"#m74c4ddc5a9\" y=\"94.750766\"/>\n     <use style=\"fill:#1f77b4;stroke:#1f77b4;\" x=\"135.311146\" xlink:href=\"#m74c4ddc5a9\" y=\"76.839854\"/>\n     <use style=\"fill:#1f77b4;stroke:#1f77b4;\" x=\"151.207107\" xlink:href=\"#m74c4ddc5a9\" y=\"85.91855\"/>\n     <use style=\"fill:#1f77b4;stroke:#1f77b4;\" x=\"125.242832\" xlink:href=\"#m74c4ddc5a9\" y=\"71.860231\"/>\n     <use style=\"fill:#1f77b4;stroke:#1f77b4;\" x=\"169.492363\" xlink:href=\"#m74c4ddc5a9\" y=\"103.017342\"/>\n     <use style=\"fill:#1f77b4;stroke:#1f77b4;\" x=\"114.14192\" xlink:href=\"#m74c4ddc5a9\" y=\"63.433667\"/>\n     <use style=\"fill:#1f77b4;stroke:#1f77b4;\" x=\"134.274602\" xlink:href=\"#m74c4ddc5a9\" y=\"92.580581\"/>\n     <use style=\"fill:#1f77b4;stroke:#1f77b4;\" x=\"188.15085\" xlink:href=\"#m74c4ddc5a9\" y=\"114.924788\"/>\n     <use style=\"fill:#1f77b4;stroke:#1f77b4;\" x=\"146.844234\" xlink:href=\"#m74c4ddc5a9\" y=\"88.235883\"/>\n     <use style=\"fill:#1f77b4;stroke:#1f77b4;\" x=\"151.773301\" xlink:href=\"#m74c4ddc5a9\" y=\"90.059126\"/>\n     <use style=\"fill:#1f77b4;stroke:#1f77b4;\" x=\"145.39404\" xlink:href=\"#m74c4ddc5a9\" y=\"82.019549\"/>\n     <use style=\"fill:#1f77b4;stroke:#1f77b4;\" x=\"153.141812\" xlink:href=\"#m74c4ddc5a9\" y=\"94.778179\"/>\n     <use style=\"fill:#1f77b4;stroke:#1f77b4;\" x=\"169.787497\" xlink:href=\"#m74c4ddc5a9\" y=\"110.567629\"/>\n     <use style=\"fill:#1f77b4;stroke:#1f77b4;\" x=\"160.970779\" xlink:href=\"#m74c4ddc5a9\" y=\"96.001421\"/>\n     <use style=\"fill:#1f77b4;stroke:#1f77b4;\" x=\"160.130258\" xlink:href=\"#m74c4ddc5a9\" y=\"95.638217\"/>\n     <use style=\"fill:#1f77b4;stroke:#1f77b4;\" x=\"100.169498\" xlink:href=\"#m74c4ddc5a9\" y=\"65.684857\"/>\n     <use style=\"fill:#1f77b4;stroke:#1f77b4;\" x=\"169.775278\" xlink:href=\"#m74c4ddc5a9\" y=\"92.118119\"/>\n     <use style=\"fill:#1f77b4;stroke:#1f77b4;\" x=\"143.903891\" xlink:href=\"#m74c4ddc5a9\" y=\"99.253016\"/>\n     <use style=\"fill:#1f77b4;stroke:#1f77b4;\" x=\"165.015238\" xlink:href=\"#m74c4ddc5a9\" y=\"99.612556\"/>\n     <use style=\"fill:#1f77b4;stroke:#1f77b4;\" x=\"98.913566\" xlink:href=\"#m74c4ddc5a9\" y=\"54.557806\"/>\n     <use style=\"fill:#1f77b4;stroke:#1f77b4;\" x=\"152.479993\" xlink:href=\"#m74c4ddc5a9\" y=\"94.896614\"/>\n     <use style=\"fill:#1f77b4;stroke:#1f77b4;\" x=\"112.622489\" xlink:href=\"#m74c4ddc5a9\" y=\"55.229764\"/>\n     <use style=\"fill:#1f77b4;stroke:#1f77b4;\" x=\"120.51079\" xlink:href=\"#m74c4ddc5a9\" y=\"72.493398\"/>\n     <use style=\"fill:#1f77b4;stroke:#1f77b4;\" x=\"142.306976\" xlink:href=\"#m74c4ddc5a9\" y=\"86.472216\"/>\n     <use style=\"fill:#1f77b4;stroke:#1f77b4;\" x=\"111.23412\" xlink:href=\"#m74c4ddc5a9\" y=\"68.113793\"/>\n     <use style=\"fill:#1f77b4;stroke:#1f77b4;\" x=\"140.361596\" xlink:href=\"#m74c4ddc5a9\" y=\"81.513075\"/>\n     <use style=\"fill:#1f77b4;stroke:#1f77b4;\" x=\"169.578261\" xlink:href=\"#m74c4ddc5a9\" y=\"108.242698\"/>\n     <use style=\"fill:#1f77b4;stroke:#1f77b4;\" x=\"150.70344\" xlink:href=\"#m74c4ddc5a9\" y=\"82.043964\"/>\n     <use style=\"fill:#1f77b4;stroke:#1f77b4;\" x=\"124.647381\" xlink:href=\"#m74c4ddc5a9\" y=\"68.668266\"/>\n     <use style=\"fill:#1f77b4;stroke:#1f77b4;\" x=\"122.285764\" xlink:href=\"#m74c4ddc5a9\" y=\"71.2433\"/>\n     <use style=\"fill:#1f77b4;stroke:#1f77b4;\" x=\"178.422972\" xlink:href=\"#m74c4ddc5a9\" y=\"110.969049\"/>\n     <use style=\"fill:#1f77b4;stroke:#1f77b4;\" x=\"197.068208\" xlink:href=\"#m74c4ddc5a9\" y=\"122.251035\"/>\n     <use style=\"fill:#1f77b4;stroke:#1f77b4;\" x=\"165.522226\" xlink:href=\"#m74c4ddc5a9\" y=\"107.0406\"/>\n     <use style=\"fill:#1f77b4;stroke:#1f77b4;\" x=\"146.799905\" xlink:href=\"#m74c4ddc5a9\" y=\"92.56176\"/>\n     <use style=\"fill:#1f77b4;stroke:#1f77b4;\" x=\"191.498505\" xlink:href=\"#m74c4ddc5a9\" y=\"114.214901\"/>\n     <use style=\"fill:#1f77b4;stroke:#1f77b4;\" x=\"148.830665\" xlink:href=\"#m74c4ddc5a9\" y=\"91.894303\"/>\n     <use style=\"fill:#1f77b4;stroke:#1f77b4;\" x=\"180.255549\" xlink:href=\"#m74c4ddc5a9\" y=\"116.7133\"/>\n     <use style=\"fill:#1f77b4;stroke:#1f77b4;\" x=\"136.457299\" xlink:href=\"#m74c4ddc5a9\" y=\"90.962091\"/>\n     <use style=\"fill:#1f77b4;stroke:#1f77b4;\" x=\"175.046234\" xlink:href=\"#m74c4ddc5a9\" y=\"104.396044\"/>\n     <use style=\"fill:#1f77b4;stroke:#1f77b4;\" x=\"112.939607\" xlink:href=\"#m74c4ddc5a9\" y=\"76.239489\"/>\n     <use style=\"fill:#1f77b4;stroke:#1f77b4;\" x=\"117.262296\" xlink:href=\"#m74c4ddc5a9\" y=\"87.861261\"/>\n     <use style=\"fill:#1f77b4;stroke:#1f77b4;\" x=\"131.060937\" xlink:href=\"#m74c4ddc5a9\" y=\"84.696206\"/>\n     <use style=\"fill:#1f77b4;stroke:#1f77b4;\" x=\"184.533966\" xlink:href=\"#m74c4ddc5a9\" y=\"115.61763\"/>\n     <use style=\"fill:#1f77b4;stroke:#1f77b4;\" x=\"138.870899\" xlink:href=\"#m74c4ddc5a9\" y=\"79.741724\"/>\n     <use style=\"fill:#1f77b4;stroke:#1f77b4;\" x=\"184.320403\" xlink:href=\"#m74c4ddc5a9\" y=\"103.954357\"/>\n     <use style=\"fill:#1f77b4;stroke:#1f77b4;\" x=\"162.251667\" xlink:href=\"#m74c4ddc5a9\" y=\"101.003447\"/>\n     <use style=\"fill:#1f77b4;stroke:#1f77b4;\" x=\"119.511896\" xlink:href=\"#m74c4ddc5a9\" y=\"64.681052\"/>\n     <use style=\"fill:#1f77b4;stroke:#1f77b4;\" x=\"130.057443\" xlink:href=\"#m74c4ddc5a9\" y=\"72.12328\"/>\n     <use style=\"fill:#1f77b4;stroke:#1f77b4;\" x=\"175.125948\" xlink:href=\"#m74c4ddc5a9\" y=\"102.630893\"/>\n     <use style=\"fill:#1f77b4;stroke:#1f77b4;\" x=\"142.309367\" xlink:href=\"#m74c4ddc5a9\" y=\"81.416448\"/>\n     <use style=\"fill:#1f77b4;stroke:#1f77b4;\" x=\"140.913648\" xlink:href=\"#m74c4ddc5a9\" y=\"84.000999\"/>\n     <use style=\"fill:#1f77b4;stroke:#1f77b4;\" x=\"134.257519\" xlink:href=\"#m74c4ddc5a9\" y=\"75.417309\"/>\n     <use style=\"fill:#1f77b4;stroke:#1f77b4;\" x=\"133.395834\" xlink:href=\"#m74c4ddc5a9\" y=\"70.623812\"/>\n     <use style=\"fill:#1f77b4;stroke:#1f77b4;\" x=\"175.562902\" xlink:href=\"#m74c4ddc5a9\" y=\"104.695527\"/>\n     <use style=\"fill:#1f77b4;stroke:#1f77b4;\" x=\"118.425693\" xlink:href=\"#m74c4ddc5a9\" y=\"70.106546\"/>\n     <use style=\"fill:#1f77b4;stroke:#1f77b4;\" x=\"140.525408\" xlink:href=\"#m74c4ddc5a9\" y=\"80.423185\"/>\n     <use style=\"fill:#1f77b4;stroke:#1f77b4;\" x=\"125.15593\" xlink:href=\"#m74c4ddc5a9\" y=\"85.863847\"/>\n     <use style=\"fill:#1f77b4;stroke:#1f77b4;\" x=\"163.225835\" xlink:href=\"#m74c4ddc5a9\" y=\"99.049663\"/>\n     <use style=\"fill:#1f77b4;stroke:#1f77b4;\" x=\"172.158298\" xlink:href=\"#m74c4ddc5a9\" y=\"110.326996\"/>\n     <use style=\"fill:#1f77b4;stroke:#1f77b4;\" x=\"205.545741\" xlink:href=\"#m74c4ddc5a9\" y=\"118.658604\"/>\n     <use style=\"fill:#1f77b4;stroke:#1f77b4;\" x=\"148.989183\" xlink:href=\"#m74c4ddc5a9\" y=\"102.529977\"/>\n     <use style=\"fill:#1f77b4;stroke:#1f77b4;\" x=\"138.046893\" xlink:href=\"#m74c4ddc5a9\" y=\"64.778036\"/>\n     <use style=\"fill:#1f77b4;stroke:#1f77b4;\" x=\"155.626191\" xlink:href=\"#m74c4ddc5a9\" y=\"100.680195\"/>\n     <use style=\"fill:#1f77b4;stroke:#1f77b4;\" x=\"137.715272\" xlink:href=\"#m74c4ddc5a9\" y=\"74.418585\"/>\n     <use style=\"fill:#1f77b4;stroke:#1f77b4;\" x=\"138.860268\" xlink:href=\"#m74c4ddc5a9\" y=\"87.183436\"/>\n     <use style=\"fill:#1f77b4;stroke:#1f77b4;\" x=\"122.122353\" xlink:href=\"#m74c4ddc5a9\" y=\"81.094871\"/>\n     <use style=\"fill:#1f77b4;stroke:#1f77b4;\" x=\"174.090836\" xlink:href=\"#m74c4ddc5a9\" y=\"102.571581\"/>\n     <use style=\"fill:#1f77b4;stroke:#1f77b4;\" x=\"145.999681\" xlink:href=\"#m74c4ddc5a9\" y=\"76.558859\"/>\n     <use style=\"fill:#1f77b4;stroke:#1f77b4;\" x=\"137.031689\" xlink:href=\"#m74c4ddc5a9\" y=\"90.791763\"/>\n     <use style=\"fill:#1f77b4;stroke:#1f77b4;\" x=\"190.062116\" xlink:href=\"#m74c4ddc5a9\" y=\"133.275383\"/>\n     <use style=\"fill:#1f77b4;stroke:#1f77b4;\" x=\"124.108918\" xlink:href=\"#m74c4ddc5a9\" y=\"84.567901\"/>\n     <use style=\"fill:#1f77b4;stroke:#1f77b4;\" x=\"145.532058\" xlink:href=\"#m74c4ddc5a9\" y=\"100.916989\"/>\n     <use style=\"fill:#1f77b4;stroke:#1f77b4;\" x=\"178.130214\" xlink:href=\"#m74c4ddc5a9\" y=\"115.371466\"/>\n     <use style=\"fill:#1f77b4;stroke:#1f77b4;\" x=\"137.964965\" xlink:href=\"#m74c4ddc5a9\" y=\"89.144497\"/>\n     <use style=\"fill:#1f77b4;stroke:#1f77b4;\" x=\"171.817197\" xlink:href=\"#m74c4ddc5a9\" y=\"93.110101\"/>\n     <use style=\"fill:#1f77b4;stroke:#1f77b4;\" x=\"165.020225\" xlink:href=\"#m74c4ddc5a9\" y=\"99.263399\"/>\n     <use style=\"fill:#1f77b4;stroke:#1f77b4;\" x=\"157.952177\" xlink:href=\"#m74c4ddc5a9\" y=\"98.10061\"/>\n     <use style=\"fill:#1f77b4;stroke:#1f77b4;\" x=\"147.503798\" xlink:href=\"#m74c4ddc5a9\" y=\"91.655383\"/>\n     <use style=\"fill:#1f77b4;stroke:#1f77b4;\" x=\"150.649442\" xlink:href=\"#m74c4ddc5a9\" y=\"86.092082\"/>\n     <use style=\"fill:#1f77b4;stroke:#1f77b4;\" x=\"141.892328\" xlink:href=\"#m74c4ddc5a9\" y=\"78.964152\"/>\n     <use style=\"fill:#1f77b4;stroke:#1f77b4;\" x=\"143.579703\" xlink:href=\"#m74c4ddc5a9\" y=\"83.901342\"/>\n     <use style=\"fill:#1f77b4;stroke:#1f77b4;\" x=\"111.647212\" xlink:href=\"#m74c4ddc5a9\" y=\"57.500975\"/>\n     <use style=\"fill:#1f77b4;stroke:#1f77b4;\" x=\"127.424433\" xlink:href=\"#m74c4ddc5a9\" y=\"72.375023\"/>\n     <use style=\"fill:#1f77b4;stroke:#1f77b4;\" x=\"117.910609\" xlink:href=\"#m74c4ddc5a9\" y=\"79.632352\"/>\n     <use style=\"fill:#1f77b4;stroke:#1f77b4;\" x=\"100.402645\" xlink:href=\"#m74c4ddc5a9\" y=\"60.586601\"/>\n     <use style=\"fill:#1f77b4;stroke:#1f77b4;\" x=\"156.969989\" xlink:href=\"#m74c4ddc5a9\" y=\"98.489931\"/>\n     <use style=\"fill:#1f77b4;stroke:#1f77b4;\" x=\"148.42793\" xlink:href=\"#m74c4ddc5a9\" y=\"84.714673\"/>\n     <use style=\"fill:#1f77b4;stroke:#1f77b4;\" x=\"175.360355\" xlink:href=\"#m74c4ddc5a9\" y=\"110.548906\"/>\n     <use style=\"fill:#1f77b4;stroke:#1f77b4;\" x=\"85.206399\" xlink:href=\"#m74c4ddc5a9\" y=\"56.579143\"/>\n     <use style=\"fill:#1f77b4;stroke:#1f77b4;\" x=\"163.794313\" xlink:href=\"#m74c4ddc5a9\" y=\"104.817543\"/>\n     <use style=\"fill:#1f77b4;stroke:#1f77b4;\" x=\"150.018368\" xlink:href=\"#m74c4ddc5a9\" y=\"101.573322\"/>\n     <use style=\"fill:#1f77b4;stroke:#1f77b4;\" x=\"117.245309\" xlink:href=\"#m74c4ddc5a9\" y=\"87.494409\"/>\n     <use style=\"fill:#1f77b4;stroke:#1f77b4;\" x=\"125.182363\" xlink:href=\"#m74c4ddc5a9\" y=\"94.355002\"/>\n     <use style=\"fill:#1f77b4;stroke:#1f77b4;\" x=\"125.193974\" xlink:href=\"#m74c4ddc5a9\" y=\"76.446008\"/>\n     <use style=\"fill:#1f77b4;stroke:#1f77b4;\" x=\"175.716491\" xlink:href=\"#m74c4ddc5a9\" y=\"82.594166\"/>\n     <use style=\"fill:#1f77b4;stroke:#1f77b4;\" x=\"170.965885\" xlink:href=\"#m74c4ddc5a9\" y=\"104.436277\"/>\n     <use style=\"fill:#1f77b4;stroke:#1f77b4;\" x=\"149.223565\" xlink:href=\"#m74c4ddc5a9\" y=\"94.817034\"/>\n     <use style=\"fill:#1f77b4;stroke:#1f77b4;\" x=\"191.390374\" xlink:href=\"#m74c4ddc5a9\" y=\"103.195227\"/>\n     <use style=\"fill:#1f77b4;stroke:#1f77b4;\" x=\"160.256689\" xlink:href=\"#m74c4ddc5a9\" y=\"102.675969\"/>\n     <use style=\"fill:#1f77b4;stroke:#1f77b4;\" x=\"123.795059\" xlink:href=\"#m74c4ddc5a9\" y=\"80.073037\"/>\n     <use style=\"fill:#1f77b4;stroke:#1f77b4;\" x=\"176.510027\" xlink:href=\"#m74c4ddc5a9\" y=\"115.065345\"/>\n     <use style=\"fill:#1f77b4;stroke:#1f77b4;\" x=\"178.763467\" xlink:href=\"#m74c4ddc5a9\" y=\"114.764944\"/>\n     <use style=\"fill:#1f77b4;stroke:#1f77b4;\" x=\"124.004561\" xlink:href=\"#m74c4ddc5a9\" y=\"78.071633\"/>\n     <use style=\"fill:#1f77b4;stroke:#1f77b4;\" x=\"125.474406\" xlink:href=\"#m74c4ddc5a9\" y=\"59.223678\"/>\n     <use style=\"fill:#1f77b4;stroke:#1f77b4;\" x=\"131.362213\" xlink:href=\"#m74c4ddc5a9\" y=\"81.412733\"/>\n     <use style=\"fill:#1f77b4;stroke:#1f77b4;\" x=\"141.132501\" xlink:href=\"#m74c4ddc5a9\" y=\"82.459521\"/>\n     <use style=\"fill:#1f77b4;stroke:#1f77b4;\" x=\"154.745078\" xlink:href=\"#m74c4ddc5a9\" y=\"89.777824\"/>\n     <use style=\"fill:#1f77b4;stroke:#1f77b4;\" x=\"130.164031\" xlink:href=\"#m74c4ddc5a9\" y=\"89.979148\"/>\n     <use style=\"fill:#1f77b4;stroke:#1f77b4;\" x=\"116.618088\" xlink:href=\"#m74c4ddc5a9\" y=\"64.809043\"/>\n     <use style=\"fill:#1f77b4;stroke:#1f77b4;\" x=\"201.307941\" xlink:href=\"#m74c4ddc5a9\" y=\"128.200288\"/>\n     <use style=\"fill:#1f77b4;stroke:#1f77b4;\" x=\"121.524846\" xlink:href=\"#m74c4ddc5a9\" y=\"83.91618\"/>\n     <use style=\"fill:#1f77b4;stroke:#1f77b4;\" x=\"118.824238\" xlink:href=\"#m74c4ddc5a9\" y=\"64.222017\"/>\n     <use style=\"fill:#1f77b4;stroke:#1f77b4;\" x=\"152.792536\" xlink:href=\"#m74c4ddc5a9\" y=\"98.079301\"/>\n     <use style=\"fill:#1f77b4;stroke:#1f77b4;\" x=\"154.468692\" xlink:href=\"#m74c4ddc5a9\" y=\"105.14816\"/>\n     <use style=\"fill:#1f77b4;stroke:#1f77b4;\" x=\"135.071146\" xlink:href=\"#m74c4ddc5a9\" y=\"74.816106\"/>\n     <use style=\"fill:#1f77b4;stroke:#1f77b4;\" x=\"83.350404\" xlink:href=\"#m74c4ddc5a9\" y=\"64.030415\"/>\n     <use style=\"fill:#1f77b4;stroke:#1f77b4;\" x=\"133.44531\" xlink:href=\"#m74c4ddc5a9\" y=\"71.729445\"/>\n     <use style=\"fill:#1f77b4;stroke:#1f77b4;\" x=\"156.558777\" xlink:href=\"#m74c4ddc5a9\" y=\"98.351096\"/>\n     <use style=\"fill:#1f77b4;stroke:#1f77b4;\" x=\"129.415837\" xlink:href=\"#m74c4ddc5a9\" y=\"77.87615\"/>\n     <use style=\"fill:#1f77b4;stroke:#1f77b4;\" x=\"157.229625\" xlink:href=\"#m74c4ddc5a9\" y=\"100.454563\"/>\n     <use style=\"fill:#1f77b4;stroke:#1f77b4;\" x=\"158.093045\" xlink:href=\"#m74c4ddc5a9\" y=\"89.434499\"/>\n     <use style=\"fill:#1f77b4;stroke:#1f77b4;\" x=\"172.053515\" xlink:href=\"#m74c4ddc5a9\" y=\"100.806888\"/>\n     <use style=\"fill:#1f77b4;stroke:#1f77b4;\" x=\"71.749666\" xlink:href=\"#m74c4ddc5a9\" y=\"54.553116\"/>\n     <use style=\"fill:#1f77b4;stroke:#1f77b4;\" x=\"147.581262\" xlink:href=\"#m74c4ddc5a9\" y=\"80.665451\"/>\n     <use style=\"fill:#1f77b4;stroke:#1f77b4;\" x=\"86.398138\" xlink:href=\"#m74c4ddc5a9\" y=\"49.251917\"/>\n     <use style=\"fill:#1f77b4;stroke:#1f77b4;\" x=\"187.829799\" xlink:href=\"#m74c4ddc5a9\" y=\"118.529984\"/>\n     <use style=\"fill:#1f77b4;stroke:#1f77b4;\" x=\"196.716321\" xlink:href=\"#m74c4ddc5a9\" y=\"136.868498\"/>\n     <use style=\"fill:#1f77b4;stroke:#1f77b4;\" x=\"143.211388\" xlink:href=\"#m74c4ddc5a9\" y=\"92.298739\"/>\n     <use style=\"fill:#1f77b4;stroke:#1f77b4;\" x=\"86.264876\" xlink:href=\"#m74c4ddc5a9\" y=\"39.449573\"/>\n     <use style=\"fill:#1f77b4;stroke:#1f77b4;\" x=\"159.112475\" xlink:href=\"#m74c4ddc5a9\" y=\"98.473135\"/>\n     <use style=\"fill:#1f77b4;stroke:#1f77b4;\" x=\"131.303676\" xlink:href=\"#m74c4ddc5a9\" y=\"67.956358\"/>\n     <use style=\"fill:#1f77b4;stroke:#1f77b4;\" x=\"181.241152\" xlink:href=\"#m74c4ddc5a9\" y=\"122.212266\"/>\n     <use style=\"fill:#1f77b4;stroke:#1f77b4;\" x=\"122.864059\" xlink:href=\"#m74c4ddc5a9\" y=\"78.273987\"/>\n     <use style=\"fill:#1f77b4;stroke:#1f77b4;\" x=\"170.424819\" xlink:href=\"#m74c4ddc5a9\" y=\"105.804087\"/>\n     <use style=\"fill:#1f77b4;stroke:#1f77b4;\" x=\"146.88829\" xlink:href=\"#m74c4ddc5a9\" y=\"88.585662\"/>\n     <use style=\"fill:#1f77b4;stroke:#1f77b4;\" x=\"123.289228\" xlink:href=\"#m74c4ddc5a9\" y=\"74.368651\"/>\n     <use style=\"fill:#1f77b4;stroke:#1f77b4;\" x=\"175.887379\" xlink:href=\"#m74c4ddc5a9\" y=\"100.15073\"/>\n     <use style=\"fill:#1f77b4;stroke:#1f77b4;\" x=\"91.128529\" xlink:href=\"#m74c4ddc5a9\" y=\"63.568435\"/>\n     <use style=\"fill:#1f77b4;stroke:#1f77b4;\" x=\"152.11356\" xlink:href=\"#m74c4ddc5a9\" y=\"88.821674\"/>\n     <use style=\"fill:#1f77b4;stroke:#1f77b4;\" x=\"146.790073\" xlink:href=\"#m74c4ddc5a9\" y=\"98.024089\"/>\n     <use style=\"fill:#1f77b4;stroke:#1f77b4;\" x=\"115.249473\" xlink:href=\"#m74c4ddc5a9\" y=\"90.042832\"/>\n     <use style=\"fill:#1f77b4;stroke:#1f77b4;\" x=\"137.084517\" xlink:href=\"#m74c4ddc5a9\" y=\"81.739833\"/>\n     <use style=\"fill:#1f77b4;stroke:#1f77b4;\" x=\"172.77941\" xlink:href=\"#m74c4ddc5a9\" y=\"105.29571\"/>\n     <use style=\"fill:#1f77b4;stroke:#1f77b4;\" x=\"147.848903\" xlink:href=\"#m74c4ddc5a9\" y=\"82.515352\"/>\n     <use style=\"fill:#1f77b4;stroke:#1f77b4;\" x=\"111.299479\" xlink:href=\"#m74c4ddc5a9\" y=\"67.231977\"/>\n     <use style=\"fill:#1f77b4;stroke:#1f77b4;\" x=\"177.96569\" xlink:href=\"#m74c4ddc5a9\" y=\"107.995801\"/>\n     <use style=\"fill:#1f77b4;stroke:#1f77b4;\" x=\"147.793424\" xlink:href=\"#m74c4ddc5a9\" y=\"93.290117\"/>\n     <use style=\"fill:#1f77b4;stroke:#1f77b4;\" x=\"120.311791\" xlink:href=\"#m74c4ddc5a9\" y=\"64.564236\"/>\n     <use style=\"fill:#1f77b4;stroke:#1f77b4;\" x=\"156.030508\" xlink:href=\"#m74c4ddc5a9\" y=\"99.363958\"/>\n     <use style=\"fill:#1f77b4;stroke:#1f77b4;\" x=\"116.993748\" xlink:href=\"#m74c4ddc5a9\" y=\"78.07289\"/>\n     <use style=\"fill:#1f77b4;stroke:#1f77b4;\" x=\"160.909115\" xlink:href=\"#m74c4ddc5a9\" y=\"93.015432\"/>\n     <use style=\"fill:#1f77b4;stroke:#1f77b4;\" x=\"112.226422\" xlink:href=\"#m74c4ddc5a9\" y=\"49.536211\"/>\n     <use style=\"fill:#1f77b4;stroke:#1f77b4;\" x=\"143.968366\" xlink:href=\"#m74c4ddc5a9\" y=\"79.449857\"/>\n     <use style=\"fill:#1f77b4;stroke:#1f77b4;\" x=\"149.379698\" xlink:href=\"#m74c4ddc5a9\" y=\"78.769352\"/>\n     <use style=\"fill:#1f77b4;stroke:#1f77b4;\" x=\"148.688619\" xlink:href=\"#m74c4ddc5a9\" y=\"102.852178\"/>\n     <use style=\"fill:#1f77b4;stroke:#1f77b4;\" x=\"168.517482\" xlink:href=\"#m74c4ddc5a9\" y=\"107.862272\"/>\n     <use style=\"fill:#1f77b4;stroke:#1f77b4;\" x=\"110.575521\" xlink:href=\"#m74c4ddc5a9\" y=\"65.169602\"/>\n     <use style=\"fill:#1f77b4;stroke:#1f77b4;\" x=\"109.624588\" xlink:href=\"#m74c4ddc5a9\" y=\"57.396947\"/>\n     <use style=\"fill:#1f77b4;stroke:#1f77b4;\" x=\"134.254134\" xlink:href=\"#m74c4ddc5a9\" y=\"82.159325\"/>\n     <use style=\"fill:#1f77b4;stroke:#1f77b4;\" x=\"118.701059\" xlink:href=\"#m74c4ddc5a9\" y=\"81.923014\"/>\n     <use style=\"fill:#1f77b4;stroke:#1f77b4;\" x=\"127.978998\" xlink:href=\"#m74c4ddc5a9\" y=\"85.673939\"/>\n     <use style=\"fill:#1f77b4;stroke:#1f77b4;\" x=\"144.108659\" xlink:href=\"#m74c4ddc5a9\" y=\"83.177708\"/>\n     <use style=\"fill:#1f77b4;stroke:#1f77b4;\" x=\"179.673715\" xlink:href=\"#m74c4ddc5a9\" y=\"108.177184\"/>\n     <use style=\"fill:#1f77b4;stroke:#1f77b4;\" x=\"135.163329\" xlink:href=\"#m74c4ddc5a9\" y=\"70.946514\"/>\n     <use style=\"fill:#1f77b4;stroke:#1f77b4;\" x=\"107.66607\" xlink:href=\"#m74c4ddc5a9\" y=\"66.419897\"/>\n     <use style=\"fill:#1f77b4;stroke:#1f77b4;\" x=\"162.173399\" xlink:href=\"#m74c4ddc5a9\" y=\"82.053773\"/>\n     <use style=\"fill:#1f77b4;stroke:#1f77b4;\" x=\"189.953938\" xlink:href=\"#m74c4ddc5a9\" y=\"117.92807\"/>\n     <use style=\"fill:#1f77b4;stroke:#1f77b4;\" x=\"144.070803\" xlink:href=\"#m74c4ddc5a9\" y=\"78.471296\"/>\n     <use style=\"fill:#1f77b4;stroke:#1f77b4;\" x=\"116.244425\" xlink:href=\"#m74c4ddc5a9\" y=\"48.287362\"/>\n     <use style=\"fill:#1f77b4;stroke:#1f77b4;\" x=\"74.658548\" xlink:href=\"#m74c4ddc5a9\" y=\"43.219553\"/>\n     <use style=\"fill:#1f77b4;stroke:#1f77b4;\" x=\"157.902497\" xlink:href=\"#m74c4ddc5a9\" y=\"80.39507\"/>\n     <use style=\"fill:#1f77b4;stroke:#1f77b4;\" x=\"140.356289\" xlink:href=\"#m74c4ddc5a9\" y=\"88.363605\"/>\n     <use style=\"fill:#1f77b4;stroke:#1f77b4;\" x=\"170.278661\" xlink:href=\"#m74c4ddc5a9\" y=\"88.26624\"/>\n     <use style=\"fill:#1f77b4;stroke:#1f77b4;\" x=\"149.756558\" xlink:href=\"#m74c4ddc5a9\" y=\"93.819021\"/>\n     <use style=\"fill:#1f77b4;stroke:#1f77b4;\" x=\"148.495408\" xlink:href=\"#m74c4ddc5a9\" y=\"87.020721\"/>\n     <use style=\"fill:#1f77b4;stroke:#1f77b4;\" x=\"86.865353\" xlink:href=\"#m74c4ddc5a9\" y=\"58.434033\"/>\n     <use style=\"fill:#1f77b4;stroke:#1f77b4;\" x=\"135.767915\" xlink:href=\"#m74c4ddc5a9\" y=\"93.172563\"/>\n     <use style=\"fill:#1f77b4;stroke:#1f77b4;\" x=\"181.198216\" xlink:href=\"#m74c4ddc5a9\" y=\"106.499487\"/>\n     <use style=\"fill:#1f77b4;stroke:#1f77b4;\" x=\"101.807804\" xlink:href=\"#m74c4ddc5a9\" y=\"57.392925\"/>\n     <use style=\"fill:#1f77b4;stroke:#1f77b4;\" x=\"165.005009\" xlink:href=\"#m74c4ddc5a9\" y=\"103.275192\"/>\n     <use style=\"fill:#1f77b4;stroke:#1f77b4;\" x=\"157.180971\" xlink:href=\"#m74c4ddc5a9\" y=\"82.926632\"/>\n     <use style=\"fill:#1f77b4;stroke:#1f77b4;\" x=\"110.458573\" xlink:href=\"#m74c4ddc5a9\" y=\"53.008766\"/>\n     <use style=\"fill:#1f77b4;stroke:#1f77b4;\" x=\"133.630905\" xlink:href=\"#m74c4ddc5a9\" y=\"73.748507\"/>\n     <use style=\"fill:#1f77b4;stroke:#1f77b4;\" x=\"141.930366\" xlink:href=\"#m74c4ddc5a9\" y=\"97.808377\"/>\n     <use style=\"fill:#1f77b4;stroke:#1f77b4;\" x=\"129.848107\" xlink:href=\"#m74c4ddc5a9\" y=\"78.944359\"/>\n     <use style=\"fill:#1f77b4;stroke:#1f77b4;\" x=\"124.455626\" xlink:href=\"#m74c4ddc5a9\" y=\"55.419035\"/>\n     <use style=\"fill:#1f77b4;stroke:#1f77b4;\" x=\"109.524447\" xlink:href=\"#m74c4ddc5a9\" y=\"58.090956\"/>\n     <use style=\"fill:#1f77b4;stroke:#1f77b4;\" x=\"143.666319\" xlink:href=\"#m74c4ddc5a9\" y=\"70.570172\"/>\n     <use style=\"fill:#1f77b4;stroke:#1f77b4;\" x=\"124.497591\" xlink:href=\"#m74c4ddc5a9\" y=\"66.58815\"/>\n     <use style=\"fill:#1f77b4;stroke:#1f77b4;\" x=\"121.635156\" xlink:href=\"#m74c4ddc5a9\" y=\"65.289817\"/>\n     <use style=\"fill:#1f77b4;stroke:#1f77b4;\" x=\"150.120075\" xlink:href=\"#m74c4ddc5a9\" y=\"81.868145\"/>\n     <use style=\"fill:#1f77b4;stroke:#1f77b4;\" x=\"148.967045\" xlink:href=\"#m74c4ddc5a9\" y=\"81.697392\"/>\n     <use style=\"fill:#1f77b4;stroke:#1f77b4;\" x=\"142.18135\" xlink:href=\"#m74c4ddc5a9\" y=\"66.509482\"/>\n     <use style=\"fill:#1f77b4;stroke:#1f77b4;\" x=\"124.392939\" xlink:href=\"#m74c4ddc5a9\" y=\"53.447614\"/>\n     <use style=\"fill:#1f77b4;stroke:#1f77b4;\" x=\"89.900427\" xlink:href=\"#m74c4ddc5a9\" y=\"42.856925\"/>\n     <use style=\"fill:#1f77b4;stroke:#1f77b4;\" x=\"119.511614\" xlink:href=\"#m74c4ddc5a9\" y=\"64.798548\"/>\n     <use style=\"fill:#1f77b4;stroke:#1f77b4;\" x=\"191.800516\" xlink:href=\"#m74c4ddc5a9\" y=\"104.261136\"/>\n     <use style=\"fill:#1f77b4;stroke:#1f77b4;\" x=\"137.550664\" xlink:href=\"#m74c4ddc5a9\" y=\"80.531395\"/>\n     <use style=\"fill:#1f77b4;stroke:#1f77b4;\" x=\"150.302982\" xlink:href=\"#m74c4ddc5a9\" y=\"100.978772\"/>\n     <use style=\"fill:#1f77b4;stroke:#1f77b4;\" x=\"208.859899\" xlink:href=\"#m74c4ddc5a9\" y=\"118.99031\"/>\n     <use style=\"fill:#1f77b4;stroke:#1f77b4;\" x=\"172.026575\" xlink:href=\"#m74c4ddc5a9\" y=\"111.592628\"/>\n     <use style=\"fill:#1f77b4;stroke:#1f77b4;\" x=\"126.412216\" xlink:href=\"#m74c4ddc5a9\" y=\"81.271467\"/>\n     <use style=\"fill:#1f77b4;stroke:#1f77b4;\" x=\"164.010566\" xlink:href=\"#m74c4ddc5a9\" y=\"106.405997\"/>\n     <use style=\"fill:#1f77b4;stroke:#1f77b4;\" x=\"121.4433\" xlink:href=\"#m74c4ddc5a9\" y=\"72.688098\"/>\n     <use style=\"fill:#1f77b4;stroke:#1f77b4;\" x=\"91.479116\" xlink:href=\"#m74c4ddc5a9\" y=\"29.879148\"/>\n     <use style=\"fill:#1f77b4;stroke:#1f77b4;\" x=\"146.763579\" xlink:href=\"#m74c4ddc5a9\" y=\"91.853602\"/>\n     <use style=\"fill:#1f77b4;stroke:#1f77b4;\" x=\"167.059009\" xlink:href=\"#m74c4ddc5a9\" y=\"91.463418\"/>\n     <use style=\"fill:#1f77b4;stroke:#1f77b4;\" x=\"136.78873\" xlink:href=\"#m74c4ddc5a9\" y=\"83.744997\"/>\n     <use style=\"fill:#1f77b4;stroke:#1f77b4;\" x=\"112.224999\" xlink:href=\"#m74c4ddc5a9\" y=\"70.953775\"/>\n     <use style=\"fill:#1f77b4;stroke:#1f77b4;\" x=\"180.005697\" xlink:href=\"#m74c4ddc5a9\" y=\"115.16344\"/>\n     <use style=\"fill:#1f77b4;stroke:#1f77b4;\" x=\"160.572189\" xlink:href=\"#m74c4ddc5a9\" y=\"86.783237\"/>\n     <use style=\"fill:#1f77b4;stroke:#1f77b4;\" x=\"145.42067\" xlink:href=\"#m74c4ddc5a9\" y=\"91.137974\"/>\n     <use style=\"fill:#1f77b4;stroke:#1f77b4;\" x=\"158.762932\" xlink:href=\"#m74c4ddc5a9\" y=\"89.843026\"/>\n     <use style=\"fill:#1f77b4;stroke:#1f77b4;\" x=\"167.611803\" xlink:href=\"#m74c4ddc5a9\" y=\"95.651969\"/>\n     <use style=\"fill:#1f77b4;stroke:#1f77b4;\" x=\"145.340341\" xlink:href=\"#m74c4ddc5a9\" y=\"75.769283\"/>\n     <use style=\"fill:#1f77b4;stroke:#1f77b4;\" x=\"118.003349\" xlink:href=\"#m74c4ddc5a9\" y=\"57.465297\"/>\n     <use style=\"fill:#1f77b4;stroke:#1f77b4;\" x=\"146.974746\" xlink:href=\"#m74c4ddc5a9\" y=\"94.514999\"/>\n     <use style=\"fill:#1f77b4;stroke:#1f77b4;\" x=\"106.093129\" xlink:href=\"#m74c4ddc5a9\" y=\"63.887763\"/>\n     <use style=\"fill:#1f77b4;stroke:#1f77b4;\" x=\"159.173149\" xlink:href=\"#m74c4ddc5a9\" y=\"102.784924\"/>\n     <use style=\"fill:#1f77b4;stroke:#1f77b4;\" x=\"145.640759\" xlink:href=\"#m74c4ddc5a9\" y=\"87.053975\"/>\n     <use style=\"fill:#1f77b4;stroke:#1f77b4;\" x=\"173.03387\" xlink:href=\"#m74c4ddc5a9\" y=\"90.932132\"/>\n     <use style=\"fill:#1f77b4;stroke:#1f77b4;\" x=\"147.265231\" xlink:href=\"#m74c4ddc5a9\" y=\"91.80404\"/>\n     <use style=\"fill:#1f77b4;stroke:#1f77b4;\" x=\"96.633982\" xlink:href=\"#m74c4ddc5a9\" y=\"73.367479\"/>\n     <use style=\"fill:#1f77b4;stroke:#1f77b4;\" x=\"147.538675\" xlink:href=\"#m74c4ddc5a9\" y=\"82.062549\"/>\n     <use style=\"fill:#1f77b4;stroke:#1f77b4;\" x=\"133.885891\" xlink:href=\"#m74c4ddc5a9\" y=\"67.145139\"/>\n     <use style=\"fill:#1f77b4;stroke:#1f77b4;\" x=\"117.495858\" xlink:href=\"#m74c4ddc5a9\" y=\"80.075429\"/>\n     <use style=\"fill:#1f77b4;stroke:#1f77b4;\" x=\"86.649837\" xlink:href=\"#m74c4ddc5a9\" y=\"46.714697\"/>\n     <use style=\"fill:#1f77b4;stroke:#1f77b4;\" x=\"124.392251\" xlink:href=\"#m74c4ddc5a9\" y=\"62.813743\"/>\n     <use style=\"fill:#1f77b4;stroke:#1f77b4;\" x=\"142.166943\" xlink:href=\"#m74c4ddc5a9\" y=\"86.765317\"/>\n     <use style=\"fill:#1f77b4;stroke:#1f77b4;\" x=\"122.340263\" xlink:href=\"#m74c4ddc5a9\" y=\"70.37634\"/>\n     <use style=\"fill:#1f77b4;stroke:#1f77b4;\" x=\"147.115668\" xlink:href=\"#m74c4ddc5a9\" y=\"87.613873\"/>\n     <use style=\"fill:#1f77b4;stroke:#1f77b4;\" x=\"80.129531\" xlink:href=\"#m74c4ddc5a9\" y=\"34.356479\"/>\n     <use style=\"fill:#1f77b4;stroke:#1f77b4;\" x=\"141.424008\" xlink:href=\"#m74c4ddc5a9\" y=\"96.484709\"/>\n     <use style=\"fill:#1f77b4;stroke:#1f77b4;\" x=\"128.614275\" xlink:href=\"#m74c4ddc5a9\" y=\"76.143612\"/>\n     <use style=\"fill:#1f77b4;stroke:#1f77b4;\" x=\"195.368027\" xlink:href=\"#m74c4ddc5a9\" y=\"113.553314\"/>\n     <use style=\"fill:#1f77b4;stroke:#1f77b4;\" x=\"109.280126\" xlink:href=\"#m74c4ddc5a9\" y=\"67.999418\"/>\n     <use style=\"fill:#1f77b4;stroke:#1f77b4;\" x=\"134.465055\" xlink:href=\"#m74c4ddc5a9\" y=\"90.122926\"/>\n     <use style=\"fill:#1f77b4;stroke:#1f77b4;\" x=\"156.479395\" xlink:href=\"#m74c4ddc5a9\" y=\"98.481553\"/>\n     <use style=\"fill:#1f77b4;stroke:#1f77b4;\" x=\"183.849078\" xlink:href=\"#m74c4ddc5a9\" y=\"123.370246\"/>\n     <use style=\"fill:#1f77b4;stroke:#1f77b4;\" x=\"169.022794\" xlink:href=\"#m74c4ddc5a9\" y=\"99.563074\"/>\n     <use style=\"fill:#1f77b4;stroke:#1f77b4;\" x=\"198.476855\" xlink:href=\"#m74c4ddc5a9\" y=\"113.461879\"/>\n     <use style=\"fill:#1f77b4;stroke:#1f77b4;\" x=\"131.722454\" xlink:href=\"#m74c4ddc5a9\" y=\"85.862531\"/>\n     <use style=\"fill:#1f77b4;stroke:#1f77b4;\" x=\"128.440166\" xlink:href=\"#m74c4ddc5a9\" y=\"62.078655\"/>\n     <use style=\"fill:#1f77b4;stroke:#1f77b4;\" x=\"150.6417\" xlink:href=\"#m74c4ddc5a9\" y=\"76.488167\"/>\n     <use style=\"fill:#1f77b4;stroke:#1f77b4;\" x=\"153.128722\" xlink:href=\"#m74c4ddc5a9\" y=\"82.126616\"/>\n     <use style=\"fill:#1f77b4;stroke:#1f77b4;\" x=\"141.407242\" xlink:href=\"#m74c4ddc5a9\" y=\"88.185051\"/>\n     <use style=\"fill:#1f77b4;stroke:#1f77b4;\" x=\"136.919588\" xlink:href=\"#m74c4ddc5a9\" y=\"73.51876\"/>\n     <use style=\"fill:#1f77b4;stroke:#1f77b4;\" x=\"148.982399\" xlink:href=\"#m74c4ddc5a9\" y=\"93.042205\"/>\n     <use style=\"fill:#1f77b4;stroke:#1f77b4;\" x=\"114.631548\" xlink:href=\"#m74c4ddc5a9\" y=\"53.203265\"/>\n     <use style=\"fill:#1f77b4;stroke:#1f77b4;\" x=\"151.506267\" xlink:href=\"#m74c4ddc5a9\" y=\"87.61019\"/>\n     <use style=\"fill:#1f77b4;stroke:#1f77b4;\" x=\"162.115203\" xlink:href=\"#m74c4ddc5a9\" y=\"79.548475\"/>\n     <use style=\"fill:#1f77b4;stroke:#1f77b4;\" x=\"118.387121\" xlink:href=\"#m74c4ddc5a9\" y=\"75.105952\"/>\n     <use style=\"fill:#1f77b4;stroke:#1f77b4;\" x=\"96.572848\" xlink:href=\"#m74c4ddc5a9\" y=\"61.013365\"/>\n     <use style=\"fill:#1f77b4;stroke:#1f77b4;\" x=\"127.627948\" xlink:href=\"#m74c4ddc5a9\" y=\"73.02609\"/>\n     <use style=\"fill:#1f77b4;stroke:#1f77b4;\" x=\"129.350072\" xlink:href=\"#m74c4ddc5a9\" y=\"77.569123\"/>\n     <use style=\"fill:#1f77b4;stroke:#1f77b4;\" x=\"176.106527\" xlink:href=\"#m74c4ddc5a9\" y=\"94.427268\"/>\n     <use style=\"fill:#1f77b4;stroke:#1f77b4;\" x=\"132.099299\" xlink:href=\"#m74c4ddc5a9\" y=\"87.053567\"/>\n     <use style=\"fill:#1f77b4;stroke:#1f77b4;\" x=\"157.406361\" xlink:href=\"#m74c4ddc5a9\" y=\"84.391294\"/>\n     <use style=\"fill:#1f77b4;stroke:#1f77b4;\" x=\"153.783643\" xlink:href=\"#m74c4ddc5a9\" y=\"91.655173\"/>\n     <use style=\"fill:#1f77b4;stroke:#1f77b4;\" x=\"116.930251\" xlink:href=\"#m74c4ddc5a9\" y=\"73.066218\"/>\n     <use style=\"fill:#1f77b4;stroke:#1f77b4;\" x=\"116.646645\" xlink:href=\"#m74c4ddc5a9\" y=\"84.572775\"/>\n     <use style=\"fill:#1f77b4;stroke:#1f77b4;\" x=\"171.306439\" xlink:href=\"#m74c4ddc5a9\" y=\"87.537672\"/>\n     <use style=\"fill:#1f77b4;stroke:#1f77b4;\" x=\"170.719256\" xlink:href=\"#m74c4ddc5a9\" y=\"105.121631\"/>\n     <use style=\"fill:#1f77b4;stroke:#1f77b4;\" x=\"117.689949\" xlink:href=\"#m74c4ddc5a9\" y=\"83.107455\"/>\n     <use style=\"fill:#1f77b4;stroke:#1f77b4;\" x=\"120.232792\" xlink:href=\"#m74c4ddc5a9\" y=\"66.843466\"/>\n     <use style=\"fill:#1f77b4;stroke:#1f77b4;\" x=\"184.682198\" xlink:href=\"#m74c4ddc5a9\" y=\"94.271146\"/>\n     <use style=\"fill:#1f77b4;stroke:#1f77b4;\" x=\"113.241338\" xlink:href=\"#m74c4ddc5a9\" y=\"68.854007\"/>\n     <use style=\"fill:#1f77b4;stroke:#1f77b4;\" x=\"170.005717\" xlink:href=\"#m74c4ddc5a9\" y=\"90.758738\"/>\n     <use style=\"fill:#1f77b4;stroke:#1f77b4;\" x=\"88.120927\" xlink:href=\"#m74c4ddc5a9\" y=\"65.114934\"/>\n     <use style=\"fill:#1f77b4;stroke:#1f77b4;\" x=\"106.621186\" xlink:href=\"#m74c4ddc5a9\" y=\"53.084662\"/>\n     <use style=\"fill:#1f77b4;stroke:#1f77b4;\" x=\"196.789434\" xlink:href=\"#m74c4ddc5a9\" y=\"108.163578\"/>\n     <use style=\"fill:#1f77b4;stroke:#1f77b4;\" x=\"120.710752\" xlink:href=\"#m74c4ddc5a9\" y=\"69.876335\"/>\n     <use style=\"fill:#1f77b4;stroke:#1f77b4;\" x=\"177.903384\" xlink:href=\"#m74c4ddc5a9\" y=\"104.970301\"/>\n     <use style=\"fill:#1f77b4;stroke:#1f77b4;\" x=\"149.936294\" xlink:href=\"#m74c4ddc5a9\" y=\"84.135262\"/>\n     <use style=\"fill:#1f77b4;stroke:#1f77b4;\" x=\"143.032975\" xlink:href=\"#m74c4ddc5a9\" y=\"88.430633\"/>\n     <use style=\"fill:#1f77b4;stroke:#1f77b4;\" x=\"181.249575\" xlink:href=\"#m74c4ddc5a9\" y=\"106.886633\"/>\n     <use style=\"fill:#1f77b4;stroke:#1f77b4;\" x=\"97.165851\" xlink:href=\"#m74c4ddc5a9\" y=\"54.371004\"/>\n     <use style=\"fill:#1f77b4;stroke:#1f77b4;\" x=\"101.234239\" xlink:href=\"#m74c4ddc5a9\" y=\"57.471472\"/>\n     <use style=\"fill:#1f77b4;stroke:#1f77b4;\" x=\"131.737172\" xlink:href=\"#m74c4ddc5a9\" y=\"84.09028\"/>\n     <use style=\"fill:#1f77b4;stroke:#1f77b4;\" x=\"86.760707\" xlink:href=\"#m74c4ddc5a9\" y=\"62.413746\"/>\n     <use style=\"fill:#1f77b4;stroke:#1f77b4;\" x=\"111.066347\" xlink:href=\"#m74c4ddc5a9\" y=\"60.90394\"/>\n     <use style=\"fill:#1f77b4;stroke:#1f77b4;\" x=\"143.053938\" xlink:href=\"#m74c4ddc5a9\" y=\"90.662969\"/>\n     <use style=\"fill:#1f77b4;stroke:#1f77b4;\" x=\"143.267401\" xlink:href=\"#m74c4ddc5a9\" y=\"86.594473\"/>\n     <use style=\"fill:#1f77b4;stroke:#1f77b4;\" x=\"114.496598\" xlink:href=\"#m74c4ddc5a9\" y=\"70.817281\"/>\n     <use style=\"fill:#1f77b4;stroke:#1f77b4;\" x=\"139.518373\" xlink:href=\"#m74c4ddc5a9\" y=\"91.595648\"/>\n     <use style=\"fill:#1f77b4;stroke:#1f77b4;\" x=\"147.108983\" xlink:href=\"#m74c4ddc5a9\" y=\"99.197654\"/>\n     <use style=\"fill:#1f77b4;stroke:#1f77b4;\" x=\"186.3911\" xlink:href=\"#m74c4ddc5a9\" y=\"123.660834\"/>\n     <use style=\"fill:#1f77b4;stroke:#1f77b4;\" x=\"116.773788\" xlink:href=\"#m74c4ddc5a9\" y=\"72.902756\"/>\n     <use style=\"fill:#1f77b4;stroke:#1f77b4;\" x=\"175.781953\" xlink:href=\"#m74c4ddc5a9\" y=\"114.718489\"/>\n     <use style=\"fill:#1f77b4;stroke:#1f77b4;\" x=\"130.442797\" xlink:href=\"#m74c4ddc5a9\" y=\"82.44418\"/>\n     <use style=\"fill:#1f77b4;stroke:#1f77b4;\" x=\"113.520466\" xlink:href=\"#m74c4ddc5a9\" y=\"80.033061\"/>\n     <use style=\"fill:#1f77b4;stroke:#1f77b4;\" x=\"97.567135\" xlink:href=\"#m74c4ddc5a9\" y=\"70.252279\"/>\n     <use style=\"fill:#1f77b4;stroke:#1f77b4;\" x=\"160.248313\" xlink:href=\"#m74c4ddc5a9\" y=\"91.783889\"/>\n     <use style=\"fill:#1f77b4;stroke:#1f77b4;\" x=\"132.330922\" xlink:href=\"#m74c4ddc5a9\" y=\"81.066485\"/>\n     <use style=\"fill:#1f77b4;stroke:#1f77b4;\" x=\"121.935991\" xlink:href=\"#m74c4ddc5a9\" y=\"70.396339\"/>\n     <use style=\"fill:#1f77b4;stroke:#1f77b4;\" x=\"153.316271\" xlink:href=\"#m74c4ddc5a9\" y=\"79.719729\"/>\n     <use style=\"fill:#1f77b4;stroke:#1f77b4;\" x=\"156.452388\" xlink:href=\"#m74c4ddc5a9\" y=\"89.886259\"/>\n     <use style=\"fill:#1f77b4;stroke:#1f77b4;\" x=\"163.572375\" xlink:href=\"#m74c4ddc5a9\" y=\"104.018586\"/>\n     <use style=\"fill:#1f77b4;stroke:#1f77b4;\" x=\"142.128703\" xlink:href=\"#m74c4ddc5a9\" y=\"84.178155\"/>\n     <use style=\"fill:#1f77b4;stroke:#1f77b4;\" x=\"125.797955\" xlink:href=\"#m74c4ddc5a9\" y=\"62.258877\"/>\n     <use style=\"fill:#1f77b4;stroke:#1f77b4;\" x=\"138.331652\" xlink:href=\"#m74c4ddc5a9\" y=\"81.171354\"/>\n     <use style=\"fill:#1f77b4;stroke:#1f77b4;\" x=\"159.107004\" xlink:href=\"#m74c4ddc5a9\" y=\"101.334626\"/>\n     <use style=\"fill:#1f77b4;stroke:#1f77b4;\" x=\"181.62829\" xlink:href=\"#m74c4ddc5a9\" y=\"116.317813\"/>\n     <use style=\"fill:#1f77b4;stroke:#1f77b4;\" x=\"127.297388\" xlink:href=\"#m74c4ddc5a9\" y=\"73.768593\"/>\n     <use style=\"fill:#1f77b4;stroke:#1f77b4;\" x=\"96.913076\" xlink:href=\"#m74c4ddc5a9\" y=\"57.508668\"/>\n     <use style=\"fill:#1f77b4;stroke:#1f77b4;\" x=\"132.420287\" xlink:href=\"#m74c4ddc5a9\" y=\"67.802316\"/>\n     <use style=\"fill:#1f77b4;stroke:#1f77b4;\" x=\"101.583937\" xlink:href=\"#m74c4ddc5a9\" y=\"59.149189\"/>\n     <use style=\"fill:#1f77b4;stroke:#1f77b4;\" x=\"148.328598\" xlink:href=\"#m74c4ddc5a9\" y=\"72.656492\"/>\n     <use style=\"fill:#1f77b4;stroke:#1f77b4;\" x=\"152.616038\" xlink:href=\"#m74c4ddc5a9\" y=\"103.610515\"/>\n     <use style=\"fill:#1f77b4;stroke:#1f77b4;\" x=\"139.035213\" xlink:href=\"#m74c4ddc5a9\" y=\"85.066155\"/>\n     <use style=\"fill:#1f77b4;stroke:#1f77b4;\" x=\"90.684293\" xlink:href=\"#m74c4ddc5a9\" y=\"47.704118\"/>\n     <use style=\"fill:#1f77b4;stroke:#1f77b4;\" x=\"126.404374\" xlink:href=\"#m74c4ddc5a9\" y=\"85.728628\"/>\n     <use style=\"fill:#1f77b4;stroke:#1f77b4;\" x=\"108.935203\" xlink:href=\"#m74c4ddc5a9\" y=\"58.609441\"/>\n     <use style=\"fill:#1f77b4;stroke:#1f77b4;\" x=\"169.087174\" xlink:href=\"#m74c4ddc5a9\" y=\"105.157928\"/>\n     <use style=\"fill:#1f77b4;stroke:#1f77b4;\" x=\"160.60471\" xlink:href=\"#m74c4ddc5a9\" y=\"92.27553\"/>\n     <use style=\"fill:#1f77b4;stroke:#1f77b4;\" x=\"173.153402\" xlink:href=\"#m74c4ddc5a9\" y=\"117.420392\"/>\n     <use style=\"fill:#1f77b4;stroke:#1f77b4;\" x=\"130.905185\" xlink:href=\"#m74c4ddc5a9\" y=\"83.020627\"/>\n     <use style=\"fill:#1f77b4;stroke:#1f77b4;\" x=\"160.060081\" xlink:href=\"#m74c4ddc5a9\" y=\"102.09074\"/>\n     <use style=\"fill:#1f77b4;stroke:#1f77b4;\" x=\"95.234799\" xlink:href=\"#m74c4ddc5a9\" y=\"66.44132\"/>\n     <use style=\"fill:#1f77b4;stroke:#1f77b4;\" x=\"128.457821\" xlink:href=\"#m74c4ddc5a9\" y=\"60.36098\"/>\n     <use style=\"fill:#1f77b4;stroke:#1f77b4;\" x=\"161.564821\" xlink:href=\"#m74c4ddc5a9\" y=\"107.006715\"/>\n     <use style=\"fill:#1f77b4;stroke:#1f77b4;\" x=\"83.590624\" xlink:href=\"#m74c4ddc5a9\" y=\"54.099626\"/>\n     <use style=\"fill:#1f77b4;stroke:#1f77b4;\" x=\"150.862484\" xlink:href=\"#m74c4ddc5a9\" y=\"87.934445\"/>\n     <use style=\"fill:#1f77b4;stroke:#1f77b4;\" x=\"160.000303\" xlink:href=\"#m74c4ddc5a9\" y=\"112.886604\"/>\n     <use style=\"fill:#1f77b4;stroke:#1f77b4;\" x=\"149.302232\" xlink:href=\"#m74c4ddc5a9\" y=\"93.430445\"/>\n     <use style=\"fill:#1f77b4;stroke:#1f77b4;\" x=\"165.359596\" xlink:href=\"#m74c4ddc5a9\" y=\"118.105091\"/>\n     <use style=\"fill:#1f77b4;stroke:#1f77b4;\" x=\"170.667378\" xlink:href=\"#m74c4ddc5a9\" y=\"100.469249\"/>\n     <use style=\"fill:#1f77b4;stroke:#1f77b4;\" x=\"137.624445\" xlink:href=\"#m74c4ddc5a9\" y=\"68.448993\"/>\n     <use style=\"fill:#1f77b4;stroke:#1f77b4;\" x=\"81.209535\" xlink:href=\"#m74c4ddc5a9\" y=\"35.138774\"/>\n     <use style=\"fill:#1f77b4;stroke:#1f77b4;\" x=\"187.437532\" xlink:href=\"#m74c4ddc5a9\" y=\"111.993087\"/>\n     <use style=\"fill:#1f77b4;stroke:#1f77b4;\" x=\"93.521016\" xlink:href=\"#m74c4ddc5a9\" y=\"63.279767\"/>\n     <use style=\"fill:#1f77b4;stroke:#1f77b4;\" x=\"166.779043\" xlink:href=\"#m74c4ddc5a9\" y=\"113.002011\"/>\n     <use style=\"fill:#1f77b4;stroke:#1f77b4;\" x=\"171.963116\" xlink:href=\"#m74c4ddc5a9\" y=\"95.134575\"/>\n     <use style=\"fill:#1f77b4;stroke:#1f77b4;\" x=\"133.260426\" xlink:href=\"#m74c4ddc5a9\" y=\"74.594034\"/>\n     <use style=\"fill:#1f77b4;stroke:#1f77b4;\" x=\"149.733126\" xlink:href=\"#m74c4ddc5a9\" y=\"93.629385\"/>\n     <use style=\"fill:#1f77b4;stroke:#1f77b4;\" x=\"194.172113\" xlink:href=\"#m74c4ddc5a9\" y=\"114.119569\"/>\n     <use style=\"fill:#1f77b4;stroke:#1f77b4;\" x=\"131.935631\" xlink:href=\"#m74c4ddc5a9\" y=\"60.240525\"/>\n     <use style=\"fill:#1f77b4;stroke:#1f77b4;\" x=\"150.132705\" xlink:href=\"#m74c4ddc5a9\" y=\"88.509585\"/>\n     <use style=\"fill:#1f77b4;stroke:#1f77b4;\" x=\"172.959802\" xlink:href=\"#m74c4ddc5a9\" y=\"104.897485\"/>\n     <use style=\"fill:#1f77b4;stroke:#1f77b4;\" x=\"106.864336\" xlink:href=\"#m74c4ddc5a9\" y=\"65.716162\"/>\n     <use style=\"fill:#1f77b4;stroke:#1f77b4;\" x=\"159.930617\" xlink:href=\"#m74c4ddc5a9\" y=\"87.51344\"/>\n     <use style=\"fill:#1f77b4;stroke:#1f77b4;\" x=\"126.332743\" xlink:href=\"#m74c4ddc5a9\" y=\"72.376796\"/>\n     <use style=\"fill:#1f77b4;stroke:#1f77b4;\" x=\"155.059471\" xlink:href=\"#m74c4ddc5a9\" y=\"101.832111\"/>\n     <use style=\"fill:#1f77b4;stroke:#1f77b4;\" x=\"116.020848\" xlink:href=\"#m74c4ddc5a9\" y=\"76.412339\"/>\n     <use style=\"fill:#1f77b4;stroke:#1f77b4;\" x=\"159.01739\" xlink:href=\"#m74c4ddc5a9\" y=\"92.655578\"/>\n     <use style=\"fill:#1f77b4;stroke:#1f77b4;\" x=\"167.41529\" xlink:href=\"#m74c4ddc5a9\" y=\"110.104183\"/>\n     <use style=\"fill:#1f77b4;stroke:#1f77b4;\" x=\"113.944922\" xlink:href=\"#m74c4ddc5a9\" y=\"71.892557\"/>\n     <use style=\"fill:#1f77b4;stroke:#1f77b4;\" x=\"140.495463\" xlink:href=\"#m74c4ddc5a9\" y=\"96.490139\"/>\n     <use style=\"fill:#1f77b4;stroke:#1f77b4;\" x=\"138.395566\" xlink:href=\"#m74c4ddc5a9\" y=\"87.505737\"/>\n     <use style=\"fill:#1f77b4;stroke:#1f77b4;\" x=\"137.785997\" xlink:href=\"#m74c4ddc5a9\" y=\"82.534724\"/>\n     <use style=\"fill:#1f77b4;stroke:#1f77b4;\" x=\"133.889304\" xlink:href=\"#m74c4ddc5a9\" y=\"73.097131\"/>\n     <use style=\"fill:#1f77b4;stroke:#1f77b4;\" x=\"129.950498\" xlink:href=\"#m74c4ddc5a9\" y=\"70.92245\"/>\n     <use style=\"fill:#1f77b4;stroke:#1f77b4;\" x=\"140.724528\" xlink:href=\"#m74c4ddc5a9\" y=\"81.577569\"/>\n     <use style=\"fill:#1f77b4;stroke:#1f77b4;\" x=\"158.965364\" xlink:href=\"#m74c4ddc5a9\" y=\"93.842603\"/>\n     <use style=\"fill:#1f77b4;stroke:#1f77b4;\" x=\"160.52432\" xlink:href=\"#m74c4ddc5a9\" y=\"102.016563\"/>\n     <use style=\"fill:#1f77b4;stroke:#1f77b4;\" x=\"123.038073\" xlink:href=\"#m74c4ddc5a9\" y=\"69.060101\"/>\n     <use style=\"fill:#1f77b4;stroke:#1f77b4;\" x=\"108.814627\" xlink:href=\"#m74c4ddc5a9\" y=\"68.565904\"/>\n     <use style=\"fill:#1f77b4;stroke:#1f77b4;\" x=\"164.825218\" xlink:href=\"#m74c4ddc5a9\" y=\"102.747528\"/>\n     <use style=\"fill:#1f77b4;stroke:#1f77b4;\" x=\"156.655808\" xlink:href=\"#m74c4ddc5a9\" y=\"104.236378\"/>\n     <use style=\"fill:#1f77b4;stroke:#1f77b4;\" x=\"138.639655\" xlink:href=\"#m74c4ddc5a9\" y=\"69.115774\"/>\n     <use style=\"fill:#1f77b4;stroke:#1f77b4;\" x=\"127.776256\" xlink:href=\"#m74c4ddc5a9\" y=\"71.097831\"/>\n     <use style=\"fill:#1f77b4;stroke:#1f77b4;\" x=\"193.344754\" xlink:href=\"#m74c4ddc5a9\" y=\"118.690661\"/>\n     <use style=\"fill:#1f77b4;stroke:#1f77b4;\" x=\"144.673139\" xlink:href=\"#m74c4ddc5a9\" y=\"70.554312\"/>\n     <use style=\"fill:#1f77b4;stroke:#1f77b4;\" x=\"198.996073\" xlink:href=\"#m74c4ddc5a9\" y=\"133.041123\"/>\n     <use style=\"fill:#1f77b4;stroke:#1f77b4;\" x=\"141.15925\" xlink:href=\"#m74c4ddc5a9\" y=\"87.219927\"/>\n     <use style=\"fill:#1f77b4;stroke:#1f77b4;\" x=\"128.824776\" xlink:href=\"#m74c4ddc5a9\" y=\"66.283073\"/>\n     <use style=\"fill:#1f77b4;stroke:#1f77b4;\" x=\"139.830718\" xlink:href=\"#m74c4ddc5a9\" y=\"74.536009\"/>\n     <use style=\"fill:#1f77b4;stroke:#1f77b4;\" x=\"115.06789\" xlink:href=\"#m74c4ddc5a9\" y=\"59.252999\"/>\n     <use style=\"fill:#1f77b4;stroke:#1f77b4;\" x=\"101.274269\" xlink:href=\"#m74c4ddc5a9\" y=\"56.579294\"/>\n     <use style=\"fill:#1f77b4;stroke:#1f77b4;\" x=\"122.584006\" xlink:href=\"#m74c4ddc5a9\" y=\"74.053176\"/>\n     <use style=\"fill:#1f77b4;stroke:#1f77b4;\" x=\"125.674898\" xlink:href=\"#m74c4ddc5a9\" y=\"76.133695\"/>\n     <use style=\"fill:#1f77b4;stroke:#1f77b4;\" x=\"112.116109\" xlink:href=\"#m74c4ddc5a9\" y=\"64.713847\"/>\n     <use style=\"fill:#1f77b4;stroke:#1f77b4;\" x=\"156.319002\" xlink:href=\"#m74c4ddc5a9\" y=\"97.209198\"/>\n     <use style=\"fill:#1f77b4;stroke:#1f77b4;\" x=\"115.549538\" xlink:href=\"#m74c4ddc5a9\" y=\"61.861224\"/>\n     <use style=\"fill:#1f77b4;stroke:#1f77b4;\" x=\"175.33167\" xlink:href=\"#m74c4ddc5a9\" y=\"104.443194\"/>\n     <use style=\"fill:#1f77b4;stroke:#1f77b4;\" x=\"127.465153\" xlink:href=\"#m74c4ddc5a9\" y=\"82.606993\"/>\n     <use style=\"fill:#1f77b4;stroke:#1f77b4;\" x=\"149.153481\" xlink:href=\"#m74c4ddc5a9\" y=\"86.420419\"/>\n     <use style=\"fill:#1f77b4;stroke:#1f77b4;\" x=\"174.806632\" xlink:href=\"#m74c4ddc5a9\" y=\"123.880678\"/>\n     <use style=\"fill:#1f77b4;stroke:#1f77b4;\" x=\"151.262701\" xlink:href=\"#m74c4ddc5a9\" y=\"100.902982\"/>\n     <use style=\"fill:#1f77b4;stroke:#1f77b4;\" x=\"165.669423\" xlink:href=\"#m74c4ddc5a9\" y=\"107.635899\"/>\n     <use style=\"fill:#1f77b4;stroke:#1f77b4;\" x=\"176.642459\" xlink:href=\"#m74c4ddc5a9\" y=\"115.332815\"/>\n     <use style=\"fill:#1f77b4;stroke:#1f77b4;\" x=\"131.628649\" xlink:href=\"#m74c4ddc5a9\" y=\"84.037233\"/>\n     <use style=\"fill:#1f77b4;stroke:#1f77b4;\" x=\"167.924238\" xlink:href=\"#m74c4ddc5a9\" y=\"106.37397\"/>\n     <use style=\"fill:#1f77b4;stroke:#1f77b4;\" x=\"104.494442\" xlink:href=\"#m74c4ddc5a9\" y=\"65.837195\"/>\n     <use style=\"fill:#1f77b4;stroke:#1f77b4;\" x=\"154.730985\" xlink:href=\"#m74c4ddc5a9\" y=\"93.286184\"/>\n     <use style=\"fill:#1f77b4;stroke:#1f77b4;\" x=\"173.337501\" xlink:href=\"#m74c4ddc5a9\" y=\"97.294492\"/>\n     <use style=\"fill:#1f77b4;stroke:#1f77b4;\" x=\"174.031972\" xlink:href=\"#m74c4ddc5a9\" y=\"111.186362\"/>\n     <use style=\"fill:#1f77b4;stroke:#1f77b4;\" x=\"155.57521\" xlink:href=\"#m74c4ddc5a9\" y=\"91.414988\"/>\n     <use style=\"fill:#1f77b4;stroke:#1f77b4;\" x=\"125.926031\" xlink:href=\"#m74c4ddc5a9\" y=\"74.202328\"/>\n     <use style=\"fill:#1f77b4;stroke:#1f77b4;\" x=\"142.02712\" xlink:href=\"#m74c4ddc5a9\" y=\"85.71151\"/>\n     <use style=\"fill:#1f77b4;stroke:#1f77b4;\" x=\"142.065849\" xlink:href=\"#m74c4ddc5a9\" y=\"77.398089\"/>\n     <use style=\"fill:#1f77b4;stroke:#1f77b4;\" x=\"134.848587\" xlink:href=\"#m74c4ddc5a9\" y=\"73.024148\"/>\n     <use style=\"fill:#1f77b4;stroke:#1f77b4;\" x=\"118.257251\" xlink:href=\"#m74c4ddc5a9\" y=\"73.147276\"/>\n     <use style=\"fill:#1f77b4;stroke:#1f77b4;\" x=\"117.945069\" xlink:href=\"#m74c4ddc5a9\" y=\"88.734265\"/>\n     <use style=\"fill:#1f77b4;stroke:#1f77b4;\" x=\"109.772055\" xlink:href=\"#m74c4ddc5a9\" y=\"57.638328\"/>\n     <use style=\"fill:#1f77b4;stroke:#1f77b4;\" x=\"159.398184\" xlink:href=\"#m74c4ddc5a9\" y=\"91.510973\"/>\n     <use style=\"fill:#1f77b4;stroke:#1f77b4;\" x=\"189.022188\" xlink:href=\"#m74c4ddc5a9\" y=\"121.723589\"/>\n     <use style=\"fill:#1f77b4;stroke:#1f77b4;\" x=\"154.16805\" xlink:href=\"#m74c4ddc5a9\" y=\"87.502281\"/>\n     <use style=\"fill:#1f77b4;stroke:#1f77b4;\" x=\"120.862692\" xlink:href=\"#m74c4ddc5a9\" y=\"74.352722\"/>\n     <use style=\"fill:#1f77b4;stroke:#1f77b4;\" x=\"145.683804\" xlink:href=\"#m74c4ddc5a9\" y=\"82.145804\"/>\n     <use style=\"fill:#1f77b4;stroke:#1f77b4;\" x=\"157.803006\" xlink:href=\"#m74c4ddc5a9\" y=\"82.856276\"/>\n     <use style=\"fill:#1f77b4;stroke:#1f77b4;\" x=\"172.026473\" xlink:href=\"#m74c4ddc5a9\" y=\"100.361404\"/>\n     <use style=\"fill:#1f77b4;stroke:#1f77b4;\" x=\"100.743952\" xlink:href=\"#m74c4ddc5a9\" y=\"35.895579\"/>\n     <use style=\"fill:#1f77b4;stroke:#1f77b4;\" x=\"110.72574\" xlink:href=\"#m74c4ddc5a9\" y=\"74.737923\"/>\n     <use style=\"fill:#1f77b4;stroke:#1f77b4;\" x=\"120.972667\" xlink:href=\"#m74c4ddc5a9\" y=\"88.488334\"/>\n     <use style=\"fill:#1f77b4;stroke:#1f77b4;\" x=\"124.310597\" xlink:href=\"#m74c4ddc5a9\" y=\"81.941331\"/>\n     <use style=\"fill:#1f77b4;stroke:#1f77b4;\" x=\"154.200548\" xlink:href=\"#m74c4ddc5a9\" y=\"84.274806\"/>\n     <use style=\"fill:#1f77b4;stroke:#1f77b4;\" x=\"160.598103\" xlink:href=\"#m74c4ddc5a9\" y=\"100.721444\"/>\n     <use style=\"fill:#1f77b4;stroke:#1f77b4;\" x=\"134.537616\" xlink:href=\"#m74c4ddc5a9\" y=\"85.467102\"/>\n     <use style=\"fill:#1f77b4;stroke:#1f77b4;\" x=\"130.390368\" xlink:href=\"#m74c4ddc5a9\" y=\"77.854102\"/>\n     <use style=\"fill:#1f77b4;stroke:#1f77b4;\" x=\"135.172972\" xlink:href=\"#m74c4ddc5a9\" y=\"95.530653\"/>\n     <use style=\"fill:#1f77b4;stroke:#1f77b4;\" x=\"108.499999\" xlink:href=\"#m74c4ddc5a9\" y=\"69.183467\"/>\n     <use style=\"fill:#1f77b4;stroke:#1f77b4;\" x=\"131.343906\" xlink:href=\"#m74c4ddc5a9\" y=\"81.493714\"/>\n     <use style=\"fill:#1f77b4;stroke:#1f77b4;\" x=\"159.222449\" xlink:href=\"#m74c4ddc5a9\" y=\"100.634294\"/>\n     <use style=\"fill:#1f77b4;stroke:#1f77b4;\" x=\"162.598699\" xlink:href=\"#m74c4ddc5a9\" y=\"88.104009\"/>\n     <use style=\"fill:#1f77b4;stroke:#1f77b4;\" x=\"144.944027\" xlink:href=\"#m74c4ddc5a9\" y=\"88.21464\"/>\n     <use style=\"fill:#1f77b4;stroke:#1f77b4;\" x=\"202.272275\" xlink:href=\"#m74c4ddc5a9\" y=\"124.535275\"/>\n     <use style=\"fill:#1f77b4;stroke:#1f77b4;\" x=\"151.005231\" xlink:href=\"#m74c4ddc5a9\" y=\"91.879102\"/>\n     <use style=\"fill:#1f77b4;stroke:#1f77b4;\" x=\"115.948577\" xlink:href=\"#m74c4ddc5a9\" y=\"77.731745\"/>\n     <use style=\"fill:#1f77b4;stroke:#1f77b4;\" x=\"148.263522\" xlink:href=\"#m74c4ddc5a9\" y=\"99.756538\"/>\n     <use style=\"fill:#1f77b4;stroke:#1f77b4;\" x=\"124.85495\" xlink:href=\"#m74c4ddc5a9\" y=\"96.92923\"/>\n     <use style=\"fill:#1f77b4;stroke:#1f77b4;\" x=\"150.553471\" xlink:href=\"#m74c4ddc5a9\" y=\"94.541435\"/>\n     <use style=\"fill:#1f77b4;stroke:#1f77b4;\" x=\"158.357725\" xlink:href=\"#m74c4ddc5a9\" y=\"93.850839\"/>\n     <use style=\"fill:#1f77b4;stroke:#1f77b4;\" x=\"177.031536\" xlink:href=\"#m74c4ddc5a9\" y=\"101.160409\"/>\n     <use style=\"fill:#1f77b4;stroke:#1f77b4;\" x=\"186.880343\" xlink:href=\"#m74c4ddc5a9\" y=\"107.886056\"/>\n     <use style=\"fill:#1f77b4;stroke:#1f77b4;\" x=\"162.021952\" xlink:href=\"#m74c4ddc5a9\" y=\"97.868921\"/>\n     <use style=\"fill:#1f77b4;stroke:#1f77b4;\" x=\"91.495862\" xlink:href=\"#m74c4ddc5a9\" y=\"56.26794\"/>\n     <use style=\"fill:#1f77b4;stroke:#1f77b4;\" x=\"155.147278\" xlink:href=\"#m74c4ddc5a9\" y=\"98.601973\"/>\n     <use style=\"fill:#1f77b4;stroke:#1f77b4;\" x=\"174.205412\" xlink:href=\"#m74c4ddc5a9\" y=\"118.801162\"/>\n     <use style=\"fill:#1f77b4;stroke:#1f77b4;\" x=\"90.68165\" xlink:href=\"#m74c4ddc5a9\" y=\"49.049693\"/>\n     <use style=\"fill:#1f77b4;stroke:#1f77b4;\" x=\"151.176126\" xlink:href=\"#m74c4ddc5a9\" y=\"94.591465\"/>\n     <use style=\"fill:#1f77b4;stroke:#1f77b4;\" x=\"140.849362\" xlink:href=\"#m74c4ddc5a9\" y=\"90.375489\"/>\n     <use style=\"fill:#1f77b4;stroke:#1f77b4;\" x=\"114.813209\" xlink:href=\"#m74c4ddc5a9\" y=\"63.060677\"/>\n     <use style=\"fill:#1f77b4;stroke:#1f77b4;\" x=\"191.963072\" xlink:href=\"#m74c4ddc5a9\" y=\"122.202356\"/>\n     <use style=\"fill:#1f77b4;stroke:#1f77b4;\" x=\"148.284061\" xlink:href=\"#m74c4ddc5a9\" y=\"88.570017\"/>\n     <use style=\"fill:#1f77b4;stroke:#1f77b4;\" x=\"175.928152\" xlink:href=\"#m74c4ddc5a9\" y=\"120.550189\"/>\n     <use style=\"fill:#1f77b4;stroke:#1f77b4;\" x=\"106.777169\" xlink:href=\"#m74c4ddc5a9\" y=\"71.405671\"/>\n     <use style=\"fill:#1f77b4;stroke:#1f77b4;\" x=\"146.943411\" xlink:href=\"#m74c4ddc5a9\" y=\"92.946575\"/>\n     <use style=\"fill:#1f77b4;stroke:#1f77b4;\" x=\"164.419461\" xlink:href=\"#m74c4ddc5a9\" y=\"107.637166\"/>\n     <use style=\"fill:#1f77b4;stroke:#1f77b4;\" x=\"133.375482\" xlink:href=\"#m74c4ddc5a9\" y=\"76.385247\"/>\n     <use style=\"fill:#1f77b4;stroke:#1f77b4;\" x=\"108.833975\" xlink:href=\"#m74c4ddc5a9\" y=\"55.641751\"/>\n     <use style=\"fill:#1f77b4;stroke:#1f77b4;\" x=\"149.097482\" xlink:href=\"#m74c4ddc5a9\" y=\"90.277372\"/>\n     <use style=\"fill:#1f77b4;stroke:#1f77b4;\" x=\"91.162642\" xlink:href=\"#m74c4ddc5a9\" y=\"49.337191\"/>\n     <use style=\"fill:#1f77b4;stroke:#1f77b4;\" x=\"86.941712\" xlink:href=\"#m74c4ddc5a9\" y=\"59.850659\"/>\n     <use style=\"fill:#1f77b4;stroke:#1f77b4;\" x=\"150.787047\" xlink:href=\"#m74c4ddc5a9\" y=\"77.256006\"/>\n     <use style=\"fill:#1f77b4;stroke:#1f77b4;\" x=\"160.472417\" xlink:href=\"#m74c4ddc5a9\" y=\"86.236828\"/>\n     <use style=\"fill:#1f77b4;stroke:#1f77b4;\" x=\"58.950524\" xlink:href=\"#m74c4ddc5a9\" y=\"13.678472\"/>\n     <use style=\"fill:#1f77b4;stroke:#1f77b4;\" x=\"185.220565\" xlink:href=\"#m74c4ddc5a9\" y=\"120.854862\"/>\n     <use style=\"fill:#1f77b4;stroke:#1f77b4;\" x=\"113.450984\" xlink:href=\"#m74c4ddc5a9\" y=\"70.302691\"/>\n     <use style=\"fill:#1f77b4;stroke:#1f77b4;\" x=\"146.700678\" xlink:href=\"#m74c4ddc5a9\" y=\"104.599849\"/>\n     <use style=\"fill:#1f77b4;stroke:#1f77b4;\" x=\"145.790488\" xlink:href=\"#m74c4ddc5a9\" y=\"89.685465\"/>\n     <use style=\"fill:#1f77b4;stroke:#1f77b4;\" x=\"167.703392\" xlink:href=\"#m74c4ddc5a9\" y=\"91.384577\"/>\n     <use style=\"fill:#1f77b4;stroke:#1f77b4;\" x=\"115.81067\" xlink:href=\"#m74c4ddc5a9\" y=\"71.948237\"/>\n     <use style=\"fill:#1f77b4;stroke:#1f77b4;\" x=\"153.563753\" xlink:href=\"#m74c4ddc5a9\" y=\"91.022573\"/>\n     <use style=\"fill:#1f77b4;stroke:#1f77b4;\" x=\"179.683126\" xlink:href=\"#m74c4ddc5a9\" y=\"121.417344\"/>\n     <use style=\"fill:#1f77b4;stroke:#1f77b4;\" x=\"166.804844\" xlink:href=\"#m74c4ddc5a9\" y=\"105.008114\"/>\n     <use style=\"fill:#1f77b4;stroke:#1f77b4;\" x=\"158.462083\" xlink:href=\"#m74c4ddc5a9\" y=\"92.713587\"/>\n     <use style=\"fill:#1f77b4;stroke:#1f77b4;\" x=\"168.74432\" xlink:href=\"#m74c4ddc5a9\" y=\"100.141932\"/>\n     <use style=\"fill:#1f77b4;stroke:#1f77b4;\" x=\"116.22698\" xlink:href=\"#m74c4ddc5a9\" y=\"52.07973\"/>\n     <use style=\"fill:#1f77b4;stroke:#1f77b4;\" x=\"92.201911\" xlink:href=\"#m74c4ddc5a9\" y=\"53.696639\"/>\n     <use style=\"fill:#1f77b4;stroke:#1f77b4;\" x=\"199.763514\" xlink:href=\"#m74c4ddc5a9\" y=\"119.743398\"/>\n     <use style=\"fill:#1f77b4;stroke:#1f77b4;\" x=\"132.66521\" xlink:href=\"#m74c4ddc5a9\" y=\"71.40121\"/>\n     <use style=\"fill:#1f77b4;stroke:#1f77b4;\" x=\"175.824119\" xlink:href=\"#m74c4ddc5a9\" y=\"113.892581\"/>\n     <use style=\"fill:#1f77b4;stroke:#1f77b4;\" x=\"132.238896\" xlink:href=\"#m74c4ddc5a9\" y=\"87.822335\"/>\n     <use style=\"fill:#1f77b4;stroke:#1f77b4;\" x=\"143.404086\" xlink:href=\"#m74c4ddc5a9\" y=\"95.015987\"/>\n     <use style=\"fill:#1f77b4;stroke:#1f77b4;\" x=\"136.504524\" xlink:href=\"#m74c4ddc5a9\" y=\"76.664422\"/>\n     <use style=\"fill:#1f77b4;stroke:#1f77b4;\" x=\"127.870241\" xlink:href=\"#m74c4ddc5a9\" y=\"73.591844\"/>\n     <use style=\"fill:#1f77b4;stroke:#1f77b4;\" x=\"130.458096\" xlink:href=\"#m74c4ddc5a9\" y=\"76.964923\"/>\n     <use style=\"fill:#1f77b4;stroke:#1f77b4;\" x=\"112.894967\" xlink:href=\"#m74c4ddc5a9\" y=\"71.705406\"/>\n     <use style=\"fill:#1f77b4;stroke:#1f77b4;\" x=\"123.491896\" xlink:href=\"#m74c4ddc5a9\" y=\"69.157895\"/>\n     <use style=\"fill:#1f77b4;stroke:#1f77b4;\" x=\"108.894875\" xlink:href=\"#m74c4ddc5a9\" y=\"52.786922\"/>\n     <use style=\"fill:#1f77b4;stroke:#1f77b4;\" x=\"107.186291\" xlink:href=\"#m74c4ddc5a9\" y=\"64.622304\"/>\n     <use style=\"fill:#1f77b4;stroke:#1f77b4;\" x=\"139.812424\" xlink:href=\"#m74c4ddc5a9\" y=\"89.818531\"/>\n     <use style=\"fill:#1f77b4;stroke:#1f77b4;\" x=\"135.359273\" xlink:href=\"#m74c4ddc5a9\" y=\"83.664368\"/>\n     <use style=\"fill:#1f77b4;stroke:#1f77b4;\" x=\"137.968466\" xlink:href=\"#m74c4ddc5a9\" y=\"80.894308\"/>\n     <use style=\"fill:#1f77b4;stroke:#1f77b4;\" x=\"149.126571\" xlink:href=\"#m74c4ddc5a9\" y=\"73.800089\"/>\n     <use style=\"fill:#1f77b4;stroke:#1f77b4;\" x=\"145.239236\" xlink:href=\"#m74c4ddc5a9\" y=\"77.357625\"/>\n     <use style=\"fill:#1f77b4;stroke:#1f77b4;\" x=\"111.60319\" xlink:href=\"#m74c4ddc5a9\" y=\"67.216554\"/>\n     <use style=\"fill:#1f77b4;stroke:#1f77b4;\" x=\"147.925842\" xlink:href=\"#m74c4ddc5a9\" y=\"90.67013\"/>\n     <use style=\"fill:#1f77b4;stroke:#1f77b4;\" x=\"127.532887\" xlink:href=\"#m74c4ddc5a9\" y=\"69.738728\"/>\n     <use style=\"fill:#1f77b4;stroke:#1f77b4;\" x=\"181.86352\" xlink:href=\"#m74c4ddc5a9\" y=\"112.765984\"/>\n     <use style=\"fill:#1f77b4;stroke:#1f77b4;\" x=\"168.824408\" xlink:href=\"#m74c4ddc5a9\" y=\"91.039989\"/>\n     <use style=\"fill:#1f77b4;stroke:#1f77b4;\" x=\"69.348548\" xlink:href=\"#m74c4ddc5a9\" y=\"54.045514\"/>\n     <use style=\"fill:#1f77b4;stroke:#1f77b4;\" x=\"109.267235\" xlink:href=\"#m74c4ddc5a9\" y=\"48.009248\"/>\n     <use style=\"fill:#1f77b4;stroke:#1f77b4;\" x=\"147.0288\" xlink:href=\"#m74c4ddc5a9\" y=\"85.903632\"/>\n     <use style=\"fill:#1f77b4;stroke:#1f77b4;\" x=\"131.901736\" xlink:href=\"#m74c4ddc5a9\" y=\"77.157829\"/>\n     <use style=\"fill:#1f77b4;stroke:#1f77b4;\" x=\"131.830198\" xlink:href=\"#m74c4ddc5a9\" y=\"84.008954\"/>\n     <use style=\"fill:#1f77b4;stroke:#1f77b4;\" x=\"190.252631\" xlink:href=\"#m74c4ddc5a9\" y=\"121.80027\"/>\n     <use style=\"fill:#1f77b4;stroke:#1f77b4;\" x=\"201.490986\" xlink:href=\"#m74c4ddc5a9\" y=\"109.445294\"/>\n     <use style=\"fill:#1f77b4;stroke:#1f77b4;\" x=\"140.84307\" xlink:href=\"#m74c4ddc5a9\" y=\"77.049579\"/>\n     <use style=\"fill:#1f77b4;stroke:#1f77b4;\" x=\"169.541316\" xlink:href=\"#m74c4ddc5a9\" y=\"100.68631\"/>\n     <use style=\"fill:#1f77b4;stroke:#1f77b4;\" x=\"148.31886\" xlink:href=\"#m74c4ddc5a9\" y=\"88.519795\"/>\n     <use style=\"fill:#1f77b4;stroke:#1f77b4;\" x=\"184.490517\" xlink:href=\"#m74c4ddc5a9\" y=\"112.480781\"/>\n     <use style=\"fill:#1f77b4;stroke:#1f77b4;\" x=\"157.635815\" xlink:href=\"#m74c4ddc5a9\" y=\"97.636378\"/>\n     <use style=\"fill:#1f77b4;stroke:#1f77b4;\" x=\"172.646925\" xlink:href=\"#m74c4ddc5a9\" y=\"92.146226\"/>\n     <use style=\"fill:#1f77b4;stroke:#1f77b4;\" x=\"163.720174\" xlink:href=\"#m74c4ddc5a9\" y=\"90.860679\"/>\n     <use style=\"fill:#1f77b4;stroke:#1f77b4;\" x=\"155.084568\" xlink:href=\"#m74c4ddc5a9\" y=\"107.143093\"/>\n     <use style=\"fill:#1f77b4;stroke:#1f77b4;\" x=\"140.536231\" xlink:href=\"#m74c4ddc5a9\" y=\"92.087184\"/>\n     <use style=\"fill:#1f77b4;stroke:#1f77b4;\" x=\"146.403924\" xlink:href=\"#m74c4ddc5a9\" y=\"86.584499\"/>\n     <use style=\"fill:#1f77b4;stroke:#1f77b4;\" x=\"148.893894\" xlink:href=\"#m74c4ddc5a9\" y=\"83.182972\"/>\n     <use style=\"fill:#1f77b4;stroke:#1f77b4;\" x=\"150.869491\" xlink:href=\"#m74c4ddc5a9\" y=\"95.503574\"/>\n     <use style=\"fill:#1f77b4;stroke:#1f77b4;\" x=\"142.660192\" xlink:href=\"#m74c4ddc5a9\" y=\"95.141857\"/>\n     <use style=\"fill:#1f77b4;stroke:#1f77b4;\" x=\"215.364915\" xlink:href=\"#m74c4ddc5a9\" y=\"133.057418\"/>\n     <use style=\"fill:#1f77b4;stroke:#1f77b4;\" x=\"136.770405\" xlink:href=\"#m74c4ddc5a9\" y=\"74.341056\"/>\n     <use style=\"fill:#1f77b4;stroke:#1f77b4;\" x=\"110.008977\" xlink:href=\"#m74c4ddc5a9\" y=\"65.401573\"/>\n     <use style=\"fill:#1f77b4;stroke:#1f77b4;\" x=\"119.36029\" xlink:href=\"#m74c4ddc5a9\" y=\"72.891435\"/>\n     <use style=\"fill:#1f77b4;stroke:#1f77b4;\" x=\"201.136985\" xlink:href=\"#m74c4ddc5a9\" y=\"116.715991\"/>\n     <use style=\"fill:#1f77b4;stroke:#1f77b4;\" x=\"144.528903\" xlink:href=\"#m74c4ddc5a9\" y=\"78.610073\"/>\n     <use style=\"fill:#1f77b4;stroke:#1f77b4;\" x=\"121.324487\" xlink:href=\"#m74c4ddc5a9\" y=\"70.414072\"/>\n     <use style=\"fill:#1f77b4;stroke:#1f77b4;\" x=\"173.482328\" xlink:href=\"#m74c4ddc5a9\" y=\"104.805547\"/>\n     <use style=\"fill:#1f77b4;stroke:#1f77b4;\" x=\"159.821462\" xlink:href=\"#m74c4ddc5a9\" y=\"104.646295\"/>\n     <use style=\"fill:#1f77b4;stroke:#1f77b4;\" x=\"174.943954\" xlink:href=\"#m74c4ddc5a9\" y=\"109.112924\"/>\n     <use style=\"fill:#1f77b4;stroke:#1f77b4;\" x=\"94.027928\" xlink:href=\"#m74c4ddc5a9\" y=\"54.466351\"/>\n     <use style=\"fill:#1f77b4;stroke:#1f77b4;\" x=\"117.625001\" xlink:href=\"#m74c4ddc5a9\" y=\"61.855373\"/>\n     <use style=\"fill:#1f77b4;stroke:#1f77b4;\" x=\"173.568882\" xlink:href=\"#m74c4ddc5a9\" y=\"105.010508\"/>\n     <use style=\"fill:#1f77b4;stroke:#1f77b4;\" x=\"196.140027\" xlink:href=\"#m74c4ddc5a9\" y=\"134.842315\"/>\n     <use style=\"fill:#1f77b4;stroke:#1f77b4;\" x=\"165.758251\" xlink:href=\"#m74c4ddc5a9\" y=\"98.11738\"/>\n     <use style=\"fill:#1f77b4;stroke:#1f77b4;\" x=\"166.917557\" xlink:href=\"#m74c4ddc5a9\" y=\"103.022249\"/>\n     <use style=\"fill:#1f77b4;stroke:#1f77b4;\" x=\"199.446816\" xlink:href=\"#m74c4ddc5a9\" y=\"129.411929\"/>\n     <use style=\"fill:#1f77b4;stroke:#1f77b4;\" x=\"174.99536\" xlink:href=\"#m74c4ddc5a9\" y=\"92.661804\"/>\n     <use style=\"fill:#1f77b4;stroke:#1f77b4;\" x=\"202.812118\" xlink:href=\"#m74c4ddc5a9\" y=\"116.50616\"/>\n     <use style=\"fill:#1f77b4;stroke:#1f77b4;\" x=\"160.889649\" xlink:href=\"#m74c4ddc5a9\" y=\"90.33099\"/>\n     <use style=\"fill:#1f77b4;stroke:#1f77b4;\" x=\"201.05498\" xlink:href=\"#m74c4ddc5a9\" y=\"111.478642\"/>\n     <use style=\"fill:#1f77b4;stroke:#1f77b4;\" x=\"160.91823\" xlink:href=\"#m74c4ddc5a9\" y=\"89.611511\"/>\n     <use style=\"fill:#1f77b4;stroke:#1f77b4;\" x=\"153.463323\" xlink:href=\"#m74c4ddc5a9\" y=\"101.165171\"/>\n     <use style=\"fill:#1f77b4;stroke:#1f77b4;\" x=\"173.424561\" xlink:href=\"#m74c4ddc5a9\" y=\"103.711804\"/>\n     <use style=\"fill:#1f77b4;stroke:#1f77b4;\" x=\"136.547223\" xlink:href=\"#m74c4ddc5a9\" y=\"70.04002\"/>\n     <use style=\"fill:#1f77b4;stroke:#1f77b4;\" x=\"162.5598\" xlink:href=\"#m74c4ddc5a9\" y=\"96.070172\"/>\n     <use style=\"fill:#1f77b4;stroke:#1f77b4;\" x=\"134.223317\" xlink:href=\"#m74c4ddc5a9\" y=\"78.454078\"/>\n     <use style=\"fill:#1f77b4;stroke:#1f77b4;\" x=\"141.854054\" xlink:href=\"#m74c4ddc5a9\" y=\"94.979615\"/>\n     <use style=\"fill:#1f77b4;stroke:#1f77b4;\" x=\"142.949802\" xlink:href=\"#m74c4ddc5a9\" y=\"90.778665\"/>\n     <use style=\"fill:#1f77b4;stroke:#1f77b4;\" x=\"151.995674\" xlink:href=\"#m74c4ddc5a9\" y=\"116.550412\"/>\n     <use style=\"fill:#1f77b4;stroke:#1f77b4;\" x=\"138.172757\" xlink:href=\"#m74c4ddc5a9\" y=\"95.258655\"/>\n     <use style=\"fill:#1f77b4;stroke:#1f77b4;\" x=\"140.94594\" xlink:href=\"#m74c4ddc5a9\" y=\"87.18553\"/>\n     <use style=\"fill:#1f77b4;stroke:#1f77b4;\" x=\"177.910162\" xlink:href=\"#m74c4ddc5a9\" y=\"107.66638\"/>\n     <use style=\"fill:#1f77b4;stroke:#1f77b4;\" x=\"129.000954\" xlink:href=\"#m74c4ddc5a9\" y=\"78.74964\"/>\n     <use style=\"fill:#1f77b4;stroke:#1f77b4;\" x=\"156.318736\" xlink:href=\"#m74c4ddc5a9\" y=\"89.583664\"/>\n     <use style=\"fill:#1f77b4;stroke:#1f77b4;\" x=\"173.802664\" xlink:href=\"#m74c4ddc5a9\" y=\"108.196733\"/>\n     <use style=\"fill:#1f77b4;stroke:#1f77b4;\" x=\"153.207649\" xlink:href=\"#m74c4ddc5a9\" y=\"111.135282\"/>\n     <use style=\"fill:#1f77b4;stroke:#1f77b4;\" x=\"115.768209\" xlink:href=\"#m74c4ddc5a9\" y=\"80.909066\"/>\n     <use style=\"fill:#1f77b4;stroke:#1f77b4;\" x=\"135.194561\" xlink:href=\"#m74c4ddc5a9\" y=\"78.29083\"/>\n     <use style=\"fill:#1f77b4;stroke:#1f77b4;\" x=\"126.356955\" xlink:href=\"#m74c4ddc5a9\" y=\"69.299262\"/>\n     <use style=\"fill:#1f77b4;stroke:#1f77b4;\" x=\"181.181846\" xlink:href=\"#m74c4ddc5a9\" y=\"100.986047\"/>\n     <use style=\"fill:#1f77b4;stroke:#1f77b4;\" x=\"150.794404\" xlink:href=\"#m74c4ddc5a9\" y=\"114.595875\"/>\n     <use style=\"fill:#1f77b4;stroke:#1f77b4;\" x=\"127.954612\" xlink:href=\"#m74c4ddc5a9\" y=\"72.848725\"/>\n     <use style=\"fill:#1f77b4;stroke:#1f77b4;\" x=\"159.512932\" xlink:href=\"#m74c4ddc5a9\" y=\"99.622222\"/>\n     <use style=\"fill:#1f77b4;stroke:#1f77b4;\" x=\"142.737987\" xlink:href=\"#m74c4ddc5a9\" y=\"76.290173\"/>\n     <use style=\"fill:#1f77b4;stroke:#1f77b4;\" x=\"114.556411\" xlink:href=\"#m74c4ddc5a9\" y=\"76.744976\"/>\n     <use style=\"fill:#1f77b4;stroke:#1f77b4;\" x=\"127.432657\" xlink:href=\"#m74c4ddc5a9\" y=\"92.523117\"/>\n     <use style=\"fill:#1f77b4;stroke:#1f77b4;\" x=\"154.197583\" xlink:href=\"#m74c4ddc5a9\" y=\"86.076612\"/>\n     <use style=\"fill:#1f77b4;stroke:#1f77b4;\" x=\"106.794126\" xlink:href=\"#m74c4ddc5a9\" y=\"69.080176\"/>\n     <use style=\"fill:#1f77b4;stroke:#1f77b4;\" x=\"158.62099\" xlink:href=\"#m74c4ddc5a9\" y=\"97.424476\"/>\n     <use style=\"fill:#1f77b4;stroke:#1f77b4;\" x=\"143.913418\" xlink:href=\"#m74c4ddc5a9\" y=\"85.484541\"/>\n     <use style=\"fill:#1f77b4;stroke:#1f77b4;\" x=\"119.767023\" xlink:href=\"#m74c4ddc5a9\" y=\"73.224039\"/>\n     <use style=\"fill:#1f77b4;stroke:#1f77b4;\" x=\"135.736379\" xlink:href=\"#m74c4ddc5a9\" y=\"74.600862\"/>\n     <use style=\"fill:#1f77b4;stroke:#1f77b4;\" x=\"83.494746\" xlink:href=\"#m74c4ddc5a9\" y=\"52.854275\"/>\n     <use style=\"fill:#1f77b4;stroke:#1f77b4;\" x=\"159.183441\" xlink:href=\"#m74c4ddc5a9\" y=\"90.555643\"/>\n     <use style=\"fill:#1f77b4;stroke:#1f77b4;\" x=\"92.219888\" xlink:href=\"#m74c4ddc5a9\" y=\"52.802125\"/>\n     <use style=\"fill:#1f77b4;stroke:#1f77b4;\" x=\"97.858671\" xlink:href=\"#m74c4ddc5a9\" y=\"73.708221\"/>\n     <use style=\"fill:#1f77b4;stroke:#1f77b4;\" x=\"147.808318\" xlink:href=\"#m74c4ddc5a9\" y=\"79.633139\"/>\n     <use style=\"fill:#1f77b4;stroke:#1f77b4;\" x=\"116.016883\" xlink:href=\"#m74c4ddc5a9\" y=\"68.014706\"/>\n     <use style=\"fill:#1f77b4;stroke:#1f77b4;\" x=\"138.478016\" xlink:href=\"#m74c4ddc5a9\" y=\"86.397335\"/>\n     <use style=\"fill:#1f77b4;stroke:#1f77b4;\" x=\"114.6134\" xlink:href=\"#m74c4ddc5a9\" y=\"69.801075\"/>\n     <use style=\"fill:#1f77b4;stroke:#1f77b4;\" x=\"143.725596\" xlink:href=\"#m74c4ddc5a9\" y=\"92.020974\"/>\n     <use style=\"fill:#1f77b4;stroke:#1f77b4;\" x=\"80.472146\" xlink:href=\"#m74c4ddc5a9\" y=\"60.890232\"/>\n     <use style=\"fill:#1f77b4;stroke:#1f77b4;\" x=\"145.678595\" xlink:href=\"#m74c4ddc5a9\" y=\"95.779851\"/>\n     <use style=\"fill:#1f77b4;stroke:#1f77b4;\" x=\"129.71241\" xlink:href=\"#m74c4ddc5a9\" y=\"66.497447\"/>\n     <use style=\"fill:#1f77b4;stroke:#1f77b4;\" x=\"89.086834\" xlink:href=\"#m74c4ddc5a9\" y=\"46.435853\"/>\n     <use style=\"fill:#1f77b4;stroke:#1f77b4;\" x=\"136.611365\" xlink:href=\"#m74c4ddc5a9\" y=\"66.201309\"/>\n     <use style=\"fill:#1f77b4;stroke:#1f77b4;\" x=\"162.346785\" xlink:href=\"#m74c4ddc5a9\" y=\"96.246599\"/>\n     <use style=\"fill:#1f77b4;stroke:#1f77b4;\" x=\"131.756131\" xlink:href=\"#m74c4ddc5a9\" y=\"78.51259\"/>\n     <use style=\"fill:#1f77b4;stroke:#1f77b4;\" x=\"122.325184\" xlink:href=\"#m74c4ddc5a9\" y=\"70.488468\"/>\n     <use style=\"fill:#1f77b4;stroke:#1f77b4;\" x=\"131.893877\" xlink:href=\"#m74c4ddc5a9\" y=\"87.746898\"/>\n     <use style=\"fill:#1f77b4;stroke:#1f77b4;\" x=\"127.097568\" xlink:href=\"#m74c4ddc5a9\" y=\"90.29071\"/>\n     <use style=\"fill:#1f77b4;stroke:#1f77b4;\" x=\"101.502775\" xlink:href=\"#m74c4ddc5a9\" y=\"60.67055\"/>\n     <use style=\"fill:#1f77b4;stroke:#1f77b4;\" x=\"170.315208\" xlink:href=\"#m74c4ddc5a9\" y=\"100.586584\"/>\n     <use style=\"fill:#1f77b4;stroke:#1f77b4;\" x=\"160.391703\" xlink:href=\"#m74c4ddc5a9\" y=\"84.474446\"/>\n     <use style=\"fill:#1f77b4;stroke:#1f77b4;\" x=\"171.834266\" xlink:href=\"#m74c4ddc5a9\" y=\"102.22205\"/>\n     <use style=\"fill:#1f77b4;stroke:#1f77b4;\" x=\"139.538748\" xlink:href=\"#m74c4ddc5a9\" y=\"82.204309\"/>\n     <use style=\"fill:#1f77b4;stroke:#1f77b4;\" x=\"156.063475\" xlink:href=\"#m74c4ddc5a9\" y=\"94.814312\"/>\n     <use style=\"fill:#1f77b4;stroke:#1f77b4;\" x=\"145.751528\" xlink:href=\"#m74c4ddc5a9\" y=\"78.629352\"/>\n     <use style=\"fill:#1f77b4;stroke:#1f77b4;\" x=\"134.136065\" xlink:href=\"#m74c4ddc5a9\" y=\"79.97906\"/>\n     <use style=\"fill:#1f77b4;stroke:#1f77b4;\" x=\"124.927765\" xlink:href=\"#m74c4ddc5a9\" y=\"79.470377\"/>\n     <use style=\"fill:#1f77b4;stroke:#1f77b4;\" x=\"103.005326\" xlink:href=\"#m74c4ddc5a9\" y=\"73.325149\"/>\n     <use style=\"fill:#1f77b4;stroke:#1f77b4;\" x=\"140.368991\" xlink:href=\"#m74c4ddc5a9\" y=\"85.90178\"/>\n     <use style=\"fill:#1f77b4;stroke:#1f77b4;\" x=\"181.323817\" xlink:href=\"#m74c4ddc5a9\" y=\"111.160852\"/>\n     <use style=\"fill:#1f77b4;stroke:#1f77b4;\" x=\"163.746354\" xlink:href=\"#m74c4ddc5a9\" y=\"97.22251\"/>\n     <use style=\"fill:#1f77b4;stroke:#1f77b4;\" x=\"104.750734\" xlink:href=\"#m74c4ddc5a9\" y=\"57.761631\"/>\n     <use style=\"fill:#1f77b4;stroke:#1f77b4;\" x=\"112.157021\" xlink:href=\"#m74c4ddc5a9\" y=\"70.853638\"/>\n     <use style=\"fill:#1f77b4;stroke:#1f77b4;\" x=\"168.7163\" xlink:href=\"#m74c4ddc5a9\" y=\"89.217005\"/>\n     <use style=\"fill:#1f77b4;stroke:#1f77b4;\" x=\"146.964539\" xlink:href=\"#m74c4ddc5a9\" y=\"89.680479\"/>\n     <use style=\"fill:#1f77b4;stroke:#1f77b4;\" x=\"139.483173\" xlink:href=\"#m74c4ddc5a9\" y=\"90.259538\"/>\n     <use style=\"fill:#1f77b4;stroke:#1f77b4;\" x=\"172.260124\" xlink:href=\"#m74c4ddc5a9\" y=\"107.441443\"/>\n     <use style=\"fill:#1f77b4;stroke:#1f77b4;\" x=\"37.81946\" xlink:href=\"#m74c4ddc5a9\" y=\"28.12009\"/>\n     <use style=\"fill:#1f77b4;stroke:#1f77b4;\" x=\"121.944369\" xlink:href=\"#m74c4ddc5a9\" y=\"68.442315\"/>\n     <use style=\"fill:#1f77b4;stroke:#1f77b4;\" x=\"133.839211\" xlink:href=\"#m74c4ddc5a9\" y=\"72.178929\"/>\n     <use style=\"fill:#1f77b4;stroke:#1f77b4;\" x=\"166.357847\" xlink:href=\"#m74c4ddc5a9\" y=\"95.286227\"/>\n     <use style=\"fill:#1f77b4;stroke:#1f77b4;\" x=\"140.955656\" xlink:href=\"#m74c4ddc5a9\" y=\"78.082278\"/>\n     <use style=\"fill:#1f77b4;stroke:#1f77b4;\" x=\"146.816519\" xlink:href=\"#m74c4ddc5a9\" y=\"95.849261\"/>\n     <use style=\"fill:#1f77b4;stroke:#1f77b4;\" x=\"159.981022\" xlink:href=\"#m74c4ddc5a9\" y=\"86.421614\"/>\n     <use style=\"fill:#1f77b4;stroke:#1f77b4;\" x=\"119.018887\" xlink:href=\"#m74c4ddc5a9\" y=\"51.088405\"/>\n     <use style=\"fill:#1f77b4;stroke:#1f77b4;\" x=\"147.464047\" xlink:href=\"#m74c4ddc5a9\" y=\"86.804464\"/>\n     <use style=\"fill:#1f77b4;stroke:#1f77b4;\" x=\"165.201429\" xlink:href=\"#m74c4ddc5a9\" y=\"106.772938\"/>\n     <use style=\"fill:#1f77b4;stroke:#1f77b4;\" x=\"133.383801\" xlink:href=\"#m74c4ddc5a9\" y=\"74.964021\"/>\n     <use style=\"fill:#1f77b4;stroke:#1f77b4;\" x=\"104.012695\" xlink:href=\"#m74c4ddc5a9\" y=\"77.703622\"/>\n     <use style=\"fill:#1f77b4;stroke:#1f77b4;\" x=\"135.926448\" xlink:href=\"#m74c4ddc5a9\" y=\"90.545612\"/>\n     <use style=\"fill:#1f77b4;stroke:#1f77b4;\" x=\"157.128091\" xlink:href=\"#m74c4ddc5a9\" y=\"88.829458\"/>\n     <use style=\"fill:#1f77b4;stroke:#1f77b4;\" x=\"110.46083\" xlink:href=\"#m74c4ddc5a9\" y=\"82.273851\"/>\n     <use style=\"fill:#1f77b4;stroke:#1f77b4;\" x=\"113.498021\" xlink:href=\"#m74c4ddc5a9\" y=\"66.661273\"/>\n     <use style=\"fill:#1f77b4;stroke:#1f77b4;\" x=\"133.334378\" xlink:href=\"#m74c4ddc5a9\" y=\"79.303325\"/>\n     <use style=\"fill:#1f77b4;stroke:#1f77b4;\" x=\"181.989283\" xlink:href=\"#m74c4ddc5a9\" y=\"100.648317\"/>\n     <use style=\"fill:#1f77b4;stroke:#1f77b4;\" x=\"135.47341\" xlink:href=\"#m74c4ddc5a9\" y=\"83.761809\"/>\n     <use style=\"fill:#1f77b4;stroke:#1f77b4;\" x=\"175.187219\" xlink:href=\"#m74c4ddc5a9\" y=\"98.712994\"/>\n     <use style=\"fill:#1f77b4;stroke:#1f77b4;\" x=\"135.8874\" xlink:href=\"#m74c4ddc5a9\" y=\"74.143518\"/>\n     <use style=\"fill:#1f77b4;stroke:#1f77b4;\" x=\"171.572819\" xlink:href=\"#m74c4ddc5a9\" y=\"110.469994\"/>\n     <use style=\"fill:#1f77b4;stroke:#1f77b4;\" x=\"171.74464\" xlink:href=\"#m74c4ddc5a9\" y=\"106.882799\"/>\n     <use style=\"fill:#1f77b4;stroke:#1f77b4;\" x=\"135.095721\" xlink:href=\"#m74c4ddc5a9\" y=\"84.530943\"/>\n     <use style=\"fill:#1f77b4;stroke:#1f77b4;\" x=\"126.088052\" xlink:href=\"#m74c4ddc5a9\" y=\"80.288208\"/>\n     <use style=\"fill:#1f77b4;stroke:#1f77b4;\" x=\"175.706968\" xlink:href=\"#m74c4ddc5a9\" y=\"97.28984\"/>\n     <use style=\"fill:#1f77b4;stroke:#1f77b4;\" x=\"111.372673\" xlink:href=\"#m74c4ddc5a9\" y=\"59.546748\"/>\n     <use style=\"fill:#1f77b4;stroke:#1f77b4;\" x=\"159.307932\" xlink:href=\"#m74c4ddc5a9\" y=\"92.100107\"/>\n     <use style=\"fill:#1f77b4;stroke:#1f77b4;\" x=\"178.669398\" xlink:href=\"#m74c4ddc5a9\" y=\"108.530545\"/>\n     <use style=\"fill:#1f77b4;stroke:#1f77b4;\" x=\"130.059006\" xlink:href=\"#m74c4ddc5a9\" y=\"70.180325\"/>\n     <use style=\"fill:#1f77b4;stroke:#1f77b4;\" x=\"166.439336\" xlink:href=\"#m74c4ddc5a9\" y=\"103.782854\"/>\n     <use style=\"fill:#1f77b4;stroke:#1f77b4;\" x=\"153.053313\" xlink:href=\"#m74c4ddc5a9\" y=\"89.704145\"/>\n     <use style=\"fill:#1f77b4;stroke:#1f77b4;\" x=\"114.627192\" xlink:href=\"#m74c4ddc5a9\" y=\"70.460177\"/>\n     <use style=\"fill:#1f77b4;stroke:#1f77b4;\" x=\"200.074336\" xlink:href=\"#m74c4ddc5a9\" y=\"108.296695\"/>\n     <use style=\"fill:#1f77b4;stroke:#1f77b4;\" x=\"140.602105\" xlink:href=\"#m74c4ddc5a9\" y=\"86.864454\"/>\n     <use style=\"fill:#1f77b4;stroke:#1f77b4;\" x=\"164.347805\" xlink:href=\"#m74c4ddc5a9\" y=\"95.097682\"/>\n     <use style=\"fill:#1f77b4;stroke:#1f77b4;\" x=\"119.01828\" xlink:href=\"#m74c4ddc5a9\" y=\"71.038654\"/>\n     <use style=\"fill:#1f77b4;stroke:#1f77b4;\" x=\"157.698152\" xlink:href=\"#m74c4ddc5a9\" y=\"92.539806\"/>\n     <use style=\"fill:#1f77b4;stroke:#1f77b4;\" x=\"154.161842\" xlink:href=\"#m74c4ddc5a9\" y=\"85.204026\"/>\n     <use style=\"fill:#1f77b4;stroke:#1f77b4;\" x=\"98.9349\" xlink:href=\"#m74c4ddc5a9\" y=\"50.932717\"/>\n     <use style=\"fill:#1f77b4;stroke:#1f77b4;\" x=\"115.802555\" xlink:href=\"#m74c4ddc5a9\" y=\"62.587067\"/>\n     <use style=\"fill:#1f77b4;stroke:#1f77b4;\" x=\"77.642708\" xlink:href=\"#m74c4ddc5a9\" y=\"45.013831\"/>\n     <use style=\"fill:#1f77b4;stroke:#1f77b4;\" x=\"142.999478\" xlink:href=\"#m74c4ddc5a9\" y=\"76.309209\"/>\n     <use style=\"fill:#1f77b4;stroke:#1f77b4;\" x=\"175.647544\" xlink:href=\"#m74c4ddc5a9\" y=\"129.849109\"/>\n     <use style=\"fill:#1f77b4;stroke:#1f77b4;\" x=\"99.492124\" xlink:href=\"#m74c4ddc5a9\" y=\"66.855407\"/>\n     <use style=\"fill:#1f77b4;stroke:#1f77b4;\" x=\"167.646143\" xlink:href=\"#m74c4ddc5a9\" y=\"105.851303\"/>\n     <use style=\"fill:#1f77b4;stroke:#1f77b4;\" x=\"123.280685\" xlink:href=\"#m74c4ddc5a9\" y=\"81.585896\"/>\n     <use style=\"fill:#1f77b4;stroke:#1f77b4;\" x=\"130.672462\" xlink:href=\"#m74c4ddc5a9\" y=\"89.083477\"/>\n     <use style=\"fill:#1f77b4;stroke:#1f77b4;\" x=\"84.46181\" xlink:href=\"#m74c4ddc5a9\" y=\"52.592334\"/>\n     <use style=\"fill:#1f77b4;stroke:#1f77b4;\" x=\"153.627452\" xlink:href=\"#m74c4ddc5a9\" y=\"97.046699\"/>\n     <use style=\"fill:#1f77b4;stroke:#1f77b4;\" x=\"153.298138\" xlink:href=\"#m74c4ddc5a9\" y=\"94.02584\"/>\n     <use style=\"fill:#1f77b4;stroke:#1f77b4;\" x=\"186.950932\" xlink:href=\"#m74c4ddc5a9\" y=\"107.161063\"/>\n     <use style=\"fill:#1f77b4;stroke:#1f77b4;\" x=\"122.389954\" xlink:href=\"#m74c4ddc5a9\" y=\"65.145959\"/>\n     <use style=\"fill:#1f77b4;stroke:#1f77b4;\" x=\"158.116021\" xlink:href=\"#m74c4ddc5a9\" y=\"86.541725\"/>\n     <use style=\"fill:#1f77b4;stroke:#1f77b4;\" x=\"148.401245\" xlink:href=\"#m74c4ddc5a9\" y=\"81.163054\"/>\n     <use style=\"fill:#1f77b4;stroke:#1f77b4;\" x=\"120.183027\" xlink:href=\"#m74c4ddc5a9\" y=\"46.279631\"/>\n     <use style=\"fill:#1f77b4;stroke:#1f77b4;\" x=\"194.697357\" xlink:href=\"#m74c4ddc5a9\" y=\"113.829851\"/>\n     <use style=\"fill:#1f77b4;stroke:#1f77b4;\" x=\"131.209807\" xlink:href=\"#m74c4ddc5a9\" y=\"84.154987\"/>\n     <use style=\"fill:#1f77b4;stroke:#1f77b4;\" x=\"83.122315\" xlink:href=\"#m74c4ddc5a9\" y=\"54.926778\"/>\n     <use style=\"fill:#1f77b4;stroke:#1f77b4;\" x=\"132.785505\" xlink:href=\"#m74c4ddc5a9\" y=\"94.54812\"/>\n     <use style=\"fill:#1f77b4;stroke:#1f77b4;\" x=\"123.01938\" xlink:href=\"#m74c4ddc5a9\" y=\"73.489484\"/>\n     <use style=\"fill:#1f77b4;stroke:#1f77b4;\" x=\"171.149567\" xlink:href=\"#m74c4ddc5a9\" y=\"86.348286\"/>\n     <use style=\"fill:#1f77b4;stroke:#1f77b4;\" x=\"179.782853\" xlink:href=\"#m74c4ddc5a9\" y=\"118.82958\"/>\n     <use style=\"fill:#1f77b4;stroke:#1f77b4;\" x=\"120.122275\" xlink:href=\"#m74c4ddc5a9\" y=\"68.222971\"/>\n     <use style=\"fill:#1f77b4;stroke:#1f77b4;\" x=\"98.157364\" xlink:href=\"#m74c4ddc5a9\" y=\"35.903516\"/>\n     <use style=\"fill:#1f77b4;stroke:#1f77b4;\" x=\"127.103079\" xlink:href=\"#m74c4ddc5a9\" y=\"89.172624\"/>\n     <use style=\"fill:#1f77b4;stroke:#1f77b4;\" x=\"93.849501\" xlink:href=\"#m74c4ddc5a9\" y=\"58.221435\"/>\n     <use style=\"fill:#1f77b4;stroke:#1f77b4;\" x=\"151.81465\" xlink:href=\"#m74c4ddc5a9\" y=\"84.475681\"/>\n     <use style=\"fill:#1f77b4;stroke:#1f77b4;\" x=\"119.72868\" xlink:href=\"#m74c4ddc5a9\" y=\"72.099072\"/>\n     <use style=\"fill:#1f77b4;stroke:#1f77b4;\" x=\"153.925345\" xlink:href=\"#m74c4ddc5a9\" y=\"99.641136\"/>\n     <use style=\"fill:#1f77b4;stroke:#1f77b4;\" x=\"122.839679\" xlink:href=\"#m74c4ddc5a9\" y=\"53.890275\"/>\n     <use style=\"fill:#1f77b4;stroke:#1f77b4;\" x=\"111.570753\" xlink:href=\"#m74c4ddc5a9\" y=\"67.912871\"/>\n     <use style=\"fill:#1f77b4;stroke:#1f77b4;\" x=\"127.995625\" xlink:href=\"#m74c4ddc5a9\" y=\"72.090827\"/>\n     <use style=\"fill:#1f77b4;stroke:#1f77b4;\" x=\"106.217148\" xlink:href=\"#m74c4ddc5a9\" y=\"69.559205\"/>\n     <use style=\"fill:#1f77b4;stroke:#1f77b4;\" x=\"140.017675\" xlink:href=\"#m74c4ddc5a9\" y=\"86.676952\"/>\n     <use style=\"fill:#1f77b4;stroke:#1f77b4;\" x=\"117.315363\" xlink:href=\"#m74c4ddc5a9\" y=\"67.402399\"/>\n     <use style=\"fill:#1f77b4;stroke:#1f77b4;\" x=\"160.591478\" xlink:href=\"#m74c4ddc5a9\" y=\"102.316856\"/>\n     <use style=\"fill:#1f77b4;stroke:#1f77b4;\" x=\"131.940026\" xlink:href=\"#m74c4ddc5a9\" y=\"71.816818\"/>\n     <use style=\"fill:#1f77b4;stroke:#1f77b4;\" x=\"196.435527\" xlink:href=\"#m74c4ddc5a9\" y=\"113.227012\"/>\n     <use style=\"fill:#1f77b4;stroke:#1f77b4;\" x=\"143.828881\" xlink:href=\"#m74c4ddc5a9\" y=\"64.067179\"/>\n     <use style=\"fill:#1f77b4;stroke:#1f77b4;\" x=\"135.390436\" xlink:href=\"#m74c4ddc5a9\" y=\"83.615789\"/>\n     <use style=\"fill:#1f77b4;stroke:#1f77b4;\" x=\"133.062795\" xlink:href=\"#m74c4ddc5a9\" y=\"77.83958\"/>\n     <use style=\"fill:#1f77b4;stroke:#1f77b4;\" x=\"127.81454\" xlink:href=\"#m74c4ddc5a9\" y=\"74.922463\"/>\n     <use style=\"fill:#1f77b4;stroke:#1f77b4;\" x=\"152.288851\" xlink:href=\"#m74c4ddc5a9\" y=\"88.7893\"/>\n     <use style=\"fill:#1f77b4;stroke:#1f77b4;\" x=\"153.95486\" xlink:href=\"#m74c4ddc5a9\" y=\"77.353345\"/>\n     <use style=\"fill:#1f77b4;stroke:#1f77b4;\" x=\"125.535397\" xlink:href=\"#m74c4ddc5a9\" y=\"73.368767\"/>\n     <use style=\"fill:#1f77b4;stroke:#1f77b4;\" x=\"161.687752\" xlink:href=\"#m74c4ddc5a9\" y=\"92.813492\"/>\n     <use style=\"fill:#1f77b4;stroke:#1f77b4;\" x=\"202.540185\" xlink:href=\"#m74c4ddc5a9\" y=\"127.395697\"/>\n     <use style=\"fill:#1f77b4;stroke:#1f77b4;\" x=\"106.4824\" xlink:href=\"#m74c4ddc5a9\" y=\"51.740839\"/>\n     <use style=\"fill:#1f77b4;stroke:#1f77b4;\" x=\"144.095539\" xlink:href=\"#m74c4ddc5a9\" y=\"86.96203\"/>\n     <use style=\"fill:#1f77b4;stroke:#1f77b4;\" x=\"126.002017\" xlink:href=\"#m74c4ddc5a9\" y=\"72.573614\"/>\n     <use style=\"fill:#1f77b4;stroke:#1f77b4;\" x=\"201.954091\" xlink:href=\"#m74c4ddc5a9\" y=\"99.515643\"/>\n     <use style=\"fill:#1f77b4;stroke:#1f77b4;\" x=\"130.671092\" xlink:href=\"#m74c4ddc5a9\" y=\"92.159466\"/>\n     <use style=\"fill:#1f77b4;stroke:#1f77b4;\" x=\"164.030624\" xlink:href=\"#m74c4ddc5a9\" y=\"88.83221\"/>\n     <use style=\"fill:#1f77b4;stroke:#1f77b4;\" x=\"108.980444\" xlink:href=\"#m74c4ddc5a9\" y=\"59.081147\"/>\n     <use style=\"fill:#1f77b4;stroke:#1f77b4;\" x=\"134.217046\" xlink:href=\"#m74c4ddc5a9\" y=\"66.139549\"/>\n     <use style=\"fill:#1f77b4;stroke:#1f77b4;\" x=\"148.038514\" xlink:href=\"#m74c4ddc5a9\" y=\"94.323539\"/>\n     <use style=\"fill:#1f77b4;stroke:#1f77b4;\" x=\"102.783458\" xlink:href=\"#m74c4ddc5a9\" y=\"52.911995\"/>\n     <use style=\"fill:#1f77b4;stroke:#1f77b4;\" x=\"182.097047\" xlink:href=\"#m74c4ddc5a9\" y=\"119.083389\"/>\n     <use style=\"fill:#1f77b4;stroke:#1f77b4;\" x=\"137.699164\" xlink:href=\"#m74c4ddc5a9\" y=\"90.239428\"/>\n     <use style=\"fill:#1f77b4;stroke:#1f77b4;\" x=\"142.425923\" xlink:href=\"#m74c4ddc5a9\" y=\"92.716718\"/>\n     <use style=\"fill:#1f77b4;stroke:#1f77b4;\" x=\"145.845034\" xlink:href=\"#m74c4ddc5a9\" y=\"83.55953\"/>\n     <use style=\"fill:#1f77b4;stroke:#1f77b4;\" x=\"125.945335\" xlink:href=\"#m74c4ddc5a9\" y=\"63.501296\"/>\n     <use style=\"fill:#1f77b4;stroke:#1f77b4;\" x=\"115.419671\" xlink:href=\"#m74c4ddc5a9\" y=\"69.963309\"/>\n     <use style=\"fill:#1f77b4;stroke:#1f77b4;\" x=\"131.999103\" xlink:href=\"#m74c4ddc5a9\" y=\"67.358445\"/>\n     <use style=\"fill:#1f77b4;stroke:#1f77b4;\" x=\"105.808032\" xlink:href=\"#m74c4ddc5a9\" y=\"67.829844\"/>\n     <use style=\"fill:#1f77b4;stroke:#1f77b4;\" x=\"135.889777\" xlink:href=\"#m74c4ddc5a9\" y=\"87.5553\"/>\n     <use style=\"fill:#1f77b4;stroke:#1f77b4;\" x=\"148.798623\" xlink:href=\"#m74c4ddc5a9\" y=\"95.108413\"/>\n     <use style=\"fill:#1f77b4;stroke:#1f77b4;\" x=\"155.792466\" xlink:href=\"#m74c4ddc5a9\" y=\"93.465073\"/>\n     <use style=\"fill:#1f77b4;stroke:#1f77b4;\" x=\"164.768768\" xlink:href=\"#m74c4ddc5a9\" y=\"98.090791\"/>\n     <use style=\"fill:#1f77b4;stroke:#1f77b4;\" x=\"154.143567\" xlink:href=\"#m74c4ddc5a9\" y=\"98.287187\"/>\n     <use style=\"fill:#1f77b4;stroke:#1f77b4;\" x=\"141.62578\" xlink:href=\"#m74c4ddc5a9\" y=\"78.045785\"/>\n     <use style=\"fill:#1f77b4;stroke:#1f77b4;\" x=\"185.983284\" xlink:href=\"#m74c4ddc5a9\" y=\"137.223926\"/>\n     <use style=\"fill:#1f77b4;stroke:#1f77b4;\" x=\"91.938266\" xlink:href=\"#m74c4ddc5a9\" y=\"44.658162\"/>\n     <use style=\"fill:#1f77b4;stroke:#1f77b4;\" x=\"131.15639\" xlink:href=\"#m74c4ddc5a9\" y=\"86.962295\"/>\n     <use style=\"fill:#1f77b4;stroke:#1f77b4;\" x=\"155.500792\" xlink:href=\"#m74c4ddc5a9\" y=\"89.14031\"/>\n     <use style=\"fill:#1f77b4;stroke:#1f77b4;\" x=\"102.851388\" xlink:href=\"#m74c4ddc5a9\" y=\"46.966756\"/>\n     <use style=\"fill:#1f77b4;stroke:#1f77b4;\" x=\"137.405256\" xlink:href=\"#m74c4ddc5a9\" y=\"84.591862\"/>\n     <use style=\"fill:#1f77b4;stroke:#1f77b4;\" x=\"111.243879\" xlink:href=\"#m74c4ddc5a9\" y=\"66.814959\"/>\n     <use style=\"fill:#1f77b4;stroke:#1f77b4;\" x=\"145.771999\" xlink:href=\"#m74c4ddc5a9\" y=\"91.653606\"/>\n     <use style=\"fill:#1f77b4;stroke:#1f77b4;\" x=\"135.341629\" xlink:href=\"#m74c4ddc5a9\" y=\"89.950325\"/>\n     <use style=\"fill:#1f77b4;stroke:#1f77b4;\" x=\"131.785883\" xlink:href=\"#m74c4ddc5a9\" y=\"79.140549\"/>\n     <use style=\"fill:#1f77b4;stroke:#1f77b4;\" x=\"127.400619\" xlink:href=\"#m74c4ddc5a9\" y=\"71.729984\"/>\n     <use style=\"fill:#1f77b4;stroke:#1f77b4;\" x=\"163.476625\" xlink:href=\"#m74c4ddc5a9\" y=\"99.085753\"/>\n     <use style=\"fill:#1f77b4;stroke:#1f77b4;\" x=\"137.675457\" xlink:href=\"#m74c4ddc5a9\" y=\"70.4058\"/>\n     <use style=\"fill:#1f77b4;stroke:#1f77b4;\" x=\"154.339624\" xlink:href=\"#m74c4ddc5a9\" y=\"100.428385\"/>\n     <use style=\"fill:#1f77b4;stroke:#1f77b4;\" x=\"114.322915\" xlink:href=\"#m74c4ddc5a9\" y=\"56.332374\"/>\n     <use style=\"fill:#1f77b4;stroke:#1f77b4;\" x=\"172.845158\" xlink:href=\"#m74c4ddc5a9\" y=\"104.892492\"/>\n     <use style=\"fill:#1f77b4;stroke:#1f77b4;\" x=\"151.784772\" xlink:href=\"#m74c4ddc5a9\" y=\"85.062309\"/>\n     <use style=\"fill:#1f77b4;stroke:#1f77b4;\" x=\"130.433223\" xlink:href=\"#m74c4ddc5a9\" y=\"86.753639\"/>\n     <use style=\"fill:#1f77b4;stroke:#1f77b4;\" x=\"130.436153\" xlink:href=\"#m74c4ddc5a9\" y=\"87.108942\"/>\n     <use style=\"fill:#1f77b4;stroke:#1f77b4;\" x=\"109.222343\" xlink:href=\"#m74c4ddc5a9\" y=\"68.411497\"/>\n     <use style=\"fill:#1f77b4;stroke:#1f77b4;\" x=\"157.184548\" xlink:href=\"#m74c4ddc5a9\" y=\"82.698775\"/>\n     <use style=\"fill:#1f77b4;stroke:#1f77b4;\" x=\"105.770658\" xlink:href=\"#m74c4ddc5a9\" y=\"59.994009\"/>\n     <use style=\"fill:#1f77b4;stroke:#1f77b4;\" x=\"173.44699\" xlink:href=\"#m74c4ddc5a9\" y=\"96.64037\"/>\n     <use style=\"fill:#1f77b4;stroke:#1f77b4;\" x=\"130.036961\" xlink:href=\"#m74c4ddc5a9\" y=\"68.765687\"/>\n     <use style=\"fill:#1f77b4;stroke:#1f77b4;\" x=\"145.91137\" xlink:href=\"#m74c4ddc5a9\" y=\"76.215768\"/>\n     <use style=\"fill:#1f77b4;stroke:#1f77b4;\" x=\"106.268314\" xlink:href=\"#m74c4ddc5a9\" y=\"70.483111\"/>\n     <use style=\"fill:#1f77b4;stroke:#1f77b4;\" x=\"107.933962\" xlink:href=\"#m74c4ddc5a9\" y=\"67.959542\"/>\n     <use style=\"fill:#1f77b4;stroke:#1f77b4;\" x=\"165.292959\" xlink:href=\"#m74c4ddc5a9\" y=\"104.765306\"/>\n     <use style=\"fill:#1f77b4;stroke:#1f77b4;\" x=\"173.093017\" xlink:href=\"#m74c4ddc5a9\" y=\"98.082104\"/>\n     <use style=\"fill:#1f77b4;stroke:#1f77b4;\" x=\"193.403382\" xlink:href=\"#m74c4ddc5a9\" y=\"125.416851\"/>\n     <use style=\"fill:#1f77b4;stroke:#1f77b4;\" x=\"137.957914\" xlink:href=\"#m74c4ddc5a9\" y=\"88.702414\"/>\n     <use style=\"fill:#1f77b4;stroke:#1f77b4;\" x=\"190.976247\" xlink:href=\"#m74c4ddc5a9\" y=\"119.00796\"/>\n     <use style=\"fill:#1f77b4;stroke:#1f77b4;\" x=\"102.942528\" xlink:href=\"#m74c4ddc5a9\" y=\"55.745259\"/>\n     <use style=\"fill:#1f77b4;stroke:#1f77b4;\" x=\"145.473424\" xlink:href=\"#m74c4ddc5a9\" y=\"85.547371\"/>\n     <use style=\"fill:#1f77b4;stroke:#1f77b4;\" x=\"141.934914\" xlink:href=\"#m74c4ddc5a9\" y=\"62.375683\"/>\n     <use style=\"fill:#1f77b4;stroke:#1f77b4;\" x=\"126.391898\" xlink:href=\"#m74c4ddc5a9\" y=\"77.9647\"/>\n     <use style=\"fill:#1f77b4;stroke:#1f77b4;\" x=\"107.196209\" xlink:href=\"#m74c4ddc5a9\" y=\"67.862388\"/>\n     <use style=\"fill:#1f77b4;stroke:#1f77b4;\" x=\"145.202775\" xlink:href=\"#m74c4ddc5a9\" y=\"74.927544\"/>\n     <use style=\"fill:#1f77b4;stroke:#1f77b4;\" x=\"131.738786\" xlink:href=\"#m74c4ddc5a9\" y=\"94.051273\"/>\n     <use style=\"fill:#1f77b4;stroke:#1f77b4;\" x=\"140.604768\" xlink:href=\"#m74c4ddc5a9\" y=\"89.354592\"/>\n     <use style=\"fill:#1f77b4;stroke:#1f77b4;\" x=\"145.003352\" xlink:href=\"#m74c4ddc5a9\" y=\"85.372342\"/>\n     <use style=\"fill:#1f77b4;stroke:#1f77b4;\" x=\"131.206681\" xlink:href=\"#m74c4ddc5a9\" y=\"77.118342\"/>\n     <use style=\"fill:#1f77b4;stroke:#1f77b4;\" x=\"136.945809\" xlink:href=\"#m74c4ddc5a9\" y=\"83.61897\"/>\n     <use style=\"fill:#1f77b4;stroke:#1f77b4;\" x=\"76.686451\" xlink:href=\"#m74c4ddc5a9\" y=\"36.052727\"/>\n     <use style=\"fill:#1f77b4;stroke:#1f77b4;\" x=\"134.184647\" xlink:href=\"#m74c4ddc5a9\" y=\"85.116465\"/>\n     <use style=\"fill:#1f77b4;stroke:#1f77b4;\" x=\"139.422129\" xlink:href=\"#m74c4ddc5a9\" y=\"77.119443\"/>\n     <use style=\"fill:#1f77b4;stroke:#1f77b4;\" x=\"128.729604\" xlink:href=\"#m74c4ddc5a9\" y=\"70.33461\"/>\n     <use style=\"fill:#1f77b4;stroke:#1f77b4;\" x=\"114.293929\" xlink:href=\"#m74c4ddc5a9\" y=\"61.359935\"/>\n     <use style=\"fill:#1f77b4;stroke:#1f77b4;\" x=\"164.023181\" xlink:href=\"#m74c4ddc5a9\" y=\"92.865752\"/>\n     <use style=\"fill:#1f77b4;stroke:#1f77b4;\" x=\"144.535539\" xlink:href=\"#m74c4ddc5a9\" y=\"94.358453\"/>\n     <use style=\"fill:#1f77b4;stroke:#1f77b4;\" x=\"132.497123\" xlink:href=\"#m74c4ddc5a9\" y=\"89.272145\"/>\n     <use style=\"fill:#1f77b4;stroke:#1f77b4;\" x=\"181.755016\" xlink:href=\"#m74c4ddc5a9\" y=\"114.46397\"/>\n     <use style=\"fill:#1f77b4;stroke:#1f77b4;\" x=\"147.272955\" xlink:href=\"#m74c4ddc5a9\" y=\"91.166816\"/>\n     <use style=\"fill:#1f77b4;stroke:#1f77b4;\" x=\"166.52868\" xlink:href=\"#m74c4ddc5a9\" y=\"102.629912\"/>\n     <use style=\"fill:#1f77b4;stroke:#1f77b4;\" x=\"150.410963\" xlink:href=\"#m74c4ddc5a9\" y=\"65.380991\"/>\n     <use style=\"fill:#1f77b4;stroke:#1f77b4;\" x=\"129.373701\" xlink:href=\"#m74c4ddc5a9\" y=\"82.006706\"/>\n     <use style=\"fill:#1f77b4;stroke:#1f77b4;\" x=\"140.557987\" xlink:href=\"#m74c4ddc5a9\" y=\"54.599718\"/>\n    </g>\n   </g>\n   <g id=\"matplotlib.axis_1\">\n    <g id=\"xtick_1\">\n     <g id=\"line2d_1\">\n      <defs>\n       <path d=\"M 0 0 \nL 0 3.5 \n\" id=\"m3e4dadfb28\" style=\"stroke:#000000;stroke-width:0.8;\"/>\n      </defs>\n      <g>\n       <use style=\"stroke:#000000;stroke-width:0.8;\" x=\"38.448628\" xlink:href=\"#m3e4dadfb28\" y=\"143.401199\"/>\n      </g>\n     </g>\n     <g id=\"text_1\">\n      <!-- −4 -->\n      <defs>\n       <path d=\"M 10.59375 35.5 \nL 73.1875 35.5 \nL 73.1875 27.203125 \nL 10.59375 27.203125 \nz\n\" id=\"DejaVuSans-8722\"/>\n       <path d=\"M 37.796875 64.3125 \nL 12.890625 25.390625 \nL 37.796875 25.390625 \nz\nM 35.203125 72.90625 \nL 47.609375 72.90625 \nL 47.609375 25.390625 \nL 58.015625 25.390625 \nL 58.015625 17.1875 \nL 47.609375 17.1875 \nL 47.609375 0 \nL 37.796875 0 \nL 37.796875 17.1875 \nL 4.890625 17.1875 \nL 4.890625 26.703125 \nz\n\" id=\"DejaVuSans-52\"/>\n      </defs>\n      <g transform=\"translate(31.077534 157.999637)scale(0.1 -0.1)\">\n       <use xlink:href=\"#DejaVuSans-8722\"/>\n       <use x=\"83.789062\" xlink:href=\"#DejaVuSans-52\"/>\n      </g>\n     </g>\n    </g>\n    <g id=\"xtick_2\">\n     <g id=\"line2d_2\">\n      <g>\n       <use style=\"stroke:#000000;stroke-width:0.8;\" x=\"90.61048\" xlink:href=\"#m3e4dadfb28\" y=\"143.401199\"/>\n      </g>\n     </g>\n     <g id=\"text_2\">\n      <!-- −2 -->\n      <defs>\n       <path d=\"M 19.1875 8.296875 \nL 53.609375 8.296875 \nL 53.609375 0 \nL 7.328125 0 \nL 7.328125 8.296875 \nQ 12.9375 14.109375 22.625 23.890625 \nQ 32.328125 33.6875 34.8125 36.53125 \nQ 39.546875 41.84375 41.421875 45.53125 \nQ 43.3125 49.21875 43.3125 52.78125 \nQ 43.3125 58.59375 39.234375 62.25 \nQ 35.15625 65.921875 28.609375 65.921875 \nQ 23.96875 65.921875 18.8125 64.3125 \nQ 13.671875 62.703125 7.8125 59.421875 \nL 7.8125 69.390625 \nQ 13.765625 71.78125 18.9375 73 \nQ 24.125 74.21875 28.421875 74.21875 \nQ 39.75 74.21875 46.484375 68.546875 \nQ 53.21875 62.890625 53.21875 53.421875 \nQ 53.21875 48.921875 51.53125 44.890625 \nQ 49.859375 40.875 45.40625 35.40625 \nQ 44.1875 33.984375 37.640625 27.21875 \nQ 31.109375 20.453125 19.1875 8.296875 \nz\n\" id=\"DejaVuSans-50\"/>\n      </defs>\n      <g transform=\"translate(83.239387 157.999637)scale(0.1 -0.1)\">\n       <use xlink:href=\"#DejaVuSans-8722\"/>\n       <use x=\"83.789062\" xlink:href=\"#DejaVuSans-50\"/>\n      </g>\n     </g>\n    </g>\n    <g id=\"xtick_3\">\n     <g id=\"line2d_3\">\n      <g>\n       <use style=\"stroke:#000000;stroke-width:0.8;\" x=\"142.772333\" xlink:href=\"#m3e4dadfb28\" y=\"143.401199\"/>\n      </g>\n     </g>\n     <g id=\"text_3\">\n      <!-- 0 -->\n      <defs>\n       <path d=\"M 31.78125 66.40625 \nQ 24.171875 66.40625 20.328125 58.90625 \nQ 16.5 51.421875 16.5 36.375 \nQ 16.5 21.390625 20.328125 13.890625 \nQ 24.171875 6.390625 31.78125 6.390625 \nQ 39.453125 6.390625 43.28125 13.890625 \nQ 47.125 21.390625 47.125 36.375 \nQ 47.125 51.421875 43.28125 58.90625 \nQ 39.453125 66.40625 31.78125 66.40625 \nz\nM 31.78125 74.21875 \nQ 44.046875 74.21875 50.515625 64.515625 \nQ 56.984375 54.828125 56.984375 36.375 \nQ 56.984375 17.96875 50.515625 8.265625 \nQ 44.046875 -1.421875 31.78125 -1.421875 \nQ 19.53125 -1.421875 13.0625 8.265625 \nQ 6.59375 17.96875 6.59375 36.375 \nQ 6.59375 54.828125 13.0625 64.515625 \nQ 19.53125 74.21875 31.78125 74.21875 \nz\n\" id=\"DejaVuSans-48\"/>\n      </defs>\n      <g transform=\"translate(139.591083 157.999637)scale(0.1 -0.1)\">\n       <use xlink:href=\"#DejaVuSans-48\"/>\n      </g>\n     </g>\n    </g>\n    <g id=\"xtick_4\">\n     <g id=\"line2d_4\">\n      <g>\n       <use style=\"stroke:#000000;stroke-width:0.8;\" x=\"194.934185\" xlink:href=\"#m3e4dadfb28\" y=\"143.401199\"/>\n      </g>\n     </g>\n     <g id=\"text_4\">\n      <!-- 2 -->\n      <g transform=\"translate(191.752935 157.999637)scale(0.1 -0.1)\">\n       <use xlink:href=\"#DejaVuSans-50\"/>\n      </g>\n     </g>\n    </g>\n   </g>\n   <g id=\"matplotlib.axis_2\">\n    <g id=\"ytick_1\">\n     <g id=\"line2d_5\">\n      <defs>\n       <path d=\"M 0 0 \nL -3.5 0 \n\" id=\"m938810c34e\" style=\"stroke:#000000;stroke-width:0.8;\"/>\n      </defs>\n      <g>\n       <use style=\"stroke:#000000;stroke-width:0.8;\" x=\"28.942188\" xlink:href=\"#m938810c34e\" y=\"127.633799\"/>\n      </g>\n     </g>\n     <g id=\"text_5\">\n      <!-- −5 -->\n      <defs>\n       <path d=\"M 10.796875 72.90625 \nL 49.515625 72.90625 \nL 49.515625 64.59375 \nL 19.828125 64.59375 \nL 19.828125 46.734375 \nQ 21.96875 47.46875 24.109375 47.828125 \nQ 26.265625 48.1875 28.421875 48.1875 \nQ 40.625 48.1875 47.75 41.5 \nQ 54.890625 34.8125 54.890625 23.390625 \nQ 54.890625 11.625 47.5625 5.09375 \nQ 40.234375 -1.421875 26.90625 -1.421875 \nQ 22.3125 -1.421875 17.546875 -0.640625 \nQ 12.796875 0.140625 7.71875 1.703125 \nL 7.71875 11.625 \nQ 12.109375 9.234375 16.796875 8.0625 \nQ 21.484375 6.890625 26.703125 6.890625 \nQ 35.15625 6.890625 40.078125 11.328125 \nQ 45.015625 15.765625 45.015625 23.390625 \nQ 45.015625 31 40.078125 35.4375 \nQ 35.15625 39.890625 26.703125 39.890625 \nQ 22.75 39.890625 18.8125 39.015625 \nQ 14.890625 38.140625 10.796875 36.28125 \nz\n\" id=\"DejaVuSans-53\"/>\n      </defs>\n      <g transform=\"translate(7.2 131.433018)scale(0.1 -0.1)\">\n       <use xlink:href=\"#DejaVuSans-8722\"/>\n       <use x=\"83.789062\" xlink:href=\"#DejaVuSans-53\"/>\n      </g>\n     </g>\n    </g>\n    <g id=\"ytick_2\">\n     <g id=\"line2d_6\">\n      <g>\n       <use style=\"stroke:#000000;stroke-width:0.8;\" x=\"28.942188\" xlink:href=\"#m938810c34e\" y=\"104.306883\"/>\n      </g>\n     </g>\n     <g id=\"text_6\">\n      <!-- 0 -->\n      <g transform=\"translate(15.579688 108.106102)scale(0.1 -0.1)\">\n       <use xlink:href=\"#DejaVuSans-48\"/>\n      </g>\n     </g>\n    </g>\n    <g id=\"ytick_3\">\n     <g id=\"line2d_7\">\n      <g>\n       <use style=\"stroke:#000000;stroke-width:0.8;\" x=\"28.942188\" xlink:href=\"#m938810c34e\" y=\"80.979967\"/>\n      </g>\n     </g>\n     <g id=\"text_7\">\n      <!-- 5 -->\n      <g transform=\"translate(15.579688 84.779186)scale(0.1 -0.1)\">\n       <use xlink:href=\"#DejaVuSans-53\"/>\n      </g>\n     </g>\n    </g>\n    <g id=\"ytick_4\">\n     <g id=\"line2d_8\">\n      <g>\n       <use style=\"stroke:#000000;stroke-width:0.8;\" x=\"28.942188\" xlink:href=\"#m938810c34e\" y=\"57.653051\"/>\n      </g>\n     </g>\n     <g id=\"text_8\">\n      <!-- 10 -->\n      <defs>\n       <path d=\"M 12.40625 8.296875 \nL 28.515625 8.296875 \nL 28.515625 63.921875 \nL 10.984375 60.40625 \nL 10.984375 69.390625 \nL 28.421875 72.90625 \nL 38.28125 72.90625 \nL 38.28125 8.296875 \nL 54.390625 8.296875 \nL 54.390625 0 \nL 12.40625 0 \nz\n\" id=\"DejaVuSans-49\"/>\n      </defs>\n      <g transform=\"translate(9.217188 61.45227)scale(0.1 -0.1)\">\n       <use xlink:href=\"#DejaVuSans-49\"/>\n       <use x=\"63.623047\" xlink:href=\"#DejaVuSans-48\"/>\n      </g>\n     </g>\n    </g>\n    <g id=\"ytick_5\">\n     <g id=\"line2d_9\">\n      <g>\n       <use style=\"stroke:#000000;stroke-width:0.8;\" x=\"28.942188\" xlink:href=\"#m938810c34e\" y=\"34.326135\"/>\n      </g>\n     </g>\n     <g id=\"text_9\">\n      <!-- 15 -->\n      <g transform=\"translate(9.217188 38.125354)scale(0.1 -0.1)\">\n       <use xlink:href=\"#DejaVuSans-49\"/>\n       <use x=\"63.623047\" xlink:href=\"#DejaVuSans-53\"/>\n      </g>\n     </g>\n    </g>\n    <g id=\"ytick_6\">\n     <g id=\"line2d_10\">\n      <g>\n       <use style=\"stroke:#000000;stroke-width:0.8;\" x=\"28.942188\" xlink:href=\"#m938810c34e\" y=\"10.999219\"/>\n      </g>\n     </g>\n     <g id=\"text_10\">\n      <!-- 20 -->\n      <g transform=\"translate(9.217188 14.798437)scale(0.1 -0.1)\">\n       <use xlink:href=\"#DejaVuSans-50\"/>\n       <use x=\"63.623047\" xlink:href=\"#DejaVuSans-48\"/>\n      </g>\n     </g>\n    </g>\n   </g>\n   <g id=\"patch_3\">\n    <path d=\"M 28.942188 143.401199 \nL 28.942188 7.501199 \n\" style=\"fill:none;stroke:#000000;stroke-linecap:square;stroke-linejoin:miter;stroke-width:0.8;\"/>\n   </g>\n   <g id=\"patch_4\">\n    <path d=\"M 224.242188 143.401199 \nL 224.242188 7.501199 \n\" style=\"fill:none;stroke:#000000;stroke-linecap:square;stroke-linejoin:miter;stroke-width:0.8;\"/>\n   </g>\n   <g id=\"patch_5\">\n    <path d=\"M 28.942188 143.401199 \nL 224.242188 143.401199 \n\" style=\"fill:none;stroke:#000000;stroke-linecap:square;stroke-linejoin:miter;stroke-width:0.8;\"/>\n   </g>\n   <g id=\"patch_6\">\n    <path d=\"M 28.942188 7.501199 \nL 224.242188 7.501199 \n\" style=\"fill:none;stroke:#000000;stroke-linecap:square;stroke-linejoin:miter;stroke-width:0.8;\"/>\n   </g>\n  </g>\n </g>\n <defs>\n  <clipPath id=\"pc94ddec853\">\n   <rect height=\"135.9\" width=\"195.3\" x=\"28.942188\" y=\"7.501199\"/>\n  </clipPath>\n </defs>\n</svg>\n"
          },
          "metadata": {
            "tags": [],
            "needs_background": "light"
          }
        }
      ]
    },
    {
      "cell_type": "markdown",
      "metadata": {
        "id": "BMxDNdODmQqo"
      },
      "source": [
        "## 3.2 Reading the Dataset"
      ]
    },
    {
      "cell_type": "code",
      "metadata": {
        "id": "RM3wVc8Wbwlj"
      },
      "source": [
        "def data_iter(batch_size,features,labels):\n",
        "    num_examples = len(features)\n",
        "    indices = list(range(num_examples))\n",
        "    #print(indices)\n",
        "    random.shuffle(indices)\n",
        "    #print(indices)\n",
        "    for i in range(0,num_examples,batch_size):\n",
        "        batch_indices = torch.tensor(indices[i:min(i + batch_size,num_examples)])\n",
        "        #print(len(batch_indices))\n",
        "        yield features[batch_indices],labels[batch_indices]"
      ],
      "execution_count": 371,
      "outputs": []
    },
    {
      "cell_type": "code",
      "metadata": {
        "colab": {
          "base_uri": "https://localhost:8080/"
        },
        "id": "GGg__emmbwoW",
        "outputId": "56311382-2fd8-408a-cbe9-8043414aee8a"
      },
      "source": [
        "batch_size = 10\n",
        "\n",
        "for X,y in data_iter(batch_size, features,labels):\n",
        "    print(X,'\\n',y)\n",
        "    break"
      ],
      "execution_count": 372,
      "outputs": [
        {
          "output_type": "stream",
          "text": [
            "tensor([[ 0.9318,  2.2347],\n",
            "        [ 1.5182,  0.4606],\n",
            "        [-0.5223, -1.1713],\n",
            "        [ 0.0450, -1.0259],\n",
            "        [ 1.7221, -1.0763],\n",
            "        [ 0.9406,  0.6825],\n",
            "        [-0.1595,  0.2906],\n",
            "        [-0.0541, -0.2181],\n",
            "        [ 1.0756,  0.6668],\n",
            "        [-1.0967,  2.1730]]) \n",
            " tensor([[-1.5372],\n",
            "        [ 5.6777],\n",
            "        [ 7.1491],\n",
            "        [ 7.7790],\n",
            "        [11.2990],\n",
            "        [ 3.7561],\n",
            "        [ 2.8860],\n",
            "        [ 4.8371],\n",
            "        [ 4.0690],\n",
            "        [-5.3811]])\n"
          ],
          "name": "stdout"
        }
      ]
    },
    {
      "cell_type": "markdown",
      "metadata": {
        "id": "iciOONNMrlKA"
      },
      "source": [
        "## 3.2.3 initializing Model Parameters"
      ]
    },
    {
      "cell_type": "code",
      "metadata": {
        "id": "WERSd0ikbwqS"
      },
      "source": [
        "w = torch.normal(0,0.01,size=(2,1), requires_grad = True)\n",
        "b = torch.zeros(1,requires_grad=True)"
      ],
      "execution_count": 373,
      "outputs": []
    },
    {
      "cell_type": "code",
      "metadata": {
        "colab": {
          "base_uri": "https://localhost:8080/"
        },
        "id": "QeWdhLOpbwsj",
        "outputId": "f0da6ee8-37c1-4c9c-9dd5-2c9da88d1ffd"
      },
      "source": [
        "print(w,b)"
      ],
      "execution_count": 374,
      "outputs": [
        {
          "output_type": "stream",
          "text": [
            "tensor([[ 0.0076],\n",
            "        [-0.0023]], requires_grad=True) tensor([0.], requires_grad=True)\n"
          ],
          "name": "stdout"
        }
      ]
    },
    {
      "cell_type": "markdown",
      "metadata": {
        "id": "ujpvXbe4sQxG"
      },
      "source": [
        "## 3.2.4 Defining the Model"
      ]
    },
    {
      "cell_type": "code",
      "metadata": {
        "colab": {
          "base_uri": "https://localhost:8080/"
        },
        "id": "q-sWFxbXsjMC",
        "outputId": "7a889ed8-312c-4fb2-e144-24fa8c244d88"
      },
      "source": [
        "print(X.shape)\n",
        "print(w.shape)\n",
        "print(y.shape)"
      ],
      "execution_count": 375,
      "outputs": [
        {
          "output_type": "stream",
          "text": [
            "torch.Size([10, 2])\n",
            "torch.Size([2, 1])\n",
            "torch.Size([10, 1])\n"
          ],
          "name": "stdout"
        }
      ]
    },
    {
      "cell_type": "code",
      "metadata": {
        "id": "YDe7uqr_bwty"
      },
      "source": [
        "def lineareg(X,w,b):\n",
        "    return torch.matmul(X,w) + b"
      ],
      "execution_count": 376,
      "outputs": []
    },
    {
      "cell_type": "markdown",
      "metadata": {
        "id": "L5Yb66X5svhJ"
      },
      "source": [
        "## 3.2.5 Defining the Loss Function"
      ]
    },
    {
      "cell_type": "code",
      "metadata": {
        "id": "32J-agDbsu1X"
      },
      "source": [
        "def squared_loss(y_hat,y):\n",
        "    #print(y_hat.shape)\n",
        "    #print(y.shape)\n",
        "    return (y_hat - y.reshape(y_hat.shape)) ** 2 / 2"
      ],
      "execution_count": 377,
      "outputs": []
    },
    {
      "cell_type": "markdown",
      "metadata": {
        "id": "STuqgwUjtbBR"
      },
      "source": [
        "## 3.2.6 Defining the Optimization Algorithm"
      ]
    },
    {
      "cell_type": "code",
      "metadata": {
        "id": "z0K8OB3Qsu3U"
      },
      "source": [
        "def sgd(params,lr,batch_size):\n",
        "    with torch.no_grad():\n",
        "        for param in params:\n",
        "            #print('!')\n",
        "            #print(param)\n",
        "            param -= lr * param.grad / batch_size\n",
        "            #print(param)\n",
        "            param.grad.zero_() #trainer.zero_grad\n",
        "            print(param)"
      ],
      "execution_count": 378,
      "outputs": []
    },
    {
      "cell_type": "markdown",
      "metadata": {
        "id": "zzVxrmyfuV4A"
      },
      "source": [
        "## 3.2.7 Training"
      ]
    },
    {
      "cell_type": "code",
      "metadata": {
        "id": "Yo9AMSMusu5m"
      },
      "source": [
        "lr = 0.03\n",
        "num_epochs = 3\n",
        "net = lineareg\n",
        "loss = squared_loss"
      ],
      "execution_count": 379,
      "outputs": []
    },
    {
      "cell_type": "code",
      "metadata": {
        "colab": {
          "base_uri": "https://localhost:8080/"
        },
        "id": "ksn0kJlTyiBU",
        "outputId": "cd2e2e84-997d-4d18-ca53-1cc25f05edba"
      },
      "source": [
        "print(features.shape)"
      ],
      "execution_count": 380,
      "outputs": [
        {
          "output_type": "stream",
          "text": [
            "torch.Size([1000, 2])\n"
          ],
          "name": "stdout"
        }
      ]
    },
    {
      "cell_type": "code",
      "metadata": {
        "colab": {
          "base_uri": "https://localhost:8080/"
        },
        "id": "1cqW_WFjsu7l",
        "outputId": "2df7f78a-3116-456f-a286-e4ed26c62312"
      },
      "source": [
        "for epoch in range(num_epochs):\n",
        "    for X,y in data_iter(batch_size,features,labels):\n",
        "        l = loss(net(X,w,b),y)\n",
        "        l.sum().backward() #. loss.backward() 편미분이 여기서 완료\n",
        "        #print(w.grad) \n",
        "        #print(b.grad) #그럼 기울기를 구할 수 있다. w,b에 대해 \n",
        "        sgd([w,b],lr,batch_size) # .step 구해진 w,b를 이용해 구해진 기울기 바탕으로 여기서 w,b를 업데이트 한다. \n",
        "    with torch.no_grad():\n",
        "        train_l = loss(net(features,w,b),labels)\n",
        "        print(f'epoch{epoch + 1},loss{float(train_l.mean()):f}') \n"
      ],
      "execution_count": 381,
      "outputs": [
        {
          "output_type": "stream",
          "text": [
            "tensor([[-0.0136],\n",
            "        [-0.0986]], requires_grad=True)\n",
            "tensor([0.1273], requires_grad=True)\n",
            "tensor([[ 0.0420],\n",
            "        [-0.1598]], requires_grad=True)\n",
            "tensor([0.2364], requires_grad=True)\n",
            "tensor([[ 0.0343],\n",
            "        [-0.1872]], requires_grad=True)\n",
            "tensor([0.3292], requires_grad=True)\n",
            "tensor([[ 0.0634],\n",
            "        [-0.2174]], requires_grad=True)\n",
            "tensor([0.4111], requires_grad=True)\n",
            "tensor([[ 0.1064],\n",
            "        [-0.2626]], requires_grad=True)\n",
            "tensor([0.5367], requires_grad=True)\n",
            "tensor([[ 0.1221],\n",
            "        [-0.5594]], requires_grad=True)\n",
            "tensor([0.7002], requires_grad=True)\n",
            "tensor([[ 0.0880],\n",
            "        [-0.6227]], requires_grad=True)\n",
            "tensor([0.7915], requires_grad=True)\n",
            "tensor([[ 0.0525],\n",
            "        [-0.9034]], requires_grad=True)\n",
            "tensor([0.9460], requires_grad=True)\n",
            "tensor([[ 0.0392],\n",
            "        [-0.9767]], requires_grad=True)\n",
            "tensor([1.0222], requires_grad=True)\n",
            "tensor([[ 0.1884],\n",
            "        [-1.0737]], requires_grad=True)\n",
            "tensor([1.1424], requires_grad=True)\n",
            "tensor([[ 0.1759],\n",
            "        [-1.1236]], requires_grad=True)\n",
            "tensor([1.2089], requires_grad=True)\n",
            "tensor([[ 0.1846],\n",
            "        [-1.1765]], requires_grad=True)\n",
            "tensor([1.2738], requires_grad=True)\n",
            "tensor([[ 0.2587],\n",
            "        [-1.2031]], requires_grad=True)\n",
            "tensor([1.3754], requires_grad=True)\n",
            "tensor([[ 0.3131],\n",
            "        [-1.2407]], requires_grad=True)\n",
            "tensor([1.4412], requires_grad=True)\n",
            "tensor([[ 0.3175],\n",
            "        [-1.2959]], requires_grad=True)\n",
            "tensor([1.4974], requires_grad=True)\n",
            "tensor([[ 0.3427],\n",
            "        [-1.4058]], requires_grad=True)\n",
            "tensor([1.5818], requires_grad=True)\n",
            "tensor([[ 0.4332],\n",
            "        [-1.5924]], requires_grad=True)\n",
            "tensor([1.7056], requires_grad=True)\n",
            "tensor([[ 0.4908],\n",
            "        [-1.6718]], requires_grad=True)\n",
            "tensor([1.8118], requires_grad=True)\n",
            "tensor([[ 0.5132],\n",
            "        [-1.7001]], requires_grad=True)\n",
            "tensor([1.8418], requires_grad=True)\n",
            "tensor([[ 0.4887],\n",
            "        [-1.7835]], requires_grad=True)\n",
            "tensor([1.8901], requires_grad=True)\n",
            "tensor([[ 0.5848],\n",
            "        [-1.8252]], requires_grad=True)\n",
            "tensor([1.9679], requires_grad=True)\n",
            "tensor([[ 0.6125],\n",
            "        [-1.8380]], requires_grad=True)\n",
            "tensor([2.0251], requires_grad=True)\n",
            "tensor([[ 0.6122],\n",
            "        [-1.9247]], requires_grad=True)\n",
            "tensor([2.1038], requires_grad=True)\n",
            "tensor([[ 0.7051],\n",
            "        [-1.9904]], requires_grad=True)\n",
            "tensor([2.1729], requires_grad=True)\n",
            "tensor([[ 0.7249],\n",
            "        [-2.0303]], requires_grad=True)\n",
            "tensor([2.1993], requires_grad=True)\n",
            "tensor([[ 0.7295],\n",
            "        [-2.0518]], requires_grad=True)\n",
            "tensor([2.2363], requires_grad=True)\n",
            "tensor([[ 0.7550],\n",
            "        [-2.0737]], requires_grad=True)\n",
            "tensor([2.3015], requires_grad=True)\n",
            "tensor([[ 0.7915],\n",
            "        [-2.1003]], requires_grad=True)\n",
            "tensor([2.3524], requires_grad=True)\n",
            "tensor([[ 0.8020],\n",
            "        [-2.1161]], requires_grad=True)\n",
            "tensor([2.3942], requires_grad=True)\n",
            "tensor([[ 0.8200],\n",
            "        [-2.1276]], requires_grad=True)\n",
            "tensor([2.4078], requires_grad=True)\n",
            "tensor([[ 0.8191],\n",
            "        [-2.1402]], requires_grad=True)\n",
            "tensor([2.4549], requires_grad=True)\n",
            "tensor([[ 0.8401],\n",
            "        [-2.1676]], requires_grad=True)\n",
            "tensor([2.5205], requires_grad=True)\n",
            "tensor([[ 0.9579],\n",
            "        [-2.2372]], requires_grad=True)\n",
            "tensor([2.6041], requires_grad=True)\n",
            "tensor([[ 1.0073],\n",
            "        [-2.2811]], requires_grad=True)\n",
            "tensor([2.6525], requires_grad=True)\n",
            "tensor([[ 1.0649],\n",
            "        [-2.3554]], requires_grad=True)\n",
            "tensor([2.7034], requires_grad=True)\n",
            "tensor([[ 1.0756],\n",
            "        [-2.4186]], requires_grad=True)\n",
            "tensor([2.7686], requires_grad=True)\n",
            "tensor([[ 1.0792],\n",
            "        [-2.4475]], requires_grad=True)\n",
            "tensor([2.7928], requires_grad=True)\n",
            "tensor([[ 1.1022],\n",
            "        [-2.4599]], requires_grad=True)\n",
            "tensor([2.8425], requires_grad=True)\n",
            "tensor([[ 1.1680],\n",
            "        [-2.5001]], requires_grad=True)\n",
            "tensor([2.9113], requires_grad=True)\n",
            "tensor([[ 1.1952],\n",
            "        [-2.5372]], requires_grad=True)\n",
            "tensor([2.9289], requires_grad=True)\n",
            "tensor([[ 1.2070],\n",
            "        [-2.5453]], requires_grad=True)\n",
            "tensor([2.9497], requires_grad=True)\n",
            "tensor([[ 1.2516],\n",
            "        [-2.5589]], requires_grad=True)\n",
            "tensor([2.9896], requires_grad=True)\n",
            "tensor([[ 1.2681],\n",
            "        [-2.5836]], requires_grad=True)\n",
            "tensor([3.0305], requires_grad=True)\n",
            "tensor([[ 1.2799],\n",
            "        [-2.5825]], requires_grad=True)\n",
            "tensor([3.0596], requires_grad=True)\n",
            "tensor([[ 1.2708],\n",
            "        [-2.5957]], requires_grad=True)\n",
            "tensor([3.0881], requires_grad=True)\n",
            "tensor([[ 1.3183],\n",
            "        [-2.6353]], requires_grad=True)\n",
            "tensor([3.1412], requires_grad=True)\n",
            "tensor([[ 1.3308],\n",
            "        [-2.6429]], requires_grad=True)\n",
            "tensor([3.1706], requires_grad=True)\n",
            "tensor([[ 1.3541],\n",
            "        [-2.6715]], requires_grad=True)\n",
            "tensor([3.2171], requires_grad=True)\n",
            "tensor([[ 1.3571],\n",
            "        [-2.7043]], requires_grad=True)\n",
            "tensor([3.2477], requires_grad=True)\n",
            "tensor([[ 1.3755],\n",
            "        [-2.7105]], requires_grad=True)\n",
            "tensor([3.2805], requires_grad=True)\n",
            "tensor([[ 1.4237],\n",
            "        [-2.7571]], requires_grad=True)\n",
            "tensor([3.3201], requires_grad=True)\n",
            "tensor([[ 1.4486],\n",
            "        [-2.7786]], requires_grad=True)\n",
            "tensor([3.3382], requires_grad=True)\n",
            "tensor([[ 1.4525],\n",
            "        [-2.8003]], requires_grad=True)\n",
            "tensor([3.3659], requires_grad=True)\n",
            "tensor([[ 1.4540],\n",
            "        [-2.8273]], requires_grad=True)\n",
            "tensor([3.3910], requires_grad=True)\n",
            "tensor([[ 1.4752],\n",
            "        [-2.8460]], requires_grad=True)\n",
            "tensor([3.4276], requires_grad=True)\n",
            "tensor([[ 1.4850],\n",
            "        [-2.8595]], requires_grad=True)\n",
            "tensor([3.4460], requires_grad=True)\n",
            "tensor([[ 1.5005],\n",
            "        [-2.8801]], requires_grad=True)\n",
            "tensor([3.4705], requires_grad=True)\n",
            "tensor([[ 1.5001],\n",
            "        [-2.8849]], requires_grad=True)\n",
            "tensor([3.4861], requires_grad=True)\n",
            "tensor([[ 1.5061],\n",
            "        [-2.9040]], requires_grad=True)\n",
            "tensor([3.5001], requires_grad=True)\n",
            "tensor([[ 1.5307],\n",
            "        [-2.9290]], requires_grad=True)\n",
            "tensor([3.5230], requires_grad=True)\n",
            "tensor([[ 1.5379],\n",
            "        [-2.9438]], requires_grad=True)\n",
            "tensor([3.5418], requires_grad=True)\n",
            "tensor([[ 1.5563],\n",
            "        [-2.9586]], requires_grad=True)\n",
            "tensor([3.5626], requires_grad=True)\n",
            "tensor([[ 1.5698],\n",
            "        [-2.9712]], requires_grad=True)\n",
            "tensor([3.5837], requires_grad=True)\n",
            "tensor([[ 1.5976],\n",
            "        [-2.9849]], requires_grad=True)\n",
            "tensor([3.6104], requires_grad=True)\n",
            "tensor([[ 1.5995],\n",
            "        [-3.0019]], requires_grad=True)\n",
            "tensor([3.6301], requires_grad=True)\n",
            "tensor([[ 1.6183],\n",
            "        [-3.0176]], requires_grad=True)\n",
            "tensor([3.6452], requires_grad=True)\n",
            "tensor([[ 1.6266],\n",
            "        [-3.0362]], requires_grad=True)\n",
            "tensor([3.6675], requires_grad=True)\n",
            "tensor([[ 1.6340],\n",
            "        [-3.0457]], requires_grad=True)\n",
            "tensor([3.6818], requires_grad=True)\n",
            "tensor([[ 1.6299],\n",
            "        [-3.0622]], requires_grad=True)\n",
            "tensor([3.6983], requires_grad=True)\n",
            "tensor([[ 1.6312],\n",
            "        [-3.0631]], requires_grad=True)\n",
            "tensor([3.7100], requires_grad=True)\n",
            "tensor([[ 1.6483],\n",
            "        [-3.0894]], requires_grad=True)\n",
            "tensor([3.7266], requires_grad=True)\n",
            "tensor([[ 1.6800],\n",
            "        [-3.1241]], requires_grad=True)\n",
            "tensor([3.7494], requires_grad=True)\n",
            "tensor([[ 1.6769],\n",
            "        [-3.1300]], requires_grad=True)\n",
            "tensor([3.7547], requires_grad=True)\n",
            "tensor([[ 1.6821],\n",
            "        [-3.1374]], requires_grad=True)\n",
            "tensor([3.7652], requires_grad=True)\n",
            "tensor([[ 1.6880],\n",
            "        [-3.1487]], requires_grad=True)\n",
            "tensor([3.7813], requires_grad=True)\n",
            "tensor([[ 1.6974],\n",
            "        [-3.1604]], requires_grad=True)\n",
            "tensor([3.7978], requires_grad=True)\n",
            "tensor([[ 1.7063],\n",
            "        [-3.1647]], requires_grad=True)\n",
            "tensor([3.8122], requires_grad=True)\n",
            "tensor([[ 1.7154],\n",
            "        [-3.1750]], requires_grad=True)\n",
            "tensor([3.8257], requires_grad=True)\n",
            "tensor([[ 1.7147],\n",
            "        [-3.1811]], requires_grad=True)\n",
            "tensor([3.8359], requires_grad=True)\n",
            "tensor([[ 1.7271],\n",
            "        [-3.1948]], requires_grad=True)\n",
            "tensor([3.8481], requires_grad=True)\n",
            "tensor([[ 1.7321],\n",
            "        [-3.2005]], requires_grad=True)\n",
            "tensor([3.8547], requires_grad=True)\n",
            "tensor([[ 1.7470],\n",
            "        [-3.2167]], requires_grad=True)\n",
            "tensor([3.8701], requires_grad=True)\n",
            "tensor([[ 1.7537],\n",
            "        [-3.2199]], requires_grad=True)\n",
            "tensor([3.8770], requires_grad=True)\n",
            "tensor([[ 1.7539],\n",
            "        [-3.2267]], requires_grad=True)\n",
            "tensor([3.8828], requires_grad=True)\n",
            "tensor([[ 1.7591],\n",
            "        [-3.2289]], requires_grad=True)\n",
            "tensor([3.8936], requires_grad=True)\n",
            "tensor([[ 1.7641],\n",
            "        [-3.2318]], requires_grad=True)\n",
            "tensor([3.9023], requires_grad=True)\n",
            "tensor([[ 1.7739],\n",
            "        [-3.2408]], requires_grad=True)\n",
            "tensor([3.9095], requires_grad=True)\n",
            "tensor([[ 1.7809],\n",
            "        [-3.2480]], requires_grad=True)\n",
            "tensor([3.9175], requires_grad=True)\n",
            "tensor([[ 1.7870],\n",
            "        [-3.2492]], requires_grad=True)\n",
            "tensor([3.9208], requires_grad=True)\n",
            "tensor([[ 1.7917],\n",
            "        [-3.2572]], requires_grad=True)\n",
            "tensor([3.9303], requires_grad=True)\n",
            "tensor([[ 1.7973],\n",
            "        [-3.2641]], requires_grad=True)\n",
            "tensor([3.9351], requires_grad=True)\n",
            "tensor([[ 1.8009],\n",
            "        [-3.2694]], requires_grad=True)\n",
            "tensor([3.9442], requires_grad=True)\n",
            "tensor([[ 1.8073],\n",
            "        [-3.2737]], requires_grad=True)\n",
            "tensor([3.9534], requires_grad=True)\n",
            "tensor([[ 1.8091],\n",
            "        [-3.2808]], requires_grad=True)\n",
            "tensor([3.9614], requires_grad=True)\n",
            "tensor([[ 1.8113],\n",
            "        [-3.2872]], requires_grad=True)\n",
            "tensor([3.9671], requires_grad=True)\n",
            "tensor([[ 1.8158],\n",
            "        [-3.2943]], requires_grad=True)\n",
            "tensor([3.9726], requires_grad=True)\n",
            "tensor([[ 1.8227],\n",
            "        [-3.2968]], requires_grad=True)\n",
            "tensor([3.9817], requires_grad=True)\n",
            "tensor([[ 1.8292],\n",
            "        [-3.3003]], requires_grad=True)\n",
            "tensor([3.9888], requires_grad=True)\n",
            "tensor([[ 1.8332],\n",
            "        [-3.3049]], requires_grad=True)\n",
            "tensor([3.9937], requires_grad=True)\n",
            "tensor([[ 1.8371],\n",
            "        [-3.3089]], requires_grad=True)\n",
            "tensor([4.0000], requires_grad=True)\n",
            "epoch1,loss0.035785\n",
            "tensor([[ 1.8386],\n",
            "        [-3.3081]], requires_grad=True)\n",
            "tensor([4.0031], requires_grad=True)\n",
            "tensor([[ 1.8426],\n",
            "        [-3.3094]], requires_grad=True)\n",
            "tensor([4.0077], requires_grad=True)\n",
            "tensor([[ 1.8464],\n",
            "        [-3.3098]], requires_grad=True)\n",
            "tensor([4.0129], requires_grad=True)\n",
            "tensor([[ 1.8500],\n",
            "        [-3.3123]], requires_grad=True)\n",
            "tensor([4.0180], requires_grad=True)\n",
            "tensor([[ 1.8563],\n",
            "        [-3.3111]], requires_grad=True)\n",
            "tensor([4.0249], requires_grad=True)\n",
            "tensor([[ 1.8608],\n",
            "        [-3.3102]], requires_grad=True)\n",
            "tensor([4.0309], requires_grad=True)\n",
            "tensor([[ 1.8624],\n",
            "        [-3.3107]], requires_grad=True)\n",
            "tensor([4.0342], requires_grad=True)\n",
            "tensor([[ 1.8701],\n",
            "        [-3.3164]], requires_grad=True)\n",
            "tensor([4.0412], requires_grad=True)\n",
            "tensor([[ 1.8722],\n",
            "        [-3.3214]], requires_grad=True)\n",
            "tensor([4.0442], requires_grad=True)\n",
            "tensor([[ 1.8730],\n",
            "        [-3.3252]], requires_grad=True)\n",
            "tensor([4.0478], requires_grad=True)\n",
            "tensor([[ 1.8793],\n",
            "        [-3.3286]], requires_grad=True)\n",
            "tensor([4.0545], requires_grad=True)\n",
            "tensor([[ 1.8837],\n",
            "        [-3.3341]], requires_grad=True)\n",
            "tensor([4.0597], requires_grad=True)\n",
            "tensor([[ 1.8850],\n",
            "        [-3.3375]], requires_grad=True)\n",
            "tensor([4.0632], requires_grad=True)\n",
            "tensor([[ 1.8854],\n",
            "        [-3.3422]], requires_grad=True)\n",
            "tensor([4.0685], requires_grad=True)\n",
            "tensor([[ 1.8868],\n",
            "        [-3.3434]], requires_grad=True)\n",
            "tensor([4.0708], requires_grad=True)\n",
            "tensor([[ 1.8895],\n",
            "        [-3.3470]], requires_grad=True)\n",
            "tensor([4.0756], requires_grad=True)\n",
            "tensor([[ 1.8934],\n",
            "        [-3.3482]], requires_grad=True)\n",
            "tensor([4.0808], requires_grad=True)\n",
            "tensor([[ 1.8953],\n",
            "        [-3.3485]], requires_grad=True)\n",
            "tensor([4.0836], requires_grad=True)\n",
            "tensor([[ 1.8960],\n",
            "        [-3.3495]], requires_grad=True)\n",
            "tensor([4.0862], requires_grad=True)\n",
            "tensor([[ 1.8989],\n",
            "        [-3.3506]], requires_grad=True)\n",
            "tensor([4.0894], requires_grad=True)\n",
            "tensor([[ 1.9029],\n",
            "        [-3.3536]], requires_grad=True)\n",
            "tensor([4.0929], requires_grad=True)\n",
            "tensor([[ 1.9050],\n",
            "        [-3.3582]], requires_grad=True)\n",
            "tensor([4.0955], requires_grad=True)\n",
            "tensor([[ 1.9081],\n",
            "        [-3.3611]], requires_grad=True)\n",
            "tensor([4.0992], requires_grad=True)\n",
            "tensor([[ 1.9097],\n",
            "        [-3.3632]], requires_grad=True)\n",
            "tensor([4.1025], requires_grad=True)\n",
            "tensor([[ 1.9155],\n",
            "        [-3.3672]], requires_grad=True)\n",
            "tensor([4.1058], requires_grad=True)\n",
            "tensor([[ 1.9170],\n",
            "        [-3.3705]], requires_grad=True)\n",
            "tensor([4.1096], requires_grad=True)\n",
            "tensor([[ 1.9185],\n",
            "        [-3.3717]], requires_grad=True)\n",
            "tensor([4.1123], requires_grad=True)\n",
            "tensor([[ 1.9199],\n",
            "        [-3.3738]], requires_grad=True)\n",
            "tensor([4.1156], requires_grad=True)\n",
            "tensor([[ 1.9239],\n",
            "        [-3.3781]], requires_grad=True)\n",
            "tensor([4.1175], requires_grad=True)\n",
            "tensor([[ 1.9258],\n",
            "        [-3.3778]], requires_grad=True)\n",
            "tensor([4.1181], requires_grad=True)\n",
            "tensor([[ 1.9265],\n",
            "        [-3.3782]], requires_grad=True)\n",
            "tensor([4.1201], requires_grad=True)\n",
            "tensor([[ 1.9286],\n",
            "        [-3.3787]], requires_grad=True)\n",
            "tensor([4.1211], requires_grad=True)\n",
            "tensor([[ 1.9312],\n",
            "        [-3.3799]], requires_grad=True)\n",
            "tensor([4.1239], requires_grad=True)\n",
            "tensor([[ 1.9339],\n",
            "        [-3.3816]], requires_grad=True)\n",
            "tensor([4.1269], requires_grad=True)\n",
            "tensor([[ 1.9355],\n",
            "        [-3.3828]], requires_grad=True)\n",
            "tensor([4.1295], requires_grad=True)\n",
            "tensor([[ 1.9368],\n",
            "        [-3.3849]], requires_grad=True)\n",
            "tensor([4.1320], requires_grad=True)\n",
            "tensor([[ 1.9373],\n",
            "        [-3.3849]], requires_grad=True)\n",
            "tensor([4.1337], requires_grad=True)\n",
            "tensor([[ 1.9386],\n",
            "        [-3.3860]], requires_grad=True)\n",
            "tensor([4.1356], requires_grad=True)\n",
            "tensor([[ 1.9395],\n",
            "        [-3.3857]], requires_grad=True)\n",
            "tensor([4.1372], requires_grad=True)\n",
            "tensor([[ 1.9409],\n",
            "        [-3.3871]], requires_grad=True)\n",
            "tensor([4.1389], requires_grad=True)\n",
            "tensor([[ 1.9424],\n",
            "        [-3.3870]], requires_grad=True)\n",
            "tensor([4.1411], requires_grad=True)\n",
            "tensor([[ 1.9434],\n",
            "        [-3.3874]], requires_grad=True)\n",
            "tensor([4.1421], requires_grad=True)\n",
            "tensor([[ 1.9452],\n",
            "        [-3.3883]], requires_grad=True)\n",
            "tensor([4.1437], requires_grad=True)\n",
            "tensor([[ 1.9462],\n",
            "        [-3.3895]], requires_grad=True)\n",
            "tensor([4.1461], requires_grad=True)\n",
            "tensor([[ 1.9487],\n",
            "        [-3.3904]], requires_grad=True)\n",
            "tensor([4.1482], requires_grad=True)\n",
            "tensor([[ 1.9495],\n",
            "        [-3.3909]], requires_grad=True)\n",
            "tensor([4.1497], requires_grad=True)\n",
            "tensor([[ 1.9508],\n",
            "        [-3.3903]], requires_grad=True)\n",
            "tensor([4.1515], requires_grad=True)\n",
            "tensor([[ 1.9518],\n",
            "        [-3.3898]], requires_grad=True)\n",
            "tensor([4.1522], requires_grad=True)\n",
            "tensor([[ 1.9537],\n",
            "        [-3.3907]], requires_grad=True)\n",
            "tensor([4.1541], requires_grad=True)\n",
            "tensor([[ 1.9545],\n",
            "        [-3.3914]], requires_grad=True)\n",
            "tensor([4.1543], requires_grad=True)\n",
            "tensor([[ 1.9550],\n",
            "        [-3.3916]], requires_grad=True)\n",
            "tensor([4.1557], requires_grad=True)\n",
            "tensor([[ 1.9554],\n",
            "        [-3.3922]], requires_grad=True)\n",
            "tensor([4.1565], requires_grad=True)\n",
            "tensor([[ 1.9566],\n",
            "        [-3.3919]], requires_grad=True)\n",
            "tensor([4.1579], requires_grad=True)\n",
            "tensor([[ 1.9578],\n",
            "        [-3.3922]], requires_grad=True)\n",
            "tensor([4.1591], requires_grad=True)\n",
            "tensor([[ 1.9586],\n",
            "        [-3.3928]], requires_grad=True)\n",
            "tensor([4.1603], requires_grad=True)\n",
            "tensor([[ 1.9604],\n",
            "        [-3.3941]], requires_grad=True)\n",
            "tensor([4.1614], requires_grad=True)\n",
            "tensor([[ 1.9609],\n",
            "        [-3.3941]], requires_grad=True)\n",
            "tensor([4.1625], requires_grad=True)\n",
            "tensor([[ 1.9622],\n",
            "        [-3.3944]], requires_grad=True)\n",
            "tensor([4.1637], requires_grad=True)\n",
            "tensor([[ 1.9631],\n",
            "        [-3.3950]], requires_grad=True)\n",
            "tensor([4.1648], requires_grad=True)\n",
            "tensor([[ 1.9640],\n",
            "        [-3.3952]], requires_grad=True)\n",
            "tensor([4.1663], requires_grad=True)\n",
            "tensor([[ 1.9657],\n",
            "        [-3.3958]], requires_grad=True)\n",
            "tensor([4.1677], requires_grad=True)\n",
            "tensor([[ 1.9666],\n",
            "        [-3.3960]], requires_grad=True)\n",
            "tensor([4.1684], requires_grad=True)\n",
            "tensor([[ 1.9680],\n",
            "        [-3.3959]], requires_grad=True)\n",
            "tensor([4.1696], requires_grad=True)\n",
            "tensor([[ 1.9692],\n",
            "        [-3.3958]], requires_grad=True)\n",
            "tensor([4.1705], requires_grad=True)\n",
            "tensor([[ 1.9696],\n",
            "        [-3.3955]], requires_grad=True)\n",
            "tensor([4.1713], requires_grad=True)\n",
            "tensor([[ 1.9701],\n",
            "        [-3.3957]], requires_grad=True)\n",
            "tensor([4.1723], requires_grad=True)\n",
            "tensor([[ 1.9705],\n",
            "        [-3.3960]], requires_grad=True)\n",
            "tensor([4.1728], requires_grad=True)\n",
            "tensor([[ 1.9715],\n",
            "        [-3.3967]], requires_grad=True)\n",
            "tensor([4.1735], requires_grad=True)\n",
            "tensor([[ 1.9733],\n",
            "        [-3.3974]], requires_grad=True)\n",
            "tensor([4.1749], requires_grad=True)\n",
            "tensor([[ 1.9746],\n",
            "        [-3.3973]], requires_grad=True)\n",
            "tensor([4.1760], requires_grad=True)\n",
            "tensor([[ 1.9753],\n",
            "        [-3.3976]], requires_grad=True)\n",
            "tensor([4.1766], requires_grad=True)\n",
            "tensor([[ 1.9761],\n",
            "        [-3.3975]], requires_grad=True)\n",
            "tensor([4.1772], requires_grad=True)\n",
            "tensor([[ 1.9761],\n",
            "        [-3.3974]], requires_grad=True)\n",
            "tensor([4.1776], requires_grad=True)\n",
            "tensor([[ 1.9768],\n",
            "        [-3.3977]], requires_grad=True)\n",
            "tensor([4.1782], requires_grad=True)\n",
            "tensor([[ 1.9779],\n",
            "        [-3.3984]], requires_grad=True)\n",
            "tensor([4.1791], requires_grad=True)\n",
            "tensor([[ 1.9783],\n",
            "        [-3.3984]], requires_grad=True)\n",
            "tensor([4.1795], requires_grad=True)\n",
            "tensor([[ 1.9786],\n",
            "        [-3.3984]], requires_grad=True)\n",
            "tensor([4.1797], requires_grad=True)\n",
            "tensor([[ 1.9793],\n",
            "        [-3.3986]], requires_grad=True)\n",
            "tensor([4.1801], requires_grad=True)\n",
            "tensor([[ 1.9798],\n",
            "        [-3.3985]], requires_grad=True)\n",
            "tensor([4.1807], requires_grad=True)\n",
            "tensor([[ 1.9800],\n",
            "        [-3.3986]], requires_grad=True)\n",
            "tensor([4.1811], requires_grad=True)\n",
            "tensor([[ 1.9800],\n",
            "        [-3.3989]], requires_grad=True)\n",
            "tensor([4.1816], requires_grad=True)\n",
            "tensor([[ 1.9809],\n",
            "        [-3.3992]], requires_grad=True)\n",
            "tensor([4.1824], requires_grad=True)\n",
            "tensor([[ 1.9812],\n",
            "        [-3.3994]], requires_grad=True)\n",
            "tensor([4.1829], requires_grad=True)\n",
            "tensor([[ 1.9816],\n",
            "        [-3.3995]], requires_grad=True)\n",
            "tensor([4.1831], requires_grad=True)\n",
            "tensor([[ 1.9822],\n",
            "        [-3.3998]], requires_grad=True)\n",
            "tensor([4.1840], requires_grad=True)\n",
            "tensor([[ 1.9824],\n",
            "        [-3.3998]], requires_grad=True)\n",
            "tensor([4.1841], requires_grad=True)\n",
            "tensor([[ 1.9830],\n",
            "        [-3.3996]], requires_grad=True)\n",
            "tensor([4.1847], requires_grad=True)\n",
            "tensor([[ 1.9831],\n",
            "        [-3.3996]], requires_grad=True)\n",
            "tensor([4.1853], requires_grad=True)\n",
            "tensor([[ 1.9835],\n",
            "        [-3.3997]], requires_grad=True)\n",
            "tensor([4.1859], requires_grad=True)\n",
            "tensor([[ 1.9843],\n",
            "        [-3.3998]], requires_grad=True)\n",
            "tensor([4.1863], requires_grad=True)\n",
            "tensor([[ 1.9850],\n",
            "        [-3.3999]], requires_grad=True)\n",
            "tensor([4.1867], requires_grad=True)\n",
            "tensor([[ 1.9852],\n",
            "        [-3.3999]], requires_grad=True)\n",
            "tensor([4.1872], requires_grad=True)\n",
            "tensor([[ 1.9853],\n",
            "        [-3.3997]], requires_grad=True)\n",
            "tensor([4.1876], requires_grad=True)\n",
            "tensor([[ 1.9858],\n",
            "        [-3.3995]], requires_grad=True)\n",
            "tensor([4.1880], requires_grad=True)\n",
            "tensor([[ 1.9861],\n",
            "        [-3.3997]], requires_grad=True)\n",
            "tensor([4.1885], requires_grad=True)\n",
            "tensor([[ 1.9861],\n",
            "        [-3.3997]], requires_grad=True)\n",
            "tensor([4.1886], requires_grad=True)\n",
            "tensor([[ 1.9865],\n",
            "        [-3.3995]], requires_grad=True)\n",
            "tensor([4.1887], requires_grad=True)\n",
            "tensor([[ 1.9868],\n",
            "        [-3.3994]], requires_grad=True)\n",
            "tensor([4.1889], requires_grad=True)\n",
            "tensor([[ 1.9871],\n",
            "        [-3.3994]], requires_grad=True)\n",
            "tensor([4.1893], requires_grad=True)\n",
            "tensor([[ 1.9874],\n",
            "        [-3.3995]], requires_grad=True)\n",
            "tensor([4.1895], requires_grad=True)\n",
            "epoch2,loss0.000175\n",
            "tensor([[ 1.9876],\n",
            "        [-3.3996]], requires_grad=True)\n",
            "tensor([4.1898], requires_grad=True)\n",
            "tensor([[ 1.9879],\n",
            "        [-3.3994]], requires_grad=True)\n",
            "tensor([4.1902], requires_grad=True)\n",
            "tensor([[ 1.9880],\n",
            "        [-3.3994]], requires_grad=True)\n",
            "tensor([4.1903], requires_grad=True)\n",
            "tensor([[ 1.9883],\n",
            "        [-3.3997]], requires_grad=True)\n",
            "tensor([4.1907], requires_grad=True)\n",
            "tensor([[ 1.9887],\n",
            "        [-3.3996]], requires_grad=True)\n",
            "tensor([4.1911], requires_grad=True)\n",
            "tensor([[ 1.9890],\n",
            "        [-3.3994]], requires_grad=True)\n",
            "tensor([4.1915], requires_grad=True)\n",
            "tensor([[ 1.9896],\n",
            "        [-3.3992]], requires_grad=True)\n",
            "tensor([4.1914], requires_grad=True)\n",
            "tensor([[ 1.9899],\n",
            "        [-3.3994]], requires_grad=True)\n",
            "tensor([4.1917], requires_grad=True)\n",
            "tensor([[ 1.9903],\n",
            "        [-3.3998]], requires_grad=True)\n",
            "tensor([4.1919], requires_grad=True)\n",
            "tensor([[ 1.9905],\n",
            "        [-3.3997]], requires_grad=True)\n",
            "tensor([4.1921], requires_grad=True)\n",
            "tensor([[ 1.9910],\n",
            "        [-3.3998]], requires_grad=True)\n",
            "tensor([4.1923], requires_grad=True)\n",
            "tensor([[ 1.9913],\n",
            "        [-3.3997]], requires_grad=True)\n",
            "tensor([4.1926], requires_grad=True)\n",
            "tensor([[ 1.9915],\n",
            "        [-3.4000]], requires_grad=True)\n",
            "tensor([4.1927], requires_grad=True)\n",
            "tensor([[ 1.9919],\n",
            "        [-3.3998]], requires_grad=True)\n",
            "tensor([4.1930], requires_grad=True)\n",
            "tensor([[ 1.9919],\n",
            "        [-3.4000]], requires_grad=True)\n",
            "tensor([4.1931], requires_grad=True)\n",
            "tensor([[ 1.9924],\n",
            "        [-3.4002]], requires_grad=True)\n",
            "tensor([4.1932], requires_grad=True)\n",
            "tensor([[ 1.9926],\n",
            "        [-3.4003]], requires_grad=True)\n",
            "tensor([4.1935], requires_grad=True)\n",
            "tensor([[ 1.9927],\n",
            "        [-3.4005]], requires_grad=True)\n",
            "tensor([4.1938], requires_grad=True)\n",
            "tensor([[ 1.9928],\n",
            "        [-3.4005]], requires_grad=True)\n",
            "tensor([4.1938], requires_grad=True)\n",
            "tensor([[ 1.9928],\n",
            "        [-3.4005]], requires_grad=True)\n",
            "tensor([4.1939], requires_grad=True)\n",
            "tensor([[ 1.9930],\n",
            "        [-3.4008]], requires_grad=True)\n",
            "tensor([4.1942], requires_grad=True)\n",
            "tensor([[ 1.9932],\n",
            "        [-3.4008]], requires_grad=True)\n",
            "tensor([4.1944], requires_grad=True)\n",
            "tensor([[ 1.9935],\n",
            "        [-3.4010]], requires_grad=True)\n",
            "tensor([4.1947], requires_grad=True)\n",
            "tensor([[ 1.9936],\n",
            "        [-3.4009]], requires_grad=True)\n",
            "tensor([4.1947], requires_grad=True)\n",
            "tensor([[ 1.9938],\n",
            "        [-3.4009]], requires_grad=True)\n",
            "tensor([4.1949], requires_grad=True)\n",
            "tensor([[ 1.9939],\n",
            "        [-3.4007]], requires_grad=True)\n",
            "tensor([4.1952], requires_grad=True)\n",
            "tensor([[ 1.9942],\n",
            "        [-3.4009]], requires_grad=True)\n",
            "tensor([4.1953], requires_grad=True)\n",
            "tensor([[ 1.9946],\n",
            "        [-3.4009]], requires_grad=True)\n",
            "tensor([4.1955], requires_grad=True)\n",
            "tensor([[ 1.9948],\n",
            "        [-3.4010]], requires_grad=True)\n",
            "tensor([4.1956], requires_grad=True)\n",
            "tensor([[ 1.9952],\n",
            "        [-3.4009]], requires_grad=True)\n",
            "tensor([4.1959], requires_grad=True)\n",
            "tensor([[ 1.9951],\n",
            "        [-3.4009]], requires_grad=True)\n",
            "tensor([4.1959], requires_grad=True)\n",
            "tensor([[ 1.9951],\n",
            "        [-3.4009]], requires_grad=True)\n",
            "tensor([4.1961], requires_grad=True)\n",
            "tensor([[ 1.9952],\n",
            "        [-3.4010]], requires_grad=True)\n",
            "tensor([4.1963], requires_grad=True)\n",
            "tensor([[ 1.9954],\n",
            "        [-3.4008]], requires_grad=True)\n",
            "tensor([4.1962], requires_grad=True)\n",
            "tensor([[ 1.9957],\n",
            "        [-3.4008]], requires_grad=True)\n",
            "tensor([4.1965], requires_grad=True)\n",
            "tensor([[ 1.9957],\n",
            "        [-3.4009]], requires_grad=True)\n",
            "tensor([4.1966], requires_grad=True)\n",
            "tensor([[ 1.9959],\n",
            "        [-3.4007]], requires_grad=True)\n",
            "tensor([4.1969], requires_grad=True)\n",
            "tensor([[ 1.9960],\n",
            "        [-3.4008]], requires_grad=True)\n",
            "tensor([4.1970], requires_grad=True)\n",
            "tensor([[ 1.9959],\n",
            "        [-3.4008]], requires_grad=True)\n",
            "tensor([4.1973], requires_grad=True)\n",
            "tensor([[ 1.9961],\n",
            "        [-3.4008]], requires_grad=True)\n",
            "tensor([4.1973], requires_grad=True)\n",
            "tensor([[ 1.9961],\n",
            "        [-3.4008]], requires_grad=True)\n",
            "tensor([4.1974], requires_grad=True)\n",
            "tensor([[ 1.9961],\n",
            "        [-3.4008]], requires_grad=True)\n",
            "tensor([4.1974], requires_grad=True)\n",
            "tensor([[ 1.9962],\n",
            "        [-3.4009]], requires_grad=True)\n",
            "tensor([4.1974], requires_grad=True)\n",
            "tensor([[ 1.9965],\n",
            "        [-3.4009]], requires_grad=True)\n",
            "tensor([4.1972], requires_grad=True)\n",
            "tensor([[ 1.9966],\n",
            "        [-3.4009]], requires_grad=True)\n",
            "tensor([4.1974], requires_grad=True)\n",
            "tensor([[ 1.9967],\n",
            "        [-3.4009]], requires_grad=True)\n",
            "tensor([4.1975], requires_grad=True)\n",
            "tensor([[ 1.9967],\n",
            "        [-3.4009]], requires_grad=True)\n",
            "tensor([4.1976], requires_grad=True)\n",
            "tensor([[ 1.9969],\n",
            "        [-3.4011]], requires_grad=True)\n",
            "tensor([4.1976], requires_grad=True)\n",
            "tensor([[ 1.9969],\n",
            "        [-3.4010]], requires_grad=True)\n",
            "tensor([4.1976], requires_grad=True)\n",
            "tensor([[ 1.9971],\n",
            "        [-3.4009]], requires_grad=True)\n",
            "tensor([4.1977], requires_grad=True)\n",
            "tensor([[ 1.9971],\n",
            "        [-3.4007]], requires_grad=True)\n",
            "tensor([4.1975], requires_grad=True)\n",
            "tensor([[ 1.9972],\n",
            "        [-3.4007]], requires_grad=True)\n",
            "tensor([4.1975], requires_grad=True)\n",
            "tensor([[ 1.9974],\n",
            "        [-3.4009]], requires_grad=True)\n",
            "tensor([4.1976], requires_grad=True)\n",
            "tensor([[ 1.9974],\n",
            "        [-3.4009]], requires_grad=True)\n",
            "tensor([4.1977], requires_grad=True)\n",
            "tensor([[ 1.9975],\n",
            "        [-3.4009]], requires_grad=True)\n",
            "tensor([4.1977], requires_grad=True)\n",
            "tensor([[ 1.9974],\n",
            "        [-3.4009]], requires_grad=True)\n",
            "tensor([4.1977], requires_grad=True)\n",
            "tensor([[ 1.9975],\n",
            "        [-3.4009]], requires_grad=True)\n",
            "tensor([4.1977], requires_grad=True)\n",
            "tensor([[ 1.9975],\n",
            "        [-3.4009]], requires_grad=True)\n",
            "tensor([4.1978], requires_grad=True)\n",
            "tensor([[ 1.9977],\n",
            "        [-3.4010]], requires_grad=True)\n",
            "tensor([4.1978], requires_grad=True)\n",
            "tensor([[ 1.9977],\n",
            "        [-3.4010]], requires_grad=True)\n",
            "tensor([4.1979], requires_grad=True)\n",
            "tensor([[ 1.9977],\n",
            "        [-3.4011]], requires_grad=True)\n",
            "tensor([4.1981], requires_grad=True)\n",
            "tensor([[ 1.9979],\n",
            "        [-3.4010]], requires_grad=True)\n",
            "tensor([4.1981], requires_grad=True)\n",
            "tensor([[ 1.9978],\n",
            "        [-3.4009]], requires_grad=True)\n",
            "tensor([4.1984], requires_grad=True)\n",
            "tensor([[ 1.9978],\n",
            "        [-3.4009]], requires_grad=True)\n",
            "tensor([4.1984], requires_grad=True)\n",
            "tensor([[ 1.9981],\n",
            "        [-3.4011]], requires_grad=True)\n",
            "tensor([4.1984], requires_grad=True)\n",
            "tensor([[ 1.9983],\n",
            "        [-3.4010]], requires_grad=True)\n",
            "tensor([4.1985], requires_grad=True)\n",
            "tensor([[ 1.9985],\n",
            "        [-3.4009]], requires_grad=True)\n",
            "tensor([4.1986], requires_grad=True)\n",
            "tensor([[ 1.9987],\n",
            "        [-3.4007]], requires_grad=True)\n",
            "tensor([4.1985], requires_grad=True)\n",
            "tensor([[ 1.9987],\n",
            "        [-3.4005]], requires_grad=True)\n",
            "tensor([4.1986], requires_grad=True)\n",
            "tensor([[ 1.9986],\n",
            "        [-3.4006]], requires_grad=True)\n",
            "tensor([4.1986], requires_grad=True)\n",
            "tensor([[ 1.9987],\n",
            "        [-3.4004]], requires_grad=True)\n",
            "tensor([4.1986], requires_grad=True)\n",
            "tensor([[ 1.9988],\n",
            "        [-3.4006]], requires_grad=True)\n",
            "tensor([4.1987], requires_grad=True)\n",
            "tensor([[ 1.9989],\n",
            "        [-3.4006]], requires_grad=True)\n",
            "tensor([4.1988], requires_grad=True)\n",
            "tensor([[ 1.9988],\n",
            "        [-3.4006]], requires_grad=True)\n",
            "tensor([4.1988], requires_grad=True)\n",
            "tensor([[ 1.9987],\n",
            "        [-3.4009]], requires_grad=True)\n",
            "tensor([4.1989], requires_grad=True)\n",
            "tensor([[ 1.9984],\n",
            "        [-3.4008]], requires_grad=True)\n",
            "tensor([4.1991], requires_grad=True)\n",
            "tensor([[ 1.9983],\n",
            "        [-3.4007]], requires_grad=True)\n",
            "tensor([4.1990], requires_grad=True)\n",
            "tensor([[ 1.9983],\n",
            "        [-3.4007]], requires_grad=True)\n",
            "tensor([4.1993], requires_grad=True)\n",
            "tensor([[ 1.9984],\n",
            "        [-3.4008]], requires_grad=True)\n",
            "tensor([4.1994], requires_grad=True)\n",
            "tensor([[ 1.9984],\n",
            "        [-3.4006]], requires_grad=True)\n",
            "tensor([4.1995], requires_grad=True)\n",
            "tensor([[ 1.9985],\n",
            "        [-3.4006]], requires_grad=True)\n",
            "tensor([4.1995], requires_grad=True)\n",
            "tensor([[ 1.9984],\n",
            "        [-3.4006]], requires_grad=True)\n",
            "tensor([4.1996], requires_grad=True)\n",
            "tensor([[ 1.9987],\n",
            "        [-3.4006]], requires_grad=True)\n",
            "tensor([4.1996], requires_grad=True)\n",
            "tensor([[ 1.9988],\n",
            "        [-3.4006]], requires_grad=True)\n",
            "tensor([4.1994], requires_grad=True)\n",
            "tensor([[ 1.9989],\n",
            "        [-3.4008]], requires_grad=True)\n",
            "tensor([4.1994], requires_grad=True)\n",
            "tensor([[ 1.9990],\n",
            "        [-3.4006]], requires_grad=True)\n",
            "tensor([4.1995], requires_grad=True)\n",
            "tensor([[ 1.9990],\n",
            "        [-3.4007]], requires_grad=True)\n",
            "tensor([4.1996], requires_grad=True)\n",
            "tensor([[ 1.9991],\n",
            "        [-3.4006]], requires_grad=True)\n",
            "tensor([4.1995], requires_grad=True)\n",
            "tensor([[ 1.9989],\n",
            "        [-3.4005]], requires_grad=True)\n",
            "tensor([4.1995], requires_grad=True)\n",
            "tensor([[ 1.9989],\n",
            "        [-3.4005]], requires_grad=True)\n",
            "tensor([4.1995], requires_grad=True)\n",
            "tensor([[ 1.9988],\n",
            "        [-3.4006]], requires_grad=True)\n",
            "tensor([4.1995], requires_grad=True)\n",
            "tensor([[ 1.9989],\n",
            "        [-3.4006]], requires_grad=True)\n",
            "tensor([4.1994], requires_grad=True)\n",
            "tensor([[ 1.9989],\n",
            "        [-3.4006]], requires_grad=True)\n",
            "tensor([4.1994], requires_grad=True)\n",
            "tensor([[ 1.9988],\n",
            "        [-3.4005]], requires_grad=True)\n",
            "tensor([4.1996], requires_grad=True)\n",
            "tensor([[ 1.9989],\n",
            "        [-3.4005]], requires_grad=True)\n",
            "tensor([4.1996], requires_grad=True)\n",
            "tensor([[ 1.9990],\n",
            "        [-3.4005]], requires_grad=True)\n",
            "tensor([4.1997], requires_grad=True)\n",
            "tensor([[ 1.9991],\n",
            "        [-3.4005]], requires_grad=True)\n",
            "tensor([4.1996], requires_grad=True)\n",
            "tensor([[ 1.9992],\n",
            "        [-3.4003]], requires_grad=True)\n",
            "tensor([4.1993], requires_grad=True)\n",
            "tensor([[ 1.9992],\n",
            "        [-3.4003]], requires_grad=True)\n",
            "tensor([4.1994], requires_grad=True)\n",
            "tensor([[ 1.9993],\n",
            "        [-3.4003]], requires_grad=True)\n",
            "tensor([4.1994], requires_grad=True)\n",
            "epoch3,loss0.000053\n"
          ],
          "name": "stdout"
        }
      ]
    },
    {
      "cell_type": "code",
      "metadata": {
        "colab": {
          "base_uri": "https://localhost:8080/"
        },
        "id": "6BG_k4Hm0vbB",
        "outputId": "60fde984-8eb2-4146-dee9-1d99decea3f6"
      },
      "source": [
        "print(true_w,true_b)"
      ],
      "execution_count": 382,
      "outputs": [
        {
          "output_type": "stream",
          "text": [
            "tensor([ 2.0000, -3.4000]) 4.2\n"
          ],
          "name": "stdout"
        }
      ]
    },
    {
      "cell_type": "code",
      "metadata": {
        "colab": {
          "base_uri": "https://localhost:8080/"
        },
        "id": "bjcfgAJusu9S",
        "outputId": "08112a3f-6f32-4f85-d684-e6cc02b9983b"
      },
      "source": [
        "print(f'error in estimating w: {true_w-w.reshape(true_w.shape)}')\n",
        "print(f'error in estimating b:{true_b - b}')"
      ],
      "execution_count": 383,
      "outputs": [
        {
          "output_type": "stream",
          "text": [
            "error in estimating w: tensor([0.0007, 0.0003], grad_fn=<SubBackward0>)\n",
            "error in estimating b:tensor([0.0006], grad_fn=<RsubBackward1>)\n"
          ],
          "name": "stdout"
        }
      ]
    },
    {
      "cell_type": "markdown",
      "metadata": {
        "id": "Q52Ajv8g1ta7"
      },
      "source": [
        "# 3.3Concise Implementation of Linear Regression"
      ]
    },
    {
      "cell_type": "markdown",
      "metadata": {
        "id": "UGH8LZXO2VjM"
      },
      "source": [
        "## 3.3.1 Generating the Dataset"
      ]
    },
    {
      "cell_type": "code",
      "metadata": {
        "id": "1CsP8glksatF"
      },
      "source": [
        "import numpy as np\n",
        "import torch\n",
        "from torch.utils import data\n",
        "from d2l import torch as d2l\n",
        "\n",
        "true_w = torch.tensor([2,-3.4])\n",
        "true_b = 4.2\n",
        "features,labels = d2l.synthetic_data(true_w,true_b,1000)"
      ],
      "execution_count": 384,
      "outputs": []
    },
    {
      "cell_type": "markdown",
      "metadata": {
        "id": "RfC765xyCpKc"
      },
      "source": [
        "## 3.3.2 Reading the Dataset"
      ]
    },
    {
      "cell_type": "code",
      "metadata": {
        "id": "ptmKetFB1sof"
      },
      "source": [
        "def load_array(data_arrays,batch_size,is_train = True): #@save\n",
        "    dataset = data.TensorDataset(*data_arrays)\n",
        "    return data.DataLoader(dataset,batch_size,shuffle=is_train)\n",
        "\n",
        "batch_size = 10\n",
        "data_iter = load_array((features,labels),batch_size)"
      ],
      "execution_count": 385,
      "outputs": []
    },
    {
      "cell_type": "code",
      "metadata": {
        "colab": {
          "base_uri": "https://localhost:8080/"
        },
        "id": "lppKx66d8z-Y",
        "outputId": "9da8ffd9-0a40-43c6-badd-c56d4ed7ca26"
      },
      "source": [
        "next(iter(data_iter))"
      ],
      "execution_count": 386,
      "outputs": [
        {
          "output_type": "execute_result",
          "data": {
            "text/plain": [
              "[tensor([[-1.2118,  1.5851],\n",
              "         [-0.0301,  0.1724],\n",
              "         [-0.2714, -0.2437],\n",
              "         [ 0.4880, -0.6067],\n",
              "         [-0.6051, -0.9909],\n",
              "         [-1.4713, -0.2261],\n",
              "         [ 0.3876, -1.0503],\n",
              "         [-0.0277, -1.9536],\n",
              "         [-0.1065, -1.2941],\n",
              "         [ 0.8131,  0.3177]]), tensor([[-3.6063],\n",
              "         [ 3.5545],\n",
              "         [ 4.4886],\n",
              "         [ 7.2476],\n",
              "         [ 6.3559],\n",
              "         [ 2.0300],\n",
              "         [ 8.5408],\n",
              "         [10.7743],\n",
              "         [ 8.3920],\n",
              "         [ 4.7636]])]"
            ]
          },
          "metadata": {
            "tags": []
          },
          "execution_count": 386
        }
      ]
    },
    {
      "cell_type": "markdown",
      "metadata": {
        "id": "CVT0s1hzCvEi"
      },
      "source": [
        "##3.3.3 Defining the Model"
      ]
    },
    {
      "cell_type": "code",
      "metadata": {
        "id": "hCMiptt81sqG"
      },
      "source": [
        "from torch import nn\n",
        "\n",
        "net = nn.Sequential(nn.Linear(2,1))"
      ],
      "execution_count": 387,
      "outputs": []
    },
    {
      "cell_type": "code",
      "metadata": {
        "id": "rxcO_Miq1ss5",
        "colab": {
          "base_uri": "https://localhost:8080/"
        },
        "outputId": "ec752593-b09b-4173-ef46-7e494e7cb5bf"
      },
      "source": [
        "print(net[0].weight.data)\n",
        "print(net[0].bias.data)"
      ],
      "execution_count": 388,
      "outputs": [
        {
          "output_type": "stream",
          "text": [
            "tensor([[ 0.3715, -0.1580]])\n",
            "tensor([-0.6528])\n"
          ],
          "name": "stdout"
        }
      ]
    },
    {
      "cell_type": "markdown",
      "metadata": {
        "id": "2MMdNr6QDW0D"
      },
      "source": [
        "## 3.3.4 Initializing Model Parameters"
      ]
    },
    {
      "cell_type": "code",
      "metadata": {
        "id": "wi7B6oE-1suc",
        "colab": {
          "base_uri": "https://localhost:8080/"
        },
        "outputId": "ac5fc02a-3ac5-4b3f-887b-2a71cd531a16"
      },
      "source": [
        "print(net[0].weight.data.normal_(0,0.01))\n",
        "net[0].bias.data.fill_(0)"
      ],
      "execution_count": 389,
      "outputs": [
        {
          "output_type": "stream",
          "text": [
            "tensor([[-0.0077, -0.0115]])\n"
          ],
          "name": "stdout"
        },
        {
          "output_type": "execute_result",
          "data": {
            "text/plain": [
              "tensor([0.])"
            ]
          },
          "metadata": {
            "tags": []
          },
          "execution_count": 389
        }
      ]
    },
    {
      "cell_type": "markdown",
      "metadata": {
        "id": "5fWqqCpZDydC"
      },
      "source": [
        "## 3.3.5 Defining the Loss Function"
      ]
    },
    {
      "cell_type": "code",
      "metadata": {
        "id": "R-vg7OSC1syq"
      },
      "source": [
        "loss = nn.MSELoss()"
      ],
      "execution_count": 390,
      "outputs": []
    },
    {
      "cell_type": "markdown",
      "metadata": {
        "id": "InaBrXllD8-P"
      },
      "source": [
        "## 3.3.6 Defining the Optimization Alogrithm"
      ]
    },
    {
      "cell_type": "code",
      "metadata": {
        "id": "gB5xeI0Z1s0S",
        "colab": {
          "base_uri": "https://localhost:8080/"
        },
        "outputId": "7c890558-ce34-4c53-d2ea-5a17586addd4"
      },
      "source": [
        "print(net.parameters)"
      ],
      "execution_count": 391,
      "outputs": [
        {
          "output_type": "stream",
          "text": [
            "<bound method Module.parameters of Sequential(\n",
            "  (0): Linear(in_features=2, out_features=1, bias=True)\n",
            ")>\n"
          ],
          "name": "stdout"
        }
      ]
    },
    {
      "cell_type": "code",
      "metadata": {
        "id": "Oy_Or4ra1s2z"
      },
      "source": [
        "trainer = torch.optim.SGD(net.parameters(),lr=0.03)"
      ],
      "execution_count": 392,
      "outputs": []
    },
    {
      "cell_type": "markdown",
      "metadata": {
        "id": "X0-dzqelEl3J"
      },
      "source": [
        "## 3.3.7  Training"
      ]
    },
    {
      "cell_type": "code",
      "metadata": {
        "id": "G6eUArSU1s41",
        "colab": {
          "base_uri": "https://localhost:8080/"
        },
        "outputId": "b2b07703-9643-4638-9b2f-a517f7907e06"
      },
      "source": [
        "num_epochs = 7\n",
        "for epoch in range(num_epochs):\n",
        "    for X,y in data_iter:\n",
        "        l = loss(net(X),y)\n",
        "        print(l)\n",
        "        trainer.zero_grad()\n",
        "        l.backward()\n",
        "        trainer.step()\n",
        "    l = loss(net(features),labels)\n",
        "    print(f'epoch{epoch + 1},loss{l:f}')"
      ],
      "execution_count": 393,
      "outputs": [
        {
          "output_type": "stream",
          "text": [
            "tensor(29.8980, grad_fn=<MseLossBackward>)\n",
            "tensor(22.1469, grad_fn=<MseLossBackward>)\n",
            "tensor(46.6317, grad_fn=<MseLossBackward>)\n",
            "tensor(27.9544, grad_fn=<MseLossBackward>)\n",
            "tensor(15.7076, grad_fn=<MseLossBackward>)\n",
            "tensor(13.2773, grad_fn=<MseLossBackward>)\n",
            "tensor(16.9188, grad_fn=<MseLossBackward>)\n",
            "tensor(17.5831, grad_fn=<MseLossBackward>)\n",
            "tensor(15.4310, grad_fn=<MseLossBackward>)\n",
            "tensor(12.8709, grad_fn=<MseLossBackward>)\n",
            "tensor(9.0164, grad_fn=<MseLossBackward>)\n",
            "tensor(5.9934, grad_fn=<MseLossBackward>)\n",
            "tensor(4.1582, grad_fn=<MseLossBackward>)\n",
            "tensor(6.8810, grad_fn=<MseLossBackward>)\n",
            "tensor(6.8596, grad_fn=<MseLossBackward>)\n",
            "tensor(4.8107, grad_fn=<MseLossBackward>)\n",
            "tensor(5.2392, grad_fn=<MseLossBackward>)\n",
            "tensor(1.7930, grad_fn=<MseLossBackward>)\n",
            "tensor(3.9682, grad_fn=<MseLossBackward>)\n",
            "tensor(1.1756, grad_fn=<MseLossBackward>)\n",
            "tensor(2.9347, grad_fn=<MseLossBackward>)\n",
            "tensor(1.3165, grad_fn=<MseLossBackward>)\n",
            "tensor(1.8315, grad_fn=<MseLossBackward>)\n",
            "tensor(1.9256, grad_fn=<MseLossBackward>)\n",
            "tensor(0.9194, grad_fn=<MseLossBackward>)\n",
            "tensor(1.1162, grad_fn=<MseLossBackward>)\n",
            "tensor(0.8836, grad_fn=<MseLossBackward>)\n",
            "tensor(0.6825, grad_fn=<MseLossBackward>)\n",
            "tensor(0.6557, grad_fn=<MseLossBackward>)\n",
            "tensor(0.4934, grad_fn=<MseLossBackward>)\n",
            "tensor(1.0329, grad_fn=<MseLossBackward>)\n",
            "tensor(0.5115, grad_fn=<MseLossBackward>)\n",
            "tensor(0.5785, grad_fn=<MseLossBackward>)\n",
            "tensor(0.4539, grad_fn=<MseLossBackward>)\n",
            "tensor(0.6563, grad_fn=<MseLossBackward>)\n",
            "tensor(0.2373, grad_fn=<MseLossBackward>)\n",
            "tensor(0.4403, grad_fn=<MseLossBackward>)\n",
            "tensor(0.5538, grad_fn=<MseLossBackward>)\n",
            "tensor(0.3142, grad_fn=<MseLossBackward>)\n",
            "tensor(0.1419, grad_fn=<MseLossBackward>)\n",
            "tensor(0.0797, grad_fn=<MseLossBackward>)\n",
            "tensor(0.1220, grad_fn=<MseLossBackward>)\n",
            "tensor(0.1477, grad_fn=<MseLossBackward>)\n",
            "tensor(0.1485, grad_fn=<MseLossBackward>)\n",
            "tensor(0.1753, grad_fn=<MseLossBackward>)\n",
            "tensor(0.1666, grad_fn=<MseLossBackward>)\n",
            "tensor(0.0524, grad_fn=<MseLossBackward>)\n",
            "tensor(0.0879, grad_fn=<MseLossBackward>)\n",
            "tensor(0.0726, grad_fn=<MseLossBackward>)\n",
            "tensor(0.0543, grad_fn=<MseLossBackward>)\n",
            "tensor(0.0337, grad_fn=<MseLossBackward>)\n",
            "tensor(0.0655, grad_fn=<MseLossBackward>)\n",
            "tensor(0.0449, grad_fn=<MseLossBackward>)\n",
            "tensor(0.0279, grad_fn=<MseLossBackward>)\n",
            "tensor(0.0307, grad_fn=<MseLossBackward>)\n",
            "tensor(0.0215, grad_fn=<MseLossBackward>)\n",
            "tensor(0.0164, grad_fn=<MseLossBackward>)\n",
            "tensor(0.0425, grad_fn=<MseLossBackward>)\n",
            "tensor(0.0353, grad_fn=<MseLossBackward>)\n",
            "tensor(0.0208, grad_fn=<MseLossBackward>)\n",
            "tensor(0.0123, grad_fn=<MseLossBackward>)\n",
            "tensor(0.0105, grad_fn=<MseLossBackward>)\n",
            "tensor(0.0119, grad_fn=<MseLossBackward>)\n",
            "tensor(0.0101, grad_fn=<MseLossBackward>)\n",
            "tensor(0.0079, grad_fn=<MseLossBackward>)\n",
            "tensor(0.0079, grad_fn=<MseLossBackward>)\n",
            "tensor(0.0042, grad_fn=<MseLossBackward>)\n",
            "tensor(0.0066, grad_fn=<MseLossBackward>)\n",
            "tensor(0.0043, grad_fn=<MseLossBackward>)\n",
            "tensor(0.0040, grad_fn=<MseLossBackward>)\n",
            "tensor(0.0113, grad_fn=<MseLossBackward>)\n",
            "tensor(0.0035, grad_fn=<MseLossBackward>)\n",
            "tensor(0.0058, grad_fn=<MseLossBackward>)\n",
            "tensor(0.0039, grad_fn=<MseLossBackward>)\n",
            "tensor(0.0016, grad_fn=<MseLossBackward>)\n",
            "tensor(0.0018, grad_fn=<MseLossBackward>)\n",
            "tensor(0.0027, grad_fn=<MseLossBackward>)\n",
            "tensor(0.0028, grad_fn=<MseLossBackward>)\n",
            "tensor(0.0031, grad_fn=<MseLossBackward>)\n",
            "tensor(0.0013, grad_fn=<MseLossBackward>)\n",
            "tensor(0.0014, grad_fn=<MseLossBackward>)\n",
            "tensor(0.0016, grad_fn=<MseLossBackward>)\n",
            "tensor(0.0018, grad_fn=<MseLossBackward>)\n",
            "tensor(0.0015, grad_fn=<MseLossBackward>)\n",
            "tensor(0.0015, grad_fn=<MseLossBackward>)\n",
            "tensor(0.0010, grad_fn=<MseLossBackward>)\n",
            "tensor(0.0009, grad_fn=<MseLossBackward>)\n",
            "tensor(0.0002, grad_fn=<MseLossBackward>)\n",
            "tensor(0.0004, grad_fn=<MseLossBackward>)\n",
            "tensor(0.0005, grad_fn=<MseLossBackward>)\n",
            "tensor(0.0005, grad_fn=<MseLossBackward>)\n",
            "tensor(0.0003, grad_fn=<MseLossBackward>)\n",
            "tensor(0.0007, grad_fn=<MseLossBackward>)\n",
            "tensor(0.0001, grad_fn=<MseLossBackward>)\n",
            "tensor(0.0004, grad_fn=<MseLossBackward>)\n",
            "tensor(0.0005, grad_fn=<MseLossBackward>)\n",
            "tensor(0.0007, grad_fn=<MseLossBackward>)\n",
            "tensor(0.0003, grad_fn=<MseLossBackward>)\n",
            "tensor(0.0003, grad_fn=<MseLossBackward>)\n",
            "tensor(0.0005, grad_fn=<MseLossBackward>)\n",
            "epoch1,loss0.000267\n",
            "tensor(0.0003, grad_fn=<MseLossBackward>)\n",
            "tensor(0.0004, grad_fn=<MseLossBackward>)\n",
            "tensor(0.0002, grad_fn=<MseLossBackward>)\n",
            "tensor(0.0002, grad_fn=<MseLossBackward>)\n",
            "tensor(0.0002, grad_fn=<MseLossBackward>)\n",
            "tensor(0.0003, grad_fn=<MseLossBackward>)\n",
            "tensor(0.0001, grad_fn=<MseLossBackward>)\n",
            "tensor(0.0002, grad_fn=<MseLossBackward>)\n",
            "tensor(0.0002, grad_fn=<MseLossBackward>)\n",
            "tensor(0.0002, grad_fn=<MseLossBackward>)\n",
            "tensor(0.0001, grad_fn=<MseLossBackward>)\n",
            "tensor(0.0002, grad_fn=<MseLossBackward>)\n",
            "tensor(0.0002, grad_fn=<MseLossBackward>)\n",
            "tensor(0.0001, grad_fn=<MseLossBackward>)\n",
            "tensor(0.0002, grad_fn=<MseLossBackward>)\n",
            "tensor(8.2662e-05, grad_fn=<MseLossBackward>)\n",
            "tensor(8.5899e-05, grad_fn=<MseLossBackward>)\n",
            "tensor(6.4026e-05, grad_fn=<MseLossBackward>)\n",
            "tensor(0.0001, grad_fn=<MseLossBackward>)\n",
            "tensor(4.7885e-05, grad_fn=<MseLossBackward>)\n",
            "tensor(7.8759e-05, grad_fn=<MseLossBackward>)\n",
            "tensor(0.0001, grad_fn=<MseLossBackward>)\n",
            "tensor(0.0001, grad_fn=<MseLossBackward>)\n",
            "tensor(7.5922e-05, grad_fn=<MseLossBackward>)\n",
            "tensor(3.0973e-05, grad_fn=<MseLossBackward>)\n",
            "tensor(0.0002, grad_fn=<MseLossBackward>)\n",
            "tensor(0.0002, grad_fn=<MseLossBackward>)\n",
            "tensor(0.0001, grad_fn=<MseLossBackward>)\n",
            "tensor(0.0001, grad_fn=<MseLossBackward>)\n",
            "tensor(9.4395e-05, grad_fn=<MseLossBackward>)\n",
            "tensor(0.0002, grad_fn=<MseLossBackward>)\n",
            "tensor(0.0002, grad_fn=<MseLossBackward>)\n",
            "tensor(0.0002, grad_fn=<MseLossBackward>)\n",
            "tensor(7.0793e-05, grad_fn=<MseLossBackward>)\n",
            "tensor(7.6381e-05, grad_fn=<MseLossBackward>)\n",
            "tensor(0.0002, grad_fn=<MseLossBackward>)\n",
            "tensor(3.2139e-05, grad_fn=<MseLossBackward>)\n",
            "tensor(0.0001, grad_fn=<MseLossBackward>)\n",
            "tensor(5.2286e-05, grad_fn=<MseLossBackward>)\n",
            "tensor(8.2578e-05, grad_fn=<MseLossBackward>)\n",
            "tensor(8.6602e-05, grad_fn=<MseLossBackward>)\n",
            "tensor(0.0001, grad_fn=<MseLossBackward>)\n",
            "tensor(0.0001, grad_fn=<MseLossBackward>)\n",
            "tensor(0.0001, grad_fn=<MseLossBackward>)\n",
            "tensor(0.0001, grad_fn=<MseLossBackward>)\n",
            "tensor(0.0001, grad_fn=<MseLossBackward>)\n",
            "tensor(0.0001, grad_fn=<MseLossBackward>)\n",
            "tensor(0.0001, grad_fn=<MseLossBackward>)\n",
            "tensor(8.9669e-05, grad_fn=<MseLossBackward>)\n",
            "tensor(0.0001, grad_fn=<MseLossBackward>)\n",
            "tensor(9.6452e-05, grad_fn=<MseLossBackward>)\n",
            "tensor(0.0001, grad_fn=<MseLossBackward>)\n",
            "tensor(0.0001, grad_fn=<MseLossBackward>)\n",
            "tensor(9.9810e-05, grad_fn=<MseLossBackward>)\n",
            "tensor(6.5707e-05, grad_fn=<MseLossBackward>)\n",
            "tensor(5.6796e-05, grad_fn=<MseLossBackward>)\n",
            "tensor(7.1537e-05, grad_fn=<MseLossBackward>)\n",
            "tensor(0.0001, grad_fn=<MseLossBackward>)\n",
            "tensor(9.2194e-05, grad_fn=<MseLossBackward>)\n",
            "tensor(0.0001, grad_fn=<MseLossBackward>)\n",
            "tensor(7.3007e-05, grad_fn=<MseLossBackward>)\n",
            "tensor(8.9188e-05, grad_fn=<MseLossBackward>)\n",
            "tensor(0.0002, grad_fn=<MseLossBackward>)\n",
            "tensor(0.0001, grad_fn=<MseLossBackward>)\n",
            "tensor(0.0001, grad_fn=<MseLossBackward>)\n",
            "tensor(0.0001, grad_fn=<MseLossBackward>)\n",
            "tensor(0.0001, grad_fn=<MseLossBackward>)\n",
            "tensor(7.9714e-05, grad_fn=<MseLossBackward>)\n",
            "tensor(8.4379e-05, grad_fn=<MseLossBackward>)\n",
            "tensor(7.6645e-05, grad_fn=<MseLossBackward>)\n",
            "tensor(5.6406e-05, grad_fn=<MseLossBackward>)\n",
            "tensor(0.0001, grad_fn=<MseLossBackward>)\n",
            "tensor(0.0001, grad_fn=<MseLossBackward>)\n",
            "tensor(0.0002, grad_fn=<MseLossBackward>)\n",
            "tensor(0.0002, grad_fn=<MseLossBackward>)\n",
            "tensor(7.5972e-05, grad_fn=<MseLossBackward>)\n",
            "tensor(7.1579e-05, grad_fn=<MseLossBackward>)\n",
            "tensor(3.2414e-05, grad_fn=<MseLossBackward>)\n",
            "tensor(9.7316e-05, grad_fn=<MseLossBackward>)\n",
            "tensor(8.5212e-05, grad_fn=<MseLossBackward>)\n",
            "tensor(5.7294e-05, grad_fn=<MseLossBackward>)\n",
            "tensor(9.2595e-05, grad_fn=<MseLossBackward>)\n",
            "tensor(7.3932e-05, grad_fn=<MseLossBackward>)\n",
            "tensor(7.3991e-05, grad_fn=<MseLossBackward>)\n",
            "tensor(8.1481e-05, grad_fn=<MseLossBackward>)\n",
            "tensor(8.3457e-05, grad_fn=<MseLossBackward>)\n",
            "tensor(5.7652e-05, grad_fn=<MseLossBackward>)\n",
            "tensor(0.0001, grad_fn=<MseLossBackward>)\n",
            "tensor(0.0002, grad_fn=<MseLossBackward>)\n",
            "tensor(0.0001, grad_fn=<MseLossBackward>)\n",
            "tensor(3.9972e-05, grad_fn=<MseLossBackward>)\n",
            "tensor(6.2457e-05, grad_fn=<MseLossBackward>)\n",
            "tensor(8.6581e-05, grad_fn=<MseLossBackward>)\n",
            "tensor(2.8358e-05, grad_fn=<MseLossBackward>)\n",
            "tensor(0.0001, grad_fn=<MseLossBackward>)\n",
            "tensor(0.0002, grad_fn=<MseLossBackward>)\n",
            "tensor(7.9212e-05, grad_fn=<MseLossBackward>)\n",
            "tensor(0.0002, grad_fn=<MseLossBackward>)\n",
            "tensor(0.0003, grad_fn=<MseLossBackward>)\n",
            "tensor(0.0002, grad_fn=<MseLossBackward>)\n",
            "epoch2,loss0.000104\n",
            "tensor(5.5579e-05, grad_fn=<MseLossBackward>)\n",
            "tensor(7.4519e-05, grad_fn=<MseLossBackward>)\n",
            "tensor(0.0002, grad_fn=<MseLossBackward>)\n",
            "tensor(0.0002, grad_fn=<MseLossBackward>)\n",
            "tensor(0.0001, grad_fn=<MseLossBackward>)\n",
            "tensor(0.0001, grad_fn=<MseLossBackward>)\n",
            "tensor(8.8236e-05, grad_fn=<MseLossBackward>)\n",
            "tensor(3.2165e-05, grad_fn=<MseLossBackward>)\n",
            "tensor(5.1586e-05, grad_fn=<MseLossBackward>)\n",
            "tensor(0.0001, grad_fn=<MseLossBackward>)\n",
            "tensor(0.0001, grad_fn=<MseLossBackward>)\n",
            "tensor(0.0001, grad_fn=<MseLossBackward>)\n",
            "tensor(7.0411e-05, grad_fn=<MseLossBackward>)\n",
            "tensor(0.0001, grad_fn=<MseLossBackward>)\n",
            "tensor(0.0002, grad_fn=<MseLossBackward>)\n",
            "tensor(0.0001, grad_fn=<MseLossBackward>)\n",
            "tensor(8.6674e-05, grad_fn=<MseLossBackward>)\n",
            "tensor(0.0001, grad_fn=<MseLossBackward>)\n",
            "tensor(0.0001, grad_fn=<MseLossBackward>)\n",
            "tensor(5.3833e-05, grad_fn=<MseLossBackward>)\n",
            "tensor(0.0001, grad_fn=<MseLossBackward>)\n",
            "tensor(0.0001, grad_fn=<MseLossBackward>)\n",
            "tensor(0.0002, grad_fn=<MseLossBackward>)\n",
            "tensor(0.0001, grad_fn=<MseLossBackward>)\n",
            "tensor(9.3181e-05, grad_fn=<MseLossBackward>)\n",
            "tensor(4.8353e-05, grad_fn=<MseLossBackward>)\n",
            "tensor(8.6662e-05, grad_fn=<MseLossBackward>)\n",
            "tensor(0.0002, grad_fn=<MseLossBackward>)\n",
            "tensor(7.6892e-05, grad_fn=<MseLossBackward>)\n",
            "tensor(0.0001, grad_fn=<MseLossBackward>)\n",
            "tensor(0.0001, grad_fn=<MseLossBackward>)\n",
            "tensor(0.0002, grad_fn=<MseLossBackward>)\n",
            "tensor(8.5400e-05, grad_fn=<MseLossBackward>)\n",
            "tensor(0.0001, grad_fn=<MseLossBackward>)\n",
            "tensor(6.3470e-05, grad_fn=<MseLossBackward>)\n",
            "tensor(7.3508e-05, grad_fn=<MseLossBackward>)\n",
            "tensor(0.0001, grad_fn=<MseLossBackward>)\n",
            "tensor(0.0001, grad_fn=<MseLossBackward>)\n",
            "tensor(9.2804e-05, grad_fn=<MseLossBackward>)\n",
            "tensor(0.0001, grad_fn=<MseLossBackward>)\n",
            "tensor(6.7440e-05, grad_fn=<MseLossBackward>)\n",
            "tensor(7.4052e-05, grad_fn=<MseLossBackward>)\n",
            "tensor(0.0001, grad_fn=<MseLossBackward>)\n",
            "tensor(7.9591e-05, grad_fn=<MseLossBackward>)\n",
            "tensor(3.7484e-05, grad_fn=<MseLossBackward>)\n",
            "tensor(9.7269e-05, grad_fn=<MseLossBackward>)\n",
            "tensor(8.2520e-05, grad_fn=<MseLossBackward>)\n",
            "tensor(1.7386e-05, grad_fn=<MseLossBackward>)\n",
            "tensor(9.4393e-05, grad_fn=<MseLossBackward>)\n",
            "tensor(7.4674e-05, grad_fn=<MseLossBackward>)\n",
            "tensor(0.0001, grad_fn=<MseLossBackward>)\n",
            "tensor(3.5981e-05, grad_fn=<MseLossBackward>)\n",
            "tensor(8.4584e-05, grad_fn=<MseLossBackward>)\n",
            "tensor(4.5494e-05, grad_fn=<MseLossBackward>)\n",
            "tensor(2.3861e-05, grad_fn=<MseLossBackward>)\n",
            "tensor(6.6937e-05, grad_fn=<MseLossBackward>)\n",
            "tensor(6.0384e-05, grad_fn=<MseLossBackward>)\n",
            "tensor(6.3618e-05, grad_fn=<MseLossBackward>)\n",
            "tensor(0.0001, grad_fn=<MseLossBackward>)\n",
            "tensor(7.4220e-05, grad_fn=<MseLossBackward>)\n",
            "tensor(0.0001, grad_fn=<MseLossBackward>)\n",
            "tensor(0.0002, grad_fn=<MseLossBackward>)\n",
            "tensor(0.0001, grad_fn=<MseLossBackward>)\n",
            "tensor(4.9761e-05, grad_fn=<MseLossBackward>)\n",
            "tensor(0.0001, grad_fn=<MseLossBackward>)\n",
            "tensor(0.0002, grad_fn=<MseLossBackward>)\n",
            "tensor(0.0001, grad_fn=<MseLossBackward>)\n",
            "tensor(0.0001, grad_fn=<MseLossBackward>)\n",
            "tensor(8.4424e-05, grad_fn=<MseLossBackward>)\n",
            "tensor(0.0001, grad_fn=<MseLossBackward>)\n",
            "tensor(6.5245e-05, grad_fn=<MseLossBackward>)\n",
            "tensor(0.0001, grad_fn=<MseLossBackward>)\n",
            "tensor(6.9840e-05, grad_fn=<MseLossBackward>)\n",
            "tensor(0.0001, grad_fn=<MseLossBackward>)\n",
            "tensor(0.0001, grad_fn=<MseLossBackward>)\n",
            "tensor(5.4518e-05, grad_fn=<MseLossBackward>)\n",
            "tensor(0.0002, grad_fn=<MseLossBackward>)\n",
            "tensor(4.7303e-05, grad_fn=<MseLossBackward>)\n",
            "tensor(9.3243e-05, grad_fn=<MseLossBackward>)\n",
            "tensor(0.0001, grad_fn=<MseLossBackward>)\n",
            "tensor(0.0001, grad_fn=<MseLossBackward>)\n",
            "tensor(0.0001, grad_fn=<MseLossBackward>)\n",
            "tensor(9.3378e-05, grad_fn=<MseLossBackward>)\n",
            "tensor(7.5814e-05, grad_fn=<MseLossBackward>)\n",
            "tensor(0.0001, grad_fn=<MseLossBackward>)\n",
            "tensor(0.0001, grad_fn=<MseLossBackward>)\n",
            "tensor(0.0001, grad_fn=<MseLossBackward>)\n",
            "tensor(0.0001, grad_fn=<MseLossBackward>)\n",
            "tensor(0.0001, grad_fn=<MseLossBackward>)\n",
            "tensor(0.0001, grad_fn=<MseLossBackward>)\n",
            "tensor(0.0002, grad_fn=<MseLossBackward>)\n",
            "tensor(0.0001, grad_fn=<MseLossBackward>)\n",
            "tensor(0.0001, grad_fn=<MseLossBackward>)\n",
            "tensor(0.0001, grad_fn=<MseLossBackward>)\n",
            "tensor(8.6226e-05, grad_fn=<MseLossBackward>)\n",
            "tensor(7.0959e-05, grad_fn=<MseLossBackward>)\n",
            "tensor(0.0001, grad_fn=<MseLossBackward>)\n",
            "tensor(0.0003, grad_fn=<MseLossBackward>)\n",
            "tensor(3.6391e-05, grad_fn=<MseLossBackward>)\n",
            "tensor(0.0002, grad_fn=<MseLossBackward>)\n",
            "epoch3,loss0.000104\n",
            "tensor(9.9361e-05, grad_fn=<MseLossBackward>)\n",
            "tensor(6.6602e-05, grad_fn=<MseLossBackward>)\n",
            "tensor(5.3118e-05, grad_fn=<MseLossBackward>)\n",
            "tensor(0.0002, grad_fn=<MseLossBackward>)\n",
            "tensor(5.0701e-05, grad_fn=<MseLossBackward>)\n",
            "tensor(0.0001, grad_fn=<MseLossBackward>)\n",
            "tensor(8.2159e-05, grad_fn=<MseLossBackward>)\n",
            "tensor(0.0002, grad_fn=<MseLossBackward>)\n",
            "tensor(7.4468e-05, grad_fn=<MseLossBackward>)\n",
            "tensor(0.0001, grad_fn=<MseLossBackward>)\n",
            "tensor(0.0001, grad_fn=<MseLossBackward>)\n",
            "tensor(8.2558e-05, grad_fn=<MseLossBackward>)\n",
            "tensor(5.7123e-05, grad_fn=<MseLossBackward>)\n",
            "tensor(6.9891e-05, grad_fn=<MseLossBackward>)\n",
            "tensor(0.0002, grad_fn=<MseLossBackward>)\n",
            "tensor(8.4762e-05, grad_fn=<MseLossBackward>)\n",
            "tensor(9.5843e-05, grad_fn=<MseLossBackward>)\n",
            "tensor(7.0024e-05, grad_fn=<MseLossBackward>)\n",
            "tensor(9.2119e-05, grad_fn=<MseLossBackward>)\n",
            "tensor(0.0002, grad_fn=<MseLossBackward>)\n",
            "tensor(0.0001, grad_fn=<MseLossBackward>)\n",
            "tensor(6.4027e-05, grad_fn=<MseLossBackward>)\n",
            "tensor(7.5621e-05, grad_fn=<MseLossBackward>)\n",
            "tensor(0.0001, grad_fn=<MseLossBackward>)\n",
            "tensor(7.9443e-05, grad_fn=<MseLossBackward>)\n",
            "tensor(0.0001, grad_fn=<MseLossBackward>)\n",
            "tensor(0.0002, grad_fn=<MseLossBackward>)\n",
            "tensor(3.4515e-05, grad_fn=<MseLossBackward>)\n",
            "tensor(5.5326e-05, grad_fn=<MseLossBackward>)\n",
            "tensor(7.7979e-05, grad_fn=<MseLossBackward>)\n",
            "tensor(0.0001, grad_fn=<MseLossBackward>)\n",
            "tensor(0.0001, grad_fn=<MseLossBackward>)\n",
            "tensor(0.0002, grad_fn=<MseLossBackward>)\n",
            "tensor(0.0001, grad_fn=<MseLossBackward>)\n",
            "tensor(8.6735e-05, grad_fn=<MseLossBackward>)\n",
            "tensor(0.0001, grad_fn=<MseLossBackward>)\n",
            "tensor(8.5839e-05, grad_fn=<MseLossBackward>)\n",
            "tensor(0.0001, grad_fn=<MseLossBackward>)\n",
            "tensor(0.0002, grad_fn=<MseLossBackward>)\n",
            "tensor(5.6383e-05, grad_fn=<MseLossBackward>)\n",
            "tensor(0.0002, grad_fn=<MseLossBackward>)\n",
            "tensor(5.3664e-05, grad_fn=<MseLossBackward>)\n",
            "tensor(9.6546e-05, grad_fn=<MseLossBackward>)\n",
            "tensor(3.9907e-05, grad_fn=<MseLossBackward>)\n",
            "tensor(0.0002, grad_fn=<MseLossBackward>)\n",
            "tensor(9.3289e-05, grad_fn=<MseLossBackward>)\n",
            "tensor(8.5729e-05, grad_fn=<MseLossBackward>)\n",
            "tensor(0.0002, grad_fn=<MseLossBackward>)\n",
            "tensor(5.3617e-05, grad_fn=<MseLossBackward>)\n",
            "tensor(8.9810e-05, grad_fn=<MseLossBackward>)\n",
            "tensor(0.0002, grad_fn=<MseLossBackward>)\n",
            "tensor(0.0001, grad_fn=<MseLossBackward>)\n",
            "tensor(9.8901e-05, grad_fn=<MseLossBackward>)\n",
            "tensor(0.0001, grad_fn=<MseLossBackward>)\n",
            "tensor(0.0001, grad_fn=<MseLossBackward>)\n",
            "tensor(0.0002, grad_fn=<MseLossBackward>)\n",
            "tensor(9.2943e-05, grad_fn=<MseLossBackward>)\n",
            "tensor(0.0002, grad_fn=<MseLossBackward>)\n",
            "tensor(0.0002, grad_fn=<MseLossBackward>)\n",
            "tensor(8.4624e-05, grad_fn=<MseLossBackward>)\n",
            "tensor(4.8545e-05, grad_fn=<MseLossBackward>)\n",
            "tensor(5.1563e-05, grad_fn=<MseLossBackward>)\n",
            "tensor(8.5278e-05, grad_fn=<MseLossBackward>)\n",
            "tensor(0.0001, grad_fn=<MseLossBackward>)\n",
            "tensor(7.8912e-05, grad_fn=<MseLossBackward>)\n",
            "tensor(0.0001, grad_fn=<MseLossBackward>)\n",
            "tensor(0.0002, grad_fn=<MseLossBackward>)\n",
            "tensor(0.0001, grad_fn=<MseLossBackward>)\n",
            "tensor(0.0001, grad_fn=<MseLossBackward>)\n",
            "tensor(6.3328e-05, grad_fn=<MseLossBackward>)\n",
            "tensor(9.7202e-05, grad_fn=<MseLossBackward>)\n",
            "tensor(0.0001, grad_fn=<MseLossBackward>)\n",
            "tensor(0.0001, grad_fn=<MseLossBackward>)\n",
            "tensor(0.0001, grad_fn=<MseLossBackward>)\n",
            "tensor(6.4794e-05, grad_fn=<MseLossBackward>)\n",
            "tensor(7.5986e-05, grad_fn=<MseLossBackward>)\n",
            "tensor(0.0001, grad_fn=<MseLossBackward>)\n",
            "tensor(5.4445e-05, grad_fn=<MseLossBackward>)\n",
            "tensor(6.1491e-05, grad_fn=<MseLossBackward>)\n",
            "tensor(3.1669e-05, grad_fn=<MseLossBackward>)\n",
            "tensor(0.0001, grad_fn=<MseLossBackward>)\n",
            "tensor(7.4577e-05, grad_fn=<MseLossBackward>)\n",
            "tensor(7.3668e-05, grad_fn=<MseLossBackward>)\n",
            "tensor(8.9339e-05, grad_fn=<MseLossBackward>)\n",
            "tensor(3.6100e-05, grad_fn=<MseLossBackward>)\n",
            "tensor(5.3667e-05, grad_fn=<MseLossBackward>)\n",
            "tensor(0.0001, grad_fn=<MseLossBackward>)\n",
            "tensor(0.0001, grad_fn=<MseLossBackward>)\n",
            "tensor(8.2014e-05, grad_fn=<MseLossBackward>)\n",
            "tensor(9.4539e-05, grad_fn=<MseLossBackward>)\n",
            "tensor(4.7429e-05, grad_fn=<MseLossBackward>)\n",
            "tensor(4.6573e-05, grad_fn=<MseLossBackward>)\n",
            "tensor(0.0002, grad_fn=<MseLossBackward>)\n",
            "tensor(8.0618e-05, grad_fn=<MseLossBackward>)\n",
            "tensor(0.0002, grad_fn=<MseLossBackward>)\n",
            "tensor(7.5869e-05, grad_fn=<MseLossBackward>)\n",
            "tensor(0.0001, grad_fn=<MseLossBackward>)\n",
            "tensor(0.0001, grad_fn=<MseLossBackward>)\n",
            "tensor(0.0001, grad_fn=<MseLossBackward>)\n",
            "tensor(0.0002, grad_fn=<MseLossBackward>)\n",
            "epoch4,loss0.000104\n",
            "tensor(8.6675e-05, grad_fn=<MseLossBackward>)\n",
            "tensor(7.3956e-05, grad_fn=<MseLossBackward>)\n",
            "tensor(9.5494e-05, grad_fn=<MseLossBackward>)\n",
            "tensor(0.0001, grad_fn=<MseLossBackward>)\n",
            "tensor(7.2114e-05, grad_fn=<MseLossBackward>)\n",
            "tensor(9.1059e-05, grad_fn=<MseLossBackward>)\n",
            "tensor(9.7164e-05, grad_fn=<MseLossBackward>)\n",
            "tensor(0.0001, grad_fn=<MseLossBackward>)\n",
            "tensor(8.7645e-05, grad_fn=<MseLossBackward>)\n",
            "tensor(4.4774e-05, grad_fn=<MseLossBackward>)\n",
            "tensor(5.7077e-05, grad_fn=<MseLossBackward>)\n",
            "tensor(9.0891e-05, grad_fn=<MseLossBackward>)\n",
            "tensor(6.3866e-05, grad_fn=<MseLossBackward>)\n",
            "tensor(7.4160e-05, grad_fn=<MseLossBackward>)\n",
            "tensor(9.9798e-05, grad_fn=<MseLossBackward>)\n",
            "tensor(0.0002, grad_fn=<MseLossBackward>)\n",
            "tensor(6.2998e-05, grad_fn=<MseLossBackward>)\n",
            "tensor(9.8164e-05, grad_fn=<MseLossBackward>)\n",
            "tensor(6.6002e-05, grad_fn=<MseLossBackward>)\n",
            "tensor(3.3515e-05, grad_fn=<MseLossBackward>)\n",
            "tensor(4.7035e-05, grad_fn=<MseLossBackward>)\n",
            "tensor(0.0001, grad_fn=<MseLossBackward>)\n",
            "tensor(9.0520e-05, grad_fn=<MseLossBackward>)\n",
            "tensor(0.0002, grad_fn=<MseLossBackward>)\n",
            "tensor(7.8226e-05, grad_fn=<MseLossBackward>)\n",
            "tensor(7.7883e-05, grad_fn=<MseLossBackward>)\n",
            "tensor(0.0001, grad_fn=<MseLossBackward>)\n",
            "tensor(8.0830e-05, grad_fn=<MseLossBackward>)\n",
            "tensor(0.0001, grad_fn=<MseLossBackward>)\n",
            "tensor(0.0001, grad_fn=<MseLossBackward>)\n",
            "tensor(8.8799e-05, grad_fn=<MseLossBackward>)\n",
            "tensor(6.0052e-05, grad_fn=<MseLossBackward>)\n",
            "tensor(8.5458e-05, grad_fn=<MseLossBackward>)\n",
            "tensor(6.5751e-05, grad_fn=<MseLossBackward>)\n",
            "tensor(0.0002, grad_fn=<MseLossBackward>)\n",
            "tensor(0.0002, grad_fn=<MseLossBackward>)\n",
            "tensor(0.0002, grad_fn=<MseLossBackward>)\n",
            "tensor(0.0001, grad_fn=<MseLossBackward>)\n",
            "tensor(4.3556e-05, grad_fn=<MseLossBackward>)\n",
            "tensor(7.1080e-05, grad_fn=<MseLossBackward>)\n",
            "tensor(0.0001, grad_fn=<MseLossBackward>)\n",
            "tensor(0.0001, grad_fn=<MseLossBackward>)\n",
            "tensor(0.0001, grad_fn=<MseLossBackward>)\n",
            "tensor(0.0002, grad_fn=<MseLossBackward>)\n",
            "tensor(7.4209e-05, grad_fn=<MseLossBackward>)\n",
            "tensor(8.7903e-05, grad_fn=<MseLossBackward>)\n",
            "tensor(9.0065e-05, grad_fn=<MseLossBackward>)\n",
            "tensor(4.1735e-05, grad_fn=<MseLossBackward>)\n",
            "tensor(0.0001, grad_fn=<MseLossBackward>)\n",
            "tensor(0.0001, grad_fn=<MseLossBackward>)\n",
            "tensor(0.0002, grad_fn=<MseLossBackward>)\n",
            "tensor(0.0001, grad_fn=<MseLossBackward>)\n",
            "tensor(0.0002, grad_fn=<MseLossBackward>)\n",
            "tensor(5.4408e-05, grad_fn=<MseLossBackward>)\n",
            "tensor(7.6420e-05, grad_fn=<MseLossBackward>)\n",
            "tensor(0.0002, grad_fn=<MseLossBackward>)\n",
            "tensor(8.1436e-05, grad_fn=<MseLossBackward>)\n",
            "tensor(4.4745e-05, grad_fn=<MseLossBackward>)\n",
            "tensor(0.0002, grad_fn=<MseLossBackward>)\n",
            "tensor(0.0001, grad_fn=<MseLossBackward>)\n",
            "tensor(6.5212e-05, grad_fn=<MseLossBackward>)\n",
            "tensor(5.2168e-05, grad_fn=<MseLossBackward>)\n",
            "tensor(9.8185e-05, grad_fn=<MseLossBackward>)\n",
            "tensor(0.0002, grad_fn=<MseLossBackward>)\n",
            "tensor(0.0002, grad_fn=<MseLossBackward>)\n",
            "tensor(8.1336e-05, grad_fn=<MseLossBackward>)\n",
            "tensor(0.0001, grad_fn=<MseLossBackward>)\n",
            "tensor(8.7956e-05, grad_fn=<MseLossBackward>)\n",
            "tensor(0.0001, grad_fn=<MseLossBackward>)\n",
            "tensor(9.7111e-05, grad_fn=<MseLossBackward>)\n",
            "tensor(7.9145e-05, grad_fn=<MseLossBackward>)\n",
            "tensor(9.0349e-05, grad_fn=<MseLossBackward>)\n",
            "tensor(0.0001, grad_fn=<MseLossBackward>)\n",
            "tensor(0.0001, grad_fn=<MseLossBackward>)\n",
            "tensor(0.0002, grad_fn=<MseLossBackward>)\n",
            "tensor(2.2633e-05, grad_fn=<MseLossBackward>)\n",
            "tensor(0.0002, grad_fn=<MseLossBackward>)\n",
            "tensor(8.6218e-05, grad_fn=<MseLossBackward>)\n",
            "tensor(0.0002, grad_fn=<MseLossBackward>)\n",
            "tensor(0.0001, grad_fn=<MseLossBackward>)\n",
            "tensor(4.0011e-05, grad_fn=<MseLossBackward>)\n",
            "tensor(7.0339e-05, grad_fn=<MseLossBackward>)\n",
            "tensor(4.9807e-05, grad_fn=<MseLossBackward>)\n",
            "tensor(9.7221e-05, grad_fn=<MseLossBackward>)\n",
            "tensor(0.0002, grad_fn=<MseLossBackward>)\n",
            "tensor(7.2605e-05, grad_fn=<MseLossBackward>)\n",
            "tensor(4.1874e-05, grad_fn=<MseLossBackward>)\n",
            "tensor(0.0003, grad_fn=<MseLossBackward>)\n",
            "tensor(0.0001, grad_fn=<MseLossBackward>)\n",
            "tensor(9.5300e-05, grad_fn=<MseLossBackward>)\n",
            "tensor(0.0001, grad_fn=<MseLossBackward>)\n",
            "tensor(0.0001, grad_fn=<MseLossBackward>)\n",
            "tensor(7.6240e-05, grad_fn=<MseLossBackward>)\n",
            "tensor(5.0628e-05, grad_fn=<MseLossBackward>)\n",
            "tensor(0.0001, grad_fn=<MseLossBackward>)\n",
            "tensor(0.0001, grad_fn=<MseLossBackward>)\n",
            "tensor(0.0001, grad_fn=<MseLossBackward>)\n",
            "tensor(0.0001, grad_fn=<MseLossBackward>)\n",
            "tensor(4.9657e-05, grad_fn=<MseLossBackward>)\n",
            "tensor(6.9254e-05, grad_fn=<MseLossBackward>)\n",
            "epoch5,loss0.000104\n",
            "tensor(0.0002, grad_fn=<MseLossBackward>)\n",
            "tensor(0.0002, grad_fn=<MseLossBackward>)\n",
            "tensor(0.0001, grad_fn=<MseLossBackward>)\n",
            "tensor(7.0065e-05, grad_fn=<MseLossBackward>)\n",
            "tensor(7.3049e-05, grad_fn=<MseLossBackward>)\n",
            "tensor(4.9174e-05, grad_fn=<MseLossBackward>)\n",
            "tensor(0.0001, grad_fn=<MseLossBackward>)\n",
            "tensor(5.2772e-05, grad_fn=<MseLossBackward>)\n",
            "tensor(8.0936e-05, grad_fn=<MseLossBackward>)\n",
            "tensor(5.4570e-05, grad_fn=<MseLossBackward>)\n",
            "tensor(9.6509e-05, grad_fn=<MseLossBackward>)\n",
            "tensor(7.5542e-05, grad_fn=<MseLossBackward>)\n",
            "tensor(0.0001, grad_fn=<MseLossBackward>)\n",
            "tensor(0.0001, grad_fn=<MseLossBackward>)\n",
            "tensor(0.0001, grad_fn=<MseLossBackward>)\n",
            "tensor(6.5521e-05, grad_fn=<MseLossBackward>)\n",
            "tensor(0.0001, grad_fn=<MseLossBackward>)\n",
            "tensor(6.6760e-05, grad_fn=<MseLossBackward>)\n",
            "tensor(7.0615e-05, grad_fn=<MseLossBackward>)\n",
            "tensor(7.6651e-05, grad_fn=<MseLossBackward>)\n",
            "tensor(5.1320e-05, grad_fn=<MseLossBackward>)\n",
            "tensor(4.8183e-05, grad_fn=<MseLossBackward>)\n",
            "tensor(9.0687e-05, grad_fn=<MseLossBackward>)\n",
            "tensor(2.3369e-05, grad_fn=<MseLossBackward>)\n",
            "tensor(7.4282e-05, grad_fn=<MseLossBackward>)\n",
            "tensor(2.1180e-05, grad_fn=<MseLossBackward>)\n",
            "tensor(9.3645e-05, grad_fn=<MseLossBackward>)\n",
            "tensor(0.0001, grad_fn=<MseLossBackward>)\n",
            "tensor(0.0001, grad_fn=<MseLossBackward>)\n",
            "tensor(0.0001, grad_fn=<MseLossBackward>)\n",
            "tensor(0.0002, grad_fn=<MseLossBackward>)\n",
            "tensor(0.0002, grad_fn=<MseLossBackward>)\n",
            "tensor(4.9063e-05, grad_fn=<MseLossBackward>)\n",
            "tensor(0.0001, grad_fn=<MseLossBackward>)\n",
            "tensor(0.0001, grad_fn=<MseLossBackward>)\n",
            "tensor(6.9068e-05, grad_fn=<MseLossBackward>)\n",
            "tensor(8.9285e-05, grad_fn=<MseLossBackward>)\n",
            "tensor(0.0001, grad_fn=<MseLossBackward>)\n",
            "tensor(0.0001, grad_fn=<MseLossBackward>)\n",
            "tensor(9.7048e-05, grad_fn=<MseLossBackward>)\n",
            "tensor(0.0001, grad_fn=<MseLossBackward>)\n",
            "tensor(0.0001, grad_fn=<MseLossBackward>)\n",
            "tensor(4.3182e-05, grad_fn=<MseLossBackward>)\n",
            "tensor(0.0002, grad_fn=<MseLossBackward>)\n",
            "tensor(0.0001, grad_fn=<MseLossBackward>)\n",
            "tensor(7.5560e-05, grad_fn=<MseLossBackward>)\n",
            "tensor(7.5383e-05, grad_fn=<MseLossBackward>)\n",
            "tensor(0.0001, grad_fn=<MseLossBackward>)\n",
            "tensor(0.0001, grad_fn=<MseLossBackward>)\n",
            "tensor(0.0002, grad_fn=<MseLossBackward>)\n",
            "tensor(0.0001, grad_fn=<MseLossBackward>)\n",
            "tensor(0.0001, grad_fn=<MseLossBackward>)\n",
            "tensor(5.6153e-05, grad_fn=<MseLossBackward>)\n",
            "tensor(8.0808e-05, grad_fn=<MseLossBackward>)\n",
            "tensor(0.0001, grad_fn=<MseLossBackward>)\n",
            "tensor(0.0002, grad_fn=<MseLossBackward>)\n",
            "tensor(0.0001, grad_fn=<MseLossBackward>)\n",
            "tensor(8.2918e-05, grad_fn=<MseLossBackward>)\n",
            "tensor(4.4293e-05, grad_fn=<MseLossBackward>)\n",
            "tensor(0.0001, grad_fn=<MseLossBackward>)\n",
            "tensor(6.2249e-05, grad_fn=<MseLossBackward>)\n",
            "tensor(9.0554e-05, grad_fn=<MseLossBackward>)\n",
            "tensor(9.2942e-05, grad_fn=<MseLossBackward>)\n",
            "tensor(9.8074e-05, grad_fn=<MseLossBackward>)\n",
            "tensor(0.0002, grad_fn=<MseLossBackward>)\n",
            "tensor(0.0001, grad_fn=<MseLossBackward>)\n",
            "tensor(0.0003, grad_fn=<MseLossBackward>)\n",
            "tensor(4.1127e-05, grad_fn=<MseLossBackward>)\n",
            "tensor(6.6732e-05, grad_fn=<MseLossBackward>)\n",
            "tensor(2.4807e-05, grad_fn=<MseLossBackward>)\n",
            "tensor(3.5889e-05, grad_fn=<MseLossBackward>)\n",
            "tensor(0.0002, grad_fn=<MseLossBackward>)\n",
            "tensor(6.2701e-05, grad_fn=<MseLossBackward>)\n",
            "tensor(0.0001, grad_fn=<MseLossBackward>)\n",
            "tensor(0.0002, grad_fn=<MseLossBackward>)\n",
            "tensor(4.8128e-05, grad_fn=<MseLossBackward>)\n",
            "tensor(0.0002, grad_fn=<MseLossBackward>)\n",
            "tensor(7.1224e-05, grad_fn=<MseLossBackward>)\n",
            "tensor(9.8401e-05, grad_fn=<MseLossBackward>)\n",
            "tensor(0.0001, grad_fn=<MseLossBackward>)\n",
            "tensor(7.0487e-05, grad_fn=<MseLossBackward>)\n",
            "tensor(9.9277e-05, grad_fn=<MseLossBackward>)\n",
            "tensor(3.3299e-05, grad_fn=<MseLossBackward>)\n",
            "tensor(0.0001, grad_fn=<MseLossBackward>)\n",
            "tensor(6.3509e-05, grad_fn=<MseLossBackward>)\n",
            "tensor(0.0001, grad_fn=<MseLossBackward>)\n",
            "tensor(0.0002, grad_fn=<MseLossBackward>)\n",
            "tensor(8.7595e-05, grad_fn=<MseLossBackward>)\n",
            "tensor(0.0001, grad_fn=<MseLossBackward>)\n",
            "tensor(5.8102e-05, grad_fn=<MseLossBackward>)\n",
            "tensor(8.4848e-05, grad_fn=<MseLossBackward>)\n",
            "tensor(0.0001, grad_fn=<MseLossBackward>)\n",
            "tensor(0.0001, grad_fn=<MseLossBackward>)\n",
            "tensor(5.5860e-05, grad_fn=<MseLossBackward>)\n",
            "tensor(0.0001, grad_fn=<MseLossBackward>)\n",
            "tensor(3.8504e-05, grad_fn=<MseLossBackward>)\n",
            "tensor(0.0001, grad_fn=<MseLossBackward>)\n",
            "tensor(8.3277e-05, grad_fn=<MseLossBackward>)\n",
            "tensor(0.0002, grad_fn=<MseLossBackward>)\n",
            "tensor(0.0001, grad_fn=<MseLossBackward>)\n",
            "epoch6,loss0.000103\n",
            "tensor(0.0002, grad_fn=<MseLossBackward>)\n",
            "tensor(0.0001, grad_fn=<MseLossBackward>)\n",
            "tensor(0.0001, grad_fn=<MseLossBackward>)\n",
            "tensor(2.5123e-05, grad_fn=<MseLossBackward>)\n",
            "tensor(0.0001, grad_fn=<MseLossBackward>)\n",
            "tensor(0.0002, grad_fn=<MseLossBackward>)\n",
            "tensor(9.6368e-05, grad_fn=<MseLossBackward>)\n",
            "tensor(0.0001, grad_fn=<MseLossBackward>)\n",
            "tensor(9.7978e-05, grad_fn=<MseLossBackward>)\n",
            "tensor(8.8881e-05, grad_fn=<MseLossBackward>)\n",
            "tensor(9.3635e-05, grad_fn=<MseLossBackward>)\n",
            "tensor(5.0142e-05, grad_fn=<MseLossBackward>)\n",
            "tensor(0.0001, grad_fn=<MseLossBackward>)\n",
            "tensor(8.9849e-05, grad_fn=<MseLossBackward>)\n",
            "tensor(8.3414e-05, grad_fn=<MseLossBackward>)\n",
            "tensor(0.0001, grad_fn=<MseLossBackward>)\n",
            "tensor(0.0001, grad_fn=<MseLossBackward>)\n",
            "tensor(0.0002, grad_fn=<MseLossBackward>)\n",
            "tensor(3.1059e-05, grad_fn=<MseLossBackward>)\n",
            "tensor(6.1800e-05, grad_fn=<MseLossBackward>)\n",
            "tensor(9.9177e-05, grad_fn=<MseLossBackward>)\n",
            "tensor(9.9030e-05, grad_fn=<MseLossBackward>)\n",
            "tensor(0.0001, grad_fn=<MseLossBackward>)\n",
            "tensor(9.9421e-05, grad_fn=<MseLossBackward>)\n",
            "tensor(9.3182e-05, grad_fn=<MseLossBackward>)\n",
            "tensor(9.2244e-05, grad_fn=<MseLossBackward>)\n",
            "tensor(8.1999e-05, grad_fn=<MseLossBackward>)\n",
            "tensor(0.0001, grad_fn=<MseLossBackward>)\n",
            "tensor(5.1481e-05, grad_fn=<MseLossBackward>)\n",
            "tensor(4.3712e-05, grad_fn=<MseLossBackward>)\n",
            "tensor(0.0001, grad_fn=<MseLossBackward>)\n",
            "tensor(0.0001, grad_fn=<MseLossBackward>)\n",
            "tensor(8.3225e-05, grad_fn=<MseLossBackward>)\n",
            "tensor(9.7321e-05, grad_fn=<MseLossBackward>)\n",
            "tensor(0.0001, grad_fn=<MseLossBackward>)\n",
            "tensor(8.7912e-05, grad_fn=<MseLossBackward>)\n",
            "tensor(8.2504e-05, grad_fn=<MseLossBackward>)\n",
            "tensor(0.0001, grad_fn=<MseLossBackward>)\n",
            "tensor(5.7565e-05, grad_fn=<MseLossBackward>)\n",
            "tensor(0.0001, grad_fn=<MseLossBackward>)\n",
            "tensor(3.4188e-05, grad_fn=<MseLossBackward>)\n",
            "tensor(7.4560e-05, grad_fn=<MseLossBackward>)\n",
            "tensor(9.0628e-05, grad_fn=<MseLossBackward>)\n",
            "tensor(0.0001, grad_fn=<MseLossBackward>)\n",
            "tensor(5.4525e-05, grad_fn=<MseLossBackward>)\n",
            "tensor(0.0001, grad_fn=<MseLossBackward>)\n",
            "tensor(0.0001, grad_fn=<MseLossBackward>)\n",
            "tensor(0.0001, grad_fn=<MseLossBackward>)\n",
            "tensor(0.0002, grad_fn=<MseLossBackward>)\n",
            "tensor(0.0001, grad_fn=<MseLossBackward>)\n",
            "tensor(2.7813e-05, grad_fn=<MseLossBackward>)\n",
            "tensor(0.0003, grad_fn=<MseLossBackward>)\n",
            "tensor(0.0001, grad_fn=<MseLossBackward>)\n",
            "tensor(4.9928e-05, grad_fn=<MseLossBackward>)\n",
            "tensor(9.7905e-05, grad_fn=<MseLossBackward>)\n",
            "tensor(5.3998e-05, grad_fn=<MseLossBackward>)\n",
            "tensor(9.9279e-05, grad_fn=<MseLossBackward>)\n",
            "tensor(4.2156e-05, grad_fn=<MseLossBackward>)\n",
            "tensor(9.9031e-05, grad_fn=<MseLossBackward>)\n",
            "tensor(0.0001, grad_fn=<MseLossBackward>)\n",
            "tensor(0.0002, grad_fn=<MseLossBackward>)\n",
            "tensor(0.0001, grad_fn=<MseLossBackward>)\n",
            "tensor(5.1711e-05, grad_fn=<MseLossBackward>)\n",
            "tensor(9.1824e-05, grad_fn=<MseLossBackward>)\n",
            "tensor(0.0002, grad_fn=<MseLossBackward>)\n",
            "tensor(8.3836e-05, grad_fn=<MseLossBackward>)\n",
            "tensor(6.1524e-05, grad_fn=<MseLossBackward>)\n",
            "tensor(5.3435e-05, grad_fn=<MseLossBackward>)\n",
            "tensor(7.0234e-05, grad_fn=<MseLossBackward>)\n",
            "tensor(8.3419e-05, grad_fn=<MseLossBackward>)\n",
            "tensor(0.0001, grad_fn=<MseLossBackward>)\n",
            "tensor(9.4206e-05, grad_fn=<MseLossBackward>)\n",
            "tensor(0.0002, grad_fn=<MseLossBackward>)\n",
            "tensor(0.0001, grad_fn=<MseLossBackward>)\n",
            "tensor(9.3740e-05, grad_fn=<MseLossBackward>)\n",
            "tensor(3.1964e-05, grad_fn=<MseLossBackward>)\n",
            "tensor(0.0001, grad_fn=<MseLossBackward>)\n",
            "tensor(8.9911e-05, grad_fn=<MseLossBackward>)\n",
            "tensor(0.0001, grad_fn=<MseLossBackward>)\n",
            "tensor(0.0001, grad_fn=<MseLossBackward>)\n",
            "tensor(0.0002, grad_fn=<MseLossBackward>)\n",
            "tensor(0.0002, grad_fn=<MseLossBackward>)\n",
            "tensor(0.0002, grad_fn=<MseLossBackward>)\n",
            "tensor(8.9800e-05, grad_fn=<MseLossBackward>)\n",
            "tensor(0.0002, grad_fn=<MseLossBackward>)\n",
            "tensor(0.0001, grad_fn=<MseLossBackward>)\n",
            "tensor(6.6761e-05, grad_fn=<MseLossBackward>)\n",
            "tensor(7.4297e-05, grad_fn=<MseLossBackward>)\n",
            "tensor(0.0002, grad_fn=<MseLossBackward>)\n",
            "tensor(0.0001, grad_fn=<MseLossBackward>)\n",
            "tensor(7.1945e-05, grad_fn=<MseLossBackward>)\n",
            "tensor(6.0565e-05, grad_fn=<MseLossBackward>)\n",
            "tensor(0.0002, grad_fn=<MseLossBackward>)\n",
            "tensor(0.0003, grad_fn=<MseLossBackward>)\n",
            "tensor(4.8372e-05, grad_fn=<MseLossBackward>)\n",
            "tensor(7.1595e-05, grad_fn=<MseLossBackward>)\n",
            "tensor(5.8172e-05, grad_fn=<MseLossBackward>)\n",
            "tensor(9.2162e-05, grad_fn=<MseLossBackward>)\n",
            "tensor(7.6572e-05, grad_fn=<MseLossBackward>)\n",
            "tensor(6.9839e-05, grad_fn=<MseLossBackward>)\n",
            "epoch7,loss0.000103\n"
          ],
          "name": "stdout"
        }
      ]
    },
    {
      "cell_type": "code",
      "metadata": {
        "colab": {
          "base_uri": "https://localhost:8080/"
        },
        "id": "CLqiQhxHEj47",
        "outputId": "0db9435f-02fe-4ea7-ed26-9493bb6b4727"
      },
      "source": [
        "w = net[0].weight.data\n",
        "print('error in estimating w:', true_w - w.reshape(true_w.shape))\n",
        "b = net[0].bias.data\n",
        "print('error in estimating b:',true_b-b)"
      ],
      "execution_count": 394,
      "outputs": [
        {
          "output_type": "stream",
          "text": [
            "error in estimating w: tensor([-0.0002,  0.0006])\n",
            "error in estimating b: tensor([5.7220e-06])\n"
          ],
          "name": "stdout"
        }
      ]
    },
    {
      "cell_type": "markdown",
      "metadata": {
        "id": "q9vgl9_71Go0"
      },
      "source": [
        "# 3.6 Implementation of Softmax Regression from scratch"
      ]
    },
    {
      "cell_type": "code",
      "metadata": {
        "id": "5h7mtbx_Ej7o"
      },
      "source": [
        "import torch \n",
        "from IPython import display\n",
        "from d2l import torch as d2l"
      ],
      "execution_count": 415,
      "outputs": []
    },
    {
      "cell_type": "code",
      "metadata": {
        "colab": {
          "base_uri": "https://localhost:8080/"
        },
        "id": "bXy51nCfXTqU",
        "outputId": "144a6be0-19c9-49d1-9b5e-cb83e9572020"
      },
      "source": [
        "batch_size = 256\n",
        "train_iter,test_iter = d2l.load_data_fashion_mnist(batch_size)"
      ],
      "execution_count": 416,
      "outputs": [
        {
          "output_type": "stream",
          "text": [
            "/usr/local/lib/python3.7/dist-packages/torch/utils/data/dataloader.py:477: UserWarning: This DataLoader will create 4 worker processes in total. Our suggested max number of worker in current system is 2, which is smaller than what this DataLoader is going to create. Please be aware that excessive worker creation might get DataLoader running slow or even freeze, lower the worker number to avoid potential slowness/freeze if necessary.\n",
            "  cpuset_checked))\n"
          ],
          "name": "stderr"
        }
      ]
    },
    {
      "cell_type": "code",
      "metadata": {
        "id": "ipwabEa2XgWz"
      },
      "source": [
        "#print(type(train_iter))\n",
        "#print(test_iter)"
      ],
      "execution_count": 417,
      "outputs": []
    },
    {
      "cell_type": "code",
      "metadata": {
        "id": "gA0bNRzCXgrQ"
      },
      "source": [
        ""
      ],
      "execution_count": 417,
      "outputs": []
    },
    {
      "cell_type": "markdown",
      "metadata": {
        "id": "ak6pvQjl136e"
      },
      "source": [
        "## 3.6.1 Initializing Model Parameters"
      ]
    },
    {
      "cell_type": "code",
      "metadata": {
        "id": "0WKH9wWzEj9t"
      },
      "source": [
        "num_inputs = 784\n",
        "num_outputs = 10\n",
        "\n",
        "W = torch.normal(0,0.01,size=(num_inputs,num_outputs), requires_grad = True)\n",
        "b = torch.zeros(num_outputs,requires_grad=True)"
      ],
      "execution_count": 418,
      "outputs": []
    },
    {
      "cell_type": "markdown",
      "metadata": {
        "id": "VBYTG2n63C4Q"
      },
      "source": [
        "## 3.6.2 Defining the Softmax Operation"
      ]
    },
    {
      "cell_type": "code",
      "metadata": {
        "colab": {
          "base_uri": "https://localhost:8080/"
        },
        "id": "u4kWqUKhEj_6",
        "outputId": "6ccc65a8-7d5f-4e0d-eab4-7d89c605b69a"
      },
      "source": [
        "X = torch.tensor([[1.0,2.0,3.0],[4.0,5.0,6.0]])\n",
        "X.sum(0,keepdim=True) \n",
        "X.sum(1,keepdim=True)"
      ],
      "execution_count": 419,
      "outputs": [
        {
          "output_type": "execute_result",
          "data": {
            "text/plain": [
              "tensor([[ 6.],\n",
              "        [15.]])"
            ]
          },
          "metadata": {
            "tags": []
          },
          "execution_count": 419
        }
      ]
    },
    {
      "cell_type": "code",
      "metadata": {
        "id": "bc0O1b-oEkB8"
      },
      "source": [
        "def softmax(X):\n",
        "    #print(X.shape)\n",
        "    X_exp = torch.exp(X)\n",
        "    #print(X_exp)\n",
        "    partition = X_exp.sum(1,keepdim=True)\n",
        "    return X_exp / partition"
      ],
      "execution_count": 420,
      "outputs": []
    },
    {
      "cell_type": "code",
      "metadata": {
        "colab": {
          "base_uri": "https://localhost:8080/"
        },
        "id": "kEmwXDEYEkE7",
        "outputId": "5817fb91-514d-43c0-de05-9eb57f587a5c"
      },
      "source": [
        "X = torch.normal(0,1,(2,5))\n",
        "X_prob = softmax(X)\n",
        "print(X_prob.shape)\n",
        "print(X_prob.sum(1).shape) # 2 by 1\n",
        "X_prob,X_prob.sum(dim = 1)\n"
      ],
      "execution_count": 421,
      "outputs": [
        {
          "output_type": "stream",
          "text": [
            "torch.Size([2, 5])\n",
            "torch.Size([2])\n"
          ],
          "name": "stdout"
        },
        {
          "output_type": "execute_result",
          "data": {
            "text/plain": [
              "(tensor([[0.0592, 0.2599, 0.5624, 0.0675, 0.0510],\n",
              "         [0.1390, 0.5348, 0.1143, 0.1567, 0.0552]]), tensor([1.0000, 1.0000]))"
            ]
          },
          "metadata": {
            "tags": []
          },
          "execution_count": 421
        }
      ]
    },
    {
      "cell_type": "markdown",
      "metadata": {
        "id": "UibuKBh46hhw"
      },
      "source": [
        "## 3.6.3 Definging the Model"
      ]
    },
    {
      "cell_type": "code",
      "metadata": {
        "colab": {
          "base_uri": "https://localhost:8080/"
        },
        "id": "NOvtR7nZFd3J",
        "outputId": "003959db-a2e4-43b7-b615-b23cc93c830b"
      },
      "source": [
        "print(W.shape[0])\n",
        "print(X)"
      ],
      "execution_count": 422,
      "outputs": [
        {
          "output_type": "stream",
          "text": [
            "784\n",
            "tensor([[-1.0177,  0.4624,  1.2343, -0.8851, -1.1661],\n",
            "        [ 0.1741,  1.5219, -0.0213,  0.2945, -0.7499]])\n"
          ],
          "name": "stdout"
        }
      ]
    },
    {
      "cell_type": "code",
      "metadata": {
        "id": "Qdtgk_u53kF7"
      },
      "source": [
        "def net(X):\n",
        "    return softmax(torch.matmul(X.reshape((-1,W.shape[0])),W)+ b)"
      ],
      "execution_count": 423,
      "outputs": []
    },
    {
      "cell_type": "markdown",
      "metadata": {
        "id": "Gn89tgHh7QzJ"
      },
      "source": [
        "## 3.6.4 Defining the Loss Function"
      ]
    },
    {
      "cell_type": "code",
      "metadata": {
        "colab": {
          "base_uri": "https://localhost:8080/"
        },
        "id": "FHkN6LTO3kIw",
        "outputId": "4dc865c8-4f08-4c39-feac-68fab3c30e57"
      },
      "source": [
        "y = torch.tensor([0,2])\n",
        "y_hat = torch.tensor([[0.1,0.3,0.6],[0.3,0.2,0.5]])\n",
        "#print(y_hat[[0,1],[0,1]])\n",
        "#print(y_hat[[0,1],[0,2]])\n",
        "#print(y_hat[[0,1],])\n",
        "y_hat[[0,1] ,y]"
      ],
      "execution_count": 424,
      "outputs": [
        {
          "output_type": "execute_result",
          "data": {
            "text/plain": [
              "tensor([0.1000, 0.5000])"
            ]
          },
          "metadata": {
            "tags": []
          },
          "execution_count": 424
        }
      ]
    },
    {
      "cell_type": "markdown",
      "metadata": {
        "id": "31FnnIFVC3GT"
      },
      "source": [
        "y_hat 이 아무래도 0.1 과 0.5가 나온이유는 0,0 과 1,2를 받아서 그런거 같다."
      ]
    },
    {
      "cell_type": "code",
      "metadata": {
        "colab": {
          "base_uri": "https://localhost:8080/"
        },
        "id": "1T9Fg0bFDuLE",
        "outputId": "78631d07-2df1-4cd2-f0eb-c124fbee1197"
      },
      "source": [
        "y_hat[range(len(y_hat)),y]"
      ],
      "execution_count": 425,
      "outputs": [
        {
          "output_type": "execute_result",
          "data": {
            "text/plain": [
              "tensor([0.1000, 0.5000])"
            ]
          },
          "metadata": {
            "tags": []
          },
          "execution_count": 425
        }
      ]
    },
    {
      "cell_type": "code",
      "metadata": {
        "colab": {
          "base_uri": "https://localhost:8080/"
        },
        "id": "dObywaULD9Bm",
        "outputId": "cbca4b52-5d31-4c64-d6c5-d7a4e240e04f"
      },
      "source": [
        "range(len(y_hat))"
      ],
      "execution_count": 426,
      "outputs": [
        {
          "output_type": "execute_result",
          "data": {
            "text/plain": [
              "range(0, 2)"
            ]
          },
          "metadata": {
            "tags": []
          },
          "execution_count": 426
        }
      ]
    },
    {
      "cell_type": "code",
      "metadata": {
        "colab": {
          "base_uri": "https://localhost:8080/"
        },
        "id": "1LWfk0vVE7Rm",
        "outputId": "408bb0b8-4b7e-4300-fbb7-dbb29b20724e"
      },
      "source": [
        "print(y_hat)"
      ],
      "execution_count": 427,
      "outputs": [
        {
          "output_type": "stream",
          "text": [
            "tensor([[0.1000, 0.3000, 0.6000],\n",
            "        [0.3000, 0.2000, 0.5000]])\n"
          ],
          "name": "stdout"
        }
      ]
    },
    {
      "cell_type": "code",
      "metadata": {
        "colab": {
          "base_uri": "https://localhost:8080/"
        },
        "id": "sJIGgmHvE7Ty",
        "outputId": "0f981b29-fee3-48f8-d608-dec4da0ebebb"
      },
      "source": [
        "print(y)"
      ],
      "execution_count": 428,
      "outputs": [
        {
          "output_type": "stream",
          "text": [
            "tensor([0, 2])\n"
          ],
          "name": "stdout"
        }
      ]
    },
    {
      "cell_type": "code",
      "metadata": {
        "colab": {
          "base_uri": "https://localhost:8080/"
        },
        "id": "d1Ch3l8O3kLK",
        "outputId": "a01adb21-d029-4939-fc37-d70618f83485"
      },
      "source": [
        "def cross_entropy(y_hat,y):\n",
        "    return -torch.log(y_hat[range(len(y_hat)),y])\n",
        "\n",
        "cross_entropy(y_hat,y)"
      ],
      "execution_count": 429,
      "outputs": [
        {
          "output_type": "execute_result",
          "data": {
            "text/plain": [
              "tensor([2.3026, 0.6931])"
            ]
          },
          "metadata": {
            "tags": []
          },
          "execution_count": 429
        }
      ]
    },
    {
      "cell_type": "markdown",
      "metadata": {
        "id": "m5oRzGuKK2DI"
      },
      "source": [
        "## 3.6.5 Classification Accuracy"
      ]
    },
    {
      "cell_type": "code",
      "metadata": {
        "id": "fyQe7g5X3kNp"
      },
      "source": [
        "def accuracy(y_hat,y):\n",
        "   # print(y_hat.shape)\n",
        "   # print(len(y_hat.shape))\n",
        "   # print(y_hat.shape[1])\n",
        "    if len(y_hat.shape) > 1 and y_hat.shape[1] > 1: #y_hat.shape -> 행 y_hat.shape[1] -> 열  \n",
        "        y_hat = y_hat.argmax(axis=1)\n",
        "        #print(y_hat)\n",
        "    cmp = y_hat.type(y.dtype) == y\n",
        "   # print(y_hat.type(y.dtype))\n",
        "   # print(y)\n",
        "   # print(cmp)\n",
        "   # print(float(cmp.type(y.dtype).sum()))\n",
        "    return float(cmp.type(y.dtype).sum())"
      ],
      "execution_count": 430,
      "outputs": []
    },
    {
      "cell_type": "code",
      "metadata": {
        "colab": {
          "base_uri": "https://localhost:8080/"
        },
        "id": "NQxoJMMh3kPc",
        "outputId": "d83fda30-ad6f-4490-f4a9-82006b5db99d"
      },
      "source": [
        "#print(accuracy(y_hat,y))\n",
        "accuracy(y_hat,y) / len(y)"
      ],
      "execution_count": 431,
      "outputs": [
        {
          "output_type": "execute_result",
          "data": {
            "text/plain": [
              "0.5"
            ]
          },
          "metadata": {
            "tags": []
          },
          "execution_count": 431
        }
      ]
    },
    {
      "cell_type": "markdown",
      "metadata": {
        "id": "jXY--dRXjCXH"
      },
      "source": [
        "4/5 여기까지 이해했음 "
      ]
    },
    {
      "cell_type": "code",
      "metadata": {
        "id": "zgTY4PhO3kRe"
      },
      "source": [
        "def evaluate_accuracy(net,data_iter):\n",
        "    if isinstance(net,torch.nn.Module):\n",
        "        net.eval()\n",
        "    metric = Accmulator(2)\n",
        "    for X,y in data_iter:\n",
        "        print(X.shape)\n",
        "        print(y.shape)\n",
        "        print(y.numel())\n",
        "        metric.add(accuracy(net(X),y),y.numel())\n",
        "\n",
        "    print(metric[0])\n",
        "    print(metric[1])\n",
        "    return metric[0] / metric[1]"
      ],
      "execution_count": 468,
      "outputs": []
    },
    {
      "cell_type": "code",
      "metadata": {
        "id": "W2r9FoDYSdd9"
      },
      "source": [
        "class Accmulator:\n",
        "    def __init__(self,n):\n",
        "        self.data = [0.0] * n\n",
        "    \n",
        "    def add(self,*args):\n",
        "        self.data = [a + float(b) for a,b in zip(self.data,args)]\n",
        "    \n",
        "    def reset(self):\n",
        "        self.data = [0.0] * len(self.data)\n",
        "\n",
        "    def __getitem__(self,idx):\n",
        "        return self.data[idx]"
      ],
      "execution_count": 469,
      "outputs": []
    },
    {
      "cell_type": "code",
      "metadata": {
        "colab": {
          "base_uri": "https://localhost:8080/"
        },
        "id": "5hjkt_0JSdf1",
        "outputId": "9196c638-141a-4246-885c-ad02eb6dd519"
      },
      "source": [
        "evaluate_accuracy(net, test_iter)"
      ],
      "execution_count": 470,
      "outputs": [
        {
          "output_type": "stream",
          "text": [
            "/usr/local/lib/python3.7/dist-packages/torch/utils/data/dataloader.py:477: UserWarning: This DataLoader will create 4 worker processes in total. Our suggested max number of worker in current system is 2, which is smaller than what this DataLoader is going to create. Please be aware that excessive worker creation might get DataLoader running slow or even freeze, lower the worker number to avoid potential slowness/freeze if necessary.\n",
            "  cpuset_checked))\n"
          ],
          "name": "stderr"
        },
        {
          "output_type": "stream",
          "text": [
            "torch.Size([256, 1, 28, 28])\n",
            "torch.Size([256])\n",
            "256\n",
            "torch.Size([256, 1, 28, 28])\n",
            "torch.Size([256])\n",
            "256\n",
            "torch.Size([256, 1, 28, 28])\n",
            "torch.Size([256])\n",
            "256\n",
            "torch.Size([256, 1, 28, 28])\n",
            "torch.Size([256])\n",
            "256\n",
            "torch.Size([256, 1, 28, 28])\n",
            "torch.Size([256])\n",
            "256\n",
            "torch.Size([256, 1, 28, 28])\n",
            "torch.Size([256])\n",
            "256\n",
            "torch.Size([256, 1, 28, 28])\n",
            "torch.Size([256])\n",
            "256\n",
            "torch.Size([256, 1, 28, 28])\n",
            "torch.Size([256])\n",
            "256\n",
            "torch.Size([256, 1, 28, 28])\n",
            "torch.Size([256])\n",
            "256\n",
            "torch.Size([256, 1, 28, 28])\n",
            "torch.Size([256])\n",
            "256\n",
            "torch.Size([256, 1, 28, 28])\n",
            "torch.Size([256])\n",
            "256\n",
            "torch.Size([256, 1, 28, 28])\n",
            "torch.Size([256])\n",
            "256\n",
            "torch.Size([256, 1, 28, 28])\n",
            "torch.Size([256])\n",
            "256\n",
            "torch.Size([256, 1, 28, 28])\n",
            "torch.Size([256])\n",
            "256\n",
            "torch.Size([256, 1, 28, 28])\n",
            "torch.Size([256])\n",
            "256\n",
            "torch.Size([256, 1, 28, 28])\n",
            "torch.Size([256])\n",
            "256\n",
            "torch.Size([256, 1, 28, 28])\n",
            "torch.Size([256])\n",
            "256\n",
            "torch.Size([256, 1, 28, 28])\n",
            "torch.Size([256])\n",
            "256\n",
            "torch.Size([256, 1, 28, 28])\n",
            "torch.Size([256])\n",
            "256\n",
            "torch.Size([256, 1, 28, 28])\n",
            "torch.Size([256])\n",
            "256\n",
            "torch.Size([256, 1, 28, 28])\n",
            "torch.Size([256])\n",
            "256\n",
            "torch.Size([256, 1, 28, 28])\n",
            "torch.Size([256])\n",
            "256\n",
            "torch.Size([256, 1, 28, 28])\n",
            "torch.Size([256])\n",
            "256\n",
            "torch.Size([256, 1, 28, 28])\n",
            "torch.Size([256])\n",
            "256\n",
            "torch.Size([256, 1, 28, 28])\n",
            "torch.Size([256])\n",
            "256\n",
            "torch.Size([256, 1, 28, 28])\n",
            "torch.Size([256])\n",
            "256\n",
            "torch.Size([256, 1, 28, 28])\n",
            "torch.Size([256])\n",
            "256\n",
            "torch.Size([256, 1, 28, 28])\n",
            "torch.Size([256])\n",
            "256\n",
            "torch.Size([256, 1, 28, 28])\n",
            "torch.Size([256])\n",
            "256\n",
            "torch.Size([256, 1, 28, 28])\n",
            "torch.Size([256])\n",
            "256\n",
            "torch.Size([256, 1, 28, 28])\n",
            "torch.Size([256])\n",
            "256\n",
            "torch.Size([256, 1, 28, 28])\n",
            "torch.Size([256])\n",
            "256\n",
            "torch.Size([256, 1, 28, 28])\n",
            "torch.Size([256])\n",
            "256\n",
            "torch.Size([256, 1, 28, 28])\n",
            "torch.Size([256])\n",
            "256\n",
            "torch.Size([256, 1, 28, 28])\n",
            "torch.Size([256])\n",
            "256\n",
            "torch.Size([256, 1, 28, 28])\n",
            "torch.Size([256])\n",
            "256\n",
            "torch.Size([256, 1, 28, 28])\n",
            "torch.Size([256])\n",
            "256\n",
            "torch.Size([256, 1, 28, 28])\n",
            "torch.Size([256])\n",
            "256\n",
            "torch.Size([256, 1, 28, 28])\n",
            "torch.Size([256])\n",
            "256\n",
            "torch.Size([16, 1, 28, 28])\n",
            "torch.Size([16])\n",
            "16\n",
            "1582.0\n",
            "10000.0\n"
          ],
          "name": "stdout"
        },
        {
          "output_type": "execute_result",
          "data": {
            "text/plain": [
              "0.1582"
            ]
          },
          "metadata": {
            "tags": []
          },
          "execution_count": 470
        }
      ]
    },
    {
      "cell_type": "markdown",
      "metadata": {
        "id": "lunTqmaMf8rl"
      },
      "source": [
        "## 3.6.6 training"
      ]
    },
    {
      "cell_type": "code",
      "metadata": {
        "id": "fFu7EdffSdh6"
      },
      "source": [
        "def train_epoch_ch3(net, train_iter, loss, updater):  #@save\n",
        "    \"\"\"The training loop defined in Chapter 3.\"\"\"\n",
        "    # Set the model to training mode\n",
        "    if isinstance(net, torch.nn.Module):\n",
        "        net.train()\n",
        "    # Sum of training loss, sum of training accuracy, no. of examples\n",
        "    metric = Accumulator(3)\n",
        "    for X, y in train_iter:\n",
        "        # Compute gradients and update parameters\n",
        "        y_hat = net(X)\n",
        "        l = loss(y_hat, y)\n",
        "        if isinstance(updater, torch.optim.Optimizer):\n",
        "            # Using PyTorch in-built optimizer & loss criterion\n",
        "            updater.zero_grad()\n",
        "            l.backward()\n",
        "            updater.step()\n",
        "            metric.add(float(l) * len(y), accuracy(y_hat, y), y.numel())\n",
        "        else:\n",
        "            # Using custom built optimizer & loss criterion\n",
        "            l.sum().backward()\n",
        "            updater(X.shape[0])\n",
        "            metric.add(float(l.sum()), accuracy(y_hat, y), y.numel())\n",
        "    # Return training loss and training accuracy\n",
        "    return metric[0] / metric[2], metric[1] / metric[2]"
      ],
      "execution_count": 476,
      "outputs": []
    },
    {
      "cell_type": "code",
      "metadata": {
        "id": "xZYRDiD6Sdkl"
      },
      "source": [
        "class Animator:  #@save\n",
        "    \"\"\"For plotting data in animation.\"\"\"\n",
        "    def __init__(self, xlabel=None, ylabel=None, legend=None, xlim=None,\n",
        "                 ylim=None, xscale='linear', yscale='linear',\n",
        "                 fmts=('-', 'm--', 'g-.', 'r:'), nrows=1, ncols=1,\n",
        "                 figsize=(3.5, 2.5)):\n",
        "        # Incrementally plot multiple lines\n",
        "        if legend is None:\n",
        "            legend = []\n",
        "        d2l.use_svg_display()\n",
        "        self.fig, self.axes = d2l.plt.subplots(nrows, ncols, figsize=figsize)\n",
        "        if nrows * ncols == 1:\n",
        "            self.axes = [self.axes,]\n",
        "        # Use a lambda function to capture arguments\n",
        "        self.config_axes = lambda: d2l.set_axes(self.axes[\n",
        "            0], xlabel, ylabel, xlim, ylim, xscale, yscale, legend)\n",
        "        self.X, self.Y, self.fmts = None, None, fmts\n",
        "\n",
        "    def add(self, x, y):\n",
        "        # Add multiple data points into the figure\n",
        "        if not hasattr(y, \"__len__\"):\n",
        "            y = [y]\n",
        "        n = len(y)\n",
        "        if not hasattr(x, \"__len__\"):\n",
        "            x = [x] * n\n",
        "        if not self.X:\n",
        "            self.X = [[] for _ in range(n)]\n",
        "        if not self.Y:\n",
        "            self.Y = [[] for _ in range(n)]\n",
        "        for i, (a, b) in enumerate(zip(x, y)):\n",
        "            if a is not None and b is not None:\n",
        "                self.X[i].append(a)\n",
        "                self.Y[i].append(b)\n",
        "        self.axes[0].cla()\n",
        "        for x, y, fmt in zip(self.X, self.Y, self.fmts):\n",
        "            self.axes[0].plot(x, y, fmt)\n",
        "        self.config_axes()\n",
        "        display.display(self.fig)\n",
        "        display.clear_output(wait=True)"
      ],
      "execution_count": 477,
      "outputs": []
    },
    {
      "cell_type": "code",
      "metadata": {
        "id": "YEzbrPNWSdlb"
      },
      "source": [
        "def train_ch3(net, train_iter, test_iter, loss, num_epochs, updater):  #@save\n",
        "    \"\"\"Train a model (defined in Chapter 3).\"\"\"\n",
        "    animator = Animator(xlabel='epoch', xlim=[1, num_epochs], ylim=[0.3, 0.9],\n",
        "                        legend=['train loss', 'train acc', 'test acc'])\n",
        "    for epoch in range(num_epochs):\n",
        "        train_metrics = train_epoch_ch3(net, train_iter, loss, updater)\n",
        "        test_acc = evaluate_accuracy(net, test_iter)\n",
        "        animator.add(epoch + 1, train_metrics + (test_acc,))\n",
        "    train_loss, train_acc = train_metrics\n",
        "    assert train_loss < 0.5, train_loss\n",
        "    assert train_acc <= 1 and train_acc > 0.7, train_acc\n",
        "    assert test_acc <= 1 and test_acc > 0.7, test_acc"
      ],
      "execution_count": 478,
      "outputs": []
    },
    {
      "cell_type": "code",
      "metadata": {
        "id": "vbON1Vnh3kT5"
      },
      "source": [
        "lr = 0.1\n",
        "\n",
        "def updater(batch_size):\n",
        "    return d2l.sgd([W, b], lr, batch_size)"
      ],
      "execution_count": 479,
      "outputs": []
    },
    {
      "cell_type": "code",
      "metadata": {
        "colab": {
          "base_uri": "https://localhost:8080/",
          "height": 262
        },
        "id": "WigsCQMf3kVn",
        "outputId": "f68f8e14-ae9e-494e-f759-620c5e56891f"
      },
      "source": [
        "num_epochs = 10\n",
        "train_ch3(net, train_iter, test_iter, cross_entropy, num_epochs, updater)"
      ],
      "execution_count": 475,
      "outputs": [
        {
          "output_type": "display_data",
          "data": {
            "text/plain": [
              "<Figure size 252x180 with 1 Axes>"
            ],
            "image/svg+xml": "<?xml version=\"1.0\" encoding=\"utf-8\" standalone=\"no\"?>\n<!DOCTYPE svg PUBLIC \"-//W3C//DTD SVG 1.1//EN\"\n  \"http://www.w3.org/Graphics/SVG/1.1/DTD/svg11.dtd\">\n<!-- Created with matplotlib (https://matplotlib.org/) -->\n<svg height=\"180.65625pt\" version=\"1.1\" viewBox=\"0 0 238.965625 180.65625\" width=\"238.965625pt\" xmlns=\"http://www.w3.org/2000/svg\" xmlns:xlink=\"http://www.w3.org/1999/xlink\">\n <defs>\n  <style type=\"text/css\">\n*{stroke-linecap:butt;stroke-linejoin:round;}\n  </style>\n </defs>\n <g id=\"figure_1\">\n  <g id=\"patch_1\">\n   <path d=\"M 0 180.65625 \nL 238.965625 180.65625 \nL 238.965625 0 \nL 0 0 \nz\n\" style=\"fill:none;\"/>\n  </g>\n  <g id=\"axes_1\">\n   <g id=\"patch_2\">\n    <path d=\"M 30.103125 143.1 \nL 225.403125 143.1 \nL 225.403125 7.2 \nL 30.103125 7.2 \nz\n\" style=\"fill:#ffffff;\"/>\n   </g>\n   <g id=\"matplotlib.axis_1\">\n    <g id=\"xtick_1\">\n     <g id=\"line2d_1\">\n      <path clip-path=\"url(#p31e8a5edf3)\" d=\"M 51.803125 143.1 \nL 51.803125 7.2 \n\" style=\"fill:none;stroke:#b0b0b0;stroke-linecap:square;stroke-width:0.8;\"/>\n     </g>\n     <g id=\"line2d_2\">\n      <defs>\n       <path d=\"M 0 0 \nL 0 3.5 \n\" id=\"m323f2bf4e0\" style=\"stroke:#000000;stroke-width:0.8;\"/>\n      </defs>\n      <g>\n       <use style=\"stroke:#000000;stroke-width:0.8;\" x=\"51.803125\" xlink:href=\"#m323f2bf4e0\" y=\"143.1\"/>\n      </g>\n     </g>\n     <g id=\"text_1\">\n      <!-- 2 -->\n      <defs>\n       <path d=\"M 19.1875 8.296875 \nL 53.609375 8.296875 \nL 53.609375 0 \nL 7.328125 0 \nL 7.328125 8.296875 \nQ 12.9375 14.109375 22.625 23.890625 \nQ 32.328125 33.6875 34.8125 36.53125 \nQ 39.546875 41.84375 41.421875 45.53125 \nQ 43.3125 49.21875 43.3125 52.78125 \nQ 43.3125 58.59375 39.234375 62.25 \nQ 35.15625 65.921875 28.609375 65.921875 \nQ 23.96875 65.921875 18.8125 64.3125 \nQ 13.671875 62.703125 7.8125 59.421875 \nL 7.8125 69.390625 \nQ 13.765625 71.78125 18.9375 73 \nQ 24.125 74.21875 28.421875 74.21875 \nQ 39.75 74.21875 46.484375 68.546875 \nQ 53.21875 62.890625 53.21875 53.421875 \nQ 53.21875 48.921875 51.53125 44.890625 \nQ 49.859375 40.875 45.40625 35.40625 \nQ 44.1875 33.984375 37.640625 27.21875 \nQ 31.109375 20.453125 19.1875 8.296875 \nz\n\" id=\"DejaVuSans-50\"/>\n      </defs>\n      <g transform=\"translate(48.621875 157.698438)scale(0.1 -0.1)\">\n       <use xlink:href=\"#DejaVuSans-50\"/>\n      </g>\n     </g>\n    </g>\n    <g id=\"xtick_2\">\n     <g id=\"line2d_3\">\n      <path clip-path=\"url(#p31e8a5edf3)\" d=\"M 95.203125 143.1 \nL 95.203125 7.2 \n\" style=\"fill:none;stroke:#b0b0b0;stroke-linecap:square;stroke-width:0.8;\"/>\n     </g>\n     <g id=\"line2d_4\">\n      <g>\n       <use style=\"stroke:#000000;stroke-width:0.8;\" x=\"95.203125\" xlink:href=\"#m323f2bf4e0\" y=\"143.1\"/>\n      </g>\n     </g>\n     <g id=\"text_2\">\n      <!-- 4 -->\n      <defs>\n       <path d=\"M 37.796875 64.3125 \nL 12.890625 25.390625 \nL 37.796875 25.390625 \nz\nM 35.203125 72.90625 \nL 47.609375 72.90625 \nL 47.609375 25.390625 \nL 58.015625 25.390625 \nL 58.015625 17.1875 \nL 47.609375 17.1875 \nL 47.609375 0 \nL 37.796875 0 \nL 37.796875 17.1875 \nL 4.890625 17.1875 \nL 4.890625 26.703125 \nz\n\" id=\"DejaVuSans-52\"/>\n      </defs>\n      <g transform=\"translate(92.021875 157.698438)scale(0.1 -0.1)\">\n       <use xlink:href=\"#DejaVuSans-52\"/>\n      </g>\n     </g>\n    </g>\n    <g id=\"xtick_3\">\n     <g id=\"line2d_5\">\n      <path clip-path=\"url(#p31e8a5edf3)\" d=\"M 138.603125 143.1 \nL 138.603125 7.2 \n\" style=\"fill:none;stroke:#b0b0b0;stroke-linecap:square;stroke-width:0.8;\"/>\n     </g>\n     <g id=\"line2d_6\">\n      <g>\n       <use style=\"stroke:#000000;stroke-width:0.8;\" x=\"138.603125\" xlink:href=\"#m323f2bf4e0\" y=\"143.1\"/>\n      </g>\n     </g>\n     <g id=\"text_3\">\n      <!-- 6 -->\n      <defs>\n       <path d=\"M 33.015625 40.375 \nQ 26.375 40.375 22.484375 35.828125 \nQ 18.609375 31.296875 18.609375 23.390625 \nQ 18.609375 15.53125 22.484375 10.953125 \nQ 26.375 6.390625 33.015625 6.390625 \nQ 39.65625 6.390625 43.53125 10.953125 \nQ 47.40625 15.53125 47.40625 23.390625 \nQ 47.40625 31.296875 43.53125 35.828125 \nQ 39.65625 40.375 33.015625 40.375 \nz\nM 52.59375 71.296875 \nL 52.59375 62.3125 \nQ 48.875 64.0625 45.09375 64.984375 \nQ 41.3125 65.921875 37.59375 65.921875 \nQ 27.828125 65.921875 22.671875 59.328125 \nQ 17.53125 52.734375 16.796875 39.40625 \nQ 19.671875 43.65625 24.015625 45.921875 \nQ 28.375 48.1875 33.59375 48.1875 \nQ 44.578125 48.1875 50.953125 41.515625 \nQ 57.328125 34.859375 57.328125 23.390625 \nQ 57.328125 12.15625 50.6875 5.359375 \nQ 44.046875 -1.421875 33.015625 -1.421875 \nQ 20.359375 -1.421875 13.671875 8.265625 \nQ 6.984375 17.96875 6.984375 36.375 \nQ 6.984375 53.65625 15.1875 63.9375 \nQ 23.390625 74.21875 37.203125 74.21875 \nQ 40.921875 74.21875 44.703125 73.484375 \nQ 48.484375 72.75 52.59375 71.296875 \nz\n\" id=\"DejaVuSans-54\"/>\n      </defs>\n      <g transform=\"translate(135.421875 157.698438)scale(0.1 -0.1)\">\n       <use xlink:href=\"#DejaVuSans-54\"/>\n      </g>\n     </g>\n    </g>\n    <g id=\"xtick_4\">\n     <g id=\"line2d_7\">\n      <path clip-path=\"url(#p31e8a5edf3)\" d=\"M 182.003125 143.1 \nL 182.003125 7.2 \n\" style=\"fill:none;stroke:#b0b0b0;stroke-linecap:square;stroke-width:0.8;\"/>\n     </g>\n     <g id=\"line2d_8\">\n      <g>\n       <use style=\"stroke:#000000;stroke-width:0.8;\" x=\"182.003125\" xlink:href=\"#m323f2bf4e0\" y=\"143.1\"/>\n      </g>\n     </g>\n     <g id=\"text_4\">\n      <!-- 8 -->\n      <defs>\n       <path d=\"M 31.78125 34.625 \nQ 24.75 34.625 20.71875 30.859375 \nQ 16.703125 27.09375 16.703125 20.515625 \nQ 16.703125 13.921875 20.71875 10.15625 \nQ 24.75 6.390625 31.78125 6.390625 \nQ 38.8125 6.390625 42.859375 10.171875 \nQ 46.921875 13.96875 46.921875 20.515625 \nQ 46.921875 27.09375 42.890625 30.859375 \nQ 38.875 34.625 31.78125 34.625 \nz\nM 21.921875 38.8125 \nQ 15.578125 40.375 12.03125 44.71875 \nQ 8.5 49.078125 8.5 55.328125 \nQ 8.5 64.0625 14.71875 69.140625 \nQ 20.953125 74.21875 31.78125 74.21875 \nQ 42.671875 74.21875 48.875 69.140625 \nQ 55.078125 64.0625 55.078125 55.328125 \nQ 55.078125 49.078125 51.53125 44.71875 \nQ 48 40.375 41.703125 38.8125 \nQ 48.828125 37.15625 52.796875 32.3125 \nQ 56.78125 27.484375 56.78125 20.515625 \nQ 56.78125 9.90625 50.3125 4.234375 \nQ 43.84375 -1.421875 31.78125 -1.421875 \nQ 19.734375 -1.421875 13.25 4.234375 \nQ 6.78125 9.90625 6.78125 20.515625 \nQ 6.78125 27.484375 10.78125 32.3125 \nQ 14.796875 37.15625 21.921875 38.8125 \nz\nM 18.3125 54.390625 \nQ 18.3125 48.734375 21.84375 45.5625 \nQ 25.390625 42.390625 31.78125 42.390625 \nQ 38.140625 42.390625 41.71875 45.5625 \nQ 45.3125 48.734375 45.3125 54.390625 \nQ 45.3125 60.0625 41.71875 63.234375 \nQ 38.140625 66.40625 31.78125 66.40625 \nQ 25.390625 66.40625 21.84375 63.234375 \nQ 18.3125 60.0625 18.3125 54.390625 \nz\n\" id=\"DejaVuSans-56\"/>\n      </defs>\n      <g transform=\"translate(178.821875 157.698438)scale(0.1 -0.1)\">\n       <use xlink:href=\"#DejaVuSans-56\"/>\n      </g>\n     </g>\n    </g>\n    <g id=\"xtick_5\">\n     <g id=\"line2d_9\">\n      <path clip-path=\"url(#p31e8a5edf3)\" d=\"M 225.403125 143.1 \nL 225.403125 7.2 \n\" style=\"fill:none;stroke:#b0b0b0;stroke-linecap:square;stroke-width:0.8;\"/>\n     </g>\n     <g id=\"line2d_10\">\n      <g>\n       <use style=\"stroke:#000000;stroke-width:0.8;\" x=\"225.403125\" xlink:href=\"#m323f2bf4e0\" y=\"143.1\"/>\n      </g>\n     </g>\n     <g id=\"text_5\">\n      <!-- 10 -->\n      <defs>\n       <path d=\"M 12.40625 8.296875 \nL 28.515625 8.296875 \nL 28.515625 63.921875 \nL 10.984375 60.40625 \nL 10.984375 69.390625 \nL 28.421875 72.90625 \nL 38.28125 72.90625 \nL 38.28125 8.296875 \nL 54.390625 8.296875 \nL 54.390625 0 \nL 12.40625 0 \nz\n\" id=\"DejaVuSans-49\"/>\n       <path d=\"M 31.78125 66.40625 \nQ 24.171875 66.40625 20.328125 58.90625 \nQ 16.5 51.421875 16.5 36.375 \nQ 16.5 21.390625 20.328125 13.890625 \nQ 24.171875 6.390625 31.78125 6.390625 \nQ 39.453125 6.390625 43.28125 13.890625 \nQ 47.125 21.390625 47.125 36.375 \nQ 47.125 51.421875 43.28125 58.90625 \nQ 39.453125 66.40625 31.78125 66.40625 \nz\nM 31.78125 74.21875 \nQ 44.046875 74.21875 50.515625 64.515625 \nQ 56.984375 54.828125 56.984375 36.375 \nQ 56.984375 17.96875 50.515625 8.265625 \nQ 44.046875 -1.421875 31.78125 -1.421875 \nQ 19.53125 -1.421875 13.0625 8.265625 \nQ 6.59375 17.96875 6.59375 36.375 \nQ 6.59375 54.828125 13.0625 64.515625 \nQ 19.53125 74.21875 31.78125 74.21875 \nz\n\" id=\"DejaVuSans-48\"/>\n      </defs>\n      <g transform=\"translate(219.040625 157.698438)scale(0.1 -0.1)\">\n       <use xlink:href=\"#DejaVuSans-49\"/>\n       <use x=\"63.623047\" xlink:href=\"#DejaVuSans-48\"/>\n      </g>\n     </g>\n    </g>\n    <g id=\"text_6\">\n     <!-- epoch -->\n     <defs>\n      <path d=\"M 56.203125 29.59375 \nL 56.203125 25.203125 \nL 14.890625 25.203125 \nQ 15.484375 15.921875 20.484375 11.0625 \nQ 25.484375 6.203125 34.421875 6.203125 \nQ 39.59375 6.203125 44.453125 7.46875 \nQ 49.3125 8.734375 54.109375 11.28125 \nL 54.109375 2.78125 \nQ 49.265625 0.734375 44.1875 -0.34375 \nQ 39.109375 -1.421875 33.890625 -1.421875 \nQ 20.796875 -1.421875 13.15625 6.1875 \nQ 5.515625 13.8125 5.515625 26.8125 \nQ 5.515625 40.234375 12.765625 48.109375 \nQ 20.015625 56 32.328125 56 \nQ 43.359375 56 49.78125 48.890625 \nQ 56.203125 41.796875 56.203125 29.59375 \nz\nM 47.21875 32.234375 \nQ 47.125 39.59375 43.09375 43.984375 \nQ 39.0625 48.390625 32.421875 48.390625 \nQ 24.90625 48.390625 20.390625 44.140625 \nQ 15.875 39.890625 15.1875 32.171875 \nz\n\" id=\"DejaVuSans-101\"/>\n      <path d=\"M 18.109375 8.203125 \nL 18.109375 -20.796875 \nL 9.078125 -20.796875 \nL 9.078125 54.6875 \nL 18.109375 54.6875 \nL 18.109375 46.390625 \nQ 20.953125 51.265625 25.265625 53.625 \nQ 29.59375 56 35.59375 56 \nQ 45.5625 56 51.78125 48.09375 \nQ 58.015625 40.1875 58.015625 27.296875 \nQ 58.015625 14.40625 51.78125 6.484375 \nQ 45.5625 -1.421875 35.59375 -1.421875 \nQ 29.59375 -1.421875 25.265625 0.953125 \nQ 20.953125 3.328125 18.109375 8.203125 \nz\nM 48.6875 27.296875 \nQ 48.6875 37.203125 44.609375 42.84375 \nQ 40.53125 48.484375 33.40625 48.484375 \nQ 26.265625 48.484375 22.1875 42.84375 \nQ 18.109375 37.203125 18.109375 27.296875 \nQ 18.109375 17.390625 22.1875 11.75 \nQ 26.265625 6.109375 33.40625 6.109375 \nQ 40.53125 6.109375 44.609375 11.75 \nQ 48.6875 17.390625 48.6875 27.296875 \nz\n\" id=\"DejaVuSans-112\"/>\n      <path d=\"M 30.609375 48.390625 \nQ 23.390625 48.390625 19.1875 42.75 \nQ 14.984375 37.109375 14.984375 27.296875 \nQ 14.984375 17.484375 19.15625 11.84375 \nQ 23.34375 6.203125 30.609375 6.203125 \nQ 37.796875 6.203125 41.984375 11.859375 \nQ 46.1875 17.53125 46.1875 27.296875 \nQ 46.1875 37.015625 41.984375 42.703125 \nQ 37.796875 48.390625 30.609375 48.390625 \nz\nM 30.609375 56 \nQ 42.328125 56 49.015625 48.375 \nQ 55.71875 40.765625 55.71875 27.296875 \nQ 55.71875 13.875 49.015625 6.21875 \nQ 42.328125 -1.421875 30.609375 -1.421875 \nQ 18.84375 -1.421875 12.171875 6.21875 \nQ 5.515625 13.875 5.515625 27.296875 \nQ 5.515625 40.765625 12.171875 48.375 \nQ 18.84375 56 30.609375 56 \nz\n\" id=\"DejaVuSans-111\"/>\n      <path d=\"M 48.78125 52.59375 \nL 48.78125 44.1875 \nQ 44.96875 46.296875 41.140625 47.34375 \nQ 37.3125 48.390625 33.40625 48.390625 \nQ 24.65625 48.390625 19.8125 42.84375 \nQ 14.984375 37.3125 14.984375 27.296875 \nQ 14.984375 17.28125 19.8125 11.734375 \nQ 24.65625 6.203125 33.40625 6.203125 \nQ 37.3125 6.203125 41.140625 7.25 \nQ 44.96875 8.296875 48.78125 10.40625 \nL 48.78125 2.09375 \nQ 45.015625 0.34375 40.984375 -0.53125 \nQ 36.96875 -1.421875 32.421875 -1.421875 \nQ 20.0625 -1.421875 12.78125 6.34375 \nQ 5.515625 14.109375 5.515625 27.296875 \nQ 5.515625 40.671875 12.859375 48.328125 \nQ 20.21875 56 33.015625 56 \nQ 37.15625 56 41.109375 55.140625 \nQ 45.0625 54.296875 48.78125 52.59375 \nz\n\" id=\"DejaVuSans-99\"/>\n      <path d=\"M 54.890625 33.015625 \nL 54.890625 0 \nL 45.90625 0 \nL 45.90625 32.71875 \nQ 45.90625 40.484375 42.875 44.328125 \nQ 39.84375 48.1875 33.796875 48.1875 \nQ 26.515625 48.1875 22.3125 43.546875 \nQ 18.109375 38.921875 18.109375 30.90625 \nL 18.109375 0 \nL 9.078125 0 \nL 9.078125 75.984375 \nL 18.109375 75.984375 \nL 18.109375 46.1875 \nQ 21.34375 51.125 25.703125 53.5625 \nQ 30.078125 56 35.796875 56 \nQ 45.21875 56 50.046875 50.171875 \nQ 54.890625 44.34375 54.890625 33.015625 \nz\n\" id=\"DejaVuSans-104\"/>\n     </defs>\n     <g transform=\"translate(112.525 171.376563)scale(0.1 -0.1)\">\n      <use xlink:href=\"#DejaVuSans-101\"/>\n      <use x=\"61.523438\" xlink:href=\"#DejaVuSans-112\"/>\n      <use x=\"125\" xlink:href=\"#DejaVuSans-111\"/>\n      <use x=\"186.181641\" xlink:href=\"#DejaVuSans-99\"/>\n      <use x=\"241.162109\" xlink:href=\"#DejaVuSans-104\"/>\n     </g>\n    </g>\n   </g>\n   <g id=\"matplotlib.axis_2\">\n    <g id=\"ytick_1\">\n     <g id=\"line2d_11\">\n      <path clip-path=\"url(#p31e8a5edf3)\" d=\"M 30.103125 120.45 \nL 225.403125 120.45 \n\" style=\"fill:none;stroke:#b0b0b0;stroke-linecap:square;stroke-width:0.8;\"/>\n     </g>\n     <g id=\"line2d_12\">\n      <defs>\n       <path d=\"M 0 0 \nL -3.5 0 \n\" id=\"m9eae524b79\" style=\"stroke:#000000;stroke-width:0.8;\"/>\n      </defs>\n      <g>\n       <use style=\"stroke:#000000;stroke-width:0.8;\" x=\"30.103125\" xlink:href=\"#m9eae524b79\" y=\"120.45\"/>\n      </g>\n     </g>\n     <g id=\"text_7\">\n      <!-- 0.4 -->\n      <defs>\n       <path d=\"M 10.6875 12.40625 \nL 21 12.40625 \nL 21 0 \nL 10.6875 0 \nz\n\" id=\"DejaVuSans-46\"/>\n      </defs>\n      <g transform=\"translate(7.2 124.249219)scale(0.1 -0.1)\">\n       <use xlink:href=\"#DejaVuSans-48\"/>\n       <use x=\"63.623047\" xlink:href=\"#DejaVuSans-46\"/>\n       <use x=\"95.410156\" xlink:href=\"#DejaVuSans-52\"/>\n      </g>\n     </g>\n    </g>\n    <g id=\"ytick_2\">\n     <g id=\"line2d_13\">\n      <path clip-path=\"url(#p31e8a5edf3)\" d=\"M 30.103125 75.15 \nL 225.403125 75.15 \n\" style=\"fill:none;stroke:#b0b0b0;stroke-linecap:square;stroke-width:0.8;\"/>\n     </g>\n     <g id=\"line2d_14\">\n      <g>\n       <use style=\"stroke:#000000;stroke-width:0.8;\" x=\"30.103125\" xlink:href=\"#m9eae524b79\" y=\"75.15\"/>\n      </g>\n     </g>\n     <g id=\"text_8\">\n      <!-- 0.6 -->\n      <g transform=\"translate(7.2 78.949219)scale(0.1 -0.1)\">\n       <use xlink:href=\"#DejaVuSans-48\"/>\n       <use x=\"63.623047\" xlink:href=\"#DejaVuSans-46\"/>\n       <use x=\"95.410156\" xlink:href=\"#DejaVuSans-54\"/>\n      </g>\n     </g>\n    </g>\n    <g id=\"ytick_3\">\n     <g id=\"line2d_15\">\n      <path clip-path=\"url(#p31e8a5edf3)\" d=\"M 30.103125 29.85 \nL 225.403125 29.85 \n\" style=\"fill:none;stroke:#b0b0b0;stroke-linecap:square;stroke-width:0.8;\"/>\n     </g>\n     <g id=\"line2d_16\">\n      <g>\n       <use style=\"stroke:#000000;stroke-width:0.8;\" x=\"30.103125\" xlink:href=\"#m9eae524b79\" y=\"29.85\"/>\n      </g>\n     </g>\n     <g id=\"text_9\">\n      <!-- 0.8 -->\n      <g transform=\"translate(7.2 33.649219)scale(0.1 -0.1)\">\n       <use xlink:href=\"#DejaVuSans-48\"/>\n       <use x=\"63.623047\" xlink:href=\"#DejaVuSans-46\"/>\n       <use x=\"95.410156\" xlink:href=\"#DejaVuSans-56\"/>\n      </g>\n     </g>\n    </g>\n   </g>\n   <g id=\"line2d_17\">\n    <path clip-path=\"url(#p31e8a5edf3)\" d=\"M 30.103125 33.392355 \nL 51.803125 81.830203 \nL 73.503125 91.874184 \nL 95.203125 97.794935 \nL 116.903125 101.13004 \nL 138.603125 103.706914 \nL 160.303125 105.577126 \nL 182.003125 107.351571 \nL 203.703125 108.680889 \nL 225.403125 109.609866 \n\" style=\"fill:none;stroke:#1f77b4;stroke-linecap:square;stroke-width:1.5;\"/>\n   </g>\n   <g id=\"line2d_18\">\n    <path clip-path=\"url(#p31e8a5edf3)\" d=\"M 30.103125 41.480775 \nL 51.803125 26.68655 \nL 73.503125 24.2932 \nL 95.203125 22.386825 \nL 116.903125 21.639375 \nL 138.603125 20.6541 \nL 160.303125 20.174675 \nL 182.003125 19.52915 \nL 203.703125 19.28 \nL 225.403125 18.974225 \n\" style=\"fill:none;stroke:#bf00bf;stroke-dasharray:5.55,2.4;stroke-dashoffset:0;stroke-width:1.5;\"/>\n   </g>\n   <g id=\"line2d_19\">\n    <path clip-path=\"url(#p31e8a5edf3)\" d=\"M 30.103125 47.2452 \nL 51.803125 27.5397 \nL 73.503125 26.9961 \nL 95.203125 25.43325 \nL 116.903125 25.52385 \nL 138.603125 23.8251 \nL 160.303125 24.0063 \nL 182.003125 24.11955 \nL 203.703125 23.71185 \nL 225.403125 24.4593 \n\" style=\"fill:none;stroke:#008000;stroke-dasharray:9.6,2.4,1.5,2.4;stroke-dashoffset:0;stroke-width:1.5;\"/>\n   </g>\n   <g id=\"patch_3\">\n    <path d=\"M 30.103125 143.1 \nL 30.103125 7.2 \n\" style=\"fill:none;stroke:#000000;stroke-linecap:square;stroke-linejoin:miter;stroke-width:0.8;\"/>\n   </g>\n   <g id=\"patch_4\">\n    <path d=\"M 225.403125 143.1 \nL 225.403125 7.2 \n\" style=\"fill:none;stroke:#000000;stroke-linecap:square;stroke-linejoin:miter;stroke-width:0.8;\"/>\n   </g>\n   <g id=\"patch_5\">\n    <path d=\"M 30.103125 143.1 \nL 225.403125 143.1 \n\" style=\"fill:none;stroke:#000000;stroke-linecap:square;stroke-linejoin:miter;stroke-width:0.8;\"/>\n   </g>\n   <g id=\"patch_6\">\n    <path d=\"M 30.103125 7.2 \nL 225.403125 7.2 \n\" style=\"fill:none;stroke:#000000;stroke-linecap:square;stroke-linejoin:miter;stroke-width:0.8;\"/>\n   </g>\n   <g id=\"legend_1\">\n    <g id=\"patch_7\">\n     <path d=\"M 140.634375 98.667187 \nL 218.403125 98.667187 \nQ 220.403125 98.667187 220.403125 96.667187 \nL 220.403125 53.632812 \nQ 220.403125 51.632812 218.403125 51.632812 \nL 140.634375 51.632812 \nQ 138.634375 51.632812 138.634375 53.632812 \nL 138.634375 96.667187 \nQ 138.634375 98.667187 140.634375 98.667187 \nz\n\" style=\"fill:#ffffff;opacity:0.8;stroke:#cccccc;stroke-linejoin:miter;\"/>\n    </g>\n    <g id=\"line2d_20\">\n     <path d=\"M 142.634375 59.73125 \nL 162.634375 59.73125 \n\" style=\"fill:none;stroke:#1f77b4;stroke-linecap:square;stroke-width:1.5;\"/>\n    </g>\n    <g id=\"line2d_21\"/>\n    <g id=\"text_10\">\n     <!-- train loss -->\n     <defs>\n      <path d=\"M 18.3125 70.21875 \nL 18.3125 54.6875 \nL 36.8125 54.6875 \nL 36.8125 47.703125 \nL 18.3125 47.703125 \nL 18.3125 18.015625 \nQ 18.3125 11.328125 20.140625 9.421875 \nQ 21.96875 7.515625 27.59375 7.515625 \nL 36.8125 7.515625 \nL 36.8125 0 \nL 27.59375 0 \nQ 17.1875 0 13.234375 3.875 \nQ 9.28125 7.765625 9.28125 18.015625 \nL 9.28125 47.703125 \nL 2.6875 47.703125 \nL 2.6875 54.6875 \nL 9.28125 54.6875 \nL 9.28125 70.21875 \nz\n\" id=\"DejaVuSans-116\"/>\n      <path d=\"M 41.109375 46.296875 \nQ 39.59375 47.171875 37.8125 47.578125 \nQ 36.03125 48 33.890625 48 \nQ 26.265625 48 22.1875 43.046875 \nQ 18.109375 38.09375 18.109375 28.8125 \nL 18.109375 0 \nL 9.078125 0 \nL 9.078125 54.6875 \nL 18.109375 54.6875 \nL 18.109375 46.1875 \nQ 20.953125 51.171875 25.484375 53.578125 \nQ 30.03125 56 36.53125 56 \nQ 37.453125 56 38.578125 55.875 \nQ 39.703125 55.765625 41.0625 55.515625 \nz\n\" id=\"DejaVuSans-114\"/>\n      <path d=\"M 34.28125 27.484375 \nQ 23.390625 27.484375 19.1875 25 \nQ 14.984375 22.515625 14.984375 16.5 \nQ 14.984375 11.71875 18.140625 8.90625 \nQ 21.296875 6.109375 26.703125 6.109375 \nQ 34.1875 6.109375 38.703125 11.40625 \nQ 43.21875 16.703125 43.21875 25.484375 \nL 43.21875 27.484375 \nz\nM 52.203125 31.203125 \nL 52.203125 0 \nL 43.21875 0 \nL 43.21875 8.296875 \nQ 40.140625 3.328125 35.546875 0.953125 \nQ 30.953125 -1.421875 24.3125 -1.421875 \nQ 15.921875 -1.421875 10.953125 3.296875 \nQ 6 8.015625 6 15.921875 \nQ 6 25.140625 12.171875 29.828125 \nQ 18.359375 34.515625 30.609375 34.515625 \nL 43.21875 34.515625 \nL 43.21875 35.40625 \nQ 43.21875 41.609375 39.140625 45 \nQ 35.0625 48.390625 27.6875 48.390625 \nQ 23 48.390625 18.546875 47.265625 \nQ 14.109375 46.140625 10.015625 43.890625 \nL 10.015625 52.203125 \nQ 14.9375 54.109375 19.578125 55.046875 \nQ 24.21875 56 28.609375 56 \nQ 40.484375 56 46.34375 49.84375 \nQ 52.203125 43.703125 52.203125 31.203125 \nz\n\" id=\"DejaVuSans-97\"/>\n      <path d=\"M 9.421875 54.6875 \nL 18.40625 54.6875 \nL 18.40625 0 \nL 9.421875 0 \nz\nM 9.421875 75.984375 \nL 18.40625 75.984375 \nL 18.40625 64.59375 \nL 9.421875 64.59375 \nz\n\" id=\"DejaVuSans-105\"/>\n      <path d=\"M 54.890625 33.015625 \nL 54.890625 0 \nL 45.90625 0 \nL 45.90625 32.71875 \nQ 45.90625 40.484375 42.875 44.328125 \nQ 39.84375 48.1875 33.796875 48.1875 \nQ 26.515625 48.1875 22.3125 43.546875 \nQ 18.109375 38.921875 18.109375 30.90625 \nL 18.109375 0 \nL 9.078125 0 \nL 9.078125 54.6875 \nL 18.109375 54.6875 \nL 18.109375 46.1875 \nQ 21.34375 51.125 25.703125 53.5625 \nQ 30.078125 56 35.796875 56 \nQ 45.21875 56 50.046875 50.171875 \nQ 54.890625 44.34375 54.890625 33.015625 \nz\n\" id=\"DejaVuSans-110\"/>\n      <path id=\"DejaVuSans-32\"/>\n      <path d=\"M 9.421875 75.984375 \nL 18.40625 75.984375 \nL 18.40625 0 \nL 9.421875 0 \nz\n\" id=\"DejaVuSans-108\"/>\n      <path d=\"M 44.28125 53.078125 \nL 44.28125 44.578125 \nQ 40.484375 46.53125 36.375 47.5 \nQ 32.28125 48.484375 27.875 48.484375 \nQ 21.1875 48.484375 17.84375 46.4375 \nQ 14.5 44.390625 14.5 40.28125 \nQ 14.5 37.15625 16.890625 35.375 \nQ 19.28125 33.59375 26.515625 31.984375 \nL 29.59375 31.296875 \nQ 39.15625 29.25 43.1875 25.515625 \nQ 47.21875 21.78125 47.21875 15.09375 \nQ 47.21875 7.46875 41.1875 3.015625 \nQ 35.15625 -1.421875 24.609375 -1.421875 \nQ 20.21875 -1.421875 15.453125 -0.5625 \nQ 10.6875 0.296875 5.421875 2 \nL 5.421875 11.28125 \nQ 10.40625 8.6875 15.234375 7.390625 \nQ 20.0625 6.109375 24.8125 6.109375 \nQ 31.15625 6.109375 34.5625 8.28125 \nQ 37.984375 10.453125 37.984375 14.40625 \nQ 37.984375 18.0625 35.515625 20.015625 \nQ 33.0625 21.96875 24.703125 23.78125 \nL 21.578125 24.515625 \nQ 13.234375 26.265625 9.515625 29.90625 \nQ 5.8125 33.546875 5.8125 39.890625 \nQ 5.8125 47.609375 11.28125 51.796875 \nQ 16.75 56 26.8125 56 \nQ 31.78125 56 36.171875 55.265625 \nQ 40.578125 54.546875 44.28125 53.078125 \nz\n\" id=\"DejaVuSans-115\"/>\n     </defs>\n     <g transform=\"translate(170.634375 63.23125)scale(0.1 -0.1)\">\n      <use xlink:href=\"#DejaVuSans-116\"/>\n      <use x=\"39.208984\" xlink:href=\"#DejaVuSans-114\"/>\n      <use x=\"80.322266\" xlink:href=\"#DejaVuSans-97\"/>\n      <use x=\"141.601562\" xlink:href=\"#DejaVuSans-105\"/>\n      <use x=\"169.384766\" xlink:href=\"#DejaVuSans-110\"/>\n      <use x=\"232.763672\" xlink:href=\"#DejaVuSans-32\"/>\n      <use x=\"264.550781\" xlink:href=\"#DejaVuSans-108\"/>\n      <use x=\"292.333984\" xlink:href=\"#DejaVuSans-111\"/>\n      <use x=\"353.515625\" xlink:href=\"#DejaVuSans-115\"/>\n      <use x=\"405.615234\" xlink:href=\"#DejaVuSans-115\"/>\n     </g>\n    </g>\n    <g id=\"line2d_22\">\n     <path d=\"M 142.634375 74.409375 \nL 162.634375 74.409375 \n\" style=\"fill:none;stroke:#bf00bf;stroke-dasharray:5.55,2.4;stroke-dashoffset:0;stroke-width:1.5;\"/>\n    </g>\n    <g id=\"line2d_23\"/>\n    <g id=\"text_11\">\n     <!-- train acc -->\n     <g transform=\"translate(170.634375 77.909375)scale(0.1 -0.1)\">\n      <use xlink:href=\"#DejaVuSans-116\"/>\n      <use x=\"39.208984\" xlink:href=\"#DejaVuSans-114\"/>\n      <use x=\"80.322266\" xlink:href=\"#DejaVuSans-97\"/>\n      <use x=\"141.601562\" xlink:href=\"#DejaVuSans-105\"/>\n      <use x=\"169.384766\" xlink:href=\"#DejaVuSans-110\"/>\n      <use x=\"232.763672\" xlink:href=\"#DejaVuSans-32\"/>\n      <use x=\"264.550781\" xlink:href=\"#DejaVuSans-97\"/>\n      <use x=\"325.830078\" xlink:href=\"#DejaVuSans-99\"/>\n      <use x=\"380.810547\" xlink:href=\"#DejaVuSans-99\"/>\n     </g>\n    </g>\n    <g id=\"line2d_24\">\n     <path d=\"M 142.634375 89.0875 \nL 162.634375 89.0875 \n\" style=\"fill:none;stroke:#008000;stroke-dasharray:9.6,2.4,1.5,2.4;stroke-dashoffset:0;stroke-width:1.5;\"/>\n    </g>\n    <g id=\"line2d_25\"/>\n    <g id=\"text_12\">\n     <!-- test acc -->\n     <g transform=\"translate(170.634375 92.5875)scale(0.1 -0.1)\">\n      <use xlink:href=\"#DejaVuSans-116\"/>\n      <use x=\"39.208984\" xlink:href=\"#DejaVuSans-101\"/>\n      <use x=\"100.732422\" xlink:href=\"#DejaVuSans-115\"/>\n      <use x=\"152.832031\" xlink:href=\"#DejaVuSans-116\"/>\n      <use x=\"192.041016\" xlink:href=\"#DejaVuSans-32\"/>\n      <use x=\"223.828125\" xlink:href=\"#DejaVuSans-97\"/>\n      <use x=\"285.107422\" xlink:href=\"#DejaVuSans-99\"/>\n      <use x=\"340.087891\" xlink:href=\"#DejaVuSans-99\"/>\n     </g>\n    </g>\n   </g>\n  </g>\n </g>\n <defs>\n  <clipPath id=\"p31e8a5edf3\">\n   <rect height=\"135.9\" width=\"195.3\" x=\"30.103125\" y=\"7.2\"/>\n  </clipPath>\n </defs>\n</svg>\n"
          },
          "metadata": {
            "tags": [],
            "needs_background": "light"
          }
        }
      ]
    },
    {
      "cell_type": "markdown",
      "metadata": {
        "id": "ImPRmI68i42Z"
      },
      "source": [
        "## 3.6.7 prediction"
      ]
    },
    {
      "cell_type": "code",
      "metadata": {
        "colab": {
          "base_uri": "https://localhost:8080/",
          "height": 233
        },
        "id": "4xaXdIjP3kXb",
        "outputId": "9b6c94b9-b896-4231-a83d-8d7ad8b31f1e"
      },
      "source": [
        "def predict_ch3(net, test_iter, n=6):  #@save\n",
        "    \"\"\"Predict labels (defined in Chapter 3).\"\"\"\n",
        "    for X, y in test_iter:\n",
        "        break\n",
        "    trues = d2l.get_fashion_mnist_labels(y)\n",
        "    preds = d2l.get_fashion_mnist_labels(net(X).argmax(axis=1))\n",
        "    titles = [true + '\\n' + pred for true, pred in zip(trues, preds)]\n",
        "    d2l.show_images(X[0:n].reshape((n, 28, 28)), 1, n, titles=titles[0:n])\n",
        "\n",
        "predict_ch3(net, test_iter)"
      ],
      "execution_count": 480,
      "outputs": [
        {
          "output_type": "stream",
          "text": [
            "/usr/local/lib/python3.7/dist-packages/torch/utils/data/dataloader.py:477: UserWarning: This DataLoader will create 4 worker processes in total. Our suggested max number of worker in current system is 2, which is smaller than what this DataLoader is going to create. Please be aware that excessive worker creation might get DataLoader running slow or even freeze, lower the worker number to avoid potential slowness/freeze if necessary.\n",
            "  cpuset_checked))\n"
          ],
          "name": "stderr"
        },
        {
          "output_type": "display_data",
          "data": {
            "text/plain": [
              "<Figure size 648x108 with 6 Axes>"
            ],
            "image/svg+xml": "<?xml version=\"1.0\" encoding=\"utf-8\" standalone=\"no\"?>\n<!DOCTYPE svg PUBLIC \"-//W3C//DTD SVG 1.1//EN\"\n  \"http://www.w3.org/Graphics/SVG/1.1/DTD/svg11.dtd\">\n<!-- Created with matplotlib (https://matplotlib.org/) -->\n<svg height=\"118.198357pt\" version=\"1.1\" viewBox=\"0 0 520.1 118.198357\" width=\"520.1pt\" xmlns=\"http://www.w3.org/2000/svg\" xmlns:xlink=\"http://www.w3.org/1999/xlink\">\n <defs>\n  <style type=\"text/css\">\n*{stroke-linecap:butt;stroke-linejoin:round;}\n  </style>\n </defs>\n <g id=\"figure_1\">\n  <g id=\"patch_1\">\n   <path d=\"M 0 118.198357 \nL 520.1 118.198357 \nL 520.1 0 \nL 0 0 \nz\n\" style=\"fill:none;\"/>\n  </g>\n  <g id=\"axes_1\">\n   <g id=\"patch_2\">\n    <path d=\"M 10.7 107.498357 \nL 82.442857 107.498357 \nL 82.442857 35.7555 \nL 10.7 35.7555 \nz\n\" style=\"fill:#ffffff;\"/>\n   </g>\n   <g clip-path=\"url(#p05188e8dbc)\">\n    <image height=\"72\" id=\"image805cbbd669\" transform=\"scale(1 -1)translate(0 -72)\" width=\"72\" x=\"10.7\" xlink:href=\"data:image/png;base64,\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\" y=\"-35.498357\"/>\n   </g>\n   <g id=\"patch_3\">\n    <path d=\"M 10.7 107.498357 \nL 10.7 35.7555 \n\" style=\"fill:none;stroke:#000000;stroke-linecap:square;stroke-linejoin:miter;stroke-width:0.8;\"/>\n   </g>\n   <g id=\"patch_4\">\n    <path d=\"M 82.442857 107.498357 \nL 82.442857 35.7555 \n\" style=\"fill:none;stroke:#000000;stroke-linecap:square;stroke-linejoin:miter;stroke-width:0.8;\"/>\n   </g>\n   <g id=\"patch_5\">\n    <path d=\"M 10.7 107.498357 \nL 82.442857 107.498357 \n\" style=\"fill:none;stroke:#000000;stroke-linecap:square;stroke-linejoin:miter;stroke-width:0.8;\"/>\n   </g>\n   <g id=\"patch_6\">\n    <path d=\"M 10.7 35.7555 \nL 82.442857 35.7555 \n\" style=\"fill:none;stroke:#000000;stroke-linecap:square;stroke-linejoin:miter;stroke-width:0.8;\"/>\n   </g>\n   <g id=\"text_1\">\n    <!-- ankle boot -->\n    <defs>\n     <path d=\"M 34.28125 27.484375 \nQ 23.390625 27.484375 19.1875 25 \nQ 14.984375 22.515625 14.984375 16.5 \nQ 14.984375 11.71875 18.140625 8.90625 \nQ 21.296875 6.109375 26.703125 6.109375 \nQ 34.1875 6.109375 38.703125 11.40625 \nQ 43.21875 16.703125 43.21875 25.484375 \nL 43.21875 27.484375 \nz\nM 52.203125 31.203125 \nL 52.203125 0 \nL 43.21875 0 \nL 43.21875 8.296875 \nQ 40.140625 3.328125 35.546875 0.953125 \nQ 30.953125 -1.421875 24.3125 -1.421875 \nQ 15.921875 -1.421875 10.953125 3.296875 \nQ 6 8.015625 6 15.921875 \nQ 6 25.140625 12.171875 29.828125 \nQ 18.359375 34.515625 30.609375 34.515625 \nL 43.21875 34.515625 \nL 43.21875 35.40625 \nQ 43.21875 41.609375 39.140625 45 \nQ 35.0625 48.390625 27.6875 48.390625 \nQ 23 48.390625 18.546875 47.265625 \nQ 14.109375 46.140625 10.015625 43.890625 \nL 10.015625 52.203125 \nQ 14.9375 54.109375 19.578125 55.046875 \nQ 24.21875 56 28.609375 56 \nQ 40.484375 56 46.34375 49.84375 \nQ 52.203125 43.703125 52.203125 31.203125 \nz\n\" id=\"DejaVuSans-97\"/>\n     <path d=\"M 54.890625 33.015625 \nL 54.890625 0 \nL 45.90625 0 \nL 45.90625 32.71875 \nQ 45.90625 40.484375 42.875 44.328125 \nQ 39.84375 48.1875 33.796875 48.1875 \nQ 26.515625 48.1875 22.3125 43.546875 \nQ 18.109375 38.921875 18.109375 30.90625 \nL 18.109375 0 \nL 9.078125 0 \nL 9.078125 54.6875 \nL 18.109375 54.6875 \nL 18.109375 46.1875 \nQ 21.34375 51.125 25.703125 53.5625 \nQ 30.078125 56 35.796875 56 \nQ 45.21875 56 50.046875 50.171875 \nQ 54.890625 44.34375 54.890625 33.015625 \nz\n\" id=\"DejaVuSans-110\"/>\n     <path d=\"M 9.078125 75.984375 \nL 18.109375 75.984375 \nL 18.109375 31.109375 \nL 44.921875 54.6875 \nL 56.390625 54.6875 \nL 27.390625 29.109375 \nL 57.625 0 \nL 45.90625 0 \nL 18.109375 26.703125 \nL 18.109375 0 \nL 9.078125 0 \nz\n\" id=\"DejaVuSans-107\"/>\n     <path d=\"M 9.421875 75.984375 \nL 18.40625 75.984375 \nL 18.40625 0 \nL 9.421875 0 \nz\n\" id=\"DejaVuSans-108\"/>\n     <path d=\"M 56.203125 29.59375 \nL 56.203125 25.203125 \nL 14.890625 25.203125 \nQ 15.484375 15.921875 20.484375 11.0625 \nQ 25.484375 6.203125 34.421875 6.203125 \nQ 39.59375 6.203125 44.453125 7.46875 \nQ 49.3125 8.734375 54.109375 11.28125 \nL 54.109375 2.78125 \nQ 49.265625 0.734375 44.1875 -0.34375 \nQ 39.109375 -1.421875 33.890625 -1.421875 \nQ 20.796875 -1.421875 13.15625 6.1875 \nQ 5.515625 13.8125 5.515625 26.8125 \nQ 5.515625 40.234375 12.765625 48.109375 \nQ 20.015625 56 32.328125 56 \nQ 43.359375 56 49.78125 48.890625 \nQ 56.203125 41.796875 56.203125 29.59375 \nz\nM 47.21875 32.234375 \nQ 47.125 39.59375 43.09375 43.984375 \nQ 39.0625 48.390625 32.421875 48.390625 \nQ 24.90625 48.390625 20.390625 44.140625 \nQ 15.875 39.890625 15.1875 32.171875 \nz\n\" id=\"DejaVuSans-101\"/>\n     <path id=\"DejaVuSans-32\"/>\n     <path d=\"M 48.6875 27.296875 \nQ 48.6875 37.203125 44.609375 42.84375 \nQ 40.53125 48.484375 33.40625 48.484375 \nQ 26.265625 48.484375 22.1875 42.84375 \nQ 18.109375 37.203125 18.109375 27.296875 \nQ 18.109375 17.390625 22.1875 11.75 \nQ 26.265625 6.109375 33.40625 6.109375 \nQ 40.53125 6.109375 44.609375 11.75 \nQ 48.6875 17.390625 48.6875 27.296875 \nz\nM 18.109375 46.390625 \nQ 20.953125 51.265625 25.265625 53.625 \nQ 29.59375 56 35.59375 56 \nQ 45.5625 56 51.78125 48.09375 \nQ 58.015625 40.1875 58.015625 27.296875 \nQ 58.015625 14.40625 51.78125 6.484375 \nQ 45.5625 -1.421875 35.59375 -1.421875 \nQ 29.59375 -1.421875 25.265625 0.953125 \nQ 20.953125 3.328125 18.109375 8.203125 \nL 18.109375 0 \nL 9.078125 0 \nL 9.078125 75.984375 \nL 18.109375 75.984375 \nz\n\" id=\"DejaVuSans-98\"/>\n     <path d=\"M 30.609375 48.390625 \nQ 23.390625 48.390625 19.1875 42.75 \nQ 14.984375 37.109375 14.984375 27.296875 \nQ 14.984375 17.484375 19.15625 11.84375 \nQ 23.34375 6.203125 30.609375 6.203125 \nQ 37.796875 6.203125 41.984375 11.859375 \nQ 46.1875 17.53125 46.1875 27.296875 \nQ 46.1875 37.015625 41.984375 42.703125 \nQ 37.796875 48.390625 30.609375 48.390625 \nz\nM 30.609375 56 \nQ 42.328125 56 49.015625 48.375 \nQ 55.71875 40.765625 55.71875 27.296875 \nQ 55.71875 13.875 49.015625 6.21875 \nQ 42.328125 -1.421875 30.609375 -1.421875 \nQ 18.84375 -1.421875 12.171875 6.21875 \nQ 5.515625 13.875 5.515625 27.296875 \nQ 5.515625 40.765625 12.171875 48.375 \nQ 18.84375 56 30.609375 56 \nz\n\" id=\"DejaVuSans-111\"/>\n     <path d=\"M 18.3125 70.21875 \nL 18.3125 54.6875 \nL 36.8125 54.6875 \nL 36.8125 47.703125 \nL 18.3125 47.703125 \nL 18.3125 18.015625 \nQ 18.3125 11.328125 20.140625 9.421875 \nQ 21.96875 7.515625 27.59375 7.515625 \nL 36.8125 7.515625 \nL 36.8125 0 \nL 27.59375 0 \nQ 17.1875 0 13.234375 3.875 \nQ 9.28125 7.765625 9.28125 18.015625 \nL 9.28125 47.703125 \nL 2.6875 47.703125 \nL 2.6875 54.6875 \nL 9.28125 54.6875 \nL 9.28125 70.21875 \nz\n\" id=\"DejaVuSans-116\"/>\n    </defs>\n    <g transform=\"translate(14.848304 16.318125)scale(0.12 -0.12)\">\n     <use xlink:href=\"#DejaVuSans-97\"/>\n     <use x=\"61.279297\" xlink:href=\"#DejaVuSans-110\"/>\n     <use x=\"124.658203\" xlink:href=\"#DejaVuSans-107\"/>\n     <use x=\"182.568359\" xlink:href=\"#DejaVuSans-108\"/>\n     <use x=\"210.351562\" xlink:href=\"#DejaVuSans-101\"/>\n     <use x=\"271.875\" xlink:href=\"#DejaVuSans-32\"/>\n     <use x=\"303.662109\" xlink:href=\"#DejaVuSans-98\"/>\n     <use x=\"367.138672\" xlink:href=\"#DejaVuSans-111\"/>\n     <use x=\"428.320312\" xlink:href=\"#DejaVuSans-111\"/>\n     <use x=\"489.501953\" xlink:href=\"#DejaVuSans-116\"/>\n    </g>\n    <!-- ankle boot -->\n    <g transform=\"translate(14.848304 29.7555)scale(0.12 -0.12)\">\n     <use xlink:href=\"#DejaVuSans-97\"/>\n     <use x=\"61.279297\" xlink:href=\"#DejaVuSans-110\"/>\n     <use x=\"124.658203\" xlink:href=\"#DejaVuSans-107\"/>\n     <use x=\"182.568359\" xlink:href=\"#DejaVuSans-108\"/>\n     <use x=\"210.351562\" xlink:href=\"#DejaVuSans-101\"/>\n     <use x=\"271.875\" xlink:href=\"#DejaVuSans-32\"/>\n     <use x=\"303.662109\" xlink:href=\"#DejaVuSans-98\"/>\n     <use x=\"367.138672\" xlink:href=\"#DejaVuSans-111\"/>\n     <use x=\"428.320312\" xlink:href=\"#DejaVuSans-111\"/>\n     <use x=\"489.501953\" xlink:href=\"#DejaVuSans-116\"/>\n    </g>\n   </g>\n  </g>\n  <g id=\"axes_2\">\n   <g id=\"patch_7\">\n    <path d=\"M 96.791429 107.498357 \nL 168.534286 107.498357 \nL 168.534286 35.7555 \nL 96.791429 35.7555 \nz\n\" style=\"fill:#ffffff;\"/>\n   </g>\n   <g clip-path=\"url(#p309302a1f1)\">\n    <image height=\"72\" id=\"image5f448e693b\" transform=\"scale(1 -1)translate(0 -72)\" width=\"72\" x=\"96.791429\" xlink:href=\"data:image/png;base64,\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\" y=\"-35.498357\"/>\n   </g>\n   <g id=\"patch_8\">\n    <path d=\"M 96.791429 107.498357 \nL 96.791429 35.7555 \n\" style=\"fill:none;stroke:#000000;stroke-linecap:square;stroke-linejoin:miter;stroke-width:0.8;\"/>\n   </g>\n   <g id=\"patch_9\">\n    <path d=\"M 168.534286 107.498357 \nL 168.534286 35.7555 \n\" style=\"fill:none;stroke:#000000;stroke-linecap:square;stroke-linejoin:miter;stroke-width:0.8;\"/>\n   </g>\n   <g id=\"patch_10\">\n    <path d=\"M 96.791429 107.498357 \nL 168.534286 107.498357 \n\" style=\"fill:none;stroke:#000000;stroke-linecap:square;stroke-linejoin:miter;stroke-width:0.8;\"/>\n   </g>\n   <g id=\"patch_11\">\n    <path d=\"M 96.791429 35.7555 \nL 168.534286 35.7555 \n\" style=\"fill:none;stroke:#000000;stroke-linecap:square;stroke-linejoin:miter;stroke-width:0.8;\"/>\n   </g>\n   <g id=\"text_2\">\n    <!-- pullover -->\n    <defs>\n     <path d=\"M 18.109375 8.203125 \nL 18.109375 -20.796875 \nL 9.078125 -20.796875 \nL 9.078125 54.6875 \nL 18.109375 54.6875 \nL 18.109375 46.390625 \nQ 20.953125 51.265625 25.265625 53.625 \nQ 29.59375 56 35.59375 56 \nQ 45.5625 56 51.78125 48.09375 \nQ 58.015625 40.1875 58.015625 27.296875 \nQ 58.015625 14.40625 51.78125 6.484375 \nQ 45.5625 -1.421875 35.59375 -1.421875 \nQ 29.59375 -1.421875 25.265625 0.953125 \nQ 20.953125 3.328125 18.109375 8.203125 \nz\nM 48.6875 27.296875 \nQ 48.6875 37.203125 44.609375 42.84375 \nQ 40.53125 48.484375 33.40625 48.484375 \nQ 26.265625 48.484375 22.1875 42.84375 \nQ 18.109375 37.203125 18.109375 27.296875 \nQ 18.109375 17.390625 22.1875 11.75 \nQ 26.265625 6.109375 33.40625 6.109375 \nQ 40.53125 6.109375 44.609375 11.75 \nQ 48.6875 17.390625 48.6875 27.296875 \nz\n\" id=\"DejaVuSans-112\"/>\n     <path d=\"M 8.5 21.578125 \nL 8.5 54.6875 \nL 17.484375 54.6875 \nL 17.484375 21.921875 \nQ 17.484375 14.15625 20.5 10.265625 \nQ 23.53125 6.390625 29.59375 6.390625 \nQ 36.859375 6.390625 41.078125 11.03125 \nQ 45.3125 15.671875 45.3125 23.6875 \nL 45.3125 54.6875 \nL 54.296875 54.6875 \nL 54.296875 0 \nL 45.3125 0 \nL 45.3125 8.40625 \nQ 42.046875 3.421875 37.71875 1 \nQ 33.40625 -1.421875 27.6875 -1.421875 \nQ 18.265625 -1.421875 13.375 4.4375 \nQ 8.5 10.296875 8.5 21.578125 \nz\nM 31.109375 56 \nz\n\" id=\"DejaVuSans-117\"/>\n     <path d=\"M 2.984375 54.6875 \nL 12.5 54.6875 \nL 29.59375 8.796875 \nL 46.6875 54.6875 \nL 56.203125 54.6875 \nL 35.6875 0 \nL 23.484375 0 \nz\n\" id=\"DejaVuSans-118\"/>\n     <path d=\"M 41.109375 46.296875 \nQ 39.59375 47.171875 37.8125 47.578125 \nQ 36.03125 48 33.890625 48 \nQ 26.265625 48 22.1875 43.046875 \nQ 18.109375 38.09375 18.109375 28.8125 \nL 18.109375 0 \nL 9.078125 0 \nL 9.078125 54.6875 \nL 18.109375 54.6875 \nL 18.109375 46.1875 \nQ 20.953125 51.171875 25.484375 53.578125 \nQ 30.03125 56 36.53125 56 \nQ 37.453125 56 38.578125 55.875 \nQ 39.703125 55.765625 41.0625 55.515625 \nz\n\" id=\"DejaVuSans-114\"/>\n    </defs>\n    <g transform=\"translate(108.336607 16.318125)scale(0.12 -0.12)\">\n     <use xlink:href=\"#DejaVuSans-112\"/>\n     <use x=\"63.476562\" xlink:href=\"#DejaVuSans-117\"/>\n     <use x=\"126.855469\" xlink:href=\"#DejaVuSans-108\"/>\n     <use x=\"154.638672\" xlink:href=\"#DejaVuSans-108\"/>\n     <use x=\"182.421875\" xlink:href=\"#DejaVuSans-111\"/>\n     <use x=\"243.603516\" xlink:href=\"#DejaVuSans-118\"/>\n     <use x=\"302.783203\" xlink:href=\"#DejaVuSans-101\"/>\n     <use x=\"364.306641\" xlink:href=\"#DejaVuSans-114\"/>\n    </g>\n    <!-- pullover -->\n    <g transform=\"translate(108.336607 29.7555)scale(0.12 -0.12)\">\n     <use xlink:href=\"#DejaVuSans-112\"/>\n     <use x=\"63.476562\" xlink:href=\"#DejaVuSans-117\"/>\n     <use x=\"126.855469\" xlink:href=\"#DejaVuSans-108\"/>\n     <use x=\"154.638672\" xlink:href=\"#DejaVuSans-108\"/>\n     <use x=\"182.421875\" xlink:href=\"#DejaVuSans-111\"/>\n     <use x=\"243.603516\" xlink:href=\"#DejaVuSans-118\"/>\n     <use x=\"302.783203\" xlink:href=\"#DejaVuSans-101\"/>\n     <use x=\"364.306641\" xlink:href=\"#DejaVuSans-114\"/>\n    </g>\n   </g>\n  </g>\n  <g id=\"axes_3\">\n   <g id=\"patch_12\">\n    <path d=\"M 182.882857 107.498357 \nL 254.625714 107.498357 \nL 254.625714 35.7555 \nL 182.882857 35.7555 \nz\n\" style=\"fill:#ffffff;\"/>\n   </g>\n   <g clip-path=\"url(#p1975501d20)\">\n    <image height=\"72\" id=\"imaged08eb27ad5\" transform=\"scale(1 -1)translate(0 -72)\" width=\"72\" x=\"182.882857\" xlink:href=\"data:image/png;base64,\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\" y=\"-35.498357\"/>\n   </g>\n   <g id=\"patch_13\">\n    <path d=\"M 182.882857 107.498357 \nL 182.882857 35.7555 \n\" style=\"fill:none;stroke:#000000;stroke-linecap:square;stroke-linejoin:miter;stroke-width:0.8;\"/>\n   </g>\n   <g id=\"patch_14\">\n    <path d=\"M 254.625714 107.498357 \nL 254.625714 35.7555 \n\" style=\"fill:none;stroke:#000000;stroke-linecap:square;stroke-linejoin:miter;stroke-width:0.8;\"/>\n   </g>\n   <g id=\"patch_15\">\n    <path d=\"M 182.882857 107.498357 \nL 254.625714 107.498357 \n\" style=\"fill:none;stroke:#000000;stroke-linecap:square;stroke-linejoin:miter;stroke-width:0.8;\"/>\n   </g>\n   <g id=\"patch_16\">\n    <path d=\"M 182.882857 35.7555 \nL 254.625714 35.7555 \n\" style=\"fill:none;stroke:#000000;stroke-linecap:square;stroke-linejoin:miter;stroke-width:0.8;\"/>\n   </g>\n   <g id=\"text_3\">\n    <!-- trouser -->\n    <defs>\n     <path d=\"M 44.28125 53.078125 \nL 44.28125 44.578125 \nQ 40.484375 46.53125 36.375 47.5 \nQ 32.28125 48.484375 27.875 48.484375 \nQ 21.1875 48.484375 17.84375 46.4375 \nQ 14.5 44.390625 14.5 40.28125 \nQ 14.5 37.15625 16.890625 35.375 \nQ 19.28125 33.59375 26.515625 31.984375 \nL 29.59375 31.296875 \nQ 39.15625 29.25 43.1875 25.515625 \nQ 47.21875 21.78125 47.21875 15.09375 \nQ 47.21875 7.46875 41.1875 3.015625 \nQ 35.15625 -1.421875 24.609375 -1.421875 \nQ 20.21875 -1.421875 15.453125 -0.5625 \nQ 10.6875 0.296875 5.421875 2 \nL 5.421875 11.28125 \nQ 10.40625 8.6875 15.234375 7.390625 \nQ 20.0625 6.109375 24.8125 6.109375 \nQ 31.15625 6.109375 34.5625 8.28125 \nQ 37.984375 10.453125 37.984375 14.40625 \nQ 37.984375 18.0625 35.515625 20.015625 \nQ 33.0625 21.96875 24.703125 23.78125 \nL 21.578125 24.515625 \nQ 13.234375 26.265625 9.515625 29.90625 \nQ 5.8125 33.546875 5.8125 39.890625 \nQ 5.8125 47.609375 11.28125 51.796875 \nQ 16.75 56 26.8125 56 \nQ 31.78125 56 36.171875 55.265625 \nQ 40.578125 54.546875 44.28125 53.078125 \nz\n\" id=\"DejaVuSans-115\"/>\n    </defs>\n    <g transform=\"translate(197.312723 16.318125)scale(0.12 -0.12)\">\n     <use xlink:href=\"#DejaVuSans-116\"/>\n     <use x=\"39.208984\" xlink:href=\"#DejaVuSans-114\"/>\n     <use x=\"78.072266\" xlink:href=\"#DejaVuSans-111\"/>\n     <use x=\"139.253906\" xlink:href=\"#DejaVuSans-117\"/>\n     <use x=\"202.632812\" xlink:href=\"#DejaVuSans-115\"/>\n     <use x=\"254.732422\" xlink:href=\"#DejaVuSans-101\"/>\n     <use x=\"316.255859\" xlink:href=\"#DejaVuSans-114\"/>\n    </g>\n    <!-- trouser -->\n    <g transform=\"translate(197.312723 29.7555)scale(0.12 -0.12)\">\n     <use xlink:href=\"#DejaVuSans-116\"/>\n     <use x=\"39.208984\" xlink:href=\"#DejaVuSans-114\"/>\n     <use x=\"78.072266\" xlink:href=\"#DejaVuSans-111\"/>\n     <use x=\"139.253906\" xlink:href=\"#DejaVuSans-117\"/>\n     <use x=\"202.632812\" xlink:href=\"#DejaVuSans-115\"/>\n     <use x=\"254.732422\" xlink:href=\"#DejaVuSans-101\"/>\n     <use x=\"316.255859\" xlink:href=\"#DejaVuSans-114\"/>\n    </g>\n   </g>\n  </g>\n  <g id=\"axes_4\">\n   <g id=\"patch_17\">\n    <path d=\"M 268.974286 107.498357 \nL 340.717143 107.498357 \nL 340.717143 35.7555 \nL 268.974286 35.7555 \nz\n\" style=\"fill:#ffffff;\"/>\n   </g>\n   <g clip-path=\"url(#pad98fe8c08)\">\n    <image height=\"72\" id=\"imagec38ed907e0\" transform=\"scale(1 -1)translate(0 -72)\" width=\"72\" x=\"268.974286\" xlink:href=\"data:image/png;base64,\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\" y=\"-35.498357\"/>\n   </g>\n   <g id=\"patch_18\">\n    <path d=\"M 268.974286 107.498357 \nL 268.974286 35.7555 \n\" style=\"fill:none;stroke:#000000;stroke-linecap:square;stroke-linejoin:miter;stroke-width:0.8;\"/>\n   </g>\n   <g id=\"patch_19\">\n    <path d=\"M 340.717143 107.498357 \nL 340.717143 35.7555 \n\" style=\"fill:none;stroke:#000000;stroke-linecap:square;stroke-linejoin:miter;stroke-width:0.8;\"/>\n   </g>\n   <g id=\"patch_20\">\n    <path d=\"M 268.974286 107.498357 \nL 340.717143 107.498357 \n\" style=\"fill:none;stroke:#000000;stroke-linecap:square;stroke-linejoin:miter;stroke-width:0.8;\"/>\n   </g>\n   <g id=\"patch_21\">\n    <path d=\"M 268.974286 35.7555 \nL 340.717143 35.7555 \n\" style=\"fill:none;stroke:#000000;stroke-linecap:square;stroke-linejoin:miter;stroke-width:0.8;\"/>\n   </g>\n   <g id=\"text_4\">\n    <!-- trouser -->\n    <g transform=\"translate(283.404152 16.318125)scale(0.12 -0.12)\">\n     <use xlink:href=\"#DejaVuSans-116\"/>\n     <use x=\"39.208984\" xlink:href=\"#DejaVuSans-114\"/>\n     <use x=\"78.072266\" xlink:href=\"#DejaVuSans-111\"/>\n     <use x=\"139.253906\" xlink:href=\"#DejaVuSans-117\"/>\n     <use x=\"202.632812\" xlink:href=\"#DejaVuSans-115\"/>\n     <use x=\"254.732422\" xlink:href=\"#DejaVuSans-101\"/>\n     <use x=\"316.255859\" xlink:href=\"#DejaVuSans-114\"/>\n    </g>\n    <!-- trouser -->\n    <g transform=\"translate(283.404152 29.7555)scale(0.12 -0.12)\">\n     <use xlink:href=\"#DejaVuSans-116\"/>\n     <use x=\"39.208984\" xlink:href=\"#DejaVuSans-114\"/>\n     <use x=\"78.072266\" xlink:href=\"#DejaVuSans-111\"/>\n     <use x=\"139.253906\" xlink:href=\"#DejaVuSans-117\"/>\n     <use x=\"202.632812\" xlink:href=\"#DejaVuSans-115\"/>\n     <use x=\"254.732422\" xlink:href=\"#DejaVuSans-101\"/>\n     <use x=\"316.255859\" xlink:href=\"#DejaVuSans-114\"/>\n    </g>\n   </g>\n  </g>\n  <g id=\"axes_5\">\n   <g id=\"patch_22\">\n    <path d=\"M 355.065714 107.498357 \nL 426.808571 107.498357 \nL 426.808571 35.7555 \nL 355.065714 35.7555 \nz\n\" style=\"fill:#ffffff;\"/>\n   </g>\n   <g clip-path=\"url(#p11dab59adb)\">\n    <image height=\"72\" id=\"imagebe9bb4dd96\" transform=\"scale(1 -1)translate(0 -72)\" width=\"72\" x=\"355.065714\" xlink:href=\"data:image/png;base64,\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\" y=\"-35.498357\"/>\n   </g>\n   <g id=\"patch_23\">\n    <path d=\"M 355.065714 107.498357 \nL 355.065714 35.7555 \n\" style=\"fill:none;stroke:#000000;stroke-linecap:square;stroke-linejoin:miter;stroke-width:0.8;\"/>\n   </g>\n   <g id=\"patch_24\">\n    <path d=\"M 426.808571 107.498357 \nL 426.808571 35.7555 \n\" style=\"fill:none;stroke:#000000;stroke-linecap:square;stroke-linejoin:miter;stroke-width:0.8;\"/>\n   </g>\n   <g id=\"patch_25\">\n    <path d=\"M 355.065714 107.498357 \nL 426.808571 107.498357 \n\" style=\"fill:none;stroke:#000000;stroke-linecap:square;stroke-linejoin:miter;stroke-width:0.8;\"/>\n   </g>\n   <g id=\"patch_26\">\n    <path d=\"M 355.065714 35.7555 \nL 426.808571 35.7555 \n\" style=\"fill:none;stroke:#000000;stroke-linecap:square;stroke-linejoin:miter;stroke-width:0.8;\"/>\n   </g>\n   <g id=\"text_5\">\n    <!-- shirt -->\n    <defs>\n     <path d=\"M 54.890625 33.015625 \nL 54.890625 0 \nL 45.90625 0 \nL 45.90625 32.71875 \nQ 45.90625 40.484375 42.875 44.328125 \nQ 39.84375 48.1875 33.796875 48.1875 \nQ 26.515625 48.1875 22.3125 43.546875 \nQ 18.109375 38.921875 18.109375 30.90625 \nL 18.109375 0 \nL 9.078125 0 \nL 9.078125 75.984375 \nL 18.109375 75.984375 \nL 18.109375 46.1875 \nQ 21.34375 51.125 25.703125 53.5625 \nQ 30.078125 56 35.796875 56 \nQ 45.21875 56 50.046875 50.171875 \nQ 54.890625 44.34375 54.890625 33.015625 \nz\n\" id=\"DejaVuSans-104\"/>\n     <path d=\"M 9.421875 54.6875 \nL 18.40625 54.6875 \nL 18.40625 0 \nL 9.421875 0 \nz\nM 9.421875 75.984375 \nL 18.40625 75.984375 \nL 18.40625 64.59375 \nL 9.421875 64.59375 \nz\n\" id=\"DejaVuSans-105\"/>\n    </defs>\n    <g transform=\"translate(377.523393 16.318125)scale(0.12 -0.12)\">\n     <use xlink:href=\"#DejaVuSans-115\"/>\n     <use x=\"52.099609\" xlink:href=\"#DejaVuSans-104\"/>\n     <use x=\"115.478516\" xlink:href=\"#DejaVuSans-105\"/>\n     <use x=\"143.261719\" xlink:href=\"#DejaVuSans-114\"/>\n     <use x=\"184.375\" xlink:href=\"#DejaVuSans-116\"/>\n    </g>\n    <!-- shirt -->\n    <g transform=\"translate(377.523393 29.7555)scale(0.12 -0.12)\">\n     <use xlink:href=\"#DejaVuSans-115\"/>\n     <use x=\"52.099609\" xlink:href=\"#DejaVuSans-104\"/>\n     <use x=\"115.478516\" xlink:href=\"#DejaVuSans-105\"/>\n     <use x=\"143.261719\" xlink:href=\"#DejaVuSans-114\"/>\n     <use x=\"184.375\" xlink:href=\"#DejaVuSans-116\"/>\n    </g>\n   </g>\n  </g>\n  <g id=\"axes_6\">\n   <g id=\"patch_27\">\n    <path d=\"M 441.157143 107.498357 \nL 512.9 107.498357 \nL 512.9 35.7555 \nL 441.157143 35.7555 \nz\n\" style=\"fill:#ffffff;\"/>\n   </g>\n   <g clip-path=\"url(#p0859ca28e8)\">\n    <image height=\"72\" id=\"image7e69118974\" transform=\"scale(1 -1)translate(0 -72)\" width=\"72\" x=\"441.157143\" xlink:href=\"data:image/png;base64,\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\" y=\"-35.498357\"/>\n   </g>\n   <g id=\"patch_28\">\n    <path d=\"M 441.157143 107.498357 \nL 441.157143 35.7555 \n\" style=\"fill:none;stroke:#000000;stroke-linecap:square;stroke-linejoin:miter;stroke-width:0.8;\"/>\n   </g>\n   <g id=\"patch_29\">\n    <path d=\"M 512.9 107.498357 \nL 512.9 35.7555 \n\" style=\"fill:none;stroke:#000000;stroke-linecap:square;stroke-linejoin:miter;stroke-width:0.8;\"/>\n   </g>\n   <g id=\"patch_30\">\n    <path d=\"M 441.157143 107.498357 \nL 512.9 107.498357 \n\" style=\"fill:none;stroke:#000000;stroke-linecap:square;stroke-linejoin:miter;stroke-width:0.8;\"/>\n   </g>\n   <g id=\"patch_31\">\n    <path d=\"M 441.157143 35.7555 \nL 512.9 35.7555 \n\" style=\"fill:none;stroke:#000000;stroke-linecap:square;stroke-linejoin:miter;stroke-width:0.8;\"/>\n   </g>\n   <g id=\"text_6\">\n    <!-- trouser -->\n    <g transform=\"translate(455.587009 16.318125)scale(0.12 -0.12)\">\n     <use xlink:href=\"#DejaVuSans-116\"/>\n     <use x=\"39.208984\" xlink:href=\"#DejaVuSans-114\"/>\n     <use x=\"78.072266\" xlink:href=\"#DejaVuSans-111\"/>\n     <use x=\"139.253906\" xlink:href=\"#DejaVuSans-117\"/>\n     <use x=\"202.632812\" xlink:href=\"#DejaVuSans-115\"/>\n     <use x=\"254.732422\" xlink:href=\"#DejaVuSans-101\"/>\n     <use x=\"316.255859\" xlink:href=\"#DejaVuSans-114\"/>\n    </g>\n    <!-- trouser -->\n    <g transform=\"translate(455.587009 29.7555)scale(0.12 -0.12)\">\n     <use xlink:href=\"#DejaVuSans-116\"/>\n     <use x=\"39.208984\" xlink:href=\"#DejaVuSans-114\"/>\n     <use x=\"78.072266\" xlink:href=\"#DejaVuSans-111\"/>\n     <use x=\"139.253906\" xlink:href=\"#DejaVuSans-117\"/>\n     <use x=\"202.632812\" xlink:href=\"#DejaVuSans-115\"/>\n     <use x=\"254.732422\" xlink:href=\"#DejaVuSans-101\"/>\n     <use x=\"316.255859\" xlink:href=\"#DejaVuSans-114\"/>\n    </g>\n   </g>\n  </g>\n </g>\n <defs>\n  <clipPath id=\"p05188e8dbc\">\n   <rect height=\"71.742857\" width=\"71.742857\" x=\"10.7\" y=\"35.7555\"/>\n  </clipPath>\n  <clipPath id=\"p309302a1f1\">\n   <rect height=\"71.742857\" width=\"71.742857\" x=\"96.791429\" y=\"35.7555\"/>\n  </clipPath>\n  <clipPath id=\"p1975501d20\">\n   <rect height=\"71.742857\" width=\"71.742857\" x=\"182.882857\" y=\"35.7555\"/>\n  </clipPath>\n  <clipPath id=\"pad98fe8c08\">\n   <rect height=\"71.742857\" width=\"71.742857\" x=\"268.974286\" y=\"35.7555\"/>\n  </clipPath>\n  <clipPath id=\"p11dab59adb\">\n   <rect height=\"71.742857\" width=\"71.742857\" x=\"355.065714\" y=\"35.7555\"/>\n  </clipPath>\n  <clipPath id=\"p0859ca28e8\">\n   <rect height=\"71.742857\" width=\"71.742857\" x=\"441.157143\" y=\"35.7555\"/>\n  </clipPath>\n </defs>\n</svg>\n"
          },
          "metadata": {
            "tags": [],
            "needs_background": "light"
          }
        }
      ]
    },
    {
      "cell_type": "code",
      "metadata": {
        "id": "20kHkXj4iuxh"
      },
      "source": [
        ""
      ],
      "execution_count": null,
      "outputs": []
    }
  ]
}