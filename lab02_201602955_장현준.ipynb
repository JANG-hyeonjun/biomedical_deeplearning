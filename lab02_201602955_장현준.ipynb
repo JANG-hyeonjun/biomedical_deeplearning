{
  "nbformat": 4,
  "nbformat_minor": 0,
  "metadata": {
    "colab": {
      "name": "lab02_201602955_장현준.ipynb",
      "provenance": [],
      "collapsed_sections": [],
      "authorship_tag": "ABX9TyO2hfDzUYtiDKMNFn3lZ5fU",
      "include_colab_link": true
    },
    "kernelspec": {
      "name": "python3",
      "display_name": "Python 3"
    },
    "language_info": {
      "name": "python"
    }
  },
  "cells": [
    {
      "cell_type": "markdown",
      "metadata": {
        "id": "view-in-github",
        "colab_type": "text"
      },
      "source": [
        "<a href=\"https://colab.research.google.com/github/JANG-hyeonjun/biomedical_deeplearning/blob/main/lab02_201602955_%EC%9E%A5%ED%98%84%EC%A4%80.ipynb\" target=\"_parent\"><img src=\"https://colab.research.google.com/assets/colab-badge.svg\" alt=\"Open In Colab\"/></a>"
      ]
    },
    {
      "cell_type": "markdown",
      "metadata": {
        "id": "cbB1qFAdbzZD"
      },
      "source": [
        "#3.2linear-regression-scratch"
      ]
    },
    {
      "cell_type": "markdown",
      "metadata": {
        "id": "pBtH5lyImE_E"
      },
      "source": [
        "## 3.2.1generating the Dataset"
      ]
    },
    {
      "cell_type": "code",
      "metadata": {
        "colab": {
          "base_uri": "https://localhost:8080/"
        },
        "id": "hYVc20INbLf1",
        "outputId": "b9e9ff4f-79c3-4917-a6f5-956067ce1171"
      },
      "source": [
        "!pip install -U mxnet-cu101==1.7.0\n",
        "!pip install d2l==0.16.2"
      ],
      "execution_count": 1,
      "outputs": [
        {
          "output_type": "stream",
          "text": [
            "Collecting mxnet-cu101==1.7.0\n",
            "\u001b[?25l  Downloading https://files.pythonhosted.org/packages/40/26/9655677b901537f367c3c473376e4106abc72e01a8fc25b1cb6ed9c37e8c/mxnet_cu101-1.7.0-py2.py3-none-manylinux2014_x86_64.whl (846.0MB)\n",
            "\u001b[K     |███████████████████████████████▌| 834.1MB 1.4MB/s eta 0:00:09tcmalloc: large alloc 1147494400 bytes == 0x55f5448e2000 @  0x7f0f82582615 0x55f50be5906c 0x55f50bf38eba 0x55f50be5be8d 0x55f50bf4d99d 0x55f50becffe9 0x55f50becab0e 0x55f50be5d77a 0x55f50becfe50 0x55f50becab0e 0x55f50be5d77a 0x55f50becc86a 0x55f50bf4e7c6 0x55f50becbee2 0x55f50bf4e7c6 0x55f50becbee2 0x55f50bf4e7c6 0x55f50becbee2 0x55f50bf4e7c6 0x55f50becbee2 0x55f50be5d69a 0x55f50becbc9e 0x55f50becae0d 0x55f50be5d77a 0x55f50becba45 0x55f50be5d69a 0x55f50becba45 0x55f50becab0e 0x55f50be5d77a 0x55f50becc86a 0x55f50becab0e\n",
            "\u001b[K     |████████████████████████████████| 846.0MB 20kB/s \n",
            "\u001b[?25hRequirement already satisfied, skipping upgrade: numpy<2.0.0,>1.16.0 in /usr/local/lib/python3.7/dist-packages (from mxnet-cu101==1.7.0) (1.19.5)\n",
            "Collecting graphviz<0.9.0,>=0.8.1\n",
            "  Downloading https://files.pythonhosted.org/packages/53/39/4ab213673844e0c004bed8a0781a0721a3f6bb23eb8854ee75c236428892/graphviz-0.8.4-py2.py3-none-any.whl\n",
            "Requirement already satisfied, skipping upgrade: requests<3,>=2.20.0 in /usr/local/lib/python3.7/dist-packages (from mxnet-cu101==1.7.0) (2.23.0)\n",
            "Requirement already satisfied, skipping upgrade: certifi>=2017.4.17 in /usr/local/lib/python3.7/dist-packages (from requests<3,>=2.20.0->mxnet-cu101==1.7.0) (2020.12.5)\n",
            "Requirement already satisfied, skipping upgrade: chardet<4,>=3.0.2 in /usr/local/lib/python3.7/dist-packages (from requests<3,>=2.20.0->mxnet-cu101==1.7.0) (3.0.4)\n",
            "Requirement already satisfied, skipping upgrade: urllib3!=1.25.0,!=1.25.1,<1.26,>=1.21.1 in /usr/local/lib/python3.7/dist-packages (from requests<3,>=2.20.0->mxnet-cu101==1.7.0) (1.24.3)\n",
            "Requirement already satisfied, skipping upgrade: idna<3,>=2.5 in /usr/local/lib/python3.7/dist-packages (from requests<3,>=2.20.0->mxnet-cu101==1.7.0) (2.10)\n",
            "Installing collected packages: graphviz, mxnet-cu101\n",
            "  Found existing installation: graphviz 0.10.1\n",
            "    Uninstalling graphviz-0.10.1:\n",
            "      Successfully uninstalled graphviz-0.10.1\n",
            "Successfully installed graphviz-0.8.4 mxnet-cu101-1.7.0\n",
            "Collecting d2l==0.16.2\n",
            "\u001b[?25l  Downloading https://files.pythonhosted.org/packages/d0/1f/13de7e8cafaba15739caee0596032412aaf51a22726649b317bdb53c4f9a/d2l-0.16.2-py3-none-any.whl (77kB)\n",
            "\u001b[K     |████████████████████████████████| 81kB 4.8MB/s \n",
            "\u001b[?25hRequirement already satisfied: matplotlib in /usr/local/lib/python3.7/dist-packages (from d2l==0.16.2) (3.2.2)\n",
            "Requirement already satisfied: pandas in /usr/local/lib/python3.7/dist-packages (from d2l==0.16.2) (1.1.5)\n",
            "Requirement already satisfied: requests in /usr/local/lib/python3.7/dist-packages (from d2l==0.16.2) (2.23.0)\n",
            "Requirement already satisfied: numpy in /usr/local/lib/python3.7/dist-packages (from d2l==0.16.2) (1.19.5)\n",
            "Requirement already satisfied: jupyter in /usr/local/lib/python3.7/dist-packages (from d2l==0.16.2) (1.0.0)\n",
            "Requirement already satisfied: python-dateutil>=2.1 in /usr/local/lib/python3.7/dist-packages (from matplotlib->d2l==0.16.2) (2.8.1)\n",
            "Requirement already satisfied: pyparsing!=2.0.4,!=2.1.2,!=2.1.6,>=2.0.1 in /usr/local/lib/python3.7/dist-packages (from matplotlib->d2l==0.16.2) (2.4.7)\n",
            "Requirement already satisfied: cycler>=0.10 in /usr/local/lib/python3.7/dist-packages (from matplotlib->d2l==0.16.2) (0.10.0)\n",
            "Requirement already satisfied: kiwisolver>=1.0.1 in /usr/local/lib/python3.7/dist-packages (from matplotlib->d2l==0.16.2) (1.3.1)\n",
            "Requirement already satisfied: pytz>=2017.2 in /usr/local/lib/python3.7/dist-packages (from pandas->d2l==0.16.2) (2018.9)\n",
            "Requirement already satisfied: chardet<4,>=3.0.2 in /usr/local/lib/python3.7/dist-packages (from requests->d2l==0.16.2) (3.0.4)\n",
            "Requirement already satisfied: idna<3,>=2.5 in /usr/local/lib/python3.7/dist-packages (from requests->d2l==0.16.2) (2.10)\n",
            "Requirement already satisfied: certifi>=2017.4.17 in /usr/local/lib/python3.7/dist-packages (from requests->d2l==0.16.2) (2020.12.5)\n",
            "Requirement already satisfied: urllib3!=1.25.0,!=1.25.1,<1.26,>=1.21.1 in /usr/local/lib/python3.7/dist-packages (from requests->d2l==0.16.2) (1.24.3)\n",
            "Requirement already satisfied: jupyter-console in /usr/local/lib/python3.7/dist-packages (from jupyter->d2l==0.16.2) (5.2.0)\n",
            "Requirement already satisfied: qtconsole in /usr/local/lib/python3.7/dist-packages (from jupyter->d2l==0.16.2) (5.0.3)\n",
            "Requirement already satisfied: notebook in /usr/local/lib/python3.7/dist-packages (from jupyter->d2l==0.16.2) (5.3.1)\n",
            "Requirement already satisfied: ipywidgets in /usr/local/lib/python3.7/dist-packages (from jupyter->d2l==0.16.2) (7.6.3)\n",
            "Requirement already satisfied: nbconvert in /usr/local/lib/python3.7/dist-packages (from jupyter->d2l==0.16.2) (5.6.1)\n",
            "Requirement already satisfied: ipykernel in /usr/local/lib/python3.7/dist-packages (from jupyter->d2l==0.16.2) (4.10.1)\n",
            "Requirement already satisfied: six>=1.5 in /usr/local/lib/python3.7/dist-packages (from python-dateutil>=2.1->matplotlib->d2l==0.16.2) (1.15.0)\n",
            "Requirement already satisfied: pygments in /usr/local/lib/python3.7/dist-packages (from jupyter-console->jupyter->d2l==0.16.2) (2.6.1)\n",
            "Requirement already satisfied: ipython in /usr/local/lib/python3.7/dist-packages (from jupyter-console->jupyter->d2l==0.16.2) (5.5.0)\n",
            "Requirement already satisfied: jupyter-client in /usr/local/lib/python3.7/dist-packages (from jupyter-console->jupyter->d2l==0.16.2) (5.3.5)\n",
            "Requirement already satisfied: prompt-toolkit<2.0.0,>=1.0.0 in /usr/local/lib/python3.7/dist-packages (from jupyter-console->jupyter->d2l==0.16.2) (1.0.18)\n",
            "Requirement already satisfied: ipython-genutils in /usr/local/lib/python3.7/dist-packages (from qtconsole->jupyter->d2l==0.16.2) (0.2.0)\n",
            "Requirement already satisfied: jupyter-core in /usr/local/lib/python3.7/dist-packages (from qtconsole->jupyter->d2l==0.16.2) (4.7.1)\n",
            "Requirement already satisfied: traitlets in /usr/local/lib/python3.7/dist-packages (from qtconsole->jupyter->d2l==0.16.2) (5.0.5)\n",
            "Requirement already satisfied: qtpy in /usr/local/lib/python3.7/dist-packages (from qtconsole->jupyter->d2l==0.16.2) (1.9.0)\n",
            "Requirement already satisfied: pyzmq>=17.1 in /usr/local/lib/python3.7/dist-packages (from qtconsole->jupyter->d2l==0.16.2) (22.0.3)\n",
            "Requirement already satisfied: Send2Trash in /usr/local/lib/python3.7/dist-packages (from notebook->jupyter->d2l==0.16.2) (1.5.0)\n",
            "Requirement already satisfied: terminado>=0.8.1 in /usr/local/lib/python3.7/dist-packages (from notebook->jupyter->d2l==0.16.2) (0.9.3)\n",
            "Requirement already satisfied: tornado>=4 in /usr/local/lib/python3.7/dist-packages (from notebook->jupyter->d2l==0.16.2) (5.1.1)\n",
            "Requirement already satisfied: jinja2 in /usr/local/lib/python3.7/dist-packages (from notebook->jupyter->d2l==0.16.2) (2.11.3)\n",
            "Requirement already satisfied: nbformat in /usr/local/lib/python3.7/dist-packages (from notebook->jupyter->d2l==0.16.2) (5.1.2)\n",
            "Requirement already satisfied: widgetsnbextension~=3.5.0 in /usr/local/lib/python3.7/dist-packages (from ipywidgets->jupyter->d2l==0.16.2) (3.5.1)\n",
            "Requirement already satisfied: jupyterlab-widgets>=1.0.0; python_version >= \"3.6\" in /usr/local/lib/python3.7/dist-packages (from ipywidgets->jupyter->d2l==0.16.2) (1.0.0)\n",
            "Requirement already satisfied: mistune<2,>=0.8.1 in /usr/local/lib/python3.7/dist-packages (from nbconvert->jupyter->d2l==0.16.2) (0.8.4)\n",
            "Requirement already satisfied: entrypoints>=0.2.2 in /usr/local/lib/python3.7/dist-packages (from nbconvert->jupyter->d2l==0.16.2) (0.3)\n",
            "Requirement already satisfied: bleach in /usr/local/lib/python3.7/dist-packages (from nbconvert->jupyter->d2l==0.16.2) (3.3.0)\n",
            "Requirement already satisfied: pandocfilters>=1.4.1 in /usr/local/lib/python3.7/dist-packages (from nbconvert->jupyter->d2l==0.16.2) (1.4.3)\n",
            "Requirement already satisfied: testpath in /usr/local/lib/python3.7/dist-packages (from nbconvert->jupyter->d2l==0.16.2) (0.4.4)\n",
            "Requirement already satisfied: defusedxml in /usr/local/lib/python3.7/dist-packages (from nbconvert->jupyter->d2l==0.16.2) (0.7.1)\n",
            "Requirement already satisfied: simplegeneric>0.8 in /usr/local/lib/python3.7/dist-packages (from ipython->jupyter-console->jupyter->d2l==0.16.2) (0.8.1)\n",
            "Requirement already satisfied: pexpect; sys_platform != \"win32\" in /usr/local/lib/python3.7/dist-packages (from ipython->jupyter-console->jupyter->d2l==0.16.2) (4.8.0)\n",
            "Requirement already satisfied: decorator in /usr/local/lib/python3.7/dist-packages (from ipython->jupyter-console->jupyter->d2l==0.16.2) (4.4.2)\n",
            "Requirement already satisfied: setuptools>=18.5 in /usr/local/lib/python3.7/dist-packages (from ipython->jupyter-console->jupyter->d2l==0.16.2) (54.2.0)\n",
            "Requirement already satisfied: pickleshare in /usr/local/lib/python3.7/dist-packages (from ipython->jupyter-console->jupyter->d2l==0.16.2) (0.7.5)\n",
            "Requirement already satisfied: wcwidth in /usr/local/lib/python3.7/dist-packages (from prompt-toolkit<2.0.0,>=1.0.0->jupyter-console->jupyter->d2l==0.16.2) (0.2.5)\n",
            "Requirement already satisfied: ptyprocess; os_name != \"nt\" in /usr/local/lib/python3.7/dist-packages (from terminado>=0.8.1->notebook->jupyter->d2l==0.16.2) (0.7.0)\n",
            "Requirement already satisfied: MarkupSafe>=0.23 in /usr/local/lib/python3.7/dist-packages (from jinja2->notebook->jupyter->d2l==0.16.2) (1.1.1)\n",
            "Requirement already satisfied: jsonschema!=2.5.0,>=2.4 in /usr/local/lib/python3.7/dist-packages (from nbformat->notebook->jupyter->d2l==0.16.2) (2.6.0)\n",
            "Requirement already satisfied: packaging in /usr/local/lib/python3.7/dist-packages (from bleach->nbconvert->jupyter->d2l==0.16.2) (20.9)\n",
            "Requirement already satisfied: webencodings in /usr/local/lib/python3.7/dist-packages (from bleach->nbconvert->jupyter->d2l==0.16.2) (0.5.1)\n",
            "Installing collected packages: d2l\n",
            "Successfully installed d2l-0.16.2\n"
          ],
          "name": "stdout"
        }
      ]
    },
    {
      "cell_type": "code",
      "metadata": {
        "id": "3jruGoCQbv-j"
      },
      "source": [
        "%matplotlib inline \n",
        "import random\n",
        "import torch\n",
        "from d2l import torch as d2l"
      ],
      "execution_count": 2,
      "outputs": []
    },
    {
      "cell_type": "code",
      "metadata": {
        "id": "eXiwXQD8bwZw"
      },
      "source": [
        "def synthetic_data(w,b,num_examples):\n",
        "    X = torch.normal(0,1,(num_examples,len(w)))\n",
        "    print(w.shape)\n",
        "    print(X.shape)\n",
        "    y = torch.matmul(X,w) + b\n",
        "    print(len(y))\n",
        "    y += torch.normal(0,0.01,y.shape)\n",
        "    print('\\n')\n",
        "    print(len(y))\n",
        "    return X,y.reshape((-1,1))\n"
      ],
      "execution_count": 3,
      "outputs": []
    },
    {
      "cell_type": "code",
      "metadata": {
        "colab": {
          "base_uri": "https://localhost:8080/"
        },
        "id": "nHT5HfaGbwcb",
        "outputId": "5956a0b8-e1c6-4b50-c53c-a7760b881949"
      },
      "source": [
        "true_w = torch.tensor([2,-3.4])\n",
        "true_b = 4.2\n",
        "features,labels = synthetic_data(true_w,true_b,1000)"
      ],
      "execution_count": 4,
      "outputs": [
        {
          "output_type": "stream",
          "text": [
            "torch.Size([2])\n",
            "torch.Size([1000, 2])\n",
            "1000\n",
            "\n",
            "\n",
            "1000\n"
          ],
          "name": "stdout"
        }
      ]
    },
    {
      "cell_type": "code",
      "metadata": {
        "colab": {
          "base_uri": "https://localhost:8080/"
        },
        "id": "Iq5Qf1TNbwet",
        "outputId": "84887e1b-0174-468a-c388-d4f7893e2134"
      },
      "source": [
        "print(features.shape)\n",
        "print(labels.shape)\n",
        "print(len(features))"
      ],
      "execution_count": 5,
      "outputs": [
        {
          "output_type": "stream",
          "text": [
            "torch.Size([1000, 2])\n",
            "torch.Size([1000, 1])\n",
            "1000\n"
          ],
          "name": "stdout"
        }
      ]
    },
    {
      "cell_type": "code",
      "metadata": {
        "colab": {
          "base_uri": "https://localhost:8080/"
        },
        "id": "GPaVAuzobwhe",
        "outputId": "1b49e5c7-dcc6-487b-cc73-b5415e968db2"
      },
      "source": [
        "print('features:',features[0],'\\nlabel:',labels[0])"
      ],
      "execution_count": 6,
      "outputs": [
        {
          "output_type": "stream",
          "text": [
            "features: tensor([-0.0823, -1.2213]) \n",
            "label: tensor([8.1761])\n"
          ],
          "name": "stdout"
        }
      ]
    },
    {
      "cell_type": "code",
      "metadata": {
        "colab": {
          "base_uri": "https://localhost:8080/"
        },
        "id": "8tcg42iMlWUS",
        "outputId": "a762df46-abe9-4ce5-c0a9-195e53ef504b"
      },
      "source": [
        "print(features[:,(1)])"
      ],
      "execution_count": 7,
      "outputs": [
        {
          "output_type": "stream",
          "text": [
            "tensor([-1.2213e+00, -1.1007e+00, -1.7120e+00, -5.2217e-01,  1.0742e+00,\n",
            "        -2.0017e-02,  1.9477e-01,  1.1415e-01, -5.0498e-01, -2.4672e+00,\n",
            "         1.0234e+00, -1.2972e+00, -4.1627e-01,  4.9755e-01, -1.2386e+00,\n",
            "         3.8147e-01,  3.9192e-01,  5.1099e-01, -2.0806e-01, -6.1080e-01,\n",
            "        -1.6414e+00,  1.6598e+00,  3.7338e-01, -1.2753e-01,  7.4537e-01,\n",
            "         1.7716e+00,  7.5860e-01, -4.4359e-01, -1.9089e+00,  2.9271e-01,\n",
            "        -8.9850e-01, -5.5518e-01,  8.8637e-01,  9.1286e-01, -5.8104e-01,\n",
            "        -9.6961e-01, -9.5112e-01, -1.1398e+00, -1.5265e+00,  6.8917e-01,\n",
            "         7.1402e-02, -4.7771e-01, -9.5815e-01,  3.2654e+00, -7.7960e-01,\n",
            "        -1.3244e-01,  4.5263e-01, -7.4915e-01, -1.5937e+00,  7.7936e-01,\n",
            "         3.8905e-01, -6.7757e-01,  4.0233e-01,  8.7253e-01, -4.3967e-01,\n",
            "         5.2130e-01,  8.2916e-02,  1.6627e-01,  7.9269e-01,  5.8495e-01,\n",
            "         3.1077e-02,  1.0900e+00, -4.0371e-01, -1.5767e+00, -3.7304e-01,\n",
            "        -4.4310e-01, -1.9707e-01, -2.4660e-01,  1.0343e+00, -1.0486e-01,\n",
            "        -1.5627e+00,  1.0220e-01,  2.2365e-01,  7.4413e-01, -2.7520e-01,\n",
            "        -1.7570e+00, -2.0198e-01,  4.9058e-01, -4.8941e-01,  1.3365e+00,\n",
            "        -4.6123e-01,  2.0719e+00,  1.1604e+00,  5.9814e-01, -1.3842e+00,\n",
            "         1.4416e+00, -8.2231e-01, -2.3136e+00,  1.5006e+00,  9.8504e-02,\n",
            "         1.6437e+00, -1.8738e+00,  7.7585e-01, -1.4880e+00, -3.9174e-01,\n",
            "        -7.9442e-01,  5.8780e-02, -1.1943e-01, -1.3750e+00, -1.4101e+00,\n",
            "        -6.0089e-01, -3.5748e-01,  1.9313e+00, -2.5097e-01, -5.9161e-01,\n",
            "        -1.0700e+00, -4.1473e-01, -3.9856e-02, -2.0669e-01, -9.2632e-01,\n",
            "        -2.4097e-01, -1.6735e+00, -4.1210e-01, -2.6750e-01, -9.3087e-01,\n",
            "         6.9981e-01, -1.3914e+00, -1.3545e+00, -8.1882e-01,  9.6065e-01,\n",
            "         2.8306e-01,  5.4033e-01,  1.8028e+00,  4.1677e-01, -1.2658e+00,\n",
            "        -1.3498e+00,  1.2462e-01, -1.0792e+00, -1.2539e-01, -1.1366e+00,\n",
            "        -1.2264e+00, -3.4381e-01,  1.7608e+00,  1.1914e+00,  4.9614e-02,\n",
            "         2.0871e+00,  2.3357e-01,  2.3020e-01,  6.7733e-01, -7.7264e-01,\n",
            "         6.4234e-01,  9.3161e-01, -1.5763e-01,  6.5705e-02,  1.1995e+00,\n",
            "         9.6799e-01, -1.4338e-01,  1.2647e+00, -6.0406e-01,  1.4051e+00,\n",
            "        -8.4376e-01, -1.1216e+00,  1.1253e+00,  1.2463e-01, -1.3686e+00,\n",
            "        -7.6817e-01,  5.8028e-01, -2.0386e+00, -7.8682e-01, -3.1003e-01,\n",
            "         1.6502e-02, -1.0070e+00,  3.8941e-01, -4.5431e-01,  6.9199e-01,\n",
            "        -1.1616e+00,  6.7321e-01, -1.1405e+00, -1.4547e+00, -6.8633e-01,\n",
            "         6.5065e-01, -6.1117e-01, -1.4754e+00, -2.2495e-02, -5.1295e-01,\n",
            "         1.9745e+00,  9.2668e-01, -1.5549e+00,  1.2409e+00,  4.3291e-01,\n",
            "         2.3992e-01,  5.2306e-01,  9.0565e-01,  5.7110e-01, -2.1167e-01,\n",
            "         9.2366e-01, -1.5934e-01,  3.7094e-01,  1.7811e+00, -5.1307e-01,\n",
            "         2.0433e-01, -1.0121e+00,  6.2717e-01,  1.0892e-01, -1.4287e+00,\n",
            "         1.9210e+00,  8.1860e-01,  6.8680e-01,  9.5609e-01, -1.2285e+00,\n",
            "         7.1939e-01, -1.7815e+00, -2.1451e-01,  1.4671e+00,  4.3194e-01,\n",
            "         1.3021e-01,  1.4041e+00,  2.3551e+00, -2.7532e-01, -2.3162e-01,\n",
            "         1.2687e+00, -1.0841e+00,  3.0300e-01, -7.1845e-01, -1.0780e+00,\n",
            "         7.4964e-01,  2.6866e-01,  2.0407e+00, -8.0132e-01,  1.7059e-01,\n",
            "         4.5624e-01,  1.5344e+00, -3.8177e-01,  1.2162e+00, -3.9274e-01,\n",
            "        -5.7642e-01, -7.2378e-03, -1.1274e+00,  5.5733e-01, -3.2527e-01,\n",
            "        -8.2640e-01,  2.2219e+00, -1.2015e+00,  2.2915e-01,  1.3302e+00,\n",
            "        -2.3221e+00, -7.7959e-01,  5.0623e-01,  9.4256e-01,  6.8028e-01,\n",
            "        -2.0458e-02,  1.8840e+00, -1.9730e+00, -1.6750e-01,  1.1565e+00,\n",
            "         1.5923e+00, -4.8860e-01, -4.6949e-01, -6.9641e-01, -1.5071e+00,\n",
            "         3.3411e-01,  4.9334e-02,  6.3513e-01,  1.3359e+00,  2.3633e+00,\n",
            "         1.4113e+00,  9.3475e-01, -3.4237e-01,  6.0230e-01, -6.5605e-03,\n",
            "        -2.4686e+00, -6.2767e-02, -7.4009e-02,  1.7864e+00, -1.2587e+00,\n",
            "        -2.2779e-02,  2.1882e-01, -5.7026e-01,  1.2640e+00,  3.4213e-01,\n",
            "        -3.3760e-01,  1.9930e+00, -8.7877e-01, -9.2322e-01,  1.4934e+00,\n",
            "         7.0610e-01, -4.6812e-01,  1.2495e+00,  1.0026e-01, -1.0610e+00,\n",
            "        -1.4767e+00, -4.0846e-01,  2.0428e+00, -9.2175e-02, -8.2648e-01,\n",
            "        -4.0604e-01, -3.6339e-01,  1.6832e+00,  5.3444e-01,  4.3031e-01,\n",
            "        -7.2907e-01,  1.5257e+00, -9.6428e-01, -2.2702e+00, -7.4687e-01,\n",
            "         3.5342e-01, -1.1079e-01, -7.0371e-02,  4.4568e-02,  1.1745e-02,\n",
            "        -1.0680e+00,  1.3225e+00,  6.2026e-02, -7.7800e-01, -8.7792e-01,\n",
            "         1.4692e-01, -2.8101e-01, -7.9309e-01,  9.6581e-01, -1.7074e+00,\n",
            "         1.4350e+00,  1.7326e+00,  1.6510e-01,  1.7223e+00, -1.1458e+00,\n",
            "         8.8993e-01,  1.0207e+00, -3.0596e-01, -1.5147e+00,  9.3375e-01,\n",
            "         8.7168e-01,  3.4899e-01,  1.1808e+00, -6.8293e-02, -1.3929e-01,\n",
            "        -5.2019e-01,  2.5723e-01,  9.8135e-01, -2.0132e+00, -9.8693e-02,\n",
            "         1.0931e+00,  1.9045e-01,  1.0332e+00, -3.6629e-01,  1.6890e-01,\n",
            "         5.7270e-01,  7.8403e-01,  9.7275e-01,  3.8527e-01,  5.9139e-01,\n",
            "        -3.7945e-01, -8.4276e-03,  8.6173e-01, -8.1246e-02, -1.1109e+00,\n",
            "         1.1545e+00, -1.2909e+00, -5.2762e-01, -2.1513e-01,  6.1016e-01,\n",
            "         1.0691e+00,  8.1942e-01,  3.2191e-01,  1.1986e+00,  4.8576e-01,\n",
            "         3.0074e-02,  7.4443e-01,  4.3824e-01,  2.1077e-01, -1.0189e+00,\n",
            "        -3.4069e-01,  2.7844e-02,  1.4113e+00,  7.7937e-01, -1.2393e-01,\n",
            "         2.2178e-01, -8.7741e-01, -2.4993e+00, -1.0317e+00, -2.5709e-01,\n",
            "         3.7104e-01,  1.9205e+00, -3.1911e-01, -4.5100e-01, -7.4432e-01,\n",
            "         1.5018e+00, -9.6506e-02, -1.9152e-01,  2.1453e+00, -1.2981e+00,\n",
            "         4.7042e-01,  1.4379e+00, -1.9368e-01, -1.5613e-01, -1.1211e-02,\n",
            "        -4.4098e-01,  7.6519e-01, -9.8494e-01,  1.1728e-02, -1.7540e+00,\n",
            "         1.1384e+00, -1.2785e-01,  4.0829e-01, -1.0122e+00, -7.0283e-03,\n",
            "         9.2934e-01,  3.0809e-01, -6.9460e-01, -4.4052e-01, -7.0412e-01,\n",
            "         1.5756e-02, -1.5274e+00, -7.7757e-01,  1.4480e-01,  2.9793e-01,\n",
            "         3.5163e-01,  1.2707e+00,  1.3454e+00, -3.5998e-01,  7.1147e-01,\n",
            "         4.8362e-01,  6.6902e-01, -9.4693e-02, -1.5786e+00, -1.6428e-02,\n",
            "        -2.0279e+00, -5.6699e-01, -5.9196e-01, -6.4024e-01,  6.8286e-01,\n",
            "        -5.9305e-01, -3.7487e-01,  1.0236e+00, -6.9400e-01, -7.1482e-01,\n",
            "        -3.1371e-01,  6.6658e-01,  3.0328e-01,  4.9440e-01, -1.5934e-01,\n",
            "         1.4399e+00,  2.0409e-03,  1.8162e+00,  1.3220e+00, -1.7663e+00,\n",
            "        -2.5231e-01, -1.4472e+00,  2.7224e-01, -2.7043e-02,  4.1470e-01,\n",
            "        -1.3367e-01, -3.5338e-01, -1.1657e+00,  3.8926e-01,  2.2771e+00,\n",
            "        -4.2899e-02, -3.9891e-01,  9.6122e-01,  8.5780e-02,  2.9375e-01,\n",
            "        -1.7603e-01,  2.1902e-01, -7.7174e-02, -4.1323e-01, -2.0248e+00,\n",
            "         4.4898e-02,  3.8847e-01, -3.7232e-01, -1.7303e+00,  1.6210e+00,\n",
            "         1.3774e+00, -6.9754e-02, -5.2420e-01,  1.4012e-01,  1.0045e+00,\n",
            "         8.4674e-01,  1.1479e+00,  3.4969e-01,  2.9847e-01, -1.8430e-01,\n",
            "        -3.7323e-01,  1.0020e+00, -1.4096e+00, -1.2131e+00,  3.1264e-01,\n",
            "        -8.7413e-02,  1.8846e-01, -2.4442e-01, -9.3754e-01,  1.5391e+00,\n",
            "         1.1406e+00, -2.8492e-01,  1.3961e-01, -1.9345e-01, -2.5653e+00,\n",
            "         1.3940e-01, -1.3552e+00,  1.2495e+00,  8.0306e-01,  9.6282e-01,\n",
            "         8.4206e-01,  8.5059e-01,  1.1229e+00,  1.4913e+00,  8.6742e-01,\n",
            "         1.1866e-01,  2.3103e+00,  1.6724e+00,  1.2709e+00,  8.3455e-02,\n",
            "        -1.0107e+00, -6.6572e-01, -1.8008e+00,  2.7044e+00,  1.3866e+00,\n",
            "         4.8987e-02, -2.0775e-01,  7.1855e-01, -1.8672e+00,  8.6599e-01,\n",
            "         8.0008e-01,  6.5790e-01, -2.1853e-01,  1.0113e+00, -2.1604e-01,\n",
            "         1.6987e+00, -8.2855e-01, -5.5769e-01,  3.8854e-01,  1.7541e-01,\n",
            "         4.6348e-01,  6.7557e-01,  1.4324e+00, -7.4343e-01,  1.0867e+00,\n",
            "        -1.4015e+00,  5.2068e-01, -1.0862e+00, -3.1031e-01,  7.6549e-01,\n",
            "         9.5678e-01,  1.3437e+00,  7.2582e-01,  1.6643e+00, -7.0023e-01,\n",
            "        -1.1691e+00, -3.8678e-01,  7.8195e-02, -1.1074e+00,  2.3140e+00,\n",
            "         7.0335e-01,  2.1591e+00,  1.1160e+00, -3.4284e-01,  4.5265e-01,\n",
            "        -6.5935e-01, -1.2740e+00,  7.7003e-01, -1.1370e-01, -1.2648e-01,\n",
            "        -2.4242e-01,  8.9034e-01, -6.8893e-01, -1.5867e+00, -1.1102e+00,\n",
            "         6.9270e-01, -1.3641e+00,  1.3570e+00, -4.1467e-01, -1.9464e+00,\n",
            "         1.5632e+00, -8.3794e-01,  6.0473e-01,  8.6651e-01, -4.8175e-01,\n",
            "        -1.2262e+00,  7.0617e-01, -1.1917e+00,  1.2988e+00, -6.0353e-01,\n",
            "         1.2711e-01, -3.0390e+00,  2.5701e-02, -1.8536e+00, -2.2237e+00,\n",
            "        -5.1802e-01, -1.2664e+00, -4.3161e-01,  1.4381e+00, -1.7397e+00,\n",
            "        -1.5198e+00, -6.2893e-01,  3.8447e-02, -5.1730e-01,  4.1749e-01,\n",
            "        -1.8108e+00,  1.0857e-01, -4.4057e-01,  8.2213e-01,  4.2723e-01,\n",
            "         6.9042e-01, -2.2294e-01, -9.5928e-01, -4.5998e-01, -9.8330e-01,\n",
            "        -1.1796e+00,  7.2658e-01, -1.1905e+00, -6.4971e-02,  3.7581e-01,\n",
            "         2.8673e+00, -6.2315e-01,  1.3382e-01, -7.1858e-01, -3.9806e-01,\n",
            "        -1.9961e+00, -7.9427e-01,  3.3719e-01, -6.0096e-02,  1.1858e+00,\n",
            "         6.9380e-01,  4.2268e-01, -6.8611e-01,  1.0445e+00,  8.1353e-01,\n",
            "        -1.1229e-02, -1.0629e+00,  7.4485e-01,  5.9262e-02, -2.5794e-01,\n",
            "        -2.3258e+00,  2.0759e+00,  6.8451e-01,  6.7774e-02, -9.7926e-01,\n",
            "         1.1387e+00, -5.4872e-01,  1.3850e+00,  1.6181e+00, -1.1634e+00,\n",
            "        -2.7329e-01, -1.0832e+00,  1.2633e+00,  4.5271e-02, -1.0456e+00,\n",
            "         1.1459e+00,  9.0620e-01,  5.0498e-01,  7.0641e-02,  2.0272e-01,\n",
            "         1.3563e+00, -3.8681e-01,  1.6470e+00, -5.2743e-01, -2.1051e-01,\n",
            "         1.4944e+00, -1.9688e-02, -1.3855e+00, -1.6453e-01, -7.4358e-01,\n",
            "         7.6206e-01,  2.6726e-01,  1.5750e+00, -1.0305e+00, -1.4602e+00,\n",
            "         4.7055e-01, -2.2303e+00, -4.2431e-01,  2.1443e+00, -8.0593e-01,\n",
            "         1.5988e+00,  4.0829e-01,  3.3571e-01, -6.6764e-01,  1.4405e+00,\n",
            "        -9.2466e-01, -4.1387e-01, -2.2761e+00, -1.4659e+00, -9.2443e-01,\n",
            "        -5.8466e-01, -1.6817e-02,  3.6310e-01, -1.9294e-01, -2.1559e-01,\n",
            "         8.9420e-01, -8.8539e-01, -3.8183e-01, -5.6500e-01, -4.8714e-02,\n",
            "        -5.0506e-01, -4.7516e-01, -7.4409e-01,  2.1640e-01, -1.1348e-01,\n",
            "         1.6905e+00, -5.7386e-01, -1.1695e+00,  3.1265e-01, -1.3629e-01,\n",
            "        -1.2961e+00, -2.5328e+00,  1.2626e+00,  6.7499e-01, -1.9483e+00,\n",
            "        -9.5667e-01, -6.3559e-01,  1.1165e+00,  1.1433e+00,  1.4139e+00,\n",
            "         4.3754e-02,  1.5988e+00,  3.2281e-01, -8.9707e-01,  1.0529e+00,\n",
            "         2.4494e+00, -5.1412e-01,  9.9758e-01, -2.9643e-01, -1.3655e+00,\n",
            "        -1.8954e-01,  1.6492e+00, -6.9206e-01,  1.6401e+00, -6.7995e-01,\n",
            "        -8.6201e-01,  3.8615e-01,  1.3600e+00, -4.2739e-01,  8.3216e-01,\n",
            "        -1.1695e+00, -4.2004e-01,  3.0239e-01,  9.0330e-01,  8.3538e-01,\n",
            "        -9.1160e-01,  1.4026e+00,  1.8239e+00, -4.8671e-01,  7.5572e-02,\n",
            "         3.7141e-01, -1.9632e-01, -2.4100e-01, -5.7170e-01,  1.0348e-01,\n",
            "        -7.5983e-01, -1.2765e+00, -5.3346e-01,  2.7027e-01,  4.2620e-01,\n",
            "         1.0109e+00,  7.9657e-01,  7.6002e-01, -7.9346e-01,  5.8741e-01,\n",
            "        -1.2215e+00, -1.5857e+00, -8.7147e-01,  2.2029e+00, -7.1701e-01,\n",
            "        -6.0703e-01,  3.6636e-01,  8.0344e-01,  6.2959e-01,  1.5005e-01,\n",
            "         2.5354e-01,  1.1825e+00, -1.2859e+00, -7.2205e-01,  2.9489e-01,\n",
            "        -8.0452e-01,  3.8999e-01, -2.4408e+00, -1.5199e+00, -7.1370e-01,\n",
            "         1.7446e-02, -6.5294e-01,  2.3928e-01,  3.5858e-01,  1.7298e+00,\n",
            "         1.4192e-01,  2.0903e+00, -6.4303e-01,  7.2593e-01, -7.3556e-03,\n",
            "        -6.2201e-02,  6.9361e-01, -9.2201e-01,  9.3700e-01,  1.2559e-01,\n",
            "         5.4880e-01, -3.8623e-01,  2.3152e-01,  2.4539e+00, -2.6000e+00,\n",
            "         1.0059e-01, -6.5588e-02, -8.5560e-01, -2.3952e-01,  3.8647e-01,\n",
            "         9.1350e-01,  6.4577e-01, -6.6680e-01, -2.4289e-02,  3.4666e-01,\n",
            "         9.9534e-01,  2.7025e-01, -8.6992e-01, -1.3916e+00,  7.0439e-01,\n",
            "        -1.2983e+00,  6.0071e-02, -3.3283e-01, -8.2423e-01, -6.1019e-01,\n",
            "         1.8892e-01, -9.5555e-01,  5.8177e-01, -4.9313e-01,  3.4991e-01,\n",
            "        -1.6473e+00, -1.2998e+00, -8.9630e-01,  1.7696e+00,  2.6023e-01,\n",
            "        -1.4969e-01,  5.7138e-01, -8.5548e-01, -1.0018e+00, -2.4414e+00,\n",
            "        -1.9060e+00, -1.6241e-01,  1.3481e-01,  1.9682e-01,  1.3523e-01,\n",
            "        -2.9986e-01, -4.3323e-01, -4.3186e-01, -3.2044e-01, -3.1258e-01,\n",
            "         1.5554e-01, -1.0016e-01, -2.2100e+00,  2.1583e-01, -2.9881e-01,\n",
            "         1.4067e+00,  3.1551e-01, -1.0130e-01,  1.6877e-01,  8.0923e-01,\n",
            "         2.4404e+00, -5.8912e-01, -1.5486e+00, -1.4868e-01, -2.0986e+00,\n",
            "        -8.4020e-01, -3.6655e-01, -9.9072e-01, -7.1108e-01,  1.7119e+00,\n",
            "         1.4831e-01,  3.8392e-01,  2.0349e+00, -1.8893e+00, -9.8944e-01,\n",
            "         6.4683e-01, -2.4480e+00, -2.2272e+00, -1.3318e+00, -1.5297e+00,\n",
            "         4.8825e-02,  1.0369e+00,  1.4542e+00, -8.3761e-02,  4.0234e-01,\n",
            "         3.1720e-01, -2.2344e+00,  1.5225e+00,  7.8463e-01, -8.4122e-01,\n",
            "        -5.6370e-01, -1.6011e+00,  1.5527e-01, -6.9089e-01,  1.4163e+00,\n",
            "         6.2320e-01, -1.3988e-01, -2.4351e-01,  3.5381e-02,  2.4094e-01,\n",
            "        -1.0484e+00, -7.0253e-01, -2.2369e+00,  4.7634e-01,  9.3334e-01,\n",
            "        -1.2809e-01,  3.7824e-01, -7.7115e-01, -1.8823e+00, -1.0291e+00,\n",
            "        -7.5202e-02,  1.4702e-02,  1.5499e+00,  1.1067e-01,  7.1016e-01,\n",
            "        -4.8976e-01, -3.6384e-01, -1.6360e+00,  2.5557e+00,  8.0521e-01,\n",
            "         1.8116e-01,  2.0445e-01,  2.8312e-01,  4.8004e-02,  4.3052e-01,\n",
            "         6.8625e-02,  1.0888e-01, -1.4626e+00, -3.3552e-01, -1.2466e+00,\n",
            "        -2.6847e-01, -3.1257e-01,  1.9408e-01, -7.2803e-01,  3.5330e-01,\n",
            "         4.0650e-02,  1.4482e+00, -1.9161e-01,  7.2477e-01, -6.4973e-01,\n",
            "        -4.4347e-01,  3.6365e-01,  1.3728e+00, -1.7131e+00,  2.5490e-01,\n",
            "        -7.7252e-01, -9.6724e-01, -2.5511e+00,  2.5948e-01,  1.4340e+00,\n",
            "        -9.6580e-01, -8.2663e-01, -1.2674e-01,  2.7355e+00, -3.7077e-01,\n",
            "        -6.8130e-01, -1.5210e-01,  4.3037e-01,  1.5950e-01,  4.7602e-01,\n",
            "        -8.2425e-01, -8.2759e-01, -6.2562e-01, -8.5711e-01, -1.5734e+00,\n",
            "        -8.5965e-01, -6.2129e-01,  1.3462e+00, -2.7303e-01, -1.1019e+00,\n",
            "        -8.8304e-01, -2.7915e-01, -9.3627e-01, -4.1757e-01, -4.5947e-01,\n",
            "         8.7353e-01,  4.4387e-01,  7.9684e-01, -1.1315e+00, -1.4701e+00,\n",
            "         3.4532e-01,  9.3324e-01,  3.9491e-01, -2.5318e+00,  2.6978e-01,\n",
            "         1.2541e-01,  3.4815e-02,  1.8172e+00,  1.4519e-01,  5.2689e-01,\n",
            "         1.7578e-01,  7.6317e-01,  9.2845e-01, -7.5894e-01,  2.7489e-01,\n",
            "         5.7130e-01, -1.0186e+00,  4.7420e-01, -1.7331e+00, -1.4871e+00,\n",
            "         1.1785e+00,  6.9888e-02,  7.2702e-02, -1.0041e+00, -1.2382e+00,\n",
            "         1.5214e-01, -2.0155e+00, -4.6479e-01, -1.8990e+00,  2.0841e+00,\n",
            "        -6.2245e-01,  4.6978e-01, -1.0674e-01,  1.8414e+00,  1.9740e+00,\n",
            "         9.5207e-01,  3.0958e-01,  1.9211e-01,  1.5483e+00, -2.7229e+00])\n"
          ],
          "name": "stdout"
        }
      ]
    },
    {
      "cell_type": "code",
      "metadata": {
        "colab": {
          "base_uri": "https://localhost:8080/",
          "height": 244
        },
        "id": "YOq4OFtIbwjQ",
        "outputId": "93a1a798-a482-4c35-8386-b7f856f66e3c"
      },
      "source": [
        "d2l.set_figsize()\n",
        "\n",
        "d2l.plt.scatter(features[:,(1)].detach().numpy(),\n",
        "                labels.detach().numpy(),1);"
      ],
      "execution_count": 8,
      "outputs": [
        {
          "output_type": "display_data",
          "data": {
            "text/plain": [
              "<Figure size 252x180 with 1 Axes>"
            ],
            "image/svg+xml": "<?xml version=\"1.0\" encoding=\"utf-8\" standalone=\"no\"?>\n<!DOCTYPE svg PUBLIC \"-//W3C//DTD SVG 1.1//EN\"\n  \"http://www.w3.org/Graphics/SVG/1.1/DTD/svg11.dtd\">\n<!-- Created with matplotlib (https://matplotlib.org/) -->\n<svg height=\"166.978125pt\" version=\"1.1\" viewBox=\"0 0 231.442187 166.978125\" width=\"231.442187pt\" xmlns=\"http://www.w3.org/2000/svg\" xmlns:xlink=\"http://www.w3.org/1999/xlink\">\n <defs>\n  <style type=\"text/css\">\n*{stroke-linecap:butt;stroke-linejoin:round;}\n  </style>\n </defs>\n <g id=\"figure_1\">\n  <g id=\"patch_1\">\n   <path d=\"M 0 166.978125 \nL 231.442187 166.978125 \nL 231.442187 0 \nL 0 0 \nz\n\" style=\"fill:none;\"/>\n  </g>\n  <g id=\"axes_1\">\n   <g id=\"patch_2\">\n    <path d=\"M 28.942188 143.1 \nL 224.242188 143.1 \nL 224.242188 7.2 \nL 28.942188 7.2 \nz\n\" style=\"fill:#ffffff;\"/>\n   </g>\n   <g id=\"PathCollection_1\">\n    <defs>\n     <path d=\"M 0 0.5 \nC 0.132602 0.5 0.25979 0.447317 0.353553 0.353553 \nC 0.447317 0.25979 0.5 0.132602 0.5 0 \nC 0.5 -0.132602 0.447317 -0.25979 0.353553 -0.353553 \nC 0.25979 -0.447317 0.132602 -0.5 0 -0.5 \nC -0.132602 -0.5 -0.25979 -0.447317 -0.353553 -0.353553 \nC -0.447317 -0.25979 -0.5 -0.132602 -0.5 0 \nC -0.5 0.132602 -0.447317 0.25979 -0.353553 0.353553 \nC -0.25979 0.447317 -0.132602 0.5 0 0.5 \nz\n\" id=\"m2a876237f7\" style=\"stroke:#1f77b4;\"/>\n    </defs>\n    <g clip-path=\"url(#pd35410190f)\">\n     <use style=\"fill:#1f77b4;stroke:#1f77b4;\" x=\"89.009106\" xlink:href=\"#m2a876237f7\" y=\"52.801032\"/>\n     <use style=\"fill:#1f77b4;stroke:#1f77b4;\" x=\"92.40712\" xlink:href=\"#m2a876237f7\" y=\"64.712372\"/>\n     <use style=\"fill:#1f77b4;stroke:#1f77b4;\" x=\"75.189646\" xlink:href=\"#m2a876237f7\" y=\"51.80263\"/>\n     <use style=\"fill:#1f77b4;stroke:#1f77b4;\" x=\"108.699137\" xlink:href=\"#m2a876237f7\" y=\"71.599162\"/>\n     <use style=\"fill:#1f77b4;stroke:#1f77b4;\" x=\"153.654994\" xlink:href=\"#m2a876237f7\" y=\"91.128737\"/>\n     <use style=\"fill:#1f77b4;stroke:#1f77b4;\" x=\"122.840706\" xlink:href=\"#m2a876237f7\" y=\"56.922605\"/>\n     <use style=\"fill:#1f77b4;stroke:#1f77b4;\" x=\"128.88954\" xlink:href=\"#m2a876237f7\" y=\"70.495376\"/>\n     <use style=\"fill:#1f77b4;stroke:#1f77b4;\" x=\"126.619069\" xlink:href=\"#m2a876237f7\" y=\"95.259912\"/>\n     <use style=\"fill:#1f77b4;stroke:#1f77b4;\" x=\"109.183183\" xlink:href=\"#m2a876237f7\" y=\"68.082228\"/>\n     <use style=\"fill:#1f77b4;stroke:#1f77b4;\" x=\"53.922991\" xlink:href=\"#m2a876237f7\" y=\"27.265804\"/>\n     <use style=\"fill:#1f77b4;stroke:#1f77b4;\" x=\"152.224294\" xlink:href=\"#m2a876237f7\" y=\"86.074504\"/>\n     <use style=\"fill:#1f77b4;stroke:#1f77b4;\" x=\"86.873682\" xlink:href=\"#m2a876237f7\" y=\"31.400546\"/>\n     <use style=\"fill:#1f77b4;stroke:#1f77b4;\" x=\"111.681349\" xlink:href=\"#m2a876237f7\" y=\"59.797227\"/>\n     <use style=\"fill:#1f77b4;stroke:#1f77b4;\" x=\"137.416335\" xlink:href=\"#m2a876237f7\" y=\"62.660096\"/>\n     <use style=\"fill:#1f77b4;stroke:#1f77b4;\" x=\"88.52278\" xlink:href=\"#m2a876237f7\" y=\"43.350858\"/>\n     <use style=\"fill:#1f77b4;stroke:#1f77b4;\" x=\"134.147264\" xlink:href=\"#m2a876237f7\" y=\"86.226728\"/>\n     <use style=\"fill:#1f77b4;stroke:#1f77b4;\" x=\"134.441697\" xlink:href=\"#m2a876237f7\" y=\"67.990496\"/>\n     <use style=\"fill:#1f77b4;stroke:#1f77b4;\" x=\"137.794981\" xlink:href=\"#m2a876237f7\" y=\"64.727179\"/>\n     <use style=\"fill:#1f77b4;stroke:#1f77b4;\" x=\"117.545077\" xlink:href=\"#m2a876237f7\" y=\"90.742195\"/>\n     <use style=\"fill:#1f77b4;stroke:#1f77b4;\" x=\"106.203126\" xlink:href=\"#m2a876237f7\" y=\"61.65886\"/>\n     <use style=\"fill:#1f77b4;stroke:#1f77b4;\" x=\"77.179242\" xlink:href=\"#m2a876237f7\" y=\"39.210762\"/>\n     <use style=\"fill:#1f77b4;stroke:#1f77b4;\" x=\"170.146469\" xlink:href=\"#m2a876237f7\" y=\"104.779621\"/>\n     <use style=\"fill:#1f77b4;stroke:#1f77b4;\" x=\"133.919674\" xlink:href=\"#m2a876237f7\" y=\"93.519091\"/>\n     <use style=\"fill:#1f77b4;stroke:#1f77b4;\" x=\"119.812954\" xlink:href=\"#m2a876237f7\" y=\"69.714644\"/>\n     <use style=\"fill:#1f77b4;stroke:#1f77b4;\" x=\"144.395606\" xlink:href=\"#m2a876237f7\" y=\"98.33569\"/>\n     <use style=\"fill:#1f77b4;stroke:#1f77b4;\" x=\"173.296952\" xlink:href=\"#m2a876237f7\" y=\"128.736117\"/>\n     <use style=\"fill:#1f77b4;stroke:#1f77b4;\" x=\"144.768155\" xlink:href=\"#m2a876237f7\" y=\"103.540494\"/>\n     <use style=\"fill:#1f77b4;stroke:#1f77b4;\" x=\"110.911918\" xlink:href=\"#m2a876237f7\" y=\"61.554285\"/>\n     <use style=\"fill:#1f77b4;stroke:#1f77b4;\" x=\"69.645633\" xlink:href=\"#m2a876237f7\" y=\"65.175041\"/>\n     <use style=\"fill:#1f77b4;stroke:#1f77b4;\" x=\"131.647665\" xlink:href=\"#m2a876237f7\" y=\"70.732012\"/>\n     <use style=\"fill:#1f77b4;stroke:#1f77b4;\" x=\"98.10078\" xlink:href=\"#m2a876237f7\" y=\"56.769737\"/>\n     <use style=\"fill:#1f77b4;stroke:#1f77b4;\" x=\"107.76957\" xlink:href=\"#m2a876237f7\" y=\"49.942013\"/>\n     <use style=\"fill:#1f77b4;stroke:#1f77b4;\" x=\"148.366265\" xlink:href=\"#m2a876237f7\" y=\"87.5238\"/>\n     <use style=\"fill:#1f77b4;stroke:#1f77b4;\" x=\"149.112291\" xlink:href=\"#m2a876237f7\" y=\"83.980379\"/>\n     <use style=\"fill:#1f77b4;stroke:#1f77b4;\" x=\"107.041258\" xlink:href=\"#m2a876237f7\" y=\"66.942999\"/>\n     <use style=\"fill:#1f77b4;stroke:#1f77b4;\" x=\"96.09821\" xlink:href=\"#m2a876237f7\" y=\"54.125243\"/>\n     <use style=\"fill:#1f77b4;stroke:#1f77b4;\" x=\"96.619039\" xlink:href=\"#m2a876237f7\" y=\"58.850827\"/>\n     <use style=\"fill:#1f77b4;stroke:#1f77b4;\" x=\"91.306417\" xlink:href=\"#m2a876237f7\" y=\"54.054043\"/>\n     <use style=\"fill:#1f77b4;stroke:#1f77b4;\" x=\"80.413775\" xlink:href=\"#m2a876237f7\" y=\"54.505805\"/>\n     <use style=\"fill:#1f77b4;stroke:#1f77b4;\" x=\"142.812893\" xlink:href=\"#m2a876237f7\" y=\"83.675882\"/>\n     <use style=\"fill:#1f77b4;stroke:#1f77b4;\" x=\"125.415249\" xlink:href=\"#m2a876237f7\" y=\"85.582498\"/>\n     <use style=\"fill:#1f77b4;stroke:#1f77b4;\" x=\"109.951124\" xlink:href=\"#m2a876237f7\" y=\"65.323955\"/>\n     <use style=\"fill:#1f77b4;stroke:#1f77b4;\" x=\"96.420905\" xlink:href=\"#m2a876237f7\" y=\"59.884522\"/>\n     <use style=\"fill:#1f77b4;stroke:#1f77b4;\" x=\"215.364915\" xlink:href=\"#m2a876237f7\" y=\"115.515257\"/>\n     <use style=\"fill:#1f77b4;stroke:#1f77b4;\" x=\"101.449389\" xlink:href=\"#m2a876237f7\" y=\"50.976846\"/>\n     <use style=\"fill:#1f77b4;stroke:#1f77b4;\" x=\"119.674687\" xlink:href=\"#m2a876237f7\" y=\"72.595331\"/>\n     <use style=\"fill:#1f77b4;stroke:#1f77b4;\" x=\"136.15146\" xlink:href=\"#m2a876237f7\" y=\"79.982656\"/>\n     <use style=\"fill:#1f77b4;stroke:#1f77b4;\" x=\"102.306781\" xlink:href=\"#m2a876237f7\" y=\"60.537037\"/>\n     <use style=\"fill:#1f77b4;stroke:#1f77b4;\" x=\"78.521557\" xlink:href=\"#m2a876237f7\" y=\"43.015108\"/>\n     <use style=\"fill:#1f77b4;stroke:#1f77b4;\" x=\"145.352751\" xlink:href=\"#m2a876237f7\" y=\"97.331902\"/>\n     <use style=\"fill:#1f77b4;stroke:#1f77b4;\" x=\"134.360986\" xlink:href=\"#m2a876237f7\" y=\"71.160165\"/>\n     <use style=\"fill:#1f77b4;stroke:#1f77b4;\" x=\"104.322744\" xlink:href=\"#m2a876237f7\" y=\"58.449345\"/>\n     <use style=\"fill:#1f77b4;stroke:#1f77b4;\" x=\"134.734965\" xlink:href=\"#m2a876237f7\" y=\"75.850232\"/>\n     <use style=\"fill:#1f77b4;stroke:#1f77b4;\" x=\"147.976737\" xlink:href=\"#m2a876237f7\" y=\"92.621542\"/>\n     <use style=\"fill:#1f77b4;stroke:#1f77b4;\" x=\"111.022497\" xlink:href=\"#m2a876237f7\" y=\"57.935707\"/>\n     <use style=\"fill:#1f77b4;stroke:#1f77b4;\" x=\"138.085217\" xlink:href=\"#m2a876237f7\" y=\"87.453629\"/>\n     <use style=\"fill:#1f77b4;stroke:#1f77b4;\" x=\"125.739494\" xlink:href=\"#m2a876237f7\" y=\"82.320938\"/>\n     <use style=\"fill:#1f77b4;stroke:#1f77b4;\" x=\"128.086992\" xlink:href=\"#m2a876237f7\" y=\"74.352757\"/>\n     <use style=\"fill:#1f77b4;stroke:#1f77b4;\" x=\"145.728248\" xlink:href=\"#m2a876237f7\" y=\"88.587822\"/>\n     <use style=\"fill:#1f77b4;stroke:#1f77b4;\" x=\"139.877699\" xlink:href=\"#m2a876237f7\" y=\"94.402153\"/>\n     <use style=\"fill:#1f77b4;stroke:#1f77b4;\" x=\"124.279621\" xlink:href=\"#m2a876237f7\" y=\"78.868793\"/>\n     <use style=\"fill:#1f77b4;stroke:#1f77b4;\" x=\"154.099692\" xlink:href=\"#m2a876237f7\" y=\"110.230072\"/>\n     <use style=\"fill:#1f77b4;stroke:#1f77b4;\" x=\"112.035138\" xlink:href=\"#m2a876237f7\" y=\"50.602062\"/>\n     <use style=\"fill:#1f77b4;stroke:#1f77b4;\" x=\"79.001224\" xlink:href=\"#m2a876237f7\" y=\"32.812657\"/>\n     <use style=\"fill:#1f77b4;stroke:#1f77b4;\" x=\"112.898938\" xlink:href=\"#m2a876237f7\" y=\"79.525193\"/>\n     <use style=\"fill:#1f77b4;stroke:#1f77b4;\" x=\"110.925843\" xlink:href=\"#m2a876237f7\" y=\"66.18616\"/>\n     <use style=\"fill:#1f77b4;stroke:#1f77b4;\" x=\"117.854666\" xlink:href=\"#m2a876237f7\" y=\"86.51692\"/>\n     <use style=\"fill:#1f77b4;stroke:#1f77b4;\" x=\"116.459529\" xlink:href=\"#m2a876237f7\" y=\"76.136884\"/>\n     <use style=\"fill:#1f77b4;stroke:#1f77b4;\" x=\"152.533315\" xlink:href=\"#m2a876237f7\" y=\"90.359657\"/>\n     <use style=\"fill:#1f77b4;stroke:#1f77b4;\" x=\"120.451406\" xlink:href=\"#m2a876237f7\" y=\"48.460111\"/>\n     <use style=\"fill:#1f77b4;stroke:#1f77b4;\" x=\"79.396678\" xlink:href=\"#m2a876237f7\" y=\"24.894276\"/>\n     <use style=\"fill:#1f77b4;stroke:#1f77b4;\" x=\"126.282502\" xlink:href=\"#m2a876237f7\" y=\"71.784505\"/>\n     <use style=\"fill:#1f77b4;stroke:#1f77b4;\" x=\"129.702771\" xlink:href=\"#m2a876237f7\" y=\"80.7289\"/>\n     <use style=\"fill:#1f77b4;stroke:#1f77b4;\" x=\"144.360648\" xlink:href=\"#m2a876237f7\" y=\"104.303312\"/>\n     <use style=\"fill:#1f77b4;stroke:#1f77b4;\" x=\"115.654342\" xlink:href=\"#m2a876237f7\" y=\"70.138292\"/>\n     <use style=\"fill:#1f77b4;stroke:#1f77b4;\" x=\"73.923666\" xlink:href=\"#m2a876237f7\" y=\"51.069227\"/>\n     <use style=\"fill:#1f77b4;stroke:#1f77b4;\" x=\"117.716113\" xlink:href=\"#m2a876237f7\" y=\"69.680299\"/>\n     <use style=\"fill:#1f77b4;stroke:#1f77b4;\" x=\"137.220268\" xlink:href=\"#m2a876237f7\" y=\"97.525883\"/>\n     <use style=\"fill:#1f77b4;stroke:#1f77b4;\" x=\"109.621515\" xlink:href=\"#m2a876237f7\" y=\"49.625953\"/>\n     <use style=\"fill:#1f77b4;stroke:#1f77b4;\" x=\"161.042394\" xlink:href=\"#m2a876237f7\" y=\"108.592691\"/>\n     <use style=\"fill:#1f77b4;stroke:#1f77b4;\" x=\"110.415166\" xlink:href=\"#m2a876237f7\" y=\"80.224097\"/>\n     <use style=\"fill:#1f77b4;stroke:#1f77b4;\" x=\"181.752877\" xlink:href=\"#m2a876237f7\" y=\"106.898544\"/>\n     <use style=\"fill:#1f77b4;stroke:#1f77b4;\" x=\"156.083949\" xlink:href=\"#m2a876237f7\" y=\"103.139439\"/>\n     <use style=\"fill:#1f77b4;stroke:#1f77b4;\" x=\"140.24933\" xlink:href=\"#m2a876237f7\" y=\"99.691589\"/>\n     <use style=\"fill:#1f77b4;stroke:#1f77b4;\" x=\"84.421559\" xlink:href=\"#m2a876237f7\" y=\"36.526374\"/>\n     <use style=\"fill:#1f77b4;stroke:#1f77b4;\" x=\"164.002696\" xlink:href=\"#m2a876237f7\" y=\"94.13536\"/>\n     <use style=\"fill:#1f77b4;stroke:#1f77b4;\" x=\"100.246648\" xlink:href=\"#m2a876237f7\" y=\"73.327542\"/>\n     <use style=\"fill:#1f77b4;stroke:#1f77b4;\" x=\"58.248816\" xlink:href=\"#m2a876237f7\" y=\"49.185526\"/>\n     <use style=\"fill:#1f77b4;stroke:#1f77b4;\" x=\"165.663024\" xlink:href=\"#m2a876237f7\" y=\"93.403836\"/>\n     <use style=\"fill:#1f77b4;stroke:#1f77b4;\" x=\"126.178492\" xlink:href=\"#m2a876237f7\" y=\"103.766649\"/>\n     <use style=\"fill:#1f77b4;stroke:#1f77b4;\" x=\"169.694798\" xlink:href=\"#m2a876237f7\" y=\"107.869472\"/>\n     <use style=\"fill:#1f77b4;stroke:#1f77b4;\" x=\"70.63331\" xlink:href=\"#m2a876237f7\" y=\"35.894613\"/>\n     <use style=\"fill:#1f77b4;stroke:#1f77b4;\" x=\"145.254022\" xlink:href=\"#m2a876237f7\" y=\"80.313105\"/>\n     <use style=\"fill:#1f77b4;stroke:#1f77b4;\" x=\"81.498699\" xlink:href=\"#m2a876237f7\" y=\"55.693437\"/>\n     <use style=\"fill:#1f77b4;stroke:#1f77b4;\" x=\"112.372176\" xlink:href=\"#m2a876237f7\" y=\"66.72651\"/>\n     <use style=\"fill:#1f77b4;stroke:#1f77b4;\" x=\"101.031819\" xlink:href=\"#m2a876237f7\" y=\"58.627723\"/>\n     <use style=\"fill:#1f77b4;stroke:#1f77b4;\" x=\"125.05979\" xlink:href=\"#m2a876237f7\" y=\"76.014374\"/>\n     <use style=\"fill:#1f77b4;stroke:#1f77b4;\" x=\"120.040895\" xlink:href=\"#m2a876237f7\" y=\"89.677502\"/>\n     <use style=\"fill:#1f77b4;stroke:#1f77b4;\" x=\"84.680836\" xlink:href=\"#m2a876237f7\" y=\"44.834148\"/>\n     <use style=\"fill:#1f77b4;stroke:#1f77b4;\" x=\"83.691944\" xlink:href=\"#m2a876237f7\" y=\"36.767584\"/>\n     <use style=\"fill:#1f77b4;stroke:#1f77b4;\" x=\"106.482041\" xlink:href=\"#m2a876237f7\" y=\"54.76114\"/>\n     <use style=\"fill:#1f77b4;stroke:#1f77b4;\" x=\"113.336998\" xlink:href=\"#m2a876237f7\" y=\"90.428912\"/>\n     <use style=\"fill:#1f77b4;stroke:#1f77b4;\" x=\"177.794655\" xlink:href=\"#m2a876237f7\" y=\"115.788589\"/>\n     <use style=\"fill:#1f77b4;stroke:#1f77b4;\" x=\"116.336713\" xlink:href=\"#m2a876237f7\" y=\"72.369229\"/>\n     <use style=\"fill:#1f77b4;stroke:#1f77b4;\" x=\"106.743564\" xlink:href=\"#m2a876237f7\" y=\"42.068013\"/>\n     <use style=\"fill:#1f77b4;stroke:#1f77b4;\" x=\"93.270122\" xlink:href=\"#m2a876237f7\" y=\"62.585503\"/>\n     <use style=\"fill:#1f77b4;stroke:#1f77b4;\" x=\"111.724715\" xlink:href=\"#m2a876237f7\" y=\"65.712126\"/>\n     <use style=\"fill:#1f77b4;stroke:#1f77b4;\" x=\"122.282005\" xlink:href=\"#m2a876237f7\" y=\"74.706472\"/>\n     <use style=\"fill:#1f77b4;stroke:#1f77b4;\" x=\"117.583586\" xlink:href=\"#m2a876237f7\" y=\"72.563981\"/>\n     <use style=\"fill:#1f77b4;stroke:#1f77b4;\" x=\"97.317482\" xlink:href=\"#m2a876237f7\" y=\"59.742749\"/>\n     <use style=\"fill:#1f77b4;stroke:#1f77b4;\" x=\"116.618291\" xlink:href=\"#m2a876237f7\" y=\"54.559706\"/>\n     <use style=\"fill:#1f77b4;stroke:#1f77b4;\" x=\"76.276551\" xlink:href=\"#m2a876237f7\" y=\"60.837305\"/>\n     <use style=\"fill:#1f77b4;stroke:#1f77b4;\" x=\"111.798863\" xlink:href=\"#m2a876237f7\" y=\"63.058717\"/>\n     <use style=\"fill:#1f77b4;stroke:#1f77b4;\" x=\"115.871084\" xlink:href=\"#m2a876237f7\" y=\"78.194548\"/>\n     <use style=\"fill:#1f77b4;stroke:#1f77b4;\" x=\"97.189267\" xlink:href=\"#m2a876237f7\" y=\"66.682876\"/>\n     <use style=\"fill:#1f77b4;stroke:#1f77b4;\" x=\"143.112449\" xlink:href=\"#m2a876237f7\" y=\"75.41739\"/>\n     <use style=\"fill:#1f77b4;stroke:#1f77b4;\" x=\"84.219004\" xlink:href=\"#m2a876237f7\" y=\"52.913927\"/>\n     <use style=\"fill:#1f77b4;stroke:#1f77b4;\" x=\"85.260204\" xlink:href=\"#m2a876237f7\" y=\"59.271999\"/>\n     <use style=\"fill:#1f77b4;stroke:#1f77b4;\" x=\"100.344894\" xlink:href=\"#m2a876237f7\" y=\"62.236603\"/>\n     <use style=\"fill:#1f77b4;stroke:#1f77b4;\" x=\"150.45815\" xlink:href=\"#m2a876237f7\" y=\"91.744887\"/>\n     <use style=\"fill:#1f77b4;stroke:#1f77b4;\" x=\"131.375829\" xlink:href=\"#m2a876237f7\" y=\"105.54439\"/>\n     <use style=\"fill:#1f77b4;stroke:#1f77b4;\" x=\"138.621183\" xlink:href=\"#m2a876237f7\" y=\"67.454877\"/>\n     <use style=\"fill:#1f77b4;stroke:#1f77b4;\" x=\"174.175541\" xlink:href=\"#m2a876237f7\" y=\"103.324092\"/>\n     <use style=\"fill:#1f77b4;stroke:#1f77b4;\" x=\"135.14143\" xlink:href=\"#m2a876237f7\" y=\"100.107263\"/>\n     <use style=\"fill:#1f77b4;stroke:#1f77b4;\" x=\"87.755561\" xlink:href=\"#m2a876237f7\" y=\"39.059946\"/>\n     <use style=\"fill:#1f77b4;stroke:#1f77b4;\" x=\"85.390748\" xlink:href=\"#m2a876237f7\" y=\"69.972266\"/>\n     <use style=\"fill:#1f77b4;stroke:#1f77b4;\" x=\"126.913917\" xlink:href=\"#m2a876237f7\" y=\"69.411111\"/>\n     <use style=\"fill:#1f77b4;stroke:#1f77b4;\" x=\"93.011465\" xlink:href=\"#m2a876237f7\" y=\"65.015841\"/>\n     <use style=\"fill:#1f77b4;stroke:#1f77b4;\" x=\"119.8731\" xlink:href=\"#m2a876237f7\" y=\"73.934433\"/>\n     <use style=\"fill:#1f77b4;stroke:#1f77b4;\" x=\"91.394734\" xlink:href=\"#m2a876237f7\" y=\"42.184423\"/>\n     <use style=\"fill:#1f77b4;stroke:#1f77b4;\" x=\"88.866034\" xlink:href=\"#m2a876237f7\" y=\"54.104235\"/>\n     <use style=\"fill:#1f77b4;stroke:#1f77b4;\" x=\"113.721997\" xlink:href=\"#m2a876237f7\" y=\"56.045658\"/>\n     <use style=\"fill:#1f77b4;stroke:#1f77b4;\" x=\"172.993493\" xlink:href=\"#m2a876237f7\" y=\"117.140441\"/>\n     <use style=\"fill:#1f77b4;stroke:#1f77b4;\" x=\"156.955461\" xlink:href=\"#m2a876237f7\" y=\"80.863061\"/>\n     <use style=\"fill:#1f77b4;stroke:#1f77b4;\" x=\"124.801638\" xlink:href=\"#m2a876237f7\" y=\"61.699723\"/>\n     <use style=\"fill:#1f77b4;stroke:#1f77b4;\" x=\"182.180984\" xlink:href=\"#m2a876237f7\" y=\"121.041146\"/>\n     <use style=\"fill:#1f77b4;stroke:#1f77b4;\" x=\"129.9821\" xlink:href=\"#m2a876237f7\" y=\"98.55969\"/>\n     <use style=\"fill:#1f77b4;stroke:#1f77b4;\" x=\"129.8873\" xlink:href=\"#m2a876237f7\" y=\"73.794108\"/>\n     <use style=\"fill:#1f77b4;stroke:#1f77b4;\" x=\"142.479356\" xlink:href=\"#m2a876237f7\" y=\"74.585765\"/>\n     <use style=\"fill:#1f77b4;stroke:#1f77b4;\" x=\"101.645433\" xlink:href=\"#m2a876237f7\" y=\"61.474436\"/>\n     <use style=\"fill:#1f77b4;stroke:#1f77b4;\" x=\"141.493876\" xlink:href=\"#m2a876237f7\" y=\"75.280044\"/>\n     <use style=\"fill:#1f77b4;stroke:#1f77b4;\" x=\"149.640564\" xlink:href=\"#m2a876237f7\" y=\"89.438603\"/>\n     <use style=\"fill:#1f77b4;stroke:#1f77b4;\" x=\"118.965341\" xlink:href=\"#m2a876237f7\" y=\"89.469409\"/>\n     <use style=\"fill:#1f77b4;stroke:#1f77b4;\" x=\"125.254807\" xlink:href=\"#m2a876237f7\" y=\"81.50123\"/>\n     <use style=\"fill:#1f77b4;stroke:#1f77b4;\" x=\"157.18527\" xlink:href=\"#m2a876237f7\" y=\"75.916711\"/>\n     <use style=\"fill:#1f77b4;stroke:#1f77b4;\" x=\"150.665064\" xlink:href=\"#m2a876237f7\" y=\"100.260785\"/>\n     <use style=\"fill:#1f77b4;stroke:#1f77b4;\" x=\"119.366669\" xlink:href=\"#m2a876237f7\" y=\"69.835981\"/>\n     <use style=\"fill:#1f77b4;stroke:#1f77b4;\" x=\"159.020318\" xlink:href=\"#m2a876237f7\" y=\"91.828099\"/>\n     <use style=\"fill:#1f77b4;stroke:#1f77b4;\" x=\"106.392902\" xlink:href=\"#m2a876237f7\" y=\"67.520005\"/>\n     <use style=\"fill:#1f77b4;stroke:#1f77b4;\" x=\"162.974183\" xlink:href=\"#m2a876237f7\" y=\"112.246905\"/>\n     <use style=\"fill:#1f77b4;stroke:#1f77b4;\" x=\"99.642553\" xlink:href=\"#m2a876237f7\" y=\"68.428061\"/>\n     <use style=\"fill:#1f77b4;stroke:#1f77b4;\" x=\"91.817053\" xlink:href=\"#m2a876237f7\" y=\"42.973173\"/>\n     <use style=\"fill:#1f77b4;stroke:#1f77b4;\" x=\"155.096081\" xlink:href=\"#m2a876237f7\" y=\"84.720071\"/>\n     <use style=\"fill:#1f77b4;stroke:#1f77b4;\" x=\"126.914128\" xlink:href=\"#m2a876237f7\" y=\"77.313239\"/>\n     <use style=\"fill:#1f77b4;stroke:#1f77b4;\" x=\"84.860905\" xlink:href=\"#m2a876237f7\" y=\"43.192251\"/>\n     <use style=\"fill:#1f77b4;stroke:#1f77b4;\" x=\"101.771314\" xlink:href=\"#m2a876237f7\" y=\"79.811301\"/>\n     <use style=\"fill:#1f77b4;stroke:#1f77b4;\" x=\"139.746389\" xlink:href=\"#m2a876237f7\" y=\"76.206355\"/>\n     <use style=\"fill:#1f77b4;stroke:#1f77b4;\" x=\"65.994327\" xlink:href=\"#m2a876237f7\" y=\"37.872928\"/>\n     <use style=\"fill:#1f77b4;stroke:#1f77b4;\" x=\"101.245852\" xlink:href=\"#m2a876237f7\" y=\"61.946448\"/>\n     <use style=\"fill:#1f77b4;stroke:#1f77b4;\" x=\"114.673348\" xlink:href=\"#m2a876237f7\" y=\"80.901113\"/>\n     <use style=\"fill:#1f77b4;stroke:#1f77b4;\" x=\"123.869135\" xlink:href=\"#m2a876237f7\" y=\"82.752858\"/>\n     <use style=\"fill:#1f77b4;stroke:#1f77b4;\" x=\"95.045456\" xlink:href=\"#m2a876237f7\" y=\"61.937452\"/>\n     <use style=\"fill:#1f77b4;stroke:#1f77b4;\" x=\"134.370899\" xlink:href=\"#m2a876237f7\" y=\"79.201049\"/>\n     <use style=\"fill:#1f77b4;stroke:#1f77b4;\" x=\"110.610127\" xlink:href=\"#m2a876237f7\" y=\"52.579176\"/>\n     <use style=\"fill:#1f77b4;stroke:#1f77b4;\" x=\"142.892181\" xlink:href=\"#m2a876237f7\" y=\"93.024249\"/>\n     <use style=\"fill:#1f77b4;stroke:#1f77b4;\" x=\"90.690997\" xlink:href=\"#m2a876237f7\" y=\"55.834106\"/>\n     <use style=\"fill:#1f77b4;stroke:#1f77b4;\" x=\"142.363363\" xlink:href=\"#m2a876237f7\" y=\"78.715845\"/>\n     <use style=\"fill:#1f77b4;stroke:#1f77b4;\" x=\"91.285092\" xlink:href=\"#m2a876237f7\" y=\"79.459133\"/>\n     <use style=\"fill:#1f77b4;stroke:#1f77b4;\" x=\"82.436388\" xlink:href=\"#m2a876237f7\" y=\"76.928111\"/>\n     <use style=\"fill:#1f77b4;stroke:#1f77b4;\" x=\"104.075891\" xlink:href=\"#m2a876237f7\" y=\"75.770893\"/>\n     <use style=\"fill:#1f77b4;stroke:#1f77b4;\" x=\"141.727918\" xlink:href=\"#m2a876237f7\" y=\"81.093872\"/>\n     <use style=\"fill:#1f77b4;stroke:#1f77b4;\" x=\"106.192621\" xlink:href=\"#m2a876237f7\" y=\"40.73852\"/>\n     <use style=\"fill:#1f77b4;stroke:#1f77b4;\" x=\"81.853579\" xlink:href=\"#m2a876237f7\" y=\"41.531459\"/>\n     <use style=\"fill:#1f77b4;stroke:#1f77b4;\" x=\"122.770918\" xlink:href=\"#m2a876237f7\" y=\"76.217667\"/>\n     <use style=\"fill:#1f77b4;stroke:#1f77b4;\" x=\"108.958664\" xlink:href=\"#m2a876237f7\" y=\"74.477351\"/>\n     <use style=\"fill:#1f77b4;stroke:#1f77b4;\" x=\"179.009995\" xlink:href=\"#m2a876237f7\" y=\"132.278402\"/>\n     <use style=\"fill:#1f77b4;stroke:#1f77b4;\" x=\"149.501543\" xlink:href=\"#m2a876237f7\" y=\"64.224013\"/>\n     <use style=\"fill:#1f77b4;stroke:#1f77b4;\" x=\"79.6147\" xlink:href=\"#m2a876237f7\" y=\"51.901547\"/>\n     <use style=\"fill:#1f77b4;stroke:#1f77b4;\" x=\"158.351505\" xlink:href=\"#m2a876237f7\" y=\"102.236802\"/>\n     <use style=\"fill:#1f77b4;stroke:#1f77b4;\" x=\"135.59594\" xlink:href=\"#m2a876237f7\" y=\"78.191917\"/>\n     <use style=\"fill:#1f77b4;stroke:#1f77b4;\" x=\"130.161091\" xlink:href=\"#m2a876237f7\" y=\"84.149999\"/>\n     <use style=\"fill:#1f77b4;stroke:#1f77b4;\" x=\"138.134772\" xlink:href=\"#m2a876237f7\" y=\"76.120197\"/>\n     <use style=\"fill:#1f77b4;stroke:#1f77b4;\" x=\"148.90933\" xlink:href=\"#m2a876237f7\" y=\"95.568329\"/>\n     <use style=\"fill:#1f77b4;stroke:#1f77b4;\" x=\"139.487869\" xlink:href=\"#m2a876237f7\" y=\"79.084378\"/>\n     <use style=\"fill:#1f77b4;stroke:#1f77b4;\" x=\"117.443431\" xlink:href=\"#m2a876237f7\" y=\"60.880904\"/>\n     <use style=\"fill:#1f77b4;stroke:#1f77b4;\" x=\"149.416666\" xlink:href=\"#m2a876237f7\" y=\"89.451096\"/>\n     <use style=\"fill:#1f77b4;stroke:#1f77b4;\" x=\"118.917157\" xlink:href=\"#m2a876237f7\" y=\"89.83876\"/>\n     <use style=\"fill:#1f77b4;stroke:#1f77b4;\" x=\"133.850753\" xlink:href=\"#m2a876237f7\" y=\"91.855265\"/>\n     <use style=\"fill:#1f77b4;stroke:#1f77b4;\" x=\"173.56341\" xlink:href=\"#m2a876237f7\" y=\"101.71534\"/>\n     <use style=\"fill:#1f77b4;stroke:#1f77b4;\" x=\"108.955278\" xlink:href=\"#m2a876237f7\" y=\"86.34434\"/>\n     <use style=\"fill:#1f77b4;stroke:#1f77b4;\" x=\"129.158724\" xlink:href=\"#m2a876237f7\" y=\"57.60581\"/>\n     <use style=\"fill:#1f77b4;stroke:#1f77b4;\" x=\"94.901282\" xlink:href=\"#m2a876237f7\" y=\"60.601534\"/>\n     <use style=\"fill:#1f77b4;stroke:#1f77b4;\" x=\"141.066693\" xlink:href=\"#m2a876237f7\" y=\"95.337166\"/>\n     <use style=\"fill:#1f77b4;stroke:#1f77b4;\" x=\"126.471753\" xlink:href=\"#m2a876237f7\" y=\"72.018234\"/>\n     <use style=\"fill:#1f77b4;stroke:#1f77b4;\" x=\"83.170494\" xlink:href=\"#m2a876237f7\" y=\"48.76292\"/>\n     <use style=\"fill:#1f77b4;stroke:#1f77b4;\" x=\"177.502278\" xlink:href=\"#m2a876237f7\" y=\"127.362421\"/>\n     <use style=\"fill:#1f77b4;stroke:#1f77b4;\" x=\"146.45798\" xlink:href=\"#m2a876237f7\" y=\"94.904989\"/>\n     <use style=\"fill:#1f77b4;stroke:#1f77b4;\" x=\"142.746042\" xlink:href=\"#m2a876237f7\" y=\"83.391995\"/>\n     <use style=\"fill:#1f77b4;stroke:#1f77b4;\" x=\"150.329881\" xlink:href=\"#m2a876237f7\" y=\"92.138357\"/>\n     <use style=\"fill:#1f77b4;stroke:#1f77b4;\" x=\"88.807146\" xlink:href=\"#m2a876237f7\" y=\"65.932494\"/>\n     <use style=\"fill:#1f77b4;stroke:#1f77b4;\" x=\"143.66385\" xlink:href=\"#m2a876237f7\" y=\"93.348732\"/>\n     <use style=\"fill:#1f77b4;stroke:#1f77b4;\" x=\"73.234388\" xlink:href=\"#m2a876237f7\" y=\"17.119748\"/>\n     <use style=\"fill:#1f77b4;stroke:#1f77b4;\" x=\"117.363484\" xlink:href=\"#m2a876237f7\" y=\"77.616194\"/>\n     <use style=\"fill:#1f77b4;stroke:#1f77b4;\" x=\"164.720467\" xlink:href=\"#m2a876237f7\" y=\"105.863824\"/>\n     <use style=\"fill:#1f77b4;stroke:#1f77b4;\" x=\"135.5688\" xlink:href=\"#m2a876237f7\" y=\"106.573392\"/>\n     <use style=\"fill:#1f77b4;stroke:#1f77b4;\" x=\"127.07149\" xlink:href=\"#m2a876237f7\" y=\"66.546278\"/>\n     <use style=\"fill:#1f77b4;stroke:#1f77b4;\" x=\"162.945499\" xlink:href=\"#m2a876237f7\" y=\"122.772483\"/>\n     <use style=\"fill:#1f77b4;stroke:#1f77b4;\" x=\"189.729797\" xlink:href=\"#m2a876237f7\" y=\"97.415036\"/>\n     <use style=\"fill:#1f77b4;stroke:#1f77b4;\" x=\"115.65096\" xlink:href=\"#m2a876237f7\" y=\"56.486867\"/>\n     <use style=\"fill:#1f77b4;stroke:#1f77b4;\" x=\"116.881503\" xlink:href=\"#m2a876237f7\" y=\"75.259277\"/>\n     <use style=\"fill:#1f77b4;stroke:#1f77b4;\" x=\"159.132317\" xlink:href=\"#m2a876237f7\" y=\"112.738051\"/>\n     <use style=\"fill:#1f77b4;stroke:#1f77b4;\" x=\"92.873469\" xlink:href=\"#m2a876237f7\" y=\"45.971932\"/>\n     <use style=\"fill:#1f77b4;stroke:#1f77b4;\" x=\"131.937596\" xlink:href=\"#m2a876237f7\" y=\"95.47244\"/>\n     <use style=\"fill:#1f77b4;stroke:#1f77b4;\" x=\"103.171307\" xlink:href=\"#m2a876237f7\" y=\"58.559256\"/>\n     <use style=\"fill:#1f77b4;stroke:#1f77b4;\" x=\"93.046457\" xlink:href=\"#m2a876237f7\" y=\"55.14011\"/>\n     <use style=\"fill:#1f77b4;stroke:#1f77b4;\" x=\"144.515892\" xlink:href=\"#m2a876237f7\" y=\"91.451582\"/>\n     <use style=\"fill:#1f77b4;stroke:#1f77b4;\" x=\"130.970467\" xlink:href=\"#m2a876237f7\" y=\"70.13515\"/>\n     <use style=\"fill:#1f77b4;stroke:#1f77b4;\" x=\"180.873492\" xlink:href=\"#m2a876237f7\" y=\"121.880294\"/>\n     <use style=\"fill:#1f77b4;stroke:#1f77b4;\" x=\"100.837607\" xlink:href=\"#m2a876237f7\" y=\"46.516298\"/>\n     <use style=\"fill:#1f77b4;stroke:#1f77b4;\" x=\"128.208524\" xlink:href=\"#m2a876237f7\" y=\"67.357187\"/>\n     <use style=\"fill:#1f77b4;stroke:#1f77b4;\" x=\"136.252994\" xlink:href=\"#m2a876237f7\" y=\"99.475995\"/>\n     <use style=\"fill:#1f77b4;stroke:#1f77b4;\" x=\"166.615357\" xlink:href=\"#m2a876237f7\" y=\"94.422191\"/>\n     <use style=\"fill:#1f77b4;stroke:#1f77b4;\" x=\"112.653056\" xlink:href=\"#m2a876237f7\" y=\"30.112496\"/>\n     <use style=\"fill:#1f77b4;stroke:#1f77b4;\" x=\"157.654818\" xlink:href=\"#m2a876237f7\" y=\"82.729127\"/>\n     <use style=\"fill:#1f77b4;stroke:#1f77b4;\" x=\"112.343961\" xlink:href=\"#m2a876237f7\" y=\"69.491828\"/>\n     <use style=\"fill:#1f77b4;stroke:#1f77b4;\" x=\"107.17117\" xlink:href=\"#m2a876237f7\" y=\"37.085584\"/>\n     <use style=\"fill:#1f77b4;stroke:#1f77b4;\" x=\"123.200586\" xlink:href=\"#m2a876237f7\" y=\"78.818425\"/>\n     <use style=\"fill:#1f77b4;stroke:#1f77b4;\" x=\"91.65553\" xlink:href=\"#m2a876237f7\" y=\"48.896798\"/>\n     <use style=\"fill:#1f77b4;stroke:#1f77b4;\" x=\"139.099834\" xlink:href=\"#m2a876237f7\" y=\"82.111426\"/>\n     <use style=\"fill:#1f77b4;stroke:#1f77b4;\" x=\"114.244056\" xlink:href=\"#m2a876237f7\" y=\"83.494337\"/>\n     <use style=\"fill:#1f77b4;stroke:#1f77b4;\" x=\"100.131457\" xlink:href=\"#m2a876237f7\" y=\"60.564871\"/>\n     <use style=\"fill:#1f77b4;stroke:#1f77b4;\" x=\"185.978948\" xlink:href=\"#m2a876237f7\" y=\"98.314196\"/>\n     <use style=\"fill:#1f77b4;stroke:#1f77b4;\" x=\"89.568761\" xlink:href=\"#m2a876237f7\" y=\"39.23758\"/>\n     <use style=\"fill:#1f77b4;stroke:#1f77b4;\" x=\"129.857749\" xlink:href=\"#m2a876237f7\" y=\"95.669468\"/>\n     <use style=\"fill:#1f77b4;stroke:#1f77b4;\" x=\"160.864434\" xlink:href=\"#m2a876237f7\" y=\"106.922718\"/>\n     <use style=\"fill:#1f77b4;stroke:#1f77b4;\" x=\"58.007993\" xlink:href=\"#m2a876237f7\" y=\"51.267476\"/>\n     <use style=\"fill:#1f77b4;stroke:#1f77b4;\" x=\"101.44952\" xlink:href=\"#m2a876237f7\" y=\"81.893231\"/>\n     <use style=\"fill:#1f77b4;stroke:#1f77b4;\" x=\"137.660964\" xlink:href=\"#m2a876237f7\" y=\"90.890567\"/>\n     <use style=\"fill:#1f77b4;stroke:#1f77b4;\" x=\"149.948924\" xlink:href=\"#m2a876237f7\" y=\"121.156872\"/>\n     <use style=\"fill:#1f77b4;stroke:#1f77b4;\" x=\"142.562415\" xlink:href=\"#m2a876237f7\" y=\"84.233971\"/>\n     <use style=\"fill:#1f77b4;stroke:#1f77b4;\" x=\"122.828289\" xlink:href=\"#m2a876237f7\" y=\"80.323302\"/>\n     <use style=\"fill:#1f77b4;stroke:#1f77b4;\" x=\"176.462276\" xlink:href=\"#m2a876237f7\" y=\"118.173617\"/>\n     <use style=\"fill:#1f77b4;stroke:#1f77b4;\" x=\"67.839936\" xlink:href=\"#m2a876237f7\" y=\"47.462287\"/>\n     <use style=\"fill:#1f77b4;stroke:#1f77b4;\" x=\"118.687336\" xlink:href=\"#m2a876237f7\" y=\"66.91298\"/>\n     <use style=\"fill:#1f77b4;stroke:#1f77b4;\" x=\"155.973394\" xlink:href=\"#m2a876237f7\" y=\"111.790163\"/>\n     <use style=\"fill:#1f77b4;stroke:#1f77b4;\" x=\"168.248128\" xlink:href=\"#m2a876237f7\" y=\"117.949698\"/>\n     <use style=\"fill:#1f77b4;stroke:#1f77b4;\" x=\"109.644473\" xlink:href=\"#m2a876237f7\" y=\"63.746578\"/>\n     <use style=\"fill:#1f77b4;stroke:#1f77b4;\" x=\"110.182631\" xlink:href=\"#m2a876237f7\" y=\"79.324873\"/>\n     <use style=\"fill:#1f77b4;stroke:#1f77b4;\" x=\"103.792025\" xlink:href=\"#m2a876237f7\" y=\"54.885646\"/>\n     <use style=\"fill:#1f77b4;stroke:#1f77b4;\" x=\"80.961403\" xlink:href=\"#m2a876237f7\" y=\"42.594906\"/>\n     <use style=\"fill:#1f77b4;stroke:#1f77b4;\" x=\"132.8135\" xlink:href=\"#m2a876237f7\" y=\"75.484203\"/>\n     <use style=\"fill:#1f77b4;stroke:#1f77b4;\" x=\"124.793752\" xlink:href=\"#m2a876237f7\" y=\"74.618707\"/>\n     <use style=\"fill:#1f77b4;stroke:#1f77b4;\" x=\"141.29086\" xlink:href=\"#m2a876237f7\" y=\"92.454873\"/>\n     <use style=\"fill:#1f77b4;stroke:#1f77b4;\" x=\"161.02492\" xlink:href=\"#m2a876237f7\" y=\"66.904372\"/>\n     <use style=\"fill:#1f77b4;stroke:#1f77b4;\" x=\"189.960851\" xlink:href=\"#m2a876237f7\" y=\"113.933925\"/>\n     <use style=\"fill:#1f77b4;stroke:#1f77b4;\" x=\"163.149571\" xlink:href=\"#m2a876237f7\" y=\"106.8532\"/>\n     <use style=\"fill:#1f77b4;stroke:#1f77b4;\" x=\"149.728848\" xlink:href=\"#m2a876237f7\" y=\"116.713176\"/>\n     <use style=\"fill:#1f77b4;stroke:#1f77b4;\" x=\"113.762458\" xlink:href=\"#m2a876237f7\" y=\"56.736915\"/>\n     <use style=\"fill:#1f77b4;stroke:#1f77b4;\" x=\"140.366264\" xlink:href=\"#m2a876237f7\" y=\"89.715565\"/>\n     <use style=\"fill:#1f77b4;stroke:#1f77b4;\" x=\"123.219659\" xlink:href=\"#m2a876237f7\" y=\"73.696453\"/>\n     <use style=\"fill:#1f77b4;stroke:#1f77b4;\" x=\"53.882563\" xlink:href=\"#m2a876237f7\" y=\"36.472428\"/>\n     <use style=\"fill:#1f77b4;stroke:#1f77b4;\" x=\"121.636771\" xlink:href=\"#m2a876237f7\" y=\"87.485413\"/>\n     <use style=\"fill:#1f77b4;stroke:#1f77b4;\" x=\"121.320161\" xlink:href=\"#m2a876237f7\" y=\"54.432203\"/>\n     <use style=\"fill:#1f77b4;stroke:#1f77b4;\" x=\"173.713879\" xlink:href=\"#m2a876237f7\" y=\"103.45896\"/>\n     <use style=\"fill:#1f77b4;stroke:#1f77b4;\" x=\"87.95626\" xlink:href=\"#m2a876237f7\" y=\"54.675623\"/>\n     <use style=\"fill:#1f77b4;stroke:#1f77b4;\" x=\"122.762928\" xlink:href=\"#m2a876237f7\" y=\"79.217907\"/>\n     <use style=\"fill:#1f77b4;stroke:#1f77b4;\" x=\"129.566963\" xlink:href=\"#m2a876237f7\" y=\"72.042223\"/>\n     <use style=\"fill:#1f77b4;stroke:#1f77b4;\" x=\"107.344803\" xlink:href=\"#m2a876237f7\" y=\"63.542881\"/>\n     <use style=\"fill:#1f77b4;stroke:#1f77b4;\" x=\"159.000121\" xlink:href=\"#m2a876237f7\" y=\"94.881393\"/>\n     <use style=\"fill:#1f77b4;stroke:#1f77b4;\" x=\"133.039626\" xlink:href=\"#m2a876237f7\" y=\"63.726771\"/>\n     <use style=\"fill:#1f77b4;stroke:#1f77b4;\" x=\"113.896915\" xlink:href=\"#m2a876237f7\" y=\"67.184471\"/>\n     <use style=\"fill:#1f77b4;stroke:#1f77b4;\" x=\"179.53166\" xlink:href=\"#m2a876237f7\" y=\"114.165878\"/>\n     <use style=\"fill:#1f77b4;stroke:#1f77b4;\" x=\"98.656353\" xlink:href=\"#m2a876237f7\" y=\"67.406309\"/>\n     <use style=\"fill:#1f77b4;stroke:#1f77b4;\" x=\"97.404606\" xlink:href=\"#m2a876237f7\" y=\"54.32567\"/>\n     <use style=\"fill:#1f77b4;stroke:#1f77b4;\" x=\"165.462164\" xlink:href=\"#m2a876237f7\" y=\"98.222908\"/>\n     <use style=\"fill:#1f77b4;stroke:#1f77b4;\" x=\"143.289731\" xlink:href=\"#m2a876237f7\" y=\"95.545405\"/>\n     <use style=\"fill:#1f77b4;stroke:#1f77b4;\" x=\"110.221297\" xlink:href=\"#m2a876237f7\" y=\"54.675326\"/>\n     <use style=\"fill:#1f77b4;stroke:#1f77b4;\" x=\"158.592131\" xlink:href=\"#m2a876237f7\" y=\"102.314813\"/>\n     <use style=\"fill:#1f77b4;stroke:#1f77b4;\" x=\"126.227873\" xlink:href=\"#m2a876237f7\" y=\"71.670651\"/>\n     <use style=\"fill:#1f77b4;stroke:#1f77b4;\" x=\"93.524462\" xlink:href=\"#m2a876237f7\" y=\"51.269582\"/>\n     <use style=\"fill:#1f77b4;stroke:#1f77b4;\" x=\"81.817557\" xlink:href=\"#m2a876237f7\" y=\"43.514119\"/>\n     <use style=\"fill:#1f77b4;stroke:#1f77b4;\" x=\"111.901266\" xlink:href=\"#m2a876237f7\" y=\"73.605263\"/>\n     <use style=\"fill:#1f77b4;stroke:#1f77b4;\" x=\"180.932995\" xlink:href=\"#m2a876237f7\" y=\"107.493942\"/>\n     <use style=\"fill:#1f77b4;stroke:#1f77b4;\" x=\"120.808591\" xlink:href=\"#m2a876237f7\" y=\"76.998846\"/>\n     <use style=\"fill:#1f77b4;stroke:#1f77b4;\" x=\"100.129045\" xlink:href=\"#m2a876237f7\" y=\"72.058953\"/>\n     <use style=\"fill:#1f77b4;stroke:#1f77b4;\" x=\"111.969542\" xlink:href=\"#m2a876237f7\" y=\"88.715653\"/>\n     <use style=\"fill:#1f77b4;stroke:#1f77b4;\" x=\"113.170506\" xlink:href=\"#m2a876237f7\" y=\"92.847126\"/>\n     <use style=\"fill:#1f77b4;stroke:#1f77b4;\" x=\"170.806801\" xlink:href=\"#m2a876237f7\" y=\"125.156363\"/>\n     <use style=\"fill:#1f77b4;stroke:#1f77b4;\" x=\"138.455295\" xlink:href=\"#m2a876237f7\" y=\"80.271455\"/>\n     <use style=\"fill:#1f77b4;stroke:#1f77b4;\" x=\"135.522733\" xlink:href=\"#m2a876237f7\" y=\"86.601645\"/>\n     <use style=\"fill:#1f77b4;stroke:#1f77b4;\" x=\"102.872309\" xlink:href=\"#m2a876237f7\" y=\"72.246398\"/>\n     <use style=\"fill:#1f77b4;stroke:#1f77b4;\" x=\"166.370894\" xlink:href=\"#m2a876237f7\" y=\"111.742827\"/>\n     <use style=\"fill:#1f77b4;stroke:#1f77b4;\" x=\"96.24837\" xlink:href=\"#m2a876237f7\" y=\"41.848449\"/>\n     <use style=\"fill:#1f77b4;stroke:#1f77b4;\" x=\"59.472157\" xlink:href=\"#m2a876237f7\" y=\"40.606528\"/>\n     <use style=\"fill:#1f77b4;stroke:#1f77b4;\" x=\"102.371071\" xlink:href=\"#m2a876237f7\" y=\"73.87641\"/>\n     <use style=\"fill:#1f77b4;stroke:#1f77b4;\" x=\"133.357355\" xlink:href=\"#m2a876237f7\" y=\"84.372132\"/>\n     <use style=\"fill:#1f77b4;stroke:#1f77b4;\" x=\"120.284403\" xlink:href=\"#m2a876237f7\" y=\"58.130953\"/>\n     <use style=\"fill:#1f77b4;stroke:#1f77b4;\" x=\"121.422632\" xlink:href=\"#m2a876237f7\" y=\"80.679777\"/>\n     <use style=\"fill:#1f77b4;stroke:#1f77b4;\" x=\"124.659529\" xlink:href=\"#m2a876237f7\" y=\"77.705762\"/>\n     <use style=\"fill:#1f77b4;stroke:#1f77b4;\" x=\"123.73518\" xlink:href=\"#m2a876237f7\" y=\"72.508482\"/>\n     <use style=\"fill:#1f77b4;stroke:#1f77b4;\" x=\"93.327543\" xlink:href=\"#m2a876237f7\" y=\"44.683412\"/>\n     <use style=\"fill:#1f77b4;stroke:#1f77b4;\" x=\"160.649326\" xlink:href=\"#m2a876237f7\" y=\"111.379846\"/>\n     <use style=\"fill:#1f77b4;stroke:#1f77b4;\" x=\"125.151205\" xlink:href=\"#m2a876237f7\" y=\"90.423946\"/>\n     <use style=\"fill:#1f77b4;stroke:#1f77b4;\" x=\"101.494305\" xlink:href=\"#m2a876237f7\" y=\"53.690771\"/>\n     <use style=\"fill:#1f77b4;stroke:#1f77b4;\" x=\"98.680485\" xlink:href=\"#m2a876237f7\" y=\"73.460001\"/>\n     <use style=\"fill:#1f77b4;stroke:#1f77b4;\" x=\"127.542075\" xlink:href=\"#m2a876237f7\" y=\"77.248752\"/>\n     <use style=\"fill:#1f77b4;stroke:#1f77b4;\" x=\"115.490566\" xlink:href=\"#m2a876237f7\" y=\"89.1769\"/>\n     <use style=\"fill:#1f77b4;stroke:#1f77b4;\" x=\"101.069364\" xlink:href=\"#m2a876237f7\" y=\"66.234317\"/>\n     <use style=\"fill:#1f77b4;stroke:#1f77b4;\" x=\"150.603635\" xlink:href=\"#m2a876237f7\" y=\"100.50091\"/>\n     <use style=\"fill:#1f77b4;stroke:#1f77b4;\" x=\"75.321553\" xlink:href=\"#m2a876237f7\" y=\"45.646612\"/>\n     <use style=\"fill:#1f77b4;stroke:#1f77b4;\" x=\"163.817293\" xlink:href=\"#m2a876237f7\" y=\"106.418701\"/>\n     <use style=\"fill:#1f77b4;stroke:#1f77b4;\" x=\"172.197712\" xlink:href=\"#m2a876237f7\" y=\"112.51512\"/>\n     <use style=\"fill:#1f77b4;stroke:#1f77b4;\" x=\"128.053883\" xlink:href=\"#m2a876237f7\" y=\"87.179698\"/>\n     <use style=\"fill:#1f77b4;stroke:#1f77b4;\" x=\"171.908022\" xlink:href=\"#m2a876237f7\" y=\"118.766426\"/>\n     <use style=\"fill:#1f77b4;stroke:#1f77b4;\" x=\"91.137212\" xlink:href=\"#m2a876237f7\" y=\"66.54665\"/>\n     <use style=\"fill:#1f77b4;stroke:#1f77b4;\" x=\"148.466537\" xlink:href=\"#m2a876237f7\" y=\"104.141694\"/>\n     <use style=\"fill:#1f77b4;stroke:#1f77b4;\" x=\"152.149164\" xlink:href=\"#m2a876237f7\" y=\"89.704549\"/>\n     <use style=\"fill:#1f77b4;stroke:#1f77b4;\" x=\"114.788055\" xlink:href=\"#m2a876237f7\" y=\"66.488071\"/>\n     <use style=\"fill:#1f77b4;stroke:#1f77b4;\" x=\"80.748666\" xlink:href=\"#m2a876237f7\" y=\"34.53711\"/>\n     <use style=\"fill:#1f77b4;stroke:#1f77b4;\" x=\"149.700699\" xlink:href=\"#m2a876237f7\" y=\"84.500995\"/>\n     <use style=\"fill:#1f77b4;stroke:#1f77b4;\" x=\"147.952768\" xlink:href=\"#m2a876237f7\" y=\"99.966841\"/>\n     <use style=\"fill:#1f77b4;stroke:#1f77b4;\" x=\"133.232713\" xlink:href=\"#m2a876237f7\" y=\"85.672392\"/>\n     <use style=\"fill:#1f77b4;stroke:#1f77b4;\" x=\"156.656824\" xlink:href=\"#m2a876237f7\" y=\"94.637723\"/>\n     <use style=\"fill:#1f77b4;stroke:#1f77b4;\" x=\"121.481138\" xlink:href=\"#m2a876237f7\" y=\"81.295963\"/>\n     <use style=\"fill:#1f77b4;stroke:#1f77b4;\" x=\"119.481825\" xlink:href=\"#m2a876237f7\" y=\"73.409349\"/>\n     <use style=\"fill:#1f77b4;stroke:#1f77b4;\" x=\"108.754692\" xlink:href=\"#m2a876237f7\" y=\"56.461844\"/>\n     <use style=\"fill:#1f77b4;stroke:#1f77b4;\" x=\"130.648411\" xlink:href=\"#m2a876237f7\" y=\"87.871177\"/>\n     <use style=\"fill:#1f77b4;stroke:#1f77b4;\" x=\"151.041338\" xlink:href=\"#m2a876237f7\" y=\"97.106041\"/>\n     <use style=\"fill:#1f77b4;stroke:#1f77b4;\" x=\"66.709667\" xlink:href=\"#m2a876237f7\" y=\"52.767636\"/>\n     <use style=\"fill:#1f77b4;stroke:#1f77b4;\" x=\"120.62501\" xlink:href=\"#m2a876237f7\" y=\"71.452353\"/>\n     <use style=\"fill:#1f77b4;stroke:#1f77b4;\" x=\"154.188684\" xlink:href=\"#m2a876237f7\" y=\"96.384252\"/>\n     <use style=\"fill:#1f77b4;stroke:#1f77b4;\" x=\"128.767854\" xlink:href=\"#m2a876237f7\" y=\"103.397926\"/>\n     <use style=\"fill:#1f77b4;stroke:#1f77b4;\" x=\"152.501308\" xlink:href=\"#m2a876237f7\" y=\"74.626399\"/>\n     <use style=\"fill:#1f77b4;stroke:#1f77b4;\" x=\"113.088863\" xlink:href=\"#m2a876237f7\" y=\"64.479164\"/>\n     <use style=\"fill:#1f77b4;stroke:#1f77b4;\" x=\"128.160963\" xlink:href=\"#m2a876237f7\" y=\"77.276042\"/>\n     <use style=\"fill:#1f77b4;stroke:#1f77b4;\" x=\"139.532876\" xlink:href=\"#m2a876237f7\" y=\"67.828979\"/>\n     <use style=\"fill:#1f77b4;stroke:#1f77b4;\" x=\"145.484254\" xlink:href=\"#m2a876237f7\" y=\"95.255346\"/>\n     <use style=\"fill:#1f77b4;stroke:#1f77b4;\" x=\"150.798987\" xlink:href=\"#m2a876237f7\" y=\"97.275219\"/>\n     <use style=\"fill:#1f77b4;stroke:#1f77b4;\" x=\"134.254513\" xlink:href=\"#m2a876237f7\" y=\"74.071349\"/>\n     <use style=\"fill:#1f77b4;stroke:#1f77b4;\" x=\"140.059218\" xlink:href=\"#m2a876237f7\" y=\"83.153371\"/>\n     <use style=\"fill:#1f77b4;stroke:#1f77b4;\" x=\"112.718216\" xlink:href=\"#m2a876237f7\" y=\"69.996105\"/>\n     <use style=\"fill:#1f77b4;stroke:#1f77b4;\" x=\"123.167078\" xlink:href=\"#m2a876237f7\" y=\"60.889857\"/>\n     <use style=\"fill:#1f77b4;stroke:#1f77b4;\" x=\"147.672458\" xlink:href=\"#m2a876237f7\" y=\"89.706997\"/>\n     <use style=\"fill:#1f77b4;stroke:#1f77b4;\" x=\"121.116355\" xlink:href=\"#m2a876237f7\" y=\"78.948309\"/>\n     <use style=\"fill:#1f77b4;stroke:#1f77b4;\" x=\"92.118652\" xlink:href=\"#m2a876237f7\" y=\"50.486656\"/>\n     <use style=\"fill:#1f77b4;stroke:#1f77b4;\" x=\"155.916846\" xlink:href=\"#m2a876237f7\" y=\"101.309763\"/>\n     <use style=\"fill:#1f77b4;stroke:#1f77b4;\" x=\"87.050723\" xlink:href=\"#m2a876237f7\" y=\"48.152622\"/>\n     <use style=\"fill:#1f77b4;stroke:#1f77b4;\" x=\"108.545448\" xlink:href=\"#m2a876237f7\" y=\"48.277732\"/>\n     <use style=\"fill:#1f77b4;stroke:#1f77b4;\" x=\"117.34586\" xlink:href=\"#m2a876237f7\" y=\"68.634905\"/>\n     <use style=\"fill:#1f77b4;stroke:#1f77b4;\" x=\"140.587629\" xlink:href=\"#m2a876237f7\" y=\"85.9731\"/>\n     <use style=\"fill:#1f77b4;stroke:#1f77b4;\" x=\"153.511642\" xlink:href=\"#m2a876237f7\" y=\"84.675072\"/>\n     <use style=\"fill:#1f77b4;stroke:#1f77b4;\" x=\"146.480884\" xlink:href=\"#m2a876237f7\" y=\"85.753482\"/>\n     <use style=\"fill:#1f77b4;stroke:#1f77b4;\" x=\"132.469964\" xlink:href=\"#m2a876237f7\" y=\"63.335062\"/>\n     <use style=\"fill:#1f77b4;stroke:#1f77b4;\" x=\"157.159944\" xlink:href=\"#m2a876237f7\" y=\"89.148822\"/>\n     <use style=\"fill:#1f77b4;stroke:#1f77b4;\" x=\"137.084449\" xlink:href=\"#m2a876237f7\" y=\"80.245068\"/>\n     <use style=\"fill:#1f77b4;stroke:#1f77b4;\" x=\"124.251364\" xlink:href=\"#m2a876237f7\" y=\"50.649559\"/>\n     <use style=\"fill:#1f77b4;stroke:#1f77b4;\" x=\"144.368974\" xlink:href=\"#m2a876237f7\" y=\"87.810619\"/>\n     <use style=\"fill:#1f77b4;stroke:#1f77b4;\" x=\"135.746121\" xlink:href=\"#m2a876237f7\" y=\"91.484594\"/>\n     <use style=\"fill:#1f77b4;stroke:#1f77b4;\" x=\"129.340232\" xlink:href=\"#m2a876237f7\" y=\"79.08031\"/>\n     <use style=\"fill:#1f77b4;stroke:#1f77b4;\" x=\"94.710125\" xlink:href=\"#m2a876237f7\" y=\"44.890964\"/>\n     <use style=\"fill:#1f77b4;stroke:#1f77b4;\" x=\"113.809811\" xlink:href=\"#m2a876237f7\" y=\"88.217142\"/>\n     <use style=\"fill:#1f77b4;stroke:#1f77b4;\" x=\"124.188562\" xlink:href=\"#m2a876237f7\" y=\"83.904094\"/>\n     <use style=\"fill:#1f77b4;stroke:#1f77b4;\" x=\"163.149645\" xlink:href=\"#m2a876237f7\" y=\"104.925141\"/>\n     <use style=\"fill:#1f77b4;stroke:#1f77b4;\" x=\"145.352943\" xlink:href=\"#m2a876237f7\" y=\"77.65618\"/>\n     <use style=\"fill:#1f77b4;stroke:#1f77b4;\" x=\"119.914317\" xlink:href=\"#m2a876237f7\" y=\"71.554494\"/>\n     <use style=\"fill:#1f77b4;stroke:#1f77b4;\" x=\"129.650248\" xlink:href=\"#m2a876237f7\" y=\"77.343887\"/>\n     <use style=\"fill:#1f77b4;stroke:#1f77b4;\" x=\"98.69481\" xlink:href=\"#m2a876237f7\" y=\"60.037312\"/>\n     <use style=\"fill:#1f77b4;stroke:#1f77b4;\" x=\"53.018078\" xlink:href=\"#m2a876237f7\" y=\"47.550602\"/>\n     <use style=\"fill:#1f77b4;stroke:#1f77b4;\" x=\"94.349135\" xlink:href=\"#m2a876237f7\" y=\"54.478137\"/>\n     <use style=\"fill:#1f77b4;stroke:#1f77b4;\" x=\"116.164271\" xlink:href=\"#m2a876237f7\" y=\"79.573246\"/>\n     <use style=\"fill:#1f77b4;stroke:#1f77b4;\" x=\"133.853604\" xlink:href=\"#m2a876237f7\" y=\"88.059115\"/>\n     <use style=\"fill:#1f77b4;stroke:#1f77b4;\" x=\"177.490122\" xlink:href=\"#m2a876237f7\" y=\"101.262967\"/>\n     <use style=\"fill:#1f77b4;stroke:#1f77b4;\" x=\"114.417672\" xlink:href=\"#m2a876237f7\" y=\"53.663071\"/>\n     <use style=\"fill:#1f77b4;stroke:#1f77b4;\" x=\"110.703387\" xlink:href=\"#m2a876237f7\" y=\"70.19914\"/>\n     <use style=\"fill:#1f77b4;stroke:#1f77b4;\" x=\"102.442948\" xlink:href=\"#m2a876237f7\" y=\"73.994637\"/>\n     <use style=\"fill:#1f77b4;stroke:#1f77b4;\" x=\"165.696847\" xlink:href=\"#m2a876237f7\" y=\"97.025435\"/>\n     <use style=\"fill:#1f77b4;stroke:#1f77b4;\" x=\"120.686625\" xlink:href=\"#m2a876237f7\" y=\"72.353947\"/>\n     <use style=\"fill:#1f77b4;stroke:#1f77b4;\" x=\"118.010849\" xlink:href=\"#m2a876237f7\" y=\"72.271814\"/>\n     <use style=\"fill:#1f77b4;stroke:#1f77b4;\" x=\"183.820037\" xlink:href=\"#m2a876237f7\" y=\"115.640686\"/>\n     <use style=\"fill:#1f77b4;stroke:#1f77b4;\" x=\"86.847963\" xlink:href=\"#m2a876237f7\" y=\"60.134693\"/>\n     <use style=\"fill:#1f77b4;stroke:#1f77b4;\" x=\"136.652451\" xlink:href=\"#m2a876237f7\" y=\"78.406759\"/>\n     <use style=\"fill:#1f77b4;stroke:#1f77b4;\" x=\"163.898755\" xlink:href=\"#m2a876237f7\" y=\"102.015404\"/>\n     <use style=\"fill:#1f77b4;stroke:#1f77b4;\" x=\"117.950104\" xlink:href=\"#m2a876237f7\" y=\"91.729211\"/>\n     <use style=\"fill:#1f77b4;stroke:#1f77b4;\" x=\"119.00742\" xlink:href=\"#m2a876237f7\" y=\"63.210506\"/>\n     <use style=\"fill:#1f77b4;stroke:#1f77b4;\" x=\"123.088701\" xlink:href=\"#m2a876237f7\" y=\"65.464012\"/>\n     <use style=\"fill:#1f77b4;stroke:#1f77b4;\" x=\"110.985484\" xlink:href=\"#m2a876237f7\" y=\"65.406304\"/>\n     <use style=\"fill:#1f77b4;stroke:#1f77b4;\" x=\"144.953798\" xlink:href=\"#m2a876237f7\" y=\"99.922795\"/>\n     <use style=\"fill:#1f77b4;stroke:#1f77b4;\" x=\"95.666646\" xlink:href=\"#m2a876237f7\" y=\"58.941907\"/>\n     <use style=\"fill:#1f77b4;stroke:#1f77b4;\" x=\"123.734708\" xlink:href=\"#m2a876237f7\" y=\"74.998684\"/>\n     <use style=\"fill:#1f77b4;stroke:#1f77b4;\" x=\"74.009116\" xlink:href=\"#m2a876237f7\" y=\"44.823077\"/>\n     <use style=\"fill:#1f77b4;stroke:#1f77b4;\" x=\"155.464091\" xlink:href=\"#m2a876237f7\" y=\"89.113304\"/>\n     <use style=\"fill:#1f77b4;stroke:#1f77b4;\" x=\"119.803956\" xlink:href=\"#m2a876237f7\" y=\"70.553693\"/>\n     <use style=\"fill:#1f77b4;stroke:#1f77b4;\" x=\"134.90259\" xlink:href=\"#m2a876237f7\" y=\"87.77777\"/>\n     <use style=\"fill:#1f77b4;stroke:#1f77b4;\" x=\"94.899291\" xlink:href=\"#m2a876237f7\" y=\"52.982642\"/>\n     <use style=\"fill:#1f77b4;stroke:#1f77b4;\" x=\"123.206486\" xlink:href=\"#m2a876237f7\" y=\"76.287031\"/>\n     <use style=\"fill:#1f77b4;stroke:#1f77b4;\" x=\"149.576486\" xlink:href=\"#m2a876237f7\" y=\"82.734367\"/>\n     <use style=\"fill:#1f77b4;stroke:#1f77b4;\" x=\"132.0808\" xlink:href=\"#m2a876237f7\" y=\"71.793722\"/>\n     <use style=\"fill:#1f77b4;stroke:#1f77b4;\" x=\"103.843002\" xlink:href=\"#m2a876237f7\" y=\"78.885181\"/>\n     <use style=\"fill:#1f77b4;stroke:#1f77b4;\" x=\"110.998391\" xlink:href=\"#m2a876237f7\" y=\"69.445378\"/>\n     <use style=\"fill:#1f77b4;stroke:#1f77b4;\" x=\"103.57509\" xlink:href=\"#m2a876237f7\" y=\"82.071465\"/>\n     <use style=\"fill:#1f77b4;stroke:#1f77b4;\" x=\"123.848143\" xlink:href=\"#m2a876237f7\" y=\"57.415482\"/>\n     <use style=\"fill:#1f77b4;stroke:#1f77b4;\" x=\"80.388884\" xlink:href=\"#m2a876237f7\" y=\"45.621076\"/>\n     <use style=\"fill:#1f77b4;stroke:#1f77b4;\" x=\"101.50655\" xlink:href=\"#m2a876237f7\" y=\"25.303828\"/>\n     <use style=\"fill:#1f77b4;stroke:#1f77b4;\" x=\"127.482351\" xlink:href=\"#m2a876237f7\" y=\"81.764264\"/>\n     <use style=\"fill:#1f77b4;stroke:#1f77b4;\" x=\"131.794827\" xlink:href=\"#m2a876237f7\" y=\"77.199054\"/>\n     <use style=\"fill:#1f77b4;stroke:#1f77b4;\" x=\"133.306985\" xlink:href=\"#m2a876237f7\" y=\"81.792794\"/>\n     <use style=\"fill:#1f77b4;stroke:#1f77b4;\" x=\"159.189912\" xlink:href=\"#m2a876237f7\" y=\"111.84239\"/>\n     <use style=\"fill:#1f77b4;stroke:#1f77b4;\" x=\"161.292356\" xlink:href=\"#m2a876237f7\" y=\"85.418646\"/>\n     <use style=\"fill:#1f77b4;stroke:#1f77b4;\" x=\"113.266623\" xlink:href=\"#m2a876237f7\" y=\"59.036509\"/>\n     <use style=\"fill:#1f77b4;stroke:#1f77b4;\" x=\"143.44098\" xlink:href=\"#m2a876237f7\" y=\"80.129726\"/>\n     <use style=\"fill:#1f77b4;stroke:#1f77b4;\" x=\"137.024202\" xlink:href=\"#m2a876237f7\" y=\"75.483599\"/>\n     <use style=\"fill:#1f77b4;stroke:#1f77b4;\" x=\"142.245264\" xlink:href=\"#m2a876237f7\" y=\"86.750914\"/>\n     <use style=\"fill:#1f77b4;stroke:#1f77b4;\" x=\"120.737671\" xlink:href=\"#m2a876237f7\" y=\"73.896322\"/>\n     <use style=\"fill:#1f77b4;stroke:#1f77b4;\" x=\"78.949211\" xlink:href=\"#m2a876237f7\" y=\"44.930244\"/>\n     <use style=\"fill:#1f77b4;stroke:#1f77b4;\" x=\"122.941767\" xlink:href=\"#m2a876237f7\" y=\"85.518613\"/>\n     <use style=\"fill:#1f77b4;stroke:#1f77b4;\" x=\"66.295741\" xlink:href=\"#m2a876237f7\" y=\"29.469054\"/>\n     <use style=\"fill:#1f77b4;stroke:#1f77b4;\" x=\"107.436808\" xlink:href=\"#m2a876237f7\" y=\"68.349754\"/>\n     <use style=\"fill:#1f77b4;stroke:#1f77b4;\" x=\"106.733747\" xlink:href=\"#m2a876237f7\" y=\"62.011471\"/>\n     <use style=\"fill:#1f77b4;stroke:#1f77b4;\" x=\"105.373889\" xlink:href=\"#m2a876237f7\" y=\"62.260571\"/>\n     <use style=\"fill:#1f77b4;stroke:#1f77b4;\" x=\"142.635144\" xlink:href=\"#m2a876237f7\" y=\"89.004577\"/>\n     <use style=\"fill:#1f77b4;stroke:#1f77b4;\" x=\"106.702965\" xlink:href=\"#m2a876237f7\" y=\"43.726881\"/>\n     <use style=\"fill:#1f77b4;stroke:#1f77b4;\" x=\"112.847448\" xlink:href=\"#m2a876237f7\" y=\"71.716155\"/>\n     <use style=\"fill:#1f77b4;stroke:#1f77b4;\" x=\"152.231273\" xlink:href=\"#m2a876237f7\" y=\"86.042293\"/>\n     <use style=\"fill:#1f77b4;stroke:#1f77b4;\" x=\"103.860115\" xlink:href=\"#m2a876237f7\" y=\"77.074274\"/>\n     <use style=\"fill:#1f77b4;stroke:#1f77b4;\" x=\"103.273689\" xlink:href=\"#m2a876237f7\" y=\"55.130674\"/>\n     <use style=\"fill:#1f77b4;stroke:#1f77b4;\" x=\"114.569591\" xlink:href=\"#m2a876237f7\" y=\"53.274187\"/>\n     <use style=\"fill:#1f77b4;stroke:#1f77b4;\" x=\"142.176546\" xlink:href=\"#m2a876237f7\" y=\"74.670746\"/>\n     <use style=\"fill:#1f77b4;stroke:#1f77b4;\" x=\"131.945353\" xlink:href=\"#m2a876237f7\" y=\"60.593105\"/>\n     <use style=\"fill:#1f77b4;stroke:#1f77b4;\" x=\"137.327733\" xlink:href=\"#m2a876237f7\" y=\"103.03924\"/>\n     <use style=\"fill:#1f77b4;stroke:#1f77b4;\" x=\"118.917206\" xlink:href=\"#m2a876237f7\" y=\"77.227324\"/>\n     <use style=\"fill:#1f77b4;stroke:#1f77b4;\" x=\"163.954504\" xlink:href=\"#m2a876237f7\" y=\"107.984654\"/>\n     <use style=\"fill:#1f77b4;stroke:#1f77b4;\" x=\"123.461894\" xlink:href=\"#m2a876237f7\" y=\"82.792443\"/>\n     <use style=\"fill:#1f77b4;stroke:#1f77b4;\" x=\"174.551272\" xlink:href=\"#m2a876237f7\" y=\"118.589936\"/>\n     <use style=\"fill:#1f77b4;stroke:#1f77b4;\" x=\"160.635417\" xlink:href=\"#m2a876237f7\" y=\"102.90931\"/>\n     <use style=\"fill:#1f77b4;stroke:#1f77b4;\" x=\"73.662615\" xlink:href=\"#m2a876237f7\" y=\"26.689426\"/>\n     <use style=\"fill:#1f77b4;stroke:#1f77b4;\" x=\"116.298845\" xlink:href=\"#m2a876237f7\" y=\"54.451746\"/>\n     <use style=\"fill:#1f77b4;stroke:#1f77b4;\" x=\"82.648343\" xlink:href=\"#m2a876237f7\" y=\"47.854537\"/>\n     <use style=\"fill:#1f77b4;stroke:#1f77b4;\" x=\"131.071169\" xlink:href=\"#m2a876237f7\" y=\"80.899818\"/>\n     <use style=\"fill:#1f77b4;stroke:#1f77b4;\" x=\"122.642827\" xlink:href=\"#m2a876237f7\" y=\"82.876004\"/>\n     <use style=\"fill:#1f77b4;stroke:#1f77b4;\" x=\"135.083133\" xlink:href=\"#m2a876237f7\" y=\"76.141576\"/>\n     <use style=\"fill:#1f77b4;stroke:#1f77b4;\" x=\"119.639986\" xlink:href=\"#m2a876237f7\" y=\"78.633283\"/>\n     <use style=\"fill:#1f77b4;stroke:#1f77b4;\" x=\"113.452663\" xlink:href=\"#m2a876237f7\" y=\"62.918106\"/>\n     <use style=\"fill:#1f77b4;stroke:#1f77b4;\" x=\"90.575758\" xlink:href=\"#m2a876237f7\" y=\"39.646257\"/>\n     <use style=\"fill:#1f77b4;stroke:#1f77b4;\" x=\"134.366644\" xlink:href=\"#m2a876237f7\" y=\"86.855786\"/>\n     <use style=\"fill:#1f77b4;stroke:#1f77b4;\" x=\"187.531735\" xlink:href=\"#m2a876237f7\" y=\"131.238456\"/>\n     <use style=\"fill:#1f77b4;stroke:#1f77b4;\" x=\"122.196304\" xlink:href=\"#m2a876237f7\" y=\"62.591736\"/>\n     <use style=\"fill:#1f77b4;stroke:#1f77b4;\" x=\"112.170172\" xlink:href=\"#m2a876237f7\" y=\"79.3902\"/>\n     <use style=\"fill:#1f77b4;stroke:#1f77b4;\" x=\"150.474209\" xlink:href=\"#m2a876237f7\" y=\"79.512619\"/>\n     <use style=\"fill:#1f77b4;stroke:#1f77b4;\" x=\"125.820141\" xlink:href=\"#m2a876237f7\" y=\"76.940637\"/>\n     <use style=\"fill:#1f77b4;stroke:#1f77b4;\" x=\"131.677096\" xlink:href=\"#m2a876237f7\" y=\"84.667772\"/>\n     <use style=\"fill:#1f77b4;stroke:#1f77b4;\" x=\"118.447106\" xlink:href=\"#m2a876237f7\" y=\"77.385822\"/>\n     <use style=\"fill:#1f77b4;stroke:#1f77b4;\" x=\"129.572523\" xlink:href=\"#m2a876237f7\" y=\"86.605764\"/>\n     <use style=\"fill:#1f77b4;stroke:#1f77b4;\" x=\"121.231055\" xlink:href=\"#m2a876237f7\" y=\"91.672156\"/>\n     <use style=\"fill:#1f77b4;stroke:#1f77b4;\" x=\"111.766997\" xlink:href=\"#m2a876237f7\" y=\"62.337261\"/>\n     <use style=\"fill:#1f77b4;stroke:#1f77b4;\" x=\"66.381328\" xlink:href=\"#m2a876237f7\" y=\"45.618821\"/>\n     <use style=\"fill:#1f77b4;stroke:#1f77b4;\" x=\"124.668838\" xlink:href=\"#m2a876237f7\" y=\"78.728297\"/>\n     <use style=\"fill:#1f77b4;stroke:#1f77b4;\" x=\"134.34444\" xlink:href=\"#m2a876237f7\" y=\"79.333647\"/>\n     <use style=\"fill:#1f77b4;stroke:#1f77b4;\" x=\"112.919103\" xlink:href=\"#m2a876237f7\" y=\"69.362177\"/>\n     <use style=\"fill:#1f77b4;stroke:#1f77b4;\" x=\"74.674998\" xlink:href=\"#m2a876237f7\" y=\"50.322033\"/>\n     <use style=\"fill:#1f77b4;stroke:#1f77b4;\" x=\"169.054592\" xlink:href=\"#m2a876237f7\" y=\"128.705368\"/>\n     <use style=\"fill:#1f77b4;stroke:#1f77b4;\" x=\"162.19606\" xlink:href=\"#m2a876237f7\" y=\"111.788175\"/>\n     <use style=\"fill:#1f77b4;stroke:#1f77b4;\" x=\"121.440007\" xlink:href=\"#m2a876237f7\" y=\"75.948445\"/>\n     <use style=\"fill:#1f77b4;stroke:#1f77b4;\" x=\"108.641958\" xlink:href=\"#m2a876237f7\" y=\"48.494036\"/>\n     <use style=\"fill:#1f77b4;stroke:#1f77b4;\" x=\"127.35056\" xlink:href=\"#m2a876237f7\" y=\"61.365066\"/>\n     <use style=\"fill:#1f77b4;stroke:#1f77b4;\" x=\"151.692645\" xlink:href=\"#m2a876237f7\" y=\"97.513475\"/>\n     <use style=\"fill:#1f77b4;stroke:#1f77b4;\" x=\"147.250204\" xlink:href=\"#m2a876237f7\" y=\"89.291684\"/>\n     <use style=\"fill:#1f77b4;stroke:#1f77b4;\" x=\"155.732268\" xlink:href=\"#m2a876237f7\" y=\"94.190003\"/>\n     <use style=\"fill:#1f77b4;stroke:#1f77b4;\" x=\"133.252484\" xlink:href=\"#m2a876237f7\" y=\"68.556387\"/>\n     <use style=\"fill:#1f77b4;stroke:#1f77b4;\" x=\"131.809894\" xlink:href=\"#m2a876237f7\" y=\"90.994359\"/>\n     <use style=\"fill:#1f77b4;stroke:#1f77b4;\" x=\"118.214157\" xlink:href=\"#m2a876237f7\" y=\"66.29051\"/>\n     <use style=\"fill:#1f77b4;stroke:#1f77b4;\" x=\"112.893645\" xlink:href=\"#m2a876237f7\" y=\"79.752937\"/>\n     <use style=\"fill:#1f77b4;stroke:#1f77b4;\" x=\"151.621896\" xlink:href=\"#m2a876237f7\" y=\"100.185443\"/>\n     <use style=\"fill:#1f77b4;stroke:#1f77b4;\" x=\"83.708377\" xlink:href=\"#m2a876237f7\" y=\"32.798284\"/>\n     <use style=\"fill:#1f77b4;stroke:#1f77b4;\" x=\"89.240083\" xlink:href=\"#m2a876237f7\" y=\"65.465746\"/>\n     <use style=\"fill:#1f77b4;stroke:#1f77b4;\" x=\"132.209128\" xlink:href=\"#m2a876237f7\" y=\"77.005429\"/>\n     <use style=\"fill:#1f77b4;stroke:#1f77b4;\" x=\"120.942702\" xlink:href=\"#m2a876237f7\" y=\"64.723519\"/>\n     <use style=\"fill:#1f77b4;stroke:#1f77b4;\" x=\"128.711847\" xlink:href=\"#m2a876237f7\" y=\"84.676469\"/>\n     <use style=\"fill:#1f77b4;stroke:#1f77b4;\" x=\"116.521171\" xlink:href=\"#m2a876237f7\" y=\"64.034091\"/>\n     <use style=\"fill:#1f77b4;stroke:#1f77b4;\" x=\"97.001539\" xlink:href=\"#m2a876237f7\" y=\"35.371658\"/>\n     <use style=\"fill:#1f77b4;stroke:#1f77b4;\" x=\"166.747941\" xlink:href=\"#m2a876237f7\" y=\"136.922727\"/>\n     <use style=\"fill:#1f77b4;stroke:#1f77b4;\" x=\"155.525359\" xlink:href=\"#m2a876237f7\" y=\"98.987108\"/>\n     <use style=\"fill:#1f77b4;stroke:#1f77b4;\" x=\"115.380632\" xlink:href=\"#m2a876237f7\" y=\"52.971213\"/>\n     <use style=\"fill:#1f77b4;stroke:#1f77b4;\" x=\"127.336232\" xlink:href=\"#m2a876237f7\" y=\"84.317329\"/>\n     <use style=\"fill:#1f77b4;stroke:#1f77b4;\" x=\"117.956359\" xlink:href=\"#m2a876237f7\" y=\"70.193238\"/>\n     <use style=\"fill:#1f77b4;stroke:#1f77b4;\" x=\"51.160701\" xlink:href=\"#m2a876237f7\" y=\"18.216323\"/>\n     <use style=\"fill:#1f77b4;stroke:#1f77b4;\" x=\"127.330071\" xlink:href=\"#m2a876237f7\" y=\"74.287341\"/>\n     <use style=\"fill:#1f77b4;stroke:#1f77b4;\" x=\"85.237949\" xlink:href=\"#m2a876237f7\" y=\"41.939451\"/>\n     <use style=\"fill:#1f77b4;stroke:#1f77b4;\" x=\"158.593991\" xlink:href=\"#m2a876237f7\" y=\"97.221164\"/>\n     <use style=\"fill:#1f77b4;stroke:#1f77b4;\" x=\"146.02026\" xlink:href=\"#m2a876237f7\" y=\"89.9504\"/>\n     <use style=\"fill:#1f77b4;stroke:#1f77b4;\" x=\"150.519469\" xlink:href=\"#m2a876237f7\" y=\"94.472658\"/>\n     <use style=\"fill:#1f77b4;stroke:#1f77b4;\" x=\"147.118398\" xlink:href=\"#m2a876237f7\" y=\"107.609494\"/>\n     <use style=\"fill:#1f77b4;stroke:#1f77b4;\" x=\"147.358716\" xlink:href=\"#m2a876237f7\" y=\"93.446695\"/>\n     <use style=\"fill:#1f77b4;stroke:#1f77b4;\" x=\"155.02882\" xlink:href=\"#m2a876237f7\" y=\"84.901434\"/>\n     <use style=\"fill:#1f77b4;stroke:#1f77b4;\" x=\"165.401708\" xlink:href=\"#m2a876237f7\" y=\"95.849539\"/>\n     <use style=\"fill:#1f77b4;stroke:#1f77b4;\" x=\"147.832677\" xlink:href=\"#m2a876237f7\" y=\"113.438006\"/>\n     <use style=\"fill:#1f77b4;stroke:#1f77b4;\" x=\"126.746103\" xlink:href=\"#m2a876237f7\" y=\"95.636594\"/>\n     <use style=\"fill:#1f77b4;stroke:#1f77b4;\" x=\"188.467272\" xlink:href=\"#m2a876237f7\" y=\"103.465913\"/>\n     <use style=\"fill:#1f77b4;stroke:#1f77b4;\" x=\"170.503806\" xlink:href=\"#m2a876237f7\" y=\"108.756897\"/>\n     <use style=\"fill:#1f77b4;stroke:#1f77b4;\" x=\"159.19519\" xlink:href=\"#m2a876237f7\" y=\"102.970357\"/>\n     <use style=\"fill:#1f77b4;stroke:#1f77b4;\" x=\"125.754691\" xlink:href=\"#m2a876237f7\" y=\"56.414176\"/>\n     <use style=\"fill:#1f77b4;stroke:#1f77b4;\" x=\"94.94085\" xlink:href=\"#m2a876237f7\" y=\"83.614288\"/>\n     <use style=\"fill:#1f77b4;stroke:#1f77b4;\" x=\"104.656437\" xlink:href=\"#m2a876237f7\" y=\"75.911862\"/>\n     <use style=\"fill:#1f77b4;stroke:#1f77b4;\" x=\"72.691241\" xlink:href=\"#m2a876237f7\" y=\"23.207328\"/>\n     <use style=\"fill:#1f77b4;stroke:#1f77b4;\" x=\"199.565027\" xlink:href=\"#m2a876237f7\" y=\"130.425132\"/>\n     <use style=\"fill:#1f77b4;stroke:#1f77b4;\" x=\"162.452605\" xlink:href=\"#m2a876237f7\" y=\"124.32983\"/>\n     <use style=\"fill:#1f77b4;stroke:#1f77b4;\" x=\"124.783978\" xlink:href=\"#m2a876237f7\" y=\"59.81765\"/>\n     <use style=\"fill:#1f77b4;stroke:#1f77b4;\" x=\"117.553722\" xlink:href=\"#m2a876237f7\" y=\"73.955467\"/>\n     <use style=\"fill:#1f77b4;stroke:#1f77b4;\" x=\"143.640193\" xlink:href=\"#m2a876237f7\" y=\"88.302309\"/>\n     <use style=\"fill:#1f77b4;stroke:#1f77b4;\" x=\"70.820811\" xlink:href=\"#m2a876237f7\" y=\"43.541814\"/>\n     <use style=\"fill:#1f77b4;stroke:#1f77b4;\" x=\"147.792381\" xlink:href=\"#m2a876237f7\" y=\"89.859107\"/>\n     <use style=\"fill:#1f77b4;stroke:#1f77b4;\" x=\"145.936321\" xlink:href=\"#m2a876237f7\" y=\"94.745133\"/>\n     <use style=\"fill:#1f77b4;stroke:#1f77b4;\" x=\"141.932241\" xlink:href=\"#m2a876237f7\" y=\"71.343389\"/>\n     <use style=\"fill:#1f77b4;stroke:#1f77b4;\" x=\"117.25024\" xlink:href=\"#m2a876237f7\" y=\"59.110846\"/>\n     <use style=\"fill:#1f77b4;stroke:#1f77b4;\" x=\"151.884011\" xlink:href=\"#m2a876237f7\" y=\"102.644792\"/>\n     <use style=\"fill:#1f77b4;stroke:#1f77b4;\" x=\"117.320337\" xlink:href=\"#m2a876237f7\" y=\"74.290029\"/>\n     <use style=\"fill:#1f77b4;stroke:#1f77b4;\" x=\"171.242986\" xlink:href=\"#m2a876237f7\" y=\"119.216169\"/>\n     <use style=\"fill:#1f77b4;stroke:#1f77b4;\" x=\"100.070909\" xlink:href=\"#m2a876237f7\" y=\"58.39538\"/>\n     <use style=\"fill:#1f77b4;stroke:#1f77b4;\" x=\"107.698624\" xlink:href=\"#m2a876237f7\" y=\"75.196193\"/>\n     <use style=\"fill:#1f77b4;stroke:#1f77b4;\" x=\"134.346526\" xlink:href=\"#m2a876237f7\" y=\"97.732692\"/>\n     <use style=\"fill:#1f77b4;stroke:#1f77b4;\" x=\"128.34445\" xlink:href=\"#m2a876237f7\" y=\"78.820748\"/>\n     <use style=\"fill:#1f77b4;stroke:#1f77b4;\" x=\"136.456814\" xlink:href=\"#m2a876237f7\" y=\"82.744328\"/>\n     <use style=\"fill:#1f77b4;stroke:#1f77b4;\" x=\"142.429892\" xlink:href=\"#m2a876237f7\" y=\"83.447305\"/>\n     <use style=\"fill:#1f77b4;stroke:#1f77b4;\" x=\"163.743338\" xlink:href=\"#m2a876237f7\" y=\"95.031108\"/>\n     <use style=\"fill:#1f77b4;stroke:#1f77b4;\" x=\"102.467859\" xlink:href=\"#m2a876237f7\" y=\"45.489993\"/>\n     <use style=\"fill:#1f77b4;stroke:#1f77b4;\" x=\"154.00845\" xlink:href=\"#m2a876237f7\" y=\"78.334007\"/>\n     <use style=\"fill:#1f77b4;stroke:#1f77b4;\" x=\"83.934997\" xlink:href=\"#m2a876237f7\" y=\"49.582169\"/>\n     <use style=\"fill:#1f77b4;stroke:#1f77b4;\" x=\"138.067877\" xlink:href=\"#m2a876237f7\" y=\"76.307235\"/>\n     <use style=\"fill:#1f77b4;stroke:#1f77b4;\" x=\"92.814517\" xlink:href=\"#m2a876237f7\" y=\"46.465578\"/>\n     <use style=\"fill:#1f77b4;stroke:#1f77b4;\" x=\"114.665456\" xlink:href=\"#m2a876237f7\" y=\"63.493653\"/>\n     <use style=\"fill:#1f77b4;stroke:#1f77b4;\" x=\"144.962049\" xlink:href=\"#m2a876237f7\" y=\"93.812807\"/>\n     <use style=\"fill:#1f77b4;stroke:#1f77b4;\" x=\"150.349218\" xlink:href=\"#m2a876237f7\" y=\"112.068408\"/>\n     <use style=\"fill:#1f77b4;stroke:#1f77b4;\" x=\"161.245208\" xlink:href=\"#m2a876237f7\" y=\"105.588583\"/>\n     <use style=\"fill:#1f77b4;stroke:#1f77b4;\" x=\"143.845107\" xlink:href=\"#m2a876237f7\" y=\"72.562298\"/>\n     <use style=\"fill:#1f77b4;stroke:#1f77b4;\" x=\"170.273444\" xlink:href=\"#m2a876237f7\" y=\"113.35424\"/>\n     <use style=\"fill:#1f77b4;stroke:#1f77b4;\" x=\"103.684618\" xlink:href=\"#m2a876237f7\" y=\"61.114898\"/>\n     <use style=\"fill:#1f77b4;stroke:#1f77b4;\" x=\"90.479048\" xlink:href=\"#m2a876237f7\" y=\"45.590224\"/>\n     <use style=\"fill:#1f77b4;stroke:#1f77b4;\" x=\"112.512043\" xlink:href=\"#m2a876237f7\" y=\"70.690718\"/>\n     <use style=\"fill:#1f77b4;stroke:#1f77b4;\" x=\"125.606541\" xlink:href=\"#m2a876237f7\" y=\"67.292038\"/>\n     <use style=\"fill:#1f77b4;stroke:#1f77b4;\" x=\"92.216715\" xlink:href=\"#m2a876237f7\" y=\"69.704775\"/>\n     <use style=\"fill:#1f77b4;stroke:#1f77b4;\" x=\"188.570216\" xlink:href=\"#m2a876237f7\" y=\"133.145147\"/>\n     <use style=\"fill:#1f77b4;stroke:#1f77b4;\" x=\"143.212308\" xlink:href=\"#m2a876237f7\" y=\"114.235973\"/>\n     <use style=\"fill:#1f77b4;stroke:#1f77b4;\" x=\"184.208992\" xlink:href=\"#m2a876237f7\" y=\"110.173531\"/>\n     <use style=\"fill:#1f77b4;stroke:#1f77b4;\" x=\"154.832996\" xlink:href=\"#m2a876237f7\" y=\"97.400732\"/>\n     <use style=\"fill:#1f77b4;stroke:#1f77b4;\" x=\"113.749432\" xlink:href=\"#m2a876237f7\" y=\"68.954967\"/>\n     <use style=\"fill:#1f77b4;stroke:#1f77b4;\" x=\"136.15184\" xlink:href=\"#m2a876237f7\" y=\"102.631707\"/>\n     <use style=\"fill:#1f77b4;stroke:#1f77b4;\" x=\"104.835662\" xlink:href=\"#m2a876237f7\" y=\"69.091413\"/>\n     <use style=\"fill:#1f77b4;stroke:#1f77b4;\" x=\"87.526515\" xlink:href=\"#m2a876237f7\" y=\"36.694712\"/>\n     <use style=\"fill:#1f77b4;stroke:#1f77b4;\" x=\"145.090032\" xlink:href=\"#m2a876237f7\" y=\"78.621104\"/>\n     <use style=\"fill:#1f77b4;stroke:#1f77b4;\" x=\"120.202417\" xlink:href=\"#m2a876237f7\" y=\"72.402\"/>\n     <use style=\"fill:#1f77b4;stroke:#1f77b4;\" x=\"119.842616\" xlink:href=\"#m2a876237f7\" y=\"77.788447\"/>\n     <use style=\"fill:#1f77b4;stroke:#1f77b4;\" x=\"116.577425\" xlink:href=\"#m2a876237f7\" y=\"63.097827\"/>\n     <use style=\"fill:#1f77b4;stroke:#1f77b4;\" x=\"148.478156\" xlink:href=\"#m2a876237f7\" y=\"100.059492\"/>\n     <use style=\"fill:#1f77b4;stroke:#1f77b4;\" x=\"104.002633\" xlink:href=\"#m2a876237f7\" y=\"63.922856\"/>\n     <use style=\"fill:#1f77b4;stroke:#1f77b4;\" x=\"78.71952\" xlink:href=\"#m2a876237f7\" y=\"26.430348\"/>\n     <use style=\"fill:#1f77b4;stroke:#1f77b4;\" x=\"92.138822\" xlink:href=\"#m2a876237f7\" y=\"43.160778\"/>\n     <use style=\"fill:#1f77b4;stroke:#1f77b4;\" x=\"142.912198\" xlink:href=\"#m2a876237f7\" y=\"92.670885\"/>\n     <use style=\"fill:#1f77b4;stroke:#1f77b4;\" x=\"84.987622\" xlink:href=\"#m2a876237f7\" y=\"57.356582\"/>\n     <use style=\"fill:#1f77b4;stroke:#1f77b4;\" x=\"161.618938\" xlink:href=\"#m2a876237f7\" y=\"110.079539\"/>\n     <use style=\"fill:#1f77b4;stroke:#1f77b4;\" x=\"111.72645\" xlink:href=\"#m2a876237f7\" y=\"69.656938\"/>\n     <use style=\"fill:#1f77b4;stroke:#1f77b4;\" x=\"68.589251\" xlink:href=\"#m2a876237f7\" y=\"56.223755\"/>\n     <use style=\"fill:#1f77b4;stroke:#1f77b4;\" x=\"167.427947\" xlink:href=\"#m2a876237f7\" y=\"111.239189\"/>\n     <use style=\"fill:#1f77b4;stroke:#1f77b4;\" x=\"99.806276\" xlink:href=\"#m2a876237f7\" y=\"65.236548\"/>\n     <use style=\"fill:#1f77b4;stroke:#1f77b4;\" x=\"140.434744\" xlink:href=\"#m2a876237f7\" y=\"90.643897\"/>\n     <use style=\"fill:#1f77b4;stroke:#1f77b4;\" x=\"147.806981\" xlink:href=\"#m2a876237f7\" y=\"106.087806\"/>\n     <use style=\"fill:#1f77b4;stroke:#1f77b4;\" x=\"109.837501\" xlink:href=\"#m2a876237f7\" y=\"53.69526\"/>\n     <use style=\"fill:#1f77b4;stroke:#1f77b4;\" x=\"88.873027\" xlink:href=\"#m2a876237f7\" y=\"73.053962\"/>\n     <use style=\"fill:#1f77b4;stroke:#1f77b4;\" x=\"143.291568\" xlink:href=\"#m2a876237f7\" y=\"72.207157\"/>\n     <use style=\"fill:#1f77b4;stroke:#1f77b4;\" x=\"89.844217\" xlink:href=\"#m2a876237f7\" y=\"50.404801\"/>\n     <use style=\"fill:#1f77b4;stroke:#1f77b4;\" x=\"159.981561\" xlink:href=\"#m2a876237f7\" y=\"111.416045\"/>\n     <use style=\"fill:#1f77b4;stroke:#1f77b4;\" x=\"106.407888\" xlink:href=\"#m2a876237f7\" y=\"64.783626\"/>\n     <use style=\"fill:#1f77b4;stroke:#1f77b4;\" x=\"126.983954\" xlink:href=\"#m2a876237f7\" y=\"73.422397\"/>\n     <use style=\"fill:#1f77b4;stroke:#1f77b4;\" x=\"37.81946\" xlink:href=\"#m2a876237f7\" y=\"26.773376\"/>\n     <use style=\"fill:#1f77b4;stroke:#1f77b4;\" x=\"124.128197\" xlink:href=\"#m2a876237f7\" y=\"83.919465\"/>\n     <use style=\"fill:#1f77b4;stroke:#1f77b4;\" x=\"71.20218\" xlink:href=\"#m2a876237f7\" y=\"54.413405\"/>\n     <use style=\"fill:#1f77b4;stroke:#1f77b4;\" x=\"60.781878\" xlink:href=\"#m2a876237f7\" y=\"45.417104\"/>\n     <use style=\"fill:#1f77b4;stroke:#1f77b4;\" x=\"108.816029\" xlink:href=\"#m2a876237f7\" y=\"40.636708\"/>\n     <use style=\"fill:#1f77b4;stroke:#1f77b4;\" x=\"87.738725\" xlink:href=\"#m2a876237f7\" y=\"32.17412\"/>\n     <use style=\"fill:#1f77b4;stroke:#1f77b4;\" x=\"111.249301\" xlink:href=\"#m2a876237f7\" y=\"47.550543\"/>\n     <use style=\"fill:#1f77b4;stroke:#1f77b4;\" x=\"163.90505\" xlink:href=\"#m2a876237f7\" y=\"106.886253\"/>\n     <use style=\"fill:#1f77b4;stroke:#1f77b4;\" x=\"74.412061\" xlink:href=\"#m2a876237f7\" y=\"38.957129\"/>\n     <use style=\"fill:#1f77b4;stroke:#1f77b4;\" x=\"80.603146\" xlink:href=\"#m2a876237f7\" y=\"23.16192\"/>\n     <use style=\"fill:#1f77b4;stroke:#1f77b4;\" x=\"105.692389\" xlink:href=\"#m2a876237f7\" y=\"81.299404\"/>\n     <use style=\"fill:#1f77b4;stroke:#1f77b4;\" x=\"124.487168\" xlink:href=\"#m2a876237f7\" y=\"94.311872\"/>\n     <use style=\"fill:#1f77b4;stroke:#1f77b4;\" x=\"108.836228\" xlink:href=\"#m2a876237f7\" y=\"61.723122\"/>\n     <use style=\"fill:#1f77b4;stroke:#1f77b4;\" x=\"135.161819\" xlink:href=\"#m2a876237f7\" y=\"76.691885\"/>\n     <use style=\"fill:#1f77b4;stroke:#1f77b4;\" x=\"72.409309\" xlink:href=\"#m2a876237f7\" y=\"54.177586\"/>\n     <use style=\"fill:#1f77b4;stroke:#1f77b4;\" x=\"126.46205\" xlink:href=\"#m2a876237f7\" y=\"92.836172\"/>\n     <use style=\"fill:#1f77b4;stroke:#1f77b4;\" x=\"110.997176\" xlink:href=\"#m2a876237f7\" y=\"81.131154\"/>\n     <use style=\"fill:#1f77b4;stroke:#1f77b4;\" x=\"146.55721\" xlink:href=\"#m2a876237f7\" y=\"88.646302\"/>\n     <use style=\"fill:#1f77b4;stroke:#1f77b4;\" x=\"135.436081\" xlink:href=\"#m2a876237f7\" y=\"75.587295\"/>\n     <use style=\"fill:#1f77b4;stroke:#1f77b4;\" x=\"142.848157\" xlink:href=\"#m2a876237f7\" y=\"73.10626\"/>\n     <use style=\"fill:#1f77b4;stroke:#1f77b4;\" x=\"117.125873\" xlink:href=\"#m2a876237f7\" y=\"67.432798\"/>\n     <use style=\"fill:#1f77b4;stroke:#1f77b4;\" x=\"96.389101\" xlink:href=\"#m2a876237f7\" y=\"52.84092\"/>\n     <use style=\"fill:#1f77b4;stroke:#1f77b4;\" x=\"110.450485\" xlink:href=\"#m2a876237f7\" y=\"75.294265\"/>\n     <use style=\"fill:#1f77b4;stroke:#1f77b4;\" x=\"95.712657\" xlink:href=\"#m2a876237f7\" y=\"66.92555\"/>\n     <use style=\"fill:#1f77b4;stroke:#1f77b4;\" x=\"90.183278\" xlink:href=\"#m2a876237f7\" y=\"55.236972\"/>\n     <use style=\"fill:#1f77b4;stroke:#1f77b4;\" x=\"143.86628\" xlink:href=\"#m2a876237f7\" y=\"91.404646\"/>\n     <use style=\"fill:#1f77b4;stroke:#1f77b4;\" x=\"89.877288\" xlink:href=\"#m2a876237f7\" y=\"75.632262\"/>\n     <use style=\"fill:#1f77b4;stroke:#1f77b4;\" x=\"121.57469\" xlink:href=\"#m2a876237f7\" y=\"68.331087\"/>\n     <use style=\"fill:#1f77b4;stroke:#1f77b4;\" x=\"133.988034\" xlink:href=\"#m2a876237f7\" y=\"70.080389\"/>\n     <use style=\"fill:#1f77b4;stroke:#1f77b4;\" x=\"204.154465\" xlink:href=\"#m2a876237f7\" y=\"134.624854\"/>\n     <use style=\"fill:#1f77b4;stroke:#1f77b4;\" x=\"105.855193\" xlink:href=\"#m2a876237f7\" y=\"72.192174\"/>\n     <use style=\"fill:#1f77b4;stroke:#1f77b4;\" x=\"127.172997\" xlink:href=\"#m2a876237f7\" y=\"65.371423\"/>\n     <use style=\"fill:#1f77b4;stroke:#1f77b4;\" x=\"103.167818\" xlink:href=\"#m2a876237f7\" y=\"65.291841\"/>\n     <use style=\"fill:#1f77b4;stroke:#1f77b4;\" x=\"112.194352\" xlink:href=\"#m2a876237f7\" y=\"80.659525\"/>\n     <use style=\"fill:#1f77b4;stroke:#1f77b4;\" x=\"67.189135\" xlink:href=\"#m2a876237f7\" y=\"43.128392\"/>\n     <use style=\"fill:#1f77b4;stroke:#1f77b4;\" x=\"101.036311\" xlink:href=\"#m2a876237f7\" y=\"49.083062\"/>\n     <use style=\"fill:#1f77b4;stroke:#1f77b4;\" x=\"132.900404\" xlink:href=\"#m2a876237f7\" y=\"90.19562\"/>\n     <use style=\"fill:#1f77b4;stroke:#1f77b4;\" x=\"121.71199\" xlink:href=\"#m2a876237f7\" y=\"85.22723\"/>\n     <use style=\"fill:#1f77b4;stroke:#1f77b4;\" x=\"156.798289\" xlink:href=\"#m2a876237f7\" y=\"82.182009\"/>\n     <use style=\"fill:#1f77b4;stroke:#1f77b4;\" x=\"142.943234\" xlink:href=\"#m2a876237f7\" y=\"89.934953\"/>\n     <use style=\"fill:#1f77b4;stroke:#1f77b4;\" x=\"135.307966\" xlink:href=\"#m2a876237f7\" y=\"77.833093\"/>\n     <use style=\"fill:#1f77b4;stroke:#1f77b4;\" x=\"104.082171\" xlink:href=\"#m2a876237f7\" y=\"32.830905\"/>\n     <use style=\"fill:#1f77b4;stroke:#1f77b4;\" x=\"152.819044\" xlink:href=\"#m2a876237f7\" y=\"97.311067\"/>\n     <use style=\"fill:#1f77b4;stroke:#1f77b4;\" x=\"146.315065\" xlink:href=\"#m2a876237f7\" y=\"100.577529\"/>\n     <use style=\"fill:#1f77b4;stroke:#1f77b4;\" x=\"123.088194\" xlink:href=\"#m2a876237f7\" y=\"78.568652\"/>\n     <use style=\"fill:#1f77b4;stroke:#1f77b4;\" x=\"93.470811\" xlink:href=\"#m2a876237f7\" y=\"49.877908\"/>\n     <use style=\"fill:#1f77b4;stroke:#1f77b4;\" x=\"144.380811\" xlink:href=\"#m2a876237f7\" y=\"93.296235\"/>\n     <use style=\"fill:#1f77b4;stroke:#1f77b4;\" x=\"125.073344\" xlink:href=\"#m2a876237f7\" y=\"68.137649\"/>\n     <use style=\"fill:#1f77b4;stroke:#1f77b4;\" x=\"116.140406\" xlink:href=\"#m2a876237f7\" y=\"70.896299\"/>\n     <use style=\"fill:#1f77b4;stroke:#1f77b4;\" x=\"57.90519\" xlink:href=\"#m2a876237f7\" y=\"42.553447\"/>\n     <use style=\"fill:#1f77b4;stroke:#1f77b4;\" x=\"181.86457\" xlink:href=\"#m2a876237f7\" y=\"112.851333\"/>\n     <use style=\"fill:#1f77b4;stroke:#1f77b4;\" x=\"142.681551\" xlink:href=\"#m2a876237f7\" y=\"99.067091\"/>\n     <use style=\"fill:#1f77b4;stroke:#1f77b4;\" x=\"125.313076\" xlink:href=\"#m2a876237f7\" y=\"64.850012\"/>\n     <use style=\"fill:#1f77b4;stroke:#1f77b4;\" x=\"95.82642\" xlink:href=\"#m2a876237f7\" y=\"47.093392\"/>\n     <use style=\"fill:#1f77b4;stroke:#1f77b4;\" x=\"155.472789\" xlink:href=\"#m2a876237f7\" y=\"104.448409\"/>\n     <use style=\"fill:#1f77b4;stroke:#1f77b4;\" x=\"107.951468\" xlink:href=\"#m2a876237f7\" y=\"72.039287\"/>\n     <use style=\"fill:#1f77b4;stroke:#1f77b4;\" x=\"162.408019\" xlink:href=\"#m2a876237f7\" y=\"113.520621\"/>\n     <use style=\"fill:#1f77b4;stroke:#1f77b4;\" x=\"168.971985\" xlink:href=\"#m2a876237f7\" y=\"105.430053\"/>\n     <use style=\"fill:#1f77b4;stroke:#1f77b4;\" x=\"90.641935\" xlink:href=\"#m2a876237f7\" y=\"23.592216\"/>\n     <use style=\"fill:#1f77b4;stroke:#1f77b4;\" x=\"115.708147\" xlink:href=\"#m2a876237f7\" y=\"76.648362\"/>\n     <use style=\"fill:#1f77b4;stroke:#1f77b4;\" x=\"92.89896\" xlink:href=\"#m2a876237f7\" y=\"50.239697\"/>\n     <use style=\"fill:#1f77b4;stroke:#1f77b4;\" x=\"158.980361\" xlink:href=\"#m2a876237f7\" y=\"105.208945\"/>\n     <use style=\"fill:#1f77b4;stroke:#1f77b4;\" x=\"124.679346\" xlink:href=\"#m2a876237f7\" y=\"94.077405\"/>\n     <use style=\"fill:#1f77b4;stroke:#1f77b4;\" x=\"93.957111\" xlink:href=\"#m2a876237f7\" y=\"50.088961\"/>\n     <use style=\"fill:#1f77b4;stroke:#1f77b4;\" x=\"155.674119\" xlink:href=\"#m2a876237f7\" y=\"112.274917\"/>\n     <use style=\"fill:#1f77b4;stroke:#1f77b4;\" x=\"148.924823\" xlink:href=\"#m2a876237f7\" y=\"85.071095\"/>\n     <use style=\"fill:#1f77b4;stroke:#1f77b4;\" x=\"137.625627\" xlink:href=\"#m2a876237f7\" y=\"83.754516\"/>\n     <use style=\"fill:#1f77b4;stroke:#1f77b4;\" x=\"125.393823\" xlink:href=\"#m2a876237f7\" y=\"71.790847\"/>\n     <use style=\"fill:#1f77b4;stroke:#1f77b4;\" x=\"129.113469\" xlink:href=\"#m2a876237f7\" y=\"74.708745\"/>\n     <use style=\"fill:#1f77b4;stroke:#1f77b4;\" x=\"161.59948\" xlink:href=\"#m2a876237f7\" y=\"110.429568\"/>\n     <use style=\"fill:#1f77b4;stroke:#1f77b4;\" x=\"112.511083\" xlink:href=\"#m2a876237f7\" y=\"68.860205\"/>\n     <use style=\"fill:#1f77b4;stroke:#1f77b4;\" x=\"169.786533\" xlink:href=\"#m2a876237f7\" y=\"113.294005\"/>\n     <use style=\"fill:#1f77b4;stroke:#1f77b4;\" x=\"108.550846\" xlink:href=\"#m2a876237f7\" y=\"68.179774\"/>\n     <use style=\"fill:#1f77b4;stroke:#1f77b4;\" x=\"117.475969\" xlink:href=\"#m2a876237f7\" y=\"66.139552\"/>\n     <use style=\"fill:#1f77b4;stroke:#1f77b4;\" x=\"165.490683\" xlink:href=\"#m2a876237f7\" y=\"110.786581\"/>\n     <use style=\"fill:#1f77b4;stroke:#1f77b4;\" x=\"122.849954\" xlink:href=\"#m2a876237f7\" y=\"77.020751\"/>\n     <use style=\"fill:#1f77b4;stroke:#1f77b4;\" x=\"84.384593\" xlink:href=\"#m2a876237f7\" y=\"59.942171\"/>\n     <use style=\"fill:#1f77b4;stroke:#1f77b4;\" x=\"118.770956\" xlink:href=\"#m2a876237f7\" y=\"82.625443\"/>\n     <use style=\"fill:#1f77b4;stroke:#1f77b4;\" x=\"102.463635\" xlink:href=\"#m2a876237f7\" y=\"63.260485\"/>\n     <use style=\"fill:#1f77b4;stroke:#1f77b4;\" x=\"144.865678\" xlink:href=\"#m2a876237f7\" y=\"89.255317\"/>\n     <use style=\"fill:#1f77b4;stroke:#1f77b4;\" x=\"130.931033\" xlink:href=\"#m2a876237f7\" y=\"68.811479\"/>\n     <use style=\"fill:#1f77b4;stroke:#1f77b4;\" x=\"167.758279\" xlink:href=\"#m2a876237f7\" y=\"80.487853\"/>\n     <use style=\"fill:#1f77b4;stroke:#1f77b4;\" x=\"94.383049\" xlink:href=\"#m2a876237f7\" y=\"67.146167\"/>\n     <use style=\"fill:#1f77b4;stroke:#1f77b4;\" x=\"82.282492\" xlink:href=\"#m2a876237f7\" y=\"37.170998\"/>\n     <use style=\"fill:#1f77b4;stroke:#1f77b4;\" x=\"136.656028\" xlink:href=\"#m2a876237f7\" y=\"76.687044\"/>\n     <use style=\"fill:#1f77b4;stroke:#1f77b4;\" x=\"60.593762\" xlink:href=\"#m2a876237f7\" y=\"32.572794\"/>\n     <use style=\"fill:#1f77b4;stroke:#1f77b4;\" x=\"111.454924\" xlink:href=\"#m2a876237f7\" y=\"58.217753\"/>\n     <use style=\"fill:#1f77b4;stroke:#1f77b4;\" x=\"183.793313\" xlink:href=\"#m2a876237f7\" y=\"133.756497\"/>\n     <use style=\"fill:#1f77b4;stroke:#1f77b4;\" x=\"100.707771\" xlink:href=\"#m2a876237f7\" y=\"69.702162\"/>\n     <use style=\"fill:#1f77b4;stroke:#1f77b4;\" x=\"168.430409\" xlink:href=\"#m2a876237f7\" y=\"109.967979\"/>\n     <use style=\"fill:#1f77b4;stroke:#1f77b4;\" x=\"134.90277\" xlink:href=\"#m2a876237f7\" y=\"61.254685\"/>\n     <use style=\"fill:#1f77b4;stroke:#1f77b4;\" x=\"132.858585\" xlink:href=\"#m2a876237f7\" y=\"83.199423\"/>\n     <use style=\"fill:#1f77b4;stroke:#1f77b4;\" x=\"104.602288\" xlink:href=\"#m2a876237f7\" y=\"71.849619\"/>\n     <use style=\"fill:#1f77b4;stroke:#1f77b4;\" x=\"163.970541\" xlink:href=\"#m2a876237f7\" y=\"107.660703\"/>\n     <use style=\"fill:#1f77b4;stroke:#1f77b4;\" x=\"97.364251\" xlink:href=\"#m2a876237f7\" y=\"70.001649\"/>\n     <use style=\"fill:#1f77b4;stroke:#1f77b4;\" x=\"111.748892\" xlink:href=\"#m2a876237f7\" y=\"88.009472\"/>\n     <use style=\"fill:#1f77b4;stroke:#1f77b4;\" x=\"59.304117\" xlink:href=\"#m2a876237f7\" y=\"42.524347\"/>\n     <use style=\"fill:#1f77b4;stroke:#1f77b4;\" x=\"82.120357\" xlink:href=\"#m2a876237f7\" y=\"44.1931\"/>\n     <use style=\"fill:#1f77b4;stroke:#1f77b4;\" x=\"97.370725\" xlink:href=\"#m2a876237f7\" y=\"64.172463\"/>\n     <use style=\"fill:#1f77b4;stroke:#1f77b4;\" x=\"106.939252\" xlink:href=\"#m2a876237f7\" y=\"54.237355\"/>\n     <use style=\"fill:#1f77b4;stroke:#1f77b4;\" x=\"122.930807\" xlink:href=\"#m2a876237f7\" y=\"72.2968\"/>\n     <use style=\"fill:#1f77b4;stroke:#1f77b4;\" x=\"133.63013\" xlink:href=\"#m2a876237f7\" y=\"85.939559\"/>\n     <use style=\"fill:#1f77b4;stroke:#1f77b4;\" x=\"117.970917\" xlink:href=\"#m2a876237f7\" y=\"80.622253\"/>\n     <use style=\"fill:#1f77b4;stroke:#1f77b4;\" x=\"117.333095\" xlink:href=\"#m2a876237f7\" y=\"54.969457\"/>\n     <use style=\"fill:#1f77b4;stroke:#1f77b4;\" x=\"148.586833\" xlink:href=\"#m2a876237f7\" y=\"91.048058\"/>\n     <use style=\"fill:#1f77b4;stroke:#1f77b4;\" x=\"98.470188\" xlink:href=\"#m2a876237f7\" y=\"63.104843\"/>\n     <use style=\"fill:#1f77b4;stroke:#1f77b4;\" x=\"112.651316\" xlink:href=\"#m2a876237f7\" y=\"63.402794\"/>\n     <use style=\"fill:#1f77b4;stroke:#1f77b4;\" x=\"107.492787\" xlink:href=\"#m2a876237f7\" y=\"49.111718\"/>\n     <use style=\"fill:#1f77b4;stroke:#1f77b4;\" x=\"122.032519\" xlink:href=\"#m2a876237f7\" y=\"71.693192\"/>\n     <use style=\"fill:#1f77b4;stroke:#1f77b4;\" x=\"109.180952\" xlink:href=\"#m2a876237f7\" y=\"73.570085\"/>\n     <use style=\"fill:#1f77b4;stroke:#1f77b4;\" x=\"110.023008\" xlink:href=\"#m2a876237f7\" y=\"58.139051\"/>\n     <use style=\"fill:#1f77b4;stroke:#1f77b4;\" x=\"102.449471\" xlink:href=\"#m2a876237f7\" y=\"61.958433\"/>\n     <use style=\"fill:#1f77b4;stroke:#1f77b4;\" x=\"129.49879\" xlink:href=\"#m2a876237f7\" y=\"75.937029\"/>\n     <use style=\"fill:#1f77b4;stroke:#1f77b4;\" x=\"120.208539\" xlink:href=\"#m2a876237f7\" y=\"47.888425\"/>\n     <use style=\"fill:#1f77b4;stroke:#1f77b4;\" x=\"171.011455\" xlink:href=\"#m2a876237f7\" y=\"107.325334\"/>\n     <use style=\"fill:#1f77b4;stroke:#1f77b4;\" x=\"107.243356\" xlink:href=\"#m2a876237f7\" y=\"57.953297\"/>\n     <use style=\"fill:#1f77b4;stroke:#1f77b4;\" x=\"90.469353\" xlink:href=\"#m2a876237f7\" y=\"57.766774\"/>\n     <use style=\"fill:#1f77b4;stroke:#1f77b4;\" x=\"132.209246\" xlink:href=\"#m2a876237f7\" y=\"76.043079\"/>\n     <use style=\"fill:#1f77b4;stroke:#1f77b4;\" x=\"119.566301\" xlink:href=\"#m2a876237f7\" y=\"81.661129\"/>\n     <use style=\"fill:#1f77b4;stroke:#1f77b4;\" x=\"86.904867\" xlink:href=\"#m2a876237f7\" y=\"44.548321\"/>\n     <use style=\"fill:#1f77b4;stroke:#1f77b4;\" x=\"52.075551\" xlink:href=\"#m2a876237f7\" y=\"40.779899\"/>\n     <use style=\"fill:#1f77b4;stroke:#1f77b4;\" x=\"158.961433\" xlink:href=\"#m2a876237f7\" y=\"94.461466\"/>\n     <use style=\"fill:#1f77b4;stroke:#1f77b4;\" x=\"142.413527\" xlink:href=\"#m2a876237f7\" y=\"85.596957\"/>\n     <use style=\"fill:#1f77b4;stroke:#1f77b4;\" x=\"68.536651\" xlink:href=\"#m2a876237f7\" y=\"33.724556\"/>\n     <use style=\"fill:#1f77b4;stroke:#1f77b4;\" x=\"96.46264\" xlink:href=\"#m2a876237f7\" y=\"51.602906\"/>\n     <use style=\"fill:#1f77b4;stroke:#1f77b4;\" x=\"105.504808\" xlink:href=\"#m2a876237f7\" y=\"47.734729\"/>\n     <use style=\"fill:#1f77b4;stroke:#1f77b4;\" x=\"154.84627\" xlink:href=\"#m2a876237f7\" y=\"96.302752\"/>\n     <use style=\"fill:#1f77b4;stroke:#1f77b4;\" x=\"155.601376\" xlink:href=\"#m2a876237f7\" y=\"101.849853\"/>\n     <use style=\"fill:#1f77b4;stroke:#1f77b4;\" x=\"163.222241\" xlink:href=\"#m2a876237f7\" y=\"103.297798\"/>\n     <use style=\"fill:#1f77b4;stroke:#1f77b4;\" x=\"124.636615\" xlink:href=\"#m2a876237f7\" y=\"67.519673\"/>\n     <use style=\"fill:#1f77b4;stroke:#1f77b4;\" x=\"168.429781\" xlink:href=\"#m2a876237f7\" y=\"103.562988\"/>\n     <use style=\"fill:#1f77b4;stroke:#1f77b4;\" x=\"132.495336\" xlink:href=\"#m2a876237f7\" y=\"71.948172\"/>\n     <use style=\"fill:#1f77b4;stroke:#1f77b4;\" x=\"98.141007\" xlink:href=\"#m2a876237f7\" y=\"56.395573\"/>\n     <use style=\"fill:#1f77b4;stroke:#1f77b4;\" x=\"153.054869\" xlink:href=\"#m2a876237f7\" y=\"104.745403\"/>\n     <use style=\"fill:#1f77b4;stroke:#1f77b4;\" x=\"192.384758\" xlink:href=\"#m2a876237f7\" y=\"114.163134\"/>\n     <use style=\"fill:#1f77b4;stroke:#1f77b4;\" x=\"108.925628\" xlink:href=\"#m2a876237f7\" y=\"65.548499\"/>\n     <use style=\"fill:#1f77b4;stroke:#1f77b4;\" x=\"151.498169\" xlink:href=\"#m2a876237f7\" y=\"89.1557\"/>\n     <use style=\"fill:#1f77b4;stroke:#1f77b4;\" x=\"115.056211\" xlink:href=\"#m2a876237f7\" y=\"75.556699\"/>\n     <use style=\"fill:#1f77b4;stroke:#1f77b4;\" x=\"84.949793\" xlink:href=\"#m2a876237f7\" y=\"65.204135\"/>\n     <use style=\"fill:#1f77b4;stroke:#1f77b4;\" x=\"118.066556\" xlink:href=\"#m2a876237f7\" y=\"75.63475\"/>\n     <use style=\"fill:#1f77b4;stroke:#1f77b4;\" x=\"169.84995\" xlink:href=\"#m2a876237f7\" y=\"125.045245\"/>\n     <use style=\"fill:#1f77b4;stroke:#1f77b4;\" x=\"103.914513\" xlink:href=\"#m2a876237f7\" y=\"41.959826\"/>\n     <use style=\"fill:#1f77b4;stroke:#1f77b4;\" x=\"169.593092\" xlink:href=\"#m2a876237f7\" y=\"106.31677\"/>\n     <use style=\"fill:#1f77b4;stroke:#1f77b4;\" x=\"104.255762\" xlink:href=\"#m2a876237f7\" y=\"71.26191\"/>\n     <use style=\"fill:#1f77b4;stroke:#1f77b4;\" x=\"99.128464\" xlink:href=\"#m2a876237f7\" y=\"35.670357\"/>\n     <use style=\"fill:#1f77b4;stroke:#1f77b4;\" x=\"134.279312\" xlink:href=\"#m2a876237f7\" y=\"83.58585\"/>\n     <use style=\"fill:#1f77b4;stroke:#1f77b4;\" x=\"161.704409\" xlink:href=\"#m2a876237f7\" y=\"107.043097\"/>\n     <use style=\"fill:#1f77b4;stroke:#1f77b4;\" x=\"111.368366\" xlink:href=\"#m2a876237f7\" y=\"40.866969\"/>\n     <use style=\"fill:#1f77b4;stroke:#1f77b4;\" x=\"146.839597\" xlink:href=\"#m2a876237f7\" y=\"77.66703\"/>\n     <use style=\"fill:#1f77b4;stroke:#1f77b4;\" x=\"90.467792\" xlink:href=\"#m2a876237f7\" y=\"54.733096\"/>\n     <use style=\"fill:#1f77b4;stroke:#1f77b4;\" x=\"111.575268\" xlink:href=\"#m2a876237f7\" y=\"68.494476\"/>\n     <use style=\"fill:#1f77b4;stroke:#1f77b4;\" x=\"131.920194\" xlink:href=\"#m2a876237f7\" y=\"116.242231\"/>\n     <use style=\"fill:#1f77b4;stroke:#1f77b4;\" x=\"148.843146\" xlink:href=\"#m2a876237f7\" y=\"91.102854\"/>\n     <use style=\"fill:#1f77b4;stroke:#1f77b4;\" x=\"146.930433\" xlink:href=\"#m2a876237f7\" y=\"97.128243\"/>\n     <use style=\"fill:#1f77b4;stroke:#1f77b4;\" x=\"97.731853\" xlink:href=\"#m2a876237f7\" y=\"76.812084\"/>\n     <use style=\"fill:#1f77b4;stroke:#1f77b4;\" x=\"162.905629\" xlink:href=\"#m2a876237f7\" y=\"99.616236\"/>\n     <use style=\"fill:#1f77b4;stroke:#1f77b4;\" x=\"174.770298\" xlink:href=\"#m2a876237f7\" y=\"101.306948\"/>\n     <use style=\"fill:#1f77b4;stroke:#1f77b4;\" x=\"109.697553\" xlink:href=\"#m2a876237f7\" y=\"57.032489\"/>\n     <use style=\"fill:#1f77b4;stroke:#1f77b4;\" x=\"125.532686\" xlink:href=\"#m2a876237f7\" y=\"96.019004\"/>\n     <use style=\"fill:#1f77b4;stroke:#1f77b4;\" x=\"133.86405\" xlink:href=\"#m2a876237f7\" y=\"92.127952\"/>\n     <use style=\"fill:#1f77b4;stroke:#1f77b4;\" x=\"117.875598\" xlink:href=\"#m2a876237f7\" y=\"52.502434\"/>\n     <use style=\"fill:#1f77b4;stroke:#1f77b4;\" x=\"116.617423\" xlink:href=\"#m2a876237f7\" y=\"68.70388\"/>\n     <use style=\"fill:#1f77b4;stroke:#1f77b4;\" x=\"107.304195\" xlink:href=\"#m2a876237f7\" y=\"47.659157\"/>\n     <use style=\"fill:#1f77b4;stroke:#1f77b4;\" x=\"126.318687\" xlink:href=\"#m2a876237f7\" y=\"69.15478\"/>\n     <use style=\"fill:#1f77b4;stroke:#1f77b4;\" x=\"102.006026\" xlink:href=\"#m2a876237f7\" y=\"71.571043\"/>\n     <use style=\"fill:#1f77b4;stroke:#1f77b4;\" x=\"87.456682\" xlink:href=\"#m2a876237f7\" y=\"33.420401\"/>\n     <use style=\"fill:#1f77b4;stroke:#1f77b4;\" x=\"108.381128\" xlink:href=\"#m2a876237f7\" y=\"71.585125\"/>\n     <use style=\"fill:#1f77b4;stroke:#1f77b4;\" x=\"131.015768\" xlink:href=\"#m2a876237f7\" y=\"77.479811\"/>\n     <use style=\"fill:#1f77b4;stroke:#1f77b4;\" x=\"135.407048\" xlink:href=\"#m2a876237f7\" y=\"83.661551\"/>\n     <use style=\"fill:#1f77b4;stroke:#1f77b4;\" x=\"151.873476\" xlink:href=\"#m2a876237f7\" y=\"78.139468\"/>\n     <use style=\"fill:#1f77b4;stroke:#1f77b4;\" x=\"145.837485\" xlink:href=\"#m2a876237f7\" y=\"95.060458\"/>\n     <use style=\"fill:#1f77b4;stroke:#1f77b4;\" x=\"144.808241\" xlink:href=\"#m2a876237f7\" y=\"92.437002\"/>\n     <use style=\"fill:#1f77b4;stroke:#1f77b4;\" x=\"101.058859\" xlink:href=\"#m2a876237f7\" y=\"55.840908\"/>\n     <use style=\"fill:#1f77b4;stroke:#1f77b4;\" x=\"139.947012\" xlink:href=\"#m2a876237f7\" y=\"87.415153\"/>\n     <use style=\"fill:#1f77b4;stroke:#1f77b4;\" x=\"89.005276\" xlink:href=\"#m2a876237f7\" y=\"45.81527\"/>\n     <use style=\"fill:#1f77b4;stroke:#1f77b4;\" x=\"78.746652\" xlink:href=\"#m2a876237f7\" y=\"59.949695\"/>\n     <use style=\"fill:#1f77b4;stroke:#1f77b4;\" x=\"98.861947\" xlink:href=\"#m2a876237f7\" y=\"44.873342\"/>\n     <use style=\"fill:#1f77b4;stroke:#1f77b4;\" x=\"185.441538\" xlink:href=\"#m2a876237f7\" y=\"122.403599\"/>\n     <use style=\"fill:#1f77b4;stroke:#1f77b4;\" x=\"103.211933\" xlink:href=\"#m2a876237f7\" y=\"41.90169\"/>\n     <use style=\"fill:#1f77b4;stroke:#1f77b4;\" x=\"106.309207\" xlink:href=\"#m2a876237f7\" y=\"68.766721\"/>\n     <use style=\"fill:#1f77b4;stroke:#1f77b4;\" x=\"133.721755\" xlink:href=\"#m2a876237f7\" y=\"89.840383\"/>\n     <use style=\"fill:#1f77b4;stroke:#1f77b4;\" x=\"146.030961\" xlink:href=\"#m2a876237f7\" y=\"87.578033\"/>\n     <use style=\"fill:#1f77b4;stroke:#1f77b4;\" x=\"141.134854\" xlink:href=\"#m2a876237f7\" y=\"92.443149\"/>\n     <use style=\"fill:#1f77b4;stroke:#1f77b4;\" x=\"127.630098\" xlink:href=\"#m2a876237f7\" y=\"73.589909\"/>\n     <use style=\"fill:#1f77b4;stroke:#1f77b4;\" x=\"130.544638\" xlink:href=\"#m2a876237f7\" y=\"79.391327\"/>\n     <use style=\"fill:#1f77b4;stroke:#1f77b4;\" x=\"156.706054\" xlink:href=\"#m2a876237f7\" y=\"103.687965\"/>\n     <use style=\"fill:#1f77b4;stroke:#1f77b4;\" x=\"87.191657\" xlink:href=\"#m2a876237f7\" y=\"46.114044\"/>\n     <use style=\"fill:#1f77b4;stroke:#1f77b4;\" x=\"103.070001\" xlink:href=\"#m2a876237f7\" y=\"55.795613\"/>\n     <use style=\"fill:#1f77b4;stroke:#1f77b4;\" x=\"131.709014\" xlink:href=\"#m2a876237f7\" y=\"67.140695\"/>\n     <use style=\"fill:#1f77b4;stroke:#1f77b4;\" x=\"100.747515\" xlink:href=\"#m2a876237f7\" y=\"58.273298\"/>\n     <use style=\"fill:#1f77b4;stroke:#1f77b4;\" x=\"134.387184\" xlink:href=\"#m2a876237f7\" y=\"89.586429\"/>\n     <use style=\"fill:#1f77b4;stroke:#1f77b4;\" x=\"54.665174\" xlink:href=\"#m2a876237f7\" y=\"23.783941\"/>\n     <use style=\"fill:#1f77b4;stroke:#1f77b4;\" x=\"80.600752\" xlink:href=\"#m2a876237f7\" y=\"31.905248\"/>\n     <use style=\"fill:#1f77b4;stroke:#1f77b4;\" x=\"103.305136\" xlink:href=\"#m2a876237f7\" y=\"63.619556\"/>\n     <use style=\"fill:#1f77b4;stroke:#1f77b4;\" x=\"123.895736\" xlink:href=\"#m2a876237f7\" y=\"76.923951\"/>\n     <use style=\"fill:#1f77b4;stroke:#1f77b4;\" x=\"105.01635\" xlink:href=\"#m2a876237f7\" y=\"79.087521\"/>\n     <use style=\"fill:#1f77b4;stroke:#1f77b4;\" x=\"130.1429\" xlink:href=\"#m2a876237f7\" y=\"88.623964\"/>\n     <use style=\"fill:#1f77b4;stroke:#1f77b4;\" x=\"133.502633\" xlink:href=\"#m2a876237f7\" y=\"76.945815\"/>\n     <use style=\"fill:#1f77b4;stroke:#1f77b4;\" x=\"172.118154\" xlink:href=\"#m2a876237f7\" y=\"109.062824\"/>\n     <use style=\"fill:#1f77b4;stroke:#1f77b4;\" x=\"127.401185\" xlink:href=\"#m2a876237f7\" y=\"61.959689\"/>\n     <use style=\"fill:#1f77b4;stroke:#1f77b4;\" x=\"182.27111\" xlink:href=\"#m2a876237f7\" y=\"102.541123\"/>\n     <use style=\"fill:#1f77b4;stroke:#1f77b4;\" x=\"105.295509\" xlink:href=\"#m2a876237f7\" y=\"59.338764\"/>\n     <use style=\"fill:#1f77b4;stroke:#1f77b4;\" x=\"143.848006\" xlink:href=\"#m2a876237f7\" y=\"110.293593\"/>\n     <use style=\"fill:#1f77b4;stroke:#1f77b4;\" x=\"123.197269\" xlink:href=\"#m2a876237f7\" y=\"77.846008\"/>\n     <use style=\"fill:#1f77b4;stroke:#1f77b4;\" x=\"121.652718\" xlink:href=\"#m2a876237f7\" y=\"71.346792\"/>\n     <use style=\"fill:#1f77b4;stroke:#1f77b4;\" x=\"142.937921\" xlink:href=\"#m2a876237f7\" y=\"83.115799\"/>\n     <use style=\"fill:#1f77b4;stroke:#1f77b4;\" x=\"97.43875\" xlink:href=\"#m2a876237f7\" y=\"42.003182\"/>\n     <use style=\"fill:#1f77b4;stroke:#1f77b4;\" x=\"149.79232\" xlink:href=\"#m2a876237f7\" y=\"89.931219\"/>\n     <use style=\"fill:#1f77b4;stroke:#1f77b4;\" x=\"126.941381\" xlink:href=\"#m2a876237f7\" y=\"74.55437\"/>\n     <use style=\"fill:#1f77b4;stroke:#1f77b4;\" x=\"138.859682\" xlink:href=\"#m2a876237f7\" y=\"78.160871\"/>\n     <use style=\"fill:#1f77b4;stroke:#1f77b4;\" x=\"112.527398\" xlink:href=\"#m2a876237f7\" y=\"66.340278\"/>\n     <use style=\"fill:#1f77b4;stroke:#1f77b4;\" x=\"129.924465\" xlink:href=\"#m2a876237f7\" y=\"89.296938\"/>\n     <use style=\"fill:#1f77b4;stroke:#1f77b4;\" x=\"192.512592\" xlink:href=\"#m2a876237f7\" y=\"119.577339\"/>\n     <use style=\"fill:#1f77b4;stroke:#1f77b4;\" x=\"50.184549\" xlink:href=\"#m2a876237f7\" y=\"22.464531\"/>\n     <use style=\"fill:#1f77b4;stroke:#1f77b4;\" x=\"126.237354\" xlink:href=\"#m2a876237f7\" y=\"79.373042\"/>\n     <use style=\"fill:#1f77b4;stroke:#1f77b4;\" x=\"121.557335\" xlink:href=\"#m2a876237f7\" y=\"70.432524\"/>\n     <use style=\"fill:#1f77b4;stroke:#1f77b4;\" x=\"99.30909\" xlink:href=\"#m2a876237f7\" y=\"77.344616\"/>\n     <use style=\"fill:#1f77b4;stroke:#1f77b4;\" x=\"116.659183\" xlink:href=\"#m2a876237f7\" y=\"92.68912\"/>\n     <use style=\"fill:#1f77b4;stroke:#1f77b4;\" x=\"134.288242\" xlink:href=\"#m2a876237f7\" y=\"89.567067\"/>\n     <use style=\"fill:#1f77b4;stroke:#1f77b4;\" x=\"149.130339\" xlink:href=\"#m2a876237f7\" y=\"94.078712\"/>\n     <use style=\"fill:#1f77b4;stroke:#1f77b4;\" x=\"141.590704\" xlink:href=\"#m2a876237f7\" y=\"65.204739\"/>\n     <use style=\"fill:#1f77b4;stroke:#1f77b4;\" x=\"104.626085\" xlink:href=\"#m2a876237f7\" y=\"29.426232\"/>\n     <use style=\"fill:#1f77b4;stroke:#1f77b4;\" x=\"122.720396\" xlink:href=\"#m2a876237f7\" y=\"86.699496\"/>\n     <use style=\"fill:#1f77b4;stroke:#1f77b4;\" x=\"133.166998\" xlink:href=\"#m2a876237f7\" y=\"71.739188\"/>\n     <use style=\"fill:#1f77b4;stroke:#1f77b4;\" x=\"151.435116\" xlink:href=\"#m2a876237f7\" y=\"101.954823\"/>\n     <use style=\"fill:#1f77b4;stroke:#1f77b4;\" x=\"131.015283\" xlink:href=\"#m2a876237f7\" y=\"89.864978\"/>\n     <use style=\"fill:#1f77b4;stroke:#1f77b4;\" x=\"98.905837\" xlink:href=\"#m2a876237f7\" y=\"56.810715\"/>\n     <use style=\"fill:#1f77b4;stroke:#1f77b4;\" x=\"84.213743\" xlink:href=\"#m2a876237f7\" y=\"52.042601\"/>\n     <use style=\"fill:#1f77b4;stroke:#1f77b4;\" x=\"143.241358\" xlink:href=\"#m2a876237f7\" y=\"85.922273\"/>\n     <use style=\"fill:#1f77b4;stroke:#1f77b4;\" x=\"86.842759\" xlink:href=\"#m2a876237f7\" y=\"58.573341\"/>\n     <use style=\"fill:#1f77b4;stroke:#1f77b4;\" x=\"125.096145\" xlink:href=\"#m2a876237f7\" y=\"49.410963\"/>\n     <use style=\"fill:#1f77b4;stroke:#1f77b4;\" x=\"114.031337\" xlink:href=\"#m2a876237f7\" y=\"58.493514\"/>\n     <use style=\"fill:#1f77b4;stroke:#1f77b4;\" x=\"100.192408\" xlink:href=\"#m2a876237f7\" y=\"69.574901\"/>\n     <use style=\"fill:#1f77b4;stroke:#1f77b4;\" x=\"106.220158\" xlink:href=\"#m2a876237f7\" y=\"46.701077\"/>\n     <use style=\"fill:#1f77b4;stroke:#1f77b4;\" x=\"128.724886\" xlink:href=\"#m2a876237f7\" y=\"73.261071\"/>\n     <use style=\"fill:#1f77b4;stroke:#1f77b4;\" x=\"96.494161\" xlink:href=\"#m2a876237f7\" y=\"62.199499\"/>\n     <use style=\"fill:#1f77b4;stroke:#1f77b4;\" x=\"139.788348\" xlink:href=\"#m2a876237f7\" y=\"79.39421\"/>\n     <use style=\"fill:#1f77b4;stroke:#1f77b4;\" x=\"109.517013\" xlink:href=\"#m2a876237f7\" y=\"69.566756\"/>\n     <use style=\"fill:#1f77b4;stroke:#1f77b4;\" x=\"133.258468\" xlink:href=\"#m2a876237f7\" y=\"90.720666\"/>\n     <use style=\"fill:#1f77b4;stroke:#1f77b4;\" x=\"77.012595\" xlink:href=\"#m2a876237f7\" y=\"40.796533\"/>\n     <use style=\"fill:#1f77b4;stroke:#1f77b4;\" x=\"86.799421\" xlink:href=\"#m2a876237f7\" y=\"45.995608\"/>\n     <use style=\"fill:#1f77b4;stroke:#1f77b4;\" x=\"98.16284\" xlink:href=\"#m2a876237f7\" y=\"60.073017\"/>\n     <use style=\"fill:#1f77b4;stroke:#1f77b4;\" x=\"173.240266\" xlink:href=\"#m2a876237f7\" y=\"122.819032\"/>\n     <use style=\"fill:#1f77b4;stroke:#1f77b4;\" x=\"130.733055\" xlink:href=\"#m2a876237f7\" y=\"85.388805\"/>\n     <use style=\"fill:#1f77b4;stroke:#1f77b4;\" x=\"119.188899\" xlink:href=\"#m2a876237f7\" y=\"56.783584\"/>\n     <use style=\"fill:#1f77b4;stroke:#1f77b4;\" x=\"139.495614\" xlink:href=\"#m2a876237f7\" y=\"96.747731\"/>\n     <use style=\"fill:#1f77b4;stroke:#1f77b4;\" x=\"99.312283\" xlink:href=\"#m2a876237f7\" y=\"45.802654\"/>\n     <use style=\"fill:#1f77b4;stroke:#1f77b4;\" x=\"95.191987\" xlink:href=\"#m2a876237f7\" y=\"62.376746\"/>\n     <use style=\"fill:#1f77b4;stroke:#1f77b4;\" x=\"54.648603\" xlink:href=\"#m2a876237f7\" y=\"21.437863\"/>\n     <use style=\"fill:#1f77b4;stroke:#1f77b4;\" x=\"69.726715\" xlink:href=\"#m2a876237f7\" y=\"41.855096\"/>\n     <use style=\"fill:#1f77b4;stroke:#1f77b4;\" x=\"118.830484\" xlink:href=\"#m2a876237f7\" y=\"71.104476\"/>\n     <use style=\"fill:#1f77b4;stroke:#1f77b4;\" x=\"127.200845\" xlink:href=\"#m2a876237f7\" y=\"93.767099\"/>\n     <use style=\"fill:#1f77b4;stroke:#1f77b4;\" x=\"128.94719\" xlink:href=\"#m2a876237f7\" y=\"83.791173\"/>\n     <use style=\"fill:#1f77b4;stroke:#1f77b4;\" x=\"127.212862\" xlink:href=\"#m2a876237f7\" y=\"68.945002\"/>\n     <use style=\"fill:#1f77b4;stroke:#1f77b4;\" x=\"114.959628\" xlink:href=\"#m2a876237f7\" y=\"68.647414\"/>\n     <use style=\"fill:#1f77b4;stroke:#1f77b4;\" x=\"111.203744\" xlink:href=\"#m2a876237f7\" y=\"56.706089\"/>\n     <use style=\"fill:#1f77b4;stroke:#1f77b4;\" x=\"111.242316\" xlink:href=\"#m2a876237f7\" y=\"62.363401\"/>\n     <use style=\"fill:#1f77b4;stroke:#1f77b4;\" x=\"114.380226\" xlink:href=\"#m2a876237f7\" y=\"72.302258\"/>\n     <use style=\"fill:#1f77b4;stroke:#1f77b4;\" x=\"114.60143\" xlink:href=\"#m2a876237f7\" y=\"47.75778\"/>\n     <use style=\"fill:#1f77b4;stroke:#1f77b4;\" x=\"127.784763\" xlink:href=\"#m2a876237f7\" y=\"66.035295\"/>\n     <use style=\"fill:#1f77b4;stroke:#1f77b4;\" x=\"120.583783\" xlink:href=\"#m2a876237f7\" y=\"60.806367\"/>\n     <use style=\"fill:#1f77b4;stroke:#1f77b4;\" x=\"61.165704\" xlink:href=\"#m2a876237f7\" y=\"40.102179\"/>\n     <use style=\"fill:#1f77b4;stroke:#1f77b4;\" x=\"129.482503\" xlink:href=\"#m2a876237f7\" y=\"73.743496\"/>\n     <use style=\"fill:#1f77b4;stroke:#1f77b4;\" x=\"114.989185\" xlink:href=\"#m2a876237f7\" y=\"69.85845\"/>\n     <use style=\"fill:#1f77b4;stroke:#1f77b4;\" x=\"163.018994\" xlink:href=\"#m2a876237f7\" y=\"108.917982\"/>\n     <use style=\"fill:#1f77b4;stroke:#1f77b4;\" x=\"132.289775\" xlink:href=\"#m2a876237f7\" y=\"77.922502\"/>\n     <use style=\"fill:#1f77b4;stroke:#1f77b4;\" x=\"120.551561\" xlink:href=\"#m2a876237f7\" y=\"71.841794\"/>\n     <use style=\"fill:#1f77b4;stroke:#1f77b4;\" x=\"128.157286\" xlink:href=\"#m2a876237f7\" y=\"73.5998\"/>\n     <use style=\"fill:#1f77b4;stroke:#1f77b4;\" x=\"146.19388\" xlink:href=\"#m2a876237f7\" y=\"86.49055\"/>\n     <use style=\"fill:#1f77b4;stroke:#1f77b4;\" x=\"192.131452\" xlink:href=\"#m2a876237f7\" y=\"127.344913\"/>\n     <use style=\"fill:#1f77b4;stroke:#1f77b4;\" x=\"106.813739\" xlink:href=\"#m2a876237f7\" y=\"60.62555\"/>\n     <use style=\"fill:#1f77b4;stroke:#1f77b4;\" x=\"79.793355\" xlink:href=\"#m2a876237f7\" y=\"41.654084\"/>\n     <use style=\"fill:#1f77b4;stroke:#1f77b4;\" x=\"119.21736\" xlink:href=\"#m2a876237f7\" y=\"73.691674\"/>\n     <use style=\"fill:#1f77b4;stroke:#1f77b4;\" x=\"64.302909\" xlink:href=\"#m2a876237f7\" y=\"53.441498\"/>\n     <use style=\"fill:#1f77b4;stroke:#1f77b4;\" x=\"99.742589\" xlink:href=\"#m2a876237f7\" y=\"60.221805\"/>\n     <use style=\"fill:#1f77b4;stroke:#1f77b4;\" x=\"113.081675\" xlink:href=\"#m2a876237f7\" y=\"66.093161\"/>\n     <use style=\"fill:#1f77b4;stroke:#1f77b4;\" x=\"95.503863\" xlink:href=\"#m2a876237f7\" y=\"67.628769\"/>\n     <use style=\"fill:#1f77b4;stroke:#1f77b4;\" x=\"103.378855\" xlink:href=\"#m2a876237f7\" y=\"64.017193\"/>\n     <use style=\"fill:#1f77b4;stroke:#1f77b4;\" x=\"171.615625\" xlink:href=\"#m2a876237f7\" y=\"117.558924\"/>\n     <use style=\"fill:#1f77b4;stroke:#1f77b4;\" x=\"127.581096\" xlink:href=\"#m2a876237f7\" y=\"72.746526\"/>\n     <use style=\"fill:#1f77b4;stroke:#1f77b4;\" x=\"134.216494\" xlink:href=\"#m2a876237f7\" y=\"72.226748\"/>\n     <use style=\"fill:#1f77b4;stroke:#1f77b4;\" x=\"180.711649\" xlink:href=\"#m2a876237f7\" y=\"110.929935\"/>\n     <use style=\"fill:#1f77b4;stroke:#1f77b4;\" x=\"70.196884\" xlink:href=\"#m2a876237f7\" y=\"37.450242\"/>\n     <use style=\"fill:#1f77b4;stroke:#1f77b4;\" x=\"95.539802\" xlink:href=\"#m2a876237f7\" y=\"49.332608\"/>\n     <use style=\"fill:#1f77b4;stroke:#1f77b4;\" x=\"141.620491\" xlink:href=\"#m2a876237f7\" y=\"83.098219\"/>\n     <use style=\"fill:#1f77b4;stroke:#1f77b4;\" x=\"54.463892\" xlink:href=\"#m2a876237f7\" y=\"35.482191\"/>\n     <use style=\"fill:#1f77b4;stroke:#1f77b4;\" x=\"60.681928\" xlink:href=\"#m2a876237f7\" y=\"45.36476\"/>\n     <use style=\"fill:#1f77b4;stroke:#1f77b4;\" x=\"85.897768\" xlink:href=\"#m2a876237f7\" y=\"51.524978\"/>\n     <use style=\"fill:#1f77b4;stroke:#1f77b4;\" x=\"80.324695\" xlink:href=\"#m2a876237f7\" y=\"42.605122\"/>\n     <use style=\"fill:#1f77b4;stroke:#1f77b4;\" x=\"124.779441\" xlink:href=\"#m2a876237f7\" y=\"74.230552\"/>\n     <use style=\"fill:#1f77b4;stroke:#1f77b4;\" x=\"152.606568\" xlink:href=\"#m2a876237f7\" y=\"86.61492\"/>\n     <use style=\"fill:#1f77b4;stroke:#1f77b4;\" x=\"164.357942\" xlink:href=\"#m2a876237f7\" y=\"96.553166\"/>\n     <use style=\"fill:#1f77b4;stroke:#1f77b4;\" x=\"121.045542\" xlink:href=\"#m2a876237f7\" y=\"64.159353\"/>\n     <use style=\"fill:#1f77b4;stroke:#1f77b4;\" x=\"134.735261\" xlink:href=\"#m2a876237f7\" y=\"69.038944\"/>\n     <use style=\"fill:#1f77b4;stroke:#1f77b4;\" x=\"132.337438\" xlink:href=\"#m2a876237f7\" y=\"100.325466\"/>\n     <use style=\"fill:#1f77b4;stroke:#1f77b4;\" x=\"60.478181\" xlink:href=\"#m2a876237f7\" y=\"29.461167\"/>\n     <use style=\"fill:#1f77b4;stroke:#1f77b4;\" x=\"166.282311\" xlink:href=\"#m2a876237f7\" y=\"120.298059\"/>\n     <use style=\"fill:#1f77b4;stroke:#1f77b4;\" x=\"145.501053\" xlink:href=\"#m2a876237f7\" y=\"94.07779\"/>\n     <use style=\"fill:#1f77b4;stroke:#1f77b4;\" x=\"99.713937\" xlink:href=\"#m2a876237f7\" y=\"62.813705\"/>\n     <use style=\"fill:#1f77b4;stroke:#1f77b4;\" x=\"107.529439\" xlink:href=\"#m2a876237f7\" y=\"58.444186\"/>\n     <use style=\"fill:#1f77b4;stroke:#1f77b4;\" x=\"78.314205\" xlink:href=\"#m2a876237f7\" y=\"40.135308\"/>\n     <use style=\"fill:#1f77b4;stroke:#1f77b4;\" x=\"127.777033\" xlink:href=\"#m2a876237f7\" y=\"79.189049\"/>\n     <use style=\"fill:#1f77b4;stroke:#1f77b4;\" x=\"103.947666\" xlink:href=\"#m2a876237f7\" y=\"79.444913\"/>\n     <use style=\"fill:#1f77b4;stroke:#1f77b4;\" x=\"163.290935\" xlink:href=\"#m2a876237f7\" y=\"112.26374\"/>\n     <use style=\"fill:#1f77b4;stroke:#1f77b4;\" x=\"140.954985\" xlink:href=\"#m2a876237f7\" y=\"78.027793\"/>\n     <use style=\"fill:#1f77b4;stroke:#1f77b4;\" x=\"119.464999\" xlink:href=\"#m2a876237f7\" y=\"73.197242\"/>\n     <use style=\"fill:#1f77b4;stroke:#1f77b4;\" x=\"116.546727\" xlink:href=\"#m2a876237f7\" y=\"82.07222\"/>\n     <use style=\"fill:#1f77b4;stroke:#1f77b4;\" x=\"124.400809\" xlink:href=\"#m2a876237f7\" y=\"75.441117\"/>\n     <use style=\"fill:#1f77b4;stroke:#1f77b4;\" x=\"130.189841\" xlink:href=\"#m2a876237f7\" y=\"78.264794\"/>\n     <use style=\"fill:#1f77b4;stroke:#1f77b4;\" x=\"93.880184\" xlink:href=\"#m2a876237f7\" y=\"57.407085\"/>\n     <use style=\"fill:#1f77b4;stroke:#1f77b4;\" x=\"103.61971\" xlink:href=\"#m2a876237f7\" y=\"59.343111\"/>\n     <use style=\"fill:#1f77b4;stroke:#1f77b4;\" x=\"60.408305\" xlink:href=\"#m2a876237f7\" y=\"22.362265\"/>\n     <use style=\"fill:#1f77b4;stroke:#1f77b4;\" x=\"136.81903\" xlink:href=\"#m2a876237f7\" y=\"96.356259\"/>\n     <use style=\"fill:#1f77b4;stroke:#1f77b4;\" x=\"149.689183\" xlink:href=\"#m2a876237f7\" y=\"76.891487\"/>\n     <use style=\"fill:#1f77b4;stroke:#1f77b4;\" x=\"119.797109\" xlink:href=\"#m2a876237f7\" y=\"65.278787\"/>\n     <use style=\"fill:#1f77b4;stroke:#1f77b4;\" x=\"134.056294\" xlink:href=\"#m2a876237f7\" y=\"88.034314\"/>\n     <use style=\"fill:#1f77b4;stroke:#1f77b4;\" x=\"101.68727\" xlink:href=\"#m2a876237f7\" y=\"49.361836\"/>\n     <use style=\"fill:#1f77b4;stroke:#1f77b4;\" x=\"70.393725\" xlink:href=\"#m2a876237f7\" y=\"53.607308\"/>\n     <use style=\"fill:#1f77b4;stroke:#1f77b4;\" x=\"94.423002\" xlink:href=\"#m2a876237f7\" y=\"71.5798\"/>\n     <use style=\"fill:#1f77b4;stroke:#1f77b4;\" x=\"121.286577\" xlink:href=\"#m2a876237f7\" y=\"71.057775\"/>\n     <use style=\"fill:#1f77b4;stroke:#1f77b4;\" x=\"123.818465\" xlink:href=\"#m2a876237f7\" y=\"76.025053\"/>\n     <use style=\"fill:#1f77b4;stroke:#1f77b4;\" x=\"167.051806\" xlink:href=\"#m2a876237f7\" y=\"124.646296\"/>\n     <use style=\"fill:#1f77b4;stroke:#1f77b4;\" x=\"126.520994\" xlink:href=\"#m2a876237f7\" y=\"63.904232\"/>\n     <use style=\"fill:#1f77b4;stroke:#1f77b4;\" x=\"143.403868\" xlink:href=\"#m2a876237f7\" y=\"80.066712\"/>\n     <use style=\"fill:#1f77b4;stroke:#1f77b4;\" x=\"109.611657\" xlink:href=\"#m2a876237f7\" y=\"66.446924\"/>\n     <use style=\"fill:#1f77b4;stroke:#1f77b4;\" x=\"113.157871\" xlink:href=\"#m2a876237f7\" y=\"60.730288\"/>\n     <use style=\"fill:#1f77b4;stroke:#1f77b4;\" x=\"77.331023\" xlink:href=\"#m2a876237f7\" y=\"19.048407\"/>\n     <use style=\"fill:#1f77b4;stroke:#1f77b4;\" x=\"195.377483\" xlink:href=\"#m2a876237f7\" y=\"105.639013\"/>\n     <use style=\"fill:#1f77b4;stroke:#1f77b4;\" x=\"146.080783\" xlink:href=\"#m2a876237f7\" y=\"85.353596\"/>\n     <use style=\"fill:#1f77b4;stroke:#1f77b4;\" x=\"128.506345\" xlink:href=\"#m2a876237f7\" y=\"85.939738\"/>\n     <use style=\"fill:#1f77b4;stroke:#1f77b4;\" x=\"129.162118\" xlink:href=\"#m2a876237f7\" y=\"64.423353\"/>\n     <use style=\"fill:#1f77b4;stroke:#1f77b4;\" x=\"131.377567\" xlink:href=\"#m2a876237f7\" y=\"73.725684\"/>\n     <use style=\"fill:#1f77b4;stroke:#1f77b4;\" x=\"124.756299\" xlink:href=\"#m2a876237f7\" y=\"81.805816\"/>\n     <use style=\"fill:#1f77b4;stroke:#1f77b4;\" x=\"135.528729\" xlink:href=\"#m2a876237f7\" y=\"81.266895\"/>\n     <use style=\"fill:#1f77b4;stroke:#1f77b4;\" x=\"125.337031\" xlink:href=\"#m2a876237f7\" y=\"84.88423\"/>\n     <use style=\"fill:#1f77b4;stroke:#1f77b4;\" x=\"126.47061\" xlink:href=\"#m2a876237f7\" y=\"84.173809\"/>\n     <use style=\"fill:#1f77b4;stroke:#1f77b4;\" x=\"82.214506\" xlink:href=\"#m2a876237f7\" y=\"56.588835\"/>\n     <use style=\"fill:#1f77b4;stroke:#1f77b4;\" x=\"113.95555\" xlink:href=\"#m2a876237f7\" y=\"55.375998\"/>\n     <use style=\"fill:#1f77b4;stroke:#1f77b4;\" x=\"88.298863\" xlink:href=\"#m2a876237f7\" y=\"70.757465\"/>\n     <use style=\"fill:#1f77b4;stroke:#1f77b4;\" x=\"115.843709\" xlink:href=\"#m2a876237f7\" y=\"62.782836\"/>\n     <use style=\"fill:#1f77b4;stroke:#1f77b4;\" x=\"114.601939\" xlink:href=\"#m2a876237f7\" y=\"70.882884\"/>\n     <use style=\"fill:#1f77b4;stroke:#1f77b4;\" x=\"128.870109\" xlink:href=\"#m2a876237f7\" y=\"87.883974\"/>\n     <use style=\"fill:#1f77b4;stroke:#1f77b4;\" x=\"102.901708\" xlink:href=\"#m2a876237f7\" y=\"54.915499\"/>\n     <use style=\"fill:#1f77b4;stroke:#1f77b4;\" x=\"133.354043\" xlink:href=\"#m2a876237f7\" y=\"70.303063\"/>\n     <use style=\"fill:#1f77b4;stroke:#1f77b4;\" x=\"124.549191\" xlink:href=\"#m2a876237f7\" y=\"78.450595\"/>\n     <use style=\"fill:#1f77b4;stroke:#1f77b4;\" x=\"164.189785\" xlink:href=\"#m2a876237f7\" y=\"91.723894\"/>\n     <use style=\"fill:#1f77b4;stroke:#1f77b4;\" x=\"118.008217\" xlink:href=\"#m2a876237f7\" y=\"56.831725\"/>\n     <use style=\"fill:#1f77b4;stroke:#1f77b4;\" x=\"143.815359\" xlink:href=\"#m2a876237f7\" y=\"87.078895\"/>\n     <use style=\"fill:#1f77b4;stroke:#1f77b4;\" x=\"105.106711\" xlink:href=\"#m2a876237f7\" y=\"45.518564\"/>\n     <use style=\"fill:#1f77b4;stroke:#1f77b4;\" x=\"110.915488\" xlink:href=\"#m2a876237f7\" y=\"51.135902\"/>\n     <use style=\"fill:#1f77b4;stroke:#1f77b4;\" x=\"133.645588\" xlink:href=\"#m2a876237f7\" y=\"77.410395\"/>\n     <use style=\"fill:#1f77b4;stroke:#1f77b4;\" x=\"162.06461\" xlink:href=\"#m2a876237f7\" y=\"98.967517\"/>\n     <use style=\"fill:#1f77b4;stroke:#1f77b4;\" x=\"75.161137\" xlink:href=\"#m2a876237f7\" y=\"41.988546\"/>\n     <use style=\"fill:#1f77b4;stroke:#1f77b4;\" x=\"130.582893\" xlink:href=\"#m2a876237f7\" y=\"78.716343\"/>\n     <use style=\"fill:#1f77b4;stroke:#1f77b4;\" x=\"101.648748\" xlink:href=\"#m2a876237f7\" y=\"69.62149\"/>\n     <use style=\"fill:#1f77b4;stroke:#1f77b4;\" x=\"96.165105\" xlink:href=\"#m2a876237f7\" y=\"38.508163\"/>\n     <use style=\"fill:#1f77b4;stroke:#1f77b4;\" x=\"51.561138\" xlink:href=\"#m2a876237f7\" y=\"36.172334\"/>\n     <use style=\"fill:#1f77b4;stroke:#1f77b4;\" x=\"130.711898\" xlink:href=\"#m2a876237f7\" y=\"75.268967\"/>\n     <use style=\"fill:#1f77b4;stroke:#1f77b4;\" x=\"163.788975\" xlink:href=\"#m2a876237f7\" y=\"115.913585\"/>\n     <use style=\"fill:#1f77b4;stroke:#1f77b4;\" x=\"96.205402\" xlink:href=\"#m2a876237f7\" y=\"58.748034\"/>\n     <use style=\"fill:#1f77b4;stroke:#1f77b4;\" x=\"100.124988\" xlink:href=\"#m2a876237f7\" y=\"67.804731\"/>\n     <use style=\"fill:#1f77b4;stroke:#1f77b4;\" x=\"119.835244\" xlink:href=\"#m2a876237f7\" y=\"58.340931\"/>\n     <use style=\"fill:#1f77b4;stroke:#1f77b4;\" x=\"200.441834\" xlink:href=\"#m2a876237f7\" y=\"130.19906\"/>\n     <use style=\"fill:#1f77b4;stroke:#1f77b4;\" x=\"112.962684\" xlink:href=\"#m2a876237f7\" y=\"59.088251\"/>\n     <use style=\"fill:#1f77b4;stroke:#1f77b4;\" x=\"104.217515\" xlink:href=\"#m2a876237f7\" y=\"72.585712\"/>\n     <use style=\"fill:#1f77b4;stroke:#1f77b4;\" x=\"119.120941\" xlink:href=\"#m2a876237f7\" y=\"57.703599\"/>\n     <use style=\"fill:#1f77b4;stroke:#1f77b4;\" x=\"135.524398\" xlink:href=\"#m2a876237f7\" y=\"88.369208\"/>\n     <use style=\"fill:#1f77b4;stroke:#1f77b4;\" x=\"127.896126\" xlink:href=\"#m2a876237f7\" y=\"82.568557\"/>\n     <use style=\"fill:#1f77b4;stroke:#1f77b4;\" x=\"136.810084\" xlink:href=\"#m2a876237f7\" y=\"72.068854\"/>\n     <use style=\"fill:#1f77b4;stroke:#1f77b4;\" x=\"100.191916\" xlink:href=\"#m2a876237f7\" y=\"60.630279\"/>\n     <use style=\"fill:#1f77b4;stroke:#1f77b4;\" x=\"100.097796\" xlink:href=\"#m2a876237f7\" y=\"71.587284\"/>\n     <use style=\"fill:#1f77b4;stroke:#1f77b4;\" x=\"105.785738\" xlink:href=\"#m2a876237f7\" y=\"61.490678\"/>\n     <use style=\"fill:#1f77b4;stroke:#1f77b4;\" x=\"99.266442\" xlink:href=\"#m2a876237f7\" y=\"54.780328\"/>\n     <use style=\"fill:#1f77b4;stroke:#1f77b4;\" x=\"79.09415\" xlink:href=\"#m2a876237f7\" y=\"39.228331\"/>\n     <use style=\"fill:#1f77b4;stroke:#1f77b4;\" x=\"99.195071\" xlink:href=\"#m2a876237f7\" y=\"49.013433\"/>\n     <use style=\"fill:#1f77b4;stroke:#1f77b4;\" x=\"105.90774\" xlink:href=\"#m2a876237f7\" y=\"72.400036\"/>\n     <use style=\"fill:#1f77b4;stroke:#1f77b4;\" x=\"161.317454\" xlink:href=\"#m2a876237f7\" y=\"124.135263\"/>\n     <use style=\"fill:#1f77b4;stroke:#1f77b4;\" x=\"115.715406\" xlink:href=\"#m2a876237f7\" y=\"66.14905\"/>\n     <use style=\"fill:#1f77b4;stroke:#1f77b4;\" x=\"92.374005\" xlink:href=\"#m2a876237f7\" y=\"62.842551\"/>\n     <use style=\"fill:#1f77b4;stroke:#1f77b4;\" x=\"98.536156\" xlink:href=\"#m2a876237f7\" y=\"61.556511\"/>\n     <use style=\"fill:#1f77b4;stroke:#1f77b4;\" x=\"115.54292\" xlink:href=\"#m2a876237f7\" y=\"60.389266\"/>\n     <use style=\"fill:#1f77b4;stroke:#1f77b4;\" x=\"97.03711\" xlink:href=\"#m2a876237f7\" y=\"60.525979\"/>\n     <use style=\"fill:#1f77b4;stroke:#1f77b4;\" x=\"111.644911\" xlink:href=\"#m2a876237f7\" y=\"53.980122\"/>\n     <use style=\"fill:#1f77b4;stroke:#1f77b4;\" x=\"110.464763\" xlink:href=\"#m2a876237f7\" y=\"63.520212\"/>\n     <use style=\"fill:#1f77b4;stroke:#1f77b4;\" x=\"148.00488\" xlink:href=\"#m2a876237f7\" y=\"71.862844\"/>\n     <use style=\"fill:#1f77b4;stroke:#1f77b4;\" x=\"135.904645\" xlink:href=\"#m2a876237f7\" y=\"86.227891\"/>\n     <use style=\"fill:#1f77b4;stroke:#1f77b4;\" x=\"145.844928\" xlink:href=\"#m2a876237f7\" y=\"88.877667\"/>\n     <use style=\"fill:#1f77b4;stroke:#1f77b4;\" x=\"91.539603\" xlink:href=\"#m2a876237f7\" y=\"60.545482\"/>\n     <use style=\"fill:#1f77b4;stroke:#1f77b4;\" x=\"82.002933\" xlink:href=\"#m2a876237f7\" y=\"50.625493\"/>\n     <use style=\"fill:#1f77b4;stroke:#1f77b4;\" x=\"133.129196\" xlink:href=\"#m2a876237f7\" y=\"100.123124\"/>\n     <use style=\"fill:#1f77b4;stroke:#1f77b4;\" x=\"149.686353\" xlink:href=\"#m2a876237f7\" y=\"105.426847\"/>\n     <use style=\"fill:#1f77b4;stroke:#1f77b4;\" x=\"134.525812\" xlink:href=\"#m2a876237f7\" y=\"71.10846\"/>\n     <use style=\"fill:#1f77b4;stroke:#1f77b4;\" x=\"52.105101\" xlink:href=\"#m2a876237f7\" y=\"19.281309\"/>\n     <use style=\"fill:#1f77b4;stroke:#1f77b4;\" x=\"131.001841\" xlink:href=\"#m2a876237f7\" y=\"83.077138\"/>\n     <use style=\"fill:#1f77b4;stroke:#1f77b4;\" x=\"126.936247\" xlink:href=\"#m2a876237f7\" y=\"84.526818\"/>\n     <use style=\"fill:#1f77b4;stroke:#1f77b4;\" x=\"124.384876\" xlink:href=\"#m2a876237f7\" y=\"98.605391\"/>\n     <use style=\"fill:#1f77b4;stroke:#1f77b4;\" x=\"174.579815\" xlink:href=\"#m2a876237f7\" y=\"76.102313\"/>\n     <use style=\"fill:#1f77b4;stroke:#1f77b4;\" x=\"127.493242\" xlink:href=\"#m2a876237f7\" y=\"69.881028\"/>\n     <use style=\"fill:#1f77b4;stroke:#1f77b4;\" x=\"138.242778\" xlink:href=\"#m2a876237f7\" y=\"85.579947\"/>\n     <use style=\"fill:#1f77b4;stroke:#1f77b4;\" x=\"128.354661\" xlink:href=\"#m2a876237f7\" y=\"75.826392\"/>\n     <use style=\"fill:#1f77b4;stroke:#1f77b4;\" x=\"144.896837\" xlink:href=\"#m2a876237f7\" y=\"79.610381\"/>\n     <use style=\"fill:#1f77b4;stroke:#1f77b4;\" x=\"149.551329\" xlink:href=\"#m2a876237f7\" y=\"90.855269\"/>\n     <use style=\"fill:#1f77b4;stroke:#1f77b4;\" x=\"102.031102\" xlink:href=\"#m2a876237f7\" y=\"61.465639\"/>\n     <use style=\"fill:#1f77b4;stroke:#1f77b4;\" x=\"131.145774\" xlink:href=\"#m2a876237f7\" y=\"65.425551\"/>\n     <use style=\"fill:#1f77b4;stroke:#1f77b4;\" x=\"139.493459\" xlink:href=\"#m2a876237f7\" y=\"112.690347\"/>\n     <use style=\"fill:#1f77b4;stroke:#1f77b4;\" x=\"94.719182\" xlink:href=\"#m2a876237f7\" y=\"48.024462\"/>\n     <use style=\"fill:#1f77b4;stroke:#1f77b4;\" x=\"136.758974\" xlink:href=\"#m2a876237f7\" y=\"80.587372\"/>\n     <use style=\"fill:#1f77b4;stroke:#1f77b4;\" x=\"74.595591\" xlink:href=\"#m2a876237f7\" y=\"13.377273\"/>\n     <use style=\"fill:#1f77b4;stroke:#1f77b4;\" x=\"81.52607\" xlink:href=\"#m2a876237f7\" y=\"48.740007\"/>\n     <use style=\"fill:#1f77b4;stroke:#1f77b4;\" x=\"156.592303\" xlink:href=\"#m2a876237f7\" y=\"86.704549\"/>\n     <use style=\"fill:#1f77b4;stroke:#1f77b4;\" x=\"125.372617\" xlink:href=\"#m2a876237f7\" y=\"82.509747\"/>\n     <use style=\"fill:#1f77b4;stroke:#1f77b4;\" x=\"125.451862\" xlink:href=\"#m2a876237f7\" y=\"68.877208\"/>\n     <use style=\"fill:#1f77b4;stroke:#1f77b4;\" x=\"95.126565\" xlink:href=\"#m2a876237f7\" y=\"62.689848\"/>\n     <use style=\"fill:#1f77b4;stroke:#1f77b4;\" x=\"88.533143\" xlink:href=\"#m2a876237f7\" y=\"47.068988\"/>\n     <use style=\"fill:#1f77b4;stroke:#1f77b4;\" x=\"127.689098\" xlink:href=\"#m2a876237f7\" y=\"63.617726\"/>\n     <use style=\"fill:#1f77b4;stroke:#1f77b4;\" x=\"66.642792\" xlink:href=\"#m2a876237f7\" y=\"37.218655\"/>\n     <use style=\"fill:#1f77b4;stroke:#1f77b4;\" x=\"110.314854\" xlink:href=\"#m2a876237f7\" y=\"70.292488\"/>\n     <use style=\"fill:#1f77b4;stroke:#1f77b4;\" x=\"69.92447\" xlink:href=\"#m2a876237f7\" y=\"32.038821\"/>\n     <use style=\"fill:#1f77b4;stroke:#1f77b4;\" x=\"182.096799\" xlink:href=\"#m2a876237f7\" y=\"111.697978\"/>\n     <use style=\"fill:#1f77b4;stroke:#1f77b4;\" x=\"105.875073\" xlink:href=\"#m2a876237f7\" y=\"54.04727\"/>\n     <use style=\"fill:#1f77b4;stroke:#1f77b4;\" x=\"136.634466\" xlink:href=\"#m2a876237f7\" y=\"98.478914\"/>\n     <use style=\"fill:#1f77b4;stroke:#1f77b4;\" x=\"120.398361\" xlink:href=\"#m2a876237f7\" y=\"82.403823\"/>\n     <use style=\"fill:#1f77b4;stroke:#1f77b4;\" x=\"175.261264\" xlink:href=\"#m2a876237f7\" y=\"100.046449\"/>\n     <use style=\"fill:#1f77b4;stroke:#1f77b4;\" x=\"178.99608\" xlink:href=\"#m2a876237f7\" y=\"106.482864\"/>\n     <use style=\"fill:#1f77b4;stroke:#1f77b4;\" x=\"150.216628\" xlink:href=\"#m2a876237f7\" y=\"91.523491\"/>\n     <use style=\"fill:#1f77b4;stroke:#1f77b4;\" x=\"132.122818\" xlink:href=\"#m2a876237f7\" y=\"92.926609\"/>\n     <use style=\"fill:#1f77b4;stroke:#1f77b4;\" x=\"128.814733\" xlink:href=\"#m2a876237f7\" y=\"76.862707\"/>\n     <use style=\"fill:#1f77b4;stroke:#1f77b4;\" x=\"167.007511\" xlink:href=\"#m2a876237f7\" y=\"116.717771\"/>\n     <use style=\"fill:#1f77b4;stroke:#1f77b4;\" x=\"46.72337\" xlink:href=\"#m2a876237f7\" y=\"28.156227\"/>\n    </g>\n   </g>\n   <g id=\"matplotlib.axis_1\">\n    <g id=\"xtick_1\">\n     <g id=\"line2d_1\">\n      <defs>\n       <path d=\"M 0 0 \nL 0 3.5 \n\" id=\"m14a8d1fa38\" style=\"stroke:#000000;stroke-width:0.8;\"/>\n      </defs>\n      <g>\n       <use style=\"stroke:#000000;stroke-width:0.8;\" x=\"67.080386\" xlink:href=\"#m14a8d1fa38\" y=\"143.1\"/>\n      </g>\n     </g>\n     <g id=\"text_1\">\n      <!-- −2 -->\n      <defs>\n       <path d=\"M 10.59375 35.5 \nL 73.1875 35.5 \nL 73.1875 27.203125 \nL 10.59375 27.203125 \nz\n\" id=\"DejaVuSans-8722\"/>\n       <path d=\"M 19.1875 8.296875 \nL 53.609375 8.296875 \nL 53.609375 0 \nL 7.328125 0 \nL 7.328125 8.296875 \nQ 12.9375 14.109375 22.625 23.890625 \nQ 32.328125 33.6875 34.8125 36.53125 \nQ 39.546875 41.84375 41.421875 45.53125 \nQ 43.3125 49.21875 43.3125 52.78125 \nQ 43.3125 58.59375 39.234375 62.25 \nQ 35.15625 65.921875 28.609375 65.921875 \nQ 23.96875 65.921875 18.8125 64.3125 \nQ 13.671875 62.703125 7.8125 59.421875 \nL 7.8125 69.390625 \nQ 13.765625 71.78125 18.9375 73 \nQ 24.125 74.21875 28.421875 74.21875 \nQ 39.75 74.21875 46.484375 68.546875 \nQ 53.21875 62.890625 53.21875 53.421875 \nQ 53.21875 48.921875 51.53125 44.890625 \nQ 49.859375 40.875 45.40625 35.40625 \nQ 44.1875 33.984375 37.640625 27.21875 \nQ 31.109375 20.453125 19.1875 8.296875 \nz\n\" id=\"DejaVuSans-50\"/>\n      </defs>\n      <g transform=\"translate(59.709292 157.698438)scale(0.1 -0.1)\">\n       <use xlink:href=\"#DejaVuSans-8722\"/>\n       <use x=\"83.789062\" xlink:href=\"#DejaVuSans-50\"/>\n      </g>\n     </g>\n    </g>\n    <g id=\"xtick_2\">\n     <g id=\"line2d_2\">\n      <g>\n       <use style=\"stroke:#000000;stroke-width:0.8;\" x=\"123.404417\" xlink:href=\"#m14a8d1fa38\" y=\"143.1\"/>\n      </g>\n     </g>\n     <g id=\"text_2\">\n      <!-- 0 -->\n      <defs>\n       <path d=\"M 31.78125 66.40625 \nQ 24.171875 66.40625 20.328125 58.90625 \nQ 16.5 51.421875 16.5 36.375 \nQ 16.5 21.390625 20.328125 13.890625 \nQ 24.171875 6.390625 31.78125 6.390625 \nQ 39.453125 6.390625 43.28125 13.890625 \nQ 47.125 21.390625 47.125 36.375 \nQ 47.125 51.421875 43.28125 58.90625 \nQ 39.453125 66.40625 31.78125 66.40625 \nz\nM 31.78125 74.21875 \nQ 44.046875 74.21875 50.515625 64.515625 \nQ 56.984375 54.828125 56.984375 36.375 \nQ 56.984375 17.96875 50.515625 8.265625 \nQ 44.046875 -1.421875 31.78125 -1.421875 \nQ 19.53125 -1.421875 13.0625 8.265625 \nQ 6.59375 17.96875 6.59375 36.375 \nQ 6.59375 54.828125 13.0625 64.515625 \nQ 19.53125 74.21875 31.78125 74.21875 \nz\n\" id=\"DejaVuSans-48\"/>\n      </defs>\n      <g transform=\"translate(120.223167 157.698438)scale(0.1 -0.1)\">\n       <use xlink:href=\"#DejaVuSans-48\"/>\n      </g>\n     </g>\n    </g>\n    <g id=\"xtick_3\">\n     <g id=\"line2d_3\">\n      <g>\n       <use style=\"stroke:#000000;stroke-width:0.8;\" x=\"179.728447\" xlink:href=\"#m14a8d1fa38\" y=\"143.1\"/>\n      </g>\n     </g>\n     <g id=\"text_3\">\n      <!-- 2 -->\n      <g transform=\"translate(176.547197 157.698438)scale(0.1 -0.1)\">\n       <use xlink:href=\"#DejaVuSans-50\"/>\n      </g>\n     </g>\n    </g>\n   </g>\n   <g id=\"matplotlib.axis_2\">\n    <g id=\"ytick_1\">\n     <g id=\"line2d_4\">\n      <defs>\n       <path d=\"M 0 0 \nL -3.5 0 \n\" id=\"m2b1879228f\" style=\"stroke:#000000;stroke-width:0.8;\"/>\n      </defs>\n      <g>\n       <use style=\"stroke:#000000;stroke-width:0.8;\" x=\"28.942188\" xlink:href=\"#m2b1879228f\" y=\"126.625507\"/>\n      </g>\n     </g>\n     <g id=\"text_4\">\n      <!-- −5 -->\n      <defs>\n       <path d=\"M 10.796875 72.90625 \nL 49.515625 72.90625 \nL 49.515625 64.59375 \nL 19.828125 64.59375 \nL 19.828125 46.734375 \nQ 21.96875 47.46875 24.109375 47.828125 \nQ 26.265625 48.1875 28.421875 48.1875 \nQ 40.625 48.1875 47.75 41.5 \nQ 54.890625 34.8125 54.890625 23.390625 \nQ 54.890625 11.625 47.5625 5.09375 \nQ 40.234375 -1.421875 26.90625 -1.421875 \nQ 22.3125 -1.421875 17.546875 -0.640625 \nQ 12.796875 0.140625 7.71875 1.703125 \nL 7.71875 11.625 \nQ 12.109375 9.234375 16.796875 8.0625 \nQ 21.484375 6.890625 26.703125 6.890625 \nQ 35.15625 6.890625 40.078125 11.328125 \nQ 45.015625 15.765625 45.015625 23.390625 \nQ 45.015625 31 40.078125 35.4375 \nQ 35.15625 39.890625 26.703125 39.890625 \nQ 22.75 39.890625 18.8125 39.015625 \nQ 14.890625 38.140625 10.796875 36.28125 \nz\n\" id=\"DejaVuSans-53\"/>\n      </defs>\n      <g transform=\"translate(7.2 130.424726)scale(0.1 -0.1)\">\n       <use xlink:href=\"#DejaVuSans-8722\"/>\n       <use x=\"83.789062\" xlink:href=\"#DejaVuSans-53\"/>\n      </g>\n     </g>\n    </g>\n    <g id=\"ytick_2\">\n     <g id=\"line2d_5\">\n      <g>\n       <use style=\"stroke:#000000;stroke-width:0.8;\" x=\"28.942188\" xlink:href=\"#m2b1879228f\" y=\"98.6109\"/>\n      </g>\n     </g>\n     <g id=\"text_5\">\n      <!-- 0 -->\n      <g transform=\"translate(15.579688 102.410119)scale(0.1 -0.1)\">\n       <use xlink:href=\"#DejaVuSans-48\"/>\n      </g>\n     </g>\n    </g>\n    <g id=\"ytick_3\">\n     <g id=\"line2d_6\">\n      <g>\n       <use style=\"stroke:#000000;stroke-width:0.8;\" x=\"28.942188\" xlink:href=\"#m2b1879228f\" y=\"70.596293\"/>\n      </g>\n     </g>\n     <g id=\"text_6\">\n      <!-- 5 -->\n      <g transform=\"translate(15.579688 74.395512)scale(0.1 -0.1)\">\n       <use xlink:href=\"#DejaVuSans-53\"/>\n      </g>\n     </g>\n    </g>\n    <g id=\"ytick_4\">\n     <g id=\"line2d_7\">\n      <g>\n       <use style=\"stroke:#000000;stroke-width:0.8;\" x=\"28.942188\" xlink:href=\"#m2b1879228f\" y=\"42.581686\"/>\n      </g>\n     </g>\n     <g id=\"text_7\">\n      <!-- 10 -->\n      <defs>\n       <path d=\"M 12.40625 8.296875 \nL 28.515625 8.296875 \nL 28.515625 63.921875 \nL 10.984375 60.40625 \nL 10.984375 69.390625 \nL 28.421875 72.90625 \nL 38.28125 72.90625 \nL 38.28125 8.296875 \nL 54.390625 8.296875 \nL 54.390625 0 \nL 12.40625 0 \nz\n\" id=\"DejaVuSans-49\"/>\n      </defs>\n      <g transform=\"translate(9.217188 46.380905)scale(0.1 -0.1)\">\n       <use xlink:href=\"#DejaVuSans-49\"/>\n       <use x=\"63.623047\" xlink:href=\"#DejaVuSans-48\"/>\n      </g>\n     </g>\n    </g>\n    <g id=\"ytick_5\">\n     <g id=\"line2d_8\">\n      <g>\n       <use style=\"stroke:#000000;stroke-width:0.8;\" x=\"28.942188\" xlink:href=\"#m2b1879228f\" y=\"14.567079\"/>\n      </g>\n     </g>\n     <g id=\"text_8\">\n      <!-- 15 -->\n      <g transform=\"translate(9.217188 18.366298)scale(0.1 -0.1)\">\n       <use xlink:href=\"#DejaVuSans-49\"/>\n       <use x=\"63.623047\" xlink:href=\"#DejaVuSans-53\"/>\n      </g>\n     </g>\n    </g>\n   </g>\n   <g id=\"patch_3\">\n    <path d=\"M 28.942188 143.1 \nL 28.942188 7.2 \n\" style=\"fill:none;stroke:#000000;stroke-linecap:square;stroke-linejoin:miter;stroke-width:0.8;\"/>\n   </g>\n   <g id=\"patch_4\">\n    <path d=\"M 224.242188 143.1 \nL 224.242188 7.2 \n\" style=\"fill:none;stroke:#000000;stroke-linecap:square;stroke-linejoin:miter;stroke-width:0.8;\"/>\n   </g>\n   <g id=\"patch_5\">\n    <path d=\"M 28.942188 143.1 \nL 224.242188 143.1 \n\" style=\"fill:none;stroke:#000000;stroke-linecap:square;stroke-linejoin:miter;stroke-width:0.8;\"/>\n   </g>\n   <g id=\"patch_6\">\n    <path d=\"M 28.942188 7.2 \nL 224.242188 7.2 \n\" style=\"fill:none;stroke:#000000;stroke-linecap:square;stroke-linejoin:miter;stroke-width:0.8;\"/>\n   </g>\n  </g>\n </g>\n <defs>\n  <clipPath id=\"pd35410190f\">\n   <rect height=\"135.9\" width=\"195.3\" x=\"28.942188\" y=\"7.2\"/>\n  </clipPath>\n </defs>\n</svg>\n"
          },
          "metadata": {
            "tags": [],
            "needs_background": "light"
          }
        }
      ]
    },
    {
      "cell_type": "markdown",
      "metadata": {
        "id": "BMxDNdODmQqo"
      },
      "source": [
        "## 3.2 Reading the Dataset"
      ]
    },
    {
      "cell_type": "code",
      "metadata": {
        "id": "RM3wVc8Wbwlj"
      },
      "source": [
        "def data_iter(batch_size,features,labels):\n",
        "    num_examples = len(features)\n",
        "    indices = list(range(num_examples))\n",
        "    #print(indices)\n",
        "    random.shuffle(indices)\n",
        "    #print(indices)\n",
        "    for i in range(0,num_examples,batch_size):\n",
        "        batch_indices = torch.tensor(indices[i:min(i + batch_size,num_examples)])\n",
        "        #print(len(batch_indices))\n",
        "        yield features[batch_indices],labels[batch_indices]"
      ],
      "execution_count": 9,
      "outputs": []
    },
    {
      "cell_type": "code",
      "metadata": {
        "colab": {
          "base_uri": "https://localhost:8080/"
        },
        "id": "GGg__emmbwoW",
        "outputId": "198a2570-d70c-45a8-d902-32f45dac71e2"
      },
      "source": [
        "batch_size = 10\n",
        "\n",
        "for X,y in data_iter(batch_size, features,labels):\n",
        "    print(X,'\\n',y)\n",
        "    break"
      ],
      "execution_count": 10,
      "outputs": [
        {
          "output_type": "stream",
          "text": [
            "tensor([[-1.5651, -0.6909],\n",
            "        [ 0.7165, -1.2386],\n",
            "        [ 0.1617, -0.5920],\n",
            "        [ 0.5749, -0.2444],\n",
            "        [ 1.9131,  0.2043],\n",
            "        [-0.5645, -0.4085],\n",
            "        [ 0.4475,  0.8052],\n",
            "        [ 0.1087, -0.8985],\n",
            "        [-0.5210, -0.2466],\n",
            "        [ 0.6529,  1.4324]]) \n",
            " tensor([[3.4207],\n",
            "        [9.8627],\n",
            "        [6.5322],\n",
            "        [6.1712],\n",
            "        [7.3185],\n",
            "        [4.4630],\n",
            "        [2.3661],\n",
            "        [7.4677],\n",
            "        [4.0111],\n",
            "        [0.6389]])\n"
          ],
          "name": "stdout"
        }
      ]
    },
    {
      "cell_type": "markdown",
      "metadata": {
        "id": "iciOONNMrlKA"
      },
      "source": [
        "## 3.2.3 initializing Model Parameters"
      ]
    },
    {
      "cell_type": "code",
      "metadata": {
        "id": "WERSd0ikbwqS"
      },
      "source": [
        "w = torch.normal(0,0.01,size=(2,1), requires_grad = True)\n",
        "b = torch.zeros(1,requires_grad=True)"
      ],
      "execution_count": 11,
      "outputs": []
    },
    {
      "cell_type": "code",
      "metadata": {
        "colab": {
          "base_uri": "https://localhost:8080/"
        },
        "id": "QeWdhLOpbwsj",
        "outputId": "5f03978c-5fcd-4114-f765-f34669b6f1f0"
      },
      "source": [
        "print(w,b)"
      ],
      "execution_count": 12,
      "outputs": [
        {
          "output_type": "stream",
          "text": [
            "tensor([[-0.0104],\n",
            "        [ 0.0071]], requires_grad=True) tensor([0.], requires_grad=True)\n"
          ],
          "name": "stdout"
        }
      ]
    },
    {
      "cell_type": "markdown",
      "metadata": {
        "id": "ujpvXbe4sQxG"
      },
      "source": [
        "## 3.2.4 Defining the Model"
      ]
    },
    {
      "cell_type": "code",
      "metadata": {
        "colab": {
          "base_uri": "https://localhost:8080/"
        },
        "id": "q-sWFxbXsjMC",
        "outputId": "699d79bc-3224-44ba-a1b6-4182a7a6e9a2"
      },
      "source": [
        "print(X.shape)\n",
        "print(w.shape)\n",
        "print(y.shape)"
      ],
      "execution_count": 13,
      "outputs": [
        {
          "output_type": "stream",
          "text": [
            "torch.Size([10, 2])\n",
            "torch.Size([2, 1])\n",
            "torch.Size([10, 1])\n"
          ],
          "name": "stdout"
        }
      ]
    },
    {
      "cell_type": "code",
      "metadata": {
        "id": "YDe7uqr_bwty"
      },
      "source": [
        "def lineareg(X,w,b):\n",
        "    return torch.matmul(X,w) + b"
      ],
      "execution_count": 14,
      "outputs": []
    },
    {
      "cell_type": "markdown",
      "metadata": {
        "id": "L5Yb66X5svhJ"
      },
      "source": [
        "## 3.2.5 Defining the Loss Function"
      ]
    },
    {
      "cell_type": "code",
      "metadata": {
        "id": "32J-agDbsu1X"
      },
      "source": [
        "def squared_loss(y_hat,y):\n",
        "    #print(y_hat.shape)\n",
        "    #print(y.shape)\n",
        "    return (y_hat - y.reshape(y_hat.shape)) ** 2 / 2"
      ],
      "execution_count": 15,
      "outputs": []
    },
    {
      "cell_type": "markdown",
      "metadata": {
        "id": "STuqgwUjtbBR"
      },
      "source": [
        "## 3.2.6 Defining the Optimization Algorithm"
      ]
    },
    {
      "cell_type": "code",
      "metadata": {
        "id": "z0K8OB3Qsu3U"
      },
      "source": [
        "def sgd(params,lr,batch_size):\n",
        "    with torch.no_grad():\n",
        "        for param in params:\n",
        "            param -= lr * param.grad / batch_size\n",
        "            param.grad.zero_()"
      ],
      "execution_count": 16,
      "outputs": []
    },
    {
      "cell_type": "markdown",
      "metadata": {
        "id": "zzVxrmyfuV4A"
      },
      "source": [
        "## 3.2.7 Training"
      ]
    },
    {
      "cell_type": "code",
      "metadata": {
        "id": "Yo9AMSMusu5m"
      },
      "source": [
        "lr = 0.03\n",
        "num_epochs = 3\n",
        "net = lineareg\n",
        "loss = squared_loss"
      ],
      "execution_count": 17,
      "outputs": []
    },
    {
      "cell_type": "code",
      "metadata": {
        "colab": {
          "base_uri": "https://localhost:8080/"
        },
        "id": "ksn0kJlTyiBU",
        "outputId": "a4afb77e-5602-4b1b-8c13-2b328f3df9da"
      },
      "source": [
        "print(features.shape)"
      ],
      "execution_count": 18,
      "outputs": [
        {
          "output_type": "stream",
          "text": [
            "torch.Size([1000, 2])\n"
          ],
          "name": "stdout"
        }
      ]
    },
    {
      "cell_type": "code",
      "metadata": {
        "colab": {
          "base_uri": "https://localhost:8080/"
        },
        "id": "1cqW_WFjsu7l",
        "outputId": "8ebe8007-df49-486a-e8f9-fc99415bb6cc"
      },
      "source": [
        "for epoch in range(num_epochs):\n",
        "    for X,y in data_iter(batch_size,features,labels):\n",
        "        l = loss(net(X,w,b),y)\n",
        "        l.sum().backward()\n",
        "        sgd([w,b],lr,batch_size)\n",
        "    with torch.no_grad():\n",
        "        train_l = loss(net(features,w,b),labels)\n",
        "        print(f'epoch{epoch + 1},loss{float(train_l.mean()):f}') \n"
      ],
      "execution_count": 19,
      "outputs": [
        {
          "output_type": "stream",
          "text": [
            "epoch1,loss0.032478\n",
            "epoch2,loss0.000115\n",
            "epoch3,loss0.000050\n"
          ],
          "name": "stdout"
        }
      ]
    },
    {
      "cell_type": "code",
      "metadata": {
        "colab": {
          "base_uri": "https://localhost:8080/"
        },
        "id": "bjcfgAJusu9S",
        "outputId": "d8389158-5c46-42fe-d3a1-ea7724b817cc"
      },
      "source": [
        "print(f'error in estimating w: {true_w-w.reshape(true_w.shape)}')\n",
        "print(f'error in estimating b:{true_b - b}')"
      ],
      "execution_count": 20,
      "outputs": [
        {
          "output_type": "stream",
          "text": [
            "error in estimating w: tensor([ 0.0003, -0.0004], grad_fn=<SubBackward0>)\n",
            "error in estimating b:tensor([0.0004], grad_fn=<RsubBackward1>)\n"
          ],
          "name": "stdout"
        }
      ]
    },
    {
      "cell_type": "markdown",
      "metadata": {
        "id": "Q52Ajv8g1ta7"
      },
      "source": [
        "# 3.3Concise Implementation of Linear Regression"
      ]
    },
    {
      "cell_type": "markdown",
      "metadata": {
        "id": "UGH8LZXO2VjM"
      },
      "source": [
        "## 3.3.1 Generating the Dataset"
      ]
    },
    {
      "cell_type": "code",
      "metadata": {
        "id": "1CsP8glksatF"
      },
      "source": [
        "import numpy as np\n",
        "import torch\n",
        "from torch.utils import data\n",
        "from d2l import torch as d2l\n",
        "\n",
        "true_w = torch.tensor([2,-3.4])\n",
        "true_b = 4.2\n",
        "features,labels = d2l.synthetic_data(true_w,true_b,1000)"
      ],
      "execution_count": 21,
      "outputs": []
    },
    {
      "cell_type": "markdown",
      "metadata": {
        "id": "RfC765xyCpKc"
      },
      "source": [
        "## 3.3.2 Reading the Dataset"
      ]
    },
    {
      "cell_type": "code",
      "metadata": {
        "id": "ptmKetFB1sof"
      },
      "source": [
        "def load_array(data_arrays,batch_size,is_train = True): #@save\n",
        "    dataset = data.TensorDataset(*data_arrays)\n",
        "    return data.DataLoader(dataset,batch_size,shuffle=is_train)\n",
        "\n",
        "batch_size = 10\n",
        "data_iter = load_array((features,labels),batch_size)"
      ],
      "execution_count": 27,
      "outputs": []
    },
    {
      "cell_type": "code",
      "metadata": {
        "colab": {
          "base_uri": "https://localhost:8080/"
        },
        "id": "lppKx66d8z-Y",
        "outputId": "01e73a9d-8562-44b3-c70e-3f685345eb52"
      },
      "source": [
        "next(iter(data_iter))"
      ],
      "execution_count": 28,
      "outputs": [
        {
          "output_type": "execute_result",
          "data": {
            "text/plain": [
              "[tensor([[ 0.1954, -0.1714],\n",
              "         [ 0.3873, -1.2045],\n",
              "         [-1.9392, -2.1340],\n",
              "         [ 0.5369,  1.2926],\n",
              "         [-0.7303, -1.4801],\n",
              "         [-0.1937,  1.1726],\n",
              "         [-0.7767,  0.0222],\n",
              "         [-0.1453, -1.2687],\n",
              "         [ 0.8117,  1.8058],\n",
              "         [ 0.4632, -0.6504]]), tensor([[ 5.1916],\n",
              "         [ 9.0667],\n",
              "         [ 7.5882],\n",
              "         [ 0.8627],\n",
              "         [ 7.7561],\n",
              "         [-0.1806],\n",
              "         [ 2.5665],\n",
              "         [ 8.2228],\n",
              "         [-0.3329],\n",
              "         [ 7.3535]])]"
            ]
          },
          "metadata": {
            "tags": []
          },
          "execution_count": 28
        }
      ]
    },
    {
      "cell_type": "markdown",
      "metadata": {
        "id": "CVT0s1hzCvEi"
      },
      "source": [
        "##3.3.3 Defining the Model"
      ]
    },
    {
      "cell_type": "code",
      "metadata": {
        "id": "hCMiptt81sqG"
      },
      "source": [
        "from torch import nn\n",
        "\n",
        "net = nn.Sequential(nn.Linear(2,1))"
      ],
      "execution_count": 56,
      "outputs": []
    },
    {
      "cell_type": "code",
      "metadata": {
        "id": "rxcO_Miq1ss5",
        "colab": {
          "base_uri": "https://localhost:8080/"
        },
        "outputId": "149b2ac8-1916-449f-d03a-827cd6d17420"
      },
      "source": [
        "print(net[0].weight.data)\n",
        "print(net[0].bias.data)"
      ],
      "execution_count": 66,
      "outputs": [
        {
          "output_type": "stream",
          "text": [
            "tensor([[ 1.9990, -3.4010]])\n",
            "tensor([4.2003])\n"
          ],
          "name": "stdout"
        }
      ]
    },
    {
      "cell_type": "markdown",
      "metadata": {
        "id": "2MMdNr6QDW0D"
      },
      "source": [
        "## 3.3.4 Initializing Model Parameters"
      ]
    },
    {
      "cell_type": "code",
      "metadata": {
        "id": "wi7B6oE-1suc",
        "colab": {
          "base_uri": "https://localhost:8080/"
        },
        "outputId": "77c375d4-20eb-462f-f03e-a900f46baf16"
      },
      "source": [
        "print(net[0].weight.data.normal_(0,0.01))\n",
        "net[0].bias.data.fill_(0)"
      ],
      "execution_count": 58,
      "outputs": [
        {
          "output_type": "stream",
          "text": [
            "tensor([[-0.0025, -0.0181]])\n"
          ],
          "name": "stdout"
        },
        {
          "output_type": "execute_result",
          "data": {
            "text/plain": [
              "tensor([0.])"
            ]
          },
          "metadata": {
            "tags": []
          },
          "execution_count": 58
        }
      ]
    },
    {
      "cell_type": "markdown",
      "metadata": {
        "id": "5fWqqCpZDydC"
      },
      "source": [
        "## 3.3.5 Defining the Loss Function"
      ]
    },
    {
      "cell_type": "code",
      "metadata": {
        "id": "R-vg7OSC1syq"
      },
      "source": [
        "loss = nn.MSELoss()"
      ],
      "execution_count": 59,
      "outputs": []
    },
    {
      "cell_type": "markdown",
      "metadata": {
        "id": "InaBrXllD8-P"
      },
      "source": [
        "## 3.3.6 Defining the Optimization Alogrithm"
      ]
    },
    {
      "cell_type": "code",
      "metadata": {
        "id": "gB5xeI0Z1s0S",
        "colab": {
          "base_uri": "https://localhost:8080/"
        },
        "outputId": "d6debbdd-a016-425f-e183-55eaf0a7c03c"
      },
      "source": [
        "print(net.parameters)"
      ],
      "execution_count": 60,
      "outputs": [
        {
          "output_type": "stream",
          "text": [
            "<bound method Module.parameters of Sequential(\n",
            "  (0): Linear(in_features=2, out_features=1, bias=True)\n",
            ")>\n"
          ],
          "name": "stdout"
        }
      ]
    },
    {
      "cell_type": "code",
      "metadata": {
        "id": "Oy_Or4ra1s2z"
      },
      "source": [
        "trainer = torch.optim.SGD(net.parameters(),lr=0.03)"
      ],
      "execution_count": 61,
      "outputs": []
    },
    {
      "cell_type": "markdown",
      "metadata": {
        "id": "X0-dzqelEl3J"
      },
      "source": [
        "## 3.3.7  Training"
      ]
    },
    {
      "cell_type": "code",
      "metadata": {
        "id": "G6eUArSU1s41",
        "colab": {
          "base_uri": "https://localhost:8080/"
        },
        "outputId": "68ef34ba-b34c-49f5-cb1e-e68430b502d0"
      },
      "source": [
        "num_epochs = 7\n",
        "for epoch in range(num_epochs):\n",
        "    for X,y in data_iter:\n",
        "        l = loss(net(X),y)\n",
        "        trainer.zero_grad()\n",
        "        l.backward()\n",
        "        trainer.step()\n",
        "    l = loss(net(features),labels)\n",
        "    print(f'epoch{epoch + 1},loss{l:f}')"
      ],
      "execution_count": 63,
      "outputs": [
        {
          "output_type": "stream",
          "text": [
            "epoch1,loss0.000100\n",
            "epoch2,loss0.000100\n",
            "epoch3,loss0.000100\n",
            "epoch4,loss0.000100\n",
            "epoch5,loss0.000100\n",
            "epoch6,loss0.000100\n",
            "epoch7,loss0.000101\n"
          ],
          "name": "stdout"
        }
      ]
    },
    {
      "cell_type": "code",
      "metadata": {
        "colab": {
          "base_uri": "https://localhost:8080/"
        },
        "id": "CLqiQhxHEj47",
        "outputId": "1d46ee38-798b-4873-d7a2-716ff475c0df"
      },
      "source": [
        "w = net[0].weight.data\n",
        "print('error in estimating w:', true_w - w.reshape(true_w.shape))\n",
        "b = net[0].bias.data\n",
        "print('error in estimating b:',true_b-b)"
      ],
      "execution_count": 67,
      "outputs": [
        {
          "output_type": "stream",
          "text": [
            "error in estimating w: tensor([0.0010, 0.0010])\n",
            "error in estimating b: tensor([-0.0003])\n"
          ],
          "name": "stdout"
        }
      ]
    },
    {
      "cell_type": "code",
      "metadata": {
        "id": "5h7mtbx_Ej7o"
      },
      "source": [
        ""
      ],
      "execution_count": null,
      "outputs": []
    },
    {
      "cell_type": "code",
      "metadata": {
        "id": "0WKH9wWzEj9t"
      },
      "source": [
        ""
      ],
      "execution_count": null,
      "outputs": []
    },
    {
      "cell_type": "code",
      "metadata": {
        "id": "u4kWqUKhEj_6"
      },
      "source": [
        ""
      ],
      "execution_count": null,
      "outputs": []
    },
    {
      "cell_type": "code",
      "metadata": {
        "id": "bc0O1b-oEkB8"
      },
      "source": [
        ""
      ],
      "execution_count": null,
      "outputs": []
    },
    {
      "cell_type": "code",
      "metadata": {
        "id": "kEmwXDEYEkE7"
      },
      "source": [
        "b"
      ],
      "execution_count": null,
      "outputs": []
    }
  ]
}