{
  "nbformat": 4,
  "nbformat_minor": 0,
  "metadata": {
    "colab": {
      "name": "lab02_201602955_장현준.ipynb",
      "provenance": [],
      "collapsed_sections": [],
      "toc_visible": true,
      "authorship_tag": "ABX9TyPcMWk1UqQz0U9lEDFAKgvM",
      "include_colab_link": true
    },
    "kernelspec": {
      "name": "python3",
      "display_name": "Python 3"
    },
    "language_info": {
      "name": "python"
    }
  },
  "cells": [
    {
      "cell_type": "markdown",
      "metadata": {
        "id": "view-in-github",
        "colab_type": "text"
      },
      "source": [
        "<a href=\"https://colab.research.google.com/github/JANG-hyeonjun/biomedical_deeplearning/blob/main/lab02_201602955_%EC%9E%A5%ED%98%84%EC%A4%80.ipynb\" target=\"_parent\"><img src=\"https://colab.research.google.com/assets/colab-badge.svg\" alt=\"Open In Colab\"/></a>"
      ]
    },
    {
      "cell_type": "markdown",
      "metadata": {
        "id": "cbB1qFAdbzZD"
      },
      "source": [
        "#3.2linear-regression-scratch"
      ]
    },
    {
      "cell_type": "markdown",
      "metadata": {
        "id": "pBtH5lyImE_E"
      },
      "source": [
        "## 3.2.1generating the Dataset"
      ]
    },
    {
      "cell_type": "code",
      "metadata": {
        "colab": {
          "base_uri": "https://localhost:8080/"
        },
        "id": "hYVc20INbLf1",
        "outputId": "8143ccec-57a2-4b2c-d592-86aa82c7df4d"
      },
      "source": [
        "!pip install -U mxnet-cu101==1.7.0\n",
        "!pip install d2l==0.16.2"
      ],
      "execution_count": 1,
      "outputs": [
        {
          "output_type": "stream",
          "text": [
            "Collecting mxnet-cu101==1.7.0\n",
            "\u001b[?25l  Downloading https://files.pythonhosted.org/packages/40/26/9655677b901537f367c3c473376e4106abc72e01a8fc25b1cb6ed9c37e8c/mxnet_cu101-1.7.0-py2.py3-none-manylinux2014_x86_64.whl (846.0MB)\n",
            "\u001b[K     |███████████████████████████████▌| 834.1MB 1.3MB/s eta 0:00:10tcmalloc: large alloc 1147494400 bytes == 0x557ad1090000 @  0x7f25d3014615 0x557a97ea606c 0x557a97f85eba 0x557a97ea8e8d 0x557a97f9a99d 0x557a97f1cfe9 0x557a97f17b0e 0x557a97eaa77a 0x557a97f1ce50 0x557a97f17b0e 0x557a97eaa77a 0x557a97f1986a 0x557a97f9b7c6 0x557a97f18ee2 0x557a97f9b7c6 0x557a97f18ee2 0x557a97f9b7c6 0x557a97f18ee2 0x557a97f9b7c6 0x557a97f18ee2 0x557a97eaa69a 0x557a97f18c9e 0x557a97f17e0d 0x557a97eaa77a 0x557a97f18a45 0x557a97eaa69a 0x557a97f18a45 0x557a97f17b0e 0x557a97eaa77a 0x557a97f1986a 0x557a97f17b0e\n",
            "\u001b[K     |████████████████████████████████| 846.0MB 21kB/s \n",
            "\u001b[?25hRequirement already satisfied, skipping upgrade: requests<3,>=2.20.0 in /usr/local/lib/python3.7/dist-packages (from mxnet-cu101==1.7.0) (2.23.0)\n",
            "Requirement already satisfied, skipping upgrade: numpy<2.0.0,>1.16.0 in /usr/local/lib/python3.7/dist-packages (from mxnet-cu101==1.7.0) (1.19.5)\n",
            "Collecting graphviz<0.9.0,>=0.8.1\n",
            "  Downloading https://files.pythonhosted.org/packages/53/39/4ab213673844e0c004bed8a0781a0721a3f6bb23eb8854ee75c236428892/graphviz-0.8.4-py2.py3-none-any.whl\n",
            "Requirement already satisfied, skipping upgrade: idna<3,>=2.5 in /usr/local/lib/python3.7/dist-packages (from requests<3,>=2.20.0->mxnet-cu101==1.7.0) (2.10)\n",
            "Requirement already satisfied, skipping upgrade: urllib3!=1.25.0,!=1.25.1,<1.26,>=1.21.1 in /usr/local/lib/python3.7/dist-packages (from requests<3,>=2.20.0->mxnet-cu101==1.7.0) (1.24.3)\n",
            "Requirement already satisfied, skipping upgrade: certifi>=2017.4.17 in /usr/local/lib/python3.7/dist-packages (from requests<3,>=2.20.0->mxnet-cu101==1.7.0) (2020.12.5)\n",
            "Requirement already satisfied, skipping upgrade: chardet<4,>=3.0.2 in /usr/local/lib/python3.7/dist-packages (from requests<3,>=2.20.0->mxnet-cu101==1.7.0) (3.0.4)\n",
            "Installing collected packages: graphviz, mxnet-cu101\n",
            "  Found existing installation: graphviz 0.10.1\n",
            "    Uninstalling graphviz-0.10.1:\n",
            "      Successfully uninstalled graphviz-0.10.1\n",
            "Successfully installed graphviz-0.8.4 mxnet-cu101-1.7.0\n",
            "Collecting d2l==0.16.2\n",
            "\u001b[?25l  Downloading https://files.pythonhosted.org/packages/d0/1f/13de7e8cafaba15739caee0596032412aaf51a22726649b317bdb53c4f9a/d2l-0.16.2-py3-none-any.whl (77kB)\n",
            "\u001b[K     |████████████████████████████████| 81kB 3.7MB/s \n",
            "\u001b[?25hRequirement already satisfied: pandas in /usr/local/lib/python3.7/dist-packages (from d2l==0.16.2) (1.1.5)\n",
            "Requirement already satisfied: matplotlib in /usr/local/lib/python3.7/dist-packages (from d2l==0.16.2) (3.2.2)\n",
            "Requirement already satisfied: jupyter in /usr/local/lib/python3.7/dist-packages (from d2l==0.16.2) (1.0.0)\n",
            "Requirement already satisfied: numpy in /usr/local/lib/python3.7/dist-packages (from d2l==0.16.2) (1.19.5)\n",
            "Requirement already satisfied: requests in /usr/local/lib/python3.7/dist-packages (from d2l==0.16.2) (2.23.0)\n",
            "Requirement already satisfied: pytz>=2017.2 in /usr/local/lib/python3.7/dist-packages (from pandas->d2l==0.16.2) (2018.9)\n",
            "Requirement already satisfied: python-dateutil>=2.7.3 in /usr/local/lib/python3.7/dist-packages (from pandas->d2l==0.16.2) (2.8.1)\n",
            "Requirement already satisfied: pyparsing!=2.0.4,!=2.1.2,!=2.1.6,>=2.0.1 in /usr/local/lib/python3.7/dist-packages (from matplotlib->d2l==0.16.2) (2.4.7)\n",
            "Requirement already satisfied: cycler>=0.10 in /usr/local/lib/python3.7/dist-packages (from matplotlib->d2l==0.16.2) (0.10.0)\n",
            "Requirement already satisfied: kiwisolver>=1.0.1 in /usr/local/lib/python3.7/dist-packages (from matplotlib->d2l==0.16.2) (1.3.1)\n",
            "Requirement already satisfied: qtconsole in /usr/local/lib/python3.7/dist-packages (from jupyter->d2l==0.16.2) (5.0.3)\n",
            "Requirement already satisfied: nbconvert in /usr/local/lib/python3.7/dist-packages (from jupyter->d2l==0.16.2) (5.6.1)\n",
            "Requirement already satisfied: jupyter-console in /usr/local/lib/python3.7/dist-packages (from jupyter->d2l==0.16.2) (5.2.0)\n",
            "Requirement already satisfied: notebook in /usr/local/lib/python3.7/dist-packages (from jupyter->d2l==0.16.2) (5.3.1)\n",
            "Requirement already satisfied: ipykernel in /usr/local/lib/python3.7/dist-packages (from jupyter->d2l==0.16.2) (4.10.1)\n",
            "Requirement already satisfied: ipywidgets in /usr/local/lib/python3.7/dist-packages (from jupyter->d2l==0.16.2) (7.6.3)\n",
            "Requirement already satisfied: chardet<4,>=3.0.2 in /usr/local/lib/python3.7/dist-packages (from requests->d2l==0.16.2) (3.0.4)\n",
            "Requirement already satisfied: certifi>=2017.4.17 in /usr/local/lib/python3.7/dist-packages (from requests->d2l==0.16.2) (2020.12.5)\n",
            "Requirement already satisfied: idna<3,>=2.5 in /usr/local/lib/python3.7/dist-packages (from requests->d2l==0.16.2) (2.10)\n",
            "Requirement already satisfied: urllib3!=1.25.0,!=1.25.1,<1.26,>=1.21.1 in /usr/local/lib/python3.7/dist-packages (from requests->d2l==0.16.2) (1.24.3)\n",
            "Requirement already satisfied: six>=1.5 in /usr/local/lib/python3.7/dist-packages (from python-dateutil>=2.7.3->pandas->d2l==0.16.2) (1.15.0)\n",
            "Requirement already satisfied: pyzmq>=17.1 in /usr/local/lib/python3.7/dist-packages (from qtconsole->jupyter->d2l==0.16.2) (22.0.3)\n",
            "Requirement already satisfied: pygments in /usr/local/lib/python3.7/dist-packages (from qtconsole->jupyter->d2l==0.16.2) (2.6.1)\n",
            "Requirement already satisfied: ipython-genutils in /usr/local/lib/python3.7/dist-packages (from qtconsole->jupyter->d2l==0.16.2) (0.2.0)\n",
            "Requirement already satisfied: traitlets in /usr/local/lib/python3.7/dist-packages (from qtconsole->jupyter->d2l==0.16.2) (5.0.5)\n",
            "Requirement already satisfied: qtpy in /usr/local/lib/python3.7/dist-packages (from qtconsole->jupyter->d2l==0.16.2) (1.9.0)\n",
            "Requirement already satisfied: jupyter-client>=4.1 in /usr/local/lib/python3.7/dist-packages (from qtconsole->jupyter->d2l==0.16.2) (5.3.5)\n",
            "Requirement already satisfied: jupyter-core in /usr/local/lib/python3.7/dist-packages (from qtconsole->jupyter->d2l==0.16.2) (4.7.1)\n",
            "Requirement already satisfied: pandocfilters>=1.4.1 in /usr/local/lib/python3.7/dist-packages (from nbconvert->jupyter->d2l==0.16.2) (1.4.3)\n",
            "Requirement already satisfied: nbformat>=4.4 in /usr/local/lib/python3.7/dist-packages (from nbconvert->jupyter->d2l==0.16.2) (5.1.2)\n",
            "Requirement already satisfied: jinja2>=2.4 in /usr/local/lib/python3.7/dist-packages (from nbconvert->jupyter->d2l==0.16.2) (2.11.3)\n",
            "Requirement already satisfied: mistune<2,>=0.8.1 in /usr/local/lib/python3.7/dist-packages (from nbconvert->jupyter->d2l==0.16.2) (0.8.4)\n",
            "Requirement already satisfied: testpath in /usr/local/lib/python3.7/dist-packages (from nbconvert->jupyter->d2l==0.16.2) (0.4.4)\n",
            "Requirement already satisfied: bleach in /usr/local/lib/python3.7/dist-packages (from nbconvert->jupyter->d2l==0.16.2) (3.3.0)\n",
            "Requirement already satisfied: defusedxml in /usr/local/lib/python3.7/dist-packages (from nbconvert->jupyter->d2l==0.16.2) (0.7.1)\n",
            "Requirement already satisfied: entrypoints>=0.2.2 in /usr/local/lib/python3.7/dist-packages (from nbconvert->jupyter->d2l==0.16.2) (0.3)\n",
            "Requirement already satisfied: prompt-toolkit<2.0.0,>=1.0.0 in /usr/local/lib/python3.7/dist-packages (from jupyter-console->jupyter->d2l==0.16.2) (1.0.18)\n",
            "Requirement already satisfied: ipython in /usr/local/lib/python3.7/dist-packages (from jupyter-console->jupyter->d2l==0.16.2) (5.5.0)\n",
            "Requirement already satisfied: terminado>=0.8.1 in /usr/local/lib/python3.7/dist-packages (from notebook->jupyter->d2l==0.16.2) (0.9.3)\n",
            "Requirement already satisfied: tornado>=4 in /usr/local/lib/python3.7/dist-packages (from notebook->jupyter->d2l==0.16.2) (5.1.1)\n",
            "Requirement already satisfied: Send2Trash in /usr/local/lib/python3.7/dist-packages (from notebook->jupyter->d2l==0.16.2) (1.5.0)\n",
            "Requirement already satisfied: jupyterlab-widgets>=1.0.0; python_version >= \"3.6\" in /usr/local/lib/python3.7/dist-packages (from ipywidgets->jupyter->d2l==0.16.2) (1.0.0)\n",
            "Requirement already satisfied: widgetsnbextension~=3.5.0 in /usr/local/lib/python3.7/dist-packages (from ipywidgets->jupyter->d2l==0.16.2) (3.5.1)\n",
            "Requirement already satisfied: jsonschema!=2.5.0,>=2.4 in /usr/local/lib/python3.7/dist-packages (from nbformat>=4.4->nbconvert->jupyter->d2l==0.16.2) (2.6.0)\n",
            "Requirement already satisfied: MarkupSafe>=0.23 in /usr/local/lib/python3.7/dist-packages (from jinja2>=2.4->nbconvert->jupyter->d2l==0.16.2) (1.1.1)\n",
            "Requirement already satisfied: packaging in /usr/local/lib/python3.7/dist-packages (from bleach->nbconvert->jupyter->d2l==0.16.2) (20.9)\n",
            "Requirement already satisfied: webencodings in /usr/local/lib/python3.7/dist-packages (from bleach->nbconvert->jupyter->d2l==0.16.2) (0.5.1)\n",
            "Requirement already satisfied: wcwidth in /usr/local/lib/python3.7/dist-packages (from prompt-toolkit<2.0.0,>=1.0.0->jupyter-console->jupyter->d2l==0.16.2) (0.2.5)\n",
            "Requirement already satisfied: decorator in /usr/local/lib/python3.7/dist-packages (from ipython->jupyter-console->jupyter->d2l==0.16.2) (4.4.2)\n",
            "Requirement already satisfied: setuptools>=18.5 in /usr/local/lib/python3.7/dist-packages (from ipython->jupyter-console->jupyter->d2l==0.16.2) (54.2.0)\n",
            "Requirement already satisfied: pickleshare in /usr/local/lib/python3.7/dist-packages (from ipython->jupyter-console->jupyter->d2l==0.16.2) (0.7.5)\n",
            "Requirement already satisfied: pexpect; sys_platform != \"win32\" in /usr/local/lib/python3.7/dist-packages (from ipython->jupyter-console->jupyter->d2l==0.16.2) (4.8.0)\n",
            "Requirement already satisfied: simplegeneric>0.8 in /usr/local/lib/python3.7/dist-packages (from ipython->jupyter-console->jupyter->d2l==0.16.2) (0.8.1)\n",
            "Requirement already satisfied: ptyprocess; os_name != \"nt\" in /usr/local/lib/python3.7/dist-packages (from terminado>=0.8.1->notebook->jupyter->d2l==0.16.2) (0.7.0)\n",
            "Installing collected packages: d2l\n",
            "Successfully installed d2l-0.16.2\n"
          ],
          "name": "stdout"
        }
      ]
    },
    {
      "cell_type": "code",
      "metadata": {
        "id": "3jruGoCQbv-j"
      },
      "source": [
        "%matplotlib inline \n",
        "import random\n",
        "import torch\n",
        "from d2l import torch as d2l"
      ],
      "execution_count": 10,
      "outputs": []
    },
    {
      "cell_type": "code",
      "metadata": {
        "id": "eXiwXQD8bwZw"
      },
      "source": [
        "def synthetic_data(w,b,num_examples):\n",
        "    X = torch.normal(0,1,(num_examples,len(w)))\n",
        "    print(w.shape)\n",
        "    print(X.shape)\n",
        "    y = torch.matmul(X,w) + b\n",
        "    print(len(y))\n",
        "    y += torch.normal(0,0.01,y.shape)\n",
        "    print('\\n')\n",
        "    print(len(y))\n",
        "    return X,y.reshape((-1,1))\n"
      ],
      "execution_count": 27,
      "outputs": []
    },
    {
      "cell_type": "code",
      "metadata": {
        "colab": {
          "base_uri": "https://localhost:8080/"
        },
        "id": "nHT5HfaGbwcb",
        "outputId": "11ff6491-4347-431f-ecf5-8cdeab76f88d"
      },
      "source": [
        "true_w = torch.tensor([2,-3.4])\n",
        "true_b = 4.2\n",
        "features,labels = synthetic_data(true_w,true_b,1000)"
      ],
      "execution_count": 28,
      "outputs": [
        {
          "output_type": "stream",
          "text": [
            "torch.Size([2])\n",
            "torch.Size([1000, 2])\n",
            "1000\n",
            "\n",
            "\n",
            "1000\n"
          ],
          "name": "stdout"
        }
      ]
    },
    {
      "cell_type": "code",
      "metadata": {
        "colab": {
          "base_uri": "https://localhost:8080/"
        },
        "id": "Iq5Qf1TNbwet",
        "outputId": "eed42e83-6dd5-447d-a3d1-58682c1c3f21"
      },
      "source": [
        "print(features.shape)\n",
        "print(labels.shape)\n",
        "print(len(features))"
      ],
      "execution_count": 38,
      "outputs": [
        {
          "output_type": "stream",
          "text": [
            "torch.Size([1000, 2])\n",
            "torch.Size([1000, 1])\n",
            "1000\n"
          ],
          "name": "stdout"
        }
      ]
    },
    {
      "cell_type": "code",
      "metadata": {
        "colab": {
          "base_uri": "https://localhost:8080/"
        },
        "id": "GPaVAuzobwhe",
        "outputId": "8ba1aac7-dc83-439c-dfcc-d17b28a6d0f6"
      },
      "source": [
        "print('features:',features[0],'\\nlabel:',labels[0])"
      ],
      "execution_count": 30,
      "outputs": [
        {
          "output_type": "stream",
          "text": [
            "features: tensor([-0.7414, -0.6390]) \n",
            "label: tensor([4.8895])\n"
          ],
          "name": "stdout"
        }
      ]
    },
    {
      "cell_type": "code",
      "metadata": {
        "colab": {
          "base_uri": "https://localhost:8080/"
        },
        "id": "8tcg42iMlWUS",
        "outputId": "9e2c3290-ba08-42c5-82de-2876b80350bb"
      },
      "source": [
        "print(features[:,(1)])"
      ],
      "execution_count": 36,
      "outputs": [
        {
          "output_type": "stream",
          "text": [
            "tensor([-6.3902e-01, -1.1848e-01,  5.5934e-01,  6.2406e-01,  5.2831e-01,\n",
            "        -1.5532e+00, -6.8597e-01,  1.7225e+00, -3.2548e-01, -9.5501e-01,\n",
            "        -1.2491e+00, -2.6831e-01, -1.6468e+00, -1.2546e+00,  1.0300e+00,\n",
            "         3.1259e-02,  9.6967e-01,  6.3420e-01, -5.1759e-01,  7.1628e-01,\n",
            "         1.0257e+00, -3.6773e-02, -2.1962e-01,  5.4717e-02,  4.6760e-01,\n",
            "        -1.1086e+00,  8.9514e-02,  3.5880e-02,  1.0312e+00, -7.5418e-01,\n",
            "         8.0898e-01,  1.5351e+00, -1.8470e+00, -8.9598e-01,  7.4582e-01,\n",
            "         1.4874e+00,  1.4657e+00,  9.0993e-02, -1.2590e+00, -2.7861e-01,\n",
            "         4.1870e-01, -8.5416e-02, -9.5456e-02, -1.6825e+00, -7.4067e-01,\n",
            "        -1.8295e-01,  1.8444e+00,  6.8708e-01, -5.8806e-01,  1.1425e+00,\n",
            "        -3.7453e-01,  1.8040e-01, -1.9841e+00,  1.1549e+00,  3.7575e-01,\n",
            "        -2.2673e+00,  1.4531e+00,  1.1719e+00,  1.5433e+00, -2.4854e+00,\n",
            "        -1.4779e+00, -6.9243e-01,  1.0120e-01, -1.0666e+00, -1.2656e+00,\n",
            "        -9.7498e-01,  1.0035e+00, -1.2270e+00,  1.4180e+00,  1.0279e+00,\n",
            "        -1.4642e+00, -4.6170e-01, -8.5294e-01, -1.3472e+00,  1.7821e-01,\n",
            "         2.3338e+00,  2.5911e+00,  1.7064e+00,  4.8685e-01, -3.1837e-01,\n",
            "        -1.5382e-01,  3.9494e-01,  8.3074e-01,  1.1808e+00, -6.7843e-01,\n",
            "        -1.4886e+00,  1.2494e+00, -8.7243e-01,  1.0819e-02, -7.7193e-01,\n",
            "        -1.0304e+00,  5.7215e-02, -3.3992e-01, -1.4155e+00,  4.5851e-01,\n",
            "         7.2025e-01, -5.3029e-01, -4.7536e-02, -8.2467e-01, -1.6129e+00,\n",
            "        -2.5440e+00, -6.4607e-01, -3.8297e-01, -5.7189e-02,  6.2973e-02,\n",
            "        -6.6577e-01,  1.2974e+00, -1.3330e+00, -7.2505e-01, -2.4572e+00,\n",
            "        -9.2919e-01, -1.2561e+00, -1.8515e+00,  1.3516e+00, -1.2900e+00,\n",
            "         1.9982e-01,  4.3823e-01,  1.5938e+00, -2.1759e-01, -7.2689e-01,\n",
            "        -4.1858e-01, -8.4691e-01, -5.1927e-01,  1.7874e+00,  1.0578e-02,\n",
            "        -6.7808e-01, -1.1912e+00,  3.4044e-01, -2.0906e-01,  4.2972e-01,\n",
            "         8.9368e-03,  1.2206e-01,  5.6232e-01,  1.7923e-01, -2.3605e-01,\n",
            "        -5.3195e-01,  3.5023e-02,  1.1562e+00, -3.6852e-01, -4.0413e-01,\n",
            "         7.6216e-01,  8.7146e-01, -4.2128e-01, -5.0554e-01, -6.5406e-01,\n",
            "         9.9860e-01,  5.1367e-02,  1.4791e-01,  3.4894e-01, -6.8129e-01,\n",
            "        -8.1047e-01,  1.0447e+00,  2.2587e+00, -6.4118e-01, -6.2641e-01,\n",
            "        -1.5785e+00, -7.9459e-01,  4.3690e-02,  6.1867e-01, -6.1108e-01,\n",
            "        -8.0971e-01,  4.0962e-01,  4.5197e-01,  1.2701e-01,  7.2490e-01,\n",
            "        -6.1092e-01, -9.8898e-01,  1.0780e+00, -1.7192e+00,  7.1405e-01,\n",
            "        -1.1037e+00,  2.8937e-01,  7.7064e-02,  1.6241e+00,  3.0843e-01,\n",
            "        -1.9723e-02,  9.4325e-01, -5.0513e-01,  1.0352e+00, -5.4160e-01,\n",
            "         5.3696e-01, -5.0823e-01,  1.7025e+00,  1.5537e+00, -9.9628e-01,\n",
            "        -4.3659e-01,  6.9784e-01,  5.5562e-01,  4.3607e-01, -3.0959e+00,\n",
            "        -1.0318e+00,  6.5299e-02, -2.7799e-02,  1.9394e-01, -2.0304e-01,\n",
            "        -9.1966e-01, -1.2903e+00,  4.9288e-01, -1.1315e+00, -6.0684e-01,\n",
            "        -6.1924e-01, -9.0290e-01, -6.4862e-01,  9.0924e-01, -9.8783e-01,\n",
            "        -3.5831e-01, -4.2737e-01, -1.0250e-01, -3.8522e-02, -4.7217e-01,\n",
            "        -5.8742e-01,  1.4148e-01, -6.1659e-01, -8.6821e-02, -1.7703e+00,\n",
            "         1.6231e+00,  1.8511e-01,  6.3646e-01,  3.6404e-01,  1.1325e+00,\n",
            "        -4.3787e-01, -7.8401e-01, -3.8391e-01,  4.1844e-01,  5.0116e-03,\n",
            "         4.8441e-01,  2.4014e-01,  7.5213e-02, -5.3079e-01, -1.1336e+00,\n",
            "        -2.0092e+00, -1.0485e+00, -1.6261e+00, -1.1021e+00, -4.6234e-01,\n",
            "        -4.7412e-01, -1.0774e+00,  4.6646e-01, -3.5227e-01,  5.8623e-01,\n",
            "         2.6018e-01,  5.8183e-01,  1.5448e+00, -3.5539e+00, -1.1409e+00,\n",
            "        -2.3525e-01,  3.4223e-01, -8.7559e-01, -1.2355e+00, -7.8909e-01,\n",
            "        -7.8761e-01, -1.4318e+00,  1.6741e-01,  1.0052e+00, -4.4747e-01,\n",
            "        -1.7887e-01, -1.0479e+00,  1.4567e-01,  8.4772e-01, -8.9992e-01,\n",
            "        -1.8432e+00, -1.2580e+00, -1.6677e-03, -5.8529e-01, -9.5954e-02,\n",
            "         1.6241e-01, -2.2734e-01, -1.1156e-01,  8.1755e-01,  1.6728e+00,\n",
            "         2.0658e+00,  1.1488e+00, -9.5105e-01,  9.3883e-01, -1.1360e+00,\n",
            "        -1.8854e-01,  7.4610e-01,  1.5175e-01, -4.0954e-01, -4.2631e-01,\n",
            "         1.1637e-01,  7.0735e-01, -9.9729e-01, -2.4485e-01,  1.0025e-01,\n",
            "        -2.3233e+00, -1.6459e+00,  1.3828e+00, -6.5865e-01, -9.4331e-01,\n",
            "        -1.0597e+00,  2.7148e-01,  1.4182e+00, -1.2588e-01, -1.0646e-01,\n",
            "        -9.4889e-01,  3.9288e-01,  6.4184e-01, -7.2558e-01, -1.7088e+00,\n",
            "         8.5925e-01, -1.6366e+00,  7.0876e-01, -2.4002e-01,  6.6280e-01,\n",
            "         2.1969e+00, -4.2029e-01,  7.4432e-01, -4.2067e-01,  1.0630e+00,\n",
            "        -2.3470e-01, -1.9545e+00,  1.1737e+00, -3.6343e-01, -2.6287e+00,\n",
            "         1.5860e-01,  3.2440e-01, -1.5575e+00, -1.8965e-01,  8.8856e-01,\n",
            "         2.9837e-01,  8.6374e-02, -6.9129e-02,  9.4559e-01,  8.8734e-01,\n",
            "        -1.1176e+00,  7.4495e-01,  1.5002e-01,  2.6439e-01,  1.2185e-01,\n",
            "         1.3667e+00,  9.7019e-01,  8.4729e-01,  1.9375e+00,  3.3289e-01,\n",
            "         1.2380e+00, -1.0217e+00, -9.5708e-01,  1.0840e+00,  1.6985e+00,\n",
            "         9.7064e-01, -7.7444e-01,  2.6472e-01,  5.3370e-02,  2.4611e+00,\n",
            "        -7.6773e-02,  4.4322e-01, -9.8578e-01, -7.0405e-01, -5.9117e-01,\n",
            "         7.4286e-02,  1.9006e-01,  3.7199e-01,  9.1030e-01, -3.7746e+00,\n",
            "         2.3148e-02, -1.3773e-01,  1.3046e+00, -2.8181e-02, -1.0694e+00,\n",
            "        -2.5672e-01, -6.3999e-01, -1.3458e+00,  1.6162e+00, -1.4778e+00,\n",
            "         6.7697e-04, -2.8589e-01,  7.8105e-01,  5.8330e-01,  1.5058e+00,\n",
            "         2.2988e+00, -1.8329e-01, -2.0080e-01, -1.6699e+00, -3.3169e+00,\n",
            "        -1.4055e+00,  1.2225e+00,  7.5430e-01, -8.6266e-01,  9.4268e-02,\n",
            "         1.2413e+00,  2.3888e-01, -7.4126e-01,  5.1338e-01, -1.1948e+00,\n",
            "        -1.3001e+00,  1.1027e+00, -1.8536e+00,  4.1632e-01,  7.6524e-01,\n",
            "        -1.6241e+00,  4.3911e-01,  7.1966e-01, -3.1617e-01,  9.0976e-01,\n",
            "        -6.2405e-01,  2.3135e-01, -1.1351e+00, -8.9571e-01, -2.5332e+00,\n",
            "        -2.3400e+00, -6.2700e-01, -5.6215e-01,  1.5919e+00,  2.1553e+00,\n",
            "         1.4964e+00,  8.2215e-01,  4.3417e-01,  7.7587e-01, -6.9576e-01,\n",
            "        -2.2351e-01, -1.0166e-01, -5.1952e-02,  7.2173e-01, -6.8331e-01,\n",
            "         8.1229e-01, -1.3975e+00, -1.3565e+00,  5.1280e-01, -3.6699e-01,\n",
            "        -4.3975e-01,  6.1848e-01, -2.0069e+00,  8.6370e-01, -7.0560e-01,\n",
            "        -3.4848e-01, -1.7157e-02,  5.8224e-01, -3.7595e-01, -4.0598e-02,\n",
            "         7.9325e-02,  8.6841e-01,  1.6576e+00, -3.3825e-02, -3.7711e-01,\n",
            "         1.7424e-02, -8.5471e-01,  1.2594e+00, -4.1914e-01, -6.8280e-01,\n",
            "         6.7819e-02,  4.9278e-01,  1.5677e+00, -4.4564e-01,  1.2421e+00,\n",
            "        -7.8681e-01, -4.4319e-01,  3.1068e-02, -2.7110e+00, -1.0555e+00,\n",
            "         1.1581e+00, -7.3291e-01,  1.4242e+00,  1.2193e+00, -4.7926e-01,\n",
            "         2.1634e+00,  4.8817e-01, -2.7539e-01,  6.8605e-01,  2.9769e-01,\n",
            "         1.7308e-01, -1.0538e+00,  1.5978e+00,  9.9510e-01, -6.9900e-01,\n",
            "         4.8721e-01,  1.1443e+00, -7.0166e-01,  3.4032e-02,  8.8188e-01,\n",
            "        -6.4458e-01,  1.3477e+00,  2.5576e+00, -6.3902e-01,  1.1155e+00,\n",
            "         1.0937e-01,  2.0806e+00,  8.5510e-02, -8.3622e-01,  6.6530e-01,\n",
            "        -1.1742e-01, -4.9498e-01,  1.2883e+00, -1.1586e-01,  4.0455e-01,\n",
            "        -9.9766e-02, -1.3447e-01, -5.4478e-01,  6.6046e-01,  1.8113e-01,\n",
            "         2.2088e-01, -1.0502e+00, -2.0597e+00, -8.5789e-01,  1.2897e+00,\n",
            "        -6.8093e-01,  7.4926e-01, -6.7566e-01,  2.7496e+00,  1.2555e+00,\n",
            "         4.7935e-01, -1.3791e+00, -1.3617e+00,  1.0893e+00,  6.6551e-01,\n",
            "        -1.6098e+00, -6.8870e-01, -8.8018e-02, -1.4185e+00,  7.0028e-01,\n",
            "        -2.3237e-01,  9.4590e-01,  6.7456e-01,  1.8983e+00,  1.6052e+00,\n",
            "        -7.9570e-02, -1.1938e+00, -4.5710e-01, -1.0740e+00,  7.3505e-01,\n",
            "         5.8125e-02,  1.3683e-02,  2.7415e+00, -1.6187e+00, -7.9081e-01,\n",
            "         9.3872e-01,  2.6265e-01,  8.0514e-01,  5.8539e-01, -1.0421e+00,\n",
            "        -4.8791e-01, -1.5094e+00,  2.1792e+00, -1.0381e+00, -8.5022e-01,\n",
            "        -9.8383e-01,  5.2366e-01,  4.8465e-02,  3.4057e-01, -1.1690e+00,\n",
            "         6.4388e-01,  1.8100e+00,  4.9623e-02,  2.9951e-01,  6.4589e-02,\n",
            "         9.8173e-01, -2.5625e+00,  1.1121e+00,  1.1525e+00, -6.7015e-01,\n",
            "         9.8127e-01, -1.5348e+00,  1.2081e+00,  1.7074e-01, -1.6142e+00,\n",
            "        -7.9152e-01,  3.2012e-02, -3.6108e-01, -1.6649e+00, -2.6287e-01,\n",
            "        -2.7814e+00,  5.4569e-01, -7.4089e-02, -5.7965e-01,  8.9677e-01,\n",
            "        -1.0185e-01,  4.2178e-01, -8.2691e-01,  7.2092e-01, -2.5807e-02,\n",
            "         8.2235e-01,  1.8497e-01,  1.2444e+00, -6.1205e-01,  2.8323e-02,\n",
            "        -1.0203e+00, -1.6847e+00,  1.0089e-02, -1.7276e+00, -6.7398e-03,\n",
            "         5.3706e-01, -8.0285e-02, -1.4464e+00,  7.9358e-01,  5.8783e-01,\n",
            "         3.9278e-01, -8.6390e-01,  9.8182e-01,  6.1131e-01,  4.5336e-01,\n",
            "        -2.6149e-01,  1.3094e+00,  2.0335e-01, -2.1813e-01,  9.6360e-01,\n",
            "        -1.2185e-01, -3.0905e-01, -4.2307e-01,  1.0372e+00, -6.1695e-01,\n",
            "         6.2244e-01, -4.4220e-01,  4.8878e-02, -6.9615e-01,  3.3419e-02,\n",
            "         7.7929e-01,  1.4017e-01, -6.8373e-01,  1.1090e+00,  3.0381e+00,\n",
            "        -3.1827e-01,  1.2377e+00,  2.4177e-02, -3.5226e-01, -1.3388e+00,\n",
            "        -7.4441e-02,  1.7921e-01,  7.1741e-01,  1.7705e+00, -6.4971e-01,\n",
            "        -1.4961e+00, -1.2731e-01,  1.3760e+00, -1.0939e+00,  2.7965e+00,\n",
            "        -6.4074e-01, -8.4372e-01, -1.8183e+00, -1.1999e+00, -1.8921e+00,\n",
            "        -6.1999e-01, -4.3758e-01,  1.6978e+00,  8.8346e-02, -4.7029e-01,\n",
            "         6.7926e-01, -7.2545e-03, -8.8728e-01,  9.7105e-02,  4.7002e-01,\n",
            "         2.4921e-01, -1.2308e+00,  8.0842e-01, -2.4954e-02,  6.7439e-01,\n",
            "         1.5350e-01, -8.6374e-01, -9.2703e-01,  9.4485e-01, -4.4929e-01,\n",
            "         3.0069e-02, -1.1691e+00,  7.4014e-01,  1.5796e-02, -7.3884e-01,\n",
            "         8.9700e-01,  1.1154e+00,  4.0815e-01,  2.0451e-01,  9.8762e-01,\n",
            "        -1.7892e-01, -3.4104e+00, -4.0971e-01, -1.5755e+00,  1.0938e+00,\n",
            "        -2.9104e+00,  4.2357e-01,  3.2479e-02, -6.4692e-01, -1.2944e-01,\n",
            "        -1.0591e+00, -3.0181e-01,  1.0903e+00,  1.3630e+00,  7.9521e-01,\n",
            "         2.5459e-01, -1.0112e+00,  2.4647e-02,  6.7230e-01,  4.8809e-01,\n",
            "        -1.0492e+00, -3.3402e-01,  6.1757e-01,  1.9839e-01,  7.9617e-03,\n",
            "         1.9065e+00, -1.9139e+00, -2.9088e-01, -2.7824e-01,  3.0062e-01,\n",
            "         4.3179e-01,  5.7964e-01,  1.4904e+00, -6.6022e-01,  7.5524e-01,\n",
            "        -2.1912e-02,  2.3497e-02, -4.0018e-03, -1.6492e-01,  1.3016e+00,\n",
            "        -1.3092e+00,  4.5490e-01, -4.3218e-01,  3.4346e-01, -1.1253e+00,\n",
            "        -6.5570e-01, -5.8208e-01, -1.1911e+00,  3.2488e-01, -1.1933e-01,\n",
            "         6.0044e-01,  5.6921e-02,  2.1423e-01,  3.9126e-01, -1.8357e-01,\n",
            "         1.0320e+00, -3.7295e-01,  4.3995e-01, -3.2107e-01,  5.3294e-01,\n",
            "         1.7621e+00, -6.2386e-01,  1.2833e+00, -1.9577e-01,  9.8662e-01,\n",
            "         1.3218e+00, -3.7754e-01, -1.7087e+00, -1.4129e+00,  3.6099e-02,\n",
            "        -3.2285e-02, -1.5970e+00,  1.9068e-01,  2.0077e+00,  1.9026e-01,\n",
            "        -3.7640e-02, -7.6468e-01,  1.5151e+00, -4.0910e-02,  3.3009e-01,\n",
            "         2.4052e+00, -3.6652e-01, -1.4018e+00, -9.7740e-01,  5.4894e-01,\n",
            "         1.2421e-01,  6.8390e-01,  1.0981e+00, -2.4277e-02, -1.4275e+00,\n",
            "        -1.8542e-01, -3.2932e-01, -2.6862e-03, -6.2163e-01,  8.2592e-01,\n",
            "        -1.5385e+00, -9.1795e-01, -2.4664e-01, -1.5446e+00, -1.6639e-01,\n",
            "         1.1170e+00, -1.6070e-01, -2.2719e-01,  1.3439e+00, -2.3592e+00,\n",
            "        -1.0469e+00, -3.1288e-01,  9.2745e-01,  1.2265e+00, -5.2325e-01,\n",
            "         5.9640e-01, -1.1061e+00, -3.8640e-01, -1.7374e-01, -9.7715e-01,\n",
            "        -1.2251e+00, -5.7221e-01,  8.1068e-01, -4.3323e-01, -1.5701e+00,\n",
            "        -3.3554e-01, -3.5861e-01, -1.7260e+00, -7.9425e-01,  1.2433e+00,\n",
            "         2.1583e+00, -8.1111e-01,  6.8833e-01,  3.6880e-01, -9.9327e-01,\n",
            "         1.7893e+00,  8.9204e-02,  1.5281e+00,  6.2899e-01,  1.0378e-01,\n",
            "         7.3266e-01,  7.0695e-01, -4.9614e-01, -2.3607e-01, -9.4418e-01,\n",
            "        -1.3968e+00, -1.7417e+00,  1.3511e+00,  8.8604e-01, -5.2801e-01,\n",
            "        -7.2548e-01,  1.4912e+00, -6.0581e-02, -5.4909e-01,  2.3768e-01,\n",
            "        -3.7967e-01, -2.5602e-01,  1.4284e+00, -1.1546e+00,  1.5132e+00,\n",
            "        -3.4897e-01,  6.1163e-01,  8.5047e-01,  4.7909e-02,  2.9402e-01,\n",
            "        -1.2308e+00,  1.1872e+00, -2.2448e-01,  9.8615e-01,  7.7979e-01,\n",
            "         1.0140e+00, -1.3530e+00,  2.9983e-01,  2.7323e+00,  6.7980e-01,\n",
            "        -9.3050e-02, -2.8813e-01,  3.5784e-01,  1.5401e-01, -3.7910e-01,\n",
            "        -1.3376e+00,  4.4700e-01, -7.1959e-01, -3.2018e-01, -3.2815e-01,\n",
            "        -2.9262e-01, -1.0902e-01,  2.2705e-01,  1.3216e+00, -6.2024e-01,\n",
            "         7.2800e-01,  3.1335e-01,  8.9766e-01, -1.1585e+00, -1.2707e-01,\n",
            "        -2.3042e-01, -1.5949e+00,  1.2978e+00,  2.2092e-02,  5.8336e-02,\n",
            "        -9.1826e-01,  1.2150e+00, -1.8425e+00, -8.2715e-01,  1.8426e-01,\n",
            "        -1.2642e+00, -8.2608e-02, -5.4166e-01, -5.5741e-01,  7.8268e-01,\n",
            "        -8.6032e-01, -1.1331e+00,  1.2547e+00,  1.2187e+00,  7.1139e-01,\n",
            "         1.2326e+00, -6.5811e-02, -1.0322e-01, -3.3415e-01, -1.1306e+00,\n",
            "         2.6866e+00, -1.3735e+00, -8.0378e-01,  1.1138e-01,  1.9462e+00,\n",
            "        -1.2837e+00, -6.7984e-01, -1.3485e+00, -2.7779e-01,  6.4527e-01,\n",
            "        -3.8594e-01,  1.7719e+00, -1.5426e+00, -4.5017e-01, -1.3078e-01,\n",
            "         1.8420e+00,  6.1890e-01, -4.6686e-01,  5.1828e-01,  1.0746e+00,\n",
            "         1.6962e+00, -3.4087e-01, -7.0679e-01, -5.0741e-01, -7.8029e-02,\n",
            "        -4.4281e-01,  6.5695e-01,  1.2617e+00,  2.0279e-01,  1.2481e+00,\n",
            "        -2.9480e-01,  4.8341e-02,  1.1514e+00, -1.1859e+00,  8.2611e-01,\n",
            "        -1.6299e+00,  9.3196e-01, -5.2616e-01,  6.6166e-01,  1.7094e-01,\n",
            "         1.0663e-01,  1.0069e+00,  1.7033e-01,  1.4366e+00,  1.3053e+00,\n",
            "        -1.0366e+00, -1.1545e-01,  1.7307e+00, -4.4340e-01,  1.7456e+00,\n",
            "        -4.2232e-01, -2.4507e-01, -8.0548e-01, -7.7744e-01, -8.2896e-01,\n",
            "         5.6226e-01, -1.0217e+00,  1.0414e+00,  8.6758e-01,  7.1249e-01,\n",
            "         8.8153e-01, -1.4549e+00,  3.8909e-01, -1.4719e+00, -7.1375e-01,\n",
            "         1.2886e+00,  1.4131e+00,  8.1532e-01, -1.9259e-01, -1.0103e+00,\n",
            "         7.5472e-02, -7.5695e-01,  6.3237e-01, -1.8026e-01,  1.4081e+00,\n",
            "        -7.7234e-01, -7.4708e-01,  9.5521e-01,  3.5150e+00,  1.0921e-01,\n",
            "        -1.6847e+00, -1.1315e-02, -1.4621e+00,  6.9864e-02, -4.0083e-01,\n",
            "        -7.6192e-01, -1.3781e+00, -8.7409e-01,  1.3195e+00,  6.3015e-01,\n",
            "        -8.6628e-01, -6.7470e-02, -7.6853e-02,  1.5943e+00, -1.6627e+00,\n",
            "        -1.6009e+00, -3.5252e-02, -3.8634e-01,  6.2082e-01, -5.2268e-01,\n",
            "        -1.8104e+00, -8.6448e-01, -7.1692e-01, -1.7600e+00,  2.9294e-01,\n",
            "         1.2315e+00,  4.6607e-01,  2.2020e-01,  8.1305e-01,  2.7884e-01,\n",
            "         5.3559e-02,  4.4083e-01,  6.2916e-01,  7.1954e-01,  2.5906e-01,\n",
            "         7.7075e-02,  2.0745e-01,  8.8852e-01, -7.7309e-01, -5.2285e-01,\n",
            "        -1.4300e-01, -3.4380e-01, -3.4540e-01, -2.9249e+00, -2.3783e-01])\n"
          ],
          "name": "stdout"
        }
      ]
    },
    {
      "cell_type": "code",
      "metadata": {
        "colab": {
          "base_uri": "https://localhost:8080/",
          "height": 244
        },
        "id": "YOq4OFtIbwjQ",
        "outputId": "e0ea3fb8-bdc5-4113-a5bc-e445c61668e4"
      },
      "source": [
        "d2l.set_figsize()\n",
        "\n",
        "d2l.plt.scatter(features[:,(1)].detach().numpy(),\n",
        "                labels.detach().numpy(),1);"
      ],
      "execution_count": 37,
      "outputs": [
        {
          "output_type": "display_data",
          "data": {
            "text/plain": [
              "<Figure size 252x180 with 1 Axes>"
            ],
            "image/svg+xml": "<?xml version=\"1.0\" encoding=\"utf-8\" standalone=\"no\"?>\n<!DOCTYPE svg PUBLIC \"-//W3C//DTD SVG 1.1//EN\"\n  \"http://www.w3.org/Graphics/SVG/1.1/DTD/svg11.dtd\">\n<!-- Created with matplotlib (https://matplotlib.org/) -->\n<svg height=\"166.978125pt\" version=\"1.1\" viewBox=\"0 0 231.442187 166.978125\" width=\"231.442187pt\" xmlns=\"http://www.w3.org/2000/svg\" xmlns:xlink=\"http://www.w3.org/1999/xlink\">\n <defs>\n  <style type=\"text/css\">\n*{stroke-linecap:butt;stroke-linejoin:round;}\n  </style>\n </defs>\n <g id=\"figure_1\">\n  <g id=\"patch_1\">\n   <path d=\"M 0 166.978125 \nL 231.442187 166.978125 \nL 231.442187 0 \nL 0 0 \nz\n\" style=\"fill:none;\"/>\n  </g>\n  <g id=\"axes_1\">\n   <g id=\"patch_2\">\n    <path d=\"M 28.942188 143.1 \nL 224.242188 143.1 \nL 224.242188 7.2 \nL 28.942188 7.2 \nz\n\" style=\"fill:#ffffff;\"/>\n   </g>\n   <g id=\"PathCollection_1\">\n    <defs>\n     <path d=\"M 0 0.5 \nC 0.132602 0.5 0.25979 0.447317 0.353553 0.353553 \nC 0.447317 0.25979 0.5 0.132602 0.5 0 \nC 0.5 -0.132602 0.447317 -0.25979 0.353553 -0.353553 \nC 0.25979 -0.447317 0.132602 -0.5 0 -0.5 \nC -0.132602 -0.5 -0.25979 -0.447317 -0.353553 -0.353553 \nC -0.447317 -0.25979 -0.5 -0.132602 -0.5 0 \nC -0.5 0.132602 -0.447317 0.25979 -0.353553 0.353553 \nC -0.25979 0.447317 -0.132602 0.5 0 0.5 \nz\n\" id=\"m1596cfa925\" style=\"stroke:#1f77b4;\"/>\n    </defs>\n    <g clip-path=\"url(#p9d3bec9d8c)\">\n     <use style=\"fill:#1f77b4;stroke:#1f77b4;\" x=\"114.189203\" xlink:href=\"#m1596cfa925\" y=\"77.782583\"/>\n     <use style=\"fill:#1f77b4;stroke:#1f77b4;\" x=\"126.867327\" xlink:href=\"#m1596cfa925\" y=\"92.012744\"/>\n     <use style=\"fill:#1f77b4;stroke:#1f77b4;\" x=\"143.376405\" xlink:href=\"#m1596cfa925\" y=\"93.765391\"/>\n     <use style=\"fill:#1f77b4;stroke:#1f77b4;\" x=\"144.952587\" xlink:href=\"#m1596cfa925\" y=\"92.065164\"/>\n     <use style=\"fill:#1f77b4;stroke:#1f77b4;\" x=\"142.620652\" xlink:href=\"#m1596cfa925\" y=\"86.141282\"/>\n     <use style=\"fill:#1f77b4;stroke:#1f77b4;\" x=\"91.923341\" xlink:href=\"#m1596cfa925\" y=\"72.501886\"/>\n     <use style=\"fill:#1f77b4;stroke:#1f77b4;\" x=\"113.045648\" xlink:href=\"#m1596cfa925\" y=\"66.709877\"/>\n     <use style=\"fill:#1f77b4;stroke:#1f77b4;\" x=\"171.705902\" xlink:href=\"#m1596cfa925\" y=\"112.085741\"/>\n     <use style=\"fill:#1f77b4;stroke:#1f77b4;\" x=\"121.825819\" xlink:href=\"#m1596cfa925\" y=\"69.322461\"/>\n     <use style=\"fill:#1f77b4;stroke:#1f77b4;\" x=\"106.493107\" xlink:href=\"#m1596cfa925\" y=\"61.536364\"/>\n     <use style=\"fill:#1f77b4;stroke:#1f77b4;\" x=\"99.330842\" xlink:href=\"#m1596cfa925\" y=\"42.041166\"/>\n     <use style=\"fill:#1f77b4;stroke:#1f77b4;\" x=\"123.218242\" xlink:href=\"#m1596cfa925\" y=\"87.533514\"/>\n     <use style=\"fill:#1f77b4;stroke:#1f77b4;\" x=\"89.642983\" xlink:href=\"#m1596cfa925\" y=\"45.476044\"/>\n     <use style=\"fill:#1f77b4;stroke:#1f77b4;\" x=\"99.196049\" xlink:href=\"#m1596cfa925\" y=\"60.308311\"/>\n     <use style=\"fill:#1f77b4;stroke:#1f77b4;\" x=\"154.840115\" xlink:href=\"#m1596cfa925\" y=\"103.308237\"/>\n     <use style=\"fill:#1f77b4;stroke:#1f77b4;\" x=\"130.514463\" xlink:href=\"#m1596cfa925\" y=\"86.370181\"/>\n     <use style=\"fill:#1f77b4;stroke:#1f77b4;\" x=\"153.370342\" xlink:href=\"#m1596cfa925\" y=\"98.850237\"/>\n     <use style=\"fill:#1f77b4;stroke:#1f77b4;\" x=\"145.199614\" xlink:href=\"#m1596cfa925\" y=\"81.540373\"/>\n     <use style=\"fill:#1f77b4;stroke:#1f77b4;\" x=\"117.146672\" xlink:href=\"#m1596cfa925\" y=\"75.784429\"/>\n     <use style=\"fill:#1f77b4;stroke:#1f77b4;\" x=\"147.198739\" xlink:href=\"#m1596cfa925\" y=\"86.644918\"/>\n     <use style=\"fill:#1f77b4;stroke:#1f77b4;\" x=\"154.735159\" xlink:href=\"#m1596cfa925\" y=\"97.075044\"/>\n     <use style=\"fill:#1f77b4;stroke:#1f77b4;\" x=\"128.857487\" xlink:href=\"#m1596cfa925\" y=\"85.476005\"/>\n     <use style=\"fill:#1f77b4;stroke:#1f77b4;\" x=\"124.404152\" xlink:href=\"#m1596cfa925\" y=\"77.877147\"/>\n     <use style=\"fill:#1f77b4;stroke:#1f77b4;\" x=\"131.085792\" xlink:href=\"#m1596cfa925\" y=\"106.296285\"/>\n     <use style=\"fill:#1f77b4;stroke:#1f77b4;\" x=\"141.141871\" xlink:href=\"#m1596cfa925\" y=\"84.035296\"/>\n     <use style=\"fill:#1f77b4;stroke:#1f77b4;\" x=\"102.752533\" xlink:href=\"#m1596cfa925\" y=\"53.914814\"/>\n     <use style=\"fill:#1f77b4;stroke:#1f77b4;\" x=\"131.933309\" xlink:href=\"#m1596cfa925\" y=\"89.867574\"/>\n     <use style=\"fill:#1f77b4;stroke:#1f77b4;\" x=\"130.626997\" xlink:href=\"#m1596cfa925\" y=\"82.686262\"/>\n     <use style=\"fill:#1f77b4;stroke:#1f77b4;\" x=\"154.867919\" xlink:href=\"#m1596cfa925\" y=\"95.980722\"/>\n     <use style=\"fill:#1f77b4;stroke:#1f77b4;\" x=\"111.384435\" xlink:href=\"#m1596cfa925\" y=\"53.875631\"/>\n     <use style=\"fill:#1f77b4;stroke:#1f77b4;\" x=\"149.456428\" xlink:href=\"#m1596cfa925\" y=\"93.509933\"/>\n     <use style=\"fill:#1f77b4;stroke:#1f77b4;\" x=\"167.142614\" xlink:href=\"#m1596cfa925\" y=\"102.413153\"/>\n     <use style=\"fill:#1f77b4;stroke:#1f77b4;\" x=\"84.768516\" xlink:href=\"#m1596cfa925\" y=\"55.807452\"/>\n     <use style=\"fill:#1f77b4;stroke:#1f77b4;\" x=\"107.930691\" xlink:href=\"#m1596cfa925\" y=\"73.54178\"/>\n     <use style=\"fill:#1f77b4;stroke:#1f77b4;\" x=\"147.918316\" xlink:href=\"#m1596cfa925\" y=\"92.004796\"/>\n     <use style=\"fill:#1f77b4;stroke:#1f77b4;\" x=\"165.979122\" xlink:href=\"#m1596cfa925\" y=\"108.097632\"/>\n     <use style=\"fill:#1f77b4;stroke:#1f77b4;\" x=\"165.451366\" xlink:href=\"#m1596cfa925\" y=\"107.504468\"/>\n     <use style=\"fill:#1f77b4;stroke:#1f77b4;\" x=\"131.969338\" xlink:href=\"#m1596cfa925\" y=\"78.618059\"/>\n     <use style=\"fill:#1f77b4;stroke:#1f77b4;\" x=\"99.089139\" xlink:href=\"#m1596cfa925\" y=\"67.198307\"/>\n     <use style=\"fill:#1f77b4;stroke:#1f77b4;\" x=\"122.967414\" xlink:href=\"#m1596cfa925\" y=\"82.644184\"/>\n     <use style=\"fill:#1f77b4;stroke:#1f77b4;\" x=\"139.950901\" xlink:href=\"#m1596cfa925\" y=\"118.671071\"/>\n     <use style=\"fill:#1f77b4;stroke:#1f77b4;\" x=\"127.672746\" xlink:href=\"#m1596cfa925\" y=\"72.752809\"/>\n     <use style=\"fill:#1f77b4;stroke:#1f77b4;\" x=\"127.428198\" xlink:href=\"#m1596cfa925\" y=\"85.609236\"/>\n     <use style=\"fill:#1f77b4;stroke:#1f77b4;\" x=\"88.775094\" xlink:href=\"#m1596cfa925\" y=\"41.147832\"/>\n     <use style=\"fill:#1f77b4;stroke:#1f77b4;\" x=\"111.713481\" xlink:href=\"#m1596cfa925\" y=\"69.069808\"/>\n     <use style=\"fill:#1f77b4;stroke:#1f77b4;\" x=\"125.297167\" xlink:href=\"#m1596cfa925\" y=\"98.745841\"/>\n     <use style=\"fill:#1f77b4;stroke:#1f77b4;\" x=\"174.675271\" xlink:href=\"#m1596cfa925\" y=\"105.846593\"/>\n     <use style=\"fill:#1f77b4;stroke:#1f77b4;\" x=\"146.487571\" xlink:href=\"#m1596cfa925\" y=\"80.099736\"/>\n     <use style=\"fill:#1f77b4;stroke:#1f77b4;\" x=\"115.430306\" xlink:href=\"#m1596cfa925\" y=\"71.115298\"/>\n     <use style=\"fill:#1f77b4;stroke:#1f77b4;\" x=\"157.580576\" xlink:href=\"#m1596cfa925\" y=\"95.528958\"/>\n     <use style=\"fill:#1f77b4;stroke:#1f77b4;\" x=\"120.631207\" xlink:href=\"#m1596cfa925\" y=\"76.541993\"/>\n     <use style=\"fill:#1f77b4;stroke:#1f77b4;\" x=\"134.146917\" xlink:href=\"#m1596cfa925\" y=\"87.596924\"/>\n     <use style=\"fill:#1f77b4;stroke:#1f77b4;\" x=\"81.427665\" xlink:href=\"#m1596cfa925\" y=\"44.559609\"/>\n     <use style=\"fill:#1f77b4;stroke:#1f77b4;\" x=\"157.881847\" xlink:href=\"#m1596cfa925\" y=\"101.715663\"/>\n     <use style=\"fill:#1f77b4;stroke:#1f77b4;\" x=\"138.904835\" xlink:href=\"#m1596cfa925\" y=\"76.026609\"/>\n     <use style=\"fill:#1f77b4;stroke:#1f77b4;\" x=\"74.531642\" xlink:href=\"#m1596cfa925\" y=\"46.650195\"/>\n     <use style=\"fill:#1f77b4;stroke:#1f77b4;\" x=\"165.145142\" xlink:href=\"#m1596cfa925\" y=\"102.077771\"/>\n     <use style=\"fill:#1f77b4;stroke:#1f77b4;\" x=\"158.294711\" xlink:href=\"#m1596cfa925\" y=\"95.623793\"/>\n     <use style=\"fill:#1f77b4;stroke:#1f77b4;\" x=\"167.342029\" xlink:href=\"#m1596cfa925\" y=\"93.313003\"/>\n     <use style=\"fill:#1f77b4;stroke:#1f77b4;\" x=\"69.219996\" xlink:href=\"#m1596cfa925\" y=\"51.982765\"/>\n     <use style=\"fill:#1f77b4;stroke:#1f77b4;\" x=\"93.758325\" xlink:href=\"#m1596cfa925\" y=\"63.727462\"/>\n     <use style=\"fill:#1f77b4;stroke:#1f77b4;\" x=\"112.888486\" xlink:href=\"#m1596cfa925\" y=\"60.878535\"/>\n     <use style=\"fill:#1f77b4;stroke:#1f77b4;\" x=\"132.217833\" xlink:href=\"#m1596cfa925\" y=\"95.76126\"/>\n     <use style=\"fill:#1f77b4;stroke:#1f77b4;\" x=\"103.7758\" xlink:href=\"#m1596cfa925\" y=\"66.474075\"/>\n     <use style=\"fill:#1f77b4;stroke:#1f77b4;\" x=\"98.92868\" xlink:href=\"#m1596cfa925\" y=\"51.912765\"/>\n     <use style=\"fill:#1f77b4;stroke:#1f77b4;\" x=\"106.006555\" xlink:href=\"#m1596cfa925\" y=\"77.05271\"/>\n     <use style=\"fill:#1f77b4;stroke:#1f77b4;\" x=\"154.194909\" xlink:href=\"#m1596cfa925\" y=\"79.083983\"/>\n     <use style=\"fill:#1f77b4;stroke:#1f77b4;\" x=\"99.868789\" xlink:href=\"#m1596cfa925\" y=\"46.36307\"/>\n     <use style=\"fill:#1f77b4;stroke:#1f77b4;\" x=\"164.289058\" xlink:href=\"#m1596cfa925\" y=\"109.969585\"/>\n     <use style=\"fill:#1f77b4;stroke:#1f77b4;\" x=\"154.787746\" xlink:href=\"#m1596cfa925\" y=\"113.38554\"/>\n     <use style=\"fill:#1f77b4;stroke:#1f77b4;\" x=\"94.090647\" xlink:href=\"#m1596cfa925\" y=\"50.421575\"/>\n     <use style=\"fill:#1f77b4;stroke:#1f77b4;\" x=\"118.508028\" xlink:href=\"#m1596cfa925\" y=\"62.706788\"/>\n     <use style=\"fill:#1f77b4;stroke:#1f77b4;\" x=\"108.978986\" xlink:href=\"#m1596cfa925\" y=\"93.183046\"/>\n     <use style=\"fill:#1f77b4;stroke:#1f77b4;\" x=\"96.941309\" xlink:href=\"#m1596cfa925\" y=\"61.068829\"/>\n     <use style=\"fill:#1f77b4;stroke:#1f77b4;\" x=\"134.093617\" xlink:href=\"#m1596cfa925\" y=\"81.064853\"/>\n     <use style=\"fill:#1f77b4;stroke:#1f77b4;\" x=\"186.59536\" xlink:href=\"#m1596cfa925\" y=\"118.174564\"/>\n     <use style=\"fill:#1f77b4;stroke:#1f77b4;\" x=\"192.862738\" xlink:href=\"#m1596cfa925\" y=\"136.922727\"/>\n     <use style=\"fill:#1f77b4;stroke:#1f77b4;\" x=\"171.313423\" xlink:href=\"#m1596cfa925\" y=\"111.244336\"/>\n     <use style=\"fill:#1f77b4;stroke:#1f77b4;\" x=\"141.610775\" xlink:href=\"#m1596cfa925\" y=\"95.887418\"/>\n     <use style=\"fill:#1f77b4;stroke:#1f77b4;\" x=\"121.998909\" xlink:href=\"#m1596cfa925\" y=\"83.254226\"/>\n     <use style=\"fill:#1f77b4;stroke:#1f77b4;\" x=\"126.006758\" xlink:href=\"#m1596cfa925\" y=\"79.107578\"/>\n     <use style=\"fill:#1f77b4;stroke:#1f77b4;\" x=\"139.372114\" xlink:href=\"#m1596cfa925\" y=\"92.420153\"/>\n     <use style=\"fill:#1f77b4;stroke:#1f77b4;\" x=\"149.986489\" xlink:href=\"#m1596cfa925\" y=\"100.906375\"/>\n     <use style=\"fill:#1f77b4;stroke:#1f77b4;\" x=\"158.513317\" xlink:href=\"#m1596cfa925\" y=\"95.879004\"/>\n     <use style=\"fill:#1f77b4;stroke:#1f77b4;\" x=\"113.229315\" xlink:href=\"#m1596cfa925\" y=\"80.078468\"/>\n     <use style=\"fill:#1f77b4;stroke:#1f77b4;\" x=\"93.49626\" xlink:href=\"#m1596cfa925\" y=\"64.468001\"/>\n     <use style=\"fill:#1f77b4;stroke:#1f77b4;\" x=\"160.183583\" xlink:href=\"#m1596cfa925\" y=\"109.268407\"/>\n     <use style=\"fill:#1f77b4;stroke:#1f77b4;\" x=\"108.504374\" xlink:href=\"#m1596cfa925\" y=\"74.257507\"/>\n     <use style=\"fill:#1f77b4;stroke:#1f77b4;\" x=\"130.016611\" xlink:href=\"#m1596cfa925\" y=\"95.750203\"/>\n     <use style=\"fill:#1f77b4;stroke:#1f77b4;\" x=\"110.952167\" xlink:href=\"#m1596cfa925\" y=\"63.466032\"/>\n     <use style=\"fill:#1f77b4;stroke:#1f77b4;\" x=\"104.657269\" xlink:href=\"#m1596cfa925\" y=\"83.681863\"/>\n     <use style=\"fill:#1f77b4;stroke:#1f77b4;\" x=\"131.146641\" xlink:href=\"#m1596cfa925\" y=\"87.995475\"/>\n     <use style=\"fill:#1f77b4;stroke:#1f77b4;\" x=\"121.474089\" xlink:href=\"#m1596cfa925\" y=\"92.35055\"/>\n     <use style=\"fill:#1f77b4;stroke:#1f77b4;\" x=\"95.278572\" xlink:href=\"#m1596cfa925\" y=\"45.739038\"/>\n     <use style=\"fill:#1f77b4;stroke:#1f77b4;\" x=\"140.920534\" xlink:href=\"#m1596cfa925\" y=\"87.789116\"/>\n     <use style=\"fill:#1f77b4;stroke:#1f77b4;\" x=\"147.295404\" xlink:href=\"#m1596cfa925\" y=\"96.852823\"/>\n     <use style=\"fill:#1f77b4;stroke:#1f77b4;\" x=\"116.837492\" xlink:href=\"#m1596cfa925\" y=\"73.458364\"/>\n     <use style=\"fill:#1f77b4;stroke:#1f77b4;\" x=\"128.595327\" xlink:href=\"#m1596cfa925\" y=\"65.503968\"/>\n     <use style=\"fill:#1f77b4;stroke:#1f77b4;\" x=\"109.667525\" xlink:href=\"#m1596cfa925\" y=\"64.377325\"/>\n     <use style=\"fill:#1f77b4;stroke:#1f77b4;\" x=\"90.469124\" xlink:href=\"#m1596cfa925\" y=\"45.278843\"/>\n     <use style=\"fill:#1f77b4;stroke:#1f77b4;\" x=\"67.792389\" xlink:href=\"#m1596cfa925\" y=\"22.451157\"/>\n     <use style=\"fill:#1f77b4;stroke:#1f77b4;\" x=\"114.017492\" xlink:href=\"#m1596cfa925\" y=\"57.906534\"/>\n     <use style=\"fill:#1f77b4;stroke:#1f77b4;\" x=\"120.425572\" xlink:href=\"#m1596cfa925\" y=\"62.570832\"/>\n     <use style=\"fill:#1f77b4;stroke:#1f77b4;\" x=\"128.360232\" xlink:href=\"#m1596cfa925\" y=\"96.453135\"/>\n     <use style=\"fill:#1f77b4;stroke:#1f77b4;\" x=\"131.286868\" xlink:href=\"#m1596cfa925\" y=\"82.976154\"/>\n     <use style=\"fill:#1f77b4;stroke:#1f77b4;\" x=\"113.537749\" xlink:href=\"#m1596cfa925\" y=\"66.963191\"/>\n     <use style=\"fill:#1f77b4;stroke:#1f77b4;\" x=\"161.352809\" xlink:href=\"#m1596cfa925\" y=\"86.107695\"/>\n     <use style=\"fill:#1f77b4;stroke:#1f77b4;\" x=\"97.287609\" xlink:href=\"#m1596cfa925\" y=\"69.484535\"/>\n     <use style=\"fill:#1f77b4;stroke:#1f77b4;\" x=\"112.093962\" xlink:href=\"#m1596cfa925\" y=\"62.918582\"/>\n     <use style=\"fill:#1f77b4;stroke:#1f77b4;\" x=\"69.90651\" xlink:href=\"#m1596cfa925\" y=\"27.328594\"/>\n     <use style=\"fill:#1f77b4;stroke:#1f77b4;\" x=\"107.121979\" xlink:href=\"#m1596cfa925\" y=\"75.6044\"/>\n     <use style=\"fill:#1f77b4;stroke:#1f77b4;\" x=\"99.158717\" xlink:href=\"#m1596cfa925\" y=\"38.333035\"/>\n     <use style=\"fill:#1f77b4;stroke:#1f77b4;\" x=\"84.658966\" xlink:href=\"#m1596cfa925\" y=\"47.254835\"/>\n     <use style=\"fill:#1f77b4;stroke:#1f77b4;\" x=\"162.673447\" xlink:href=\"#m1596cfa925\" y=\"117.89143\"/>\n     <use style=\"fill:#1f77b4;stroke:#1f77b4;\" x=\"98.334135\" xlink:href=\"#m1596cfa925\" y=\"61.427067\"/>\n     <use style=\"fill:#1f77b4;stroke:#1f77b4;\" x=\"134.620026\" xlink:href=\"#m1596cfa925\" y=\"87.172512\"/>\n     <use style=\"fill:#1f77b4;stroke:#1f77b4;\" x=\"140.42667\" xlink:href=\"#m1596cfa925\" y=\"87.8213\"/>\n     <use style=\"fill:#1f77b4;stroke:#1f77b4;\" x=\"168.570384\" xlink:href=\"#m1596cfa925\" y=\"83.354103\"/>\n     <use style=\"fill:#1f77b4;stroke:#1f77b4;\" x=\"124.45364\" xlink:href=\"#m1596cfa925\" y=\"83.140601\"/>\n     <use style=\"fill:#1f77b4;stroke:#1f77b4;\" x=\"112.048999\" xlink:href=\"#m1596cfa925\" y=\"82.923395\"/>\n     <use style=\"fill:#1f77b4;stroke:#1f77b4;\" x=\"119.558142\" xlink:href=\"#m1596cfa925\" y=\"63.346031\"/>\n     <use style=\"fill:#1f77b4;stroke:#1f77b4;\" x=\"109.125804\" xlink:href=\"#m1596cfa925\" y=\"82.903073\"/>\n     <use style=\"fill:#1f77b4;stroke:#1f77b4;\" x=\"117.105937\" xlink:href=\"#m1596cfa925\" y=\"70.173562\"/>\n     <use style=\"fill:#1f77b4;stroke:#1f77b4;\" x=\"173.286529\" xlink:href=\"#m1596cfa925\" y=\"110.316643\"/>\n     <use style=\"fill:#1f77b4;stroke:#1f77b4;\" x=\"130.010761\" xlink:href=\"#m1596cfa925\" y=\"98.217367\"/>\n     <use style=\"fill:#1f77b4;stroke:#1f77b4;\" x=\"113.237812\" xlink:href=\"#m1596cfa925\" y=\"72.098124\"/>\n     <use style=\"fill:#1f77b4;stroke:#1f77b4;\" x=\"100.740291\" xlink:href=\"#m1596cfa925\" y=\"63.545982\"/>\n     <use style=\"fill:#1f77b4;stroke:#1f77b4;\" x=\"138.044845\" xlink:href=\"#m1596cfa925\" y=\"93.740971\"/>\n     <use style=\"fill:#1f77b4;stroke:#1f77b4;\" x=\"124.6612\" xlink:href=\"#m1596cfa925\" y=\"74.989168\"/>\n     <use style=\"fill:#1f77b4;stroke:#1f77b4;\" x=\"140.219373\" xlink:href=\"#m1596cfa925\" y=\"77.929557\"/>\n     <use style=\"fill:#1f77b4;stroke:#1f77b4;\" x=\"129.970781\" xlink:href=\"#m1596cfa925\" y=\"78.390089\"/>\n     <use style=\"fill:#1f77b4;stroke:#1f77b4;\" x=\"132.725958\" xlink:href=\"#m1596cfa925\" y=\"103.695245\"/>\n     <use style=\"fill:#1f77b4;stroke:#1f77b4;\" x=\"143.448981\" xlink:href=\"#m1596cfa925\" y=\"97.447211\"/>\n     <use style=\"fill:#1f77b4;stroke:#1f77b4;\" x=\"134.118331\" xlink:href=\"#m1596cfa925\" y=\"71.295927\"/>\n     <use style=\"fill:#1f77b4;stroke:#1f77b4;\" x=\"124.003904\" xlink:href=\"#m1596cfa925\" y=\"88.849205\"/>\n     <use style=\"fill:#1f77b4;stroke:#1f77b4;\" x=\"116.796935\" xlink:href=\"#m1596cfa925\" y=\"76.226102\"/>\n     <use style=\"fill:#1f77b4;stroke:#1f77b4;\" x=\"130.606138\" xlink:href=\"#m1596cfa925\" y=\"66.466439\"/>\n     <use style=\"fill:#1f77b4;stroke:#1f77b4;\" x=\"157.91341\" xlink:href=\"#m1596cfa925\" y=\"109.281181\"/>\n     <use style=\"fill:#1f77b4;stroke:#1f77b4;\" x=\"120.777544\" xlink:href=\"#m1596cfa925\" y=\"74.84769\"/>\n     <use style=\"fill:#1f77b4;stroke:#1f77b4;\" x=\"119.91021\" xlink:href=\"#m1596cfa925\" y=\"80.516378\"/>\n     <use style=\"fill:#1f77b4;stroke:#1f77b4;\" x=\"148.316255\" xlink:href=\"#m1596cfa925\" y=\"98.723753\"/>\n     <use style=\"fill:#1f77b4;stroke:#1f77b4;\" x=\"150.978265\" xlink:href=\"#m1596cfa925\" y=\"90.404942\"/>\n     <use style=\"fill:#1f77b4;stroke:#1f77b4;\" x=\"119.492533\" xlink:href=\"#m1596cfa925\" y=\"74.788218\"/>\n     <use style=\"fill:#1f77b4;stroke:#1f77b4;\" x=\"117.440323\" xlink:href=\"#m1596cfa925\" y=\"72.12519\"/>\n     <use style=\"fill:#1f77b4;stroke:#1f77b4;\" x=\"113.823022\" xlink:href=\"#m1596cfa925\" y=\"72.073733\"/>\n     <use style=\"fill:#1f77b4;stroke:#1f77b4;\" x=\"154.074969\" xlink:href=\"#m1596cfa925\" y=\"100.191718\"/>\n     <use style=\"fill:#1f77b4;stroke:#1f77b4;\" x=\"131.004208\" xlink:href=\"#m1596cfa925\" y=\"85.54431\"/>\n     <use style=\"fill:#1f77b4;stroke:#1f77b4;\" x=\"133.35553\" xlink:href=\"#m1596cfa925\" y=\"76.214585\"/>\n     <use style=\"fill:#1f77b4;stroke:#1f77b4;\" x=\"138.251917\" xlink:href=\"#m1596cfa925\" y=\"83.427642\"/>\n     <use style=\"fill:#1f77b4;stroke:#1f77b4;\" x=\"113.159684\" xlink:href=\"#m1596cfa925\" y=\"83.054371\"/>\n     <use style=\"fill:#1f77b4;stroke:#1f77b4;\" x=\"110.013454\" xlink:href=\"#m1596cfa925\" y=\"69.499821\"/>\n     <use style=\"fill:#1f77b4;stroke:#1f77b4;\" x=\"155.19746\" xlink:href=\"#m1596cfa925\" y=\"94.108749\"/>\n     <use style=\"fill:#1f77b4;stroke:#1f77b4;\" x=\"184.764679\" xlink:href=\"#m1596cfa925\" y=\"122.694513\"/>\n     <use style=\"fill:#1f77b4;stroke:#1f77b4;\" x=\"114.136706\" xlink:href=\"#m1596cfa925\" y=\"63.031574\"/>\n     <use style=\"fill:#1f77b4;stroke:#1f77b4;\" x=\"114.496371\" xlink:href=\"#m1596cfa925\" y=\"68.765546\"/>\n     <use style=\"fill:#1f77b4;stroke:#1f77b4;\" x=\"91.306847\" xlink:href=\"#m1596cfa925\" y=\"34.666598\"/>\n     <use style=\"fill:#1f77b4;stroke:#1f77b4;\" x=\"110.400246\" xlink:href=\"#m1596cfa925\" y=\"75.008548\"/>\n     <use style=\"fill:#1f77b4;stroke:#1f77b4;\" x=\"130.817234\" xlink:href=\"#m1596cfa925\" y=\"77.068301\"/>\n     <use style=\"fill:#1f77b4;stroke:#1f77b4;\" x=\"144.82136\" xlink:href=\"#m1596cfa925\" y=\"89.957737\"/>\n     <use style=\"fill:#1f77b4;stroke:#1f77b4;\" x=\"114.869627\" xlink:href=\"#m1596cfa925\" y=\"53.243626\"/>\n     <use style=\"fill:#1f77b4;stroke:#1f77b4;\" x=\"110.031833\" xlink:href=\"#m1596cfa925\" y=\"52.105844\"/>\n     <use style=\"fill:#1f77b4;stroke:#1f77b4;\" x=\"139.729809\" xlink:href=\"#m1596cfa925\" y=\"86.269153\"/>\n     <use style=\"fill:#1f77b4;stroke:#1f77b4;\" x=\"140.761244\" xlink:href=\"#m1596cfa925\" y=\"107.675962\"/>\n     <use style=\"fill:#1f77b4;stroke:#1f77b4;\" x=\"132.84664\" xlink:href=\"#m1596cfa925\" y=\"83.376022\"/>\n     <use style=\"fill:#1f77b4;stroke:#1f77b4;\" x=\"147.408796\" xlink:href=\"#m1596cfa925\" y=\"95.716186\"/>\n     <use style=\"fill:#1f77b4;stroke:#1f77b4;\" x=\"114.873596\" xlink:href=\"#m1596cfa925\" y=\"71.14335\"/>\n     <use style=\"fill:#1f77b4;stroke:#1f77b4;\" x=\"105.665679\" xlink:href=\"#m1596cfa925\" y=\"63.684021\"/>\n     <use style=\"fill:#1f77b4;stroke:#1f77b4;\" x=\"156.009185\" xlink:href=\"#m1596cfa925\" y=\"107.671397\"/>\n     <use style=\"fill:#1f77b4;stroke:#1f77b4;\" x=\"87.881309\" xlink:href=\"#m1596cfa925\" y=\"62.806772\"/>\n     <use style=\"fill:#1f77b4;stroke:#1f77b4;\" x=\"147.144316\" xlink:href=\"#m1596cfa925\" y=\"93.421193\"/>\n     <use style=\"fill:#1f77b4;stroke:#1f77b4;\" x=\"102.872198\" xlink:href=\"#m1596cfa925\" y=\"68.735745\"/>\n     <use style=\"fill:#1f77b4;stroke:#1f77b4;\" x=\"136.800902\" xlink:href=\"#m1596cfa925\" y=\"84.878188\"/>\n     <use style=\"fill:#1f77b4;stroke:#1f77b4;\" x=\"131.630088\" xlink:href=\"#m1596cfa925\" y=\"97.697552\"/>\n     <use style=\"fill:#1f77b4;stroke:#1f77b4;\" x=\"169.310504\" xlink:href=\"#m1596cfa925\" y=\"104.792831\"/>\n     <use style=\"fill:#1f77b4;stroke:#1f77b4;\" x=\"137.26518\" xlink:href=\"#m1596cfa925\" y=\"88.829578\"/>\n     <use style=\"fill:#1f77b4;stroke:#1f77b4;\" x=\"129.272755\" xlink:href=\"#m1596cfa925\" y=\"80.315488\"/>\n     <use style=\"fill:#1f77b4;stroke:#1f77b4;\" x=\"152.726864\" xlink:href=\"#m1596cfa925\" y=\"97.090811\"/>\n     <use style=\"fill:#1f77b4;stroke:#1f77b4;\" x=\"117.450303\" xlink:href=\"#m1596cfa925\" y=\"61.471665\"/>\n     <use style=\"fill:#1f77b4;stroke:#1f77b4;\" x=\"154.96564\" xlink:href=\"#m1596cfa925\" y=\"93.642634\"/>\n     <use style=\"fill:#1f77b4;stroke:#1f77b4;\" x=\"116.562004\" xlink:href=\"#m1596cfa925\" y=\"75.711824\"/>\n     <use style=\"fill:#1f77b4;stroke:#1f77b4;\" x=\"142.831305\" xlink:href=\"#m1596cfa925\" y=\"90.062305\"/>\n     <use style=\"fill:#1f77b4;stroke:#1f77b4;\" x=\"117.374784\" xlink:href=\"#m1596cfa925\" y=\"73.071611\"/>\n     <use style=\"fill:#1f77b4;stroke:#1f77b4;\" x=\"171.219093\" xlink:href=\"#m1596cfa925\" y=\"101.419527\"/>\n     <use style=\"fill:#1f77b4;stroke:#1f77b4;\" x=\"167.593804\" xlink:href=\"#m1596cfa925\" y=\"109.145505\"/>\n     <use style=\"fill:#1f77b4;stroke:#1f77b4;\" x=\"105.487783\" xlink:href=\"#m1596cfa925\" y=\"85.91631\"/>\n     <use style=\"fill:#1f77b4;stroke:#1f77b4;\" x=\"119.119483\" xlink:href=\"#m1596cfa925\" y=\"61.068311\"/>\n     <use style=\"fill:#1f77b4;stroke:#1f77b4;\" x=\"146.749519\" xlink:href=\"#m1596cfa925\" y=\"99.17868\"/>\n     <use style=\"fill:#1f77b4;stroke:#1f77b4;\" x=\"143.285746\" xlink:href=\"#m1596cfa925\" y=\"96.794168\"/>\n     <use style=\"fill:#1f77b4;stroke:#1f77b4;\" x=\"140.374094\" xlink:href=\"#m1596cfa925\" y=\"106.422157\"/>\n     <use style=\"fill:#1f77b4;stroke:#1f77b4;\" x=\"54.349777\" xlink:href=\"#m1596cfa925\" y=\"43.528115\"/>\n     <use style=\"fill:#1f77b4;stroke:#1f77b4;\" x=\"104.623673\" xlink:href=\"#m1596cfa925\" y=\"52.409885\"/>\n     <use style=\"fill:#1f77b4;stroke:#1f77b4;\" x=\"131.343541\" xlink:href=\"#m1596cfa925\" y=\"76.882374\"/>\n     <use style=\"fill:#1f77b4;stroke:#1f77b4;\" x=\"129.07604\" xlink:href=\"#m1596cfa925\" y=\"53.775728\"/>\n     <use style=\"fill:#1f77b4;stroke:#1f77b4;\" x=\"134.476729\" xlink:href=\"#m1596cfa925\" y=\"84.947612\"/>\n     <use style=\"fill:#1f77b4;stroke:#1f77b4;\" x=\"124.807898\" xlink:href=\"#m1596cfa925\" y=\"73.904523\"/>\n     <use style=\"fill:#1f77b4;stroke:#1f77b4;\" x=\"107.353992\" xlink:href=\"#m1596cfa925\" y=\"59.901652\"/>\n     <use style=\"fill:#1f77b4;stroke:#1f77b4;\" x=\"98.327533\" xlink:href=\"#m1596cfa925\" y=\"54.590058\"/>\n     <use style=\"fill:#1f77b4;stroke:#1f77b4;\" x=\"141.75762\" xlink:href=\"#m1596cfa925\" y=\"90.4372\"/>\n     <use style=\"fill:#1f77b4;stroke:#1f77b4;\" x=\"102.19429\" xlink:href=\"#m1596cfa925\" y=\"58.274508\"/>\n     <use style=\"fill:#1f77b4;stroke:#1f77b4;\" x=\"114.973087\" xlink:href=\"#m1596cfa925\" y=\"53.255027\"/>\n     <use style=\"fill:#1f77b4;stroke:#1f77b4;\" x=\"114.671088\" xlink:href=\"#m1596cfa925\" y=\"58.936687\"/>\n     <use style=\"fill:#1f77b4;stroke:#1f77b4;\" x=\"107.762269\" xlink:href=\"#m1596cfa925\" y=\"59.681155\"/>\n     <use style=\"fill:#1f77b4;stroke:#1f77b4;\" x=\"113.955414\" xlink:href=\"#m1596cfa925\" y=\"85.049225\"/>\n     <use style=\"fill:#1f77b4;stroke:#1f77b4;\" x=\"151.898447\" xlink:href=\"#m1596cfa925\" y=\"101.559486\"/>\n     <use style=\"fill:#1f77b4;stroke:#1f77b4;\" x=\"105.693593\" xlink:href=\"#m1596cfa925\" y=\"56.87011\"/>\n     <use style=\"fill:#1f77b4;stroke:#1f77b4;\" x=\"121.026176\" xlink:href=\"#m1596cfa925\" y=\"54.889016\"/>\n     <use style=\"fill:#1f77b4;stroke:#1f77b4;\" x=\"119.344238\" xlink:href=\"#m1596cfa925\" y=\"69.746544\"/>\n     <use style=\"fill:#1f77b4;stroke:#1f77b4;\" x=\"127.256657\" xlink:href=\"#m1596cfa925\" y=\"87.569062\"/>\n     <use style=\"fill:#1f77b4;stroke:#1f77b4;\" x=\"128.81489\" xlink:href=\"#m1596cfa925\" y=\"74.527741\"/>\n     <use style=\"fill:#1f77b4;stroke:#1f77b4;\" x=\"118.253043\" xlink:href=\"#m1596cfa925\" y=\"92.693815\"/>\n     <use style=\"fill:#1f77b4;stroke:#1f77b4;\" x=\"115.446104\" xlink:href=\"#m1596cfa925\" y=\"81.833291\"/>\n     <use style=\"fill:#1f77b4;stroke:#1f77b4;\" x=\"133.19909\" xlink:href=\"#m1596cfa925\" y=\"69.316483\"/>\n     <use style=\"fill:#1f77b4;stroke:#1f77b4;\" x=\"114.735413\" xlink:href=\"#m1596cfa925\" y=\"71.92791\"/>\n     <use style=\"fill:#1f77b4;stroke:#1f77b4;\" x=\"127.638526\" xlink:href=\"#m1596cfa925\" y=\"84.47934\"/>\n     <use style=\"fill:#1f77b4;stroke:#1f77b4;\" x=\"86.635832\" xlink:href=\"#m1596cfa925\" y=\"47.863539\"/>\n     <use style=\"fill:#1f77b4;stroke:#1f77b4;\" x=\"169.284681\" xlink:href=\"#m1596cfa925\" y=\"115.127983\"/>\n     <use style=\"fill:#1f77b4;stroke:#1f77b4;\" x=\"134.261708\" xlink:href=\"#m1596cfa925\" y=\"68.689466\"/>\n     <use style=\"fill:#1f77b4;stroke:#1f77b4;\" x=\"145.254573\" xlink:href=\"#m1596cfa925\" y=\"86.149594\"/>\n     <use style=\"fill:#1f77b4;stroke:#1f77b4;\" x=\"138.619707\" xlink:href=\"#m1596cfa925\" y=\"101.527426\"/>\n     <use style=\"fill:#1f77b4;stroke:#1f77b4;\" x=\"157.336161\" xlink:href=\"#m1596cfa925\" y=\"99.042265\"/>\n     <use style=\"fill:#1f77b4;stroke:#1f77b4;\" x=\"119.088475\" xlink:href=\"#m1596cfa925\" y=\"80.68041\"/>\n     <use style=\"fill:#1f77b4;stroke:#1f77b4;\" x=\"110.657876\" xlink:href=\"#m1596cfa925\" y=\"90.892991\"/>\n     <use style=\"fill:#1f77b4;stroke:#1f77b4;\" x=\"120.402629\" xlink:href=\"#m1596cfa925\" y=\"79.001116\"/>\n     <use style=\"fill:#1f77b4;stroke:#1f77b4;\" x=\"139.944471\" xlink:href=\"#m1596cfa925\" y=\"75.15913\"/>\n     <use style=\"fill:#1f77b4;stroke:#1f77b4;\" x=\"129.875178\" xlink:href=\"#m1596cfa925\" y=\"78.906214\"/>\n     <use style=\"fill:#1f77b4;stroke:#1f77b4;\" x=\"141.551357\" xlink:href=\"#m1596cfa925\" y=\"78.421222\"/>\n     <use style=\"fill:#1f77b4;stroke:#1f77b4;\" x=\"135.602045\" xlink:href=\"#m1596cfa925\" y=\"75.354489\"/>\n     <use style=\"fill:#1f77b4;stroke:#1f77b4;\" x=\"131.585006\" xlink:href=\"#m1596cfa925\" y=\"79.254887\"/>\n     <use style=\"fill:#1f77b4;stroke:#1f77b4;\" x=\"116.825207\" xlink:href=\"#m1596cfa925\" y=\"51.772813\"/>\n     <use style=\"fill:#1f77b4;stroke:#1f77b4;\" x=\"102.14249\" xlink:href=\"#m1596cfa925\" y=\"70.512375\"/>\n     <use style=\"fill:#1f77b4;stroke:#1f77b4;\" x=\"80.817852\" xlink:href=\"#m1596cfa925\" y=\"34.44555\"/>\n     <use style=\"fill:#1f77b4;stroke:#1f77b4;\" x=\"104.215896\" xlink:href=\"#m1596cfa925\" y=\"63.923964\"/>\n     <use style=\"fill:#1f77b4;stroke:#1f77b4;\" x=\"90.148383\" xlink:href=\"#m1596cfa925\" y=\"67.584055\"/>\n     <use style=\"fill:#1f77b4;stroke:#1f77b4;\" x=\"102.911113\" xlink:href=\"#m1596cfa925\" y=\"60.08084\"/>\n     <use style=\"fill:#1f77b4;stroke:#1f77b4;\" x=\"118.492512\" xlink:href=\"#m1596cfa925\" y=\"76.13575\"/>\n     <use style=\"fill:#1f77b4;stroke:#1f77b4;\" x=\"118.20548\" xlink:href=\"#m1596cfa925\" y=\"44.210228\"/>\n     <use style=\"fill:#1f77b4;stroke:#1f77b4;\" x=\"103.512115\" xlink:href=\"#m1596cfa925\" y=\"66.31067\"/>\n     <use style=\"fill:#1f77b4;stroke:#1f77b4;\" x=\"141.114109\" xlink:href=\"#m1596cfa925\" y=\"91.33852\"/>\n     <use style=\"fill:#1f77b4;stroke:#1f77b4;\" x=\"121.173394\" xlink:href=\"#m1596cfa925\" y=\"82.464078\"/>\n     <use style=\"fill:#1f77b4;stroke:#1f77b4;\" x=\"144.031143\" xlink:href=\"#m1596cfa925\" y=\"86.239334\"/>\n     <use style=\"fill:#1f77b4;stroke:#1f77b4;\" x=\"136.090039\" xlink:href=\"#m1596cfa925\" y=\"68.908075\"/>\n     <use style=\"fill:#1f77b4;stroke:#1f77b4;\" x=\"143.924093\" xlink:href=\"#m1596cfa925\" y=\"94.482855\"/>\n     <use style=\"fill:#1f77b4;stroke:#1f77b4;\" x=\"167.376945\" xlink:href=\"#m1596cfa925\" y=\"116.190486\"/>\n     <use style=\"fill:#1f77b4;stroke:#1f77b4;\" x=\"43.194197\" xlink:href=\"#m1596cfa925\" y=\"13.723944\"/>\n     <use style=\"fill:#1f77b4;stroke:#1f77b4;\" x=\"101.965321\" xlink:href=\"#m1596cfa925\" y=\"68.763297\"/>\n     <use style=\"fill:#1f77b4;stroke:#1f77b4;\" x=\"124.023394\" xlink:href=\"#m1596cfa925\" y=\"64.051743\"/>\n     <use style=\"fill:#1f77b4;stroke:#1f77b4;\" x=\"138.08841\" xlink:href=\"#m1596cfa925\" y=\"75.183407\"/>\n     <use style=\"fill:#1f77b4;stroke:#1f77b4;\" x=\"108.42748\" xlink:href=\"#m1596cfa925\" y=\"55.830981\"/>\n     <use style=\"fill:#1f77b4;stroke:#1f77b4;\" x=\"99.66108\" xlink:href=\"#m1596cfa925\" y=\"42.400122\"/>\n     <use style=\"fill:#1f77b4;stroke:#1f77b4;\" x=\"110.534254\" xlink:href=\"#m1596cfa925\" y=\"49.337229\"/>\n     <use style=\"fill:#1f77b4;stroke:#1f77b4;\" x=\"110.570282\" xlink:href=\"#m1596cfa925\" y=\"76.621227\"/>\n     <use style=\"fill:#1f77b4;stroke:#1f77b4;\" x=\"94.881424\" xlink:href=\"#m1596cfa925\" y=\"60.471078\"/>\n     <use style=\"fill:#1f77b4;stroke:#1f77b4;\" x=\"133.830419\" xlink:href=\"#m1596cfa925\" y=\"105.403043\"/>\n     <use style=\"fill:#1f77b4;stroke:#1f77b4;\" x=\"154.236112\" xlink:href=\"#m1596cfa925\" y=\"92.185815\"/>\n     <use style=\"fill:#1f77b4;stroke:#1f77b4;\" x=\"118.854592\" xlink:href=\"#m1596cfa925\" y=\"64.820282\"/>\n     <use style=\"fill:#1f77b4;stroke:#1f77b4;\" x=\"125.396632\" xlink:href=\"#m1596cfa925\" y=\"76.412542\"/>\n     <use style=\"fill:#1f77b4;stroke:#1f77b4;\" x=\"104.231653\" xlink:href=\"#m1596cfa925\" y=\"63.762281\"/>\n     <use style=\"fill:#1f77b4;stroke:#1f77b4;\" x=\"133.300977\" xlink:href=\"#m1596cfa925\" y=\"90.646918\"/>\n     <use style=\"fill:#1f77b4;stroke:#1f77b4;\" x=\"150.40016\" xlink:href=\"#m1596cfa925\" y=\"85.22179\"/>\n     <use style=\"fill:#1f77b4;stroke:#1f77b4;\" x=\"107.834829\" xlink:href=\"#m1596cfa925\" y=\"71.101091\"/>\n     <use style=\"fill:#1f77b4;stroke:#1f77b4;\" x=\"84.859904\" xlink:href=\"#m1596cfa925\" y=\"40.259295\"/>\n     <use style=\"fill:#1f77b4;stroke:#1f77b4;\" x=\"99.113339\" xlink:href=\"#m1596cfa925\" y=\"64.725049\"/>\n     <use style=\"fill:#1f77b4;stroke:#1f77b4;\" x=\"129.712499\" xlink:href=\"#m1596cfa925\" y=\"84.38392\"/>\n     <use style=\"fill:#1f77b4;stroke:#1f77b4;\" x=\"115.497878\" xlink:href=\"#m1596cfa925\" y=\"73.340994\"/>\n     <use style=\"fill:#1f77b4;stroke:#1f77b4;\" x=\"127.416072\" xlink:href=\"#m1596cfa925\" y=\"70.190532\"/>\n     <use style=\"fill:#1f77b4;stroke:#1f77b4;\" x=\"133.70867\" xlink:href=\"#m1596cfa925\" y=\"74.63904\"/>\n     <use style=\"fill:#1f77b4;stroke:#1f77b4;\" x=\"124.216152\" xlink:href=\"#m1596cfa925\" y=\"63.667973\"/>\n     <use style=\"fill:#1f77b4;stroke:#1f77b4;\" x=\"127.035928\" xlink:href=\"#m1596cfa925\" y=\"95.947857\"/>\n     <use style=\"fill:#1f77b4;stroke:#1f77b4;\" x=\"149.665164\" xlink:href=\"#m1596cfa925\" y=\"94.058422\"/>\n     <use style=\"fill:#1f77b4;stroke:#1f77b4;\" x=\"170.496065\" xlink:href=\"#m1596cfa925\" y=\"101.126814\"/>\n     <use style=\"fill:#1f77b4;stroke:#1f77b4;\" x=\"180.068221\" xlink:href=\"#m1596cfa925\" y=\"127.976442\"/>\n     <use style=\"fill:#1f77b4;stroke:#1f77b4;\" x=\"157.732467\" xlink:href=\"#m1596cfa925\" y=\"96.222046\"/>\n     <use style=\"fill:#1f77b4;stroke:#1f77b4;\" x=\"106.589447\" xlink:href=\"#m1596cfa925\" y=\"57.258988\"/>\n     <use style=\"fill:#1f77b4;stroke:#1f77b4;\" x=\"152.619142\" xlink:href=\"#m1596cfa925\" y=\"91.577884\"/>\n     <use style=\"fill:#1f77b4;stroke:#1f77b4;\" x=\"102.085094\" xlink:href=\"#m1596cfa925\" y=\"56.549282\"/>\n     <use style=\"fill:#1f77b4;stroke:#1f77b4;\" x=\"125.160994\" xlink:href=\"#m1596cfa925\" y=\"65.324117\"/>\n     <use style=\"fill:#1f77b4;stroke:#1f77b4;\" x=\"147.924991\" xlink:href=\"#m1596cfa925\" y=\"105.600269\"/>\n     <use style=\"fill:#1f77b4;stroke:#1f77b4;\" x=\"133.449021\" xlink:href=\"#m1596cfa925\" y=\"69.063409\"/>\n     <use style=\"fill:#1f77b4;stroke:#1f77b4;\" x=\"119.778318\" xlink:href=\"#m1596cfa925\" y=\"42.639264\"/>\n     <use style=\"fill:#1f77b4;stroke:#1f77b4;\" x=\"119.369896\" xlink:href=\"#m1596cfa925\" y=\"78.94351\"/>\n     <use style=\"fill:#1f77b4;stroke:#1f77b4;\" x=\"132.587433\" xlink:href=\"#m1596cfa925\" y=\"72.281941\"/>\n     <use style=\"fill:#1f77b4;stroke:#1f77b4;\" x=\"146.981198\" xlink:href=\"#m1596cfa925\" y=\"84.112314\"/>\n     <use style=\"fill:#1f77b4;stroke:#1f77b4;\" x=\"105.463368\" xlink:href=\"#m1596cfa925\" y=\"69.539117\"/>\n     <use style=\"fill:#1f77b4;stroke:#1f77b4;\" x=\"123.789472\" xlink:href=\"#m1596cfa925\" y=\"70.543367\"/>\n     <use style=\"fill:#1f77b4;stroke:#1f77b4;\" x=\"132.194858\" xlink:href=\"#m1596cfa925\" y=\"80.750113\"/>\n     <use style=\"fill:#1f77b4;stroke:#1f77b4;\" x=\"73.167841\" xlink:href=\"#m1596cfa925\" y=\"25.341325\"/>\n     <use style=\"fill:#1f77b4;stroke:#1f77b4;\" x=\"89.666687\" xlink:href=\"#m1596cfa925\" y=\"47.604853\"/>\n     <use style=\"fill:#1f77b4;stroke:#1f77b4;\" x=\"163.433198\" xlink:href=\"#m1596cfa925\" y=\"105.039813\"/>\n     <use style=\"fill:#1f77b4;stroke:#1f77b4;\" x=\"113.711007\" xlink:href=\"#m1596cfa925\" y=\"72.013903\"/>\n     <use style=\"fill:#1f77b4;stroke:#1f77b4;\" x=\"106.778027\" xlink:href=\"#m1596cfa925\" y=\"60.369824\"/>\n     <use style=\"fill:#1f77b4;stroke:#1f77b4;\" x=\"103.943053\" xlink:href=\"#m1596cfa925\" y=\"64.633832\"/>\n     <use style=\"fill:#1f77b4;stroke:#1f77b4;\" x=\"136.36519\" xlink:href=\"#m1596cfa925\" y=\"71.962332\"/>\n     <use style=\"fill:#1f77b4;stroke:#1f77b4;\" x=\"164.295208\" xlink:href=\"#m1596cfa925\" y=\"98.945515\"/>\n     <use style=\"fill:#1f77b4;stroke:#1f77b4;\" x=\"126.687246\" xlink:href=\"#m1596cfa925\" y=\"69.258682\"/>\n     <use style=\"fill:#1f77b4;stroke:#1f77b4;\" x=\"127.160215\" xlink:href=\"#m1596cfa925\" y=\"59.448469\"/>\n     <use style=\"fill:#1f77b4;stroke:#1f77b4;\" x=\"106.642044\" xlink:href=\"#m1596cfa925\" y=\"84.87894\"/>\n     <use style=\"fill:#1f77b4;stroke:#1f77b4;\" x=\"139.322085\" xlink:href=\"#m1596cfa925\" y=\"82.662741\"/>\n     <use style=\"fill:#1f77b4;stroke:#1f77b4;\" x=\"145.38569\" xlink:href=\"#m1596cfa925\" y=\"102.475232\"/>\n     <use style=\"fill:#1f77b4;stroke:#1f77b4;\" x=\"112.081043\" xlink:href=\"#m1596cfa925\" y=\"64.678366\"/>\n     <use style=\"fill:#1f77b4;stroke:#1f77b4;\" x=\"88.133316\" xlink:href=\"#m1596cfa925\" y=\"46.63387\"/>\n     <use style=\"fill:#1f77b4;stroke:#1f77b4;\" x=\"150.680803\" xlink:href=\"#m1596cfa925\" y=\"94.624706\"/>\n     <use style=\"fill:#1f77b4;stroke:#1f77b4;\" x=\"89.891904\" xlink:href=\"#m1596cfa925\" y=\"70.731315\"/>\n     <use style=\"fill:#1f77b4;stroke:#1f77b4;\" x=\"147.015616\" xlink:href=\"#m1596cfa925\" y=\"81.393943\"/>\n     <use style=\"fill:#1f77b4;stroke:#1f77b4;\" x=\"123.907316\" xlink:href=\"#m1596cfa925\" y=\"71.509031\"/>\n     <use style=\"fill:#1f77b4;stroke:#1f77b4;\" x=\"145.896099\" xlink:href=\"#m1596cfa925\" y=\"108.890477\"/>\n     <use style=\"fill:#1f77b4;stroke:#1f77b4;\" x=\"183.259585\" xlink:href=\"#m1596cfa925\" y=\"122.10864\"/>\n     <use style=\"fill:#1f77b4;stroke:#1f77b4;\" x=\"119.516646\" xlink:href=\"#m1596cfa925\" y=\"84.298183\"/>\n     <use style=\"fill:#1f77b4;stroke:#1f77b4;\" x=\"147.881773\" xlink:href=\"#m1596cfa925\" y=\"97.19275\"/>\n     <use style=\"fill:#1f77b4;stroke:#1f77b4;\" x=\"119.507411\" xlink:href=\"#m1596cfa925\" y=\"80.95098\"/>\n     <use style=\"fill:#1f77b4;stroke:#1f77b4;\" x=\"155.643801\" xlink:href=\"#m1596cfa925\" y=\"105.291992\"/>\n     <use style=\"fill:#1f77b4;stroke:#1f77b4;\" x=\"124.036872\" xlink:href=\"#m1596cfa925\" y=\"68.363699\"/>\n     <use style=\"fill:#1f77b4;stroke:#1f77b4;\" x=\"82.149959\" xlink:href=\"#m1596cfa925\" y=\"44.41884\"/>\n     <use style=\"fill:#1f77b4;stroke:#1f77b4;\" x=\"158.340112\" xlink:href=\"#m1596cfa925\" y=\"116.835835\"/>\n     <use style=\"fill:#1f77b4;stroke:#1f77b4;\" x=\"120.901523\" xlink:href=\"#m1596cfa925\" y=\"81.734322\"/>\n     <use style=\"fill:#1f77b4;stroke:#1f77b4;\" x=\"65.727964\" xlink:href=\"#m1596cfa925\" y=\"23.079277\"/>\n     <use style=\"fill:#1f77b4;stroke:#1f77b4;\" x=\"133.616039\" xlink:href=\"#m1596cfa925\" y=\"92.389532\"/>\n     <use style=\"fill:#1f77b4;stroke:#1f77b4;\" x=\"137.65412\" xlink:href=\"#m1596cfa925\" y=\"93.115606\"/>\n     <use style=\"fill:#1f77b4;stroke:#1f77b4;\" x=\"91.818512\" xlink:href=\"#m1596cfa925\" y=\"55.997085\"/>\n     <use style=\"fill:#1f77b4;stroke:#1f77b4;\" x=\"125.134057\" xlink:href=\"#m1596cfa925\" y=\"75.550417\"/>\n     <use style=\"fill:#1f77b4;stroke:#1f77b4;\" x=\"151.39466\" xlink:href=\"#m1596cfa925\" y=\"90.227836\"/>\n     <use style=\"fill:#1f77b4;stroke:#1f77b4;\" x=\"137.020176\" xlink:href=\"#m1596cfa925\" y=\"92.445181\"/>\n     <use style=\"fill:#1f77b4;stroke:#1f77b4;\" x=\"131.856824\" xlink:href=\"#m1596cfa925\" y=\"70.710185\"/>\n     <use style=\"fill:#1f77b4;stroke:#1f77b4;\" x=\"128.069422\" xlink:href=\"#m1596cfa925\" y=\"81.56866\"/>\n     <use style=\"fill:#1f77b4;stroke:#1f77b4;\" x=\"152.783679\" xlink:href=\"#m1596cfa925\" y=\"83.273902\"/>\n     <use style=\"fill:#1f77b4;stroke:#1f77b4;\" x=\"151.365053\" xlink:href=\"#m1596cfa925\" y=\"71.434393\"/>\n     <use style=\"fill:#1f77b4;stroke:#1f77b4;\" x=\"102.532344\" xlink:href=\"#m1596cfa925\" y=\"49.101695\"/>\n     <use style=\"fill:#1f77b4;stroke:#1f77b4;\" x=\"147.897021\" xlink:href=\"#m1596cfa925\" y=\"80.729511\"/>\n     <use style=\"fill:#1f77b4;stroke:#1f77b4;\" x=\"133.406915\" xlink:href=\"#m1596cfa925\" y=\"77.801476\"/>\n     <use style=\"fill:#1f77b4;stroke:#1f77b4;\" x=\"136.19258\" xlink:href=\"#m1596cfa925\" y=\"87.388531\"/>\n     <use style=\"fill:#1f77b4;stroke:#1f77b4;\" x=\"132.720806\" xlink:href=\"#m1596cfa925\" y=\"88.693495\"/>\n     <use style=\"fill:#1f77b4;stroke:#1f77b4;\" x=\"163.039427\" xlink:href=\"#m1596cfa925\" y=\"105.256384\"/>\n     <use style=\"fill:#1f77b4;stroke:#1f77b4;\" x=\"153.382858\" xlink:href=\"#m1596cfa925\" y=\"107.481913\"/>\n     <use style=\"fill:#1f77b4;stroke:#1f77b4;\" x=\"150.389645\" xlink:href=\"#m1596cfa925\" y=\"94.753947\"/>\n     <use style=\"fill:#1f77b4;stroke:#1f77b4;\" x=\"176.942142\" xlink:href=\"#m1596cfa925\" y=\"122.611214\"/>\n     <use style=\"fill:#1f77b4;stroke:#1f77b4;\" x=\"137.861023\" xlink:href=\"#m1596cfa925\" y=\"81.958665\"/>\n     <use style=\"fill:#1f77b4;stroke:#1f77b4;\" x=\"159.905607\" xlink:href=\"#m1596cfa925\" y=\"94.508138\"/>\n     <use style=\"fill:#1f77b4;stroke:#1f77b4;\" x=\"104.869066\" xlink:href=\"#m1596cfa925\" y=\"59.866015\"/>\n     <use style=\"fill:#1f77b4;stroke:#1f77b4;\" x=\"106.442661\" xlink:href=\"#m1596cfa925\" y=\"44.449504\"/>\n     <use style=\"fill:#1f77b4;stroke:#1f77b4;\" x=\"156.15382\" xlink:href=\"#m1596cfa925\" y=\"84.140173\"/>\n     <use style=\"fill:#1f77b4;stroke:#1f77b4;\" x=\"171.121909\" xlink:href=\"#m1596cfa925\" y=\"112.544331\"/>\n     <use style=\"fill:#1f77b4;stroke:#1f77b4;\" x=\"153.394013\" xlink:href=\"#m1596cfa925\" y=\"97.967553\"/>\n     <use style=\"fill:#1f77b4;stroke:#1f77b4;\" x=\"110.890867\" xlink:href=\"#m1596cfa925\" y=\"56.622058\"/>\n     <use style=\"fill:#1f77b4;stroke:#1f77b4;\" x=\"136.200677\" xlink:href=\"#m1596cfa925\" y=\"103.91034\"/>\n     <use style=\"fill:#1f77b4;stroke:#1f77b4;\" x=\"131.052996\" xlink:href=\"#m1596cfa925\" y=\"67.317914\"/>\n     <use style=\"fill:#1f77b4;stroke:#1f77b4;\" x=\"189.694341\" xlink:href=\"#m1596cfa925\" y=\"109.485578\"/>\n     <use style=\"fill:#1f77b4;stroke:#1f77b4;\" x=\"127.883241\" xlink:href=\"#m1596cfa925\" y=\"101.128155\"/>\n     <use style=\"fill:#1f77b4;stroke:#1f77b4;\" x=\"140.548051\" xlink:href=\"#m1596cfa925\" y=\"99.22133\"/>\n     <use style=\"fill:#1f77b4;stroke:#1f77b4;\" x=\"105.743477\" xlink:href=\"#m1596cfa925\" y=\"37.488084\"/>\n     <use style=\"fill:#1f77b4;stroke:#1f77b4;\" x=\"112.605349\" xlink:href=\"#m1596cfa925\" y=\"80.769165\"/>\n     <use style=\"fill:#1f77b4;stroke:#1f77b4;\" x=\"115.354773\" xlink:href=\"#m1596cfa925\" y=\"78.18139\"/>\n     <use style=\"fill:#1f77b4;stroke:#1f77b4;\" x=\"131.562408\" xlink:href=\"#m1596cfa925\" y=\"83.098712\"/>\n     <use style=\"fill:#1f77b4;stroke:#1f77b4;\" x=\"134.382246\" xlink:href=\"#m1596cfa925\" y=\"79.617192\"/>\n     <use style=\"fill:#1f77b4;stroke:#1f77b4;\" x=\"138.8132\" xlink:href=\"#m1596cfa925\" y=\"93.721284\"/>\n     <use style=\"fill:#1f77b4;stroke:#1f77b4;\" x=\"151.924228\" xlink:href=\"#m1596cfa925\" y=\"90.83351\"/>\n     <use style=\"fill:#1f77b4;stroke:#1f77b4;\" x=\"37.81946\" xlink:href=\"#m1596cfa925\" y=\"13.377273\"/>\n     <use style=\"fill:#1f77b4;stroke:#1f77b4;\" x=\"130.316899\" xlink:href=\"#m1596cfa925\" y=\"96.121303\"/>\n     <use style=\"fill:#1f77b4;stroke:#1f77b4;\" x=\"126.398646\" xlink:href=\"#m1596cfa925\" y=\"70.61993\"/>\n     <use style=\"fill:#1f77b4;stroke:#1f77b4;\" x=\"161.526775\" xlink:href=\"#m1596cfa925\" y=\"102.389022\"/>\n     <use style=\"fill:#1f77b4;stroke:#1f77b4;\" x=\"129.066734\" xlink:href=\"#m1596cfa925\" y=\"77.954195\"/>\n     <use style=\"fill:#1f77b4;stroke:#1f77b4;\" x=\"103.707647\" xlink:href=\"#m1596cfa925\" y=\"73.390675\"/>\n     <use style=\"fill:#1f77b4;stroke:#1f77b4;\" x=\"123.50047\" xlink:href=\"#m1596cfa925\" y=\"60.154591\"/>\n     <use style=\"fill:#1f77b4;stroke:#1f77b4;\" x=\"114.165587\" xlink:href=\"#m1596cfa925\" y=\"48.72708\"/>\n     <use style=\"fill:#1f77b4;stroke:#1f77b4;\" x=\"96.975038\" xlink:href=\"#m1596cfa925\" y=\"54.992419\"/>\n     <use style=\"fill:#1f77b4;stroke:#1f77b4;\" x=\"169.116475\" xlink:href=\"#m1596cfa925\" y=\"104.86576\"/>\n     <use style=\"fill:#1f77b4;stroke:#1f77b4;\" x=\"93.759187\" xlink:href=\"#m1596cfa925\" y=\"57.616836\"/>\n     <use style=\"fill:#1f77b4;stroke:#1f77b4;\" x=\"129.769605\" xlink:href=\"#m1596cfa925\" y=\"65.058965\"/>\n     <use style=\"fill:#1f77b4;stroke:#1f77b4;\" x=\"122.790092\" xlink:href=\"#m1596cfa925\" y=\"75.629647\"/>\n     <use style=\"fill:#1f77b4;stroke:#1f77b4;\" x=\"148.77634\" xlink:href=\"#m1596cfa925\" y=\"96.079012\"/>\n     <use style=\"fill:#1f77b4;stroke:#1f77b4;\" x=\"143.95991\" xlink:href=\"#m1596cfa925\" y=\"87.649046\"/>\n     <use style=\"fill:#1f77b4;stroke:#1f77b4;\" x=\"166.428329\" xlink:href=\"#m1596cfa925\" y=\"100.769264\"/>\n     <use style=\"fill:#1f77b4;stroke:#1f77b4;\" x=\"185.741712\" xlink:href=\"#m1596cfa925\" y=\"118.650649\"/>\n     <use style=\"fill:#1f77b4;stroke:#1f77b4;\" x=\"125.288831\" xlink:href=\"#m1596cfa925\" y=\"84.622193\"/>\n     <use style=\"fill:#1f77b4;stroke:#1f77b4;\" x=\"124.86251\" xlink:href=\"#m1596cfa925\" y=\"68.727187\"/>\n     <use style=\"fill:#1f77b4;stroke:#1f77b4;\" x=\"89.081826\" xlink:href=\"#m1596cfa925\" y=\"56.018089\"/>\n     <use style=\"fill:#1f77b4;stroke:#1f77b4;\" x=\"48.967473\" xlink:href=\"#m1596cfa925\" y=\"33.329033\"/>\n     <use style=\"fill:#1f77b4;stroke:#1f77b4;\" x=\"95.521965\" xlink:href=\"#m1596cfa925\" y=\"58.58539\"/>\n     <use style=\"fill:#1f77b4;stroke:#1f77b4;\" x=\"159.527247\" xlink:href=\"#m1596cfa925\" y=\"89.23523\"/>\n     <use style=\"fill:#1f77b4;stroke:#1f77b4;\" x=\"148.124638\" xlink:href=\"#m1596cfa925\" y=\"114.521994\"/>\n     <use style=\"fill:#1f77b4;stroke:#1f77b4;\" x=\"108.742384\" xlink:href=\"#m1596cfa925\" y=\"49.128071\"/>\n     <use style=\"fill:#1f77b4;stroke:#1f77b4;\" x=\"132.049106\" xlink:href=\"#m1596cfa925\" y=\"70.218052\"/>\n     <use style=\"fill:#1f77b4;stroke:#1f77b4;\" x=\"159.986523\" xlink:href=\"#m1596cfa925\" y=\"89.411996\"/>\n     <use style=\"fill:#1f77b4;stroke:#1f77b4;\" x=\"135.57134\" xlink:href=\"#m1596cfa925\" y=\"84.901994\"/>\n     <use style=\"fill:#1f77b4;stroke:#1f77b4;\" x=\"111.699185\" xlink:href=\"#m1596cfa925\" y=\"67.992218\"/>\n     <use style=\"fill:#1f77b4;stroke:#1f77b4;\" x=\"142.256945\" xlink:href=\"#m1596cfa925\" y=\"83.577555\"/>\n     <use style=\"fill:#1f77b4;stroke:#1f77b4;\" x=\"100.651846\" xlink:href=\"#m1596cfa925\" y=\"77.049458\"/>\n     <use style=\"fill:#1f77b4;stroke:#1f77b4;\" x=\"98.087287\" xlink:href=\"#m1596cfa925\" y=\"51.616197\"/>\n     <use style=\"fill:#1f77b4;stroke:#1f77b4;\" x=\"156.60983\" xlink:href=\"#m1596cfa925\" y=\"102.431016\"/>\n     <use style=\"fill:#1f77b4;stroke:#1f77b4;\" x=\"84.607392\" xlink:href=\"#m1596cfa925\" y=\"45.378879\"/>\n     <use style=\"fill:#1f77b4;stroke:#1f77b4;\" x=\"139.892961\" xlink:href=\"#m1596cfa925\" y=\"94.865211\"/>\n     <use style=\"fill:#1f77b4;stroke:#1f77b4;\" x=\"148.391209\" xlink:href=\"#m1596cfa925\" y=\"102.167334\"/>\n     <use style=\"fill:#1f77b4;stroke:#1f77b4;\" x=\"90.196842\" xlink:href=\"#m1596cfa925\" y=\"59.955183\"/>\n     <use style=\"fill:#1f77b4;stroke:#1f77b4;\" x=\"140.44805\" xlink:href=\"#m1596cfa925\" y=\"90.627305\"/>\n     <use style=\"fill:#1f77b4;stroke:#1f77b4;\" x=\"147.281023\" xlink:href=\"#m1596cfa925\" y=\"94.189412\"/>\n     <use style=\"fill:#1f77b4;stroke:#1f77b4;\" x=\"122.052406\" xlink:href=\"#m1596cfa925\" y=\"91.157819\"/>\n     <use style=\"fill:#1f77b4;stroke:#1f77b4;\" x=\"151.911218\" xlink:href=\"#m1596cfa925\" y=\"91.265308\"/>\n     <use style=\"fill:#1f77b4;stroke:#1f77b4;\" x=\"114.553875\" xlink:href=\"#m1596cfa925\" y=\"81.833764\"/>\n     <use style=\"fill:#1f77b4;stroke:#1f77b4;\" x=\"135.387794\" xlink:href=\"#m1596cfa925\" y=\"85.702437\"/>\n     <use style=\"fill:#1f77b4;stroke:#1f77b4;\" x=\"102.106501\" xlink:href=\"#m1596cfa925\" y=\"53.728552\"/>\n     <use style=\"fill:#1f77b4;stroke:#1f77b4;\" x=\"107.93722\" xlink:href=\"#m1596cfa925\" y=\"68.428245\"/>\n     <use style=\"fill:#1f77b4;stroke:#1f77b4;\" x=\"68.054727\" xlink:href=\"#m1596cfa925\" y=\"28.735108\"/>\n     <use style=\"fill:#1f77b4;stroke:#1f77b4;\" x=\"72.759744\" xlink:href=\"#m1596cfa925\" y=\"42.223012\"/>\n     <use style=\"fill:#1f77b4;stroke:#1f77b4;\" x=\"114.482017\" xlink:href=\"#m1596cfa925\" y=\"83.252312\"/>\n     <use style=\"fill:#1f77b4;stroke:#1f77b4;\" x=\"116.061351\" xlink:href=\"#m1596cfa925\" y=\"63.899093\"/>\n     <use style=\"fill:#1f77b4;stroke:#1f77b4;\" x=\"168.525357\" xlink:href=\"#m1596cfa925\" y=\"105.176871\"/>\n     <use style=\"fill:#1f77b4;stroke:#1f77b4;\" x=\"182.248541\" xlink:href=\"#m1596cfa925\" y=\"104.48976\"/>\n     <use style=\"fill:#1f77b4;stroke:#1f77b4;\" x=\"166.19925\" xlink:href=\"#m1596cfa925\" y=\"101.588503\"/>\n     <use style=\"fill:#1f77b4;stroke:#1f77b4;\" x=\"149.777333\" xlink:href=\"#m1596cfa925\" y=\"81.648322\"/>\n     <use style=\"fill:#1f77b4;stroke:#1f77b4;\" x=\"140.327707\" xlink:href=\"#m1596cfa925\" y=\"83.438469\"/>\n     <use style=\"fill:#1f77b4;stroke:#1f77b4;\" x=\"148.650156\" xlink:href=\"#m1596cfa925\" y=\"99.079631\"/>\n     <use style=\"fill:#1f77b4;stroke:#1f77b4;\" x=\"112.807192\" xlink:href=\"#m1596cfa925\" y=\"77.034547\"/>\n     <use style=\"fill:#1f77b4;stroke:#1f77b4;\" x=\"124.309228\" xlink:href=\"#m1596cfa925\" y=\"83.943632\"/>\n     <use style=\"fill:#1f77b4;stroke:#1f77b4;\" x=\"127.277088\" xlink:href=\"#m1596cfa925\" y=\"83.459263\"/>\n     <use style=\"fill:#1f77b4;stroke:#1f77b4;\" x=\"128.487792\" xlink:href=\"#m1596cfa925\" y=\"70.133725\"/>\n     <use style=\"fill:#1f77b4;stroke:#1f77b4;\" x=\"147.331576\" xlink:href=\"#m1596cfa925\" y=\"86.127996\"/>\n     <use style=\"fill:#1f77b4;stroke:#1f77b4;\" x=\"113.110554\" xlink:href=\"#m1596cfa925\" y=\"69.866893\"/>\n     <use style=\"fill:#1f77b4;stroke:#1f77b4;\" x=\"149.537125\" xlink:href=\"#m1596cfa925\" y=\"98.603961\"/>\n     <use style=\"fill:#1f77b4;stroke:#1f77b4;\" x=\"95.715282\" xlink:href=\"#m1596cfa925\" y=\"47.148637\"/>\n     <use style=\"fill:#1f77b4;stroke:#1f77b4;\" x=\"96.714782\" xlink:href=\"#m1596cfa925\" y=\"60.35105\"/>\n     <use style=\"fill:#1f77b4;stroke:#1f77b4;\" x=\"142.242889\" xlink:href=\"#m1596cfa925\" y=\"88.911903\"/>\n     <use style=\"fill:#1f77b4;stroke:#1f77b4;\" x=\"120.814676\" xlink:href=\"#m1596cfa925\" y=\"70.675297\"/>\n     <use style=\"fill:#1f77b4;stroke:#1f77b4;\" x=\"119.042713\" xlink:href=\"#m1596cfa925\" y=\"83.704629\"/>\n     <use style=\"fill:#1f77b4;stroke:#1f77b4;\" x=\"144.816788\" xlink:href=\"#m1596cfa925\" y=\"86.65497\"/>\n     <use style=\"fill:#1f77b4;stroke:#1f77b4;\" x=\"80.872849\" xlink:href=\"#m1596cfa925\" y=\"56.465139\"/>\n     <use style=\"fill:#1f77b4;stroke:#1f77b4;\" x=\"150.789223\" xlink:href=\"#m1596cfa925\" y=\"98.645307\"/>\n     <use style=\"fill:#1f77b4;stroke:#1f77b4;\" x=\"112.567584\" xlink:href=\"#m1596cfa925\" y=\"81.219471\"/>\n     <use style=\"fill:#1f77b4;stroke:#1f77b4;\" x=\"121.265615\" xlink:href=\"#m1596cfa925\" y=\"78.242668\"/>\n     <use style=\"fill:#1f77b4;stroke:#1f77b4;\" x=\"129.335232\" xlink:href=\"#m1596cfa925\" y=\"110.972116\"/>\n     <use style=\"fill:#1f77b4;stroke:#1f77b4;\" x=\"143.933974\" xlink:href=\"#m1596cfa925\" y=\"100.150751\"/>\n     <use style=\"fill:#1f77b4;stroke:#1f77b4;\" x=\"120.59651\" xlink:href=\"#m1596cfa925\" y=\"72.128701\"/>\n     <use style=\"fill:#1f77b4;stroke:#1f77b4;\" x=\"128.764311\" xlink:href=\"#m1596cfa925\" y=\"76.235168\"/>\n     <use style=\"fill:#1f77b4;stroke:#1f77b4;\" x=\"131.685156\" xlink:href=\"#m1596cfa925\" y=\"92.625461\"/>\n     <use style=\"fill:#1f77b4;stroke:#1f77b4;\" x=\"150.903985\" xlink:href=\"#m1596cfa925\" y=\"94.743673\"/>\n     <use style=\"fill:#1f77b4;stroke:#1f77b4;\" x=\"170.125353\" xlink:href=\"#m1596cfa925\" y=\"108.591181\"/>\n     <use style=\"fill:#1f77b4;stroke:#1f77b4;\" x=\"128.92928\" xlink:href=\"#m1596cfa925\" y=\"88.944527\"/>\n     <use style=\"fill:#1f77b4;stroke:#1f77b4;\" x=\"120.568354\" xlink:href=\"#m1596cfa925\" y=\"81.330043\"/>\n     <use style=\"fill:#1f77b4;stroke:#1f77b4;\" x=\"130.177491\" xlink:href=\"#m1596cfa925\" y=\"84.19249\"/>\n     <use style=\"fill:#1f77b4;stroke:#1f77b4;\" x=\"108.93582\" xlink:href=\"#m1596cfa925\" y=\"56.431646\"/>\n     <use style=\"fill:#1f77b4;stroke:#1f77b4;\" x=\"160.427405\" xlink:href=\"#m1596cfa925\" y=\"112.995883\"/>\n     <use style=\"fill:#1f77b4;stroke:#1f77b4;\" x=\"119.54454\" xlink:href=\"#m1596cfa925\" y=\"96.073569\"/>\n     <use style=\"fill:#1f77b4;stroke:#1f77b4;\" x=\"113.122893\" xlink:href=\"#m1596cfa925\" y=\"67.663334\"/>\n     <use style=\"fill:#1f77b4;stroke:#1f77b4;\" x=\"131.404916\" xlink:href=\"#m1596cfa925\" y=\"89.862873\"/>\n     <use style=\"fill:#1f77b4;stroke:#1f77b4;\" x=\"141.755213\" xlink:href=\"#m1596cfa925\" y=\"107.232886\"/>\n     <use style=\"fill:#1f77b4;stroke:#1f77b4;\" x=\"167.935542\" xlink:href=\"#m1596cfa925\" y=\"121.284555\"/>\n     <use style=\"fill:#1f77b4;stroke:#1f77b4;\" x=\"118.899148\" xlink:href=\"#m1596cfa925\" y=\"72.689058\"/>\n     <use style=\"fill:#1f77b4;stroke:#1f77b4;\" x=\"160.005656\" xlink:href=\"#m1596cfa925\" y=\"114.0376\"/>\n     <use style=\"fill:#1f77b4;stroke:#1f77b4;\" x=\"110.589704\" xlink:href=\"#m1596cfa925\" y=\"67.484111\"/>\n     <use style=\"fill:#1f77b4;stroke:#1f77b4;\" x=\"118.958947\" xlink:href=\"#m1596cfa925\" y=\"63.514203\"/>\n     <use style=\"fill:#1f77b4;stroke:#1f77b4;\" x=\"130.509809\" xlink:href=\"#m1596cfa925\" y=\"69.678703\"/>\n     <use style=\"fill:#1f77b4;stroke:#1f77b4;\" x=\"63.724296\" xlink:href=\"#m1596cfa925\" y=\"29.331799\"/>\n     <use style=\"fill:#1f77b4;stroke:#1f77b4;\" x=\"104.044912\" xlink:href=\"#m1596cfa925\" y=\"63.77913\"/>\n     <use style=\"fill:#1f77b4;stroke:#1f77b4;\" x=\"157.958742\" xlink:href=\"#m1596cfa925\" y=\"116.068787\"/>\n     <use style=\"fill:#1f77b4;stroke:#1f77b4;\" x=\"111.902541\" xlink:href=\"#m1596cfa925\" y=\"69.578131\"/>\n     <use style=\"fill:#1f77b4;stroke:#1f77b4;\" x=\"164.441585\" xlink:href=\"#m1596cfa925\" y=\"100.742184\"/>\n     <use style=\"fill:#1f77b4;stroke:#1f77b4;\" x=\"159.450172\" xlink:href=\"#m1596cfa925\" y=\"91.561631\"/>\n     <use style=\"fill:#1f77b4;stroke:#1f77b4;\" x=\"118.080222\" xlink:href=\"#m1596cfa925\" y=\"73.445585\"/>\n     <use style=\"fill:#1f77b4;stroke:#1f77b4;\" x=\"182.445789\" xlink:href=\"#m1596cfa925\" y=\"117.448578\"/>\n     <use style=\"fill:#1f77b4;stroke:#1f77b4;\" x=\"141.642832\" xlink:href=\"#m1596cfa925\" y=\"67.960106\"/>\n     <use style=\"fill:#1f77b4;stroke:#1f77b4;\" x=\"123.045755\" xlink:href=\"#m1596cfa925\" y=\"68.665139\"/>\n     <use style=\"fill:#1f77b4;stroke:#1f77b4;\" x=\"146.462531\" xlink:href=\"#m1596cfa925\" y=\"86.836288\"/>\n     <use style=\"fill:#1f77b4;stroke:#1f77b4;\" x=\"137.003504\" xlink:href=\"#m1596cfa925\" y=\"78.607591\"/>\n     <use style=\"fill:#1f77b4;stroke:#1f77b4;\" x=\"133.968564\" xlink:href=\"#m1596cfa925\" y=\"86.993564\"/>\n     <use style=\"fill:#1f77b4;stroke:#1f77b4;\" x=\"104.088057\" xlink:href=\"#m1596cfa925\" y=\"84.051751\"/>\n     <use style=\"fill:#1f77b4;stroke:#1f77b4;\" x=\"168.669104\" xlink:href=\"#m1596cfa925\" y=\"107.473484\"/>\n     <use style=\"fill:#1f77b4;stroke:#1f77b4;\" x=\"153.989732\" xlink:href=\"#m1596cfa925\" y=\"116.532732\"/>\n     <use style=\"fill:#1f77b4;stroke:#1f77b4;\" x=\"112.728337\" xlink:href=\"#m1596cfa925\" y=\"52.648015\"/>\n     <use style=\"fill:#1f77b4;stroke:#1f77b4;\" x=\"141.619601\" xlink:href=\"#m1596cfa925\" y=\"82.514542\"/>\n     <use style=\"fill:#1f77b4;stroke:#1f77b4;\" x=\"157.622804\" xlink:href=\"#m1596cfa925\" y=\"89.099797\"/>\n     <use style=\"fill:#1f77b4;stroke:#1f77b4;\" x=\"112.663504\" xlink:href=\"#m1596cfa925\" y=\"69.112405\"/>\n     <use style=\"fill:#1f77b4;stroke:#1f77b4;\" x=\"130.581985\" xlink:href=\"#m1596cfa925\" y=\"97.202071\"/>\n     <use style=\"fill:#1f77b4;stroke:#1f77b4;\" x=\"151.232061\" xlink:href=\"#m1596cfa925\" y=\"74.221183\"/>\n     <use style=\"fill:#1f77b4;stroke:#1f77b4;\" x=\"114.053859\" xlink:href=\"#m1596cfa925\" y=\"65.87504\"/>\n     <use style=\"fill:#1f77b4;stroke:#1f77b4;\" x=\"162.577024\" xlink:href=\"#m1596cfa925\" y=\"111.740841\"/>\n     <use style=\"fill:#1f77b4;stroke:#1f77b4;\" x=\"192.046272\" xlink:href=\"#m1596cfa925\" y=\"106.63553\"/>\n     <use style=\"fill:#1f77b4;stroke:#1f77b4;\" x=\"114.189302\" xlink:href=\"#m1596cfa925\" y=\"68.756984\"/>\n     <use style=\"fill:#1f77b4;stroke:#1f77b4;\" x=\"156.921015\" xlink:href=\"#m1596cfa925\" y=\"114.458458\"/>\n     <use style=\"fill:#1f77b4;stroke:#1f77b4;\" x=\"132.417034\" xlink:href=\"#m1596cfa925\" y=\"95.769188\"/>\n     <use style=\"fill:#1f77b4;stroke:#1f77b4;\" x=\"180.428115\" xlink:href=\"#m1596cfa925\" y=\"121.635225\"/>\n     <use style=\"fill:#1f77b4;stroke:#1f77b4;\" x=\"131.83579\" xlink:href=\"#m1596cfa925\" y=\"106.140608\"/>\n     <use style=\"fill:#1f77b4;stroke:#1f77b4;\" x=\"109.3862\" xlink:href=\"#m1596cfa925\" y=\"62.641604\"/>\n     <use style=\"fill:#1f77b4;stroke:#1f77b4;\" x=\"145.957124\" xlink:href=\"#m1596cfa925\" y=\"103.535702\"/>\n     <use style=\"fill:#1f77b4;stroke:#1f77b4;\" x=\"126.893271\" xlink:href=\"#m1596cfa925\" y=\"69.359016\"/>\n     <use style=\"fill:#1f77b4;stroke:#1f77b4;\" x=\"117.69752\" xlink:href=\"#m1596cfa925\" y=\"86.700442\"/>\n     <use style=\"fill:#1f77b4;stroke:#1f77b4;\" x=\"161.131215\" xlink:href=\"#m1596cfa925\" y=\"79.564808\"/>\n     <use style=\"fill:#1f77b4;stroke:#1f77b4;\" x=\"126.931366\" xlink:href=\"#m1596cfa925\" y=\"84.006982\"/>\n     <use style=\"fill:#1f77b4;stroke:#1f77b4;\" x=\"139.606186\" xlink:href=\"#m1596cfa925\" y=\"80.678399\"/>\n     <use style=\"fill:#1f77b4;stroke:#1f77b4;\" x=\"127.323224\" xlink:href=\"#m1596cfa925\" y=\"75.12215\"/>\n     <use style=\"fill:#1f77b4;stroke:#1f77b4;\" x=\"126.478056\" xlink:href=\"#m1596cfa925\" y=\"68.630719\"/>\n     <use style=\"fill:#1f77b4;stroke:#1f77b4;\" x=\"116.48462\" xlink:href=\"#m1596cfa925\" y=\"98.109608\"/>\n     <use style=\"fill:#1f77b4;stroke:#1f77b4;\" x=\"145.839257\" xlink:href=\"#m1596cfa925\" y=\"89.777603\"/>\n     <use style=\"fill:#1f77b4;stroke:#1f77b4;\" x=\"134.164685\" xlink:href=\"#m1596cfa925\" y=\"81.335734\"/>\n     <use style=\"fill:#1f77b4;stroke:#1f77b4;\" x=\"135.132794\" xlink:href=\"#m1596cfa925\" y=\"88.124576\"/>\n     <use style=\"fill:#1f77b4;stroke:#1f77b4;\" x=\"104.175572\" xlink:href=\"#m1596cfa925\" y=\"59.973872\"/>\n     <use style=\"fill:#1f77b4;stroke:#1f77b4;\" x=\"79.586291\" xlink:href=\"#m1596cfa925\" y=\"60.401235\"/>\n     <use style=\"fill:#1f77b4;stroke:#1f77b4;\" x=\"108.858371\" xlink:href=\"#m1596cfa925\" y=\"49.603936\"/>\n     <use style=\"fill:#1f77b4;stroke:#1f77b4;\" x=\"161.165296\" xlink:href=\"#m1596cfa925\" y=\"100.428145\"/>\n     <use style=\"fill:#1f77b4;stroke:#1f77b4;\" x=\"113.168477\" xlink:href=\"#m1596cfa925\" y=\"78.440095\"/>\n     <use style=\"fill:#1f77b4;stroke:#1f77b4;\" x=\"148.002092\" xlink:href=\"#m1596cfa925\" y=\"99.910414\"/>\n     <use style=\"fill:#1f77b4;stroke:#1f77b4;\" x=\"113.296713\" xlink:href=\"#m1596cfa925\" y=\"73.592198\"/>\n     <use style=\"fill:#1f77b4;stroke:#1f77b4;\" x=\"196.721023\" xlink:href=\"#m1596cfa925\" y=\"132.808953\"/>\n     <use style=\"fill:#1f77b4;stroke:#1f77b4;\" x=\"160.331652\" xlink:href=\"#m1596cfa925\" y=\"104.406451\"/>\n     <use style=\"fill:#1f77b4;stroke:#1f77b4;\" x=\"141.428167\" xlink:href=\"#m1596cfa925\" y=\"84.245858\"/>\n     <use style=\"fill:#1f77b4;stroke:#1f77b4;\" x=\"96.163298\" xlink:href=\"#m1596cfa925\" y=\"46.728619\"/>\n     <use style=\"fill:#1f77b4;stroke:#1f77b4;\" x=\"96.587956\" xlink:href=\"#m1596cfa925\" y=\"63.26131\"/>\n     <use style=\"fill:#1f77b4;stroke:#1f77b4;\" x=\"156.28408\" xlink:href=\"#m1596cfa925\" y=\"95.772891\"/>\n     <use style=\"fill:#1f77b4;stroke:#1f77b4;\" x=\"145.96225\" xlink:href=\"#m1596cfa925\" y=\"98.939535\"/>\n     <use style=\"fill:#1f77b4;stroke:#1f77b4;\" x=\"90.543865\" xlink:href=\"#m1596cfa925\" y=\"47.196064\"/>\n     <use style=\"fill:#1f77b4;stroke:#1f77b4;\" x=\"112.97933\" xlink:href=\"#m1596cfa925\" y=\"85.949853\"/>\n     <use style=\"fill:#1f77b4;stroke:#1f77b4;\" x=\"127.609363\" xlink:href=\"#m1596cfa925\" y=\"94.591447\"/>\n     <use style=\"fill:#1f77b4;stroke:#1f77b4;\" x=\"95.205341\" xlink:href=\"#m1596cfa925\" y=\"50.354608\"/>\n     <use style=\"fill:#1f77b4;stroke:#1f77b4;\" x=\"146.809021\" xlink:href=\"#m1596cfa925\" y=\"81.009978\"/>\n     <use style=\"fill:#1f77b4;stroke:#1f77b4;\" x=\"124.093591\" xlink:href=\"#m1596cfa925\" y=\"76.18717\"/>\n     <use style=\"fill:#1f77b4;stroke:#1f77b4;\" x=\"152.791411\" xlink:href=\"#m1596cfa925\" y=\"101.127953\"/>\n     <use style=\"fill:#1f77b4;stroke:#1f77b4;\" x=\"146.182516\" xlink:href=\"#m1596cfa925\" y=\"85.262405\"/>\n     <use style=\"fill:#1f77b4;stroke:#1f77b4;\" x=\"175.989042\" xlink:href=\"#m1596cfa925\" y=\"124.854569\"/>\n     <use style=\"fill:#1f77b4;stroke:#1f77b4;\" x=\"168.849631\" xlink:href=\"#m1596cfa925\" y=\"105.293399\"/>\n     <use style=\"fill:#1f77b4;stroke:#1f77b4;\" x=\"127.81511\" xlink:href=\"#m1596cfa925\" y=\"82.277729\"/>\n     <use style=\"fill:#1f77b4;stroke:#1f77b4;\" x=\"100.676798\" xlink:href=\"#m1596cfa925\" y=\"46.11402\"/>\n     <use style=\"fill:#1f77b4;stroke:#1f77b4;\" x=\"118.62002\" xlink:href=\"#m1596cfa925\" y=\"72.439645\"/>\n     <use style=\"fill:#1f77b4;stroke:#1f77b4;\" x=\"103.595075\" xlink:href=\"#m1596cfa925\" y=\"70.898933\"/>\n     <use style=\"fill:#1f77b4;stroke:#1f77b4;\" x=\"147.656009\" xlink:href=\"#m1596cfa925\" y=\"105.292626\"/>\n     <use style=\"fill:#1f77b4;stroke:#1f77b4;\" x=\"131.168795\" xlink:href=\"#m1596cfa925\" y=\"58.542403\"/>\n     <use style=\"fill:#1f77b4;stroke:#1f77b4;\" x=\"130.086384\" xlink:href=\"#m1596cfa925\" y=\"90.405732\"/>\n     <use style=\"fill:#1f77b4;stroke:#1f77b4;\" x=\"196.523827\" xlink:href=\"#m1596cfa925\" y=\"119.608428\"/>\n     <use style=\"fill:#1f77b4;stroke:#1f77b4;\" x=\"90.328928\" xlink:href=\"#m1596cfa925\" y=\"37.529345\"/>\n     <use style=\"fill:#1f77b4;stroke:#1f77b4;\" x=\"110.492193\" xlink:href=\"#m1596cfa925\" y=\"81.494598\"/>\n     <use style=\"fill:#1f77b4;stroke:#1f77b4;\" x=\"152.616462\" xlink:href=\"#m1596cfa925\" y=\"92.344351\"/>\n     <use style=\"fill:#1f77b4;stroke:#1f77b4;\" x=\"136.150189\" xlink:href=\"#m1596cfa925\" y=\"81.353809\"/>\n     <use style=\"fill:#1f77b4;stroke:#1f77b4;\" x=\"149.363081\" xlink:href=\"#m1596cfa925\" y=\"106.614214\"/>\n     <use style=\"fill:#1f77b4;stroke:#1f77b4;\" x=\"144.010696\" xlink:href=\"#m1596cfa925\" y=\"96.0868\"/>\n     <use style=\"fill:#1f77b4;stroke:#1f77b4;\" x=\"104.371866\" xlink:href=\"#m1596cfa925\" y=\"54.696365\"/>\n     <use style=\"fill:#1f77b4;stroke:#1f77b4;\" x=\"117.869683\" xlink:href=\"#m1596cfa925\" y=\"65.711063\"/>\n     <use style=\"fill:#1f77b4;stroke:#1f77b4;\" x=\"92.99133\" xlink:href=\"#m1596cfa925\" y=\"45.880811\"/>\n     <use style=\"fill:#1f77b4;stroke:#1f77b4;\" x=\"182.828858\" xlink:href=\"#m1596cfa925\" y=\"118.4595\"/>\n     <use style=\"fill:#1f77b4;stroke:#1f77b4;\" x=\"104.469157\" xlink:href=\"#m1596cfa925\" y=\"43.031366\"/>\n     <use style=\"fill:#1f77b4;stroke:#1f77b4;\" x=\"109.045171\" xlink:href=\"#m1596cfa925\" y=\"51.39766\"/>\n     <use style=\"fill:#1f77b4;stroke:#1f77b4;\" x=\"105.791143\" xlink:href=\"#m1596cfa925\" y=\"46.144788\"/>\n     <use style=\"fill:#1f77b4;stroke:#1f77b4;\" x=\"142.507271\" xlink:href=\"#m1596cfa925\" y=\"67.704569\"/>\n     <use style=\"fill:#1f77b4;stroke:#1f77b4;\" x=\"130.933527\" xlink:href=\"#m1596cfa925\" y=\"101.576038\"/>\n     <use style=\"fill:#1f77b4;stroke:#1f77b4;\" x=\"138.048073\" xlink:href=\"#m1596cfa925\" y=\"89.507914\"/>\n     <use style=\"fill:#1f77b4;stroke:#1f77b4;\" x=\"101.281708\" xlink:href=\"#m1596cfa925\" y=\"50.249908\"/>\n     <use style=\"fill:#1f77b4;stroke:#1f77b4;\" x=\"145.435485\" xlink:href=\"#m1596cfa925\" y=\"87.1556\"/>\n     <use style=\"fill:#1f77b4;stroke:#1f77b4;\" x=\"173.836393\" xlink:href=\"#m1596cfa925\" y=\"127.416165\"/>\n     <use style=\"fill:#1f77b4;stroke:#1f77b4;\" x=\"130.961726\" xlink:href=\"#m1596cfa925\" y=\"88.332584\"/>\n     <use style=\"fill:#1f77b4;stroke:#1f77b4;\" x=\"137.047966\" xlink:href=\"#m1596cfa925\" y=\"86.079257\"/>\n     <use style=\"fill:#1f77b4;stroke:#1f77b4;\" x=\"131.326248\" xlink:href=\"#m1596cfa925\" y=\"89.725941\"/>\n     <use style=\"fill:#1f77b4;stroke:#1f77b4;\" x=\"153.664025\" xlink:href=\"#m1596cfa925\" y=\"96.806692\"/>\n     <use style=\"fill:#1f77b4;stroke:#1f77b4;\" x=\"67.340787\" xlink:href=\"#m1596cfa925\" y=\"24.715302\"/>\n     <use style=\"fill:#1f77b4;stroke:#1f77b4;\" x=\"156.838586\" xlink:href=\"#m1596cfa925\" y=\"98.587387\"/>\n     <use style=\"fill:#1f77b4;stroke:#1f77b4;\" x=\"157.823302\" xlink:href=\"#m1596cfa925\" y=\"99.801107\"/>\n     <use style=\"fill:#1f77b4;stroke:#1f77b4;\" x=\"113.431057\" xlink:href=\"#m1596cfa925\" y=\"70.611406\"/>\n     <use style=\"fill:#1f77b4;stroke:#1f77b4;\" x=\"153.652782\" xlink:href=\"#m1596cfa925\" y=\"88.558578\"/>\n     <use style=\"fill:#1f77b4;stroke:#1f77b4;\" x=\"92.371703\" xlink:href=\"#m1596cfa925\" y=\"61.557905\"/>\n     <use style=\"fill:#1f77b4;stroke:#1f77b4;\" x=\"159.178473\" xlink:href=\"#m1596cfa925\" y=\"115.018245\"/>\n     <use style=\"fill:#1f77b4;stroke:#1f77b4;\" x=\"133.911705\" xlink:href=\"#m1596cfa925\" y=\"70.76127\"/>\n     <use style=\"fill:#1f77b4;stroke:#1f77b4;\" x=\"90.438638\" xlink:href=\"#m1596cfa925\" y=\"57.87257\"/>\n     <use style=\"fill:#1f77b4;stroke:#1f77b4;\" x=\"110.475044\" xlink:href=\"#m1596cfa925\" y=\"58.848546\"/>\n     <use style=\"fill:#1f77b4;stroke:#1f77b4;\" x=\"130.532788\" xlink:href=\"#m1596cfa925\" y=\"75.563571\"/>\n     <use style=\"fill:#1f77b4;stroke:#1f77b4;\" x=\"120.958652\" xlink:href=\"#m1596cfa925\" y=\"81.073677\"/>\n     <use style=\"fill:#1f77b4;stroke:#1f77b4;\" x=\"89.203195\" xlink:href=\"#m1596cfa925\" y=\"51.627531\"/>\n     <use style=\"fill:#1f77b4;stroke:#1f77b4;\" x=\"123.3507\" xlink:href=\"#m1596cfa925\" y=\"87.901083\"/>\n     <use style=\"fill:#1f77b4;stroke:#1f77b4;\" x=\"62.008847\" xlink:href=\"#m1596cfa925\" y=\"40.551203\"/>\n     <use style=\"fill:#1f77b4;stroke:#1f77b4;\" x=\"143.043921\" xlink:href=\"#m1596cfa925\" y=\"75.292427\"/>\n     <use style=\"fill:#1f77b4;stroke:#1f77b4;\" x=\"127.948618\" xlink:href=\"#m1596cfa925\" y=\"82.871602\"/>\n     <use style=\"fill:#1f77b4;stroke:#1f77b4;\" x=\"115.635169\" xlink:href=\"#m1596cfa925\" y=\"77.0122\"/>\n     <use style=\"fill:#1f77b4;stroke:#1f77b4;\" x=\"151.594806\" xlink:href=\"#m1596cfa925\" y=\"81.247568\"/>\n     <use style=\"fill:#1f77b4;stroke:#1f77b4;\" x=\"127.272434\" xlink:href=\"#m1596cfa925\" y=\"72.205603\"/>\n     <use style=\"fill:#1f77b4;stroke:#1f77b4;\" x=\"140.025986\" xlink:href=\"#m1596cfa925\" y=\"87.243998\"/>\n     <use style=\"fill:#1f77b4;stroke:#1f77b4;\" x=\"109.612921\" xlink:href=\"#m1596cfa925\" y=\"59.856668\"/>\n     <use style=\"fill:#1f77b4;stroke:#1f77b4;\" x=\"147.311839\" xlink:href=\"#m1596cfa925\" y=\"97.619102\"/>\n     <use style=\"fill:#1f77b4;stroke:#1f77b4;\" x=\"129.124572\" xlink:href=\"#m1596cfa925\" y=\"79.116382\"/>\n     <use style=\"fill:#1f77b4;stroke:#1f77b4;\" x=\"149.782115\" xlink:href=\"#m1596cfa925\" y=\"84.360046\"/>\n     <use style=\"fill:#1f77b4;stroke:#1f77b4;\" x=\"134.258132\" xlink:href=\"#m1596cfa925\" y=\"69.767422\"/>\n     <use style=\"fill:#1f77b4;stroke:#1f77b4;\" x=\"160.061856\" xlink:href=\"#m1596cfa925\" y=\"94.075896\"/>\n     <use style=\"fill:#1f77b4;stroke:#1f77b4;\" x=\"114.846133\" xlink:href=\"#m1596cfa925\" y=\"51.459687\"/>\n     <use style=\"fill:#1f77b4;stroke:#1f77b4;\" x=\"130.442956\" xlink:href=\"#m1596cfa925\" y=\"92.022065\"/>\n     <use style=\"fill:#1f77b4;stroke:#1f77b4;\" x=\"104.902549\" xlink:href=\"#m1596cfa925\" y=\"62.312618\"/>\n     <use style=\"fill:#1f77b4;stroke:#1f77b4;\" x=\"88.721371\" xlink:href=\"#m1596cfa925\" y=\"49.682612\"/>\n     <use style=\"fill:#1f77b4;stroke:#1f77b4;\" x=\"129.998842\" xlink:href=\"#m1596cfa925\" y=\"72.90148\"/>\n     <use style=\"fill:#1f77b4;stroke:#1f77b4;\" x=\"87.675626\" xlink:href=\"#m1596cfa925\" y=\"62.546246\"/>\n     <use style=\"fill:#1f77b4;stroke:#1f77b4;\" x=\"129.588963\" xlink:href=\"#m1596cfa925\" y=\"95.496733\"/>\n     <use style=\"fill:#1f77b4;stroke:#1f77b4;\" x=\"142.833559\" xlink:href=\"#m1596cfa925\" y=\"92.500445\"/>\n     <use style=\"fill:#1f77b4;stroke:#1f77b4;\" x=\"127.797694\" xlink:href=\"#m1596cfa925\" y=\"78.87177\"/>\n     <use style=\"fill:#1f77b4;stroke:#1f77b4;\" x=\"94.525935\" xlink:href=\"#m1596cfa925\" y=\"55.625517\"/>\n     <use style=\"fill:#1f77b4;stroke:#1f77b4;\" x=\"149.081379\" xlink:href=\"#m1596cfa925\" y=\"97.631579\"/>\n     <use style=\"fill:#1f77b4;stroke:#1f77b4;\" x=\"144.070308\" xlink:href=\"#m1596cfa925\" y=\"107.127241\"/>\n     <use style=\"fill:#1f77b4;stroke:#1f77b4;\" x=\"139.319648\" xlink:href=\"#m1596cfa925\" y=\"81.513369\"/>\n     <use style=\"fill:#1f77b4;stroke:#1f77b4;\" x=\"108.71196\" xlink:href=\"#m1596cfa925\" y=\"69.621839\"/>\n     <use style=\"fill:#1f77b4;stroke:#1f77b4;\" x=\"153.666117\" xlink:href=\"#m1596cfa925\" y=\"102.256261\"/>\n     <use style=\"fill:#1f77b4;stroke:#1f77b4;\" x=\"144.642175\" xlink:href=\"#m1596cfa925\" y=\"113.855224\"/>\n     <use style=\"fill:#1f77b4;stroke:#1f77b4;\" x=\"140.795212\" xlink:href=\"#m1596cfa925\" y=\"83.51324\"/>\n     <use style=\"fill:#1f77b4;stroke:#1f77b4;\" x=\"123.384363\" xlink:href=\"#m1596cfa925\" y=\"98.510981\"/>\n     <use style=\"fill:#1f77b4;stroke:#1f77b4;\" x=\"161.645023\" xlink:href=\"#m1596cfa925\" y=\"101.049883\"/>\n     <use style=\"fill:#1f77b4;stroke:#1f77b4;\" x=\"134.705908\" xlink:href=\"#m1596cfa925\" y=\"81.155198\"/>\n     <use style=\"fill:#1f77b4;stroke:#1f77b4;\" x=\"124.440296\" xlink:href=\"#m1596cfa925\" y=\"62.206292\"/>\n     <use style=\"fill:#1f77b4;stroke:#1f77b4;\" x=\"153.222523\" xlink:href=\"#m1596cfa925\" y=\"95.973833\"/>\n     <use style=\"fill:#1f77b4;stroke:#1f77b4;\" x=\"126.785237\" xlink:href=\"#m1596cfa925\" y=\"69.96594\"/>\n     <use style=\"fill:#1f77b4;stroke:#1f77b4;\" x=\"122.225863\" xlink:href=\"#m1596cfa925\" y=\"69.061365\"/>\n     <use style=\"fill:#1f77b4;stroke:#1f77b4;\" x=\"119.448912\" xlink:href=\"#m1596cfa925\" y=\"76.938128\"/>\n     <use style=\"fill:#1f77b4;stroke:#1f77b4;\" x=\"155.014671\" xlink:href=\"#m1596cfa925\" y=\"89.283835\"/>\n     <use style=\"fill:#1f77b4;stroke:#1f77b4;\" x=\"114.726862\" xlink:href=\"#m1596cfa925\" y=\"80.70641\"/>\n     <use style=\"fill:#1f77b4;stroke:#1f77b4;\" x=\"144.91327\" xlink:href=\"#m1596cfa925\" y=\"104.016806\"/>\n     <use style=\"fill:#1f77b4;stroke:#1f77b4;\" x=\"118.983006\" xlink:href=\"#m1596cfa925\" y=\"80.306897\"/>\n     <use style=\"fill:#1f77b4;stroke:#1f77b4;\" x=\"130.943575\" xlink:href=\"#m1596cfa925\" y=\"73.055647\"/>\n     <use style=\"fill:#1f77b4;stroke:#1f77b4;\" x=\"112.797817\" xlink:href=\"#m1596cfa925\" y=\"79.594698\"/>\n     <use style=\"fill:#1f77b4;stroke:#1f77b4;\" x=\"130.567075\" xlink:href=\"#m1596cfa925\" y=\"81.68289\"/>\n     <use style=\"fill:#1f77b4;stroke:#1f77b4;\" x=\"148.733311\" xlink:href=\"#m1596cfa925\" y=\"85.544341\"/>\n     <use style=\"fill:#1f77b4;stroke:#1f77b4;\" x=\"133.167035\" xlink:href=\"#m1596cfa925\" y=\"93.367009\"/>\n     <use style=\"fill:#1f77b4;stroke:#1f77b4;\" x=\"113.100327\" xlink:href=\"#m1596cfa925\" y=\"60.987966\"/>\n     <use style=\"fill:#1f77b4;stroke:#1f77b4;\" x=\"156.764215\" xlink:href=\"#m1596cfa925\" y=\"97.395041\"/>\n     <use style=\"fill:#1f77b4;stroke:#1f77b4;\" x=\"203.74828\" xlink:href=\"#m1596cfa925\" y=\"120.741921\"/>\n     <use style=\"fill:#1f77b4;stroke:#1f77b4;\" x=\"122.001462\" xlink:href=\"#m1596cfa925\" y=\"71.032458\"/>\n     <use style=\"fill:#1f77b4;stroke:#1f77b4;\" x=\"159.897404\" xlink:href=\"#m1596cfa925\" y=\"102.315291\"/>\n     <use style=\"fill:#1f77b4;stroke:#1f77b4;\" x=\"130.341962\" xlink:href=\"#m1596cfa925\" y=\"72.343307\"/>\n     <use style=\"fill:#1f77b4;stroke:#1f77b4;\" x=\"121.173525\" xlink:href=\"#m1596cfa925\" y=\"82.049172\"/>\n     <use style=\"fill:#1f77b4;stroke:#1f77b4;\" x=\"97.145726\" xlink:href=\"#m1596cfa925\" y=\"46.058758\"/>\n     <use style=\"fill:#1f77b4;stroke:#1f77b4;\" x=\"127.940043\" xlink:href=\"#m1596cfa925\" y=\"63.657322\"/>\n     <use style=\"fill:#1f77b4;stroke:#1f77b4;\" x=\"134.11791\" xlink:href=\"#m1596cfa925\" y=\"70.679281\"/>\n     <use style=\"fill:#1f77b4;stroke:#1f77b4;\" x=\"147.226313\" xlink:href=\"#m1596cfa925\" y=\"88.826786\"/>\n     <use style=\"fill:#1f77b4;stroke:#1f77b4;\" x=\"172.876194\" xlink:href=\"#m1596cfa925\" y=\"109.387122\"/>\n     <use style=\"fill:#1f77b4;stroke:#1f77b4;\" x=\"113.928779\" xlink:href=\"#m1596cfa925\" y=\"76.6642\"/>\n     <use style=\"fill:#1f77b4;stroke:#1f77b4;\" x=\"93.313369\" xlink:href=\"#m1596cfa925\" y=\"51.216252\"/>\n     <use style=\"fill:#1f77b4;stroke:#1f77b4;\" x=\"126.65225\" xlink:href=\"#m1596cfa925\" y=\"81.709399\"/>\n     <use style=\"fill:#1f77b4;stroke:#1f77b4;\" x=\"163.26584\" xlink:href=\"#m1596cfa925\" y=\"121.107212\"/>\n     <use style=\"fill:#1f77b4;stroke:#1f77b4;\" x=\"103.109889\" xlink:href=\"#m1596cfa925\" y=\"54.068886\"/>\n     <use style=\"fill:#1f77b4;stroke:#1f77b4;\" x=\"197.864475\" xlink:href=\"#m1596cfa925\" y=\"121.198857\"/>\n     <use style=\"fill:#1f77b4;stroke:#1f77b4;\" x=\"114.147286\" xlink:href=\"#m1596cfa925\" y=\"65.13645\"/>\n     <use style=\"fill:#1f77b4;stroke:#1f77b4;\" x=\"109.203679\" xlink:href=\"#m1596cfa925\" y=\"67.648782\"/>\n     <use style=\"fill:#1f77b4;stroke:#1f77b4;\" x=\"85.46761\" xlink:href=\"#m1596cfa925\" y=\"28.6501\"/>\n     <use style=\"fill:#1f77b4;stroke:#1f77b4;\" x=\"100.5282\" xlink:href=\"#m1596cfa925\" y=\"43.120477\"/>\n     <use style=\"fill:#1f77b4;stroke:#1f77b4;\" x=\"83.668353\" xlink:href=\"#m1596cfa925\" y=\"47.516488\"/>\n     <use style=\"fill:#1f77b4;stroke:#1f77b4;\" x=\"114.652653\" xlink:href=\"#m1596cfa925\" y=\"77.955583\"/>\n     <use style=\"fill:#1f77b4;stroke:#1f77b4;\" x=\"119.095568\" xlink:href=\"#m1596cfa925\" y=\"65.71088\"/>\n     <use style=\"fill:#1f77b4;stroke:#1f77b4;\" x=\"171.105612\" xlink:href=\"#m1596cfa925\" y=\"93.101549\"/>\n     <use style=\"fill:#1f77b4;stroke:#1f77b4;\" x=\"131.904864\" xlink:href=\"#m1596cfa925\" y=\"89.011999\"/>\n     <use style=\"fill:#1f77b4;stroke:#1f77b4;\" x=\"118.298788\" xlink:href=\"#m1596cfa925\" y=\"78.972601\"/>\n     <use style=\"fill:#1f77b4;stroke:#1f77b4;\" x=\"146.296996\" xlink:href=\"#m1596cfa925\" y=\"83.267547\"/>\n     <use style=\"fill:#1f77b4;stroke:#1f77b4;\" x=\"129.576426\" xlink:href=\"#m1596cfa925\" y=\"83.119836\"/>\n     <use style=\"fill:#1f77b4;stroke:#1f77b4;\" x=\"108.142681\" xlink:href=\"#m1596cfa925\" y=\"56.192428\"/>\n     <use style=\"fill:#1f77b4;stroke:#1f77b4;\" x=\"132.1182\" xlink:href=\"#m1596cfa925\" y=\"72.207664\"/>\n     <use style=\"fill:#1f77b4;stroke:#1f77b4;\" x=\"141.200896\" xlink:href=\"#m1596cfa925\" y=\"99.880835\"/>\n     <use style=\"fill:#1f77b4;stroke:#1f77b4;\" x=\"135.822908\" xlink:href=\"#m1596cfa925\" y=\"85.481797\"/>\n     <use style=\"fill:#1f77b4;stroke:#1f77b4;\" x=\"99.774973\" xlink:href=\"#m1596cfa925\" y=\"60.024541\"/>\n     <use style=\"fill:#1f77b4;stroke:#1f77b4;\" x=\"149.442884\" xlink:href=\"#m1596cfa925\" y=\"103.320099\"/>\n     <use style=\"fill:#1f77b4;stroke:#1f77b4;\" x=\"129.14533\" xlink:href=\"#m1596cfa925\" y=\"77.807539\"/>\n     <use style=\"fill:#1f77b4;stroke:#1f77b4;\" x=\"146.17856\" xlink:href=\"#m1596cfa925\" y=\"105.260286\"/>\n     <use style=\"fill:#1f77b4;stroke:#1f77b4;\" x=\"133.491812\" xlink:href=\"#m1596cfa925\" y=\"88.391908\"/>\n     <use style=\"fill:#1f77b4;stroke:#1f77b4;\" x=\"108.71589\" xlink:href=\"#m1596cfa925\" y=\"62.709239\"/>\n     <use style=\"fill:#1f77b4;stroke:#1f77b4;\" x=\"107.174498\" xlink:href=\"#m1596cfa925\" y=\"75.447114\"/>\n     <use style=\"fill:#1f77b4;stroke:#1f77b4;\" x=\"152.765721\" xlink:href=\"#m1596cfa925\" y=\"102.636634\"/>\n     <use style=\"fill:#1f77b4;stroke:#1f77b4;\" x=\"118.81015\" xlink:href=\"#m1596cfa925\" y=\"79.367571\"/>\n     <use style=\"fill:#1f77b4;stroke:#1f77b4;\" x=\"130.485479\" xlink:href=\"#m1596cfa925\" y=\"75.575961\"/>\n     <use style=\"fill:#1f77b4;stroke:#1f77b4;\" x=\"101.27924\" xlink:href=\"#m1596cfa925\" y=\"55.331436\"/>\n     <use style=\"fill:#1f77b4;stroke:#1f77b4;\" x=\"147.779791\" xlink:href=\"#m1596cfa925\" y=\"104.907633\"/>\n     <use style=\"fill:#1f77b4;stroke:#1f77b4;\" x=\"130.137842\" xlink:href=\"#m1596cfa925\" y=\"79.697389\"/>\n     <use style=\"fill:#1f77b4;stroke:#1f77b4;\" x=\"111.758125\" xlink:href=\"#m1596cfa925\" y=\"75.392544\"/>\n     <use style=\"fill:#1f77b4;stroke:#1f77b4;\" x=\"151.600233\" xlink:href=\"#m1596cfa925\" y=\"103.5929\"/>\n     <use style=\"fill:#1f77b4;stroke:#1f77b4;\" x=\"156.920591\" xlink:href=\"#m1596cfa925\" y=\"84.485652\"/>\n     <use style=\"fill:#1f77b4;stroke:#1f77b4;\" x=\"139.693959\" xlink:href=\"#m1596cfa925\" y=\"86.464667\"/>\n     <use style=\"fill:#1f77b4;stroke:#1f77b4;\" x=\"134.734208\" xlink:href=\"#m1596cfa925\" y=\"101.829263\"/>\n     <use style=\"fill:#1f77b4;stroke:#1f77b4;\" x=\"153.80756\" xlink:href=\"#m1596cfa925\" y=\"102.257893\"/>\n     <use style=\"fill:#1f77b4;stroke:#1f77b4;\" x=\"125.395301\" xlink:href=\"#m1596cfa925\" y=\"75.936447\"/>\n     <use style=\"fill:#1f77b4;stroke:#1f77b4;\" x=\"46.689592\" xlink:href=\"#m1596cfa925\" y=\"35.682684\"/>\n     <use style=\"fill:#1f77b4;stroke:#1f77b4;\" x=\"119.774376\" xlink:href=\"#m1596cfa925\" y=\"68.011066\"/>\n     <use style=\"fill:#1f77b4;stroke:#1f77b4;\" x=\"91.380925\" xlink:href=\"#m1596cfa925\" y=\"40.831958\"/>\n     <use style=\"fill:#1f77b4;stroke:#1f77b4;\" x=\"156.392983\" xlink:href=\"#m1596cfa925\" y=\"114.746494\"/>\n     <use style=\"fill:#1f77b4;stroke:#1f77b4;\" x=\"58.86884\" xlink:href=\"#m1596cfa925\" y=\"25.873046\"/>\n     <use style=\"fill:#1f77b4;stroke:#1f77b4;\" x=\"140.06954\" xlink:href=\"#m1596cfa925\" y=\"94.272744\"/>\n     <use style=\"fill:#1f77b4;stroke:#1f77b4;\" x=\"130.544168\" xlink:href=\"#m1596cfa925\" y=\"95.55058\"/>\n     <use style=\"fill:#1f77b4;stroke:#1f77b4;\" x=\"113.996937\" xlink:href=\"#m1596cfa925\" y=\"64.754166\"/>\n     <use style=\"fill:#1f77b4;stroke:#1f77b4;\" x=\"126.600445\" xlink:href=\"#m1596cfa925\" y=\"67.982667\"/>\n     <use style=\"fill:#1f77b4;stroke:#1f77b4;\" x=\"103.956827\" xlink:href=\"#m1596cfa925\" y=\"67.864475\"/>\n     <use style=\"fill:#1f77b4;stroke:#1f77b4;\" x=\"122.402239\" xlink:href=\"#m1596cfa925\" y=\"85.6969\"/>\n     <use style=\"fill:#1f77b4;stroke:#1f77b4;\" x=\"156.308281\" xlink:href=\"#m1596cfa925\" y=\"97.072106\"/>\n     <use style=\"fill:#1f77b4;stroke:#1f77b4;\" x=\"162.951153\" xlink:href=\"#m1596cfa925\" y=\"99.907976\"/>\n     <use style=\"fill:#1f77b4;stroke:#1f77b4;\" x=\"149.121247\" xlink:href=\"#m1596cfa925\" y=\"94.317429\"/>\n     <use style=\"fill:#1f77b4;stroke:#1f77b4;\" x=\"135.95389\" xlink:href=\"#m1596cfa925\" y=\"79.029125\"/>\n     <use style=\"fill:#1f77b4;stroke:#1f77b4;\" x=\"105.123501\" xlink:href=\"#m1596cfa925\" y=\"56.18513\"/>\n     <use style=\"fill:#1f77b4;stroke:#1f77b4;\" x=\"130.353418\" xlink:href=\"#m1596cfa925\" y=\"87.702483\"/>\n     <use style=\"fill:#1f77b4;stroke:#1f77b4;\" x=\"146.127597\" xlink:href=\"#m1596cfa925\" y=\"78.194274\"/>\n     <use style=\"fill:#1f77b4;stroke:#1f77b4;\" x=\"141.640877\" xlink:href=\"#m1596cfa925\" y=\"86.779281\"/>\n     <use style=\"fill:#1f77b4;stroke:#1f77b4;\" x=\"104.197755\" xlink:href=\"#m1596cfa925\" y=\"75.574482\"/>\n     <use style=\"fill:#1f77b4;stroke:#1f77b4;\" x=\"121.617802\" xlink:href=\"#m1596cfa925\" y=\"76.219266\"/>\n     <use style=\"fill:#1f77b4;stroke:#1f77b4;\" x=\"144.794671\" xlink:href=\"#m1596cfa925\" y=\"98.276129\"/>\n     <use style=\"fill:#1f77b4;stroke:#1f77b4;\" x=\"134.585018\" xlink:href=\"#m1596cfa925\" y=\"82.645019\"/>\n     <use style=\"fill:#1f77b4;stroke:#1f77b4;\" x=\"129.94703\" xlink:href=\"#m1596cfa925\" y=\"75.948596\"/>\n     <use style=\"fill:#1f77b4;stroke:#1f77b4;\" x=\"176.187118\" xlink:href=\"#m1596cfa925\" y=\"103.009957\"/>\n     <use style=\"fill:#1f77b4;stroke:#1f77b4;\" x=\"83.139227\" xlink:href=\"#m1596cfa925\" y=\"64.10096\"/>\n     <use style=\"fill:#1f77b4;stroke:#1f77b4;\" x=\"122.668518\" xlink:href=\"#m1596cfa925\" y=\"69.318582\"/>\n     <use style=\"fill:#1f77b4;stroke:#1f77b4;\" x=\"122.976414\" xlink:href=\"#m1596cfa925\" y=\"77.08117\"/>\n     <use style=\"fill:#1f77b4;stroke:#1f77b4;\" x=\"137.075093\" xlink:href=\"#m1596cfa925\" y=\"96.583856\"/>\n     <use style=\"fill:#1f77b4;stroke:#1f77b4;\" x=\"140.269728\" xlink:href=\"#m1596cfa925\" y=\"85.422863\"/>\n     <use style=\"fill:#1f77b4;stroke:#1f77b4;\" x=\"143.870674\" xlink:href=\"#m1596cfa925\" y=\"106.032539\"/>\n     <use style=\"fill:#1f77b4;stroke:#1f77b4;\" x=\"166.052129\" xlink:href=\"#m1596cfa925\" y=\"104.058052\"/>\n     <use style=\"fill:#1f77b4;stroke:#1f77b4;\" x=\"113.672791\" xlink:href=\"#m1596cfa925\" y=\"72.1424\"/>\n     <use style=\"fill:#1f77b4;stroke:#1f77b4;\" x=\"148.147529\" xlink:href=\"#m1596cfa925\" y=\"90.354223\"/>\n     <use style=\"fill:#1f77b4;stroke:#1f77b4;\" x=\"129.219426\" xlink:href=\"#m1596cfa925\" y=\"86.52081\"/>\n     <use style=\"fill:#1f77b4;stroke:#1f77b4;\" x=\"130.325406\" xlink:href=\"#m1596cfa925\" y=\"81.715917\"/>\n     <use style=\"fill:#1f77b4;stroke:#1f77b4;\" x=\"129.65565\" xlink:href=\"#m1596cfa925\" y=\"73.816854\"/>\n     <use style=\"fill:#1f77b4;stroke:#1f77b4;\" x=\"125.736415\" xlink:href=\"#m1596cfa925\" y=\"76.150813\"/>\n     <use style=\"fill:#1f77b4;stroke:#1f77b4;\" x=\"161.45573\" xlink:href=\"#m1596cfa925\" y=\"124.137651\"/>\n     <use style=\"fill:#1f77b4;stroke:#1f77b4;\" x=\"97.865789\" xlink:href=\"#m1596cfa925\" y=\"53.497373\"/>\n     <use style=\"fill:#1f77b4;stroke:#1f77b4;\" x=\"140.832629\" xlink:href=\"#m1596cfa925\" y=\"91.264264\"/>\n     <use style=\"fill:#1f77b4;stroke:#1f77b4;\" x=\"119.226897\" xlink:href=\"#m1596cfa925\" y=\"66.18645\"/>\n     <use style=\"fill:#1f77b4;stroke:#1f77b4;\" x=\"138.118399\" xlink:href=\"#m1596cfa925\" y=\"70.451662\"/>\n     <use style=\"fill:#1f77b4;stroke:#1f77b4;\" x=\"102.346355\" xlink:href=\"#m1596cfa925\" y=\"59.393702\"/>\n     <use style=\"fill:#1f77b4;stroke:#1f77b4;\" x=\"113.782876\" xlink:href=\"#m1596cfa925\" y=\"52.674196\"/>\n     <use style=\"fill:#1f77b4;stroke:#1f77b4;\" x=\"115.575955\" xlink:href=\"#m1596cfa925\" y=\"78.726249\"/>\n     <use style=\"fill:#1f77b4;stroke:#1f77b4;\" x=\"100.742674\" xlink:href=\"#m1596cfa925\" y=\"69.024309\"/>\n     <use style=\"fill:#1f77b4;stroke:#1f77b4;\" x=\"137.665955\" xlink:href=\"#m1596cfa925\" y=\"76.755427\"/>\n     <use style=\"fill:#1f77b4;stroke:#1f77b4;\" x=\"126.846691\" xlink:href=\"#m1596cfa925\" y=\"81.240283\"/>\n     <use style=\"fill:#1f77b4;stroke:#1f77b4;\" x=\"144.377329\" xlink:href=\"#m1596cfa925\" y=\"85.556828\"/>\n     <use style=\"fill:#1f77b4;stroke:#1f77b4;\" x=\"131.139472\" xlink:href=\"#m1596cfa925\" y=\"92.246999\"/>\n     <use style=\"fill:#1f77b4;stroke:#1f77b4;\" x=\"134.970959\" xlink:href=\"#m1596cfa925\" y=\"93.593177\"/>\n     <use style=\"fill:#1f77b4;stroke:#1f77b4;\" x=\"139.282505\" xlink:href=\"#m1596cfa925\" y=\"98.763093\"/>\n     <use style=\"fill:#1f77b4;stroke:#1f77b4;\" x=\"125.28222\" xlink:href=\"#m1596cfa925\" y=\"79.490837\"/>\n     <use style=\"fill:#1f77b4;stroke:#1f77b4;\" x=\"154.889314\" xlink:href=\"#m1596cfa925\" y=\"127.000248\"/>\n     <use style=\"fill:#1f77b4;stroke:#1f77b4;\" x=\"120.669693\" xlink:href=\"#m1596cfa925\" y=\"76.132562\"/>\n     <use style=\"fill:#1f77b4;stroke:#1f77b4;\" x=\"140.468591\" xlink:href=\"#m1596cfa925\" y=\"86.297813\"/>\n     <use style=\"fill:#1f77b4;stroke:#1f77b4;\" x=\"121.933253\" xlink:href=\"#m1596cfa925\" y=\"71.974755\"/>\n     <use style=\"fill:#1f77b4;stroke:#1f77b4;\" x=\"142.733373\" xlink:href=\"#m1596cfa925\" y=\"85.726527\"/>\n     <use style=\"fill:#1f77b4;stroke:#1f77b4;\" x=\"172.670418\" xlink:href=\"#m1596cfa925\" y=\"111.094567\"/>\n     <use style=\"fill:#1f77b4;stroke:#1f77b4;\" x=\"114.558397\" xlink:href=\"#m1596cfa925\" y=\"67.59008\"/>\n     <use style=\"fill:#1f77b4;stroke:#1f77b4;\" x=\"161.009868\" xlink:href=\"#m1596cfa925\" y=\"122.22438\"/>\n     <use style=\"fill:#1f77b4;stroke:#1f77b4;\" x=\"124.984975\" xlink:href=\"#m1596cfa925\" y=\"79.580238\"/>\n     <use style=\"fill:#1f77b4;stroke:#1f77b4;\" x=\"153.783001\" xlink:href=\"#m1596cfa925\" y=\"104.12698\"/>\n     <use style=\"fill:#1f77b4;stroke:#1f77b4;\" x=\"161.94751\" xlink:href=\"#m1596cfa925\" y=\"107.894864\"/>\n     <use style=\"fill:#1f77b4;stroke:#1f77b4;\" x=\"120.557909\" xlink:href=\"#m1596cfa925\" y=\"73.523662\"/>\n     <use style=\"fill:#1f77b4;stroke:#1f77b4;\" x=\"88.136167\" xlink:href=\"#m1596cfa925\" y=\"49.835248\"/>\n     <use style=\"fill:#1f77b4;stroke:#1f77b4;\" x=\"95.340035\" xlink:href=\"#m1596cfa925\" y=\"61.547223\"/>\n     <use style=\"fill:#1f77b4;stroke:#1f77b4;\" x=\"130.632349\" xlink:href=\"#m1596cfa925\" y=\"83.676306\"/>\n     <use style=\"fill:#1f77b4;stroke:#1f77b4;\" x=\"128.966778\" xlink:href=\"#m1596cfa925\" y=\"100.89372\"/>\n     <use style=\"fill:#1f77b4;stroke:#1f77b4;\" x=\"90.855822\" xlink:href=\"#m1596cfa925\" y=\"42.303918\"/>\n     <use style=\"fill:#1f77b4;stroke:#1f77b4;\" x=\"134.39719\" xlink:href=\"#m1596cfa925\" y=\"89.850343\"/>\n     <use style=\"fill:#1f77b4;stroke:#1f77b4;\" x=\"178.65343\" xlink:href=\"#m1596cfa925\" y=\"96.084705\"/>\n     <use style=\"fill:#1f77b4;stroke:#1f77b4;\" x=\"134.387086\" xlink:href=\"#m1596cfa925\" y=\"73.592604\"/>\n     <use style=\"fill:#1f77b4;stroke:#1f77b4;\" x=\"128.836355\" xlink:href=\"#m1596cfa925\" y=\"91.058013\"/>\n     <use style=\"fill:#1f77b4;stroke:#1f77b4;\" x=\"111.128738\" xlink:href=\"#m1596cfa925\" y=\"62.447992\"/>\n     <use style=\"fill:#1f77b4;stroke:#1f77b4;\" x=\"166.654525\" xlink:href=\"#m1596cfa925\" y=\"109.052775\"/>\n     <use style=\"fill:#1f77b4;stroke:#1f77b4;\" x=\"128.756727\" xlink:href=\"#m1596cfa925\" y=\"73.587294\"/>\n     <use style=\"fill:#1f77b4;stroke:#1f77b4;\" x=\"137.792764\" xlink:href=\"#m1596cfa925\" y=\"111.474645\"/>\n     <use style=\"fill:#1f77b4;stroke:#1f77b4;\" x=\"188.334901\" xlink:href=\"#m1596cfa925\" y=\"124.440484\"/>\n     <use style=\"fill:#1f77b4;stroke:#1f77b4;\" x=\"120.826255\" xlink:href=\"#m1596cfa925\" y=\"62.381587\"/>\n     <use style=\"fill:#1f77b4;stroke:#1f77b4;\" x=\"95.612059\" xlink:href=\"#m1596cfa925\" y=\"52.947991\"/>\n     <use style=\"fill:#1f77b4;stroke:#1f77b4;\" x=\"105.947628\" xlink:href=\"#m1596cfa925\" y=\"81.551034\"/>\n     <use style=\"fill:#1f77b4;stroke:#1f77b4;\" x=\"143.122927\" xlink:href=\"#m1596cfa925\" y=\"85.111876\"/>\n     <use style=\"fill:#1f77b4;stroke:#1f77b4;\" x=\"132.778353\" xlink:href=\"#m1596cfa925\" y=\"82.079615\"/>\n     <use style=\"fill:#1f77b4;stroke:#1f77b4;\" x=\"146.410065\" xlink:href=\"#m1596cfa925\" y=\"104.282777\"/>\n     <use style=\"fill:#1f77b4;stroke:#1f77b4;\" x=\"156.497847\" xlink:href=\"#m1596cfa925\" y=\"90.613065\"/>\n     <use style=\"fill:#1f77b4;stroke:#1f77b4;\" x=\"129.16184\" xlink:href=\"#m1596cfa925\" y=\"91.483723\"/>\n     <use style=\"fill:#1f77b4;stroke:#1f77b4;\" x=\"94.984906\" xlink:href=\"#m1596cfa925\" y=\"71.772429\"/>\n     <use style=\"fill:#1f77b4;stroke:#1f77b4;\" x=\"125.237092\" xlink:href=\"#m1596cfa925\" y=\"82.384434\"/>\n     <use style=\"fill:#1f77b4;stroke:#1f77b4;\" x=\"121.732124\" xlink:href=\"#m1596cfa925\" y=\"81.557485\"/>\n     <use style=\"fill:#1f77b4;stroke:#1f77b4;\" x=\"129.687691\" xlink:href=\"#m1596cfa925\" y=\"66.012102\"/>\n     <use style=\"fill:#1f77b4;stroke:#1f77b4;\" x=\"114.612851\" xlink:href=\"#m1596cfa925\" y=\"55.858517\"/>\n     <use style=\"fill:#1f77b4;stroke:#1f77b4;\" x=\"149.869143\" xlink:href=\"#m1596cfa925\" y=\"126.528018\"/>\n     <use style=\"fill:#1f77b4;stroke:#1f77b4;\" x=\"92.280764\" xlink:href=\"#m1596cfa925\" y=\"43.201673\"/>\n     <use style=\"fill:#1f77b4;stroke:#1f77b4;\" x=\"107.395645\" xlink:href=\"#m1596cfa925\" y=\"77.621375\"/>\n     <use style=\"fill:#1f77b4;stroke:#1f77b4;\" x=\"123.746077\" xlink:href=\"#m1596cfa925\" y=\"77.263151\"/>\n     <use style=\"fill:#1f77b4;stroke:#1f77b4;\" x=\"92.133649\" xlink:href=\"#m1596cfa925\" y=\"49.546848\"/>\n     <use style=\"fill:#1f77b4;stroke:#1f77b4;\" x=\"125.700585\" xlink:href=\"#m1596cfa925\" y=\"87.898858\"/>\n     <use style=\"fill:#1f77b4;stroke:#1f77b4;\" x=\"156.95806\" xlink:href=\"#m1596cfa925\" y=\"91.000979\"/>\n     <use style=\"fill:#1f77b4;stroke:#1f77b4;\" x=\"125.839212\" xlink:href=\"#m1596cfa925\" y=\"81.045815\"/>\n     <use style=\"fill:#1f77b4;stroke:#1f77b4;\" x=\"124.219595\" xlink:href=\"#m1596cfa925\" y=\"77.878725\"/>\n     <use style=\"fill:#1f77b4;stroke:#1f77b4;\" x=\"162.48436\" xlink:href=\"#m1596cfa925\" y=\"101.502991\"/>\n     <use style=\"fill:#1f77b4;stroke:#1f77b4;\" x=\"72.293758\" xlink:href=\"#m1596cfa925\" y=\"34.604547\"/>\n     <use style=\"fill:#1f77b4;stroke:#1f77b4;\" x=\"104.254093\" xlink:href=\"#m1596cfa925\" y=\"65.836798\"/>\n     <use style=\"fill:#1f77b4;stroke:#1f77b4;\" x=\"122.132618\" xlink:href=\"#m1596cfa925\" y=\"56.172004\"/>\n     <use style=\"fill:#1f77b4;stroke:#1f77b4;\" x=\"152.34205\" xlink:href=\"#m1596cfa925\" y=\"94.28167\"/>\n     <use style=\"fill:#1f77b4;stroke:#1f77b4;\" x=\"159.626739\" xlink:href=\"#m1596cfa925\" y=\"111.486978\"/>\n     <use style=\"fill:#1f77b4;stroke:#1f77b4;\" x=\"117.008868\" xlink:href=\"#m1596cfa925\" y=\"75.623602\"/>\n     <use style=\"fill:#1f77b4;stroke:#1f77b4;\" x=\"144.278928\" xlink:href=\"#m1596cfa925\" y=\"99.161041\"/>\n     <use style=\"fill:#1f77b4;stroke:#1f77b4;\" x=\"102.813639\" xlink:href=\"#m1596cfa925\" y=\"51.307754\"/>\n     <use style=\"fill:#1f77b4;stroke:#1f77b4;\" x=\"120.342017\" xlink:href=\"#m1596cfa925\" y=\"77.589002\"/>\n     <use style=\"fill:#1f77b4;stroke:#1f77b4;\" x=\"125.521564\" xlink:href=\"#m1596cfa925\" y=\"79.231004\"/>\n     <use style=\"fill:#1f77b4;stroke:#1f77b4;\" x=\"105.953894\" xlink:href=\"#m1596cfa925\" y=\"62.831817\"/>\n     <use style=\"fill:#1f77b4;stroke:#1f77b4;\" x=\"99.913987\" xlink:href=\"#m1596cfa925\" y=\"64.968449\"/>\n     <use style=\"fill:#1f77b4;stroke:#1f77b4;\" x=\"115.816326\" xlink:href=\"#m1596cfa925\" y=\"89.824393\"/>\n     <use style=\"fill:#1f77b4;stroke:#1f77b4;\" x=\"149.497971\" xlink:href=\"#m1596cfa925\" y=\"104.489306\"/>\n     <use style=\"fill:#1f77b4;stroke:#1f77b4;\" x=\"119.2015\" xlink:href=\"#m1596cfa925\" y=\"84.216993\"/>\n     <use style=\"fill:#1f77b4;stroke:#1f77b4;\" x=\"91.513055\" xlink:href=\"#m1596cfa925\" y=\"49.654097\"/>\n     <use style=\"fill:#1f77b4;stroke:#1f77b4;\" x=\"121.580832\" xlink:href=\"#m1596cfa925\" y=\"73.097571\"/>\n     <use style=\"fill:#1f77b4;stroke:#1f77b4;\" x=\"121.018741\" xlink:href=\"#m1596cfa925\" y=\"55.897553\"/>\n     <use style=\"fill:#1f77b4;stroke:#1f77b4;\" x=\"87.715833\" xlink:href=\"#m1596cfa925\" y=\"46.019484\"/>\n     <use style=\"fill:#1f77b4;stroke:#1f77b4;\" x=\"110.408465\" xlink:href=\"#m1596cfa925\" y=\"43.740159\"/>\n     <use style=\"fill:#1f77b4;stroke:#1f77b4;\" x=\"160.035553\" xlink:href=\"#m1596cfa925\" y=\"83.847367\"/>\n     <use style=\"fill:#1f77b4;stroke:#1f77b4;\" x=\"182.321017\" xlink:href=\"#m1596cfa925\" y=\"129.45751\"/>\n     <use style=\"fill:#1f77b4;stroke:#1f77b4;\" x=\"109.997825\" xlink:href=\"#m1596cfa925\" y=\"53.21986\"/>\n     <use style=\"fill:#1f77b4;stroke:#1f77b4;\" x=\"146.518089\" xlink:href=\"#m1596cfa925\" y=\"92.118102\"/>\n     <use style=\"fill:#1f77b4;stroke:#1f77b4;\" x=\"138.735587\" xlink:href=\"#m1596cfa925\" y=\"81.538352\"/>\n     <use style=\"fill:#1f77b4;stroke:#1f77b4;\" x=\"105.56128\" xlink:href=\"#m1596cfa925\" y=\"60.224391\"/>\n     <use style=\"fill:#1f77b4;stroke:#1f77b4;\" x=\"173.33236\" xlink:href=\"#m1596cfa925\" y=\"105.377037\"/>\n     <use style=\"fill:#1f77b4;stroke:#1f77b4;\" x=\"131.92575\" xlink:href=\"#m1596cfa925\" y=\"80.483782\"/>\n     <use style=\"fill:#1f77b4;stroke:#1f77b4;\" x=\"166.971563\" xlink:href=\"#m1596cfa925\" y=\"95.372233\"/>\n     <use style=\"fill:#1f77b4;stroke:#1f77b4;\" x=\"145.07264\" xlink:href=\"#m1596cfa925\" y=\"89.112862\"/>\n     <use style=\"fill:#1f77b4;stroke:#1f77b4;\" x=\"132.280731\" xlink:href=\"#m1596cfa925\" y=\"80.257856\"/>\n     <use style=\"fill:#1f77b4;stroke:#1f77b4;\" x=\"147.597652\" xlink:href=\"#m1596cfa925\" y=\"97.042036\"/>\n     <use style=\"fill:#1f77b4;stroke:#1f77b4;\" x=\"146.971436\" xlink:href=\"#m1596cfa925\" y=\"97.376915\"/>\n     <use style=\"fill:#1f77b4;stroke:#1f77b4;\" x=\"117.66921\" xlink:href=\"#m1596cfa925\" y=\"77.002741\"/>\n     <use style=\"fill:#1f77b4;stroke:#1f77b4;\" x=\"124.00332\" xlink:href=\"#m1596cfa925\" y=\"94.493585\"/>\n     <use style=\"fill:#1f77b4;stroke:#1f77b4;\" x=\"106.756878\" xlink:href=\"#m1596cfa925\" y=\"71.009897\"/>\n     <use style=\"fill:#1f77b4;stroke:#1f77b4;\" x=\"95.733533\" xlink:href=\"#m1596cfa925\" y=\"47.769165\"/>\n     <use style=\"fill:#1f77b4;stroke:#1f77b4;\" x=\"87.333548\" xlink:href=\"#m1596cfa925\" y=\"60.584749\"/>\n     <use style=\"fill:#1f77b4;stroke:#1f77b4;\" x=\"162.659694\" xlink:href=\"#m1596cfa925\" y=\"96.717793\"/>\n     <use style=\"fill:#1f77b4;stroke:#1f77b4;\" x=\"151.333493\" xlink:href=\"#m1596cfa925\" y=\"109.366049\"/>\n     <use style=\"fill:#1f77b4;stroke:#1f77b4;\" x=\"116.892856\" xlink:href=\"#m1596cfa925\" y=\"64.937186\"/>\n     <use style=\"fill:#1f77b4;stroke:#1f77b4;\" x=\"112.083514\" xlink:href=\"#m1596cfa925\" y=\"64.096297\"/>\n     <use style=\"fill:#1f77b4;stroke:#1f77b4;\" x=\"166.072671\" xlink:href=\"#m1596cfa925\" y=\"101.034354\"/>\n     <use style=\"fill:#1f77b4;stroke:#1f77b4;\" x=\"128.277603\" xlink:href=\"#m1596cfa925\" y=\"56.720668\"/>\n     <use style=\"fill:#1f77b4;stroke:#1f77b4;\" x=\"116.379625\" xlink:href=\"#m1596cfa925\" y=\"65.566796\"/>\n     <use style=\"fill:#1f77b4;stroke:#1f77b4;\" x=\"135.541918\" xlink:href=\"#m1596cfa925\" y=\"80.88296\"/>\n     <use style=\"fill:#1f77b4;stroke:#1f77b4;\" x=\"120.505999\" xlink:href=\"#m1596cfa925\" y=\"83.471629\"/>\n     <use style=\"fill:#1f77b4;stroke:#1f77b4;\" x=\"123.517498\" xlink:href=\"#m1596cfa925\" y=\"69.029785\"/>\n     <use style=\"fill:#1f77b4;stroke:#1f77b4;\" x=\"164.543952\" xlink:href=\"#m1596cfa925\" y=\"95.183586\"/>\n     <use style=\"fill:#1f77b4;stroke:#1f77b4;\" x=\"101.632102\" xlink:href=\"#m1596cfa925\" y=\"57.599588\"/>\n     <use style=\"fill:#1f77b4;stroke:#1f77b4;\" x=\"166.607654\" xlink:href=\"#m1596cfa925\" y=\"120.941171\"/>\n     <use style=\"fill:#1f77b4;stroke:#1f77b4;\" x=\"121.253653\" xlink:href=\"#m1596cfa925\" y=\"82.068635\"/>\n     <use style=\"fill:#1f77b4;stroke:#1f77b4;\" x=\"144.649868\" xlink:href=\"#m1596cfa925\" y=\"101.381255\"/>\n     <use style=\"fill:#1f77b4;stroke:#1f77b4;\" x=\"150.467173\" xlink:href=\"#m1596cfa925\" y=\"99.484162\"/>\n     <use style=\"fill:#1f77b4;stroke:#1f77b4;\" x=\"130.919971\" xlink:href=\"#m1596cfa925\" y=\"82.174246\"/>\n     <use style=\"fill:#1f77b4;stroke:#1f77b4;\" x=\"136.914286\" xlink:href=\"#m1596cfa925\" y=\"82.003732\"/>\n     <use style=\"fill:#1f77b4;stroke:#1f77b4;\" x=\"99.775496\" xlink:href=\"#m1596cfa925\" y=\"60.902986\"/>\n     <use style=\"fill:#1f77b4;stroke:#1f77b4;\" x=\"158.669531\" xlink:href=\"#m1596cfa925\" y=\"107.642171\"/>\n     <use style=\"fill:#1f77b4;stroke:#1f77b4;\" x=\"124.285729\" xlink:href=\"#m1596cfa925\" y=\"98.851089\"/>\n     <use style=\"fill:#1f77b4;stroke:#1f77b4;\" x=\"153.771694\" xlink:href=\"#m1596cfa925\" y=\"99.459416\"/>\n     <use style=\"fill:#1f77b4;stroke:#1f77b4;\" x=\"148.745691\" xlink:href=\"#m1596cfa925\" y=\"93.806838\"/>\n     <use style=\"fill:#1f77b4;stroke:#1f77b4;\" x=\"154.450072\" xlink:href=\"#m1596cfa925\" y=\"85.715152\"/>\n     <use style=\"fill:#1f77b4;stroke:#1f77b4;\" x=\"96.800085\" xlink:href=\"#m1596cfa925\" y=\"70.554682\"/>\n     <use style=\"fill:#1f77b4;stroke:#1f77b4;\" x=\"137.055783\" xlink:href=\"#m1596cfa925\" y=\"99.542342\"/>\n     <use style=\"fill:#1f77b4;stroke:#1f77b4;\" x=\"196.30169\" xlink:href=\"#m1596cfa925\" y=\"133.04673\"/>\n     <use style=\"fill:#1f77b4;stroke:#1f77b4;\" x=\"146.310219\" xlink:href=\"#m1596cfa925\" y=\"102.208112\"/>\n     <use style=\"fill:#1f77b4;stroke:#1f77b4;\" x=\"127.486815\" xlink:href=\"#m1596cfa925\" y=\"77.885968\"/>\n     <use style=\"fill:#1f77b4;stroke:#1f77b4;\" x=\"122.735499\" xlink:href=\"#m1596cfa925\" y=\"76.357913\"/>\n     <use style=\"fill:#1f77b4;stroke:#1f77b4;\" x=\"138.468687\" xlink:href=\"#m1596cfa925\" y=\"68.28874\"/>\n     <use style=\"fill:#1f77b4;stroke:#1f77b4;\" x=\"133.504177\" xlink:href=\"#m1596cfa925\" y=\"82.368107\"/>\n     <use style=\"fill:#1f77b4;stroke:#1f77b4;\" x=\"120.51969\" xlink:href=\"#m1596cfa925\" y=\"66.574218\"/>\n     <use style=\"fill:#1f77b4;stroke:#1f77b4;\" x=\"97.175138\" xlink:href=\"#m1596cfa925\" y=\"49.816926\"/>\n     <use style=\"fill:#1f77b4;stroke:#1f77b4;\" x=\"140.640237\" xlink:href=\"#m1596cfa925\" y=\"84.917119\"/>\n     <use style=\"fill:#1f77b4;stroke:#1f77b4;\" x=\"112.226889\" xlink:href=\"#m1596cfa925\" y=\"47.49847\"/>\n     <use style=\"fill:#1f77b4;stroke:#1f77b4;\" x=\"121.954975\" xlink:href=\"#m1596cfa925\" y=\"81.978925\"/>\n     <use style=\"fill:#1f77b4;stroke:#1f77b4;\" x=\"121.760763\" xlink:href=\"#m1596cfa925\" y=\"94.51176\"/>\n     <use style=\"fill:#1f77b4;stroke:#1f77b4;\" x=\"122.626032\" xlink:href=\"#m1596cfa925\" y=\"83.668823\"/>\n     <use style=\"fill:#1f77b4;stroke:#1f77b4;\" x=\"127.097818\" xlink:href=\"#m1596cfa925\" y=\"79.197386\"/>\n     <use style=\"fill:#1f77b4;stroke:#1f77b4;\" x=\"135.283165\" xlink:href=\"#m1596cfa925\" y=\"96.871535\"/>\n     <use style=\"fill:#1f77b4;stroke:#1f77b4;\" x=\"161.941924\" xlink:href=\"#m1596cfa925\" y=\"99.899639\"/>\n     <use style=\"fill:#1f77b4;stroke:#1f77b4;\" x=\"114.646675\" xlink:href=\"#m1596cfa925\" y=\"80.583024\"/>\n     <use style=\"fill:#1f77b4;stroke:#1f77b4;\" x=\"147.484186\" xlink:href=\"#m1596cfa925\" y=\"76.345495\"/>\n     <use style=\"fill:#1f77b4;stroke:#1f77b4;\" x=\"137.384913\" xlink:href=\"#m1596cfa925\" y=\"89.948654\"/>\n     <use style=\"fill:#1f77b4;stroke:#1f77b4;\" x=\"151.616443\" xlink:href=\"#m1596cfa925\" y=\"101.285701\"/>\n     <use style=\"fill:#1f77b4;stroke:#1f77b4;\" x=\"101.53573\" xlink:href=\"#m1596cfa925\" y=\"62.151896\"/>\n     <use style=\"fill:#1f77b4;stroke:#1f77b4;\" x=\"126.658175\" xlink:href=\"#m1596cfa925\" y=\"83.946441\"/>\n     <use style=\"fill:#1f77b4;stroke:#1f77b4;\" x=\"124.141025\" xlink:href=\"#m1596cfa925\" y=\"61.001867\"/>\n     <use style=\"fill:#1f77b4;stroke:#1f77b4;\" x=\"90.907417\" xlink:href=\"#m1596cfa925\" y=\"44.383778\"/>\n     <use style=\"fill:#1f77b4;stroke:#1f77b4;\" x=\"161.363012\" xlink:href=\"#m1596cfa925\" y=\"114.215998\"/>\n     <use style=\"fill:#1f77b4;stroke:#1f77b4;\" x=\"130.291184\" xlink:href=\"#m1596cfa925\" y=\"79.376909\"/>\n     <use style=\"fill:#1f77b4;stroke:#1f77b4;\" x=\"131.173932\" xlink:href=\"#m1596cfa925\" y=\"95.759746\"/>\n     <use style=\"fill:#1f77b4;stroke:#1f77b4;\" x=\"107.38806\" xlink:href=\"#m1596cfa925\" y=\"64.473658\"/>\n     <use style=\"fill:#1f77b4;stroke:#1f77b4;\" x=\"159.345947\" xlink:href=\"#m1596cfa925\" y=\"111.146802\"/>\n     <use style=\"fill:#1f77b4;stroke:#1f77b4;\" x=\"84.876265\" xlink:href=\"#m1596cfa925\" y=\"50.919931\"/>\n     <use style=\"fill:#1f77b4;stroke:#1f77b4;\" x=\"109.607085\" xlink:href=\"#m1596cfa925\" y=\"73.852493\"/>\n     <use style=\"fill:#1f77b4;stroke:#1f77b4;\" x=\"134.240862\" xlink:href=\"#m1596cfa925\" y=\"70.278477\"/>\n     <use style=\"fill:#1f77b4;stroke:#1f77b4;\" x=\"98.962064\" xlink:href=\"#m1596cfa925\" y=\"54.613985\"/>\n     <use style=\"fill:#1f77b4;stroke:#1f77b4;\" x=\"127.741132\" xlink:href=\"#m1596cfa925\" y=\"79.077888\"/>\n     <use style=\"fill:#1f77b4;stroke:#1f77b4;\" x=\"116.560484\" xlink:href=\"#m1596cfa925\" y=\"74.552175\"/>\n     <use style=\"fill:#1f77b4;stroke:#1f77b4;\" x=\"116.176972\" xlink:href=\"#m1596cfa925\" y=\"70.832295\"/>\n     <use style=\"fill:#1f77b4;stroke:#1f77b4;\" x=\"148.815882\" xlink:href=\"#m1596cfa925\" y=\"91.075949\"/>\n     <use style=\"fill:#1f77b4;stroke:#1f77b4;\" x=\"108.799162\" xlink:href=\"#m1596cfa925\" y=\"62.570915\"/>\n     <use style=\"fill:#1f77b4;stroke:#1f77b4;\" x=\"102.155996\" xlink:href=\"#m1596cfa925\" y=\"66.688348\"/>\n     <use style=\"fill:#1f77b4;stroke:#1f77b4;\" x=\"160.311482\" xlink:href=\"#m1596cfa925\" y=\"114.373145\"/>\n     <use style=\"fill:#1f77b4;stroke:#1f77b4;\" x=\"159.434601\" xlink:href=\"#m1596cfa925\" y=\"99.959238\"/>\n     <use style=\"fill:#1f77b4;stroke:#1f77b4;\" x=\"147.07976\" xlink:href=\"#m1596cfa925\" y=\"96.504545\"/>\n     <use style=\"fill:#1f77b4;stroke:#1f77b4;\" x=\"159.773526\" xlink:href=\"#m1596cfa925\" y=\"114.227641\"/>\n     <use style=\"fill:#1f77b4;stroke:#1f77b4;\" x=\"128.150233\" xlink:href=\"#m1596cfa925\" y=\"80.072402\"/>\n     <use style=\"fill:#1f77b4;stroke:#1f77b4;\" x=\"127.23903\" xlink:href=\"#m1596cfa925\" y=\"81.079638\"/>\n     <use style=\"fill:#1f77b4;stroke:#1f77b4;\" x=\"121.614606\" xlink:href=\"#m1596cfa925\" y=\"69.869935\"/>\n     <use style=\"fill:#1f77b4;stroke:#1f77b4;\" x=\"102.217169\" xlink:href=\"#m1596cfa925\" y=\"65.85199\"/>\n     <use style=\"fill:#1f77b4;stroke:#1f77b4;\" x=\"195.187156\" xlink:href=\"#m1596cfa925\" y=\"129.435244\"/>\n     <use style=\"fill:#1f77b4;stroke:#1f77b4;\" x=\"96.299865\" xlink:href=\"#m1596cfa925\" y=\"68.526758\"/>\n     <use style=\"fill:#1f77b4;stroke:#1f77b4;\" x=\"110.176349\" xlink:href=\"#m1596cfa925\" y=\"74.584872\"/>\n     <use style=\"fill:#1f77b4;stroke:#1f77b4;\" x=\"132.465846\" xlink:href=\"#m1596cfa925\" y=\"92.375931\"/>\n     <use style=\"fill:#1f77b4;stroke:#1f77b4;\" x=\"177.153446\" xlink:href=\"#m1596cfa925\" y=\"126.328846\"/>\n     <use style=\"fill:#1f77b4;stroke:#1f77b4;\" x=\"98.486334\" xlink:href=\"#m1596cfa925\" y=\"63.800606\"/>\n     <use style=\"fill:#1f77b4;stroke:#1f77b4;\" x=\"113.194978\" xlink:href=\"#m1596cfa925\" y=\"77.698801\"/>\n     <use style=\"fill:#1f77b4;stroke:#1f77b4;\" x=\"96.909745\" xlink:href=\"#m1596cfa925\" y=\"60.623947\"/>\n     <use style=\"fill:#1f77b4;stroke:#1f77b4;\" x=\"122.987284\" xlink:href=\"#m1596cfa925\" y=\"90.178326\"/>\n     <use style=\"fill:#1f77b4;stroke:#1f77b4;\" x=\"145.469245\" xlink:href=\"#m1596cfa925\" y=\"103.576638\"/>\n     <use style=\"fill:#1f77b4;stroke:#1f77b4;\" x=\"120.353188\" xlink:href=\"#m1596cfa925\" y=\"76.590411\"/>\n     <use style=\"fill:#1f77b4;stroke:#1f77b4;\" x=\"172.910263\" xlink:href=\"#m1596cfa925\" y=\"114.51414\"/>\n     <use style=\"fill:#1f77b4;stroke:#1f77b4;\" x=\"92.181396\" xlink:href=\"#m1596cfa925\" y=\"47.629841\"/>\n     <use style=\"fill:#1f77b4;stroke:#1f77b4;\" x=\"118.788735\" xlink:href=\"#m1596cfa925\" y=\"64.644277\"/>\n     <use style=\"fill:#1f77b4;stroke:#1f77b4;\" x=\"126.567799\" xlink:href=\"#m1596cfa925\" y=\"71.313268\"/>\n     <use style=\"fill:#1f77b4;stroke:#1f77b4;\" x=\"174.617449\" xlink:href=\"#m1596cfa925\" y=\"123.10923\"/>\n     <use style=\"fill:#1f77b4;stroke:#1f77b4;\" x=\"144.826955\" xlink:href=\"#m1596cfa925\" y=\"101.740043\"/>\n     <use style=\"fill:#1f77b4;stroke:#1f77b4;\" x=\"118.382404\" xlink:href=\"#m1596cfa925\" y=\"67.82864\"/>\n     <use style=\"fill:#1f77b4;stroke:#1f77b4;\" x=\"142.376308\" xlink:href=\"#m1596cfa925\" y=\"94.276106\"/>\n     <use style=\"fill:#1f77b4;stroke:#1f77b4;\" x=\"155.926925\" xlink:href=\"#m1596cfa925\" y=\"111.596088\"/>\n     <use style=\"fill:#1f77b4;stroke:#1f77b4;\" x=\"171.065713\" xlink:href=\"#m1596cfa925\" y=\"106.939688\"/>\n     <use style=\"fill:#1f77b4;stroke:#1f77b4;\" x=\"121.450976\" xlink:href=\"#m1596cfa925\" y=\"63.846973\"/>\n     <use style=\"fill:#1f77b4;stroke:#1f77b4;\" x=\"112.538692\" xlink:href=\"#m1596cfa925\" y=\"71.400266\"/>\n     <use style=\"fill:#1f77b4;stroke:#1f77b4;\" x=\"117.394702\" xlink:href=\"#m1596cfa925\" y=\"84.204039\"/>\n     <use style=\"fill:#1f77b4;stroke:#1f77b4;\" x=\"127.852665\" xlink:href=\"#m1596cfa925\" y=\"71.873753\"/>\n     <use style=\"fill:#1f77b4;stroke:#1f77b4;\" x=\"118.968206\" xlink:href=\"#m1596cfa925\" y=\"90.559592\"/>\n     <use style=\"fill:#1f77b4;stroke:#1f77b4;\" x=\"145.753668\" xlink:href=\"#m1596cfa925\" y=\"102.725773\"/>\n     <use style=\"fill:#1f77b4;stroke:#1f77b4;\" x=\"160.481993\" xlink:href=\"#m1596cfa925\" y=\"96.406338\"/>\n     <use style=\"fill:#1f77b4;stroke:#1f77b4;\" x=\"134.692156\" xlink:href=\"#m1596cfa925\" y=\"93.063785\"/>\n     <use style=\"fill:#1f77b4;stroke:#1f77b4;\" x=\"160.150698\" xlink:href=\"#m1596cfa925\" y=\"114.850628\"/>\n     <use style=\"fill:#1f77b4;stroke:#1f77b4;\" x=\"122.572946\" xlink:href=\"#m1596cfa925\" y=\"89.224574\"/>\n     <use style=\"fill:#1f77b4;stroke:#1f77b4;\" x=\"130.930515\" xlink:href=\"#m1596cfa925\" y=\"87.320888\"/>\n     <use style=\"fill:#1f77b4;stroke:#1f77b4;\" x=\"157.795699\" xlink:href=\"#m1596cfa925\" y=\"115.707368\"/>\n     <use style=\"fill:#1f77b4;stroke:#1f77b4;\" x=\"100.86999\" xlink:href=\"#m1596cfa925\" y=\"65.609123\"/>\n     <use style=\"fill:#1f77b4;stroke:#1f77b4;\" x=\"149.873764\" xlink:href=\"#m1596cfa925\" y=\"105.201349\"/>\n     <use style=\"fill:#1f77b4;stroke:#1f77b4;\" x=\"90.056451\" xlink:href=\"#m1596cfa925\" y=\"45.22204\"/>\n     <use style=\"fill:#1f77b4;stroke:#1f77b4;\" x=\"152.451735\" xlink:href=\"#m1596cfa925\" y=\"98.640157\"/>\n     <use style=\"fill:#1f77b4;stroke:#1f77b4;\" x=\"116.937944\" xlink:href=\"#m1596cfa925\" y=\"68.959852\"/>\n     <use style=\"fill:#1f77b4;stroke:#1f77b4;\" x=\"145.868338\" xlink:href=\"#m1596cfa925\" y=\"80.902941\"/>\n     <use style=\"fill:#1f77b4;stroke:#1f77b4;\" x=\"133.916442\" xlink:href=\"#m1596cfa925\" y=\"105.550493\"/>\n     <use style=\"fill:#1f77b4;stroke:#1f77b4;\" x=\"132.350283\" xlink:href=\"#m1596cfa925\" y=\"89.755982\"/>\n     <use style=\"fill:#1f77b4;stroke:#1f77b4;\" x=\"154.276821\" xlink:href=\"#m1596cfa925\" y=\"95.777648\"/>\n     <use style=\"fill:#1f77b4;stroke:#1f77b4;\" x=\"133.90164\" xlink:href=\"#m1596cfa925\" y=\"87.250559\"/>\n     <use style=\"fill:#1f77b4;stroke:#1f77b4;\" x=\"164.742826\" xlink:href=\"#m1596cfa925\" y=\"100.270013\"/>\n     <use style=\"fill:#1f77b4;stroke:#1f77b4;\" x=\"161.543946\" xlink:href=\"#m1596cfa925\" y=\"84.698697\"/>\n     <use style=\"fill:#1f77b4;stroke:#1f77b4;\" x=\"104.506989\" xlink:href=\"#m1596cfa925\" y=\"53.057436\"/>\n     <use style=\"fill:#1f77b4;stroke:#1f77b4;\" x=\"126.941185\" xlink:href=\"#m1596cfa925\" y=\"78.878783\"/>\n     <use style=\"fill:#1f77b4;stroke:#1f77b4;\" x=\"171.904928\" xlink:href=\"#m1596cfa925\" y=\"87.495686\"/>\n     <use style=\"fill:#1f77b4;stroke:#1f77b4;\" x=\"118.953822\" xlink:href=\"#m1596cfa925\" y=\"73.385048\"/>\n     <use style=\"fill:#1f77b4;stroke:#1f77b4;\" x=\"172.268146\" xlink:href=\"#m1596cfa925\" y=\"94.794065\"/>\n     <use style=\"fill:#1f77b4;stroke:#1f77b4;\" x=\"119.467068\" xlink:href=\"#m1596cfa925\" y=\"77.977526\"/>\n     <use style=\"fill:#1f77b4;stroke:#1f77b4;\" x=\"123.784254\" xlink:href=\"#m1596cfa925\" y=\"84.850156\"/>\n     <use style=\"fill:#1f77b4;stroke:#1f77b4;\" x=\"110.134884\" xlink:href=\"#m1596cfa925\" y=\"50.262212\"/>\n     <use style=\"fill:#1f77b4;stroke:#1f77b4;\" x=\"110.81777\" xlink:href=\"#m1596cfa925\" y=\"81.003313\"/>\n     <use style=\"fill:#1f77b4;stroke:#1f77b4;\" x=\"109.563011\" xlink:href=\"#m1596cfa925\" y=\"62.94498\"/>\n     <use style=\"fill:#1f77b4;stroke:#1f77b4;\" x=\"143.447493\" xlink:href=\"#m1596cfa925\" y=\"114.973109\"/>\n     <use style=\"fill:#1f77b4;stroke:#1f77b4;\" x=\"104.868213\" xlink:href=\"#m1596cfa925\" y=\"47.74915\"/>\n     <use style=\"fill:#1f77b4;stroke:#1f77b4;\" x=\"155.116756\" xlink:href=\"#m1596cfa925\" y=\"98.459541\"/>\n     <use style=\"fill:#1f77b4;stroke:#1f77b4;\" x=\"150.883822\" xlink:href=\"#m1596cfa925\" y=\"96.669945\"/>\n     <use style=\"fill:#1f77b4;stroke:#1f77b4;\" x=\"147.106315\" xlink:href=\"#m1596cfa925\" y=\"91.262843\"/>\n     <use style=\"fill:#1f77b4;stroke:#1f77b4;\" x=\"151.22363\" xlink:href=\"#m1596cfa925\" y=\"94.321625\"/>\n     <use style=\"fill:#1f77b4;stroke:#1f77b4;\" x=\"94.317807\" xlink:href=\"#m1596cfa925\" y=\"54.958631\"/>\n     <use style=\"fill:#1f77b4;stroke:#1f77b4;\" x=\"139.229843\" xlink:href=\"#m1596cfa925\" y=\"93.606071\"/>\n     <use style=\"fill:#1f77b4;stroke:#1f77b4;\" x=\"93.903886\" xlink:href=\"#m1596cfa925\" y=\"59.828971\"/>\n     <use style=\"fill:#1f77b4;stroke:#1f77b4;\" x=\"112.369029\" xlink:href=\"#m1596cfa925\" y=\"87.813405\"/>\n     <use style=\"fill:#1f77b4;stroke:#1f77b4;\" x=\"161.137121\" xlink:href=\"#m1596cfa925\" y=\"103.069437\"/>\n     <use style=\"fill:#1f77b4;stroke:#1f77b4;\" x=\"164.171509\" xlink:href=\"#m1596cfa925\" y=\"98.351558\"/>\n     <use style=\"fill:#1f77b4;stroke:#1f77b4;\" x=\"149.610836\" xlink:href=\"#m1596cfa925\" y=\"94.212418\"/>\n     <use style=\"fill:#1f77b4;stroke:#1f77b4;\" x=\"125.062314\" xlink:href=\"#m1596cfa925\" y=\"88.499837\"/>\n     <use style=\"fill:#1f77b4;stroke:#1f77b4;\" x=\"105.146009\" xlink:href=\"#m1596cfa925\" y=\"77.140728\"/>\n     <use style=\"fill:#1f77b4;stroke:#1f77b4;\" x=\"131.591306\" xlink:href=\"#m1596cfa925\" y=\"86.685717\"/>\n     <use style=\"fill:#1f77b4;stroke:#1f77b4;\" x=\"111.316916\" xlink:href=\"#m1596cfa925\" y=\"65.577781\"/>\n     <use style=\"fill:#1f77b4;stroke:#1f77b4;\" x=\"145.155114\" xlink:href=\"#m1596cfa925\" y=\"85.146512\"/>\n     <use style=\"fill:#1f77b4;stroke:#1f77b4;\" x=\"125.362752\" xlink:href=\"#m1596cfa925\" y=\"76.825137\"/>\n     <use style=\"fill:#1f77b4;stroke:#1f77b4;\" x=\"164.04883\" xlink:href=\"#m1596cfa925\" y=\"113.522081\"/>\n     <use style=\"fill:#1f77b4;stroke:#1f77b4;\" x=\"110.94218\" xlink:href=\"#m1596cfa925\" y=\"45.225611\"/>\n     <use style=\"fill:#1f77b4;stroke:#1f77b4;\" x=\"111.557401\" xlink:href=\"#m1596cfa925\" y=\"55.302445\"/>\n     <use style=\"fill:#1f77b4;stroke:#1f77b4;\" x=\"153.018145\" xlink:href=\"#m1596cfa925\" y=\"107.628862\"/>\n     <use style=\"fill:#1f77b4;stroke:#1f77b4;\" x=\"215.364915\" xlink:href=\"#m1596cfa925\" y=\"134.997317\"/>\n     <use style=\"fill:#1f77b4;stroke:#1f77b4;\" x=\"132.413072\" xlink:href=\"#m1596cfa925\" y=\"78.591422\"/>\n     <use style=\"fill:#1f77b4;stroke:#1f77b4;\" x=\"88.720138\" xlink:href=\"#m1596cfa925\" y=\"42.497021\"/>\n     <use style=\"fill:#1f77b4;stroke:#1f77b4;\" x=\"129.477531\" xlink:href=\"#m1596cfa925\" y=\"88.702848\"/>\n     <use style=\"fill:#1f77b4;stroke:#1f77b4;\" x=\"94.143531\" xlink:href=\"#m1596cfa925\" y=\"52.581866\"/>\n     <use style=\"fill:#1f77b4;stroke:#1f77b4;\" x=\"131.454715\" xlink:href=\"#m1596cfa925\" y=\"72.759678\"/>\n     <use style=\"fill:#1f77b4;stroke:#1f77b4;\" x=\"119.990457\" xlink:href=\"#m1596cfa925\" y=\"64.126214\"/>\n     <use style=\"fill:#1f77b4;stroke:#1f77b4;\" x=\"111.195939\" xlink:href=\"#m1596cfa925\" y=\"87.676497\"/>\n     <use style=\"fill:#1f77b4;stroke:#1f77b4;\" x=\"96.188796\" xlink:href=\"#m1596cfa925\" y=\"60.284298\"/>\n     <use style=\"fill:#1f77b4;stroke:#1f77b4;\" x=\"108.46398\" xlink:href=\"#m1596cfa925\" y=\"55.103618\"/>\n     <use style=\"fill:#1f77b4;stroke:#1f77b4;\" x=\"161.891035\" xlink:href=\"#m1596cfa925\" y=\"127.160234\"/>\n     <use style=\"fill:#1f77b4;stroke:#1f77b4;\" x=\"145.100963\" xlink:href=\"#m1596cfa925\" y=\"101.329396\"/>\n     <use style=\"fill:#1f77b4;stroke:#1f77b4;\" x=\"108.654179\" xlink:href=\"#m1596cfa925\" y=\"65.683479\"/>\n     <use style=\"fill:#1f77b4;stroke:#1f77b4;\" x=\"128.10983\" xlink:href=\"#m1596cfa925\" y=\"100.133891\"/>\n     <use style=\"fill:#1f77b4;stroke:#1f77b4;\" x=\"127.881292\" xlink:href=\"#m1596cfa925\" y=\"96.691407\"/>\n     <use style=\"fill:#1f77b4;stroke:#1f77b4;\" x=\"168.584616\" xlink:href=\"#m1596cfa925\" y=\"111.407542\"/>\n     <use style=\"fill:#1f77b4;stroke:#1f77b4;\" x=\"89.256744\" xlink:href=\"#m1596cfa925\" y=\"68.343327\"/>\n     <use style=\"fill:#1f77b4;stroke:#1f77b4;\" x=\"90.762302\" xlink:href=\"#m1596cfa925\" y=\"42.936635\"/>\n     <use style=\"fill:#1f77b4;stroke:#1f77b4;\" x=\"128.894532\" xlink:href=\"#m1596cfa925\" y=\"80.89055\"/>\n     <use style=\"fill:#1f77b4;stroke:#1f77b4;\" x=\"120.343409\" xlink:href=\"#m1596cfa925\" y=\"78.635302\"/>\n     <use style=\"fill:#1f77b4;stroke:#1f77b4;\" x=\"144.873812\" xlink:href=\"#m1596cfa925\" y=\"101.04153\"/>\n     <use style=\"fill:#1f77b4;stroke:#1f77b4;\" x=\"117.022705\" xlink:href=\"#m1596cfa925\" y=\"67.577867\"/>\n     <use style=\"fill:#1f77b4;stroke:#1f77b4;\" x=\"85.658088\" xlink:href=\"#m1596cfa925\" y=\"41.311588\"/>\n     <use style=\"fill:#1f77b4;stroke:#1f77b4;\" x=\"108.697875\" xlink:href=\"#m1596cfa925\" y=\"59.512541\"/>\n     <use style=\"fill:#1f77b4;stroke:#1f77b4;\" x=\"112.291785\" xlink:href=\"#m1596cfa925\" y=\"81.285002\"/>\n     <use style=\"fill:#1f77b4;stroke:#1f77b4;\" x=\"86.88563\" xlink:href=\"#m1596cfa925\" y=\"68.562937\"/>\n     <use style=\"fill:#1f77b4;stroke:#1f77b4;\" x=\"136.887807\" xlink:href=\"#m1596cfa925\" y=\"98.962125\"/>\n     <use style=\"fill:#1f77b4;stroke:#1f77b4;\" x=\"159.747894\" xlink:href=\"#m1596cfa925\" y=\"110.462738\"/>\n     <use style=\"fill:#1f77b4;stroke:#1f77b4;\" x=\"141.10477\" xlink:href=\"#m1596cfa925\" y=\"76.432745\"/>\n     <use style=\"fill:#1f77b4;stroke:#1f77b4;\" x=\"135.116182\" xlink:href=\"#m1596cfa925\" y=\"87.221916\"/>\n     <use style=\"fill:#1f77b4;stroke:#1f77b4;\" x=\"149.555659\" xlink:href=\"#m1596cfa925\" y=\"100.832373\"/>\n     <use style=\"fill:#1f77b4;stroke:#1f77b4;\" x=\"136.544437\" xlink:href=\"#m1596cfa925\" y=\"98.031808\"/>\n     <use style=\"fill:#1f77b4;stroke:#1f77b4;\" x=\"131.057599\" xlink:href=\"#m1596cfa925\" y=\"90.500056\"/>\n     <use style=\"fill:#1f77b4;stroke:#1f77b4;\" x=\"140.490034\" xlink:href=\"#m1596cfa925\" y=\"79.93665\"/>\n     <use style=\"fill:#1f77b4;stroke:#1f77b4;\" x=\"145.076773\" xlink:href=\"#m1596cfa925\" y=\"90.634072\"/>\n     <use style=\"fill:#1f77b4;stroke:#1f77b4;\" x=\"147.278063\" xlink:href=\"#m1596cfa925\" y=\"80.563853\"/>\n     <use style=\"fill:#1f77b4;stroke:#1f77b4;\" x=\"136.062762\" xlink:href=\"#m1596cfa925\" y=\"92.387168\"/>\n     <use style=\"fill:#1f77b4;stroke:#1f77b4;\" x=\"131.630334\" xlink:href=\"#m1596cfa925\" y=\"80.539976\"/>\n     <use style=\"fill:#1f77b4;stroke:#1f77b4;\" x=\"134.805652\" xlink:href=\"#m1596cfa925\" y=\"109.913408\"/>\n     <use style=\"fill:#1f77b4;stroke:#1f77b4;\" x=\"151.393793\" xlink:href=\"#m1596cfa925\" y=\"103.61486\"/>\n     <use style=\"fill:#1f77b4;stroke:#1f77b4;\" x=\"110.923914\" xlink:href=\"#m1596cfa925\" y=\"46.117352\"/>\n     <use style=\"fill:#1f77b4;stroke:#1f77b4;\" x=\"117.018587\" xlink:href=\"#m1596cfa925\" y=\"69.839471\"/>\n     <use style=\"fill:#1f77b4;stroke:#1f77b4;\" x=\"126.270283\" xlink:href=\"#m1596cfa925\" y=\"81.399323\"/>\n     <use style=\"fill:#1f77b4;stroke:#1f77b4;\" x=\"121.379666\" xlink:href=\"#m1596cfa925\" y=\"73.6609\"/>\n     <use style=\"fill:#1f77b4;stroke:#1f77b4;\" x=\"121.340679\" xlink:href=\"#m1596cfa925\" y=\"76.362838\"/>\n     <use style=\"fill:#1f77b4;stroke:#1f77b4;\" x=\"58.514271\" xlink:href=\"#m1596cfa925\" y=\"38.206376\"/>\n     <use style=\"fill:#1f77b4;stroke:#1f77b4;\" x=\"123.960454\" xlink:href=\"#m1596cfa925\" y=\"79.087979\"/>\n    </g>\n   </g>\n   <g id=\"matplotlib.axis_1\">\n    <g id=\"xtick_1\">\n     <g id=\"line2d_1\">\n      <defs>\n       <path d=\"M 0 0 \nL 0 3.5 \n\" id=\"meb49d5f22f\" style=\"stroke:#000000;stroke-width:0.8;\"/>\n      </defs>\n      <g>\n       <use style=\"stroke:#000000;stroke-width:0.8;\" x=\"32.329636\" xlink:href=\"#meb49d5f22f\" y=\"143.1\"/>\n      </g>\n     </g>\n     <g id=\"text_1\">\n      <!-- −4 -->\n      <defs>\n       <path d=\"M 10.59375 35.5 \nL 73.1875 35.5 \nL 73.1875 27.203125 \nL 10.59375 27.203125 \nz\n\" id=\"DejaVuSans-8722\"/>\n       <path d=\"M 37.796875 64.3125 \nL 12.890625 25.390625 \nL 37.796875 25.390625 \nz\nM 35.203125 72.90625 \nL 47.609375 72.90625 \nL 47.609375 25.390625 \nL 58.015625 25.390625 \nL 58.015625 17.1875 \nL 47.609375 17.1875 \nL 47.609375 0 \nL 37.796875 0 \nL 37.796875 17.1875 \nL 4.890625 17.1875 \nL 4.890625 26.703125 \nz\n\" id=\"DejaVuSans-52\"/>\n      </defs>\n      <g transform=\"translate(24.958542 157.698438)scale(0.1 -0.1)\">\n       <use xlink:href=\"#DejaVuSans-8722\"/>\n       <use x=\"83.789062\" xlink:href=\"#DejaVuSans-52\"/>\n      </g>\n     </g>\n    </g>\n    <g id=\"xtick_2\">\n     <g id=\"line2d_2\">\n      <g>\n       <use style=\"stroke:#000000;stroke-width:0.8;\" x=\"81.041377\" xlink:href=\"#meb49d5f22f\" y=\"143.1\"/>\n      </g>\n     </g>\n     <g id=\"text_2\">\n      <!-- −2 -->\n      <defs>\n       <path d=\"M 19.1875 8.296875 \nL 53.609375 8.296875 \nL 53.609375 0 \nL 7.328125 0 \nL 7.328125 8.296875 \nQ 12.9375 14.109375 22.625 23.890625 \nQ 32.328125 33.6875 34.8125 36.53125 \nQ 39.546875 41.84375 41.421875 45.53125 \nQ 43.3125 49.21875 43.3125 52.78125 \nQ 43.3125 58.59375 39.234375 62.25 \nQ 35.15625 65.921875 28.609375 65.921875 \nQ 23.96875 65.921875 18.8125 64.3125 \nQ 13.671875 62.703125 7.8125 59.421875 \nL 7.8125 69.390625 \nQ 13.765625 71.78125 18.9375 73 \nQ 24.125 74.21875 28.421875 74.21875 \nQ 39.75 74.21875 46.484375 68.546875 \nQ 53.21875 62.890625 53.21875 53.421875 \nQ 53.21875 48.921875 51.53125 44.890625 \nQ 49.859375 40.875 45.40625 35.40625 \nQ 44.1875 33.984375 37.640625 27.21875 \nQ 31.109375 20.453125 19.1875 8.296875 \nz\n\" id=\"DejaVuSans-50\"/>\n      </defs>\n      <g transform=\"translate(73.670283 157.698438)scale(0.1 -0.1)\">\n       <use xlink:href=\"#DejaVuSans-8722\"/>\n       <use x=\"83.789062\" xlink:href=\"#DejaVuSans-50\"/>\n      </g>\n     </g>\n    </g>\n    <g id=\"xtick_3\">\n     <g id=\"line2d_3\">\n      <g>\n       <use style=\"stroke:#000000;stroke-width:0.8;\" x=\"129.753117\" xlink:href=\"#meb49d5f22f\" y=\"143.1\"/>\n      </g>\n     </g>\n     <g id=\"text_3\">\n      <!-- 0 -->\n      <defs>\n       <path d=\"M 31.78125 66.40625 \nQ 24.171875 66.40625 20.328125 58.90625 \nQ 16.5 51.421875 16.5 36.375 \nQ 16.5 21.390625 20.328125 13.890625 \nQ 24.171875 6.390625 31.78125 6.390625 \nQ 39.453125 6.390625 43.28125 13.890625 \nQ 47.125 21.390625 47.125 36.375 \nQ 47.125 51.421875 43.28125 58.90625 \nQ 39.453125 66.40625 31.78125 66.40625 \nz\nM 31.78125 74.21875 \nQ 44.046875 74.21875 50.515625 64.515625 \nQ 56.984375 54.828125 56.984375 36.375 \nQ 56.984375 17.96875 50.515625 8.265625 \nQ 44.046875 -1.421875 31.78125 -1.421875 \nQ 19.53125 -1.421875 13.0625 8.265625 \nQ 6.59375 17.96875 6.59375 36.375 \nQ 6.59375 54.828125 13.0625 64.515625 \nQ 19.53125 74.21875 31.78125 74.21875 \nz\n\" id=\"DejaVuSans-48\"/>\n      </defs>\n      <g transform=\"translate(126.571867 157.698438)scale(0.1 -0.1)\">\n       <use xlink:href=\"#DejaVuSans-48\"/>\n      </g>\n     </g>\n    </g>\n    <g id=\"xtick_4\">\n     <g id=\"line2d_4\">\n      <g>\n       <use style=\"stroke:#000000;stroke-width:0.8;\" x=\"178.464857\" xlink:href=\"#meb49d5f22f\" y=\"143.1\"/>\n      </g>\n     </g>\n     <g id=\"text_4\">\n      <!-- 2 -->\n      <g transform=\"translate(175.283607 157.698438)scale(0.1 -0.1)\">\n       <use xlink:href=\"#DejaVuSans-50\"/>\n      </g>\n     </g>\n    </g>\n   </g>\n   <g id=\"matplotlib.axis_2\">\n    <g id=\"ytick_1\">\n     <g id=\"line2d_5\">\n      <defs>\n       <path d=\"M 0 0 \nL -3.5 0 \n\" id=\"mc239198bbd\" style=\"stroke:#000000;stroke-width:0.8;\"/>\n      </defs>\n      <g>\n       <use style=\"stroke:#000000;stroke-width:0.8;\" x=\"28.942188\" xlink:href=\"#mc239198bbd\" y=\"127.082468\"/>\n      </g>\n     </g>\n     <g id=\"text_5\">\n      <!-- −5 -->\n      <defs>\n       <path d=\"M 10.796875 72.90625 \nL 49.515625 72.90625 \nL 49.515625 64.59375 \nL 19.828125 64.59375 \nL 19.828125 46.734375 \nQ 21.96875 47.46875 24.109375 47.828125 \nQ 26.265625 48.1875 28.421875 48.1875 \nQ 40.625 48.1875 47.75 41.5 \nQ 54.890625 34.8125 54.890625 23.390625 \nQ 54.890625 11.625 47.5625 5.09375 \nQ 40.234375 -1.421875 26.90625 -1.421875 \nQ 22.3125 -1.421875 17.546875 -0.640625 \nQ 12.796875 0.140625 7.71875 1.703125 \nL 7.71875 11.625 \nQ 12.109375 9.234375 16.796875 8.0625 \nQ 21.484375 6.890625 26.703125 6.890625 \nQ 35.15625 6.890625 40.078125 11.328125 \nQ 45.015625 15.765625 45.015625 23.390625 \nQ 45.015625 31 40.078125 35.4375 \nQ 35.15625 39.890625 26.703125 39.890625 \nQ 22.75 39.890625 18.8125 39.015625 \nQ 14.890625 38.140625 10.796875 36.28125 \nz\n\" id=\"DejaVuSans-53\"/>\n      </defs>\n      <g transform=\"translate(7.2 130.881687)scale(0.1 -0.1)\">\n       <use xlink:href=\"#DejaVuSans-8722\"/>\n       <use x=\"83.789062\" xlink:href=\"#DejaVuSans-53\"/>\n      </g>\n     </g>\n    </g>\n    <g id=\"ytick_2\">\n     <g id=\"line2d_6\">\n      <g>\n       <use style=\"stroke:#000000;stroke-width:0.8;\" x=\"28.942188\" xlink:href=\"#mc239198bbd\" y=\"102.157136\"/>\n      </g>\n     </g>\n     <g id=\"text_6\">\n      <!-- 0 -->\n      <g transform=\"translate(15.579688 105.956355)scale(0.1 -0.1)\">\n       <use xlink:href=\"#DejaVuSans-48\"/>\n      </g>\n     </g>\n    </g>\n    <g id=\"ytick_3\">\n     <g id=\"line2d_7\">\n      <g>\n       <use style=\"stroke:#000000;stroke-width:0.8;\" x=\"28.942188\" xlink:href=\"#mc239198bbd\" y=\"77.231805\"/>\n      </g>\n     </g>\n     <g id=\"text_7\">\n      <!-- 5 -->\n      <g transform=\"translate(15.579688 81.031024)scale(0.1 -0.1)\">\n       <use xlink:href=\"#DejaVuSans-53\"/>\n      </g>\n     </g>\n    </g>\n    <g id=\"ytick_4\">\n     <g id=\"line2d_8\">\n      <g>\n       <use style=\"stroke:#000000;stroke-width:0.8;\" x=\"28.942188\" xlink:href=\"#mc239198bbd\" y=\"52.306473\"/>\n      </g>\n     </g>\n     <g id=\"text_8\">\n      <!-- 10 -->\n      <defs>\n       <path d=\"M 12.40625 8.296875 \nL 28.515625 8.296875 \nL 28.515625 63.921875 \nL 10.984375 60.40625 \nL 10.984375 69.390625 \nL 28.421875 72.90625 \nL 38.28125 72.90625 \nL 38.28125 8.296875 \nL 54.390625 8.296875 \nL 54.390625 0 \nL 12.40625 0 \nz\n\" id=\"DejaVuSans-49\"/>\n      </defs>\n      <g transform=\"translate(9.217188 56.105692)scale(0.1 -0.1)\">\n       <use xlink:href=\"#DejaVuSans-49\"/>\n       <use x=\"63.623047\" xlink:href=\"#DejaVuSans-48\"/>\n      </g>\n     </g>\n    </g>\n    <g id=\"ytick_5\">\n     <g id=\"line2d_9\">\n      <g>\n       <use style=\"stroke:#000000;stroke-width:0.8;\" x=\"28.942188\" xlink:href=\"#mc239198bbd\" y=\"27.381142\"/>\n      </g>\n     </g>\n     <g id=\"text_9\">\n      <!-- 15 -->\n      <g transform=\"translate(9.217188 31.180361)scale(0.1 -0.1)\">\n       <use xlink:href=\"#DejaVuSans-49\"/>\n       <use x=\"63.623047\" xlink:href=\"#DejaVuSans-53\"/>\n      </g>\n     </g>\n    </g>\n   </g>\n   <g id=\"patch_3\">\n    <path d=\"M 28.942188 143.1 \nL 28.942188 7.2 \n\" style=\"fill:none;stroke:#000000;stroke-linecap:square;stroke-linejoin:miter;stroke-width:0.8;\"/>\n   </g>\n   <g id=\"patch_4\">\n    <path d=\"M 224.242188 143.1 \nL 224.242188 7.2 \n\" style=\"fill:none;stroke:#000000;stroke-linecap:square;stroke-linejoin:miter;stroke-width:0.8;\"/>\n   </g>\n   <g id=\"patch_5\">\n    <path d=\"M 28.942187 143.1 \nL 224.242188 143.1 \n\" style=\"fill:none;stroke:#000000;stroke-linecap:square;stroke-linejoin:miter;stroke-width:0.8;\"/>\n   </g>\n   <g id=\"patch_6\">\n    <path d=\"M 28.942187 7.2 \nL 224.242188 7.2 \n\" style=\"fill:none;stroke:#000000;stroke-linecap:square;stroke-linejoin:miter;stroke-width:0.8;\"/>\n   </g>\n  </g>\n </g>\n <defs>\n  <clipPath id=\"p9d3bec9d8c\">\n   <rect height=\"135.9\" width=\"195.3\" x=\"28.942188\" y=\"7.2\"/>\n  </clipPath>\n </defs>\n</svg>\n"
          },
          "metadata": {
            "tags": [],
            "needs_background": "light"
          }
        }
      ]
    },
    {
      "cell_type": "markdown",
      "metadata": {
        "id": "BMxDNdODmQqo"
      },
      "source": [
        "## 3.2 Reading the Dataset"
      ]
    },
    {
      "cell_type": "code",
      "metadata": {
        "id": "RM3wVc8Wbwlj"
      },
      "source": [
        "def data_iter(batch_size,features,labels):\n",
        "    num_examples = len(features)\n",
        "    indices = list(range(num_examples))\n",
        "    #print(indices)\n",
        "    random.shuffle(indices)\n",
        "    #print(indices)\n",
        "    for i in range(0,num_examples,batch_size):\n",
        "        batch_indices = torch.tensor(indices[i:min(i + batch_size,num_examples)])\n",
        "        #print(len(batch_indices))\n",
        "        yield features[batch_indices],labels[batch_indices]"
      ],
      "execution_count": 97,
      "outputs": []
    },
    {
      "cell_type": "code",
      "metadata": {
        "colab": {
          "base_uri": "https://localhost:8080/"
        },
        "id": "GGg__emmbwoW",
        "outputId": "2a72b924-03ee-40f9-b760-82c2adb7e995"
      },
      "source": [
        "batch_size = 10\n",
        "\n",
        "for X,y in data_iter(batch_size, features,labels):\n",
        "    print(X,'\\n',y)\n",
        "    break"
      ],
      "execution_count": 98,
      "outputs": [
        {
          "output_type": "stream",
          "text": [
            "tensor([[ 1.9148,  1.0035],\n",
            "        [ 0.5211,  0.3929],\n",
            "        [-1.3575,  1.5677],\n",
            "        [ 1.7978, -1.2355],\n",
            "        [-0.6448,  0.6655],\n",
            "        [-1.1736,  1.2421],\n",
            "        [-0.1943, -0.6587],\n",
            "        [-0.5062,  2.7496],\n",
            "        [ 0.3059, -1.9841],\n",
            "        [ 1.2247, -2.4572]]) \n",
            " tensor([[ 4.6285],\n",
            "        [ 3.9106],\n",
            "        [-3.8369],\n",
            "        [11.9872],\n",
            "        [ 0.6454],\n",
            "        [-2.3832],\n",
            "        [ 6.0467],\n",
            "        [-6.1487],\n",
            "        [11.5540],\n",
            "        [15.0105]])\n"
          ],
          "name": "stdout"
        }
      ]
    },
    {
      "cell_type": "markdown",
      "metadata": {
        "id": "iciOONNMrlKA"
      },
      "source": [
        "## 3.2.3 initializing Model Parameters"
      ]
    },
    {
      "cell_type": "code",
      "metadata": {
        "id": "WERSd0ikbwqS"
      },
      "source": [
        "w = torch.normal(0,0.01,size=(2,1), requires_grad = True)\n",
        "b = torch.zeros(1,requires_grad=True)"
      ],
      "execution_count": 76,
      "outputs": []
    },
    {
      "cell_type": "code",
      "metadata": {
        "colab": {
          "base_uri": "https://localhost:8080/"
        },
        "id": "QeWdhLOpbwsj",
        "outputId": "af6058f7-ce39-4b93-8b1b-05d774eb7878"
      },
      "source": [
        "print(w,b)"
      ],
      "execution_count": 77,
      "outputs": [
        {
          "output_type": "stream",
          "text": [
            "tensor([[-0.0078],\n",
            "        [-0.0029]], requires_grad=True) tensor([0.], requires_grad=True)\n"
          ],
          "name": "stdout"
        }
      ]
    },
    {
      "cell_type": "markdown",
      "metadata": {
        "id": "ujpvXbe4sQxG"
      },
      "source": [
        "## 3.2.4 Defining the Model"
      ]
    },
    {
      "cell_type": "code",
      "metadata": {
        "colab": {
          "base_uri": "https://localhost:8080/"
        },
        "id": "q-sWFxbXsjMC",
        "outputId": "04fa192b-6c18-465c-a5fe-4c779149b1ce"
      },
      "source": [
        "print(X.shape)\n",
        "print(w.shape)\n",
        "print(y.shape)"
      ],
      "execution_count": 78,
      "outputs": [
        {
          "output_type": "stream",
          "text": [
            "torch.Size([10, 2])\n",
            "torch.Size([2, 1])\n",
            "torch.Size([10, 1])\n"
          ],
          "name": "stdout"
        }
      ]
    },
    {
      "cell_type": "code",
      "metadata": {
        "id": "YDe7uqr_bwty"
      },
      "source": [
        "def lineareg(X,w,b):\n",
        "    return torch.matmul(X,w) + b"
      ],
      "execution_count": 79,
      "outputs": []
    },
    {
      "cell_type": "markdown",
      "metadata": {
        "id": "L5Yb66X5svhJ"
      },
      "source": [
        "## 3.2.5 Defining the Loss Function"
      ]
    },
    {
      "cell_type": "code",
      "metadata": {
        "id": "32J-agDbsu1X"
      },
      "source": [
        "def squared_loss(y_hat,y):\n",
        "    #print(y_hat.shape)\n",
        "    #print(y.shape)\n",
        "    return (y_hat - y.reshape(y_hat.shape)) ** 2 / 2"
      ],
      "execution_count": 101,
      "outputs": []
    },
    {
      "cell_type": "markdown",
      "metadata": {
        "id": "STuqgwUjtbBR"
      },
      "source": [
        "## 3.2.6 Defining the Optimization Algorithm"
      ]
    },
    {
      "cell_type": "code",
      "metadata": {
        "id": "z0K8OB3Qsu3U"
      },
      "source": [
        "def sgd(params,lr,batch_size):\n",
        "    with torch.no_grad():\n",
        "        for param in params:\n",
        "            param -= lr * param.grad / batch_size\n",
        "            param.grad.zero_()"
      ],
      "execution_count": 102,
      "outputs": []
    },
    {
      "cell_type": "markdown",
      "metadata": {
        "id": "zzVxrmyfuV4A"
      },
      "source": [
        "## 3.2.7 Training"
      ]
    },
    {
      "cell_type": "code",
      "metadata": {
        "id": "Yo9AMSMusu5m"
      },
      "source": [
        "lr = 0.03\n",
        "num_epochs = 3\n",
        "net = lineareg\n",
        "loss = squared_loss"
      ],
      "execution_count": 103,
      "outputs": []
    },
    {
      "cell_type": "code",
      "metadata": {
        "colab": {
          "base_uri": "https://localhost:8080/"
        },
        "id": "ksn0kJlTyiBU",
        "outputId": "c6fe98a7-b6d0-4396-e697-985aa59f593b"
      },
      "source": [
        "print(features.shape)"
      ],
      "execution_count": 104,
      "outputs": [
        {
          "output_type": "stream",
          "text": [
            "torch.Size([1000, 2])\n"
          ],
          "name": "stdout"
        }
      ]
    },
    {
      "cell_type": "code",
      "metadata": {
        "colab": {
          "base_uri": "https://localhost:8080/"
        },
        "id": "1cqW_WFjsu7l",
        "outputId": "b7616a3a-1516-48a2-d57d-dfa8fbb90755"
      },
      "source": [
        "for epoch in range(num_epochs):\n",
        "    for X,y in data_iter(batch_size,features,labels):\n",
        "        l = loss(net(X,w,b),y)\n",
        "        l.sum().backward()\n",
        "        sgd([w,b],lr,batch_size)\n",
        "    with torch.no_grad():\n",
        "        train_l = loss(net(features,w,b),labels)\n",
        "        print(f'epoch{epoch + 1},loss{float(train_l.mean()):f}') \n"
      ],
      "execution_count": 105,
      "outputs": [
        {
          "output_type": "stream",
          "text": [
            "epoch1,loss0.000050\n",
            "epoch2,loss0.000050\n",
            "epoch3,loss0.000050\n"
          ],
          "name": "stdout"
        }
      ]
    },
    {
      "cell_type": "code",
      "metadata": {
        "colab": {
          "base_uri": "https://localhost:8080/"
        },
        "id": "bjcfgAJusu9S",
        "outputId": "0d620991-cb76-440c-f87b-71f980bab80a"
      },
      "source": [
        "print(f'error in estimating w: {true_w-w.reshape(true_w.shape)}')\n",
        "print(f'error in estimating b:{true_b - b}')"
      ],
      "execution_count": 108,
      "outputs": [
        {
          "output_type": "stream",
          "text": [
            "error in estimating w: tensor([0.0002, 0.0001], grad_fn=<SubBackward0>)\n",
            "error in estimating b:tensor([-0.0006], grad_fn=<RsubBackward1>)\n"
          ],
          "name": "stdout"
        }
      ]
    },
    {
      "cell_type": "markdown",
      "metadata": {
        "id": "Q52Ajv8g1ta7"
      },
      "source": [
        "#"
      ]
    },
    {
      "cell_type": "code",
      "metadata": {
        "id": "1CsP8glksatF"
      },
      "source": [
        ""
      ],
      "execution_count": null,
      "outputs": []
    },
    {
      "cell_type": "code",
      "metadata": {
        "id": "ptmKetFB1sof"
      },
      "source": [
        ""
      ],
      "execution_count": null,
      "outputs": []
    },
    {
      "cell_type": "code",
      "metadata": {
        "id": "hCMiptt81sqG"
      },
      "source": [
        ""
      ],
      "execution_count": null,
      "outputs": []
    },
    {
      "cell_type": "code",
      "metadata": {
        "id": "rxcO_Miq1ss5"
      },
      "source": [
        ""
      ],
      "execution_count": null,
      "outputs": []
    },
    {
      "cell_type": "code",
      "metadata": {
        "id": "wi7B6oE-1suc"
      },
      "source": [
        ""
      ],
      "execution_count": null,
      "outputs": []
    },
    {
      "cell_type": "code",
      "metadata": {
        "id": "7hH_4YMg1sxG"
      },
      "source": [
        ""
      ],
      "execution_count": null,
      "outputs": []
    },
    {
      "cell_type": "code",
      "metadata": {
        "id": "R-vg7OSC1syq"
      },
      "source": [
        ""
      ],
      "execution_count": null,
      "outputs": []
    },
    {
      "cell_type": "code",
      "metadata": {
        "id": "gB5xeI0Z1s0S"
      },
      "source": [
        ""
      ],
      "execution_count": null,
      "outputs": []
    },
    {
      "cell_type": "code",
      "metadata": {
        "id": "Oy_Or4ra1s2z"
      },
      "source": [
        ""
      ],
      "execution_count": null,
      "outputs": []
    },
    {
      "cell_type": "code",
      "metadata": {
        "id": "G6eUArSU1s41"
      },
      "source": [
        ""
      ],
      "execution_count": null,
      "outputs": []
    }
  ]
}