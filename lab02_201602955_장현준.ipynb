{
  "nbformat": 4,
  "nbformat_minor": 0,
  "metadata": {
    "colab": {
      "name": "lab02_201602955_장현준.ipynb",
      "provenance": [],
      "collapsed_sections": [],
      "authorship_tag": "ABX9TyPuPPUm/Dv60WrEwAilUuUI",
      "include_colab_link": true
    },
    "kernelspec": {
      "name": "python3",
      "display_name": "Python 3"
    },
    "language_info": {
      "name": "python"
    }
  },
  "cells": [
    {
      "cell_type": "markdown",
      "metadata": {
        "id": "view-in-github",
        "colab_type": "text"
      },
      "source": [
        "<a href=\"https://colab.research.google.com/github/JANG-hyeonjun/biomedical_deeplearning/blob/main/lab02_201602955_%EC%9E%A5%ED%98%84%EC%A4%80.ipynb\" target=\"_parent\"><img src=\"https://colab.research.google.com/assets/colab-badge.svg\" alt=\"Open In Colab\"/></a>"
      ]
    },
    {
      "cell_type": "markdown",
      "metadata": {
        "id": "cbB1qFAdbzZD"
      },
      "source": [
        "#3.2linear-regression-scratch"
      ]
    },
    {
      "cell_type": "markdown",
      "metadata": {
        "id": "pBtH5lyImE_E"
      },
      "source": [
        "## 3.2.1generating the Dataset"
      ]
    },
    {
      "cell_type": "code",
      "metadata": {
        "colab": {
          "base_uri": "https://localhost:8080/"
        },
        "id": "hYVc20INbLf1",
        "outputId": "591adb90-0574-4fe9-c6d4-9d670445d9a4"
      },
      "source": [
        "!pip install -U mxnet-cu101==1.7.0\n",
        "!pip install d2l==0.16.2"
      ],
      "execution_count": 1,
      "outputs": [
        {
          "output_type": "stream",
          "text": [
            "Requirement already up-to-date: mxnet-cu101==1.7.0 in /usr/local/lib/python3.7/dist-packages (1.7.0)\n",
            "Requirement already satisfied, skipping upgrade: requests<3,>=2.20.0 in /usr/local/lib/python3.7/dist-packages (from mxnet-cu101==1.7.0) (2.23.0)\n",
            "Requirement already satisfied, skipping upgrade: numpy<2.0.0,>1.16.0 in /usr/local/lib/python3.7/dist-packages (from mxnet-cu101==1.7.0) (1.19.5)\n",
            "Requirement already satisfied, skipping upgrade: graphviz<0.9.0,>=0.8.1 in /usr/local/lib/python3.7/dist-packages (from mxnet-cu101==1.7.0) (0.8.4)\n",
            "Requirement already satisfied, skipping upgrade: urllib3!=1.25.0,!=1.25.1,<1.26,>=1.21.1 in /usr/local/lib/python3.7/dist-packages (from requests<3,>=2.20.0->mxnet-cu101==1.7.0) (1.24.3)\n",
            "Requirement already satisfied, skipping upgrade: chardet<4,>=3.0.2 in /usr/local/lib/python3.7/dist-packages (from requests<3,>=2.20.0->mxnet-cu101==1.7.0) (3.0.4)\n",
            "Requirement already satisfied, skipping upgrade: idna<3,>=2.5 in /usr/local/lib/python3.7/dist-packages (from requests<3,>=2.20.0->mxnet-cu101==1.7.0) (2.10)\n",
            "Requirement already satisfied, skipping upgrade: certifi>=2017.4.17 in /usr/local/lib/python3.7/dist-packages (from requests<3,>=2.20.0->mxnet-cu101==1.7.0) (2020.12.5)\n",
            "Requirement already satisfied: d2l==0.16.2 in /usr/local/lib/python3.7/dist-packages (0.16.2)\n",
            "Requirement already satisfied: matplotlib in /usr/local/lib/python3.7/dist-packages (from d2l==0.16.2) (3.2.2)\n",
            "Requirement already satisfied: pandas in /usr/local/lib/python3.7/dist-packages (from d2l==0.16.2) (1.1.5)\n",
            "Requirement already satisfied: numpy in /usr/local/lib/python3.7/dist-packages (from d2l==0.16.2) (1.19.5)\n",
            "Requirement already satisfied: jupyter in /usr/local/lib/python3.7/dist-packages (from d2l==0.16.2) (1.0.0)\n",
            "Requirement already satisfied: requests in /usr/local/lib/python3.7/dist-packages (from d2l==0.16.2) (2.23.0)\n",
            "Requirement already satisfied: cycler>=0.10 in /usr/local/lib/python3.7/dist-packages (from matplotlib->d2l==0.16.2) (0.10.0)\n",
            "Requirement already satisfied: kiwisolver>=1.0.1 in /usr/local/lib/python3.7/dist-packages (from matplotlib->d2l==0.16.2) (1.3.1)\n",
            "Requirement already satisfied: python-dateutil>=2.1 in /usr/local/lib/python3.7/dist-packages (from matplotlib->d2l==0.16.2) (2.8.1)\n",
            "Requirement already satisfied: pyparsing!=2.0.4,!=2.1.2,!=2.1.6,>=2.0.1 in /usr/local/lib/python3.7/dist-packages (from matplotlib->d2l==0.16.2) (2.4.7)\n",
            "Requirement already satisfied: pytz>=2017.2 in /usr/local/lib/python3.7/dist-packages (from pandas->d2l==0.16.2) (2018.9)\n",
            "Requirement already satisfied: nbconvert in /usr/local/lib/python3.7/dist-packages (from jupyter->d2l==0.16.2) (5.6.1)\n",
            "Requirement already satisfied: ipykernel in /usr/local/lib/python3.7/dist-packages (from jupyter->d2l==0.16.2) (4.10.1)\n",
            "Requirement already satisfied: jupyter-console in /usr/local/lib/python3.7/dist-packages (from jupyter->d2l==0.16.2) (5.2.0)\n",
            "Requirement already satisfied: notebook in /usr/local/lib/python3.7/dist-packages (from jupyter->d2l==0.16.2) (5.3.1)\n",
            "Requirement already satisfied: ipywidgets in /usr/local/lib/python3.7/dist-packages (from jupyter->d2l==0.16.2) (7.6.3)\n",
            "Requirement already satisfied: qtconsole in /usr/local/lib/python3.7/dist-packages (from jupyter->d2l==0.16.2) (5.0.3)\n",
            "Requirement already satisfied: chardet<4,>=3.0.2 in /usr/local/lib/python3.7/dist-packages (from requests->d2l==0.16.2) (3.0.4)\n",
            "Requirement already satisfied: urllib3!=1.25.0,!=1.25.1,<1.26,>=1.21.1 in /usr/local/lib/python3.7/dist-packages (from requests->d2l==0.16.2) (1.24.3)\n",
            "Requirement already satisfied: idna<3,>=2.5 in /usr/local/lib/python3.7/dist-packages (from requests->d2l==0.16.2) (2.10)\n",
            "Requirement already satisfied: certifi>=2017.4.17 in /usr/local/lib/python3.7/dist-packages (from requests->d2l==0.16.2) (2020.12.5)\n",
            "Requirement already satisfied: six in /usr/local/lib/python3.7/dist-packages (from cycler>=0.10->matplotlib->d2l==0.16.2) (1.15.0)\n",
            "Requirement already satisfied: bleach in /usr/local/lib/python3.7/dist-packages (from nbconvert->jupyter->d2l==0.16.2) (3.3.0)\n",
            "Requirement already satisfied: traitlets>=4.2 in /usr/local/lib/python3.7/dist-packages (from nbconvert->jupyter->d2l==0.16.2) (5.0.5)\n",
            "Requirement already satisfied: jinja2>=2.4 in /usr/local/lib/python3.7/dist-packages (from nbconvert->jupyter->d2l==0.16.2) (2.11.3)\n",
            "Requirement already satisfied: entrypoints>=0.2.2 in /usr/local/lib/python3.7/dist-packages (from nbconvert->jupyter->d2l==0.16.2) (0.3)\n",
            "Requirement already satisfied: pandocfilters>=1.4.1 in /usr/local/lib/python3.7/dist-packages (from nbconvert->jupyter->d2l==0.16.2) (1.4.3)\n",
            "Requirement already satisfied: testpath in /usr/local/lib/python3.7/dist-packages (from nbconvert->jupyter->d2l==0.16.2) (0.4.4)\n",
            "Requirement already satisfied: nbformat>=4.4 in /usr/local/lib/python3.7/dist-packages (from nbconvert->jupyter->d2l==0.16.2) (5.1.2)\n",
            "Requirement already satisfied: defusedxml in /usr/local/lib/python3.7/dist-packages (from nbconvert->jupyter->d2l==0.16.2) (0.7.1)\n",
            "Requirement already satisfied: jupyter-core in /usr/local/lib/python3.7/dist-packages (from nbconvert->jupyter->d2l==0.16.2) (4.7.1)\n",
            "Requirement already satisfied: mistune<2,>=0.8.1 in /usr/local/lib/python3.7/dist-packages (from nbconvert->jupyter->d2l==0.16.2) (0.8.4)\n",
            "Requirement already satisfied: pygments in /usr/local/lib/python3.7/dist-packages (from nbconvert->jupyter->d2l==0.16.2) (2.6.1)\n",
            "Requirement already satisfied: tornado>=4.0 in /usr/local/lib/python3.7/dist-packages (from ipykernel->jupyter->d2l==0.16.2) (5.1.1)\n",
            "Requirement already satisfied: ipython>=4.0.0 in /usr/local/lib/python3.7/dist-packages (from ipykernel->jupyter->d2l==0.16.2) (5.5.0)\n",
            "Requirement already satisfied: jupyter-client in /usr/local/lib/python3.7/dist-packages (from ipykernel->jupyter->d2l==0.16.2) (5.3.5)\n",
            "Requirement already satisfied: prompt-toolkit<2.0.0,>=1.0.0 in /usr/local/lib/python3.7/dist-packages (from jupyter-console->jupyter->d2l==0.16.2) (1.0.18)\n",
            "Requirement already satisfied: ipython-genutils in /usr/local/lib/python3.7/dist-packages (from notebook->jupyter->d2l==0.16.2) (0.2.0)\n",
            "Requirement already satisfied: terminado>=0.8.1 in /usr/local/lib/python3.7/dist-packages (from notebook->jupyter->d2l==0.16.2) (0.9.3)\n",
            "Requirement already satisfied: Send2Trash in /usr/local/lib/python3.7/dist-packages (from notebook->jupyter->d2l==0.16.2) (1.5.0)\n",
            "Requirement already satisfied: jupyterlab-widgets>=1.0.0; python_version >= \"3.6\" in /usr/local/lib/python3.7/dist-packages (from ipywidgets->jupyter->d2l==0.16.2) (1.0.0)\n",
            "Requirement already satisfied: widgetsnbextension~=3.5.0 in /usr/local/lib/python3.7/dist-packages (from ipywidgets->jupyter->d2l==0.16.2) (3.5.1)\n",
            "Requirement already satisfied: qtpy in /usr/local/lib/python3.7/dist-packages (from qtconsole->jupyter->d2l==0.16.2) (1.9.0)\n",
            "Requirement already satisfied: pyzmq>=17.1 in /usr/local/lib/python3.7/dist-packages (from qtconsole->jupyter->d2l==0.16.2) (22.0.3)\n",
            "Requirement already satisfied: packaging in /usr/local/lib/python3.7/dist-packages (from bleach->nbconvert->jupyter->d2l==0.16.2) (20.9)\n",
            "Requirement already satisfied: webencodings in /usr/local/lib/python3.7/dist-packages (from bleach->nbconvert->jupyter->d2l==0.16.2) (0.5.1)\n",
            "Requirement already satisfied: MarkupSafe>=0.23 in /usr/local/lib/python3.7/dist-packages (from jinja2>=2.4->nbconvert->jupyter->d2l==0.16.2) (1.1.1)\n",
            "Requirement already satisfied: jsonschema!=2.5.0,>=2.4 in /usr/local/lib/python3.7/dist-packages (from nbformat>=4.4->nbconvert->jupyter->d2l==0.16.2) (2.6.0)\n",
            "Requirement already satisfied: pexpect; sys_platform != \"win32\" in /usr/local/lib/python3.7/dist-packages (from ipython>=4.0.0->ipykernel->jupyter->d2l==0.16.2) (4.8.0)\n",
            "Requirement already satisfied: pickleshare in /usr/local/lib/python3.7/dist-packages (from ipython>=4.0.0->ipykernel->jupyter->d2l==0.16.2) (0.7.5)\n",
            "Requirement already satisfied: decorator in /usr/local/lib/python3.7/dist-packages (from ipython>=4.0.0->ipykernel->jupyter->d2l==0.16.2) (4.4.2)\n",
            "Requirement already satisfied: setuptools>=18.5 in /usr/local/lib/python3.7/dist-packages (from ipython>=4.0.0->ipykernel->jupyter->d2l==0.16.2) (54.2.0)\n",
            "Requirement already satisfied: simplegeneric>0.8 in /usr/local/lib/python3.7/dist-packages (from ipython>=4.0.0->ipykernel->jupyter->d2l==0.16.2) (0.8.1)\n",
            "Requirement already satisfied: wcwidth in /usr/local/lib/python3.7/dist-packages (from prompt-toolkit<2.0.0,>=1.0.0->jupyter-console->jupyter->d2l==0.16.2) (0.2.5)\n",
            "Requirement already satisfied: ptyprocess; os_name != \"nt\" in /usr/local/lib/python3.7/dist-packages (from terminado>=0.8.1->notebook->jupyter->d2l==0.16.2) (0.7.0)\n"
          ],
          "name": "stdout"
        }
      ]
    },
    {
      "cell_type": "code",
      "metadata": {
        "id": "3jruGoCQbv-j"
      },
      "source": [
        "%matplotlib inline \n",
        "import random\n",
        "import torch\n",
        "from d2l import torch as d2l"
      ],
      "execution_count": 2,
      "outputs": []
    },
    {
      "cell_type": "code",
      "metadata": {
        "id": "eXiwXQD8bwZw"
      },
      "source": [
        "def synthetic_data(w,b,num_examples):\n",
        "    X = torch.normal(0,1,(num_examples,len(w)))\n",
        "    print(w.shape)\n",
        "    print(X.shape)\n",
        "    y = torch.matmul(X,w) + b\n",
        "    print(len(y))\n",
        "    print(y.shape)\n",
        "    y += torch.normal(0,0.01,y.shape)\n",
        "    print(y.shape)\n",
        "    print('\\n')\n",
        "    print(len(y))\n",
        "    return X,y.reshape((-1,1))\n"
      ],
      "execution_count": 3,
      "outputs": []
    },
    {
      "cell_type": "code",
      "metadata": {
        "colab": {
          "base_uri": "https://localhost:8080/"
        },
        "id": "nHT5HfaGbwcb",
        "outputId": "b7750536-e5fd-41b7-a9d7-0bf33f8efc44"
      },
      "source": [
        "true_w = torch.tensor([2,-3.4])\n",
        "true_b = 4.2\n",
        "features,labels = synthetic_data(true_w,true_b,1000)\n",
        "# 기본적으로 height witdth chanel\n",
        "# torch batchszie chanel height width"
      ],
      "execution_count": 4,
      "outputs": [
        {
          "output_type": "stream",
          "text": [
            "torch.Size([2])\n",
            "torch.Size([1000, 2])\n",
            "1000\n",
            "torch.Size([1000])\n",
            "torch.Size([1000])\n",
            "\n",
            "\n",
            "1000\n"
          ],
          "name": "stdout"
        }
      ]
    },
    {
      "cell_type": "markdown",
      "metadata": {
        "id": "Wc89pWSGwZ54"
      },
      "source": [
        "2 by 1 w 와 4.2 bias를 만들고 synthetic_data를 이용해 features와 label을 만든다. 결과적으로 features 는 1000  by 2가 만들어지고 labels는 1000 by 1이 만들어진다. "
      ]
    },
    {
      "cell_type": "code",
      "metadata": {
        "colab": {
          "base_uri": "https://localhost:8080/"
        },
        "id": "Iq5Qf1TNbwet",
        "outputId": "bca7702a-19de-43e3-bbb2-bd0e75960bf7"
      },
      "source": [
        "print(features.shape)\n",
        "print(labels.shape)\n",
        "print(len(features))"
      ],
      "execution_count": 5,
      "outputs": [
        {
          "output_type": "stream",
          "text": [
            "torch.Size([1000, 2])\n",
            "torch.Size([1000, 1])\n",
            "1000\n"
          ],
          "name": "stdout"
        }
      ]
    },
    {
      "cell_type": "code",
      "metadata": {
        "colab": {
          "base_uri": "https://localhost:8080/"
        },
        "id": "GPaVAuzobwhe",
        "outputId": "3342dbe4-7c9d-454b-c985-007464750320"
      },
      "source": [
        "print('features:',features[0],'\\nlabel:',labels[0])"
      ],
      "execution_count": 6,
      "outputs": [
        {
          "output_type": "stream",
          "text": [
            "features: tensor([-1.3726,  0.1605]) \n",
            "label: tensor([0.9069])\n"
          ],
          "name": "stdout"
        }
      ]
    },
    {
      "cell_type": "code",
      "metadata": {
        "colab": {
          "base_uri": "https://localhost:8080/"
        },
        "id": "bPTcCBHM4VBY",
        "outputId": "42c556a2-c7e2-4ca8-9284-e6135887a358"
      },
      "source": [
        "print(features)"
      ],
      "execution_count": 7,
      "outputs": [
        {
          "output_type": "stream",
          "text": [
            "tensor([[-1.3726,  0.1605],\n",
            "        [ 0.6630,  0.5712],\n",
            "        [ 0.6035,  0.3791],\n",
            "        ...,\n",
            "        [ 0.9742,  0.4416],\n",
            "        [ 0.8268,  0.6319],\n",
            "        [ 0.1455, -1.5839]])\n"
          ],
          "name": "stdout"
        }
      ]
    },
    {
      "cell_type": "code",
      "metadata": {
        "colab": {
          "base_uri": "https://localhost:8080/"
        },
        "id": "8tcg42iMlWUS",
        "outputId": "dbbd7387-209a-49aa-ba1d-307654a01ea0"
      },
      "source": [
        "print(features[:,(0)])"
      ],
      "execution_count": 8,
      "outputs": [
        {
          "output_type": "stream",
          "text": [
            "tensor([-1.3726e+00,  6.6299e-01,  6.0347e-01,  8.4674e-01,  2.7023e+00,\n",
            "         5.4014e-01, -1.2733e+00, -3.0881e-01, -1.2791e+00, -9.4214e-01,\n",
            "        -1.0718e+00, -5.5763e-02, -3.9643e-01, -1.6708e-01, -9.4207e-01,\n",
            "        -5.9588e-01,  2.5017e+00, -5.5169e-01,  1.3646e+00, -4.0867e-02,\n",
            "         5.3144e-01,  3.6711e-01, -6.2111e-02,  1.1354e+00,  1.5802e-01,\n",
            "         4.1798e-01, -1.3507e+00, -1.2107e+00,  1.7611e+00,  1.3025e+00,\n",
            "        -1.1209e+00, -1.8538e-01, -1.6611e+00,  7.0329e-01, -3.4286e-01,\n",
            "         3.9526e-01, -6.9979e-01, -4.7149e-01, -6.8082e-01, -1.1465e+00,\n",
            "         3.1467e-01, -8.6440e-02, -1.4113e+00, -2.4333e+00, -1.2037e+00,\n",
            "        -1.2464e+00, -2.0150e+00, -7.1654e-01, -1.4683e+00, -3.1578e-01,\n",
            "        -1.0622e-01, -1.7582e-01,  4.6255e-01, -9.3376e-01,  3.0786e-01,\n",
            "        -2.1442e-01, -4.4115e-01,  6.6281e-01, -4.2271e-01, -1.3513e+00,\n",
            "         6.3158e-01,  1.3578e+00,  9.2499e-02,  7.8625e-01,  8.7590e-01,\n",
            "        -2.6198e-01, -1.8611e+00, -5.6645e-01, -9.9146e-01,  1.3878e-01,\n",
            "         3.6641e-01, -1.1914e+00,  9.5108e-01,  7.3487e-01, -3.3342e-01,\n",
            "        -1.1611e+00,  5.6920e-01, -9.8319e-01,  1.3314e-02,  2.4859e-02,\n",
            "        -9.2595e-01,  3.1976e-01,  2.0915e-01,  8.2229e-01, -1.8126e-01,\n",
            "        -1.1737e+00, -3.7911e-01, -7.2688e-01, -5.6519e-01, -5.2311e-01,\n",
            "         9.8845e-01, -1.0516e+00, -6.1006e-01,  1.5092e+00, -1.6256e+00,\n",
            "        -1.9006e+00, -2.1067e+00, -3.0207e-01,  1.7092e+00, -6.1255e-01,\n",
            "         1.0209e+00,  1.4994e+00,  8.7640e-01,  2.9122e-01,  2.1591e-01,\n",
            "         5.2107e-01, -5.5459e-01, -1.5778e+00,  1.0873e+00, -5.3493e-01,\n",
            "        -4.0233e-01,  3.7367e-01, -1.4716e+00,  7.1904e-01, -1.5491e+00,\n",
            "        -2.6730e-01,  1.1025e+00, -9.2247e-01,  3.5559e-01,  1.2621e+00,\n",
            "        -1.1817e+00,  3.9715e-01, -5.7493e-01,  1.7504e+00,  1.3835e-02,\n",
            "         3.9057e-01,  1.1794e+00,  3.4618e-02,  1.2975e-01,  1.5044e+00,\n",
            "        -2.9870e-01, -1.0496e+00, -1.8252e+00,  9.0124e-01, -3.0441e-01,\n",
            "        -5.5329e-01, -7.5365e-01, -2.1375e+00,  1.7107e+00, -1.9352e+00,\n",
            "        -8.6152e-01,  1.4360e+00, -7.0133e-02, -9.0840e-01, -1.9733e-01,\n",
            "        -4.9275e-01, -4.3275e-01,  1.6324e-01,  9.3906e-01,  1.0468e+00,\n",
            "        -8.6072e-01, -5.4980e-01,  2.3726e-01, -2.7063e-01, -4.8867e-01,\n",
            "         5.1697e-01, -6.1863e-01, -4.4880e-01, -8.0856e-01,  3.5760e-01,\n",
            "        -3.1039e-01,  1.7036e-03,  1.2751e+00, -1.4881e-02, -1.4910e+00,\n",
            "         8.2101e-04, -3.2558e-01, -2.8657e-01,  9.3872e-01, -5.5267e-03,\n",
            "         8.3177e-01, -1.0478e+00,  2.9662e-02,  7.5345e-01,  9.8018e-01,\n",
            "        -1.7818e+00,  8.0038e-01,  5.3178e-01,  1.0302e+00,  1.5259e-02,\n",
            "        -1.3599e+00, -1.2195e+00, -1.1924e+00,  2.2123e-01, -4.7446e-01,\n",
            "         1.1739e+00,  7.5006e-01, -6.4390e-01, -1.5537e+00, -6.9156e-01,\n",
            "         9.6427e-01,  1.2545e+00, -1.1333e+00, -1.3361e+00,  1.9097e-01,\n",
            "         5.2926e-01,  2.2239e+00,  7.4102e-01,  5.4553e-01, -1.7853e+00,\n",
            "        -1.0958e+00, -8.4467e-01,  7.9923e-01, -3.9655e-01,  2.8803e-01,\n",
            "        -6.8524e-02, -6.0687e-02,  2.0720e-01, -1.3819e+00,  3.2499e-01,\n",
            "         1.0104e+00,  3.3493e-01, -1.8223e+00,  1.4433e+00,  1.5978e-01,\n",
            "        -9.7589e-01, -8.3790e-01,  2.0181e+00,  5.3546e-01, -1.5309e+00,\n",
            "        -1.0066e+00, -1.6828e+00, -1.0831e+00, -1.9057e+00, -7.5945e-02,\n",
            "         8.0316e-01, -6.6353e-01,  7.5973e-01,  1.8355e-03, -4.4566e-01,\n",
            "        -4.2998e-01, -1.4523e+00,  1.0796e+00,  1.1366e+00,  3.2409e-01,\n",
            "        -1.7861e+00, -1.6648e+00,  5.2217e-01, -1.2602e-01,  1.0853e+00,\n",
            "        -4.8618e-01,  1.0084e+00, -3.7176e-01, -2.5095e-01, -1.4992e+00,\n",
            "        -2.0554e+00, -1.4156e+00, -2.9108e-01, -7.3070e-02, -3.8323e-01,\n",
            "        -1.8396e+00,  2.9497e-02, -9.1676e-01,  5.1499e-01,  4.7029e-01,\n",
            "         3.1278e-01, -1.6149e+00,  1.2319e+00,  2.6445e-01,  2.9223e-02,\n",
            "        -7.6294e-01,  1.0442e+00,  7.0649e-01, -5.7205e-01,  1.1177e+00,\n",
            "        -1.4987e+00,  3.4558e-02, -1.8505e+00, -1.2966e+00,  5.5488e-01,\n",
            "         4.0766e-01,  2.3493e+00,  1.4382e+00, -3.3165e-01,  1.3318e+00,\n",
            "         6.1367e-01, -2.6548e-01, -1.7503e-02,  9.7216e-01,  8.9026e-01,\n",
            "         9.8781e-01,  9.4686e-01, -1.3293e+00,  8.0344e-01,  2.4104e-01,\n",
            "        -7.6447e-01,  6.1288e-01,  5.7485e-01, -2.1815e-01, -2.8919e-02,\n",
            "         2.7544e-01,  2.0371e-01,  4.0244e-01, -1.2913e+00,  5.9907e-01,\n",
            "         7.6887e-02, -1.1745e+00,  9.2291e-01,  3.8201e-01,  4.6273e-01,\n",
            "         8.3658e-02, -1.8349e+00,  1.5775e+00,  1.2209e+00, -2.6785e-01,\n",
            "        -1.4269e-01,  3.5636e-01,  1.9133e-01, -4.2513e-01,  3.9457e-01,\n",
            "         7.8122e-01, -2.5660e-02,  2.6309e+00, -3.4732e-01, -1.1323e+00,\n",
            "         7.1391e-02,  6.8071e-01,  1.9605e-01, -6.0590e-01,  5.4296e-01,\n",
            "         1.0194e+00,  1.7615e-01, -7.8613e-01,  7.6573e-01,  8.0000e-01,\n",
            "        -1.7695e+00, -1.5320e+00, -4.5670e-01,  1.2520e+00,  1.0350e+00,\n",
            "        -1.0173e+00, -3.3369e-01,  7.3329e-01, -9.6420e-01,  1.5033e+00,\n",
            "        -1.2873e-01,  4.4479e-01,  1.0812e+00,  3.5542e-01, -3.8288e-01,\n",
            "         1.1330e+00, -2.0140e-01, -2.3776e-01,  3.5777e-01, -3.5239e-01,\n",
            "         3.6902e-01,  1.0249e+00, -6.0453e-01,  4.6007e-01, -4.7909e-01,\n",
            "        -1.5360e+00, -7.7265e-01,  6.9744e-01,  3.8930e-01,  2.1846e-01,\n",
            "        -3.4346e-01, -9.9060e-01, -1.1944e-01, -1.4999e+00,  5.8555e-01,\n",
            "         3.5811e-01, -1.2160e+00,  1.6023e+00,  4.1456e-01,  3.5528e-01,\n",
            "        -2.0889e+00, -1.2439e+00,  4.5809e-01,  8.6045e-01, -1.1979e+00,\n",
            "        -3.4277e-01,  3.7882e-01, -1.0929e+00,  1.6594e+00,  2.2464e-01,\n",
            "         1.4261e-02,  1.7159e+00,  5.0414e-01, -9.5876e-01, -1.6063e+00,\n",
            "        -1.6172e+00, -1.1697e+00, -4.0774e-01, -2.0164e+00, -1.2850e+00,\n",
            "         6.2942e-01,  7.7517e-01, -7.3563e-01,  1.7594e-01, -2.4591e-01,\n",
            "         3.9771e-01,  9.8909e-01,  2.2095e+00,  2.1982e+00,  2.1102e-01,\n",
            "        -1.3146e+00, -8.8043e-01, -5.6656e-01,  5.1642e-01,  1.1148e+00,\n",
            "        -1.0679e+00, -1.3237e-01, -1.4199e+00,  1.3702e+00,  1.0054e+00,\n",
            "         2.1965e-01,  5.4558e-01, -2.3266e-01, -4.6694e-01, -1.6715e+00,\n",
            "         5.6175e-01, -1.6082e+00,  5.4068e-01,  1.4700e+00,  4.8914e-01,\n",
            "        -2.3179e-01,  4.4155e-01,  2.2356e+00, -7.5168e-01,  1.5052e-01,\n",
            "        -1.4602e+00, -1.5717e+00,  5.4591e-01,  5.7822e-01, -3.2577e-01,\n",
            "         7.6167e-02, -1.3829e-01,  1.9466e+00, -6.9931e-01, -5.4986e-01,\n",
            "         7.7259e-01,  6.9723e-01, -5.5432e-01, -2.0514e-01, -3.7082e-01,\n",
            "         6.0347e-01,  4.5917e-01,  4.3304e-01, -3.8626e-01, -3.2371e-01,\n",
            "         1.1427e+00,  2.9539e-01, -3.2793e-01, -9.0795e-01,  1.8128e-01,\n",
            "         2.0740e+00, -5.9276e-02,  7.6520e-01, -6.4042e-01, -8.0716e-01,\n",
            "        -6.7039e-01,  6.1909e-01, -1.0348e+00,  4.5112e-01,  1.2491e+00,\n",
            "        -9.0273e-01,  4.1990e-01, -7.2762e-01, -3.4146e+00,  5.9380e-01,\n",
            "         5.3583e-01, -9.3516e-01, -4.2262e-02,  7.8527e-01,  1.2734e+00,\n",
            "         2.8560e-01, -5.7059e-02,  5.3102e-01,  1.1215e+00,  6.8129e-01,\n",
            "        -4.2594e-01,  7.0228e-02,  2.4232e+00, -1.1223e+00, -2.3421e-01,\n",
            "        -2.2845e+00,  5.6623e-01, -8.9845e-01,  3.1136e-01,  1.6824e+00,\n",
            "         3.6737e-01,  4.5924e-01,  3.6905e-01,  1.8868e-01, -1.1197e+00,\n",
            "        -7.8479e-01, -8.2459e-01, -1.4660e+00,  3.2215e-02, -1.0385e+00,\n",
            "         1.2662e+00, -2.5275e-01,  8.2170e-01, -5.1617e-01, -4.3450e-01,\n",
            "        -6.0859e-01,  9.0616e-01, -2.2937e-01, -1.6893e+00, -9.9308e-01,\n",
            "        -1.6716e+00, -8.3631e-01, -7.7855e-01,  1.2553e+00,  1.2882e+00,\n",
            "         1.2141e+00,  3.0218e-03,  6.1076e-01,  2.9801e-01, -7.7970e-01,\n",
            "         1.7507e+00,  4.3778e-01, -1.8553e-01,  7.8347e-01,  5.9103e-01,\n",
            "        -5.5938e-01,  6.2010e-01, -1.1622e+00,  1.8073e+00,  1.3180e+00,\n",
            "        -5.9317e-01, -1.2440e+00, -8.7397e-01,  1.1120e+00,  2.3367e-01,\n",
            "        -2.8291e-01, -1.0964e-01,  5.8486e-01, -2.0485e+00, -5.5452e-01,\n",
            "        -5.7100e-01, -9.3357e-01,  1.0133e+00,  2.1904e+00, -2.0220e+00,\n",
            "        -8.5297e-01, -2.7753e+00,  1.0427e+00, -4.6640e-01,  1.2473e+00,\n",
            "        -2.1055e+00, -3.4240e-01, -6.3768e-01,  1.3646e+00, -4.8933e-01,\n",
            "        -1.2964e-01,  1.6086e-01, -8.0389e-01,  1.3796e+00, -3.2218e-01,\n",
            "         5.7572e-01,  4.7133e-01,  1.5250e+00,  6.3088e-02, -1.3272e+00,\n",
            "        -8.4916e-01, -2.4968e+00,  7.9296e-01,  1.8346e-02,  1.0502e-01,\n",
            "         2.0584e+00, -1.1819e-01, -1.7269e+00,  8.0511e-01,  1.2051e-01,\n",
            "        -5.2034e-01,  2.4652e-01,  3.3615e-01,  3.8228e-01,  1.6204e+00,\n",
            "        -3.7309e-01,  9.4053e-01, -1.0692e-01,  5.3855e-01, -1.0762e-01,\n",
            "        -1.7009e+00,  1.4232e+00,  4.7234e-01,  8.6014e-01, -5.8464e-01,\n",
            "         7.5074e-01,  7.9601e-01, -2.9870e-01, -3.5256e-01,  1.8003e-01,\n",
            "         3.8398e-01, -1.0912e+00,  1.9548e+00, -3.2238e-01,  4.5960e-01,\n",
            "        -3.7212e-01,  1.1416e+00,  1.4435e+00,  1.0365e+00, -1.2585e+00,\n",
            "         5.9419e-01,  1.5680e+00,  1.3172e+00,  7.5028e-01,  1.0566e+00,\n",
            "        -3.3098e-01,  2.0647e-01, -8.4765e-01,  8.5480e-01,  1.4449e+00,\n",
            "         7.5074e-02,  1.1150e+00,  4.5330e-01, -1.0887e+00, -7.6059e-01,\n",
            "         2.3890e-01, -6.2238e-01, -4.4706e-01,  3.0831e-01, -8.8863e-01,\n",
            "        -2.0438e+00, -3.0464e-01, -1.2818e+00, -1.1694e-01,  4.8238e-01,\n",
            "        -4.0251e-03,  8.3110e-01, -2.4268e-01, -6.1909e-01,  6.9126e-01,\n",
            "         7.5885e-01, -1.4616e+00,  2.7552e+00, -6.9045e-01, -9.4748e-01,\n",
            "        -1.9036e-01,  7.2671e-02,  1.4368e-01, -5.1918e-01,  1.9401e-01,\n",
            "         2.7739e-01, -1.4843e-01, -1.5814e+00, -2.6892e-01, -1.4003e+00,\n",
            "         5.4846e-01,  3.3651e-01, -8.1712e-01,  3.8977e-01, -1.7381e+00,\n",
            "         2.0657e-01,  6.9109e-01, -1.9156e-01, -6.3161e-01,  2.0366e-01,\n",
            "        -1.4472e+00, -1.8173e+00,  8.2004e-01, -6.2861e-02, -4.2138e-01,\n",
            "        -2.0209e+00, -6.0559e-01, -7.7003e-01, -2.7819e+00, -9.3275e-01,\n",
            "        -6.2974e-01, -3.7714e-01, -1.4228e+00, -2.1258e-01, -1.5744e+00,\n",
            "         1.3500e+00,  3.0458e+00, -3.3774e-01, -2.4366e+00, -6.4538e-01,\n",
            "        -1.3098e+00, -1.8092e+00, -1.1845e+00,  2.6538e-01, -1.6101e+00,\n",
            "        -1.3319e+00, -5.6144e-01, -5.6472e-01,  8.3206e-01, -2.1538e-02,\n",
            "        -1.1476e+00, -8.7340e-01, -2.1604e+00, -1.2615e+00, -6.7923e-01,\n",
            "        -3.5224e-01, -2.5082e+00, -8.7395e-01,  1.8581e+00,  2.3771e-01,\n",
            "         5.0377e-01, -5.9706e-01,  9.5992e-01, -9.4574e-01,  7.7052e-02,\n",
            "         7.9124e-01,  1.1074e+00,  3.5709e-01,  2.4582e+00,  2.7298e-01,\n",
            "        -2.4287e+00, -1.6791e+00,  3.8612e-01, -1.5572e-01,  1.6693e-01,\n",
            "         1.1831e+00, -7.1651e-01, -1.9172e+00,  1.0930e+00, -1.4499e-01,\n",
            "         1.6313e+00, -1.1247e+00,  3.4815e-01,  1.7489e+00, -1.8112e-01,\n",
            "        -7.8406e-01,  1.5533e+00,  3.3614e-01, -4.7225e-01, -1.5177e+00,\n",
            "        -2.4342e-01, -1.1781e+00, -9.2149e-01, -1.9028e+00, -1.0313e+00,\n",
            "         1.2891e-02,  1.3240e+00, -3.8444e-01, -1.8164e+00, -1.0668e+00,\n",
            "         1.2974e-01, -9.5385e-02,  7.8823e-01, -3.2186e-01, -2.2848e+00,\n",
            "        -9.7304e-01, -6.5499e-01,  6.3795e-01, -2.9042e-01, -5.7255e-02,\n",
            "        -5.9342e-01,  1.4025e+00,  5.3733e-01,  2.0570e+00, -1.6610e-01,\n",
            "        -1.6628e+00, -3.9520e-01, -1.6754e+00,  1.0309e+00, -1.5596e+00,\n",
            "         1.6621e+00, -9.7621e-01, -1.7636e+00, -8.5702e-01, -3.5784e-01,\n",
            "         1.1370e+00,  3.9096e-01, -6.4929e-01,  1.2181e-01, -1.1808e+00,\n",
            "         6.5322e-01, -3.7018e-01,  1.3884e+00,  4.7729e+00,  1.7929e-01,\n",
            "        -7.5534e-01,  1.1383e+00, -4.8010e-01, -1.8990e+00, -1.4646e+00,\n",
            "         1.4208e+00,  7.5038e-02, -1.3132e+00, -1.5144e-01, -5.3137e-01,\n",
            "        -5.2535e-01, -2.8529e-01, -7.1448e-01, -2.7288e-01,  1.6893e+00,\n",
            "        -4.7917e-01,  1.0658e+00, -2.0421e+00, -1.1028e+00,  4.6269e-01,\n",
            "         4.2288e-01, -7.6035e-01,  8.4941e-01, -1.0815e+00, -6.8062e-01,\n",
            "         1.1736e+00, -4.8547e-01, -7.4814e-02, -7.3242e-01, -5.0454e-01,\n",
            "         7.1672e-01,  1.0763e+00, -8.8544e-01,  1.3565e+00, -1.6433e+00,\n",
            "        -4.9032e-01, -1.0952e+00, -1.6607e+00, -3.1606e-01, -3.6401e-01,\n",
            "         5.8812e-02,  1.1061e-01,  1.4638e+00,  4.9954e-01, -1.3107e+00,\n",
            "        -7.2235e-01, -1.1544e+00, -2.8906e-01,  3.0811e-01,  1.2188e+00,\n",
            "        -1.6439e+00,  8.4234e-01, -5.8576e-01, -5.6983e-03,  7.2773e-02,\n",
            "        -1.7224e+00,  9.8252e-01,  4.7402e-01, -1.2441e+00,  2.2553e-01,\n",
            "         1.8502e-01, -6.5676e-02,  3.3376e-01, -1.0400e-01, -1.5413e+00,\n",
            "         7.1805e-01,  1.4093e+00, -4.1696e-01, -4.5125e-01,  3.9121e-02,\n",
            "        -4.7805e-01, -4.6503e-01, -4.9428e-01,  1.1402e+00, -1.7697e+00,\n",
            "        -1.1485e+00, -6.6775e-01,  9.2927e-02, -1.0004e+00,  5.5418e-01,\n",
            "         7.8555e-01,  1.6206e+00, -6.2434e-01, -1.2516e+00,  6.5885e-02,\n",
            "         1.9505e+00,  1.2172e+00,  1.8973e+00, -8.9682e-01,  9.3833e-01,\n",
            "         3.8029e-01, -1.2488e+00,  5.7990e-01,  5.0900e-01,  1.6390e-01,\n",
            "        -1.5597e-01, -5.2141e-01, -9.3862e-01, -1.0917e+00,  8.2832e-01,\n",
            "         1.7391e+00,  2.7059e-02, -1.9855e-02, -5.8304e-01,  5.9316e-01,\n",
            "        -7.6843e-01, -2.0316e-01, -9.7319e-02,  1.3075e+00, -3.2920e-01,\n",
            "         8.6678e-01,  7.3815e-02, -1.0466e+00,  2.6770e-01,  1.3610e+00,\n",
            "        -7.3399e-01, -1.3543e+00, -2.3837e-01, -3.5829e-01, -2.2207e-01,\n",
            "        -1.5482e+00,  5.8939e-01, -4.1046e-01, -1.4408e-01, -8.4069e-01,\n",
            "         1.6881e-01,  1.5203e+00,  7.8930e-01,  8.3033e-01,  1.5412e+00,\n",
            "        -4.8262e-01,  9.5042e-01, -1.3610e-01,  2.9287e-02,  5.7563e-02,\n",
            "        -2.5990e-01, -1.0807e+00,  1.0720e-01,  1.5115e+00, -6.5046e-02,\n",
            "         2.2382e-01, -1.3334e+00,  1.0749e-02, -5.0164e-01,  7.0836e-01,\n",
            "         1.1893e+00,  2.1830e-01, -3.8780e-02, -2.0028e-01,  3.6616e-01,\n",
            "        -4.2424e-01, -1.1495e+00,  2.0162e-01,  1.0910e+00, -9.2916e-01,\n",
            "         1.5151e-01, -3.7414e-01, -1.4373e+00,  1.4985e+00, -7.9123e-01,\n",
            "         1.4191e+00,  4.5469e-01, -9.0793e-01,  8.5157e-01, -3.1368e-01,\n",
            "         7.6235e-01, -7.8179e-01,  5.7555e-01,  1.1166e-01, -9.8813e-02,\n",
            "        -5.2185e-01, -2.4005e-01, -2.4923e-01, -1.5523e+00, -9.0110e-01,\n",
            "        -2.1472e-01, -2.2916e+00,  4.4862e-02,  1.1694e+00, -2.6306e-01,\n",
            "         2.5795e+00, -6.8591e-01, -1.5556e+00,  2.2577e-01, -7.2965e-01,\n",
            "        -1.8984e+00, -2.2308e+00, -1.7303e+00,  2.3517e-01,  1.4743e+00,\n",
            "        -1.4878e+00,  4.3830e-01, -9.7375e-01,  6.2961e-01,  1.0005e+00,\n",
            "        -1.5640e+00,  3.5705e-02, -8.5842e-01, -6.4166e-01,  8.3659e-01,\n",
            "         8.5475e-01,  3.0394e-01,  8.4642e-01, -2.8975e-01,  7.1615e-01,\n",
            "         3.4794e-01,  1.1871e+00,  4.1966e-01, -9.5951e-01,  2.4863e-01,\n",
            "         6.8634e-01,  5.6697e-01, -7.7781e-01,  7.0689e-01,  9.6102e-01,\n",
            "         7.0595e-01, -5.6072e-01,  1.8745e+00, -9.8461e-04, -2.0092e-01,\n",
            "        -1.8350e+00,  3.7036e-01, -2.6831e-01,  9.7065e-01, -8.7640e-01,\n",
            "         1.4845e+00,  3.5827e-01,  5.1347e-01,  2.9469e-01, -8.4782e-03,\n",
            "         3.1931e-01, -6.5498e-02,  9.7417e-01,  8.2676e-01,  1.4551e-01])\n"
          ],
          "name": "stdout"
        }
      ]
    },
    {
      "cell_type": "code",
      "metadata": {
        "colab": {
          "base_uri": "https://localhost:8080/",
          "height": 244
        },
        "id": "YOq4OFtIbwjQ",
        "outputId": "4ce3e0e9-5715-4a61-ed77-372de847ffea"
      },
      "source": [
        "d2l.set_figsize()\n",
        "\n",
        "d2l.plt.scatter(features[:,(0)].detach().numpy(),\n",
        "                labels.detach().numpy(),1);"
      ],
      "execution_count": 9,
      "outputs": [
        {
          "output_type": "display_data",
          "data": {
            "text/plain": [
              "<Figure size 252x180 with 1 Axes>"
            ],
            "image/svg+xml": "<?xml version=\"1.0\" encoding=\"utf-8\" standalone=\"no\"?>\n<!DOCTYPE svg PUBLIC \"-//W3C//DTD SVG 1.1//EN\"\n  \"http://www.w3.org/Graphics/SVG/1.1/DTD/svg11.dtd\">\n<!-- Created with matplotlib (https://matplotlib.org/) -->\n<svg height=\"166.978125pt\" version=\"1.1\" viewBox=\"0 0 237.804688 166.978125\" width=\"237.804688pt\" xmlns=\"http://www.w3.org/2000/svg\" xmlns:xlink=\"http://www.w3.org/1999/xlink\">\n <defs>\n  <style type=\"text/css\">\n*{stroke-linecap:butt;stroke-linejoin:round;}\n  </style>\n </defs>\n <g id=\"figure_1\">\n  <g id=\"patch_1\">\n   <path d=\"M 0 166.978125 \nL 237.804688 166.978125 \nL 237.804688 0 \nL 0 0 \nz\n\" style=\"fill:none;\"/>\n  </g>\n  <g id=\"axes_1\">\n   <g id=\"patch_2\">\n    <path d=\"M 35.304688 143.1 \nL 230.604688 143.1 \nL 230.604688 7.2 \nL 35.304688 7.2 \nz\n\" style=\"fill:#ffffff;\"/>\n   </g>\n   <g id=\"PathCollection_1\">\n    <defs>\n     <path d=\"M 0 0.5 \nC 0.132602 0.5 0.25979 0.447317 0.353553 0.353553 \nC 0.447317 0.25979 0.5 0.132602 0.5 0 \nC 0.5 -0.132602 0.447317 -0.25979 0.353553 -0.353553 \nC 0.25979 -0.447317 0.132602 -0.5 0 -0.5 \nC -0.132602 -0.5 -0.25979 -0.447317 -0.353553 -0.353553 \nC -0.447317 -0.25979 -0.5 -0.132602 -0.5 0 \nC -0.5 0.132602 -0.447317 0.25979 -0.353553 0.353553 \nC -0.25979 0.447317 -0.132602 0.5 0 0.5 \nz\n\" id=\"m3911a279e1\" style=\"stroke:#1f77b4;\"/>\n    </defs>\n    <g clip-path=\"url(#p61e0d88de1)\">\n     <use style=\"fill:#1f77b4;stroke:#1f77b4;\" x=\"88.461864\" xlink:href=\"#m3911a279e1\" y=\"85.487156\"/>\n     <use style=\"fill:#1f77b4;stroke:#1f77b4;\" x=\"132.604199\" xlink:href=\"#m3911a279e1\" y=\"73.489766\"/>\n     <use style=\"fill:#1f77b4;stroke:#1f77b4;\" x=\"131.313572\" xlink:href=\"#m3911a279e1\" y=\"71.129864\"/>\n     <use style=\"fill:#1f77b4;stroke:#1f77b4;\" x=\"136.58872\" xlink:href=\"#m3911a279e1\" y=\"55.066723\"/>\n     <use style=\"fill:#1f77b4;stroke:#1f77b4;\" x=\"176.826665\" xlink:href=\"#m3911a279e1\" y=\"44.574795\"/>\n     <use style=\"fill:#1f77b4;stroke:#1f77b4;\" x=\"129.940099\" xlink:href=\"#m3911a279e1\" y=\"49.774091\"/>\n     <use style=\"fill:#1f77b4;stroke:#1f77b4;\" x=\"90.616835\" xlink:href=\"#m3911a279e1\" y=\"108.845585\"/>\n     <use style=\"fill:#1f77b4;stroke:#1f77b4;\" x=\"111.530807\" xlink:href=\"#m3911a279e1\" y=\"107.195988\"/>\n     <use style=\"fill:#1f77b4;stroke:#1f77b4;\" x=\"90.489845\" xlink:href=\"#m3911a279e1\" y=\"49.707807\"/>\n     <use style=\"fill:#1f77b4;stroke:#1f77b4;\" x=\"97.797232\" xlink:href=\"#m3911a279e1\" y=\"76.006936\"/>\n     <use style=\"fill:#1f77b4;stroke:#1f77b4;\" x=\"94.985093\" xlink:href=\"#m3911a279e1\" y=\"55.614987\"/>\n     <use style=\"fill:#1f77b4;stroke:#1f77b4;\" x=\"117.018132\" xlink:href=\"#m3911a279e1\" y=\"51.557199\"/>\n     <use style=\"fill:#1f77b4;stroke:#1f77b4;\" x=\"109.630789\" xlink:href=\"#m3911a279e1\" y=\"92.910759\"/>\n     <use style=\"fill:#1f77b4;stroke:#1f77b4;\" x=\"114.604306\" xlink:href=\"#m3911a279e1\" y=\"88.889622\"/>\n     <use style=\"fill:#1f77b4;stroke:#1f77b4;\" x=\"97.798629\" xlink:href=\"#m3911a279e1\" y=\"95.078635\"/>\n     <use style=\"fill:#1f77b4;stroke:#1f77b4;\" x=\"105.305751\" xlink:href=\"#m3911a279e1\" y=\"93.652011\"/>\n     <use style=\"fill:#1f77b4;stroke:#1f77b4;\" x=\"172.47589\" xlink:href=\"#m3911a279e1\" y=\"42.282985\"/>\n     <use style=\"fill:#1f77b4;stroke:#1f77b4;\" x=\"106.264053\" xlink:href=\"#m3911a279e1\" y=\"91.492039\"/>\n     <use style=\"fill:#1f77b4;stroke:#1f77b4;\" x=\"147.818701\" xlink:href=\"#m3911a279e1\" y=\"69.061513\"/>\n     <use style=\"fill:#1f77b4;stroke:#1f77b4;\" x=\"117.341151\" xlink:href=\"#m3911a279e1\" y=\"79.751463\"/>\n     <use style=\"fill:#1f77b4;stroke:#1f77b4;\" x=\"129.751609\" xlink:href=\"#m3911a279e1\" y=\"70.547716\"/>\n     <use style=\"fill:#1f77b4;stroke:#1f77b4;\" x=\"126.188155\" xlink:href=\"#m3911a279e1\" y=\"61.689377\"/>\n     <use style=\"fill:#1f77b4;stroke:#1f77b4;\" x=\"116.880463\" xlink:href=\"#m3911a279e1\" y=\"79.58222\"/>\n     <use style=\"fill:#1f77b4;stroke:#1f77b4;\" x=\"142.847849\" xlink:href=\"#m3911a279e1\" y=\"48.731636\"/>\n     <use style=\"fill:#1f77b4;stroke:#1f77b4;\" x=\"121.654053\" xlink:href=\"#m3911a279e1\" y=\"26.985934\"/>\n     <use style=\"fill:#1f77b4;stroke:#1f77b4;\" x=\"127.291095\" xlink:href=\"#m3911a279e1\" y=\"62.916074\"/>\n     <use style=\"fill:#1f77b4;stroke:#1f77b4;\" x=\"88.937932\" xlink:href=\"#m3911a279e1\" y=\"86.004322\"/>\n     <use style=\"fill:#1f77b4;stroke:#1f77b4;\" x=\"91.972699\" xlink:href=\"#m3911a279e1\" y=\"71.930897\"/>\n     <use style=\"fill:#1f77b4;stroke:#1f77b4;\" x=\"156.417535\" xlink:href=\"#m3911a279e1\" y=\"58.90524\"/>\n     <use style=\"fill:#1f77b4;stroke:#1f77b4;\" x=\"146.472069\" xlink:href=\"#m3911a279e1\" y=\"68.102047\"/>\n     <use style=\"fill:#1f77b4;stroke:#1f77b4;\" x=\"93.921478\" xlink:href=\"#m3911a279e1\" y=\"63.950638\"/>\n     <use style=\"fill:#1f77b4;stroke:#1f77b4;\" x=\"114.207487\" xlink:href=\"#m3911a279e1\" y=\"66.515696\"/>\n     <use style=\"fill:#1f77b4;stroke:#1f77b4;\" x=\"82.206453\" xlink:href=\"#m3911a279e1\" y=\"98.457302\"/>\n     <use style=\"fill:#1f77b4;stroke:#1f77b4;\" x=\"133.478021\" xlink:href=\"#m3911a279e1\" y=\"39.215279\"/>\n     <use style=\"fill:#1f77b4;stroke:#1f77b4;\" x=\"110.792409\" xlink:href=\"#m3911a279e1\" y=\"85.766018\"/>\n     <use style=\"fill:#1f77b4;stroke:#1f77b4;\" x=\"126.79853\" xlink:href=\"#m3911a279e1\" y=\"99.067965\"/>\n     <use style=\"fill:#1f77b4;stroke:#1f77b4;\" x=\"103.052406\" xlink:href=\"#m3911a279e1\" y=\"61.383145\"/>\n     <use style=\"fill:#1f77b4;stroke:#1f77b4;\" x=\"108.003048\" xlink:href=\"#m3911a279e1\" y=\"83.406072\"/>\n     <use style=\"fill:#1f77b4;stroke:#1f77b4;\" x=\"103.463891\" xlink:href=\"#m3911a279e1\" y=\"38.386213\"/>\n     <use style=\"fill:#1f77b4;stroke:#1f77b4;\" x=\"93.3651\" xlink:href=\"#m3911a279e1\" y=\"63.735747\"/>\n     <use style=\"fill:#1f77b4;stroke:#1f77b4;\" x=\"125.050846\" xlink:href=\"#m3911a279e1\" y=\"87.848608\"/>\n     <use style=\"fill:#1f77b4;stroke:#1f77b4;\" x=\"116.352896\" xlink:href=\"#m3911a279e1\" y=\"55.88746\"/>\n     <use style=\"fill:#1f77b4;stroke:#1f77b4;\" x=\"87.623628\" xlink:href=\"#m3911a279e1\" y=\"78.219301\"/>\n     <use style=\"fill:#1f77b4;stroke:#1f77b4;\" x=\"65.460531\" xlink:href=\"#m3911a279e1\" y=\"115.789385\"/>\n     <use style=\"fill:#1f77b4;stroke:#1f77b4;\" x=\"92.124663\" xlink:href=\"#m3911a279e1\" y=\"112.103411\"/>\n     <use style=\"fill:#1f77b4;stroke:#1f77b4;\" x=\"91.199184\" xlink:href=\"#m3911a279e1\" y=\"54.434676\"/>\n     <use style=\"fill:#1f77b4;stroke:#1f77b4;\" x=\"74.532454\" xlink:href=\"#m3911a279e1\" y=\"70.184003\"/>\n     <use style=\"fill:#1f77b4;stroke:#1f77b4;\" x=\"102.689347\" xlink:href=\"#m3911a279e1\" y=\"76.649725\"/>\n     <use style=\"fill:#1f77b4;stroke:#1f77b4;\" x=\"86.38818\" xlink:href=\"#m3911a279e1\" y=\"45.182577\"/>\n     <use style=\"fill:#1f77b4;stroke:#1f77b4;\" x=\"111.379647\" xlink:href=\"#m3911a279e1\" y=\"91.290315\"/>\n     <use style=\"fill:#1f77b4;stroke:#1f77b4;\" x=\"115.923909\" xlink:href=\"#m3911a279e1\" y=\"73.296186\"/>\n     <use style=\"fill:#1f77b4;stroke:#1f77b4;\" x=\"114.414742\" xlink:href=\"#m3911a279e1\" y=\"85.009728\"/>\n     <use style=\"fill:#1f77b4;stroke:#1f77b4;\" x=\"128.257658\" xlink:href=\"#m3911a279e1\" y=\"68.621912\"/>\n     <use style=\"fill:#1f77b4;stroke:#1f77b4;\" x=\"97.978803\" xlink:href=\"#m3911a279e1\" y=\"87.000254\"/>\n     <use style=\"fill:#1f77b4;stroke:#1f77b4;\" x=\"124.903302\" xlink:href=\"#m3911a279e1\" y=\"80.145065\"/>\n     <use style=\"fill:#1f77b4;stroke:#1f77b4;\" x=\"113.577627\" xlink:href=\"#m3911a279e1\" y=\"101.374924\"/>\n     <use style=\"fill:#1f77b4;stroke:#1f77b4;\" x=\"108.661081\" xlink:href=\"#m3911a279e1\" y=\"71.900307\"/>\n     <use style=\"fill:#1f77b4;stroke:#1f77b4;\" x=\"132.600313\" xlink:href=\"#m3911a279e1\" y=\"46.417411\"/>\n     <use style=\"fill:#1f77b4;stroke:#1f77b4;\" x=\"109.060872\" xlink:href=\"#m3911a279e1\" y=\"62.490233\"/>\n     <use style=\"fill:#1f77b4;stroke:#1f77b4;\" x=\"88.925041\" xlink:href=\"#m3911a279e1\" y=\"100.90543\"/>\n     <use style=\"fill:#1f77b4;stroke:#1f77b4;\" x=\"131.92305\" xlink:href=\"#m3911a279e1\" y=\"80.087826\"/>\n     <use style=\"fill:#1f77b4;stroke:#1f77b4;\" x=\"147.670713\" xlink:href=\"#m3911a279e1\" y=\"58.27292\"/>\n     <use style=\"fill:#1f77b4;stroke:#1f77b4;\" x=\"120.233165\" xlink:href=\"#m3911a279e1\" y=\"70.307999\"/>\n     <use style=\"fill:#1f77b4;stroke:#1f77b4;\" x=\"135.277054\" xlink:href=\"#m3911a279e1\" y=\"73.476084\"/>\n     <use style=\"fill:#1f77b4;stroke:#1f77b4;\" x=\"137.221201\" xlink:href=\"#m3911a279e1\" y=\"68.381039\"/>\n     <use style=\"fill:#1f77b4;stroke:#1f77b4;\" x=\"112.546362\" xlink:href=\"#m3911a279e1\" y=\"76.71845\"/>\n     <use style=\"fill:#1f77b4;stroke:#1f77b4;\" x=\"77.870015\" xlink:href=\"#m3911a279e1\" y=\"105.990499\"/>\n     <use style=\"fill:#1f77b4;stroke:#1f77b4;\" x=\"105.944033\" xlink:href=\"#m3911a279e1\" y=\"82.105513\"/>\n     <use style=\"fill:#1f77b4;stroke:#1f77b4;\" x=\"96.72772\" xlink:href=\"#m3911a279e1\" y=\"101.15686\"/>\n     <use style=\"fill:#1f77b4;stroke:#1f77b4;\" x=\"121.236684\" xlink:href=\"#m3911a279e1\" y=\"65.865372\"/>\n     <use style=\"fill:#1f77b4;stroke:#1f77b4;\" x=\"126.172946\" xlink:href=\"#m3911a279e1\" y=\"62.188636\"/>\n     <use style=\"fill:#1f77b4;stroke:#1f77b4;\" x=\"92.391005\" xlink:href=\"#m3911a279e1\" y=\"54.142396\"/>\n     <use style=\"fill:#1f77b4;stroke:#1f77b4;\" x=\"138.851256\" xlink:href=\"#m3911a279e1\" y=\"58.630933\"/>\n     <use style=\"fill:#1f77b4;stroke:#1f77b4;\" x=\"134.162848\" xlink:href=\"#m3911a279e1\" y=\"55.514577\"/>\n     <use style=\"fill:#1f77b4;stroke:#1f77b4;\" x=\"110.997074\" xlink:href=\"#m3911a279e1\" y=\"63.091976\"/>\n     <use style=\"fill:#1f77b4;stroke:#1f77b4;\" x=\"93.049134\" xlink:href=\"#m3911a279e1\" y=\"77.580475\"/>\n     <use style=\"fill:#1f77b4;stroke:#1f77b4;\" x=\"130.570377\" xlink:href=\"#m3911a279e1\" y=\"62.508229\"/>\n     <use style=\"fill:#1f77b4;stroke:#1f77b4;\" x=\"96.906952\" xlink:href=\"#m3911a279e1\" y=\"63.545235\"/>\n     <use style=\"fill:#1f77b4;stroke:#1f77b4;\" x=\"118.516044\" xlink:href=\"#m3911a279e1\" y=\"85.410102\"/>\n     <use style=\"fill:#1f77b4;stroke:#1f77b4;\" x=\"118.76641\" xlink:href=\"#m3911a279e1\" y=\"33.925366\"/>\n     <use style=\"fill:#1f77b4;stroke:#1f77b4;\" x=\"98.148274\" xlink:href=\"#m3911a279e1\" y=\"87.727637\"/>\n     <use style=\"fill:#1f77b4;stroke:#1f77b4;\" x=\"125.161183\" xlink:href=\"#m3911a279e1\" y=\"51.327542\"/>\n     <use style=\"fill:#1f77b4;stroke:#1f77b4;\" x=\"122.762667\" xlink:href=\"#m3911a279e1\" y=\"34.296771\"/>\n     <use style=\"fill:#1f77b4;stroke:#1f77b4;\" x=\"136.0586\" xlink:href=\"#m3911a279e1\" y=\"43.909154\"/>\n     <use style=\"fill:#1f77b4;stroke:#1f77b4;\" x=\"114.296738\" xlink:href=\"#m3911a279e1\" y=\"77.34725\"/>\n     <use style=\"fill:#1f77b4;stroke:#1f77b4;\" x=\"92.776653\" xlink:href=\"#m3911a279e1\" y=\"83.997488\"/>\n     <use style=\"fill:#1f77b4;stroke:#1f77b4;\" x=\"110.006386\" xlink:href=\"#m3911a279e1\" y=\"56.872848\"/>\n     <use style=\"fill:#1f77b4;stroke:#1f77b4;\" x=\"102.465023\" xlink:href=\"#m3911a279e1\" y=\"61.567667\"/>\n     <use style=\"fill:#1f77b4;stroke:#1f77b4;\" x=\"105.971313\" xlink:href=\"#m3911a279e1\" y=\"76.017827\"/>\n     <use style=\"fill:#1f77b4;stroke:#1f77b4;\" x=\"106.883832\" xlink:href=\"#m3911a279e1\" y=\"59.624821\"/>\n     <use style=\"fill:#1f77b4;stroke:#1f77b4;\" x=\"139.661653\" xlink:href=\"#m3911a279e1\" y=\"51.230166\"/>\n     <use style=\"fill:#1f77b4;stroke:#1f77b4;\" x=\"95.42405\" xlink:href=\"#m3911a279e1\" y=\"101.211207\"/>\n     <use style=\"fill:#1f77b4;stroke:#1f77b4;\" x=\"104.998301\" xlink:href=\"#m3911a279e1\" y=\"105.889452\"/>\n     <use style=\"fill:#1f77b4;stroke:#1f77b4;\" x=\"150.955032\" xlink:href=\"#m3911a279e1\" y=\"90.867748\"/>\n     <use style=\"fill:#1f77b4;stroke:#1f77b4;\" x=\"82.975667\" xlink:href=\"#m3911a279e1\" y=\"110.2774\"/>\n     <use style=\"fill:#1f77b4;stroke:#1f77b4;\" x=\"77.012214\" xlink:href=\"#m3911a279e1\" y=\"64.747606\"/>\n     <use style=\"fill:#1f77b4;stroke:#1f77b4;\" x=\"72.543559\" xlink:href=\"#m3911a279e1\" y=\"68.096186\"/>\n     <use style=\"fill:#1f77b4;stroke:#1f77b4;\" x=\"111.676979\" xlink:href=\"#m3911a279e1\" y=\"67.435737\"/>\n     <use style=\"fill:#1f77b4;stroke:#1f77b4;\" x=\"155.291571\" xlink:href=\"#m3911a279e1\" y=\"55.54814\"/>\n     <use style=\"fill:#1f77b4;stroke:#1f77b4;\" x=\"104.944277\" xlink:href=\"#m3911a279e1\" y=\"63.495716\"/>\n     <use style=\"fill:#1f77b4;stroke:#1f77b4;\" x=\"140.365157\" xlink:href=\"#m3911a279e1\" y=\"64.974817\"/>\n     <use style=\"fill:#1f77b4;stroke:#1f77b4;\" x=\"150.742602\" xlink:href=\"#m3911a279e1\" y=\"71.527333\"/>\n     <use style=\"fill:#1f77b4;stroke:#1f77b4;\" x=\"137.231903\" xlink:href=\"#m3911a279e1\" y=\"54.778273\"/>\n     <use style=\"fill:#1f77b4;stroke:#1f77b4;\" x=\"124.542398\" xlink:href=\"#m3911a279e1\" y=\"69.543265\"/>\n     <use style=\"fill:#1f77b4;stroke:#1f77b4;\" x=\"122.909285\" xlink:href=\"#m3911a279e1\" y=\"45.935153\"/>\n     <use style=\"fill:#1f77b4;stroke:#1f77b4;\" x=\"129.526654\" xlink:href=\"#m3911a279e1\" y=\"41.269067\"/>\n     <use style=\"fill:#1f77b4;stroke:#1f77b4;\" x=\"106.201116\" xlink:href=\"#m3911a279e1\" y=\"78.099591\"/>\n     <use style=\"fill:#1f77b4;stroke:#1f77b4;\" x=\"84.013253\" xlink:href=\"#m3911a279e1\" y=\"102.839942\"/>\n     <use style=\"fill:#1f77b4;stroke:#1f77b4;\" x=\"141.804306\" xlink:href=\"#m3911a279e1\" y=\"85.707659\"/>\n     <use style=\"fill:#1f77b4;stroke:#1f77b4;\" x=\"106.627525\" xlink:href=\"#m3911a279e1\" y=\"91.657017\"/>\n     <use style=\"fill:#1f77b4;stroke:#1f77b4;\" x=\"109.50284\" xlink:href=\"#m3911a279e1\" y=\"91.183187\"/>\n     <use style=\"fill:#1f77b4;stroke:#1f77b4;\" x=\"126.330355\" xlink:href=\"#m3911a279e1\" y=\"64.042904\"/>\n     <use style=\"fill:#1f77b4;stroke:#1f77b4;\" x=\"86.315021\" xlink:href=\"#m3911a279e1\" y=\"47.333416\"/>\n     <use style=\"fill:#1f77b4;stroke:#1f77b4;\" x=\"133.81963\" xlink:href=\"#m3911a279e1\" y=\"60.580468\"/>\n     <use style=\"fill:#1f77b4;stroke:#1f77b4;\" x=\"84.635994\" xlink:href=\"#m3911a279e1\" y=\"77.378718\"/>\n     <use style=\"fill:#1f77b4;stroke:#1f77b4;\" x=\"112.430878\" xlink:href=\"#m3911a279e1\" y=\"71.195695\"/>\n     <use style=\"fill:#1f77b4;stroke:#1f77b4;\" x=\"142.134319\" xlink:href=\"#m3911a279e1\" y=\"72.807998\"/>\n     <use style=\"fill:#1f77b4;stroke:#1f77b4;\" x=\"98.223657\" xlink:href=\"#m3911a279e1\" y=\"70.779727\"/>\n     <use style=\"fill:#1f77b4;stroke:#1f77b4;\" x=\"125.938346\" xlink:href=\"#m3911a279e1\" y=\"63.628087\"/>\n     <use style=\"fill:#1f77b4;stroke:#1f77b4;\" x=\"145.596527\" xlink:href=\"#m3911a279e1\" y=\"43.401438\"/>\n     <use style=\"fill:#1f77b4;stroke:#1f77b4;\" x=\"92.602711\" xlink:href=\"#m3911a279e1\" y=\"84.842747\"/>\n     <use style=\"fill:#1f77b4;stroke:#1f77b4;\" x=\"126.839464\" xlink:href=\"#m3911a279e1\" y=\"64.6913\"/>\n     <use style=\"fill:#1f77b4;stroke:#1f77b4;\" x=\"105.759962\" xlink:href=\"#m3911a279e1\" y=\"84.741579\"/>\n     <use style=\"fill:#1f77b4;stroke:#1f77b4;\" x=\"156.185422\" xlink:href=\"#m3911a279e1\" y=\"38.025535\"/>\n     <use style=\"fill:#1f77b4;stroke:#1f77b4;\" x=\"118.52735\" xlink:href=\"#m3911a279e1\" y=\"49.34592\"/>\n     <use style=\"fill:#1f77b4;stroke:#1f77b4;\" x=\"126.696773\" xlink:href=\"#m3911a279e1\" y=\"32.963686\"/>\n     <use style=\"fill:#1f77b4;stroke:#1f77b4;\" x=\"143.802988\" xlink:href=\"#m3911a279e1\" y=\"35.76107\"/>\n     <use style=\"fill:#1f77b4;stroke:#1f77b4;\" x=\"118.978017\" xlink:href=\"#m3911a279e1\" y=\"69.062145\"/>\n     <use style=\"fill:#1f77b4;stroke:#1f77b4;\" x=\"121.040877\" xlink:href=\"#m3911a279e1\" y=\"104.288648\"/>\n     <use style=\"fill:#1f77b4;stroke:#1f77b4;\" x=\"150.850687\" xlink:href=\"#m3911a279e1\" y=\"67.683119\"/>\n     <use style=\"fill:#1f77b4;stroke:#1f77b4;\" x=\"111.750032\" xlink:href=\"#m3911a279e1\" y=\"95.53156\"/>\n     <use style=\"fill:#1f77b4;stroke:#1f77b4;\" x=\"95.466308\" xlink:href=\"#m3911a279e1\" y=\"77.420423\"/>\n     <use style=\"fill:#1f77b4;stroke:#1f77b4;\" x=\"78.649082\" xlink:href=\"#m3911a279e1\" y=\"92.445493\"/>\n     <use style=\"fill:#1f77b4;stroke:#1f77b4;\" x=\"137.770611\" xlink:href=\"#m3911a279e1\" y=\"53.484639\"/>\n     <use style=\"fill:#1f77b4;stroke:#1f77b4;\" x=\"111.626245\" xlink:href=\"#m3911a279e1\" y=\"66.920612\"/>\n     <use style=\"fill:#1f77b4;stroke:#1f77b4;\" x=\"106.229279\" xlink:href=\"#m3911a279e1\" y=\"89.278769\"/>\n     <use style=\"fill:#1f77b4;stroke:#1f77b4;\" x=\"101.88446\" xlink:href=\"#m3911a279e1\" y=\"71.281788\"/>\n     <use style=\"fill:#1f77b4;stroke:#1f77b4;\" x=\"71.876894\" xlink:href=\"#m3911a279e1\" y=\"93.329319\"/>\n     <use style=\"fill:#1f77b4;stroke:#1f77b4;\" x=\"155.322579\" xlink:href=\"#m3911a279e1\" y=\"34.702053\"/>\n     <use style=\"fill:#1f77b4;stroke:#1f77b4;\" x=\"76.263671\" xlink:href=\"#m3911a279e1\" y=\"83.359185\"/>\n     <use style=\"fill:#1f77b4;stroke:#1f77b4;\" x=\"99.545336\" xlink:href=\"#m3911a279e1\" y=\"54.592293\"/>\n     <use style=\"fill:#1f77b4;stroke:#1f77b4;\" x=\"149.366419\" xlink:href=\"#m3911a279e1\" y=\"44.134269\"/>\n     <use style=\"fill:#1f77b4;stroke:#1f77b4;\" x=\"116.706511\" xlink:href=\"#m3911a279e1\" y=\"59.36653\"/>\n     <use style=\"fill:#1f77b4;stroke:#1f77b4;\" x=\"98.528846\" xlink:href=\"#m3911a279e1\" y=\"107.468197\"/>\n     <use style=\"fill:#1f77b4;stroke:#1f77b4;\" x=\"113.948205\" xlink:href=\"#m3911a279e1\" y=\"42.529555\"/>\n     <use style=\"fill:#1f77b4;stroke:#1f77b4;\" x=\"107.542153\" xlink:href=\"#m3911a279e1\" y=\"62.882483\"/>\n     <use style=\"fill:#1f77b4;stroke:#1f77b4;\" x=\"108.843184\" xlink:href=\"#m3911a279e1\" y=\"80.490771\"/>\n     <use style=\"fill:#1f77b4;stroke:#1f77b4;\" x=\"121.767249\" xlink:href=\"#m3911a279e1\" y=\"69.477137\"/>\n     <use style=\"fill:#1f77b4;stroke:#1f77b4;\" x=\"138.590757\" xlink:href=\"#m3911a279e1\" y=\"61.893753\"/>\n     <use style=\"fill:#1f77b4;stroke:#1f77b4;\" x=\"140.928\" xlink:href=\"#m3911a279e1\" y=\"66.524823\"/>\n     <use style=\"fill:#1f77b4;stroke:#1f77b4;\" x=\"99.562843\" xlink:href=\"#m3911a279e1\" y=\"82.03287\"/>\n     <use style=\"fill:#1f77b4;stroke:#1f77b4;\" x=\"106.304911\" xlink:href=\"#m3911a279e1\" y=\"86.832235\"/>\n     <use style=\"fill:#1f77b4;stroke:#1f77b4;\" x=\"123.372245\" xlink:href=\"#m3911a279e1\" y=\"76.30028\"/>\n     <use style=\"fill:#1f77b4;stroke:#1f77b4;\" x=\"112.358866\" xlink:href=\"#m3911a279e1\" y=\"85.457299\"/>\n     <use style=\"fill:#1f77b4;stroke:#1f77b4;\" x=\"107.63059\" xlink:href=\"#m3911a279e1\" y=\"51.041119\"/>\n     <use style=\"fill:#1f77b4;stroke:#1f77b4;\" x=\"129.43786\" xlink:href=\"#m3911a279e1\" y=\"78.11988\"/>\n     <use style=\"fill:#1f77b4;stroke:#1f77b4;\" x=\"104.81236\" xlink:href=\"#m3911a279e1\" y=\"77.966014\"/>\n     <use style=\"fill:#1f77b4;stroke:#1f77b4;\" x=\"108.495237\" xlink:href=\"#m3911a279e1\" y=\"54.260739\"/>\n     <use style=\"fill:#1f77b4;stroke:#1f77b4;\" x=\"100.693917\" xlink:href=\"#m3911a279e1\" y=\"75.977751\"/>\n     <use style=\"fill:#1f77b4;stroke:#1f77b4;\" x=\"125.981761\" xlink:href=\"#m3911a279e1\" y=\"59.19844\"/>\n     <use style=\"fill:#1f77b4;stroke:#1f77b4;\" x=\"111.496581\" xlink:href=\"#m3911a279e1\" y=\"42.559916\"/>\n     <use style=\"fill:#1f77b4;stroke:#1f77b4;\" x=\"118.264279\" xlink:href=\"#m3911a279e1\" y=\"77.288305\"/>\n     <use style=\"fill:#1f77b4;stroke:#1f77b4;\" x=\"145.878185\" xlink:href=\"#m3911a279e1\" y=\"57.297052\"/>\n     <use style=\"fill:#1f77b4;stroke:#1f77b4;\" x=\"117.90464\" xlink:href=\"#m3911a279e1\" y=\"62.084063\"/>\n     <use style=\"fill:#1f77b4;stroke:#1f77b4;\" x=\"85.894973\" xlink:href=\"#m3911a279e1\" y=\"83.265067\"/>\n     <use style=\"fill:#1f77b4;stroke:#1f77b4;\" x=\"118.24514\" xlink:href=\"#m3911a279e1\" y=\"78.510345\"/>\n     <use style=\"fill:#1f77b4;stroke:#1f77b4;\" x=\"111.167076\" xlink:href=\"#m3911a279e1\" y=\"66.572673\"/>\n     <use style=\"fill:#1f77b4;stroke:#1f77b4;\" x=\"112.013013\" xlink:href=\"#m3911a279e1\" y=\"48.023078\"/>\n     <use style=\"fill:#1f77b4;stroke:#1f77b4;\" x=\"138.583381\" xlink:href=\"#m3911a279e1\" y=\"67.048067\"/>\n     <use style=\"fill:#1f77b4;stroke:#1f77b4;\" x=\"118.10749\" xlink:href=\"#m3911a279e1\" y=\"110.333719\"/>\n     <use style=\"fill:#1f77b4;stroke:#1f77b4;\" x=\"136.264164\" xlink:href=\"#m3911a279e1\" y=\"77.255607\"/>\n     <use style=\"fill:#1f77b4;stroke:#1f77b4;\" x=\"95.506448\" xlink:href=\"#m3911a279e1\" y=\"99.721296\"/>\n     <use style=\"fill:#1f77b4;stroke:#1f77b4;\" x=\"118.870553\" xlink:href=\"#m3911a279e1\" y=\"46.215326\"/>\n     <use style=\"fill:#1f77b4;stroke:#1f77b4;\" x=\"134.56575\" xlink:href=\"#m3911a279e1\" y=\"27.797878\"/>\n     <use style=\"fill:#1f77b4;stroke:#1f77b4;\" x=\"139.482383\" xlink:href=\"#m3911a279e1\" y=\"51.721776\"/>\n     <use style=\"fill:#1f77b4;stroke:#1f77b4;\" x=\"79.588706\" xlink:href=\"#m3911a279e1\" y=\"95.232652\"/>\n     <use style=\"fill:#1f77b4;stroke:#1f77b4;\" x=\"135.583445\" xlink:href=\"#m3911a279e1\" y=\"70.266469\"/>\n     <use style=\"fill:#1f77b4;stroke:#1f77b4;\" x=\"129.758866\" xlink:href=\"#m3911a279e1\" y=\"77.713976\"/>\n     <use style=\"fill:#1f77b4;stroke:#1f77b4;\" x=\"140.566172\" xlink:href=\"#m3911a279e1\" y=\"70.92544\"/>\n     <use style=\"fill:#1f77b4;stroke:#1f77b4;\" x=\"118.558231\" xlink:href=\"#m3911a279e1\" y=\"68.777749\"/>\n     <use style=\"fill:#1f77b4;stroke:#1f77b4;\" x=\"88.737747\" xlink:href=\"#m3911a279e1\" y=\"100.352117\"/>\n     <use style=\"fill:#1f77b4;stroke:#1f77b4;\" x=\"91.782777\" xlink:href=\"#m3911a279e1\" y=\"81.158842\"/>\n     <use style=\"fill:#1f77b4;stroke:#1f77b4;\" x=\"92.369763\" xlink:href=\"#m3911a279e1\" y=\"117.447892\"/>\n     <use style=\"fill:#1f77b4;stroke:#1f77b4;\" x=\"123.024578\" xlink:href=\"#m3911a279e1\" y=\"62.248506\"/>\n     <use style=\"fill:#1f77b4;stroke:#1f77b4;\" x=\"107.938719\" xlink:href=\"#m3911a279e1\" y=\"63.285994\"/>\n     <use style=\"fill:#1f77b4;stroke:#1f77b4;\" x=\"143.683374\" xlink:href=\"#m3911a279e1\" y=\"29.512604\"/>\n     <use style=\"fill:#1f77b4;stroke:#1f77b4;\" x=\"134.492325\" xlink:href=\"#m3911a279e1\" y=\"41.779\"/>\n     <use style=\"fill:#1f77b4;stroke:#1f77b4;\" x=\"104.264439\" xlink:href=\"#m3911a279e1\" y=\"78.990114\"/>\n     <use style=\"fill:#1f77b4;stroke:#1f77b4;\" x=\"84.535053\" xlink:href=\"#m3911a279e1\" y=\"89.026669\"/>\n     <use style=\"fill:#1f77b4;stroke:#1f77b4;\" x=\"103.230944\" xlink:href=\"#m3911a279e1\" y=\"71.431288\"/>\n     <use style=\"fill:#1f77b4;stroke:#1f77b4;\" x=\"139.137334\" xlink:href=\"#m3911a279e1\" y=\"45.078336\"/>\n     <use style=\"fill:#1f77b4;stroke:#1f77b4;\" x=\"145.430289\" xlink:href=\"#m3911a279e1\" y=\"64.718956\"/>\n     <use style=\"fill:#1f77b4;stroke:#1f77b4;\" x=\"93.65152\" xlink:href=\"#m3911a279e1\" y=\"84.96823\"/>\n     <use style=\"fill:#1f77b4;stroke:#1f77b4;\" x=\"89.254129\" xlink:href=\"#m3911a279e1\" y=\"103.362387\"/>\n     <use style=\"fill:#1f77b4;stroke:#1f77b4;\" x=\"122.368508\" xlink:href=\"#m3911a279e1\" y=\"65.197765\"/>\n     <use style=\"fill:#1f77b4;stroke:#1f77b4;\" x=\"129.704216\" xlink:href=\"#m3911a279e1\" y=\"57.216887\"/>\n     <use style=\"fill:#1f77b4;stroke:#1f77b4;\" x=\"166.451749\" xlink:href=\"#m3911a279e1\" y=\"73.110291\"/>\n     <use style=\"fill:#1f77b4;stroke:#1f77b4;\" x=\"134.296313\" xlink:href=\"#m3911a279e1\" y=\"54.542842\"/>\n     <use style=\"fill:#1f77b4;stroke:#1f77b4;\" x=\"130.056971\" xlink:href=\"#m3911a279e1\" y=\"46.67989\"/>\n     <use style=\"fill:#1f77b4;stroke:#1f77b4;\" x=\"79.513671\" xlink:href=\"#m3911a279e1\" y=\"100.379151\"/>\n     <use style=\"fill:#1f77b4;stroke:#1f77b4;\" x=\"94.465612\" xlink:href=\"#m3911a279e1\" y=\"48.899418\"/>\n     <use style=\"fill:#1f77b4;stroke:#1f77b4;\" x=\"99.910784\" xlink:href=\"#m3911a279e1\" y=\"105.229557\"/>\n     <use style=\"fill:#1f77b4;stroke:#1f77b4;\" x=\"135.558533\" xlink:href=\"#m3911a279e1\" y=\"54.174684\"/>\n     <use style=\"fill:#1f77b4;stroke:#1f77b4;\" x=\"109.628127\" xlink:href=\"#m3911a279e1\" y=\"77.283348\"/>\n     <use style=\"fill:#1f77b4;stroke:#1f77b4;\" x=\"124.473255\" xlink:href=\"#m3911a279e1\" y=\"84.264239\"/>\n     <use style=\"fill:#1f77b4;stroke:#1f77b4;\" x=\"116.741411\" xlink:href=\"#m3911a279e1\" y=\"69.559783\"/>\n     <use style=\"fill:#1f77b4;stroke:#1f77b4;\" x=\"116.911339\" xlink:href=\"#m3911a279e1\" y=\"47.247481\"/>\n     <use style=\"fill:#1f77b4;stroke:#1f77b4;\" x=\"122.72033\" xlink:href=\"#m3911a279e1\" y=\"64.692479\"/>\n     <use style=\"fill:#1f77b4;stroke:#1f77b4;\" x=\"88.260397\" xlink:href=\"#m3911a279e1\" y=\"84.636112\"/>\n     <use style=\"fill:#1f77b4;stroke:#1f77b4;\" x=\"125.274789\" xlink:href=\"#m3911a279e1\" y=\"77.686187\"/>\n     <use style=\"fill:#1f77b4;stroke:#1f77b4;\" x=\"140.137126\" xlink:href=\"#m3911a279e1\" y=\"82.589935\"/>\n     <use style=\"fill:#1f77b4;stroke:#1f77b4;\" x=\"125.490243\" xlink:href=\"#m3911a279e1\" y=\"76.611219\"/>\n     <use style=\"fill:#1f77b4;stroke:#1f77b4;\" x=\"78.710971\" xlink:href=\"#m3911a279e1\" y=\"73.431162\"/>\n     <use style=\"fill:#1f77b4;stroke:#1f77b4;\" x=\"149.525034\" xlink:href=\"#m3911a279e1\" y=\"53.43669\"/>\n     <use style=\"fill:#1f77b4;stroke:#1f77b4;\" x=\"121.692195\" xlink:href=\"#m3911a279e1\" y=\"76.55217\"/>\n     <use style=\"fill:#1f77b4;stroke:#1f77b4;\" x=\"97.065347\" xlink:href=\"#m3911a279e1\" y=\"64.353459\"/>\n     <use style=\"fill:#1f77b4;stroke:#1f77b4;\" x=\"100.057672\" xlink:href=\"#m3911a279e1\" y=\"75.107517\"/>\n     <use style=\"fill:#1f77b4;stroke:#1f77b4;\" x=\"161.989916\" xlink:href=\"#m3911a279e1\" y=\"53.063342\"/>\n     <use style=\"fill:#1f77b4;stroke:#1f77b4;\" x=\"129.838788\" xlink:href=\"#m3911a279e1\" y=\"78.099414\"/>\n     <use style=\"fill:#1f77b4;stroke:#1f77b4;\" x=\"85.029682\" xlink:href=\"#m3911a279e1\" y=\"99.361966\"/>\n     <use style=\"fill:#1f77b4;stroke:#1f77b4;\" x=\"96.400116\" xlink:href=\"#m3911a279e1\" y=\"79.323266\"/>\n     <use style=\"fill:#1f77b4;stroke:#1f77b4;\" x=\"81.735855\" xlink:href=\"#m3911a279e1\" y=\"64.688944\"/>\n     <use style=\"fill:#1f77b4;stroke:#1f77b4;\" x=\"94.741412\" xlink:href=\"#m3911a279e1\" y=\"88.220107\"/>\n     <use style=\"fill:#1f77b4;stroke:#1f77b4;\" x=\"76.901893\" xlink:href=\"#m3911a279e1\" y=\"68.16304\"/>\n     <use style=\"fill:#1f77b4;stroke:#1f77b4;\" x=\"116.58048\" xlink:href=\"#m3911a279e1\" y=\"81.142996\"/>\n     <use style=\"fill:#1f77b4;stroke:#1f77b4;\" x=\"135.643848\" xlink:href=\"#m3911a279e1\" y=\"53.908634\"/>\n     <use style=\"fill:#1f77b4;stroke:#1f77b4;\" x=\"103.838711\" xlink:href=\"#m3911a279e1\" y=\"104.358701\"/>\n     <use style=\"fill:#1f77b4;stroke:#1f77b4;\" x=\"134.702014\" xlink:href=\"#m3911a279e1\" y=\"72.127876\"/>\n     <use style=\"fill:#1f77b4;stroke:#1f77b4;\" x=\"118.267139\" xlink:href=\"#m3911a279e1\" y=\"87.610732\"/>\n     <use style=\"fill:#1f77b4;stroke:#1f77b4;\" x=\"108.563274\" xlink:href=\"#m3911a279e1\" y=\"95.46497\"/>\n     <use style=\"fill:#1f77b4;stroke:#1f77b4;\" x=\"108.903322\" xlink:href=\"#m3911a279e1\" y=\"103.152665\"/>\n     <use style=\"fill:#1f77b4;stroke:#1f77b4;\" x=\"86.735148\" xlink:href=\"#m3911a279e1\" y=\"56.890809\"/>\n     <use style=\"fill:#1f77b4;stroke:#1f77b4;\" x=\"141.638913\" xlink:href=\"#m3911a279e1\" y=\"89.709185\"/>\n     <use style=\"fill:#1f77b4;stroke:#1f77b4;\" x=\"142.873821\" xlink:href=\"#m3911a279e1\" y=\"64.847436\"/>\n     <use style=\"fill:#1f77b4;stroke:#1f77b4;\" x=\"125.25528\" xlink:href=\"#m3911a279e1\" y=\"84.132415\"/>\n     <use style=\"fill:#1f77b4;stroke:#1f77b4;\" x=\"79.496886\" xlink:href=\"#m3911a279e1\" y=\"87.776248\"/>\n     <use style=\"fill:#1f77b4;stroke:#1f77b4;\" x=\"82.125518\" xlink:href=\"#m3911a279e1\" y=\"101.62262\"/>\n     <use style=\"fill:#1f77b4;stroke:#1f77b4;\" x=\"129.55059\" xlink:href=\"#m3911a279e1\" y=\"74.923777\"/>\n     <use style=\"fill:#1f77b4;stroke:#1f77b4;\" x=\"115.494629\" xlink:href=\"#m3911a279e1\" y=\"89.14598\"/>\n     <use style=\"fill:#1f77b4;stroke:#1f77b4;\" x=\"141.762043\" xlink:href=\"#m3911a279e1\" y=\"75.348758\"/>\n     <use style=\"fill:#1f77b4;stroke:#1f77b4;\" x=\"107.684577\" xlink:href=\"#m3911a279e1\" y=\"75.501444\"/>\n     <use style=\"fill:#1f77b4;stroke:#1f77b4;\" x=\"140.095241\" xlink:href=\"#m3911a279e1\" y=\"59.244635\"/>\n     <use style=\"fill:#1f77b4;stroke:#1f77b4;\" x=\"110.165788\" xlink:href=\"#m3911a279e1\" y=\"69.454261\"/>\n     <use style=\"fill:#1f77b4;stroke:#1f77b4;\" x=\"112.785427\" xlink:href=\"#m3911a279e1\" y=\"28.917489\"/>\n     <use style=\"fill:#1f77b4;stroke:#1f77b4;\" x=\"85.71758\" xlink:href=\"#m3911a279e1\" y=\"71.67984\"/>\n     <use style=\"fill:#1f77b4;stroke:#1f77b4;\" x=\"73.655383\" xlink:href=\"#m3911a279e1\" y=\"101.45591\"/>\n     <use style=\"fill:#1f77b4;stroke:#1f77b4;\" x=\"87.530184\" xlink:href=\"#m3911a279e1\" y=\"81.838737\"/>\n     <use style=\"fill:#1f77b4;stroke:#1f77b4;\" x=\"111.915203\" xlink:href=\"#m3911a279e1\" y=\"59.895551\"/>\n     <use style=\"fill:#1f77b4;stroke:#1f77b4;\" x=\"116.642829\" xlink:href=\"#m3911a279e1\" y=\"93.117661\"/>\n     <use style=\"fill:#1f77b4;stroke:#1f77b4;\" x=\"109.917055\" xlink:href=\"#m3911a279e1\" y=\"80.693852\"/>\n     <use style=\"fill:#1f77b4;stroke:#1f77b4;\" x=\"78.3353\" xlink:href=\"#m3911a279e1\" y=\"82.025207\"/>\n     <use style=\"fill:#1f77b4;stroke:#1f77b4;\" x=\"118.866964\" xlink:href=\"#m3911a279e1\" y=\"80.952853\"/>\n     <use style=\"fill:#1f77b4;stroke:#1f77b4;\" x=\"98.347457\" xlink:href=\"#m3911a279e1\" y=\"88.238424\"/>\n     <use style=\"fill:#1f77b4;stroke:#1f77b4;\" x=\"129.394733\" xlink:href=\"#m3911a279e1\" y=\"61.817919\"/>\n     <use style=\"fill:#1f77b4;stroke:#1f77b4;\" x=\"128.425438\" xlink:href=\"#m3911a279e1\" y=\"105.312601\"/>\n     <use style=\"fill:#1f77b4;stroke:#1f77b4;\" x=\"125.009977\" xlink:href=\"#m3911a279e1\" y=\"54.263676\"/>\n     <use style=\"fill:#1f77b4;stroke:#1f77b4;\" x=\"83.207699\" xlink:href=\"#m3911a279e1\" y=\"77.042802\"/>\n     <use style=\"fill:#1f77b4;stroke:#1f77b4;\" x=\"144.94179\" xlink:href=\"#m3911a279e1\" y=\"56.261337\"/>\n     <use style=\"fill:#1f77b4;stroke:#1f77b4;\" x=\"123.961973\" xlink:href=\"#m3911a279e1\" y=\"73.580689\"/>\n     <use style=\"fill:#1f77b4;stroke:#1f77b4;\" x=\"118.861036\" xlink:href=\"#m3911a279e1\" y=\"71.82034\"/>\n     <use style=\"fill:#1f77b4;stroke:#1f77b4;\" x=\"101.683193\" xlink:href=\"#m3911a279e1\" y=\"71.692834\"/>\n     <use style=\"fill:#1f77b4;stroke:#1f77b4;\" x=\"140.871059\" xlink:href=\"#m3911a279e1\" y=\"56.327428\"/>\n     <use style=\"fill:#1f77b4;stroke:#1f77b4;\" x=\"133.547551\" xlink:href=\"#m3911a279e1\" y=\"79.063651\"/>\n     <use style=\"fill:#1f77b4;stroke:#1f77b4;\" x=\"105.822546\" xlink:href=\"#m3911a279e1\" y=\"65.424389\"/>\n     <use style=\"fill:#1f77b4;stroke:#1f77b4;\" x=\"142.463663\" xlink:href=\"#m3911a279e1\" y=\"68.700672\"/>\n     <use style=\"fill:#1f77b4;stroke:#1f77b4;\" x=\"85.727869\" xlink:href=\"#m3911a279e1\" y=\"91.62286\"/>\n     <use style=\"fill:#1f77b4;stroke:#1f77b4;\" x=\"118.976729\" xlink:href=\"#m3911a279e1\" y=\"80.720675\"/>\n     <use style=\"fill:#1f77b4;stroke:#1f77b4;\" x=\"78.098583\" xlink:href=\"#m3911a279e1\" y=\"85.488486\"/>\n     <use style=\"fill:#1f77b4;stroke:#1f77b4;\" x=\"90.111275\" xlink:href=\"#m3911a279e1\" y=\"80.110857\"/>\n     <use style=\"fill:#1f77b4;stroke:#1f77b4;\" x=\"130.259871\" xlink:href=\"#m3911a279e1\" y=\"91.522231\"/>\n     <use style=\"fill:#1f77b4;stroke:#1f77b4;\" x=\"127.067489\" xlink:href=\"#m3911a279e1\" y=\"76.776974\"/>\n     <use style=\"fill:#1f77b4;stroke:#1f77b4;\" x=\"169.171129\" xlink:href=\"#m3911a279e1\" y=\"67.837061\"/>\n     <use style=\"fill:#1f77b4;stroke:#1f77b4;\" x=\"149.414268\" xlink:href=\"#m3911a279e1\" y=\"75.411047\"/>\n     <use style=\"fill:#1f77b4;stroke:#1f77b4;\" x=\"111.035658\" xlink:href=\"#m3911a279e1\" y=\"61.431081\"/>\n     <use style=\"fill:#1f77b4;stroke:#1f77b4;\" x=\"147.107703\" xlink:href=\"#m3911a279e1\" y=\"59.588678\"/>\n     <use style=\"fill:#1f77b4;stroke:#1f77b4;\" x=\"131.534572\" xlink:href=\"#m3911a279e1\" y=\"56.837497\"/>\n     <use style=\"fill:#1f77b4;stroke:#1f77b4;\" x=\"112.470535\" xlink:href=\"#m3911a279e1\" y=\"64.702646\"/>\n     <use style=\"fill:#1f77b4;stroke:#1f77b4;\" x=\"117.847792\" xlink:href=\"#m3911a279e1\" y=\"62.940969\"/>\n     <use style=\"fill:#1f77b4;stroke:#1f77b4;\" x=\"139.30856\" xlink:href=\"#m3911a279e1\" y=\"90.053607\"/>\n     <use style=\"fill:#1f77b4;stroke:#1f77b4;\" x=\"137.532491\" xlink:href=\"#m3911a279e1\" y=\"44.410743\"/>\n     <use style=\"fill:#1f77b4;stroke:#1f77b4;\" x=\"139.647833\" xlink:href=\"#m3911a279e1\" y=\"66.155526\"/>\n     <use style=\"fill:#1f77b4;stroke:#1f77b4;\" x=\"138.759753\" xlink:href=\"#m3911a279e1\" y=\"46.208858\"/>\n     <use style=\"fill:#1f77b4;stroke:#1f77b4;\" x=\"89.400842\" xlink:href=\"#m3911a279e1\" y=\"78.750573\"/>\n     <use style=\"fill:#1f77b4;stroke:#1f77b4;\" x=\"135.649725\" xlink:href=\"#m3911a279e1\" y=\"57.776297\"/>\n     <use style=\"fill:#1f77b4;stroke:#1f77b4;\" x=\"123.454299\" xlink:href=\"#m3911a279e1\" y=\"60.291676\"/>\n     <use style=\"fill:#1f77b4;stroke:#1f77b4;\" x=\"101.649905\" xlink:href=\"#m3911a279e1\" y=\"68.925611\"/>\n     <use style=\"fill:#1f77b4;stroke:#1f77b4;\" x=\"131.517543\" xlink:href=\"#m3911a279e1\" y=\"97.153387\"/>\n     <use style=\"fill:#1f77b4;stroke:#1f77b4;\" x=\"130.692871\" xlink:href=\"#m3911a279e1\" y=\"80.283008\"/>\n     <use style=\"fill:#1f77b4;stroke:#1f77b4;\" x=\"113.496778\" xlink:href=\"#m3911a279e1\" y=\"50.402536\"/>\n     <use style=\"fill:#1f77b4;stroke:#1f77b4;\" x=\"117.600236\" xlink:href=\"#m3911a279e1\" y=\"68.471752\"/>\n     <use style=\"fill:#1f77b4;stroke:#1f77b4;\" x=\"124.200176\" xlink:href=\"#m3911a279e1\" y=\"55.875691\"/>\n     <use style=\"fill:#1f77b4;stroke:#1f77b4;\" x=\"122.644722\" xlink:href=\"#m3911a279e1\" y=\"70.065949\"/>\n     <use style=\"fill:#1f77b4;stroke:#1f77b4;\" x=\"126.954178\" xlink:href=\"#m3911a279e1\" y=\"66.703581\"/>\n     <use style=\"fill:#1f77b4;stroke:#1f77b4;\" x=\"90.224985\" xlink:href=\"#m3911a279e1\" y=\"136.922727\"/>\n     <use style=\"fill:#1f77b4;stroke:#1f77b4;\" x=\"131.218031\" xlink:href=\"#m3911a279e1\" y=\"73.930735\"/>\n     <use style=\"fill:#1f77b4;stroke:#1f77b4;\" x=\"119.894609\" xlink:href=\"#m3911a279e1\" y=\"74.805131\"/>\n     <use style=\"fill:#1f77b4;stroke:#1f77b4;\" x=\"92.758046\" xlink:href=\"#m3911a279e1\" y=\"67.620987\"/>\n     <use style=\"fill:#1f77b4;stroke:#1f77b4;\" x=\"138.240577\" xlink:href=\"#m3911a279e1\" y=\"46.419338\"/>\n     <use style=\"fill:#1f77b4;stroke:#1f77b4;\" x=\"126.511117\" xlink:href=\"#m3911a279e1\" y=\"58.030496\"/>\n     <use style=\"fill:#1f77b4;stroke:#1f77b4;\" x=\"128.261593\" xlink:href=\"#m3911a279e1\" y=\"82.190702\"/>\n     <use style=\"fill:#1f77b4;stroke:#1f77b4;\" x=\"120.041454\" xlink:href=\"#m3911a279e1\" y=\"58.88963\"/>\n     <use style=\"fill:#1f77b4;stroke:#1f77b4;\" x=\"78.437802\" xlink:href=\"#m3911a279e1\" y=\"94.643174\"/>\n     <use style=\"fill:#1f77b4;stroke:#1f77b4;\" x=\"152.435306\" xlink:href=\"#m3911a279e1\" y=\"63.920038\"/>\n     <use style=\"fill:#1f77b4;stroke:#1f77b4;\" x=\"144.701953\" xlink:href=\"#m3911a279e1\" y=\"48.8867\"/>\n     <use style=\"fill:#1f77b4;stroke:#1f77b4;\" x=\"112.41912\" xlink:href=\"#m3911a279e1\" y=\"93.890469\"/>\n     <use style=\"fill:#1f77b4;stroke:#1f77b4;\" x=\"115.133217\" xlink:href=\"#m3911a279e1\" y=\"50.738168\"/>\n     <use style=\"fill:#1f77b4;stroke:#1f77b4;\" x=\"125.954933\" xlink:href=\"#m3911a279e1\" y=\"46.181094\"/>\n     <use style=\"fill:#1f77b4;stroke:#1f77b4;\" x=\"122.376319\" xlink:href=\"#m3911a279e1\" y=\"78.629101\"/>\n     <use style=\"fill:#1f77b4;stroke:#1f77b4;\" x=\"109.008558\" xlink:href=\"#m3911a279e1\" y=\"66.788871\"/>\n     <use style=\"fill:#1f77b4;stroke:#1f77b4;\" x=\"126.783569\" xlink:href=\"#m3911a279e1\" y=\"53.795094\"/>\n     <use style=\"fill:#1f77b4;stroke:#1f77b4;\" x=\"135.167868\" xlink:href=\"#m3911a279e1\" y=\"58.313536\"/>\n     <use style=\"fill:#1f77b4;stroke:#1f77b4;\" x=\"117.670911\" xlink:href=\"#m3911a279e1\" y=\"71.737512\"/>\n     <use style=\"fill:#1f77b4;stroke:#1f77b4;\" x=\"175.277505\" xlink:href=\"#m3911a279e1\" y=\"40.956338\"/>\n     <use style=\"fill:#1f77b4;stroke:#1f77b4;\" x=\"110.695814\" xlink:href=\"#m3911a279e1\" y=\"80.693639\"/>\n     <use style=\"fill:#1f77b4;stroke:#1f77b4;\" x=\"93.673361\" xlink:href=\"#m3911a279e1\" y=\"87.684928\"/>\n     <use style=\"fill:#1f77b4;stroke:#1f77b4;\" x=\"119.775433\" xlink:href=\"#m3911a279e1\" y=\"69.40003\"/>\n     <use style=\"fill:#1f77b4;stroke:#1f77b4;\" x=\"132.988444\" xlink:href=\"#m3911a279e1\" y=\"75.488161\"/>\n     <use style=\"fill:#1f77b4;stroke:#1f77b4;\" x=\"122.478603\" xlink:href=\"#m3911a279e1\" y=\"85.884209\"/>\n     <use style=\"fill:#1f77b4;stroke:#1f77b4;\" x=\"105.08844\" xlink:href=\"#m3911a279e1\" y=\"101.177254\"/>\n     <use style=\"fill:#1f77b4;stroke:#1f77b4;\" x=\"130.00127\" xlink:href=\"#m3911a279e1\" y=\"65.15779\"/>\n     <use style=\"fill:#1f77b4;stroke:#1f77b4;\" x=\"140.333074\" xlink:href=\"#m3911a279e1\" y=\"34.601175\"/>\n     <use style=\"fill:#1f77b4;stroke:#1f77b4;\" x=\"122.047036\" xlink:href=\"#m3911a279e1\" y=\"92.980261\"/>\n     <use style=\"fill:#1f77b4;stroke:#1f77b4;\" x=\"101.180323\" xlink:href=\"#m3911a279e1\" y=\"91.172402\"/>\n     <use style=\"fill:#1f77b4;stroke:#1f77b4;\" x=\"134.832022\" xlink:href=\"#m3911a279e1\" y=\"64.521645\"/>\n     <use style=\"fill:#1f77b4;stroke:#1f77b4;\" x=\"135.575218\" xlink:href=\"#m3911a279e1\" y=\"63.642723\"/>\n     <use style=\"fill:#1f77b4;stroke:#1f77b4;\" x=\"79.856969\" xlink:href=\"#m3911a279e1\" y=\"89.107244\"/>\n     <use style=\"fill:#1f77b4;stroke:#1f77b4;\" x=\"85.006835\" xlink:href=\"#m3911a279e1\" y=\"106.675695\"/>\n     <use style=\"fill:#1f77b4;stroke:#1f77b4;\" x=\"108.32395\" xlink:href=\"#m3911a279e1\" y=\"62.271346\"/>\n     <use style=\"fill:#1f77b4;stroke:#1f77b4;\" x=\"145.377686\" xlink:href=\"#m3911a279e1\" y=\"76.137783\"/>\n     <use style=\"fill:#1f77b4;stroke:#1f77b4;\" x=\"140.670644\" xlink:href=\"#m3911a279e1\" y=\"70.104621\"/>\n     <use style=\"fill:#1f77b4;stroke:#1f77b4;\" x=\"96.168328\" xlink:href=\"#m3911a279e1\" y=\"83.823141\"/>\n     <use style=\"fill:#1f77b4;stroke:#1f77b4;\" x=\"110.99122\" xlink:href=\"#m3911a279e1\" y=\"51.76154\"/>\n     <use style=\"fill:#1f77b4;stroke:#1f77b4;\" x=\"134.128555\" xlink:href=\"#m3911a279e1\" y=\"44.932987\"/>\n     <use style=\"fill:#1f77b4;stroke:#1f77b4;\" x=\"97.318898\" xlink:href=\"#m3911a279e1\" y=\"85.518721\"/>\n     <use style=\"fill:#1f77b4;stroke:#1f77b4;\" x=\"150.825912\" xlink:href=\"#m3911a279e1\" y=\"41.401661\"/>\n     <use style=\"fill:#1f77b4;stroke:#1f77b4;\" x=\"115.435752\" xlink:href=\"#m3911a279e1\" y=\"89.373321\"/>\n     <use style=\"fill:#1f77b4;stroke:#1f77b4;\" x=\"127.872493\" xlink:href=\"#m3911a279e1\" y=\"60.204611\"/>\n     <use style=\"fill:#1f77b4;stroke:#1f77b4;\" x=\"141.672994\" xlink:href=\"#m3911a279e1\" y=\"54.98497\"/>\n     <use style=\"fill:#1f77b4;stroke:#1f77b4;\" x=\"125.934582\" xlink:href=\"#m3911a279e1\" y=\"85.073636\"/>\n     <use style=\"fill:#1f77b4;stroke:#1f77b4;\" x=\"109.924622\" xlink:href=\"#m3911a279e1\" y=\"105.168007\"/>\n     <use style=\"fill:#1f77b4;stroke:#1f77b4;\" x=\"142.795458\" xlink:href=\"#m3911a279e1\" y=\"42.281691\"/>\n     <use style=\"fill:#1f77b4;stroke:#1f77b4;\" x=\"113.859972\" xlink:href=\"#m3911a279e1\" y=\"65.807565\"/>\n     <use style=\"fill:#1f77b4;stroke:#1f77b4;\" x=\"113.071616\" xlink:href=\"#m3911a279e1\" y=\"105.368443\"/>\n     <use style=\"fill:#1f77b4;stroke:#1f77b4;\" x=\"125.985487\" xlink:href=\"#m3911a279e1\" y=\"64.260379\"/>\n     <use style=\"fill:#1f77b4;stroke:#1f77b4;\" x=\"110.585876\" xlink:href=\"#m3911a279e1\" y=\"91.849494\"/>\n     <use style=\"fill:#1f77b4;stroke:#1f77b4;\" x=\"126.229447\" xlink:href=\"#m3911a279e1\" y=\"65.237969\"/>\n     <use style=\"fill:#1f77b4;stroke:#1f77b4;\" x=\"140.451415\" xlink:href=\"#m3911a279e1\" y=\"28.390007\"/>\n     <use style=\"fill:#1f77b4;stroke:#1f77b4;\" x=\"105.118129\" xlink:href=\"#m3911a279e1\" y=\"46.633705\"/>\n     <use style=\"fill:#1f77b4;stroke:#1f77b4;\" x=\"128.203781\" xlink:href=\"#m3911a279e1\" y=\"60.772057\"/>\n     <use style=\"fill:#1f77b4;stroke:#1f77b4;\" x=\"107.83828\" xlink:href=\"#m3911a279e1\" y=\"78.89233\"/>\n     <use style=\"fill:#1f77b4;stroke:#1f77b4;\" x=\"84.918864\" xlink:href=\"#m3911a279e1\" y=\"110.748966\"/>\n     <use style=\"fill:#1f77b4;stroke:#1f77b4;\" x=\"101.472537\" xlink:href=\"#m3911a279e1\" y=\"67.533653\"/>\n     <use style=\"fill:#1f77b4;stroke:#1f77b4;\" x=\"133.351229\" xlink:href=\"#m3911a279e1\" y=\"51.042191\"/>\n     <use style=\"fill:#1f77b4;stroke:#1f77b4;\" x=\"126.669296\" xlink:href=\"#m3911a279e1\" y=\"46.583484\"/>\n     <use style=\"fill:#1f77b4;stroke:#1f77b4;\" x=\"122.964706\" xlink:href=\"#m3911a279e1\" y=\"65.698568\"/>\n     <use style=\"fill:#1f77b4;stroke:#1f77b4;\" x=\"110.779454\" xlink:href=\"#m3911a279e1\" y=\"69.451576\"/>\n     <use style=\"fill:#1f77b4;stroke:#1f77b4;\" x=\"96.74622\" xlink:href=\"#m3911a279e1\" y=\"91.711289\"/>\n     <use style=\"fill:#1f77b4;stroke:#1f77b4;\" x=\"115.637256\" xlink:href=\"#m3911a279e1\" y=\"98.562071\"/>\n     <use style=\"fill:#1f77b4;stroke:#1f77b4;\" x=\"85.70322\" xlink:href=\"#m3911a279e1\" y=\"76.733795\"/>\n     <use style=\"fill:#1f77b4;stroke:#1f77b4;\" x=\"130.924994\" xlink:href=\"#m3911a279e1\" y=\"74.568545\"/>\n     <use style=\"fill:#1f77b4;stroke:#1f77b4;\" x=\"125.992898\" xlink:href=\"#m3911a279e1\" y=\"69.595733\"/>\n     <use style=\"fill:#1f77b4;stroke:#1f77b4;\" x=\"91.858637\" xlink:href=\"#m3911a279e1\" y=\"93.948059\"/>\n     <use style=\"fill:#1f77b4;stroke:#1f77b4;\" x=\"152.972888\" xlink:href=\"#m3911a279e1\" y=\"51.853925\"/>\n     <use style=\"fill:#1f77b4;stroke:#1f77b4;\" x=\"127.217036\" xlink:href=\"#m3911a279e1\" y=\"69.912936\"/>\n     <use style=\"fill:#1f77b4;stroke:#1f77b4;\" x=\"125.931464\" xlink:href=\"#m3911a279e1\" y=\"69.559172\"/>\n     <use style=\"fill:#1f77b4;stroke:#1f77b4;\" x=\"72.930286\" xlink:href=\"#m3911a279e1\" y=\"102.788476\"/>\n     <use style=\"fill:#1f77b4;stroke:#1f77b4;\" x=\"91.254259\" xlink:href=\"#m3911a279e1\" y=\"60.999958\"/>\n     <use style=\"fill:#1f77b4;stroke:#1f77b4;\" x=\"128.16102\" xlink:href=\"#m3911a279e1\" y=\"61.788976\"/>\n     <use style=\"fill:#1f77b4;stroke:#1f77b4;\" x=\"136.886097\" xlink:href=\"#m3911a279e1\" y=\"30.458324\"/>\n     <use style=\"fill:#1f77b4;stroke:#1f77b4;\" x=\"92.250945\" xlink:href=\"#m3911a279e1\" y=\"89.883901\"/>\n     <use style=\"fill:#1f77b4;stroke:#1f77b4;\" x=\"110.794484\" xlink:href=\"#m3911a279e1\" y=\"53.306096\"/>\n     <use style=\"fill:#1f77b4;stroke:#1f77b4;\" x=\"126.442049\" xlink:href=\"#m3911a279e1\" y=\"63.66329\"/>\n     <use style=\"fill:#1f77b4;stroke:#1f77b4;\" x=\"94.528948\" xlink:href=\"#m3911a279e1\" y=\"72.910061\"/>\n     <use style=\"fill:#1f77b4;stroke:#1f77b4;\" x=\"154.210308\" xlink:href=\"#m3911a279e1\" y=\"62.092282\"/>\n     <use style=\"fill:#1f77b4;stroke:#1f77b4;\" x=\"123.098577\" xlink:href=\"#m3911a279e1\" y=\"86.36646\"/>\n     <use style=\"fill:#1f77b4;stroke:#1f77b4;\" x=\"118.536581\" xlink:href=\"#m3911a279e1\" y=\"74.339427\"/>\n     <use style=\"fill:#1f77b4;stroke:#1f77b4;\" x=\"155.435889\" xlink:href=\"#m3911a279e1\" y=\"73.38976\"/>\n     <use style=\"fill:#1f77b4;stroke:#1f77b4;\" x=\"129.159606\" xlink:href=\"#m3911a279e1\" y=\"89.798565\"/>\n     <use style=\"fill:#1f77b4;stroke:#1f77b4;\" x=\"97.436727\" xlink:href=\"#m3911a279e1\" y=\"63.48768\"/>\n     <use style=\"fill:#1f77b4;stroke:#1f77b4;\" x=\"83.395003\" xlink:href=\"#m3911a279e1\" y=\"47.185063\"/>\n     <use style=\"fill:#1f77b4;stroke:#1f77b4;\" x=\"83.158108\" xlink:href=\"#m3911a279e1\" y=\"76.379695\"/>\n     <use style=\"fill:#1f77b4;stroke:#1f77b4;\" x=\"92.863123\" xlink:href=\"#m3911a279e1\" y=\"71.450147\"/>\n     <use style=\"fill:#1f77b4;stroke:#1f77b4;\" x=\"109.385628\" xlink:href=\"#m3911a279e1\" y=\"72.94076\"/>\n     <use style=\"fill:#1f77b4;stroke:#1f77b4;\" x=\"74.501367\" xlink:href=\"#m3911a279e1\" y=\"124.950927\"/>\n     <use style=\"fill:#1f77b4;stroke:#1f77b4;\" x=\"90.362021\" xlink:href=\"#m3911a279e1\" y=\"36.935384\"/>\n     <use style=\"fill:#1f77b4;stroke:#1f77b4;\" x=\"131.876227\" xlink:href=\"#m3911a279e1\" y=\"70.628367\"/>\n     <use style=\"fill:#1f77b4;stroke:#1f77b4;\" x=\"135.03686\" xlink:href=\"#m3911a279e1\" y=\"77.777757\"/>\n     <use style=\"fill:#1f77b4;stroke:#1f77b4;\" x=\"102.275224\" xlink:href=\"#m3911a279e1\" y=\"71.985771\"/>\n     <use style=\"fill:#1f77b4;stroke:#1f77b4;\" x=\"122.042483\" xlink:href=\"#m3911a279e1\" y=\"74.215998\"/>\n     <use style=\"fill:#1f77b4;stroke:#1f77b4;\" x=\"112.894789\" xlink:href=\"#m3911a279e1\" y=\"63.111298\"/>\n     <use style=\"fill:#1f77b4;stroke:#1f77b4;\" x=\"126.851725\" xlink:href=\"#m3911a279e1\" y=\"82.835197\"/>\n     <use style=\"fill:#1f77b4;stroke:#1f77b4;\" x=\"139.675618\" xlink:href=\"#m3911a279e1\" y=\"80.430089\"/>\n     <use style=\"fill:#1f77b4;stroke:#1f77b4;\" x=\"166.139797\" xlink:href=\"#m3911a279e1\" y=\"62.683858\"/>\n     <use style=\"fill:#1f77b4;stroke:#1f77b4;\" x=\"165.895972\" xlink:href=\"#m3911a279e1\" y=\"56.182777\"/>\n     <use style=\"fill:#1f77b4;stroke:#1f77b4;\" x=\"122.803295\" xlink:href=\"#m3911a279e1\" y=\"60.690172\"/>\n     <use style=\"fill:#1f77b4;stroke:#1f77b4;\" x=\"89.72133\" xlink:href=\"#m3911a279e1\" y=\"76.728951\"/>\n     <use style=\"fill:#1f77b4;stroke:#1f77b4;\" x=\"99.135436\" xlink:href=\"#m3911a279e1\" y=\"77.948087\"/>\n     <use style=\"fill:#1f77b4;stroke:#1f77b4;\" x=\"105.941464\" xlink:href=\"#m3911a279e1\" y=\"64.023823\"/>\n     <use style=\"fill:#1f77b4;stroke:#1f77b4;\" x=\"129.425898\" xlink:href=\"#m3911a279e1\" y=\"84.772975\"/>\n     <use style=\"fill:#1f77b4;stroke:#1f77b4;\" x=\"142.402186\" xlink:href=\"#m3911a279e1\" y=\"43.709956\"/>\n     <use style=\"fill:#1f77b4;stroke:#1f77b4;\" x=\"95.069099\" xlink:href=\"#m3911a279e1\" y=\"75.182753\"/>\n     <use style=\"fill:#1f77b4;stroke:#1f77b4;\" x=\"115.356896\" xlink:href=\"#m3911a279e1\" y=\"79.868273\"/>\n     <use style=\"fill:#1f77b4;stroke:#1f77b4;\" x=\"87.436195\" xlink:href=\"#m3911a279e1\" y=\"79.878095\"/>\n     <use style=\"fill:#1f77b4;stroke:#1f77b4;\" x=\"147.93966\" xlink:href=\"#m3911a279e1\" y=\"68.217294\"/>\n     <use style=\"fill:#1f77b4;stroke:#1f77b4;\" x=\"140.028358\" xlink:href=\"#m3911a279e1\" y=\"38.197443\"/>\n     <use style=\"fill:#1f77b4;stroke:#1f77b4;\" x=\"122.990422\" xlink:href=\"#m3911a279e1\" y=\"42.228804\"/>\n     <use style=\"fill:#1f77b4;stroke:#1f77b4;\" x=\"130.058076\" xlink:href=\"#m3911a279e1\" y=\"66.545536\"/>\n     <use style=\"fill:#1f77b4;stroke:#1f77b4;\" x=\"113.182162\" xlink:href=\"#m3911a279e1\" y=\"87.782199\"/>\n     <use style=\"fill:#1f77b4;stroke:#1f77b4;\" x=\"108.101718\" xlink:href=\"#m3911a279e1\" y=\"73.768501\"/>\n     <use style=\"fill:#1f77b4;stroke:#1f77b4;\" x=\"81.980107\" xlink:href=\"#m3911a279e1\" y=\"97.500997\"/>\n     <use style=\"fill:#1f77b4;stroke:#1f77b4;\" x=\"130.408704\" xlink:href=\"#m3911a279e1\" y=\"57.304701\"/>\n     <use style=\"fill:#1f77b4;stroke:#1f77b4;\" x=\"83.352847\" xlink:href=\"#m3911a279e1\" y=\"86.431483\"/>\n     <use style=\"fill:#1f77b4;stroke:#1f77b4;\" x=\"129.951983\" xlink:href=\"#m3911a279e1\" y=\"57.925925\"/>\n     <use style=\"fill:#1f77b4;stroke:#1f77b4;\" x=\"150.104904\" xlink:href=\"#m3911a279e1\" y=\"60.065791\"/>\n     <use style=\"fill:#1f77b4;stroke:#1f77b4;\" x=\"128.834171\" xlink:href=\"#m3911a279e1\" y=\"95.04145\"/>\n     <use style=\"fill:#1f77b4;stroke:#1f77b4;\" x=\"113.201038\" xlink:href=\"#m3911a279e1\" y=\"71.913788\"/>\n     <use style=\"fill:#1f77b4;stroke:#1f77b4;\" x=\"127.80239\" xlink:href=\"#m3911a279e1\" y=\"41.526342\"/>\n     <use style=\"fill:#1f77b4;stroke:#1f77b4;\" x=\"166.707047\" xlink:href=\"#m3911a279e1\" y=\"28.986596\"/>\n     <use style=\"fill:#1f77b4;stroke:#1f77b4;\" x=\"101.927246\" xlink:href=\"#m3911a279e1\" y=\"70.052234\"/>\n     <use style=\"fill:#1f77b4;stroke:#1f77b4;\" x=\"121.491261\" xlink:href=\"#m3911a279e1\" y=\"80.991965\"/>\n     <use style=\"fill:#1f77b4;stroke:#1f77b4;\" x=\"86.563815\" xlink:href=\"#m3911a279e1\" y=\"95.620663\"/>\n     <use style=\"fill:#1f77b4;stroke:#1f77b4;\" x=\"84.145098\" xlink:href=\"#m3911a279e1\" y=\"104.176945\"/>\n     <use style=\"fill:#1f77b4;stroke:#1f77b4;\" x=\"130.065312\" xlink:href=\"#m3911a279e1\" y=\"39.798074\"/>\n     <use style=\"fill:#1f77b4;stroke:#1f77b4;\" x=\"130.766001\" xlink:href=\"#m3911a279e1\" y=\"54.088322\"/>\n     <use style=\"fill:#1f77b4;stroke:#1f77b4;\" x=\"111.163086\" xlink:href=\"#m3911a279e1\" y=\"80.67532\"/>\n     <use style=\"fill:#1f77b4;stroke:#1f77b4;\" x=\"119.87901\" xlink:href=\"#m3911a279e1\" y=\"58.263139\"/>\n     <use style=\"fill:#1f77b4;stroke:#1f77b4;\" x=\"115.228446\" xlink:href=\"#m3911a279e1\" y=\"73.723079\"/>\n     <use style=\"fill:#1f77b4;stroke:#1f77b4;\" x=\"160.438207\" xlink:href=\"#m3911a279e1\" y=\"79.278982\"/>\n     <use style=\"fill:#1f77b4;stroke:#1f77b4;\" x=\"103.062935\" xlink:href=\"#m3911a279e1\" y=\"89.207542\"/>\n     <use style=\"fill:#1f77b4;stroke:#1f77b4;\" x=\"106.303676\" xlink:href=\"#m3911a279e1\" y=\"82.634667\"/>\n     <use style=\"fill:#1f77b4;stroke:#1f77b4;\" x=\"134.980903\" xlink:href=\"#m3911a279e1\" y=\"74.454738\"/>\n     <use style=\"fill:#1f77b4;stroke:#1f77b4;\" x=\"133.34668\" xlink:href=\"#m3911a279e1\" y=\"40.617801\"/>\n     <use style=\"fill:#1f77b4;stroke:#1f77b4;\" x=\"106.207045\" xlink:href=\"#m3911a279e1\" y=\"91.547601\"/>\n     <use style=\"fill:#1f77b4;stroke:#1f77b4;\" x=\"113.778998\" xlink:href=\"#m3911a279e1\" y=\"64.063006\"/>\n     <use style=\"fill:#1f77b4;stroke:#1f77b4;\" x=\"110.186112\" xlink:href=\"#m3911a279e1\" y=\"71.572287\"/>\n     <use style=\"fill:#1f77b4;stroke:#1f77b4;\" x=\"131.313538\" xlink:href=\"#m3911a279e1\" y=\"46.919645\"/>\n     <use style=\"fill:#1f77b4;stroke:#1f77b4;\" x=\"128.18432\" xlink:href=\"#m3911a279e1\" y=\"54.784358\"/>\n     <use style=\"fill:#1f77b4;stroke:#1f77b4;\" x=\"127.617668\" xlink:href=\"#m3911a279e1\" y=\"89.472698\"/>\n     <use style=\"fill:#1f77b4;stroke:#1f77b4;\" x=\"109.851423\" xlink:href=\"#m3911a279e1\" y=\"77.232987\"/>\n     <use style=\"fill:#1f77b4;stroke:#1f77b4;\" x=\"111.207738\" xlink:href=\"#m3911a279e1\" y=\"91.108723\"/>\n     <use style=\"fill:#1f77b4;stroke:#1f77b4;\" x=\"143.007539\" xlink:href=\"#m3911a279e1\" y=\"74.090428\"/>\n     <use style=\"fill:#1f77b4;stroke:#1f77b4;\" x=\"124.632807\" xlink:href=\"#m3911a279e1\" y=\"84.994446\"/>\n     <use style=\"fill:#1f77b4;stroke:#1f77b4;\" x=\"111.116249\" xlink:href=\"#m3911a279e1\" y=\"81.755283\"/>\n     <use style=\"fill:#1f77b4;stroke:#1f77b4;\" x=\"98.538666\" xlink:href=\"#m3911a279e1\" y=\"76.665948\"/>\n     <use style=\"fill:#1f77b4;stroke:#1f77b4;\" x=\"122.158277\" xlink:href=\"#m3911a279e1\" y=\"74.54791\"/>\n     <use style=\"fill:#1f77b4;stroke:#1f77b4;\" x=\"163.202571\" xlink:href=\"#m3911a279e1\" y=\"28.903673\"/>\n     <use style=\"fill:#1f77b4;stroke:#1f77b4;\" x=\"116.94195\" xlink:href=\"#m3911a279e1\" y=\"54.70981\"/>\n     <use style=\"fill:#1f77b4;stroke:#1f77b4;\" x=\"134.820675\" xlink:href=\"#m3911a279e1\" y=\"51.717175\"/>\n     <use style=\"fill:#1f77b4;stroke:#1f77b4;\" x=\"104.339856\" xlink:href=\"#m3911a279e1\" y=\"96.083083\"/>\n     <use style=\"fill:#1f77b4;stroke:#1f77b4;\" x=\"100.724172\" xlink:href=\"#m3911a279e1\" y=\"70.327178\"/>\n     <use style=\"fill:#1f77b4;stroke:#1f77b4;\" x=\"103.689969\" xlink:href=\"#m3911a279e1\" y=\"52.241884\"/>\n     <use style=\"fill:#1f77b4;stroke:#1f77b4;\" x=\"131.652229\" xlink:href=\"#m3911a279e1\" y=\"41.799936\"/>\n     <use style=\"fill:#1f77b4;stroke:#1f77b4;\" x=\"95.788597\" xlink:href=\"#m3911a279e1\" y=\"94.341624\"/>\n     <use style=\"fill:#1f77b4;stroke:#1f77b4;\" x=\"128.009776\" xlink:href=\"#m3911a279e1\" y=\"66.596466\"/>\n     <use style=\"fill:#1f77b4;stroke:#1f77b4;\" x=\"145.314252\" xlink:href=\"#m3911a279e1\" y=\"53.38591\"/>\n     <use style=\"fill:#1f77b4;stroke:#1f77b4;\" x=\"98.65183\" xlink:href=\"#m3911a279e1\" y=\"70.65123\"/>\n     <use style=\"fill:#1f77b4;stroke:#1f77b4;\" x=\"127.332823\" xlink:href=\"#m3911a279e1\" y=\"47.331126\"/>\n     <use style=\"fill:#1f77b4;stroke:#1f77b4;\" x=\"102.44907\" xlink:href=\"#m3911a279e1\" y=\"78.350273\"/>\n     <use style=\"fill:#1f77b4;stroke:#1f77b4;\" x=\"44.18196\" xlink:href=\"#m3911a279e1\" y=\"116.459089\"/>\n     <use style=\"fill:#1f77b4;stroke:#1f77b4;\" x=\"131.103695\" xlink:href=\"#m3911a279e1\" y=\"97.869295\"/>\n     <use style=\"fill:#1f77b4;stroke:#1f77b4;\" x=\"129.846764\" xlink:href=\"#m3911a279e1\" y=\"93.88508\"/>\n     <use style=\"fill:#1f77b4;stroke:#1f77b4;\" x=\"97.948557\" xlink:href=\"#m3911a279e1\" y=\"75.934611\"/>\n     <use style=\"fill:#1f77b4;stroke:#1f77b4;\" x=\"117.310893\" xlink:href=\"#m3911a279e1\" y=\"80.000635\"/>\n     <use style=\"fill:#1f77b4;stroke:#1f77b4;\" x=\"135.255762\" xlink:href=\"#m3911a279e1\" y=\"47.167001\"/>\n     <use style=\"fill:#1f77b4;stroke:#1f77b4;\" x=\"145.840979\" xlink:href=\"#m3911a279e1\" y=\"63.780515\"/>\n     <use style=\"fill:#1f77b4;stroke:#1f77b4;\" x=\"124.420608\" xlink:href=\"#m3911a279e1\" y=\"100.860632\"/>\n     <use style=\"fill:#1f77b4;stroke:#1f77b4;\" x=\"116.990022\" xlink:href=\"#m3911a279e1\" y=\"63.605301\"/>\n     <use style=\"fill:#1f77b4;stroke:#1f77b4;\" x=\"129.742489\" xlink:href=\"#m3911a279e1\" y=\"65.079007\"/>\n     <use style=\"fill:#1f77b4;stroke:#1f77b4;\" x=\"142.546103\" xlink:href=\"#m3911a279e1\" y=\"56.49999\"/>\n     <use style=\"fill:#1f77b4;stroke:#1f77b4;\" x=\"133.000953\" xlink:href=\"#m3911a279e1\" y=\"36.532674\"/>\n     <use style=\"fill:#1f77b4;stroke:#1f77b4;\" x=\"108.99089\" xlink:href=\"#m3911a279e1\" y=\"78.121289\"/>\n     <use style=\"fill:#1f77b4;stroke:#1f77b4;\" x=\"119.750218\" xlink:href=\"#m3911a279e1\" y=\"64.479963\"/>\n     <use style=\"fill:#1f77b4;stroke:#1f77b4;\" x=\"170.77503\" xlink:href=\"#m3911a279e1\" y=\"52.062205\"/>\n     <use style=\"fill:#1f77b4;stroke:#1f77b4;\" x=\"93.889888\" xlink:href=\"#m3911a279e1\" y=\"88.472006\"/>\n     <use style=\"fill:#1f77b4;stroke:#1f77b4;\" x=\"113.14861\" xlink:href=\"#m3911a279e1\" y=\"70.128499\"/>\n     <use style=\"fill:#1f77b4;stroke:#1f77b4;\" x=\"68.687637\" xlink:href=\"#m3911a279e1\" y=\"63.398119\"/>\n     <use style=\"fill:#1f77b4;stroke:#1f77b4;\" x=\"130.505923\" xlink:href=\"#m3911a279e1\" y=\"64.887481\"/>\n     <use style=\"fill:#1f77b4;stroke:#1f77b4;\" x=\"98.744647\" xlink:href=\"#m3911a279e1\" y=\"82.161998\"/>\n     <use style=\"fill:#1f77b4;stroke:#1f77b4;\" x=\"124.979052\" xlink:href=\"#m3911a279e1\" y=\"57.254044\"/>\n     <use style=\"fill:#1f77b4;stroke:#1f77b4;\" x=\"154.710497\" xlink:href=\"#m3911a279e1\" y=\"77.770778\"/>\n     <use style=\"fill:#1f77b4;stroke:#1f77b4;\" x=\"126.193687\" xlink:href=\"#m3911a279e1\" y=\"62.843875\"/>\n     <use style=\"fill:#1f77b4;stroke:#1f77b4;\" x=\"128.185891\" xlink:href=\"#m3911a279e1\" y=\"83.442912\"/>\n     <use style=\"fill:#1f77b4;stroke:#1f77b4;\" x=\"126.230105\" xlink:href=\"#m3911a279e1\" y=\"58.517087\"/>\n     <use style=\"fill:#1f77b4;stroke:#1f77b4;\" x=\"122.318779\" xlink:href=\"#m3911a279e1\" y=\"70.08997\"/>\n     <use style=\"fill:#1f77b4;stroke:#1f77b4;\" x=\"93.947762\" xlink:href=\"#m3911a279e1\" y=\"103.565917\"/>\n     <use style=\"fill:#1f77b4;stroke:#1f77b4;\" x=\"101.209353\" xlink:href=\"#m3911a279e1\" y=\"91.812132\"/>\n     <use style=\"fill:#1f77b4;stroke:#1f77b4;\" x=\"100.346229\" xlink:href=\"#m3911a279e1\" y=\"67.072018\"/>\n     <use style=\"fill:#1f77b4;stroke:#1f77b4;\" x=\"86.438125\" xlink:href=\"#m3911a279e1\" y=\"59.913184\"/>\n     <use style=\"fill:#1f77b4;stroke:#1f77b4;\" x=\"118.925921\" xlink:href=\"#m3911a279e1\" y=\"90.02595\"/>\n     <use style=\"fill:#1f77b4;stroke:#1f77b4;\" x=\"95.708637\" xlink:href=\"#m3911a279e1\" y=\"58.331517\"/>\n     <use style=\"fill:#1f77b4;stroke:#1f77b4;\" x=\"145.685277\" xlink:href=\"#m3911a279e1\" y=\"52.253051\"/>\n     <use style=\"fill:#1f77b4;stroke:#1f77b4;\" x=\"112.746525\" xlink:href=\"#m3911a279e1\" y=\"63.196894\"/>\n     <use style=\"fill:#1f77b4;stroke:#1f77b4;\" x=\"136.045749\" xlink:href=\"#m3911a279e1\" y=\"67.758613\"/>\n     <use style=\"fill:#1f77b4;stroke:#1f77b4;\" x=\"107.034339\" xlink:href=\"#m3911a279e1\" y=\"78.926632\"/>\n     <use style=\"fill:#1f77b4;stroke:#1f77b4;\" x=\"108.805183\" xlink:href=\"#m3911a279e1\" y=\"55.681197\"/>\n     <use style=\"fill:#1f77b4;stroke:#1f77b4;\" x=\"105.030216\" xlink:href=\"#m3911a279e1\" y=\"66.942825\"/>\n     <use style=\"fill:#1f77b4;stroke:#1f77b4;\" x=\"137.877178\" xlink:href=\"#m3911a279e1\" y=\"51.816781\"/>\n     <use style=\"fill:#1f77b4;stroke:#1f77b4;\" x=\"113.253558\" xlink:href=\"#m3911a279e1\" y=\"54.029612\"/>\n     <use style=\"fill:#1f77b4;stroke:#1f77b4;\" x=\"81.594275\" xlink:href=\"#m3911a279e1\" y=\"93.70097\"/>\n     <use style=\"fill:#1f77b4;stroke:#1f77b4;\" x=\"96.692646\" xlink:href=\"#m3911a279e1\" y=\"51.629476\"/>\n     <use style=\"fill:#1f77b4;stroke:#1f77b4;\" x=\"81.979438\" xlink:href=\"#m3911a279e1\" y=\"74.959002\"/>\n     <use style=\"fill:#1f77b4;stroke:#1f77b4;\" x=\"100.092082\" xlink:href=\"#m3911a279e1\" y=\"68.073126\"/>\n     <use style=\"fill:#1f77b4;stroke:#1f77b4;\" x=\"101.344589\" xlink:href=\"#m3911a279e1\" y=\"94.807215\"/>\n     <use style=\"fill:#1f77b4;stroke:#1f77b4;\" x=\"145.449126\" xlink:href=\"#m3911a279e1\" y=\"62.536332\"/>\n     <use style=\"fill:#1f77b4;stroke:#1f77b4;\" x=\"146.161117\" xlink:href=\"#m3911a279e1\" y=\"81.264787\"/>\n     <use style=\"fill:#1f77b4;stroke:#1f77b4;\" x=\"144.55489\" xlink:href=\"#m3911a279e1\" y=\"41.441531\"/>\n     <use style=\"fill:#1f77b4;stroke:#1f77b4;\" x=\"118.292865\" xlink:href=\"#m3911a279e1\" y=\"60.941364\"/>\n     <use style=\"fill:#1f77b4;stroke:#1f77b4;\" x=\"131.471477\" xlink:href=\"#m3911a279e1\" y=\"92.103072\"/>\n     <use style=\"fill:#1f77b4;stroke:#1f77b4;\" x=\"124.689738\" xlink:href=\"#m3911a279e1\" y=\"94.186304\"/>\n     <use style=\"fill:#1f77b4;stroke:#1f77b4;\" x=\"101.319754\" xlink:href=\"#m3911a279e1\" y=\"68.290033\"/>\n     <use style=\"fill:#1f77b4;stroke:#1f77b4;\" x=\"156.190244\" xlink:href=\"#m3911a279e1\" y=\"37.632727\"/>\n     <use style=\"fill:#1f77b4;stroke:#1f77b4;\" x=\"127.720557\" xlink:href=\"#m3911a279e1\" y=\"51.64063\"/>\n     <use style=\"fill:#1f77b4;stroke:#1f77b4;\" x=\"114.204076\" xlink:href=\"#m3911a279e1\" y=\"60.976524\"/>\n     <use style=\"fill:#1f77b4;stroke:#1f77b4;\" x=\"135.216847\" xlink:href=\"#m3911a279e1\" y=\"64.629098\"/>\n     <use style=\"fill:#1f77b4;stroke:#1f77b4;\" x=\"131.043634\" xlink:href=\"#m3911a279e1\" y=\"63.2204\"/>\n     <use style=\"fill:#1f77b4;stroke:#1f77b4;\" x=\"106.097338\" xlink:href=\"#m3911a279e1\" y=\"95.972673\"/>\n     <use style=\"fill:#1f77b4;stroke:#1f77b4;\" x=\"131.674078\" xlink:href=\"#m3911a279e1\" y=\"83.383506\"/>\n     <use style=\"fill:#1f77b4;stroke:#1f77b4;\" x=\"93.025248\" xlink:href=\"#m3911a279e1\" y=\"97.469492\"/>\n     <use style=\"fill:#1f77b4;stroke:#1f77b4;\" x=\"157.417631\" xlink:href=\"#m3911a279e1\" y=\"42.476399\"/>\n     <use style=\"fill:#1f77b4;stroke:#1f77b4;\" x=\"146.807772\" xlink:href=\"#m3911a279e1\" y=\"62.485702\"/>\n     <use style=\"fill:#1f77b4;stroke:#1f77b4;\" x=\"105.364633\" xlink:href=\"#m3911a279e1\" y=\"75.227873\"/>\n     <use style=\"fill:#1f77b4;stroke:#1f77b4;\" x=\"91.251162\" xlink:href=\"#m3911a279e1\" y=\"93.486307\"/>\n     <use style=\"fill:#1f77b4;stroke:#1f77b4;\" x=\"99.275342\" xlink:href=\"#m3911a279e1\" y=\"91.821863\"/>\n     <use style=\"fill:#1f77b4;stroke:#1f77b4;\" x=\"142.340269\" xlink:href=\"#m3911a279e1\" y=\"56.392196\"/>\n     <use style=\"fill:#1f77b4;stroke:#1f77b4;\" x=\"123.294348\" xlink:href=\"#m3911a279e1\" y=\"69.317709\"/>\n     <use style=\"fill:#1f77b4;stroke:#1f77b4;\" x=\"112.092413\" xlink:href=\"#m3911a279e1\" y=\"77.957122\"/>\n     <use style=\"fill:#1f77b4;stroke:#1f77b4;\" x=\"115.849821\" xlink:href=\"#m3911a279e1\" y=\"65.988199\"/>\n     <use style=\"fill:#1f77b4;stroke:#1f77b4;\" x=\"130.909941\" xlink:href=\"#m3911a279e1\" y=\"62.560968\"/>\n     <use style=\"fill:#1f77b4;stroke:#1f77b4;\" x=\"73.805274\" xlink:href=\"#m3911a279e1\" y=\"111.586938\"/>\n     <use style=\"fill:#1f77b4;stroke:#1f77b4;\" x=\"106.20274\" xlink:href=\"#m3911a279e1\" y=\"75.506021\"/>\n     <use style=\"fill:#1f77b4;stroke:#1f77b4;\" x=\"105.845275\" xlink:href=\"#m3911a279e1\" y=\"76.813067\"/>\n     <use style=\"fill:#1f77b4;stroke:#1f77b4;\" x=\"97.982982\" xlink:href=\"#m3911a279e1\" y=\"84.687895\"/>\n     <use style=\"fill:#1f77b4;stroke:#1f77b4;\" x=\"140.201375\" xlink:href=\"#m3911a279e1\" y=\"87.158729\"/>\n     <use style=\"fill:#1f77b4;stroke:#1f77b4;\" x=\"165.725478\" xlink:href=\"#m3911a279e1\" y=\"47.554439\"/>\n     <use style=\"fill:#1f77b4;stroke:#1f77b4;\" x=\"74.379581\" xlink:href=\"#m3911a279e1\" y=\"100.227986\"/>\n     <use style=\"fill:#1f77b4;stroke:#1f77b4;\" x=\"99.730836\" xlink:href=\"#m3911a279e1\" y=\"65.744738\"/>\n     <use style=\"fill:#1f77b4;stroke:#1f77b4;\" x=\"58.04577\" xlink:href=\"#m3911a279e1\" y=\"79.920211\"/>\n     <use style=\"fill:#1f77b4;stroke:#1f77b4;\" x=\"140.838937\" xlink:href=\"#m3911a279e1\" y=\"21.791983\"/>\n     <use style=\"fill:#1f77b4;stroke:#1f77b4;\" x=\"108.113575\" xlink:href=\"#m3911a279e1\" y=\"72.920823\"/>\n     <use style=\"fill:#1f77b4;stroke:#1f77b4;\" x=\"145.275766\" xlink:href=\"#m3911a279e1\" y=\"87.534817\"/>\n     <use style=\"fill:#1f77b4;stroke:#1f77b4;\" x=\"72.57096\" xlink:href=\"#m3911a279e1\" y=\"89.596437\"/>\n     <use style=\"fill:#1f77b4;stroke:#1f77b4;\" x=\"110.802464\" xlink:href=\"#m3911a279e1\" y=\"68.44964\"/>\n     <use style=\"fill:#1f77b4;stroke:#1f77b4;\" x=\"104.39927\" xlink:href=\"#m3911a279e1\" y=\"114.43909\"/>\n     <use style=\"fill:#1f77b4;stroke:#1f77b4;\" x=\"147.817536\" xlink:href=\"#m3911a279e1\" y=\"78.697491\"/>\n     <use style=\"fill:#1f77b4;stroke:#1f77b4;\" x=\"107.61622\" xlink:href=\"#m3911a279e1\" y=\"43.768153\"/>\n     <use style=\"fill:#1f77b4;stroke:#1f77b4;\" x=\"115.416198\" xlink:href=\"#m3911a279e1\" y=\"50.16334\"/>\n     <use style=\"fill:#1f77b4;stroke:#1f77b4;\" x=\"121.715619\" xlink:href=\"#m3911a279e1\" y=\"55.47222\"/>\n     <use style=\"fill:#1f77b4;stroke:#1f77b4;\" x=\"100.795187\" xlink:href=\"#m3911a279e1\" y=\"99.787619\"/>\n     <use style=\"fill:#1f77b4;stroke:#1f77b4;\" x=\"148.143121\" xlink:href=\"#m3911a279e1\" y=\"32.864072\"/>\n     <use style=\"fill:#1f77b4;stroke:#1f77b4;\" x=\"111.240875\" xlink:href=\"#m3911a279e1\" y=\"50.097359\"/>\n     <use style=\"fill:#1f77b4;stroke:#1f77b4;\" x=\"130.711673\" xlink:href=\"#m3911a279e1\" y=\"65.199623\"/>\n     <use style=\"fill:#1f77b4;stroke:#1f77b4;\" x=\"128.448035\" xlink:href=\"#m3911a279e1\" y=\"73.580776\"/>\n     <use style=\"fill:#1f77b4;stroke:#1f77b4;\" x=\"151.296794\" xlink:href=\"#m3911a279e1\" y=\"53.71046\"/>\n     <use style=\"fill:#1f77b4;stroke:#1f77b4;\" x=\"119.595385\" xlink:href=\"#m3911a279e1\" y=\"59.830807\"/>\n     <use style=\"fill:#1f77b4;stroke:#1f77b4;\" x=\"89.446261\" xlink:href=\"#m3911a279e1\" y=\"65.504204\"/>\n     <use style=\"fill:#1f77b4;stroke:#1f77b4;\" x=\"99.813448\" xlink:href=\"#m3911a279e1\" y=\"61.74402\"/>\n     <use style=\"fill:#1f77b4;stroke:#1f77b4;\" x=\"64.0851\" xlink:href=\"#m3911a279e1\" y=\"102.988714\"/>\n     <use style=\"fill:#1f77b4;stroke:#1f77b4;\" x=\"135.422576\" xlink:href=\"#m3911a279e1\" y=\"57.895658\"/>\n     <use style=\"fill:#1f77b4;stroke:#1f77b4;\" x=\"118.625167\" xlink:href=\"#m3911a279e1\" y=\"45.634773\"/>\n     <use style=\"fill:#1f77b4;stroke:#1f77b4;\" x=\"120.50466\" xlink:href=\"#m3911a279e1\" y=\"87.529833\"/>\n     <use style=\"fill:#1f77b4;stroke:#1f77b4;\" x=\"162.863327\" xlink:href=\"#m3911a279e1\" y=\"58.841771\"/>\n     <use style=\"fill:#1f77b4;stroke:#1f77b4;\" x=\"115.664363\" xlink:href=\"#m3911a279e1\" y=\"61.215851\"/>\n     <use style=\"fill:#1f77b4;stroke:#1f77b4;\" x=\"80.779715\" xlink:href=\"#m3911a279e1\" y=\"75.156548\"/>\n     <use style=\"fill:#1f77b4;stroke:#1f77b4;\" x=\"135.686123\" xlink:href=\"#m3911a279e1\" y=\"47.322317\"/>\n     <use style=\"fill:#1f77b4;stroke:#1f77b4;\" x=\"120.840596\" xlink:href=\"#m3911a279e1\" y=\"61.67786\"/>\n     <use style=\"fill:#1f77b4;stroke:#1f77b4;\" x=\"106.943819\" xlink:href=\"#m3911a279e1\" y=\"76.49801\"/>\n     <use style=\"fill:#1f77b4;stroke:#1f77b4;\" x=\"123.573137\" xlink:href=\"#m3911a279e1\" y=\"90.993267\"/>\n     <use style=\"fill:#1f77b4;stroke:#1f77b4;\" x=\"125.516721\" xlink:href=\"#m3911a279e1\" y=\"78.297649\"/>\n     <use style=\"fill:#1f77b4;stroke:#1f77b4;\" x=\"126.517101\" xlink:href=\"#m3911a279e1\" y=\"67.406573\"/>\n     <use style=\"fill:#1f77b4;stroke:#1f77b4;\" x=\"153.365922\" xlink:href=\"#m3911a279e1\" y=\"70.541001\"/>\n     <use style=\"fill:#1f77b4;stroke:#1f77b4;\" x=\"110.136993\" xlink:href=\"#m3911a279e1\" y=\"112.179328\"/>\n     <use style=\"fill:#1f77b4;stroke:#1f77b4;\" x=\"138.622665\" xlink:href=\"#m3911a279e1\" y=\"62.089687\"/>\n     <use style=\"fill:#1f77b4;stroke:#1f77b4;\" x=\"115.908795\" xlink:href=\"#m3911a279e1\" y=\"54.020201\"/>\n     <use style=\"fill:#1f77b4;stroke:#1f77b4;\" x=\"129.905674\" xlink:href=\"#m3911a279e1\" y=\"49.823432\"/>\n     <use style=\"fill:#1f77b4;stroke:#1f77b4;\" x=\"115.893639\" xlink:href=\"#m3911a279e1\" y=\"80.043057\"/>\n     <use style=\"fill:#1f77b4;stroke:#1f77b4;\" x=\"81.343025\" xlink:href=\"#m3911a279e1\" y=\"86.346208\"/>\n     <use style=\"fill:#1f77b4;stroke:#1f77b4;\" x=\"149.088856\" xlink:href=\"#m3911a279e1\" y=\"59.391933\"/>\n     <use style=\"fill:#1f77b4;stroke:#1f77b4;\" x=\"128.470008\" xlink:href=\"#m3911a279e1\" y=\"84.293643\"/>\n     <use style=\"fill:#1f77b4;stroke:#1f77b4;\" x=\"136.879307\" xlink:href=\"#m3911a279e1\" y=\"74.071678\"/>\n     <use style=\"fill:#1f77b4;stroke:#1f77b4;\" x=\"105.549442\" xlink:href=\"#m3911a279e1\" y=\"35.430069\"/>\n     <use style=\"fill:#1f77b4;stroke:#1f77b4;\" x=\"134.507045\" xlink:href=\"#m3911a279e1\" y=\"90.524101\"/>\n     <use style=\"fill:#1f77b4;stroke:#1f77b4;\" x=\"135.488678\" xlink:href=\"#m3911a279e1\" y=\"59.876656\"/>\n     <use style=\"fill:#1f77b4;stroke:#1f77b4;\" x=\"111.750176\" xlink:href=\"#m3911a279e1\" y=\"61.384779\"/>\n     <use style=\"fill:#1f77b4;stroke:#1f77b4;\" x=\"110.582118\" xlink:href=\"#m3911a279e1\" y=\"54.878186\"/>\n     <use style=\"fill:#1f77b4;stroke:#1f77b4;\" x=\"122.131265\" xlink:href=\"#m3911a279e1\" y=\"54.153301\"/>\n     <use style=\"fill:#1f77b4;stroke:#1f77b4;\" x=\"126.553951\" xlink:href=\"#m3911a279e1\" y=\"78.583099\"/>\n     <use style=\"fill:#1f77b4;stroke:#1f77b4;\" x=\"94.565591\" xlink:href=\"#m3911a279e1\" y=\"96.278931\"/>\n     <use style=\"fill:#1f77b4;stroke:#1f77b4;\" x=\"160.617683\" xlink:href=\"#m3911a279e1\" y=\"53.165036\"/>\n     <use style=\"fill:#1f77b4;stroke:#1f77b4;\" x=\"111.236534\" xlink:href=\"#m3911a279e1\" y=\"35.608685\"/>\n     <use style=\"fill:#1f77b4;stroke:#1f77b4;\" x=\"128.193741\" xlink:href=\"#m3911a279e1\" y=\"66.724525\"/>\n     <use style=\"fill:#1f77b4;stroke:#1f77b4;\" x=\"110.157983\" xlink:href=\"#m3911a279e1\" y=\"69.096182\"/>\n     <use style=\"fill:#1f77b4;stroke:#1f77b4;\" x=\"142.981748\" xlink:href=\"#m3911a279e1\" y=\"57.958793\"/>\n     <use style=\"fill:#1f77b4;stroke:#1f77b4;\" x=\"149.528943\" xlink:href=\"#m3911a279e1\" y=\"55.686968\"/>\n     <use style=\"fill:#1f77b4;stroke:#1f77b4;\" x=\"140.704593\" xlink:href=\"#m3911a279e1\" y=\"70.365645\"/>\n     <use style=\"fill:#1f77b4;stroke:#1f77b4;\" x=\"90.936488\" xlink:href=\"#m3911a279e1\" y=\"67.641909\"/>\n     <use style=\"fill:#1f77b4;stroke:#1f77b4;\" x=\"131.112338\" xlink:href=\"#m3911a279e1\" y=\"90.173288\"/>\n     <use style=\"fill:#1f77b4;stroke:#1f77b4;\" x=\"152.228382\" xlink:href=\"#m3911a279e1\" y=\"71.749786\"/>\n     <use style=\"fill:#1f77b4;stroke:#1f77b4;\" x=\"146.791633\" xlink:href=\"#m3911a279e1\" y=\"73.811185\"/>\n     <use style=\"fill:#1f77b4;stroke:#1f77b4;\" x=\"134.497057\" xlink:href=\"#m3911a279e1\" y=\"71.141749\"/>\n     <use style=\"fill:#1f77b4;stroke:#1f77b4;\" x=\"141.140301\" xlink:href=\"#m3911a279e1\" y=\"70.829096\"/>\n     <use style=\"fill:#1f77b4;stroke:#1f77b4;\" x=\"111.050118\" xlink:href=\"#m3911a279e1\" y=\"60.914865\"/>\n     <use style=\"fill:#1f77b4;stroke:#1f77b4;\" x=\"122.704528\" xlink:href=\"#m3911a279e1\" y=\"74.813192\"/>\n     <use style=\"fill:#1f77b4;stroke:#1f77b4;\" x=\"99.846269\" xlink:href=\"#m3911a279e1\" y=\"106.380918\"/>\n     <use style=\"fill:#1f77b4;stroke:#1f77b4;\" x=\"136.76351\" xlink:href=\"#m3911a279e1\" y=\"64.091846\"/>\n     <use style=\"fill:#1f77b4;stroke:#1f77b4;\" x=\"149.559079\" xlink:href=\"#m3911a279e1\" y=\"45.055729\"/>\n     <use style=\"fill:#1f77b4;stroke:#1f77b4;\" x=\"119.855298\" xlink:href=\"#m3911a279e1\" y=\"43.031947\"/>\n     <use style=\"fill:#1f77b4;stroke:#1f77b4;\" x=\"142.406653\" xlink:href=\"#m3911a279e1\" y=\"63.275208\"/>\n     <use style=\"fill:#1f77b4;stroke:#1f77b4;\" x=\"128.057044\" xlink:href=\"#m3911a279e1\" y=\"76.748378\"/>\n     <use style=\"fill:#1f77b4;stroke:#1f77b4;\" x=\"94.618341\" xlink:href=\"#m3911a279e1\" y=\"51.081566\"/>\n     <use style=\"fill:#1f77b4;stroke:#1f77b4;\" x=\"101.734153\" xlink:href=\"#m3911a279e1\" y=\"96.069047\"/>\n     <use style=\"fill:#1f77b4;stroke:#1f77b4;\" x=\"123.40785\" xlink:href=\"#m3911a279e1\" y=\"88.406009\"/>\n     <use style=\"fill:#1f77b4;stroke:#1f77b4;\" x=\"104.731223\" xlink:href=\"#m3911a279e1\" y=\"89.053277\"/>\n     <use style=\"fill:#1f77b4;stroke:#1f77b4;\" x=\"108.53285\" xlink:href=\"#m3911a279e1\" y=\"60.848538\"/>\n     <use style=\"fill:#1f77b4;stroke:#1f77b4;\" x=\"124.913021\" xlink:href=\"#m3911a279e1\" y=\"63.973562\"/>\n     <use style=\"fill:#1f77b4;stroke:#1f77b4;\" x=\"98.957617\" xlink:href=\"#m3911a279e1\" y=\"77.237137\"/>\n     <use style=\"fill:#1f77b4;stroke:#1f77b4;\" x=\"73.908427\" xlink:href=\"#m3911a279e1\" y=\"96.554397\"/>\n     <use style=\"fill:#1f77b4;stroke:#1f77b4;\" x=\"111.621333\" xlink:href=\"#m3911a279e1\" y=\"57.887086\"/>\n     <use style=\"fill:#1f77b4;stroke:#1f77b4;\" x=\"90.432085\" xlink:href=\"#m3911a279e1\" y=\"123.374339\"/>\n     <use style=\"fill:#1f77b4;stroke:#1f77b4;\" x=\"115.691479\" xlink:href=\"#m3911a279e1\" y=\"33.607625\"/>\n     <use style=\"fill:#1f77b4;stroke:#1f77b4;\" x=\"128.687783\" xlink:href=\"#m3911a279e1\" y=\"70.579408\"/>\n     <use style=\"fill:#1f77b4;stroke:#1f77b4;\" x=\"118.140053\" xlink:href=\"#m3911a279e1\" y=\"70.390999\"/>\n     <use style=\"fill:#1f77b4;stroke:#1f77b4;\" x=\"136.249684\" xlink:href=\"#m3911a279e1\" y=\"88.629931\"/>\n     <use style=\"fill:#1f77b4;stroke:#1f77b4;\" x=\"112.964793\" xlink:href=\"#m3911a279e1\" y=\"56.885281\"/>\n     <use style=\"fill:#1f77b4;stroke:#1f77b4;\" x=\"104.802381\" xlink:href=\"#m3911a279e1\" y=\"78.994933\"/>\n     <use style=\"fill:#1f77b4;stroke:#1f77b4;\" x=\"133.217164\" xlink:href=\"#m3911a279e1\" y=\"68.192248\"/>\n     <use style=\"fill:#1f77b4;stroke:#1f77b4;\" x=\"134.68296\" xlink:href=\"#m3911a279e1\" y=\"66.666761\"/>\n     <use style=\"fill:#1f77b4;stroke:#1f77b4;\" x=\"86.532743\" xlink:href=\"#m3911a279e1\" y=\"81.721742\"/>\n     <use style=\"fill:#1f77b4;stroke:#1f77b4;\" x=\"177.972994\" xlink:href=\"#m3911a279e1\" y=\"55.084503\"/>\n     <use style=\"fill:#1f77b4;stroke:#1f77b4;\" x=\"103.255065\" xlink:href=\"#m3911a279e1\" y=\"95.162628\"/>\n     <use style=\"fill:#1f77b4;stroke:#1f77b4;\" x=\"97.681372\" xlink:href=\"#m3911a279e1\" y=\"88.147242\"/>\n     <use style=\"fill:#1f77b4;stroke:#1f77b4;\" x=\"114.099396\" xlink:href=\"#m3911a279e1\" y=\"96.372625\"/>\n     <use style=\"fill:#1f77b4;stroke:#1f77b4;\" x=\"119.803205\" xlink:href=\"#m3911a279e1\" y=\"73.125022\"/>\n     <use style=\"fill:#1f77b4;stroke:#1f77b4;\" x=\"121.343093\" xlink:href=\"#m3911a279e1\" y=\"79.938794\"/>\n     <use style=\"fill:#1f77b4;stroke:#1f77b4;\" x=\"106.969004\" xlink:href=\"#m3911a279e1\" y=\"46.220533\"/>\n     <use style=\"fill:#1f77b4;stroke:#1f77b4;\" x=\"122.434317\" xlink:href=\"#m3911a279e1\" y=\"63.177623\"/>\n     <use style=\"fill:#1f77b4;stroke:#1f77b4;\" x=\"124.242582\" xlink:href=\"#m3911a279e1\" y=\"63.980536\"/>\n     <use style=\"fill:#1f77b4;stroke:#1f77b4;\" x=\"115.008729\" xlink:href=\"#m3911a279e1\" y=\"76.331357\"/>\n     <use style=\"fill:#1f77b4;stroke:#1f77b4;\" x=\"83.935433\" xlink:href=\"#m3911a279e1\" y=\"81.275015\"/>\n     <use style=\"fill:#1f77b4;stroke:#1f77b4;\" x=\"112.395774\" xlink:href=\"#m3911a279e1\" y=\"71.671012\"/>\n     <use style=\"fill:#1f77b4;stroke:#1f77b4;\" x=\"87.860994\" xlink:href=\"#m3911a279e1\" y=\"83.350199\"/>\n     <use style=\"fill:#1f77b4;stroke:#1f77b4;\" x=\"130.120651\" xlink:href=\"#m3911a279e1\" y=\"41.451613\"/>\n     <use style=\"fill:#1f77b4;stroke:#1f77b4;\" x=\"125.524452\" xlink:href=\"#m3911a279e1\" y=\"71.893855\"/>\n     <use style=\"fill:#1f77b4;stroke:#1f77b4;\" x=\"100.508237\" xlink:href=\"#m3911a279e1\" y=\"74.715799\"/>\n     <use style=\"fill:#1f77b4;stroke:#1f77b4;\" x=\"126.679394\" xlink:href=\"#m3911a279e1\" y=\"83.899531\"/>\n     <use style=\"fill:#1f77b4;stroke:#1f77b4;\" x=\"80.53598\" xlink:href=\"#m3911a279e1\" y=\"58.789121\"/>\n     <use style=\"fill:#1f77b4;stroke:#1f77b4;\" x=\"122.706858\" xlink:href=\"#m3911a279e1\" y=\"65.143458\"/>\n     <use style=\"fill:#1f77b4;stroke:#1f77b4;\" x=\"133.213525\" xlink:href=\"#m3911a279e1\" y=\"46.995627\"/>\n     <use style=\"fill:#1f77b4;stroke:#1f77b4;\" x=\"114.073394\" xlink:href=\"#m3911a279e1\" y=\"93.67134\"/>\n     <use style=\"fill:#1f77b4;stroke:#1f77b4;\" x=\"104.531046\" xlink:href=\"#m3911a279e1\" y=\"76.369839\"/>\n     <use style=\"fill:#1f77b4;stroke:#1f77b4;\" x=\"122.643781\" xlink:href=\"#m3911a279e1\" y=\"50.866002\"/>\n     <use style=\"fill:#1f77b4;stroke:#1f77b4;\" x=\"86.844573\" xlink:href=\"#m3911a279e1\" y=\"76.388251\"/>\n     <use style=\"fill:#1f77b4;stroke:#1f77b4;\" x=\"78.819751\" xlink:href=\"#m3911a279e1\" y=\"70.585925\"/>\n     <use style=\"fill:#1f77b4;stroke:#1f77b4;\" x=\"136.009756\" xlink:href=\"#m3911a279e1\" y=\"72.050032\"/>\n     <use style=\"fill:#1f77b4;stroke:#1f77b4;\" x=\"116.864213\" xlink:href=\"#m3911a279e1\" y=\"70.543959\"/>\n     <use style=\"fill:#1f77b4;stroke:#1f77b4;\" x=\"109.089822\" xlink:href=\"#m3911a279e1\" y=\"88.595855\"/>\n     <use style=\"fill:#1f77b4;stroke:#1f77b4;\" x=\"74.403885\" xlink:href=\"#m3911a279e1\" y=\"83.26491\"/>\n     <use style=\"fill:#1f77b4;stroke:#1f77b4;\" x=\"105.095109\" xlink:href=\"#m3911a279e1\" y=\"68.079558\"/>\n     <use style=\"fill:#1f77b4;stroke:#1f77b4;\" x=\"101.52933\" xlink:href=\"#m3911a279e1\" y=\"96.735168\"/>\n     <use style=\"fill:#1f77b4;stroke:#1f77b4;\" x=\"57.901974\" xlink:href=\"#m3911a279e1\" y=\"92.345383\"/>\n     <use style=\"fill:#1f77b4;stroke:#1f77b4;\" x=\"98.000755\" xlink:href=\"#m3911a279e1\" y=\"72.425207\"/>\n     <use style=\"fill:#1f77b4;stroke:#1f77b4;\" x=\"104.571554\" xlink:href=\"#m3911a279e1\" y=\"36.883167\"/>\n     <use style=\"fill:#1f77b4;stroke:#1f77b4;\" x=\"110.049185\" xlink:href=\"#m3911a279e1\" y=\"89.98399\"/>\n     <use style=\"fill:#1f77b4;stroke:#1f77b4;\" x=\"87.373973\" xlink:href=\"#m3911a279e1\" y=\"84.6459\"/>\n     <use style=\"fill:#1f77b4;stroke:#1f77b4;\" x=\"113.61751\" xlink:href=\"#m3911a279e1\" y=\"92.405566\"/>\n     <use style=\"fill:#1f77b4;stroke:#1f77b4;\" x=\"84.085797\" xlink:href=\"#m3911a279e1\" y=\"81.803115\"/>\n     <use style=\"fill:#1f77b4;stroke:#1f77b4;\" x=\"147.501843\" xlink:href=\"#m3911a279e1\" y=\"50.915113\"/>\n     <use style=\"fill:#1f77b4;stroke:#1f77b4;\" x=\"184.274494\" xlink:href=\"#m3911a279e1\" y=\"23.9558\"/>\n     <use style=\"fill:#1f77b4;stroke:#1f77b4;\" x=\"110.903477\" xlink:href=\"#m3911a279e1\" y=\"80.430547\"/>\n     <use style=\"fill:#1f77b4;stroke:#1f77b4;\" x=\"65.389334\" xlink:href=\"#m3911a279e1\" y=\"120.333888\"/>\n     <use style=\"fill:#1f77b4;stroke:#1f77b4;\" x=\"104.232463\" xlink:href=\"#m3911a279e1\" y=\"101.791504\"/>\n     <use style=\"fill:#1f77b4;stroke:#1f77b4;\" x=\"89.8244\" xlink:href=\"#m3911a279e1\" y=\"91.724037\"/>\n     <use style=\"fill:#1f77b4;stroke:#1f77b4;\" x=\"78.995557\" xlink:href=\"#m3911a279e1\" y=\"87.272444\"/>\n     <use style=\"fill:#1f77b4;stroke:#1f77b4;\" x=\"92.542273\" xlink:href=\"#m3911a279e1\" y=\"62.145265\"/>\n     <use style=\"fill:#1f77b4;stroke:#1f77b4;\" x=\"123.982094\" xlink:href=\"#m3911a279e1\" y=\"98.740757\"/>\n     <use style=\"fill:#1f77b4;stroke:#1f77b4;\" x=\"83.313058\" xlink:href=\"#m3911a279e1\" y=\"85.032103\"/>\n     <use style=\"fill:#1f77b4;stroke:#1f77b4;\" x=\"89.34514\" xlink:href=\"#m3911a279e1\" y=\"67.177326\"/>\n     <use style=\"fill:#1f77b4;stroke:#1f77b4;\" x=\"106.05261\" xlink:href=\"#m3911a279e1\" y=\"55.371079\"/>\n     <use style=\"fill:#1f77b4;stroke:#1f77b4;\" x=\"105.981569\" xlink:href=\"#m3911a279e1\" y=\"58.985451\"/>\n     <use style=\"fill:#1f77b4;stroke:#1f77b4;\" x=\"136.270391\" xlink:href=\"#m3911a279e1\" y=\"76.219198\"/>\n     <use style=\"fill:#1f77b4;stroke:#1f77b4;\" x=\"117.760295\" xlink:href=\"#m3911a279e1\" y=\"52.871863\"/>\n     <use style=\"fill:#1f77b4;stroke:#1f77b4;\" x=\"93.342029\" xlink:href=\"#m3911a279e1\" y=\"84.419697\"/>\n     <use style=\"fill:#1f77b4;stroke:#1f77b4;\" x=\"99.287883\" xlink:href=\"#m3911a279e1\" y=\"75.382737\"/>\n     <use style=\"fill:#1f77b4;stroke:#1f77b4;\" x=\"71.379626\" xlink:href=\"#m3911a279e1\" y=\"87.298982\"/>\n     <use style=\"fill:#1f77b4;stroke:#1f77b4;\" x=\"90.872079\" xlink:href=\"#m3911a279e1\" y=\"79.552196\"/>\n     <use style=\"fill:#1f77b4;stroke:#1f77b4;\" x=\"103.498335\" xlink:href=\"#m3911a279e1\" y=\"90.540979\"/>\n     <use style=\"fill:#1f77b4;stroke:#1f77b4;\" x=\"110.589095\" xlink:href=\"#m3911a279e1\" y=\"72.661829\"/>\n     <use style=\"fill:#1f77b4;stroke:#1f77b4;\" x=\"63.837077\" xlink:href=\"#m3911a279e1\" y=\"83.83644\"/>\n     <use style=\"fill:#1f77b4;stroke:#1f77b4;\" x=\"99.275804\" xlink:href=\"#m3911a279e1\" y=\"42.236481\"/>\n     <use style=\"fill:#1f77b4;stroke:#1f77b4;\" x=\"158.519849\" xlink:href=\"#m3911a279e1\" y=\"68.832383\"/>\n     <use style=\"fill:#1f77b4;stroke:#1f77b4;\" x=\"123.382042\" xlink:href=\"#m3911a279e1\" y=\"83.779129\"/>\n     <use style=\"fill:#1f77b4;stroke:#1f77b4;\" x=\"129.151522\" xlink:href=\"#m3911a279e1\" y=\"71.684402\"/>\n     <use style=\"fill:#1f77b4;stroke:#1f77b4;\" x=\"105.280101\" xlink:href=\"#m3911a279e1\" y=\"62.924062\"/>\n     <use style=\"fill:#1f77b4;stroke:#1f77b4;\" x=\"139.043116\" xlink:href=\"#m3911a279e1\" y=\"52.381915\"/>\n     <use style=\"fill:#1f77b4;stroke:#1f77b4;\" x=\"97.71921\" xlink:href=\"#m3911a279e1\" y=\"72.775974\"/>\n     <use style=\"fill:#1f77b4;stroke:#1f77b4;\" x=\"119.898204\" xlink:href=\"#m3911a279e1\" y=\"74.563988\"/>\n     <use style=\"fill:#1f77b4;stroke:#1f77b4;\" x=\"135.385342\" xlink:href=\"#m3911a279e1\" y=\"63.585483\"/>\n     <use style=\"fill:#1f77b4;stroke:#1f77b4;\" x=\"142.241374\" xlink:href=\"#m3911a279e1\" y=\"44.768913\"/>\n     <use style=\"fill:#1f77b4;stroke:#1f77b4;\" x=\"125.970718\" xlink:href=\"#m3911a279e1\" y=\"60.706348\"/>\n     <use style=\"fill:#1f77b4;stroke:#1f77b4;\" x=\"171.532197\" xlink:href=\"#m3911a279e1\" y=\"13.377273\"/>\n     <use style=\"fill:#1f77b4;stroke:#1f77b4;\" x=\"124.146898\" xlink:href=\"#m3911a279e1\" y=\"78.548249\"/>\n     <use style=\"fill:#1f77b4;stroke:#1f77b4;\" x=\"65.562417\" xlink:href=\"#m3911a279e1\" y=\"86.699911\"/>\n     <use style=\"fill:#1f77b4;stroke:#1f77b4;\" x=\"81.815994\" xlink:href=\"#m3911a279e1\" y=\"102.478787\"/>\n     <use style=\"fill:#1f77b4;stroke:#1f77b4;\" x=\"126.600264\" xlink:href=\"#m3911a279e1\" y=\"74.198831\"/>\n     <use style=\"fill:#1f77b4;stroke:#1f77b4;\" x=\"114.85047\" xlink:href=\"#m3911a279e1\" y=\"65.856524\"/>\n     <use style=\"fill:#1f77b4;stroke:#1f77b4;\" x=\"121.847132\" xlink:href=\"#m3911a279e1\" y=\"76.314325\"/>\n     <use style=\"fill:#1f77b4;stroke:#1f77b4;\" x=\"143.881721\" xlink:href=\"#m3911a279e1\" y=\"52.652301\"/>\n     <use style=\"fill:#1f77b4;stroke:#1f77b4;\" x=\"102.689873\" xlink:href=\"#m3911a279e1\" y=\"70.948846\"/>\n     <use style=\"fill:#1f77b4;stroke:#1f77b4;\" x=\"76.653647\" xlink:href=\"#m3911a279e1\" y=\"87.99267\"/>\n     <use style=\"fill:#1f77b4;stroke:#1f77b4;\" x=\"141.928894\" xlink:href=\"#m3911a279e1\" y=\"43.390276\"/>\n     <use style=\"fill:#1f77b4;stroke:#1f77b4;\" x=\"115.083183\" xlink:href=\"#m3911a279e1\" y=\"63.141174\"/>\n     <use style=\"fill:#1f77b4;stroke:#1f77b4;\" x=\"153.601103\" xlink:href=\"#m3911a279e1\" y=\"53.862518\"/>\n     <use style=\"fill:#1f77b4;stroke:#1f77b4;\" x=\"93.838345\" xlink:href=\"#m3911a279e1\" y=\"68.921849\"/>\n     <use style=\"fill:#1f77b4;stroke:#1f77b4;\" x=\"125.777001\" xlink:href=\"#m3911a279e1\" y=\"57.210169\"/>\n     <use style=\"fill:#1f77b4;stroke:#1f77b4;\" x=\"156.151672\" xlink:href=\"#m3911a279e1\" y=\"55.421474\"/>\n     <use style=\"fill:#1f77b4;stroke:#1f77b4;\" x=\"114.299764\" xlink:href=\"#m3911a279e1\" y=\"79.54608\"/>\n     <use style=\"fill:#1f77b4;stroke:#1f77b4;\" x=\"101.225042\" xlink:href=\"#m3911a279e1\" y=\"59.171841\"/>\n     <use style=\"fill:#1f77b4;stroke:#1f77b4;\" x=\"151.909895\" xlink:href=\"#m3911a279e1\" y=\"50.889297\"/>\n     <use style=\"fill:#1f77b4;stroke:#1f77b4;\" x=\"125.516423\" xlink:href=\"#m3911a279e1\" y=\"66.65785\"/>\n     <use style=\"fill:#1f77b4;stroke:#1f77b4;\" x=\"107.986738\" xlink:href=\"#m3911a279e1\" y=\"76.589354\"/>\n     <use style=\"fill:#1f77b4;stroke:#1f77b4;\" x=\"85.316907\" xlink:href=\"#m3911a279e1\" y=\"110.99385\"/>\n     <use style=\"fill:#1f77b4;stroke:#1f77b4;\" x=\"112.94886\" xlink:href=\"#m3911a279e1\" y=\"83.12728\"/>\n     <use style=\"fill:#1f77b4;stroke:#1f77b4;\" x=\"92.679621\" xlink:href=\"#m3911a279e1\" y=\"101.747055\"/>\n     <use style=\"fill:#1f77b4;stroke:#1f77b4;\" x=\"98.244908\" xlink:href=\"#m3911a279e1\" y=\"67.324457\"/>\n     <use style=\"fill:#1f77b4;stroke:#1f77b4;\" x=\"76.965787\" xlink:href=\"#m3911a279e1\" y=\"108.966949\"/>\n     <use style=\"fill:#1f77b4;stroke:#1f77b4;\" x=\"95.863452\" xlink:href=\"#m3911a279e1\" y=\"70.846257\"/>\n     <use style=\"fill:#1f77b4;stroke:#1f77b4;\" x=\"118.50687\" xlink:href=\"#m3911a279e1\" y=\"84.978089\"/>\n     <use style=\"fill:#1f77b4;stroke:#1f77b4;\" x=\"146.938285\" xlink:href=\"#m3911a279e1\" y=\"45.538611\"/>\n     <use style=\"fill:#1f77b4;stroke:#1f77b4;\" x=\"109.890911\" xlink:href=\"#m3911a279e1\" y=\"68.399468\"/>\n     <use style=\"fill:#1f77b4;stroke:#1f77b4;\" x=\"78.839349\" xlink:href=\"#m3911a279e1\" y=\"74.764153\"/>\n     <use style=\"fill:#1f77b4;stroke:#1f77b4;\" x=\"95.093285\" xlink:href=\"#m3911a279e1\" y=\"73.851158\"/>\n     <use style=\"fill:#1f77b4;stroke:#1f77b4;\" x=\"121.040769\" xlink:href=\"#m3911a279e1\" y=\"77.656945\"/>\n     <use style=\"fill:#1f77b4;stroke:#1f77b4;\" x=\"116.158928\" xlink:href=\"#m3911a279e1\" y=\"67.690778\"/>\n     <use style=\"fill:#1f77b4;stroke:#1f77b4;\" x=\"135.319951\" xlink:href=\"#m3911a279e1\" y=\"48.658769\"/>\n     <use style=\"fill:#1f77b4;stroke:#1f77b4;\" x=\"111.247892\" xlink:href=\"#m3911a279e1\" y=\"89.007685\"/>\n     <use style=\"fill:#1f77b4;stroke:#1f77b4;\" x=\"68.682814\" xlink:href=\"#m3911a279e1\" y=\"80.0247\"/>\n     <use style=\"fill:#1f77b4;stroke:#1f77b4;\" x=\"97.127065\" xlink:href=\"#m3911a279e1\" y=\"75.599741\"/>\n     <use style=\"fill:#1f77b4;stroke:#1f77b4;\" x=\"104.024006\" xlink:href=\"#m3911a279e1\" y=\"80.999458\"/>\n     <use style=\"fill:#1f77b4;stroke:#1f77b4;\" x=\"132.06116\" xlink:href=\"#m3911a279e1\" y=\"82.833917\"/>\n     <use style=\"fill:#1f77b4;stroke:#1f77b4;\" x=\"111.929579\" xlink:href=\"#m3911a279e1\" y=\"85.854202\"/>\n     <use style=\"fill:#1f77b4;stroke:#1f77b4;\" x=\"116.985779\" xlink:href=\"#m3911a279e1\" y=\"82.197046\"/>\n     <use style=\"fill:#1f77b4;stroke:#1f77b4;\" x=\"105.359195\" xlink:href=\"#m3911a279e1\" y=\"92.321143\"/>\n     <use style=\"fill:#1f77b4;stroke:#1f77b4;\" x=\"148.639737\" xlink:href=\"#m3911a279e1\" y=\"25.003308\"/>\n     <use style=\"fill:#1f77b4;stroke:#1f77b4;\" x=\"129.879196\" xlink:href=\"#m3911a279e1\" y=\"71.162573\"/>\n     <use style=\"fill:#1f77b4;stroke:#1f77b4;\" x=\"162.833294\" xlink:href=\"#m3911a279e1\" y=\"32.7415\"/>\n     <use style=\"fill:#1f77b4;stroke:#1f77b4;\" x=\"114.625443\" xlink:href=\"#m3911a279e1\" y=\"96.475105\"/>\n     <use style=\"fill:#1f77b4;stroke:#1f77b4;\" x=\"82.168743\" xlink:href=\"#m3911a279e1\" y=\"91.763768\"/>\n     <use style=\"fill:#1f77b4;stroke:#1f77b4;\" x=\"109.657436\" xlink:href=\"#m3911a279e1\" y=\"55.280227\"/>\n     <use style=\"fill:#1f77b4;stroke:#1f77b4;\" x=\"81.896986\" xlink:href=\"#m3911a279e1\" y=\"96.168392\"/>\n     <use style=\"fill:#1f77b4;stroke:#1f77b4;\" x=\"140.583148\" xlink:href=\"#m3911a279e1\" y=\"78.651031\"/>\n     <use style=\"fill:#1f77b4;stroke:#1f77b4;\" x=\"84.407626\" xlink:href=\"#m3911a279e1\" y=\"93.962438\"/>\n     <use style=\"fill:#1f77b4;stroke:#1f77b4;\" x=\"154.270312\" xlink:href=\"#m3911a279e1\" y=\"74.707578\"/>\n     <use style=\"fill:#1f77b4;stroke:#1f77b4;\" x=\"97.058289\" xlink:href=\"#m3911a279e1\" y=\"59.49995\"/>\n     <use style=\"fill:#1f77b4;stroke:#1f77b4;\" x=\"79.98416\" xlink:href=\"#m3911a279e1\" y=\"104.552233\"/>\n     <use style=\"fill:#1f77b4;stroke:#1f77b4;\" x=\"99.642948\" xlink:href=\"#m3911a279e1\" y=\"76.994229\"/>\n     <use style=\"fill:#1f77b4;stroke:#1f77b4;\" x=\"110.467569\" xlink:href=\"#m3911a279e1\" y=\"92.339095\"/>\n     <use style=\"fill:#1f77b4;stroke:#1f77b4;\" x=\"142.88369\" xlink:href=\"#m3911a279e1\" y=\"68.663852\"/>\n     <use style=\"fill:#1f77b4;stroke:#1f77b4;\" x=\"126.705276\" xlink:href=\"#m3911a279e1\" y=\"58.132643\"/>\n     <use style=\"fill:#1f77b4;stroke:#1f77b4;\" x=\"104.14751\" xlink:href=\"#m3911a279e1\" y=\"76.421597\"/>\n     <use style=\"fill:#1f77b4;stroke:#1f77b4;\" x=\"120.868751\" xlink:href=\"#m3911a279e1\" y=\"49.040722\"/>\n     <use style=\"fill:#1f77b4;stroke:#1f77b4;\" x=\"92.622146\" xlink:href=\"#m3911a279e1\" y=\"72.936006\"/>\n     <use style=\"fill:#1f77b4;stroke:#1f77b4;\" x=\"132.392259\" xlink:href=\"#m3911a279e1\" y=\"72.678694\"/>\n     <use style=\"fill:#1f77b4;stroke:#1f77b4;\" x=\"110.200134\" xlink:href=\"#m3911a279e1\" y=\"48.684414\"/>\n     <use style=\"fill:#1f77b4;stroke:#1f77b4;\" x=\"148.334708\" xlink:href=\"#m3911a279e1\" y=\"65.367636\"/>\n     <use style=\"fill:#1f77b4;stroke:#1f77b4;\" x=\"221.727415\" xlink:href=\"#m3911a279e1\" y=\"37.585326\"/>\n     <use style=\"fill:#1f77b4;stroke:#1f77b4;\" x=\"122.115129\" xlink:href=\"#m3911a279e1\" y=\"81.78992\"/>\n     <use style=\"fill:#1f77b4;stroke:#1f77b4;\" x=\"101.847973\" xlink:href=\"#m3911a279e1\" y=\"92.887526\"/>\n     <use style=\"fill:#1f77b4;stroke:#1f77b4;\" x=\"142.911996\" xlink:href=\"#m3911a279e1\" y=\"81.950795\"/>\n     <use style=\"fill:#1f77b4;stroke:#1f77b4;\" x=\"107.816547\" xlink:href=\"#m3911a279e1\" y=\"69.642781\"/>\n     <use style=\"fill:#1f77b4;stroke:#1f77b4;\" x=\"77.04802\" xlink:href=\"#m3911a279e1\" y=\"72.445978\"/>\n     <use style=\"fill:#1f77b4;stroke:#1f77b4;\" x=\"86.467331\" xlink:href=\"#m3911a279e1\" y=\"101.107304\"/>\n     <use style=\"fill:#1f77b4;stroke:#1f77b4;\" x=\"149.037158\" xlink:href=\"#m3911a279e1\" y=\"82.390791\"/>\n     <use style=\"fill:#1f77b4;stroke:#1f77b4;\" x=\"119.854522\" xlink:href=\"#m3911a279e1\" y=\"79.365922\"/>\n     <use style=\"fill:#1f77b4;stroke:#1f77b4;\" x=\"89.750812\" xlink:href=\"#m3911a279e1\" y=\"85.503774\"/>\n     <use style=\"fill:#1f77b4;stroke:#1f77b4;\" x=\"114.943451\" xlink:href=\"#m3911a279e1\" y=\"91.283451\"/>\n     <use style=\"fill:#1f77b4;stroke:#1f77b4;\" x=\"106.704594\" xlink:href=\"#m3911a279e1\" y=\"83.655414\"/>\n     <use style=\"fill:#1f77b4;stroke:#1f77b4;\" x=\"106.835109\" xlink:href=\"#m3911a279e1\" y=\"59.14318\"/>\n     <use style=\"fill:#1f77b4;stroke:#1f77b4;\" x=\"112.040956\" xlink:href=\"#m3911a279e1\" y=\"73.798768\"/>\n     <use style=\"fill:#1f77b4;stroke:#1f77b4;\" x=\"102.734041\" xlink:href=\"#m3911a279e1\" y=\"85.781245\"/>\n     <use style=\"fill:#1f77b4;stroke:#1f77b4;\" x=\"112.309952\" xlink:href=\"#m3911a279e1\" y=\"85.870924\"/>\n     <use style=\"fill:#1f77b4;stroke:#1f77b4;\" x=\"154.860121\" xlink:href=\"#m3911a279e1\" y=\"68.584838\"/>\n     <use style=\"fill:#1f77b4;stroke:#1f77b4;\" x=\"107.836659\" xlink:href=\"#m3911a279e1\" y=\"78.453205\"/>\n     <use style=\"fill:#1f77b4;stroke:#1f77b4;\" x=\"141.338669\" xlink:href=\"#m3911a279e1\" y=\"38.027282\"/>\n     <use style=\"fill:#1f77b4;stroke:#1f77b4;\" x=\"73.944679\" xlink:href=\"#m3911a279e1\" y=\"108.140611\"/>\n     <use style=\"fill:#1f77b4;stroke:#1f77b4;\" x=\"94.313467\" xlink:href=\"#m3911a279e1\" y=\"66.938132\"/>\n     <use style=\"fill:#1f77b4;stroke:#1f77b4;\" x=\"128.260713\" xlink:href=\"#m3911a279e1\" y=\"85.00858\"/>\n     <use style=\"fill:#1f77b4;stroke:#1f77b4;\" x=\"127.397423\" xlink:href=\"#m3911a279e1\" y=\"67.170854\"/>\n     <use style=\"fill:#1f77b4;stroke:#1f77b4;\" x=\"101.73931\" xlink:href=\"#m3911a279e1\" y=\"52.582647\"/>\n     <use style=\"fill:#1f77b4;stroke:#1f77b4;\" x=\"136.646743\" xlink:href=\"#m3911a279e1\" y=\"77.723397\"/>\n     <use style=\"fill:#1f77b4;stroke:#1f77b4;\" x=\"94.775069\" xlink:href=\"#m3911a279e1\" y=\"98.877445\"/>\n     <use style=\"fill:#1f77b4;stroke:#1f77b4;\" x=\"103.468252\" xlink:href=\"#m3911a279e1\" y=\"86.807089\"/>\n     <use style=\"fill:#1f77b4;stroke:#1f77b4;\" x=\"143.675911\" xlink:href=\"#m3911a279e1\" y=\"73.039601\"/>\n     <use style=\"fill:#1f77b4;stroke:#1f77b4;\" x=\"107.699885\" xlink:href=\"#m3911a279e1\" y=\"82.405229\"/>\n     <use style=\"fill:#1f77b4;stroke:#1f77b4;\" x=\"116.605005\" xlink:href=\"#m3911a279e1\" y=\"69.753226\"/>\n     <use style=\"fill:#1f77b4;stroke:#1f77b4;\" x=\"102.344909\" xlink:href=\"#m3911a279e1\" y=\"70.871419\"/>\n     <use style=\"fill:#1f77b4;stroke:#1f77b4;\" x=\"107.286544\" xlink:href=\"#m3911a279e1\" y=\"91.38939\"/>\n     <use style=\"fill:#1f77b4;stroke:#1f77b4;\" x=\"133.769274\" xlink:href=\"#m3911a279e1\" y=\"57.602761\"/>\n     <use style=\"fill:#1f77b4;stroke:#1f77b4;\" x=\"141.566982\" xlink:href=\"#m3911a279e1\" y=\"77.116811\"/>\n     <use style=\"fill:#1f77b4;stroke:#1f77b4;\" x=\"99.026721\" xlink:href=\"#m3911a279e1\" y=\"72.235021\"/>\n     <use style=\"fill:#1f77b4;stroke:#1f77b4;\" x=\"147.642051\" xlink:href=\"#m3911a279e1\" y=\"72.79562\"/>\n     <use style=\"fill:#1f77b4;stroke:#1f77b4;\" x=\"82.592585\" xlink:href=\"#m3911a279e1\" y=\"113.64443\"/>\n     <use style=\"fill:#1f77b4;stroke:#1f77b4;\" x=\"107.594912\" xlink:href=\"#m3911a279e1\" y=\"64.963689\"/>\n     <use style=\"fill:#1f77b4;stroke:#1f77b4;\" x=\"94.47726\" xlink:href=\"#m3911a279e1\" y=\"43.116613\"/>\n     <use style=\"fill:#1f77b4;stroke:#1f77b4;\" x=\"82.214891\" xlink:href=\"#m3911a279e1\" y=\"111.278032\"/>\n     <use style=\"fill:#1f77b4;stroke:#1f77b4;\" x=\"111.373704\" xlink:href=\"#m3911a279e1\" y=\"72.227461\"/>\n     <use style=\"fill:#1f77b4;stroke:#1f77b4;\" x=\"110.333834\" xlink:href=\"#m3911a279e1\" y=\"85.446217\"/>\n     <use style=\"fill:#1f77b4;stroke:#1f77b4;\" x=\"119.502663\" xlink:href=\"#m3911a279e1\" y=\"66.769863\"/>\n     <use style=\"fill:#1f77b4;stroke:#1f77b4;\" x=\"120.625799\" xlink:href=\"#m3911a279e1\" y=\"60.11848\"/>\n     <use style=\"fill:#1f77b4;stroke:#1f77b4;\" x=\"149.970392\" xlink:href=\"#m3911a279e1\" y=\"36.114033\"/>\n     <use style=\"fill:#1f77b4;stroke:#1f77b4;\" x=\"129.059887\" xlink:href=\"#m3911a279e1\" y=\"72.670875\"/>\n     <use style=\"fill:#1f77b4;stroke:#1f77b4;\" x=\"89.80553\" xlink:href=\"#m3911a279e1\" y=\"96.845772\"/>\n     <use style=\"fill:#1f77b4;stroke:#1f77b4;\" x=\"102.563315\" xlink:href=\"#m3911a279e1\" y=\"76.408334\"/>\n     <use style=\"fill:#1f77b4;stroke:#1f77b4;\" x=\"93.194304\" xlink:href=\"#m3911a279e1\" y=\"99.191709\"/>\n     <use style=\"fill:#1f77b4;stroke:#1f77b4;\" x=\"111.959162\" xlink:href=\"#m3911a279e1\" y=\"67.872956\"/>\n     <use style=\"fill:#1f77b4;stroke:#1f77b4;\" x=\"124.908572\" xlink:href=\"#m3911a279e1\" y=\"71.3122\"/>\n     <use style=\"fill:#1f77b4;stroke:#1f77b4;\" x=\"144.656027\" xlink:href=\"#m3911a279e1\" y=\"41.004602\"/>\n     <use style=\"fill:#1f77b4;stroke:#1f77b4;\" x=\"82.579587\" xlink:href=\"#m3911a279e1\" y=\"111.246676\"/>\n     <use style=\"fill:#1f77b4;stroke:#1f77b4;\" x=\"136.493396\" xlink:href=\"#m3911a279e1\" y=\"65.63662\"/>\n     <use style=\"fill:#1f77b4;stroke:#1f77b4;\" x=\"105.525274\" xlink:href=\"#m3911a279e1\" y=\"74.751565\"/>\n     <use style=\"fill:#1f77b4;stroke:#1f77b4;\" x=\"118.10377\" xlink:href=\"#m3911a279e1\" y=\"81.103116\"/>\n     <use style=\"fill:#1f77b4;stroke:#1f77b4;\" x=\"119.805402\" xlink:href=\"#m3911a279e1\" y=\"89.861603\"/>\n     <use style=\"fill:#1f77b4;stroke:#1f77b4;\" x=\"80.878014\" xlink:href=\"#m3911a279e1\" y=\"109.959819\"/>\n     <use style=\"fill:#1f77b4;stroke:#1f77b4;\" x=\"139.53317\" xlink:href=\"#m3911a279e1\" y=\"36.773993\"/>\n     <use style=\"fill:#1f77b4;stroke:#1f77b4;\" x=\"128.506405\" xlink:href=\"#m3911a279e1\" y=\"67.890495\"/>\n     <use style=\"fill:#1f77b4;stroke:#1f77b4;\" x=\"91.249722\" xlink:href=\"#m3911a279e1\" y=\"106.242641\"/>\n     <use style=\"fill:#1f77b4;stroke:#1f77b4;\" x=\"123.11792\" xlink:href=\"#m3911a279e1\" y=\"78.743957\"/>\n     <use style=\"fill:#1f77b4;stroke:#1f77b4;\" x=\"122.239524\" xlink:href=\"#m3911a279e1\" y=\"65.396589\"/>\n     <use style=\"fill:#1f77b4;stroke:#1f77b4;\" x=\"116.803168\" xlink:href=\"#m3911a279e1\" y=\"71.426657\"/>\n     <use style=\"fill:#1f77b4;stroke:#1f77b4;\" x=\"125.464835\" xlink:href=\"#m3911a279e1\" y=\"69.345723\"/>\n     <use style=\"fill:#1f77b4;stroke:#1f77b4;\" x=\"115.972119\" xlink:href=\"#m3911a279e1\" y=\"93.195768\"/>\n     <use style=\"fill:#1f77b4;stroke:#1f77b4;\" x=\"84.805432\" xlink:href=\"#m3911a279e1\" y=\"67.809772\"/>\n     <use style=\"fill:#1f77b4;stroke:#1f77b4;\" x=\"133.798178\" xlink:href=\"#m3911a279e1\" y=\"71.874897\"/>\n     <use style=\"fill:#1f77b4;stroke:#1f77b4;\" x=\"148.787622\" xlink:href=\"#m3911a279e1\" y=\"71.727905\"/>\n     <use style=\"fill:#1f77b4;stroke:#1f77b4;\" x=\"109.185586\" xlink:href=\"#m3911a279e1\" y=\"67.838881\"/>\n     <use style=\"fill:#1f77b4;stroke:#1f77b4;\" x=\"108.442126\" xlink:href=\"#m3911a279e1\" y=\"93.484312\"/>\n     <use style=\"fill:#1f77b4;stroke:#1f77b4;\" x=\"119.075662\" xlink:href=\"#m3911a279e1\" y=\"84.024852\"/>\n     <use style=\"fill:#1f77b4;stroke:#1f77b4;\" x=\"107.860981\" xlink:href=\"#m3911a279e1\" y=\"72.932776\"/>\n     <use style=\"fill:#1f77b4;stroke:#1f77b4;\" x=\"108.143261\" xlink:href=\"#m3911a279e1\" y=\"77.118333\"/>\n     <use style=\"fill:#1f77b4;stroke:#1f77b4;\" x=\"107.509049\" xlink:href=\"#m3911a279e1\" y=\"84.493026\"/>\n     <use style=\"fill:#1f77b4;stroke:#1f77b4;\" x=\"142.951852\" xlink:href=\"#m3911a279e1\" y=\"52.071275\"/>\n     <use style=\"fill:#1f77b4;stroke:#1f77b4;\" x=\"79.851767\" xlink:href=\"#m3911a279e1\" y=\"105.232294\"/>\n     <use style=\"fill:#1f77b4;stroke:#1f77b4;\" x=\"93.321992\" xlink:href=\"#m3911a279e1\" y=\"116.731754\"/>\n     <use style=\"fill:#1f77b4;stroke:#1f77b4;\" x=\"103.747217\" xlink:href=\"#m3911a279e1\" y=\"50.693902\"/>\n     <use style=\"fill:#1f77b4;stroke:#1f77b4;\" x=\"120.242447\" xlink:href=\"#m3911a279e1\" y=\"53.234032\"/>\n     <use style=\"fill:#1f77b4;stroke:#1f77b4;\" x=\"96.533085\" xlink:href=\"#m3911a279e1\" y=\"85.716006\"/>\n     <use style=\"fill:#1f77b4;stroke:#1f77b4;\" x=\"130.244618\" xlink:href=\"#m3911a279e1\" y=\"31.099445\"/>\n     <use style=\"fill:#1f77b4;stroke:#1f77b4;\" x=\"135.261771\" xlink:href=\"#m3911a279e1\" y=\"65.762466\"/>\n     <use style=\"fill:#1f77b4;stroke:#1f77b4;\" x=\"153.370453\" xlink:href=\"#m3911a279e1\" y=\"53.189322\"/>\n     <use style=\"fill:#1f77b4;stroke:#1f77b4;\" x=\"104.688661\" xlink:href=\"#m3911a279e1\" y=\"91.768128\"/>\n     <use style=\"fill:#1f77b4;stroke:#1f77b4;\" x=\"91.087089\" xlink:href=\"#m3911a279e1\" y=\"69.525635\"/>\n     <use style=\"fill:#1f77b4;stroke:#1f77b4;\" x=\"119.656044\" xlink:href=\"#m3911a279e1\" y=\"45.548386\"/>\n     <use style=\"fill:#1f77b4;stroke:#1f77b4;\" x=\"160.523727\" xlink:href=\"#m3911a279e1\" y=\"18.286036\"/>\n     <use style=\"fill:#1f77b4;stroke:#1f77b4;\" x=\"144.623021\" xlink:href=\"#m3911a279e1\" y=\"64.27311\"/>\n     <use style=\"fill:#1f77b4;stroke:#1f77b4;\" x=\"159.370659\" xlink:href=\"#m3911a279e1\" y=\"47.035001\"/>\n     <use style=\"fill:#1f77b4;stroke:#1f77b4;\" x=\"98.780013\" xlink:href=\"#m3911a279e1\" y=\"74.441068\"/>\n     <use style=\"fill:#1f77b4;stroke:#1f77b4;\" x=\"138.57485\" xlink:href=\"#m3911a279e1\" y=\"54.528544\"/>\n     <use style=\"fill:#1f77b4;stroke:#1f77b4;\" x=\"126.473903\" xlink:href=\"#m3911a279e1\" y=\"56.706508\"/>\n     <use style=\"fill:#1f77b4;stroke:#1f77b4;\" x=\"91.146695\" xlink:href=\"#m3911a279e1\" y=\"72.775271\"/>\n     <use style=\"fill:#1f77b4;stroke:#1f77b4;\" x=\"130.802282\" xlink:href=\"#m3911a279e1\" y=\"60.256396\"/>\n     <use style=\"fill:#1f77b4;stroke:#1f77b4;\" x=\"129.26484\" xlink:href=\"#m3911a279e1\" y=\"53.209968\"/>\n     <use style=\"fill:#1f77b4;stroke:#1f77b4;\" x=\"121.781458\" xlink:href=\"#m3911a279e1\" y=\"87.852174\"/>\n     <use style=\"fill:#1f77b4;stroke:#1f77b4;\" x=\"114.845124\" xlink:href=\"#m3911a279e1\" y=\"77.125155\"/>\n     <use style=\"fill:#1f77b4;stroke:#1f77b4;\" x=\"106.920681\" xlink:href=\"#m3911a279e1\" y=\"78.703355\"/>\n     <use style=\"fill:#1f77b4;stroke:#1f77b4;\" x=\"97.873404\" xlink:href=\"#m3911a279e1\" y=\"69.663589\"/>\n     <use style=\"fill:#1f77b4;stroke:#1f77b4;\" x=\"94.553904\" xlink:href=\"#m3911a279e1\" y=\"79.972986\"/>\n     <use style=\"fill:#1f77b4;stroke:#1f77b4;\" x=\"136.18926\" xlink:href=\"#m3911a279e1\" y=\"34.461323\"/>\n     <use style=\"fill:#1f77b4;stroke:#1f77b4;\" x=\"155.938882\" xlink:href=\"#m3911a279e1\" y=\"39.160277\"/>\n     <use style=\"fill:#1f77b4;stroke:#1f77b4;\" x=\"118.81411\" xlink:href=\"#m3911a279e1\" y=\"63.573641\"/>\n     <use style=\"fill:#1f77b4;stroke:#1f77b4;\" x=\"117.796788\" xlink:href=\"#m3911a279e1\" y=\"78.159049\"/>\n     <use style=\"fill:#1f77b4;stroke:#1f77b4;\" x=\"105.584112\" xlink:href=\"#m3911a279e1\" y=\"87.947645\"/>\n     <use style=\"fill:#1f77b4;stroke:#1f77b4;\" x=\"131.089898\" xlink:href=\"#m3911a279e1\" y=\"40.420274\"/>\n     <use style=\"fill:#1f77b4;stroke:#1f77b4;\" x=\"101.564131\" xlink:href=\"#m3911a279e1\" y=\"98.701552\"/>\n     <use style=\"fill:#1f77b4;stroke:#1f77b4;\" x=\"113.82183\" xlink:href=\"#m3911a279e1\" y=\"59.052166\"/>\n     <use style=\"fill:#1f77b4;stroke:#1f77b4;\" x=\"116.116988\" xlink:href=\"#m3911a279e1\" y=\"44.036548\"/>\n     <use style=\"fill:#1f77b4;stroke:#1f77b4;\" x=\"146.581113\" xlink:href=\"#m3911a279e1\" y=\"77.462659\"/>\n     <use style=\"fill:#1f77b4;stroke:#1f77b4;\" x=\"111.08859\" xlink:href=\"#m3911a279e1\" y=\"85.142649\"/>\n     <use style=\"fill:#1f77b4;stroke:#1f77b4;\" x=\"137.02327\" xlink:href=\"#m3911a279e1\" y=\"47.828306\"/>\n     <use style=\"fill:#1f77b4;stroke:#1f77b4;\" x=\"119.827996\" xlink:href=\"#m3911a279e1\" y=\"70.56844\"/>\n     <use style=\"fill:#1f77b4;stroke:#1f77b4;\" x=\"95.531601\" xlink:href=\"#m3911a279e1\" y=\"92.845715\"/>\n     <use style=\"fill:#1f77b4;stroke:#1f77b4;\" x=\"124.032305\" xlink:href=\"#m3911a279e1\" y=\"50.724292\"/>\n     <use style=\"fill:#1f77b4;stroke:#1f77b4;\" x=\"147.739649\" xlink:href=\"#m3911a279e1\" y=\"74.000943\"/>\n     <use style=\"fill:#1f77b4;stroke:#1f77b4;\" x=\"102.310863\" xlink:href=\"#m3911a279e1\" y=\"68.979138\"/>\n     <use style=\"fill:#1f77b4;stroke:#1f77b4;\" x=\"88.858499\" xlink:href=\"#m3911a279e1\" y=\"106.281233\"/>\n     <use style=\"fill:#1f77b4;stroke:#1f77b4;\" x=\"113.058221\" xlink:href=\"#m3911a279e1\" y=\"43.433068\"/>\n     <use style=\"fill:#1f77b4;stroke:#1f77b4;\" x=\"110.457907\" xlink:href=\"#m3911a279e1\" y=\"100.165372\"/>\n     <use style=\"fill:#1f77b4;stroke:#1f77b4;\" x=\"113.411831\" xlink:href=\"#m3911a279e1\" y=\"75.602504\"/>\n     <use style=\"fill:#1f77b4;stroke:#1f77b4;\" x=\"84.654996\" xlink:href=\"#m3911a279e1\" y=\"98.709\"/>\n     <use style=\"fill:#1f77b4;stroke:#1f77b4;\" x=\"131.008269\" xlink:href=\"#m3911a279e1\" y=\"76.868376\"/>\n     <use style=\"fill:#1f77b4;stroke:#1f77b4;\" x=\"109.326556\" xlink:href=\"#m3911a279e1\" y=\"70.483419\"/>\n     <use style=\"fill:#1f77b4;stroke:#1f77b4;\" x=\"115.103002\" xlink:href=\"#m3911a279e1\" y=\"74.845302\"/>\n     <use style=\"fill:#1f77b4;stroke:#1f77b4;\" x=\"99.997005\" xlink:href=\"#m3911a279e1\" y=\"65.376447\"/>\n     <use style=\"fill:#1f77b4;stroke:#1f77b4;\" x=\"121.887889\" xlink:href=\"#m3911a279e1\" y=\"76.789188\"/>\n     <use style=\"fill:#1f77b4;stroke:#1f77b4;\" x=\"151.194471\" xlink:href=\"#m3911a279e1\" y=\"54.862065\"/>\n     <use style=\"fill:#1f77b4;stroke:#1f77b4;\" x=\"135.343156\" xlink:href=\"#m3911a279e1\" y=\"68.148195\"/>\n     <use style=\"fill:#1f77b4;stroke:#1f77b4;\" x=\"136.232837\" xlink:href=\"#m3911a279e1\" y=\"63.393567\"/>\n     <use style=\"fill:#1f77b4;stroke:#1f77b4;\" x=\"151.647941\" xlink:href=\"#m3911a279e1\" y=\"41.903775\"/>\n     <use style=\"fill:#1f77b4;stroke:#1f77b4;\" x=\"107.761728\" xlink:href=\"#m3911a279e1\" y=\"79.490639\"/>\n     <use style=\"fill:#1f77b4;stroke:#1f77b4;\" x=\"138.837015\" xlink:href=\"#m3911a279e1\" y=\"81.382129\"/>\n     <use style=\"fill:#1f77b4;stroke:#1f77b4;\" x=\"115.275943\" xlink:href=\"#m3911a279e1\" y=\"67.473438\"/>\n     <use style=\"fill:#1f77b4;stroke:#1f77b4;\" x=\"118.862427\" xlink:href=\"#m3911a279e1\" y=\"66.223895\"/>\n     <use style=\"fill:#1f77b4;stroke:#1f77b4;\" x=\"119.475588\" xlink:href=\"#m3911a279e1\" y=\"92.799215\"/>\n     <use style=\"fill:#1f77b4;stroke:#1f77b4;\" x=\"112.591418\" xlink:href=\"#m3911a279e1\" y=\"54.413041\"/>\n     <use style=\"fill:#1f77b4;stroke:#1f77b4;\" x=\"94.792945\" xlink:href=\"#m3911a279e1\" y=\"79.551784\"/>\n     <use style=\"fill:#1f77b4;stroke:#1f77b4;\" x=\"120.551884\" xlink:href=\"#m3911a279e1\" y=\"54.606988\"/>\n     <use style=\"fill:#1f77b4;stroke:#1f77b4;\" x=\"151.003266\" xlink:href=\"#m3911a279e1\" y=\"79.918654\"/>\n     <use style=\"fill:#1f77b4;stroke:#1f77b4;\" x=\"116.816827\" xlink:href=\"#m3911a279e1\" y=\"73.014717\"/>\n     <use style=\"fill:#1f77b4;stroke:#1f77b4;\" x=\"123.080743\" xlink:href=\"#m3911a279e1\" y=\"38.593126\"/>\n     <use style=\"fill:#1f77b4;stroke:#1f77b4;\" x=\"89.313171\" xlink:href=\"#m3911a279e1\" y=\"67.224206\"/>\n     <use style=\"fill:#1f77b4;stroke:#1f77b4;\" x=\"118.460432\" xlink:href=\"#m3911a279e1\" y=\"84.67137\"/>\n     <use style=\"fill:#1f77b4;stroke:#1f77b4;\" x=\"107.349414\" xlink:href=\"#m3911a279e1\" y=\"89.663262\"/>\n     <use style=\"fill:#1f77b4;stroke:#1f77b4;\" x=\"133.588116\" xlink:href=\"#m3911a279e1\" y=\"58.678922\"/>\n     <use style=\"fill:#1f77b4;stroke:#1f77b4;\" x=\"144.017531\" xlink:href=\"#m3911a279e1\" y=\"58.932359\"/>\n     <use style=\"fill:#1f77b4;stroke:#1f77b4;\" x=\"122.961039\" xlink:href=\"#m3911a279e1\" y=\"76.244073\"/>\n     <use style=\"fill:#1f77b4;stroke:#1f77b4;\" x=\"117.386388\" xlink:href=\"#m3911a279e1\" y=\"80.75821\"/>\n     <use style=\"fill:#1f77b4;stroke:#1f77b4;\" x=\"113.884362\" xlink:href=\"#m3911a279e1\" y=\"87.078801\"/>\n     <use style=\"fill:#1f77b4;stroke:#1f77b4;\" x=\"126.167423\" xlink:href=\"#m3911a279e1\" y=\"56.044737\"/>\n     <use style=\"fill:#1f77b4;stroke:#1f77b4;\" x=\"109.02768\" xlink:href=\"#m3911a279e1\" y=\"96.984652\"/>\n     <use style=\"fill:#1f77b4;stroke:#1f77b4;\" x=\"93.301154\" xlink:href=\"#m3911a279e1\" y=\"89.192621\"/>\n     <use style=\"fill:#1f77b4;stroke:#1f77b4;\" x=\"122.599503\" xlink:href=\"#m3911a279e1\" y=\"61.875041\"/>\n     <use style=\"fill:#1f77b4;stroke:#1f77b4;\" x=\"141.884755\" xlink:href=\"#m3911a279e1\" y=\"85.637524\"/>\n     <use style=\"fill:#1f77b4;stroke:#1f77b4;\" x=\"98.078608\" xlink:href=\"#m3911a279e1\" y=\"93.476813\"/>\n     <use style=\"fill:#1f77b4;stroke:#1f77b4;\" x=\"121.512883\" xlink:href=\"#m3911a279e1\" y=\"56.156778\"/>\n     <use style=\"fill:#1f77b4;stroke:#1f77b4;\" x=\"110.114219\" xlink:href=\"#m3911a279e1\" y=\"78.049594\"/>\n     <use style=\"fill:#1f77b4;stroke:#1f77b4;\" x=\"87.060302\" xlink:href=\"#m3911a279e1\" y=\"113.891893\"/>\n     <use style=\"fill:#1f77b4;stroke:#1f77b4;\" x=\"150.722361\" xlink:href=\"#m3911a279e1\" y=\"67.299342\"/>\n     <use style=\"fill:#1f77b4;stroke:#1f77b4;\" x=\"101.069613\" xlink:href=\"#m3911a279e1\" y=\"85.312842\"/>\n     <use style=\"fill:#1f77b4;stroke:#1f77b4;\" x=\"149.00111\" xlink:href=\"#m3911a279e1\" y=\"78.534713\"/>\n     <use style=\"fill:#1f77b4;stroke:#1f77b4;\" x=\"128.08716\" xlink:href=\"#m3911a279e1\" y=\"101.30832\"/>\n     <use style=\"fill:#1f77b4;stroke:#1f77b4;\" x=\"98.539014\" xlink:href=\"#m3911a279e1\" y=\"90.680165\"/>\n     <use style=\"fill:#1f77b4;stroke:#1f77b4;\" x=\"136.693576\" xlink:href=\"#m3911a279e1\" y=\"78.425287\"/>\n     <use style=\"fill:#1f77b4;stroke:#1f77b4;\" x=\"111.425234\" xlink:href=\"#m3911a279e1\" y=\"76.627697\"/>\n     <use style=\"fill:#1f77b4;stroke:#1f77b4;\" x=\"134.758824\" xlink:href=\"#m3911a279e1\" y=\"24.961678\"/>\n     <use style=\"fill:#1f77b4;stroke:#1f77b4;\" x=\"101.274398\" xlink:href=\"#m3911a279e1\" y=\"56.977633\"/>\n     <use style=\"fill:#1f77b4;stroke:#1f77b4;\" x=\"130.707953\" xlink:href=\"#m3911a279e1\" y=\"60.504619\"/>\n     <use style=\"fill:#1f77b4;stroke:#1f77b4;\" x=\"120.648649\" xlink:href=\"#m3911a279e1\" y=\"51.728509\"/>\n     <use style=\"fill:#1f77b4;stroke:#1f77b4;\" x=\"116.084589\" xlink:href=\"#m3911a279e1\" y=\"73.759485\"/>\n     <use style=\"fill:#1f77b4;stroke:#1f77b4;\" x=\"106.911199\" xlink:href=\"#m3911a279e1\" y=\"79.435898\"/>\n     <use style=\"fill:#1f77b4;stroke:#1f77b4;\" x=\"113.021916\" xlink:href=\"#m3911a279e1\" y=\"74.914607\"/>\n     <use style=\"fill:#1f77b4;stroke:#1f77b4;\" x=\"112.822804\" xlink:href=\"#m3911a279e1\" y=\"74.054487\"/>\n     <use style=\"fill:#1f77b4;stroke:#1f77b4;\" x=\"84.566466\" xlink:href=\"#m3911a279e1\" y=\"91.020531\"/>\n     <use style=\"fill:#1f77b4;stroke:#1f77b4;\" x=\"98.687177\" xlink:href=\"#m3911a279e1\" y=\"73.49769\"/>\n     <use style=\"fill:#1f77b4;stroke:#1f77b4;\" x=\"113.571202\" xlink:href=\"#m3911a279e1\" y=\"70.361877\"/>\n     <use style=\"fill:#1f77b4;stroke:#1f77b4;\" x=\"68.535208\" xlink:href=\"#m3911a279e1\" y=\"118.423258\"/>\n     <use style=\"fill:#1f77b4;stroke:#1f77b4;\" x=\"119.20016\" xlink:href=\"#m3911a279e1\" y=\"67.201636\"/>\n     <use style=\"fill:#1f77b4;stroke:#1f77b4;\" x=\"143.585403\" xlink:href=\"#m3911a279e1\" y=\"47.734374\"/>\n     <use style=\"fill:#1f77b4;stroke:#1f77b4;\" x=\"112.522818\" xlink:href=\"#m3911a279e1\" y=\"49.595424\"/>\n     <use style=\"fill:#1f77b4;stroke:#1f77b4;\" x=\"174.164001\" xlink:href=\"#m3911a279e1\" y=\"38.120924\"/>\n     <use style=\"fill:#1f77b4;stroke:#1f77b4;\" x=\"103.353458\" xlink:href=\"#m3911a279e1\" y=\"93.302053\"/>\n     <use style=\"fill:#1f77b4;stroke:#1f77b4;\" x=\"84.493961\" xlink:href=\"#m3911a279e1\" y=\"67.563204\"/>\n     <use style=\"fill:#1f77b4;stroke:#1f77b4;\" x=\"123.123098\" xlink:href=\"#m3911a279e1\" y=\"71.867116\"/>\n     <use style=\"fill:#1f77b4;stroke:#1f77b4;\" x=\"102.40497\" xlink:href=\"#m3911a279e1\" y=\"108.874784\"/>\n     <use style=\"fill:#1f77b4;stroke:#1f77b4;\" x=\"77.061015\" xlink:href=\"#m3911a279e1\" y=\"70.326708\"/>\n     <use style=\"fill:#1f77b4;stroke:#1f77b4;\" x=\"69.853587\" xlink:href=\"#m3911a279e1\" y=\"69.15669\"/>\n     <use style=\"fill:#1f77b4;stroke:#1f77b4;\" x=\"80.704977\" xlink:href=\"#m3911a279e1\" y=\"73.215582\"/>\n     <use style=\"fill:#1f77b4;stroke:#1f77b4;\" x=\"123.32693\" xlink:href=\"#m3911a279e1\" y=\"60.558435\"/>\n     <use style=\"fill:#1f77b4;stroke:#1f77b4;\" x=\"150.197216\" xlink:href=\"#m3911a279e1\" y=\"62.986448\"/>\n     <use style=\"fill:#1f77b4;stroke:#1f77b4;\" x=\"85.964469\" xlink:href=\"#m3911a279e1\" y=\"65.025972\"/>\n     <use style=\"fill:#1f77b4;stroke:#1f77b4;\" x=\"127.73191\" xlink:href=\"#m3911a279e1\" y=\"59.532936\"/>\n     <use style=\"fill:#1f77b4;stroke:#1f77b4;\" x=\"97.111671\" xlink:href=\"#m3911a279e1\" y=\"78.536563\"/>\n     <use style=\"fill:#1f77b4;stroke:#1f77b4;\" x=\"131.880391\" xlink:href=\"#m3911a279e1\" y=\"61.226774\"/>\n     <use style=\"fill:#1f77b4;stroke:#1f77b4;\" x=\"139.924049\" xlink:href=\"#m3911a279e1\" y=\"56.013639\"/>\n     <use style=\"fill:#1f77b4;stroke:#1f77b4;\" x=\"84.31189\" xlink:href=\"#m3911a279e1\" y=\"54.612899\"/>\n     <use style=\"fill:#1f77b4;stroke:#1f77b4;\" x=\"119.001589\" xlink:href=\"#m3911a279e1\" y=\"62.710946\"/>\n     <use style=\"fill:#1f77b4;stroke:#1f77b4;\" x=\"99.612636\" xlink:href=\"#m3911a279e1\" y=\"99.911854\"/>\n     <use style=\"fill:#1f77b4;stroke:#1f77b4;\" x=\"104.313061\" xlink:href=\"#m3911a279e1\" y=\"81.77242\"/>\n     <use style=\"fill:#1f77b4;stroke:#1f77b4;\" x=\"136.368762\" xlink:href=\"#m3911a279e1\" y=\"41.538026\"/>\n     <use style=\"fill:#1f77b4;stroke:#1f77b4;\" x=\"136.762522\" xlink:href=\"#m3911a279e1\" y=\"49.789333\"/>\n     <use style=\"fill:#1f77b4;stroke:#1f77b4;\" x=\"124.818286\" xlink:href=\"#m3911a279e1\" y=\"67.298212\"/>\n     <use style=\"fill:#1f77b4;stroke:#1f77b4;\" x=\"136.581812\" xlink:href=\"#m3911a279e1\" y=\"96.261072\"/>\n     <use style=\"fill:#1f77b4;stroke:#1f77b4;\" x=\"111.944064\" xlink:href=\"#m3911a279e1\" y=\"76.177912\"/>\n     <use style=\"fill:#1f77b4;stroke:#1f77b4;\" x=\"133.756943\" xlink:href=\"#m3911a279e1\" y=\"78.482632\"/>\n     <use style=\"fill:#1f77b4;stroke:#1f77b4;\" x=\"125.772341\" xlink:href=\"#m3911a279e1\" y=\"66.867687\"/>\n     <use style=\"fill:#1f77b4;stroke:#1f77b4;\" x=\"143.968599\" xlink:href=\"#m3911a279e1\" y=\"49.687716\"/>\n     <use style=\"fill:#1f77b4;stroke:#1f77b4;\" x=\"127.327603\" xlink:href=\"#m3911a279e1\" y=\"49.463066\"/>\n     <use style=\"fill:#1f77b4;stroke:#1f77b4;\" x=\"97.420571\" xlink:href=\"#m3911a279e1\" y=\"95.353388\"/>\n     <use style=\"fill:#1f77b4;stroke:#1f77b4;\" x=\"123.618802\" xlink:href=\"#m3911a279e1\" y=\"61.8054\"/>\n     <use style=\"fill:#1f77b4;stroke:#1f77b4;\" x=\"133.110583\" xlink:href=\"#m3911a279e1\" y=\"62.310708\"/>\n     <use style=\"fill:#1f77b4;stroke:#1f77b4;\" x=\"130.521898\" xlink:href=\"#m3911a279e1\" y=\"33.111235\"/>\n     <use style=\"fill:#1f77b4;stroke:#1f77b4;\" x=\"101.360667\" xlink:href=\"#m3911a279e1\" y=\"78.711862\"/>\n     <use style=\"fill:#1f77b4;stroke:#1f77b4;\" x=\"133.556082\" xlink:href=\"#m3911a279e1\" y=\"37.9227\"/>\n     <use style=\"fill:#1f77b4;stroke:#1f77b4;\" x=\"139.066963\" xlink:href=\"#m3911a279e1\" y=\"74.638837\"/>\n     <use style=\"fill:#1f77b4;stroke:#1f77b4;\" x=\"133.535774\" xlink:href=\"#m3911a279e1\" y=\"71.847259\"/>\n     <use style=\"fill:#1f77b4;stroke:#1f77b4;\" x=\"106.068125\" xlink:href=\"#m3911a279e1\" y=\"88.058342\"/>\n     <use style=\"fill:#1f77b4;stroke:#1f77b4;\" x=\"158.87561\" xlink:href=\"#m3911a279e1\" y=\"81.301903\"/>\n     <use style=\"fill:#1f77b4;stroke:#1f77b4;\" x=\"118.205985\" xlink:href=\"#m3911a279e1\" y=\"53.232183\"/>\n     <use style=\"fill:#1f77b4;stroke:#1f77b4;\" x=\"113.870384\" xlink:href=\"#m3911a279e1\" y=\"79.18337\"/>\n     <use style=\"fill:#1f77b4;stroke:#1f77b4;\" x=\"78.436083\" xlink:href=\"#m3911a279e1\" y=\"83.486236\"/>\n     <use style=\"fill:#1f77b4;stroke:#1f77b4;\" x=\"126.258499\" xlink:href=\"#m3911a279e1\" y=\"73.45887\"/>\n     <use style=\"fill:#1f77b4;stroke:#1f77b4;\" x=\"112.409146\" xlink:href=\"#m3911a279e1\" y=\"73.298593\"/>\n     <use style=\"fill:#1f77b4;stroke:#1f77b4;\" x=\"139.275689\" xlink:href=\"#m3911a279e1\" y=\"51.550607\"/>\n     <use style=\"fill:#1f77b4;stroke:#1f77b4;\" x=\"99.222644\" xlink:href=\"#m3911a279e1\" y=\"47.696375\"/>\n     <use style=\"fill:#1f77b4;stroke:#1f77b4;\" x=\"150.418916\" xlink:href=\"#m3911a279e1\" y=\"56.096524\"/>\n     <use style=\"fill:#1f77b4;stroke:#1f77b4;\" x=\"125.99647\" xlink:href=\"#m3911a279e1\" y=\"62.169929\"/>\n     <use style=\"fill:#1f77b4;stroke:#1f77b4;\" x=\"129.361878\" xlink:href=\"#m3911a279e1\" y=\"46.887913\"/>\n     <use style=\"fill:#1f77b4;stroke:#1f77b4;\" x=\"124.617671\" xlink:href=\"#m3911a279e1\" y=\"49.149802\"/>\n     <use style=\"fill:#1f77b4;stroke:#1f77b4;\" x=\"118.043488\" xlink:href=\"#m3911a279e1\" y=\"67.791907\"/>\n     <use style=\"fill:#1f77b4;stroke:#1f77b4;\" x=\"125.151489\" xlink:href=\"#m3911a279e1\" y=\"60.135768\"/>\n     <use style=\"fill:#1f77b4;stroke:#1f77b4;\" x=\"116.807031\" xlink:href=\"#m3911a279e1\" y=\"96.295202\"/>\n     <use style=\"fill:#1f77b4;stroke:#1f77b4;\" x=\"139.35196\" xlink:href=\"#m3911a279e1\" y=\"68.66724\"/>\n     <use style=\"fill:#1f77b4;stroke:#1f77b4;\" x=\"136.155423\" xlink:href=\"#m3911a279e1\" y=\"72.950761\"/>\n     <use style=\"fill:#1f77b4;stroke:#1f77b4;\" x=\"121.382731\" xlink:href=\"#m3911a279e1\" y=\"45.331365\"/>\n    </g>\n   </g>\n   <g id=\"matplotlib.axis_1\">\n    <g id=\"xtick_1\">\n     <g id=\"line2d_1\">\n      <defs>\n       <path d=\"M 0 0 \nL 0 3.5 \n\" id=\"md871c5919d\" style=\"stroke:#000000;stroke-width:0.8;\"/>\n      </defs>\n      <g>\n       <use style=\"stroke:#000000;stroke-width:0.8;\" x=\"74.857636\" xlink:href=\"#md871c5919d\" y=\"143.1\"/>\n      </g>\n     </g>\n     <g id=\"text_1\">\n      <!-- −2 -->\n      <defs>\n       <path d=\"M 10.59375 35.5 \nL 73.1875 35.5 \nL 73.1875 27.203125 \nL 10.59375 27.203125 \nz\n\" id=\"DejaVuSans-8722\"/>\n       <path d=\"M 19.1875 8.296875 \nL 53.609375 8.296875 \nL 53.609375 0 \nL 7.328125 0 \nL 7.328125 8.296875 \nQ 12.9375 14.109375 22.625 23.890625 \nQ 32.328125 33.6875 34.8125 36.53125 \nQ 39.546875 41.84375 41.421875 45.53125 \nQ 43.3125 49.21875 43.3125 52.78125 \nQ 43.3125 58.59375 39.234375 62.25 \nQ 35.15625 65.921875 28.609375 65.921875 \nQ 23.96875 65.921875 18.8125 64.3125 \nQ 13.671875 62.703125 7.8125 59.421875 \nL 7.8125 69.390625 \nQ 13.765625 71.78125 18.9375 73 \nQ 24.125 74.21875 28.421875 74.21875 \nQ 39.75 74.21875 46.484375 68.546875 \nQ 53.21875 62.890625 53.21875 53.421875 \nQ 53.21875 48.921875 51.53125 44.890625 \nQ 49.859375 40.875 45.40625 35.40625 \nQ 44.1875 33.984375 37.640625 27.21875 \nQ 31.109375 20.453125 19.1875 8.296875 \nz\n\" id=\"DejaVuSans-50\"/>\n      </defs>\n      <g transform=\"translate(67.486543 157.698438)scale(0.1 -0.1)\">\n       <use xlink:href=\"#DejaVuSans-8722\"/>\n       <use x=\"83.789062\" xlink:href=\"#DejaVuSans-50\"/>\n      </g>\n     </g>\n    </g>\n    <g id=\"xtick_2\">\n     <g id=\"line2d_2\">\n      <g>\n       <use style=\"stroke:#000000;stroke-width:0.8;\" x=\"118.227337\" xlink:href=\"#md871c5919d\" y=\"143.1\"/>\n      </g>\n     </g>\n     <g id=\"text_2\">\n      <!-- 0 -->\n      <defs>\n       <path d=\"M 31.78125 66.40625 \nQ 24.171875 66.40625 20.328125 58.90625 \nQ 16.5 51.421875 16.5 36.375 \nQ 16.5 21.390625 20.328125 13.890625 \nQ 24.171875 6.390625 31.78125 6.390625 \nQ 39.453125 6.390625 43.28125 13.890625 \nQ 47.125 21.390625 47.125 36.375 \nQ 47.125 51.421875 43.28125 58.90625 \nQ 39.453125 66.40625 31.78125 66.40625 \nz\nM 31.78125 74.21875 \nQ 44.046875 74.21875 50.515625 64.515625 \nQ 56.984375 54.828125 56.984375 36.375 \nQ 56.984375 17.96875 50.515625 8.265625 \nQ 44.046875 -1.421875 31.78125 -1.421875 \nQ 19.53125 -1.421875 13.0625 8.265625 \nQ 6.59375 17.96875 6.59375 36.375 \nQ 6.59375 54.828125 13.0625 64.515625 \nQ 19.53125 74.21875 31.78125 74.21875 \nz\n\" id=\"DejaVuSans-48\"/>\n      </defs>\n      <g transform=\"translate(115.046087 157.698438)scale(0.1 -0.1)\">\n       <use xlink:href=\"#DejaVuSans-48\"/>\n      </g>\n     </g>\n    </g>\n    <g id=\"xtick_3\">\n     <g id=\"line2d_3\">\n      <g>\n       <use style=\"stroke:#000000;stroke-width:0.8;\" x=\"161.597037\" xlink:href=\"#md871c5919d\" y=\"143.1\"/>\n      </g>\n     </g>\n     <g id=\"text_3\">\n      <!-- 2 -->\n      <g transform=\"translate(158.415787 157.698438)scale(0.1 -0.1)\">\n       <use xlink:href=\"#DejaVuSans-50\"/>\n      </g>\n     </g>\n    </g>\n    <g id=\"xtick_4\">\n     <g id=\"line2d_4\">\n      <g>\n       <use style=\"stroke:#000000;stroke-width:0.8;\" x=\"204.966737\" xlink:href=\"#md871c5919d\" y=\"143.1\"/>\n      </g>\n     </g>\n     <g id=\"text_4\">\n      <!-- 4 -->\n      <defs>\n       <path d=\"M 37.796875 64.3125 \nL 12.890625 25.390625 \nL 37.796875 25.390625 \nz\nM 35.203125 72.90625 \nL 47.609375 72.90625 \nL 47.609375 25.390625 \nL 58.015625 25.390625 \nL 58.015625 17.1875 \nL 47.609375 17.1875 \nL 47.609375 0 \nL 37.796875 0 \nL 37.796875 17.1875 \nL 4.890625 17.1875 \nL 4.890625 26.703125 \nz\n\" id=\"DejaVuSans-52\"/>\n      </defs>\n      <g transform=\"translate(201.785487 157.698438)scale(0.1 -0.1)\">\n       <use xlink:href=\"#DejaVuSans-52\"/>\n      </g>\n     </g>\n    </g>\n   </g>\n   <g id=\"matplotlib.axis_2\">\n    <g id=\"ytick_1\">\n     <g id=\"line2d_5\">\n      <defs>\n       <path d=\"M 0 0 \nL -3.5 0 \n\" id=\"m0f8752093c\" style=\"stroke:#000000;stroke-width:0.8;\"/>\n      </defs>\n      <g>\n       <use style=\"stroke:#000000;stroke-width:0.8;\" x=\"35.304688\" xlink:href=\"#m0f8752093c\" y=\"134.344555\"/>\n      </g>\n     </g>\n     <g id=\"text_5\">\n      <!-- −10 -->\n      <defs>\n       <path d=\"M 12.40625 8.296875 \nL 28.515625 8.296875 \nL 28.515625 63.921875 \nL 10.984375 60.40625 \nL 10.984375 69.390625 \nL 28.421875 72.90625 \nL 38.28125 72.90625 \nL 38.28125 8.296875 \nL 54.390625 8.296875 \nL 54.390625 0 \nL 12.40625 0 \nz\n\" id=\"DejaVuSans-49\"/>\n      </defs>\n      <g transform=\"translate(7.2 138.143773)scale(0.1 -0.1)\">\n       <use xlink:href=\"#DejaVuSans-8722\"/>\n       <use x=\"83.789062\" xlink:href=\"#DejaVuSans-49\"/>\n       <use x=\"147.412109\" xlink:href=\"#DejaVuSans-48\"/>\n      </g>\n     </g>\n    </g>\n    <g id=\"ytick_2\">\n     <g id=\"line2d_6\">\n      <g>\n       <use style=\"stroke:#000000;stroke-width:0.8;\" x=\"35.304688\" xlink:href=\"#m0f8752093c\" y=\"89.549696\"/>\n      </g>\n     </g>\n     <g id=\"text_6\">\n      <!-- 0 -->\n      <g transform=\"translate(21.942187 93.348915)scale(0.1 -0.1)\">\n       <use xlink:href=\"#DejaVuSans-48\"/>\n      </g>\n     </g>\n    </g>\n    <g id=\"ytick_3\">\n     <g id=\"line2d_7\">\n      <g>\n       <use style=\"stroke:#000000;stroke-width:0.8;\" x=\"35.304688\" xlink:href=\"#m0f8752093c\" y=\"44.754837\"/>\n      </g>\n     </g>\n     <g id=\"text_7\">\n      <!-- 10 -->\n      <g transform=\"translate(15.579687 48.554056)scale(0.1 -0.1)\">\n       <use xlink:href=\"#DejaVuSans-49\"/>\n       <use x=\"63.623047\" xlink:href=\"#DejaVuSans-48\"/>\n      </g>\n     </g>\n    </g>\n   </g>\n   <g id=\"patch_3\">\n    <path d=\"M 35.304688 143.1 \nL 35.304688 7.2 \n\" style=\"fill:none;stroke:#000000;stroke-linecap:square;stroke-linejoin:miter;stroke-width:0.8;\"/>\n   </g>\n   <g id=\"patch_4\">\n    <path d=\"M 230.604688 143.1 \nL 230.604688 7.2 \n\" style=\"fill:none;stroke:#000000;stroke-linecap:square;stroke-linejoin:miter;stroke-width:0.8;\"/>\n   </g>\n   <g id=\"patch_5\">\n    <path d=\"M 35.304688 143.1 \nL 230.604688 143.1 \n\" style=\"fill:none;stroke:#000000;stroke-linecap:square;stroke-linejoin:miter;stroke-width:0.8;\"/>\n   </g>\n   <g id=\"patch_6\">\n    <path d=\"M 35.304688 7.2 \nL 230.604688 7.2 \n\" style=\"fill:none;stroke:#000000;stroke-linecap:square;stroke-linejoin:miter;stroke-width:0.8;\"/>\n   </g>\n  </g>\n </g>\n <defs>\n  <clipPath id=\"p61e0d88de1\">\n   <rect height=\"135.9\" width=\"195.3\" x=\"35.304688\" y=\"7.2\"/>\n  </clipPath>\n </defs>\n</svg>\n"
          },
          "metadata": {
            "tags": [],
            "needs_background": "light"
          }
        }
      ]
    },
    {
      "cell_type": "code",
      "metadata": {
        "colab": {
          "base_uri": "https://localhost:8080/",
          "height": 244
        },
        "id": "IbLJkfB94sDa",
        "outputId": "9dd83006-dab1-4be2-ef90-b01e4fc690a2"
      },
      "source": [
        "d2l.set_figsize()\n",
        "\n",
        "d2l.plt.scatter(features[:,(1)].detach().numpy(),\n",
        "                labels.detach().numpy(),1);"
      ],
      "execution_count": 10,
      "outputs": [
        {
          "output_type": "display_data",
          "data": {
            "text/plain": [
              "<Figure size 252x180 with 1 Axes>"
            ],
            "image/svg+xml": "<?xml version=\"1.0\" encoding=\"utf-8\" standalone=\"no\"?>\n<!DOCTYPE svg PUBLIC \"-//W3C//DTD SVG 1.1//EN\"\n  \"http://www.w3.org/Graphics/SVG/1.1/DTD/svg11.dtd\">\n<!-- Created with matplotlib (https://matplotlib.org/) -->\n<svg height=\"166.978125pt\" version=\"1.1\" viewBox=\"0 0 237.804688 166.978125\" width=\"237.804688pt\" xmlns=\"http://www.w3.org/2000/svg\" xmlns:xlink=\"http://www.w3.org/1999/xlink\">\n <defs>\n  <style type=\"text/css\">\n*{stroke-linecap:butt;stroke-linejoin:round;}\n  </style>\n </defs>\n <g id=\"figure_1\">\n  <g id=\"patch_1\">\n   <path d=\"M 0 166.978125 \nL 237.804688 166.978125 \nL 237.804688 0 \nL 0 0 \nz\n\" style=\"fill:none;\"/>\n  </g>\n  <g id=\"axes_1\">\n   <g id=\"patch_2\">\n    <path d=\"M 35.304688 143.1 \nL 230.604688 143.1 \nL 230.604688 7.2 \nL 35.304688 7.2 \nz\n\" style=\"fill:#ffffff;\"/>\n   </g>\n   <g id=\"PathCollection_1\">\n    <defs>\n     <path d=\"M 0 0.5 \nC 0.132602 0.5 0.25979 0.447317 0.353553 0.353553 \nC 0.447317 0.25979 0.5 0.132602 0.5 0 \nC 0.5 -0.132602 0.447317 -0.25979 0.353553 -0.353553 \nC 0.25979 -0.447317 0.132602 -0.5 0 -0.5 \nC -0.132602 -0.5 -0.25979 -0.447317 -0.353553 -0.353553 \nC -0.447317 -0.25979 -0.5 -0.132602 -0.5 0 \nC -0.5 0.132602 -0.447317 0.25979 -0.353553 0.353553 \nC -0.25979 0.447317 -0.132602 0.5 0 0.5 \nz\n\" id=\"mbb73133bd6\" style=\"stroke:#1f77b4;\"/>\n    </defs>\n    <g clip-path=\"url(#p88d0893920)\">\n     <use style=\"fill:#1f77b4;stroke:#1f77b4;\" x=\"129.051671\" xlink:href=\"#mbb73133bd6\" y=\"85.487156\"/>\n     <use style=\"fill:#1f77b4;stroke:#1f77b4;\" x=\"140.170388\" xlink:href=\"#mbb73133bd6\" y=\"73.489766\"/>\n     <use style=\"fill:#1f77b4;stroke:#1f77b4;\" x=\"134.970188\" xlink:href=\"#mbb73133bd6\" y=\"71.129864\"/>\n     <use style=\"fill:#1f77b4;stroke:#1f77b4;\" x=\"110.345326\" xlink:href=\"#mbb73133bd6\" y=\"55.066723\"/>\n     <use style=\"fill:#1f77b4;stroke:#1f77b4;\" x=\"121.234638\" xlink:href=\"#mbb73133bd6\" y=\"44.574795\"/>\n     <use style=\"fill:#1f77b4;stroke:#1f77b4;\" x=\"95.9947\" xlink:href=\"#mbb73133bd6\" y=\"49.774091\"/>\n     <use style=\"fill:#1f77b4;stroke:#1f77b4;\" x=\"172.073967\" xlink:href=\"#mbb73133bd6\" y=\"108.845585\"/>\n     <use style=\"fill:#1f77b4;stroke:#1f77b4;\" x=\"184.618412\" xlink:href=\"#mbb73133bd6\" y=\"107.195988\"/>\n     <use style=\"fill:#1f77b4;stroke:#1f77b4;\" x=\"66.947158\" xlink:href=\"#mbb73133bd6\" y=\"49.707807\"/>\n     <use style=\"fill:#1f77b4;stroke:#1f77b4;\" x=\"119.034846\" xlink:href=\"#mbb73133bd6\" y=\"76.006936\"/>\n     <use style=\"fill:#1f77b4;stroke:#1f77b4;\" x=\"80.698698\" xlink:href=\"#mbb73133bd6\" y=\"55.614987\"/>\n     <use style=\"fill:#1f77b4;stroke:#1f77b4;\" x=\"89.82525\" xlink:href=\"#mbb73133bd6\" y=\"51.557199\"/>\n     <use style=\"fill:#1f77b4;stroke:#1f77b4;\" x=\"157.832725\" xlink:href=\"#mbb73133bd6\" y=\"92.910759\"/>\n     <use style=\"fill:#1f77b4;stroke:#1f77b4;\" x=\"154.420515\" xlink:href=\"#mbb73133bd6\" y=\"88.889622\"/>\n     <use style=\"fill:#1f77b4;stroke:#1f77b4;\" x=\"152.912917\" xlink:href=\"#mbb73133bd6\" y=\"95.078635\"/>\n     <use style=\"fill:#1f77b4;stroke:#1f77b4;\" x=\"155.96565\" xlink:href=\"#mbb73133bd6\" y=\"93.652011\"/>\n     <use style=\"fill:#1f77b4;stroke:#1f77b4;\" x=\"113.915091\" xlink:href=\"#mbb73133bd6\" y=\"42.282985\"/>\n     <use style=\"fill:#1f77b4;stroke:#1f77b4;\" x=\"152.780994\" xlink:href=\"#mbb73133bd6\" y=\"91.492039\"/>\n     <use style=\"fill:#1f77b4;stroke:#1f77b4;\" x=\"143.430288\" xlink:href=\"#mbb73133bd6\" y=\"69.061513\"/>\n     <use style=\"fill:#1f77b4;stroke:#1f77b4;\" x=\"140.009107\" xlink:href=\"#mbb73133bd6\" y=\"79.751463\"/>\n     <use style=\"fill:#1f77b4;stroke:#1f77b4;\" x=\"132.852321\" xlink:href=\"#mbb73133bd6\" y=\"70.547716\"/>\n     <use style=\"fill:#1f77b4;stroke:#1f77b4;\" x=\"114.441674\" xlink:href=\"#mbb73133bd6\" y=\"61.689377\"/>\n     <use style=\"fill:#1f77b4;stroke:#1f77b4;\" x=\"139.428656\" xlink:href=\"#mbb73133bd6\" y=\"79.58222\"/>\n     <use style=\"fill:#1f77b4;stroke:#1f77b4;\" x=\"103.695329\" xlink:href=\"#mbb73133bd6\" y=\"48.731636\"/>\n     <use style=\"fill:#1f77b4;stroke:#1f77b4;\" x=\"49.467009\" xlink:href=\"#mbb73133bd6\" y=\"26.985934\"/>\n     <use style=\"fill:#1f77b4;stroke:#1f77b4;\" x=\"117.63174\" xlink:href=\"#mbb73133bd6\" y=\"62.916074\"/>\n     <use style=\"fill:#1f77b4;stroke:#1f77b4;\" x=\"130.197866\" xlink:href=\"#mbb73133bd6\" y=\"86.004322\"/>\n     <use style=\"fill:#1f77b4;stroke:#1f77b4;\" x=\"107.461235\" xlink:href=\"#mbb73133bd6\" y=\"71.930897\"/>\n     <use style=\"fill:#1f77b4;stroke:#1f77b4;\" x=\"131.849046\" xlink:href=\"#mbb73133bd6\" y=\"58.90524\"/>\n     <use style=\"fill:#1f77b4;stroke:#1f77b4;\" x=\"140.669346\" xlink:href=\"#mbb73133bd6\" y=\"68.102047\"/>\n     <use style=\"fill:#1f77b4;stroke:#1f77b4;\" x=\"94.782184\" xlink:href=\"#mbb73133bd6\" y=\"63.950638\"/>\n     <use style=\"fill:#1f77b4;stroke:#1f77b4;\" x=\"114.200663\" xlink:href=\"#mbb73133bd6\" y=\"66.515696\"/>\n     <use style=\"fill:#1f77b4;stroke:#1f77b4;\" x=\"147.555914\" xlink:href=\"#mbb73133bd6\" y=\"98.457302\"/>\n     <use style=\"fill:#1f77b4;stroke:#1f77b4;\" x=\"79.808371\" xlink:href=\"#mbb73133bd6\" y=\"39.215279\"/>\n     <use style=\"fill:#1f77b4;stroke:#1f77b4;\" x=\"146.043618\" xlink:href=\"#mbb73133bd6\" y=\"85.766018\"/>\n     <use style=\"fill:#1f77b4;stroke:#1f77b4;\" x=\"181.469805\" xlink:href=\"#mbb73133bd6\" y=\"99.067965\"/>\n     <use style=\"fill:#1f77b4;stroke:#1f77b4;\" x=\"96.951506\" xlink:href=\"#mbb73133bd6\" y=\"61.383145\"/>\n     <use style=\"fill:#1f77b4;stroke:#1f77b4;\" x=\"139.650969\" xlink:href=\"#mbb73133bd6\" y=\"83.406072\"/>\n     <use style=\"fill:#1f77b4;stroke:#1f77b4;\" x=\"56.382004\" xlink:href=\"#mbb73133bd6\" y=\"38.386213\"/>\n     <use style=\"fill:#1f77b4;stroke:#1f77b4;\" x=\"94.116644\" xlink:href=\"#mbb73133bd6\" y=\"63.735747\"/>\n     <use style=\"fill:#1f77b4;stroke:#1f77b4;\" x=\"159.968006\" xlink:href=\"#mbb73133bd6\" y=\"87.848608\"/>\n     <use style=\"fill:#1f77b4;stroke:#1f77b4;\" x=\"96.883546\" xlink:href=\"#mbb73133bd6\" y=\"55.88746\"/>\n     <use style=\"fill:#1f77b4;stroke:#1f77b4;\" x=\"115.461481\" xlink:href=\"#mbb73133bd6\" y=\"78.219301\"/>\n     <use style=\"fill:#1f77b4;stroke:#1f77b4;\" x=\"166.013321\" xlink:href=\"#mbb73133bd6\" y=\"115.789385\"/>\n     <use style=\"fill:#1f77b4;stroke:#1f77b4;\" x=\"178.993967\" xlink:href=\"#mbb73133bd6\" y=\"112.103411\"/>\n     <use style=\"fill:#1f77b4;stroke:#1f77b4;\" x=\"75.918883\" xlink:href=\"#mbb73133bd6\" y=\"54.434676\"/>\n     <use style=\"fill:#1f77b4;stroke:#1f77b4;\" x=\"91.671237\" xlink:href=\"#mbb73133bd6\" y=\"70.184003\"/>\n     <use style=\"fill:#1f77b4;stroke:#1f77b4;\" x=\"123.697612\" xlink:href=\"#mbb73133bd6\" y=\"76.649725\"/>\n     <use style=\"fill:#1f77b4;stroke:#1f77b4;\" x=\"55.93031\" xlink:href=\"#mbb73133bd6\" y=\"45.182577\"/>\n     <use style=\"fill:#1f77b4;stroke:#1f77b4;\" x=\"156.311529\" xlink:href=\"#mbb73133bd6\" y=\"91.290315\"/>\n     <use style=\"fill:#1f77b4;stroke:#1f77b4;\" x=\"127.563813\" xlink:href=\"#mbb73133bd6\" y=\"73.296186\"/>\n     <use style=\"fill:#1f77b4;stroke:#1f77b4;\" x=\"147.240224\" xlink:href=\"#mbb73133bd6\" y=\"85.009728\"/>\n     <use style=\"fill:#1f77b4;stroke:#1f77b4;\" x=\"128.331676\" xlink:href=\"#mbb73133bd6\" y=\"68.621912\"/>\n     <use style=\"fill:#1f77b4;stroke:#1f77b4;\" x=\"138.845296\" xlink:href=\"#mbb73133bd6\" y=\"87.000254\"/>\n     <use style=\"fill:#1f77b4;stroke:#1f77b4;\" x=\"146.241653\" xlink:href=\"#mbb73133bd6\" y=\"80.145065\"/>\n     <use style=\"fill:#1f77b4;stroke:#1f77b4;\" x=\"175.716178\" xlink:href=\"#mbb73133bd6\" y=\"101.374924\"/>\n     <use style=\"fill:#1f77b4;stroke:#1f77b4;\" x=\"119.827513\" xlink:href=\"#mbb73133bd6\" y=\"71.900307\"/>\n     <use style=\"fill:#1f77b4;stroke:#1f77b4;\" x=\"92.113654\" xlink:href=\"#mbb73133bd6\" y=\"46.417411\"/>\n     <use style=\"fill:#1f77b4;stroke:#1f77b4;\" x=\"103.195365\" xlink:href=\"#mbb73133bd6\" y=\"62.490233\"/>\n     <use style=\"fill:#1f77b4;stroke:#1f77b4;\" x=\"156.713779\" xlink:href=\"#mbb73133bd6\" y=\"100.90543\"/>\n     <use style=\"fill:#1f77b4;stroke:#1f77b4;\" x=\"151.541674\" xlink:href=\"#mbb73133bd6\" y=\"80.087826\"/>\n     <use style=\"fill:#1f77b4;stroke:#1f77b4;\" x=\"124.190025\" xlink:href=\"#mbb73133bd6\" y=\"58.27292\"/>\n     <use style=\"fill:#1f77b4;stroke:#1f77b4;\" x=\"125.312163\" xlink:href=\"#mbb73133bd6\" y=\"70.307999\"/>\n     <use style=\"fill:#1f77b4;stroke:#1f77b4;\" x=\"142.011527\" xlink:href=\"#mbb73133bd6\" y=\"73.476084\"/>\n     <use style=\"fill:#1f77b4;stroke:#1f77b4;\" x=\"134.317885\" xlink:href=\"#mbb73133bd6\" y=\"68.381039\"/>\n     <use style=\"fill:#1f77b4;stroke:#1f77b4;\" x=\"131.160564\" xlink:href=\"#mbb73133bd6\" y=\"76.71845\"/>\n     <use style=\"fill:#1f77b4;stroke:#1f77b4;\" x=\"157.741469\" xlink:href=\"#mbb73133bd6\" y=\"105.990499\"/>\n     <use style=\"fill:#1f77b4;stroke:#1f77b4;\" x=\"135.949774\" xlink:href=\"#mbb73133bd6\" y=\"82.105513\"/>\n     <use style=\"fill:#1f77b4;stroke:#1f77b4;\" x=\"162.898278\" xlink:href=\"#mbb73133bd6\" y=\"101.15686\"/>\n     <use style=\"fill:#1f77b4;stroke:#1f77b4;\" x=\"118.300582\" xlink:href=\"#mbb73133bd6\" y=\"65.865372\"/>\n     <use style=\"fill:#1f77b4;stroke:#1f77b4;\" x=\"115.329888\" xlink:href=\"#mbb73133bd6\" y=\"62.188636\"/>\n     <use style=\"fill:#1f77b4;stroke:#1f77b4;\" x=\"76.163095\" xlink:href=\"#mbb73133bd6\" y=\"54.142396\"/>\n     <use style=\"fill:#1f77b4;stroke:#1f77b4;\" x=\"118.42966\" xlink:href=\"#mbb73133bd6\" y=\"58.630933\"/>\n     <use style=\"fill:#1f77b4;stroke:#1f77b4;\" x=\"109.315382\" xlink:href=\"#mbb73133bd6\" y=\"55.514577\"/>\n     <use style=\"fill:#1f77b4;stroke:#1f77b4;\" x=\"105.791156\" xlink:href=\"#mbb73133bd6\" y=\"63.091976\"/>\n     <use style=\"fill:#1f77b4;stroke:#1f77b4;\" x=\"118.408948\" xlink:href=\"#mbb73133bd6\" y=\"77.580475\"/>\n     <use style=\"fill:#1f77b4;stroke:#1f77b4;\" x=\"119.088029\" xlink:href=\"#mbb73133bd6\" y=\"62.508229\"/>\n     <use style=\"fill:#1f77b4;stroke:#1f77b4;\" x=\"96.149506\" xlink:href=\"#mbb73133bd6\" y=\"63.545235\"/>\n     <use style=\"fill:#1f77b4;stroke:#1f77b4;\" x=\"151.137148\" xlink:href=\"#mbb73133bd6\" y=\"85.410102\"/>\n     <use style=\"fill:#1f77b4;stroke:#1f77b4;\" x=\"59.527604\" xlink:href=\"#mbb73133bd6\" y=\"33.925366\"/>\n     <use style=\"fill:#1f77b4;stroke:#1f77b4;\" x=\"140.148227\" xlink:href=\"#mbb73133bd6\" y=\"87.727637\"/>\n     <use style=\"fill:#1f77b4;stroke:#1f77b4;\" x=\"95.427315\" xlink:href=\"#mbb73133bd6\" y=\"51.327542\"/>\n     <use style=\"fill:#1f77b4;stroke:#1f77b4;\" x=\"63.298529\" xlink:href=\"#mbb73133bd6\" y=\"34.296771\"/>\n     <use style=\"fill:#1f77b4;stroke:#1f77b4;\" x=\"89.98172\" xlink:href=\"#mbb73133bd6\" y=\"43.909154\"/>\n     <use style=\"fill:#1f77b4;stroke:#1f77b4;\" x=\"133.597362\" xlink:href=\"#mbb73133bd6\" y=\"77.34725\"/>\n     <use style=\"fill:#1f77b4;stroke:#1f77b4;\" x=\"129.599857\" xlink:href=\"#mbb73133bd6\" y=\"83.997488\"/>\n     <use style=\"fill:#1f77b4;stroke:#1f77b4;\" x=\"93.995328\" xlink:href=\"#mbb73133bd6\" y=\"56.872848\"/>\n     <use style=\"fill:#1f77b4;stroke:#1f77b4;\" x=\"96.972343\" xlink:href=\"#mbb73133bd6\" y=\"61.567667\"/>\n     <use style=\"fill:#1f77b4;stroke:#1f77b4;\" x=\"125.060582\" xlink:href=\"#mbb73133bd6\" y=\"76.017827\"/>\n     <use style=\"fill:#1f77b4;stroke:#1f77b4;\" x=\"96.531526\" xlink:href=\"#mbb73133bd6\" y=\"59.624821\"/>\n     <use style=\"fill:#1f77b4;stroke:#1f77b4;\" x=\"105.727062\" xlink:href=\"#mbb73133bd6\" y=\"51.230166\"/>\n     <use style=\"fill:#1f77b4;stroke:#1f77b4;\" x=\"162.166128\" xlink:href=\"#mbb73133bd6\" y=\"101.211207\"/>\n     <use style=\"fill:#1f77b4;stroke:#1f77b4;\" x=\"177.443079\" xlink:href=\"#mbb73133bd6\" y=\"105.889452\"/>\n     <use style=\"fill:#1f77b4;stroke:#1f77b4;\" x=\"184.572169\" xlink:href=\"#mbb73133bd6\" y=\"90.867748\"/>\n     <use style=\"fill:#1f77b4;stroke:#1f77b4;\" x=\"169.012353\" xlink:href=\"#mbb73133bd6\" y=\"110.2774\"/>\n     <use style=\"fill:#1f77b4;stroke:#1f77b4;\" x=\"83.781777\" xlink:href=\"#mbb73133bd6\" y=\"64.747606\"/>\n     <use style=\"fill:#1f77b4;stroke:#1f77b4;\" x=\"86.486428\" xlink:href=\"#mbb73133bd6\" y=\"68.096186\"/>\n     <use style=\"fill:#1f77b4;stroke:#1f77b4;\" x=\"114.176577\" xlink:href=\"#mbb73133bd6\" y=\"67.435737\"/>\n     <use style=\"fill:#1f77b4;stroke:#1f77b4;\" x=\"124.84797\" xlink:href=\"#mbb73133bd6\" y=\"55.54814\"/>\n     <use style=\"fill:#1f77b4;stroke:#1f77b4;\" x=\"102.048004\" xlink:href=\"#mbb73133bd6\" y=\"63.495716\"/>\n     <use style=\"fill:#1f77b4;stroke:#1f77b4;\" x=\"130.64585\" xlink:href=\"#mbb73133bd6\" y=\"64.974817\"/>\n     <use style=\"fill:#1f77b4;stroke:#1f77b4;\" x=\"150.080605\" xlink:href=\"#mbb73133bd6\" y=\"71.527333\"/>\n     <use style=\"fill:#1f77b4;stroke:#1f77b4;\" x=\"110.290204\" xlink:href=\"#mbb73133bd6\" y=\"54.778273\"/>\n     <use style=\"fill:#1f77b4;stroke:#1f77b4;\" x=\"127.265485\" xlink:href=\"#mbb73133bd6\" y=\"69.543265\"/>\n     <use style=\"fill:#1f77b4;stroke:#1f77b4;\" x=\"84.01071\" xlink:href=\"#mbb73133bd6\" y=\"45.935153\"/>\n     <use style=\"fill:#1f77b4;stroke:#1f77b4;\" x=\"80.603192\" xlink:href=\"#mbb73133bd6\" y=\"41.269067\"/>\n     <use style=\"fill:#1f77b4;stroke:#1f77b4;\" x=\"128.929848\" xlink:href=\"#mbb73133bd6\" y=\"78.099591\"/>\n     <use style=\"fill:#1f77b4;stroke:#1f77b4;\" x=\"156.644744\" xlink:href=\"#mbb73133bd6\" y=\"102.839942\"/>\n     <use style=\"fill:#1f77b4;stroke:#1f77b4;\" x=\"168.594232\" xlink:href=\"#mbb73133bd6\" y=\"85.707659\"/>\n     <use style=\"fill:#1f77b4;stroke:#1f77b4;\" x=\"153.238607\" xlink:href=\"#mbb73133bd6\" y=\"91.657017\"/>\n     <use style=\"fill:#1f77b4;stroke:#1f77b4;\" x=\"154.509587\" xlink:href=\"#mbb73133bd6\" y=\"91.183187\"/>\n     <use style=\"fill:#1f77b4;stroke:#1f77b4;\" x=\"118.697503\" xlink:href=\"#mbb73133bd6\" y=\"64.042904\"/>\n     <use style=\"fill:#1f77b4;stroke:#1f77b4;\" x=\"59.614552\" xlink:href=\"#mbb73133bd6\" y=\"47.333416\"/>\n     <use style=\"fill:#1f77b4;stroke:#1f77b4;\" x=\"118.048806\" xlink:href=\"#mbb73133bd6\" y=\"60.580468\"/>\n     <use style=\"fill:#1f77b4;stroke:#1f77b4;\" x=\"111.976193\" xlink:href=\"#mbb73133bd6\" y=\"77.378718\"/>\n     <use style=\"fill:#1f77b4;stroke:#1f77b4;\" x=\"121.296231\" xlink:href=\"#mbb73133bd6\" y=\"71.195695\"/>\n     <use style=\"fill:#1f77b4;stroke:#1f77b4;\" x=\"145.912836\" xlink:href=\"#mbb73133bd6\" y=\"72.807998\"/>\n     <use style=\"fill:#1f77b4;stroke:#1f77b4;\" x=\"110.120237\" xlink:href=\"#mbb73133bd6\" y=\"70.779727\"/>\n     <use style=\"fill:#1f77b4;stroke:#1f77b4;\" x=\"117.583543\" xlink:href=\"#mbb73133bd6\" y=\"63.628087\"/>\n     <use style=\"fill:#1f77b4;stroke:#1f77b4;\" x=\"96.1595\" xlink:href=\"#mbb73133bd6\" y=\"43.401438\"/>\n     <use style=\"fill:#1f77b4;stroke:#1f77b4;\" x=\"130.963862\" xlink:href=\"#mbb73133bd6\" y=\"84.842747\"/>\n     <use style=\"fill:#1f77b4;stroke:#1f77b4;\" x=\"120.309357\" xlink:href=\"#mbb73133bd6\" y=\"64.6913\"/>\n     <use style=\"fill:#1f77b4;stroke:#1f77b4;\" x=\"140.359046\" xlink:href=\"#mbb73133bd6\" y=\"84.741579\"/>\n     <use style=\"fill:#1f77b4;stroke:#1f77b4;\" x=\"94.421475\" xlink:href=\"#mbb73133bd6\" y=\"38.025535\"/>\n     <use style=\"fill:#1f77b4;stroke:#1f77b4;\" x=\"86.934508\" xlink:href=\"#mbb73133bd6\" y=\"49.34592\"/>\n     <use style=\"fill:#1f77b4;stroke:#1f77b4;\" x=\"63.704065\" xlink:href=\"#mbb73133bd6\" y=\"32.963686\"/>\n     <use style=\"fill:#1f77b4;stroke:#1f77b4;\" x=\"81.372632\" xlink:href=\"#mbb73133bd6\" y=\"35.76107\"/>\n     <use style=\"fill:#1f77b4;stroke:#1f77b4;\" x=\"122.266669\" xlink:href=\"#mbb73133bd6\" y=\"69.062145\"/>\n     <use style=\"fill:#1f77b4;stroke:#1f77b4;\" x=\"186.364859\" xlink:href=\"#mbb73133bd6\" y=\"104.288648\"/>\n     <use style=\"fill:#1f77b4;stroke:#1f77b4;\" x=\"143.101133\" xlink:href=\"#mbb73133bd6\" y=\"67.683119\"/>\n     <use style=\"fill:#1f77b4;stroke:#1f77b4;\" x=\"164.04615\" xlink:href=\"#mbb73133bd6\" y=\"95.53156\"/>\n     <use style=\"fill:#1f77b4;stroke:#1f77b4;\" x=\"119.939552\" xlink:href=\"#mbb73133bd6\" y=\"77.420423\"/>\n     <use style=\"fill:#1f77b4;stroke:#1f77b4;\" x=\"134.228666\" xlink:href=\"#mbb73133bd6\" y=\"92.445493\"/>\n     <use style=\"fill:#1f77b4;stroke:#1f77b4;\" x=\"108.393056\" xlink:href=\"#mbb73133bd6\" y=\"53.484639\"/>\n     <use style=\"fill:#1f77b4;stroke:#1f77b4;\" x=\"112.898105\" xlink:href=\"#mbb73133bd6\" y=\"66.920612\"/>\n     <use style=\"fill:#1f77b4;stroke:#1f77b4;\" x=\"148.91415\" xlink:href=\"#mbb73133bd6\" y=\"89.278769\"/>\n     <use style=\"fill:#1f77b4;stroke:#1f77b4;\" x=\"113.780916\" xlink:href=\"#mbb73133bd6\" y=\"71.281788\"/>\n     <use style=\"fill:#1f77b4;stroke:#1f77b4;\" x=\"130.917743\" xlink:href=\"#mbb73133bd6\" y=\"93.329319\"/>\n     <use style=\"fill:#1f77b4;stroke:#1f77b4;\" x=\"87.887626\" xlink:href=\"#mbb73133bd6\" y=\"34.702053\"/>\n     <use style=\"fill:#1f77b4;stroke:#1f77b4;\" x=\"116.41965\" xlink:href=\"#mbb73133bd6\" y=\"83.359185\"/>\n     <use style=\"fill:#1f77b4;stroke:#1f77b4;\" x=\"82.385297\" xlink:href=\"#mbb73133bd6\" y=\"54.592293\"/>\n     <use style=\"fill:#1f77b4;stroke:#1f77b4;\" x=\"100.23541\" xlink:href=\"#mbb73133bd6\" y=\"44.134269\"/>\n     <use style=\"fill:#1f77b4;stroke:#1f77b4;\" x=\"103.480237\" xlink:href=\"#mbb73133bd6\" y=\"59.36653\"/>\n     <use style=\"fill:#1f77b4;stroke:#1f77b4;\" x=\"175.590535\" xlink:href=\"#mbb73133bd6\" y=\"107.468197\"/>\n     <use style=\"fill:#1f77b4;stroke:#1f77b4;\" x=\"71.532367\" xlink:href=\"#mbb73133bd6\" y=\"42.529555\"/>\n     <use style=\"fill:#1f77b4;stroke:#1f77b4;\" x=\"103.004756\" xlink:href=\"#mbb73133bd6\" y=\"62.882483\"/>\n     <use style=\"fill:#1f77b4;stroke:#1f77b4;\" x=\"135.041161\" xlink:href=\"#mbb73133bd6\" y=\"80.490771\"/>\n     <use style=\"fill:#1f77b4;stroke:#1f77b4;\" x=\"124.978877\" xlink:href=\"#mbb73133bd6\" y=\"69.477137\"/>\n     <use style=\"fill:#1f77b4;stroke:#1f77b4;\" x=\"123.874054\" xlink:href=\"#mbb73133bd6\" y=\"61.893753\"/>\n     <use style=\"fill:#1f77b4;stroke:#1f77b4;\" x=\"133.852405\" xlink:href=\"#mbb73133bd6\" y=\"66.524823\"/>\n     <use style=\"fill:#1f77b4;stroke:#1f77b4;\" x=\"131.10561\" xlink:href=\"#mbb73133bd6\" y=\"82.03287\"/>\n     <use style=\"fill:#1f77b4;stroke:#1f77b4;\" x=\"144.649796\" xlink:href=\"#mbb73133bd6\" y=\"86.832235\"/>\n     <use style=\"fill:#1f77b4;stroke:#1f77b4;\" x=\"138.61185\" xlink:href=\"#mbb73133bd6\" y=\"76.30028\"/>\n     <use style=\"fill:#1f77b4;stroke:#1f77b4;\" x=\"146.472186\" xlink:href=\"#mbb73133bd6\" y=\"85.457299\"/>\n     <use style=\"fill:#1f77b4;stroke:#1f77b4;\" x=\"81.658879\" xlink:href=\"#mbb73133bd6\" y=\"51.041119\"/>\n     <use style=\"fill:#1f77b4;stroke:#1f77b4;\" x=\"145.986516\" xlink:href=\"#mbb73133bd6\" y=\"78.11988\"/>\n     <use style=\"fill:#1f77b4;stroke:#1f77b4;\" x=\"127.592478\" xlink:href=\"#mbb73133bd6\" y=\"77.966014\"/>\n     <use style=\"fill:#1f77b4;stroke:#1f77b4;\" x=\"88.284904\" xlink:href=\"#mbb73133bd6\" y=\"54.260739\"/>\n     <use style=\"fill:#1f77b4;stroke:#1f77b4;\" x=\"121.231799\" xlink:href=\"#mbb73133bd6\" y=\"75.977751\"/>\n     <use style=\"fill:#1f77b4;stroke:#1f77b4;\" x=\"109.93845\" xlink:href=\"#mbb73133bd6\" y=\"59.19844\"/>\n     <use style=\"fill:#1f77b4;stroke:#1f77b4;\" x=\"69.698587\" xlink:href=\"#mbb73133bd6\" y=\"42.559916\"/>\n     <use style=\"fill:#1f77b4;stroke:#1f77b4;\" x=\"136.364204\" xlink:href=\"#mbb73133bd6\" y=\"77.288305\"/>\n     <use style=\"fill:#1f77b4;stroke:#1f77b4;\" x=\"121.159662\" xlink:href=\"#mbb73133bd6\" y=\"57.297052\"/>\n     <use style=\"fill:#1f77b4;stroke:#1f77b4;\" x=\"109.165251\" xlink:href=\"#mbb73133bd6\" y=\"62.084063\"/>\n     <use style=\"fill:#1f77b4;stroke:#1f77b4;\" x=\"123.287309\" xlink:href=\"#mbb73133bd6\" y=\"83.265067\"/>\n     <use style=\"fill:#1f77b4;stroke:#1f77b4;\" x=\"138.369631\" xlink:href=\"#mbb73133bd6\" y=\"78.510345\"/>\n     <use style=\"fill:#1f77b4;stroke:#1f77b4;\" x=\"112.051841\" xlink:href=\"#mbb73133bd6\" y=\"66.572673\"/>\n     <use style=\"fill:#1f77b4;stroke:#1f77b4;\" x=\"79.752799\" xlink:href=\"#mbb73133bd6\" y=\"48.023078\"/>\n     <use style=\"fill:#1f77b4;stroke:#1f77b4;\" x=\"133.120636\" xlink:href=\"#mbb73133bd6\" y=\"67.048067\"/>\n     <use style=\"fill:#1f77b4;stroke:#1f77b4;\" x=\"194.927781\" xlink:href=\"#mbb73133bd6\" y=\"110.333719\"/>\n     <use style=\"fill:#1f77b4;stroke:#1f77b4;\" x=\"149.367289\" xlink:href=\"#mbb73133bd6\" y=\"77.255607\"/>\n     <use style=\"fill:#1f77b4;stroke:#1f77b4;\" x=\"159.517473\" xlink:href=\"#mbb73133bd6\" y=\"99.721296\"/>\n     <use style=\"fill:#1f77b4;stroke:#1f77b4;\" x=\"81.527102\" xlink:href=\"#mbb73133bd6\" y=\"46.215326\"/>\n     <use style=\"fill:#1f77b4;stroke:#1f77b4;\" x=\"60.400105\" xlink:href=\"#mbb73133bd6\" y=\"27.797878\"/>\n     <use style=\"fill:#1f77b4;stroke:#1f77b4;\" x=\"106.391489\" xlink:href=\"#mbb73133bd6\" y=\"51.721776\"/>\n     <use style=\"fill:#1f77b4;stroke:#1f77b4;\" x=\"139.785429\" xlink:href=\"#mbb73133bd6\" y=\"95.232652\"/>\n     <use style=\"fill:#1f77b4;stroke:#1f77b4;\" x=\"136.591482\" xlink:href=\"#mbb73133bd6\" y=\"70.266469\"/>\n     <use style=\"fill:#1f77b4;stroke:#1f77b4;\" x=\"145.610137\" xlink:href=\"#mbb73133bd6\" y=\"77.713976\"/>\n     <use style=\"fill:#1f77b4;stroke:#1f77b4;\" x=\"141.520034\" xlink:href=\"#mbb73133bd6\" y=\"70.92544\"/>\n     <use style=\"fill:#1f77b4;stroke:#1f77b4;\" x=\"121.429863\" xlink:href=\"#mbb73133bd6\" y=\"68.777749\"/>\n     <use style=\"fill:#1f77b4;stroke:#1f77b4;\" x=\"155.657427\" xlink:href=\"#mbb73133bd6\" y=\"100.352117\"/>\n     <use style=\"fill:#1f77b4;stroke:#1f77b4;\" x=\"123.939029\" xlink:href=\"#mbb73133bd6\" y=\"81.158842\"/>\n     <use style=\"fill:#1f77b4;stroke:#1f77b4;\" x=\"188.757924\" xlink:href=\"#mbb73133bd6\" y=\"117.447892\"/>\n     <use style=\"fill:#1f77b4;stroke:#1f77b4;\" x=\"113.22093\" xlink:href=\"#mbb73133bd6\" y=\"62.248506\"/>\n     <use style=\"fill:#1f77b4;stroke:#1f77b4;\" x=\"104.023203\" xlink:href=\"#mbb73133bd6\" y=\"63.285994\"/>\n     <use style=\"fill:#1f77b4;stroke:#1f77b4;\" x=\"70.280252\" xlink:href=\"#mbb73133bd6\" y=\"29.512604\"/>\n     <use style=\"fill:#1f77b4;stroke:#1f77b4;\" x=\"85.218356\" xlink:href=\"#mbb73133bd6\" y=\"41.779\"/>\n     <use style=\"fill:#1f77b4;stroke:#1f77b4;\" x=\"129.053863\" xlink:href=\"#mbb73133bd6\" y=\"78.990114\"/>\n     <use style=\"fill:#1f77b4;stroke:#1f77b4;\" x=\"132.454926\" xlink:href=\"#mbb73133bd6\" y=\"89.026669\"/>\n     <use style=\"fill:#1f77b4;stroke:#1f77b4;\" x=\"114.924301\" xlink:href=\"#mbb73133bd6\" y=\"71.431288\"/>\n     <use style=\"fill:#1f77b4;stroke:#1f77b4;\" x=\"94.410664\" xlink:href=\"#mbb73133bd6\" y=\"45.078336\"/>\n     <use style=\"fill:#1f77b4;stroke:#1f77b4;\" x=\"133.995487\" xlink:href=\"#mbb73133bd6\" y=\"64.718956\"/>\n     <use style=\"fill:#1f77b4;stroke:#1f77b4;\" x=\"132.041609\" xlink:href=\"#mbb73133bd6\" y=\"84.96823\"/>\n     <use style=\"fill:#1f77b4;stroke:#1f77b4;\" x=\"161.472897\" xlink:href=\"#mbb73133bd6\" y=\"103.362387\"/>\n     <use style=\"fill:#1f77b4;stroke:#1f77b4;\" x=\"117.931975\" xlink:href=\"#mbb73133bd6\" y=\"65.197765\"/>\n     <use style=\"fill:#1f77b4;stroke:#1f77b4;\" x=\"109.082217\" xlink:href=\"#mbb73133bd6\" y=\"57.216887\"/>\n     <use style=\"fill:#1f77b4;stroke:#1f77b4;\" x=\"164.277803\" xlink:href=\"#mbb73133bd6\" y=\"73.110291\"/>\n     <use style=\"fill:#1f77b4;stroke:#1f77b4;\" x=\"107.670096\" xlink:href=\"#mbb73133bd6\" y=\"54.542842\"/>\n     <use style=\"fill:#1f77b4;stroke:#1f77b4;\" x=\"90.572479\" xlink:href=\"#mbb73133bd6\" y=\"46.67989\"/>\n     <use style=\"fill:#1f77b4;stroke:#1f77b4;\" x=\"149.018044\" xlink:href=\"#mbb73133bd6\" y=\"100.379151\"/>\n     <use style=\"fill:#1f77b4;stroke:#1f77b4;\" x=\"68.362381\" xlink:href=\"#mbb73133bd6\" y=\"48.899418\"/>\n     <use style=\"fill:#1f77b4;stroke:#1f77b4;\" x=\"172.563382\" xlink:href=\"#mbb73133bd6\" y=\"105.229557\"/>\n     <use style=\"fill:#1f77b4;stroke:#1f77b4;\" x=\"107.985503\" xlink:href=\"#mbb73133bd6\" y=\"54.174684\"/>\n     <use style=\"fill:#1f77b4;stroke:#1f77b4;\" x=\"130.0186\" xlink:href=\"#mbb73133bd6\" y=\"77.283348\"/>\n     <use style=\"fill:#1f77b4;stroke:#1f77b4;\" x=\"153.540286\" xlink:href=\"#mbb73133bd6\" y=\"84.264239\"/>\n     <use style=\"fill:#1f77b4;stroke:#1f77b4;\" x=\"121.513415\" xlink:href=\"#mbb73133bd6\" y=\"69.559783\"/>\n     <use style=\"fill:#1f77b4;stroke:#1f77b4;\" x=\"82.030357\" xlink:href=\"#mbb73133bd6\" y=\"47.247481\"/>\n     <use style=\"fill:#1f77b4;stroke:#1f77b4;\" x=\"117.290636\" xlink:href=\"#mbb73133bd6\" y=\"64.692479\"/>\n     <use style=\"fill:#1f77b4;stroke:#1f77b4;\" x=\"127.363561\" xlink:href=\"#mbb73133bd6\" y=\"84.636112\"/>\n     <use style=\"fill:#1f77b4;stroke:#1f77b4;\" x=\"142.301081\" xlink:href=\"#mbb73133bd6\" y=\"77.686187\"/>\n     <use style=\"fill:#1f77b4;stroke:#1f77b4;\" x=\"161.88963\" xlink:href=\"#mbb73133bd6\" y=\"82.589935\"/>\n     <use style=\"fill:#1f77b4;stroke:#1f77b4;\" x=\"140.36895\" xlink:href=\"#mbb73133bd6\" y=\"76.611219\"/>\n     <use style=\"fill:#1f77b4;stroke:#1f77b4;\" x=\"100.455618\" xlink:href=\"#mbb73133bd6\" y=\"73.431162\"/>\n     <use style=\"fill:#1f77b4;stroke:#1f77b4;\" x=\"116.970794\" xlink:href=\"#mbb73133bd6\" y=\"53.43669\"/>\n     <use style=\"fill:#1f77b4;stroke:#1f77b4;\" x=\"137.619087\" xlink:href=\"#mbb73133bd6\" y=\"76.55217\"/>\n     <use style=\"fill:#1f77b4;stroke:#1f77b4;\" x=\"97.765703\" xlink:href=\"#mbb73133bd6\" y=\"64.353459\"/>\n     <use style=\"fill:#1f77b4;stroke:#1f77b4;\" x=\"119.099853\" xlink:href=\"#mbb73133bd6\" y=\"75.107517\"/>\n     <use style=\"fill:#1f77b4;stroke:#1f77b4;\" x=\"125.471748\" xlink:href=\"#mbb73133bd6\" y=\"53.063342\"/>\n     <use style=\"fill:#1f77b4;stroke:#1f77b4;\" x=\"146.272668\" xlink:href=\"#mbb73133bd6\" y=\"78.099414\"/>\n     <use style=\"fill:#1f77b4;stroke:#1f77b4;\" x=\"151.016355\" xlink:href=\"#mbb73133bd6\" y=\"99.361966\"/>\n     <use style=\"fill:#1f77b4;stroke:#1f77b4;\" x=\"124.014482\" xlink:href=\"#mbb73133bd6\" y=\"79.323266\"/>\n     <use style=\"fill:#1f77b4;stroke:#1f77b4;\" x=\"87.269028\" xlink:href=\"#mbb73133bd6\" y=\"64.688944\"/>\n     <use style=\"fill:#1f77b4;stroke:#1f77b4;\" x=\"138.565466\" xlink:href=\"#mbb73133bd6\" y=\"88.220107\"/>\n     <use style=\"fill:#1f77b4;stroke:#1f77b4;\" x=\"89.658982\" xlink:href=\"#mbb73133bd6\" y=\"68.16304\"/>\n     <use style=\"fill:#1f77b4;stroke:#1f77b4;\" x=\"142.072983\" xlink:href=\"#mbb73133bd6\" y=\"81.142996\"/>\n     <use style=\"fill:#1f77b4;stroke:#1f77b4;\" x=\"107.525851\" xlink:href=\"#mbb73133bd6\" y=\"53.908634\"/>\n     <use style=\"fill:#1f77b4;stroke:#1f77b4;\" x=\"173.989841\" xlink:href=\"#mbb73133bd6\" y=\"104.358701\"/>\n     <use style=\"fill:#1f77b4;stroke:#1f77b4;\" x=\"139.215301\" xlink:href=\"#mbb73133bd6\" y=\"72.127876\"/>\n     <use style=\"fill:#1f77b4;stroke:#1f77b4;\" x=\"154.688998\" xlink:href=\"#mbb73133bd6\" y=\"87.610732\"/>\n     <use style=\"fill:#1f77b4;stroke:#1f77b4;\" x=\"161.517048\" xlink:href=\"#mbb73133bd6\" y=\"95.46497\"/>\n     <use style=\"fill:#1f77b4;stroke:#1f77b4;\" x=\"175.50499\" xlink:href=\"#mbb73133bd6\" y=\"103.152665\"/>\n     <use style=\"fill:#1f77b4;stroke:#1f77b4;\" x=\"76.936304\" xlink:href=\"#mbb73133bd6\" y=\"56.890809\"/>\n     <use style=\"fill:#1f77b4;stroke:#1f77b4;\" x=\"175.806159\" xlink:href=\"#mbb73133bd6\" y=\"89.709185\"/>\n     <use style=\"fill:#1f77b4;stroke:#1f77b4;\" x=\"132.290766\" xlink:href=\"#mbb73133bd6\" y=\"64.847436\"/>\n     <use style=\"fill:#1f77b4;stroke:#1f77b4;\" x=\"153.590372\" xlink:href=\"#mbb73133bd6\" y=\"84.132415\"/>\n     <use style=\"fill:#1f77b4;stroke:#1f77b4;\" x=\"126.470543\" xlink:href=\"#mbb73133bd6\" y=\"87.776248\"/>\n     <use style=\"fill:#1f77b4;stroke:#1f77b4;\" x=\"153.108689\" xlink:href=\"#mbb73133bd6\" y=\"101.62262\"/>\n     <use style=\"fill:#1f77b4;stroke:#1f77b4;\" x=\"140.546636\" xlink:href=\"#mbb73133bd6\" y=\"74.923777\"/>\n     <use style=\"fill:#1f77b4;stroke:#1f77b4;\" x=\"155.433945\" xlink:href=\"#mbb73133bd6\" y=\"89.14598\"/>\n     <use style=\"fill:#1f77b4;stroke:#1f77b4;\" x=\"150.07688\" xlink:href=\"#mbb73133bd6\" y=\"75.348758\"/>\n     <use style=\"fill:#1f77b4;stroke:#1f77b4;\" x=\"125.436266\" xlink:href=\"#mbb73133bd6\" y=\"75.501444\"/>\n     <use style=\"fill:#1f77b4;stroke:#1f77b4;\" x=\"120.155974\" xlink:href=\"#mbb73133bd6\" y=\"59.244635\"/>\n     <use style=\"fill:#1f77b4;stroke:#1f77b4;\" x=\"116.582487\" xlink:href=\"#mbb73133bd6\" y=\"69.454261\"/>\n     <use style=\"fill:#1f77b4;stroke:#1f77b4;\" x=\"46.402627\" xlink:href=\"#mbb73133bd6\" y=\"28.917489\"/>\n     <use style=\"fill:#1f77b4;stroke:#1f77b4;\" x=\"102.548397\" xlink:href=\"#mbb73133bd6\" y=\"71.67984\"/>\n     <use style=\"fill:#1f77b4;stroke:#1f77b4;\" x=\"146.658306\" xlink:href=\"#mbb73133bd6\" y=\"101.45591\"/>\n     <use style=\"fill:#1f77b4;stroke:#1f77b4;\" x=\"121.913825\" xlink:href=\"#mbb73133bd6\" y=\"81.838737\"/>\n     <use style=\"fill:#1f77b4;stroke:#1f77b4;\" x=\"100.904713\" xlink:href=\"#mbb73133bd6\" y=\"59.895551\"/>\n     <use style=\"fill:#1f77b4;stroke:#1f77b4;\" x=\"163.424435\" xlink:href=\"#mbb73133bd6\" y=\"93.117661\"/>\n     <use style=\"fill:#1f77b4;stroke:#1f77b4;\" x=\"136.369634\" xlink:href=\"#mbb73133bd6\" y=\"80.693852\"/>\n     <use style=\"fill:#1f77b4;stroke:#1f77b4;\" x=\"115.628945\" xlink:href=\"#mbb73133bd6\" y=\"82.025207\"/>\n     <use style=\"fill:#1f77b4;stroke:#1f77b4;\" x=\"143.311822\" xlink:href=\"#mbb73133bd6\" y=\"80.952853\"/>\n     <use style=\"fill:#1f77b4;stroke:#1f77b4;\" x=\"141.206893\" xlink:href=\"#mbb73133bd6\" y=\"88.238424\"/>\n     <use style=\"fill:#1f77b4;stroke:#1f77b4;\" x=\"116.944501\" xlink:href=\"#mbb73133bd6\" y=\"61.817919\"/>\n     <use style=\"fill:#1f77b4;stroke:#1f77b4;\" x=\"193.456538\" xlink:href=\"#mbb73133bd6\" y=\"105.312601\"/>\n     <use style=\"fill:#1f77b4;stroke:#1f77b4;\" x=\"100.377003\" xlink:href=\"#mbb73133bd6\" y=\"54.263676\"/>\n     <use style=\"fill:#1f77b4;stroke:#1f77b4;\" x=\"110.136515\" xlink:href=\"#mbb73133bd6\" y=\"77.042802\"/>\n     <use style=\"fill:#1f77b4;stroke:#1f77b4;\" x=\"118.710106\" xlink:href=\"#mbb73133bd6\" y=\"56.261337\"/>\n     <use style=\"fill:#1f77b4;stroke:#1f77b4;\" x=\"134.082629\" xlink:href=\"#mbb73133bd6\" y=\"73.580689\"/>\n     <use style=\"fill:#1f77b4;stroke:#1f77b4;\" x=\"127.122816\" xlink:href=\"#mbb73133bd6\" y=\"71.82034\"/>\n     <use style=\"fill:#1f77b4;stroke:#1f77b4;\" x=\"114.452311\" xlink:href=\"#mbb73133bd6\" y=\"71.692834\"/>\n     <use style=\"fill:#1f77b4;stroke:#1f77b4;\" x=\"115.711538\" xlink:href=\"#mbb73133bd6\" y=\"56.327428\"/>\n     <use style=\"fill:#1f77b4;stroke:#1f77b4;\" x=\"150.760734\" xlink:href=\"#mbb73133bd6\" y=\"79.063651\"/>\n     <use style=\"fill:#1f77b4;stroke:#1f77b4;\" x=\"106.125774\" xlink:href=\"#mbb73133bd6\" y=\"65.424389\"/>\n     <use style=\"fill:#1f77b4;stroke:#1f77b4;\" x=\"138.903561\" xlink:href=\"#mbb73133bd6\" y=\"68.700672\"/>\n     <use style=\"fill:#1f77b4;stroke:#1f77b4;\" x=\"137.871458\" xlink:href=\"#mbb73133bd6\" y=\"91.62286\"/>\n     <use style=\"fill:#1f77b4;stroke:#1f77b4;\" x=\"143.076566\" xlink:href=\"#mbb73133bd6\" y=\"80.720675\"/>\n     <use style=\"fill:#1f77b4;stroke:#1f77b4;\" x=\"121.273963\" xlink:href=\"#mbb73133bd6\" y=\"85.488486\"/>\n     <use style=\"fill:#1f77b4;stroke:#1f77b4;\" x=\"120.765113\" xlink:href=\"#mbb73133bd6\" y=\"80.110857\"/>\n     <use style=\"fill:#1f77b4;stroke:#1f77b4;\" x=\"170.526018\" xlink:href=\"#mbb73133bd6\" y=\"91.522231\"/>\n     <use style=\"fill:#1f77b4;stroke:#1f77b4;\" x=\"141.876348\" xlink:href=\"#mbb73133bd6\" y=\"76.776974\"/>\n     <use style=\"fill:#1f77b4;stroke:#1f77b4;\" x=\"156.936329\" xlink:href=\"#mbb73133bd6\" y=\"67.837061\"/>\n     <use style=\"fill:#1f77b4;stroke:#1f77b4;\" x=\"155.922386\" xlink:href=\"#mbb73133bd6\" y=\"75.411047\"/>\n     <use style=\"fill:#1f77b4;stroke:#1f77b4;\" x=\"102.847434\" xlink:href=\"#mbb73133bd6\" y=\"61.431081\"/>\n     <use style=\"fill:#1f77b4;stroke:#1f77b4;\" x=\"125.955552\" xlink:href=\"#mbb73133bd6\" y=\"59.588678\"/>\n     <use style=\"fill:#1f77b4;stroke:#1f77b4;\" x=\"109.805256\" xlink:href=\"#mbb73133bd6\" y=\"56.837497\"/>\n     <use style=\"fill:#1f77b4;stroke:#1f77b4;\" x=\"109.906942\" xlink:href=\"#mbb73133bd6\" y=\"64.702646\"/>\n     <use style=\"fill:#1f77b4;stroke:#1f77b4;\" x=\"110.518623\" xlink:href=\"#mbb73133bd6\" y=\"62.940969\"/>\n     <use style=\"fill:#1f77b4;stroke:#1f77b4;\" x=\"174.38497\" xlink:href=\"#mbb73133bd6\" y=\"90.053607\"/>\n     <use style=\"fill:#1f77b4;stroke:#1f77b4;\" x=\"92.123219\" xlink:href=\"#mbb73133bd6\" y=\"44.410743\"/>\n     <use style=\"fill:#1f77b4;stroke:#1f77b4;\" x=\"132.269216\" xlink:href=\"#mbb73133bd6\" y=\"66.155526\"/>\n     <use style=\"fill:#1f77b4;stroke:#1f77b4;\" x=\"96.25608\" xlink:href=\"#mbb73133bd6\" y=\"46.208858\"/>\n     <use style=\"fill:#1f77b4;stroke:#1f77b4;\" x=\"117.726054\" xlink:href=\"#mbb73133bd6\" y=\"78.750573\"/>\n     <use style=\"fill:#1f77b4;stroke:#1f77b4;\" x=\"114.359447\" xlink:href=\"#mbb73133bd6\" y=\"57.776297\"/>\n     <use style=\"fill:#1f77b4;stroke:#1f77b4;\" x=\"110.07395\" xlink:href=\"#mbb73133bd6\" y=\"60.291676\"/>\n     <use style=\"fill:#1f77b4;stroke:#1f77b4;\" x=\"109.429793\" xlink:href=\"#mbb73133bd6\" y=\"68.925611\"/>\n     <use style=\"fill:#1f77b4;stroke:#1f77b4;\" x=\"181.46925\" xlink:href=\"#mbb73133bd6\" y=\"97.153387\"/>\n     <use style=\"fill:#1f77b4;stroke:#1f77b4;\" x=\"150.84425\" xlink:href=\"#mbb73133bd6\" y=\"80.283008\"/>\n     <use style=\"fill:#1f77b4;stroke:#1f77b4;\" x=\"85.104066\" xlink:href=\"#mbb73133bd6\" y=\"50.402536\"/>\n     <use style=\"fill:#1f77b4;stroke:#1f77b4;\" x=\"120.299781\" xlink:href=\"#mbb73133bd6\" y=\"68.471752\"/>\n     <use style=\"fill:#1f77b4;stroke:#1f77b4;\" x=\"102.777284\" xlink:href=\"#mbb73133bd6\" y=\"55.875691\"/>\n     <use style=\"fill:#1f77b4;stroke:#1f77b4;\" x=\"126.785098\" xlink:href=\"#mbb73133bd6\" y=\"70.065949\"/>\n     <use style=\"fill:#1f77b4;stroke:#1f77b4;\" x=\"124.010231\" xlink:href=\"#mbb73133bd6\" y=\"66.703581\"/>\n     <use style=\"fill:#1f77b4;stroke:#1f77b4;\" x=\"221.727415\" xlink:href=\"#mbb73133bd6\" y=\"136.922727\"/>\n     <use style=\"fill:#1f77b4;stroke:#1f77b4;\" x=\"139.888395\" xlink:href=\"#mbb73133bd6\" y=\"73.930735\"/>\n     <use style=\"fill:#1f77b4;stroke:#1f77b4;\" x=\"133.18215\" xlink:href=\"#mbb73133bd6\" y=\"74.805131\"/>\n     <use style=\"fill:#1f77b4;stroke:#1f77b4;\" x=\"100.351817\" xlink:href=\"#mbb73133bd6\" y=\"67.620987\"/>\n     <use style=\"fill:#1f77b4;stroke:#1f77b4;\" x=\"96.153007\" xlink:href=\"#mbb73133bd6\" y=\"46.419338\"/>\n     <use style=\"fill:#1f77b4;stroke:#1f77b4;\" x=\"108.229619\" xlink:href=\"#mbb73133bd6\" y=\"58.030496\"/>\n     <use style=\"fill:#1f77b4;stroke:#1f77b4;\" x=\"152.430369\" xlink:href=\"#mbb73133bd6\" y=\"82.190702\"/>\n     <use style=\"fill:#1f77b4;stroke:#1f77b4;\" x=\"104.947526\" xlink:href=\"#mbb73133bd6\" y=\"58.88963\"/>\n     <use style=\"fill:#1f77b4;stroke:#1f77b4;\" x=\"137.951816\" xlink:href=\"#mbb73133bd6\" y=\"94.643174\"/>\n     <use style=\"fill:#1f77b4;stroke:#1f77b4;\" x=\"137.765497\" xlink:href=\"#mbb73133bd6\" y=\"63.920038\"/>\n     <use style=\"fill:#1f77b4;stroke:#1f77b4;\" x=\"105.133374\" xlink:href=\"#mbb73133bd6\" y=\"48.8867\"/>\n     <use style=\"fill:#1f77b4;stroke:#1f77b4;\" x=\"161.591714\" xlink:href=\"#mbb73133bd6\" y=\"93.890469\"/>\n     <use style=\"fill:#1f77b4;stroke:#1f77b4;\" x=\"86.866332\" xlink:href=\"#mbb73133bd6\" y=\"50.738168\"/>\n     <use style=\"fill:#1f77b4;stroke:#1f77b4;\" x=\"86.735568\" xlink:href=\"#mbb73133bd6\" y=\"46.181094\"/>\n     <use style=\"fill:#1f77b4;stroke:#1f77b4;\" x=\"141.720304\" xlink:href=\"#mbb73133bd6\" y=\"78.629101\"/>\n     <use style=\"fill:#1f77b4;stroke:#1f77b4;\" x=\"110.859984\" xlink:href=\"#mbb73133bd6\" y=\"66.788871\"/>\n     <use style=\"fill:#1f77b4;stroke:#1f77b4;\" x=\"100.88504\" xlink:href=\"#mbb73133bd6\" y=\"53.795094\"/>\n     <use style=\"fill:#1f77b4;stroke:#1f77b4;\" x=\"115.167585\" xlink:href=\"#mbb73133bd6\" y=\"58.313536\"/>\n     <use style=\"fill:#1f77b4;stroke:#1f77b4;\" x=\"125.991636\" xlink:href=\"#mbb73133bd6\" y=\"71.737512\"/>\n     <use style=\"fill:#1f77b4;stroke:#1f77b4;\" x=\"113.650037\" xlink:href=\"#mbb73133bd6\" y=\"40.956338\"/>\n     <use style=\"fill:#1f77b4;stroke:#1f77b4;\" x=\"137.020327\" xlink:href=\"#mbb73133bd6\" y=\"80.693639\"/>\n     <use style=\"fill:#1f77b4;stroke:#1f77b4;\" x=\"136.811729\" xlink:href=\"#mbb73133bd6\" y=\"87.684928\"/>\n     <use style=\"fill:#1f77b4;stroke:#1f77b4;\" x=\"123.382855\" xlink:href=\"#mbb73133bd6\" y=\"69.40003\"/>\n     <use style=\"fill:#1f77b4;stroke:#1f77b4;\" x=\"144.050021\" xlink:href=\"#mbb73133bd6\" y=\"75.488161\"/>\n     <use style=\"fill:#1f77b4;stroke:#1f77b4;\" x=\"154.710812\" xlink:href=\"#mbb73133bd6\" y=\"85.884209\"/>\n     <use style=\"fill:#1f77b4;stroke:#1f77b4;\" x=\"169.270112\" xlink:href=\"#mbb73133bd6\" y=\"101.177254\"/>\n     <use style=\"fill:#1f77b4;stroke:#1f77b4;\" x=\"123.477988\" xlink:href=\"#mbb73133bd6\" y=\"65.15779\"/>\n     <use style=\"fill:#1f77b4;stroke:#1f77b4;\" x=\"76.680614\" xlink:href=\"#mbb73133bd6\" y=\"34.601175\"/>\n     <use style=\"fill:#1f77b4;stroke:#1f77b4;\" x=\"167.057058\" xlink:href=\"#mbb73133bd6\" y=\"92.980261\"/>\n     <use style=\"fill:#1f77b4;stroke:#1f77b4;\" x=\"148.515905\" xlink:href=\"#mbb73133bd6\" y=\"91.172402\"/>\n     <use style=\"fill:#1f77b4;stroke:#1f77b4;\" x=\"125.806987\" xlink:href=\"#mbb73133bd6\" y=\"64.521645\"/>\n     <use style=\"fill:#1f77b4;stroke:#1f77b4;\" x=\"124.77198\" xlink:href=\"#mbb73133bd6\" y=\"63.642723\"/>\n     <use style=\"fill:#1f77b4;stroke:#1f77b4;\" x=\"129.029487\" xlink:href=\"#mbb73133bd6\" y=\"89.107244\"/>\n     <use style=\"fill:#1f77b4;stroke:#1f77b4;\" x=\"164.246385\" xlink:href=\"#mbb73133bd6\" y=\"106.675695\"/>\n     <use style=\"fill:#1f77b4;stroke:#1f77b4;\" x=\"102.351491\" xlink:href=\"#mbb73133bd6\" y=\"62.271346\"/>\n     <use style=\"fill:#1f77b4;stroke:#1f77b4;\" x=\"154.100821\" xlink:href=\"#mbb73133bd6\" y=\"76.137783\"/>\n     <use style=\"fill:#1f77b4;stroke:#1f77b4;\" x=\"139.912671\" xlink:href=\"#mbb73133bd6\" y=\"70.104621\"/>\n     <use style=\"fill:#1f77b4;stroke:#1f77b4;\" x=\"131.77804\" xlink:href=\"#mbb73133bd6\" y=\"83.823141\"/>\n     <use style=\"fill:#1f77b4;stroke:#1f77b4;\" x=\"85.663439\" xlink:href=\"#mbb73133bd6\" y=\"51.76154\"/>\n     <use style=\"fill:#1f77b4;stroke:#1f77b4;\" x=\"90.481958\" xlink:href=\"#mbb73133bd6\" y=\"44.932987\"/>\n     <use style=\"fill:#1f77b4;stroke:#1f77b4;\" x=\"135.633864\" xlink:href=\"#mbb73133bd6\" y=\"85.518721\"/>\n     <use style=\"fill:#1f77b4;stroke:#1f77b4;\" x=\"96.427127\" xlink:href=\"#mbb73133bd6\" y=\"41.401661\"/>\n     <use style=\"fill:#1f77b4;stroke:#1f77b4;\" x=\"155.727017\" xlink:href=\"#mbb73133bd6\" y=\"89.373321\"/>\n     <use style=\"fill:#1f77b4;stroke:#1f77b4;\" x=\"113.132811\" xlink:href=\"#mbb73133bd6\" y=\"60.204611\"/>\n     <use style=\"fill:#1f77b4;stroke:#1f77b4;\" x=\"114.02479\" xlink:href=\"#mbb73133bd6\" y=\"54.98497\"/>\n     <use style=\"fill:#1f77b4;stroke:#1f77b4;\" x=\"155.86034\" xlink:href=\"#mbb73133bd6\" y=\"85.073636\"/>\n     <use style=\"fill:#1f77b4;stroke:#1f77b4;\" x=\"179.755118\" xlink:href=\"#mbb73133bd6\" y=\"105.168007\"/>\n     <use style=\"fill:#1f77b4;stroke:#1f77b4;\" x=\"92.232555\" xlink:href=\"#mbb73133bd6\" y=\"42.281691\"/>\n     <use style=\"fill:#1f77b4;stroke:#1f77b4;\" x=\"112.818269\" xlink:href=\"#mbb73133bd6\" y=\"65.807565\"/>\n     <use style=\"fill:#1f77b4;stroke:#1f77b4;\" x=\"182.572829\" xlink:href=\"#mbb73133bd6\" y=\"105.368443\"/>\n     <use style=\"fill:#1f77b4;stroke:#1f77b4;\" x=\"118.896489\" xlink:href=\"#mbb73133bd6\" y=\"64.260379\"/>\n     <use style=\"fill:#1f77b4;stroke:#1f77b4;\" x=\"156.622113\" xlink:href=\"#mbb73133bd6\" y=\"91.849494\"/>\n     <use style=\"fill:#1f77b4;stroke:#1f77b4;\" x=\"120.967908\" xlink:href=\"#mbb73133bd6\" y=\"65.237969\"/>\n     <use style=\"fill:#1f77b4;stroke:#1f77b4;\" x=\"65.784086\" xlink:href=\"#mbb73133bd6\" y=\"28.390007\"/>\n     <use style=\"fill:#1f77b4;stroke:#1f77b4;\" x=\"72.291006\" xlink:href=\"#mbb73133bd6\" y=\"46.633705\"/>\n     <use style=\"fill:#1f77b4;stroke:#1f77b4;\" x=\"114.296683\" xlink:href=\"#mbb73133bd6\" y=\"60.772057\"/>\n     <use style=\"fill:#1f77b4;stroke:#1f77b4;\" x=\"131.636914\" xlink:href=\"#mbb73133bd6\" y=\"78.89233\"/>\n     <use style=\"fill:#1f77b4;stroke:#1f77b4;\" x=\"171.343589\" xlink:href=\"#mbb73133bd6\" y=\"110.748966\"/>\n     <use style=\"fill:#1f77b4;stroke:#1f77b4;\" x=\"106.69654\" xlink:href=\"#mbb73133bd6\" y=\"67.533653\"/>\n     <use style=\"fill:#1f77b4;stroke:#1f77b4;\" x=\"100.840551\" xlink:href=\"#mbb73133bd6\" y=\"51.042191\"/>\n     <use style=\"fill:#1f77b4;stroke:#1f77b4;\" x=\"87.893196\" xlink:href=\"#mbb73133bd6\" y=\"46.583484\"/>\n     <use style=\"fill:#1f77b4;stroke:#1f77b4;\" x=\"119.158806\" xlink:href=\"#mbb73133bd6\" y=\"65.698568\"/>\n     <use style=\"fill:#1f77b4;stroke:#1f77b4;\" x=\"116.968195\" xlink:href=\"#mbb73133bd6\" y=\"69.451576\"/>\n     <use style=\"fill:#1f77b4;stroke:#1f77b4;\" x=\"146.269554\" xlink:href=\"#mbb73133bd6\" y=\"91.711289\"/>\n     <use style=\"fill:#1f77b4;stroke:#1f77b4;\" x=\"172.382212\" xlink:href=\"#mbb73133bd6\" y=\"98.562071\"/>\n     <use style=\"fill:#1f77b4;stroke:#1f77b4;\" x=\"111.553952\" xlink:href=\"#mbb73133bd6\" y=\"76.733795\"/>\n     <use style=\"fill:#1f77b4;stroke:#1f77b4;\" x=\"140.894407\" xlink:href=\"#mbb73133bd6\" y=\"74.568545\"/>\n     <use style=\"fill:#1f77b4;stroke:#1f77b4;\" x=\"128.37297\" xlink:href=\"#mbb73133bd6\" y=\"69.595733\"/>\n     <use style=\"fill:#1f77b4;stroke:#1f77b4;\" x=\"146.636099\" xlink:href=\"#mbb73133bd6\" y=\"93.948059\"/>\n     <use style=\"fill:#1f77b4;stroke:#1f77b4;\" x=\"116.78673\" xlink:href=\"#mbb73133bd6\" y=\"51.853925\"/>\n     <use style=\"fill:#1f77b4;stroke:#1f77b4;\" x=\"129.941269\" xlink:href=\"#mbb73133bd6\" y=\"69.912936\"/>\n     <use style=\"fill:#1f77b4;stroke:#1f77b4;\" x=\"128.333887\" xlink:href=\"#mbb73133bd6\" y=\"69.559172\"/>\n     <use style=\"fill:#1f77b4;stroke:#1f77b4;\" x=\"148.450919\" xlink:href=\"#mbb73133bd6\" y=\"102.788476\"/>\n     <use style=\"fill:#1f77b4;stroke:#1f77b4;\" x=\"87.678297\" xlink:href=\"#mbb73133bd6\" y=\"60.999958\"/>\n     <use style=\"fill:#1f77b4;stroke:#1f77b4;\" x=\"116.037244\" xlink:href=\"#mbb73133bd6\" y=\"61.788976\"/>\n     <use style=\"fill:#1f77b4;stroke:#1f77b4;\" x=\"66.975782\" xlink:href=\"#mbb73133bd6\" y=\"30.458324\"/>\n     <use style=\"fill:#1f77b4;stroke:#1f77b4;\" x=\"139.677196\" xlink:href=\"#mbb73133bd6\" y=\"89.883901\"/>\n     <use style=\"fill:#1f77b4;stroke:#1f77b4;\" x=\"88.236557\" xlink:href=\"#mbb73133bd6\" y=\"53.306096\"/>\n     <use style=\"fill:#1f77b4;stroke:#1f77b4;\" x=\"118.144105\" xlink:href=\"#mbb73133bd6\" y=\"63.66329\"/>\n     <use style=\"fill:#1f77b4;stroke:#1f77b4;\" x=\"111.296707\" xlink:href=\"#mbb73133bd6\" y=\"72.910061\"/>\n     <use style=\"fill:#1f77b4;stroke:#1f77b4;\" x=\"135.739434\" xlink:href=\"#mbb73133bd6\" y=\"62.092282\"/>\n     <use style=\"fill:#1f77b4;stroke:#1f77b4;\" x=\"156.186286\" xlink:href=\"#mbb73133bd6\" y=\"86.36646\"/>\n     <use style=\"fill:#1f77b4;stroke:#1f77b4;\" x=\"131.224232\" xlink:href=\"#mbb73133bd6\" y=\"74.339427\"/>\n     <use style=\"fill:#1f77b4;stroke:#1f77b4;\" x=\"156.796268\" xlink:href=\"#mbb73133bd6\" y=\"73.38976\"/>\n     <use style=\"fill:#1f77b4;stroke:#1f77b4;\" x=\"166.650958\" xlink:href=\"#mbb73133bd6\" y=\"89.798565\"/>\n     <use style=\"fill:#1f77b4;stroke:#1f77b4;\" x=\"96.522494\" xlink:href=\"#mbb73133bd6\" y=\"63.48768\"/>\n     <use style=\"fill:#1f77b4;stroke:#1f77b4;\" x=\"57.422722\" xlink:href=\"#mbb73133bd6\" y=\"47.185063\"/>\n     <use style=\"fill:#1f77b4;stroke:#1f77b4;\" x=\"108.951924\" xlink:href=\"#mbb73133bd6\" y=\"76.379695\"/>\n     <use style=\"fill:#1f77b4;stroke:#1f77b4;\" x=\"107.320619\" xlink:href=\"#mbb73133bd6\" y=\"71.450147\"/>\n     <use style=\"fill:#1f77b4;stroke:#1f77b4;\" x=\"122.113246\" xlink:href=\"#mbb73133bd6\" y=\"72.94076\"/>\n     <use style=\"fill:#1f77b4;stroke:#1f77b4;\" x=\"188.969124\" xlink:href=\"#mbb73133bd6\" y=\"124.950927\"/>\n     <use style=\"fill:#1f77b4;stroke:#1f77b4;\" x=\"44.18196\" xlink:href=\"#mbb73133bd6\" y=\"36.935384\"/>\n     <use style=\"fill:#1f77b4;stroke:#1f77b4;\" x=\"134.463849\" xlink:href=\"#mbb73133bd6\" y=\"70.628367\"/>\n     <use style=\"fill:#1f77b4;stroke:#1f77b4;\" x=\"149.644794\" xlink:href=\"#mbb73133bd6\" y=\"77.777757\"/>\n     <use style=\"fill:#1f77b4;stroke:#1f77b4;\" x=\"115.267133\" xlink:href=\"#mbb73133bd6\" y=\"71.985771\"/>\n     <use style=\"fill:#1f77b4;stroke:#1f77b4;\" x=\"133.645253\" xlink:href=\"#mbb73133bd6\" y=\"74.215998\"/>\n     <use style=\"fill:#1f77b4;stroke:#1f77b4;\" x=\"107.196469\" xlink:href=\"#mbb73133bd6\" y=\"63.111298\"/>\n     <use style=\"fill:#1f77b4;stroke:#1f77b4;\" x=\"152.535711\" xlink:href=\"#mbb73133bd6\" y=\"82.835197\"/>\n     <use style=\"fill:#1f77b4;stroke:#1f77b4;\" x=\"157.748007\" xlink:href=\"#mbb73133bd6\" y=\"80.430089\"/>\n     <use style=\"fill:#1f77b4;stroke:#1f77b4;\" x=\"145.74607\" xlink:href=\"#mbb73133bd6\" y=\"62.683858\"/>\n     <use style=\"fill:#1f77b4;stroke:#1f77b4;\" x=\"133.99359\" xlink:href=\"#mbb73133bd6\" y=\"56.182777\"/>\n     <use style=\"fill:#1f77b4;stroke:#1f77b4;\" x=\"110.240032\" xlink:href=\"#mbb73133bd6\" y=\"60.690172\"/>\n     <use style=\"fill:#1f77b4;stroke:#1f77b4;\" x=\"114.452793\" xlink:href=\"#mbb73133bd6\" y=\"76.728951\"/>\n     <use style=\"fill:#1f77b4;stroke:#1f77b4;\" x=\"123.431169\" xlink:href=\"#mbb73133bd6\" y=\"77.948087\"/>\n     <use style=\"fill:#1f77b4;stroke:#1f77b4;\" x=\"103.83281\" xlink:href=\"#mbb73133bd6\" y=\"64.023823\"/>\n     <use style=\"fill:#1f77b4;stroke:#1f77b4;\" x=\"157.949207\" xlink:href=\"#mbb73133bd6\" y=\"84.772975\"/>\n     <use style=\"fill:#1f77b4;stroke:#1f77b4;\" x=\"94.569994\" xlink:href=\"#mbb73133bd6\" y=\"43.709956\"/>\n     <use style=\"fill:#1f77b4;stroke:#1f77b4;\" x=\"115.619707\" xlink:href=\"#mbb73133bd6\" y=\"75.182753\"/>\n     <use style=\"fill:#1f77b4;stroke:#1f77b4;\" x=\"138.733403\" xlink:href=\"#mbb73133bd6\" y=\"79.868273\"/>\n     <use style=\"fill:#1f77b4;stroke:#1f77b4;\" x=\"118.356302\" xlink:href=\"#mbb73133bd6\" y=\"79.878095\"/>\n     <use style=\"fill:#1f77b4;stroke:#1f77b4;\" x=\"142.0575\" xlink:href=\"#mbb73133bd6\" y=\"68.217294\"/>\n     <use style=\"fill:#1f77b4;stroke:#1f77b4;\" x=\"82.76158\" xlink:href=\"#mbb73133bd6\" y=\"38.197443\"/>\n     <use style=\"fill:#1f77b4;stroke:#1f77b4;\" x=\"77.465266\" xlink:href=\"#mbb73133bd6\" y=\"42.228804\"/>\n     <use style=\"fill:#1f77b4;stroke:#1f77b4;\" x=\"125.949021\" xlink:href=\"#mbb73133bd6\" y=\"66.545536\"/>\n     <use style=\"fill:#1f77b4;stroke:#1f77b4;\" x=\"151.318269\" xlink:href=\"#mbb73133bd6\" y=\"87.782199\"/>\n     <use style=\"fill:#1f77b4;stroke:#1f77b4;\" x=\"122.650184\" xlink:href=\"#mbb73133bd6\" y=\"73.768501\"/>\n     <use style=\"fill:#1f77b4;stroke:#1f77b4;\" x=\"145.824584\" xlink:href=\"#mbb73133bd6\" y=\"97.500997\"/>\n     <use style=\"fill:#1f77b4;stroke:#1f77b4;\" x=\"109.783492\" xlink:href=\"#mbb73133bd6\" y=\"57.304701\"/>\n     <use style=\"fill:#1f77b4;stroke:#1f77b4;\" x=\"127.031979\" xlink:href=\"#mbb73133bd6\" y=\"86.431483\"/>\n     <use style=\"fill:#1f77b4;stroke:#1f77b4;\" x=\"110.40948\" xlink:href=\"#mbb73133bd6\" y=\"57.925925\"/>\n     <use style=\"fill:#1f77b4;stroke:#1f77b4;\" x=\"129.198191\" xlink:href=\"#mbb73133bd6\" y=\"60.065791\"/>\n     <use style=\"fill:#1f77b4;stroke:#1f77b4;\" x=\"175.678825\" xlink:href=\"#mbb73133bd6\" y=\"95.04145\"/>\n     <use style=\"fill:#1f77b4;stroke:#1f77b4;\" x=\"123.066107\" xlink:href=\"#mbb73133bd6\" y=\"71.913788\"/>\n     <use style=\"fill:#1f77b4;stroke:#1f77b4;\" x=\"79.842432\" xlink:href=\"#mbb73133bd6\" y=\"41.526342\"/>\n     <use style=\"fill:#1f77b4;stroke:#1f77b4;\" x=\"86.042274\" xlink:href=\"#mbb73133bd6\" y=\"28.986596\"/>\n     <use style=\"fill:#1f77b4;stroke:#1f77b4;\" x=\"111.572922\" xlink:href=\"#mbb73133bd6\" y=\"70.052234\"/>\n     <use style=\"fill:#1f77b4;stroke:#1f77b4;\" x=\"145.407223\" xlink:href=\"#mbb73133bd6\" y=\"80.991965\"/>\n     <use style=\"fill:#1f77b4;stroke:#1f77b4;\" x=\"145.640584\" xlink:href=\"#mbb73133bd6\" y=\"95.620663\"/>\n     <use style=\"fill:#1f77b4;stroke:#1f77b4;\" x=\"159.04861\" xlink:href=\"#mbb73133bd6\" y=\"104.176945\"/>\n     <use style=\"fill:#1f77b4;stroke:#1f77b4;\" x=\"78.501992\" xlink:href=\"#mbb73133bd6\" y=\"39.798074\"/>\n     <use style=\"fill:#1f77b4;stroke:#1f77b4;\" x=\"104.288161\" xlink:href=\"#mbb73133bd6\" y=\"54.088322\"/>\n     <use style=\"fill:#1f77b4;stroke:#1f77b4;\" x=\"137.094268\" xlink:href=\"#mbb73133bd6\" y=\"80.67532\"/>\n     <use style=\"fill:#1f77b4;stroke:#1f77b4;\" x=\"103.661246\" xlink:href=\"#mbb73133bd6\" y=\"58.263139\"/>\n     <use style=\"fill:#1f77b4;stroke:#1f77b4;\" x=\"127.640898\" xlink:href=\"#mbb73133bd6\" y=\"73.723079\"/>\n     <use style=\"fill:#1f77b4;stroke:#1f77b4;\" x=\"170.849218\" xlink:href=\"#mbb73133bd6\" y=\"79.278982\"/>\n     <use style=\"fill:#1f77b4;stroke:#1f77b4;\" x=\"146.483682\" xlink:href=\"#mbb73133bd6\" y=\"89.207542\"/>\n     <use style=\"fill:#1f77b4;stroke:#1f77b4;\" x=\"137.05423\" xlink:href=\"#mbb73133bd6\" y=\"82.634667\"/>\n     <use style=\"fill:#1f77b4;stroke:#1f77b4;\" x=\"143.490537\" xlink:href=\"#mbb73133bd6\" y=\"74.454738\"/>\n     <use style=\"fill:#1f77b4;stroke:#1f77b4;\" x=\"82.34768\" xlink:href=\"#mbb73133bd6\" y=\"40.617801\"/>\n     <use style=\"fill:#1f77b4;stroke:#1f77b4;\" x=\"152.888469\" xlink:href=\"#mbb73133bd6\" y=\"91.547601\"/>\n     <use style=\"fill:#1f77b4;stroke:#1f77b4;\" x=\"109.546345\" xlink:href=\"#mbb73133bd6\" y=\"64.063006\"/>\n     <use style=\"fill:#1f77b4;stroke:#1f77b4;\" x=\"120.268122\" xlink:href=\"#mbb73133bd6\" y=\"71.572287\"/>\n     <use style=\"fill:#1f77b4;stroke:#1f77b4;\" x=\"91.899465\" xlink:href=\"#mbb73133bd6\" y=\"46.919645\"/>\n     <use style=\"fill:#1f77b4;stroke:#1f77b4;\" x=\"103.598389\" xlink:href=\"#mbb73133bd6\" y=\"54.784358\"/>\n     <use style=\"fill:#1f77b4;stroke:#1f77b4;\" x=\"164.961786\" xlink:href=\"#mbb73133bd6\" y=\"89.472698\"/>\n     <use style=\"fill:#1f77b4;stroke:#1f77b4;\" x=\"130.153009\" xlink:href=\"#mbb73133bd6\" y=\"77.232987\"/>\n     <use style=\"fill:#1f77b4;stroke:#1f77b4;\" x=\"155.855158\" xlink:href=\"#mbb73133bd6\" y=\"91.108723\"/>\n     <use style=\"fill:#1f77b4;stroke:#1f77b4;\" x=\"149.018557\" xlink:href=\"#mbb73133bd6\" y=\"74.090428\"/>\n     <use style=\"fill:#1f77b4;stroke:#1f77b4;\" x=\"154.736312\" xlink:href=\"#mbb73133bd6\" y=\"84.994446\"/>\n     <use style=\"fill:#1f77b4;stroke:#1f77b4;\" x=\"139.017188\" xlink:href=\"#mbb73133bd6\" y=\"81.755283\"/>\n     <use style=\"fill:#1f77b4;stroke:#1f77b4;\" x=\"120.791756\" xlink:href=\"#mbb73133bd6\" y=\"76.665948\"/>\n     <use style=\"fill:#1f77b4;stroke:#1f77b4;\" x=\"134.409223\" xlink:href=\"#mbb73133bd6\" y=\"74.54791\"/>\n     <use style=\"fill:#1f77b4;stroke:#1f77b4;\" x=\"83.360987\" xlink:href=\"#mbb73133bd6\" y=\"28.903673\"/>\n     <use style=\"fill:#1f77b4;stroke:#1f77b4;\" x=\"95.238384\" xlink:href=\"#mbb73133bd6\" y=\"54.70981\"/>\n     <use style=\"fill:#1f77b4;stroke:#1f77b4;\" x=\"103.013151\" xlink:href=\"#mbb73133bd6\" y=\"51.717175\"/>\n     <use style=\"fill:#1f77b4;stroke:#1f77b4;\" x=\"159.69457\" xlink:href=\"#mbb73133bd6\" y=\"96.083083\"/>\n     <use style=\"fill:#1f77b4;stroke:#1f77b4;\" x=\"111.164915\" xlink:href=\"#mbb73133bd6\" y=\"70.327178\"/>\n     <use style=\"fill:#1f77b4;stroke:#1f77b4;\" x=\"81.139724\" xlink:href=\"#mbb73133bd6\" y=\"52.241884\"/>\n     <use style=\"fill:#1f77b4;stroke:#1f77b4;\" x=\"83.129486\" xlink:href=\"#mbb73133bd6\" y=\"41.799936\"/>\n     <use style=\"fill:#1f77b4;stroke:#1f77b4;\" x=\"150.271314\" xlink:href=\"#mbb73133bd6\" y=\"94.341624\"/>\n     <use style=\"fill:#1f77b4;stroke:#1f77b4;\" x=\"124.619007\" xlink:href=\"#mbb73133bd6\" y=\"66.596466\"/>\n     <use style=\"fill:#1f77b4;stroke:#1f77b4;\" x=\"113.73979\" xlink:href=\"#mbb73133bd6\" y=\"53.38591\"/>\n     <use style=\"fill:#1f77b4;stroke:#1f77b4;\" x=\"110.197092\" xlink:href=\"#mbb73133bd6\" y=\"70.65123\"/>\n     <use style=\"fill:#1f77b4;stroke:#1f77b4;\" x=\"89.662399\" xlink:href=\"#mbb73133bd6\" y=\"47.331126\"/>\n     <use style=\"fill:#1f77b4;stroke:#1f77b4;\" x=\"126.639476\" xlink:href=\"#mbb73133bd6\" y=\"78.350273\"/>\n     <use style=\"fill:#1f77b4;stroke:#1f77b4;\" x=\"151.53499\" xlink:href=\"#mbb73133bd6\" y=\"116.459089\"/>\n     <use style=\"fill:#1f77b4;stroke:#1f77b4;\" x=\"182.429776\" xlink:href=\"#mbb73133bd6\" y=\"97.869295\"/>\n     <use style=\"fill:#1f77b4;stroke:#1f77b4;\" x=\"174.494119\" xlink:href=\"#mbb73133bd6\" y=\"93.88508\"/>\n     <use style=\"fill:#1f77b4;stroke:#1f77b4;\" x=\"118.975346\" xlink:href=\"#mbb73133bd6\" y=\"75.934611\"/>\n     <use style=\"fill:#1f77b4;stroke:#1f77b4;\" x=\"140.460111\" xlink:href=\"#mbb73133bd6\" y=\"80.000635\"/>\n     <use style=\"fill:#1f77b4;stroke:#1f77b4;\" x=\"95.318607\" xlink:href=\"#mbb73133bd6\" y=\"47.167001\"/>\n     <use style=\"fill:#1f77b4;stroke:#1f77b4;\" x=\"132.765447\" xlink:href=\"#mbb73133bd6\" y=\"63.780515\"/>\n     <use style=\"fill:#1f77b4;stroke:#1f77b4;\" x=\"182.828077\" xlink:href=\"#mbb73133bd6\" y=\"100.860632\"/>\n     <use style=\"fill:#1f77b4;stroke:#1f77b4;\" x=\"110.999572\" xlink:href=\"#mbb73133bd6\" y=\"63.605301\"/>\n     <use style=\"fill:#1f77b4;stroke:#1f77b4;\" x=\"123.296068\" xlink:href=\"#mbb73133bd6\" y=\"65.079007\"/>\n     <use style=\"fill:#1f77b4;stroke:#1f77b4;\" x=\"117.289884\" xlink:href=\"#mbb73133bd6\" y=\"56.49999\"/>\n     <use style=\"fill:#1f77b4;stroke:#1f77b4;\" x=\"74.738156\" xlink:href=\"#mbb73133bd6\" y=\"36.532674\"/>\n     <use style=\"fill:#1f77b4;stroke:#1f77b4;\" x=\"131.051427\" xlink:href=\"#mbb73133bd6\" y=\"78.121289\"/>\n     <use style=\"fill:#1f77b4;stroke:#1f77b4;\" x=\"114.720564\" xlink:href=\"#mbb73133bd6\" y=\"64.479963\"/>\n     <use style=\"fill:#1f77b4;stroke:#1f77b4;\" x=\"130.059667\" xlink:href=\"#mbb73133bd6\" y=\"52.062205\"/>\n     <use style=\"fill:#1f77b4;stroke:#1f77b4;\" x=\"138.502831\" xlink:href=\"#mbb73133bd6\" y=\"88.472006\"/>\n     <use style=\"fill:#1f77b4;stroke:#1f77b4;\" x=\"119.945971\" xlink:href=\"#mbb73133bd6\" y=\"70.128499\"/>\n     <use style=\"fill:#1f77b4;stroke:#1f77b4;\" x=\"75.189228\" xlink:href=\"#mbb73133bd6\" y=\"63.398119\"/>\n     <use style=\"fill:#1f77b4;stroke:#1f77b4;\" x=\"123.464308\" xlink:href=\"#mbb73133bd6\" y=\"64.887481\"/>\n     <use style=\"fill:#1f77b4;stroke:#1f77b4;\" x=\"130.716231\" xlink:href=\"#mbb73133bd6\" y=\"82.161998\"/>\n     <use style=\"fill:#1f77b4;stroke:#1f77b4;\" x=\"105.73479\" xlink:href=\"#mbb73133bd6\" y=\"57.254044\"/>\n     <use style=\"fill:#1f77b4;stroke:#1f77b4;\" x=\"163.991659\" xlink:href=\"#mbb73133bd6\" y=\"77.770778\"/>\n     <use style=\"fill:#1f77b4;stroke:#1f77b4;\" x=\"116.604664\" xlink:href=\"#mbb73133bd6\" y=\"62.843875\"/>\n     <use style=\"fill:#1f77b4;stroke:#1f77b4;\" x=\"154.709728\" xlink:href=\"#mbb73133bd6\" y=\"83.442912\"/>\n     <use style=\"fill:#1f77b4;stroke:#1f77b4;\" x=\"109.000895\" xlink:href=\"#mbb73133bd6\" y=\"58.517087\"/>\n     <use style=\"fill:#1f77b4;stroke:#1f77b4;\" x=\"126.562193\" xlink:href=\"#mbb73133bd6\" y=\"70.08997\"/>\n     <use style=\"fill:#1f77b4;stroke:#1f77b4;\" x=\"165.264962\" xlink:href=\"#mbb73133bd6\" y=\"103.565917\"/>\n     <use style=\"fill:#1f77b4;stroke:#1f77b4;\" x=\"149.603403\" xlink:href=\"#mbb73133bd6\" y=\"91.812132\"/>\n     <use style=\"fill:#1f77b4;stroke:#1f77b4;\" x=\"105.021593\" xlink:href=\"#mbb73133bd6\" y=\"67.072018\"/>\n     <use style=\"fill:#1f77b4;stroke:#1f77b4;\" x=\"82.11312\" xlink:href=\"#mbb73133bd6\" y=\"59.913184\"/>\n     <use style=\"fill:#1f77b4;stroke:#1f77b4;\" x=\"159.426355\" xlink:href=\"#mbb73133bd6\" y=\"90.02595\"/>\n     <use style=\"fill:#1f77b4;stroke:#1f77b4;\" x=\"86.057774\" xlink:href=\"#mbb73133bd6\" y=\"58.331517\"/>\n     <use style=\"fill:#1f77b4;stroke:#1f77b4;\" x=\"112.046312\" xlink:href=\"#mbb73133bd6\" y=\"52.253051\"/>\n     <use style=\"fill:#1f77b4;stroke:#1f77b4;\" x=\"107.315557\" xlink:href=\"#mbb73133bd6\" y=\"63.196894\"/>\n     <use style=\"fill:#1f77b4;stroke:#1f77b4;\" x=\"132.468517\" xlink:href=\"#mbb73133bd6\" y=\"67.758613\"/>\n     <use style=\"fill:#1f77b4;stroke:#1f77b4;\" x=\"131.079687\" xlink:href=\"#mbb73133bd6\" y=\"78.926632\"/>\n     <use style=\"fill:#1f77b4;stroke:#1f77b4;\" x=\"90.981822\" xlink:href=\"#mbb73133bd6\" y=\"55.681197\"/>\n     <use style=\"fill:#1f77b4;stroke:#1f77b4;\" x=\"108.377847\" xlink:href=\"#mbb73133bd6\" y=\"66.942825\"/>\n     <use style=\"fill:#1f77b4;stroke:#1f77b4;\" x=\"105.399527\" xlink:href=\"#mbb73133bd6\" y=\"51.816781\"/>\n     <use style=\"fill:#1f77b4;stroke:#1f77b4;\" x=\"91.362614\" xlink:href=\"#mbb73133bd6\" y=\"54.029612\"/>\n     <use style=\"fill:#1f77b4;stroke:#1f77b4;\" x=\"138.659176\" xlink:href=\"#mbb73133bd6\" y=\"93.70097\"/>\n     <use style=\"fill:#1f77b4;stroke:#1f77b4;\" x=\"75.120754\" xlink:href=\"#mbb73133bd6\" y=\"51.629476\"/>\n     <use style=\"fill:#1f77b4;stroke:#1f77b4;\" x=\"105.624272\" xlink:href=\"#mbb73133bd6\" y=\"74.959002\"/>\n     <use style=\"fill:#1f77b4;stroke:#1f77b4;\" x=\"106.677136\" xlink:href=\"#mbb73133bd6\" y=\"68.073126\"/>\n     <use style=\"fill:#1f77b4;stroke:#1f77b4;\" x=\"155.001332\" xlink:href=\"#mbb73133bd6\" y=\"94.807215\"/>\n     <use style=\"fill:#1f77b4;stroke:#1f77b4;\" x=\"130.091574\" xlink:href=\"#mbb73133bd6\" y=\"62.536332\"/>\n     <use style=\"fill:#1f77b4;stroke:#1f77b4;\" x=\"163.98254\" xlink:href=\"#mbb73133bd6\" y=\"81.264787\"/>\n     <use style=\"fill:#1f77b4;stroke:#1f77b4;\" x=\"92.098545\" xlink:href=\"#mbb73133bd6\" y=\"41.441531\"/>\n     <use style=\"fill:#1f77b4;stroke:#1f77b4;\" x=\"107.200168\" xlink:href=\"#mbb73133bd6\" y=\"60.941364\"/>\n     <use style=\"fill:#1f77b4;stroke:#1f77b4;\" x=\"172.360766\" xlink:href=\"#mbb73133bd6\" y=\"92.103072\"/>\n     <use style=\"fill:#1f77b4;stroke:#1f77b4;\" x=\"171.181439\" xlink:href=\"#mbb73133bd6\" y=\"94.186304\"/>\n     <use style=\"fill:#1f77b4;stroke:#1f77b4;\" x=\"107.879927\" xlink:href=\"#mbb73133bd6\" y=\"68.290033\"/>\n     <use style=\"fill:#1f77b4;stroke:#1f77b4;\" x=\"93.827512\" xlink:href=\"#mbb73133bd6\" y=\"37.632727\"/>\n     <use style=\"fill:#1f77b4;stroke:#1f77b4;\" x=\"97.793678\" xlink:href=\"#mbb73133bd6\" y=\"51.64063\"/>\n     <use style=\"fill:#1f77b4;stroke:#1f77b4;\" x=\"104.338856\" xlink:href=\"#mbb73133bd6\" y=\"60.976524\"/>\n     <use style=\"fill:#1f77b4;stroke:#1f77b4;\" x=\"126.257404\" xlink:href=\"#mbb73133bd6\" y=\"64.629098\"/>\n     <use style=\"fill:#1f77b4;stroke:#1f77b4;\" x=\"120.758661\" xlink:href=\"#mbb73133bd6\" y=\"63.2204\"/>\n     <use style=\"fill:#1f77b4;stroke:#1f77b4;\" x=\"160.650285\" xlink:href=\"#mbb73133bd6\" y=\"95.972673\"/>\n     <use style=\"fill:#1f77b4;stroke:#1f77b4;\" x=\"157.007897\" xlink:href=\"#mbb73133bd6\" y=\"83.383506\"/>\n     <use style=\"fill:#1f77b4;stroke:#1f77b4;\" x=\"153.657471\" xlink:href=\"#mbb73133bd6\" y=\"97.469492\"/>\n     <use style=\"fill:#1f77b4;stroke:#1f77b4;\" x=\"103.342104\" xlink:href=\"#mbb73133bd6\" y=\"42.476399\"/>\n     <use style=\"fill:#1f77b4;stroke:#1f77b4;\" x=\"130.877191\" xlink:href=\"#mbb73133bd6\" y=\"62.485702\"/>\n     <use style=\"fill:#1f77b4;stroke:#1f77b4;\" x=\"123.152535\" xlink:href=\"#mbb73133bd6\" y=\"75.227873\"/>\n     <use style=\"fill:#1f77b4;stroke:#1f77b4;\" x=\"145.310131\" xlink:href=\"#mbb73133bd6\" y=\"93.486307\"/>\n     <use style=\"fill:#1f77b4;stroke:#1f77b4;\" x=\"148.198974\" xlink:href=\"#mbb73133bd6\" y=\"91.821863\"/>\n     <use style=\"fill:#1f77b4;stroke:#1f77b4;\" x=\"116.847799\" xlink:href=\"#mbb73133bd6\" y=\"56.392196\"/>\n     <use style=\"fill:#1f77b4;stroke:#1f77b4;\" x=\"125.819492\" xlink:href=\"#mbb73133bd6\" y=\"69.317709\"/>\n     <use style=\"fill:#1f77b4;stroke:#1f77b4;\" x=\"132.881741\" xlink:href=\"#mbb73133bd6\" y=\"77.957122\"/>\n     <use style=\"fill:#1f77b4;stroke:#1f77b4;\" x=\"114.684224\" xlink:href=\"#mbb73133bd6\" y=\"65.988199\"/>\n     <use style=\"fill:#1f77b4;stroke:#1f77b4;\" x=\"119.479451\" xlink:href=\"#mbb73133bd6\" y=\"62.560968\"/>\n     <use style=\"fill:#1f77b4;stroke:#1f77b4;\" x=\"164.60462\" xlink:href=\"#mbb73133bd6\" y=\"111.586938\"/>\n     <use style=\"fill:#1f77b4;stroke:#1f77b4;\" x=\"124.083635\" xlink:href=\"#mbb73133bd6\" y=\"75.506021\"/>\n     <use style=\"fill:#1f77b4;stroke:#1f77b4;\" x=\"126.379123\" xlink:href=\"#mbb73133bd6\" y=\"76.813067\"/>\n     <use style=\"fill:#1f77b4;stroke:#1f77b4;\" x=\"134.630022\" xlink:href=\"#mbb73133bd6\" y=\"84.687895\"/>\n     <use style=\"fill:#1f77b4;stroke:#1f77b4;\" x=\"170.095347\" xlink:href=\"#mbb73133bd6\" y=\"87.158729\"/>\n     <use style=\"fill:#1f77b4;stroke:#1f77b4;\" x=\"118.435933\" xlink:href=\"#mbb73133bd6\" y=\"47.554439\"/>\n     <use style=\"fill:#1f77b4;stroke:#1f77b4;\" x=\"144.947088\" xlink:href=\"#mbb73133bd6\" y=\"100.227986\"/>\n     <use style=\"fill:#1f77b4;stroke:#1f77b4;\" x=\"102.320678\" xlink:href=\"#mbb73133bd6\" y=\"65.744738\"/>\n     <use style=\"fill:#1f77b4;stroke:#1f77b4;\" x=\"96.791954\" xlink:href=\"#mbb73133bd6\" y=\"79.920211\"/>\n     <use style=\"fill:#1f77b4;stroke:#1f77b4;\" x=\"54.237101\" xlink:href=\"#mbb73133bd6\" y=\"21.791983\"/>\n     <use style=\"fill:#1f77b4;stroke:#1f77b4;\" x=\"121.020141\" xlink:href=\"#mbb73133bd6\" y=\"72.920823\"/>\n     <use style=\"fill:#1f77b4;stroke:#1f77b4;\" x=\"174.415758\" xlink:href=\"#mbb73133bd6\" y=\"87.534817\"/>\n     <use style=\"fill:#1f77b4;stroke:#1f77b4;\" x=\"124.743118\" xlink:href=\"#mbb73133bd6\" y=\"89.596437\"/>\n     <use style=\"fill:#1f77b4;stroke:#1f77b4;\" x=\"115.317762\" xlink:href=\"#mbb73133bd6\" y=\"68.44964\"/>\n     <use style=\"fill:#1f77b4;stroke:#1f77b4;\" x=\"192.291872\" xlink:href=\"#mbb73133bd6\" y=\"114.43909\"/>\n     <use style=\"fill:#1f77b4;stroke:#1f77b4;\" x=\"160.682035\" xlink:href=\"#mbb73133bd6\" y=\"78.697491\"/>\n     <use style=\"fill:#1f77b4;stroke:#1f77b4;\" x=\"68.871168\" xlink:href=\"#mbb73133bd6\" y=\"43.768153\"/>\n     <use style=\"fill:#1f77b4;stroke:#1f77b4;\" x=\"86.08691\" xlink:href=\"#mbb73133bd6\" y=\"50.16334\"/>\n     <use style=\"fill:#1f77b4;stroke:#1f77b4;\" x=\"100.043594\" xlink:href=\"#mbb73133bd6\" y=\"55.47222\"/>\n     <use style=\"fill:#1f77b4;stroke:#1f77b4;\" x=\"163.642209\" xlink:href=\"#mbb73133bd6\" y=\"99.787619\"/>\n     <use style=\"fill:#1f77b4;stroke:#1f77b4;\" x=\"79.245397\" xlink:href=\"#mbb73133bd6\" y=\"32.864072\"/>\n     <use style=\"fill:#1f77b4;stroke:#1f77b4;\" x=\"82.847725\" xlink:href=\"#mbb73133bd6\" y=\"50.097359\"/>\n     <use style=\"fill:#1f77b4;stroke:#1f77b4;\" x=\"123.880649\" xlink:href=\"#mbb73133bd6\" y=\"65.199623\"/>\n     <use style=\"fill:#1f77b4;stroke:#1f77b4;\" x=\"137.293704\" xlink:href=\"#mbb73133bd6\" y=\"73.580776\"/>\n     <use style=\"fill:#1f77b4;stroke:#1f77b4;\" x=\"118.682395\" xlink:href=\"#mbb73133bd6\" y=\"53.71046\"/>\n     <use style=\"fill:#1f77b4;stroke:#1f77b4;\" x=\"106.376458\" xlink:href=\"#mbb73133bd6\" y=\"59.830807\"/>\n     <use style=\"fill:#1f77b4;stroke:#1f77b4;\" x=\"94.297791\" xlink:href=\"#mbb73133bd6\" y=\"65.504204\"/>\n     <use style=\"fill:#1f77b4;stroke:#1f77b4;\" x=\"95.235231\" xlink:href=\"#mbb73133bd6\" y=\"61.74402\"/>\n     <use style=\"fill:#1f77b4;stroke:#1f77b4;\" x=\"142.221672\" xlink:href=\"#mbb73133bd6\" y=\"102.988714\"/>\n     <use style=\"fill:#1f77b4;stroke:#1f77b4;\" x=\"114.413505\" xlink:href=\"#mbb73133bd6\" y=\"57.895658\"/>\n     <use style=\"fill:#1f77b4;stroke:#1f77b4;\" x=\"80.375127\" xlink:href=\"#mbb73133bd6\" y=\"45.634773\"/>\n     <use style=\"fill:#1f77b4;stroke:#1f77b4;\" x=\"156.326563\" xlink:href=\"#mbb73133bd6\" y=\"87.529833\"/>\n     <use style=\"fill:#1f77b4;stroke:#1f77b4;\" x=\"136.464898\" xlink:href=\"#mbb73133bd6\" y=\"58.841771\"/>\n     <use style=\"fill:#1f77b4;stroke:#1f77b4;\" x=\"105.80974\" xlink:href=\"#mbb73133bd6\" y=\"61.215851\"/>\n     <use style=\"fill:#1f77b4;stroke:#1f77b4;\" x=\"105.111413\" xlink:href=\"#mbb73133bd6\" y=\"75.156548\"/>\n     <use style=\"fill:#1f77b4;stroke:#1f77b4;\" x=\"95.930135\" xlink:href=\"#mbb73133bd6\" y=\"47.322317\"/>\n     <use style=\"fill:#1f77b4;stroke:#1f77b4;\" x=\"110.530108\" xlink:href=\"#mbb73133bd6\" y=\"61.67786\"/>\n     <use style=\"fill:#1f77b4;stroke:#1f77b4;\" x=\"126.570714\" xlink:href=\"#mbb73133bd6\" y=\"76.49801\"/>\n     <use style=\"fill:#1f77b4;stroke:#1f77b4;\" x=\"164.545614\" xlink:href=\"#mbb73133bd6\" y=\"90.993267\"/>\n     <use style=\"fill:#1f77b4;stroke:#1f77b4;\" x=\"143.373527\" xlink:href=\"#mbb73133bd6\" y=\"78.297649\"/>\n     <use style=\"fill:#1f77b4;stroke:#1f77b4;\" x=\"124.796755\" xlink:href=\"#mbb73133bd6\" y=\"67.406573\"/>\n     <use style=\"fill:#1f77b4;stroke:#1f77b4;\" x=\"150.156667\" xlink:href=\"#mbb73133bd6\" y=\"70.541001\"/>\n     <use style=\"fill:#1f77b4;stroke:#1f77b4;\" x=\"192.373735\" xlink:href=\"#mbb73133bd6\" y=\"112.179328\"/>\n     <use style=\"fill:#1f77b4;stroke:#1f77b4;\" x=\"124.171258\" xlink:href=\"#mbb73133bd6\" y=\"62.089687\"/>\n     <use style=\"fill:#1f77b4;stroke:#1f77b4;\" x=\"93.190181\" xlink:href=\"#mbb73133bd6\" y=\"54.020201\"/>\n     <use style=\"fill:#1f77b4;stroke:#1f77b4;\" x=\"96.206975\" xlink:href=\"#mbb73133bd6\" y=\"49.823432\"/>\n     <use style=\"fill:#1f77b4;stroke:#1f77b4;\" x=\"139.477305\" xlink:href=\"#mbb73133bd6\" y=\"80.043057\"/>\n     <use style=\"fill:#1f77b4;stroke:#1f77b4;\" x=\"125.30857\" xlink:href=\"#mbb73133bd6\" y=\"86.346208\"/>\n     <use style=\"fill:#1f77b4;stroke:#1f77b4;\" x=\"127.294654\" xlink:href=\"#mbb73133bd6\" y=\"59.391933\"/>\n     <use style=\"fill:#1f77b4;stroke:#1f77b4;\" x=\"156.358581\" xlink:href=\"#mbb73133bd6\" y=\"84.293643\"/>\n     <use style=\"fill:#1f77b4;stroke:#1f77b4;\" x=\"144.432105\" xlink:href=\"#mbb73133bd6\" y=\"74.071678\"/>\n     <use style=\"fill:#1f77b4;stroke:#1f77b4;\" x=\"52.58314\" xlink:href=\"#mbb73133bd6\" y=\"35.430069\"/>\n     <use style=\"fill:#1f77b4;stroke:#1f77b4;\" x=\"171.743997\" xlink:href=\"#mbb73133bd6\" y=\"90.524101\"/>\n     <use style=\"fill:#1f77b4;stroke:#1f77b4;\" x=\"118.022391\" xlink:href=\"#mbb73133bd6\" y=\"59.876656\"/>\n     <use style=\"fill:#1f77b4;stroke:#1f77b4;\" x=\"103.329329\" xlink:href=\"#mbb73133bd6\" y=\"61.384779\"/>\n     <use style=\"fill:#1f77b4;stroke:#1f77b4;\" x=\"90.842497\" xlink:href=\"#mbb73133bd6\" y=\"54.878186\"/>\n     <use style=\"fill:#1f77b4;stroke:#1f77b4;\" x=\"98.08812\" xlink:href=\"#mbb73133bd6\" y=\"54.153301\"/>\n     <use style=\"fill:#1f77b4;stroke:#1f77b4;\" x=\"144.886672\" xlink:href=\"#mbb73133bd6\" y=\"78.583099\"/>\n     <use style=\"fill:#1f77b4;stroke:#1f77b4;\" x=\"152.898237\" xlink:href=\"#mbb73133bd6\" y=\"96.278931\"/>\n     <use style=\"fill:#1f77b4;stroke:#1f77b4;\" x=\"124.427717\" xlink:href=\"#mbb73133bd6\" y=\"53.165036\"/>\n     <use style=\"fill:#1f77b4;stroke:#1f77b4;\" x=\"57.238319\" xlink:href=\"#mbb73133bd6\" y=\"35.608685\"/>\n     <use style=\"fill:#1f77b4;stroke:#1f77b4;\" x=\"124.990151\" xlink:href=\"#mbb73133bd6\" y=\"66.724525\"/>\n     <use style=\"fill:#1f77b4;stroke:#1f77b4;\" x=\"115.874599\" xlink:href=\"#mbb73133bd6\" y=\"69.096182\"/>\n     <use style=\"fill:#1f77b4;stroke:#1f77b4;\" x=\"120.299573\" xlink:href=\"#mbb73133bd6\" y=\"57.958793\"/>\n     <use style=\"fill:#1f77b4;stroke:#1f77b4;\" x=\"121.01903\" xlink:href=\"#mbb73133bd6\" y=\"55.686968\"/>\n     <use style=\"fill:#1f77b4;stroke:#1f77b4;\" x=\"140.634723\" xlink:href=\"#mbb73133bd6\" y=\"70.365645\"/>\n     <use style=\"fill:#1f77b4;stroke:#1f77b4;\" x=\"99.099843\" xlink:href=\"#mbb73133bd6\" y=\"67.641909\"/>\n     <use style=\"fill:#1f77b4;stroke:#1f77b4;\" x=\"168.801618\" xlink:href=\"#mbb73133bd6\" y=\"90.173288\"/>\n     <use style=\"fill:#1f77b4;stroke:#1f77b4;\" x=\"151.385918\" xlink:href=\"#mbb73133bd6\" y=\"71.749786\"/>\n     <use style=\"fill:#1f77b4;stroke:#1f77b4;\" x=\"151.153607\" xlink:href=\"#mbb73133bd6\" y=\"73.811185\"/>\n     <use style=\"fill:#1f77b4;stroke:#1f77b4;\" x=\"137.399846\" xlink:href=\"#mbb73133bd6\" y=\"71.141749\"/>\n     <use style=\"fill:#1f77b4;stroke:#1f77b4;\" x=\"141.744204\" xlink:href=\"#mbb73133bd6\" y=\"70.829096\"/>\n     <use style=\"fill:#1f77b4;stroke:#1f77b4;\" x=\"101.873233\" xlink:href=\"#mbb73133bd6\" y=\"60.914865\"/>\n     <use style=\"fill:#1f77b4;stroke:#1f77b4;\" x=\"135.22363\" xlink:href=\"#mbb73133bd6\" y=\"74.813192\"/>\n     <use style=\"fill:#1f77b4;stroke:#1f77b4;\" x=\"174.577298\" xlink:href=\"#mbb73133bd6\" y=\"106.380918\"/>\n     <use style=\"fill:#1f77b4;stroke:#1f77b4;\" x=\"126.43668\" xlink:href=\"#mbb73133bd6\" y=\"64.091846\"/>\n     <use style=\"fill:#1f77b4;stroke:#1f77b4;\" x=\"102.01469\" xlink:href=\"#mbb73133bd6\" y=\"45.055729\"/>\n     <use style=\"fill:#1f77b4;stroke:#1f77b4;\" x=\"76.561683\" xlink:href=\"#mbb73133bd6\" y=\"43.031947\"/>\n     <use style=\"fill:#1f77b4;stroke:#1f77b4;\" x=\"129.093858\" xlink:href=\"#mbb73133bd6\" y=\"63.275208\"/>\n     <use style=\"fill:#1f77b4;stroke:#1f77b4;\" x=\"142.611729\" xlink:href=\"#mbb73133bd6\" y=\"76.748378\"/>\n     <use style=\"fill:#1f77b4;stroke:#1f77b4;\" x=\"72.421757\" xlink:href=\"#mbb73133bd6\" y=\"51.081566\"/>\n     <use style=\"fill:#1f77b4;stroke:#1f77b4;\" x=\"157.599356\" xlink:href=\"#mbb73133bd6\" y=\"96.069047\"/>\n     <use style=\"fill:#1f77b4;stroke:#1f77b4;\" x=\"160.047015\" xlink:href=\"#mbb73133bd6\" y=\"88.406009\"/>\n     <use style=\"fill:#1f77b4;stroke:#1f77b4;\" x=\"147.317194\" xlink:href=\"#mbb73133bd6\" y=\"89.053277\"/>\n     <use style=\"fill:#1f77b4;stroke:#1f77b4;\" x=\"99.994904\" xlink:href=\"#mbb73133bd6\" y=\"60.848538\"/>\n     <use style=\"fill:#1f77b4;stroke:#1f77b4;\" x=\"117.602621\" xlink:href=\"#mbb73133bd6\" y=\"63.973562\"/>\n     <use style=\"fill:#1f77b4;stroke:#1f77b4;\" x=\"122.189044\" xlink:href=\"#mbb73133bd6\" y=\"77.237137\"/>\n     <use style=\"fill:#1f77b4;stroke:#1f77b4;\" x=\"138.214605\" xlink:href=\"#mbb73133bd6\" y=\"96.554397\"/>\n     <use style=\"fill:#1f77b4;stroke:#1f77b4;\" x=\"97.054183\" xlink:href=\"#mbb73133bd6\" y=\"57.887086\"/>\n     <use style=\"fill:#1f77b4;stroke:#1f77b4;\" x=\"197.802139\" xlink:href=\"#mbb73133bd6\" y=\"123.374339\"/>\n     <use style=\"fill:#1f77b4;stroke:#1f77b4;\" x=\"56.879916\" xlink:href=\"#mbb73133bd6\" y=\"33.607625\"/>\n     <use style=\"fill:#1f77b4;stroke:#1f77b4;\" x=\"132.02491\" xlink:href=\"#mbb73133bd6\" y=\"70.579408\"/>\n     <use style=\"fill:#1f77b4;stroke:#1f77b4;\" x=\"124.099825\" xlink:href=\"#mbb73133bd6\" y=\"70.390999\"/>\n     <use style=\"fill:#1f77b4;stroke:#1f77b4;\" x=\"169.73133\" xlink:href=\"#mbb73133bd6\" y=\"88.629931\"/>\n     <use style=\"fill:#1f77b4;stroke:#1f77b4;\" x=\"96.254221\" xlink:href=\"#mbb73133bd6\" y=\"56.885281\"/>\n     <use style=\"fill:#1f77b4;stroke:#1f77b4;\" x=\"129.435245\" xlink:href=\"#mbb73133bd6\" y=\"78.994933\"/>\n     <use style=\"fill:#1f77b4;stroke:#1f77b4;\" x=\"131.249063\" xlink:href=\"#mbb73133bd6\" y=\"68.192248\"/>\n     <use style=\"fill:#1f77b4;stroke:#1f77b4;\" x=\"129.390161\" xlink:href=\"#mbb73133bd6\" y=\"66.666761\"/>\n     <use style=\"fill:#1f77b4;stroke:#1f77b4;\" x=\"120.999758\" xlink:href=\"#mbb73133bd6\" y=\"81.721742\"/>\n     <use style=\"fill:#1f77b4;stroke:#1f77b4;\" x=\"140.862605\" xlink:href=\"#mbb73133bd6\" y=\"55.084503\"/>\n     <use style=\"fill:#1f77b4;stroke:#1f77b4;\" x=\"157.123236\" xlink:href=\"#mbb73133bd6\" y=\"95.162628\"/>\n     <use style=\"fill:#1f77b4;stroke:#1f77b4;\" x=\"140.615879\" xlink:href=\"#mbb73133bd6\" y=\"88.147242\"/>\n     <use style=\"fill:#1f77b4;stroke:#1f77b4;\" x=\"167.302903\" xlink:href=\"#mbb73133bd6\" y=\"96.372625\"/>\n     <use style=\"fill:#1f77b4;stroke:#1f77b4;\" x=\"130.189371\" xlink:href=\"#mbb73133bd6\" y=\"73.125022\"/>\n     <use style=\"fill:#1f77b4;stroke:#1f77b4;\" x=\"143.364096\" xlink:href=\"#mbb73133bd6\" y=\"79.938794\"/>\n     <use style=\"fill:#1f77b4;stroke:#1f77b4;\" x=\"72.792393\" xlink:href=\"#mbb73133bd6\" y=\"46.220533\"/>\n     <use style=\"fill:#1f77b4;stroke:#1f77b4;\" x=\"114.434067\" xlink:href=\"#mbb73133bd6\" y=\"63.177623\"/>\n     <use style=\"fill:#1f77b4;stroke:#1f77b4;\" x=\"117.1977\" xlink:href=\"#mbb73133bd6\" y=\"63.980536\"/>\n     <use style=\"fill:#1f77b4;stroke:#1f77b4;\" x=\"132.220592\" xlink:href=\"#mbb73133bd6\" y=\"76.331357\"/>\n     <use style=\"fill:#1f77b4;stroke:#1f77b4;\" x=\"118.282004\" xlink:href=\"#mbb73133bd6\" y=\"81.275015\"/>\n     <use style=\"fill:#1f77b4;stroke:#1f77b4;\" x=\"121.977234\" xlink:href=\"#mbb73133bd6\" y=\"71.671012\"/>\n     <use style=\"fill:#1f77b4;stroke:#1f77b4;\" x=\"124.845301\" xlink:href=\"#mbb73133bd6\" y=\"83.350199\"/>\n     <use style=\"fill:#1f77b4;stroke:#1f77b4;\" x=\"81.33882\" xlink:href=\"#mbb73133bd6\" y=\"41.451613\"/>\n     <use style=\"fill:#1f77b4;stroke:#1f77b4;\" x=\"132.110597\" xlink:href=\"#mbb73133bd6\" y=\"71.893855\"/>\n     <use style=\"fill:#1f77b4;stroke:#1f77b4;\" x=\"118.881997\" xlink:href=\"#mbb73133bd6\" y=\"74.715799\"/>\n     <use style=\"fill:#1f77b4;stroke:#1f77b4;\" x=\"154.47377\" xlink:href=\"#mbb73133bd6\" y=\"83.899531\"/>\n     <use style=\"fill:#1f77b4;stroke:#1f77b4;\" x=\"75.758608\" xlink:href=\"#mbb73133bd6\" y=\"58.789121\"/>\n     <use style=\"fill:#1f77b4;stroke:#1f77b4;\" x=\"118.013701\" xlink:href=\"#mbb73133bd6\" y=\"65.143458\"/>\n     <use style=\"fill:#1f77b4;stroke:#1f77b4;\" x=\"93.570717\" xlink:href=\"#mbb73133bd6\" y=\"46.995627\"/>\n     <use style=\"fill:#1f77b4;stroke:#1f77b4;\" x=\"162.363539\" xlink:href=\"#mbb73133bd6\" y=\"93.67134\"/>\n     <use style=\"fill:#1f77b4;stroke:#1f77b4;\" x=\"124.740208\" xlink:href=\"#mbb73133bd6\" y=\"76.369839\"/>\n     <use style=\"fill:#1f77b4;stroke:#1f77b4;\" x=\"92.793248\" xlink:href=\"#mbb73133bd6\" y=\"50.866002\"/>\n     <use style=\"fill:#1f77b4;stroke:#1f77b4;\" x=\"111.786524\" xlink:href=\"#mbb73133bd6\" y=\"76.388251\"/>\n     <use style=\"fill:#1f77b4;stroke:#1f77b4;\" x=\"95.482764\" xlink:href=\"#mbb73133bd6\" y=\"70.585925\"/>\n     <use style=\"fill:#1f77b4;stroke:#1f77b4;\" x=\"139.996052\" xlink:href=\"#mbb73133bd6\" y=\"72.050032\"/>\n     <use style=\"fill:#1f77b4;stroke:#1f77b4;\" x=\"123.485699\" xlink:href=\"#mbb73133bd6\" y=\"70.543959\"/>\n     <use style=\"fill:#1f77b4;stroke:#1f77b4;\" x=\"149.810219\" xlink:href=\"#mbb73133bd6\" y=\"88.595855\"/>\n     <use style=\"fill:#1f77b4;stroke:#1f77b4;\" x=\"114.691645\" xlink:href=\"#mbb73133bd6\" y=\"83.26491\"/>\n     <use style=\"fill:#1f77b4;stroke:#1f77b4;\" x=\"110.486084\" xlink:href=\"#mbb73133bd6\" y=\"68.079558\"/>\n     <use style=\"fill:#1f77b4;stroke:#1f77b4;\" x=\"158.716188\" xlink:href=\"#mbb73133bd6\" y=\"96.735168\"/>\n     <use style=\"fill:#1f77b4;stroke:#1f77b4;\" x=\"118.789517\" xlink:href=\"#mbb73133bd6\" y=\"92.345383\"/>\n     <use style=\"fill:#1f77b4;stroke:#1f77b4;\" x=\"112.762257\" xlink:href=\"#mbb73133bd6\" y=\"72.425207\"/>\n     <use style=\"fill:#1f77b4;stroke:#1f77b4;\" x=\"54.525323\" xlink:href=\"#mbb73133bd6\" y=\"36.883167\"/>\n     <use style=\"fill:#1f77b4;stroke:#1f77b4;\" x=\"152.915666\" xlink:href=\"#mbb73133bd6\" y=\"89.98399\"/>\n     <use style=\"fill:#1f77b4;stroke:#1f77b4;\" x=\"126.760557\" xlink:href=\"#mbb73133bd6\" y=\"84.6459\"/>\n     <use style=\"fill:#1f77b4;stroke:#1f77b4;\" x=\"159.727766\" xlink:href=\"#mbb73133bd6\" y=\"92.405566\"/>\n     <use style=\"fill:#1f77b4;stroke:#1f77b4;\" x=\"119.135592\" xlink:href=\"#mbb73133bd6\" y=\"81.803115\"/>\n     <use style=\"fill:#1f77b4;stroke:#1f77b4;\" x=\"110.941794\" xlink:href=\"#mbb73133bd6\" y=\"50.915113\"/>\n     <use style=\"fill:#1f77b4;stroke:#1f77b4;\" x=\"89.959763\" xlink:href=\"#mbb73133bd6\" y=\"23.9558\"/>\n     <use style=\"fill:#1f77b4;stroke:#1f77b4;\" x=\"136.568498\" xlink:href=\"#mbb73133bd6\" y=\"80.430547\"/>\n     <use style=\"fill:#1f77b4;stroke:#1f77b4;\" x=\"174.031795\" xlink:href=\"#mbb73133bd6\" y=\"120.333888\"/>\n     <use style=\"fill:#1f77b4;stroke:#1f77b4;\" x=\"169.537878\" xlink:href=\"#mbb73133bd6\" y=\"101.791504\"/>\n     <use style=\"fill:#1f77b4;stroke:#1f77b4;\" x=\"141.177321\" xlink:href=\"#mbb73133bd6\" y=\"91.724037\"/>\n     <use style=\"fill:#1f77b4;stroke:#1f77b4;\" x=\"125.323762\" xlink:href=\"#mbb73133bd6\" y=\"87.272444\"/>\n     <use style=\"fill:#1f77b4;stroke:#1f77b4;\" x=\"90.691129\" xlink:href=\"#mbb73133bd6\" y=\"62.145265\"/>\n     <use style=\"fill:#1f77b4;stroke:#1f77b4;\" x=\"178.799367\" xlink:href=\"#mbb73133bd6\" y=\"98.740757\"/>\n     <use style=\"fill:#1f77b4;stroke:#1f77b4;\" x=\"124.472349\" xlink:href=\"#mbb73133bd6\" y=\"85.032103\"/>\n     <use style=\"fill:#1f77b4;stroke:#1f77b4;\" x=\"97.143506\" xlink:href=\"#mbb73133bd6\" y=\"67.177326\"/>\n     <use style=\"fill:#1f77b4;stroke:#1f77b4;\" x=\"88.544344\" xlink:href=\"#mbb73133bd6\" y=\"55.371079\"/>\n     <use style=\"fill:#1f77b4;stroke:#1f77b4;\" x=\"94.799733\" xlink:href=\"#mbb73133bd6\" y=\"58.985451\"/>\n     <use style=\"fill:#1f77b4;stroke:#1f77b4;\" x=\"147.627587\" xlink:href=\"#mbb73133bd6\" y=\"76.219198\"/>\n     <use style=\"fill:#1f77b4;stroke:#1f77b4;\" x=\"92.638911\" xlink:href=\"#mbb73133bd6\" y=\"52.871863\"/>\n     <use style=\"fill:#1f77b4;stroke:#1f77b4;\" x=\"130.760239\" xlink:href=\"#mbb73133bd6\" y=\"84.419697\"/>\n     <use style=\"fill:#1f77b4;stroke:#1f77b4;\" x=\"119.090819\" xlink:href=\"#mbb73133bd6\" y=\"75.382737\"/>\n     <use style=\"fill:#1f77b4;stroke:#1f77b4;\" x=\"119.809842\" xlink:href=\"#mbb73133bd6\" y=\"87.298982\"/>\n     <use style=\"fill:#1f77b4;stroke:#1f77b4;\" x=\"120.322905\" xlink:href=\"#mbb73133bd6\" y=\"79.552196\"/>\n     <use style=\"fill:#1f77b4;stroke:#1f77b4;\" x=\"149.219368\" xlink:href=\"#mbb73133bd6\" y=\"90.540979\"/>\n     <use style=\"fill:#1f77b4;stroke:#1f77b4;\" x=\"122.49822\" xlink:href=\"#mbb73133bd6\" y=\"72.661829\"/>\n     <use style=\"fill:#1f77b4;stroke:#1f77b4;\" x=\"107.954863\" xlink:href=\"#mbb73133bd6\" y=\"83.83644\"/>\n     <use style=\"fill:#1f77b4;stroke:#1f77b4;\" x=\"60.130477\" xlink:href=\"#mbb73133bd6\" y=\"42.236481\"/>\n     <use style=\"fill:#1f77b4;stroke:#1f77b4;\" x=\"150.790275\" xlink:href=\"#mbb73133bd6\" y=\"68.832383\"/>\n     <use style=\"fill:#1f77b4;stroke:#1f77b4;\" x=\"151.589522\" xlink:href=\"#mbb73133bd6\" y=\"83.779129\"/>\n     <use style=\"fill:#1f77b4;stroke:#1f77b4;\" x=\"134.491767\" xlink:href=\"#mbb73133bd6\" y=\"71.684402\"/>\n     <use style=\"fill:#1f77b4;stroke:#1f77b4;\" x=\"101.356406\" xlink:href=\"#mbb73133bd6\" y=\"62.924062\"/>\n     <use style=\"fill:#1f77b4;stroke:#1f77b4;\" x=\"107.221867\" xlink:href=\"#mbb73133bd6\" y=\"52.381915\"/>\n     <use style=\"fill:#1f77b4;stroke:#1f77b4;\" x=\"113.238857\" xlink:href=\"#mbb73133bd6\" y=\"72.775974\"/>\n     <use style=\"fill:#1f77b4;stroke:#1f77b4;\" x=\"132.765252\" xlink:href=\"#mbb73133bd6\" y=\"74.563988\"/>\n     <use style=\"fill:#1f77b4;stroke:#1f77b4;\" x=\"124.733124\" xlink:href=\"#mbb73133bd6\" y=\"63.585483\"/>\n     <use style=\"fill:#1f77b4;stroke:#1f77b4;\" x=\"95.996759\" xlink:href=\"#mbb73133bd6\" y=\"44.768913\"/>\n     <use style=\"fill:#1f77b4;stroke:#1f77b4;\" x=\"112.506051\" xlink:href=\"#mbb73133bd6\" y=\"60.706348\"/>\n     <use style=\"fill:#1f77b4;stroke:#1f77b4;\" x=\"61.838219\" xlink:href=\"#mbb73133bd6\" y=\"13.377273\"/>\n     <use style=\"fill:#1f77b4;stroke:#1f77b4;\" x=\"142.922011\" xlink:href=\"#mbb73133bd6\" y=\"78.548249\"/>\n     <use style=\"fill:#1f77b4;stroke:#1f77b4;\" x=\"114.320151\" xlink:href=\"#mbb73133bd6\" y=\"86.699911\"/>\n     <use style=\"fill:#1f77b4;stroke:#1f77b4;\" x=\"154.40056\" xlink:href=\"#mbb73133bd6\" y=\"102.478787\"/>\n     <use style=\"fill:#1f77b4;stroke:#1f77b4;\" x=\"136.88891\" xlink:href=\"#mbb73133bd6\" y=\"74.198831\"/>\n     <use style=\"fill:#1f77b4;stroke:#1f77b4;\" x=\"113.636607\" xlink:href=\"#mbb73133bd6\" y=\"65.856524\"/>\n     <use style=\"fill:#1f77b4;stroke:#1f77b4;\" x=\"137.20439\" xlink:href=\"#mbb73133bd6\" y=\"76.314325\"/>\n     <use style=\"fill:#1f77b4;stroke:#1f77b4;\" x=\"111.479926\" xlink:href=\"#mbb73133bd6\" y=\"52.652301\"/>\n     <use style=\"fill:#1f77b4;stroke:#1f77b4;\" x=\"113.621482\" xlink:href=\"#mbb73133bd6\" y=\"70.948846\"/>\n     <use style=\"fill:#1f77b4;stroke:#1f77b4;\" x=\"124.859962\" xlink:href=\"#mbb73133bd6\" y=\"87.99267\"/>\n     <use style=\"fill:#1f77b4;stroke:#1f77b4;\" x=\"93.641743\" xlink:href=\"#mbb73133bd6\" y=\"43.390276\"/>\n     <use style=\"fill:#1f77b4;stroke:#1f77b4;\" x=\"108.893954\" xlink:href=\"#mbb73133bd6\" y=\"63.141174\"/>\n     <use style=\"fill:#1f77b4;stroke:#1f77b4;\" x=\"120.733684\" xlink:href=\"#mbb73133bd6\" y=\"53.862518\"/>\n     <use style=\"fill:#1f77b4;stroke:#1f77b4;\" x=\"103.48381\" xlink:href=\"#mbb73133bd6\" y=\"68.921849\"/>\n     <use style=\"fill:#1f77b4;stroke:#1f77b4;\" x=\"106.244355\" xlink:href=\"#mbb73133bd6\" y=\"57.210169\"/>\n     <use style=\"fill:#1f77b4;stroke:#1f77b4;\" x=\"125.328097\" xlink:href=\"#mbb73133bd6\" y=\"55.421474\"/>\n     <use style=\"fill:#1f77b4;stroke:#1f77b4;\" x=\"137.547516\" xlink:href=\"#mbb73133bd6\" y=\"79.54608\"/>\n     <use style=\"fill:#1f77b4;stroke:#1f77b4;\" x=\"91.744376\" xlink:href=\"#mbb73133bd6\" y=\"59.171841\"/>\n     <use style=\"fill:#1f77b4;stroke:#1f77b4;\" x=\"114.112405\" xlink:href=\"#mbb73133bd6\" y=\"50.889297\"/>\n     <use style=\"fill:#1f77b4;stroke:#1f77b4;\" x=\"122.809938\" xlink:href=\"#mbb73133bd6\" y=\"66.65785\"/>\n     <use style=\"fill:#1f77b4;stroke:#1f77b4;\" x=\"127.633927\" xlink:href=\"#mbb73133bd6\" y=\"76.589354\"/>\n     <use style=\"fill:#1f77b4;stroke:#1f77b4;\" x=\"172.137645\" xlink:href=\"#mbb73133bd6\" y=\"110.99385\"/>\n     <use style=\"fill:#1f77b4;stroke:#1f77b4;\" x=\"142.893902\" xlink:href=\"#mbb73133bd6\" y=\"83.12728\"/>\n     <use style=\"fill:#1f77b4;stroke:#1f77b4;\" x=\"161.041374\" xlink:href=\"#mbb73133bd6\" y=\"101.747055\"/>\n     <use style=\"fill:#1f77b4;stroke:#1f77b4;\" x=\"103.963791\" xlink:href=\"#mbb73133bd6\" y=\"67.324457\"/>\n     <use style=\"fill:#1f77b4;stroke:#1f77b4;\" x=\"162.343426\" xlink:href=\"#mbb73133bd6\" y=\"108.966949\"/>\n     <use style=\"fill:#1f77b4;stroke:#1f77b4;\" x=\"108.466089\" xlink:href=\"#mbb73133bd6\" y=\"70.846257\"/>\n     <use style=\"fill:#1f77b4;stroke:#1f77b4;\" x=\"150.152553\" xlink:href=\"#mbb73133bd6\" y=\"84.978089\"/>\n     <use style=\"fill:#1f77b4;stroke:#1f77b4;\" x=\"101.036021\" xlink:href=\"#mbb73133bd6\" y=\"45.538611\"/>\n     <use style=\"fill:#1f77b4;stroke:#1f77b4;\" x=\"114.400239\" xlink:href=\"#mbb73133bd6\" y=\"68.399468\"/>\n     <use style=\"fill:#1f77b4;stroke:#1f77b4;\" x=\"103.011946\" xlink:href=\"#mbb73133bd6\" y=\"74.764153\"/>\n     <use style=\"fill:#1f77b4;stroke:#1f77b4;\" x=\"113.296999\" xlink:href=\"#mbb73133bd6\" y=\"73.851158\"/>\n     <use style=\"fill:#1f77b4;stroke:#1f77b4;\" x=\"139.0953\" xlink:href=\"#mbb73133bd6\" y=\"77.656945\"/>\n     <use style=\"fill:#1f77b4;stroke:#1f77b4;\" x=\"117.833463\" xlink:href=\"#mbb73133bd6\" y=\"67.690778\"/>\n     <use style=\"fill:#1f77b4;stroke:#1f77b4;\" x=\"97.897971\" xlink:href=\"#mbb73133bd6\" y=\"48.658769\"/>\n     <use style=\"fill:#1f77b4;stroke:#1f77b4;\" x=\"151.854803\" xlink:href=\"#mbb73133bd6\" y=\"89.007685\"/>\n     <use style=\"fill:#1f77b4;stroke:#1f77b4;\" x=\"104.857423\" xlink:href=\"#mbb73133bd6\" y=\"80.0247\"/>\n     <use style=\"fill:#1f77b4;stroke:#1f77b4;\" x=\"117.702651\" xlink:href=\"#mbb73133bd6\" y=\"75.599741\"/>\n     <use style=\"fill:#1f77b4;stroke:#1f77b4;\" x=\"132.517684\" xlink:href=\"#mbb73133bd6\" y=\"80.999458\"/>\n     <use style=\"fill:#1f77b4;stroke:#1f77b4;\" x=\"156.293758\" xlink:href=\"#mbb73133bd6\" y=\"82.833917\"/>\n     <use style=\"fill:#1f77b4;stroke:#1f77b4;\" x=\"146.901971\" xlink:href=\"#mbb73133bd6\" y=\"85.854202\"/>\n     <use style=\"fill:#1f77b4;stroke:#1f77b4;\" x=\"144.220647\" xlink:href=\"#mbb73133bd6\" y=\"82.197046\"/>\n     <use style=\"fill:#1f77b4;stroke:#1f77b4;\" x=\"153.634827\" xlink:href=\"#mbb73133bd6\" y=\"92.321143\"/>\n     <use style=\"fill:#1f77b4;stroke:#1f77b4;\" x=\"65.665353\" xlink:href=\"#mbb73133bd6\" y=\"25.003308\"/>\n     <use style=\"fill:#1f77b4;stroke:#1f77b4;\" x=\"133.881876\" xlink:href=\"#mbb73133bd6\" y=\"71.162573\"/>\n     <use style=\"fill:#1f77b4;stroke:#1f77b4;\" x=\"89.867555\" xlink:href=\"#mbb73133bd6\" y=\"32.7415\"/>\n     <use style=\"fill:#1f77b4;stroke:#1f77b4;\" x=\"167.903592\" xlink:href=\"#mbb73133bd6\" y=\"96.475105\"/>\n     <use style=\"fill:#1f77b4;stroke:#1f77b4;\" x=\"135.680873\" xlink:href=\"#mbb73133bd6\" y=\"91.763768\"/>\n     <use style=\"fill:#1f77b4;stroke:#1f77b4;\" x=\"91.057802\" xlink:href=\"#mbb73133bd6\" y=\"55.280227\"/>\n     <use style=\"fill:#1f77b4;stroke:#1f77b4;\" x=\"143.180144\" xlink:href=\"#mbb73133bd6\" y=\"96.168392\"/>\n     <use style=\"fill:#1f77b4;stroke:#1f77b4;\" x=\"155.225588\" xlink:href=\"#mbb73133bd6\" y=\"78.651031\"/>\n     <use style=\"fill:#1f77b4;stroke:#1f77b4;\" x=\"141.128146\" xlink:href=\"#mbb73133bd6\" y=\"93.962438\"/>\n     <use style=\"fill:#1f77b4;stroke:#1f77b4;\" x=\"158.284775\" xlink:href=\"#mbb73133bd6\" y=\"74.707578\"/>\n     <use style=\"fill:#1f77b4;stroke:#1f77b4;\" x=\"89.170125\" xlink:href=\"#mbb73133bd6\" y=\"59.49995\"/>\n     <use style=\"fill:#1f77b4;stroke:#1f77b4;\" x=\"156.846012\" xlink:href=\"#mbb73133bd6\" y=\"104.552233\"/>\n     <use style=\"fill:#1f77b4;stroke:#1f77b4;\" x=\"122.270082\" xlink:href=\"#mbb73133bd6\" y=\"76.994229\"/>\n     <use style=\"fill:#1f77b4;stroke:#1f77b4;\" x=\"157.322829\" xlink:href=\"#mbb73133bd6\" y=\"92.339095\"/>\n     <use style=\"fill:#1f77b4;stroke:#1f77b4;\" x=\"138.968199\" xlink:href=\"#mbb73133bd6\" y=\"68.663852\"/>\n     <use style=\"fill:#1f77b4;stroke:#1f77b4;\" x=\"108.474807\" xlink:href=\"#mbb73133bd6\" y=\"58.132643\"/>\n     <use style=\"fill:#1f77b4;stroke:#1f77b4;\" x=\"124.661731\" xlink:href=\"#mbb73133bd6\" y=\"76.421597\"/>\n     <use style=\"fill:#1f77b4;stroke:#1f77b4;\" x=\"88.067069\" xlink:href=\"#mbb73133bd6\" y=\"49.040722\"/>\n     <use style=\"fill:#1f77b4;stroke:#1f77b4;\" x=\"109.83988\" xlink:href=\"#mbb73133bd6\" y=\"72.936006\"/>\n     <use style=\"fill:#1f77b4;stroke:#1f77b4;\" x=\"138.485762\" xlink:href=\"#mbb73133bd6\" y=\"72.678694\"/>\n     <use style=\"fill:#1f77b4;stroke:#1f77b4;\" x=\"79.784578\" xlink:href=\"#mbb73133bd6\" y=\"48.684414\"/>\n     <use style=\"fill:#1f77b4;stroke:#1f77b4;\" x=\"137.297826\" xlink:href=\"#mbb73133bd6\" y=\"65.367636\"/>\n     <use style=\"fill:#1f77b4;stroke:#1f77b4;\" x=\"141.71517\" xlink:href=\"#mbb73133bd6\" y=\"37.585326\"/>\n     <use style=\"fill:#1f77b4;stroke:#1f77b4;\" x=\"147.321068\" xlink:href=\"#mbb73133bd6\" y=\"81.78992\"/>\n     <use style=\"fill:#1f77b4;stroke:#1f77b4;\" x=\"152.240209\" xlink:href=\"#mbb73133bd6\" y=\"92.887526\"/>\n     <use style=\"fill:#1f77b4;stroke:#1f77b4;\" x=\"162.743537\" xlink:href=\"#mbb73133bd6\" y=\"81.950795\"/>\n     <use style=\"fill:#1f77b4;stroke:#1f77b4;\" x=\"115.176125\" xlink:href=\"#mbb73133bd6\" y=\"69.642781\"/>\n     <use style=\"fill:#1f77b4;stroke:#1f77b4;\" x=\"97.428113\" xlink:href=\"#mbb73133bd6\" y=\"72.445978\"/>\n     <use style=\"fill:#1f77b4;stroke:#1f77b4;\" x=\"155.553463\" xlink:href=\"#mbb73133bd6\" y=\"101.107304\"/>\n     <use style=\"fill:#1f77b4;stroke:#1f77b4;\" x=\"167.958686\" xlink:href=\"#mbb73133bd6\" y=\"82.390791\"/>\n     <use style=\"fill:#1f77b4;stroke:#1f77b4;\" x=\"141.337247\" xlink:href=\"#mbb73133bd6\" y=\"79.365922\"/>\n     <use style=\"fill:#1f77b4;stroke:#1f77b4;\" x=\"130.151489\" xlink:href=\"#mbb73133bd6\" y=\"85.503774\"/>\n     <use style=\"fill:#1f77b4;stroke:#1f77b4;\" x=\"158.748381\" xlink:href=\"#mbb73133bd6\" y=\"91.283451\"/>\n     <use style=\"fill:#1f77b4;stroke:#1f77b4;\" x=\"139.342078\" xlink:href=\"#mbb73133bd6\" y=\"83.655414\"/>\n     <use style=\"fill:#1f77b4;stroke:#1f77b4;\" x=\"95.660626\" xlink:href=\"#mbb73133bd6\" y=\"59.14318\"/>\n     <use style=\"fill:#1f77b4;stroke:#1f77b4;\" x=\"125.53061\" xlink:href=\"#mbb73133bd6\" y=\"73.798768\"/>\n     <use style=\"fill:#1f77b4;stroke:#1f77b4;\" x=\"140.036905\" xlink:href=\"#mbb73133bd6\" y=\"85.781245\"/>\n     <use style=\"fill:#1f77b4;stroke:#1f77b4;\" x=\"147.365494\" xlink:href=\"#mbb73133bd6\" y=\"85.870924\"/>\n     <use style=\"fill:#1f77b4;stroke:#1f77b4;\" x=\"147.67213\" xlink:href=\"#mbb73133bd6\" y=\"68.584838\"/>\n     <use style=\"fill:#1f77b4;stroke:#1f77b4;\" x=\"130.755547\" xlink:href=\"#mbb73133bd6\" y=\"78.453205\"/>\n     <use style=\"fill:#1f77b4;stroke:#1f77b4;\" x=\"83.591772\" xlink:href=\"#mbb73133bd6\" y=\"38.027282\"/>\n     <use style=\"fill:#1f77b4;stroke:#1f77b4;\" x=\"158.686765\" xlink:href=\"#mbb73133bd6\" y=\"108.140611\"/>\n     <use style=\"fill:#1f77b4;stroke:#1f77b4;\" x=\"100.301058\" xlink:href=\"#mbb73133bd6\" y=\"66.938132\"/>\n     <use style=\"fill:#1f77b4;stroke:#1f77b4;\" x=\"157.212685\" xlink:href=\"#mbb73133bd6\" y=\"85.00858\"/>\n     <use style=\"fill:#1f77b4;stroke:#1f77b4;\" x=\"124.96173\" xlink:href=\"#mbb73133bd6\" y=\"67.170854\"/>\n     <use style=\"fill:#1f77b4;stroke:#1f77b4;\" x=\"80.393908\" xlink:href=\"#mbb73133bd6\" y=\"52.582647\"/>\n     <use style=\"fill:#1f77b4;stroke:#1f77b4;\" x=\"150.53618\" xlink:href=\"#mbb73133bd6\" y=\"77.723397\"/>\n     <use style=\"fill:#1f77b4;stroke:#1f77b4;\" x=\"157.491119\" xlink:href=\"#mbb73133bd6\" y=\"98.877445\"/>\n     <use style=\"fill:#1f77b4;stroke:#1f77b4;\" x=\"142.418121\" xlink:href=\"#mbb73133bd6\" y=\"86.807089\"/>\n     <use style=\"fill:#1f77b4;stroke:#1f77b4;\" x=\"147.499523\" xlink:href=\"#mbb73133bd6\" y=\"73.039601\"/>\n     <use style=\"fill:#1f77b4;stroke:#1f77b4;\" x=\"137.665293\" xlink:href=\"#mbb73133bd6\" y=\"82.405229\"/>\n     <use style=\"fill:#1f77b4;stroke:#1f77b4;\" x=\"121.803308\" xlink:href=\"#mbb73133bd6\" y=\"69.753226\"/>\n     <use style=\"fill:#1f77b4;stroke:#1f77b4;\" x=\"113.310859\" xlink:href=\"#mbb73133bd6\" y=\"70.871419\"/>\n     <use style=\"fill:#1f77b4;stroke:#1f77b4;\" x=\"153.365677\" xlink:href=\"#mbb73133bd6\" y=\"91.38939\"/>\n     <use style=\"fill:#1f77b4;stroke:#1f77b4;\" x=\"112.850655\" xlink:href=\"#mbb73133bd6\" y=\"57.602761\"/>\n     <use style=\"fill:#1f77b4;stroke:#1f77b4;\" x=\"153.306081\" xlink:href=\"#mbb73133bd6\" y=\"77.116811\"/>\n     <use style=\"fill:#1f77b4;stroke:#1f77b4;\" x=\"113.196545\" xlink:href=\"#mbb73133bd6\" y=\"72.235021\"/>\n     <use style=\"fill:#1f77b4;stroke:#1f77b4;\" x=\"149.842658\" xlink:href=\"#mbb73133bd6\" y=\"72.79562\"/>\n     <use style=\"fill:#1f77b4;stroke:#1f77b4;\" x=\"174.866782\" xlink:href=\"#mbb73133bd6\" y=\"113.64443\"/>\n     <use style=\"fill:#1f77b4;stroke:#1f77b4;\" x=\"106.605445\" xlink:href=\"#mbb73133bd6\" y=\"64.963689\"/>\n     <use style=\"fill:#1f77b4;stroke:#1f77b4;\" x=\"58.190345\" xlink:href=\"#mbb73133bd6\" y=\"43.116613\"/>\n     <use style=\"fill:#1f77b4;stroke:#1f77b4;\" x=\"170.366876\" xlink:href=\"#mbb73133bd6\" y=\"111.278032\"/>\n     <use style=\"fill:#1f77b4;stroke:#1f77b4;\" x=\"122.303608\" xlink:href=\"#mbb73133bd6\" y=\"72.227461\"/>\n     <use style=\"fill:#1f77b4;stroke:#1f77b4;\" x=\"145.127751\" xlink:href=\"#mbb73133bd6\" y=\"85.446217\"/>\n     <use style=\"fill:#1f77b4;stroke:#1f77b4;\" x=\"118.562569\" xlink:href=\"#mbb73133bd6\" y=\"66.769863\"/>\n     <use style=\"fill:#1f77b4;stroke:#1f77b4;\" x=\"107.64236\" xlink:href=\"#mbb73133bd6\" y=\"60.11848\"/>\n     <use style=\"fill:#1f77b4;stroke:#1f77b4;\" x=\"86.451295\" xlink:href=\"#mbb73133bd6\" y=\"36.114033\"/>\n     <use style=\"fill:#1f77b4;stroke:#1f77b4;\" x=\"136.144005\" xlink:href=\"#mbb73133bd6\" y=\"72.670875\"/>\n     <use style=\"fill:#1f77b4;stroke:#1f77b4;\" x=\"150.190876\" xlink:href=\"#mbb73133bd6\" y=\"96.845772\"/>\n     <use style=\"fill:#1f77b4;stroke:#1f77b4;\" x=\"123.286822\" xlink:href=\"#mbb73133bd6\" y=\"76.408334\"/>\n     <use style=\"fill:#1f77b4;stroke:#1f77b4;\" x=\"156.855028\" xlink:href=\"#mbb73133bd6\" y=\"99.191709\"/>\n     <use style=\"fill:#1f77b4;stroke:#1f77b4;\" x=\"114.972782\" xlink:href=\"#mbb73133bd6\" y=\"67.872956\"/>\n     <use style=\"fill:#1f77b4;stroke:#1f77b4;\" x=\"130.722166\" xlink:href=\"#mbb73133bd6\" y=\"71.3122\"/>\n     <use style=\"fill:#1f77b4;stroke:#1f77b4;\" x=\"91.386697\" xlink:href=\"#mbb73133bd6\" y=\"41.004602\"/>\n     <use style=\"fill:#1f77b4;stroke:#1f77b4;\" x=\"170.470521\" xlink:href=\"#mbb73133bd6\" y=\"111.246676\"/>\n     <use style=\"fill:#1f77b4;stroke:#1f77b4;\" x=\"129.052448\" xlink:href=\"#mbb73133bd6\" y=\"65.63662\"/>\n     <use style=\"fill:#1f77b4;stroke:#1f77b4;\" x=\"122.452508\" xlink:href=\"#mbb73133bd6\" y=\"74.751565\"/>\n     <use style=\"fill:#1f77b4;stroke:#1f77b4;\" x=\"142.969878\" xlink:href=\"#mbb73133bd6\" y=\"81.103116\"/>\n     <use style=\"fill:#1f77b4;stroke:#1f77b4;\" x=\"159.832817\" xlink:href=\"#mbb73133bd6\" y=\"89.861603\"/>\n     <use style=\"fill:#1f77b4;stroke:#1f77b4;\" x=\"166.978452\" xlink:href=\"#mbb73133bd6\" y=\"109.959819\"/>\n     <use style=\"fill:#1f77b4;stroke:#1f77b4;\" x=\"80.142984\" xlink:href=\"#mbb73133bd6\" y=\"36.773993\"/>\n     <use style=\"fill:#1f77b4;stroke:#1f77b4;\" x=\"127.170617\" xlink:href=\"#mbb73133bd6\" y=\"67.890495\"/>\n     <use style=\"fill:#1f77b4;stroke:#1f77b4;\" x=\"167.947608\" xlink:href=\"#mbb73133bd6\" y=\"106.242641\"/>\n     <use style=\"fill:#1f77b4;stroke:#1f77b4;\" x=\"142.547622\" xlink:href=\"#mbb73133bd6\" y=\"78.743957\"/>\n     <use style=\"fill:#1f77b4;stroke:#1f77b4;\" x=\"118.193217\" xlink:href=\"#mbb73133bd6\" y=\"65.396589\"/>\n     <use style=\"fill:#1f77b4;stroke:#1f77b4;\" x=\"124.939735\" xlink:href=\"#mbb73133bd6\" y=\"71.426657\"/>\n     <use style=\"fill:#1f77b4;stroke:#1f77b4;\" x=\"127.519413\" xlink:href=\"#mbb73133bd6\" y=\"69.345723\"/>\n     <use style=\"fill:#1f77b4;stroke:#1f77b4;\" x=\"162.818555\" xlink:href=\"#mbb73133bd6\" y=\"93.195768\"/>\n     <use style=\"fill:#1f77b4;stroke:#1f77b4;\" x=\"94.895578\" xlink:href=\"#mbb73133bd6\" y=\"67.809772\"/>\n     <use style=\"fill:#1f77b4;stroke:#1f77b4;\" x=\"138.218347\" xlink:href=\"#mbb73133bd6\" y=\"71.874897\"/>\n     <use style=\"fill:#1f77b4;stroke:#1f77b4;\" x=\"148.841415\" xlink:href=\"#mbb73133bd6\" y=\"71.727905\"/>\n     <use style=\"fill:#1f77b4;stroke:#1f77b4;\" x=\"112.900814\" xlink:href=\"#mbb73133bd6\" y=\"67.838881\"/>\n     <use style=\"fill:#1f77b4;stroke:#1f77b4;\" x=\"157.930006\" xlink:href=\"#mbb73133bd6\" y=\"93.484312\"/>\n     <use style=\"fill:#1f77b4;stroke:#1f77b4;\" x=\"149.032963\" xlink:href=\"#mbb73133bd6\" y=\"84.024852\"/>\n     <use style=\"fill:#1f77b4;stroke:#1f77b4;\" x=\"121.066175\" xlink:href=\"#mbb73133bd6\" y=\"72.932776\"/>\n     <use style=\"fill:#1f77b4;stroke:#1f77b4;\" x=\"128.775807\" xlink:href=\"#mbb73133bd6\" y=\"77.118333\"/>\n     <use style=\"fill:#1f77b4;stroke:#1f77b4;\" x=\"141.337299\" xlink:href=\"#mbb73133bd6\" y=\"84.493026\"/>\n     <use style=\"fill:#1f77b4;stroke:#1f77b4;\" x=\"109.652286\" xlink:href=\"#mbb73133bd6\" y=\"52.071275\"/>\n     <use style=\"fill:#1f77b4;stroke:#1f77b4;\" x=\"157.84747\" xlink:href=\"#mbb73133bd6\" y=\"105.232294\"/>\n     <use style=\"fill:#1f77b4;stroke:#1f77b4;\" x=\"188.168198\" xlink:href=\"#mbb73133bd6\" y=\"116.731754\"/>\n     <use style=\"fill:#1f77b4;stroke:#1f77b4;\" x=\"78.523303\" xlink:href=\"#mbb73133bd6\" y=\"50.693902\"/>\n     <use style=\"fill:#1f77b4;stroke:#1f77b4;\" x=\"95.028843\" xlink:href=\"#mbb73133bd6\" y=\"53.234032\"/>\n     <use style=\"fill:#1f77b4;stroke:#1f77b4;\" x=\"135.544127\" xlink:href=\"#mbb73133bd6\" y=\"85.716006\"/>\n     <use style=\"fill:#1f77b4;stroke:#1f77b4;\" x=\"63.086174\" xlink:href=\"#mbb73133bd6\" y=\"31.099445\"/>\n     <use style=\"fill:#1f77b4;stroke:#1f77b4;\" x=\"128.255315\" xlink:href=\"#mbb73133bd6\" y=\"65.762466\"/>\n     <use style=\"fill:#1f77b4;stroke:#1f77b4;\" x=\"119.220996\" xlink:href=\"#mbb73133bd6\" y=\"53.189322\"/>\n     <use style=\"fill:#1f77b4;stroke:#1f77b4;\" x=\"152.207865\" xlink:href=\"#mbb73133bd6\" y=\"91.768128\"/>\n     <use style=\"fill:#1f77b4;stroke:#1f77b4;\" x=\"102.593134\" xlink:href=\"#mbb73133bd6\" y=\"69.525635\"/>\n     <use style=\"fill:#1f77b4;stroke:#1f77b4;\" x=\"80.965986\" xlink:href=\"#mbb73133bd6\" y=\"45.548386\"/>\n     <use style=\"fill:#1f77b4;stroke:#1f77b4;\" x=\"62.501831\" xlink:href=\"#mbb73133bd6\" y=\"18.286036\"/>\n     <use style=\"fill:#1f77b4;stroke:#1f77b4;\" x=\"132.670181\" xlink:href=\"#mbb73133bd6\" y=\"64.27311\"/>\n     <use style=\"fill:#1f77b4;stroke:#1f77b4;\" x=\"112.845551\" xlink:href=\"#mbb73133bd6\" y=\"47.035001\"/>\n     <use style=\"fill:#1f77b4;stroke:#1f77b4;\" x=\"116.995856\" xlink:href=\"#mbb73133bd6\" y=\"74.441068\"/>\n     <use style=\"fill:#1f77b4;stroke:#1f77b4;\" x=\"110.789839\" xlink:href=\"#mbb73133bd6\" y=\"54.528544\"/>\n     <use style=\"fill:#1f77b4;stroke:#1f77b4;\" x=\"105.991217\" xlink:href=\"#mbb73133bd6\" y=\"56.706508\"/>\n     <use style=\"fill:#1f77b4;stroke:#1f77b4;\" x=\"108.570508\" xlink:href=\"#mbb73133bd6\" y=\"72.775271\"/>\n     <use style=\"fill:#1f77b4;stroke:#1f77b4;\" x=\"115.420388\" xlink:href=\"#mbb73133bd6\" y=\"60.256396\"/>\n     <use style=\"fill:#1f77b4;stroke:#1f77b4;\" x=\"101.643242\" xlink:href=\"#mbb73133bd6\" y=\"53.209968\"/>\n     <use style=\"fill:#1f77b4;stroke:#1f77b4;\" x=\"157.695578\" xlink:href=\"#mbb73133bd6\" y=\"87.852174\"/>\n     <use style=\"fill:#1f77b4;stroke:#1f77b4;\" x=\"133.523508\" xlink:href=\"#mbb73133bd6\" y=\"77.125155\"/>\n     <use style=\"fill:#1f77b4;stroke:#1f77b4;\" x=\"130.418029\" xlink:href=\"#mbb73133bd6\" y=\"78.703355\"/>\n     <use style=\"fill:#1f77b4;stroke:#1f77b4;\" x=\"107.847553\" xlink:href=\"#mbb73133bd6\" y=\"69.663589\"/>\n     <use style=\"fill:#1f77b4;stroke:#1f77b4;\" x=\"123.72949\" xlink:href=\"#mbb73133bd6\" y=\"79.972986\"/>\n     <use style=\"fill:#1f77b4;stroke:#1f77b4;\" x=\"73.420298\" xlink:href=\"#mbb73133bd6\" y=\"34.461323\"/>\n     <use style=\"fill:#1f77b4;stroke:#1f77b4;\" x=\"96.099306\" xlink:href=\"#mbb73133bd6\" y=\"39.160277\"/>\n     <use style=\"fill:#1f77b4;stroke:#1f77b4;\" x=\"112.452394\" xlink:href=\"#mbb73133bd6\" y=\"63.573641\"/>\n     <use style=\"fill:#1f77b4;stroke:#1f77b4;\" x=\"137.569928\" xlink:href=\"#mbb73133bd6\" y=\"78.159049\"/>\n     <use style=\"fill:#1f77b4;stroke:#1f77b4;\" x=\"146.061684\" xlink:href=\"#mbb73133bd6\" y=\"87.947645\"/>\n     <use style=\"fill:#1f77b4;stroke:#1f77b4;\" x=\"80.298848\" xlink:href=\"#mbb73133bd6\" y=\"40.420274\"/>\n     <use style=\"fill:#1f77b4;stroke:#1f77b4;\" x=\"162.077728\" xlink:href=\"#mbb73133bd6\" y=\"98.701552\"/>\n     <use style=\"fill:#1f77b4;stroke:#1f77b4;\" x=\"100.672977\" xlink:href=\"#mbb73133bd6\" y=\"59.052166\"/>\n     <use style=\"fill:#1f77b4;stroke:#1f77b4;\" x=\"75.791171\" xlink:href=\"#mbb73133bd6\" y=\"44.036548\"/>\n     <use style=\"fill:#1f77b4;stroke:#1f77b4;\" x=\"157.550525\" xlink:href=\"#mbb73133bd6\" y=\"77.462659\"/>\n     <use style=\"fill:#1f77b4;stroke:#1f77b4;\" x=\"145.018559\" xlink:href=\"#mbb73133bd6\" y=\"85.142649\"/>\n     <use style=\"fill:#1f77b4;stroke:#1f77b4;\" x=\"97.816838\" xlink:href=\"#mbb73133bd6\" y=\"47.828306\"/>\n     <use style=\"fill:#1f77b4;stroke:#1f77b4;\" x=\"125.412067\" xlink:href=\"#mbb73133bd6\" y=\"70.56844\"/>\n     <use style=\"fill:#1f77b4;stroke:#1f77b4;\" x=\"147.277612\" xlink:href=\"#mbb73133bd6\" y=\"92.845715\"/>\n     <use style=\"fill:#1f77b4;stroke:#1f77b4;\" x=\"93.478858\" xlink:href=\"#mbb73133bd6\" y=\"50.724292\"/>\n     <use style=\"fill:#1f77b4;stroke:#1f77b4;\" x=\"152.184014\" xlink:href=\"#mbb73133bd6\" y=\"74.000943\"/>\n     <use style=\"fill:#1f77b4;stroke:#1f77b4;\" x=\"109.842312\" xlink:href=\"#mbb73133bd6\" y=\"68.979138\"/>\n     <use style=\"fill:#1f77b4;stroke:#1f77b4;\" x=\"166.34157\" xlink:href=\"#mbb73133bd6\" y=\"106.281233\"/>\n     <use style=\"fill:#1f77b4;stroke:#1f77b4;\" x=\"72.362136\" xlink:href=\"#mbb73133bd6\" y=\"43.433068\"/>\n     <use style=\"fill:#1f77b4;stroke:#1f77b4;\" x=\"171.350876\" xlink:href=\"#mbb73133bd6\" y=\"100.165372\"/>\n     <use style=\"fill:#1f77b4;stroke:#1f77b4;\" x=\"129.725877\" xlink:href=\"#mbb73133bd6\" y=\"75.602504\"/>\n     <use style=\"fill:#1f77b4;stroke:#1f77b4;\" x=\"149.808083\" xlink:href=\"#mbb73133bd6\" y=\"98.709\"/>\n     <use style=\"fill:#1f77b4;stroke:#1f77b4;\" x=\"144.926103\" xlink:href=\"#mbb73133bd6\" y=\"76.868376\"/>\n     <use style=\"fill:#1f77b4;stroke:#1f77b4;\" x=\"117.816859\" xlink:href=\"#mbb73133bd6\" y=\"70.483419\"/>\n     <use style=\"fill:#1f77b4;stroke:#1f77b4;\" x=\"129.701861\" xlink:href=\"#mbb73133bd6\" y=\"74.845302\"/>\n     <use style=\"fill:#1f77b4;stroke:#1f77b4;\" x=\"101.974741\" xlink:href=\"#mbb73133bd6\" y=\"65.376447\"/>\n     <use style=\"fill:#1f77b4;stroke:#1f77b4;\" x=\"138.224574\" xlink:href=\"#mbb73133bd6\" y=\"76.789188\"/>\n     <use style=\"fill:#1f77b4;stroke:#1f77b4;\" x=\"120.716594\" xlink:href=\"#mbb73133bd6\" y=\"54.862065\"/>\n     <use style=\"fill:#1f77b4;stroke:#1f77b4;\" x=\"132.739764\" xlink:href=\"#mbb73133bd6\" y=\"68.148195\"/>\n     <use style=\"fill:#1f77b4;stroke:#1f77b4;\" x=\"124.987058\" xlink:href=\"#mbb73133bd6\" y=\"63.393567\"/>\n     <use style=\"fill:#1f77b4;stroke:#1f77b4;\" x=\"98.009039\" xlink:href=\"#mbb73133bd6\" y=\"41.903775\"/>\n     <use style=\"fill:#1f77b4;stroke:#1f77b4;\" x=\"132.615707\" xlink:href=\"#mbb73133bd6\" y=\"79.490639\"/>\n     <use style=\"fill:#1f77b4;stroke:#1f77b4;\" x=\"158.675967\" xlink:href=\"#mbb73133bd6\" y=\"81.382129\"/>\n     <use style=\"fill:#1f77b4;stroke:#1f77b4;\" x=\"116.670843\" xlink:href=\"#mbb73133bd6\" y=\"67.473438\"/>\n     <use style=\"fill:#1f77b4;stroke:#1f77b4;\" x=\"117.241178\" xlink:href=\"#mbb73133bd6\" y=\"66.223895\"/>\n     <use style=\"fill:#1f77b4;stroke:#1f77b4;\" x=\"164.764466\" xlink:href=\"#mbb73133bd6\" y=\"92.799215\"/>\n     <use style=\"fill:#1f77b4;stroke:#1f77b4;\" x=\"91.55229\" xlink:href=\"#mbb73133bd6\" y=\"54.413041\"/>\n     <use style=\"fill:#1f77b4;stroke:#1f77b4;\" x=\"123.16155\" xlink:href=\"#mbb73133bd6\" y=\"79.551784\"/>\n     <use style=\"fill:#1f77b4;stroke:#1f77b4;\" x=\"97.716082\" xlink:href=\"#mbb73133bd6\" y=\"54.606988\"/>\n     <use style=\"fill:#1f77b4;stroke:#1f77b4;\" x=\"165.109618\" xlink:href=\"#mbb73133bd6\" y=\"79.918654\"/>\n     <use style=\"fill:#1f77b4;stroke:#1f77b4;\" x=\"127.705953\" xlink:href=\"#mbb73133bd6\" y=\"73.014717\"/>\n     <use style=\"fill:#1f77b4;stroke:#1f77b4;\" x=\"71.224383\" xlink:href=\"#mbb73133bd6\" y=\"38.593126\"/>\n     <use style=\"fill:#1f77b4;stroke:#1f77b4;\" x=\"97.265415\" xlink:href=\"#mbb73133bd6\" y=\"67.224206\"/>\n     <use style=\"fill:#1f77b4;stroke:#1f77b4;\" x=\"149.582639\" xlink:href=\"#mbb73133bd6\" y=\"84.67137\"/>\n     <use style=\"fill:#1f77b4;stroke:#1f77b4;\" x=\"150.3971\" xlink:href=\"#mbb73133bd6\" y=\"89.663262\"/>\n     <use style=\"fill:#1f77b4;stroke:#1f77b4;\" x=\"114.418713\" xlink:href=\"#mbb73133bd6\" y=\"58.678922\"/>\n     <use style=\"fill:#1f77b4;stroke:#1f77b4;\" x=\"122.764097\" xlink:href=\"#mbb73133bd6\" y=\"58.932359\"/>\n     <use style=\"fill:#1f77b4;stroke:#1f77b4;\" x=\"138.053469\" xlink:href=\"#mbb73133bd6\" y=\"76.244073\"/>\n     <use style=\"fill:#1f77b4;stroke:#1f77b4;\" x=\"141.808748\" xlink:href=\"#mbb73133bd6\" y=\"80.75821\"/>\n     <use style=\"fill:#1f77b4;stroke:#1f77b4;\" x=\"150.538662\" xlink:href=\"#mbb73133bd6\" y=\"87.078801\"/>\n     <use style=\"fill:#1f77b4;stroke:#1f77b4;\" x=\"104.450693\" xlink:href=\"#mbb73133bd6\" y=\"56.044737\"/>\n     <use style=\"fill:#1f77b4;stroke:#1f77b4;\" x=\"164.631752\" xlink:href=\"#mbb73133bd6\" y=\"96.984652\"/>\n     <use style=\"fill:#1f77b4;stroke:#1f77b4;\" x=\"139.22823\" xlink:href=\"#mbb73133bd6\" y=\"89.192621\"/>\n     <use style=\"fill:#1f77b4;stroke:#1f77b4;\" x=\"112.082699\" xlink:href=\"#mbb73133bd6\" y=\"61.875041\"/>\n     <use style=\"fill:#1f77b4;stroke:#1f77b4;\" x=\"168.635166\" xlink:href=\"#mbb73133bd6\" y=\"85.637524\"/>\n     <use style=\"fill:#1f77b4;stroke:#1f77b4;\" x=\"150.352661\" xlink:href=\"#mbb73133bd6\" y=\"93.476813\"/>\n     <use style=\"fill:#1f77b4;stroke:#1f77b4;\" x=\"101.159999\" xlink:href=\"#mbb73133bd6\" y=\"56.156778\"/>\n     <use style=\"fill:#1f77b4;stroke:#1f77b4;\" x=\"131.840528\" xlink:href=\"#mbb73133bd6\" y=\"78.049594\"/>\n     <use style=\"fill:#1f77b4;stroke:#1f77b4;\" x=\"178.502167\" xlink:href=\"#mbb73133bd6\" y=\"113.891893\"/>\n     <use style=\"fill:#1f77b4;stroke:#1f77b4;\" x=\"142.428983\" xlink:href=\"#mbb73133bd6\" y=\"67.299342\"/>\n     <use style=\"fill:#1f77b4;stroke:#1f77b4;\" x=\"138.014988\" xlink:href=\"#mbb73133bd6\" y=\"85.312842\"/>\n     <use style=\"fill:#1f77b4;stroke:#1f77b4;\" x=\"161.112132\" xlink:href=\"#mbb73133bd6\" y=\"78.534713\"/>\n     <use style=\"fill:#1f77b4;stroke:#1f77b4;\" x=\"186.280318\" xlink:href=\"#mbb73133bd6\" y=\"101.30832\"/>\n     <use style=\"fill:#1f77b4;stroke:#1f77b4;\" x=\"145.612627\" xlink:href=\"#mbb73133bd6\" y=\"90.680165\"/>\n     <use style=\"fill:#1f77b4;stroke:#1f77b4;\" x=\"151.868724\" xlink:href=\"#mbb73133bd6\" y=\"78.425287\"/>\n     <use style=\"fill:#1f77b4;stroke:#1f77b4;\" x=\"130.193797\" xlink:href=\"#mbb73133bd6\" y=\"76.627697\"/>\n     <use style=\"fill:#1f77b4;stroke:#1f77b4;\" x=\"55.398947\" xlink:href=\"#mbb73133bd6\" y=\"24.961678\"/>\n     <use style=\"fill:#1f77b4;stroke:#1f77b4;\" x=\"87.906952\" xlink:href=\"#mbb73133bd6\" y=\"56.977633\"/>\n     <use style=\"fill:#1f77b4;stroke:#1f77b4;\" x=\"115.642452\" xlink:href=\"#mbb73133bd6\" y=\"60.504619\"/>\n     <use style=\"fill:#1f77b4;stroke:#1f77b4;\" x=\"92.707223\" xlink:href=\"#mbb73133bd6\" y=\"51.728509\"/>\n     <use style=\"fill:#1f77b4;stroke:#1f77b4;\" x=\"128.630661\" xlink:href=\"#mbb73133bd6\" y=\"73.759485\"/>\n     <use style=\"fill:#1f77b4;stroke:#1f77b4;\" x=\"131.782403\" xlink:href=\"#mbb73133bd6\" y=\"79.435898\"/>\n     <use style=\"fill:#1f77b4;stroke:#1f77b4;\" x=\"128.472905\" xlink:href=\"#mbb73133bd6\" y=\"74.914607\"/>\n     <use style=\"fill:#1f77b4;stroke:#1f77b4;\" x=\"126.644592\" xlink:href=\"#mbb73133bd6\" y=\"74.054487\"/>\n     <use style=\"fill:#1f77b4;stroke:#1f77b4;\" x=\"136.092446\" xlink:href=\"#mbb73133bd6\" y=\"91.020531\"/>\n     <use style=\"fill:#1f77b4;stroke:#1f77b4;\" x=\"115.163976\" xlink:href=\"#mbb73133bd6\" y=\"73.49769\"/>\n     <use style=\"fill:#1f77b4;stroke:#1f77b4;\" x=\"120.661494\" xlink:href=\"#mbb73133bd6\" y=\"70.361877\"/>\n     <use style=\"fill:#1f77b4;stroke:#1f77b4;\" x=\"173.037162\" xlink:href=\"#mbb73133bd6\" y=\"118.423258\"/>\n     <use style=\"fill:#1f77b4;stroke:#1f77b4;\" x=\"119.110849\" xlink:href=\"#mbb73133bd6\" y=\"67.201636\"/>\n     <use style=\"fill:#1f77b4;stroke:#1f77b4;\" x=\"102.471283\" xlink:href=\"#mbb73133bd6\" y=\"47.734374\"/>\n     <use style=\"fill:#1f77b4;stroke:#1f77b4;\" x=\"82.950272\" xlink:href=\"#mbb73133bd6\" y=\"49.595424\"/>\n     <use style=\"fill:#1f77b4;stroke:#1f77b4;\" x=\"107.865375\" xlink:href=\"#mbb73133bd6\" y=\"38.120924\"/>\n     <use style=\"fill:#1f77b4;stroke:#1f77b4;\" x=\"153.948836\" xlink:href=\"#mbb73133bd6\" y=\"93.302053\"/>\n     <use style=\"fill:#1f77b4;stroke:#1f77b4;\" x=\"94.455703\" xlink:href=\"#mbb73133bd6\" y=\"67.563204\"/>\n     <use style=\"fill:#1f77b4;stroke:#1f77b4;\" x=\"130.345699\" xlink:href=\"#mbb73133bd6\" y=\"71.867116\"/>\n     <use style=\"fill:#1f77b4;stroke:#1f77b4;\" x=\"180.955403\" xlink:href=\"#mbb73133bd6\" y=\"108.874784\"/>\n     <use style=\"fill:#1f77b4;stroke:#1f77b4;\" x=\"93.702847\" xlink:href=\"#mbb73133bd6\" y=\"70.326708\"/>\n     <use style=\"fill:#1f77b4;stroke:#1f77b4;\" x=\"86.527662\" xlink:href=\"#mbb73133bd6\" y=\"69.15669\"/>\n     <use style=\"fill:#1f77b4;stroke:#1f77b4;\" x=\"101.598548\" xlink:href=\"#mbb73133bd6\" y=\"73.215582\"/>\n     <use style=\"fill:#1f77b4;stroke:#1f77b4;\" x=\"110.375438\" xlink:href=\"#mbb73133bd6\" y=\"60.558435\"/>\n     <use style=\"fill:#1f77b4;stroke:#1f77b4;\" x=\"134.475888\" xlink:href=\"#mbb73133bd6\" y=\"62.986448\"/>\n     <use style=\"fill:#1f77b4;stroke:#1f77b4;\" x=\"90.747262\" xlink:href=\"#mbb73133bd6\" y=\"65.025972\"/>\n     <use style=\"fill:#1f77b4;stroke:#1f77b4;\" x=\"111.896349\" xlink:href=\"#mbb73133bd6\" y=\"59.532936\"/>\n     <use style=\"fill:#1f77b4;stroke:#1f77b4;\" x=\"123.083058\" xlink:href=\"#mbb73133bd6\" y=\"78.536563\"/>\n     <use style=\"fill:#1f77b4;stroke:#1f77b4;\" x=\"117.829614\" xlink:href=\"#mbb73133bd6\" y=\"61.226774\"/>\n     <use style=\"fill:#1f77b4;stroke:#1f77b4;\" x=\"114.402604\" xlink:href=\"#mbb73133bd6\" y=\"56.013639\"/>\n     <use style=\"fill:#1f77b4;stroke:#1f77b4;\" x=\"71.153311\" xlink:href=\"#mbb73133bd6\" y=\"54.612899\"/>\n     <use style=\"fill:#1f77b4;stroke:#1f77b4;\" x=\"111.044624\" xlink:href=\"#mbb73133bd6\" y=\"62.710946\"/>\n     <use style=\"fill:#1f77b4;stroke:#1f77b4;\" x=\"162.856127\" xlink:href=\"#mbb73133bd6\" y=\"99.911854\"/>\n     <use style=\"fill:#1f77b4;stroke:#1f77b4;\" x=\"134.110004\" xlink:href=\"#mbb73133bd6\" y=\"81.77242\"/>\n     <use style=\"fill:#1f77b4;stroke:#1f77b4;\" x=\"86.086078\" xlink:href=\"#mbb73133bd6\" y=\"41.538026\"/>\n     <use style=\"fill:#1f77b4;stroke:#1f77b4;\" x=\"101.095772\" xlink:href=\"#mbb73133bd6\" y=\"49.789333\"/>\n     <use style=\"fill:#1f77b4;stroke:#1f77b4;\" x=\"123.39492\" xlink:href=\"#mbb73133bd6\" y=\"67.298212\"/>\n     <use style=\"fill:#1f77b4;stroke:#1f77b4;\" x=\"183.60715\" xlink:href=\"#mbb73133bd6\" y=\"96.261072\"/>\n     <use style=\"fill:#1f77b4;stroke:#1f77b4;\" x=\"129.76632\" xlink:href=\"#mbb73133bd6\" y=\"76.177912\"/>\n     <use style=\"fill:#1f77b4;stroke:#1f77b4;\" x=\"149.721846\" xlink:href=\"#mbb73133bd6\" y=\"78.482632\"/>\n     <use style=\"fill:#1f77b4;stroke:#1f77b4;\" x=\"123.278353\" xlink:href=\"#mbb73133bd6\" y=\"66.867687\"/>\n     <use style=\"fill:#1f77b4;stroke:#1f77b4;\" x=\"106.147537\" xlink:href=\"#mbb73133bd6\" y=\"49.687716\"/>\n     <use style=\"fill:#1f77b4;stroke:#1f77b4;\" x=\"93.570069\" xlink:href=\"#mbb73133bd6\" y=\"49.463066\"/>\n     <use style=\"fill:#1f77b4;stroke:#1f77b4;\" x=\"153.187676\" xlink:href=\"#mbb73133bd6\" y=\"95.353388\"/>\n     <use style=\"fill:#1f77b4;stroke:#1f77b4;\" x=\"112.787271\" xlink:href=\"#mbb73133bd6\" y=\"61.8054\"/>\n     <use style=\"fill:#1f77b4;stroke:#1f77b4;\" x=\"120.51484\" xlink:href=\"#mbb73133bd6\" y=\"62.310708\"/>\n     <use style=\"fill:#1f77b4;stroke:#1f77b4;\" x=\"67.059677\" xlink:href=\"#mbb73133bd6\" y=\"33.111235\"/>\n     <use style=\"fill:#1f77b4;stroke:#1f77b4;\" x=\"126.569808\" xlink:href=\"#mbb73133bd6\" y=\"78.711862\"/>\n     <use style=\"fill:#1f77b4;stroke:#1f77b4;\" x=\"77.61342\" xlink:href=\"#mbb73133bd6\" y=\"37.9227\"/>\n     <use style=\"fill:#1f77b4;stroke:#1f77b4;\" x=\"146.847596\" xlink:href=\"#mbb73133bd6\" y=\"74.638837\"/>\n     <use style=\"fill:#1f77b4;stroke:#1f77b4;\" x=\"137.902873\" xlink:href=\"#mbb73133bd6\" y=\"71.847259\"/>\n     <use style=\"fill:#1f77b4;stroke:#1f77b4;\" x=\"146.546583\" xlink:href=\"#mbb73133bd6\" y=\"88.058342\"/>\n     <use style=\"fill:#1f77b4;stroke:#1f77b4;\" x=\"173.31904\" xlink:href=\"#mbb73133bd6\" y=\"81.301903\"/>\n     <use style=\"fill:#1f77b4;stroke:#1f77b4;\" x=\"93.617399\" xlink:href=\"#mbb73133bd6\" y=\"53.232183\"/>\n     <use style=\"fill:#1f77b4;stroke:#1f77b4;\" x=\"136.535768\" xlink:href=\"#mbb73133bd6\" y=\"79.18337\"/>\n     <use style=\"fill:#1f77b4;stroke:#1f77b4;\" x=\"118.144891\" xlink:href=\"#mbb73133bd6\" y=\"83.486236\"/>\n     <use style=\"fill:#1f77b4;stroke:#1f77b4;\" x=\"135.448684\" xlink:href=\"#mbb73133bd6\" y=\"73.45887\"/>\n     <use style=\"fill:#1f77b4;stroke:#1f77b4;\" x=\"125.015878\" xlink:href=\"#mbb73133bd6\" y=\"73.298593\"/>\n     <use style=\"fill:#1f77b4;stroke:#1f77b4;\" x=\"105.967455\" xlink:href=\"#mbb73133bd6\" y=\"51.550607\"/>\n     <use style=\"fill:#1f77b4;stroke:#1f77b4;\" x=\"69.830804\" xlink:href=\"#mbb73133bd6\" y=\"47.696375\"/>\n     <use style=\"fill:#1f77b4;stroke:#1f77b4;\" x=\"122.361004\" xlink:href=\"#mbb73133bd6\" y=\"56.096524\"/>\n     <use style=\"fill:#1f77b4;stroke:#1f77b4;\" x=\"115.122929\" xlink:href=\"#mbb73133bd6\" y=\"62.169929\"/>\n     <use style=\"fill:#1f77b4;stroke:#1f77b4;\" x=\"90.393981\" xlink:href=\"#mbb73133bd6\" y=\"46.887913\"/>\n     <use style=\"fill:#1f77b4;stroke:#1f77b4;\" x=\"91.078513\" xlink:href=\"#mbb73133bd6\" y=\"49.149802\"/>\n     <use style=\"fill:#1f77b4;stroke:#1f77b4;\" x=\"119.435146\" xlink:href=\"#mbb73133bd6\" y=\"67.791907\"/>\n     <use style=\"fill:#1f77b4;stroke:#1f77b4;\" x=\"110.893251\" xlink:href=\"#mbb73133bd6\" y=\"60.135768\"/>\n     <use style=\"fill:#1f77b4;stroke:#1f77b4;\" x=\"169.11725\" xlink:href=\"#mbb73133bd6\" y=\"96.295202\"/>\n     <use style=\"fill:#1f77b4;stroke:#1f77b4;\" x=\"136.6598\" xlink:href=\"#mbb73133bd6\" y=\"68.66724\"/>\n     <use style=\"fill:#1f77b4;stroke:#1f77b4;\" x=\"141.811528\" xlink:href=\"#mbb73133bd6\" y=\"72.950761\"/>\n     <use style=\"fill:#1f77b4;stroke:#1f77b4;\" x=\"81.829848\" xlink:href=\"#mbb73133bd6\" y=\"45.331365\"/>\n    </g>\n   </g>\n   <g id=\"matplotlib.axis_1\">\n    <g id=\"xtick_1\">\n     <g id=\"line2d_1\">\n      <defs>\n       <path d=\"M 0 0 \nL 0 3.5 \n\" id=\"m03c8ff29de\" style=\"stroke:#000000;stroke-width:0.8;\"/>\n      </defs>\n      <g>\n       <use style=\"stroke:#000000;stroke-width:0.8;\" x=\"70.566938\" xlink:href=\"#m03c8ff29de\" y=\"143.1\"/>\n      </g>\n     </g>\n     <g id=\"text_1\">\n      <!-- −2 -->\n      <defs>\n       <path d=\"M 10.59375 35.5 \nL 73.1875 35.5 \nL 73.1875 27.203125 \nL 10.59375 27.203125 \nz\n\" id=\"DejaVuSans-8722\"/>\n       <path d=\"M 19.1875 8.296875 \nL 53.609375 8.296875 \nL 53.609375 0 \nL 7.328125 0 \nL 7.328125 8.296875 \nQ 12.9375 14.109375 22.625 23.890625 \nQ 32.328125 33.6875 34.8125 36.53125 \nQ 39.546875 41.84375 41.421875 45.53125 \nQ 43.3125 49.21875 43.3125 52.78125 \nQ 43.3125 58.59375 39.234375 62.25 \nQ 35.15625 65.921875 28.609375 65.921875 \nQ 23.96875 65.921875 18.8125 64.3125 \nQ 13.671875 62.703125 7.8125 59.421875 \nL 7.8125 69.390625 \nQ 13.765625 71.78125 18.9375 73 \nQ 24.125 74.21875 28.421875 74.21875 \nQ 39.75 74.21875 46.484375 68.546875 \nQ 53.21875 62.890625 53.21875 53.421875 \nQ 53.21875 48.921875 51.53125 44.890625 \nQ 49.859375 40.875 45.40625 35.40625 \nQ 44.1875 33.984375 37.640625 27.21875 \nQ 31.109375 20.453125 19.1875 8.296875 \nz\n\" id=\"DejaVuSans-50\"/>\n      </defs>\n      <g transform=\"translate(63.195844 157.698438)scale(0.1 -0.1)\">\n       <use xlink:href=\"#DejaVuSans-8722\"/>\n       <use x=\"83.789062\" xlink:href=\"#DejaVuSans-50\"/>\n      </g>\n     </g>\n    </g>\n    <g id=\"xtick_2\">\n     <g id=\"line2d_2\">\n      <g>\n       <use style=\"stroke:#000000;stroke-width:0.8;\" x=\"124.706855\" xlink:href=\"#m03c8ff29de\" y=\"143.1\"/>\n      </g>\n     </g>\n     <g id=\"text_2\">\n      <!-- 0 -->\n      <defs>\n       <path d=\"M 31.78125 66.40625 \nQ 24.171875 66.40625 20.328125 58.90625 \nQ 16.5 51.421875 16.5 36.375 \nQ 16.5 21.390625 20.328125 13.890625 \nQ 24.171875 6.390625 31.78125 6.390625 \nQ 39.453125 6.390625 43.28125 13.890625 \nQ 47.125 21.390625 47.125 36.375 \nQ 47.125 51.421875 43.28125 58.90625 \nQ 39.453125 66.40625 31.78125 66.40625 \nz\nM 31.78125 74.21875 \nQ 44.046875 74.21875 50.515625 64.515625 \nQ 56.984375 54.828125 56.984375 36.375 \nQ 56.984375 17.96875 50.515625 8.265625 \nQ 44.046875 -1.421875 31.78125 -1.421875 \nQ 19.53125 -1.421875 13.0625 8.265625 \nQ 6.59375 17.96875 6.59375 36.375 \nQ 6.59375 54.828125 13.0625 64.515625 \nQ 19.53125 74.21875 31.78125 74.21875 \nz\n\" id=\"DejaVuSans-48\"/>\n      </defs>\n      <g transform=\"translate(121.525605 157.698438)scale(0.1 -0.1)\">\n       <use xlink:href=\"#DejaVuSans-48\"/>\n      </g>\n     </g>\n    </g>\n    <g id=\"xtick_3\">\n     <g id=\"line2d_3\">\n      <g>\n       <use style=\"stroke:#000000;stroke-width:0.8;\" x=\"178.846771\" xlink:href=\"#m03c8ff29de\" y=\"143.1\"/>\n      </g>\n     </g>\n     <g id=\"text_3\">\n      <!-- 2 -->\n      <g transform=\"translate(175.665521 157.698438)scale(0.1 -0.1)\">\n       <use xlink:href=\"#DejaVuSans-50\"/>\n      </g>\n     </g>\n    </g>\n   </g>\n   <g id=\"matplotlib.axis_2\">\n    <g id=\"ytick_1\">\n     <g id=\"line2d_4\">\n      <defs>\n       <path d=\"M 0 0 \nL -3.5 0 \n\" id=\"m1784b26549\" style=\"stroke:#000000;stroke-width:0.8;\"/>\n      </defs>\n      <g>\n       <use style=\"stroke:#000000;stroke-width:0.8;\" x=\"35.304688\" xlink:href=\"#m1784b26549\" y=\"134.344555\"/>\n      </g>\n     </g>\n     <g id=\"text_4\">\n      <!-- −10 -->\n      <defs>\n       <path d=\"M 12.40625 8.296875 \nL 28.515625 8.296875 \nL 28.515625 63.921875 \nL 10.984375 60.40625 \nL 10.984375 69.390625 \nL 28.421875 72.90625 \nL 38.28125 72.90625 \nL 38.28125 8.296875 \nL 54.390625 8.296875 \nL 54.390625 0 \nL 12.40625 0 \nz\n\" id=\"DejaVuSans-49\"/>\n      </defs>\n      <g transform=\"translate(7.2 138.143773)scale(0.1 -0.1)\">\n       <use xlink:href=\"#DejaVuSans-8722\"/>\n       <use x=\"83.789062\" xlink:href=\"#DejaVuSans-49\"/>\n       <use x=\"147.412109\" xlink:href=\"#DejaVuSans-48\"/>\n      </g>\n     </g>\n    </g>\n    <g id=\"ytick_2\">\n     <g id=\"line2d_5\">\n      <g>\n       <use style=\"stroke:#000000;stroke-width:0.8;\" x=\"35.304688\" xlink:href=\"#m1784b26549\" y=\"89.549696\"/>\n      </g>\n     </g>\n     <g id=\"text_5\">\n      <!-- 0 -->\n      <g transform=\"translate(21.942187 93.348915)scale(0.1 -0.1)\">\n       <use xlink:href=\"#DejaVuSans-48\"/>\n      </g>\n     </g>\n    </g>\n    <g id=\"ytick_3\">\n     <g id=\"line2d_6\">\n      <g>\n       <use style=\"stroke:#000000;stroke-width:0.8;\" x=\"35.304688\" xlink:href=\"#m1784b26549\" y=\"44.754837\"/>\n      </g>\n     </g>\n     <g id=\"text_6\">\n      <!-- 10 -->\n      <g transform=\"translate(15.579687 48.554056)scale(0.1 -0.1)\">\n       <use xlink:href=\"#DejaVuSans-49\"/>\n       <use x=\"63.623047\" xlink:href=\"#DejaVuSans-48\"/>\n      </g>\n     </g>\n    </g>\n   </g>\n   <g id=\"patch_3\">\n    <path d=\"M 35.304688 143.1 \nL 35.304688 7.2 \n\" style=\"fill:none;stroke:#000000;stroke-linecap:square;stroke-linejoin:miter;stroke-width:0.8;\"/>\n   </g>\n   <g id=\"patch_4\">\n    <path d=\"M 230.604688 143.1 \nL 230.604688 7.2 \n\" style=\"fill:none;stroke:#000000;stroke-linecap:square;stroke-linejoin:miter;stroke-width:0.8;\"/>\n   </g>\n   <g id=\"patch_5\">\n    <path d=\"M 35.304688 143.1 \nL 230.604688 143.1 \n\" style=\"fill:none;stroke:#000000;stroke-linecap:square;stroke-linejoin:miter;stroke-width:0.8;\"/>\n   </g>\n   <g id=\"patch_6\">\n    <path d=\"M 35.304688 7.2 \nL 230.604688 7.2 \n\" style=\"fill:none;stroke:#000000;stroke-linecap:square;stroke-linejoin:miter;stroke-width:0.8;\"/>\n   </g>\n  </g>\n </g>\n <defs>\n  <clipPath id=\"p88d0893920\">\n   <rect height=\"135.9\" width=\"195.3\" x=\"35.304688\" y=\"7.2\"/>\n  </clipPath>\n </defs>\n</svg>\n"
          },
          "metadata": {
            "tags": [],
            "needs_background": "light"
          }
        }
      ]
    },
    {
      "cell_type": "markdown",
      "metadata": {
        "id": "7sXCx-Xt4Nqr"
      },
      "source": [
        "다음은 features와 label은 선형 관계를 나타내는것을 확인 할 수 있습니다. features[:(1)] 은 음의 상관관계를 가지고  features[:(0)] 은 양의 상관 간계를 가지느것을 확인 할 수 있다. "
      ]
    },
    {
      "cell_type": "markdown",
      "metadata": {
        "id": "BMxDNdODmQqo"
      },
      "source": [
        "## 3.2 Reading the Dataset"
      ]
    },
    {
      "cell_type": "code",
      "metadata": {
        "id": "RM3wVc8Wbwlj"
      },
      "source": [
        "def data_iter(batch_size,features,labels):\n",
        "    num_examples = len(features)\n",
        "    indices = list(range(num_examples))\n",
        "    #print(indices)\n",
        "    random.shuffle(indices)\n",
        "    #print(indices)\n",
        "    for i in range(0,num_examples,batch_size):\n",
        "        batch_indices = torch.tensor(indices[i:min(i + batch_size,num_examples)])\n",
        "        #print(len(batch_indices))\n",
        "        yield features[batch_indices],labels[batch_indices]"
      ],
      "execution_count": 11,
      "outputs": []
    },
    {
      "cell_type": "markdown",
      "metadata": {
        "id": "eRaFawi86W3Z"
      },
      "source": [
        "num_example은 1000개의 숫자가 들어있고 리스트로 0~999 넘버링을한 주사위를 만들고  그것을 shuffle로 섞은 뒤 배치사이즈만큼 랜덤 추출을 만든 뒤 배치사이즈만큼 features와 label을 산출하는식으로 코딩을 진행했다. "
      ]
    },
    {
      "cell_type": "code",
      "metadata": {
        "colab": {
          "base_uri": "https://localhost:8080/"
        },
        "id": "GGg__emmbwoW",
        "outputId": "9a2e555f-c45d-49e8-f811-d72b68b5b1e2"
      },
      "source": [
        "batch_size = 10\n",
        "\n",
        "for X,y in data_iter(batch_size, features,labels):\n",
        "    print(X,'\\n',y)\n",
        "    break"
      ],
      "execution_count": 12,
      "outputs": [
        {
          "output_type": "stream",
          "text": [
            "tensor([[-0.3429,  0.7882],\n",
            "        [-0.4512,  1.2273],\n",
            "        [ 0.3193, -0.5103],\n",
            "        [ 0.7893,  0.2967],\n",
            "        [-0.6404,  1.2925],\n",
            "        [ 1.0910,  1.6228],\n",
            "        [-0.0409,  0.5653],\n",
            "        [ 0.4077,  0.6343],\n",
            "        [ 0.9511, -0.2319],\n",
            "        [ 0.8759,  0.3550]]) \n",
            " tensor([[ 0.8447],\n",
            "        [-0.8784],\n",
            "        [ 6.5664],\n",
            "        [ 4.7777],\n",
            "        [-1.4585],\n",
            "        [ 0.8734],\n",
            "        [ 2.1874],\n",
            "        [ 2.8514],\n",
            "        [ 6.9023],\n",
            "        [ 4.7257]])\n"
          ],
          "name": "stdout"
        }
      ]
    },
    {
      "cell_type": "markdown",
      "metadata": {
        "id": "8WegiIFl7ipc"
      },
      "source": [
        "다음 결과는 batch_size 10개의 features와 labels를 출력한것을 확인 할 수 있습니다.  "
      ]
    },
    {
      "cell_type": "markdown",
      "metadata": {
        "id": "iciOONNMrlKA"
      },
      "source": [
        "## 3.2.3 initializing Model Parameters"
      ]
    },
    {
      "cell_type": "code",
      "metadata": {
        "id": "WERSd0ikbwqS"
      },
      "source": [
        "w = torch.normal(0,0.01,size=(2,1), requires_grad = True)\n",
        "b = torch.zeros(1,requires_grad=True)"
      ],
      "execution_count": 13,
      "outputs": []
    },
    {
      "cell_type": "code",
      "metadata": {
        "colab": {
          "base_uri": "https://localhost:8080/"
        },
        "id": "QeWdhLOpbwsj",
        "outputId": "36cd1466-2460-43ed-8156-62ea28cdc5ae"
      },
      "source": [
        "print(w,b)"
      ],
      "execution_count": 14,
      "outputs": [
        {
          "output_type": "stream",
          "text": [
            "tensor([[-0.0174],\n",
            "        [-0.0027]], requires_grad=True) tensor([0.], requires_grad=True)\n"
          ],
          "name": "stdout"
        }
      ]
    },
    {
      "cell_type": "markdown",
      "metadata": {
        "id": "CLjNldC283qm"
      },
      "source": [
        "model Parameters를 초기화하는 부분임을 알 수 있다.\n",
        "X.shape 즉  batchsize 만큼 산출한 feature임을 확인 할 수 있다. 이와 행렬적인 연산이 가능해야하므로 w 를 2 by 1  으로 초기화한것을 알 수 있고 bias는 0으로 초기화 한것을 알 수 있다."
      ]
    },
    {
      "cell_type": "markdown",
      "metadata": {
        "id": "ujpvXbe4sQxG"
      },
      "source": [
        "## 3.2.4 Defining the Model"
      ]
    },
    {
      "cell_type": "code",
      "metadata": {
        "colab": {
          "base_uri": "https://localhost:8080/"
        },
        "id": "q-sWFxbXsjMC",
        "outputId": "0e408dd2-b791-4dfc-d9a4-c7772dd05a91"
      },
      "source": [
        "print(X.shape)\n",
        "print(w.shape)\n",
        "print(y.shape)"
      ],
      "execution_count": 15,
      "outputs": [
        {
          "output_type": "stream",
          "text": [
            "torch.Size([10, 2])\n",
            "torch.Size([2, 1])\n",
            "torch.Size([10, 1])\n"
          ],
          "name": "stdout"
        }
      ]
    },
    {
      "cell_type": "code",
      "metadata": {
        "id": "YDe7uqr_bwty"
      },
      "source": [
        "def lineareg(X,w,b):\n",
        "    return torch.matmul(X,w) + b"
      ],
      "execution_count": 16,
      "outputs": []
    },
    {
      "cell_type": "markdown",
      "metadata": {
        "id": "W15Do6kk_XmL"
      },
      "source": [
        "linear regression 함수를 python으로 바꾼것이며 \n",
        "결국 이함수가 모델임을 알 수있고 우리는 이 모델의 w 와 b를 찾아야 함을 알 수 있다."
      ]
    },
    {
      "cell_type": "markdown",
      "metadata": {
        "id": "L5Yb66X5svhJ"
      },
      "source": [
        "## 3.2.5 Defining the Loss Function"
      ]
    },
    {
      "cell_type": "code",
      "metadata": {
        "id": "32J-agDbsu1X"
      },
      "source": [
        "def squared_loss(y_hat,y):\n",
        "    #print(y_hat.shape)\n",
        "    #print(y.shape)\n",
        "    return (y_hat - y.reshape(y_hat.shape)) ** 2 / 2"
      ],
      "execution_count": 17,
      "outputs": []
    },
    {
      "cell_type": "markdown",
      "metadata": {
        "id": "XCNJ7e8aAfrm"
      },
      "source": [
        "MSE Loss function 을 구현해 놓은것을 확인 할 수 있다."
      ]
    },
    {
      "cell_type": "markdown",
      "metadata": {
        "id": "STuqgwUjtbBR"
      },
      "source": [
        "## 3.2.6 Defining the Optimization Algorithm"
      ]
    },
    {
      "cell_type": "code",
      "metadata": {
        "id": "z0K8OB3Qsu3U"
      },
      "source": [
        "def sgd(params,lr,batch_size):\n",
        "    with torch.no_grad():\n",
        "        for param in params:\n",
        "            #print('!')\n",
        "            #print(param)\n",
        "            param -= lr * param.grad / batch_size\n",
        "            print(param.grad)\n",
        "            #print('!!!!!!!')\n",
        "            param.grad.zero_() #trainer.zero_grad\n",
        "            #print(param)"
      ],
      "execution_count": 18,
      "outputs": []
    },
    {
      "cell_type": "markdown",
      "metadata": {
        "id": "gJJzra3rDBYF"
      },
      "source": [
        "stochastic gradient descent 실제로 구현한부분이라 할 수 있으며 param이 실제로 찍어보면 true_w , true_b 에 가까워 짐을 알 수 있다. "
      ]
    },
    {
      "cell_type": "markdown",
      "metadata": {
        "id": "zzVxrmyfuV4A"
      },
      "source": [
        "## 3.2.7 Training"
      ]
    },
    {
      "cell_type": "code",
      "metadata": {
        "id": "Yo9AMSMusu5m"
      },
      "source": [
        "lr = 0.03\n",
        "num_epochs = 3\n",
        "net = lineareg\n",
        "loss = squared_loss"
      ],
      "execution_count": 19,
      "outputs": []
    },
    {
      "cell_type": "markdown",
      "metadata": {
        "id": "XYvQt3bJFsh9"
      },
      "source": [
        "직접 hyper parameter을 정하는 부분임을 알 수 있다. "
      ]
    },
    {
      "cell_type": "code",
      "metadata": {
        "colab": {
          "base_uri": "https://localhost:8080/"
        },
        "id": "ksn0kJlTyiBU",
        "outputId": "2ea96967-5936-487a-eb13-cd8cb8561f8c"
      },
      "source": [
        "print(features.shape)"
      ],
      "execution_count": 20,
      "outputs": [
        {
          "output_type": "stream",
          "text": [
            "torch.Size([1000, 2])\n"
          ],
          "name": "stdout"
        }
      ]
    },
    {
      "cell_type": "code",
      "metadata": {
        "colab": {
          "base_uri": "https://localhost:8080/"
        },
        "id": "1cqW_WFjsu7l",
        "outputId": "7761b738-577d-4545-ffd4-c9744e11cc3b"
      },
      "source": [
        "for epoch in range(num_epochs):\n",
        "    for X,y in data_iter(batch_size,features,labels):\n",
        "        l = loss(net(X,w,b),y)\n",
        "        l.sum().backward() #. loss.backward() 편미분이 여기서 완료\n",
        "        #print(w.grad) \n",
        "        #print(b.grad) #그럼 기울기를 구할 수 있다. w,b에 대해 \n",
        "        sgd([w,b],lr,batch_size) # .step 구해진 w,b를 이용해 구해진 기울기 바탕으로 여기서 w,b를 업데이트 한다. \n",
        "    with torch.no_grad():\n",
        "        train_l = loss(net(features,w,b),labels)\n",
        "        print(f'epoch{epoch + 1},loss{float(train_l.mean()):f}') \n"
      ],
      "execution_count": 21,
      "outputs": [
        {
          "output_type": "stream",
          "text": [
            "tensor([[-50.1706],\n",
            "        [ 55.5734]])\n",
            "tensor([-67.4727])\n",
            "tensor([[-9.0275],\n",
            "        [20.3764]])\n",
            "tensor([-36.6811])\n",
            "tensor([[-4.6815],\n",
            "        [64.0026]])\n",
            "tensor([-54.7722])\n",
            "tensor([[-5.0439],\n",
            "        [16.4486]])\n",
            "tensor([-39.8510])\n",
            "tensor([[-39.8827],\n",
            "        [ 35.1632]])\n",
            "tensor([-41.7491])\n",
            "tensor([[-13.7079],\n",
            "        [ 12.1902]])\n",
            "tensor([-23.9742])\n",
            "tensor([[-33.8950],\n",
            "        [ 31.8404]])\n",
            "tensor([-25.0536])\n",
            "tensor([[-9.2578],\n",
            "        [30.8281]])\n",
            "tensor([-43.0550])\n",
            "tensor([[-50.2605],\n",
            "        [ 29.6742]])\n",
            "tensor([-39.1018])\n",
            "tensor([[-19.7837],\n",
            "        [ 27.8481]])\n",
            "tensor([-45.1748])\n",
            "tensor([[-21.3760],\n",
            "        [ 35.0816]])\n",
            "tensor([-37.4505])\n",
            "tensor([[-4.9320],\n",
            "        [26.9558]])\n",
            "tensor([-35.6523])\n",
            "tensor([[-16.2931],\n",
            "        [ 50.9247]])\n",
            "tensor([-22.5393])\n",
            "tensor([[12.7912],\n",
            "        [22.6498]])\n",
            "tensor([-23.9758])\n",
            "tensor([[-22.2549],\n",
            "        [ 22.7108]])\n",
            "tensor([-37.6279])\n",
            "tensor([[-10.3567],\n",
            "        [ 16.7053]])\n",
            "tensor([-19.5761])\n",
            "tensor([[-10.8767],\n",
            "        [ 10.3019]])\n",
            "tensor([-22.7649])\n",
            "tensor([[ 2.2925],\n",
            "        [39.9512]])\n",
            "tensor([-15.6719])\n",
            "tensor([[-6.6634],\n",
            "        [44.6804]])\n",
            "tensor([-20.3923])\n",
            "tensor([[-9.2416],\n",
            "        [31.6637]])\n",
            "tensor([-30.1287])\n",
            "tensor([[-5.9924],\n",
            "        [10.1653]])\n",
            "tensor([-21.9998])\n",
            "tensor([[-20.5918],\n",
            "        [ 29.2476]])\n",
            "tensor([-16.5614])\n",
            "tensor([[0.9034],\n",
            "        [6.0019]])\n",
            "tensor([-12.7780])\n",
            "tensor([[-6.7338],\n",
            "        [32.2636]])\n",
            "tensor([-16.3795])\n",
            "tensor([[-11.9075],\n",
            "        [ 12.4228]])\n",
            "tensor([-12.2760])\n",
            "tensor([[-0.4539],\n",
            "        [13.5879]])\n",
            "tensor([-17.0170])\n",
            "tensor([[-24.0664],\n",
            "        [ 17.8179]])\n",
            "tensor([-23.6604])\n",
            "tensor([[-1.7348],\n",
            "        [16.7733]])\n",
            "tensor([-15.2642])\n",
            "tensor([[-9.3332],\n",
            "        [14.0797]])\n",
            "tensor([-18.6876])\n",
            "tensor([[-16.0029],\n",
            "        [  5.1044]])\n",
            "tensor([-17.8102])\n",
            "tensor([[-6.9195],\n",
            "        [10.0855]])\n",
            "tensor([-13.0024])\n",
            "tensor([[-4.7367],\n",
            "        [22.3055]])\n",
            "tensor([-21.2600])\n",
            "tensor([[-24.7708],\n",
            "        [ 23.1092]])\n",
            "tensor([-21.1739])\n",
            "tensor([[-0.6211],\n",
            "        [20.6645]])\n",
            "tensor([-17.3347])\n",
            "tensor([[-5.6523],\n",
            "        [ 9.3771]])\n",
            "tensor([-14.3220])\n",
            "tensor([[-10.0723],\n",
            "        [ 12.8553]])\n",
            "tensor([-17.3583])\n",
            "tensor([[-10.2925],\n",
            "        [  7.1522]])\n",
            "tensor([-10.5497])\n",
            "tensor([[-9.3255],\n",
            "        [ 8.9684]])\n",
            "tensor([-11.5202])\n",
            "tensor([[-0.9807],\n",
            "        [ 1.5703]])\n",
            "tensor([-9.7036])\n",
            "tensor([[-0.9260],\n",
            "        [10.6845]])\n",
            "tensor([-15.7700])\n",
            "tensor([[1.2599],\n",
            "        [8.7263]])\n",
            "tensor([-9.2311])\n",
            "tensor([[-1.4435],\n",
            "        [ 1.2262]])\n",
            "tensor([-8.1342])\n",
            "tensor([[-8.7224],\n",
            "        [ 5.7048]])\n",
            "tensor([-7.2383])\n",
            "tensor([[-2.8114],\n",
            "        [ 2.8825]])\n",
            "tensor([-8.5524])\n",
            "tensor([[-7.2438],\n",
            "        [ 1.7588]])\n",
            "tensor([-9.6274])\n",
            "tensor([[-11.6073],\n",
            "        [ 11.4445]])\n",
            "tensor([-9.8870])\n",
            "tensor([[-0.5387],\n",
            "        [ 1.0644]])\n",
            "tensor([-8.4086])\n",
            "tensor([[-0.2291],\n",
            "        [ 6.6060]])\n",
            "tensor([-6.2040])\n",
            "tensor([[-2.3956],\n",
            "        [ 3.0303]])\n",
            "tensor([-11.1337])\n",
            "tensor([[ 1.4060],\n",
            "        [-0.1999]])\n",
            "tensor([-5.8737])\n",
            "tensor([[-3.3489],\n",
            "        [ 8.3450]])\n",
            "tensor([-10.2102])\n",
            "tensor([[-2.5471],\n",
            "        [ 4.3012]])\n",
            "tensor([-7.8529])\n",
            "tensor([[-1.4372],\n",
            "        [ 3.9707]])\n",
            "tensor([-7.8810])\n",
            "tensor([[-9.4580],\n",
            "        [ 3.7923]])\n",
            "tensor([-7.9891])\n",
            "tensor([[-5.5853],\n",
            "        [ 6.8812]])\n",
            "tensor([-6.5889])\n",
            "tensor([[-5.5593],\n",
            "        [ 7.3324]])\n",
            "tensor([-9.6210])\n",
            "tensor([[-11.1777],\n",
            "        [  3.3218]])\n",
            "tensor([-8.2062])\n",
            "tensor([[-4.8701],\n",
            "        [-0.0057]])\n",
            "tensor([-5.9397])\n",
            "tensor([[-2.5899],\n",
            "        [ 0.7778]])\n",
            "tensor([-6.1687])\n",
            "tensor([[-10.5525],\n",
            "        [  7.2636]])\n",
            "tensor([-8.7103])\n",
            "tensor([[2.9326],\n",
            "        [5.2462]])\n",
            "tensor([-6.9051])\n",
            "tensor([[-3.1644],\n",
            "        [ 0.2502]])\n",
            "tensor([-5.4452])\n",
            "tensor([[-1.4005],\n",
            "        [ 1.4291]])\n",
            "tensor([-5.2249])\n",
            "tensor([[0.2356],\n",
            "        [6.4193]])\n",
            "tensor([-6.7472])\n",
            "tensor([[-0.1830],\n",
            "        [ 1.1472]])\n",
            "tensor([-4.4018])\n",
            "tensor([[-10.1725],\n",
            "        [  1.5076]])\n",
            "tensor([-5.7312])\n",
            "tensor([[2.2560],\n",
            "        [3.8820]])\n",
            "tensor([-5.8575])\n",
            "tensor([[-0.1553],\n",
            "        [ 5.6788]])\n",
            "tensor([-5.3027])\n",
            "tensor([[-5.2028],\n",
            "        [ 2.0881]])\n",
            "tensor([-6.3504])\n",
            "tensor([[-0.3678],\n",
            "        [ 5.9970]])\n",
            "tensor([-6.5965])\n",
            "tensor([[-3.8375],\n",
            "        [ 4.4337]])\n",
            "tensor([-4.5275])\n",
            "tensor([[-0.4399],\n",
            "        [ 0.5085]])\n",
            "tensor([-3.6859])\n",
            "tensor([[-2.0435],\n",
            "        [-0.4449]])\n",
            "tensor([-4.3677])\n",
            "tensor([[-1.2263],\n",
            "        [ 4.4163]])\n",
            "tensor([-3.8502])\n",
            "tensor([[0.5735],\n",
            "        [4.7738]])\n",
            "tensor([-5.1446])\n",
            "tensor([[-1.5111],\n",
            "        [ 3.1035]])\n",
            "tensor([-5.5812])\n",
            "tensor([[ 0.0769],\n",
            "        [-0.4638]])\n",
            "tensor([-2.3075])\n",
            "tensor([[-2.5425],\n",
            "        [ 5.0861]])\n",
            "tensor([-2.6159])\n",
            "tensor([[0.0876],\n",
            "        [0.9533]])\n",
            "tensor([-4.0115])\n",
            "tensor([[-0.6913],\n",
            "        [ 0.8782]])\n",
            "tensor([-1.1512])\n",
            "tensor([[-1.1707],\n",
            "        [ 1.2666]])\n",
            "tensor([-3.5179])\n",
            "tensor([[-3.0507],\n",
            "        [ 2.5917]])\n",
            "tensor([-3.9063])\n",
            "tensor([[-3.6238],\n",
            "        [ 4.4080]])\n",
            "tensor([-3.1247])\n",
            "tensor([[-0.6343],\n",
            "        [-0.0563]])\n",
            "tensor([-3.3793])\n",
            "tensor([[-3.6178],\n",
            "        [ 2.4890]])\n",
            "tensor([-4.0357])\n",
            "tensor([[-0.5614],\n",
            "        [ 3.0598]])\n",
            "tensor([-2.9016])\n",
            "tensor([[-0.6640],\n",
            "        [ 4.4149]])\n",
            "tensor([-3.7997])\n",
            "tensor([[-0.7893],\n",
            "        [ 3.5705]])\n",
            "tensor([-4.4170])\n",
            "tensor([[-0.1190],\n",
            "        [ 3.6536]])\n",
            "tensor([-2.9748])\n",
            "tensor([[-0.9078],\n",
            "        [ 2.3668]])\n",
            "tensor([-2.8819])\n",
            "tensor([[-1.6545],\n",
            "        [ 1.0968]])\n",
            "tensor([-3.5492])\n",
            "tensor([[0.4427],\n",
            "        [2.6710]])\n",
            "tensor([-2.6386])\n",
            "tensor([[-0.0723],\n",
            "        [ 1.4521]])\n",
            "tensor([-2.7131])\n",
            "tensor([[-2.4627],\n",
            "        [ 1.2222]])\n",
            "tensor([-3.5678])\n",
            "tensor([[-0.5524],\n",
            "        [ 1.8735]])\n",
            "tensor([-2.5455])\n",
            "tensor([[0.8361],\n",
            "        [1.1177]])\n",
            "tensor([-1.9820])\n",
            "tensor([[-0.6990],\n",
            "        [ 1.3967]])\n",
            "tensor([-2.4763])\n",
            "tensor([[-0.0464],\n",
            "        [-0.1684]])\n",
            "tensor([-1.7541])\n",
            "tensor([[-0.4469],\n",
            "        [-0.1941]])\n",
            "tensor([-2.1765])\n",
            "tensor([[-2.2483],\n",
            "        [ 0.3720]])\n",
            "tensor([-2.2579])\n",
            "epoch1,loss0.037629\n",
            "tensor([[-1.2379],\n",
            "        [ 1.2440]])\n",
            "tensor([-2.5038])\n",
            "tensor([[-1.2828],\n",
            "        [ 1.0260]])\n",
            "tensor([-0.7843])\n",
            "tensor([[-1.3650],\n",
            "        [ 1.4272]])\n",
            "tensor([-2.4501])\n",
            "tensor([[0.6054],\n",
            "        [0.9611]])\n",
            "tensor([-1.2118])\n",
            "tensor([[-0.4014],\n",
            "        [ 0.2566]])\n",
            "tensor([-1.5672])\n",
            "tensor([[-0.5152],\n",
            "        [ 0.3522]])\n",
            "tensor([-1.4834])\n",
            "tensor([[-0.5095],\n",
            "        [ 1.7017]])\n",
            "tensor([-1.8207])\n",
            "tensor([[-1.4597],\n",
            "        [ 0.0774]])\n",
            "tensor([-1.8304])\n",
            "tensor([[-1.9098],\n",
            "        [ 1.6516]])\n",
            "tensor([-1.8793])\n",
            "tensor([[-1.2965],\n",
            "        [ 1.1649]])\n",
            "tensor([-1.3265])\n",
            "tensor([[-0.5492],\n",
            "        [-0.1331]])\n",
            "tensor([-1.5869])\n",
            "tensor([[-0.3764],\n",
            "        [ 0.5900]])\n",
            "tensor([-1.4793])\n",
            "tensor([[-0.3728],\n",
            "        [ 1.1924]])\n",
            "tensor([-1.9218])\n",
            "tensor([[-0.3018],\n",
            "        [ 3.6127]])\n",
            "tensor([-1.4966])\n",
            "tensor([[ 0.0385],\n",
            "        [-0.1868]])\n",
            "tensor([-1.0736])\n",
            "tensor([[-0.9231],\n",
            "        [ 0.7213]])\n",
            "tensor([-1.9157])\n",
            "tensor([[-0.2186],\n",
            "        [ 0.5422]])\n",
            "tensor([-1.3169])\n",
            "tensor([[-0.3898],\n",
            "        [ 0.2177]])\n",
            "tensor([-1.1549])\n",
            "tensor([[0.0488],\n",
            "        [0.1701]])\n",
            "tensor([-1.0994])\n",
            "tensor([[-0.8989],\n",
            "        [ 0.7872]])\n",
            "tensor([-1.1993])\n",
            "tensor([[-1.0652],\n",
            "        [ 0.6114]])\n",
            "tensor([-0.8225])\n",
            "tensor([[-1.2876],\n",
            "        [ 1.2241]])\n",
            "tensor([-1.7540])\n",
            "tensor([[-0.4597],\n",
            "        [ 1.3758]])\n",
            "tensor([-1.3722])\n",
            "tensor([[-0.2291],\n",
            "        [ 0.9684]])\n",
            "tensor([-1.2438])\n",
            "tensor([[-0.2876],\n",
            "        [ 0.5611]])\n",
            "tensor([-0.8767])\n",
            "tensor([[-0.4812],\n",
            "        [ 0.6337]])\n",
            "tensor([-0.4911])\n",
            "tensor([[-1.0724],\n",
            "        [ 0.4654]])\n",
            "tensor([-0.6517])\n",
            "tensor([[0.1412],\n",
            "        [0.5867]])\n",
            "tensor([-0.8965])\n",
            "tensor([[-0.6242],\n",
            "        [ 0.0584]])\n",
            "tensor([-1.1294])\n",
            "tensor([[-0.2188],\n",
            "        [ 0.4092]])\n",
            "tensor([-0.5127])\n",
            "tensor([[-0.3932],\n",
            "        [-0.0136]])\n",
            "tensor([-1.0092])\n",
            "tensor([[-0.1155],\n",
            "        [ 0.1084]])\n",
            "tensor([-0.3859])\n",
            "tensor([[-0.2491],\n",
            "        [ 0.1381]])\n",
            "tensor([-0.3936])\n",
            "tensor([[-0.4771],\n",
            "        [ 1.1251]])\n",
            "tensor([-1.0891])\n",
            "tensor([[-0.9474],\n",
            "        [ 0.9144]])\n",
            "tensor([-1.0460])\n",
            "tensor([[-1.0913],\n",
            "        [ 0.4687]])\n",
            "tensor([-0.9329])\n",
            "tensor([[-0.3627],\n",
            "        [ 0.2091]])\n",
            "tensor([-0.6920])\n",
            "tensor([[-0.4574],\n",
            "        [ 0.5771]])\n",
            "tensor([-0.9317])\n",
            "tensor([[-0.4332],\n",
            "        [ 0.1378]])\n",
            "tensor([-0.6869])\n",
            "tensor([[-0.6022],\n",
            "        [ 0.5452]])\n",
            "tensor([-0.6474])\n",
            "tensor([[0.0190],\n",
            "        [0.3214]])\n",
            "tensor([-0.5868])\n",
            "tensor([[-0.2549],\n",
            "        [ 0.2637]])\n",
            "tensor([-0.6023])\n",
            "tensor([[-0.3049],\n",
            "        [ 0.1622]])\n",
            "tensor([-0.1861])\n",
            "tensor([[-0.6275],\n",
            "        [ 0.3284]])\n",
            "tensor([-0.5292])\n",
            "tensor([[-0.7102],\n",
            "        [-0.1432]])\n",
            "tensor([-0.7444])\n",
            "tensor([[-1.5382],\n",
            "        [ 0.8083]])\n",
            "tensor([-1.1094])\n",
            "tensor([[-0.5218],\n",
            "        [ 0.2098]])\n",
            "tensor([-0.8318])\n",
            "tensor([[-0.6095],\n",
            "        [ 0.8618]])\n",
            "tensor([-0.9019])\n",
            "tensor([[-0.1257],\n",
            "        [ 0.3702]])\n",
            "tensor([-0.5866])\n",
            "tensor([[-0.3621],\n",
            "        [ 0.1593]])\n",
            "tensor([-0.4367])\n",
            "tensor([[-0.4548],\n",
            "        [ 0.4718]])\n",
            "tensor([-0.3974])\n",
            "tensor([[-0.3522],\n",
            "        [ 0.5049]])\n",
            "tensor([-0.6928])\n",
            "tensor([[-0.1283],\n",
            "        [ 0.1474]])\n",
            "tensor([-0.2367])\n",
            "tensor([[-0.5972],\n",
            "        [ 0.0109]])\n",
            "tensor([-0.5770])\n",
            "tensor([[-0.2667],\n",
            "        [ 0.1061]])\n",
            "tensor([-0.4646])\n",
            "tensor([[-0.4742],\n",
            "        [ 0.2599]])\n",
            "tensor([-0.5394])\n",
            "tensor([[0.0618],\n",
            "        [0.3113]])\n",
            "tensor([-0.2878])\n",
            "tensor([[0.0317],\n",
            "        [0.2131]])\n",
            "tensor([-0.3932])\n",
            "tensor([[-0.1996],\n",
            "        [ 0.3328]])\n",
            "tensor([-0.4842])\n",
            "tensor([[-0.0439],\n",
            "        [ 0.0238]])\n",
            "tensor([-0.1781])\n",
            "tensor([[-0.2817],\n",
            "        [ 0.2765]])\n",
            "tensor([-0.5472])\n",
            "tensor([[-0.6537],\n",
            "        [ 0.4668]])\n",
            "tensor([-0.5651])\n",
            "tensor([[-0.0503],\n",
            "        [-0.0873]])\n",
            "tensor([-0.2286])\n",
            "tensor([[-0.3914],\n",
            "        [ 0.1140]])\n",
            "tensor([-0.0643])\n",
            "tensor([[-0.0834],\n",
            "        [ 0.0186]])\n",
            "tensor([-0.3018])\n",
            "tensor([[-0.2379],\n",
            "        [ 0.1418]])\n",
            "tensor([-0.3733])\n",
            "tensor([[-0.0842],\n",
            "        [ 0.1669]])\n",
            "tensor([-0.2794])\n",
            "tensor([[-0.1793],\n",
            "        [ 0.5345]])\n",
            "tensor([-0.3797])\n",
            "tensor([[-0.1563],\n",
            "        [ 0.0501]])\n",
            "tensor([-0.1929])\n",
            "tensor([[-0.1633],\n",
            "        [ 0.1544]])\n",
            "tensor([-0.3176])\n",
            "tensor([[-0.2239],\n",
            "        [ 0.1513]])\n",
            "tensor([-0.3453])\n",
            "tensor([[-0.8148],\n",
            "        [-0.1692]])\n",
            "tensor([-0.3777])\n",
            "tensor([[-0.2068],\n",
            "        [ 0.1930]])\n",
            "tensor([-0.1878])\n",
            "tensor([[-0.0972],\n",
            "        [ 0.2676]])\n",
            "tensor([-0.3148])\n",
            "tensor([[-0.0855],\n",
            "        [ 0.0806]])\n",
            "tensor([-0.2535])\n",
            "tensor([[-0.4387],\n",
            "        [-0.1156]])\n",
            "tensor([-0.3836])\n",
            "tensor([[-0.0976],\n",
            "        [ 0.0028]])\n",
            "tensor([-0.2573])\n",
            "tensor([[-0.1064],\n",
            "        [-0.0197]])\n",
            "tensor([-0.1169])\n",
            "tensor([[-0.1139],\n",
            "        [ 0.1701]])\n",
            "tensor([-0.2947])\n",
            "tensor([[-0.2506],\n",
            "        [ 0.1158]])\n",
            "tensor([-0.2264])\n",
            "tensor([[-0.0829],\n",
            "        [ 0.0620]])\n",
            "tensor([-0.2727])\n",
            "tensor([[-0.0826],\n",
            "        [-0.0292]])\n",
            "tensor([-0.2176])\n",
            "tensor([[-0.2717],\n",
            "        [ 0.0948]])\n",
            "tensor([-0.3175])\n",
            "tensor([[-0.0774],\n",
            "        [ 0.1064]])\n",
            "tensor([-0.1625])\n",
            "tensor([[-0.3134],\n",
            "        [ 0.1224]])\n",
            "tensor([-0.2799])\n",
            "tensor([[-0.1952],\n",
            "        [ 0.1247]])\n",
            "tensor([-0.2358])\n",
            "tensor([[-0.0829],\n",
            "        [ 0.0240]])\n",
            "tensor([-0.1920])\n",
            "tensor([[-0.1689],\n",
            "        [-0.0019]])\n",
            "tensor([-0.1651])\n",
            "tensor([[-0.1250],\n",
            "        [ 0.0535]])\n",
            "tensor([-0.1781])\n",
            "tensor([[-0.3225],\n",
            "        [ 0.0692]])\n",
            "tensor([-0.2133])\n",
            "tensor([[-0.0570],\n",
            "        [ 0.1759]])\n",
            "tensor([-0.0981])\n",
            "tensor([[-0.1319],\n",
            "        [ 0.0741]])\n",
            "tensor([-0.1972])\n",
            "tensor([[-0.0480],\n",
            "        [ 0.0555]])\n",
            "tensor([-0.1261])\n",
            "tensor([[-0.1095],\n",
            "        [ 0.0764]])\n",
            "tensor([-0.1875])\n",
            "tensor([[-0.1615],\n",
            "        [ 0.0095]])\n",
            "tensor([-0.1794])\n",
            "tensor([[-0.1314],\n",
            "        [ 0.0077]])\n",
            "tensor([-0.0788])\n",
            "tensor([[-0.0107],\n",
            "        [-0.0158]])\n",
            "tensor([-0.0958])\n",
            "tensor([[-0.0329],\n",
            "        [-0.0970]])\n",
            "tensor([-0.0890])\n",
            "tensor([[-0.1066],\n",
            "        [ 0.0125]])\n",
            "tensor([-0.1382])\n",
            "tensor([[-0.0903],\n",
            "        [-0.0250]])\n",
            "tensor([-0.1147])\n",
            "epoch2,loss0.000149\n",
            "tensor([[-0.0470],\n",
            "        [ 0.0020]])\n",
            "tensor([-0.0823])\n",
            "tensor([[-0.0823],\n",
            "        [ 0.0723]])\n",
            "tensor([-0.0544])\n",
            "tensor([[-0.0269],\n",
            "        [-0.0222]])\n",
            "tensor([-0.1198])\n",
            "tensor([[-0.0977],\n",
            "        [ 0.1620]])\n",
            "tensor([-0.1706])\n",
            "tensor([[-0.0255],\n",
            "        [ 0.0994]])\n",
            "tensor([-0.1197])\n",
            "tensor([[-0.0492],\n",
            "        [ 0.0200]])\n",
            "tensor([-0.0267])\n",
            "tensor([[-0.1178],\n",
            "        [-0.0056]])\n",
            "tensor([-0.0908])\n",
            "tensor([[-0.0889],\n",
            "        [ 0.0961]])\n",
            "tensor([-0.1793])\n",
            "tensor([[-0.0298],\n",
            "        [ 0.0626]])\n",
            "tensor([-0.0980])\n",
            "tensor([[-0.0694],\n",
            "        [-0.0309]])\n",
            "tensor([-0.1116])\n",
            "tensor([[-0.0406],\n",
            "        [ 0.0373]])\n",
            "tensor([-0.0958])\n",
            "tensor([[0.0227],\n",
            "        [0.0372]])\n",
            "tensor([-0.0945])\n",
            "tensor([[-0.0364],\n",
            "        [-0.0068]])\n",
            "tensor([-0.1206])\n",
            "tensor([[-0.0278],\n",
            "        [-0.0231]])\n",
            "tensor([-0.0486])\n",
            "tensor([[-0.0577],\n",
            "        [ 0.0036]])\n",
            "tensor([-0.0976])\n",
            "tensor([[-0.0991],\n",
            "        [ 0.0543]])\n",
            "tensor([-0.0601])\n",
            "tensor([[-0.0685],\n",
            "        [ 0.0142]])\n",
            "tensor([-0.0401])\n",
            "tensor([[-0.0081],\n",
            "        [ 0.0546]])\n",
            "tensor([-0.1027])\n",
            "tensor([[-0.0110],\n",
            "        [-0.0130]])\n",
            "tensor([-0.0940])\n",
            "tensor([[-0.0439],\n",
            "        [-0.0155]])\n",
            "tensor([-0.0364])\n",
            "tensor([[-0.0975],\n",
            "        [ 0.0298]])\n",
            "tensor([-0.0470])\n",
            "tensor([[-0.0550],\n",
            "        [-0.0508]])\n",
            "tensor([-0.0828])\n",
            "tensor([[-0.0862],\n",
            "        [ 0.0027]])\n",
            "tensor([-0.0248])\n",
            "tensor([[-0.1370],\n",
            "        [ 0.0176]])\n",
            "tensor([-0.0455])\n",
            "tensor([[-0.0030],\n",
            "        [ 0.0160]])\n",
            "tensor([-0.0391])\n",
            "tensor([[-0.0362],\n",
            "        [ 0.0253]])\n",
            "tensor([-0.0355])\n",
            "tensor([[-0.0094],\n",
            "        [ 0.0467]])\n",
            "tensor([-0.0454])\n",
            "tensor([[0.0027],\n",
            "        [0.0672]])\n",
            "tensor([-0.0813])\n",
            "tensor([[-0.0137],\n",
            "        [ 0.0361]])\n",
            "tensor([-0.0449])\n",
            "tensor([[-0.0427],\n",
            "        [ 0.0621]])\n",
            "tensor([0.0066])\n",
            "tensor([[-0.0195],\n",
            "        [ 0.0372]])\n",
            "tensor([-0.0706])\n",
            "tensor([[-0.0111],\n",
            "        [-0.0216]])\n",
            "tensor([-0.0095])\n",
            "tensor([[ 0.0337],\n",
            "        [-0.0070]])\n",
            "tensor([-0.0418])\n",
            "tensor([[-0.0322],\n",
            "        [ 0.0968]])\n",
            "tensor([-0.0744])\n",
            "tensor([[0.0086],\n",
            "        [0.0765]])\n",
            "tensor([-0.0250])\n",
            "tensor([[0.0446],\n",
            "        [0.0293]])\n",
            "tensor([-0.0015])\n",
            "tensor([[-0.0333],\n",
            "        [-0.0602]])\n",
            "tensor([-0.0551])\n",
            "tensor([[0.0017],\n",
            "        [0.0416]])\n",
            "tensor([-0.0164])\n",
            "tensor([[-0.0374],\n",
            "        [-0.0196]])\n",
            "tensor([0.0311])\n",
            "tensor([[ 0.0253],\n",
            "        [-0.0161]])\n",
            "tensor([-0.0392])\n",
            "tensor([[ 0.0085],\n",
            "        [-0.0295]])\n",
            "tensor([-0.0771])\n",
            "tensor([[0.0428],\n",
            "        [0.0015]])\n",
            "tensor([-0.1109])\n",
            "tensor([[-0.0516],\n",
            "        [-0.0139]])\n",
            "tensor([-0.0187])\n",
            "tensor([[-0.0704],\n",
            "        [-0.0256]])\n",
            "tensor([-0.0523])\n",
            "tensor([[0.0335],\n",
            "        [0.0121]])\n",
            "tensor([-0.0608])\n",
            "tensor([[ 0.0076],\n",
            "        [-0.0259]])\n",
            "tensor([0.0398])\n",
            "tensor([[-0.0445],\n",
            "        [ 0.0197]])\n",
            "tensor([-0.0653])\n",
            "tensor([[-0.1080],\n",
            "        [ 0.0149]])\n",
            "tensor([-0.0702])\n",
            "tensor([[0.0114],\n",
            "        [0.0437]])\n",
            "tensor([0.0090])\n",
            "tensor([[-0.0444],\n",
            "        [ 0.0011]])\n",
            "tensor([-0.0258])\n",
            "tensor([[0.0364],\n",
            "        [0.0196]])\n",
            "tensor([-0.0355])\n",
            "tensor([[-0.0143],\n",
            "        [-0.0334]])\n",
            "tensor([-0.0290])\n",
            "tensor([[0.0064],\n",
            "        [0.0510]])\n",
            "tensor([0.0198])\n",
            "tensor([[-0.0594],\n",
            "        [-0.0483]])\n",
            "tensor([-0.0506])\n",
            "tensor([[-0.1293],\n",
            "        [-0.0338]])\n",
            "tensor([-0.0695])\n",
            "tensor([[0.0003],\n",
            "        [0.0413]])\n",
            "tensor([-0.0346])\n",
            "tensor([[-0.0445],\n",
            "        [ 0.0660]])\n",
            "tensor([-0.0127])\n",
            "tensor([[-0.0810],\n",
            "        [-0.0137]])\n",
            "tensor([0.0083])\n",
            "tensor([[-0.0680],\n",
            "        [ 0.0009]])\n",
            "tensor([-0.0448])\n",
            "tensor([[0.0342],\n",
            "        [0.0650]])\n",
            "tensor([-0.0696])\n",
            "tensor([[-0.0326],\n",
            "        [-0.0961]])\n",
            "tensor([-0.0301])\n",
            "tensor([[-0.0019],\n",
            "        [-0.0046]])\n",
            "tensor([0.0303])\n",
            "tensor([[-0.0067],\n",
            "        [ 0.0180]])\n",
            "tensor([0.0130])\n",
            "tensor([[-0.0065],\n",
            "        [-0.0042]])\n",
            "tensor([0.0129])\n",
            "tensor([[-0.0422],\n",
            "        [ 0.0166]])\n",
            "tensor([-0.0310])\n",
            "tensor([[-0.0196],\n",
            "        [ 0.0155]])\n",
            "tensor([0.0186])\n",
            "tensor([[0.0189],\n",
            "        [0.0204]])\n",
            "tensor([0.0112])\n",
            "tensor([[ 0.0094],\n",
            "        [-0.0349]])\n",
            "tensor([-0.0067])\n",
            "tensor([[0.0204],\n",
            "        [0.0735]])\n",
            "tensor([-0.0497])\n",
            "tensor([[-0.1047],\n",
            "        [-0.0013]])\n",
            "tensor([-0.0492])\n",
            "tensor([[ 0.0162],\n",
            "        [-0.0319]])\n",
            "tensor([0.0309])\n",
            "tensor([[-0.0560],\n",
            "        [ 0.0107]])\n",
            "tensor([0.0281])\n",
            "tensor([[-0.0058],\n",
            "        [ 0.0138]])\n",
            "tensor([0.0322])\n",
            "tensor([[ 0.0227],\n",
            "        [-0.0195]])\n",
            "tensor([0.0157])\n",
            "tensor([[-0.0179],\n",
            "        [-0.0137]])\n",
            "tensor([-0.0546])\n",
            "tensor([[0.0017],\n",
            "        [0.0943]])\n",
            "tensor([0.0134])\n",
            "tensor([[0.0040],\n",
            "        [0.0522]])\n",
            "tensor([-0.0306])\n",
            "tensor([[-0.0303],\n",
            "        [-0.0326]])\n",
            "tensor([-0.0226])\n",
            "tensor([[0.0650],\n",
            "        [0.0068]])\n",
            "tensor([0.0251])\n",
            "tensor([[0.0024],\n",
            "        [0.0117]])\n",
            "tensor([-0.0112])\n",
            "tensor([[-0.0020],\n",
            "        [-0.0059]])\n",
            "tensor([-0.0097])\n",
            "tensor([[0.0453],\n",
            "        [0.0075]])\n",
            "tensor([-0.0365])\n",
            "tensor([[-0.0128],\n",
            "        [ 0.0141]])\n",
            "tensor([-0.0032])\n",
            "tensor([[ 0.0123],\n",
            "        [-0.0089]])\n",
            "tensor([-0.0195])\n",
            "tensor([[-0.0654],\n",
            "        [ 0.0219]])\n",
            "tensor([-0.0513])\n",
            "tensor([[-0.0248],\n",
            "        [-0.0335]])\n",
            "tensor([-0.0719])\n",
            "tensor([[0.0898],\n",
            "        [0.0198]])\n",
            "tensor([0.0007])\n",
            "tensor([[-0.0058],\n",
            "        [ 0.0649]])\n",
            "tensor([-0.0345])\n",
            "tensor([[ 0.0356],\n",
            "        [-0.0383]])\n",
            "tensor([-0.0777])\n",
            "tensor([[ 0.0158],\n",
            "        [-0.0519]])\n",
            "tensor([0.0452])\n",
            "tensor([[-0.0087],\n",
            "        [ 0.0066]])\n",
            "tensor([0.0149])\n",
            "tensor([[0.0153],\n",
            "        [0.0112]])\n",
            "tensor([-0.0222])\n",
            "tensor([[-0.0341],\n",
            "        [ 0.0197]])\n",
            "tensor([-0.0124])\n",
            "tensor([[-0.0419],\n",
            "        [ 0.0173]])\n",
            "tensor([0.0066])\n",
            "tensor([[ 0.0406],\n",
            "        [-0.0330]])\n",
            "tensor([-0.0294])\n",
            "tensor([[0.0072],\n",
            "        [0.0426]])\n",
            "tensor([0.0139])\n",
            "tensor([[-0.0403],\n",
            "        [-0.0005]])\n",
            "tensor([-0.0366])\n",
            "tensor([[-0.0005],\n",
            "        [ 0.0272]])\n",
            "tensor([-0.0352])\n",
            "tensor([[ 0.0216],\n",
            "        [-0.0029]])\n",
            "tensor([-0.0066])\n",
            "tensor([[0.0372],\n",
            "        [0.0250]])\n",
            "tensor([-0.0343])\n",
            "epoch3,loss0.000049\n"
          ],
          "name": "stdout"
        }
      ]
    },
    {
      "cell_type": "code",
      "metadata": {
        "colab": {
          "base_uri": "https://localhost:8080/"
        },
        "id": "6BG_k4Hm0vbB",
        "outputId": "34c20bbb-faca-4d39-b976-96dd4bc0d448"
      },
      "source": [
        "\n",
        "print(true_w,true_b)\n",
        "print(w)\n",
        "print(b)"
      ],
      "execution_count": 22,
      "outputs": [
        {
          "output_type": "stream",
          "text": [
            "tensor([ 2.0000, -3.4000]) 4.2\n",
            "tensor([[ 1.9987],\n",
            "        [-3.4001]], requires_grad=True)\n",
            "tensor([4.1992], requires_grad=True)\n"
          ],
          "name": "stdout"
        }
      ]
    },
    {
      "cell_type": "code",
      "metadata": {
        "colab": {
          "base_uri": "https://localhost:8080/"
        },
        "id": "bjcfgAJusu9S",
        "outputId": "3cdf0086-5b5b-4f4f-c81a-8108a3721e29"
      },
      "source": [
        "print(f'error in estimating w: {true_w-w.reshape(true_w.shape)}')\n",
        "print(f'error in estimating b:{true_b - b}')"
      ],
      "execution_count": 23,
      "outputs": [
        {
          "output_type": "stream",
          "text": [
            "error in estimating w: tensor([1.3154e-03, 5.2452e-05], grad_fn=<SubBackward0>)\n",
            "error in estimating b:tensor([0.0008], grad_fn=<RsubBackward1>)\n"
          ],
          "name": "stdout"
        }
      ]
    },
    {
      "cell_type": "markdown",
      "metadata": {
        "id": "3yEZIXMuJZS3"
      },
      "source": [
        "실제로 epoch가 진행 할 수록 loss값이 줄어든것을 확인 할 수있으며 편미분의 backward를 sum을 통해하는 이유는 scalar값이기 때문입니다. 결국 아무리 많은 변수가 있어도 그변수를 제외하고 나머지는 0의 값을 가지므로 sum 한후 편미분을 진행해도 아무문제가 없기 때문입니다. 그럼 sgd 조절되어야하는 w,b가 매개변수로 들어갈것이고 이미 backward에의해 기울기를 알 수 있으며 param.grad를 이용해 경사하강법을 진행하게 됩니다. 실제로 param을찍어보면 값이 계속 true_w와 true_b에 가까워지는 것을 알 수있으며 \n",
        "이는 train이 잘되고 있음을 알 수 있습니다."
      ]
    },
    {
      "cell_type": "markdown",
      "metadata": {
        "id": "Q52Ajv8g1ta7"
      },
      "source": [
        "# 3.3Concise Implementation of Linear Regression"
      ]
    },
    {
      "cell_type": "markdown",
      "metadata": {
        "id": "UGH8LZXO2VjM"
      },
      "source": [
        "## 3.3.1 Generating the Dataset"
      ]
    },
    {
      "cell_type": "code",
      "metadata": {
        "id": "1CsP8glksatF",
        "colab": {
          "base_uri": "https://localhost:8080/"
        },
        "outputId": "3dccbec6-8f87-4036-e75d-fa8ab57a9bcb"
      },
      "source": [
        "import numpy as np\n",
        "import torch\n",
        "from torch.utils import data\n",
        "from d2l import torch as d2l\n",
        "\n",
        "true_w = torch.tensor([2,-3.4])\n",
        "true_b = 4.2\n",
        "features,labels = d2l.synthetic_data(true_w,true_b,1000)\n",
        "print(features.shape)\n",
        "print(labels.shape)"
      ],
      "execution_count": 24,
      "outputs": [
        {
          "output_type": "stream",
          "text": [
            "torch.Size([1000, 2])\n",
            "torch.Size([1000, 1])\n"
          ],
          "name": "stdout"
        }
      ]
    },
    {
      "cell_type": "markdown",
      "metadata": {
        "id": "q2wr1_YCTnUl"
      },
      "source": [
        "위의 3.2 과정에서 synthetic_data를 직접 구현했지만 \n",
        "d2l의 모듈을 사용해 만든것을 확인 할 수 있다."
      ]
    },
    {
      "cell_type": "markdown",
      "metadata": {
        "id": "RfC765xyCpKc"
      },
      "source": [
        "## 3.3.2 Reading the Dataset"
      ]
    },
    {
      "cell_type": "code",
      "metadata": {
        "id": "ptmKetFB1sof"
      },
      "source": [
        "def load_array(data_arrays,batch_size,is_train = True): #@save\n",
        "    dataset = data.TensorDataset(*data_arrays)\n",
        "    return data.DataLoader(dataset,batch_size,shuffle=is_train)\n",
        "\n",
        "batch_size = 10\n",
        "data_iter = load_array((features,labels),batch_size)"
      ],
      "execution_count": 25,
      "outputs": []
    },
    {
      "cell_type": "code",
      "metadata": {
        "colab": {
          "base_uri": "https://localhost:8080/"
        },
        "id": "lppKx66d8z-Y",
        "outputId": "bee6506c-d951-4a68-c945-9dae0928110a"
      },
      "source": [
        "next(iter(data_iter))"
      ],
      "execution_count": 26,
      "outputs": [
        {
          "output_type": "execute_result",
          "data": {
            "text/plain": [
              "[tensor([[-0.8366, -0.8587],\n",
              "         [ 0.3090, -0.2521],\n",
              "         [ 1.3764, -0.2413],\n",
              "         [ 0.7262, -1.7107],\n",
              "         [-0.8508,  0.1230],\n",
              "         [-0.2965, -0.9590],\n",
              "         [-0.4867, -0.7246],\n",
              "         [-0.0362, -0.4798],\n",
              "         [-0.2546, -0.5012],\n",
              "         [-0.8365,  0.8089]]), tensor([[ 5.4527],\n",
              "         [ 5.6660],\n",
              "         [ 7.7762],\n",
              "         [11.4719],\n",
              "         [ 2.0901],\n",
              "         [ 6.8662],\n",
              "         [ 5.6801],\n",
              "         [ 5.7720],\n",
              "         [ 5.3922],\n",
              "         [-0.2212]])]"
            ]
          },
          "metadata": {
            "tags": []
          },
          "execution_count": 26
        }
      ]
    },
    {
      "cell_type": "markdown",
      "metadata": {
        "id": "CVT0s1hzCvEi"
      },
      "source": [
        "##3.3.3 Defining the Model"
      ]
    },
    {
      "cell_type": "code",
      "metadata": {
        "id": "hCMiptt81sqG"
      },
      "source": [
        "from torch import nn\n",
        "\n",
        "net = nn.Sequential(nn.Linear(2,1))"
      ],
      "execution_count": 27,
      "outputs": []
    },
    {
      "cell_type": "code",
      "metadata": {
        "id": "rxcO_Miq1ss5",
        "colab": {
          "base_uri": "https://localhost:8080/"
        },
        "outputId": "18597743-40ae-4769-c6fc-582eb20fe10a"
      },
      "source": [
        "print(net)\n",
        "print(net[0].weight.data)\n",
        "print(net[0].bias.data)"
      ],
      "execution_count": 28,
      "outputs": [
        {
          "output_type": "stream",
          "text": [
            "Sequential(\n",
            "  (0): Linear(in_features=2, out_features=1, bias=True)\n",
            ")\n",
            "tensor([[-0.6928,  0.4992]])\n",
            "tensor([-0.5473])\n"
          ],
          "name": "stdout"
        }
      ]
    },
    {
      "cell_type": "markdown",
      "metadata": {
        "id": "2MMdNr6QDW0D"
      },
      "source": [
        "## 3.3.4 Initializing Model Parameters"
      ]
    },
    {
      "cell_type": "code",
      "metadata": {
        "id": "wi7B6oE-1suc",
        "colab": {
          "base_uri": "https://localhost:8080/"
        },
        "outputId": "2328358a-0b91-4326-ebb3-87cd5488b32d"
      },
      "source": [
        "print(net[0].weight.data.normal_(0,0.01))\n",
        "net[0].bias.data.fill_(0)"
      ],
      "execution_count": 29,
      "outputs": [
        {
          "output_type": "stream",
          "text": [
            "tensor([[0.0111, 0.0008]])\n"
          ],
          "name": "stdout"
        },
        {
          "output_type": "execute_result",
          "data": {
            "text/plain": [
              "tensor([0.])"
            ]
          },
          "metadata": {
            "tags": []
          },
          "execution_count": 29
        }
      ]
    },
    {
      "cell_type": "markdown",
      "metadata": {
        "id": "5fWqqCpZDydC"
      },
      "source": [
        "## 3.3.5 Defining the Loss Function"
      ]
    },
    {
      "cell_type": "code",
      "metadata": {
        "id": "R-vg7OSC1syq"
      },
      "source": [
        "loss = nn.MSELoss()"
      ],
      "execution_count": 30,
      "outputs": []
    },
    {
      "cell_type": "markdown",
      "metadata": {
        "id": "InaBrXllD8-P"
      },
      "source": [
        "## 3.3.6 Defining the Optimization Alogrithm"
      ]
    },
    {
      "cell_type": "code",
      "metadata": {
        "id": "gB5xeI0Z1s0S",
        "colab": {
          "base_uri": "https://localhost:8080/"
        },
        "outputId": "d727d3f3-f497-4e9e-dc38-eaa97042035d"
      },
      "source": [
        "print(net.parameters)"
      ],
      "execution_count": 31,
      "outputs": [
        {
          "output_type": "stream",
          "text": [
            "<bound method Module.parameters of Sequential(\n",
            "  (0): Linear(in_features=2, out_features=1, bias=True)\n",
            ")>\n"
          ],
          "name": "stdout"
        }
      ]
    },
    {
      "cell_type": "code",
      "metadata": {
        "id": "Oy_Or4ra1s2z"
      },
      "source": [
        "trainer = torch.optim.SGD(net.parameters(),lr=0.03)"
      ],
      "execution_count": 32,
      "outputs": []
    },
    {
      "cell_type": "markdown",
      "metadata": {
        "id": "X0-dzqelEl3J"
      },
      "source": [
        "## 3.3.7  Training"
      ]
    },
    {
      "cell_type": "code",
      "metadata": {
        "id": "G6eUArSU1s41",
        "colab": {
          "base_uri": "https://localhost:8080/"
        },
        "outputId": "c11d781e-7e01-45e0-d93f-aea7dd48e66d"
      },
      "source": [
        "num_epochs = 7\n",
        "for epoch in range(num_epochs):\n",
        "    for X,y in data_iter:\n",
        "        l = loss(net(X),y)\n",
        "        print(l)\n",
        "        trainer.zero_grad()\n",
        "        l.backward()\n",
        "        trainer.step()\n",
        "    l = loss(net(features),labels)\n",
        "    print(f'epoch{epoch + 1},loss{l:f}')"
      ],
      "execution_count": 33,
      "outputs": [
        {
          "output_type": "stream",
          "text": [
            "tensor(38.6158, grad_fn=<MseLossBackward>)\n",
            "tensor(32.6379, grad_fn=<MseLossBackward>)\n",
            "tensor(13.6129, grad_fn=<MseLossBackward>)\n",
            "tensor(24.5741, grad_fn=<MseLossBackward>)\n",
            "tensor(35.9326, grad_fn=<MseLossBackward>)\n",
            "tensor(9.9617, grad_fn=<MseLossBackward>)\n",
            "tensor(8.4773, grad_fn=<MseLossBackward>)\n",
            "tensor(8.8669, grad_fn=<MseLossBackward>)\n",
            "tensor(12.2965, grad_fn=<MseLossBackward>)\n",
            "tensor(5.5610, grad_fn=<MseLossBackward>)\n",
            "tensor(12.0220, grad_fn=<MseLossBackward>)\n",
            "tensor(9.1215, grad_fn=<MseLossBackward>)\n",
            "tensor(6.5858, grad_fn=<MseLossBackward>)\n",
            "tensor(8.9973, grad_fn=<MseLossBackward>)\n",
            "tensor(11.1883, grad_fn=<MseLossBackward>)\n",
            "tensor(8.1099, grad_fn=<MseLossBackward>)\n",
            "tensor(1.5024, grad_fn=<MseLossBackward>)\n",
            "tensor(5.8757, grad_fn=<MseLossBackward>)\n",
            "tensor(5.6456, grad_fn=<MseLossBackward>)\n",
            "tensor(4.3405, grad_fn=<MseLossBackward>)\n",
            "tensor(2.0093, grad_fn=<MseLossBackward>)\n",
            "tensor(1.8926, grad_fn=<MseLossBackward>)\n",
            "tensor(2.1273, grad_fn=<MseLossBackward>)\n",
            "tensor(1.0640, grad_fn=<MseLossBackward>)\n",
            "tensor(1.9913, grad_fn=<MseLossBackward>)\n",
            "tensor(1.7545, grad_fn=<MseLossBackward>)\n",
            "tensor(1.4021, grad_fn=<MseLossBackward>)\n",
            "tensor(1.1680, grad_fn=<MseLossBackward>)\n",
            "tensor(0.9320, grad_fn=<MseLossBackward>)\n",
            "tensor(1.4616, grad_fn=<MseLossBackward>)\n",
            "tensor(1.4925, grad_fn=<MseLossBackward>)\n",
            "tensor(0.5686, grad_fn=<MseLossBackward>)\n",
            "tensor(0.6426, grad_fn=<MseLossBackward>)\n",
            "tensor(0.5001, grad_fn=<MseLossBackward>)\n",
            "tensor(0.3456, grad_fn=<MseLossBackward>)\n",
            "tensor(0.5504, grad_fn=<MseLossBackward>)\n",
            "tensor(0.6843, grad_fn=<MseLossBackward>)\n",
            "tensor(0.6044, grad_fn=<MseLossBackward>)\n",
            "tensor(0.2885, grad_fn=<MseLossBackward>)\n",
            "tensor(0.1372, grad_fn=<MseLossBackward>)\n",
            "tensor(0.3192, grad_fn=<MseLossBackward>)\n",
            "tensor(0.3689, grad_fn=<MseLossBackward>)\n",
            "tensor(0.2884, grad_fn=<MseLossBackward>)\n",
            "tensor(0.1167, grad_fn=<MseLossBackward>)\n",
            "tensor(0.1102, grad_fn=<MseLossBackward>)\n",
            "tensor(0.1060, grad_fn=<MseLossBackward>)\n",
            "tensor(0.0812, grad_fn=<MseLossBackward>)\n",
            "tensor(0.0757, grad_fn=<MseLossBackward>)\n",
            "tensor(0.0747, grad_fn=<MseLossBackward>)\n",
            "tensor(0.0751, grad_fn=<MseLossBackward>)\n",
            "tensor(0.0700, grad_fn=<MseLossBackward>)\n",
            "tensor(0.0232, grad_fn=<MseLossBackward>)\n",
            "tensor(0.0522, grad_fn=<MseLossBackward>)\n",
            "tensor(0.0441, grad_fn=<MseLossBackward>)\n",
            "tensor(0.0442, grad_fn=<MseLossBackward>)\n",
            "tensor(0.0158, grad_fn=<MseLossBackward>)\n",
            "tensor(0.0335, grad_fn=<MseLossBackward>)\n",
            "tensor(0.0285, grad_fn=<MseLossBackward>)\n",
            "tensor(0.0191, grad_fn=<MseLossBackward>)\n",
            "tensor(0.0230, grad_fn=<MseLossBackward>)\n",
            "tensor(0.0142, grad_fn=<MseLossBackward>)\n",
            "tensor(0.0094, grad_fn=<MseLossBackward>)\n",
            "tensor(0.0095, grad_fn=<MseLossBackward>)\n",
            "tensor(0.0143, grad_fn=<MseLossBackward>)\n",
            "tensor(0.0072, grad_fn=<MseLossBackward>)\n",
            "tensor(0.0055, grad_fn=<MseLossBackward>)\n",
            "tensor(0.0059, grad_fn=<MseLossBackward>)\n",
            "tensor(0.0066, grad_fn=<MseLossBackward>)\n",
            "tensor(0.0068, grad_fn=<MseLossBackward>)\n",
            "tensor(0.0052, grad_fn=<MseLossBackward>)\n",
            "tensor(0.0034, grad_fn=<MseLossBackward>)\n",
            "tensor(0.0041, grad_fn=<MseLossBackward>)\n",
            "tensor(0.0028, grad_fn=<MseLossBackward>)\n",
            "tensor(0.0020, grad_fn=<MseLossBackward>)\n",
            "tensor(0.0026, grad_fn=<MseLossBackward>)\n",
            "tensor(0.0024, grad_fn=<MseLossBackward>)\n",
            "tensor(0.0011, grad_fn=<MseLossBackward>)\n",
            "tensor(0.0018, grad_fn=<MseLossBackward>)\n",
            "tensor(0.0025, grad_fn=<MseLossBackward>)\n",
            "tensor(0.0010, grad_fn=<MseLossBackward>)\n",
            "tensor(0.0014, grad_fn=<MseLossBackward>)\n",
            "tensor(0.0008, grad_fn=<MseLossBackward>)\n",
            "tensor(0.0015, grad_fn=<MseLossBackward>)\n",
            "tensor(0.0004, grad_fn=<MseLossBackward>)\n",
            "tensor(0.0006, grad_fn=<MseLossBackward>)\n",
            "tensor(0.0006, grad_fn=<MseLossBackward>)\n",
            "tensor(0.0011, grad_fn=<MseLossBackward>)\n",
            "tensor(0.0001, grad_fn=<MseLossBackward>)\n",
            "tensor(0.0007, grad_fn=<MseLossBackward>)\n",
            "tensor(0.0002, grad_fn=<MseLossBackward>)\n",
            "tensor(0.0003, grad_fn=<MseLossBackward>)\n",
            "tensor(0.0003, grad_fn=<MseLossBackward>)\n",
            "tensor(0.0004, grad_fn=<MseLossBackward>)\n",
            "tensor(0.0002, grad_fn=<MseLossBackward>)\n",
            "tensor(0.0003, grad_fn=<MseLossBackward>)\n",
            "tensor(0.0002, grad_fn=<MseLossBackward>)\n",
            "tensor(9.6179e-05, grad_fn=<MseLossBackward>)\n",
            "tensor(7.9631e-05, grad_fn=<MseLossBackward>)\n",
            "tensor(0.0003, grad_fn=<MseLossBackward>)\n",
            "tensor(0.0001, grad_fn=<MseLossBackward>)\n",
            "epoch1,loss0.000199\n",
            "tensor(0.0002, grad_fn=<MseLossBackward>)\n",
            "tensor(0.0002, grad_fn=<MseLossBackward>)\n",
            "tensor(9.6716e-05, grad_fn=<MseLossBackward>)\n",
            "tensor(0.0001, grad_fn=<MseLossBackward>)\n",
            "tensor(0.0002, grad_fn=<MseLossBackward>)\n",
            "tensor(0.0001, grad_fn=<MseLossBackward>)\n",
            "tensor(0.0002, grad_fn=<MseLossBackward>)\n",
            "tensor(0.0001, grad_fn=<MseLossBackward>)\n",
            "tensor(0.0001, grad_fn=<MseLossBackward>)\n",
            "tensor(0.0002, grad_fn=<MseLossBackward>)\n",
            "tensor(0.0001, grad_fn=<MseLossBackward>)\n",
            "tensor(0.0002, grad_fn=<MseLossBackward>)\n",
            "tensor(0.0001, grad_fn=<MseLossBackward>)\n",
            "tensor(0.0001, grad_fn=<MseLossBackward>)\n",
            "tensor(0.0001, grad_fn=<MseLossBackward>)\n",
            "tensor(9.9381e-05, grad_fn=<MseLossBackward>)\n",
            "tensor(0.0001, grad_fn=<MseLossBackward>)\n",
            "tensor(0.0001, grad_fn=<MseLossBackward>)\n",
            "tensor(6.8203e-05, grad_fn=<MseLossBackward>)\n",
            "tensor(0.0001, grad_fn=<MseLossBackward>)\n",
            "tensor(4.8344e-05, grad_fn=<MseLossBackward>)\n",
            "tensor(0.0001, grad_fn=<MseLossBackward>)\n",
            "tensor(7.0435e-05, grad_fn=<MseLossBackward>)\n",
            "tensor(9.6436e-05, grad_fn=<MseLossBackward>)\n",
            "tensor(7.1265e-05, grad_fn=<MseLossBackward>)\n",
            "tensor(0.0001, grad_fn=<MseLossBackward>)\n",
            "tensor(4.2841e-05, grad_fn=<MseLossBackward>)\n",
            "tensor(9.2779e-05, grad_fn=<MseLossBackward>)\n",
            "tensor(7.8741e-05, grad_fn=<MseLossBackward>)\n",
            "tensor(6.6445e-05, grad_fn=<MseLossBackward>)\n",
            "tensor(6.3717e-05, grad_fn=<MseLossBackward>)\n",
            "tensor(0.0002, grad_fn=<MseLossBackward>)\n",
            "tensor(0.0001, grad_fn=<MseLossBackward>)\n",
            "tensor(7.9153e-05, grad_fn=<MseLossBackward>)\n",
            "tensor(6.8654e-05, grad_fn=<MseLossBackward>)\n",
            "tensor(0.0001, grad_fn=<MseLossBackward>)\n",
            "tensor(0.0001, grad_fn=<MseLossBackward>)\n",
            "tensor(5.6151e-05, grad_fn=<MseLossBackward>)\n",
            "tensor(6.1134e-05, grad_fn=<MseLossBackward>)\n",
            "tensor(5.0441e-05, grad_fn=<MseLossBackward>)\n",
            "tensor(0.0001, grad_fn=<MseLossBackward>)\n",
            "tensor(0.0001, grad_fn=<MseLossBackward>)\n",
            "tensor(0.0002, grad_fn=<MseLossBackward>)\n",
            "tensor(6.6252e-05, grad_fn=<MseLossBackward>)\n",
            "tensor(9.1339e-05, grad_fn=<MseLossBackward>)\n",
            "tensor(0.0001, grad_fn=<MseLossBackward>)\n",
            "tensor(8.0538e-05, grad_fn=<MseLossBackward>)\n",
            "tensor(9.3581e-05, grad_fn=<MseLossBackward>)\n",
            "tensor(6.8403e-05, grad_fn=<MseLossBackward>)\n",
            "tensor(0.0001, grad_fn=<MseLossBackward>)\n",
            "tensor(7.1623e-05, grad_fn=<MseLossBackward>)\n",
            "tensor(0.0001, grad_fn=<MseLossBackward>)\n",
            "tensor(6.5264e-05, grad_fn=<MseLossBackward>)\n",
            "tensor(3.6825e-05, grad_fn=<MseLossBackward>)\n",
            "tensor(8.4204e-05, grad_fn=<MseLossBackward>)\n",
            "tensor(0.0001, grad_fn=<MseLossBackward>)\n",
            "tensor(7.6300e-05, grad_fn=<MseLossBackward>)\n",
            "tensor(0.0001, grad_fn=<MseLossBackward>)\n",
            "tensor(9.9270e-05, grad_fn=<MseLossBackward>)\n",
            "tensor(0.0001, grad_fn=<MseLossBackward>)\n",
            "tensor(0.0001, grad_fn=<MseLossBackward>)\n",
            "tensor(0.0002, grad_fn=<MseLossBackward>)\n",
            "tensor(6.4276e-05, grad_fn=<MseLossBackward>)\n",
            "tensor(0.0001, grad_fn=<MseLossBackward>)\n",
            "tensor(4.1656e-05, grad_fn=<MseLossBackward>)\n",
            "tensor(5.3497e-05, grad_fn=<MseLossBackward>)\n",
            "tensor(9.9348e-05, grad_fn=<MseLossBackward>)\n",
            "tensor(4.0458e-05, grad_fn=<MseLossBackward>)\n",
            "tensor(0.0001, grad_fn=<MseLossBackward>)\n",
            "tensor(8.2231e-05, grad_fn=<MseLossBackward>)\n",
            "tensor(2.6620e-05, grad_fn=<MseLossBackward>)\n",
            "tensor(0.0001, grad_fn=<MseLossBackward>)\n",
            "tensor(7.7191e-05, grad_fn=<MseLossBackward>)\n",
            "tensor(6.5348e-05, grad_fn=<MseLossBackward>)\n",
            "tensor(2.4272e-05, grad_fn=<MseLossBackward>)\n",
            "tensor(5.1782e-05, grad_fn=<MseLossBackward>)\n",
            "tensor(4.1820e-05, grad_fn=<MseLossBackward>)\n",
            "tensor(4.7212e-05, grad_fn=<MseLossBackward>)\n",
            "tensor(0.0002, grad_fn=<MseLossBackward>)\n",
            "tensor(4.8473e-05, grad_fn=<MseLossBackward>)\n",
            "tensor(0.0001, grad_fn=<MseLossBackward>)\n",
            "tensor(6.0771e-05, grad_fn=<MseLossBackward>)\n",
            "tensor(7.5648e-05, grad_fn=<MseLossBackward>)\n",
            "tensor(0.0002, grad_fn=<MseLossBackward>)\n",
            "tensor(8.7870e-05, grad_fn=<MseLossBackward>)\n",
            "tensor(0.0001, grad_fn=<MseLossBackward>)\n",
            "tensor(6.2527e-05, grad_fn=<MseLossBackward>)\n",
            "tensor(0.0002, grad_fn=<MseLossBackward>)\n",
            "tensor(7.4171e-05, grad_fn=<MseLossBackward>)\n",
            "tensor(5.0439e-05, grad_fn=<MseLossBackward>)\n",
            "tensor(6.7631e-05, grad_fn=<MseLossBackward>)\n",
            "tensor(7.2656e-05, grad_fn=<MseLossBackward>)\n",
            "tensor(3.2518e-05, grad_fn=<MseLossBackward>)\n",
            "tensor(9.6471e-05, grad_fn=<MseLossBackward>)\n",
            "tensor(6.7844e-05, grad_fn=<MseLossBackward>)\n",
            "tensor(0.0001, grad_fn=<MseLossBackward>)\n",
            "tensor(6.7170e-05, grad_fn=<MseLossBackward>)\n",
            "tensor(5.6745e-05, grad_fn=<MseLossBackward>)\n",
            "tensor(0.0002, grad_fn=<MseLossBackward>)\n",
            "tensor(8.9706e-05, grad_fn=<MseLossBackward>)\n",
            "epoch2,loss0.000090\n",
            "tensor(0.0001, grad_fn=<MseLossBackward>)\n",
            "tensor(7.2601e-05, grad_fn=<MseLossBackward>)\n",
            "tensor(9.4505e-05, grad_fn=<MseLossBackward>)\n",
            "tensor(0.0001, grad_fn=<MseLossBackward>)\n",
            "tensor(0.0002, grad_fn=<MseLossBackward>)\n",
            "tensor(0.0001, grad_fn=<MseLossBackward>)\n",
            "tensor(6.4297e-05, grad_fn=<MseLossBackward>)\n",
            "tensor(8.7580e-05, grad_fn=<MseLossBackward>)\n",
            "tensor(8.7752e-05, grad_fn=<MseLossBackward>)\n",
            "tensor(6.2764e-05, grad_fn=<MseLossBackward>)\n",
            "tensor(6.6021e-05, grad_fn=<MseLossBackward>)\n",
            "tensor(0.0001, grad_fn=<MseLossBackward>)\n",
            "tensor(6.3920e-05, grad_fn=<MseLossBackward>)\n",
            "tensor(0.0001, grad_fn=<MseLossBackward>)\n",
            "tensor(0.0001, grad_fn=<MseLossBackward>)\n",
            "tensor(0.0001, grad_fn=<MseLossBackward>)\n",
            "tensor(0.0001, grad_fn=<MseLossBackward>)\n",
            "tensor(4.1304e-05, grad_fn=<MseLossBackward>)\n",
            "tensor(5.5469e-05, grad_fn=<MseLossBackward>)\n",
            "tensor(0.0001, grad_fn=<MseLossBackward>)\n",
            "tensor(9.6235e-05, grad_fn=<MseLossBackward>)\n",
            "tensor(0.0001, grad_fn=<MseLossBackward>)\n",
            "tensor(6.1594e-05, grad_fn=<MseLossBackward>)\n",
            "tensor(0.0001, grad_fn=<MseLossBackward>)\n",
            "tensor(2.9319e-05, grad_fn=<MseLossBackward>)\n",
            "tensor(0.0001, grad_fn=<MseLossBackward>)\n",
            "tensor(5.7359e-05, grad_fn=<MseLossBackward>)\n",
            "tensor(0.0002, grad_fn=<MseLossBackward>)\n",
            "tensor(6.6698e-05, grad_fn=<MseLossBackward>)\n",
            "tensor(0.0001, grad_fn=<MseLossBackward>)\n",
            "tensor(2.8027e-05, grad_fn=<MseLossBackward>)\n",
            "tensor(2.8614e-05, grad_fn=<MseLossBackward>)\n",
            "tensor(0.0002, grad_fn=<MseLossBackward>)\n",
            "tensor(0.0001, grad_fn=<MseLossBackward>)\n",
            "tensor(0.0001, grad_fn=<MseLossBackward>)\n",
            "tensor(3.8172e-05, grad_fn=<MseLossBackward>)\n",
            "tensor(0.0001, grad_fn=<MseLossBackward>)\n",
            "tensor(9.9988e-05, grad_fn=<MseLossBackward>)\n",
            "tensor(0.0002, grad_fn=<MseLossBackward>)\n",
            "tensor(0.0001, grad_fn=<MseLossBackward>)\n",
            "tensor(7.3440e-05, grad_fn=<MseLossBackward>)\n",
            "tensor(0.0001, grad_fn=<MseLossBackward>)\n",
            "tensor(8.8147e-05, grad_fn=<MseLossBackward>)\n",
            "tensor(0.0001, grad_fn=<MseLossBackward>)\n",
            "tensor(4.3284e-05, grad_fn=<MseLossBackward>)\n",
            "tensor(9.7325e-05, grad_fn=<MseLossBackward>)\n",
            "tensor(5.4851e-05, grad_fn=<MseLossBackward>)\n",
            "tensor(4.0115e-05, grad_fn=<MseLossBackward>)\n",
            "tensor(0.0001, grad_fn=<MseLossBackward>)\n",
            "tensor(9.4448e-05, grad_fn=<MseLossBackward>)\n",
            "tensor(7.9988e-05, grad_fn=<MseLossBackward>)\n",
            "tensor(4.4710e-05, grad_fn=<MseLossBackward>)\n",
            "tensor(5.6310e-05, grad_fn=<MseLossBackward>)\n",
            "tensor(6.6980e-05, grad_fn=<MseLossBackward>)\n",
            "tensor(3.9124e-05, grad_fn=<MseLossBackward>)\n",
            "tensor(0.0001, grad_fn=<MseLossBackward>)\n",
            "tensor(6.9006e-05, grad_fn=<MseLossBackward>)\n",
            "tensor(9.9969e-05, grad_fn=<MseLossBackward>)\n",
            "tensor(0.0001, grad_fn=<MseLossBackward>)\n",
            "tensor(8.2624e-05, grad_fn=<MseLossBackward>)\n",
            "tensor(0.0002, grad_fn=<MseLossBackward>)\n",
            "tensor(0.0001, grad_fn=<MseLossBackward>)\n",
            "tensor(6.6456e-05, grad_fn=<MseLossBackward>)\n",
            "tensor(0.0001, grad_fn=<MseLossBackward>)\n",
            "tensor(0.0002, grad_fn=<MseLossBackward>)\n",
            "tensor(0.0001, grad_fn=<MseLossBackward>)\n",
            "tensor(0.0001, grad_fn=<MseLossBackward>)\n",
            "tensor(8.8451e-05, grad_fn=<MseLossBackward>)\n",
            "tensor(0.0001, grad_fn=<MseLossBackward>)\n",
            "tensor(0.0001, grad_fn=<MseLossBackward>)\n",
            "tensor(3.0964e-05, grad_fn=<MseLossBackward>)\n",
            "tensor(5.2595e-05, grad_fn=<MseLossBackward>)\n",
            "tensor(8.6034e-05, grad_fn=<MseLossBackward>)\n",
            "tensor(7.6761e-05, grad_fn=<MseLossBackward>)\n",
            "tensor(8.6849e-05, grad_fn=<MseLossBackward>)\n",
            "tensor(8.3882e-05, grad_fn=<MseLossBackward>)\n",
            "tensor(4.5433e-05, grad_fn=<MseLossBackward>)\n",
            "tensor(8.8382e-05, grad_fn=<MseLossBackward>)\n",
            "tensor(3.8164e-05, grad_fn=<MseLossBackward>)\n",
            "tensor(7.0585e-05, grad_fn=<MseLossBackward>)\n",
            "tensor(9.9154e-05, grad_fn=<MseLossBackward>)\n",
            "tensor(5.2763e-05, grad_fn=<MseLossBackward>)\n",
            "tensor(4.6834e-05, grad_fn=<MseLossBackward>)\n",
            "tensor(7.6726e-05, grad_fn=<MseLossBackward>)\n",
            "tensor(8.5392e-05, grad_fn=<MseLossBackward>)\n",
            "tensor(7.9239e-05, grad_fn=<MseLossBackward>)\n",
            "tensor(0.0001, grad_fn=<MseLossBackward>)\n",
            "tensor(3.0658e-05, grad_fn=<MseLossBackward>)\n",
            "tensor(0.0001, grad_fn=<MseLossBackward>)\n",
            "tensor(8.2474e-05, grad_fn=<MseLossBackward>)\n",
            "tensor(6.0334e-05, grad_fn=<MseLossBackward>)\n",
            "tensor(0.0001, grad_fn=<MseLossBackward>)\n",
            "tensor(9.2226e-05, grad_fn=<MseLossBackward>)\n",
            "tensor(1.9660e-05, grad_fn=<MseLossBackward>)\n",
            "tensor(5.9477e-05, grad_fn=<MseLossBackward>)\n",
            "tensor(0.0002, grad_fn=<MseLossBackward>)\n",
            "tensor(6.5348e-05, grad_fn=<MseLossBackward>)\n",
            "tensor(9.1823e-05, grad_fn=<MseLossBackward>)\n",
            "tensor(3.1803e-05, grad_fn=<MseLossBackward>)\n",
            "tensor(0.0001, grad_fn=<MseLossBackward>)\n",
            "epoch3,loss0.000090\n",
            "tensor(0.0001, grad_fn=<MseLossBackward>)\n",
            "tensor(0.0001, grad_fn=<MseLossBackward>)\n",
            "tensor(3.7768e-05, grad_fn=<MseLossBackward>)\n",
            "tensor(6.0857e-05, grad_fn=<MseLossBackward>)\n",
            "tensor(0.0001, grad_fn=<MseLossBackward>)\n",
            "tensor(8.9634e-05, grad_fn=<MseLossBackward>)\n",
            "tensor(0.0001, grad_fn=<MseLossBackward>)\n",
            "tensor(0.0001, grad_fn=<MseLossBackward>)\n",
            "tensor(0.0001, grad_fn=<MseLossBackward>)\n",
            "tensor(8.5999e-05, grad_fn=<MseLossBackward>)\n",
            "tensor(0.0001, grad_fn=<MseLossBackward>)\n",
            "tensor(8.4477e-05, grad_fn=<MseLossBackward>)\n",
            "tensor(6.2399e-05, grad_fn=<MseLossBackward>)\n",
            "tensor(5.4471e-05, grad_fn=<MseLossBackward>)\n",
            "tensor(0.0001, grad_fn=<MseLossBackward>)\n",
            "tensor(3.3197e-05, grad_fn=<MseLossBackward>)\n",
            "tensor(6.7112e-05, grad_fn=<MseLossBackward>)\n",
            "tensor(3.6871e-05, grad_fn=<MseLossBackward>)\n",
            "tensor(6.6821e-05, grad_fn=<MseLossBackward>)\n",
            "tensor(0.0001, grad_fn=<MseLossBackward>)\n",
            "tensor(0.0001, grad_fn=<MseLossBackward>)\n",
            "tensor(5.9437e-05, grad_fn=<MseLossBackward>)\n",
            "tensor(9.1363e-05, grad_fn=<MseLossBackward>)\n",
            "tensor(0.0002, grad_fn=<MseLossBackward>)\n",
            "tensor(7.7802e-05, grad_fn=<MseLossBackward>)\n",
            "tensor(3.8965e-05, grad_fn=<MseLossBackward>)\n",
            "tensor(0.0001, grad_fn=<MseLossBackward>)\n",
            "tensor(8.5435e-05, grad_fn=<MseLossBackward>)\n",
            "tensor(4.5720e-05, grad_fn=<MseLossBackward>)\n",
            "tensor(0.0001, grad_fn=<MseLossBackward>)\n",
            "tensor(0.0001, grad_fn=<MseLossBackward>)\n",
            "tensor(5.0081e-05, grad_fn=<MseLossBackward>)\n",
            "tensor(6.7259e-05, grad_fn=<MseLossBackward>)\n",
            "tensor(6.0334e-05, grad_fn=<MseLossBackward>)\n",
            "tensor(9.4166e-05, grad_fn=<MseLossBackward>)\n",
            "tensor(8.3819e-05, grad_fn=<MseLossBackward>)\n",
            "tensor(0.0001, grad_fn=<MseLossBackward>)\n",
            "tensor(5.9701e-05, grad_fn=<MseLossBackward>)\n",
            "tensor(5.8121e-05, grad_fn=<MseLossBackward>)\n",
            "tensor(7.3716e-05, grad_fn=<MseLossBackward>)\n",
            "tensor(8.5859e-05, grad_fn=<MseLossBackward>)\n",
            "tensor(4.2658e-05, grad_fn=<MseLossBackward>)\n",
            "tensor(7.7258e-05, grad_fn=<MseLossBackward>)\n",
            "tensor(9.1230e-05, grad_fn=<MseLossBackward>)\n",
            "tensor(0.0001, grad_fn=<MseLossBackward>)\n",
            "tensor(1.2334e-05, grad_fn=<MseLossBackward>)\n",
            "tensor(0.0001, grad_fn=<MseLossBackward>)\n",
            "tensor(0.0001, grad_fn=<MseLossBackward>)\n",
            "tensor(5.3949e-05, grad_fn=<MseLossBackward>)\n",
            "tensor(8.2402e-05, grad_fn=<MseLossBackward>)\n",
            "tensor(7.7416e-05, grad_fn=<MseLossBackward>)\n",
            "tensor(0.0001, grad_fn=<MseLossBackward>)\n",
            "tensor(3.8639e-05, grad_fn=<MseLossBackward>)\n",
            "tensor(0.0001, grad_fn=<MseLossBackward>)\n",
            "tensor(4.5610e-05, grad_fn=<MseLossBackward>)\n",
            "tensor(0.0002, grad_fn=<MseLossBackward>)\n",
            "tensor(6.7523e-05, grad_fn=<MseLossBackward>)\n",
            "tensor(0.0001, grad_fn=<MseLossBackward>)\n",
            "tensor(7.4021e-05, grad_fn=<MseLossBackward>)\n",
            "tensor(7.2464e-05, grad_fn=<MseLossBackward>)\n",
            "tensor(9.0770e-05, grad_fn=<MseLossBackward>)\n",
            "tensor(0.0001, grad_fn=<MseLossBackward>)\n",
            "tensor(0.0001, grad_fn=<MseLossBackward>)\n",
            "tensor(7.4642e-05, grad_fn=<MseLossBackward>)\n",
            "tensor(0.0001, grad_fn=<MseLossBackward>)\n",
            "tensor(0.0001, grad_fn=<MseLossBackward>)\n",
            "tensor(7.1760e-05, grad_fn=<MseLossBackward>)\n",
            "tensor(8.5110e-05, grad_fn=<MseLossBackward>)\n",
            "tensor(7.1772e-05, grad_fn=<MseLossBackward>)\n",
            "tensor(0.0002, grad_fn=<MseLossBackward>)\n",
            "tensor(6.9024e-05, grad_fn=<MseLossBackward>)\n",
            "tensor(8.2035e-05, grad_fn=<MseLossBackward>)\n",
            "tensor(5.2930e-05, grad_fn=<MseLossBackward>)\n",
            "tensor(0.0001, grad_fn=<MseLossBackward>)\n",
            "tensor(5.0148e-05, grad_fn=<MseLossBackward>)\n",
            "tensor(0.0002, grad_fn=<MseLossBackward>)\n",
            "tensor(3.1009e-05, grad_fn=<MseLossBackward>)\n",
            "tensor(0.0001, grad_fn=<MseLossBackward>)\n",
            "tensor(4.7325e-05, grad_fn=<MseLossBackward>)\n",
            "tensor(0.0001, grad_fn=<MseLossBackward>)\n",
            "tensor(9.1223e-05, grad_fn=<MseLossBackward>)\n",
            "tensor(0.0001, grad_fn=<MseLossBackward>)\n",
            "tensor(6.0858e-05, grad_fn=<MseLossBackward>)\n",
            "tensor(7.1941e-05, grad_fn=<MseLossBackward>)\n",
            "tensor(4.6734e-05, grad_fn=<MseLossBackward>)\n",
            "tensor(0.0001, grad_fn=<MseLossBackward>)\n",
            "tensor(4.7377e-05, grad_fn=<MseLossBackward>)\n",
            "tensor(6.6899e-05, grad_fn=<MseLossBackward>)\n",
            "tensor(0.0003, grad_fn=<MseLossBackward>)\n",
            "tensor(5.9745e-05, grad_fn=<MseLossBackward>)\n",
            "tensor(6.8236e-05, grad_fn=<MseLossBackward>)\n",
            "tensor(4.8047e-05, grad_fn=<MseLossBackward>)\n",
            "tensor(7.8819e-05, grad_fn=<MseLossBackward>)\n",
            "tensor(0.0001, grad_fn=<MseLossBackward>)\n",
            "tensor(0.0002, grad_fn=<MseLossBackward>)\n",
            "tensor(8.6109e-05, grad_fn=<MseLossBackward>)\n",
            "tensor(2.4391e-05, grad_fn=<MseLossBackward>)\n",
            "tensor(4.7669e-05, grad_fn=<MseLossBackward>)\n",
            "tensor(8.6936e-05, grad_fn=<MseLossBackward>)\n",
            "tensor(9.9318e-05, grad_fn=<MseLossBackward>)\n",
            "epoch4,loss0.000090\n",
            "tensor(4.6835e-05, grad_fn=<MseLossBackward>)\n",
            "tensor(0.0002, grad_fn=<MseLossBackward>)\n",
            "tensor(9.3897e-05, grad_fn=<MseLossBackward>)\n",
            "tensor(5.1089e-05, grad_fn=<MseLossBackward>)\n",
            "tensor(7.0967e-05, grad_fn=<MseLossBackward>)\n",
            "tensor(9.2088e-05, grad_fn=<MseLossBackward>)\n",
            "tensor(7.9444e-05, grad_fn=<MseLossBackward>)\n",
            "tensor(6.2645e-05, grad_fn=<MseLossBackward>)\n",
            "tensor(0.0001, grad_fn=<MseLossBackward>)\n",
            "tensor(0.0001, grad_fn=<MseLossBackward>)\n",
            "tensor(7.7827e-05, grad_fn=<MseLossBackward>)\n",
            "tensor(7.7018e-05, grad_fn=<MseLossBackward>)\n",
            "tensor(0.0001, grad_fn=<MseLossBackward>)\n",
            "tensor(3.6613e-05, grad_fn=<MseLossBackward>)\n",
            "tensor(6.4561e-05, grad_fn=<MseLossBackward>)\n",
            "tensor(0.0001, grad_fn=<MseLossBackward>)\n",
            "tensor(0.0001, grad_fn=<MseLossBackward>)\n",
            "tensor(9.4597e-05, grad_fn=<MseLossBackward>)\n",
            "tensor(0.0001, grad_fn=<MseLossBackward>)\n",
            "tensor(0.0001, grad_fn=<MseLossBackward>)\n",
            "tensor(8.2824e-05, grad_fn=<MseLossBackward>)\n",
            "tensor(9.5392e-05, grad_fn=<MseLossBackward>)\n",
            "tensor(8.6960e-05, grad_fn=<MseLossBackward>)\n",
            "tensor(0.0001, grad_fn=<MseLossBackward>)\n",
            "tensor(4.6021e-05, grad_fn=<MseLossBackward>)\n",
            "tensor(6.8489e-05, grad_fn=<MseLossBackward>)\n",
            "tensor(7.2738e-05, grad_fn=<MseLossBackward>)\n",
            "tensor(7.6110e-05, grad_fn=<MseLossBackward>)\n",
            "tensor(0.0001, grad_fn=<MseLossBackward>)\n",
            "tensor(0.0001, grad_fn=<MseLossBackward>)\n",
            "tensor(0.0002, grad_fn=<MseLossBackward>)\n",
            "tensor(0.0001, grad_fn=<MseLossBackward>)\n",
            "tensor(7.8595e-05, grad_fn=<MseLossBackward>)\n",
            "tensor(3.9456e-05, grad_fn=<MseLossBackward>)\n",
            "tensor(0.0001, grad_fn=<MseLossBackward>)\n",
            "tensor(4.0298e-05, grad_fn=<MseLossBackward>)\n",
            "tensor(7.1620e-05, grad_fn=<MseLossBackward>)\n",
            "tensor(4.1064e-05, grad_fn=<MseLossBackward>)\n",
            "tensor(8.4147e-05, grad_fn=<MseLossBackward>)\n",
            "tensor(0.0002, grad_fn=<MseLossBackward>)\n",
            "tensor(7.3497e-05, grad_fn=<MseLossBackward>)\n",
            "tensor(2.9895e-05, grad_fn=<MseLossBackward>)\n",
            "tensor(6.6406e-05, grad_fn=<MseLossBackward>)\n",
            "tensor(5.5644e-05, grad_fn=<MseLossBackward>)\n",
            "tensor(5.8688e-05, grad_fn=<MseLossBackward>)\n",
            "tensor(0.0001, grad_fn=<MseLossBackward>)\n",
            "tensor(0.0001, grad_fn=<MseLossBackward>)\n",
            "tensor(0.0001, grad_fn=<MseLossBackward>)\n",
            "tensor(6.8994e-05, grad_fn=<MseLossBackward>)\n",
            "tensor(0.0002, grad_fn=<MseLossBackward>)\n",
            "tensor(5.7078e-05, grad_fn=<MseLossBackward>)\n",
            "tensor(0.0001, grad_fn=<MseLossBackward>)\n",
            "tensor(7.0644e-05, grad_fn=<MseLossBackward>)\n",
            "tensor(6.2630e-05, grad_fn=<MseLossBackward>)\n",
            "tensor(7.6768e-05, grad_fn=<MseLossBackward>)\n",
            "tensor(0.0001, grad_fn=<MseLossBackward>)\n",
            "tensor(7.7119e-05, grad_fn=<MseLossBackward>)\n",
            "tensor(0.0001, grad_fn=<MseLossBackward>)\n",
            "tensor(4.0787e-05, grad_fn=<MseLossBackward>)\n",
            "tensor(3.2156e-05, grad_fn=<MseLossBackward>)\n",
            "tensor(0.0001, grad_fn=<MseLossBackward>)\n",
            "tensor(7.4642e-05, grad_fn=<MseLossBackward>)\n",
            "tensor(0.0001, grad_fn=<MseLossBackward>)\n",
            "tensor(0.0001, grad_fn=<MseLossBackward>)\n",
            "tensor(9.0045e-05, grad_fn=<MseLossBackward>)\n",
            "tensor(8.0183e-05, grad_fn=<MseLossBackward>)\n",
            "tensor(9.0393e-05, grad_fn=<MseLossBackward>)\n",
            "tensor(8.9381e-05, grad_fn=<MseLossBackward>)\n",
            "tensor(7.6381e-05, grad_fn=<MseLossBackward>)\n",
            "tensor(5.6298e-05, grad_fn=<MseLossBackward>)\n",
            "tensor(0.0001, grad_fn=<MseLossBackward>)\n",
            "tensor(8.6218e-05, grad_fn=<MseLossBackward>)\n",
            "tensor(9.1516e-05, grad_fn=<MseLossBackward>)\n",
            "tensor(1.6119e-05, grad_fn=<MseLossBackward>)\n",
            "tensor(7.0421e-05, grad_fn=<MseLossBackward>)\n",
            "tensor(5.8096e-05, grad_fn=<MseLossBackward>)\n",
            "tensor(6.7683e-05, grad_fn=<MseLossBackward>)\n",
            "tensor(5.3252e-05, grad_fn=<MseLossBackward>)\n",
            "tensor(0.0001, grad_fn=<MseLossBackward>)\n",
            "tensor(5.0786e-05, grad_fn=<MseLossBackward>)\n",
            "tensor(6.9976e-05, grad_fn=<MseLossBackward>)\n",
            "tensor(0.0001, grad_fn=<MseLossBackward>)\n",
            "tensor(8.5085e-05, grad_fn=<MseLossBackward>)\n",
            "tensor(8.8916e-05, grad_fn=<MseLossBackward>)\n",
            "tensor(0.0002, grad_fn=<MseLossBackward>)\n",
            "tensor(0.0001, grad_fn=<MseLossBackward>)\n",
            "tensor(4.8427e-05, grad_fn=<MseLossBackward>)\n",
            "tensor(6.2975e-05, grad_fn=<MseLossBackward>)\n",
            "tensor(5.8915e-05, grad_fn=<MseLossBackward>)\n",
            "tensor(0.0001, grad_fn=<MseLossBackward>)\n",
            "tensor(3.3546e-05, grad_fn=<MseLossBackward>)\n",
            "tensor(0.0002, grad_fn=<MseLossBackward>)\n",
            "tensor(7.9000e-05, grad_fn=<MseLossBackward>)\n",
            "tensor(7.4313e-05, grad_fn=<MseLossBackward>)\n",
            "tensor(8.2459e-05, grad_fn=<MseLossBackward>)\n",
            "tensor(9.4145e-05, grad_fn=<MseLossBackward>)\n",
            "tensor(0.0002, grad_fn=<MseLossBackward>)\n",
            "tensor(0.0001, grad_fn=<MseLossBackward>)\n",
            "tensor(9.7893e-05, grad_fn=<MseLossBackward>)\n",
            "tensor(0.0001, grad_fn=<MseLossBackward>)\n",
            "epoch5,loss0.000090\n",
            "tensor(0.0001, grad_fn=<MseLossBackward>)\n",
            "tensor(8.1520e-05, grad_fn=<MseLossBackward>)\n",
            "tensor(7.3212e-05, grad_fn=<MseLossBackward>)\n",
            "tensor(8.3060e-05, grad_fn=<MseLossBackward>)\n",
            "tensor(4.6270e-05, grad_fn=<MseLossBackward>)\n",
            "tensor(6.7260e-05, grad_fn=<MseLossBackward>)\n",
            "tensor(7.3914e-05, grad_fn=<MseLossBackward>)\n",
            "tensor(7.0869e-05, grad_fn=<MseLossBackward>)\n",
            "tensor(0.0001, grad_fn=<MseLossBackward>)\n",
            "tensor(2.0686e-05, grad_fn=<MseLossBackward>)\n",
            "tensor(0.0001, grad_fn=<MseLossBackward>)\n",
            "tensor(9.9681e-05, grad_fn=<MseLossBackward>)\n",
            "tensor(4.5439e-05, grad_fn=<MseLossBackward>)\n",
            "tensor(8.5246e-05, grad_fn=<MseLossBackward>)\n",
            "tensor(9.1788e-05, grad_fn=<MseLossBackward>)\n",
            "tensor(0.0002, grad_fn=<MseLossBackward>)\n",
            "tensor(7.5195e-05, grad_fn=<MseLossBackward>)\n",
            "tensor(7.5481e-05, grad_fn=<MseLossBackward>)\n",
            "tensor(4.0832e-05, grad_fn=<MseLossBackward>)\n",
            "tensor(0.0002, grad_fn=<MseLossBackward>)\n",
            "tensor(5.6122e-05, grad_fn=<MseLossBackward>)\n",
            "tensor(4.1990e-05, grad_fn=<MseLossBackward>)\n",
            "tensor(5.8750e-05, grad_fn=<MseLossBackward>)\n",
            "tensor(7.7960e-05, grad_fn=<MseLossBackward>)\n",
            "tensor(0.0001, grad_fn=<MseLossBackward>)\n",
            "tensor(1.7506e-05, grad_fn=<MseLossBackward>)\n",
            "tensor(7.0521e-05, grad_fn=<MseLossBackward>)\n",
            "tensor(3.4983e-05, grad_fn=<MseLossBackward>)\n",
            "tensor(0.0001, grad_fn=<MseLossBackward>)\n",
            "tensor(0.0001, grad_fn=<MseLossBackward>)\n",
            "tensor(6.8443e-05, grad_fn=<MseLossBackward>)\n",
            "tensor(5.6561e-05, grad_fn=<MseLossBackward>)\n",
            "tensor(0.0002, grad_fn=<MseLossBackward>)\n",
            "tensor(7.4192e-05, grad_fn=<MseLossBackward>)\n",
            "tensor(5.5013e-05, grad_fn=<MseLossBackward>)\n",
            "tensor(0.0001, grad_fn=<MseLossBackward>)\n",
            "tensor(0.0001, grad_fn=<MseLossBackward>)\n",
            "tensor(4.1311e-05, grad_fn=<MseLossBackward>)\n",
            "tensor(0.0002, grad_fn=<MseLossBackward>)\n",
            "tensor(0.0001, grad_fn=<MseLossBackward>)\n",
            "tensor(0.0002, grad_fn=<MseLossBackward>)\n",
            "tensor(0.0001, grad_fn=<MseLossBackward>)\n",
            "tensor(0.0001, grad_fn=<MseLossBackward>)\n",
            "tensor(0.0001, grad_fn=<MseLossBackward>)\n",
            "tensor(9.5858e-05, grad_fn=<MseLossBackward>)\n",
            "tensor(0.0001, grad_fn=<MseLossBackward>)\n",
            "tensor(0.0001, grad_fn=<MseLossBackward>)\n",
            "tensor(7.3670e-05, grad_fn=<MseLossBackward>)\n",
            "tensor(9.1047e-05, grad_fn=<MseLossBackward>)\n",
            "tensor(0.0001, grad_fn=<MseLossBackward>)\n",
            "tensor(7.1282e-05, grad_fn=<MseLossBackward>)\n",
            "tensor(0.0001, grad_fn=<MseLossBackward>)\n",
            "tensor(4.4407e-05, grad_fn=<MseLossBackward>)\n",
            "tensor(0.0002, grad_fn=<MseLossBackward>)\n",
            "tensor(0.0001, grad_fn=<MseLossBackward>)\n",
            "tensor(5.8412e-05, grad_fn=<MseLossBackward>)\n",
            "tensor(0.0002, grad_fn=<MseLossBackward>)\n",
            "tensor(0.0002, grad_fn=<MseLossBackward>)\n",
            "tensor(5.4947e-05, grad_fn=<MseLossBackward>)\n",
            "tensor(9.0686e-05, grad_fn=<MseLossBackward>)\n",
            "tensor(5.3300e-05, grad_fn=<MseLossBackward>)\n",
            "tensor(0.0002, grad_fn=<MseLossBackward>)\n",
            "tensor(9.8067e-05, grad_fn=<MseLossBackward>)\n",
            "tensor(8.0128e-05, grad_fn=<MseLossBackward>)\n",
            "tensor(0.0001, grad_fn=<MseLossBackward>)\n",
            "tensor(8.2754e-05, grad_fn=<MseLossBackward>)\n",
            "tensor(6.5571e-05, grad_fn=<MseLossBackward>)\n",
            "tensor(1.6565e-05, grad_fn=<MseLossBackward>)\n",
            "tensor(8.4020e-05, grad_fn=<MseLossBackward>)\n",
            "tensor(0.0001, grad_fn=<MseLossBackward>)\n",
            "tensor(0.0001, grad_fn=<MseLossBackward>)\n",
            "tensor(7.3538e-05, grad_fn=<MseLossBackward>)\n",
            "tensor(7.6043e-05, grad_fn=<MseLossBackward>)\n",
            "tensor(0.0001, grad_fn=<MseLossBackward>)\n",
            "tensor(5.6226e-05, grad_fn=<MseLossBackward>)\n",
            "tensor(9.8241e-05, grad_fn=<MseLossBackward>)\n",
            "tensor(0.0001, grad_fn=<MseLossBackward>)\n",
            "tensor(0.0001, grad_fn=<MseLossBackward>)\n",
            "tensor(0.0001, grad_fn=<MseLossBackward>)\n",
            "tensor(9.5075e-05, grad_fn=<MseLossBackward>)\n",
            "tensor(5.1692e-05, grad_fn=<MseLossBackward>)\n",
            "tensor(0.0001, grad_fn=<MseLossBackward>)\n",
            "tensor(0.0001, grad_fn=<MseLossBackward>)\n",
            "tensor(6.0559e-05, grad_fn=<MseLossBackward>)\n",
            "tensor(2.8257e-05, grad_fn=<MseLossBackward>)\n",
            "tensor(6.9088e-05, grad_fn=<MseLossBackward>)\n",
            "tensor(5.1143e-05, grad_fn=<MseLossBackward>)\n",
            "tensor(8.2803e-05, grad_fn=<MseLossBackward>)\n",
            "tensor(0.0001, grad_fn=<MseLossBackward>)\n",
            "tensor(9.6290e-05, grad_fn=<MseLossBackward>)\n",
            "tensor(0.0001, grad_fn=<MseLossBackward>)\n",
            "tensor(5.6062e-05, grad_fn=<MseLossBackward>)\n",
            "tensor(7.8954e-05, grad_fn=<MseLossBackward>)\n",
            "tensor(3.3713e-05, grad_fn=<MseLossBackward>)\n",
            "tensor(0.0001, grad_fn=<MseLossBackward>)\n",
            "tensor(9.2704e-05, grad_fn=<MseLossBackward>)\n",
            "tensor(9.5445e-05, grad_fn=<MseLossBackward>)\n",
            "tensor(5.5466e-05, grad_fn=<MseLossBackward>)\n",
            "tensor(9.4668e-05, grad_fn=<MseLossBackward>)\n",
            "tensor(4.0850e-05, grad_fn=<MseLossBackward>)\n",
            "epoch6,loss0.000090\n",
            "tensor(3.9058e-05, grad_fn=<MseLossBackward>)\n",
            "tensor(8.4463e-05, grad_fn=<MseLossBackward>)\n",
            "tensor(0.0001, grad_fn=<MseLossBackward>)\n",
            "tensor(7.2712e-05, grad_fn=<MseLossBackward>)\n",
            "tensor(6.6257e-05, grad_fn=<MseLossBackward>)\n",
            "tensor(0.0001, grad_fn=<MseLossBackward>)\n",
            "tensor(8.4777e-05, grad_fn=<MseLossBackward>)\n",
            "tensor(5.4689e-05, grad_fn=<MseLossBackward>)\n",
            "tensor(0.0001, grad_fn=<MseLossBackward>)\n",
            "tensor(9.3971e-05, grad_fn=<MseLossBackward>)\n",
            "tensor(5.9135e-05, grad_fn=<MseLossBackward>)\n",
            "tensor(5.2022e-05, grad_fn=<MseLossBackward>)\n",
            "tensor(2.1423e-05, grad_fn=<MseLossBackward>)\n",
            "tensor(4.5784e-05, grad_fn=<MseLossBackward>)\n",
            "tensor(0.0001, grad_fn=<MseLossBackward>)\n",
            "tensor(0.0002, grad_fn=<MseLossBackward>)\n",
            "tensor(0.0001, grad_fn=<MseLossBackward>)\n",
            "tensor(6.4808e-05, grad_fn=<MseLossBackward>)\n",
            "tensor(8.9950e-05, grad_fn=<MseLossBackward>)\n",
            "tensor(5.5777e-05, grad_fn=<MseLossBackward>)\n",
            "tensor(0.0001, grad_fn=<MseLossBackward>)\n",
            "tensor(0.0001, grad_fn=<MseLossBackward>)\n",
            "tensor(7.9764e-05, grad_fn=<MseLossBackward>)\n",
            "tensor(9.1105e-05, grad_fn=<MseLossBackward>)\n",
            "tensor(9.8911e-05, grad_fn=<MseLossBackward>)\n",
            "tensor(0.0001, grad_fn=<MseLossBackward>)\n",
            "tensor(3.3534e-05, grad_fn=<MseLossBackward>)\n",
            "tensor(5.1794e-05, grad_fn=<MseLossBackward>)\n",
            "tensor(6.0624e-05, grad_fn=<MseLossBackward>)\n",
            "tensor(9.0600e-05, grad_fn=<MseLossBackward>)\n",
            "tensor(8.1959e-05, grad_fn=<MseLossBackward>)\n",
            "tensor(4.1366e-05, grad_fn=<MseLossBackward>)\n",
            "tensor(7.4793e-05, grad_fn=<MseLossBackward>)\n",
            "tensor(8.8236e-05, grad_fn=<MseLossBackward>)\n",
            "tensor(5.5535e-05, grad_fn=<MseLossBackward>)\n",
            "tensor(8.2830e-05, grad_fn=<MseLossBackward>)\n",
            "tensor(0.0001, grad_fn=<MseLossBackward>)\n",
            "tensor(8.9455e-05, grad_fn=<MseLossBackward>)\n",
            "tensor(6.9142e-05, grad_fn=<MseLossBackward>)\n",
            "tensor(0.0001, grad_fn=<MseLossBackward>)\n",
            "tensor(6.4777e-05, grad_fn=<MseLossBackward>)\n",
            "tensor(0.0001, grad_fn=<MseLossBackward>)\n",
            "tensor(0.0001, grad_fn=<MseLossBackward>)\n",
            "tensor(0.0001, grad_fn=<MseLossBackward>)\n",
            "tensor(8.8752e-05, grad_fn=<MseLossBackward>)\n",
            "tensor(6.9439e-05, grad_fn=<MseLossBackward>)\n",
            "tensor(0.0001, grad_fn=<MseLossBackward>)\n",
            "tensor(0.0002, grad_fn=<MseLossBackward>)\n",
            "tensor(0.0001, grad_fn=<MseLossBackward>)\n",
            "tensor(0.0001, grad_fn=<MseLossBackward>)\n",
            "tensor(6.4403e-05, grad_fn=<MseLossBackward>)\n",
            "tensor(0.0001, grad_fn=<MseLossBackward>)\n",
            "tensor(8.1643e-05, grad_fn=<MseLossBackward>)\n",
            "tensor(5.0109e-05, grad_fn=<MseLossBackward>)\n",
            "tensor(0.0001, grad_fn=<MseLossBackward>)\n",
            "tensor(0.0001, grad_fn=<MseLossBackward>)\n",
            "tensor(0.0001, grad_fn=<MseLossBackward>)\n",
            "tensor(6.3104e-05, grad_fn=<MseLossBackward>)\n",
            "tensor(5.8686e-05, grad_fn=<MseLossBackward>)\n",
            "tensor(9.5927e-05, grad_fn=<MseLossBackward>)\n",
            "tensor(4.0460e-05, grad_fn=<MseLossBackward>)\n",
            "tensor(0.0001, grad_fn=<MseLossBackward>)\n",
            "tensor(9.0270e-05, grad_fn=<MseLossBackward>)\n",
            "tensor(0.0001, grad_fn=<MseLossBackward>)\n",
            "tensor(0.0001, grad_fn=<MseLossBackward>)\n",
            "tensor(6.0449e-05, grad_fn=<MseLossBackward>)\n",
            "tensor(5.1496e-05, grad_fn=<MseLossBackward>)\n",
            "tensor(6.1730e-05, grad_fn=<MseLossBackward>)\n",
            "tensor(9.3364e-05, grad_fn=<MseLossBackward>)\n",
            "tensor(7.3541e-05, grad_fn=<MseLossBackward>)\n",
            "tensor(7.7651e-05, grad_fn=<MseLossBackward>)\n",
            "tensor(9.5746e-05, grad_fn=<MseLossBackward>)\n",
            "tensor(7.1373e-05, grad_fn=<MseLossBackward>)\n",
            "tensor(7.1320e-05, grad_fn=<MseLossBackward>)\n",
            "tensor(8.0486e-05, grad_fn=<MseLossBackward>)\n",
            "tensor(9.0713e-05, grad_fn=<MseLossBackward>)\n",
            "tensor(0.0001, grad_fn=<MseLossBackward>)\n",
            "tensor(4.9652e-05, grad_fn=<MseLossBackward>)\n",
            "tensor(7.0867e-05, grad_fn=<MseLossBackward>)\n",
            "tensor(8.1757e-05, grad_fn=<MseLossBackward>)\n",
            "tensor(0.0002, grad_fn=<MseLossBackward>)\n",
            "tensor(7.8410e-05, grad_fn=<MseLossBackward>)\n",
            "tensor(9.8938e-05, grad_fn=<MseLossBackward>)\n",
            "tensor(9.8742e-05, grad_fn=<MseLossBackward>)\n",
            "tensor(8.1521e-05, grad_fn=<MseLossBackward>)\n",
            "tensor(0.0001, grad_fn=<MseLossBackward>)\n",
            "tensor(6.3125e-05, grad_fn=<MseLossBackward>)\n",
            "tensor(0.0002, grad_fn=<MseLossBackward>)\n",
            "tensor(9.9710e-05, grad_fn=<MseLossBackward>)\n",
            "tensor(8.8101e-05, grad_fn=<MseLossBackward>)\n",
            "tensor(6.1663e-05, grad_fn=<MseLossBackward>)\n",
            "tensor(0.0002, grad_fn=<MseLossBackward>)\n",
            "tensor(8.2778e-05, grad_fn=<MseLossBackward>)\n",
            "tensor(0.0002, grad_fn=<MseLossBackward>)\n",
            "tensor(3.1428e-05, grad_fn=<MseLossBackward>)\n",
            "tensor(0.0001, grad_fn=<MseLossBackward>)\n",
            "tensor(0.0002, grad_fn=<MseLossBackward>)\n",
            "tensor(9.3065e-05, grad_fn=<MseLossBackward>)\n",
            "tensor(9.0230e-05, grad_fn=<MseLossBackward>)\n",
            "tensor(9.8818e-05, grad_fn=<MseLossBackward>)\n",
            "epoch7,loss0.000091\n"
          ],
          "name": "stdout"
        }
      ]
    },
    {
      "cell_type": "code",
      "metadata": {
        "colab": {
          "base_uri": "https://localhost:8080/"
        },
        "id": "CLqiQhxHEj47",
        "outputId": "6547bab7-6576-4077-ed6f-1396123d53c9"
      },
      "source": [
        "w = net[0].weight.data\n",
        "print('error in estimating w:', true_w - w.reshape(true_w.shape))\n",
        "b = net[0].bias.data\n",
        "print('error in estimating b:',true_b-b)"
      ],
      "execution_count": 34,
      "outputs": [
        {
          "output_type": "stream",
          "text": [
            "error in estimating w: tensor([0.0007, 0.0007])\n",
            "error in estimating b: tensor([-0.0010])\n"
          ],
          "name": "stdout"
        }
      ]
    },
    {
      "cell_type": "markdown",
      "metadata": {
        "id": "q9vgl9_71Go0"
      },
      "source": [
        "# 3.6 Implementation of Softmax Regression from scratch"
      ]
    },
    {
      "cell_type": "code",
      "metadata": {
        "id": "5h7mtbx_Ej7o"
      },
      "source": [
        "import torch \n",
        "from IPython import display\n",
        "from d2l import torch as d2l"
      ],
      "execution_count": 35,
      "outputs": []
    },
    {
      "cell_type": "code",
      "metadata": {
        "colab": {
          "base_uri": "https://localhost:8080/"
        },
        "id": "bXy51nCfXTqU",
        "outputId": "2cfab5c1-caaa-43d0-e682-b05a1eccf5d8"
      },
      "source": [
        "batch_size = 256\n",
        "train_iter,test_iter = d2l.load_data_fashion_mnist(batch_size)"
      ],
      "execution_count": 36,
      "outputs": [
        {
          "output_type": "stream",
          "text": [
            "/usr/local/lib/python3.7/dist-packages/torch/utils/data/dataloader.py:477: UserWarning: This DataLoader will create 4 worker processes in total. Our suggested max number of worker in current system is 2, which is smaller than what this DataLoader is going to create. Please be aware that excessive worker creation might get DataLoader running slow or even freeze, lower the worker number to avoid potential slowness/freeze if necessary.\n",
            "  cpuset_checked))\n"
          ],
          "name": "stderr"
        }
      ]
    },
    {
      "cell_type": "code",
      "metadata": {
        "id": "ipwabEa2XgWz"
      },
      "source": [
        "#print(type(train_iter))\n",
        "#print(test_iter)"
      ],
      "execution_count": 37,
      "outputs": []
    },
    {
      "cell_type": "markdown",
      "metadata": {
        "id": "ak6pvQjl136e"
      },
      "source": [
        "## 3.6.1 Initializing Model Parameters"
      ]
    },
    {
      "cell_type": "code",
      "metadata": {
        "id": "0WKH9wWzEj9t"
      },
      "source": [
        "num_inputs = 784\n",
        "num_outputs = 10\n",
        "\n",
        "W = torch.normal(0,0.01,size=(num_inputs,num_outputs), requires_grad = True)\n",
        "b = torch.zeros(num_outputs,requires_grad=True)"
      ],
      "execution_count": 38,
      "outputs": []
    },
    {
      "cell_type": "markdown",
      "metadata": {
        "id": "VBYTG2n63C4Q"
      },
      "source": [
        "## 3.6.2 Defining the Softmax Operation"
      ]
    },
    {
      "cell_type": "code",
      "metadata": {
        "colab": {
          "base_uri": "https://localhost:8080/"
        },
        "id": "u4kWqUKhEj_6",
        "outputId": "3eb71759-e36e-41ed-9637-60e151f8a857"
      },
      "source": [
        "X = torch.tensor([[1.0,2.0,3.0],[4.0,5.0,6.0]])\n",
        "X.sum(0,keepdim=True) \n",
        "X.sum(1,keepdim=True)"
      ],
      "execution_count": 39,
      "outputs": [
        {
          "output_type": "execute_result",
          "data": {
            "text/plain": [
              "tensor([[ 6.],\n",
              "        [15.]])"
            ]
          },
          "metadata": {
            "tags": []
          },
          "execution_count": 39
        }
      ]
    },
    {
      "cell_type": "code",
      "metadata": {
        "id": "bc0O1b-oEkB8"
      },
      "source": [
        "def softmax(X):\n",
        "    #print(X.shape)\n",
        "    X_exp = torch.exp(X)\n",
        "    #print(X_exp)\n",
        "    partition = X_exp.sum(1,keepdim=True)\n",
        "    return X_exp / partition"
      ],
      "execution_count": 40,
      "outputs": []
    },
    {
      "cell_type": "code",
      "metadata": {
        "colab": {
          "base_uri": "https://localhost:8080/"
        },
        "id": "kEmwXDEYEkE7",
        "outputId": "a445c57b-06aa-42a2-a7d8-98a501345b27"
      },
      "source": [
        "X = torch.normal(0,1,(2,5))\n",
        "X_prob = softmax(X)\n",
        "print(X_prob.shape)\n",
        "print(X_prob.sum(1).shape) # 2 by 1\n",
        "X_prob,X_prob.sum(dim = 1)\n"
      ],
      "execution_count": 41,
      "outputs": [
        {
          "output_type": "stream",
          "text": [
            "torch.Size([2, 5])\n",
            "torch.Size([2])\n"
          ],
          "name": "stdout"
        },
        {
          "output_type": "execute_result",
          "data": {
            "text/plain": [
              "(tensor([[0.0176, 0.0596, 0.7670, 0.1025, 0.0533],\n",
              "         [0.0528, 0.1210, 0.6054, 0.1076, 0.1133]]), tensor([1., 1.]))"
            ]
          },
          "metadata": {
            "tags": []
          },
          "execution_count": 41
        }
      ]
    },
    {
      "cell_type": "markdown",
      "metadata": {
        "id": "UibuKBh46hhw"
      },
      "source": [
        "## 3.6.3 Definging the Model"
      ]
    },
    {
      "cell_type": "code",
      "metadata": {
        "colab": {
          "base_uri": "https://localhost:8080/"
        },
        "id": "NOvtR7nZFd3J",
        "outputId": "66fefc8b-66b5-42ac-dc6a-28803ba0617a"
      },
      "source": [
        "print(W.shape[0])\n",
        "print(X)"
      ],
      "execution_count": 42,
      "outputs": [
        {
          "output_type": "stream",
          "text": [
            "784\n",
            "tensor([[-1.7976, -0.5799,  1.9748, -0.0375, -0.6924],\n",
            "        [-1.5257, -0.6957,  0.9146, -0.8125, -0.7614]])\n"
          ],
          "name": "stdout"
        }
      ]
    },
    {
      "cell_type": "code",
      "metadata": {
        "id": "Qdtgk_u53kF7"
      },
      "source": [
        "def net(X):\n",
        "    return softmax(torch.matmul(X.reshape((-1,W.shape[0])),W)+ b)"
      ],
      "execution_count": 43,
      "outputs": []
    },
    {
      "cell_type": "markdown",
      "metadata": {
        "id": "Gn89tgHh7QzJ"
      },
      "source": [
        "## 3.6.4 Defining the Loss Function"
      ]
    },
    {
      "cell_type": "code",
      "metadata": {
        "colab": {
          "base_uri": "https://localhost:8080/"
        },
        "id": "FHkN6LTO3kIw",
        "outputId": "d9ad9581-0adc-454d-9beb-3b72ed5fa8f7"
      },
      "source": [
        "y = torch.tensor([0,2])\n",
        "y_hat = torch.tensor([[0.1,0.3,0.6],[0.3,0.2,0.5]])\n",
        "#print(y_hat[[0,1],[0,1]])\n",
        "#print(y_hat[[0,1],[0,2]])\n",
        "#print(y_hat[[0,1],])\n",
        "y_hat[[0,1] ,y]"
      ],
      "execution_count": 44,
      "outputs": [
        {
          "output_type": "execute_result",
          "data": {
            "text/plain": [
              "tensor([0.1000, 0.5000])"
            ]
          },
          "metadata": {
            "tags": []
          },
          "execution_count": 44
        }
      ]
    },
    {
      "cell_type": "markdown",
      "metadata": {
        "id": "31FnnIFVC3GT"
      },
      "source": [
        "y_hat 이 아무래도 0.1 과 0.5가 나온이유는 0,0 과 1,2를 받아서 그런거 같다."
      ]
    },
    {
      "cell_type": "code",
      "metadata": {
        "colab": {
          "base_uri": "https://localhost:8080/"
        },
        "id": "1T9Fg0bFDuLE",
        "outputId": "4fad50b2-1e2a-4797-809e-4e26e4177f8f"
      },
      "source": [
        "y_hat[range(len(y_hat)),y]"
      ],
      "execution_count": 45,
      "outputs": [
        {
          "output_type": "execute_result",
          "data": {
            "text/plain": [
              "tensor([0.1000, 0.5000])"
            ]
          },
          "metadata": {
            "tags": []
          },
          "execution_count": 45
        }
      ]
    },
    {
      "cell_type": "code",
      "metadata": {
        "colab": {
          "base_uri": "https://localhost:8080/"
        },
        "id": "dObywaULD9Bm",
        "outputId": "f37402a3-b19a-46ee-8e6a-f7cd2affa77b"
      },
      "source": [
        "range(len(y_hat))"
      ],
      "execution_count": 46,
      "outputs": [
        {
          "output_type": "execute_result",
          "data": {
            "text/plain": [
              "range(0, 2)"
            ]
          },
          "metadata": {
            "tags": []
          },
          "execution_count": 46
        }
      ]
    },
    {
      "cell_type": "code",
      "metadata": {
        "colab": {
          "base_uri": "https://localhost:8080/"
        },
        "id": "1LWfk0vVE7Rm",
        "outputId": "e4a5c3ac-7363-415f-a59d-4db89c0fc2e9"
      },
      "source": [
        "print(y_hat)"
      ],
      "execution_count": 47,
      "outputs": [
        {
          "output_type": "stream",
          "text": [
            "tensor([[0.1000, 0.3000, 0.6000],\n",
            "        [0.3000, 0.2000, 0.5000]])\n"
          ],
          "name": "stdout"
        }
      ]
    },
    {
      "cell_type": "code",
      "metadata": {
        "colab": {
          "base_uri": "https://localhost:8080/"
        },
        "id": "sJIGgmHvE7Ty",
        "outputId": "0c55ca54-f4d5-4e82-c7d1-6f9c8e23fea1"
      },
      "source": [
        "print(y)"
      ],
      "execution_count": 48,
      "outputs": [
        {
          "output_type": "stream",
          "text": [
            "tensor([0, 2])\n"
          ],
          "name": "stdout"
        }
      ]
    },
    {
      "cell_type": "code",
      "metadata": {
        "colab": {
          "base_uri": "https://localhost:8080/"
        },
        "id": "d1Ch3l8O3kLK",
        "outputId": "ad411cb4-a590-4319-aeeb-d25f863931cc"
      },
      "source": [
        "def cross_entropy(y_hat,y):\n",
        "    return -torch.log(y_hat[range(len(y_hat)),y])\n",
        "\n",
        "cross_entropy(y_hat,y)"
      ],
      "execution_count": 49,
      "outputs": [
        {
          "output_type": "execute_result",
          "data": {
            "text/plain": [
              "tensor([2.3026, 0.6931])"
            ]
          },
          "metadata": {
            "tags": []
          },
          "execution_count": 49
        }
      ]
    },
    {
      "cell_type": "markdown",
      "metadata": {
        "id": "m5oRzGuKK2DI"
      },
      "source": [
        "## 3.6.5 Classification Accuracy"
      ]
    },
    {
      "cell_type": "code",
      "metadata": {
        "id": "fyQe7g5X3kNp"
      },
      "source": [
        "def accuracy(y_hat,y):\n",
        "   # print(y_hat.shape)\n",
        "   # print(len(y_hat.shape))\n",
        "   # print(y_hat.shape[1])\n",
        "    if len(y_hat.shape) > 1 and y_hat.shape[1] > 1: #y_hat.shape -> 행 y_hat.shape[1] -> 열  \n",
        "        y_hat = y_hat.argmax(axis=1)\n",
        "        #print(y_hat)\n",
        "    cmp = y_hat.type(y.dtype) == y\n",
        "   # print(y_hat.type(y.dtype))\n",
        "   # print(y)\n",
        "   # print(cmp)\n",
        "   # print(float(cmp.type(y.dtype).sum()))\n",
        "    return float(cmp.type(y.dtype).sum())"
      ],
      "execution_count": 50,
      "outputs": []
    },
    {
      "cell_type": "code",
      "metadata": {
        "colab": {
          "base_uri": "https://localhost:8080/"
        },
        "id": "NQxoJMMh3kPc",
        "outputId": "41633a3c-ebab-4c5f-c75f-150aa591cf38"
      },
      "source": [
        "#print(accuracy(y_hat,y))\n",
        "accuracy(y_hat,y) / len(y)"
      ],
      "execution_count": 51,
      "outputs": [
        {
          "output_type": "execute_result",
          "data": {
            "text/plain": [
              "0.5"
            ]
          },
          "metadata": {
            "tags": []
          },
          "execution_count": 51
        }
      ]
    },
    {
      "cell_type": "markdown",
      "metadata": {
        "id": "jXY--dRXjCXH"
      },
      "source": [
        "4/5 여기까지 이해했음 "
      ]
    },
    {
      "cell_type": "code",
      "metadata": {
        "id": "zgTY4PhO3kRe"
      },
      "source": [
        "def evaluate_accuracy(net,data_iter):\n",
        "    if isinstance(net,torch.nn.Module):\n",
        "        net.eval()\n",
        "    metric = Accmulator(2)\n",
        "    for X,y in data_iter:\n",
        "        print(X.shape)\n",
        "        print(y.shape)\n",
        "        print(y.numel())\n",
        "        metric.add(accuracy(net(X),y),y.numel())\n",
        "\n",
        "    print(metric[0])\n",
        "    print(metric[1])\n",
        "    return metric[0] / metric[1]"
      ],
      "execution_count": 52,
      "outputs": []
    },
    {
      "cell_type": "code",
      "metadata": {
        "id": "W2r9FoDYSdd9"
      },
      "source": [
        "class Accmulator:\n",
        "    def __init__(self,n):\n",
        "        self.data = [0.0] * n\n",
        "    \n",
        "    def add(self,*args):\n",
        "        self.data = [a + float(b) for a,b in zip(self.data,args)]\n",
        "    \n",
        "    def reset(self):\n",
        "        self.data = [0.0] * len(self.data)\n",
        "\n",
        "    def __getitem__(self,idx):\n",
        "        return self.data[idx]"
      ],
      "execution_count": 53,
      "outputs": []
    },
    {
      "cell_type": "code",
      "metadata": {
        "colab": {
          "base_uri": "https://localhost:8080/"
        },
        "id": "5hjkt_0JSdf1",
        "outputId": "468ef41a-178e-4529-a35f-8b0ff5bf30a1"
      },
      "source": [
        "evaluate_accuracy(net, test_iter)"
      ],
      "execution_count": 54,
      "outputs": [
        {
          "output_type": "stream",
          "text": [
            "/usr/local/lib/python3.7/dist-packages/torch/utils/data/dataloader.py:477: UserWarning: This DataLoader will create 4 worker processes in total. Our suggested max number of worker in current system is 2, which is smaller than what this DataLoader is going to create. Please be aware that excessive worker creation might get DataLoader running slow or even freeze, lower the worker number to avoid potential slowness/freeze if necessary.\n",
            "  cpuset_checked))\n"
          ],
          "name": "stderr"
        },
        {
          "output_type": "stream",
          "text": [
            "torch.Size([256, 1, 28, 28])\n",
            "torch.Size([256])\n",
            "256\n",
            "torch.Size([256, 1, 28, 28])\n",
            "torch.Size([256])\n",
            "256\n",
            "torch.Size([256, 1, 28, 28])\n",
            "torch.Size([256])\n",
            "256\n",
            "torch.Size([256, 1, 28, 28])\n",
            "torch.Size([256])\n",
            "256\n",
            "torch.Size([256, 1, 28, 28])\n",
            "torch.Size([256])\n",
            "256\n",
            "torch.Size([256, 1, 28, 28])\n",
            "torch.Size([256])\n",
            "256\n",
            "torch.Size([256, 1, 28, 28])\n",
            "torch.Size([256])\n",
            "256\n",
            "torch.Size([256, 1, 28, 28])\n",
            "torch.Size([256])\n",
            "256\n",
            "torch.Size([256, 1, 28, 28])\n",
            "torch.Size([256])\n",
            "256\n",
            "torch.Size([256, 1, 28, 28])\n",
            "torch.Size([256])\n",
            "256\n",
            "torch.Size([256, 1, 28, 28])\n",
            "torch.Size([256])\n",
            "256\n",
            "torch.Size([256, 1, 28, 28])\n",
            "torch.Size([256])\n",
            "256\n",
            "torch.Size([256, 1, 28, 28])\n",
            "torch.Size([256])\n",
            "256\n",
            "torch.Size([256, 1, 28, 28])\n",
            "torch.Size([256])\n",
            "256\n",
            "torch.Size([256, 1, 28, 28])\n",
            "torch.Size([256])\n",
            "256\n",
            "torch.Size([256, 1, 28, 28])\n",
            "torch.Size([256])\n",
            "256\n",
            "torch.Size([256, 1, 28, 28])\n",
            "torch.Size([256])\n",
            "256\n",
            "torch.Size([256, 1, 28, 28])\n",
            "torch.Size([256])\n",
            "256\n",
            "torch.Size([256, 1, 28, 28])\n",
            "torch.Size([256])\n",
            "256\n",
            "torch.Size([256, 1, 28, 28])\n",
            "torch.Size([256])\n",
            "256\n",
            "torch.Size([256, 1, 28, 28])\n",
            "torch.Size([256])\n",
            "256\n",
            "torch.Size([256, 1, 28, 28])\n",
            "torch.Size([256])\n",
            "256\n",
            "torch.Size([256, 1, 28, 28])\n",
            "torch.Size([256])\n",
            "256\n",
            "torch.Size([256, 1, 28, 28])\n",
            "torch.Size([256])\n",
            "256\n",
            "torch.Size([256, 1, 28, 28])\n",
            "torch.Size([256])\n",
            "256\n",
            "torch.Size([256, 1, 28, 28])\n",
            "torch.Size([256])\n",
            "256\n",
            "torch.Size([256, 1, 28, 28])\n",
            "torch.Size([256])\n",
            "256\n",
            "torch.Size([256, 1, 28, 28])\n",
            "torch.Size([256])\n",
            "256\n",
            "torch.Size([256, 1, 28, 28])\n",
            "torch.Size([256])\n",
            "256\n",
            "torch.Size([256, 1, 28, 28])\n",
            "torch.Size([256])\n",
            "256\n",
            "torch.Size([256, 1, 28, 28])\n",
            "torch.Size([256])\n",
            "256\n",
            "torch.Size([256, 1, 28, 28])\n",
            "torch.Size([256])\n",
            "256\n",
            "torch.Size([256, 1, 28, 28])\n",
            "torch.Size([256])\n",
            "256\n",
            "torch.Size([256, 1, 28, 28])\n",
            "torch.Size([256])\n",
            "256\n",
            "torch.Size([256, 1, 28, 28])\n",
            "torch.Size([256])\n",
            "256\n",
            "torch.Size([256, 1, 28, 28])\n",
            "torch.Size([256])\n",
            "256\n",
            "torch.Size([256, 1, 28, 28])\n",
            "torch.Size([256])\n",
            "256\n",
            "torch.Size([256, 1, 28, 28])\n",
            "torch.Size([256])\n",
            "256\n",
            "torch.Size([256, 1, 28, 28])\n",
            "torch.Size([256])\n",
            "256\n",
            "torch.Size([16, 1, 28, 28])\n",
            "torch.Size([16])\n",
            "16\n",
            "1093.0\n",
            "10000.0\n"
          ],
          "name": "stdout"
        },
        {
          "output_type": "execute_result",
          "data": {
            "text/plain": [
              "0.1093"
            ]
          },
          "metadata": {
            "tags": []
          },
          "execution_count": 54
        }
      ]
    },
    {
      "cell_type": "markdown",
      "metadata": {
        "id": "lunTqmaMf8rl"
      },
      "source": [
        "## 3.6.6 training"
      ]
    },
    {
      "cell_type": "code",
      "metadata": {
        "id": "fFu7EdffSdh6"
      },
      "source": [
        "def train_epoch_ch3(net, train_iter, loss, updater):  #@save\n",
        "    \"\"\"The training loop defined in Chapter 3.\"\"\"\n",
        "    # Set the model to training mode\n",
        "    if isinstance(net, torch.nn.Module):\n",
        "        net.train()\n",
        "    # Sum of training loss, sum of training accuracy, no. of examples\n",
        "    metric = Accmulator(3)\n",
        "    for X, y in train_iter:\n",
        "        # Compute gradients and update parameters\n",
        "        y_hat = net(X)\n",
        "        l = loss(y_hat, y)\n",
        "        if isinstance(updater, torch.optim.Optimizer):\n",
        "            # Using PyTorch in-built optimizer & loss criterion\n",
        "            updater.zero_grad()\n",
        "            l.backward()\n",
        "            updater.step()\n",
        "            metric.add(float(l) * len(y), accuracy(y_hat, y), y.numel())\n",
        "        else:\n",
        "            # Using custom built optimizer & loss criterion\n",
        "            l.sum().backward()\n",
        "            updater(X.shape[0])\n",
        "            metric.add(float(l.sum()), accuracy(y_hat, y), y.numel())\n",
        "    # Return training loss and training accuracy\n",
        "    return metric[0] / metric[2], metric[1] / metric[2]"
      ],
      "execution_count": 55,
      "outputs": []
    },
    {
      "cell_type": "code",
      "metadata": {
        "id": "xZYRDiD6Sdkl"
      },
      "source": [
        "class Animator:  #@save\n",
        "    \"\"\"For plotting data in animation.\"\"\"\n",
        "    def __init__(self, xlabel=None, ylabel=None, legend=None, xlim=None,\n",
        "                 ylim=None, xscale='linear', yscale='linear',\n",
        "                 fmts=('-', 'm--', 'g-.', 'r:'), nrows=1, ncols=1,\n",
        "                 figsize=(3.5, 2.5)):\n",
        "        # Incrementally plot multiple lines\n",
        "        if legend is None:\n",
        "            legend = []\n",
        "        d2l.use_svg_display()\n",
        "        self.fig, self.axes = d2l.plt.subplots(nrows, ncols, figsize=figsize)\n",
        "        if nrows * ncols == 1:\n",
        "            self.axes = [self.axes,]\n",
        "        # Use a lambda function to capture arguments\n",
        "        self.config_axes = lambda: d2l.set_axes(self.axes[\n",
        "            0], xlabel, ylabel, xlim, ylim, xscale, yscale, legend)\n",
        "        self.X, self.Y, self.fmts = None, None, fmts\n",
        "\n",
        "    def add(self, x, y):\n",
        "        # Add multiple data points into the figure\n",
        "        if not hasattr(y, \"__len__\"):\n",
        "            y = [y]\n",
        "        n = len(y)\n",
        "        if not hasattr(x, \"__len__\"):\n",
        "            x = [x] * n\n",
        "        if not self.X:\n",
        "            self.X = [[] for _ in range(n)]\n",
        "        if not self.Y:\n",
        "            self.Y = [[] for _ in range(n)]\n",
        "        for i, (a, b) in enumerate(zip(x, y)):\n",
        "            if a is not None and b is not None:\n",
        "                self.X[i].append(a)\n",
        "                self.Y[i].append(b)\n",
        "        self.axes[0].cla()\n",
        "        for x, y, fmt in zip(self.X, self.Y, self.fmts):\n",
        "            self.axes[0].plot(x, y, fmt)\n",
        "        self.config_axes()\n",
        "        display.display(self.fig)\n",
        "        display.clear_output(wait=True)"
      ],
      "execution_count": 56,
      "outputs": []
    },
    {
      "cell_type": "code",
      "metadata": {
        "id": "YEzbrPNWSdlb"
      },
      "source": [
        "def train_ch3(net, train_iter, test_iter, loss, num_epochs, updater):  #@save\n",
        "    \"\"\"Train a model (defined in Chapter 3).\"\"\"\n",
        "    animator = Animator(xlabel='epoch', xlim=[1, num_epochs], ylim=[0.3, 0.9],\n",
        "                        legend=['train loss', 'train acc', 'test acc'])\n",
        "    for epoch in range(num_epochs):\n",
        "        train_metrics = train_epoch_ch3(net, train_iter, loss, updater)\n",
        "        test_acc = evaluate_accuracy(net, test_iter)\n",
        "        animator.add(epoch + 1, train_metrics + (test_acc,))\n",
        "    train_loss, train_acc = train_metrics\n",
        "    assert train_loss < 0.5, train_loss\n",
        "    assert train_acc <= 1 and train_acc > 0.7, train_acc\n",
        "    assert test_acc <= 1 and test_acc > 0.7, test_acc"
      ],
      "execution_count": 57,
      "outputs": []
    },
    {
      "cell_type": "code",
      "metadata": {
        "id": "vbON1Vnh3kT5"
      },
      "source": [
        "lr = 0.1\n",
        "\n",
        "def updater(batch_size):\n",
        "    return d2l.sgd([W, b], lr, batch_size)"
      ],
      "execution_count": 58,
      "outputs": []
    },
    {
      "cell_type": "code",
      "metadata": {
        "colab": {
          "base_uri": "https://localhost:8080/",
          "height": 262
        },
        "id": "WigsCQMf3kVn",
        "outputId": "96fd36cb-4705-4da9-e606-9014fac8659e"
      },
      "source": [
        "num_epochs = 10\n",
        "train_ch3(net, train_iter, test_iter, cross_entropy, num_epochs, updater)"
      ],
      "execution_count": 59,
      "outputs": [
        {
          "output_type": "display_data",
          "data": {
            "text/plain": [
              "<Figure size 252x180 with 1 Axes>"
            ],
            "image/svg+xml": "<?xml version=\"1.0\" encoding=\"utf-8\" standalone=\"no\"?>\n<!DOCTYPE svg PUBLIC \"-//W3C//DTD SVG 1.1//EN\"\n  \"http://www.w3.org/Graphics/SVG/1.1/DTD/svg11.dtd\">\n<!-- Created with matplotlib (https://matplotlib.org/) -->\n<svg height=\"180.65625pt\" version=\"1.1\" viewBox=\"0 0 238.965625 180.65625\" width=\"238.965625pt\" xmlns=\"http://www.w3.org/2000/svg\" xmlns:xlink=\"http://www.w3.org/1999/xlink\">\n <defs>\n  <style type=\"text/css\">\n*{stroke-linecap:butt;stroke-linejoin:round;}\n  </style>\n </defs>\n <g id=\"figure_1\">\n  <g id=\"patch_1\">\n   <path d=\"M 0 180.65625 \nL 238.965625 180.65625 \nL 238.965625 0 \nL 0 0 \nz\n\" style=\"fill:none;\"/>\n  </g>\n  <g id=\"axes_1\">\n   <g id=\"patch_2\">\n    <path d=\"M 30.103125 143.1 \nL 225.403125 143.1 \nL 225.403125 7.2 \nL 30.103125 7.2 \nz\n\" style=\"fill:#ffffff;\"/>\n   </g>\n   <g id=\"matplotlib.axis_1\">\n    <g id=\"xtick_1\">\n     <g id=\"line2d_1\">\n      <path clip-path=\"url(#p3d03458599)\" d=\"M 51.803125 143.1 \nL 51.803125 7.2 \n\" style=\"fill:none;stroke:#b0b0b0;stroke-linecap:square;stroke-width:0.8;\"/>\n     </g>\n     <g id=\"line2d_2\">\n      <defs>\n       <path d=\"M 0 0 \nL 0 3.5 \n\" id=\"m1ee0e0a620\" style=\"stroke:#000000;stroke-width:0.8;\"/>\n      </defs>\n      <g>\n       <use style=\"stroke:#000000;stroke-width:0.8;\" x=\"51.803125\" xlink:href=\"#m1ee0e0a620\" y=\"143.1\"/>\n      </g>\n     </g>\n     <g id=\"text_1\">\n      <!-- 2 -->\n      <defs>\n       <path d=\"M 19.1875 8.296875 \nL 53.609375 8.296875 \nL 53.609375 0 \nL 7.328125 0 \nL 7.328125 8.296875 \nQ 12.9375 14.109375 22.625 23.890625 \nQ 32.328125 33.6875 34.8125 36.53125 \nQ 39.546875 41.84375 41.421875 45.53125 \nQ 43.3125 49.21875 43.3125 52.78125 \nQ 43.3125 58.59375 39.234375 62.25 \nQ 35.15625 65.921875 28.609375 65.921875 \nQ 23.96875 65.921875 18.8125 64.3125 \nQ 13.671875 62.703125 7.8125 59.421875 \nL 7.8125 69.390625 \nQ 13.765625 71.78125 18.9375 73 \nQ 24.125 74.21875 28.421875 74.21875 \nQ 39.75 74.21875 46.484375 68.546875 \nQ 53.21875 62.890625 53.21875 53.421875 \nQ 53.21875 48.921875 51.53125 44.890625 \nQ 49.859375 40.875 45.40625 35.40625 \nQ 44.1875 33.984375 37.640625 27.21875 \nQ 31.109375 20.453125 19.1875 8.296875 \nz\n\" id=\"DejaVuSans-50\"/>\n      </defs>\n      <g transform=\"translate(48.621875 157.698438)scale(0.1 -0.1)\">\n       <use xlink:href=\"#DejaVuSans-50\"/>\n      </g>\n     </g>\n    </g>\n    <g id=\"xtick_2\">\n     <g id=\"line2d_3\">\n      <path clip-path=\"url(#p3d03458599)\" d=\"M 95.203125 143.1 \nL 95.203125 7.2 \n\" style=\"fill:none;stroke:#b0b0b0;stroke-linecap:square;stroke-width:0.8;\"/>\n     </g>\n     <g id=\"line2d_4\">\n      <g>\n       <use style=\"stroke:#000000;stroke-width:0.8;\" x=\"95.203125\" xlink:href=\"#m1ee0e0a620\" y=\"143.1\"/>\n      </g>\n     </g>\n     <g id=\"text_2\">\n      <!-- 4 -->\n      <defs>\n       <path d=\"M 37.796875 64.3125 \nL 12.890625 25.390625 \nL 37.796875 25.390625 \nz\nM 35.203125 72.90625 \nL 47.609375 72.90625 \nL 47.609375 25.390625 \nL 58.015625 25.390625 \nL 58.015625 17.1875 \nL 47.609375 17.1875 \nL 47.609375 0 \nL 37.796875 0 \nL 37.796875 17.1875 \nL 4.890625 17.1875 \nL 4.890625 26.703125 \nz\n\" id=\"DejaVuSans-52\"/>\n      </defs>\n      <g transform=\"translate(92.021875 157.698438)scale(0.1 -0.1)\">\n       <use xlink:href=\"#DejaVuSans-52\"/>\n      </g>\n     </g>\n    </g>\n    <g id=\"xtick_3\">\n     <g id=\"line2d_5\">\n      <path clip-path=\"url(#p3d03458599)\" d=\"M 138.603125 143.1 \nL 138.603125 7.2 \n\" style=\"fill:none;stroke:#b0b0b0;stroke-linecap:square;stroke-width:0.8;\"/>\n     </g>\n     <g id=\"line2d_6\">\n      <g>\n       <use style=\"stroke:#000000;stroke-width:0.8;\" x=\"138.603125\" xlink:href=\"#m1ee0e0a620\" y=\"143.1\"/>\n      </g>\n     </g>\n     <g id=\"text_3\">\n      <!-- 6 -->\n      <defs>\n       <path d=\"M 33.015625 40.375 \nQ 26.375 40.375 22.484375 35.828125 \nQ 18.609375 31.296875 18.609375 23.390625 \nQ 18.609375 15.53125 22.484375 10.953125 \nQ 26.375 6.390625 33.015625 6.390625 \nQ 39.65625 6.390625 43.53125 10.953125 \nQ 47.40625 15.53125 47.40625 23.390625 \nQ 47.40625 31.296875 43.53125 35.828125 \nQ 39.65625 40.375 33.015625 40.375 \nz\nM 52.59375 71.296875 \nL 52.59375 62.3125 \nQ 48.875 64.0625 45.09375 64.984375 \nQ 41.3125 65.921875 37.59375 65.921875 \nQ 27.828125 65.921875 22.671875 59.328125 \nQ 17.53125 52.734375 16.796875 39.40625 \nQ 19.671875 43.65625 24.015625 45.921875 \nQ 28.375 48.1875 33.59375 48.1875 \nQ 44.578125 48.1875 50.953125 41.515625 \nQ 57.328125 34.859375 57.328125 23.390625 \nQ 57.328125 12.15625 50.6875 5.359375 \nQ 44.046875 -1.421875 33.015625 -1.421875 \nQ 20.359375 -1.421875 13.671875 8.265625 \nQ 6.984375 17.96875 6.984375 36.375 \nQ 6.984375 53.65625 15.1875 63.9375 \nQ 23.390625 74.21875 37.203125 74.21875 \nQ 40.921875 74.21875 44.703125 73.484375 \nQ 48.484375 72.75 52.59375 71.296875 \nz\n\" id=\"DejaVuSans-54\"/>\n      </defs>\n      <g transform=\"translate(135.421875 157.698438)scale(0.1 -0.1)\">\n       <use xlink:href=\"#DejaVuSans-54\"/>\n      </g>\n     </g>\n    </g>\n    <g id=\"xtick_4\">\n     <g id=\"line2d_7\">\n      <path clip-path=\"url(#p3d03458599)\" d=\"M 182.003125 143.1 \nL 182.003125 7.2 \n\" style=\"fill:none;stroke:#b0b0b0;stroke-linecap:square;stroke-width:0.8;\"/>\n     </g>\n     <g id=\"line2d_8\">\n      <g>\n       <use style=\"stroke:#000000;stroke-width:0.8;\" x=\"182.003125\" xlink:href=\"#m1ee0e0a620\" y=\"143.1\"/>\n      </g>\n     </g>\n     <g id=\"text_4\">\n      <!-- 8 -->\n      <defs>\n       <path d=\"M 31.78125 34.625 \nQ 24.75 34.625 20.71875 30.859375 \nQ 16.703125 27.09375 16.703125 20.515625 \nQ 16.703125 13.921875 20.71875 10.15625 \nQ 24.75 6.390625 31.78125 6.390625 \nQ 38.8125 6.390625 42.859375 10.171875 \nQ 46.921875 13.96875 46.921875 20.515625 \nQ 46.921875 27.09375 42.890625 30.859375 \nQ 38.875 34.625 31.78125 34.625 \nz\nM 21.921875 38.8125 \nQ 15.578125 40.375 12.03125 44.71875 \nQ 8.5 49.078125 8.5 55.328125 \nQ 8.5 64.0625 14.71875 69.140625 \nQ 20.953125 74.21875 31.78125 74.21875 \nQ 42.671875 74.21875 48.875 69.140625 \nQ 55.078125 64.0625 55.078125 55.328125 \nQ 55.078125 49.078125 51.53125 44.71875 \nQ 48 40.375 41.703125 38.8125 \nQ 48.828125 37.15625 52.796875 32.3125 \nQ 56.78125 27.484375 56.78125 20.515625 \nQ 56.78125 9.90625 50.3125 4.234375 \nQ 43.84375 -1.421875 31.78125 -1.421875 \nQ 19.734375 -1.421875 13.25 4.234375 \nQ 6.78125 9.90625 6.78125 20.515625 \nQ 6.78125 27.484375 10.78125 32.3125 \nQ 14.796875 37.15625 21.921875 38.8125 \nz\nM 18.3125 54.390625 \nQ 18.3125 48.734375 21.84375 45.5625 \nQ 25.390625 42.390625 31.78125 42.390625 \nQ 38.140625 42.390625 41.71875 45.5625 \nQ 45.3125 48.734375 45.3125 54.390625 \nQ 45.3125 60.0625 41.71875 63.234375 \nQ 38.140625 66.40625 31.78125 66.40625 \nQ 25.390625 66.40625 21.84375 63.234375 \nQ 18.3125 60.0625 18.3125 54.390625 \nz\n\" id=\"DejaVuSans-56\"/>\n      </defs>\n      <g transform=\"translate(178.821875 157.698438)scale(0.1 -0.1)\">\n       <use xlink:href=\"#DejaVuSans-56\"/>\n      </g>\n     </g>\n    </g>\n    <g id=\"xtick_5\">\n     <g id=\"line2d_9\">\n      <path clip-path=\"url(#p3d03458599)\" d=\"M 225.403125 143.1 \nL 225.403125 7.2 \n\" style=\"fill:none;stroke:#b0b0b0;stroke-linecap:square;stroke-width:0.8;\"/>\n     </g>\n     <g id=\"line2d_10\">\n      <g>\n       <use style=\"stroke:#000000;stroke-width:0.8;\" x=\"225.403125\" xlink:href=\"#m1ee0e0a620\" y=\"143.1\"/>\n      </g>\n     </g>\n     <g id=\"text_5\">\n      <!-- 10 -->\n      <defs>\n       <path d=\"M 12.40625 8.296875 \nL 28.515625 8.296875 \nL 28.515625 63.921875 \nL 10.984375 60.40625 \nL 10.984375 69.390625 \nL 28.421875 72.90625 \nL 38.28125 72.90625 \nL 38.28125 8.296875 \nL 54.390625 8.296875 \nL 54.390625 0 \nL 12.40625 0 \nz\n\" id=\"DejaVuSans-49\"/>\n       <path d=\"M 31.78125 66.40625 \nQ 24.171875 66.40625 20.328125 58.90625 \nQ 16.5 51.421875 16.5 36.375 \nQ 16.5 21.390625 20.328125 13.890625 \nQ 24.171875 6.390625 31.78125 6.390625 \nQ 39.453125 6.390625 43.28125 13.890625 \nQ 47.125 21.390625 47.125 36.375 \nQ 47.125 51.421875 43.28125 58.90625 \nQ 39.453125 66.40625 31.78125 66.40625 \nz\nM 31.78125 74.21875 \nQ 44.046875 74.21875 50.515625 64.515625 \nQ 56.984375 54.828125 56.984375 36.375 \nQ 56.984375 17.96875 50.515625 8.265625 \nQ 44.046875 -1.421875 31.78125 -1.421875 \nQ 19.53125 -1.421875 13.0625 8.265625 \nQ 6.59375 17.96875 6.59375 36.375 \nQ 6.59375 54.828125 13.0625 64.515625 \nQ 19.53125 74.21875 31.78125 74.21875 \nz\n\" id=\"DejaVuSans-48\"/>\n      </defs>\n      <g transform=\"translate(219.040625 157.698438)scale(0.1 -0.1)\">\n       <use xlink:href=\"#DejaVuSans-49\"/>\n       <use x=\"63.623047\" xlink:href=\"#DejaVuSans-48\"/>\n      </g>\n     </g>\n    </g>\n    <g id=\"text_6\">\n     <!-- epoch -->\n     <defs>\n      <path d=\"M 56.203125 29.59375 \nL 56.203125 25.203125 \nL 14.890625 25.203125 \nQ 15.484375 15.921875 20.484375 11.0625 \nQ 25.484375 6.203125 34.421875 6.203125 \nQ 39.59375 6.203125 44.453125 7.46875 \nQ 49.3125 8.734375 54.109375 11.28125 \nL 54.109375 2.78125 \nQ 49.265625 0.734375 44.1875 -0.34375 \nQ 39.109375 -1.421875 33.890625 -1.421875 \nQ 20.796875 -1.421875 13.15625 6.1875 \nQ 5.515625 13.8125 5.515625 26.8125 \nQ 5.515625 40.234375 12.765625 48.109375 \nQ 20.015625 56 32.328125 56 \nQ 43.359375 56 49.78125 48.890625 \nQ 56.203125 41.796875 56.203125 29.59375 \nz\nM 47.21875 32.234375 \nQ 47.125 39.59375 43.09375 43.984375 \nQ 39.0625 48.390625 32.421875 48.390625 \nQ 24.90625 48.390625 20.390625 44.140625 \nQ 15.875 39.890625 15.1875 32.171875 \nz\n\" id=\"DejaVuSans-101\"/>\n      <path d=\"M 18.109375 8.203125 \nL 18.109375 -20.796875 \nL 9.078125 -20.796875 \nL 9.078125 54.6875 \nL 18.109375 54.6875 \nL 18.109375 46.390625 \nQ 20.953125 51.265625 25.265625 53.625 \nQ 29.59375 56 35.59375 56 \nQ 45.5625 56 51.78125 48.09375 \nQ 58.015625 40.1875 58.015625 27.296875 \nQ 58.015625 14.40625 51.78125 6.484375 \nQ 45.5625 -1.421875 35.59375 -1.421875 \nQ 29.59375 -1.421875 25.265625 0.953125 \nQ 20.953125 3.328125 18.109375 8.203125 \nz\nM 48.6875 27.296875 \nQ 48.6875 37.203125 44.609375 42.84375 \nQ 40.53125 48.484375 33.40625 48.484375 \nQ 26.265625 48.484375 22.1875 42.84375 \nQ 18.109375 37.203125 18.109375 27.296875 \nQ 18.109375 17.390625 22.1875 11.75 \nQ 26.265625 6.109375 33.40625 6.109375 \nQ 40.53125 6.109375 44.609375 11.75 \nQ 48.6875 17.390625 48.6875 27.296875 \nz\n\" id=\"DejaVuSans-112\"/>\n      <path d=\"M 30.609375 48.390625 \nQ 23.390625 48.390625 19.1875 42.75 \nQ 14.984375 37.109375 14.984375 27.296875 \nQ 14.984375 17.484375 19.15625 11.84375 \nQ 23.34375 6.203125 30.609375 6.203125 \nQ 37.796875 6.203125 41.984375 11.859375 \nQ 46.1875 17.53125 46.1875 27.296875 \nQ 46.1875 37.015625 41.984375 42.703125 \nQ 37.796875 48.390625 30.609375 48.390625 \nz\nM 30.609375 56 \nQ 42.328125 56 49.015625 48.375 \nQ 55.71875 40.765625 55.71875 27.296875 \nQ 55.71875 13.875 49.015625 6.21875 \nQ 42.328125 -1.421875 30.609375 -1.421875 \nQ 18.84375 -1.421875 12.171875 6.21875 \nQ 5.515625 13.875 5.515625 27.296875 \nQ 5.515625 40.765625 12.171875 48.375 \nQ 18.84375 56 30.609375 56 \nz\n\" id=\"DejaVuSans-111\"/>\n      <path d=\"M 48.78125 52.59375 \nL 48.78125 44.1875 \nQ 44.96875 46.296875 41.140625 47.34375 \nQ 37.3125 48.390625 33.40625 48.390625 \nQ 24.65625 48.390625 19.8125 42.84375 \nQ 14.984375 37.3125 14.984375 27.296875 \nQ 14.984375 17.28125 19.8125 11.734375 \nQ 24.65625 6.203125 33.40625 6.203125 \nQ 37.3125 6.203125 41.140625 7.25 \nQ 44.96875 8.296875 48.78125 10.40625 \nL 48.78125 2.09375 \nQ 45.015625 0.34375 40.984375 -0.53125 \nQ 36.96875 -1.421875 32.421875 -1.421875 \nQ 20.0625 -1.421875 12.78125 6.34375 \nQ 5.515625 14.109375 5.515625 27.296875 \nQ 5.515625 40.671875 12.859375 48.328125 \nQ 20.21875 56 33.015625 56 \nQ 37.15625 56 41.109375 55.140625 \nQ 45.0625 54.296875 48.78125 52.59375 \nz\n\" id=\"DejaVuSans-99\"/>\n      <path d=\"M 54.890625 33.015625 \nL 54.890625 0 \nL 45.90625 0 \nL 45.90625 32.71875 \nQ 45.90625 40.484375 42.875 44.328125 \nQ 39.84375 48.1875 33.796875 48.1875 \nQ 26.515625 48.1875 22.3125 43.546875 \nQ 18.109375 38.921875 18.109375 30.90625 \nL 18.109375 0 \nL 9.078125 0 \nL 9.078125 75.984375 \nL 18.109375 75.984375 \nL 18.109375 46.1875 \nQ 21.34375 51.125 25.703125 53.5625 \nQ 30.078125 56 35.796875 56 \nQ 45.21875 56 50.046875 50.171875 \nQ 54.890625 44.34375 54.890625 33.015625 \nz\n\" id=\"DejaVuSans-104\"/>\n     </defs>\n     <g transform=\"translate(112.525 171.376563)scale(0.1 -0.1)\">\n      <use xlink:href=\"#DejaVuSans-101\"/>\n      <use x=\"61.523438\" xlink:href=\"#DejaVuSans-112\"/>\n      <use x=\"125\" xlink:href=\"#DejaVuSans-111\"/>\n      <use x=\"186.181641\" xlink:href=\"#DejaVuSans-99\"/>\n      <use x=\"241.162109\" xlink:href=\"#DejaVuSans-104\"/>\n     </g>\n    </g>\n   </g>\n   <g id=\"matplotlib.axis_2\">\n    <g id=\"ytick_1\">\n     <g id=\"line2d_11\">\n      <path clip-path=\"url(#p3d03458599)\" d=\"M 30.103125 120.45 \nL 225.403125 120.45 \n\" style=\"fill:none;stroke:#b0b0b0;stroke-linecap:square;stroke-width:0.8;\"/>\n     </g>\n     <g id=\"line2d_12\">\n      <defs>\n       <path d=\"M 0 0 \nL -3.5 0 \n\" id=\"m8e6dc48f85\" style=\"stroke:#000000;stroke-width:0.8;\"/>\n      </defs>\n      <g>\n       <use style=\"stroke:#000000;stroke-width:0.8;\" x=\"30.103125\" xlink:href=\"#m8e6dc48f85\" y=\"120.45\"/>\n      </g>\n     </g>\n     <g id=\"text_7\">\n      <!-- 0.4 -->\n      <defs>\n       <path d=\"M 10.6875 12.40625 \nL 21 12.40625 \nL 21 0 \nL 10.6875 0 \nz\n\" id=\"DejaVuSans-46\"/>\n      </defs>\n      <g transform=\"translate(7.2 124.249219)scale(0.1 -0.1)\">\n       <use xlink:href=\"#DejaVuSans-48\"/>\n       <use x=\"63.623047\" xlink:href=\"#DejaVuSans-46\"/>\n       <use x=\"95.410156\" xlink:href=\"#DejaVuSans-52\"/>\n      </g>\n     </g>\n    </g>\n    <g id=\"ytick_2\">\n     <g id=\"line2d_13\">\n      <path clip-path=\"url(#p3d03458599)\" d=\"M 30.103125 75.15 \nL 225.403125 75.15 \n\" style=\"fill:none;stroke:#b0b0b0;stroke-linecap:square;stroke-width:0.8;\"/>\n     </g>\n     <g id=\"line2d_14\">\n      <g>\n       <use style=\"stroke:#000000;stroke-width:0.8;\" x=\"30.103125\" xlink:href=\"#m8e6dc48f85\" y=\"75.15\"/>\n      </g>\n     </g>\n     <g id=\"text_8\">\n      <!-- 0.6 -->\n      <g transform=\"translate(7.2 78.949219)scale(0.1 -0.1)\">\n       <use xlink:href=\"#DejaVuSans-48\"/>\n       <use x=\"63.623047\" xlink:href=\"#DejaVuSans-46\"/>\n       <use x=\"95.410156\" xlink:href=\"#DejaVuSans-54\"/>\n      </g>\n     </g>\n    </g>\n    <g id=\"ytick_3\">\n     <g id=\"line2d_15\">\n      <path clip-path=\"url(#p3d03458599)\" d=\"M 30.103125 29.85 \nL 225.403125 29.85 \n\" style=\"fill:none;stroke:#b0b0b0;stroke-linecap:square;stroke-width:0.8;\"/>\n     </g>\n     <g id=\"line2d_16\">\n      <g>\n       <use style=\"stroke:#000000;stroke-width:0.8;\" x=\"30.103125\" xlink:href=\"#m8e6dc48f85\" y=\"29.85\"/>\n      </g>\n     </g>\n     <g id=\"text_9\">\n      <!-- 0.8 -->\n      <g transform=\"translate(7.2 33.649219)scale(0.1 -0.1)\">\n       <use xlink:href=\"#DejaVuSans-48\"/>\n       <use x=\"63.623047\" xlink:href=\"#DejaVuSans-46\"/>\n       <use x=\"95.410156\" xlink:href=\"#DejaVuSans-56\"/>\n      </g>\n     </g>\n    </g>\n   </g>\n   <g id=\"line2d_17\">\n    <path clip-path=\"url(#p3d03458599)\" d=\"M 30.103125 32.899772 \nL 51.803125 81.553034 \nL 73.503125 91.959739 \nL 95.203125 97.579391 \nL 116.903125 100.974407 \nL 138.603125 103.677788 \nL 160.303125 105.8851 \nL 182.003125 107.176948 \nL 203.703125 108.549501 \nL 225.403125 109.724624 \n\" style=\"fill:none;stroke:#1f77b4;stroke-linecap:square;stroke-width:1.5;\"/>\n   </g>\n   <g id=\"line2d_18\">\n    <path clip-path=\"url(#p3d03458599)\" d=\"M 30.103125 41.34865 \nL 51.803125 27.0263 \nL 73.503125 24.334725 \nL 95.203125 22.303775 \nL 116.903125 21.344925 \nL 138.603125 20.67675 \nL 160.303125 20.14825 \nL 182.003125 19.608425 \nL 203.703125 19.24225 \nL 225.403125 19.00065 \n\" style=\"fill:none;stroke:#bf00bf;stroke-dasharray:5.55,2.4;stroke-dashoffset:0;stroke-width:1.5;\"/>\n   </g>\n   <g id=\"line2d_19\">\n    <path clip-path=\"url(#p3d03458599)\" d=\"M 30.103125 31.41285 \nL 51.803125 28.06065 \nL 73.503125 25.2747 \nL 95.203125 24.5952 \nL 116.903125 25.7277 \nL 138.603125 23.508 \nL 160.303125 23.2362 \nL 182.003125 22.1943 \nL 203.703125 22.57935 \nL 225.403125 22.2849 \n\" style=\"fill:none;stroke:#008000;stroke-dasharray:9.6,2.4,1.5,2.4;stroke-dashoffset:0;stroke-width:1.5;\"/>\n   </g>\n   <g id=\"patch_3\">\n    <path d=\"M 30.103125 143.1 \nL 30.103125 7.2 \n\" style=\"fill:none;stroke:#000000;stroke-linecap:square;stroke-linejoin:miter;stroke-width:0.8;\"/>\n   </g>\n   <g id=\"patch_4\">\n    <path d=\"M 225.403125 143.1 \nL 225.403125 7.2 \n\" style=\"fill:none;stroke:#000000;stroke-linecap:square;stroke-linejoin:miter;stroke-width:0.8;\"/>\n   </g>\n   <g id=\"patch_5\">\n    <path d=\"M 30.103125 143.1 \nL 225.403125 143.1 \n\" style=\"fill:none;stroke:#000000;stroke-linecap:square;stroke-linejoin:miter;stroke-width:0.8;\"/>\n   </g>\n   <g id=\"patch_6\">\n    <path d=\"M 30.103125 7.2 \nL 225.403125 7.2 \n\" style=\"fill:none;stroke:#000000;stroke-linecap:square;stroke-linejoin:miter;stroke-width:0.8;\"/>\n   </g>\n   <g id=\"legend_1\">\n    <g id=\"patch_7\">\n     <path d=\"M 140.634375 98.667187 \nL 218.403125 98.667187 \nQ 220.403125 98.667187 220.403125 96.667187 \nL 220.403125 53.632812 \nQ 220.403125 51.632812 218.403125 51.632812 \nL 140.634375 51.632812 \nQ 138.634375 51.632812 138.634375 53.632812 \nL 138.634375 96.667187 \nQ 138.634375 98.667187 140.634375 98.667187 \nz\n\" style=\"fill:#ffffff;opacity:0.8;stroke:#cccccc;stroke-linejoin:miter;\"/>\n    </g>\n    <g id=\"line2d_20\">\n     <path d=\"M 142.634375 59.73125 \nL 162.634375 59.73125 \n\" style=\"fill:none;stroke:#1f77b4;stroke-linecap:square;stroke-width:1.5;\"/>\n    </g>\n    <g id=\"line2d_21\"/>\n    <g id=\"text_10\">\n     <!-- train loss -->\n     <defs>\n      <path d=\"M 18.3125 70.21875 \nL 18.3125 54.6875 \nL 36.8125 54.6875 \nL 36.8125 47.703125 \nL 18.3125 47.703125 \nL 18.3125 18.015625 \nQ 18.3125 11.328125 20.140625 9.421875 \nQ 21.96875 7.515625 27.59375 7.515625 \nL 36.8125 7.515625 \nL 36.8125 0 \nL 27.59375 0 \nQ 17.1875 0 13.234375 3.875 \nQ 9.28125 7.765625 9.28125 18.015625 \nL 9.28125 47.703125 \nL 2.6875 47.703125 \nL 2.6875 54.6875 \nL 9.28125 54.6875 \nL 9.28125 70.21875 \nz\n\" id=\"DejaVuSans-116\"/>\n      <path d=\"M 41.109375 46.296875 \nQ 39.59375 47.171875 37.8125 47.578125 \nQ 36.03125 48 33.890625 48 \nQ 26.265625 48 22.1875 43.046875 \nQ 18.109375 38.09375 18.109375 28.8125 \nL 18.109375 0 \nL 9.078125 0 \nL 9.078125 54.6875 \nL 18.109375 54.6875 \nL 18.109375 46.1875 \nQ 20.953125 51.171875 25.484375 53.578125 \nQ 30.03125 56 36.53125 56 \nQ 37.453125 56 38.578125 55.875 \nQ 39.703125 55.765625 41.0625 55.515625 \nz\n\" id=\"DejaVuSans-114\"/>\n      <path d=\"M 34.28125 27.484375 \nQ 23.390625 27.484375 19.1875 25 \nQ 14.984375 22.515625 14.984375 16.5 \nQ 14.984375 11.71875 18.140625 8.90625 \nQ 21.296875 6.109375 26.703125 6.109375 \nQ 34.1875 6.109375 38.703125 11.40625 \nQ 43.21875 16.703125 43.21875 25.484375 \nL 43.21875 27.484375 \nz\nM 52.203125 31.203125 \nL 52.203125 0 \nL 43.21875 0 \nL 43.21875 8.296875 \nQ 40.140625 3.328125 35.546875 0.953125 \nQ 30.953125 -1.421875 24.3125 -1.421875 \nQ 15.921875 -1.421875 10.953125 3.296875 \nQ 6 8.015625 6 15.921875 \nQ 6 25.140625 12.171875 29.828125 \nQ 18.359375 34.515625 30.609375 34.515625 \nL 43.21875 34.515625 \nL 43.21875 35.40625 \nQ 43.21875 41.609375 39.140625 45 \nQ 35.0625 48.390625 27.6875 48.390625 \nQ 23 48.390625 18.546875 47.265625 \nQ 14.109375 46.140625 10.015625 43.890625 \nL 10.015625 52.203125 \nQ 14.9375 54.109375 19.578125 55.046875 \nQ 24.21875 56 28.609375 56 \nQ 40.484375 56 46.34375 49.84375 \nQ 52.203125 43.703125 52.203125 31.203125 \nz\n\" id=\"DejaVuSans-97\"/>\n      <path d=\"M 9.421875 54.6875 \nL 18.40625 54.6875 \nL 18.40625 0 \nL 9.421875 0 \nz\nM 9.421875 75.984375 \nL 18.40625 75.984375 \nL 18.40625 64.59375 \nL 9.421875 64.59375 \nz\n\" id=\"DejaVuSans-105\"/>\n      <path d=\"M 54.890625 33.015625 \nL 54.890625 0 \nL 45.90625 0 \nL 45.90625 32.71875 \nQ 45.90625 40.484375 42.875 44.328125 \nQ 39.84375 48.1875 33.796875 48.1875 \nQ 26.515625 48.1875 22.3125 43.546875 \nQ 18.109375 38.921875 18.109375 30.90625 \nL 18.109375 0 \nL 9.078125 0 \nL 9.078125 54.6875 \nL 18.109375 54.6875 \nL 18.109375 46.1875 \nQ 21.34375 51.125 25.703125 53.5625 \nQ 30.078125 56 35.796875 56 \nQ 45.21875 56 50.046875 50.171875 \nQ 54.890625 44.34375 54.890625 33.015625 \nz\n\" id=\"DejaVuSans-110\"/>\n      <path id=\"DejaVuSans-32\"/>\n      <path d=\"M 9.421875 75.984375 \nL 18.40625 75.984375 \nL 18.40625 0 \nL 9.421875 0 \nz\n\" id=\"DejaVuSans-108\"/>\n      <path d=\"M 44.28125 53.078125 \nL 44.28125 44.578125 \nQ 40.484375 46.53125 36.375 47.5 \nQ 32.28125 48.484375 27.875 48.484375 \nQ 21.1875 48.484375 17.84375 46.4375 \nQ 14.5 44.390625 14.5 40.28125 \nQ 14.5 37.15625 16.890625 35.375 \nQ 19.28125 33.59375 26.515625 31.984375 \nL 29.59375 31.296875 \nQ 39.15625 29.25 43.1875 25.515625 \nQ 47.21875 21.78125 47.21875 15.09375 \nQ 47.21875 7.46875 41.1875 3.015625 \nQ 35.15625 -1.421875 24.609375 -1.421875 \nQ 20.21875 -1.421875 15.453125 -0.5625 \nQ 10.6875 0.296875 5.421875 2 \nL 5.421875 11.28125 \nQ 10.40625 8.6875 15.234375 7.390625 \nQ 20.0625 6.109375 24.8125 6.109375 \nQ 31.15625 6.109375 34.5625 8.28125 \nQ 37.984375 10.453125 37.984375 14.40625 \nQ 37.984375 18.0625 35.515625 20.015625 \nQ 33.0625 21.96875 24.703125 23.78125 \nL 21.578125 24.515625 \nQ 13.234375 26.265625 9.515625 29.90625 \nQ 5.8125 33.546875 5.8125 39.890625 \nQ 5.8125 47.609375 11.28125 51.796875 \nQ 16.75 56 26.8125 56 \nQ 31.78125 56 36.171875 55.265625 \nQ 40.578125 54.546875 44.28125 53.078125 \nz\n\" id=\"DejaVuSans-115\"/>\n     </defs>\n     <g transform=\"translate(170.634375 63.23125)scale(0.1 -0.1)\">\n      <use xlink:href=\"#DejaVuSans-116\"/>\n      <use x=\"39.208984\" xlink:href=\"#DejaVuSans-114\"/>\n      <use x=\"80.322266\" xlink:href=\"#DejaVuSans-97\"/>\n      <use x=\"141.601562\" xlink:href=\"#DejaVuSans-105\"/>\n      <use x=\"169.384766\" xlink:href=\"#DejaVuSans-110\"/>\n      <use x=\"232.763672\" xlink:href=\"#DejaVuSans-32\"/>\n      <use x=\"264.550781\" xlink:href=\"#DejaVuSans-108\"/>\n      <use x=\"292.333984\" xlink:href=\"#DejaVuSans-111\"/>\n      <use x=\"353.515625\" xlink:href=\"#DejaVuSans-115\"/>\n      <use x=\"405.615234\" xlink:href=\"#DejaVuSans-115\"/>\n     </g>\n    </g>\n    <g id=\"line2d_22\">\n     <path d=\"M 142.634375 74.409375 \nL 162.634375 74.409375 \n\" style=\"fill:none;stroke:#bf00bf;stroke-dasharray:5.55,2.4;stroke-dashoffset:0;stroke-width:1.5;\"/>\n    </g>\n    <g id=\"line2d_23\"/>\n    <g id=\"text_11\">\n     <!-- train acc -->\n     <g transform=\"translate(170.634375 77.909375)scale(0.1 -0.1)\">\n      <use xlink:href=\"#DejaVuSans-116\"/>\n      <use x=\"39.208984\" xlink:href=\"#DejaVuSans-114\"/>\n      <use x=\"80.322266\" xlink:href=\"#DejaVuSans-97\"/>\n      <use x=\"141.601562\" xlink:href=\"#DejaVuSans-105\"/>\n      <use x=\"169.384766\" xlink:href=\"#DejaVuSans-110\"/>\n      <use x=\"232.763672\" xlink:href=\"#DejaVuSans-32\"/>\n      <use x=\"264.550781\" xlink:href=\"#DejaVuSans-97\"/>\n      <use x=\"325.830078\" xlink:href=\"#DejaVuSans-99\"/>\n      <use x=\"380.810547\" xlink:href=\"#DejaVuSans-99\"/>\n     </g>\n    </g>\n    <g id=\"line2d_24\">\n     <path d=\"M 142.634375 89.0875 \nL 162.634375 89.0875 \n\" style=\"fill:none;stroke:#008000;stroke-dasharray:9.6,2.4,1.5,2.4;stroke-dashoffset:0;stroke-width:1.5;\"/>\n    </g>\n    <g id=\"line2d_25\"/>\n    <g id=\"text_12\">\n     <!-- test acc -->\n     <g transform=\"translate(170.634375 92.5875)scale(0.1 -0.1)\">\n      <use xlink:href=\"#DejaVuSans-116\"/>\n      <use x=\"39.208984\" xlink:href=\"#DejaVuSans-101\"/>\n      <use x=\"100.732422\" xlink:href=\"#DejaVuSans-115\"/>\n      <use x=\"152.832031\" xlink:href=\"#DejaVuSans-116\"/>\n      <use x=\"192.041016\" xlink:href=\"#DejaVuSans-32\"/>\n      <use x=\"223.828125\" xlink:href=\"#DejaVuSans-97\"/>\n      <use x=\"285.107422\" xlink:href=\"#DejaVuSans-99\"/>\n      <use x=\"340.087891\" xlink:href=\"#DejaVuSans-99\"/>\n     </g>\n    </g>\n   </g>\n  </g>\n </g>\n <defs>\n  <clipPath id=\"p3d03458599\">\n   <rect height=\"135.9\" width=\"195.3\" x=\"30.103125\" y=\"7.2\"/>\n  </clipPath>\n </defs>\n</svg>\n"
          },
          "metadata": {
            "tags": [],
            "needs_background": "light"
          }
        }
      ]
    },
    {
      "cell_type": "markdown",
      "metadata": {
        "id": "ImPRmI68i42Z"
      },
      "source": [
        "## 3.6.7 prediction"
      ]
    },
    {
      "cell_type": "code",
      "metadata": {
        "colab": {
          "base_uri": "https://localhost:8080/",
          "height": 233
        },
        "id": "4xaXdIjP3kXb",
        "outputId": "d03d0677-8589-4782-a23e-0e26c083a16b"
      },
      "source": [
        "def predict_ch3(net, test_iter, n=6):  #@save\n",
        "    \"\"\"Predict labels (defined in Chapter 3).\"\"\"\n",
        "    for X, y in test_iter:\n",
        "        break\n",
        "    trues = d2l.get_fashion_mnist_labels(y)\n",
        "    preds = d2l.get_fashion_mnist_labels(net(X).argmax(axis=1))\n",
        "    titles = [true + '\\n' + pred for true, pred in zip(trues, preds)]\n",
        "    d2l.show_images(X[0:n].reshape((n, 28, 28)), 1, n, titles=titles[0:n])\n",
        "\n",
        "predict_ch3(net, test_iter)"
      ],
      "execution_count": 60,
      "outputs": [
        {
          "output_type": "stream",
          "text": [
            "/usr/local/lib/python3.7/dist-packages/torch/utils/data/dataloader.py:477: UserWarning: This DataLoader will create 4 worker processes in total. Our suggested max number of worker in current system is 2, which is smaller than what this DataLoader is going to create. Please be aware that excessive worker creation might get DataLoader running slow or even freeze, lower the worker number to avoid potential slowness/freeze if necessary.\n",
            "  cpuset_checked))\n"
          ],
          "name": "stderr"
        },
        {
          "output_type": "display_data",
          "data": {
            "text/plain": [
              "<Figure size 648x108 with 6 Axes>"
            ],
            "image/svg+xml": "<?xml version=\"1.0\" encoding=\"utf-8\" standalone=\"no\"?>\n<!DOCTYPE svg PUBLIC \"-//W3C//DTD SVG 1.1//EN\"\n  \"http://www.w3.org/Graphics/SVG/1.1/DTD/svg11.dtd\">\n<!-- Created with matplotlib (https://matplotlib.org/) -->\n<svg height=\"118.198357pt\" version=\"1.1\" viewBox=\"0 0 520.1 118.198357\" width=\"520.1pt\" xmlns=\"http://www.w3.org/2000/svg\" xmlns:xlink=\"http://www.w3.org/1999/xlink\">\n <defs>\n  <style type=\"text/css\">\n*{stroke-linecap:butt;stroke-linejoin:round;}\n  </style>\n </defs>\n <g id=\"figure_1\">\n  <g id=\"patch_1\">\n   <path d=\"M 0 118.198357 \nL 520.1 118.198357 \nL 520.1 0 \nL 0 0 \nz\n\" style=\"fill:none;\"/>\n  </g>\n  <g id=\"axes_1\">\n   <g id=\"patch_2\">\n    <path d=\"M 10.7 107.498357 \nL 82.442857 107.498357 \nL 82.442857 35.7555 \nL 10.7 35.7555 \nz\n\" style=\"fill:#ffffff;\"/>\n   </g>\n   <g clip-path=\"url(#pd012500760)\">\n    <image height=\"72\" id=\"image19a2dcebfe\" transform=\"scale(1 -1)translate(0 -72)\" width=\"72\" x=\"10.7\" xlink:href=\"data:image/png;base64,\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\" y=\"-35.498357\"/>\n   </g>\n   <g id=\"patch_3\">\n    <path d=\"M 10.7 107.498357 \nL 10.7 35.7555 \n\" style=\"fill:none;stroke:#000000;stroke-linecap:square;stroke-linejoin:miter;stroke-width:0.8;\"/>\n   </g>\n   <g id=\"patch_4\">\n    <path d=\"M 82.442857 107.498357 \nL 82.442857 35.7555 \n\" style=\"fill:none;stroke:#000000;stroke-linecap:square;stroke-linejoin:miter;stroke-width:0.8;\"/>\n   </g>\n   <g id=\"patch_5\">\n    <path d=\"M 10.7 107.498357 \nL 82.442857 107.498357 \n\" style=\"fill:none;stroke:#000000;stroke-linecap:square;stroke-linejoin:miter;stroke-width:0.8;\"/>\n   </g>\n   <g id=\"patch_6\">\n    <path d=\"M 10.7 35.7555 \nL 82.442857 35.7555 \n\" style=\"fill:none;stroke:#000000;stroke-linecap:square;stroke-linejoin:miter;stroke-width:0.8;\"/>\n   </g>\n   <g id=\"text_1\">\n    <!-- ankle boot -->\n    <defs>\n     <path d=\"M 34.28125 27.484375 \nQ 23.390625 27.484375 19.1875 25 \nQ 14.984375 22.515625 14.984375 16.5 \nQ 14.984375 11.71875 18.140625 8.90625 \nQ 21.296875 6.109375 26.703125 6.109375 \nQ 34.1875 6.109375 38.703125 11.40625 \nQ 43.21875 16.703125 43.21875 25.484375 \nL 43.21875 27.484375 \nz\nM 52.203125 31.203125 \nL 52.203125 0 \nL 43.21875 0 \nL 43.21875 8.296875 \nQ 40.140625 3.328125 35.546875 0.953125 \nQ 30.953125 -1.421875 24.3125 -1.421875 \nQ 15.921875 -1.421875 10.953125 3.296875 \nQ 6 8.015625 6 15.921875 \nQ 6 25.140625 12.171875 29.828125 \nQ 18.359375 34.515625 30.609375 34.515625 \nL 43.21875 34.515625 \nL 43.21875 35.40625 \nQ 43.21875 41.609375 39.140625 45 \nQ 35.0625 48.390625 27.6875 48.390625 \nQ 23 48.390625 18.546875 47.265625 \nQ 14.109375 46.140625 10.015625 43.890625 \nL 10.015625 52.203125 \nQ 14.9375 54.109375 19.578125 55.046875 \nQ 24.21875 56 28.609375 56 \nQ 40.484375 56 46.34375 49.84375 \nQ 52.203125 43.703125 52.203125 31.203125 \nz\n\" id=\"DejaVuSans-97\"/>\n     <path d=\"M 54.890625 33.015625 \nL 54.890625 0 \nL 45.90625 0 \nL 45.90625 32.71875 \nQ 45.90625 40.484375 42.875 44.328125 \nQ 39.84375 48.1875 33.796875 48.1875 \nQ 26.515625 48.1875 22.3125 43.546875 \nQ 18.109375 38.921875 18.109375 30.90625 \nL 18.109375 0 \nL 9.078125 0 \nL 9.078125 54.6875 \nL 18.109375 54.6875 \nL 18.109375 46.1875 \nQ 21.34375 51.125 25.703125 53.5625 \nQ 30.078125 56 35.796875 56 \nQ 45.21875 56 50.046875 50.171875 \nQ 54.890625 44.34375 54.890625 33.015625 \nz\n\" id=\"DejaVuSans-110\"/>\n     <path d=\"M 9.078125 75.984375 \nL 18.109375 75.984375 \nL 18.109375 31.109375 \nL 44.921875 54.6875 \nL 56.390625 54.6875 \nL 27.390625 29.109375 \nL 57.625 0 \nL 45.90625 0 \nL 18.109375 26.703125 \nL 18.109375 0 \nL 9.078125 0 \nz\n\" id=\"DejaVuSans-107\"/>\n     <path d=\"M 9.421875 75.984375 \nL 18.40625 75.984375 \nL 18.40625 0 \nL 9.421875 0 \nz\n\" id=\"DejaVuSans-108\"/>\n     <path d=\"M 56.203125 29.59375 \nL 56.203125 25.203125 \nL 14.890625 25.203125 \nQ 15.484375 15.921875 20.484375 11.0625 \nQ 25.484375 6.203125 34.421875 6.203125 \nQ 39.59375 6.203125 44.453125 7.46875 \nQ 49.3125 8.734375 54.109375 11.28125 \nL 54.109375 2.78125 \nQ 49.265625 0.734375 44.1875 -0.34375 \nQ 39.109375 -1.421875 33.890625 -1.421875 \nQ 20.796875 -1.421875 13.15625 6.1875 \nQ 5.515625 13.8125 5.515625 26.8125 \nQ 5.515625 40.234375 12.765625 48.109375 \nQ 20.015625 56 32.328125 56 \nQ 43.359375 56 49.78125 48.890625 \nQ 56.203125 41.796875 56.203125 29.59375 \nz\nM 47.21875 32.234375 \nQ 47.125 39.59375 43.09375 43.984375 \nQ 39.0625 48.390625 32.421875 48.390625 \nQ 24.90625 48.390625 20.390625 44.140625 \nQ 15.875 39.890625 15.1875 32.171875 \nz\n\" id=\"DejaVuSans-101\"/>\n     <path id=\"DejaVuSans-32\"/>\n     <path d=\"M 48.6875 27.296875 \nQ 48.6875 37.203125 44.609375 42.84375 \nQ 40.53125 48.484375 33.40625 48.484375 \nQ 26.265625 48.484375 22.1875 42.84375 \nQ 18.109375 37.203125 18.109375 27.296875 \nQ 18.109375 17.390625 22.1875 11.75 \nQ 26.265625 6.109375 33.40625 6.109375 \nQ 40.53125 6.109375 44.609375 11.75 \nQ 48.6875 17.390625 48.6875 27.296875 \nz\nM 18.109375 46.390625 \nQ 20.953125 51.265625 25.265625 53.625 \nQ 29.59375 56 35.59375 56 \nQ 45.5625 56 51.78125 48.09375 \nQ 58.015625 40.1875 58.015625 27.296875 \nQ 58.015625 14.40625 51.78125 6.484375 \nQ 45.5625 -1.421875 35.59375 -1.421875 \nQ 29.59375 -1.421875 25.265625 0.953125 \nQ 20.953125 3.328125 18.109375 8.203125 \nL 18.109375 0 \nL 9.078125 0 \nL 9.078125 75.984375 \nL 18.109375 75.984375 \nz\n\" id=\"DejaVuSans-98\"/>\n     <path d=\"M 30.609375 48.390625 \nQ 23.390625 48.390625 19.1875 42.75 \nQ 14.984375 37.109375 14.984375 27.296875 \nQ 14.984375 17.484375 19.15625 11.84375 \nQ 23.34375 6.203125 30.609375 6.203125 \nQ 37.796875 6.203125 41.984375 11.859375 \nQ 46.1875 17.53125 46.1875 27.296875 \nQ 46.1875 37.015625 41.984375 42.703125 \nQ 37.796875 48.390625 30.609375 48.390625 \nz\nM 30.609375 56 \nQ 42.328125 56 49.015625 48.375 \nQ 55.71875 40.765625 55.71875 27.296875 \nQ 55.71875 13.875 49.015625 6.21875 \nQ 42.328125 -1.421875 30.609375 -1.421875 \nQ 18.84375 -1.421875 12.171875 6.21875 \nQ 5.515625 13.875 5.515625 27.296875 \nQ 5.515625 40.765625 12.171875 48.375 \nQ 18.84375 56 30.609375 56 \nz\n\" id=\"DejaVuSans-111\"/>\n     <path d=\"M 18.3125 70.21875 \nL 18.3125 54.6875 \nL 36.8125 54.6875 \nL 36.8125 47.703125 \nL 18.3125 47.703125 \nL 18.3125 18.015625 \nQ 18.3125 11.328125 20.140625 9.421875 \nQ 21.96875 7.515625 27.59375 7.515625 \nL 36.8125 7.515625 \nL 36.8125 0 \nL 27.59375 0 \nQ 17.1875 0 13.234375 3.875 \nQ 9.28125 7.765625 9.28125 18.015625 \nL 9.28125 47.703125 \nL 2.6875 47.703125 \nL 2.6875 54.6875 \nL 9.28125 54.6875 \nL 9.28125 70.21875 \nz\n\" id=\"DejaVuSans-116\"/>\n    </defs>\n    <g transform=\"translate(14.848304 16.318125)scale(0.12 -0.12)\">\n     <use xlink:href=\"#DejaVuSans-97\"/>\n     <use x=\"61.279297\" xlink:href=\"#DejaVuSans-110\"/>\n     <use x=\"124.658203\" xlink:href=\"#DejaVuSans-107\"/>\n     <use x=\"182.568359\" xlink:href=\"#DejaVuSans-108\"/>\n     <use x=\"210.351562\" xlink:href=\"#DejaVuSans-101\"/>\n     <use x=\"271.875\" xlink:href=\"#DejaVuSans-32\"/>\n     <use x=\"303.662109\" xlink:href=\"#DejaVuSans-98\"/>\n     <use x=\"367.138672\" xlink:href=\"#DejaVuSans-111\"/>\n     <use x=\"428.320312\" xlink:href=\"#DejaVuSans-111\"/>\n     <use x=\"489.501953\" xlink:href=\"#DejaVuSans-116\"/>\n    </g>\n    <!-- ankle boot -->\n    <g transform=\"translate(14.848304 29.7555)scale(0.12 -0.12)\">\n     <use xlink:href=\"#DejaVuSans-97\"/>\n     <use x=\"61.279297\" xlink:href=\"#DejaVuSans-110\"/>\n     <use x=\"124.658203\" xlink:href=\"#DejaVuSans-107\"/>\n     <use x=\"182.568359\" xlink:href=\"#DejaVuSans-108\"/>\n     <use x=\"210.351562\" xlink:href=\"#DejaVuSans-101\"/>\n     <use x=\"271.875\" xlink:href=\"#DejaVuSans-32\"/>\n     <use x=\"303.662109\" xlink:href=\"#DejaVuSans-98\"/>\n     <use x=\"367.138672\" xlink:href=\"#DejaVuSans-111\"/>\n     <use x=\"428.320312\" xlink:href=\"#DejaVuSans-111\"/>\n     <use x=\"489.501953\" xlink:href=\"#DejaVuSans-116\"/>\n    </g>\n   </g>\n  </g>\n  <g id=\"axes_2\">\n   <g id=\"patch_7\">\n    <path d=\"M 96.791429 107.498357 \nL 168.534286 107.498357 \nL 168.534286 35.7555 \nL 96.791429 35.7555 \nz\n\" style=\"fill:#ffffff;\"/>\n   </g>\n   <g clip-path=\"url(#p2e15635547)\">\n    <image height=\"72\" id=\"image216d133f53\" transform=\"scale(1 -1)translate(0 -72)\" width=\"72\" x=\"96.791429\" xlink:href=\"data:image/png;base64,\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\" y=\"-35.498357\"/>\n   </g>\n   <g id=\"patch_8\">\n    <path d=\"M 96.791429 107.498357 \nL 96.791429 35.7555 \n\" style=\"fill:none;stroke:#000000;stroke-linecap:square;stroke-linejoin:miter;stroke-width:0.8;\"/>\n   </g>\n   <g id=\"patch_9\">\n    <path d=\"M 168.534286 107.498357 \nL 168.534286 35.7555 \n\" style=\"fill:none;stroke:#000000;stroke-linecap:square;stroke-linejoin:miter;stroke-width:0.8;\"/>\n   </g>\n   <g id=\"patch_10\">\n    <path d=\"M 96.791429 107.498357 \nL 168.534286 107.498357 \n\" style=\"fill:none;stroke:#000000;stroke-linecap:square;stroke-linejoin:miter;stroke-width:0.8;\"/>\n   </g>\n   <g id=\"patch_11\">\n    <path d=\"M 96.791429 35.7555 \nL 168.534286 35.7555 \n\" style=\"fill:none;stroke:#000000;stroke-linecap:square;stroke-linejoin:miter;stroke-width:0.8;\"/>\n   </g>\n   <g id=\"text_2\">\n    <!-- pullover -->\n    <defs>\n     <path d=\"M 18.109375 8.203125 \nL 18.109375 -20.796875 \nL 9.078125 -20.796875 \nL 9.078125 54.6875 \nL 18.109375 54.6875 \nL 18.109375 46.390625 \nQ 20.953125 51.265625 25.265625 53.625 \nQ 29.59375 56 35.59375 56 \nQ 45.5625 56 51.78125 48.09375 \nQ 58.015625 40.1875 58.015625 27.296875 \nQ 58.015625 14.40625 51.78125 6.484375 \nQ 45.5625 -1.421875 35.59375 -1.421875 \nQ 29.59375 -1.421875 25.265625 0.953125 \nQ 20.953125 3.328125 18.109375 8.203125 \nz\nM 48.6875 27.296875 \nQ 48.6875 37.203125 44.609375 42.84375 \nQ 40.53125 48.484375 33.40625 48.484375 \nQ 26.265625 48.484375 22.1875 42.84375 \nQ 18.109375 37.203125 18.109375 27.296875 \nQ 18.109375 17.390625 22.1875 11.75 \nQ 26.265625 6.109375 33.40625 6.109375 \nQ 40.53125 6.109375 44.609375 11.75 \nQ 48.6875 17.390625 48.6875 27.296875 \nz\n\" id=\"DejaVuSans-112\"/>\n     <path d=\"M 8.5 21.578125 \nL 8.5 54.6875 \nL 17.484375 54.6875 \nL 17.484375 21.921875 \nQ 17.484375 14.15625 20.5 10.265625 \nQ 23.53125 6.390625 29.59375 6.390625 \nQ 36.859375 6.390625 41.078125 11.03125 \nQ 45.3125 15.671875 45.3125 23.6875 \nL 45.3125 54.6875 \nL 54.296875 54.6875 \nL 54.296875 0 \nL 45.3125 0 \nL 45.3125 8.40625 \nQ 42.046875 3.421875 37.71875 1 \nQ 33.40625 -1.421875 27.6875 -1.421875 \nQ 18.265625 -1.421875 13.375 4.4375 \nQ 8.5 10.296875 8.5 21.578125 \nz\nM 31.109375 56 \nz\n\" id=\"DejaVuSans-117\"/>\n     <path d=\"M 2.984375 54.6875 \nL 12.5 54.6875 \nL 29.59375 8.796875 \nL 46.6875 54.6875 \nL 56.203125 54.6875 \nL 35.6875 0 \nL 23.484375 0 \nz\n\" id=\"DejaVuSans-118\"/>\n     <path d=\"M 41.109375 46.296875 \nQ 39.59375 47.171875 37.8125 47.578125 \nQ 36.03125 48 33.890625 48 \nQ 26.265625 48 22.1875 43.046875 \nQ 18.109375 38.09375 18.109375 28.8125 \nL 18.109375 0 \nL 9.078125 0 \nL 9.078125 54.6875 \nL 18.109375 54.6875 \nL 18.109375 46.1875 \nQ 20.953125 51.171875 25.484375 53.578125 \nQ 30.03125 56 36.53125 56 \nQ 37.453125 56 38.578125 55.875 \nQ 39.703125 55.765625 41.0625 55.515625 \nz\n\" id=\"DejaVuSans-114\"/>\n    </defs>\n    <g transform=\"translate(108.336607 16.318125)scale(0.12 -0.12)\">\n     <use xlink:href=\"#DejaVuSans-112\"/>\n     <use x=\"63.476562\" xlink:href=\"#DejaVuSans-117\"/>\n     <use x=\"126.855469\" xlink:href=\"#DejaVuSans-108\"/>\n     <use x=\"154.638672\" xlink:href=\"#DejaVuSans-108\"/>\n     <use x=\"182.421875\" xlink:href=\"#DejaVuSans-111\"/>\n     <use x=\"243.603516\" xlink:href=\"#DejaVuSans-118\"/>\n     <use x=\"302.783203\" xlink:href=\"#DejaVuSans-101\"/>\n     <use x=\"364.306641\" xlink:href=\"#DejaVuSans-114\"/>\n    </g>\n    <!-- pullover -->\n    <g transform=\"translate(108.336607 29.7555)scale(0.12 -0.12)\">\n     <use xlink:href=\"#DejaVuSans-112\"/>\n     <use x=\"63.476562\" xlink:href=\"#DejaVuSans-117\"/>\n     <use x=\"126.855469\" xlink:href=\"#DejaVuSans-108\"/>\n     <use x=\"154.638672\" xlink:href=\"#DejaVuSans-108\"/>\n     <use x=\"182.421875\" xlink:href=\"#DejaVuSans-111\"/>\n     <use x=\"243.603516\" xlink:href=\"#DejaVuSans-118\"/>\n     <use x=\"302.783203\" xlink:href=\"#DejaVuSans-101\"/>\n     <use x=\"364.306641\" xlink:href=\"#DejaVuSans-114\"/>\n    </g>\n   </g>\n  </g>\n  <g id=\"axes_3\">\n   <g id=\"patch_12\">\n    <path d=\"M 182.882857 107.498357 \nL 254.625714 107.498357 \nL 254.625714 35.7555 \nL 182.882857 35.7555 \nz\n\" style=\"fill:#ffffff;\"/>\n   </g>\n   <g clip-path=\"url(#p735cf5ba28)\">\n    <image height=\"72\" id=\"imageab9737e691\" transform=\"scale(1 -1)translate(0 -72)\" width=\"72\" x=\"182.882857\" xlink:href=\"data:image/png;base64,\niVBORw0KGgoAAAANSUhEUgAAAEgAAABICAYAAABV7bNHAAAABHNCSVQICAgIfAhkiAAAD3hJREFUeJzdnFuPJMlVx38nIiMrq6qr7z3TM3uZXWu97C62QH4wAiFLICNLCCEe/CGQ+EIg8UmQQIgHIzA3AcY28np3ZvY6M32tW2ZGRhw/RFZV33a82q1s1BxpVN3TlZc4eS7/8z8nUr4vP1RuScxoxPQP3+X0rYxqR2neKLFZwP50g+3/jRTHDf1//YDw4mh5jN3cpP7OW8wPHCfvWPrffcGoVzOtc+rGMn66yf1/FIqjhv77R4RffLDee17r2b6MCKiAGhCjSPuzWlArYO2NxyCCChgBEcWaiBEFk86HSCe3m3Vy1i8QyR3nr2VM3q0Z7sz53Vc+ZDOb8+PtR3zy1jbyccHr1WsUwwF6PiYcHUO/4PxRj/HrQv3NOX/0ys/YdxNmMaeMjr/J3mHy5IDQE3rPB0lRuj6nuGUF5UxeV77/rZ/y7vBTfrj5n+yajNODf2AcDX919D3+/qPvsmv3KR5ncHyK9AvGbwj63pjvvf4hf773I/ZNjicQVRnZkr989AeEXsbm42LtC+pGQQtzv/okjSHmykE+ZjebUIjgxFJIwEvEEpEGbBUghOW5olVcFulbTyFCTzIsgifgJHSyhIWsX0EiiLVoVNBw7W86CPzm4GP27ISjIIxjxdNmk8+aLf7t+DW2Hnvczz5GZ3OI6XhRiFGoQsY0Kj2pmMWABz73m9ipJZuBqePal9OZi4kRVK/EAxEkDxxmpxTimWnGTOFZGPHU73I8HXD/uCZ8/mx1THu8qhARPILXSKkwU8u06WEaMB4k3CEFJQtKi7Obm8jeDvUrO/Q3KrbNHIviJBIQLF8cVDWzNAPl4eaE/XxCUKHUyEIVVcywpZDNFePjS8701aQTBSXlrJ6m7O8yee8e00PLazvPeWhrAuAVSjU4aXASUtq+KtYStht+e+8j3ihe4DFUGqk1IZR5cGRTyMeKVH7tClo/DtLLygHQnqPeNPiRsOEqrAgLtGNFmcUeJ82QurHItcAuYLUN0B6AwArzRBVEU5xi/R52O2ne7w05/aahuhd4NDimbpXgJFnRj8Zv8XdP3qb6YISZnF5fpwpNNHhNarXoUkmZCaiFaAG7frDYDZJWvRSc/chRPvT0Dycc9s7wmh72wop+MT5g9nRE/3ODlNXlc8X05YvKgWR5i8+ExKUTNH0rpUYzMAz2ZzzaPWHXTolAaPXn1XBWFeSnBjdWpLkCDVoX65nmEuYJKu0ClGghZq2S1iy34mLljuFPvvETvjv8JQfZOVPNcEScRLwanh1vsvOB0n8R0Hl5+WARTBbZyWYUxl9fgAmEvtL0hZhnrFtFt6Kg6ODV/IRXshOcBKIKSHKzgBBqi5sp2TxA01w7XgwUxuOkwVzJUysXg7Vrh9uqxZRUXKpLv0vAYyhVmWqOzi3FkcedVeAvK0iNoVfUPMpfsG2nxFYLIxMpRBhlyeIkpuusW25FQdIG2VIdRuKlhcxiDzszuOMpZjJHr1qQFQY9z2vuiLzNbwFhZAxbps+WnafvdcRqdaogcTliDdEJPbPCMbDKSrVaxAumrJGyJobrxaeIYtGbgSQtBlKuY6g1SHe1WJZh93agX1Bvwv3sjF07Yxbd0tWmmnMcNnBjgY8/J1QVWtdXTiRYEym+oGqPyEo5cf0K6i7Ni4Gihw4KYp6C7GKRASEgeM0oo8M0EGcztKpuJLuMpLrNoNeCNJDc6665mOSO5t4W1V5BvR3ZNjMKUQppqLHkBAozo3QOvYFlXYiKkNvASBQvyjRef6bLUqMD6U5BRY/5gz7TQ4vuVmzbGQMRphLINTAwngPTEDgmupecyEA/8+zaHmexZsoKJAIEbUlpVUTXb0gdupjQFAa/IWS95hKlYSQSVRircBr7KUW/7CZFMRgMLNP85WtpJxgIOrWggukDw+TNwKO9MyyKV8UKFASOw4B/Lg95v7yHm7z8XCkGJT9cxK/YMgZWYjKg9t+6pbs0bw1+BGan5qA/WaZoS0rZU815Uu3xeLaLqVoO6QtkEZgtklD4LUqHCrL4kXKwe85hcQ6AJ/l0IYEy5nw42+PpeJus/HKRI6DUbVQIJEBpaHtjtm2arVk6i0HaczR7nt+595j3Bp8QVShVsAIDgXEs+PnxPT59to2bfjkFeU3kWqluyRlZiUTbNh7vkoIQQVyqwgemuvbnWjNKn6GlxTQvUdANHE9UQ7iAl7p0uu5Ie2PIC8+bvWfsZSkKBxUCihE4aYZMTgZkxxnZrLlG0y7bR0ZS/QZYEZw0y58hlSzSgPGKdICku4tBBvK84V42ZmAqjCgRIZJo1nEokInFjQVb3ZDnxYC1qL1s5Fc7IEENEgTTKBL0bnQ1ABChcA0Hdgwk5jC2rR4nSmE8miuxp2h23UnECCKJN7pYpIYrDmUloiaxil0kuO6CtDHsD6a86+C+rVu6I1tedMOW2JHHj5TQM8liLooYcO5S4A2qeM3wunquTgLRQcwFzda/nO6CtIHcBAYmJ2/jRUCWZYKTgLEBdXpzLWYEsQas3EhzhEsd2zRCc2dJe1gg4NXlhqZiezRHtmqa3vXbMNtb6KsPmN3LKaynUk+pUKqjVsuC/EgWpETXTZq/FUYxqBIwRDXLQD0wFfeGE0qfEXrF5QNEYDSkOhxS7hj61uM1UKqhVrvMYJDqOs00dTVuiGVfV27FglIndUWXBoVcAtv5nFFREW94TFr0qHYd9aawYav2PErEENSsgGJXRFArtzZAtehpRRVmWEZmznc2n7DpSn60cZimQRarFkN1OOT4HUP5oOEb/ef0xGHb8iLe4uTgrShosZxly1gNTgL33RnjUNzIB4W+xW9FzMgzMvPV/6vB/jp+ZI1yaxZk0VUfDKEQzxvuOQAhv/79kAthGBn060sNw9tUDtzyjCKsuhkjU/ONrGZkPib2Ln9HjBB6gh3VbA/nFOKJxCVINF2McXyB3P4YMCzTvRODIyHhq0AxWiFzDUXWkEu4hHuuxSDTjhLfZRy0kEUnI6rgsBQSUZtIfsmyJdgLBdzbmvD6xgmFeDwBrymDXZSe8WgvEgoluv8HCgoIHrt0F7sYKrf20hB5zGC7mLPrpjhpiF/QFLREsIp2BBQ7VVAdLZX6xEW3eCW0VrCKJ9BsRPSNh9iHh5heD8TQDIRvbX7Ct4cfcWDn9CTDtFkwnSNdw0mDyROaTjNC611Sd0E6QhUyzmLNglE1EomYtuC0QEMugtmtOf+NLYqjIb3zMXo+wY/gT7f+nUfZnC2Tp9lo8S0aX0lhPL3CMx+4u+ViokqIhlr1Ws65SFkYIO95qk2DH1nI0jOLVhmZmpHJsCK8bH5VFm2fu0R3oMq4ynncDDiKPYwoORFDXHY2IGWyd+59zsm3lZO3MxgNE/luYCABg+Es1nwa5oyjw0mgMH45jhjV4H0agJCw/rKjOwUFpfKOz5ptxjEVo0b0GtBzWN7b/IzBo3PmhxEtEihSSUOeTizTqBwHR6lZOzLcLG88YIjRII382gbkV5FOg3TTGKYxx2u2tBpLUlJAqLSh0oZ9N+aVrTPCKKBulcksEFkNjS/w08UCNSy7htytASqJkcZnvGg2KYzHoFhRjCQ3CxhOY8QJfLt4yuBBzV/PB8T+4NpTC8iyH5ZLwEmznJCNGGIQbCOJtL9K/n9N6dSCYhBmCwuShQWtFpD2XcDIlLzujtgp5jQbDrMx5AKrSlAh6v8J6O9QQU2AseM/zl7lo3oXSDFl4WJRDePoGGvGUBoeZSd8//5P+eDPDB/8xTs8+K3PsCKU2hCX/XizxEEe8BowRLK8IfRjSvN3BQdJE7Bjw+OzXR72zwBwJF5oQXtMNSfXwH0758Bm/PHGf+N/P+OzepPfG/0CgEojXjMCK+VYUYKm+GRF6fUafB6JHZD2HQLFSFYK59OCU98HErPo1VK3Ff2SRAO8pnbQw/wEZxpGdk6pSRHLfvwFN/Mk67JE8qyBPKI37Xf9mtKdgnxD8RzGowHvb+3jH6TpnlId49hnaCpGzHESKNVyHAMgfKd4QtQUlJ82AwJpj0aiWVcKKtUyjg1GIgfDKZV3NL0biKWvKd0pKASyuZJNhVmVbtzQFqvtghdpPyCUanES2TUpQz2PGadhcI3aWOCoqELVpvUNV9Fz/qWjfF9VuuvNNw2984h/YZlME1B0YigkjQMveuyLXlkKuoay7YGN48oaFtXXgrBHYgKNmoJ9bgKFa6g7SDndWVDtKY480QpnE4dBKcQxFM/AVJf2fi2zE4YyuEtWcxN7GNRQYynVEjAMs5oia6g6sKDuWs+qmDLgZhHxqR9mMDeWGy+Tqy52U0ejUUOI5m4haa1r3Odn2PmA7HwL32YgR6QQj0WpSZNPti1gISblaetOy/LctOhbWheDnMCgddPn5QYnsz6965uBvrZ0GqR1OsPEiC23L1Eci1pqgY4XFrWs8lslBS4wjFwg2tRgJJJLJGjaLu4bS7+Dar7bXc/zEo2KqVccUC5xGaAvTmnAqiV0NaVDikVWUlFqJTKUhi0j5BKYeUddpYn9dUuHQDEQxmOYTLF1shaDtEOczVJh4YoiFspZoeaWQ2rLE4tiiIxMYMcMMBI5nxeEaYbxd4kPgrTvIgYkttlqOc7b8tPtQMOvk0vudUFsW3eFYKAjPuh2GocRTuOAs3hEJBFnMRpOwwCvGcMLaT+XQCCCZngM/sJkwwISXMyC49BnPu6RnVtsecOs49eUW9tQN409Zrrazl1jGcf+stNqTHIjJ8npvGZLq1mQ/AtM5DQsuxqlOigt2Uywd+ndHRfFeOVxvc9hdsaemTOSBmvmxOyEWi1DUzG8ABwD0k6nVUsQCav45KShaL2tig47M3fs5SZXXo/jZvBPJ2/iY8YPRv/F2y4nEnmUzQDabSrpdTfHIeARClEGIlgE036WGhjHtN9jZNKtHzdD8mND/7liJ/Ud2u1z8SJeeTYb8VG1wzgWaRDhUq99UYAqpRpmMaNUwasS2iWbC7caNNEjlXrOm4KsBDdXTL3+PH8rLrbxScWTHx/ydPeAJ+/t8IOD/+G4GfL+bJ86Zmy5ORu2YhJ6PJ7sUjaOIvMMsprMRLZcSc80VDFjHhzOBF4pTtl3Y/728dvs/7xh8OE5PDte6+u5oCsFXblJ9/Ep9//lgHLb8hP7KlXIeDEZcvrpJuIFHQbcoKapMuQox1aSBjNzBQtaBMRFiIIGQawy2p6xvzGl+uUmw599Rnj/w7UrB24tiykSFnvb05amsGjVxPSGAY0GjYIJCc9IFCSAirbfEXTx2R4aokl76ULsRDkAvwLs5tDCzGtePgAAAABJRU5ErkJggg==\" y=\"-35.498357\"/>\n   </g>\n   <g id=\"patch_13\">\n    <path d=\"M 182.882857 107.498357 \nL 182.882857 35.7555 \n\" style=\"fill:none;stroke:#000000;stroke-linecap:square;stroke-linejoin:miter;stroke-width:0.8;\"/>\n   </g>\n   <g id=\"patch_14\">\n    <path d=\"M 254.625714 107.498357 \nL 254.625714 35.7555 \n\" style=\"fill:none;stroke:#000000;stroke-linecap:square;stroke-linejoin:miter;stroke-width:0.8;\"/>\n   </g>\n   <g id=\"patch_15\">\n    <path d=\"M 182.882857 107.498357 \nL 254.625714 107.498357 \n\" style=\"fill:none;stroke:#000000;stroke-linecap:square;stroke-linejoin:miter;stroke-width:0.8;\"/>\n   </g>\n   <g id=\"patch_16\">\n    <path d=\"M 182.882857 35.7555 \nL 254.625714 35.7555 \n\" style=\"fill:none;stroke:#000000;stroke-linecap:square;stroke-linejoin:miter;stroke-width:0.8;\"/>\n   </g>\n   <g id=\"text_3\">\n    <!-- trouser -->\n    <defs>\n     <path d=\"M 44.28125 53.078125 \nL 44.28125 44.578125 \nQ 40.484375 46.53125 36.375 47.5 \nQ 32.28125 48.484375 27.875 48.484375 \nQ 21.1875 48.484375 17.84375 46.4375 \nQ 14.5 44.390625 14.5 40.28125 \nQ 14.5 37.15625 16.890625 35.375 \nQ 19.28125 33.59375 26.515625 31.984375 \nL 29.59375 31.296875 \nQ 39.15625 29.25 43.1875 25.515625 \nQ 47.21875 21.78125 47.21875 15.09375 \nQ 47.21875 7.46875 41.1875 3.015625 \nQ 35.15625 -1.421875 24.609375 -1.421875 \nQ 20.21875 -1.421875 15.453125 -0.5625 \nQ 10.6875 0.296875 5.421875 2 \nL 5.421875 11.28125 \nQ 10.40625 8.6875 15.234375 7.390625 \nQ 20.0625 6.109375 24.8125 6.109375 \nQ 31.15625 6.109375 34.5625 8.28125 \nQ 37.984375 10.453125 37.984375 14.40625 \nQ 37.984375 18.0625 35.515625 20.015625 \nQ 33.0625 21.96875 24.703125 23.78125 \nL 21.578125 24.515625 \nQ 13.234375 26.265625 9.515625 29.90625 \nQ 5.8125 33.546875 5.8125 39.890625 \nQ 5.8125 47.609375 11.28125 51.796875 \nQ 16.75 56 26.8125 56 \nQ 31.78125 56 36.171875 55.265625 \nQ 40.578125 54.546875 44.28125 53.078125 \nz\n\" id=\"DejaVuSans-115\"/>\n    </defs>\n    <g transform=\"translate(197.312723 16.318125)scale(0.12 -0.12)\">\n     <use xlink:href=\"#DejaVuSans-116\"/>\n     <use x=\"39.208984\" xlink:href=\"#DejaVuSans-114\"/>\n     <use x=\"78.072266\" xlink:href=\"#DejaVuSans-111\"/>\n     <use x=\"139.253906\" xlink:href=\"#DejaVuSans-117\"/>\n     <use x=\"202.632812\" xlink:href=\"#DejaVuSans-115\"/>\n     <use x=\"254.732422\" xlink:href=\"#DejaVuSans-101\"/>\n     <use x=\"316.255859\" xlink:href=\"#DejaVuSans-114\"/>\n    </g>\n    <!-- trouser -->\n    <g transform=\"translate(197.312723 29.7555)scale(0.12 -0.12)\">\n     <use xlink:href=\"#DejaVuSans-116\"/>\n     <use x=\"39.208984\" xlink:href=\"#DejaVuSans-114\"/>\n     <use x=\"78.072266\" xlink:href=\"#DejaVuSans-111\"/>\n     <use x=\"139.253906\" xlink:href=\"#DejaVuSans-117\"/>\n     <use x=\"202.632812\" xlink:href=\"#DejaVuSans-115\"/>\n     <use x=\"254.732422\" xlink:href=\"#DejaVuSans-101\"/>\n     <use x=\"316.255859\" xlink:href=\"#DejaVuSans-114\"/>\n    </g>\n   </g>\n  </g>\n  <g id=\"axes_4\">\n   <g id=\"patch_17\">\n    <path d=\"M 268.974286 107.498357 \nL 340.717143 107.498357 \nL 340.717143 35.7555 \nL 268.974286 35.7555 \nz\n\" style=\"fill:#ffffff;\"/>\n   </g>\n   <g clip-path=\"url(#pf54e867f5d)\">\n    <image height=\"72\" id=\"image943c8feb8a\" transform=\"scale(1 -1)translate(0 -72)\" width=\"72\" x=\"268.974286\" xlink:href=\"data:image/png;base64,\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\" y=\"-35.498357\"/>\n   </g>\n   <g id=\"patch_18\">\n    <path d=\"M 268.974286 107.498357 \nL 268.974286 35.7555 \n\" style=\"fill:none;stroke:#000000;stroke-linecap:square;stroke-linejoin:miter;stroke-width:0.8;\"/>\n   </g>\n   <g id=\"patch_19\">\n    <path d=\"M 340.717143 107.498357 \nL 340.717143 35.7555 \n\" style=\"fill:none;stroke:#000000;stroke-linecap:square;stroke-linejoin:miter;stroke-width:0.8;\"/>\n   </g>\n   <g id=\"patch_20\">\n    <path d=\"M 268.974286 107.498357 \nL 340.717143 107.498357 \n\" style=\"fill:none;stroke:#000000;stroke-linecap:square;stroke-linejoin:miter;stroke-width:0.8;\"/>\n   </g>\n   <g id=\"patch_21\">\n    <path d=\"M 268.974286 35.7555 \nL 340.717143 35.7555 \n\" style=\"fill:none;stroke:#000000;stroke-linecap:square;stroke-linejoin:miter;stroke-width:0.8;\"/>\n   </g>\n   <g id=\"text_4\">\n    <!-- trouser -->\n    <g transform=\"translate(283.404152 16.318125)scale(0.12 -0.12)\">\n     <use xlink:href=\"#DejaVuSans-116\"/>\n     <use x=\"39.208984\" xlink:href=\"#DejaVuSans-114\"/>\n     <use x=\"78.072266\" xlink:href=\"#DejaVuSans-111\"/>\n     <use x=\"139.253906\" xlink:href=\"#DejaVuSans-117\"/>\n     <use x=\"202.632812\" xlink:href=\"#DejaVuSans-115\"/>\n     <use x=\"254.732422\" xlink:href=\"#DejaVuSans-101\"/>\n     <use x=\"316.255859\" xlink:href=\"#DejaVuSans-114\"/>\n    </g>\n    <!-- trouser -->\n    <g transform=\"translate(283.404152 29.7555)scale(0.12 -0.12)\">\n     <use xlink:href=\"#DejaVuSans-116\"/>\n     <use x=\"39.208984\" xlink:href=\"#DejaVuSans-114\"/>\n     <use x=\"78.072266\" xlink:href=\"#DejaVuSans-111\"/>\n     <use x=\"139.253906\" xlink:href=\"#DejaVuSans-117\"/>\n     <use x=\"202.632812\" xlink:href=\"#DejaVuSans-115\"/>\n     <use x=\"254.732422\" xlink:href=\"#DejaVuSans-101\"/>\n     <use x=\"316.255859\" xlink:href=\"#DejaVuSans-114\"/>\n    </g>\n   </g>\n  </g>\n  <g id=\"axes_5\">\n   <g id=\"patch_22\">\n    <path d=\"M 355.065714 107.498357 \nL 426.808571 107.498357 \nL 426.808571 35.7555 \nL 355.065714 35.7555 \nz\n\" style=\"fill:#ffffff;\"/>\n   </g>\n   <g clip-path=\"url(#pb4bb337f6a)\">\n    <image height=\"72\" id=\"imagee9a6caf7c9\" transform=\"scale(1 -1)translate(0 -72)\" width=\"72\" x=\"355.065714\" xlink:href=\"data:image/png;base64,\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\" y=\"-35.498357\"/>\n   </g>\n   <g id=\"patch_23\">\n    <path d=\"M 355.065714 107.498357 \nL 355.065714 35.7555 \n\" style=\"fill:none;stroke:#000000;stroke-linecap:square;stroke-linejoin:miter;stroke-width:0.8;\"/>\n   </g>\n   <g id=\"patch_24\">\n    <path d=\"M 426.808571 107.498357 \nL 426.808571 35.7555 \n\" style=\"fill:none;stroke:#000000;stroke-linecap:square;stroke-linejoin:miter;stroke-width:0.8;\"/>\n   </g>\n   <g id=\"patch_25\">\n    <path d=\"M 355.065714 107.498357 \nL 426.808571 107.498357 \n\" style=\"fill:none;stroke:#000000;stroke-linecap:square;stroke-linejoin:miter;stroke-width:0.8;\"/>\n   </g>\n   <g id=\"patch_26\">\n    <path d=\"M 355.065714 35.7555 \nL 426.808571 35.7555 \n\" style=\"fill:none;stroke:#000000;stroke-linecap:square;stroke-linejoin:miter;stroke-width:0.8;\"/>\n   </g>\n   <g id=\"text_5\">\n    <!-- shirt -->\n    <defs>\n     <path d=\"M 54.890625 33.015625 \nL 54.890625 0 \nL 45.90625 0 \nL 45.90625 32.71875 \nQ 45.90625 40.484375 42.875 44.328125 \nQ 39.84375 48.1875 33.796875 48.1875 \nQ 26.515625 48.1875 22.3125 43.546875 \nQ 18.109375 38.921875 18.109375 30.90625 \nL 18.109375 0 \nL 9.078125 0 \nL 9.078125 75.984375 \nL 18.109375 75.984375 \nL 18.109375 46.1875 \nQ 21.34375 51.125 25.703125 53.5625 \nQ 30.078125 56 35.796875 56 \nQ 45.21875 56 50.046875 50.171875 \nQ 54.890625 44.34375 54.890625 33.015625 \nz\n\" id=\"DejaVuSans-104\"/>\n     <path d=\"M 9.421875 54.6875 \nL 18.40625 54.6875 \nL 18.40625 0 \nL 9.421875 0 \nz\nM 9.421875 75.984375 \nL 18.40625 75.984375 \nL 18.40625 64.59375 \nL 9.421875 64.59375 \nz\n\" id=\"DejaVuSans-105\"/>\n    </defs>\n    <g transform=\"translate(377.523393 16.318125)scale(0.12 -0.12)\">\n     <use xlink:href=\"#DejaVuSans-115\"/>\n     <use x=\"52.099609\" xlink:href=\"#DejaVuSans-104\"/>\n     <use x=\"115.478516\" xlink:href=\"#DejaVuSans-105\"/>\n     <use x=\"143.261719\" xlink:href=\"#DejaVuSans-114\"/>\n     <use x=\"184.375\" xlink:href=\"#DejaVuSans-116\"/>\n    </g>\n    <!-- shirt -->\n    <g transform=\"translate(377.523393 29.7555)scale(0.12 -0.12)\">\n     <use xlink:href=\"#DejaVuSans-115\"/>\n     <use x=\"52.099609\" xlink:href=\"#DejaVuSans-104\"/>\n     <use x=\"115.478516\" xlink:href=\"#DejaVuSans-105\"/>\n     <use x=\"143.261719\" xlink:href=\"#DejaVuSans-114\"/>\n     <use x=\"184.375\" xlink:href=\"#DejaVuSans-116\"/>\n    </g>\n   </g>\n  </g>\n  <g id=\"axes_6\">\n   <g id=\"patch_27\">\n    <path d=\"M 441.157143 107.498357 \nL 512.9 107.498357 \nL 512.9 35.7555 \nL 441.157143 35.7555 \nz\n\" style=\"fill:#ffffff;\"/>\n   </g>\n   <g clip-path=\"url(#p2ef719178a)\">\n    <image height=\"72\" id=\"imagec22767bf7f\" transform=\"scale(1 -1)translate(0 -72)\" width=\"72\" x=\"441.157143\" xlink:href=\"data:image/png;base64,\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\" y=\"-35.498357\"/>\n   </g>\n   <g id=\"patch_28\">\n    <path d=\"M 441.157143 107.498357 \nL 441.157143 35.7555 \n\" style=\"fill:none;stroke:#000000;stroke-linecap:square;stroke-linejoin:miter;stroke-width:0.8;\"/>\n   </g>\n   <g id=\"patch_29\">\n    <path d=\"M 512.9 107.498357 \nL 512.9 35.7555 \n\" style=\"fill:none;stroke:#000000;stroke-linecap:square;stroke-linejoin:miter;stroke-width:0.8;\"/>\n   </g>\n   <g id=\"patch_30\">\n    <path d=\"M 441.157143 107.498357 \nL 512.9 107.498357 \n\" style=\"fill:none;stroke:#000000;stroke-linecap:square;stroke-linejoin:miter;stroke-width:0.8;\"/>\n   </g>\n   <g id=\"patch_31\">\n    <path d=\"M 441.157143 35.7555 \nL 512.9 35.7555 \n\" style=\"fill:none;stroke:#000000;stroke-linecap:square;stroke-linejoin:miter;stroke-width:0.8;\"/>\n   </g>\n   <g id=\"text_6\">\n    <!-- trouser -->\n    <g transform=\"translate(455.587009 16.318125)scale(0.12 -0.12)\">\n     <use xlink:href=\"#DejaVuSans-116\"/>\n     <use x=\"39.208984\" xlink:href=\"#DejaVuSans-114\"/>\n     <use x=\"78.072266\" xlink:href=\"#DejaVuSans-111\"/>\n     <use x=\"139.253906\" xlink:href=\"#DejaVuSans-117\"/>\n     <use x=\"202.632812\" xlink:href=\"#DejaVuSans-115\"/>\n     <use x=\"254.732422\" xlink:href=\"#DejaVuSans-101\"/>\n     <use x=\"316.255859\" xlink:href=\"#DejaVuSans-114\"/>\n    </g>\n    <!-- trouser -->\n    <g transform=\"translate(455.587009 29.7555)scale(0.12 -0.12)\">\n     <use xlink:href=\"#DejaVuSans-116\"/>\n     <use x=\"39.208984\" xlink:href=\"#DejaVuSans-114\"/>\n     <use x=\"78.072266\" xlink:href=\"#DejaVuSans-111\"/>\n     <use x=\"139.253906\" xlink:href=\"#DejaVuSans-117\"/>\n     <use x=\"202.632812\" xlink:href=\"#DejaVuSans-115\"/>\n     <use x=\"254.732422\" xlink:href=\"#DejaVuSans-101\"/>\n     <use x=\"316.255859\" xlink:href=\"#DejaVuSans-114\"/>\n    </g>\n   </g>\n  </g>\n </g>\n <defs>\n  <clipPath id=\"pd012500760\">\n   <rect height=\"71.742857\" width=\"71.742857\" x=\"10.7\" y=\"35.7555\"/>\n  </clipPath>\n  <clipPath id=\"p2e15635547\">\n   <rect height=\"71.742857\" width=\"71.742857\" x=\"96.791429\" y=\"35.7555\"/>\n  </clipPath>\n  <clipPath id=\"p735cf5ba28\">\n   <rect height=\"71.742857\" width=\"71.742857\" x=\"182.882857\" y=\"35.7555\"/>\n  </clipPath>\n  <clipPath id=\"pf54e867f5d\">\n   <rect height=\"71.742857\" width=\"71.742857\" x=\"268.974286\" y=\"35.7555\"/>\n  </clipPath>\n  <clipPath id=\"pb4bb337f6a\">\n   <rect height=\"71.742857\" width=\"71.742857\" x=\"355.065714\" y=\"35.7555\"/>\n  </clipPath>\n  <clipPath id=\"p2ef719178a\">\n   <rect height=\"71.742857\" width=\"71.742857\" x=\"441.157143\" y=\"35.7555\"/>\n  </clipPath>\n </defs>\n</svg>\n"
          },
          "metadata": {
            "tags": [],
            "needs_background": "light"
          }
        }
      ]
    },
    {
      "cell_type": "markdown",
      "metadata": {
        "id": "5hz5ZGqBoMZI"
      },
      "source": [
        "# 3.7 Concise Implementation of Softmax Regression"
      ]
    },
    {
      "cell_type": "code",
      "metadata": {
        "id": "20kHkXj4iuxh"
      },
      "source": [
        "import torch\n",
        "from torch import nn\n",
        "from d2l import torch as d2l"
      ],
      "execution_count": 61,
      "outputs": []
    },
    {
      "cell_type": "code",
      "metadata": {
        "colab": {
          "base_uri": "https://localhost:8080/"
        },
        "id": "Po2lrMY7oKbS",
        "outputId": "4b87daa9-a22f-415f-f69d-749e4b97fe52"
      },
      "source": [
        "batch_size = 256\n",
        "train_iter, test_iter = d2l.load_data_fashion_mnist(batch_size)"
      ],
      "execution_count": 62,
      "outputs": [
        {
          "output_type": "stream",
          "text": [
            "/usr/local/lib/python3.7/dist-packages/torch/utils/data/dataloader.py:477: UserWarning: This DataLoader will create 4 worker processes in total. Our suggested max number of worker in current system is 2, which is smaller than what this DataLoader is going to create. Please be aware that excessive worker creation might get DataLoader running slow or even freeze, lower the worker number to avoid potential slowness/freeze if necessary.\n",
            "  cpuset_checked))\n"
          ],
          "name": "stderr"
        }
      ]
    },
    {
      "cell_type": "markdown",
      "metadata": {
        "id": "K9Acb2G_602F"
      },
      "source": [
        "torch.utils.data.loader에 상속된 DataLoader를 이용해 train_iter 와 test_iter를 배치 사이즈를 기준으로 만들어 내는 과정이라고 볼 수 있다."
      ]
    },
    {
      "cell_type": "code",
      "metadata": {
        "colab": {
          "base_uri": "https://localhost:8080/"
        },
        "id": "ekAhWBXP3lTs",
        "outputId": "2313c903-65f9-4ccf-bac5-15e223946557"
      },
      "source": [
        "print(type(train_iter))"
      ],
      "execution_count": 63,
      "outputs": [
        {
          "output_type": "stream",
          "text": [
            "<class 'torch.utils.data.dataloader.DataLoader'>\n"
          ],
          "name": "stdout"
        }
      ]
    },
    {
      "cell_type": "markdown",
      "metadata": {
        "id": "7FctyuOXzskf"
      },
      "source": [
        "## 3.7.1 initializing Model parameters"
      ]
    },
    {
      "cell_type": "code",
      "metadata": {
        "id": "gOTXsgQCzD5d"
      },
      "source": [
        "net = nn.Sequential(nn.Flatten(),nn.Linear(784,10))"
      ],
      "execution_count": 64,
      "outputs": []
    },
    {
      "cell_type": "code",
      "metadata": {
        "colab": {
          "base_uri": "https://localhost:8080/"
        },
        "id": "PbOlXCtxoKd2",
        "outputId": "4364e7db-b1a2-4310-8c66-52f389e64a8b"
      },
      "source": [
        "def init_weights(m):\n",
        "    print(type(m))\n",
        "    print('!!!!!!')\n",
        "    print(nn.Linear)\n",
        "    if type(m) == nn.Linear:\n",
        "        print(m.weight.shape)\n",
        "        nn.init.normal_(m.weight,std = 0.01)\n",
        "\n",
        "net.apply(init_weights)"
      ],
      "execution_count": 65,
      "outputs": [
        {
          "output_type": "stream",
          "text": [
            "<class 'torch.nn.modules.flatten.Flatten'>\n",
            "!!!!!!\n",
            "<class 'torch.nn.modules.linear.Linear'>\n",
            "<class 'torch.nn.modules.linear.Linear'>\n",
            "!!!!!!\n",
            "<class 'torch.nn.modules.linear.Linear'>\n",
            "torch.Size([10, 784])\n",
            "<class 'torch.nn.modules.container.Sequential'>\n",
            "!!!!!!\n",
            "<class 'torch.nn.modules.linear.Linear'>\n"
          ],
          "name": "stdout"
        },
        {
          "output_type": "execute_result",
          "data": {
            "text/plain": [
              "Sequential(\n",
              "  (0): Flatten(start_dim=1, end_dim=-1)\n",
              "  (1): Linear(in_features=784, out_features=10, bias=True)\n",
              ")"
            ]
          },
          "metadata": {
            "tags": []
          },
          "execution_count": 65
        }
      ]
    },
    {
      "cell_type": "markdown",
      "metadata": {
        "id": "obZx-EGc7mc7"
      },
      "source": [
        "직접 함수 안에 있는 결과를 출력해보니 if(type(m))이란 것은 model 즉 net의 타입을 보고 그 타입이 input 784를 가지고 10개의 아웃풋을 가지는 layer를 발견한다면 그것의 가중치를 정규분포의 표준편차 0.01로 되어 있는곳에서 가져온 값으로 채웁니다. "
      ]
    },
    {
      "cell_type": "markdown",
      "metadata": {
        "id": "rPxr0u5Tw-lK"
      },
      "source": [
        "## 3.7.2 Softmax Implementation Revisited"
      ]
    },
    {
      "cell_type": "code",
      "metadata": {
        "id": "BCS_4bbC0v6I"
      },
      "source": [
        "loss = nn.CrossEntropyLoss()"
      ],
      "execution_count": 66,
      "outputs": []
    },
    {
      "cell_type": "markdown",
      "metadata": {
        "id": "qY4K2REP82C-"
      },
      "source": [
        "pytorch에서 제공해주는 loss Cross Entropy loss를 사용하였다."
      ]
    },
    {
      "cell_type": "code",
      "metadata": {
        "colab": {
          "base_uri": "https://localhost:8080/"
        },
        "id": "M-zw8ve11Zba",
        "outputId": "42d3c81f-e0f3-4246-f766-baccbdaeb72f"
      },
      "source": [
        "print(net.parameters)\n",
        "print(net.parameters(1))\n",
        "print(net[1].weight.data.shape)\n",
        "print(net[1].bias.data.shape)"
      ],
      "execution_count": 67,
      "outputs": [
        {
          "output_type": "stream",
          "text": [
            "<bound method Module.parameters of Sequential(\n",
            "  (0): Flatten(start_dim=1, end_dim=-1)\n",
            "  (1): Linear(in_features=784, out_features=10, bias=True)\n",
            ")>\n",
            "<generator object Module.parameters at 0x7f3c989baed0>\n",
            "torch.Size([10, 784])\n",
            "torch.Size([10])\n"
          ],
          "name": "stdout"
        }
      ]
    },
    {
      "cell_type": "markdown",
      "metadata": {
        "id": "Z-aKOZt88oCt"
      },
      "source": [
        "## 3.7.3 Optimization Algorithm"
      ]
    },
    {
      "cell_type": "code",
      "metadata": {
        "id": "wdR7-zatoKgz"
      },
      "source": [
        "trainer = torch.optim.SGD(net.parameters(),lr=0.1)"
      ],
      "execution_count": 68,
      "outputs": []
    },
    {
      "cell_type": "markdown",
      "metadata": {
        "id": "IgtgSkaH9j9c"
      },
      "source": [
        "여기서는 torch에서도 제공하고 concise Implementation linear regression에서 사용했던 stochastic gradient descent를 learning rate 0.3으로 설정했다."
      ]
    },
    {
      "cell_type": "markdown",
      "metadata": {
        "id": "dz6P_RrP8t7Y"
      },
      "source": [
        "## 3.7.4  Training"
      ]
    },
    {
      "cell_type": "code",
      "metadata": {
        "colab": {
          "base_uri": "https://localhost:8080/",
          "height": 262
        },
        "id": "mz70O2EzoKix",
        "outputId": "db89eaa3-3685-4e00-8795-749005d98288"
      },
      "source": [
        "num_epochs = 30\n",
        "d2l.train_ch3(net,train_iter,test_iter,loss,num_epochs,trainer)"
      ],
      "execution_count": 69,
      "outputs": [
        {
          "output_type": "display_data",
          "data": {
            "text/plain": [
              "<Figure size 252x180 with 1 Axes>"
            ],
            "image/svg+xml": "<?xml version=\"1.0\" encoding=\"utf-8\" standalone=\"no\"?>\n<!DOCTYPE svg PUBLIC \"-//W3C//DTD SVG 1.1//EN\"\n  \"http://www.w3.org/Graphics/SVG/1.1/DTD/svg11.dtd\">\n<!-- Created with matplotlib (https://matplotlib.org/) -->\n<svg height=\"180.65625pt\" version=\"1.1\" viewBox=\"0 0 238.965625 180.65625\" width=\"238.965625pt\" xmlns=\"http://www.w3.org/2000/svg\" xmlns:xlink=\"http://www.w3.org/1999/xlink\">\n <defs>\n  <style type=\"text/css\">\n*{stroke-linecap:butt;stroke-linejoin:round;}\n  </style>\n </defs>\n <g id=\"figure_1\">\n  <g id=\"patch_1\">\n   <path d=\"M 0 180.65625 \nL 238.965625 180.65625 \nL 238.965625 0 \nL 0 0 \nz\n\" style=\"fill:none;\"/>\n  </g>\n  <g id=\"axes_1\">\n   <g id=\"patch_2\">\n    <path d=\"M 30.103125 143.1 \nL 225.403125 143.1 \nL 225.403125 7.2 \nL 30.103125 7.2 \nz\n\" style=\"fill:#ffffff;\"/>\n   </g>\n   <g id=\"matplotlib.axis_1\">\n    <g id=\"xtick_1\">\n     <g id=\"line2d_1\">\n      <path clip-path=\"url(#p72be90e3a0)\" d=\"M 57.041056 143.1 \nL 57.041056 7.2 \n\" style=\"fill:none;stroke:#b0b0b0;stroke-linecap:square;stroke-width:0.8;\"/>\n     </g>\n     <g id=\"line2d_2\">\n      <defs>\n       <path d=\"M 0 0 \nL 0 3.5 \n\" id=\"m4350e5ae5b\" style=\"stroke:#000000;stroke-width:0.8;\"/>\n      </defs>\n      <g>\n       <use style=\"stroke:#000000;stroke-width:0.8;\" x=\"57.041056\" xlink:href=\"#m4350e5ae5b\" y=\"143.1\"/>\n      </g>\n     </g>\n     <g id=\"text_1\">\n      <!-- 5 -->\n      <defs>\n       <path d=\"M 10.796875 72.90625 \nL 49.515625 72.90625 \nL 49.515625 64.59375 \nL 19.828125 64.59375 \nL 19.828125 46.734375 \nQ 21.96875 47.46875 24.109375 47.828125 \nQ 26.265625 48.1875 28.421875 48.1875 \nQ 40.625 48.1875 47.75 41.5 \nQ 54.890625 34.8125 54.890625 23.390625 \nQ 54.890625 11.625 47.5625 5.09375 \nQ 40.234375 -1.421875 26.90625 -1.421875 \nQ 22.3125 -1.421875 17.546875 -0.640625 \nQ 12.796875 0.140625 7.71875 1.703125 \nL 7.71875 11.625 \nQ 12.109375 9.234375 16.796875 8.0625 \nQ 21.484375 6.890625 26.703125 6.890625 \nQ 35.15625 6.890625 40.078125 11.328125 \nQ 45.015625 15.765625 45.015625 23.390625 \nQ 45.015625 31 40.078125 35.4375 \nQ 35.15625 39.890625 26.703125 39.890625 \nQ 22.75 39.890625 18.8125 39.015625 \nQ 14.890625 38.140625 10.796875 36.28125 \nz\n\" id=\"DejaVuSans-53\"/>\n      </defs>\n      <g transform=\"translate(53.859806 157.698438)scale(0.1 -0.1)\">\n       <use xlink:href=\"#DejaVuSans-53\"/>\n      </g>\n     </g>\n    </g>\n    <g id=\"xtick_2\">\n     <g id=\"line2d_3\">\n      <path clip-path=\"url(#p72be90e3a0)\" d=\"M 90.71347 143.1 \nL 90.71347 7.2 \n\" style=\"fill:none;stroke:#b0b0b0;stroke-linecap:square;stroke-width:0.8;\"/>\n     </g>\n     <g id=\"line2d_4\">\n      <g>\n       <use style=\"stroke:#000000;stroke-width:0.8;\" x=\"90.71347\" xlink:href=\"#m4350e5ae5b\" y=\"143.1\"/>\n      </g>\n     </g>\n     <g id=\"text_2\">\n      <!-- 10 -->\n      <defs>\n       <path d=\"M 12.40625 8.296875 \nL 28.515625 8.296875 \nL 28.515625 63.921875 \nL 10.984375 60.40625 \nL 10.984375 69.390625 \nL 28.421875 72.90625 \nL 38.28125 72.90625 \nL 38.28125 8.296875 \nL 54.390625 8.296875 \nL 54.390625 0 \nL 12.40625 0 \nz\n\" id=\"DejaVuSans-49\"/>\n       <path d=\"M 31.78125 66.40625 \nQ 24.171875 66.40625 20.328125 58.90625 \nQ 16.5 51.421875 16.5 36.375 \nQ 16.5 21.390625 20.328125 13.890625 \nQ 24.171875 6.390625 31.78125 6.390625 \nQ 39.453125 6.390625 43.28125 13.890625 \nQ 47.125 21.390625 47.125 36.375 \nQ 47.125 51.421875 43.28125 58.90625 \nQ 39.453125 66.40625 31.78125 66.40625 \nz\nM 31.78125 74.21875 \nQ 44.046875 74.21875 50.515625 64.515625 \nQ 56.984375 54.828125 56.984375 36.375 \nQ 56.984375 17.96875 50.515625 8.265625 \nQ 44.046875 -1.421875 31.78125 -1.421875 \nQ 19.53125 -1.421875 13.0625 8.265625 \nQ 6.59375 17.96875 6.59375 36.375 \nQ 6.59375 54.828125 13.0625 64.515625 \nQ 19.53125 74.21875 31.78125 74.21875 \nz\n\" id=\"DejaVuSans-48\"/>\n      </defs>\n      <g transform=\"translate(84.35097 157.698438)scale(0.1 -0.1)\">\n       <use xlink:href=\"#DejaVuSans-49\"/>\n       <use x=\"63.623047\" xlink:href=\"#DejaVuSans-48\"/>\n      </g>\n     </g>\n    </g>\n    <g id=\"xtick_3\">\n     <g id=\"line2d_5\">\n      <path clip-path=\"url(#p72be90e3a0)\" d=\"M 124.385884 143.1 \nL 124.385884 7.2 \n\" style=\"fill:none;stroke:#b0b0b0;stroke-linecap:square;stroke-width:0.8;\"/>\n     </g>\n     <g id=\"line2d_6\">\n      <g>\n       <use style=\"stroke:#000000;stroke-width:0.8;\" x=\"124.385884\" xlink:href=\"#m4350e5ae5b\" y=\"143.1\"/>\n      </g>\n     </g>\n     <g id=\"text_3\">\n      <!-- 15 -->\n      <g transform=\"translate(118.023384 157.698438)scale(0.1 -0.1)\">\n       <use xlink:href=\"#DejaVuSans-49\"/>\n       <use x=\"63.623047\" xlink:href=\"#DejaVuSans-53\"/>\n      </g>\n     </g>\n    </g>\n    <g id=\"xtick_4\">\n     <g id=\"line2d_7\">\n      <path clip-path=\"url(#p72be90e3a0)\" d=\"M 158.058297 143.1 \nL 158.058297 7.2 \n\" style=\"fill:none;stroke:#b0b0b0;stroke-linecap:square;stroke-width:0.8;\"/>\n     </g>\n     <g id=\"line2d_8\">\n      <g>\n       <use style=\"stroke:#000000;stroke-width:0.8;\" x=\"158.058297\" xlink:href=\"#m4350e5ae5b\" y=\"143.1\"/>\n      </g>\n     </g>\n     <g id=\"text_4\">\n      <!-- 20 -->\n      <defs>\n       <path d=\"M 19.1875 8.296875 \nL 53.609375 8.296875 \nL 53.609375 0 \nL 7.328125 0 \nL 7.328125 8.296875 \nQ 12.9375 14.109375 22.625 23.890625 \nQ 32.328125 33.6875 34.8125 36.53125 \nQ 39.546875 41.84375 41.421875 45.53125 \nQ 43.3125 49.21875 43.3125 52.78125 \nQ 43.3125 58.59375 39.234375 62.25 \nQ 35.15625 65.921875 28.609375 65.921875 \nQ 23.96875 65.921875 18.8125 64.3125 \nQ 13.671875 62.703125 7.8125 59.421875 \nL 7.8125 69.390625 \nQ 13.765625 71.78125 18.9375 73 \nQ 24.125 74.21875 28.421875 74.21875 \nQ 39.75 74.21875 46.484375 68.546875 \nQ 53.21875 62.890625 53.21875 53.421875 \nQ 53.21875 48.921875 51.53125 44.890625 \nQ 49.859375 40.875 45.40625 35.40625 \nQ 44.1875 33.984375 37.640625 27.21875 \nQ 31.109375 20.453125 19.1875 8.296875 \nz\n\" id=\"DejaVuSans-50\"/>\n      </defs>\n      <g transform=\"translate(151.695797 157.698438)scale(0.1 -0.1)\">\n       <use xlink:href=\"#DejaVuSans-50\"/>\n       <use x=\"63.623047\" xlink:href=\"#DejaVuSans-48\"/>\n      </g>\n     </g>\n    </g>\n    <g id=\"xtick_5\">\n     <g id=\"line2d_9\">\n      <path clip-path=\"url(#p72be90e3a0)\" d=\"M 191.730711 143.1 \nL 191.730711 7.2 \n\" style=\"fill:none;stroke:#b0b0b0;stroke-linecap:square;stroke-width:0.8;\"/>\n     </g>\n     <g id=\"line2d_10\">\n      <g>\n       <use style=\"stroke:#000000;stroke-width:0.8;\" x=\"191.730711\" xlink:href=\"#m4350e5ae5b\" y=\"143.1\"/>\n      </g>\n     </g>\n     <g id=\"text_5\">\n      <!-- 25 -->\n      <g transform=\"translate(185.368211 157.698438)scale(0.1 -0.1)\">\n       <use xlink:href=\"#DejaVuSans-50\"/>\n       <use x=\"63.623047\" xlink:href=\"#DejaVuSans-53\"/>\n      </g>\n     </g>\n    </g>\n    <g id=\"xtick_6\">\n     <g id=\"line2d_11\">\n      <path clip-path=\"url(#p72be90e3a0)\" d=\"M 225.403125 143.1 \nL 225.403125 7.2 \n\" style=\"fill:none;stroke:#b0b0b0;stroke-linecap:square;stroke-width:0.8;\"/>\n     </g>\n     <g id=\"line2d_12\">\n      <g>\n       <use style=\"stroke:#000000;stroke-width:0.8;\" x=\"225.403125\" xlink:href=\"#m4350e5ae5b\" y=\"143.1\"/>\n      </g>\n     </g>\n     <g id=\"text_6\">\n      <!-- 30 -->\n      <defs>\n       <path d=\"M 40.578125 39.3125 \nQ 47.65625 37.796875 51.625 33 \nQ 55.609375 28.21875 55.609375 21.1875 \nQ 55.609375 10.40625 48.1875 4.484375 \nQ 40.765625 -1.421875 27.09375 -1.421875 \nQ 22.515625 -1.421875 17.65625 -0.515625 \nQ 12.796875 0.390625 7.625 2.203125 \nL 7.625 11.71875 \nQ 11.71875 9.328125 16.59375 8.109375 \nQ 21.484375 6.890625 26.8125 6.890625 \nQ 36.078125 6.890625 40.9375 10.546875 \nQ 45.796875 14.203125 45.796875 21.1875 \nQ 45.796875 27.640625 41.28125 31.265625 \nQ 36.765625 34.90625 28.71875 34.90625 \nL 20.21875 34.90625 \nL 20.21875 43.015625 \nL 29.109375 43.015625 \nQ 36.375 43.015625 40.234375 45.921875 \nQ 44.09375 48.828125 44.09375 54.296875 \nQ 44.09375 59.90625 40.109375 62.90625 \nQ 36.140625 65.921875 28.71875 65.921875 \nQ 24.65625 65.921875 20.015625 65.03125 \nQ 15.375 64.15625 9.8125 62.3125 \nL 9.8125 71.09375 \nQ 15.4375 72.65625 20.34375 73.4375 \nQ 25.25 74.21875 29.59375 74.21875 \nQ 40.828125 74.21875 47.359375 69.109375 \nQ 53.90625 64.015625 53.90625 55.328125 \nQ 53.90625 49.265625 50.4375 45.09375 \nQ 46.96875 40.921875 40.578125 39.3125 \nz\n\" id=\"DejaVuSans-51\"/>\n      </defs>\n      <g transform=\"translate(219.040625 157.698438)scale(0.1 -0.1)\">\n       <use xlink:href=\"#DejaVuSans-51\"/>\n       <use x=\"63.623047\" xlink:href=\"#DejaVuSans-48\"/>\n      </g>\n     </g>\n    </g>\n    <g id=\"text_7\">\n     <!-- epoch -->\n     <defs>\n      <path d=\"M 56.203125 29.59375 \nL 56.203125 25.203125 \nL 14.890625 25.203125 \nQ 15.484375 15.921875 20.484375 11.0625 \nQ 25.484375 6.203125 34.421875 6.203125 \nQ 39.59375 6.203125 44.453125 7.46875 \nQ 49.3125 8.734375 54.109375 11.28125 \nL 54.109375 2.78125 \nQ 49.265625 0.734375 44.1875 -0.34375 \nQ 39.109375 -1.421875 33.890625 -1.421875 \nQ 20.796875 -1.421875 13.15625 6.1875 \nQ 5.515625 13.8125 5.515625 26.8125 \nQ 5.515625 40.234375 12.765625 48.109375 \nQ 20.015625 56 32.328125 56 \nQ 43.359375 56 49.78125 48.890625 \nQ 56.203125 41.796875 56.203125 29.59375 \nz\nM 47.21875 32.234375 \nQ 47.125 39.59375 43.09375 43.984375 \nQ 39.0625 48.390625 32.421875 48.390625 \nQ 24.90625 48.390625 20.390625 44.140625 \nQ 15.875 39.890625 15.1875 32.171875 \nz\n\" id=\"DejaVuSans-101\"/>\n      <path d=\"M 18.109375 8.203125 \nL 18.109375 -20.796875 \nL 9.078125 -20.796875 \nL 9.078125 54.6875 \nL 18.109375 54.6875 \nL 18.109375 46.390625 \nQ 20.953125 51.265625 25.265625 53.625 \nQ 29.59375 56 35.59375 56 \nQ 45.5625 56 51.78125 48.09375 \nQ 58.015625 40.1875 58.015625 27.296875 \nQ 58.015625 14.40625 51.78125 6.484375 \nQ 45.5625 -1.421875 35.59375 -1.421875 \nQ 29.59375 -1.421875 25.265625 0.953125 \nQ 20.953125 3.328125 18.109375 8.203125 \nz\nM 48.6875 27.296875 \nQ 48.6875 37.203125 44.609375 42.84375 \nQ 40.53125 48.484375 33.40625 48.484375 \nQ 26.265625 48.484375 22.1875 42.84375 \nQ 18.109375 37.203125 18.109375 27.296875 \nQ 18.109375 17.390625 22.1875 11.75 \nQ 26.265625 6.109375 33.40625 6.109375 \nQ 40.53125 6.109375 44.609375 11.75 \nQ 48.6875 17.390625 48.6875 27.296875 \nz\n\" id=\"DejaVuSans-112\"/>\n      <path d=\"M 30.609375 48.390625 \nQ 23.390625 48.390625 19.1875 42.75 \nQ 14.984375 37.109375 14.984375 27.296875 \nQ 14.984375 17.484375 19.15625 11.84375 \nQ 23.34375 6.203125 30.609375 6.203125 \nQ 37.796875 6.203125 41.984375 11.859375 \nQ 46.1875 17.53125 46.1875 27.296875 \nQ 46.1875 37.015625 41.984375 42.703125 \nQ 37.796875 48.390625 30.609375 48.390625 \nz\nM 30.609375 56 \nQ 42.328125 56 49.015625 48.375 \nQ 55.71875 40.765625 55.71875 27.296875 \nQ 55.71875 13.875 49.015625 6.21875 \nQ 42.328125 -1.421875 30.609375 -1.421875 \nQ 18.84375 -1.421875 12.171875 6.21875 \nQ 5.515625 13.875 5.515625 27.296875 \nQ 5.515625 40.765625 12.171875 48.375 \nQ 18.84375 56 30.609375 56 \nz\n\" id=\"DejaVuSans-111\"/>\n      <path d=\"M 48.78125 52.59375 \nL 48.78125 44.1875 \nQ 44.96875 46.296875 41.140625 47.34375 \nQ 37.3125 48.390625 33.40625 48.390625 \nQ 24.65625 48.390625 19.8125 42.84375 \nQ 14.984375 37.3125 14.984375 27.296875 \nQ 14.984375 17.28125 19.8125 11.734375 \nQ 24.65625 6.203125 33.40625 6.203125 \nQ 37.3125 6.203125 41.140625 7.25 \nQ 44.96875 8.296875 48.78125 10.40625 \nL 48.78125 2.09375 \nQ 45.015625 0.34375 40.984375 -0.53125 \nQ 36.96875 -1.421875 32.421875 -1.421875 \nQ 20.0625 -1.421875 12.78125 6.34375 \nQ 5.515625 14.109375 5.515625 27.296875 \nQ 5.515625 40.671875 12.859375 48.328125 \nQ 20.21875 56 33.015625 56 \nQ 37.15625 56 41.109375 55.140625 \nQ 45.0625 54.296875 48.78125 52.59375 \nz\n\" id=\"DejaVuSans-99\"/>\n      <path d=\"M 54.890625 33.015625 \nL 54.890625 0 \nL 45.90625 0 \nL 45.90625 32.71875 \nQ 45.90625 40.484375 42.875 44.328125 \nQ 39.84375 48.1875 33.796875 48.1875 \nQ 26.515625 48.1875 22.3125 43.546875 \nQ 18.109375 38.921875 18.109375 30.90625 \nL 18.109375 0 \nL 9.078125 0 \nL 9.078125 75.984375 \nL 18.109375 75.984375 \nL 18.109375 46.1875 \nQ 21.34375 51.125 25.703125 53.5625 \nQ 30.078125 56 35.796875 56 \nQ 45.21875 56 50.046875 50.171875 \nQ 54.890625 44.34375 54.890625 33.015625 \nz\n\" id=\"DejaVuSans-104\"/>\n     </defs>\n     <g transform=\"translate(112.525 171.376563)scale(0.1 -0.1)\">\n      <use xlink:href=\"#DejaVuSans-101\"/>\n      <use x=\"61.523438\" xlink:href=\"#DejaVuSans-112\"/>\n      <use x=\"125\" xlink:href=\"#DejaVuSans-111\"/>\n      <use x=\"186.181641\" xlink:href=\"#DejaVuSans-99\"/>\n      <use x=\"241.162109\" xlink:href=\"#DejaVuSans-104\"/>\n     </g>\n    </g>\n   </g>\n   <g id=\"matplotlib.axis_2\">\n    <g id=\"ytick_1\">\n     <g id=\"line2d_13\">\n      <path clip-path=\"url(#p72be90e3a0)\" d=\"M 30.103125 120.45 \nL 225.403125 120.45 \n\" style=\"fill:none;stroke:#b0b0b0;stroke-linecap:square;stroke-width:0.8;\"/>\n     </g>\n     <g id=\"line2d_14\">\n      <defs>\n       <path d=\"M 0 0 \nL -3.5 0 \n\" id=\"m3287ff3b9e\" style=\"stroke:#000000;stroke-width:0.8;\"/>\n      </defs>\n      <g>\n       <use style=\"stroke:#000000;stroke-width:0.8;\" x=\"30.103125\" xlink:href=\"#m3287ff3b9e\" y=\"120.45\"/>\n      </g>\n     </g>\n     <g id=\"text_8\">\n      <!-- 0.4 -->\n      <defs>\n       <path d=\"M 10.6875 12.40625 \nL 21 12.40625 \nL 21 0 \nL 10.6875 0 \nz\n\" id=\"DejaVuSans-46\"/>\n       <path d=\"M 37.796875 64.3125 \nL 12.890625 25.390625 \nL 37.796875 25.390625 \nz\nM 35.203125 72.90625 \nL 47.609375 72.90625 \nL 47.609375 25.390625 \nL 58.015625 25.390625 \nL 58.015625 17.1875 \nL 47.609375 17.1875 \nL 47.609375 0 \nL 37.796875 0 \nL 37.796875 17.1875 \nL 4.890625 17.1875 \nL 4.890625 26.703125 \nz\n\" id=\"DejaVuSans-52\"/>\n      </defs>\n      <g transform=\"translate(7.2 124.249219)scale(0.1 -0.1)\">\n       <use xlink:href=\"#DejaVuSans-48\"/>\n       <use x=\"63.623047\" xlink:href=\"#DejaVuSans-46\"/>\n       <use x=\"95.410156\" xlink:href=\"#DejaVuSans-52\"/>\n      </g>\n     </g>\n    </g>\n    <g id=\"ytick_2\">\n     <g id=\"line2d_15\">\n      <path clip-path=\"url(#p72be90e3a0)\" d=\"M 30.103125 75.15 \nL 225.403125 75.15 \n\" style=\"fill:none;stroke:#b0b0b0;stroke-linecap:square;stroke-width:0.8;\"/>\n     </g>\n     <g id=\"line2d_16\">\n      <g>\n       <use style=\"stroke:#000000;stroke-width:0.8;\" x=\"30.103125\" xlink:href=\"#m3287ff3b9e\" y=\"75.15\"/>\n      </g>\n     </g>\n     <g id=\"text_9\">\n      <!-- 0.6 -->\n      <defs>\n       <path d=\"M 33.015625 40.375 \nQ 26.375 40.375 22.484375 35.828125 \nQ 18.609375 31.296875 18.609375 23.390625 \nQ 18.609375 15.53125 22.484375 10.953125 \nQ 26.375 6.390625 33.015625 6.390625 \nQ 39.65625 6.390625 43.53125 10.953125 \nQ 47.40625 15.53125 47.40625 23.390625 \nQ 47.40625 31.296875 43.53125 35.828125 \nQ 39.65625 40.375 33.015625 40.375 \nz\nM 52.59375 71.296875 \nL 52.59375 62.3125 \nQ 48.875 64.0625 45.09375 64.984375 \nQ 41.3125 65.921875 37.59375 65.921875 \nQ 27.828125 65.921875 22.671875 59.328125 \nQ 17.53125 52.734375 16.796875 39.40625 \nQ 19.671875 43.65625 24.015625 45.921875 \nQ 28.375 48.1875 33.59375 48.1875 \nQ 44.578125 48.1875 50.953125 41.515625 \nQ 57.328125 34.859375 57.328125 23.390625 \nQ 57.328125 12.15625 50.6875 5.359375 \nQ 44.046875 -1.421875 33.015625 -1.421875 \nQ 20.359375 -1.421875 13.671875 8.265625 \nQ 6.984375 17.96875 6.984375 36.375 \nQ 6.984375 53.65625 15.1875 63.9375 \nQ 23.390625 74.21875 37.203125 74.21875 \nQ 40.921875 74.21875 44.703125 73.484375 \nQ 48.484375 72.75 52.59375 71.296875 \nz\n\" id=\"DejaVuSans-54\"/>\n      </defs>\n      <g transform=\"translate(7.2 78.949219)scale(0.1 -0.1)\">\n       <use xlink:href=\"#DejaVuSans-48\"/>\n       <use x=\"63.623047\" xlink:href=\"#DejaVuSans-46\"/>\n       <use x=\"95.410156\" xlink:href=\"#DejaVuSans-54\"/>\n      </g>\n     </g>\n    </g>\n    <g id=\"ytick_3\">\n     <g id=\"line2d_17\">\n      <path clip-path=\"url(#p72be90e3a0)\" d=\"M 30.103125 29.85 \nL 225.403125 29.85 \n\" style=\"fill:none;stroke:#b0b0b0;stroke-linecap:square;stroke-width:0.8;\"/>\n     </g>\n     <g id=\"line2d_18\">\n      <g>\n       <use style=\"stroke:#000000;stroke-width:0.8;\" x=\"30.103125\" xlink:href=\"#m3287ff3b9e\" y=\"29.85\"/>\n      </g>\n     </g>\n     <g id=\"text_10\">\n      <!-- 0.8 -->\n      <defs>\n       <path d=\"M 31.78125 34.625 \nQ 24.75 34.625 20.71875 30.859375 \nQ 16.703125 27.09375 16.703125 20.515625 \nQ 16.703125 13.921875 20.71875 10.15625 \nQ 24.75 6.390625 31.78125 6.390625 \nQ 38.8125 6.390625 42.859375 10.171875 \nQ 46.921875 13.96875 46.921875 20.515625 \nQ 46.921875 27.09375 42.890625 30.859375 \nQ 38.875 34.625 31.78125 34.625 \nz\nM 21.921875 38.8125 \nQ 15.578125 40.375 12.03125 44.71875 \nQ 8.5 49.078125 8.5 55.328125 \nQ 8.5 64.0625 14.71875 69.140625 \nQ 20.953125 74.21875 31.78125 74.21875 \nQ 42.671875 74.21875 48.875 69.140625 \nQ 55.078125 64.0625 55.078125 55.328125 \nQ 55.078125 49.078125 51.53125 44.71875 \nQ 48 40.375 41.703125 38.8125 \nQ 48.828125 37.15625 52.796875 32.3125 \nQ 56.78125 27.484375 56.78125 20.515625 \nQ 56.78125 9.90625 50.3125 4.234375 \nQ 43.84375 -1.421875 31.78125 -1.421875 \nQ 19.734375 -1.421875 13.25 4.234375 \nQ 6.78125 9.90625 6.78125 20.515625 \nQ 6.78125 27.484375 10.78125 32.3125 \nQ 14.796875 37.15625 21.921875 38.8125 \nz\nM 18.3125 54.390625 \nQ 18.3125 48.734375 21.84375 45.5625 \nQ 25.390625 42.390625 31.78125 42.390625 \nQ 38.140625 42.390625 41.71875 45.5625 \nQ 45.3125 48.734375 45.3125 54.390625 \nQ 45.3125 60.0625 41.71875 63.234375 \nQ 38.140625 66.40625 31.78125 66.40625 \nQ 25.390625 66.40625 21.84375 63.234375 \nQ 18.3125 60.0625 18.3125 54.390625 \nz\n\" id=\"DejaVuSans-56\"/>\n      </defs>\n      <g transform=\"translate(7.2 33.649219)scale(0.1 -0.1)\">\n       <use xlink:href=\"#DejaVuSans-48\"/>\n       <use x=\"63.623047\" xlink:href=\"#DejaVuSans-46\"/>\n       <use x=\"95.410156\" xlink:href=\"#DejaVuSans-56\"/>\n      </g>\n     </g>\n    </g>\n   </g>\n   <g id=\"line2d_19\">\n    <path clip-path=\"url(#p72be90e3a0)\" d=\"M 30.103125 32.316535 \nL 36.837608 81.76665 \nL 43.572091 92.113372 \nL 50.306573 97.650075 \nL 57.041056 101.124027 \nL 63.775539 103.623304 \nL 70.510022 105.44769 \nL 77.244504 107.24467 \nL 83.978987 108.481042 \nL 90.71347 109.842641 \nL 97.447953 110.700575 \nL 104.182435 111.403844 \nL 110.916918 112.218435 \nL 117.651401 112.951567 \nL 124.385884 113.502102 \nL 131.120366 113.936854 \nL 137.854849 114.667654 \nL 144.589332 115.042281 \nL 151.323815 115.470215 \nL 158.058297 115.945209 \nL 164.79278 116.097478 \nL 171.527263 116.480482 \nL 178.261746 116.859408 \nL 184.996228 117.167345 \nL 191.730711 117.569412 \nL 198.465194 117.792916 \nL 205.199677 117.930885 \nL 211.934159 118.232478 \nL 218.668642 118.515636 \nL 225.403125 118.777155 \n\" style=\"fill:none;stroke:#1f77b4;stroke-linecap:square;stroke-width:1.5;\"/>\n   </g>\n   <g id=\"line2d_20\">\n    <path clip-path=\"url(#p72be90e3a0)\" d=\"M 30.103125 41.888475 \nL 36.837608 27.030075 \nL 43.572091 23.8251 \nL 50.306573 22.628425 \nL 57.041056 21.609175 \nL 63.775539 20.725825 \nL 70.510022 20.484225 \nL 77.244504 19.744325 \nL 83.978987 19.40835 \nL 90.71347 18.78925 \nL 97.447953 18.65335 \nL 104.182435 18.506125 \nL 110.916918 18.083325 \nL 117.651401 18.038025 \nL 124.385884 17.932325 \nL 131.120366 17.7851 \nL 137.854849 17.456675 \nL 144.589332 17.35475 \nL 151.323815 17.267925 \nL 158.058297 17.09805 \nL 164.79278 16.867775 \nL 171.527263 16.739425 \nL 178.261746 16.713 \nL 184.996228 16.656375 \nL 191.730711 16.573325 \nL 198.465194 16.4865 \nL 205.199677 16.482725 \nL 211.934159 16.1241 \nL 218.668642 16.23735 \nL 225.403125 16.23735 \n\" style=\"fill:none;stroke:#bf00bf;stroke-dasharray:5.55,2.4;stroke-dashoffset:0;stroke-width:1.5;\"/>\n   </g>\n   <g id=\"line2d_21\">\n    <path clip-path=\"url(#p72be90e3a0)\" d=\"M 30.103125 31.82055 \nL 36.837608 28.4457 \nL 43.572091 25.65975 \nL 50.306573 24.98025 \nL 57.041056 25.0482 \nL 63.775539 25.9089 \nL 70.510022 22.9191 \nL 77.244504 22.66995 \nL 83.978987 22.26225 \nL 90.71347 23.07765 \nL 97.447953 22.1943 \nL 104.182435 21.49215 \nL 110.916918 21.76395 \nL 117.651401 21.99045 \nL 124.385884 27.78885 \nL 131.120366 22.85115 \nL 137.854849 23.21355 \nL 144.589332 21.1977 \nL 151.323815 21.89985 \nL 158.058297 21.1977 \nL 164.79278 23.3268 \nL 171.527263 21.22035 \nL 178.261746 21.1071 \nL 184.996228 20.45025 \nL 191.730711 21.243 \nL 198.465194 20.5182 \nL 205.199677 20.85795 \nL 211.934159 21.58275 \nL 218.668642 20.26905 \nL 225.403125 21.1977 \n\" style=\"fill:none;stroke:#008000;stroke-dasharray:9.6,2.4,1.5,2.4;stroke-dashoffset:0;stroke-width:1.5;\"/>\n   </g>\n   <g id=\"patch_3\">\n    <path d=\"M 30.103125 143.1 \nL 30.103125 7.2 \n\" style=\"fill:none;stroke:#000000;stroke-linecap:square;stroke-linejoin:miter;stroke-width:0.8;\"/>\n   </g>\n   <g id=\"patch_4\">\n    <path d=\"M 225.403125 143.1 \nL 225.403125 7.2 \n\" style=\"fill:none;stroke:#000000;stroke-linecap:square;stroke-linejoin:miter;stroke-width:0.8;\"/>\n   </g>\n   <g id=\"patch_5\">\n    <path d=\"M 30.103125 143.1 \nL 225.403125 143.1 \n\" style=\"fill:none;stroke:#000000;stroke-linecap:square;stroke-linejoin:miter;stroke-width:0.8;\"/>\n   </g>\n   <g id=\"patch_6\">\n    <path d=\"M 30.103125 7.2 \nL 225.403125 7.2 \n\" style=\"fill:none;stroke:#000000;stroke-linecap:square;stroke-linejoin:miter;stroke-width:0.8;\"/>\n   </g>\n   <g id=\"legend_1\">\n    <g id=\"patch_7\">\n     <path d=\"M 140.634375 98.667187 \nL 218.403125 98.667187 \nQ 220.403125 98.667187 220.403125 96.667187 \nL 220.403125 53.632812 \nQ 220.403125 51.632812 218.403125 51.632812 \nL 140.634375 51.632812 \nQ 138.634375 51.632812 138.634375 53.632812 \nL 138.634375 96.667187 \nQ 138.634375 98.667187 140.634375 98.667187 \nz\n\" style=\"fill:#ffffff;opacity:0.8;stroke:#cccccc;stroke-linejoin:miter;\"/>\n    </g>\n    <g id=\"line2d_22\">\n     <path d=\"M 142.634375 59.73125 \nL 162.634375 59.73125 \n\" style=\"fill:none;stroke:#1f77b4;stroke-linecap:square;stroke-width:1.5;\"/>\n    </g>\n    <g id=\"line2d_23\"/>\n    <g id=\"text_11\">\n     <!-- train loss -->\n     <defs>\n      <path d=\"M 18.3125 70.21875 \nL 18.3125 54.6875 \nL 36.8125 54.6875 \nL 36.8125 47.703125 \nL 18.3125 47.703125 \nL 18.3125 18.015625 \nQ 18.3125 11.328125 20.140625 9.421875 \nQ 21.96875 7.515625 27.59375 7.515625 \nL 36.8125 7.515625 \nL 36.8125 0 \nL 27.59375 0 \nQ 17.1875 0 13.234375 3.875 \nQ 9.28125 7.765625 9.28125 18.015625 \nL 9.28125 47.703125 \nL 2.6875 47.703125 \nL 2.6875 54.6875 \nL 9.28125 54.6875 \nL 9.28125 70.21875 \nz\n\" id=\"DejaVuSans-116\"/>\n      <path d=\"M 41.109375 46.296875 \nQ 39.59375 47.171875 37.8125 47.578125 \nQ 36.03125 48 33.890625 48 \nQ 26.265625 48 22.1875 43.046875 \nQ 18.109375 38.09375 18.109375 28.8125 \nL 18.109375 0 \nL 9.078125 0 \nL 9.078125 54.6875 \nL 18.109375 54.6875 \nL 18.109375 46.1875 \nQ 20.953125 51.171875 25.484375 53.578125 \nQ 30.03125 56 36.53125 56 \nQ 37.453125 56 38.578125 55.875 \nQ 39.703125 55.765625 41.0625 55.515625 \nz\n\" id=\"DejaVuSans-114\"/>\n      <path d=\"M 34.28125 27.484375 \nQ 23.390625 27.484375 19.1875 25 \nQ 14.984375 22.515625 14.984375 16.5 \nQ 14.984375 11.71875 18.140625 8.90625 \nQ 21.296875 6.109375 26.703125 6.109375 \nQ 34.1875 6.109375 38.703125 11.40625 \nQ 43.21875 16.703125 43.21875 25.484375 \nL 43.21875 27.484375 \nz\nM 52.203125 31.203125 \nL 52.203125 0 \nL 43.21875 0 \nL 43.21875 8.296875 \nQ 40.140625 3.328125 35.546875 0.953125 \nQ 30.953125 -1.421875 24.3125 -1.421875 \nQ 15.921875 -1.421875 10.953125 3.296875 \nQ 6 8.015625 6 15.921875 \nQ 6 25.140625 12.171875 29.828125 \nQ 18.359375 34.515625 30.609375 34.515625 \nL 43.21875 34.515625 \nL 43.21875 35.40625 \nQ 43.21875 41.609375 39.140625 45 \nQ 35.0625 48.390625 27.6875 48.390625 \nQ 23 48.390625 18.546875 47.265625 \nQ 14.109375 46.140625 10.015625 43.890625 \nL 10.015625 52.203125 \nQ 14.9375 54.109375 19.578125 55.046875 \nQ 24.21875 56 28.609375 56 \nQ 40.484375 56 46.34375 49.84375 \nQ 52.203125 43.703125 52.203125 31.203125 \nz\n\" id=\"DejaVuSans-97\"/>\n      <path d=\"M 9.421875 54.6875 \nL 18.40625 54.6875 \nL 18.40625 0 \nL 9.421875 0 \nz\nM 9.421875 75.984375 \nL 18.40625 75.984375 \nL 18.40625 64.59375 \nL 9.421875 64.59375 \nz\n\" id=\"DejaVuSans-105\"/>\n      <path d=\"M 54.890625 33.015625 \nL 54.890625 0 \nL 45.90625 0 \nL 45.90625 32.71875 \nQ 45.90625 40.484375 42.875 44.328125 \nQ 39.84375 48.1875 33.796875 48.1875 \nQ 26.515625 48.1875 22.3125 43.546875 \nQ 18.109375 38.921875 18.109375 30.90625 \nL 18.109375 0 \nL 9.078125 0 \nL 9.078125 54.6875 \nL 18.109375 54.6875 \nL 18.109375 46.1875 \nQ 21.34375 51.125 25.703125 53.5625 \nQ 30.078125 56 35.796875 56 \nQ 45.21875 56 50.046875 50.171875 \nQ 54.890625 44.34375 54.890625 33.015625 \nz\n\" id=\"DejaVuSans-110\"/>\n      <path id=\"DejaVuSans-32\"/>\n      <path d=\"M 9.421875 75.984375 \nL 18.40625 75.984375 \nL 18.40625 0 \nL 9.421875 0 \nz\n\" id=\"DejaVuSans-108\"/>\n      <path d=\"M 44.28125 53.078125 \nL 44.28125 44.578125 \nQ 40.484375 46.53125 36.375 47.5 \nQ 32.28125 48.484375 27.875 48.484375 \nQ 21.1875 48.484375 17.84375 46.4375 \nQ 14.5 44.390625 14.5 40.28125 \nQ 14.5 37.15625 16.890625 35.375 \nQ 19.28125 33.59375 26.515625 31.984375 \nL 29.59375 31.296875 \nQ 39.15625 29.25 43.1875 25.515625 \nQ 47.21875 21.78125 47.21875 15.09375 \nQ 47.21875 7.46875 41.1875 3.015625 \nQ 35.15625 -1.421875 24.609375 -1.421875 \nQ 20.21875 -1.421875 15.453125 -0.5625 \nQ 10.6875 0.296875 5.421875 2 \nL 5.421875 11.28125 \nQ 10.40625 8.6875 15.234375 7.390625 \nQ 20.0625 6.109375 24.8125 6.109375 \nQ 31.15625 6.109375 34.5625 8.28125 \nQ 37.984375 10.453125 37.984375 14.40625 \nQ 37.984375 18.0625 35.515625 20.015625 \nQ 33.0625 21.96875 24.703125 23.78125 \nL 21.578125 24.515625 \nQ 13.234375 26.265625 9.515625 29.90625 \nQ 5.8125 33.546875 5.8125 39.890625 \nQ 5.8125 47.609375 11.28125 51.796875 \nQ 16.75 56 26.8125 56 \nQ 31.78125 56 36.171875 55.265625 \nQ 40.578125 54.546875 44.28125 53.078125 \nz\n\" id=\"DejaVuSans-115\"/>\n     </defs>\n     <g transform=\"translate(170.634375 63.23125)scale(0.1 -0.1)\">\n      <use xlink:href=\"#DejaVuSans-116\"/>\n      <use x=\"39.208984\" xlink:href=\"#DejaVuSans-114\"/>\n      <use x=\"80.322266\" xlink:href=\"#DejaVuSans-97\"/>\n      <use x=\"141.601562\" xlink:href=\"#DejaVuSans-105\"/>\n      <use x=\"169.384766\" xlink:href=\"#DejaVuSans-110\"/>\n      <use x=\"232.763672\" xlink:href=\"#DejaVuSans-32\"/>\n      <use x=\"264.550781\" xlink:href=\"#DejaVuSans-108\"/>\n      <use x=\"292.333984\" xlink:href=\"#DejaVuSans-111\"/>\n      <use x=\"353.515625\" xlink:href=\"#DejaVuSans-115\"/>\n      <use x=\"405.615234\" xlink:href=\"#DejaVuSans-115\"/>\n     </g>\n    </g>\n    <g id=\"line2d_24\">\n     <path d=\"M 142.634375 74.409375 \nL 162.634375 74.409375 \n\" style=\"fill:none;stroke:#bf00bf;stroke-dasharray:5.55,2.4;stroke-dashoffset:0;stroke-width:1.5;\"/>\n    </g>\n    <g id=\"line2d_25\"/>\n    <g id=\"text_12\">\n     <!-- train acc -->\n     <g transform=\"translate(170.634375 77.909375)scale(0.1 -0.1)\">\n      <use xlink:href=\"#DejaVuSans-116\"/>\n      <use x=\"39.208984\" xlink:href=\"#DejaVuSans-114\"/>\n      <use x=\"80.322266\" xlink:href=\"#DejaVuSans-97\"/>\n      <use x=\"141.601562\" xlink:href=\"#DejaVuSans-105\"/>\n      <use x=\"169.384766\" xlink:href=\"#DejaVuSans-110\"/>\n      <use x=\"232.763672\" xlink:href=\"#DejaVuSans-32\"/>\n      <use x=\"264.550781\" xlink:href=\"#DejaVuSans-97\"/>\n      <use x=\"325.830078\" xlink:href=\"#DejaVuSans-99\"/>\n      <use x=\"380.810547\" xlink:href=\"#DejaVuSans-99\"/>\n     </g>\n    </g>\n    <g id=\"line2d_26\">\n     <path d=\"M 142.634375 89.0875 \nL 162.634375 89.0875 \n\" style=\"fill:none;stroke:#008000;stroke-dasharray:9.6,2.4,1.5,2.4;stroke-dashoffset:0;stroke-width:1.5;\"/>\n    </g>\n    <g id=\"line2d_27\"/>\n    <g id=\"text_13\">\n     <!-- test acc -->\n     <g transform=\"translate(170.634375 92.5875)scale(0.1 -0.1)\">\n      <use xlink:href=\"#DejaVuSans-116\"/>\n      <use x=\"39.208984\" xlink:href=\"#DejaVuSans-101\"/>\n      <use x=\"100.732422\" xlink:href=\"#DejaVuSans-115\"/>\n      <use x=\"152.832031\" xlink:href=\"#DejaVuSans-116\"/>\n      <use x=\"192.041016\" xlink:href=\"#DejaVuSans-32\"/>\n      <use x=\"223.828125\" xlink:href=\"#DejaVuSans-97\"/>\n      <use x=\"285.107422\" xlink:href=\"#DejaVuSans-99\"/>\n      <use x=\"340.087891\" xlink:href=\"#DejaVuSans-99\"/>\n     </g>\n    </g>\n   </g>\n  </g>\n </g>\n <defs>\n  <clipPath id=\"p72be90e3a0\">\n   <rect height=\"135.9\" width=\"195.3\" x=\"30.103125\" y=\"7.2\"/>\n  </clipPath>\n </defs>\n</svg>\n"
          },
          "metadata": {
            "tags": [],
            "needs_background": "light"
          }
        }
      ]
    },
    {
      "cell_type": "markdown",
      "metadata": {
        "id": "YYzsEiUn-pBI"
      },
      "source": [
        "nn.Sequential 을 설정했던 net \n",
        "dataloader 를 이용해서 만들어냈던 train_iter,test_iter\n",
        "torch 의 cross Entropy를 이용해 만들어 낸 loss\n",
        "1번의 전체학습을 10번 반복하겠다고 설정한 num_ephochs\n",
        "stochastic gradient descent 를 이용해 가중치를 업데이트할 trainner를 train함수에 넣어 줌으로써 학습을 완성한것을 확인 할 수 있다.  "
      ]
    },
    {
      "cell_type": "markdown",
      "metadata": {
        "id": "0GsZLrGhBR8b"
      },
      "source": [
        "## 3.7.5 Prediction (간단하게 한줄도 실행시켰음) "
      ]
    },
    {
      "cell_type": "code",
      "metadata": {
        "colab": {
          "base_uri": "https://localhost:8080/",
          "height": 231
        },
        "id": "Z-sHM1N2oKlR",
        "outputId": "4f519a7e-77a8-4728-d927-bfefa63dc365"
      },
      "source": [
        "d2l.predict_ch3(net,test_iter,n=20)"
      ],
      "execution_count": 70,
      "outputs": [
        {
          "output_type": "stream",
          "text": [
            "/usr/local/lib/python3.7/dist-packages/torch/utils/data/dataloader.py:477: UserWarning: This DataLoader will create 4 worker processes in total. Our suggested max number of worker in current system is 2, which is smaller than what this DataLoader is going to create. Please be aware that excessive worker creation might get DataLoader running slow or even freeze, lower the worker number to avoid potential slowness/freeze if necessary.\n",
            "  cpuset_checked))\n"
          ],
          "name": "stderr"
        },
        {
          "output_type": "display_data",
          "data": {
            "text/plain": [
              "<Figure size 2160x108 with 20 Axes>"
            ],
            "image/svg+xml": "<?xml version=\"1.0\" encoding=\"utf-8\" standalone=\"no\"?>\n<!DOCTYPE svg PUBLIC \"-//W3C//DTD SVG 1.1//EN\"\n  \"http://www.w3.org/Graphics/SVG/1.1/DTD/svg11.dtd\">\n<!-- Created with matplotlib (https://matplotlib.org/) -->\n<svg height=\"116.791634pt\" version=\"1.1\" viewBox=\"0 0 1691.9 116.791634\" width=\"1691.9pt\" xmlns=\"http://www.w3.org/2000/svg\" xmlns:xlink=\"http://www.w3.org/1999/xlink\">\n <defs>\n  <style type=\"text/css\">\n*{stroke-linecap:butt;stroke-linejoin:round;}\n  </style>\n </defs>\n <g id=\"figure_1\">\n  <g id=\"patch_1\">\n   <path d=\"M 0 116.791634 \nL 1691.9 116.791634 \nL 1691.9 0 \nL 0 0 \nz\n\" style=\"fill:none;\"/>\n  </g>\n  <g id=\"axes_1\">\n   <g id=\"patch_2\">\n    <path d=\"M 10.7 106.091634 \nL 81.036134 106.091634 \nL 81.036134 35.7555 \nL 10.7 35.7555 \nz\n\" style=\"fill:#ffffff;\"/>\n   </g>\n   <g clip-path=\"url(#p301267e0fd)\">\n    <image height=\"71\" id=\"imagedcb6a3dfcf\" transform=\"scale(1 -1)translate(0 -71)\" width=\"71\" x=\"10.7\" xlink:href=\"data:image/png;base64,\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\" y=\"-35.091634\"/>\n   </g>\n   <g id=\"patch_3\">\n    <path d=\"M 10.7 106.091634 \nL 10.7 35.7555 \n\" style=\"fill:none;stroke:#000000;stroke-linecap:square;stroke-linejoin:miter;stroke-width:0.8;\"/>\n   </g>\n   <g id=\"patch_4\">\n    <path d=\"M 81.036134 106.091634 \nL 81.036134 35.7555 \n\" style=\"fill:none;stroke:#000000;stroke-linecap:square;stroke-linejoin:miter;stroke-width:0.8;\"/>\n   </g>\n   <g id=\"patch_5\">\n    <path d=\"M 10.7 106.091634 \nL 81.036134 106.091634 \n\" style=\"fill:none;stroke:#000000;stroke-linecap:square;stroke-linejoin:miter;stroke-width:0.8;\"/>\n   </g>\n   <g id=\"patch_6\">\n    <path d=\"M 10.7 35.7555 \nL 81.036134 35.7555 \n\" style=\"fill:none;stroke:#000000;stroke-linecap:square;stroke-linejoin:miter;stroke-width:0.8;\"/>\n   </g>\n   <g id=\"text_1\">\n    <!-- ankle boot -->\n    <defs>\n     <path d=\"M 34.28125 27.484375 \nQ 23.390625 27.484375 19.1875 25 \nQ 14.984375 22.515625 14.984375 16.5 \nQ 14.984375 11.71875 18.140625 8.90625 \nQ 21.296875 6.109375 26.703125 6.109375 \nQ 34.1875 6.109375 38.703125 11.40625 \nQ 43.21875 16.703125 43.21875 25.484375 \nL 43.21875 27.484375 \nz\nM 52.203125 31.203125 \nL 52.203125 0 \nL 43.21875 0 \nL 43.21875 8.296875 \nQ 40.140625 3.328125 35.546875 0.953125 \nQ 30.953125 -1.421875 24.3125 -1.421875 \nQ 15.921875 -1.421875 10.953125 3.296875 \nQ 6 8.015625 6 15.921875 \nQ 6 25.140625 12.171875 29.828125 \nQ 18.359375 34.515625 30.609375 34.515625 \nL 43.21875 34.515625 \nL 43.21875 35.40625 \nQ 43.21875 41.609375 39.140625 45 \nQ 35.0625 48.390625 27.6875 48.390625 \nQ 23 48.390625 18.546875 47.265625 \nQ 14.109375 46.140625 10.015625 43.890625 \nL 10.015625 52.203125 \nQ 14.9375 54.109375 19.578125 55.046875 \nQ 24.21875 56 28.609375 56 \nQ 40.484375 56 46.34375 49.84375 \nQ 52.203125 43.703125 52.203125 31.203125 \nz\n\" id=\"DejaVuSans-97\"/>\n     <path d=\"M 54.890625 33.015625 \nL 54.890625 0 \nL 45.90625 0 \nL 45.90625 32.71875 \nQ 45.90625 40.484375 42.875 44.328125 \nQ 39.84375 48.1875 33.796875 48.1875 \nQ 26.515625 48.1875 22.3125 43.546875 \nQ 18.109375 38.921875 18.109375 30.90625 \nL 18.109375 0 \nL 9.078125 0 \nL 9.078125 54.6875 \nL 18.109375 54.6875 \nL 18.109375 46.1875 \nQ 21.34375 51.125 25.703125 53.5625 \nQ 30.078125 56 35.796875 56 \nQ 45.21875 56 50.046875 50.171875 \nQ 54.890625 44.34375 54.890625 33.015625 \nz\n\" id=\"DejaVuSans-110\"/>\n     <path d=\"M 9.078125 75.984375 \nL 18.109375 75.984375 \nL 18.109375 31.109375 \nL 44.921875 54.6875 \nL 56.390625 54.6875 \nL 27.390625 29.109375 \nL 57.625 0 \nL 45.90625 0 \nL 18.109375 26.703125 \nL 18.109375 0 \nL 9.078125 0 \nz\n\" id=\"DejaVuSans-107\"/>\n     <path d=\"M 9.421875 75.984375 \nL 18.40625 75.984375 \nL 18.40625 0 \nL 9.421875 0 \nz\n\" id=\"DejaVuSans-108\"/>\n     <path d=\"M 56.203125 29.59375 \nL 56.203125 25.203125 \nL 14.890625 25.203125 \nQ 15.484375 15.921875 20.484375 11.0625 \nQ 25.484375 6.203125 34.421875 6.203125 \nQ 39.59375 6.203125 44.453125 7.46875 \nQ 49.3125 8.734375 54.109375 11.28125 \nL 54.109375 2.78125 \nQ 49.265625 0.734375 44.1875 -0.34375 \nQ 39.109375 -1.421875 33.890625 -1.421875 \nQ 20.796875 -1.421875 13.15625 6.1875 \nQ 5.515625 13.8125 5.515625 26.8125 \nQ 5.515625 40.234375 12.765625 48.109375 \nQ 20.015625 56 32.328125 56 \nQ 43.359375 56 49.78125 48.890625 \nQ 56.203125 41.796875 56.203125 29.59375 \nz\nM 47.21875 32.234375 \nQ 47.125 39.59375 43.09375 43.984375 \nQ 39.0625 48.390625 32.421875 48.390625 \nQ 24.90625 48.390625 20.390625 44.140625 \nQ 15.875 39.890625 15.1875 32.171875 \nz\n\" id=\"DejaVuSans-101\"/>\n     <path id=\"DejaVuSans-32\"/>\n     <path d=\"M 48.6875 27.296875 \nQ 48.6875 37.203125 44.609375 42.84375 \nQ 40.53125 48.484375 33.40625 48.484375 \nQ 26.265625 48.484375 22.1875 42.84375 \nQ 18.109375 37.203125 18.109375 27.296875 \nQ 18.109375 17.390625 22.1875 11.75 \nQ 26.265625 6.109375 33.40625 6.109375 \nQ 40.53125 6.109375 44.609375 11.75 \nQ 48.6875 17.390625 48.6875 27.296875 \nz\nM 18.109375 46.390625 \nQ 20.953125 51.265625 25.265625 53.625 \nQ 29.59375 56 35.59375 56 \nQ 45.5625 56 51.78125 48.09375 \nQ 58.015625 40.1875 58.015625 27.296875 \nQ 58.015625 14.40625 51.78125 6.484375 \nQ 45.5625 -1.421875 35.59375 -1.421875 \nQ 29.59375 -1.421875 25.265625 0.953125 \nQ 20.953125 3.328125 18.109375 8.203125 \nL 18.109375 0 \nL 9.078125 0 \nL 9.078125 75.984375 \nL 18.109375 75.984375 \nz\n\" id=\"DejaVuSans-98\"/>\n     <path d=\"M 30.609375 48.390625 \nQ 23.390625 48.390625 19.1875 42.75 \nQ 14.984375 37.109375 14.984375 27.296875 \nQ 14.984375 17.484375 19.15625 11.84375 \nQ 23.34375 6.203125 30.609375 6.203125 \nQ 37.796875 6.203125 41.984375 11.859375 \nQ 46.1875 17.53125 46.1875 27.296875 \nQ 46.1875 37.015625 41.984375 42.703125 \nQ 37.796875 48.390625 30.609375 48.390625 \nz\nM 30.609375 56 \nQ 42.328125 56 49.015625 48.375 \nQ 55.71875 40.765625 55.71875 27.296875 \nQ 55.71875 13.875 49.015625 6.21875 \nQ 42.328125 -1.421875 30.609375 -1.421875 \nQ 18.84375 -1.421875 12.171875 6.21875 \nQ 5.515625 13.875 5.515625 27.296875 \nQ 5.515625 40.765625 12.171875 48.375 \nQ 18.84375 56 30.609375 56 \nz\n\" id=\"DejaVuSans-111\"/>\n     <path d=\"M 18.3125 70.21875 \nL 18.3125 54.6875 \nL 36.8125 54.6875 \nL 36.8125 47.703125 \nL 18.3125 47.703125 \nL 18.3125 18.015625 \nQ 18.3125 11.328125 20.140625 9.421875 \nQ 21.96875 7.515625 27.59375 7.515625 \nL 36.8125 7.515625 \nL 36.8125 0 \nL 27.59375 0 \nQ 17.1875 0 13.234375 3.875 \nQ 9.28125 7.765625 9.28125 18.015625 \nL 9.28125 47.703125 \nL 2.6875 47.703125 \nL 2.6875 54.6875 \nL 9.28125 54.6875 \nL 9.28125 70.21875 \nz\n\" id=\"DejaVuSans-116\"/>\n    </defs>\n    <g transform=\"translate(14.144942 16.318125)scale(0.12 -0.12)\">\n     <use xlink:href=\"#DejaVuSans-97\"/>\n     <use x=\"61.279297\" xlink:href=\"#DejaVuSans-110\"/>\n     <use x=\"124.658203\" xlink:href=\"#DejaVuSans-107\"/>\n     <use x=\"182.568359\" xlink:href=\"#DejaVuSans-108\"/>\n     <use x=\"210.351562\" xlink:href=\"#DejaVuSans-101\"/>\n     <use x=\"271.875\" xlink:href=\"#DejaVuSans-32\"/>\n     <use x=\"303.662109\" xlink:href=\"#DejaVuSans-98\"/>\n     <use x=\"367.138672\" xlink:href=\"#DejaVuSans-111\"/>\n     <use x=\"428.320312\" xlink:href=\"#DejaVuSans-111\"/>\n     <use x=\"489.501953\" xlink:href=\"#DejaVuSans-116\"/>\n    </g>\n    <!-- ankle boot -->\n    <g transform=\"translate(14.144942 29.7555)scale(0.12 -0.12)\">\n     <use xlink:href=\"#DejaVuSans-97\"/>\n     <use x=\"61.279297\" xlink:href=\"#DejaVuSans-110\"/>\n     <use x=\"124.658203\" xlink:href=\"#DejaVuSans-107\"/>\n     <use x=\"182.568359\" xlink:href=\"#DejaVuSans-108\"/>\n     <use x=\"210.351562\" xlink:href=\"#DejaVuSans-101\"/>\n     <use x=\"271.875\" xlink:href=\"#DejaVuSans-32\"/>\n     <use x=\"303.662109\" xlink:href=\"#DejaVuSans-98\"/>\n     <use x=\"367.138672\" xlink:href=\"#DejaVuSans-111\"/>\n     <use x=\"428.320312\" xlink:href=\"#DejaVuSans-111\"/>\n     <use x=\"489.501953\" xlink:href=\"#DejaVuSans-116\"/>\n    </g>\n   </g>\n  </g>\n  <g id=\"axes_2\">\n   <g id=\"patch_7\">\n    <path d=\"M 95.103361 106.091634 \nL 165.439496 106.091634 \nL 165.439496 35.7555 \nL 95.103361 35.7555 \nz\n\" style=\"fill:#ffffff;\"/>\n   </g>\n   <g clip-path=\"url(#p20bb39fbb6)\">\n    <image height=\"71\" id=\"imageb5b9be2293\" transform=\"scale(1 -1)translate(0 -71)\" width=\"71\" x=\"95.103361\" xlink:href=\"data:image/png;base64,\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\" y=\"-35.091634\"/>\n   </g>\n   <g id=\"patch_8\">\n    <path d=\"M 95.103361 106.091634 \nL 95.103361 35.7555 \n\" style=\"fill:none;stroke:#000000;stroke-linecap:square;stroke-linejoin:miter;stroke-width:0.8;\"/>\n   </g>\n   <g id=\"patch_9\">\n    <path d=\"M 165.439496 106.091634 \nL 165.439496 35.7555 \n\" style=\"fill:none;stroke:#000000;stroke-linecap:square;stroke-linejoin:miter;stroke-width:0.8;\"/>\n   </g>\n   <g id=\"patch_10\">\n    <path d=\"M 95.103361 106.091634 \nL 165.439496 106.091634 \n\" style=\"fill:none;stroke:#000000;stroke-linecap:square;stroke-linejoin:miter;stroke-width:0.8;\"/>\n   </g>\n   <g id=\"patch_11\">\n    <path d=\"M 95.103361 35.7555 \nL 165.439496 35.7555 \n\" style=\"fill:none;stroke:#000000;stroke-linecap:square;stroke-linejoin:miter;stroke-width:0.8;\"/>\n   </g>\n   <g id=\"text_2\">\n    <!-- pullover -->\n    <defs>\n     <path d=\"M 18.109375 8.203125 \nL 18.109375 -20.796875 \nL 9.078125 -20.796875 \nL 9.078125 54.6875 \nL 18.109375 54.6875 \nL 18.109375 46.390625 \nQ 20.953125 51.265625 25.265625 53.625 \nQ 29.59375 56 35.59375 56 \nQ 45.5625 56 51.78125 48.09375 \nQ 58.015625 40.1875 58.015625 27.296875 \nQ 58.015625 14.40625 51.78125 6.484375 \nQ 45.5625 -1.421875 35.59375 -1.421875 \nQ 29.59375 -1.421875 25.265625 0.953125 \nQ 20.953125 3.328125 18.109375 8.203125 \nz\nM 48.6875 27.296875 \nQ 48.6875 37.203125 44.609375 42.84375 \nQ 40.53125 48.484375 33.40625 48.484375 \nQ 26.265625 48.484375 22.1875 42.84375 \nQ 18.109375 37.203125 18.109375 27.296875 \nQ 18.109375 17.390625 22.1875 11.75 \nQ 26.265625 6.109375 33.40625 6.109375 \nQ 40.53125 6.109375 44.609375 11.75 \nQ 48.6875 17.390625 48.6875 27.296875 \nz\n\" id=\"DejaVuSans-112\"/>\n     <path d=\"M 8.5 21.578125 \nL 8.5 54.6875 \nL 17.484375 54.6875 \nL 17.484375 21.921875 \nQ 17.484375 14.15625 20.5 10.265625 \nQ 23.53125 6.390625 29.59375 6.390625 \nQ 36.859375 6.390625 41.078125 11.03125 \nQ 45.3125 15.671875 45.3125 23.6875 \nL 45.3125 54.6875 \nL 54.296875 54.6875 \nL 54.296875 0 \nL 45.3125 0 \nL 45.3125 8.40625 \nQ 42.046875 3.421875 37.71875 1 \nQ 33.40625 -1.421875 27.6875 -1.421875 \nQ 18.265625 -1.421875 13.375 4.4375 \nQ 8.5 10.296875 8.5 21.578125 \nz\nM 31.109375 56 \nz\n\" id=\"DejaVuSans-117\"/>\n     <path d=\"M 2.984375 54.6875 \nL 12.5 54.6875 \nL 29.59375 8.796875 \nL 46.6875 54.6875 \nL 56.203125 54.6875 \nL 35.6875 0 \nL 23.484375 0 \nz\n\" id=\"DejaVuSans-118\"/>\n     <path d=\"M 41.109375 46.296875 \nQ 39.59375 47.171875 37.8125 47.578125 \nQ 36.03125 48 33.890625 48 \nQ 26.265625 48 22.1875 43.046875 \nQ 18.109375 38.09375 18.109375 28.8125 \nL 18.109375 0 \nL 9.078125 0 \nL 9.078125 54.6875 \nL 18.109375 54.6875 \nL 18.109375 46.1875 \nQ 20.953125 51.171875 25.484375 53.578125 \nQ 30.03125 56 36.53125 56 \nQ 37.453125 56 38.578125 55.875 \nQ 39.703125 55.765625 41.0625 55.515625 \nz\n\" id=\"DejaVuSans-114\"/>\n    </defs>\n    <g transform=\"translate(105.945179 16.318125)scale(0.12 -0.12)\">\n     <use xlink:href=\"#DejaVuSans-112\"/>\n     <use x=\"63.476562\" xlink:href=\"#DejaVuSans-117\"/>\n     <use x=\"126.855469\" xlink:href=\"#DejaVuSans-108\"/>\n     <use x=\"154.638672\" xlink:href=\"#DejaVuSans-108\"/>\n     <use x=\"182.421875\" xlink:href=\"#DejaVuSans-111\"/>\n     <use x=\"243.603516\" xlink:href=\"#DejaVuSans-118\"/>\n     <use x=\"302.783203\" xlink:href=\"#DejaVuSans-101\"/>\n     <use x=\"364.306641\" xlink:href=\"#DejaVuSans-114\"/>\n    </g>\n    <!-- pullover -->\n    <g transform=\"translate(105.945179 29.7555)scale(0.12 -0.12)\">\n     <use xlink:href=\"#DejaVuSans-112\"/>\n     <use x=\"63.476562\" xlink:href=\"#DejaVuSans-117\"/>\n     <use x=\"126.855469\" xlink:href=\"#DejaVuSans-108\"/>\n     <use x=\"154.638672\" xlink:href=\"#DejaVuSans-108\"/>\n     <use x=\"182.421875\" xlink:href=\"#DejaVuSans-111\"/>\n     <use x=\"243.603516\" xlink:href=\"#DejaVuSans-118\"/>\n     <use x=\"302.783203\" xlink:href=\"#DejaVuSans-101\"/>\n     <use x=\"364.306641\" xlink:href=\"#DejaVuSans-114\"/>\n    </g>\n   </g>\n  </g>\n  <g id=\"axes_3\">\n   <g id=\"patch_12\">\n    <path d=\"M 179.506723 106.091634 \nL 249.842857 106.091634 \nL 249.842857 35.7555 \nL 179.506723 35.7555 \nz\n\" style=\"fill:#ffffff;\"/>\n   </g>\n   <g clip-path=\"url(#pd7e85908a9)\">\n    <image height=\"71\" id=\"image52a80ba3ae\" transform=\"scale(1 -1)translate(0 -71)\" width=\"71\" x=\"179.506723\" xlink:href=\"data:image/png;base64,\niVBORw0KGgoAAAANSUhEUgAAAEcAAABHCAYAAABVsFofAAAABHNCSVQICAgIfAhkiAAAD0FJREFUeJzVnFtvI8l1x3+nqqu7SYqkNCPNaC7aHe8F9my8geME8INhOAYC+APk8gnykLznk+UhCJKHAAGSILGBwEkc39bOenc9OxqNNJQokt1dXXXy0E2Kkrj2OEMK0XkTW13dferc/v9zuuWP5E+UGxL73pd48Yf7lHeEyUEg259SnOTs/HtC50QZ/OSU+B8/Bm1vSQT79H3GX9lhumd49c2Stx8cU9QJReU4G3cY/EuH4f94Os8m6A8/Qn21tvs1a1vpdUQEBFQAAWMiGFArRAtqDIi5do6a5hwxSmIiVhQRRYxCu5aKgJG13m6y1tV+g8Rhl9P3IewXvPvoiG/c/ZjPHw353t4BL85zip0hD4p3kPMZ8eglsSwp729x8mVLuRv5/Sef8K2djyg0YRoyfja5x79+9hTjE4zvkFnLOt3gRpXjhxlbX37Ftx79nO9u/yffyc/wBE4fBo5Cyp+Gv2DwyQ7ZSZfkfAKVZ7rvqD6Y8eDuKX++/498uzMlqOIJ/Fc/4/tPDjivtkjHCZm1a73fzShHWvPWy/sYE6GXVdxLx/RNgRUh6oUraG2wRcCUNYTQ/Na6n7OBVAIJFiQQVbAoqgIKazWZVtavHGMRI2hU0HDpkCbCw61TnubPsEQ+q0vG0fFz/5Bnfof0maPzo1+ikwlxOgVAFKIKIRommnKuE0qNTKLyPOziZ47OVEjKCDGu9VFuNuYkwtAV3LXnWJRxdIxih+f1kM+rIW4ihJfHaFk2J5gLN4kqeE3wGqlUKdQwiRnqDcaDhPWbzuaVYyzJ/T10Z8Bk3/IwH3HHTrEoBsVJjZOAEUVXJBvfEXa3z3ncH5GLp1DFK0SEoIJUBjdRbBGvufGbyvqVoxGNBrQxcbGW8HiP8ZMu5wfwpeyIPVPjAa/gJGCJWLnuEmKEuit8eOeQd7tH5OIpFSpt0n2hKWZqSMdKMg1rd6vN1Dm6dJNGqHuOcmiou0ouHiuCaS/u1XLohzwrtrGr6jeBRCIGxaxQ4CZlA5ajTbZqTVyShPFBxqvfUfK3xvTtjKo95gSe19v89Wcf8uLlgHuHcZGlLtaDMlq8WmJrMVa0zVYRtUpMBLXrLQDhJipkY6gGgtwr2R+OcQTm+2+Bccw5OuljDjPS89WWEdUQufzwBm1c0dBU0GuujmFTAXkpMIo1lDvwlUfPea9/RG48hQq5KBYYhS56ktJ5KbhxaEqA5aUMdKyna6pLbhURDBFNlJAK0QmY9e715rNVklA8CPzl43+gJxU9qSjUYqkxAq/qHp3PLYOPI+nxjKhXrMfAIJmxZQtSwrXl1UVCxxKduSg+13Xra11tlYhBrdI3RROMaeJFEAGUIjpsBUkRkaq+droayExNLv6S5TiJpBIat2rB57pl88rRCBGmMSOKAVNiUQq1QOCk6pG9UvKjEpnMrp0eUng3f8GBOyYlEhC6ovSNZT85BVHk1sCHFSIqVGoxRJw22MiqUGCZBUcyU+xZiRbltUJOLewlZ9y1E4woQYXUwJZk9E3RpBQFWXMBCBtUjiQJ0ukggz6aRgamWLiFV0vEYIic+ww3jZjT8wvYcGkhSCXgJLKSkFi2mv/3FXIrkmWY3TvUu32SnmfPTggIo5gT1VDQgMlR2SF/WRE+f45erXFo4omTGsf1NB9oELlENuJWG6tzxCVoJyN0HTa52Hm74iElRLSuV++8tBBDmmNX650FILtNMUf6fSZfGjLdS9gdjOiLUhCYSGMd2+LpmprtbMbUbq9ONm2mu2tmbBsYxTbTXVHiplDFxixHOxnT3YTZrnCnMyUXgxNIiTgJDI1nzwiDdLYSjS/WsdCVQFfsF8ccGt5n3bIxy9HcUW4L1Y4ycAWhfQojilXlKGYcBsPhdPAbuRgrYNp9DF9Q0Pw6Bf9fZWPKCf2cyUFE90uedI/xc7BJJCL8uHrAT4t9fnm8w5Oq/sKQoQIOsCIEBK/mcp28oQIQNulWiRC6kbxT0TUNFxFpELURZRxyjqo+vkp+KxYvIJdD+pwk24CCNqYc303o3Jvy9N4h990phUJQcCiOyCflXX5w/BA9SRF/PYVflaBNVV2ow7e6tGgDH5IWla8ZW21MOSE3PNo55cPBM/aSMwo1RBoOJ5XIUdXnxckAd2bAX8dUq8SroYhuwQRC0+iLtgnc65bNuZWBXlIxTKYNQOQimAaEcZ1RzxJsIavpzXkHc4Ux2KXUpAomgPxm4/utZWMBOSbC/c4Z76Qv6JtZU7wp+BZ0Pp8MSI4c2QhkheWItUiaXspCcyQ+T+kBAW8wVdt9WDN82BwTKLBlS3qmxEm4loJ9NJgapFa4QnA1PXWDvG4M0c3UOZuLOU44yE94Jzkll0ChlrINDBaln5bUW0rdFbDXb0OsAWsvuVXUJp3PFW1RsEpM25hzWwJyTODAnfA46dCTmkIdVXs5J5EtVxK7gZCDJiuiqTGN0qSpcaBxo6CGsORrkkSia9x43bJxgt20Ox318qW6SYXkgZhybcclcUivh/S3iE4JqkQiXi2eC0VamjGU20Wwr5C5guZ56X42ZmfnnNEgBXf5NiTPiI/v4XdyYr+mULAaKLTbtISX9tS0bhUT1k6w3+jw0nJQ7tqKXurRVK9bjjXErsP3LeIadQbVhVvNJzOMKGIialh7vIEbUo5F27Zvk8a9Gh64EU93niPDCnWXY450Oozfzjl9J2Hnzjm5gFuKOwBxEwTOFbkRtzKwILl8G3seulewBf82eBt17vIJnZzzR4bJQeAPdo7Jl0bhopovROabuO8bkeXCLSD0TMleMiZP/TW6QY0QHWiqpGYDpe9ryo3O50BDrgPs23Ped6cc9EeMXP+yLbgE31fcsGQ3OwdY8EHAatJrA3JjljPvPMwtpyuBXZPST8rraViEmECa1WSmXrnOVblVZNcqaciqi0s6sSQmoIkgSdJ0H1TRxBB6gd2tCXeSCQHFq7aZylyqkJMkUmfapPI1y427VbXELTixOIlE2ygHQOsatRbZqnmrf8JuMibCii55M2mRuZoqbcZQXhuLvaZsrjWjc9buykQphrh02cx4QsciwwGSZc2PVnBZzf1szLadttmukXDllo2JDdl1m/gcFMahw2ks8MgiiFZqqfSie3UvHXP6JKH48AB5eB9ECHnCu/de8sfb3+fr2TP6JsWJEDF4tQu3SiXSz6oGo2Xcngl20SYzzWPFXOKV/eiaimoAxV1HdtRYjiaGB50znqYVjpQEi13KZ8s4zdkALjaTXVdfDXhD2ZxygvKy7nMYHEYUJxGviiFeUtBecsbscY3EhPy4i2sfMDEBh8UTmEbPdDEqF3ASmDtaHQ3UpiW7bsPAJGBqeF4O+VUYMo2uGa2VZmrULPUPDtwxB+8cUX51xuRBirTUaGZquibFa+QwGI5CCkAuHidxgfarYMHLRmjSjQbkMiYUMSUgzQzfUnBuQGTT/dztnNPrFU3caC3HLHrjXCa4rtQ5UQVRuV1MoETlVdXhqO7jNSGVeDFMIJFCLa/ijFwC37n7U75z8DPKO6tfC/JtfWOIOKkvoEg79k+AFfMJbywbVA4UwTGNWTu4RDu1fgFAp9r0sD7IP+PrvY+pO9fXWVAVS4WfWbbAKEhsLecqF/2GsrmYUykvJlv8YrbHVDOcXIzHWhSvlklsRmi3zYy33An+y1Ne/dnXefbNnHfzI7yGS8VfxLS1k1C3R9IkENPYkl23JJXbInB8ssUP031+d+tT8vwQP1cMUKgjRKEnnoe2wiaev/ra3/O3j77K1zpnfKP7EVOtKRclQbIgu7wavAYiwlZaQScQ0+QWpfIIsbSclxlldNeOB4T5r1YEh/AkfcnvbX/KnWRCLoFS46Xu5vK5oR2etBIxLhI3UCFvTDnJeUX6fIuXccgnD+9gWyhxFnMKdWybKa7lasaxiSP79oxvb/0Y0wbsT2tDoUljZUtK8moZxwqvKbv5hBeDKWW3s7LF80bPsNbVlsSUNempENOEke9iWlBYaBOkB6ZYZJ1CLQZlaDz3radQ+DRsMY3ZtXWtNBYzd7eBKxh2Cp5fN843ls25lQ+kZ0rIhUmd4rA4CeTiiWIWWasZemx2PCLN+1SYBUSY/9+8qg5qCBgKtVRYEgmkJrRNvVtiOTKZ0TsMSLSclF0ySeiKp2eacdp0qUU8B5M+XgTdq2KIVOoW/98Q9ZbM1PTTArW3aA6ZELGFYgvw8XIjbrnKnZNXoU3Ty2TYKllY0A2Q7JubCZxMyT8/R2KPsyIHwCLk4hcPVqhbdCVsC0jDkhs1/2cWYDViFlbVk5opysh3eTnbwlSyduC5OeWUJeb4jDQxTMvGHYxIAz5bhD2fZM/FAxAkLqgJr7ZRhERoFRVaK2v6YA2UmAXHuEwxfv3PsLnhpRDQosAUNTFeXMa2L72atiBcRZgvx5w55FgGrU5qutI0CqtoKb3DBG7PfI5WFeFkhIzGeD8fPRFyCeRSkxJaBV2OP16Ta4TYnOaYx6pcavZsxrapOKtypucZtuD2YCtUIYZ2bP8ieJornPJVTrj57dcHW4u27KDio0W9uV1jb8sSa+FVnOFVie1DjTRlHDsY4mL6CxqXMWoo1BExTGICNMXgvCE4J+4rNYxmOWackMz0+suzbyibV05UNBjGSyZvRCnUMQrd9qWPeca6GDiYakN1RDWX2jnLw5Iew7TISM6FpFD0trxSdEkqw6dhi55U9I0nR7lrJtikCc49qS7NDUYM22Z6MXJypbbJJWBImk84VAnZVLC34lsWy421Nu4kI8vfnX3Ie/kh3+3+gjs24771BEYAi/Q9jjXj9usmXZktXs53YoiqjDXiFYZGsNKA0nDq6LxQstEXvJL0BnIjbmVL4ZPZDl1T4btNWecETPswdqHQun23QelKXCgmlwRPwGlckF+legrNMKXBTRVTrv9zDZv7IsH8z6pi+JHyT4MP+Of773D6tMNb2TEfF7t8XgzJTM22m5KYyK9m2xzO+hiUflqQmEjPVvSSBo9N6gyvhvvZmLeyE7539jaDjwzb/z3CjM4J9etNwr+ubM5yWqvQyrP9k3OSssfZW13+pvMB9/rnfPLiDuE4Q51i+x5jIv40Ixk147UxU9Qqmkak035oKDQf/Mq2Sva3xzw7HvL4ZxXxBz9qqqVb51Y0nQgJisSGEA/RNF9MitJkswhRBGKLFmQ+ri+oSqMUgFY5MQp1bGcD4/on1+fyv1eQm2w3lBnhAAAAAElFTkSuQmCC\" y=\"-35.091634\"/>\n   </g>\n   <g id=\"patch_13\">\n    <path d=\"M 179.506723 106.091634 \nL 179.506723 35.7555 \n\" style=\"fill:none;stroke:#000000;stroke-linecap:square;stroke-linejoin:miter;stroke-width:0.8;\"/>\n   </g>\n   <g id=\"patch_14\">\n    <path d=\"M 249.842857 106.091634 \nL 249.842857 35.7555 \n\" style=\"fill:none;stroke:#000000;stroke-linecap:square;stroke-linejoin:miter;stroke-width:0.8;\"/>\n   </g>\n   <g id=\"patch_15\">\n    <path d=\"M 179.506723 106.091634 \nL 249.842857 106.091634 \n\" style=\"fill:none;stroke:#000000;stroke-linecap:square;stroke-linejoin:miter;stroke-width:0.8;\"/>\n   </g>\n   <g id=\"patch_16\">\n    <path d=\"M 179.506723 35.7555 \nL 249.842857 35.7555 \n\" style=\"fill:none;stroke:#000000;stroke-linecap:square;stroke-linejoin:miter;stroke-width:0.8;\"/>\n   </g>\n   <g id=\"text_3\">\n    <!-- trouser -->\n    <defs>\n     <path d=\"M 44.28125 53.078125 \nL 44.28125 44.578125 \nQ 40.484375 46.53125 36.375 47.5 \nQ 32.28125 48.484375 27.875 48.484375 \nQ 21.1875 48.484375 17.84375 46.4375 \nQ 14.5 44.390625 14.5 40.28125 \nQ 14.5 37.15625 16.890625 35.375 \nQ 19.28125 33.59375 26.515625 31.984375 \nL 29.59375 31.296875 \nQ 39.15625 29.25 43.1875 25.515625 \nQ 47.21875 21.78125 47.21875 15.09375 \nQ 47.21875 7.46875 41.1875 3.015625 \nQ 35.15625 -1.421875 24.609375 -1.421875 \nQ 20.21875 -1.421875 15.453125 -0.5625 \nQ 10.6875 0.296875 5.421875 2 \nL 5.421875 11.28125 \nQ 10.40625 8.6875 15.234375 7.390625 \nQ 20.0625 6.109375 24.8125 6.109375 \nQ 31.15625 6.109375 34.5625 8.28125 \nQ 37.984375 10.453125 37.984375 14.40625 \nQ 37.984375 18.0625 35.515625 20.015625 \nQ 33.0625 21.96875 24.703125 23.78125 \nL 21.578125 24.515625 \nQ 13.234375 26.265625 9.515625 29.90625 \nQ 5.8125 33.546875 5.8125 39.890625 \nQ 5.8125 47.609375 11.28125 51.796875 \nQ 16.75 56 26.8125 56 \nQ 31.78125 56 36.171875 55.265625 \nQ 40.578125 54.546875 44.28125 53.078125 \nz\n\" id=\"DejaVuSans-115\"/>\n    </defs>\n    <g transform=\"translate(193.233227 16.318125)scale(0.12 -0.12)\">\n     <use xlink:href=\"#DejaVuSans-116\"/>\n     <use x=\"39.208984\" xlink:href=\"#DejaVuSans-114\"/>\n     <use x=\"78.072266\" xlink:href=\"#DejaVuSans-111\"/>\n     <use x=\"139.253906\" xlink:href=\"#DejaVuSans-117\"/>\n     <use x=\"202.632812\" xlink:href=\"#DejaVuSans-115\"/>\n     <use x=\"254.732422\" xlink:href=\"#DejaVuSans-101\"/>\n     <use x=\"316.255859\" xlink:href=\"#DejaVuSans-114\"/>\n    </g>\n    <!-- trouser -->\n    <g transform=\"translate(193.233227 29.7555)scale(0.12 -0.12)\">\n     <use xlink:href=\"#DejaVuSans-116\"/>\n     <use x=\"39.208984\" xlink:href=\"#DejaVuSans-114\"/>\n     <use x=\"78.072266\" xlink:href=\"#DejaVuSans-111\"/>\n     <use x=\"139.253906\" xlink:href=\"#DejaVuSans-117\"/>\n     <use x=\"202.632812\" xlink:href=\"#DejaVuSans-115\"/>\n     <use x=\"254.732422\" xlink:href=\"#DejaVuSans-101\"/>\n     <use x=\"316.255859\" xlink:href=\"#DejaVuSans-114\"/>\n    </g>\n   </g>\n  </g>\n  <g id=\"axes_4\">\n   <g id=\"patch_17\">\n    <path d=\"M 263.910084 106.091634 \nL 334.246218 106.091634 \nL 334.246218 35.7555 \nL 263.910084 35.7555 \nz\n\" style=\"fill:#ffffff;\"/>\n   </g>\n   <g clip-path=\"url(#pbe2490a603)\">\n    <image height=\"71\" id=\"image3a29a754c2\" transform=\"scale(1 -1)translate(0 -71)\" width=\"71\" x=\"263.910084\" xlink:href=\"data:image/png;base64,\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\" y=\"-35.091634\"/>\n   </g>\n   <g id=\"patch_18\">\n    <path d=\"M 263.910084 106.091634 \nL 263.910084 35.7555 \n\" style=\"fill:none;stroke:#000000;stroke-linecap:square;stroke-linejoin:miter;stroke-width:0.8;\"/>\n   </g>\n   <g id=\"patch_19\">\n    <path d=\"M 334.246218 106.091634 \nL 334.246218 35.7555 \n\" style=\"fill:none;stroke:#000000;stroke-linecap:square;stroke-linejoin:miter;stroke-width:0.8;\"/>\n   </g>\n   <g id=\"patch_20\">\n    <path d=\"M 263.910084 106.091634 \nL 334.246218 106.091634 \n\" style=\"fill:none;stroke:#000000;stroke-linecap:square;stroke-linejoin:miter;stroke-width:0.8;\"/>\n   </g>\n   <g id=\"patch_21\">\n    <path d=\"M 263.910084 35.7555 \nL 334.246218 35.7555 \n\" style=\"fill:none;stroke:#000000;stroke-linecap:square;stroke-linejoin:miter;stroke-width:0.8;\"/>\n   </g>\n   <g id=\"text_4\">\n    <!-- trouser -->\n    <g transform=\"translate(277.636589 16.318125)scale(0.12 -0.12)\">\n     <use xlink:href=\"#DejaVuSans-116\"/>\n     <use x=\"39.208984\" xlink:href=\"#DejaVuSans-114\"/>\n     <use x=\"78.072266\" xlink:href=\"#DejaVuSans-111\"/>\n     <use x=\"139.253906\" xlink:href=\"#DejaVuSans-117\"/>\n     <use x=\"202.632812\" xlink:href=\"#DejaVuSans-115\"/>\n     <use x=\"254.732422\" xlink:href=\"#DejaVuSans-101\"/>\n     <use x=\"316.255859\" xlink:href=\"#DejaVuSans-114\"/>\n    </g>\n    <!-- trouser -->\n    <g transform=\"translate(277.636589 29.7555)scale(0.12 -0.12)\">\n     <use xlink:href=\"#DejaVuSans-116\"/>\n     <use x=\"39.208984\" xlink:href=\"#DejaVuSans-114\"/>\n     <use x=\"78.072266\" xlink:href=\"#DejaVuSans-111\"/>\n     <use x=\"139.253906\" xlink:href=\"#DejaVuSans-117\"/>\n     <use x=\"202.632812\" xlink:href=\"#DejaVuSans-115\"/>\n     <use x=\"254.732422\" xlink:href=\"#DejaVuSans-101\"/>\n     <use x=\"316.255859\" xlink:href=\"#DejaVuSans-114\"/>\n    </g>\n   </g>\n  </g>\n  <g id=\"axes_5\">\n   <g id=\"patch_22\">\n    <path d=\"M 348.313445 106.091634 \nL 418.64958 106.091634 \nL 418.64958 35.7555 \nL 348.313445 35.7555 \nz\n\" style=\"fill:#ffffff;\"/>\n   </g>\n   <g clip-path=\"url(#pac824f1a22)\">\n    <image height=\"71\" id=\"image704ef969d3\" transform=\"scale(1 -1)translate(0 -71)\" width=\"71\" x=\"348.313445\" xlink:href=\"data:image/png;base64,\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\" y=\"-35.091634\"/>\n   </g>\n   <g id=\"patch_23\">\n    <path d=\"M 348.313445 106.091634 \nL 348.313445 35.7555 \n\" style=\"fill:none;stroke:#000000;stroke-linecap:square;stroke-linejoin:miter;stroke-width:0.8;\"/>\n   </g>\n   <g id=\"patch_24\">\n    <path d=\"M 418.64958 106.091634 \nL 418.64958 35.7555 \n\" style=\"fill:none;stroke:#000000;stroke-linecap:square;stroke-linejoin:miter;stroke-width:0.8;\"/>\n   </g>\n   <g id=\"patch_25\">\n    <path d=\"M 348.313445 106.091634 \nL 418.64958 106.091634 \n\" style=\"fill:none;stroke:#000000;stroke-linecap:square;stroke-linejoin:miter;stroke-width:0.8;\"/>\n   </g>\n   <g id=\"patch_26\">\n    <path d=\"M 348.313445 35.7555 \nL 418.64958 35.7555 \n\" style=\"fill:none;stroke:#000000;stroke-linecap:square;stroke-linejoin:miter;stroke-width:0.8;\"/>\n   </g>\n   <g id=\"text_5\">\n    <!-- shirt -->\n    <defs>\n     <path d=\"M 54.890625 33.015625 \nL 54.890625 0 \nL 45.90625 0 \nL 45.90625 32.71875 \nQ 45.90625 40.484375 42.875 44.328125 \nQ 39.84375 48.1875 33.796875 48.1875 \nQ 26.515625 48.1875 22.3125 43.546875 \nQ 18.109375 38.921875 18.109375 30.90625 \nL 18.109375 0 \nL 9.078125 0 \nL 9.078125 75.984375 \nL 18.109375 75.984375 \nL 18.109375 46.1875 \nQ 21.34375 51.125 25.703125 53.5625 \nQ 30.078125 56 35.796875 56 \nQ 45.21875 56 50.046875 50.171875 \nQ 54.890625 44.34375 54.890625 33.015625 \nz\n\" id=\"DejaVuSans-104\"/>\n     <path d=\"M 9.421875 54.6875 \nL 18.40625 54.6875 \nL 18.40625 0 \nL 9.421875 0 \nz\nM 9.421875 75.984375 \nL 18.40625 75.984375 \nL 18.40625 64.59375 \nL 9.421875 64.59375 \nz\n\" id=\"DejaVuSans-105\"/>\n    </defs>\n    <g transform=\"translate(370.067763 16.318125)scale(0.12 -0.12)\">\n     <use xlink:href=\"#DejaVuSans-115\"/>\n     <use x=\"52.099609\" xlink:href=\"#DejaVuSans-104\"/>\n     <use x=\"115.478516\" xlink:href=\"#DejaVuSans-105\"/>\n     <use x=\"143.261719\" xlink:href=\"#DejaVuSans-114\"/>\n     <use x=\"184.375\" xlink:href=\"#DejaVuSans-116\"/>\n    </g>\n    <!-- shirt -->\n    <g transform=\"translate(370.067763 29.7555)scale(0.12 -0.12)\">\n     <use xlink:href=\"#DejaVuSans-115\"/>\n     <use x=\"52.099609\" xlink:href=\"#DejaVuSans-104\"/>\n     <use x=\"115.478516\" xlink:href=\"#DejaVuSans-105\"/>\n     <use x=\"143.261719\" xlink:href=\"#DejaVuSans-114\"/>\n     <use x=\"184.375\" xlink:href=\"#DejaVuSans-116\"/>\n    </g>\n   </g>\n  </g>\n  <g id=\"axes_6\">\n   <g id=\"patch_27\">\n    <path d=\"M 432.716807 106.091634 \nL 503.052941 106.091634 \nL 503.052941 35.7555 \nL 432.716807 35.7555 \nz\n\" style=\"fill:#ffffff;\"/>\n   </g>\n   <g clip-path=\"url(#p66d77f614b)\">\n    <image height=\"71\" id=\"image6aa7a39033\" transform=\"scale(1 -1)translate(0 -71)\" width=\"71\" x=\"432.716807\" xlink:href=\"data:image/png;base64,\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\" y=\"-35.091634\"/>\n   </g>\n   <g id=\"patch_28\">\n    <path d=\"M 432.716807 106.091634 \nL 432.716807 35.7555 \n\" style=\"fill:none;stroke:#000000;stroke-linecap:square;stroke-linejoin:miter;stroke-width:0.8;\"/>\n   </g>\n   <g id=\"patch_29\">\n    <path d=\"M 503.052941 106.091634 \nL 503.052941 35.7555 \n\" style=\"fill:none;stroke:#000000;stroke-linecap:square;stroke-linejoin:miter;stroke-width:0.8;\"/>\n   </g>\n   <g id=\"patch_30\">\n    <path d=\"M 432.716807 106.091634 \nL 503.052941 106.091634 \n\" style=\"fill:none;stroke:#000000;stroke-linecap:square;stroke-linejoin:miter;stroke-width:0.8;\"/>\n   </g>\n   <g id=\"patch_31\">\n    <path d=\"M 432.716807 35.7555 \nL 503.052941 35.7555 \n\" style=\"fill:none;stroke:#000000;stroke-linecap:square;stroke-linejoin:miter;stroke-width:0.8;\"/>\n   </g>\n   <g id=\"text_6\">\n    <!-- trouser -->\n    <g transform=\"translate(446.443311 16.318125)scale(0.12 -0.12)\">\n     <use xlink:href=\"#DejaVuSans-116\"/>\n     <use x=\"39.208984\" xlink:href=\"#DejaVuSans-114\"/>\n     <use x=\"78.072266\" xlink:href=\"#DejaVuSans-111\"/>\n     <use x=\"139.253906\" xlink:href=\"#DejaVuSans-117\"/>\n     <use x=\"202.632812\" xlink:href=\"#DejaVuSans-115\"/>\n     <use x=\"254.732422\" xlink:href=\"#DejaVuSans-101\"/>\n     <use x=\"316.255859\" xlink:href=\"#DejaVuSans-114\"/>\n    </g>\n    <!-- trouser -->\n    <g transform=\"translate(446.443311 29.7555)scale(0.12 -0.12)\">\n     <use xlink:href=\"#DejaVuSans-116\"/>\n     <use x=\"39.208984\" xlink:href=\"#DejaVuSans-114\"/>\n     <use x=\"78.072266\" xlink:href=\"#DejaVuSans-111\"/>\n     <use x=\"139.253906\" xlink:href=\"#DejaVuSans-117\"/>\n     <use x=\"202.632812\" xlink:href=\"#DejaVuSans-115\"/>\n     <use x=\"254.732422\" xlink:href=\"#DejaVuSans-101\"/>\n     <use x=\"316.255859\" xlink:href=\"#DejaVuSans-114\"/>\n    </g>\n   </g>\n  </g>\n  <g id=\"axes_7\">\n   <g id=\"patch_32\">\n    <path d=\"M 517.120168 106.091634 \nL 587.456303 106.091634 \nL 587.456303 35.7555 \nL 517.120168 35.7555 \nz\n\" style=\"fill:#ffffff;\"/>\n   </g>\n   <g clip-path=\"url(#pbd393190ce)\">\n    <image height=\"71\" id=\"image9c20b48809\" transform=\"scale(1 -1)translate(0 -71)\" width=\"71\" x=\"517.120168\" xlink:href=\"data:image/png;base64,\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\" y=\"-35.091634\"/>\n   </g>\n   <g id=\"patch_33\">\n    <path d=\"M 517.120168 106.091634 \nL 517.120168 35.7555 \n\" style=\"fill:none;stroke:#000000;stroke-linecap:square;stroke-linejoin:miter;stroke-width:0.8;\"/>\n   </g>\n   <g id=\"patch_34\">\n    <path d=\"M 587.456303 106.091634 \nL 587.456303 35.7555 \n\" style=\"fill:none;stroke:#000000;stroke-linecap:square;stroke-linejoin:miter;stroke-width:0.8;\"/>\n   </g>\n   <g id=\"patch_35\">\n    <path d=\"M 517.120168 106.091634 \nL 587.456303 106.091634 \n\" style=\"fill:none;stroke:#000000;stroke-linecap:square;stroke-linejoin:miter;stroke-width:0.8;\"/>\n   </g>\n   <g id=\"patch_36\">\n    <path d=\"M 517.120168 35.7555 \nL 587.456303 35.7555 \n\" style=\"fill:none;stroke:#000000;stroke-linecap:square;stroke-linejoin:miter;stroke-width:0.8;\"/>\n   </g>\n   <g id=\"text_7\">\n    <!-- coat -->\n    <defs>\n     <path d=\"M 48.78125 52.59375 \nL 48.78125 44.1875 \nQ 44.96875 46.296875 41.140625 47.34375 \nQ 37.3125 48.390625 33.40625 48.390625 \nQ 24.65625 48.390625 19.8125 42.84375 \nQ 14.984375 37.3125 14.984375 27.296875 \nQ 14.984375 17.28125 19.8125 11.734375 \nQ 24.65625 6.203125 33.40625 6.203125 \nQ 37.3125 6.203125 41.140625 7.25 \nQ 44.96875 8.296875 48.78125 10.40625 \nL 48.78125 2.09375 \nQ 45.015625 0.34375 40.984375 -0.53125 \nQ 36.96875 -1.421875 32.421875 -1.421875 \nQ 20.0625 -1.421875 12.78125 6.34375 \nQ 5.515625 14.109375 5.515625 27.296875 \nQ 5.515625 40.671875 12.859375 48.328125 \nQ 20.21875 56 33.015625 56 \nQ 37.15625 56 41.109375 55.140625 \nQ 45.0625 54.296875 48.78125 52.59375 \nz\n\" id=\"DejaVuSans-99\"/>\n    </defs>\n    <g transform=\"translate(539.28886 16.318125)scale(0.12 -0.12)\">\n     <use xlink:href=\"#DejaVuSans-99\"/>\n     <use x=\"54.980469\" xlink:href=\"#DejaVuSans-111\"/>\n     <use x=\"116.162109\" xlink:href=\"#DejaVuSans-97\"/>\n     <use x=\"177.441406\" xlink:href=\"#DejaVuSans-116\"/>\n    </g>\n    <!-- coat -->\n    <g transform=\"translate(539.28886 29.7555)scale(0.12 -0.12)\">\n     <use xlink:href=\"#DejaVuSans-99\"/>\n     <use x=\"54.980469\" xlink:href=\"#DejaVuSans-111\"/>\n     <use x=\"116.162109\" xlink:href=\"#DejaVuSans-97\"/>\n     <use x=\"177.441406\" xlink:href=\"#DejaVuSans-116\"/>\n    </g>\n   </g>\n  </g>\n  <g id=\"axes_8\">\n   <g id=\"patch_37\">\n    <path d=\"M 601.523529 106.091634 \nL 671.859664 106.091634 \nL 671.859664 35.7555 \nL 601.523529 35.7555 \nz\n\" style=\"fill:#ffffff;\"/>\n   </g>\n   <g clip-path=\"url(#pb5a0b8cb0a)\">\n    <image height=\"71\" id=\"image52d867bbb2\" transform=\"scale(1 -1)translate(0 -71)\" width=\"71\" x=\"601.523529\" xlink:href=\"data:image/png;base64,\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\" y=\"-35.091634\"/>\n   </g>\n   <g id=\"patch_38\">\n    <path d=\"M 601.523529 106.091634 \nL 601.523529 35.7555 \n\" style=\"fill:none;stroke:#000000;stroke-linecap:square;stroke-linejoin:miter;stroke-width:0.8;\"/>\n   </g>\n   <g id=\"patch_39\">\n    <path d=\"M 671.859664 106.091634 \nL 671.859664 35.7555 \n\" style=\"fill:none;stroke:#000000;stroke-linecap:square;stroke-linejoin:miter;stroke-width:0.8;\"/>\n   </g>\n   <g id=\"patch_40\">\n    <path d=\"M 601.523529 106.091634 \nL 671.859664 106.091634 \n\" style=\"fill:none;stroke:#000000;stroke-linecap:square;stroke-linejoin:miter;stroke-width:0.8;\"/>\n   </g>\n   <g id=\"patch_41\">\n    <path d=\"M 601.523529 35.7555 \nL 671.859664 35.7555 \n\" style=\"fill:none;stroke:#000000;stroke-linecap:square;stroke-linejoin:miter;stroke-width:0.8;\"/>\n   </g>\n   <g id=\"text_8\">\n    <!-- shirt -->\n    <g transform=\"translate(623.277847 16.318125)scale(0.12 -0.12)\">\n     <use xlink:href=\"#DejaVuSans-115\"/>\n     <use x=\"52.099609\" xlink:href=\"#DejaVuSans-104\"/>\n     <use x=\"115.478516\" xlink:href=\"#DejaVuSans-105\"/>\n     <use x=\"143.261719\" xlink:href=\"#DejaVuSans-114\"/>\n     <use x=\"184.375\" xlink:href=\"#DejaVuSans-116\"/>\n    </g>\n    <!-- shirt -->\n    <g transform=\"translate(623.277847 29.7555)scale(0.12 -0.12)\">\n     <use xlink:href=\"#DejaVuSans-115\"/>\n     <use x=\"52.099609\" xlink:href=\"#DejaVuSans-104\"/>\n     <use x=\"115.478516\" xlink:href=\"#DejaVuSans-105\"/>\n     <use x=\"143.261719\" xlink:href=\"#DejaVuSans-114\"/>\n     <use x=\"184.375\" xlink:href=\"#DejaVuSans-116\"/>\n    </g>\n   </g>\n  </g>\n  <g id=\"axes_9\">\n   <g id=\"patch_42\">\n    <path d=\"M 685.926891 106.091634 \nL 756.263025 106.091634 \nL 756.263025 35.7555 \nL 685.926891 35.7555 \nz\n\" style=\"fill:#ffffff;\"/>\n   </g>\n   <g clip-path=\"url(#p09f76b1e33)\">\n    <image height=\"71\" id=\"image4fdca92ca6\" transform=\"scale(1 -1)translate(0 -71)\" width=\"71\" x=\"685.926891\" xlink:href=\"data:image/png;base64,\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\" y=\"-35.091634\"/>\n   </g>\n   <g id=\"patch_43\">\n    <path d=\"M 685.926891 106.091634 \nL 685.926891 35.7555 \n\" style=\"fill:none;stroke:#000000;stroke-linecap:square;stroke-linejoin:miter;stroke-width:0.8;\"/>\n   </g>\n   <g id=\"patch_44\">\n    <path d=\"M 756.263025 106.091634 \nL 756.263025 35.7555 \n\" style=\"fill:none;stroke:#000000;stroke-linecap:square;stroke-linejoin:miter;stroke-width:0.8;\"/>\n   </g>\n   <g id=\"patch_45\">\n    <path d=\"M 685.926891 106.091634 \nL 756.263025 106.091634 \n\" style=\"fill:none;stroke:#000000;stroke-linecap:square;stroke-linejoin:miter;stroke-width:0.8;\"/>\n   </g>\n   <g id=\"patch_46\">\n    <path d=\"M 685.926891 35.7555 \nL 756.263025 35.7555 \n\" style=\"fill:none;stroke:#000000;stroke-linecap:square;stroke-linejoin:miter;stroke-width:0.8;\"/>\n   </g>\n   <g id=\"text_9\">\n    <!-- sandal -->\n    <defs>\n     <path d=\"M 45.40625 46.390625 \nL 45.40625 75.984375 \nL 54.390625 75.984375 \nL 54.390625 0 \nL 45.40625 0 \nL 45.40625 8.203125 \nQ 42.578125 3.328125 38.25 0.953125 \nQ 33.9375 -1.421875 27.875 -1.421875 \nQ 17.96875 -1.421875 11.734375 6.484375 \nQ 5.515625 14.40625 5.515625 27.296875 \nQ 5.515625 40.1875 11.734375 48.09375 \nQ 17.96875 56 27.875 56 \nQ 33.9375 56 38.25 53.625 \nQ 42.578125 51.265625 45.40625 46.390625 \nz\nM 14.796875 27.296875 \nQ 14.796875 17.390625 18.875 11.75 \nQ 22.953125 6.109375 30.078125 6.109375 \nQ 37.203125 6.109375 41.296875 11.75 \nQ 45.40625 17.390625 45.40625 27.296875 \nQ 45.40625 37.203125 41.296875 42.84375 \nQ 37.203125 48.484375 30.078125 48.484375 \nQ 22.953125 48.484375 18.875 42.84375 \nQ 14.796875 37.203125 14.796875 27.296875 \nz\n\" id=\"DejaVuSans-100\"/>\n    </defs>\n    <g transform=\"translate(701.337145 16.318125)scale(0.12 -0.12)\">\n     <use xlink:href=\"#DejaVuSans-115\"/>\n     <use x=\"52.099609\" xlink:href=\"#DejaVuSans-97\"/>\n     <use x=\"113.378906\" xlink:href=\"#DejaVuSans-110\"/>\n     <use x=\"176.757812\" xlink:href=\"#DejaVuSans-100\"/>\n     <use x=\"240.234375\" xlink:href=\"#DejaVuSans-97\"/>\n     <use x=\"301.513672\" xlink:href=\"#DejaVuSans-108\"/>\n    </g>\n    <!-- sandal -->\n    <g transform=\"translate(701.337145 29.7555)scale(0.12 -0.12)\">\n     <use xlink:href=\"#DejaVuSans-115\"/>\n     <use x=\"52.099609\" xlink:href=\"#DejaVuSans-97\"/>\n     <use x=\"113.378906\" xlink:href=\"#DejaVuSans-110\"/>\n     <use x=\"176.757812\" xlink:href=\"#DejaVuSans-100\"/>\n     <use x=\"240.234375\" xlink:href=\"#DejaVuSans-97\"/>\n     <use x=\"301.513672\" xlink:href=\"#DejaVuSans-108\"/>\n    </g>\n   </g>\n  </g>\n  <g id=\"axes_10\">\n   <g id=\"patch_47\">\n    <path d=\"M 770.330252 106.091634 \nL 840.666387 106.091634 \nL 840.666387 35.7555 \nL 770.330252 35.7555 \nz\n\" style=\"fill:#ffffff;\"/>\n   </g>\n   <g clip-path=\"url(#p026b6752c2)\">\n    <image height=\"71\" id=\"image859d4117f2\" transform=\"scale(1 -1)translate(0 -71)\" width=\"71\" x=\"770.330252\" xlink:href=\"data:image/png;base64,\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\" y=\"-35.091634\"/>\n   </g>\n   <g id=\"patch_48\">\n    <path d=\"M 770.330252 106.091634 \nL 770.330252 35.7555 \n\" style=\"fill:none;stroke:#000000;stroke-linecap:square;stroke-linejoin:miter;stroke-width:0.8;\"/>\n   </g>\n   <g id=\"patch_49\">\n    <path d=\"M 840.666387 106.091634 \nL 840.666387 35.7555 \n\" style=\"fill:none;stroke:#000000;stroke-linecap:square;stroke-linejoin:miter;stroke-width:0.8;\"/>\n   </g>\n   <g id=\"patch_50\">\n    <path d=\"M 770.330252 106.091634 \nL 840.666387 106.091634 \n\" style=\"fill:none;stroke:#000000;stroke-linecap:square;stroke-linejoin:miter;stroke-width:0.8;\"/>\n   </g>\n   <g id=\"patch_51\">\n    <path d=\"M 770.330252 35.7555 \nL 840.666387 35.7555 \n\" style=\"fill:none;stroke:#000000;stroke-linecap:square;stroke-linejoin:miter;stroke-width:0.8;\"/>\n   </g>\n   <g id=\"text_10\">\n    <!-- sneaker -->\n    <g transform=\"translate(781.786132 16.318125)scale(0.12 -0.12)\">\n     <use xlink:href=\"#DejaVuSans-115\"/>\n     <use x=\"52.099609\" xlink:href=\"#DejaVuSans-110\"/>\n     <use x=\"115.478516\" xlink:href=\"#DejaVuSans-101\"/>\n     <use x=\"177.001953\" xlink:href=\"#DejaVuSans-97\"/>\n     <use x=\"238.28125\" xlink:href=\"#DejaVuSans-107\"/>\n     <use x=\"292.566406\" xlink:href=\"#DejaVuSans-101\"/>\n     <use x=\"354.089844\" xlink:href=\"#DejaVuSans-114\"/>\n    </g>\n    <!-- sneaker -->\n    <g transform=\"translate(781.786132 29.7555)scale(0.12 -0.12)\">\n     <use xlink:href=\"#DejaVuSans-115\"/>\n     <use x=\"52.099609\" xlink:href=\"#DejaVuSans-110\"/>\n     <use x=\"115.478516\" xlink:href=\"#DejaVuSans-101\"/>\n     <use x=\"177.001953\" xlink:href=\"#DejaVuSans-97\"/>\n     <use x=\"238.28125\" xlink:href=\"#DejaVuSans-107\"/>\n     <use x=\"292.566406\" xlink:href=\"#DejaVuSans-101\"/>\n     <use x=\"354.089844\" xlink:href=\"#DejaVuSans-114\"/>\n    </g>\n   </g>\n  </g>\n  <g id=\"axes_11\">\n   <g id=\"patch_52\">\n    <path d=\"M 854.733613 106.091634 \nL 925.069748 106.091634 \nL 925.069748 35.7555 \nL 854.733613 35.7555 \nz\n\" style=\"fill:#ffffff;\"/>\n   </g>\n   <g clip-path=\"url(#pb2b96687e4)\">\n    <image height=\"71\" id=\"image25e407a214\" transform=\"scale(1 -1)translate(0 -71)\" width=\"71\" x=\"854.733613\" xlink:href=\"data:image/png;base64,\niVBORw0KGgoAAAANSUhEUgAAAEcAAABHCAYAAABVsFofAAAABHNCSVQICAgIfAhkiAAAGQNJREFUeJzFnFuPJEmW13/nmJm7xy0z697T09tMz0wPu4MWZhESQiCBEM888Yj4JnwFPgDPfACExAPv3IQELKMdYHtmenp7+lpVnZVZGRd3t8vhwTwiI2t6qrK7qwaTQpEVFe5uduxc/ud/joX8E/lnxiuGeI97cB9mHfGtU9bvzsiNkGaQG+H0N4nFf/xL8vM1WAF75S1f31CHqGA51+eqw3/vEbac8/xP7/HZPwRbZEgCRWgfO+7+wmgvEvNfPiV9+NHvv/XtJ6GYU0wFUzABU0DAHCCKqPzudfI1n73BcTwHE0AA+ZrNusW8/G0eqPM5w0/eYvuwYXdP2b1llAC5M6wpmPPMP34bd7GmPD2nXF1NF7rpDn8AbRIFyyCKzVrKyYy4UGweCbNIkoD1DnNV23MnmHcvveWthCPzGc/eb7n6AcSzxOzhltZnVt3ALER+bW9z8tGS7mlD0w9VOCKIqw+3VL7z2n/v3FQmrS1YAVSwect42hCXQrMYWc57LrMjj0pxkFtIo8IrhHNrszI3mY+CiKHHqrpXXwX09pb62saL5qxahTTNFaimNc3T3N4lvNy0bqU5iGAimBoYxNGTs1JM2EWP9oLkAgUoR1pib05jXjZMhOKk+kUTzAQVI/tCCUZulNyC+Zdv5O2E88Iopd40JkcxQbIghZt+xQwrf6Co9eJzpkAxTQOz+g+ZtNscFAf2Ci2/tQ2IWXX6VlVV1FCt5lW8ERdKWgZowjdY1Xcf+w3Yv4sIqFKC1NWZkE0oJlipQiqhvnCvw6ysmhOTlYhMgtGC04I1xrhUJCuzP7Bw6vzKDRMuXim++pxiQimKZYE8CcdDbuWVZnV7zSn7101piximdisH90aGlZvmu3fGk8/B5NraxY6wT/VNLxu30hzLBd+D3wilrTshxWqA2j9IbxcB3sh4AZWXRkmtYB5KFlKaQrYAateR9xVTvZ3mWEGj4SJIkhtzkeMQ+f8hiv8OuBTBVCh+QsgGVmrEutaY6f9eMW4ZyrXa717aX3NjU8HEbmrO3g98U3Qse2B3lDO9bLzw/yUoJRxpxx7rTH5z7yJ4xW1vHcrNyaSOVud+LCCpPsec3ARk3yZlmJC1eA/OwRixON7+eq3OOLdCCSBq13M1wATJ1Ncr5nd74bxMDbVC8tyAub19T+mDKOIUQqgAcT8h5+rnouD9DaGKaoUEqlU4wzBN4mDLVXDFsL6HGLGUsJTq1xw3NvJ4HAPmV41vBgInWz3eiFwEt4hs33HEE+Hu/+mq35vN0Dtn0ATSo1PGsxaNBbdLYDDeaRhPHKkVhrO6yxrryxykefVhvge3qxhrbwq5rXSJ7+HsV5H2yy3u2RX5k88QEVKnxEXdMBG7TiGOd9j4XfD4rYTzdVQE19C8aRL9nZHRBXLn8FQOyJZzyrxl91bH9oFDR2jWHjHYPFSGu0JaGOPDiHaJsvPIoJg3ZJFwvrDdemTjq5/IdYF5kZBlwrYeN3hgTlcKfFrDeAlQWsNCBak3tMemNOu1aU45cmgA027sd0TVcKGQusL6+w13f/ZT4rKhf9iSWmH7UBlP6+LcUM2uv2+kOxFpC4uTnuAyV64jWwBvNF0khExP5amsXIM4/OTo1dg9EIrzxOUJS/8+qfVsHynjnYx1Ba/2O67v9UYrOKQOADohZKGqbXAZmRmDFp79sae/c0aaw3hmlMYoqxE/r/4gAqKF7999zo9Onh6y+2LCL87f4kleoc64s9qybEbWXcN23lBMarJbhJwcOSnSFLbvRbbvCutnjvXbp5iDqx8nFo82mNU8sBQ52tij999jEd9YOC9Kak9bqOyT8QmaN0ZaVHNJJxlCwc0TTRupaU/BiXHW7rjbbKrAzJGKw2sBqcILWgiaCVrwLh8lj0LJelisNBkEcq+keU0ZaAqNT6SihyT59zKCr0M4B9itkxm5QhsSnU88XS/Yns8hCj4JpYE0N5q7PSFkxtHR75p6TRcRLWxSw+f9KSqFIIWCkIoewm05fhUlFWUYfNWE0WGDVkG2GXVGmeiU6mjlhmBErH4nlBrB9s79tTrkyVZVDSdG4zKtS5Qi6JVDx0pdFG+UtnC63DEPkS8vV8Stg+b6ljE7LsYZXgpzX3FMLnpw8kZ1+HmfVU/mZEmxqEjSyi9xhNKZlKNUczr2NSKG7EmuPbtgL8eB38qs7HhXqYvZRwC/EzRCntWF3mDiDFJymAmxxDoBzcxcRMVwWirch4M/c2J4LZWwUiOrTQnkdXg2EyQJbphQsTdWs54xOXZDc5iHSBV6jXz2SpD6jYUjBjkL2VVVT0XJuZY9JEFzCc3lxLYVmUJpDadWhHHwqBqxHdFp4XebDUEyXh9VzXDVnzUu0/pEnhYXvatWUwRLk2yKULLgBiFcGaUB12XeP3vC492KT2Ko/lAqxVKoWMqNIKm8Bs05ts39hh3eX6AwErjR0FQ/3wtn7wytCOXoOqUKImiukWtKTZwWvORDNHtpYClVczVPBQgxZi5WB/914yjyvmzcWnM0GZJqSHSuOuRi1fE5Z6R5QUzRZDRXBY3KrImcNjvOmxljCJQslKHufsqKlwzALgdSUVqfaJcDTZM4bXpOm55takjZ0UfPuG2qIwaY/A1pb1bXCzYgFTc5ZTlE0r1pa66vG3z31635VpKxghTQVO+vWg67sld5awq5NSSD32Y0QeMyqzDQhYTzGVEgKUQlT6Q3wFA869wSNLOYDay6gZNmx8r3eC2krNVX9Q7duQoG99GzCJL0oKl1vkK0a+f+O4hv73Newf/fmibVZGisk/Gu4F1BxQ6OUtqMJUGTI1yNuL5hzI4h+0MUqk8sNTOm7q6KMZY6jbwPvUCQQpBMownVgmqpRJXu+aNrVHf47Hq6lIlcUi0UPWIDbeLDy+vKyovhd0ZYG5ph1kRmIbKLgZiV4DLLkx0b6Qg7RT/+ktl7C676luddxxBrKQcx/DwhYjQ+s0uBcVL/KqSaWqgYCz9w4nuWYWDRRMyEXVNqGqEG7sj5Fa7D+kRujcVREJybNDxfI2VN1U28yqxuqTkFyYZOdu2OzKpqTsEL9L4gxbDtDo1GzjWalT26BdSVqmliFAQxmXa5kIuSsiNbOuy8m0K8d1Vzql1P0c8maYgcQOpeQY+feTPxlAPh9arxDTQnEzaK6x0xO5LLiBjeFRqXWYSRMTlMZ5AzGo2UqlmpGN7ngzD32qwYnUvcazd4zfzq/D7r357wvKvO/sF8w5ir6QWX8U0iHcxDqoBc1SLb06JSCa5GM06q6efpuaUoko80J78GzbGccX0ibB06OnK5riKihVmI3Os27FIgulMsZ6RUzYnZoVoIIVOKEKM7+B+nhcYl7rdrgmR225bZZ47cOb5sT1mvWhbtyKodCFpomirgkh0lTQJyNlVArkl+UaN16UYot8ncJMvkP1+XWVEBk6Sal6hwQL5mQtDM/XbNNjV81gratiBQorKLNR/SyYys6CGUx8nfAHWXXTli8K6z9f3rxkKn5HOqvtTPPRRfN025vv6gqVqRteYareQVudXtQnnO6C4S1glJ4F2m0UwxYUyOk6bnH5x8wN+7+yH9XUHu3SE3im08z6/mpKI0Plf4n5Q8VFh/2XdcxY5igmK0bSQujbQwxF0LP2ZHPFAPgiWFQWFUbKy5linEhZAW4EMFj8WEmBwxOlSN0CRMK0j12wwxvXTZt08fUkZirnjniOgyE7wU7rk1V35WC/RNqOqdhJzqotxexSfSKmep+GVy2AXBa6E0lcFz0zOKVSxlL2iOTMTXDeZzqoHXMvV1wGDCYrqPaNmmxofX4XNSQi+v8GPE75aHjHyfNY/FcZEXXJUO85BPZ6SZwN4fmFxjGFdA5DDRXJTzuGAogVkTubg/or6wXPS0IZGyY9235KKMo6ckrUDyiJU8oOUpmDktBxjQhEQUR0pKjAE3CG4wdEiQ82sQTs7kZxfIc4ffvV2jzwT9S1H6HPgqL7lMc0ow4klD6gRz5RBGU65AUJ1hU/ohYmQTLseOnQssw8j9e1c4LSybESeF892cfgjkXM2RpBUhH1J3pq4Kq6Vqg8ZnTv2OlR+YNTX7H0dP3nlCL7g+o/11teI7CQczyPmQ7pcDNrl2zI0kguQaMbxOnrJGiJQUVYdZ9QdQF9BNZJnXgj8yAxXjtNnRucR6bGvFstTMfw/5LRyh4kL1RVO08i4z1xGvmVz0oLV7DdNYYIyvJ5RD1R6KIdmIRUlHwulcZKU9p35bewXbqasqCjY4YhbS4PFt4t7phs4nVs3A0g94zSwnsuvJbkkfPa1P/Oz0E95tnvLv8s/44qtTSqw5mSTBuoyfp2quWw+jIsah6nDa9rwdnvGR3mO9a4mjr1x3lzBtcVc9PLvEdrvXI5wpfiLlmuzaDxWj05FO4rR7FbFKqXV1kmJiWFA6n1iEkaUfWIW++i+9Vu+caxC+7694N5yzCkMNxVOT1D7pDE1lIDO+fm4TznHQucRchwoAs1CS4IKhrlTzixkbRux1ac5BEMl4tu2mSCJ0IaEYF3nBeV5U9BkNc0JZRcI81gVP0eViO2PjG8pcaF2i0cTSDTgpDNmzu2oB+M3wgE4juxxwPoPVjglcFU4cPaUIMio6CH4nNM8hZeFimHGR54ylEmtyFBi0CMSEjWO1htcpHDca/aZBxFh0I/NQKc7ztORpXE1Vy4IpzE577iy3XG5nDH1talpvukM556Tp8VJYuZ4gmT555HlgV4S/2t6l00ifAiFkRCDuMY4YeXRYElxfWUC/gfaiMgeXu47LvGDIvvJOk8bYxC/LcFRifp3CkQw2VmBl7YQfJmfqKOQWxlNPntXvl4kcL3nPrQACY/KVZjUlWs3GY9bKP0flYpjxpFmxS2FqXJiw1VSk2ztoyTJVQjlEr+M57V2AQjWpb1Cd+eaa02fcZSBaS5qNtC5N3EviTtigP9jw2BbkVaYpwvNtR79usa2roTZXPvd523E5m5GK4wtXSzRXm46wViQLHz29y0U/Y4j+wORV1FwgK5aBUsl811eaNM0gzYWTJrLSHSpWO18Hh4VyoC/emHA0G24QynDN5vmJ/+0k8eB0zWdvBcTXikGMDhsVHbQSTKk2F+VUs/tePJvc4KWQkyOMtfF92DRccJNuEKjdoFPNnKl+vqcfSqh18uAyjWRUShVsntrg9Kjy+SaEI8nQKEiUAyWxSS3r3BHNsQgjs1VPKVpTBxOkzbXodkQpnK22nLR9ZfowkimhSYxnRu4Ks9XAcjZU7nhyvqUIluWax9HabWFqxJUh9wbaLvLD1VcVlMZZ9VFJMYFs0FT+4g0JJxd0ADcKcfT0ybOOLedpAcCdbks6VZ73Hc8uF1gB3yaaVa7It6v0w91uw4NuTbEqwGzCaj7w9EGDazOPTq+40275fHNC34da6YxagSBUVBwKeQVlLnzvR0/4lz/+96x0x5/3f43PxzMuhhk2TtjIaoLqxjcoHLiuKu5zprE41rmG4D6FSoZlnTpgax4VXCb4zDxEgmbmPtYysNhUfXCUSupNNf7rBew/k71VHDjka5sToJNIkEw0x0WcM+Tr5e0TVUm8MuH81sKRYkgCjUIcle0YgDn/1x5hJnx+tWK7bSlRsb5GIbccOJvvaF3ibruldYnTsGPpBta55Yvdik1s6ceAjUoWYzM2U6OCMe9GYnbsyr5YP9W+s8DOob3w5HLJv73428x15IP1Q57ulpxvZxNLaPjnDr8V2kvD0svxzbcWDmVPFgGplky21JCdi7DddOSNn0omtTKgaizCyNyPnDW7A/Cb68hQPH0OlUWMDopgWRmTY3B1esFXSnbQQJape95lwFFyTVPiLvDh+j6NJj5dn7LuW4bBH7RMI/gt+N6gvCHhSCy4neGafYGv1DJLrgme7bs0pfIyaDW/Taw9No1mWk3MdaTTOJVfco0wTSa2Gd9mHiw23Os2bFPDLlXhbfumNi1MBLtqIc8zKRi+yQzJM4pjiL72HpsgapgIbic0F0ZYl1dSFd9aODpEmiurYbEIwdXMN2Y3RZPpGJ+zQ3uIGayHljHXgySdS9xtNsx1YOkCnY+MxTFvR9JCWcwG/uTsC95tz3kalzwZV1zGjstdR8l6OHchruBOq/9oQmITGwzox0Ac69LEFywLYQ2LLzPt+YC9ggH81sIhF1yc2Hvj0C5yqAsB+5aLfY28FKWPnmK1Cgq1yhnNH9Dx1z4KIaMHDlmPau6lyKHlV8QwYEj1GXkKBnUu9U0T+F2pJNcbC+XDSHOZMPVoXzUmRkfsp9qIGNLlA6axIvRXLSRBmsJwEmh8onOV/1nnlnVsa9I5BsY+ULLy51+9w4ftfcbsiMVVk5lMJY4OG9x1ygCgxvrAO3MwKXEFstA8N7pPr5D1lvzGNCcm/CaRO0WjqwzdVMcGkC7jQm3tOJBUveK2SumUnW9IjXLRzXjSLBmLZ8i+hv9U0XQqwpOrBZe77kCm5aKH3h6Liuyq+R616UxFP8BPtSyopRKrWiPnl1g/vDIb/9bCsTHi1yO5c8hUvt3v1I1zBsdDa9nE1GA6qNEnzzbVVq+FH5n5SCzKlavHlO7MdwSXudjNuNq2E0LWKmyhtuPakYUcW0qB+iXqyZgiaKLSFClx2xOE31w42y365IJGBB3a62JZqrmOeT2kCoeuLlfb4BCwqORc8dHlOGPmI4+6K1pNfG92OTVOZpauklX/Ob7HcHFaFx9qGIf6t+3PgcEhQ8eYWmUEfNUeGRXXZ8p6UyPVG0PIOWPDgI6psoLAjWagvbCOOz+mena9Xg5fDprpXOTE75i5yDq3bEwJUqsHQfLBgU8HNict5SZC3v95vOZ9w1+R6SDIxIPf0qTgWwinjBFdb9DlAo0cnKT5if0vUottx6blDEKpTnlQUHiw3PBPH/0vVq7n+/4ZKoV//cU/4r98+B7LZc8///F/46fdp/zV6V0e31sSoyMNviaSe6J9zw8Z188Ww9oCwWBU3EbxG8H3+XYncL6LcCiZ0me0H5A89edNO2fOKo1gU11pXynobMIbtePUFO51G/7x4gPmYjxyM6Jl/lVscR93PL/nCe9nfujP+eHsKR+cPGQ91OTWIgeNAA6mVAVUOWSC4btESqEyhTtBxm9+8P/bNWkDZobfQVmHGiXCJIksky+QQ7KHVV+DGvlOQnzhYbuusgYuS08049HsOT9/e2S+6tnmll/G+wTJ/OT0MU/6Jc83HeMUwvfHKfd9OVCdNAquzYQmkXJD96SGcXc1vKqR6zsIZzogdjimlxLtM6P7wjOeFvRRj/OZFH2lRHMNuRUhChIVVpH333nMg9mav7n8LdmEK1O+mMDg3z/5JW/92XNicXwxnvDZ8Kf8yeIz/sX9/8Svx4f89vkdnm5DLTOkakI0VLPVqp3ijMWiZ9kNDB8vuf/zgebxBvn88c211B1+6ZJvf/BQXvhqzvi+4DeVpjw0Jk6Joez9jJ+wR6kk151uy/e6SxY6EFF6c/QW6C1w5rb8jdknvNt+RTLH+TinmPLA7bjn13hXifYbRPC+mclNz1UjT4jcDUJ41qMXV1j/akL9xXF7zSmZ63YqKLue0188Y/75nOFew/rjjjQX1j/I+Ac7QsisZnVC55cL4rrBh0wqyia3/GZ4QF8CQRInrq/v2vNQrmgk8xe8Q0H4qL/Hf+CnPE1Lgha65cDYeHKoqYSG2imWo1I2oRYSP5tTLuGtzxLui68o683NasMbCeVHN7VhIP/vD1ARlvfvs/j+A8a7M4azBn3LWM0GfnLnMUEKPy9vc560NjCZsMuBz4YznsU5Sz/wo/ZLTlxPpxve9jsygtcqyM/7U87jotavtHAy79n5QD+R5X5qbdnmFukVvxYe/Dyy+MWX2GZH+ur81hTFdxPO7xPYMCDrHUGExacN67Dk8WrO5WZGCIkYPc7XHd6jYt8WFs5oJbHQkZXu6CSRDYJk7oc1qXNscsMmNYxTipGLHuBMTo7xqw7ta7huLwS/MZrzEdv1EMdbo+E3IxwgrzfoOCLO8b0nZ9i8Iz5ccfH+krgUhj/OnP3RBSLGV9sFFzqjc4l3umec+i1/FL7iTGu9vACdZP5s/hFX7Yz/vvkBn2zeYUieXZwElOuhj7zxPPyvjtNfbnHbEX2+rdXM51eU7bYexv8Ov9vzWoSzxz4AZVPPUDWbt1nN32Y4dWzeue50MMBJLeY5KTgKxZRoSqZSEyNKINNpbR9JRYkTZ5RS7bXJySGDMnuSCL/5AtvuSFdX30kYL47XI5yvGeX5Fd1vzmlnDb4/YfuXZ/T3hfVfH2mWI5fDjMfjil9vH/BvPv67DMnjpt/G2LfTlaLM25FVM7CLgfWnJ4QLpX0mzB8bzbow//U55Wo9JZTHUUy+s6DenHCurmBdgV73F8pMBfs7P+XD+wtiKFwOHefjgl9d3OfZ/3xAcyHXv07CdaHu4r2Rv/Wj31JMmH3qWH5inHy4xf+PDyj9QP66H1Db45jvKKA3JhzgemKWsVI7Ul88sVJ/f2eqXDoOx6MPTdTHa7Op+lGsUp0vi0J7wPodxv8DXjNdfeOyH4IAAAAASUVORK5CYII=\" y=\"-35.091634\"/>\n   </g>\n   <g id=\"patch_53\">\n    <path d=\"M 854.733613 106.091634 \nL 854.733613 35.7555 \n\" style=\"fill:none;stroke:#000000;stroke-linecap:square;stroke-linejoin:miter;stroke-width:0.8;\"/>\n   </g>\n   <g id=\"patch_54\">\n    <path d=\"M 925.069748 106.091634 \nL 925.069748 35.7555 \n\" style=\"fill:none;stroke:#000000;stroke-linecap:square;stroke-linejoin:miter;stroke-width:0.8;\"/>\n   </g>\n   <g id=\"patch_55\">\n    <path d=\"M 854.733613 106.091634 \nL 925.069748 106.091634 \n\" style=\"fill:none;stroke:#000000;stroke-linecap:square;stroke-linejoin:miter;stroke-width:0.8;\"/>\n   </g>\n   <g id=\"patch_56\">\n    <path d=\"M 854.733613 35.7555 \nL 925.069748 35.7555 \n\" style=\"fill:none;stroke:#000000;stroke-linecap:square;stroke-linejoin:miter;stroke-width:0.8;\"/>\n   </g>\n   <g id=\"text_11\">\n    <!-- coat -->\n    <g transform=\"translate(876.902306 16.318125)scale(0.12 -0.12)\">\n     <use xlink:href=\"#DejaVuSans-99\"/>\n     <use x=\"54.980469\" xlink:href=\"#DejaVuSans-111\"/>\n     <use x=\"116.162109\" xlink:href=\"#DejaVuSans-97\"/>\n     <use x=\"177.441406\" xlink:href=\"#DejaVuSans-116\"/>\n    </g>\n    <!-- coat -->\n    <g transform=\"translate(876.902306 29.7555)scale(0.12 -0.12)\">\n     <use xlink:href=\"#DejaVuSans-99\"/>\n     <use x=\"54.980469\" xlink:href=\"#DejaVuSans-111\"/>\n     <use x=\"116.162109\" xlink:href=\"#DejaVuSans-97\"/>\n     <use x=\"177.441406\" xlink:href=\"#DejaVuSans-116\"/>\n    </g>\n   </g>\n  </g>\n  <g id=\"axes_12\">\n   <g id=\"patch_57\">\n    <path d=\"M 939.136975 106.091634 \nL 1009.473109 106.091634 \nL 1009.473109 35.7555 \nL 939.136975 35.7555 \nz\n\" style=\"fill:#ffffff;\"/>\n   </g>\n   <g clip-path=\"url(#p20566e47b9)\">\n    <image height=\"71\" id=\"image1938ecb7fb\" transform=\"scale(1 -1)translate(0 -71)\" width=\"71\" x=\"939.136975\" xlink:href=\"data:image/png;base64,\niVBORw0KGgoAAAANSUhEUgAAAEcAAABHCAYAAABVsFofAAAABHNCSVQICAgIfAhkiAAAEN1JREFUeJztm8lzXNd1h79zhzf0AKAxcJJISpYV2XLZSUrlDE5lkUoWScre5f/I/+RF9qlKVllkqKSSSlKx4lhSNFCDRYIEAQLo+Q333pPFa5AERbXFhStc9K8KxUZ34/V93zvn3HN+ryl/In+hbPRcmf/vBbzM2sBZow2cNdrAWaMNnDXawFmjDZw12sBZow2cNdrAWaMNnDXawFmjDZw12sBZow2cNdrAWSMnzoEYzKCP9HtgDeodGNM9trZDaDqOauXSYxUBAUQuHTh5Qyjt6rXVkwoSFVEgdf+qAEZQARMUSYq0CTetkSZAiEiIkBLUDRoTYg04hxYZzc0RzbZDYndsFEzU7vHFx8pq3SKgT16TBJIUBFQEUcUfLzAnZ6gqTsoSEYHrByxvDEmZoR1YooeYCbEANUJygIHkuh+EJ89ZRd0TAACxp7BXY13qnhAlRUtsDCSBYFZkAJ86gI1FGsEtDL17PfxMcZXiFwnTKn7SYutIzC2xsNQjx/0/hOGtCSEamtqTkpAqC8FeDoMsITaiSaA13YUKBmkFNQoWiDB6b8TeLwpQxUmegbXEQU6z44iZ0AyE5IWUQSieAeE6ECqQvKIWsIq6Z9zWPJLnAWsT1iacScRkiKVBFWI0pGhA9HHQBW9J1hEEmh1LzAVXCW1fMC3khcHWiZgZYi7U24LZq3hj94RpW3C+LAnRUOWeGJ4cW0Qp85YiawnRsmw6iE3tiY1BjGJ8QqPQDkpSZpCkuPT6DVTg9HsDzt8C9UosI9gu3LCrk5bu6nORQUbJipYsC1hRjElYo/SzhtK1fHT/Cv4/hrgF1LuwHCphEOldnVNkLWYFZFF7Fsd9pDa4pZAthNhT6reW9Po1SRRjI20ynC/y7qRXsj7ygxv3eb3/iA+nVxnPCjQZirJhUNZYk8hsJHeBH+zc483yiNMw4M7igGnI+Xy8y/mkh/OR0WBBTIZJUXbRHxVX7RdgYH5DcG9M8T5Q+IC3kaRCTKv6okJSSMkQVXAmsddfMPQVRhRnEk4Sr5Tn7Pspdx7us/tBoDipmLzeY3HVUO1b9IqQuUhuI95G6mCxU4ufCW4Bbg7VgXD7+gk/2v+UK37CTf+IhOFeO2KRMhYxZ5EyALbtEm8Cd2YHhMqjSTC9mq2iIreBga8ZupofDT/hR8UhhzHj39wbnLRDJk3BvMoosparvSkA59mVx3XRFcdL1Ahbn1vGdkjjlGqVQuiTGoJZAR0kZKfBZ4FRb0lhA02yLEKGk4glMTQVIoptEmbRkI9zkusK4uSkR730WJewLlGdFmx/KWTji8IIphGWrWcWckauqx1RDYuUMQ49/vXkdT795RVIIFnCWCVWFpk5ZJXepWuZtxn3xtskFd49vkHmIrq64E2wTA6HFA8d477y8xt9jI0UE0B1VXPe/xQBdu8U7JVllzPmqZ0nabdr9QrUW86/t83xOzn10BF3puxkS07qPo+WPbxJ+O3INT/GGMVNW8zxOb2QyE9y6tMCFU/oOWKuRA9bR8L1fzhFjk5Jt64yv9kj9C3TKue87bHn5wC0ajlphzysh/zyv17hO381RuYV2u/WNb+Zcf5tQ7Ol6CtwUMw4nNxg8b87ZBOh/15g8MmYdr/H+RsFzsG3PmkoPn1Ae33EyW/1aPvC4G5aRY7i0mKxSv4FXytjsYM+kufkrwywS9ftaqsUa6Kjah2tUarkuz8xSsotFDnEhJ03uJ7HLbqtzgQhWfATxZxOCcePkBsHhFyIGVhREkJa9QGNWs7bkuNqQHYuyKd3idMpZjDA5BlFcQtzu8SE7v1OEiEZ3ELwU+jdnRPf+5Ds9k3ygxvETMhO5sS7h3iguF1iWnB16loLBfcYgAjIMz2hpi7Envo9P6nY+WhAvWM5HIzwJnEy6zM/6YFR/j27zTJ6tntLPv/xkGz8CgfvBgbvPcQuMvw8R5LiF902nZ8GdLlEvOPh722R/eSY63nFjf6YoavITUvCcLfZ4+/efxt3mHHwcURDAFW0qqFtQZVQQCiVno3d7hcsbgF+pkgdu7JwsM3xbxtCT8nHQ4oPDFQ1vaOGbGpRI1QHXT1zT4ORp9MJ0GRA46Xn7PmCrc8c9a5ndjPj4XDAclzgHzkQuDfYJjOR7bzi+u9+wqOqz/j4BoOftZiqxVUJUaH3oCU/XnSpsawQ5xi/pfzn93/KXBN/Pfsu9+oRXiJRDQ+aLYpPcnY/iAw+n6FN062xbdB2VQFyiIXibVrBMeRL8EtF2tBF4E6OvDnj2tacxX9fpQC0bvDHC2zPU10pqba75rWDowokuk7o+dIQut18UeHGHrWCW1qa2kMU1HbFVJJh0uTUrWO2yGkXGdfPFa0bpI2YAGpXXYF03bZkvuvSG+HDNqfBMg496uRYxJxHZsBJPSAbQ3nSYKYVMV3uq9Qb2r6i/UDhAt5EyqKl2oPkDNkbI3ruLWa7nnoiHLWOqwvtsiNGJEaktV29STwFZwVI4+UoAcB0wFJVAzWyrJDTM/KDPYqTm0x2MwSIZUKtIsFwOunTHpXs/o8hmyjb752j0ymmyHHLxMXWp95C4THDIRjBzYSfPvoDMhNYRk9Iljp5zkKPT8d7bH8W8D+700VNurzWduDQaxW7O3Ou9Sf0bc3ro1Pef9szrTyLGxnZ+R4A5WcZJkDvcIHGLkXNssYkxdYFtlX0EpzHEfSUnp6XVovRFNG2QeYltlZMvYoav2oakxCjwS4N+XkiPwtIVXcdwUXaPp61tPsMZ0G6LvhwsU3PNZhVw9mqYR4zZlXOYBaIk8nzI9uCzwP9rCUzXQr1XMP2oKLKA7PWkLzFLYTiRHALxS5b9JlzltXsJSLPwPnKJ16k21OgLg4WE8WZUj803ZjR60aJ4BMmV9q9luN3PHaRM9q/ynB3wHKv4PxNT8xg/xcJ++AMRNDcQ+ZxFXx8sk+RteyUFd5EjqZDxuMe9kGOm07Q5y4UUEjR0ETL0WKLWZszb/OuS3aBcrQkDCzpyx5bX0SK4xr7cEwApCxor4+IpUNUKY+7IrYeztMwzEU96nYwDYFsHCiPPaEUJAgph7DVzSq90ZL8ypQmOM5kGzV9qpFhdjuRHOx+KITDB5iyQG5cJeUeWymT4z7LMpB2DLkPnD8cUn7hKR4pZrLkOYn/WEmFNhrOqpJxXayuqVL4wDBvsCbx+VHJ4LMp8sV94qp9kSyj3s9p+6bbtR7OuibwV8J5DCld3upjJBs3lIUh5t1cFDOQ4GjHfZb9RD3qdhSTK8s9Qzu4mOiVmAt20IfMw8oukAgSBG1N16NcjC72KcvhayQRUjA0weFMwpi0uraCqtAES4wGPxFk2XR166LG2m7IDXl3fFnWLwpHL23rabnEvv85gzv5Y38Fa9AiR3PH4vYWx79Z0g6UMEiMv59W44ggrVAPDfrajZUHoxAStgY7N0SFpnFd3XGJ0FfaalWbnktGMG1C546FycnygPeBECxt44jB4A5z8lNh8GWC8wlpWXUXHMA76i1DMxT4AtLRMRrjC8B5DqznFkdjESP05E2y10agQhyAHbSk1qALh6y2/tjPMSEhdbuKHh5HT4rmydBrFTXPj5wLs06NdMcNhugEY8zKFhG0MbiZkJ8q+SRC03YbTOdnoM6SPKSsK8hpuXzByHl6Yc/uapegJTQZ7MMzDt4tCD1Ls+1oeyUSwbarPkIT81cLkheaYecftYPODaQW2nFGmHv8iaN8IBRniiyqy9dhOKT5nd9gfs0zvW0woyXWRZp5RtsYcAmTRyRLNKOEWgM4ege7WOeQIgfvaA+GnYPYgIQn5/YCcJ4eLdLXA1qlX3hwhDk6JjdC/szfS+apf/87nL6d0wxheatFyghnGfmpwdTgxxYFeveFrS8C2SSgs8vznxn0efhOzvztGle07A6XtMHSHpdkjyztMMGViHORdrcl9i2mdYT9Ac4awrAg9j3twCEKttFu0H5hOIAYQZOuj5xLoNJTZeryPuPmgfw8Q0Woguk8YqvEouuXkgVEO5/adD+SecRn2KsHxOu7zA8KllcTg50FVrSzI7TztNUqmin9fo23kYmWxCSEUqn3clLeRXQz6C6aWygmgp3XF83LN4RzKaXS179v9V6xtpvV7IVRdvmKYAT38V32D3s0t/ZphyX1vpCKRHv1YlACktCODW1fAEc22sKK8ODPb6E/PuWgf8YfDc7YzeZ8PD3go5MrNLVDrRL6itur+ONbH9EzDf909G0enG7RHBgevuOQ1lEfJHSnxX+Z8drfznF3H5HGk8cX/4UiR9M3iJiL9DECtttdRBV9JnLi6TmcPMJnHrcoCZWQCnBFQOm2ZY1C8kr0gnWKlh5tChbXhb/89j9zM3vENJZU6jmpB8TYFWGMol4pyoY3imOGdsm7+as8NANSGaj3BBTclSXXRlPujq9izxaEu/curfGbwXm6U/5VKbUqyEJ8AvN50Xbx3PmU/V/sUm9bFlcdyyu2M+0zQBQ3F0xQQmk4+uGQlA2pDyJ/8/AHbPmKoa8obctxPeiMfB8JPdBcyF3kfrPNiRlwuuwRqs5rYtiNF+0058vzgv6hQermydpWmfJifc43fZ/GX5l9F4onJ2R/Pyb3juF3X2f6rQGhMFT70hlSE8UEpd4Rzn9Yc+3aOe285L07ryBW2dmdMeotqYLD24gxiSzrTj53gfv1NlGF8bxEFxaKxHC3cxcXd7bpf2noP0jocrUTrlqRF4Pz65Jq58mEFjutyMclrlLUWmIG2UzJZonkLVSWeZ3RNg5S59bNlzkhdenUtl0aO9fdDooqzENGurg/ZkBs5y0qYKvOu86mEUJYreeJdfP/D+dCquj9h5STGVjLIM9QazqTqg30RluEYsTy3gjdSch+iyYh3u1RV09OXg0s91uyQcMMeGC2AHAu4rdrjE0kFZrG0TsU9n92jsyW6HzxZB2rseLlgQOk6ZQ0nT73NVtVDO5vIdGizlBf6W79+qkhO++gqIPou+E3RUMIlnnjMQJGlCzvokO168CzqSL3T6CuSU375MNWVspLBcf0ekhZINtbzL97QL1lKY9bivszUuGIuSCp84lfvXrGvPEs7+QUpyv/uN+Z9vjEoF9RNZ6zR0M0SZdOpuuFNArUFtt0vo0+652v9FLBkeEA9naYv7bNFz8Rdq6fc/LBiP2fj7qp24GJEIaRP73+Pl9Uu/xL2Kd31NJsWZbWkLxgisjV4ZTPT3Zxhxm2Edq+ksoEUbBtd2/MVbFrN6xZNbiX1/NSwSEpxO6+kVla5svOzkS7b0O4GkBxE8u7k1c5q3tIgpQZEMFWq/QaZ9zt7VCflgzOOodRWiFWBknd76YFu+z8Y2L6ag+nirxM/99K8hyT58hwQPP6FcLAY6uIXbRITJhphbSB5pURs1sFIReare6bIL0jZefjJRIT7VbWeUyLSPZoCSmh3q4Gz5W5nxL26Jx08giNCQ3tV9qVlypytK6JdQ2TCebeIZkIdmcHGW1DG0jHJ8Sqwt69z+jnBbK/y+Gf3WB+kMjPBHc0hvEMU1XQtmhMpLb56uesXM3w7H25Z/RSwfmKVDvHbr6AENC4cvdifPz89mctbuEY3mthOoe6u8mnIXz9uKPfrNt/ueEAabGAC9fu4mRSJFWdaVX+45yed2jTEqv6q3dpn6dv2O2/9HCetWcvKUXSfP5r++jNFybXaANnjTZw1mgDZ402cNZoA2eNNnDWaANnjTZw1mgDZ402cNZoA2eNNnDWaANnjTZw1mgDZ402cNZoA2eN/g+T+ul2+8xDjwAAAABJRU5ErkJggg==\" y=\"-35.091634\"/>\n   </g>\n   <g id=\"patch_58\">\n    <path d=\"M 939.136975 106.091634 \nL 939.136975 35.7555 \n\" style=\"fill:none;stroke:#000000;stroke-linecap:square;stroke-linejoin:miter;stroke-width:0.8;\"/>\n   </g>\n   <g id=\"patch_59\">\n    <path d=\"M 1009.473109 106.091634 \nL 1009.473109 35.7555 \n\" style=\"fill:none;stroke:#000000;stroke-linecap:square;stroke-linejoin:miter;stroke-width:0.8;\"/>\n   </g>\n   <g id=\"patch_60\">\n    <path d=\"M 939.136975 106.091634 \nL 1009.473109 106.091634 \n\" style=\"fill:none;stroke:#000000;stroke-linecap:square;stroke-linejoin:miter;stroke-width:0.8;\"/>\n   </g>\n   <g id=\"patch_61\">\n    <path d=\"M 939.136975 35.7555 \nL 1009.473109 35.7555 \n\" style=\"fill:none;stroke:#000000;stroke-linecap:square;stroke-linejoin:miter;stroke-width:0.8;\"/>\n   </g>\n   <g id=\"text_12\">\n    <!-- sandal -->\n    <g transform=\"translate(954.54723 16.318125)scale(0.12 -0.12)\">\n     <use xlink:href=\"#DejaVuSans-115\"/>\n     <use x=\"52.099609\" xlink:href=\"#DejaVuSans-97\"/>\n     <use x=\"113.378906\" xlink:href=\"#DejaVuSans-110\"/>\n     <use x=\"176.757812\" xlink:href=\"#DejaVuSans-100\"/>\n     <use x=\"240.234375\" xlink:href=\"#DejaVuSans-97\"/>\n     <use x=\"301.513672\" xlink:href=\"#DejaVuSans-108\"/>\n    </g>\n    <!-- sandal -->\n    <g transform=\"translate(954.54723 29.7555)scale(0.12 -0.12)\">\n     <use xlink:href=\"#DejaVuSans-115\"/>\n     <use x=\"52.099609\" xlink:href=\"#DejaVuSans-97\"/>\n     <use x=\"113.378906\" xlink:href=\"#DejaVuSans-110\"/>\n     <use x=\"176.757812\" xlink:href=\"#DejaVuSans-100\"/>\n     <use x=\"240.234375\" xlink:href=\"#DejaVuSans-97\"/>\n     <use x=\"301.513672\" xlink:href=\"#DejaVuSans-108\"/>\n    </g>\n   </g>\n  </g>\n  <g id=\"axes_13\">\n   <g id=\"patch_62\">\n    <path d=\"M 1023.540336 106.091634 \nL 1093.876471 106.091634 \nL 1093.876471 35.7555 \nL 1023.540336 35.7555 \nz\n\" style=\"fill:#ffffff;\"/>\n   </g>\n   <g clip-path=\"url(#pee023046c2)\">\n    <image height=\"71\" id=\"image2d4fd9df34\" transform=\"scale(1 -1)translate(0 -71)\" width=\"71\" x=\"1023.540336\" xlink:href=\"data:image/png;base64,\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\" y=\"-35.091634\"/>\n   </g>\n   <g id=\"patch_63\">\n    <path d=\"M 1023.540336 106.091634 \nL 1023.540336 35.7555 \n\" style=\"fill:none;stroke:#000000;stroke-linecap:square;stroke-linejoin:miter;stroke-width:0.8;\"/>\n   </g>\n   <g id=\"patch_64\">\n    <path d=\"M 1093.876471 106.091634 \nL 1093.876471 35.7555 \n\" style=\"fill:none;stroke:#000000;stroke-linecap:square;stroke-linejoin:miter;stroke-width:0.8;\"/>\n   </g>\n   <g id=\"patch_65\">\n    <path d=\"M 1023.540336 106.091634 \nL 1093.876471 106.091634 \n\" style=\"fill:none;stroke:#000000;stroke-linecap:square;stroke-linejoin:miter;stroke-width:0.8;\"/>\n   </g>\n   <g id=\"patch_66\">\n    <path d=\"M 1023.540336 35.7555 \nL 1093.876471 35.7555 \n\" style=\"fill:none;stroke:#000000;stroke-linecap:square;stroke-linejoin:miter;stroke-width:0.8;\"/>\n   </g>\n   <g id=\"text_13\">\n    <!-- sneaker -->\n    <g transform=\"translate(1034.996216 16.318125)scale(0.12 -0.12)\">\n     <use xlink:href=\"#DejaVuSans-115\"/>\n     <use x=\"52.099609\" xlink:href=\"#DejaVuSans-110\"/>\n     <use x=\"115.478516\" xlink:href=\"#DejaVuSans-101\"/>\n     <use x=\"177.001953\" xlink:href=\"#DejaVuSans-97\"/>\n     <use x=\"238.28125\" xlink:href=\"#DejaVuSans-107\"/>\n     <use x=\"292.566406\" xlink:href=\"#DejaVuSans-101\"/>\n     <use x=\"354.089844\" xlink:href=\"#DejaVuSans-114\"/>\n    </g>\n    <!-- sandal -->\n    <g transform=\"translate(1038.950591 29.7555)scale(0.12 -0.12)\">\n     <use xlink:href=\"#DejaVuSans-115\"/>\n     <use x=\"52.099609\" xlink:href=\"#DejaVuSans-97\"/>\n     <use x=\"113.378906\" xlink:href=\"#DejaVuSans-110\"/>\n     <use x=\"176.757812\" xlink:href=\"#DejaVuSans-100\"/>\n     <use x=\"240.234375\" xlink:href=\"#DejaVuSans-97\"/>\n     <use x=\"301.513672\" xlink:href=\"#DejaVuSans-108\"/>\n    </g>\n   </g>\n  </g>\n  <g id=\"axes_14\">\n   <g id=\"patch_67\">\n    <path d=\"M 1107.943697 106.091634 \nL 1178.279832 106.091634 \nL 1178.279832 35.7555 \nL 1107.943697 35.7555 \nz\n\" style=\"fill:#ffffff;\"/>\n   </g>\n   <g clip-path=\"url(#p8834634c33)\">\n    <image height=\"71\" id=\"imagec6fe656095\" transform=\"scale(1 -1)translate(0 -71)\" width=\"71\" x=\"1107.943697\" xlink:href=\"data:image/png;base64,\niVBORw0KGgoAAAANSUhEUgAAAEcAAABHCAYAAABVsFofAAAABHNCSVQICAgIfAhkiAAADUxJREFUeJzdnFuPI1lSx38RJ09m2nXr6prp2pll0T6MNIxWC0gDggUhXnjgA/Bp+FC88MorAgmtlmGA3dHOgmZ61Zfq6a5yVdnO24ngIdMu12V6JNZpafovWXbZWZl5whH/uB7L38jfOSNCioLuL37CxUcF7b6wPHVS7nh0PHN0qZSvlKyC6Utj+qIFIBUKCtI5oTFSEZj/IKObwPEXDfGf/xOv6zFvnWzUs2tAQsCCYAEsgAugw2N47cNnlgmeCS7gQfAA6mDDa9fh/UyQPIeUcHNwA9/+dzyacLIffsjykw9oHmW8/BOl/HhGDInDvCWqUWYt06yhSpFZXdKmwOvZHmezvBdacBCHJJBCr0VlgwRj9nFO8bOfks3hvc8bJr+9QmbXdM9egKXtrWFrZ7qD9MFjXvysoDpN/O2f/YK/P/0nrkz5qjum8sjjcM2h1EQxDjShwMuU8yIdAlBKS8CpPFJ5pPHARdqjtshBWHKgFT+f/5h/+Me/5L3PHrH3NEdefYPX3wfhlBn1iZGdVJzml+QiBLmt+lEMxUkOqyUF+mOSK5vLDDgBI0pHKS0n4ZrjOMdySLngMaAibNO4RhNO9aTgkz/+ir86+ZLfy9/w7/UjrmzCs/aY1gNVjLRZoPLIq+6QxjOuU8nCcpIrC8sxF1R6oQAkFHPhg3xGlMQiFVjmdBMhFYGw5TWMJpyuFD49/pq/3vsVr22PV+mQuRXM0oTWA/uhYmo1Cyt41hyzsJzaMmrLMFcuu4LOAkXoyKQXjg7P+6Gm8kjrAVewrCdrVLe6hvEIuXJ+cfEj9kPF4zDnICwJxPXnuXTsaY2hTEPvksOw+NYDhSaCOLl2vfmJYX6z+Moi16kgXgvlhZPNOzxtj29gTOEsjC9ePKEz5U8ff8UfTp6uF684pbQcaAXAgVY9p1gOQGuBTgPqSqEdk9BiLrQeMBcMYWEFs3ZCvBQmZzXZxQKz7brz7erhBsSclJQ6ZSRXonTowB2GkL7j0ipGEEcHEtcNMlecqdZMQos4SGeQrI93tojRhIM51iltCkRJPAoLDkOvKcmVNGhC75WUhJBcaS3cElzA1oTcWaC2jKNswU/Lp3w0OcMVtElg2xUMjKk5DpjQmhLEKKUlSrf+3OiFYhu3YEj/7HL7JgetMQRzZaoNPwg1p3GGa6+lkrYvnPHSBwfvhKbrtSPHCDj6HZHIptYovVlFSeu/oRde8p6UtQVdttB2fSqxRYwmHDGHNlC3EUMoJN3SnE2Y9xqRNrxRry1GoR2ltgS3tStPKC1C5ZFQgywqvG62voYRzcoRE8x6Ewni6+j3bdg0qRsytm/VODGHLvU51ZYJeTzN6RyphaaOtBYoxdeasxLAKm5R8cE72a3PoY99Ao6J3RzHTTwUavDZJd40W8/Mx/NW7mgrWNe77Qhr7gDWJpSQwSPdXthKADBoziCUu/mZdmB1jXcPm+zvgvHMqjO0Aa8CnSlR5Cap5MZ9vw2B2+aU6EOAhFJ5oLbYm9WqrrNljGZW2iTitZAmgaXllBKIYhhCZzp4nBsSXpHt+v8HDVmZVTu8b67UFqk8UFlEEqNoDYxsVpJAkpBc0OFSq6Dv2/AQIT98nNJ64C2H/M4YTzjJCTVo00e2UUJPrAidBVrPsCEIbD2sHyuT+9YbFiMNbrz1wFYLOHcwYpxjaOdo1yeKOvBLch1yK1mnDH2dpjexteY8QEebhNwMSej3VHOMUEOooU73v4PeLLJ7pLxZllifakgbNo+pPLJM+SiF9RXG81ZNS35lxEu47orhYjcLaT3Q+GBedwRiGxrUDl4p3anlXKQpl12BbD+lWmPErNwIjRMap0mBIPcvZUN2/q2n2PhslZTqwFuV53Q2LiGPxjle1ZSvalxLrpqCNIT2qyg4ua415y7uuvW0EUlnmrjuCn5jT3i+OETb8aQzXla+rMjOF5RR+abuK3wrMl2ZV885N3FOELsnmE2oOMGN2iJv2pzLquAgfQ85x1NCFhW67Ojs5jJREpn2acSqm7CJu/yzyTUBI1OjtoxZU1I1ERlROKNpji0rePWaTJW6egRAxNkPFZVFgvQaAIMZ3fFGDHnYqnYMUGiHIcy7nKeXxywuS0IzHiOPSMgJq2po2ttZNjfFq003fo9nHtAq6E2yc6XuAjTa51YjYdxBArc+KUzCtddUrrdKE60HDKfYEMzKKwX6EkUaImiAUlsUp0qRxaJAlwHp2vvX3RLG0xwAd9wdT8rCEvWwyL4FrLSW3Qrw0gOu3VyGRp+gOFE7mhRIi4xQCdJut1e1iXGFA2COd8KFKXPvOSbqUPS6E/neuzm5Xa5YoU4ZsgyEhYxSWF9hXLMCcEOWgc+bD2g9I2CU0tGSUVkE7blHGcoT0hfhMzWiJFr6epCKr8sXF4sJ5YtA+cbRRcNYujO+cADphDfd/q2aMLCu6XwXEopu5FBtCmQVZEv6+vFIGN+s3AmV8OvlKc+b3qWX0hLE1mS7qs0AZBtxENxOIVZljbqK5BdOMTOk+b4SMoA5YSn87/yEZ/URwLrQ3tlNLWez2L6qH9/KrQYtaz3QVRmTc6M4b2GElswKO+EcbeG8nlKGjoTeKpLfzN7Irb83YS4EGdy8Kxho42iT8BEJeXTN8WTkM/j65WP+Z3ZCbZGAUWhLoR1R01Dkut3UW0XGK3NL9H302jJolDjvCPMGRqofw44IOTSOLTLme3nvmQZCjnq/VaPiQwd006QUsLU7FxO0sT7G2fJMzibGF05KFJdOfpZxHSeD5vTdz5VATORWIWwloE1ESbwXryilA4fsfIG8mWHN95hzPCWKNy3TZwVpEtdJJ7Ce+Uv9qMRQstgYFtjIrzI1TrMZJ9l1f+Kz13Sv33w/y6SbCLURF47WmzM598dN1pp0RzC6zsUyKsvBpBfKiIKBHZlVPLviMBPq45I3zR7VNN5KG27c+Y2glqk/Jmoi1w5z4Xn7iJftEWEpMGI2vsL4ZmWOLCrieU62KKgtrJPLh8gXbkZSagu3BgeuUtmbYmLrExUPYSdxjl/PUSBbHrGfNTzJrqg85yqVIKzddZRElEStGdepIMhNTNR6YN72wtXm7T32bWEHwnHSxQXMLonzH3KQVfwou+hnksOkb8MMMzzTUHMUliws57yd0lh/eypOa8LresqsmRBqdmJWOyFk3MES2jlXXcmFFbTeD1Kq9Nm3DhXCh8ZRoI91Fl3Ooo3IeKHNLewkCFwhXif+5dmPUZwPiwtO44yEUktHQphq04/kys0w92oucJkizy4PmV+VHF351geyH8JuNGd1scaYzab8cnbK63aPUltKaSi0pZSWXLphPO6B/AqhWubYdSSrdnS/u7lMD+kMX2S8mU97wr0zqdV41m8aGfrgy9Rr0FFYkmtH1wTCXAnN+DEO7FxzOuJFYHa+x3kzveWmV7WduRVcp5KrruCyKVExTuOMw6zClxn5hRIXNspQ9r37Hf0Km7D+4dbHNgG/15LZDA51GO9fpRsYw0DUnfPKOK59p4RMEDwDjYkydH3R64FeeaEtT4orDrK63z5kkdoy5C1DB2Ngt8IRwYOjwYmaCGLYuuq32fZ1juOCSWgptaX1jG7kKa6HsFPhWFTSnnG8v2QvNLSe0QzzN6soGVgnp9Ano5VnJBc8GqkMpPyOBo1EzrsVThEoT5b8wckZJ/k1cyuoLLKwfF3KWM3frBLReoiSzRWddrSHga6Ure/Kewg7JWRXIcaOvazpe1KrIckH2jObsU7f/BNEwTPHw7uSW23ABWJITEJD64FX3QGwauYZU22Yak1CudaS1gMLy1mkfv+nhkSKjgVG81Cb2C0hqxBDvxOmtcDMp0RJTEPdP2vNo7BYj/yv+1SW0bmi6pAZHra9D/hh7E44IlgQJrHlOFus32498E17QGfKq2afN/Ue06zhk4MXHIUlaWOfZ4yJJjd8N7LZkXBWv2lRCB9Or/iofMHCChrPOGsP+eLylIt6wle/ecLBlxn1Y2f25xM+ffw1Ks5RtqT1wNGkwkxIRbkTQt6tWW2gssgsTTlrDni52OdyUZK/Duw9M6RTnl8d8PXkMYexYi/UNJaRqZGFd01z3PAE2XXiv85+AHzKz7/6ffjthGwu7D1zDhbO9GVD8WLOwUHB5esj/vvgEcv3hfo04WXi8ZNL3tuf87I4Rt4ZQnYHT2SLjuuzPT63Dyg+m3L6bzVxVqG/fkq6ugLA3BERjv4VJAT4o485/8khy/cD9XHk/cff8DwC+q4IZ/iWtUnE1xmLtMfJayeeV+i8ur/LbnjtXUe4XDJ5NQXPePV8n/+wD8lnjNojX2E38zkhIFmGXMx577N9ujJw/Mtr5Muv8bbF3vILSv70GdM3F0yPj9DulOrkkONf1b1AR8aONEdBFWk7yvOOlCvhYrE2pbfBqgqqipAS07PHaIrks+bd6FsBAyEnqBviZUPIFPmuuZoV4a5MLBnZvCXmiixb/J3oWzFMswNeVYTZEo0Br77jx8jWG0mG3+NKCb1uyIMiVb2T6sXOEs9bG1SN/79Z7KB2vML/AZoKvleuGlcyAAAAAElFTkSuQmCC\" y=\"-35.091634\"/>\n   </g>\n   <g id=\"patch_68\">\n    <path d=\"M 1107.943697 106.091634 \nL 1107.943697 35.7555 \n\" style=\"fill:none;stroke:#000000;stroke-linecap:square;stroke-linejoin:miter;stroke-width:0.8;\"/>\n   </g>\n   <g id=\"patch_69\">\n    <path d=\"M 1178.279832 106.091634 \nL 1178.279832 35.7555 \n\" style=\"fill:none;stroke:#000000;stroke-linecap:square;stroke-linejoin:miter;stroke-width:0.8;\"/>\n   </g>\n   <g id=\"patch_70\">\n    <path d=\"M 1107.943697 106.091634 \nL 1178.279832 106.091634 \n\" style=\"fill:none;stroke:#000000;stroke-linecap:square;stroke-linejoin:miter;stroke-width:0.8;\"/>\n   </g>\n   <g id=\"patch_71\">\n    <path d=\"M 1107.943697 35.7555 \nL 1178.279832 35.7555 \n\" style=\"fill:none;stroke:#000000;stroke-linecap:square;stroke-linejoin:miter;stroke-width:0.8;\"/>\n   </g>\n   <g id=\"text_14\">\n    <!-- dress -->\n    <g transform=\"translate(1127.028015 16.318125)scale(0.12 -0.12)\">\n     <use xlink:href=\"#DejaVuSans-100\"/>\n     <use x=\"63.476562\" xlink:href=\"#DejaVuSans-114\"/>\n     <use x=\"102.339844\" xlink:href=\"#DejaVuSans-101\"/>\n     <use x=\"163.863281\" xlink:href=\"#DejaVuSans-115\"/>\n     <use x=\"215.962891\" xlink:href=\"#DejaVuSans-115\"/>\n    </g>\n    <!-- dress -->\n    <g transform=\"translate(1127.028015 29.7555)scale(0.12 -0.12)\">\n     <use xlink:href=\"#DejaVuSans-100\"/>\n     <use x=\"63.476562\" xlink:href=\"#DejaVuSans-114\"/>\n     <use x=\"102.339844\" xlink:href=\"#DejaVuSans-101\"/>\n     <use x=\"163.863281\" xlink:href=\"#DejaVuSans-115\"/>\n     <use x=\"215.962891\" xlink:href=\"#DejaVuSans-115\"/>\n    </g>\n   </g>\n  </g>\n  <g id=\"axes_15\">\n   <g id=\"patch_72\">\n    <path d=\"M 1192.347059 106.091634 \nL 1262.683193 106.091634 \nL 1262.683193 35.7555 \nL 1192.347059 35.7555 \nz\n\" style=\"fill:#ffffff;\"/>\n   </g>\n   <g clip-path=\"url(#p2813d26fb0)\">\n    <image height=\"71\" id=\"image4ca2f07de6\" transform=\"scale(1 -1)translate(0 -71)\" width=\"71\" x=\"1192.347059\" xlink:href=\"data:image/png;base64,\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\" y=\"-35.091634\"/>\n   </g>\n   <g id=\"patch_73\">\n    <path d=\"M 1192.347059 106.091634 \nL 1192.347059 35.7555 \n\" style=\"fill:none;stroke:#000000;stroke-linecap:square;stroke-linejoin:miter;stroke-width:0.8;\"/>\n   </g>\n   <g id=\"patch_74\">\n    <path d=\"M 1262.683193 106.091634 \nL 1262.683193 35.7555 \n\" style=\"fill:none;stroke:#000000;stroke-linecap:square;stroke-linejoin:miter;stroke-width:0.8;\"/>\n   </g>\n   <g id=\"patch_75\">\n    <path d=\"M 1192.347059 106.091634 \nL 1262.683193 106.091634 \n\" style=\"fill:none;stroke:#000000;stroke-linecap:square;stroke-linejoin:miter;stroke-width:0.8;\"/>\n   </g>\n   <g id=\"patch_76\">\n    <path d=\"M 1192.347059 35.7555 \nL 1262.683193 35.7555 \n\" style=\"fill:none;stroke:#000000;stroke-linecap:square;stroke-linejoin:miter;stroke-width:0.8;\"/>\n   </g>\n   <g id=\"text_15\">\n    <!-- coat -->\n    <g transform=\"translate(1214.515751 16.318125)scale(0.12 -0.12)\">\n     <use xlink:href=\"#DejaVuSans-99\"/>\n     <use x=\"54.980469\" xlink:href=\"#DejaVuSans-111\"/>\n     <use x=\"116.162109\" xlink:href=\"#DejaVuSans-97\"/>\n     <use x=\"177.441406\" xlink:href=\"#DejaVuSans-116\"/>\n    </g>\n    <!-- coat -->\n    <g transform=\"translate(1214.515751 29.7555)scale(0.12 -0.12)\">\n     <use xlink:href=\"#DejaVuSans-99\"/>\n     <use x=\"54.980469\" xlink:href=\"#DejaVuSans-111\"/>\n     <use x=\"116.162109\" xlink:href=\"#DejaVuSans-97\"/>\n     <use x=\"177.441406\" xlink:href=\"#DejaVuSans-116\"/>\n    </g>\n   </g>\n  </g>\n  <g id=\"axes_16\">\n   <g id=\"patch_77\">\n    <path d=\"M 1276.75042 106.091634 \nL 1347.086555 106.091634 \nL 1347.086555 35.7555 \nL 1276.75042 35.7555 \nz\n\" style=\"fill:#ffffff;\"/>\n   </g>\n   <g clip-path=\"url(#p598b7bcae4)\">\n    <image height=\"71\" id=\"image04b039c740\" transform=\"scale(1 -1)translate(0 -71)\" width=\"71\" x=\"1276.75042\" xlink:href=\"data:image/png;base64,\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\" y=\"-35.091634\"/>\n   </g>\n   <g id=\"patch_78\">\n    <path d=\"M 1276.75042 106.091634 \nL 1276.75042 35.7555 \n\" style=\"fill:none;stroke:#000000;stroke-linecap:square;stroke-linejoin:miter;stroke-width:0.8;\"/>\n   </g>\n   <g id=\"patch_79\">\n    <path d=\"M 1347.086555 106.091634 \nL 1347.086555 35.7555 \n\" style=\"fill:none;stroke:#000000;stroke-linecap:square;stroke-linejoin:miter;stroke-width:0.8;\"/>\n   </g>\n   <g id=\"patch_80\">\n    <path d=\"M 1276.75042 106.091634 \nL 1347.086555 106.091634 \n\" style=\"fill:none;stroke:#000000;stroke-linecap:square;stroke-linejoin:miter;stroke-width:0.8;\"/>\n   </g>\n   <g id=\"patch_81\">\n    <path d=\"M 1276.75042 35.7555 \nL 1347.086555 35.7555 \n\" style=\"fill:none;stroke:#000000;stroke-linecap:square;stroke-linejoin:miter;stroke-width:0.8;\"/>\n   </g>\n   <g id=\"text_16\">\n    <!-- trouser -->\n    <g transform=\"translate(1290.476925 16.318125)scale(0.12 -0.12)\">\n     <use xlink:href=\"#DejaVuSans-116\"/>\n     <use x=\"39.208984\" xlink:href=\"#DejaVuSans-114\"/>\n     <use x=\"78.072266\" xlink:href=\"#DejaVuSans-111\"/>\n     <use x=\"139.253906\" xlink:href=\"#DejaVuSans-117\"/>\n     <use x=\"202.632812\" xlink:href=\"#DejaVuSans-115\"/>\n     <use x=\"254.732422\" xlink:href=\"#DejaVuSans-101\"/>\n     <use x=\"316.255859\" xlink:href=\"#DejaVuSans-114\"/>\n    </g>\n    <!-- trouser -->\n    <g transform=\"translate(1290.476925 29.7555)scale(0.12 -0.12)\">\n     <use xlink:href=\"#DejaVuSans-116\"/>\n     <use x=\"39.208984\" xlink:href=\"#DejaVuSans-114\"/>\n     <use x=\"78.072266\" xlink:href=\"#DejaVuSans-111\"/>\n     <use x=\"139.253906\" xlink:href=\"#DejaVuSans-117\"/>\n     <use x=\"202.632812\" xlink:href=\"#DejaVuSans-115\"/>\n     <use x=\"254.732422\" xlink:href=\"#DejaVuSans-101\"/>\n     <use x=\"316.255859\" xlink:href=\"#DejaVuSans-114\"/>\n    </g>\n   </g>\n  </g>\n  <g id=\"axes_17\">\n   <g id=\"patch_82\">\n    <path d=\"M 1361.153782 106.091634 \nL 1431.489916 106.091634 \nL 1431.489916 35.7555 \nL 1361.153782 35.7555 \nz\n\" style=\"fill:#ffffff;\"/>\n   </g>\n   <g clip-path=\"url(#p709b5423f2)\">\n    <image height=\"71\" id=\"imagea16fa3d74d\" transform=\"scale(1 -1)translate(0 -71)\" width=\"71\" x=\"1361.153782\" xlink:href=\"data:image/png;base64,\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\" y=\"-35.091634\"/>\n   </g>\n   <g id=\"patch_83\">\n    <path d=\"M 1361.153782 106.091634 \nL 1361.153782 35.7555 \n\" style=\"fill:none;stroke:#000000;stroke-linecap:square;stroke-linejoin:miter;stroke-width:0.8;\"/>\n   </g>\n   <g id=\"patch_84\">\n    <path d=\"M 1431.489916 106.091634 \nL 1431.489916 35.7555 \n\" style=\"fill:none;stroke:#000000;stroke-linecap:square;stroke-linejoin:miter;stroke-width:0.8;\"/>\n   </g>\n   <g id=\"patch_85\">\n    <path d=\"M 1361.153782 106.091634 \nL 1431.489916 106.091634 \n\" style=\"fill:none;stroke:#000000;stroke-linecap:square;stroke-linejoin:miter;stroke-width:0.8;\"/>\n   </g>\n   <g id=\"patch_86\">\n    <path d=\"M 1361.153782 35.7555 \nL 1431.489916 35.7555 \n\" style=\"fill:none;stroke:#000000;stroke-linecap:square;stroke-linejoin:miter;stroke-width:0.8;\"/>\n   </g>\n   <g id=\"text_17\">\n    <!-- pullover -->\n    <g transform=\"translate(1371.995599 16.318125)scale(0.12 -0.12)\">\n     <use xlink:href=\"#DejaVuSans-112\"/>\n     <use x=\"63.476562\" xlink:href=\"#DejaVuSans-117\"/>\n     <use x=\"126.855469\" xlink:href=\"#DejaVuSans-108\"/>\n     <use x=\"154.638672\" xlink:href=\"#DejaVuSans-108\"/>\n     <use x=\"182.421875\" xlink:href=\"#DejaVuSans-111\"/>\n     <use x=\"243.603516\" xlink:href=\"#DejaVuSans-118\"/>\n     <use x=\"302.783203\" xlink:href=\"#DejaVuSans-101\"/>\n     <use x=\"364.306641\" xlink:href=\"#DejaVuSans-114\"/>\n    </g>\n    <!-- pullover -->\n    <g transform=\"translate(1371.995599 29.7555)scale(0.12 -0.12)\">\n     <use xlink:href=\"#DejaVuSans-112\"/>\n     <use x=\"63.476562\" xlink:href=\"#DejaVuSans-117\"/>\n     <use x=\"126.855469\" xlink:href=\"#DejaVuSans-108\"/>\n     <use x=\"154.638672\" xlink:href=\"#DejaVuSans-108\"/>\n     <use x=\"182.421875\" xlink:href=\"#DejaVuSans-111\"/>\n     <use x=\"243.603516\" xlink:href=\"#DejaVuSans-118\"/>\n     <use x=\"302.783203\" xlink:href=\"#DejaVuSans-101\"/>\n     <use x=\"364.306641\" xlink:href=\"#DejaVuSans-114\"/>\n    </g>\n   </g>\n  </g>\n  <g id=\"axes_18\">\n   <g id=\"patch_87\">\n    <path d=\"M 1445.557143 106.091634 \nL 1515.893277 106.091634 \nL 1515.893277 35.7555 \nL 1445.557143 35.7555 \nz\n\" style=\"fill:#ffffff;\"/>\n   </g>\n   <g clip-path=\"url(#pa5fb81035a)\">\n    <image height=\"71\" id=\"image0cda5c3ef4\" transform=\"scale(1 -1)translate(0 -71)\" width=\"71\" x=\"1445.557143\" xlink:href=\"data:image/png;base64,\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\" y=\"-35.091634\"/>\n   </g>\n   <g id=\"patch_88\">\n    <path d=\"M 1445.557143 106.091634 \nL 1445.557143 35.7555 \n\" style=\"fill:none;stroke:#000000;stroke-linecap:square;stroke-linejoin:miter;stroke-width:0.8;\"/>\n   </g>\n   <g id=\"patch_89\">\n    <path d=\"M 1515.893277 106.091634 \nL 1515.893277 35.7555 \n\" style=\"fill:none;stroke:#000000;stroke-linecap:square;stroke-linejoin:miter;stroke-width:0.8;\"/>\n   </g>\n   <g id=\"patch_90\">\n    <path d=\"M 1445.557143 106.091634 \nL 1515.893277 106.091634 \n\" style=\"fill:none;stroke:#000000;stroke-linecap:square;stroke-linejoin:miter;stroke-width:0.8;\"/>\n   </g>\n   <g id=\"patch_91\">\n    <path d=\"M 1445.557143 35.7555 \nL 1515.893277 35.7555 \n\" style=\"fill:none;stroke:#000000;stroke-linecap:square;stroke-linejoin:miter;stroke-width:0.8;\"/>\n   </g>\n   <g id=\"text_18\">\n    <!-- coat -->\n    <g transform=\"translate(1467.725835 16.318125)scale(0.12 -0.12)\">\n     <use xlink:href=\"#DejaVuSans-99\"/>\n     <use x=\"54.980469\" xlink:href=\"#DejaVuSans-111\"/>\n     <use x=\"116.162109\" xlink:href=\"#DejaVuSans-97\"/>\n     <use x=\"177.441406\" xlink:href=\"#DejaVuSans-116\"/>\n    </g>\n    <!-- pullover -->\n    <g transform=\"translate(1456.39896 29.7555)scale(0.12 -0.12)\">\n     <use xlink:href=\"#DejaVuSans-112\"/>\n     <use x=\"63.476562\" xlink:href=\"#DejaVuSans-117\"/>\n     <use x=\"126.855469\" xlink:href=\"#DejaVuSans-108\"/>\n     <use x=\"154.638672\" xlink:href=\"#DejaVuSans-108\"/>\n     <use x=\"182.421875\" xlink:href=\"#DejaVuSans-111\"/>\n     <use x=\"243.603516\" xlink:href=\"#DejaVuSans-118\"/>\n     <use x=\"302.783203\" xlink:href=\"#DejaVuSans-101\"/>\n     <use x=\"364.306641\" xlink:href=\"#DejaVuSans-114\"/>\n    </g>\n   </g>\n  </g>\n  <g id=\"axes_19\">\n   <g id=\"patch_92\">\n    <path d=\"M 1529.960504 106.091634 \nL 1600.296639 106.091634 \nL 1600.296639 35.7555 \nL 1529.960504 35.7555 \nz\n\" style=\"fill:#ffffff;\"/>\n   </g>\n   <g clip-path=\"url(#p1a8eba3200)\">\n    <image height=\"71\" id=\"imagecc840e1896\" transform=\"scale(1 -1)translate(0 -71)\" width=\"71\" x=\"1529.960504\" xlink:href=\"data:image/png;base64,\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\" y=\"-35.091634\"/>\n   </g>\n   <g id=\"patch_93\">\n    <path d=\"M 1529.960504 106.091634 \nL 1529.960504 35.7555 \n\" style=\"fill:none;stroke:#000000;stroke-linecap:square;stroke-linejoin:miter;stroke-width:0.8;\"/>\n   </g>\n   <g id=\"patch_94\">\n    <path d=\"M 1600.296639 106.091634 \nL 1600.296639 35.7555 \n\" style=\"fill:none;stroke:#000000;stroke-linecap:square;stroke-linejoin:miter;stroke-width:0.8;\"/>\n   </g>\n   <g id=\"patch_95\">\n    <path d=\"M 1529.960504 106.091634 \nL 1600.296639 106.091634 \n\" style=\"fill:none;stroke:#000000;stroke-linecap:square;stroke-linejoin:miter;stroke-width:0.8;\"/>\n   </g>\n   <g id=\"patch_96\">\n    <path d=\"M 1529.960504 35.7555 \nL 1600.296639 35.7555 \n\" style=\"fill:none;stroke:#000000;stroke-linecap:square;stroke-linejoin:miter;stroke-width:0.8;\"/>\n   </g>\n   <g id=\"text_19\">\n    <!-- bag -->\n    <defs>\n     <path d=\"M 45.40625 27.984375 \nQ 45.40625 37.75 41.375 43.109375 \nQ 37.359375 48.484375 30.078125 48.484375 \nQ 22.859375 48.484375 18.828125 43.109375 \nQ 14.796875 37.75 14.796875 27.984375 \nQ 14.796875 18.265625 18.828125 12.890625 \nQ 22.859375 7.515625 30.078125 7.515625 \nQ 37.359375 7.515625 41.375 12.890625 \nQ 45.40625 18.265625 45.40625 27.984375 \nz\nM 54.390625 6.78125 \nQ 54.390625 -7.171875 48.1875 -13.984375 \nQ 42 -20.796875 29.203125 -20.796875 \nQ 24.46875 -20.796875 20.265625 -20.09375 \nQ 16.0625 -19.390625 12.109375 -17.921875 \nL 12.109375 -9.1875 \nQ 16.0625 -11.328125 19.921875 -12.34375 \nQ 23.78125 -13.375 27.78125 -13.375 \nQ 36.625 -13.375 41.015625 -8.765625 \nQ 45.40625 -4.15625 45.40625 5.171875 \nL 45.40625 9.625 \nQ 42.625 4.78125 38.28125 2.390625 \nQ 33.9375 0 27.875 0 \nQ 17.828125 0 11.671875 7.65625 \nQ 5.515625 15.328125 5.515625 27.984375 \nQ 5.515625 40.671875 11.671875 48.328125 \nQ 17.828125 56 27.875 56 \nQ 33.9375 56 38.28125 53.609375 \nQ 42.625 51.21875 45.40625 46.390625 \nL 45.40625 54.6875 \nL 54.390625 54.6875 \nz\n\" id=\"DejaVuSans-103\"/>\n    </defs>\n    <g transform=\"translate(1553.833571 16.318125)scale(0.12 -0.12)\">\n     <use xlink:href=\"#DejaVuSans-98\"/>\n     <use x=\"63.476562\" xlink:href=\"#DejaVuSans-97\"/>\n     <use x=\"124.755859\" xlink:href=\"#DejaVuSans-103\"/>\n    </g>\n    <!-- bag -->\n    <g transform=\"translate(1553.833571 29.7555)scale(0.12 -0.12)\">\n     <use xlink:href=\"#DejaVuSans-98\"/>\n     <use x=\"63.476562\" xlink:href=\"#DejaVuSans-97\"/>\n     <use x=\"124.755859\" xlink:href=\"#DejaVuSans-103\"/>\n    </g>\n   </g>\n  </g>\n  <g id=\"axes_20\">\n   <g id=\"patch_97\">\n    <path d=\"M 1614.363866 106.091634 \nL 1684.7 106.091634 \nL 1684.7 35.7555 \nL 1614.363866 35.7555 \nz\n\" style=\"fill:#ffffff;\"/>\n   </g>\n   <g clip-path=\"url(#p2965cee90b)\">\n    <image height=\"71\" id=\"image66bc18eb10\" transform=\"scale(1 -1)translate(0 -71)\" width=\"71\" x=\"1614.363866\" xlink:href=\"data:image/png;base64,\niVBORw0KGgoAAAANSUhEUgAAAEcAAABHCAYAAABVsFofAAAABHNCSVQICAgIfAhkiAAAE2VJREFUeJzNnMmPI/d1xz+/pRZuvamXGWkkSxrJdrzEsAMnCBLkFOQaJMglhxzz5+WSHIJcYgSwEcNxHMeWDXmTZM1opqeX6eZey2/J4VdVLLLZre4ZCpkHECSLrGK97+/t7/0o/lL8nec2JAQICd6BXz5l/td/zNk/zDjaHqOlQwlHbjXzMgLgsDfhIJmQKENP5UixON84ydzFlE4hhQMgEo6OKpDCEwlLJCylV4xMSu40hdPMbURhFcOiQ2404yxhMknxlzHv/lOJ+t5P1vPgb8cugLz1N299QY8UfgmAL4rq36kfQgACvBAbub5+mZOF1qAUNpH0OzkHnQmxtETSUjpFloTLD6KcjiqRwlF6hfKuuYZFYn1gxnmJ8wInJFI4pPA4ISiFAiASFqk8kXDE0uC8pKsLjFOYniTbifh9b5dyMHg5xiq6/TXEipAJgYhjhNaYVLDXmXEvHZFIE5hoSU7pVWDai/Aa1XwWAKlAQWC9QOHJnUYJj0E1QEXCooUhkQZFAFgKjxKOvso40GN+3H2HHw++TeflcAFeUnLa5P2yKLvW+xoYSwACaOxLTVJ48IAIqrmO2tesF0tim0PWSxybUSm4CzjeXZUeFxgUzlM4xdzGGK/QItywa92sXQFPIRoQFkDJymY5lPDN5wFQFyTO0wAMoKVF4chcxMSmPJltI8tbc3UjbUZyPFgnMV6CA2QAo1aXmtqqpoRtvfZYLxqQ2sDUVANSq57zwS45F0AuvSN3mrmJEG4zzuDlwJHVCooF420GI2EAKP3nO0W1xrutqp7zQbIQC3BrSattkpIuuOwN0MtLjgw3IlZWW1fxiRQe6TTGqyunrtqH9vmrwLRJt6SuJoUjkQYtHX5DZmdjBnkdLaTJI9cEXzU4twVFCrdkb65crzL8mwqxNuqtHKIxnhIZ3GzlcpV02CrmbOzQGs9VA+quWf76u6vfK72itIrc6jtFwTfRxsBxTSAnAAlrGJbY8LlYGOp1wNSvrwfo6vdqz1ha9QpIjvf40oBzeCHY70y4nwyZuZjC6YZpe02GEhhsBXIsq5OtJG8dXQfaarjwsvRSkuPLAl+CV/Cwf8bXu5/xcX7ASTG4ceVrqkFp52ILlXPXAgusNfDN+RuSnI0lniF7NtdGt0sxDq55rH52F1onKZtMeDdmc0qvKL1ecs+lVyhcKGPgUAKsuBoY1iCtk5RasupzrlXTqhqgpMO8Uq7cB3G2K/kUAEKiKwbDd5fTkFVbcx3dTk3D72zK9GxMrSwSh8T6ZUNaM6RaXmlVrWDZ/qy+v42qSOFChHxDnHRXevGSRfsjD8YpCr+43LqVDjcurxxfZb4N0E3Xg4Xd0QISaYiVxcvNiM7GK4Fwe1V5GVo1xl9E5fHlShZrSFV6j3dNUSvYo5XoeA3V58FVw1vXg8Lrq/exqBe9gulDTbXXAJbijeu8zXVSpliTbnAzuHVutSnaXPrQcuGKhdRcR+tAaUtH+9jnMayEx3lJ7jSlU69YblXdy2r8EgnbMLsuPmlHxbVKLHKuq5+F97KV4C5ys9JLjI2YlxGbclhfiEFepZrp24j8OhDXnbd6zHlJ6UMnY1M2Z3NxTr3CLK90TctZO0uSclMOdd1vBekRSyVV4xTWyVcvt6pbLNZfBcYiV1RDLB1/4d+si2XC4bygcApjJWJDNmfjalXf8ItIRE3rJO/Kd64p3G+SNmKQhfcYLym9aiRnnRtGyKU+0yot2aWqL78KsBSuqSCuO3+1f/Yy9IUY5LXA3JLaAd7nSd66ksUrF+d4IdBV4reO1iWiq8cXx6qa80oZo90gLKpJC4nfePWvTRsLAkO5IDB00+o10uBv6jIsomzb6nCWLvTcS6cwTlbJ6HIMtEn6Qlszd6Xr1KjuctYkRSig1Q299vEbjfMdvdhmwBEhhK9Vob2C6/pQdQfCVve6OG/R2qm7qM6J0G5pUSQcUTXcVKcOmxwgqOlu4NykCnWZck0Ll1YRazXWAZayfYdY8kZtxnXTs3JN+7hpB28q8mvR3SVnQwHWsn1YljiHIHeLW+uoklgaDqMxA5Vhq9zKIpjZhPyadvPL0h3qOf7ODfpFu3fleCUNtgr/aYFS2xZbVRUTaehIQ1/lfCV9yoEeNcX8zEd8Vu4ysSkzF1fXfgXjnJt63DUtbMqCmjyJuta8yJNCc9DTVzkDldGTOT1RkIqyqli7ZqAyEpZYVVMWG6I71JDF4nlFtbwIfatUFI0NaINgvGqSwXVzN/U4TSRtiF0QTG2McZL7yZCvpE/pypzX9ZCBMAydZ0qCEo5UFDgpAoA6pxuXOPX/UUO+rkwqaDyHahnNNq2PZheR9Grv3HmBcQopPAM1Z0fNSIUlEsvBo6piolSWzQjKphzXF9K3qjsF9ftEGmLpMU4xtxGll0vepibrBRLZXEPLMH98aXuUXpOKklIYshXje+uC/h3nkG8Hzi0Mcd23qqkuYUBQuY4qmZAwLXoUVhEri66iatW4eUlZPWvhQIYh7lMzYCqTAI6cU/oXWNN6yFwA7vrkt023+5XaU7XjHCFQgwEkCaZTFcSrzNxU0+j1FHpf53RlAcBA5+RysfLqSt61SAe0WLj4kOkLSq+xLb3JXMTYpZReoaUlUYZZX7J97wifZdjhaFlabojVXgycGqAWyW6X4jvvMb0fM3oIfZ0DMDEJl2WHvXjKV7rH9GTOQAZPk/mI86RP5iNOyi1OiwHWCwqnsfWMshdI4UmkqVRrkYBOXQISIkJnM3MRH+cHPM226emcLZ3xoHfJ7775ABe9y+CRIf3Bh7jxONy/v53E3B2cNlUD2vODiMkDid0tSITBEiQns8EFv6Ym7KgZ3coFl17RFQGk3EUMZSe4bIJ0mEpCJJ5OBVA7JQl14jC8HWNxSEYm5TzvIYXnMB6zE81wBwXjeYLKNZ04urOtuRM4Mk0R776F2emQHSZM7ivKvmDyfsngcMR7gwlD26H0ikhYDtMJAB/MHwDwvOwxKlP2kwnf7X9MT+b0VcZhNK4Cv2CbVCsNCJPugqSaSB3blN9lB0xNwjudM77W+YzCK16LprhuGLs9K/vMbcTRwZDnSY/TnQ75zleJJp7tj3PiJyPEdI59doovi82AI/o9Lr61x+SBZPIHBX//7R/yVnLOdzqf8KbK+Umxzz8//zYnbsD9ZMi9ZMhxvs1PLx8wKRIenezin8fowzn3vz7kveQZO2pKT+YoHF2Zo4RjIDN2ZMbMRXxS7jNynSoaVgxthx8+e5vnoy7P7g84ioaksuQoGrKtZ5wUW3wyew2APz/6iP0HE8Y25fJPuhxnA37+H+9z8D+v0Tkp0MPRy4Mju11ErwcHu8wPJPNDz9belIfpCW9EF7wmc7pSoQiZcVnFJV0ZDLFxktJJvBMIJ3BOMjQdznW/KaXWva1IGBQhs5+6hEvbZezSSpUUU5MwzWNMrhnlKUPbxZI10fGF7GGqCY9IWLqyaJ6lcPxkxzHflwgfs7W/h4gj3GSKz/MXA8d/7V1OvjMg2xf0/uyUv7n/W3b1jEgYTsyAz8pdLJKnxQ5zGyGFY09PeSO6YGJTYhVC+u3tGbPEkCQl//38LT7Qr1dBnkRLx1aUoaUlEo5EGeY24tl8QG41iTJ0dcFF3mVy0UWONE+SLX7Ue5v9eMqfbv2WN6NzZi4BIDMRp8UgdD+9wnnJ3Ebcf++U88MeF6ddJvfeIBk6dv/3Ev/Bhy8AjhBkBx2G74M7zPjHt/+Lvx18wBPT4dfFETOX8LjYY2TSas+DJBaORJYM5Jy+yoilIZaaQZqTxiXeC06nPXwVIDonUdLRTYom0pXCUzrJaJ5ijKKTFGylOaMsQcwVai4oZzHPZoPQt8JxIGcM1DwA7iVjk4StBtBscvva7jOi1yw/23qd4+yQ/ELS/6x7Y9P6RsmJJob0LGKuYk6KLbIq/khliatUIhKWvDKkzktOyi0UjolNuZeO2Y3nYVedU2Q2YlwklFYxLzW5Cwx4L/DVyFpHl5ROURiNkY6tNGe/MyHVJbODmKIfcbA/5pu7T9jSGSPX4efFfR4Xe4Eh4ZpH7f2M100qcjnrkJxJ0nOPHuc3VoGuB8d7ovMp2x/FqELx6XyPmQsBWCpKkAGkmYyJ3CIf+nS+x5Nsh51oxjd6j4mEZeYSMq8Zmi6fzneZmZjj6RZ5GeEJm0oAkjhnJ54vVt0q7vVGvNs9wyK53x0xtxHfGDzhL/ofUnrFf07f56eTt5jbsGVSV5vhImkxVoZGn1MYLzFOMr3ocP8jR/ekQJ2NMC8qORQl8dihp5KZiSiqDmUsQowhhatG0xZDjaVTlCh6WgVDiw0jaVhSWdJRYb9PJyqZ6QglPYkOCWNXFwyiLHQXrKaQioHO6as8FMAiTUeV9FWGwlGiwlYiE2NcUBC5ZsdNvXDeCzCCaObQkxKKm/ce3QzOyTnd0iDMIY9GuxybbXoyZ0fOyHxEVxYMRbeyFdVeooqeF11+at5CCtfs3kuk4Uvpc5RwHMQTnvd6xNKwE81JZcm2mrOtZpRecWYGlF6xq6cc6DGZC5IxtiknxRb/Wn6L0iueF73WxMXy/GBdutXSomUVHTtB53iO/OQYN52+ODh2NILRiLTf5ek8uNdYWLpqSuRtM6AYxmg97W1OmY04y4LL3oozerpgL5rydnq2CALjMV1ZcBRdkooyPGRJ6VUAxEf0ZE4qSjIZcijrJafFgOMsGORY2damNr88PFWDJHyV5IbdgPJigj09vRGYzwWnIe8pS8WZ2SIWlj01aVKAzEVVG/jqjF4sbTMNMTUxEs+n+WvBiDtN7jSJNGRekwpDJEyzTXrmEkqvminR0ivOygFzGzX2pQ1GuzxqvMTZUF2s461n2YBpERONFMJsMis3FjvTfDQ/wCLYUTMsgrFNmZrkymYz50MHtB/lOC+YmITcaEZFyrNssMSYlpZUGSLZ3qsZCl01sO1imPOyUpPgBLS0zU6/+pwGPILEGCSPznYw5x0GTwXknx8d3x4c5xBzxePZDh1VMI0TLIK8mlhfrQsv79pbFM/xAmsXeZSWYRsiQOHaO4YXYBgfuptL163KDje1Y0JvbLFxzeQaPZbouce725UtbgfOcMLBj+7xm6cP+dmXH8AfQl/lnBch0av3XNaA1CtZH0tVeYWR9r6pWNpl1RCLzkXcmsq4MhBFkBZTXSdRpimB1NG385KZidFPEvZ+4ekelzDPNgeOn07Z+9klg0cdnpLym3cOOUgn5FUMsWDYLyatBDi/UDGti4ahJZAq1Qrntxivq4jStjL15T3oQBPoxbKqLCKaEojzi/AiORds/3aKGs5xN+RTdwfHWtRoRgSoPK0YcSghQdomyKLVRVitJ69S28NE61rG1/S8a1Vd7ZwaL5maRe+qBrxwitxo9BzUcI6YzOGWu4dvB05RYJ8cI54p4u/uNLFLuJGwmpmJFoytTISuA0gK30hF/VcOq/vQa+kx/uYmiatUqbAhRUhVSaoMhVPMTMwkj0kvHP7jRzjrblWugDu4cp+HPETlMC5TxiZtbYpfrKLzAifEko1ZKznCNW54MR0RpraWZ/0+H5ha1eqEVmpfuXDFME+ZZTG9zOOy29mamu5cJt3+aM7jf3+TT7YfkL4/5OHeOVKE0H/V6NYrvm5gSbUM6NzGwTZUUhhimwDYOrtW50l1vVkKi8aSqhItHXvxjJ7K+beTr+K/v8vg3NP/9cWdd2TcGZzo96e88f1D5vsxnw36XPZm9OOc7ThDC9cw045RaoDaaqarfzIxTnFZlRiMkxgXughdXRARJKd288H7iOZ74Vq2uV5HlWhp2YumbOsZk8suX/7eEPnpCX48viurdwfH5wX6MiMVgt7vUz51RzAoOToYkmrDIM7p6gJdFa6ApmQRS8tOPEcLy5bO6MqiiYKNV2Fiy8ulfOui7Fb500L6urogEo7SSyZlQmYj5iZinCdYJyiMxlpJ8lGCHF1AnuPt3XvodwbHXVwgZjPiOOatxzv4Xsroy1ucfucQM3Bsvznk4d4Zgzjnnc4ZkTQ8yvY4y/vsJxO+1XvEQM3ZkhldmTNzCcdmu0pDQkmkKwsexs/oiYJf5G/wS/E6uYuabulRMubt9IyZi/nB+Xucz7s8O9km+ShFT2HvV4bO4ylq+AT35BhXlHfqV70wON4YvDEwnSLGYxCSfuerjL7UR1jJ9LWEcT9t8ipYZMuRCGWLnsyRlcpYBIXXDTB170pR/yWVaWX9KwtVue/xPIVxRHoGydDR+9U59te/u7FWcxsSt/7PrrVnhxarfv0e+XtHmI5ivq8pBoJyANmhw3Yce29e8vX940WRy2jOz/uIixhZCPREIGtOPLgIym2HSzxip+BgL/wX2FaSkaqSD0+OyD/tozJB91gQjT3JyNE9zpGzEvnoGHt2/pLQvOwgQdVFNI8/Qz05RgGpDICpowPy947IdyMe/9UO7B/zdLrF8YeHREPJvV86dj64QMxz/NnzpahVdlI4OsB1E07/eItnf6SRXYPZkwySHPObAQ//ZYYeZnB8ihuO8FVg573DvlJbiqBpzteq7csSWTqk8ctbjlz4JwdpPJQGSoPLc3yxCMy8EMiiRGqFsITzW/wKB7J0UJT4ogxq/gXQ/wHC7YMJj8jPfgAAAABJRU5ErkJggg==\" y=\"-35.091634\"/>\n   </g>\n   <g id=\"patch_98\">\n    <path d=\"M 1614.363866 106.091634 \nL 1614.363866 35.7555 \n\" style=\"fill:none;stroke:#000000;stroke-linecap:square;stroke-linejoin:miter;stroke-width:0.8;\"/>\n   </g>\n   <g id=\"patch_99\">\n    <path d=\"M 1684.7 106.091634 \nL 1684.7 35.7555 \n\" style=\"fill:none;stroke:#000000;stroke-linecap:square;stroke-linejoin:miter;stroke-width:0.8;\"/>\n   </g>\n   <g id=\"patch_100\">\n    <path d=\"M 1614.363866 106.091634 \nL 1684.7 106.091634 \n\" style=\"fill:none;stroke:#000000;stroke-linecap:square;stroke-linejoin:miter;stroke-width:0.8;\"/>\n   </g>\n   <g id=\"patch_101\">\n    <path d=\"M 1614.363866 35.7555 \nL 1684.7 35.7555 \n\" style=\"fill:none;stroke:#000000;stroke-linecap:square;stroke-linejoin:miter;stroke-width:0.8;\"/>\n   </g>\n   <g id=\"text_20\">\n    <!-- t-shirt -->\n    <defs>\n     <path d=\"M 4.890625 31.390625 \nL 31.203125 31.390625 \nL 31.203125 23.390625 \nL 4.890625 23.390625 \nz\n\" id=\"DejaVuSans-45\"/>\n    </defs>\n    <g transform=\"translate(1631.601308 16.318125)scale(0.12 -0.12)\">\n     <use xlink:href=\"#DejaVuSans-116\"/>\n     <use x=\"39.208984\" xlink:href=\"#DejaVuSans-45\"/>\n     <use x=\"75.292969\" xlink:href=\"#DejaVuSans-115\"/>\n     <use x=\"127.392578\" xlink:href=\"#DejaVuSans-104\"/>\n     <use x=\"190.771484\" xlink:href=\"#DejaVuSans-105\"/>\n     <use x=\"218.554688\" xlink:href=\"#DejaVuSans-114\"/>\n     <use x=\"259.667969\" xlink:href=\"#DejaVuSans-116\"/>\n    </g>\n    <!-- t-shirt -->\n    <g transform=\"translate(1631.601308 29.7555)scale(0.12 -0.12)\">\n     <use xlink:href=\"#DejaVuSans-116\"/>\n     <use x=\"39.208984\" xlink:href=\"#DejaVuSans-45\"/>\n     <use x=\"75.292969\" xlink:href=\"#DejaVuSans-115\"/>\n     <use x=\"127.392578\" xlink:href=\"#DejaVuSans-104\"/>\n     <use x=\"190.771484\" xlink:href=\"#DejaVuSans-105\"/>\n     <use x=\"218.554688\" xlink:href=\"#DejaVuSans-114\"/>\n     <use x=\"259.667969\" xlink:href=\"#DejaVuSans-116\"/>\n    </g>\n   </g>\n  </g>\n </g>\n <defs>\n  <clipPath id=\"p301267e0fd\">\n   <rect height=\"70.336134\" width=\"70.336134\" x=\"10.7\" y=\"35.7555\"/>\n  </clipPath>\n  <clipPath id=\"p20bb39fbb6\">\n   <rect height=\"70.336134\" width=\"70.336134\" x=\"95.103361\" y=\"35.7555\"/>\n  </clipPath>\n  <clipPath id=\"pd7e85908a9\">\n   <rect height=\"70.336134\" width=\"70.336134\" x=\"179.506723\" y=\"35.7555\"/>\n  </clipPath>\n  <clipPath id=\"pbe2490a603\">\n   <rect height=\"70.336134\" width=\"70.336134\" x=\"263.910084\" y=\"35.7555\"/>\n  </clipPath>\n  <clipPath id=\"pac824f1a22\">\n   <rect height=\"70.336134\" width=\"70.336134\" x=\"348.313445\" y=\"35.7555\"/>\n  </clipPath>\n  <clipPath id=\"p66d77f614b\">\n   <rect height=\"70.336134\" width=\"70.336134\" x=\"432.716807\" y=\"35.7555\"/>\n  </clipPath>\n  <clipPath id=\"pbd393190ce\">\n   <rect height=\"70.336134\" width=\"70.336134\" x=\"517.120168\" y=\"35.7555\"/>\n  </clipPath>\n  <clipPath id=\"pb5a0b8cb0a\">\n   <rect height=\"70.336134\" width=\"70.336134\" x=\"601.523529\" y=\"35.7555\"/>\n  </clipPath>\n  <clipPath id=\"p09f76b1e33\">\n   <rect height=\"70.336134\" width=\"70.336134\" x=\"685.926891\" y=\"35.7555\"/>\n  </clipPath>\n  <clipPath id=\"p026b6752c2\">\n   <rect height=\"70.336134\" width=\"70.336134\" x=\"770.330252\" y=\"35.7555\"/>\n  </clipPath>\n  <clipPath id=\"pb2b96687e4\">\n   <rect height=\"70.336134\" width=\"70.336134\" x=\"854.733613\" y=\"35.7555\"/>\n  </clipPath>\n  <clipPath id=\"p20566e47b9\">\n   <rect height=\"70.336134\" width=\"70.336134\" x=\"939.136975\" y=\"35.7555\"/>\n  </clipPath>\n  <clipPath id=\"pee023046c2\">\n   <rect height=\"70.336134\" width=\"70.336134\" x=\"1023.540336\" y=\"35.7555\"/>\n  </clipPath>\n  <clipPath id=\"p8834634c33\">\n   <rect height=\"70.336134\" width=\"70.336134\" x=\"1107.943697\" y=\"35.7555\"/>\n  </clipPath>\n  <clipPath id=\"p2813d26fb0\">\n   <rect height=\"70.336134\" width=\"70.336134\" x=\"1192.347059\" y=\"35.7555\"/>\n  </clipPath>\n  <clipPath id=\"p598b7bcae4\">\n   <rect height=\"70.336134\" width=\"70.336134\" x=\"1276.75042\" y=\"35.7555\"/>\n  </clipPath>\n  <clipPath id=\"p709b5423f2\">\n   <rect height=\"70.336134\" width=\"70.336134\" x=\"1361.153782\" y=\"35.7555\"/>\n  </clipPath>\n  <clipPath id=\"pa5fb81035a\">\n   <rect height=\"70.336134\" width=\"70.336134\" x=\"1445.557143\" y=\"35.7555\"/>\n  </clipPath>\n  <clipPath id=\"p1a8eba3200\">\n   <rect height=\"70.336134\" width=\"70.336134\" x=\"1529.960504\" y=\"35.7555\"/>\n  </clipPath>\n  <clipPath id=\"p2965cee90b\">\n   <rect height=\"70.336134\" width=\"70.336134\" x=\"1614.363866\" y=\"35.7555\"/>\n  </clipPath>\n </defs>\n</svg>\n"
          },
          "metadata": {
            "tags": [],
            "needs_background": "light"
          }
        }
      ]
    },
    {
      "cell_type": "markdown",
      "metadata": {
        "id": "2xv7lOAlBDBm"
      },
      "source": [
        "다음은 epoch를 총 40번을 돌린 결과이다 확실이 모델의 정확도가 올라갔지만 어느 순간더이상 올라가지 않는 것을 확인 할 수 있다."
      ]
    },
    {
      "cell_type": "code",
      "metadata": {
        "id": "WyGL5tc6oKoV"
      },
      "source": [
        ""
      ],
      "execution_count": 70,
      "outputs": []
    },
    {
      "cell_type": "code",
      "metadata": {
        "id": "1MAmpmZSoKp0"
      },
      "source": [
        ""
      ],
      "execution_count": 70,
      "outputs": []
    },
    {
      "cell_type": "code",
      "metadata": {
        "id": "nr7dH2X1oKra"
      },
      "source": [
        ""
      ],
      "execution_count": 70,
      "outputs": []
    }
  ]
}