{
  "nbformat": 4,
  "nbformat_minor": 0,
  "metadata": {
    "colab": {
      "name": "lab_01_201602955_장현준.ipynb",
      "provenance": [],
      "collapsed_sections": [],
      "authorship_tag": "ABX9TyMWsmzhCUtt5d2BcijKvFN0",
      "include_colab_link": true
    },
    "kernelspec": {
      "name": "python3",
      "display_name": "Python 3"
    },
    "language_info": {
      "name": "python"
    }
  },
  "cells": [
    {
      "cell_type": "markdown",
      "metadata": {
        "id": "view-in-github",
        "colab_type": "text"
      },
      "source": [
        "<a href=\"https://colab.research.google.com/github/JANG-hyeonjun/biomedical_deeplearning/blob/main/lab_01_201602955_%EC%9E%A5%ED%98%84%EC%A4%80.ipynb\" target=\"_parent\"><img src=\"https://colab.research.google.com/assets/colab-badge.svg\" alt=\"Open In Colab\"/></a>"
      ]
    },
    {
      "cell_type": "markdown",
      "metadata": {
        "id": "4w9_q6jXYnvw"
      },
      "source": [
        "학번:201602955\n",
        "\n",
        "이름:장현준 \n"
      ]
    },
    {
      "cell_type": "markdown",
      "metadata": {
        "id": "xRmYO_RqY-Vw"
      },
      "source": [
        "Data manipulation 2.1\n"
      ]
    },
    {
      "cell_type": "code",
      "metadata": {
        "id": "q7DNsJV9Ymce"
      },
      "source": [
        "import torch"
      ],
      "execution_count": 1,
      "outputs": []
    },
    {
      "cell_type": "code",
      "metadata": {
        "colab": {
          "base_uri": "https://localhost:8080/"
        },
        "id": "PzfY6qH8Ym1l",
        "outputId": "7f583d5f-bc39-4db5-de27-963f342fd862"
      },
      "source": [
        "x = torch.arange(12)\n",
        "x"
      ],
      "execution_count": 2,
      "outputs": [
        {
          "output_type": "execute_result",
          "data": {
            "text/plain": [
              "tensor([ 0,  1,  2,  3,  4,  5,  6,  7,  8,  9, 10, 11])"
            ]
          },
          "metadata": {
            "tags": []
          },
          "execution_count": 2
        }
      ]
    },
    {
      "cell_type": "code",
      "metadata": {
        "colab": {
          "base_uri": "https://localhost:8080/"
        },
        "id": "Z8cxePGwYm4X",
        "outputId": "d6a6bae1-745a-4ffa-9409-a3239b33d81e"
      },
      "source": [
        "x.numel()"
      ],
      "execution_count": 3,
      "outputs": [
        {
          "output_type": "execute_result",
          "data": {
            "text/plain": [
              "12"
            ]
          },
          "metadata": {
            "tags": []
          },
          "execution_count": 3
        }
      ]
    },
    {
      "cell_type": "code",
      "metadata": {
        "colab": {
          "base_uri": "https://localhost:8080/"
        },
        "id": "jC17-2HnYnBr",
        "outputId": "9b16c20d-0fb0-4cd0-aa75-818e7c96734c"
      },
      "source": [
        "x.shape"
      ],
      "execution_count": 4,
      "outputs": [
        {
          "output_type": "execute_result",
          "data": {
            "text/plain": [
              "torch.Size([12])"
            ]
          },
          "metadata": {
            "tags": []
          },
          "execution_count": 4
        }
      ]
    },
    {
      "cell_type": "code",
      "metadata": {
        "colab": {
          "base_uri": "https://localhost:8080/"
        },
        "id": "-VgSq-JmYnEe",
        "outputId": "fbf95f7b-e857-4490-fbc3-0c571c380231"
      },
      "source": [
        "X = x.reshape(3,4)\n",
        "X"
      ],
      "execution_count": 5,
      "outputs": [
        {
          "output_type": "execute_result",
          "data": {
            "text/plain": [
              "tensor([[ 0,  1,  2,  3],\n",
              "        [ 4,  5,  6,  7],\n",
              "        [ 8,  9, 10, 11]])"
            ]
          },
          "metadata": {
            "tags": []
          },
          "execution_count": 5
        }
      ]
    },
    {
      "cell_type": "markdown",
      "metadata": {
        "id": "X5HRcfHIZyMx"
      },
      "source": [
        "pytorch 를 이용해서 array의 개수 및 모양을 다양하게 바꿀수 있다는 점을 알수 있다 -> data를 다루기에 매운 좋은 tool임을 알 수 있다. "
      ]
    },
    {
      "cell_type": "code",
      "metadata": {
        "colab": {
          "base_uri": "https://localhost:8080/"
        },
        "id": "77nmS2AkYnHU",
        "outputId": "0454f498-409b-49d8-f737-8275c66befe2"
      },
      "source": [
        "torch.zeros((2,3,4))"
      ],
      "execution_count": 6,
      "outputs": [
        {
          "output_type": "execute_result",
          "data": {
            "text/plain": [
              "tensor([[[0., 0., 0., 0.],\n",
              "         [0., 0., 0., 0.],\n",
              "         [0., 0., 0., 0.]],\n",
              "\n",
              "        [[0., 0., 0., 0.],\n",
              "         [0., 0., 0., 0.],\n",
              "         [0., 0., 0., 0.]]])"
            ]
          },
          "metadata": {
            "tags": []
          },
          "execution_count": 6
        }
      ]
    },
    {
      "cell_type": "code",
      "metadata": {
        "colab": {
          "base_uri": "https://localhost:8080/"
        },
        "id": "grKKhUxBaB1H",
        "outputId": "2ae35cf7-b466-4227-aef3-ed88d30524f2"
      },
      "source": [
        "torch.ones((2,3,4))"
      ],
      "execution_count": 7,
      "outputs": [
        {
          "output_type": "execute_result",
          "data": {
            "text/plain": [
              "tensor([[[1., 1., 1., 1.],\n",
              "         [1., 1., 1., 1.],\n",
              "         [1., 1., 1., 1.]],\n",
              "\n",
              "        [[1., 1., 1., 1.],\n",
              "         [1., 1., 1., 1.],\n",
              "         [1., 1., 1., 1.]]])"
            ]
          },
          "metadata": {
            "tags": []
          },
          "execution_count": 7
        }
      ]
    },
    {
      "cell_type": "code",
      "metadata": {
        "colab": {
          "base_uri": "https://localhost:8080/"
        },
        "id": "HT1SagNraB3Z",
        "outputId": "80903ea6-438e-4a5a-e5e1-e26ea8ba628a"
      },
      "source": [
        "torch.randn(3,4)"
      ],
      "execution_count": 8,
      "outputs": [
        {
          "output_type": "execute_result",
          "data": {
            "text/plain": [
              "tensor([[-1.3083, -1.4271, -1.2937,  1.5261],\n",
              "        [-0.4777,  0.6697,  0.4763,  0.2216],\n",
              "        [ 1.2091, -0.9399,  1.2855,  1.2817]])"
            ]
          },
          "metadata": {
            "tags": []
          },
          "execution_count": 8
        }
      ]
    },
    {
      "cell_type": "code",
      "metadata": {
        "id": "Zo3Rc5CdaB52",
        "colab": {
          "base_uri": "https://localhost:8080/"
        },
        "outputId": "6ea689d4-417f-4beb-fa96-e2ef1258a246"
      },
      "source": [
        "torch.tensor([[2, 1, 4, 3], [1, 2, 3, 4], [4, 3, 2, 1]])"
      ],
      "execution_count": 9,
      "outputs": [
        {
          "output_type": "execute_result",
          "data": {
            "text/plain": [
              "tensor([[2, 1, 4, 3],\n",
              "        [1, 2, 3, 4],\n",
              "        [4, 3, 2, 1]])"
            ]
          },
          "metadata": {
            "tags": []
          },
          "execution_count": 9
        }
      ]
    },
    {
      "cell_type": "markdown",
      "metadata": {
        "id": "r4NVfemXmKR1"
      },
      "source": [
        "initlization 할 때 사용하면 좋을 것같다. "
      ]
    },
    {
      "cell_type": "code",
      "metadata": {
        "id": "IdA3HvHHaB8L",
        "colab": {
          "base_uri": "https://localhost:8080/"
        },
        "outputId": "0a3341f6-c8a1-4906-c3e8-54bfaa224d28"
      },
      "source": [
        "x = torch.tensor([1.0, 2, 4, 8])\n",
        "y = torch.tensor([2, 2, 2, 2])\n",
        "x + y, x - y, x * y, x / y, x**y  "
      ],
      "execution_count": 10,
      "outputs": [
        {
          "output_type": "execute_result",
          "data": {
            "text/plain": [
              "(tensor([ 3.,  4.,  6., 10.]),\n",
              " tensor([-1.,  0.,  2.,  6.]),\n",
              " tensor([ 2.,  4.,  8., 16.]),\n",
              " tensor([0.5000, 1.0000, 2.0000, 4.0000]),\n",
              " tensor([ 1.,  4., 16., 64.]))"
            ]
          },
          "metadata": {
            "tags": []
          },
          "execution_count": 10
        }
      ]
    },
    {
      "cell_type": "code",
      "metadata": {
        "id": "rDYJtdLxaB-z",
        "colab": {
          "base_uri": "https://localhost:8080/"
        },
        "outputId": "c3ccaebc-a570-46b9-9281-897ad47dc5af"
      },
      "source": [
        "torch.exp(x)\n",
        "torch.cos(x)\n",
        "print(torch.cos(x**2 + 2* x))\n",
        "caculus = x **2 + 2 *x\n",
        "print(torch.cos(caculus))"
      ],
      "execution_count": 11,
      "outputs": [
        {
          "output_type": "stream",
          "text": [
            "tensor([-0.9900, -0.1455,  0.4242, -0.1104])\n",
            "tensor([-0.9900, -0.1455,  0.4242, -0.1104])\n"
          ],
          "name": "stdout"
        }
      ]
    },
    {
      "cell_type": "markdown",
      "metadata": {
        "id": "PeTljRDhnFqP"
      },
      "source": [
        "수식을 어떤 변수로 삼아서 저장할수 도 있고 다양한 계산을  차원 이 많은 텐서에대해 모두 적용할 수있다는점 이 중요하고 편리한 기능 같다.\n",
        " "
      ]
    },
    {
      "cell_type": "code",
      "metadata": {
        "id": "py9Ab0n3YnJk",
        "colab": {
          "base_uri": "https://localhost:8080/"
        },
        "outputId": "a6a9cc3d-a13c-41e4-b5da-f28e96373f1d"
      },
      "source": [
        "X = torch.arange(12,dtype=torch.float32).reshape((3,4))\n",
        "Y = torch.tensor([[2.0,1,4,3],[1,2,3,4],[4,3,2,1]])\n",
        "torch.cat((X,Y), dim = 0),torch.cat((X,Y),dim = 1)"
      ],
      "execution_count": 12,
      "outputs": [
        {
          "output_type": "execute_result",
          "data": {
            "text/plain": [
              "(tensor([[ 0.,  1.,  2.,  3.],\n",
              "         [ 4.,  5.,  6.,  7.],\n",
              "         [ 8.,  9., 10., 11.],\n",
              "         [ 2.,  1.,  4.,  3.],\n",
              "         [ 1.,  2.,  3.,  4.],\n",
              "         [ 4.,  3.,  2.,  1.]]),\n",
              " tensor([[ 0.,  1.,  2.,  3.,  2.,  1.,  4.,  3.],\n",
              "         [ 4.,  5.,  6.,  7.,  1.,  2.,  3.,  4.],\n",
              "         [ 8.,  9., 10., 11.,  4.,  3.,  2.,  1.]]))"
            ]
          },
          "metadata": {
            "tags": []
          },
          "execution_count": 12
        }
      ]
    },
    {
      "cell_type": "code",
      "metadata": {
        "colab": {
          "base_uri": "https://localhost:8080/"
        },
        "id": "p2IcFNbslPp1",
        "outputId": "6d239fbd-2f8b-40cb-aadf-7eb8c49e6cb4"
      },
      "source": [
        "X == Y"
      ],
      "execution_count": 13,
      "outputs": [
        {
          "output_type": "execute_result",
          "data": {
            "text/plain": [
              "tensor([[False,  True, False,  True],\n",
              "        [False, False, False, False],\n",
              "        [False, False, False, False]])"
            ]
          },
          "metadata": {
            "tags": []
          },
          "execution_count": 13
        }
      ]
    },
    {
      "cell_type": "code",
      "metadata": {
        "colab": {
          "base_uri": "https://localhost:8080/"
        },
        "id": "qJi3tGctlPzd",
        "outputId": "bb8603ab-af8c-43a1-8dbd-0c9ffbee1bf0"
      },
      "source": [
        "X.sum()"
      ],
      "execution_count": 14,
      "outputs": [
        {
          "output_type": "execute_result",
          "data": {
            "text/plain": [
              "tensor(66.)"
            ]
          },
          "metadata": {
            "tags": []
          },
          "execution_count": 14
        }
      ]
    },
    {
      "cell_type": "markdown",
      "metadata": {
        "id": "XYdQZK5boHN-"
      },
      "source": [
        "dim 을 기준으로 행차원 아니면 열차원에서 텐서들에대해 cat과 같은 연산을 할수 있다. 하지만 cat연산은 테스팅 결과 텐서들의 차원이 같아야 연산이 됨을 확인 할 수 있었다. "
      ]
    },
    {
      "cell_type": "code",
      "metadata": {
        "colab": {
          "base_uri": "https://localhost:8080/"
        },
        "id": "vS3diQaslP3K",
        "outputId": "2a7c46c5-ae11-410a-da98-5ac53b7f2501"
      },
      "source": [
        "a = torch.arange(3).reshape((3,1))\n",
        "b = torch.arange(2).reshape(1,2)\n",
        "a,b"
      ],
      "execution_count": 15,
      "outputs": [
        {
          "output_type": "execute_result",
          "data": {
            "text/plain": [
              "(tensor([[0],\n",
              "         [1],\n",
              "         [2]]), tensor([[0, 1]]))"
            ]
          },
          "metadata": {
            "tags": []
          },
          "execution_count": 15
        }
      ]
    },
    {
      "cell_type": "code",
      "metadata": {
        "colab": {
          "base_uri": "https://localhost:8080/"
        },
        "id": "t6HxVNpro12g",
        "outputId": "4f1486ec-963e-4f2d-c22d-a5d2de714e5b"
      },
      "source": [
        "a + b"
      ],
      "execution_count": 16,
      "outputs": [
        {
          "output_type": "execute_result",
          "data": {
            "text/plain": [
              "tensor([[0, 1],\n",
              "        [1, 2],\n",
              "        [2, 3]])"
            ]
          },
          "metadata": {
            "tags": []
          },
          "execution_count": 16
        }
      ]
    },
    {
      "cell_type": "markdown",
      "metadata": {
        "id": "D5PVlJ-2zNbb"
      },
      "source": [
        "broad casting을 파악할 수 있다. 수업시간의 내용을 상기시켜보면 브로드 캐스팅은 모양이 다른 텐서들의 계산을 도와주기도 하지만 의도 하지 않은 연산이 일어날 수 있음을 항상 주의 하라 하셨다."
      ]
    },
    {
      "cell_type": "code",
      "metadata": {
        "colab": {
          "base_uri": "https://localhost:8080/"
        },
        "id": "91TXymcHpJh3",
        "outputId": "1a5fb6b0-e623-4722-97ec-7d8ec44de909"
      },
      "source": [
        "X[-1],X[1:3]"
      ],
      "execution_count": 17,
      "outputs": [
        {
          "output_type": "execute_result",
          "data": {
            "text/plain": [
              "(tensor([ 8.,  9., 10., 11.]), tensor([[ 4.,  5.,  6.,  7.],\n",
              "         [ 8.,  9., 10., 11.]]))"
            ]
          },
          "metadata": {
            "tags": []
          },
          "execution_count": 17
        }
      ]
    },
    {
      "cell_type": "code",
      "metadata": {
        "colab": {
          "base_uri": "https://localhost:8080/"
        },
        "id": "sKNz_wzHpXJC",
        "outputId": "16d5c00c-d72f-45cb-d659-38eaafbd6adf"
      },
      "source": [
        "X[1,2] = 9 \n",
        "X"
      ],
      "execution_count": 18,
      "outputs": [
        {
          "output_type": "execute_result",
          "data": {
            "text/plain": [
              "tensor([[ 0.,  1.,  2.,  3.],\n",
              "        [ 4.,  5.,  9.,  7.],\n",
              "        [ 8.,  9., 10., 11.]])"
            ]
          },
          "metadata": {
            "tags": []
          },
          "execution_count": 18
        }
      ]
    },
    {
      "cell_type": "code",
      "metadata": {
        "colab": {
          "base_uri": "https://localhost:8080/"
        },
        "id": "jzXNq9OuplT2",
        "outputId": "19ac29d9-2cef-48d9-fb4c-d4bc44974fad"
      },
      "source": [
        "X[0:2,:] = 12\n",
        "X"
      ],
      "execution_count": 19,
      "outputs": [
        {
          "output_type": "execute_result",
          "data": {
            "text/plain": [
              "tensor([[12., 12., 12., 12.],\n",
              "        [12., 12., 12., 12.],\n",
              "        [ 8.,  9., 10., 11.]])"
            ]
          },
          "metadata": {
            "tags": []
          },
          "execution_count": 19
        }
      ]
    },
    {
      "cell_type": "markdown",
      "metadata": {
        "id": "Ya3FaRX6ptwc"
      },
      "source": [
        "파이썬 에서의 인덱싱과 슬라이싱을 다시 짚어볼 수 있었다.\n"
      ]
    },
    {
      "cell_type": "code",
      "metadata": {
        "colab": {
          "base_uri": "https://localhost:8080/"
        },
        "id": "6yLJKB3mprBV",
        "outputId": "4cba8aa3-06f7-4730-c262-0b10e8d8e7cf"
      },
      "source": [
        "before = id(Y)\n",
        "Y = Y + X\n",
        "id(Y) == before"
      ],
      "execution_count": 20,
      "outputs": [
        {
          "output_type": "execute_result",
          "data": {
            "text/plain": [
              "False"
            ]
          },
          "metadata": {
            "tags": []
          },
          "execution_count": 20
        }
      ]
    },
    {
      "cell_type": "code",
      "metadata": {
        "colab": {
          "base_uri": "https://localhost:8080/"
        },
        "id": "ySNQ83XJp4ZM",
        "outputId": "acdd23a9-69aa-49b9-96ae-935bb913cbb9"
      },
      "source": [
        "Z = torch.zeros_like(Y)\n",
        "print(Z)\n",
        "print(Y.shape)\n",
        "print('id(Z):',id(Z))\n",
        "Z[:] = X + Y\n",
        "print('id(Z):',id(Z))\n",
        "\n"
      ],
      "execution_count": 21,
      "outputs": [
        {
          "output_type": "stream",
          "text": [
            "tensor([[0., 0., 0., 0.],\n",
            "        [0., 0., 0., 0.],\n",
            "        [0., 0., 0., 0.]])\n",
            "torch.Size([3, 4])\n",
            "id(Z): 140208882702848\n",
            "id(Z): 140208882702848\n"
          ],
          "name": "stdout"
        }
      ]
    },
    {
      "cell_type": "code",
      "metadata": {
        "colab": {
          "base_uri": "https://localhost:8080/"
        },
        "id": "RKB8gZkkp4br",
        "outputId": "b8882242-d62d-46af-c1bc-76b95dd63784"
      },
      "source": [
        "before = id(X)\n",
        "X += Y\n",
        "id(X) == before"
      ],
      "execution_count": 22,
      "outputs": [
        {
          "output_type": "execute_result",
          "data": {
            "text/plain": [
              "True"
            ]
          },
          "metadata": {
            "tags": []
          },
          "execution_count": 22
        }
      ]
    },
    {
      "cell_type": "markdown",
      "metadata": {
        "id": "ph4Meal5wgjc"
      },
      "source": [
        "메모리를 절약할수 있는 방법을 파악할 수 있었다. \n",
        "그냥 변수를 X = X + Y로 하면 X+Y를 할당해주는 부분이 존재하는데 슬라이싱이나 += 같은 연산을 사용하면 메모리를 절약함을 알 수 있다.\n",
        "zeros_like는 아무래도 Y의 텐서를 shpae을 그대로 가져와 0으로 초기화해준것을 알 수 있었다.\n",
        "\n"
      ]
    },
    {
      "cell_type": "markdown",
      "metadata": {
        "id": "WOUN-vYRyVzx"
      },
      "source": [
        "---------Conversion to to other Python Objects-----------\n"
      ]
    },
    {
      "cell_type": "code",
      "metadata": {
        "colab": {
          "base_uri": "https://localhost:8080/"
        },
        "id": "FgEoFdcSp4gf",
        "outputId": "8d679081-5308-4299-f735-2dcb3a00178d"
      },
      "source": [
        "A = X.numpy()\n",
        "B = torch.tensor(A)\n",
        "type(A),type(B)"
      ],
      "execution_count": 23,
      "outputs": [
        {
          "output_type": "execute_result",
          "data": {
            "text/plain": [
              "(numpy.ndarray, torch.Tensor)"
            ]
          },
          "metadata": {
            "tags": []
          },
          "execution_count": 23
        }
      ]
    },
    {
      "cell_type": "code",
      "metadata": {
        "colab": {
          "base_uri": "https://localhost:8080/"
        },
        "id": "YPqoxgDep4in",
        "outputId": "568da87f-7f1f-48f1-ba55-a28c31fa8747"
      },
      "source": [
        "a = torch.tensor([3.5])\n",
        "a,a.item(),float(a),int(a)"
      ],
      "execution_count": 24,
      "outputs": [
        {
          "output_type": "execute_result",
          "data": {
            "text/plain": [
              "(tensor([3.5000]), 3.5, 3.5, 3)"
            ]
          },
          "metadata": {
            "tags": []
          },
          "execution_count": 24
        }
      ]
    },
    {
      "cell_type": "markdown",
      "metadata": {
        "id": "A49YEmb5y4mA"
      },
      "source": [
        "다양한 데이터를 텐서로 바꾸기 쉽다는것을 파악할수 있었다. \n",
        "위 와 같이 잘변경되면 Pandas나 다양한 툴로 가져온 데이터를 텐서로 manipulation을 쉽게 할 수 있다. "
      ]
    },
    {
      "cell_type": "markdown",
      "metadata": {
        "id": "Rrs8cF2a1URU"
      },
      "source": [
        "2.1 Data_processing"
      ]
    },
    {
      "cell_type": "code",
      "metadata": {
        "colab": {
          "base_uri": "https://localhost:8080/",
          "height": 35
        },
        "id": "2pcZr1jR3AKA",
        "outputId": "c8bdbd05-24b1-4d64-ff8d-1d0f03a7dd1f"
      },
      "source": [
        "pwd"
      ],
      "execution_count": 25,
      "outputs": [
        {
          "output_type": "execute_result",
          "data": {
            "application/vnd.google.colaboratory.intrinsic+json": {
              "type": "string"
            },
            "text/plain": [
              "'/content'"
            ]
          },
          "metadata": {
            "tags": []
          },
          "execution_count": 25
        }
      ]
    },
    {
      "cell_type": "code",
      "metadata": {
        "id": "BzqIujh4p4kn"
      },
      "source": [
        "import os\n",
        "\n",
        "os.makedirs(os.path.join('..','data'),exist_ok=True)\n",
        "data_file = os.path.join('..','data','house_tiny.csv')\n",
        "with open(data_file,'w') as f:\n",
        "    f.write('NumRooms,Alley,Price\\n')  # Column names\n",
        "    f.write('NA,Pave,127500\\n')  # Each row represents a data example\n",
        "    f.write('2,NA,106000\\n')\n",
        "    f.write('4,NA,178100\\n')\n",
        "    f.write('NA,NA,140000\\n')\n"
      ],
      "execution_count": 26,
      "outputs": []
    },
    {
      "cell_type": "code",
      "metadata": {
        "id": "d3_4QNLtp4mc",
        "colab": {
          "base_uri": "https://localhost:8080/"
        },
        "outputId": "83f6041e-d3cb-48fa-9857-c50af6427a7d"
      },
      "source": [
        "import pandas as pd\n",
        "\n",
        "data = pd.read_csv(data_file)\n",
        "print(data)"
      ],
      "execution_count": 27,
      "outputs": [
        {
          "output_type": "stream",
          "text": [
            "   NumRooms Alley   Price\n",
            "0       NaN  Pave  127500\n",
            "1       2.0   NaN  106000\n",
            "2       4.0   NaN  178100\n",
            "3       NaN   NaN  140000\n"
          ],
          "name": "stdout"
        }
      ]
    },
    {
      "cell_type": "markdown",
      "metadata": {
        "id": "Tl7pw73D3CaU"
      },
      "source": [
        "위의 pwd를 이용해 현재경로를 파악한 결과 /content를 알수 있다. \n",
        "\n",
        "os.makedirs(os.path.join('..','data'),exist_ok=True)\n",
        "data_file = os.path.join('..','data','house_tiny.csv') 는 현재경로 부모 경로에 있는 곳에 data라는 directory를 만들고 그안에 집의 정보를 저장할 house_tiny.csv를 저장한것을 알 수 있다. 그런뒤 판다스 모듈을 이용해 csv파일을 읽어 print한 것임을 알 수 있다."
      ]
    },
    {
      "cell_type": "markdown",
      "metadata": {
        "id": "-PMf7HIM5dlP"
      },
      "source": [
        "-----------Handling Missing data-----------"
      ]
    },
    {
      "cell_type": "code",
      "metadata": {
        "id": "QSgV29E1p4oq",
        "colab": {
          "base_uri": "https://localhost:8080/"
        },
        "outputId": "e9d00a21-1339-4f10-ff98-ca0a13d6b17b"
      },
      "source": [
        "inputs,outputs = data.iloc[:,0:2],data.iloc[:,2]\n",
        "inputs = inputs.fillna(inputs.mean())\n",
        "print(inputs)"
      ],
      "execution_count": 28,
      "outputs": [
        {
          "output_type": "stream",
          "text": [
            "   NumRooms Alley\n",
            "0       3.0  Pave\n",
            "1       2.0   NaN\n",
            "2       4.0   NaN\n",
            "3       3.0   NaN\n"
          ],
          "name": "stdout"
        }
      ]
    },
    {
      "cell_type": "code",
      "metadata": {
        "colab": {
          "base_uri": "https://localhost:8080/"
        },
        "id": "ddZ5d81_5ZiI",
        "outputId": "13d5e995-99a7-46ab-ca04-275a5c1fd1ed"
      },
      "source": [
        "inputs = pd.get_dummies(inputs,dummy_na= True)\n",
        "print(inputs)\n",
        "print(type(inputs.values))"
      ],
      "execution_count": 29,
      "outputs": [
        {
          "output_type": "stream",
          "text": [
            "   NumRooms  Alley_Pave  Alley_nan\n",
            "0       3.0           1          0\n",
            "1       2.0           0          1\n",
            "2       4.0           0          1\n",
            "3       3.0           0          1\n",
            "<class 'numpy.ndarray'>\n"
          ],
          "name": "stdout"
        }
      ]
    },
    {
      "cell_type": "markdown",
      "metadata": {
        "id": "-4POyWRw6tEA"
      },
      "source": [
        "pave 와 nan은 서로간의 관계성이 필요 없으므로 \n",
        "pandas의 get_dummies를 이용해 카테고리적이게 구분하는 코드이다."
      ]
    },
    {
      "cell_type": "markdown",
      "metadata": {
        "id": "HZLoqF4M67A8"
      },
      "source": [
        "---------Conversion to the Tensor Format-------"
      ]
    },
    {
      "cell_type": "code",
      "metadata": {
        "colab": {
          "base_uri": "https://localhost:8080/"
        },
        "id": "nkEzjUSS5ZkU",
        "outputId": "910e533f-b030-47f6-9fb2-ce107db553f0"
      },
      "source": [
        "import torch \n",
        "X,y = torch.tensor(inputs.values),torch.tensor(outputs.values)\n",
        "X,y"
      ],
      "execution_count": 30,
      "outputs": [
        {
          "output_type": "execute_result",
          "data": {
            "text/plain": [
              "(tensor([[3., 1., 0.],\n",
              "         [2., 0., 1.],\n",
              "         [4., 0., 1.],\n",
              "         [3., 0., 1.]], dtype=torch.float64),\n",
              " tensor([127500, 106000, 178100, 140000]))"
            ]
          },
          "metadata": {
            "tags": []
          },
          "execution_count": 30
        }
      ]
    },
    {
      "cell_type": "markdown",
      "metadata": {
        "id": "2LBcoUdD7dyR"
      },
      "source": [
        "위에서 inputs.values의 type을 프린트 해본 결과 \n",
        "numpy 의 ndarray형식임을 알 수 있었다. \n",
        "딥러닝을 pytorch 형식으로 해야하므로 numpy를 torch로 변경해주는것을 알 수 있다. \n",
        " "
      ]
    },
    {
      "cell_type": "markdown",
      "metadata": {
        "id": "_viOZDVA79Ux"
      },
      "source": [
        "2.3 linear-algebra\n"
      ]
    },
    {
      "cell_type": "code",
      "metadata": {
        "colab": {
          "base_uri": "https://localhost:8080/"
        },
        "id": "zNWpRKtr5Zme",
        "outputId": "4f41b8af-1191-4fd0-923c-ecf2958e5ac7"
      },
      "source": [
        "import torch\n",
        "x = torch.tensor([3.0])\n",
        "y = torch.tensor([2.0])\n",
        "\n",
        "x+y,x * y,x /y,x**y"
      ],
      "execution_count": 31,
      "outputs": [
        {
          "output_type": "execute_result",
          "data": {
            "text/plain": [
              "(tensor([5.]), tensor([6.]), tensor([1.5000]), tensor([9.]))"
            ]
          },
          "metadata": {
            "tags": []
          },
          "execution_count": 31
        }
      ]
    },
    {
      "cell_type": "markdown",
      "metadata": {
        "id": "FPpZOarY8kEg"
      },
      "source": [
        "하나의 숫자로 나타낼수있는 scalars 를 나타내는 부분  "
      ]
    },
    {
      "cell_type": "code",
      "metadata": {
        "colab": {
          "base_uri": "https://localhost:8080/"
        },
        "id": "ufIq0yJn5Zoy",
        "outputId": "2e401d7f-3782-4432-f134-3162e916aef5"
      },
      "source": [
        "x = torch.arange(4)\n",
        "x"
      ],
      "execution_count": 32,
      "outputs": [
        {
          "output_type": "execute_result",
          "data": {
            "text/plain": [
              "tensor([0, 1, 2, 3])"
            ]
          },
          "metadata": {
            "tags": []
          },
          "execution_count": 32
        }
      ]
    },
    {
      "cell_type": "code",
      "metadata": {
        "colab": {
          "base_uri": "https://localhost:8080/"
        },
        "id": "N225muxs5Zrb",
        "outputId": "9a92e8ef-6063-4ffb-b2fa-ef8ec89bce78"
      },
      "source": [
        "x[3]"
      ],
      "execution_count": 33,
      "outputs": [
        {
          "output_type": "execute_result",
          "data": {
            "text/plain": [
              "tensor(3)"
            ]
          },
          "metadata": {
            "tags": []
          },
          "execution_count": 33
        }
      ]
    },
    {
      "cell_type": "markdown",
      "metadata": {
        "id": "Cb4ZDzXbuPid"
      },
      "source": [
        "Vector에 대한 부분을 다음과 같이 적용 시킬수 있다."
      ]
    },
    {
      "cell_type": "code",
      "metadata": {
        "colab": {
          "base_uri": "https://localhost:8080/"
        },
        "id": "-k0oyk1G5ZtD",
        "outputId": "c2ded69f-1088-407f-dbae-e2fe68ef4010"
      },
      "source": [
        "len(x)"
      ],
      "execution_count": 34,
      "outputs": [
        {
          "output_type": "execute_result",
          "data": {
            "text/plain": [
              "4"
            ]
          },
          "metadata": {
            "tags": []
          },
          "execution_count": 34
        }
      ]
    },
    {
      "cell_type": "code",
      "metadata": {
        "colab": {
          "base_uri": "https://localhost:8080/"
        },
        "id": "snntbh5s5ZvV",
        "outputId": "d9d231aa-5091-4b2a-a8c8-b5f7a2bfb0b2"
      },
      "source": [
        "x.shape"
      ],
      "execution_count": 35,
      "outputs": [
        {
          "output_type": "execute_result",
          "data": {
            "text/plain": [
              "torch.Size([4])"
            ]
          },
          "metadata": {
            "tags": []
          },
          "execution_count": 35
        }
      ]
    },
    {
      "cell_type": "code",
      "metadata": {
        "colab": {
          "base_uri": "https://localhost:8080/"
        },
        "id": "vRZPxsUD5ZxE",
        "outputId": "5de48509-3e26-4d7b-8a28-1456c5f60c49"
      },
      "source": [
        "A = torch.arange(20).reshape(5,4)\n",
        "A"
      ],
      "execution_count": 36,
      "outputs": [
        {
          "output_type": "execute_result",
          "data": {
            "text/plain": [
              "tensor([[ 0,  1,  2,  3],\n",
              "        [ 4,  5,  6,  7],\n",
              "        [ 8,  9, 10, 11],\n",
              "        [12, 13, 14, 15],\n",
              "        [16, 17, 18, 19]])"
            ]
          },
          "metadata": {
            "tags": []
          },
          "execution_count": 36
        }
      ]
    },
    {
      "cell_type": "code",
      "metadata": {
        "colab": {
          "base_uri": "https://localhost:8080/"
        },
        "id": "ZxV9klj35ZzS",
        "outputId": "63ab6ac2-e041-4fe7-970a-08fa798b62fe"
      },
      "source": [
        "A.T"
      ],
      "execution_count": 37,
      "outputs": [
        {
          "output_type": "execute_result",
          "data": {
            "text/plain": [
              "tensor([[ 0,  4,  8, 12, 16],\n",
              "        [ 1,  5,  9, 13, 17],\n",
              "        [ 2,  6, 10, 14, 18],\n",
              "        [ 3,  7, 11, 15, 19]])"
            ]
          },
          "metadata": {
            "tags": []
          },
          "execution_count": 37
        }
      ]
    },
    {
      "cell_type": "code",
      "metadata": {
        "colab": {
          "base_uri": "https://localhost:8080/"
        },
        "id": "XFZpP1VY6-Ti",
        "outputId": "9336b2c4-9934-4096-beda-8e9c4294d868"
      },
      "source": [
        "B = torch.tensor([[1,2,3],[2,0,4],[3,4,5]])\n",
        "B"
      ],
      "execution_count": 38,
      "outputs": [
        {
          "output_type": "execute_result",
          "data": {
            "text/plain": [
              "tensor([[1, 2, 3],\n",
              "        [2, 0, 4],\n",
              "        [3, 4, 5]])"
            ]
          },
          "metadata": {
            "tags": []
          },
          "execution_count": 38
        }
      ]
    },
    {
      "cell_type": "code",
      "metadata": {
        "colab": {
          "base_uri": "https://localhost:8080/"
        },
        "id": "8NCDbtJp6-Vo",
        "outputId": "f8dafc7c-aafc-4794-b33c-61d15f4481fb"
      },
      "source": [
        "B == B.T"
      ],
      "execution_count": 39,
      "outputs": [
        {
          "output_type": "execute_result",
          "data": {
            "text/plain": [
              "tensor([[True, True, True],\n",
              "        [True, True, True],\n",
              "        [True, True, True]])"
            ]
          },
          "metadata": {
            "tags": []
          },
          "execution_count": 39
        }
      ]
    },
    {
      "cell_type": "markdown",
      "metadata": {
        "id": "aUpcElUIu5yJ"
      },
      "source": [
        "Matrices 와 tranpose연산을 확인 할 수 있었다."
      ]
    },
    {
      "cell_type": "code",
      "metadata": {
        "colab": {
          "base_uri": "https://localhost:8080/"
        },
        "id": "wW-wUtDbu5UY",
        "outputId": "5b1cd81f-f660-4013-df08-e25a3e626daf"
      },
      "source": [
        "X = torch.arange(24).reshape(2,3,4)\n",
        "X"
      ],
      "execution_count": 40,
      "outputs": [
        {
          "output_type": "execute_result",
          "data": {
            "text/plain": [
              "tensor([[[ 0,  1,  2,  3],\n",
              "         [ 4,  5,  6,  7],\n",
              "         [ 8,  9, 10, 11]],\n",
              "\n",
              "        [[12, 13, 14, 15],\n",
              "         [16, 17, 18, 19],\n",
              "         [20, 21, 22, 23]]])"
            ]
          },
          "metadata": {
            "tags": []
          },
          "execution_count": 40
        }
      ]
    },
    {
      "cell_type": "code",
      "metadata": {
        "colab": {
          "base_uri": "https://localhost:8080/"
        },
        "id": "iTg9RpqFvuW4",
        "outputId": "903bca34-d58c-4a38-9e0e-d2da82685254"
      },
      "source": [
        "A = torch.arange(20,dtype=torch.float32).reshape(5,4)\n",
        "B = A.clone()\n",
        "A, A+B"
      ],
      "execution_count": 41,
      "outputs": [
        {
          "output_type": "execute_result",
          "data": {
            "text/plain": [
              "(tensor([[ 0.,  1.,  2.,  3.],\n",
              "         [ 4.,  5.,  6.,  7.],\n",
              "         [ 8.,  9., 10., 11.],\n",
              "         [12., 13., 14., 15.],\n",
              "         [16., 17., 18., 19.]]), tensor([[ 0.,  2.,  4.,  6.],\n",
              "         [ 8., 10., 12., 14.],\n",
              "         [16., 18., 20., 22.],\n",
              "         [24., 26., 28., 30.],\n",
              "         [32., 34., 36., 38.]]))"
            ]
          },
          "metadata": {
            "tags": []
          },
          "execution_count": 41
        }
      ]
    },
    {
      "cell_type": "code",
      "metadata": {
        "colab": {
          "base_uri": "https://localhost:8080/"
        },
        "id": "izYlQIdJvuZt",
        "outputId": "2e55d558-c13d-4b1e-96e7-4a736f8b17d7"
      },
      "source": [
        "A * B"
      ],
      "execution_count": 42,
      "outputs": [
        {
          "output_type": "execute_result",
          "data": {
            "text/plain": [
              "tensor([[  0.,   1.,   4.,   9.],\n",
              "        [ 16.,  25.,  36.,  49.],\n",
              "        [ 64.,  81., 100., 121.],\n",
              "        [144., 169., 196., 225.],\n",
              "        [256., 289., 324., 361.]])"
            ]
          },
          "metadata": {
            "tags": []
          },
          "execution_count": 42
        }
      ]
    },
    {
      "cell_type": "code",
      "metadata": {
        "colab": {
          "base_uri": "https://localhost:8080/"
        },
        "id": "DDtfDQr7vucO",
        "outputId": "e4b00a47-fe8e-4e60-ca3b-fde99a7b3613"
      },
      "source": [
        "a = 2\n",
        "X = torch.arange(24).reshape(2,3,4)\n",
        "a + X, (a * X).shape"
      ],
      "execution_count": 43,
      "outputs": [
        {
          "output_type": "execute_result",
          "data": {
            "text/plain": [
              "(tensor([[[ 2,  3,  4,  5],\n",
              "          [ 6,  7,  8,  9],\n",
              "          [10, 11, 12, 13]],\n",
              " \n",
              "         [[14, 15, 16, 17],\n",
              "          [18, 19, 20, 21],\n",
              "          [22, 23, 24, 25]]]), torch.Size([2, 3, 4]))"
            ]
          },
          "metadata": {
            "tags": []
          },
          "execution_count": 43
        }
      ]
    },
    {
      "cell_type": "markdown",
      "metadata": {
        "id": "_CBVvEsFxoT6"
      },
      "source": [
        "주어진 텐서의 크기가 같을경우 결과적으로 연산의 결과는 같은 모양을 유지한다는것을 알 수 있으며 이렇게 size 같거나 broad casting이 적용 되었을때 elementwise multiplication을 Hadmard product라고 한다. "
      ]
    },
    {
      "cell_type": "markdown",
      "metadata": {
        "id": "vWmXaUmbyqRF"
      },
      "source": [
        "----------Reduction---------"
      ]
    },
    {
      "cell_type": "code",
      "metadata": {
        "colab": {
          "base_uri": "https://localhost:8080/"
        },
        "id": "5x5vMdE-vuem",
        "outputId": "f4fd4e35-ab7f-46d9-debe-ec66f115e7b3"
      },
      "source": [
        "x = torch.arange(4,dtype=torch.float32)\n",
        "x,x.sum()"
      ],
      "execution_count": 44,
      "outputs": [
        {
          "output_type": "execute_result",
          "data": {
            "text/plain": [
              "(tensor([0., 1., 2., 3.]), tensor(6.))"
            ]
          },
          "metadata": {
            "tags": []
          },
          "execution_count": 44
        }
      ]
    },
    {
      "cell_type": "code",
      "metadata": {
        "colab": {
          "base_uri": "https://localhost:8080/"
        },
        "id": "ikoqJzrvvugj",
        "outputId": "93cfa6e6-830e-4a3a-891d-b3ac26ae5c3b"
      },
      "source": [
        "print(A.shape)\n",
        "print(A.sum())\n",
        "print(A)\n"
      ],
      "execution_count": 45,
      "outputs": [
        {
          "output_type": "stream",
          "text": [
            "torch.Size([5, 4])\n",
            "tensor(190.)\n",
            "tensor([[ 0.,  1.,  2.,  3.],\n",
            "        [ 4.,  5.,  6.,  7.],\n",
            "        [ 8.,  9., 10., 11.],\n",
            "        [12., 13., 14., 15.],\n",
            "        [16., 17., 18., 19.]])\n"
          ],
          "name": "stdout"
        }
      ]
    },
    {
      "cell_type": "code",
      "metadata": {
        "colab": {
          "base_uri": "https://localhost:8080/"
        },
        "id": "H7jN3ssYvujU",
        "outputId": "27248773-db3c-4895-d8b4-0ac83d366ad6"
      },
      "source": [
        "A_sum_axis0=A.sum(axis=0)\n",
        "A_sum_axis0,A_sum_axis0.shape"
      ],
      "execution_count": 46,
      "outputs": [
        {
          "output_type": "execute_result",
          "data": {
            "text/plain": [
              "(tensor([40., 45., 50., 55.]), torch.Size([4]))"
            ]
          },
          "metadata": {
            "tags": []
          },
          "execution_count": 46
        }
      ]
    },
    {
      "cell_type": "code",
      "metadata": {
        "colab": {
          "base_uri": "https://localhost:8080/"
        },
        "id": "jXvfffbF6-XW",
        "outputId": "357ae292-d293-4d4c-ffb4-defa689013d0"
      },
      "source": [
        "A_sum_axis1 = A.sum(axis=1)\n",
        "A_sum_axis1 ,A_sum_axis1.shape"
      ],
      "execution_count": 47,
      "outputs": [
        {
          "output_type": "execute_result",
          "data": {
            "text/plain": [
              "(tensor([ 6., 22., 38., 54., 70.]), torch.Size([5]))"
            ]
          },
          "metadata": {
            "tags": []
          },
          "execution_count": 47
        }
      ]
    },
    {
      "cell_type": "code",
      "metadata": {
        "colab": {
          "base_uri": "https://localhost:8080/"
        },
        "id": "SKKXTahcxAWR",
        "outputId": "1e431bef-427a-42b4-c0a5-bc782ee21c11"
      },
      "source": [
        "A_sum_axis2 = A.sum(axis = -1)\n",
        "A_sum_axis2 ,A_sum_axis2.shape"
      ],
      "execution_count": 48,
      "outputs": [
        {
          "output_type": "execute_result",
          "data": {
            "text/plain": [
              "(tensor([ 6., 22., 38., 54., 70.]), torch.Size([5]))"
            ]
          },
          "metadata": {
            "tags": []
          },
          "execution_count": 48
        }
      ]
    },
    {
      "cell_type": "code",
      "metadata": {
        "colab": {
          "base_uri": "https://localhost:8080/"
        },
        "id": "iKrpjA9A1cm5",
        "outputId": "43a353ec-8cad-460c-9144-2652c8752611"
      },
      "source": [
        " print(A.sum(axis=[0,1]))\n",
        " print(A.sum(axis=[0,-1]))"
      ],
      "execution_count": 49,
      "outputs": [
        {
          "output_type": "stream",
          "text": [
            "tensor(190.)\n",
            "tensor(190.)\n"
          ],
          "name": "stdout"
        }
      ]
    },
    {
      "cell_type": "markdown",
      "metadata": {
        "id": "LKlOeYGf0gAH"
      },
      "source": [
        "Reduction은 dimension을 줄인다고 볼 수 있으며 위의 코드는 어떤 행 또는 열을 기준으로 덧셈으로 압축을 했다 볼 수 있다. 첫번쨰 차원 행 두번째는 열이므로 -1은 마지막 차원 즉 열을 가리킨다고 볼 수 있다."
      ]
    },
    {
      "cell_type": "code",
      "metadata": {
        "colab": {
          "base_uri": "https://localhost:8080/"
        },
        "id": "l-7j0xjzxAZD",
        "outputId": "a6547d4f-6657-42cb-f47d-dc4dab61aa52"
      },
      "source": [
        "A.mean(),A.sum()/ A.numel()"
      ],
      "execution_count": 50,
      "outputs": [
        {
          "output_type": "execute_result",
          "data": {
            "text/plain": [
              "(tensor(9.5000), tensor(9.5000))"
            ]
          },
          "metadata": {
            "tags": []
          },
          "execution_count": 50
        }
      ]
    },
    {
      "cell_type": "code",
      "metadata": {
        "colab": {
          "base_uri": "https://localhost:8080/"
        },
        "id": "xgOQe0nkxAbq",
        "outputId": "f364fc84-d52e-4e2e-be95-b73ce78befca"
      },
      "source": [
        "A.mean(axis=0),A.sum(axis=0)/ A.shape[0]"
      ],
      "execution_count": 51,
      "outputs": [
        {
          "output_type": "execute_result",
          "data": {
            "text/plain": [
              "(tensor([ 8.,  9., 10., 11.]), tensor([ 8.,  9., 10., 11.]))"
            ]
          },
          "metadata": {
            "tags": []
          },
          "execution_count": 51
        }
      ]
    },
    {
      "cell_type": "markdown",
      "metadata": {
        "id": "_6XR19vn42UC"
      },
      "source": [
        "Reduction의 방벙중 mean 애 관해서 일어나는 원리가 적혀 있다고 볼 수 있다."
      ]
    },
    {
      "cell_type": "code",
      "metadata": {
        "colab": {
          "base_uri": "https://localhost:8080/"
        },
        "id": "Z-NBGwJ_xAdv",
        "outputId": "45e620f7-daf8-422a-fda6-cecd93588cdc"
      },
      "source": [
        "sum_A = A.sum(axis=1,keepdims= True)\n",
        "sum_A"
      ],
      "execution_count": 52,
      "outputs": [
        {
          "output_type": "execute_result",
          "data": {
            "text/plain": [
              "tensor([[ 6.],\n",
              "        [22.],\n",
              "        [38.],\n",
              "        [54.],\n",
              "        [70.]])"
            ]
          },
          "metadata": {
            "tags": []
          },
          "execution_count": 52
        }
      ]
    },
    {
      "cell_type": "code",
      "metadata": {
        "colab": {
          "base_uri": "https://localhost:8080/"
        },
        "id": "m2j1xCw26-Zk",
        "outputId": "7fdc4d49-042e-4b39-a0b4-d314ea055e48"
      },
      "source": [
        "A /sum_A"
      ],
      "execution_count": 53,
      "outputs": [
        {
          "output_type": "execute_result",
          "data": {
            "text/plain": [
              "tensor([[0.0000, 0.1667, 0.3333, 0.5000],\n",
              "        [0.1818, 0.2273, 0.2727, 0.3182],\n",
              "        [0.2105, 0.2368, 0.2632, 0.2895],\n",
              "        [0.2222, 0.2407, 0.2593, 0.2778],\n",
              "        [0.2286, 0.2429, 0.2571, 0.2714]])"
            ]
          },
          "metadata": {
            "tags": []
          },
          "execution_count": 53
        }
      ]
    },
    {
      "cell_type": "code",
      "metadata": {
        "colab": {
          "base_uri": "https://localhost:8080/"
        },
        "id": "tfX6dH2H6-bl",
        "outputId": "ed021e67-27d7-47e6-f975-f2939d555503"
      },
      "source": [
        "A.cumsum(axis =0)"
      ],
      "execution_count": 54,
      "outputs": [
        {
          "output_type": "execute_result",
          "data": {
            "text/plain": [
              "tensor([[ 0.,  1.,  2.,  3.],\n",
              "        [ 4.,  6.,  8., 10.],\n",
              "        [12., 15., 18., 21.],\n",
              "        [24., 28., 32., 36.],\n",
              "        [40., 45., 50., 55.]])"
            ]
          },
          "metadata": {
            "tags": []
          },
          "execution_count": 54
        }
      ]
    },
    {
      "cell_type": "markdown",
      "metadata": {
        "id": "PTb-1P475Ijp"
      },
      "source": [
        "때떄로 축이 변경하고싶지 않은 상태로 사용하고 싶을 수 있다. 그럴떄마다 다음과 같이 keepims를 사용하고 \n",
        "축기준 누적의 합을 shape변경없이 기록하고 싶을때 다음과 같이 cumsum을 이용할 수 있다. "
      ]
    },
    {
      "cell_type": "markdown",
      "metadata": {
        "id": "KWWyJBXj5jMo"
      },
      "source": [
        "---------------Dot product----------------"
      ]
    },
    {
      "cell_type": "code",
      "metadata": {
        "colab": {
          "base_uri": "https://localhost:8080/"
        },
        "id": "TExKISL76-d-",
        "outputId": "6eacd185-dcfc-4cbf-97e8-0d0122f7a6d7"
      },
      "source": [
        "y = torch.ones(4,dtype=torch.float32)\n",
        "x,y,torch.dot(x,y)"
      ],
      "execution_count": 55,
      "outputs": [
        {
          "output_type": "execute_result",
          "data": {
            "text/plain": [
              "(tensor([0., 1., 2., 3.]), tensor([1., 1., 1., 1.]), tensor(6.))"
            ]
          },
          "metadata": {
            "tags": []
          },
          "execution_count": 55
        }
      ]
    },
    {
      "cell_type": "code",
      "metadata": {
        "colab": {
          "base_uri": "https://localhost:8080/"
        },
        "id": "wsy0TmOnLFlj",
        "outputId": "030b8fff-b595-40cb-864b-5620e2eae092"
      },
      "source": [
        "torch.sum(x * y)"
      ],
      "execution_count": 56,
      "outputs": [
        {
          "output_type": "execute_result",
          "data": {
            "text/plain": [
              "tensor(6.)"
            ]
          },
          "metadata": {
            "tags": []
          },
          "execution_count": 56
        }
      ]
    },
    {
      "cell_type": "markdown",
      "metadata": {
        "id": "-myP5RhCMS16"
      },
      "source": [
        "여기서는 내적을 한다고 볼 수 있으며 값의 계산된 결과는 scalar나온것을 확인 할 수 있다. "
      ]
    },
    {
      "cell_type": "markdown",
      "metadata": {
        "id": "bN6AWQviMLi9"
      },
      "source": [
        "--------Matrix-Vector Products----------"
      ]
    },
    {
      "cell_type": "code",
      "metadata": {
        "colab": {
          "base_uri": "https://localhost:8080/"
        },
        "id": "mkGV2OWG0glF",
        "outputId": "7f3cd30f-7aac-4330-b154-e5db3c4b7171"
      },
      "source": [
        "A.shape,x.shape,torch.mv(A,x)"
      ],
      "execution_count": 57,
      "outputs": [
        {
          "output_type": "execute_result",
          "data": {
            "text/plain": [
              "(torch.Size([5, 4]), torch.Size([4]), tensor([ 14.,  38.,  62.,  86., 110.]))"
            ]
          },
          "metadata": {
            "tags": []
          },
          "execution_count": 57
        }
      ]
    },
    {
      "cell_type": "code",
      "metadata": {
        "colab": {
          "base_uri": "https://localhost:8080/"
        },
        "id": "7DWD8Axs0gnn",
        "outputId": "9ecff0f4-bc21-4675-a948-ca9d7551945e"
      },
      "source": [
        "print(A)\n",
        "B = torch.ones(4,3)\n",
        "print(B)\n",
        "torch.mm(A,B)"
      ],
      "execution_count": 58,
      "outputs": [
        {
          "output_type": "stream",
          "text": [
            "tensor([[ 0.,  1.,  2.,  3.],\n",
            "        [ 4.,  5.,  6.,  7.],\n",
            "        [ 8.,  9., 10., 11.],\n",
            "        [12., 13., 14., 15.],\n",
            "        [16., 17., 18., 19.]])\n",
            "tensor([[1., 1., 1.],\n",
            "        [1., 1., 1.],\n",
            "        [1., 1., 1.],\n",
            "        [1., 1., 1.]])\n"
          ],
          "name": "stdout"
        },
        {
          "output_type": "execute_result",
          "data": {
            "text/plain": [
              "tensor([[ 6.,  6.,  6.],\n",
              "        [22., 22., 22.],\n",
              "        [38., 38., 38.],\n",
              "        [54., 54., 54.],\n",
              "        [70., 70., 70.]])"
            ]
          },
          "metadata": {
            "tags": []
          },
          "execution_count": 58
        }
      ]
    },
    {
      "cell_type": "markdown",
      "metadata": {
        "id": "dMg5qDeDNT9o"
      },
      "source": [
        "행렬끼리의 곱셈 연산을 확인할 수 있으며 행렬과 벡턴 연산 또한 다음과 같은 코드를 확인 할 수 있다."
      ]
    },
    {
      "cell_type": "markdown",
      "metadata": {
        "id": "bXArXVNMObNb"
      },
      "source": [
        "-----------Norms------------"
      ]
    },
    {
      "cell_type": "code",
      "metadata": {
        "colab": {
          "base_uri": "https://localhost:8080/"
        },
        "id": "Jq3NfgMH0gre",
        "outputId": "78ee6d12-87ea-4af9-a521-03750b120ef5"
      },
      "source": [
        "u = torch.tensor([3.0,-4.0])\n",
        "torch.norm(u)"
      ],
      "execution_count": 59,
      "outputs": [
        {
          "output_type": "execute_result",
          "data": {
            "text/plain": [
              "tensor(5.)"
            ]
          },
          "metadata": {
            "tags": []
          },
          "execution_count": 59
        }
      ]
    },
    {
      "cell_type": "code",
      "metadata": {
        "colab": {
          "base_uri": "https://localhost:8080/"
        },
        "id": "oM7e6tvDOj33",
        "outputId": "88409587-3935-4770-9127-ce80b036108d"
      },
      "source": [
        "torch.abs(u).sum()"
      ],
      "execution_count": 60,
      "outputs": [
        {
          "output_type": "execute_result",
          "data": {
            "text/plain": [
              "tensor(7.)"
            ]
          },
          "metadata": {
            "tags": []
          },
          "execution_count": 60
        }
      ]
    },
    {
      "cell_type": "code",
      "metadata": {
        "colab": {
          "base_uri": "https://localhost:8080/"
        },
        "id": "1KlmH1qQOj6C",
        "outputId": "1b454189-e7fe-4a06-ba92-cca1bcfe777c"
      },
      "source": [
        "torch.norm(torch.ones((4,9)))"
      ],
      "execution_count": 61,
      "outputs": [
        {
          "output_type": "execute_result",
          "data": {
            "text/plain": [
              "tensor(6.)"
            ]
          },
          "metadata": {
            "tags": []
          },
          "execution_count": 61
        }
      ]
    },
    {
      "cell_type": "markdown",
      "metadata": {
        "id": "z0xMkngpP2h9"
      },
      "source": [
        "L1 norm 과 L2 norm을 수업시간에 배웠던부분을 구현으로 바꾼것이며 3번째 norm은 Frobenius norm을 표현한 부분이며 모든 벡터로 하는 norm attribute를 충족하는것을 알 수 있다. \n"
      ]
    },
    {
      "cell_type": "markdown",
      "metadata": {
        "id": "4lHRxJPHRFQN"
      },
      "source": [
        "2.4 Caculus"
      ]
    },
    {
      "cell_type": "code",
      "metadata": {
        "colab": {
          "base_uri": "https://localhost:8080/"
        },
        "id": "CTkQLLgAOj8L",
        "outputId": "830bb7de-9bbf-4f41-97a2-a4fd218a48d4"
      },
      "source": [
        "!pip install d2l==0.16.2"
      ],
      "execution_count": 62,
      "outputs": [
        {
          "output_type": "stream",
          "text": [
            "Requirement already satisfied: d2l==0.16.2 in /usr/local/lib/python3.7/dist-packages (0.16.2)\n",
            "Requirement already satisfied: requests in /usr/local/lib/python3.7/dist-packages (from d2l==0.16.2) (2.23.0)\n",
            "Requirement already satisfied: numpy in /usr/local/lib/python3.7/dist-packages (from d2l==0.16.2) (1.19.5)\n",
            "Requirement already satisfied: pandas in /usr/local/lib/python3.7/dist-packages (from d2l==0.16.2) (1.1.5)\n",
            "Requirement already satisfied: matplotlib in /usr/local/lib/python3.7/dist-packages (from d2l==0.16.2) (3.2.2)\n",
            "Requirement already satisfied: jupyter in /usr/local/lib/python3.7/dist-packages (from d2l==0.16.2) (1.0.0)\n",
            "Requirement already satisfied: idna<3,>=2.5 in /usr/local/lib/python3.7/dist-packages (from requests->d2l==0.16.2) (2.10)\n",
            "Requirement already satisfied: certifi>=2017.4.17 in /usr/local/lib/python3.7/dist-packages (from requests->d2l==0.16.2) (2020.12.5)\n",
            "Requirement already satisfied: urllib3!=1.25.0,!=1.25.1,<1.26,>=1.21.1 in /usr/local/lib/python3.7/dist-packages (from requests->d2l==0.16.2) (1.24.3)\n",
            "Requirement already satisfied: chardet<4,>=3.0.2 in /usr/local/lib/python3.7/dist-packages (from requests->d2l==0.16.2) (3.0.4)\n",
            "Requirement already satisfied: pytz>=2017.2 in /usr/local/lib/python3.7/dist-packages (from pandas->d2l==0.16.2) (2018.9)\n",
            "Requirement already satisfied: python-dateutil>=2.7.3 in /usr/local/lib/python3.7/dist-packages (from pandas->d2l==0.16.2) (2.8.1)\n",
            "Requirement already satisfied: kiwisolver>=1.0.1 in /usr/local/lib/python3.7/dist-packages (from matplotlib->d2l==0.16.2) (1.3.1)\n",
            "Requirement already satisfied: cycler>=0.10 in /usr/local/lib/python3.7/dist-packages (from matplotlib->d2l==0.16.2) (0.10.0)\n",
            "Requirement already satisfied: pyparsing!=2.0.4,!=2.1.2,!=2.1.6,>=2.0.1 in /usr/local/lib/python3.7/dist-packages (from matplotlib->d2l==0.16.2) (2.4.7)\n",
            "Requirement already satisfied: jupyter-console in /usr/local/lib/python3.7/dist-packages (from jupyter->d2l==0.16.2) (5.2.0)\n",
            "Requirement already satisfied: ipywidgets in /usr/local/lib/python3.7/dist-packages (from jupyter->d2l==0.16.2) (7.6.3)\n",
            "Requirement already satisfied: ipykernel in /usr/local/lib/python3.7/dist-packages (from jupyter->d2l==0.16.2) (4.10.1)\n",
            "Requirement already satisfied: nbconvert in /usr/local/lib/python3.7/dist-packages (from jupyter->d2l==0.16.2) (5.6.1)\n",
            "Requirement already satisfied: qtconsole in /usr/local/lib/python3.7/dist-packages (from jupyter->d2l==0.16.2) (5.0.3)\n",
            "Requirement already satisfied: notebook in /usr/local/lib/python3.7/dist-packages (from jupyter->d2l==0.16.2) (5.3.1)\n",
            "Requirement already satisfied: six>=1.5 in /usr/local/lib/python3.7/dist-packages (from python-dateutil>=2.7.3->pandas->d2l==0.16.2) (1.15.0)\n",
            "Requirement already satisfied: ipython in /usr/local/lib/python3.7/dist-packages (from jupyter-console->jupyter->d2l==0.16.2) (5.5.0)\n",
            "Requirement already satisfied: pygments in /usr/local/lib/python3.7/dist-packages (from jupyter-console->jupyter->d2l==0.16.2) (2.6.1)\n",
            "Requirement already satisfied: prompt-toolkit<2.0.0,>=1.0.0 in /usr/local/lib/python3.7/dist-packages (from jupyter-console->jupyter->d2l==0.16.2) (1.0.18)\n",
            "Requirement already satisfied: jupyter-client in /usr/local/lib/python3.7/dist-packages (from jupyter-console->jupyter->d2l==0.16.2) (5.3.5)\n",
            "Requirement already satisfied: jupyterlab-widgets>=1.0.0; python_version >= \"3.6\" in /usr/local/lib/python3.7/dist-packages (from ipywidgets->jupyter->d2l==0.16.2) (1.0.0)\n",
            "Requirement already satisfied: widgetsnbextension~=3.5.0 in /usr/local/lib/python3.7/dist-packages (from ipywidgets->jupyter->d2l==0.16.2) (3.5.1)\n",
            "Requirement already satisfied: traitlets>=4.3.1 in /usr/local/lib/python3.7/dist-packages (from ipywidgets->jupyter->d2l==0.16.2) (5.0.5)\n",
            "Requirement already satisfied: nbformat>=4.2.0 in /usr/local/lib/python3.7/dist-packages (from ipywidgets->jupyter->d2l==0.16.2) (5.1.2)\n",
            "Requirement already satisfied: tornado>=4.0 in /usr/local/lib/python3.7/dist-packages (from ipykernel->jupyter->d2l==0.16.2) (5.1.1)\n",
            "Requirement already satisfied: jupyter-core in /usr/local/lib/python3.7/dist-packages (from nbconvert->jupyter->d2l==0.16.2) (4.7.1)\n",
            "Requirement already satisfied: bleach in /usr/local/lib/python3.7/dist-packages (from nbconvert->jupyter->d2l==0.16.2) (3.3.0)\n",
            "Requirement already satisfied: testpath in /usr/local/lib/python3.7/dist-packages (from nbconvert->jupyter->d2l==0.16.2) (0.4.4)\n",
            "Requirement already satisfied: mistune<2,>=0.8.1 in /usr/local/lib/python3.7/dist-packages (from nbconvert->jupyter->d2l==0.16.2) (0.8.4)\n",
            "Requirement already satisfied: jinja2>=2.4 in /usr/local/lib/python3.7/dist-packages (from nbconvert->jupyter->d2l==0.16.2) (2.11.3)\n",
            "Requirement already satisfied: defusedxml in /usr/local/lib/python3.7/dist-packages (from nbconvert->jupyter->d2l==0.16.2) (0.7.1)\n",
            "Requirement already satisfied: pandocfilters>=1.4.1 in /usr/local/lib/python3.7/dist-packages (from nbconvert->jupyter->d2l==0.16.2) (1.4.3)\n",
            "Requirement already satisfied: entrypoints>=0.2.2 in /usr/local/lib/python3.7/dist-packages (from nbconvert->jupyter->d2l==0.16.2) (0.3)\n",
            "Requirement already satisfied: ipython-genutils in /usr/local/lib/python3.7/dist-packages (from qtconsole->jupyter->d2l==0.16.2) (0.2.0)\n",
            "Requirement already satisfied: pyzmq>=17.1 in /usr/local/lib/python3.7/dist-packages (from qtconsole->jupyter->d2l==0.16.2) (22.0.3)\n",
            "Requirement already satisfied: qtpy in /usr/local/lib/python3.7/dist-packages (from qtconsole->jupyter->d2l==0.16.2) (1.9.0)\n",
            "Requirement already satisfied: Send2Trash in /usr/local/lib/python3.7/dist-packages (from notebook->jupyter->d2l==0.16.2) (1.5.0)\n",
            "Requirement already satisfied: terminado>=0.8.1 in /usr/local/lib/python3.7/dist-packages (from notebook->jupyter->d2l==0.16.2) (0.9.2)\n",
            "Requirement already satisfied: setuptools>=18.5 in /usr/local/lib/python3.7/dist-packages (from ipython->jupyter-console->jupyter->d2l==0.16.2) (54.1.2)\n",
            "Requirement already satisfied: pickleshare in /usr/local/lib/python3.7/dist-packages (from ipython->jupyter-console->jupyter->d2l==0.16.2) (0.7.5)\n",
            "Requirement already satisfied: simplegeneric>0.8 in /usr/local/lib/python3.7/dist-packages (from ipython->jupyter-console->jupyter->d2l==0.16.2) (0.8.1)\n",
            "Requirement already satisfied: decorator in /usr/local/lib/python3.7/dist-packages (from ipython->jupyter-console->jupyter->d2l==0.16.2) (4.4.2)\n",
            "Requirement already satisfied: pexpect; sys_platform != \"win32\" in /usr/local/lib/python3.7/dist-packages (from ipython->jupyter-console->jupyter->d2l==0.16.2) (4.8.0)\n",
            "Requirement already satisfied: wcwidth in /usr/local/lib/python3.7/dist-packages (from prompt-toolkit<2.0.0,>=1.0.0->jupyter-console->jupyter->d2l==0.16.2) (0.2.5)\n",
            "Requirement already satisfied: jsonschema!=2.5.0,>=2.4 in /usr/local/lib/python3.7/dist-packages (from nbformat>=4.2.0->ipywidgets->jupyter->d2l==0.16.2) (2.6.0)\n",
            "Requirement already satisfied: packaging in /usr/local/lib/python3.7/dist-packages (from bleach->nbconvert->jupyter->d2l==0.16.2) (20.9)\n",
            "Requirement already satisfied: webencodings in /usr/local/lib/python3.7/dist-packages (from bleach->nbconvert->jupyter->d2l==0.16.2) (0.5.1)\n",
            "Requirement already satisfied: MarkupSafe>=0.23 in /usr/local/lib/python3.7/dist-packages (from jinja2>=2.4->nbconvert->jupyter->d2l==0.16.2) (1.1.1)\n",
            "Requirement already satisfied: ptyprocess; os_name != \"nt\" in /usr/local/lib/python3.7/dist-packages (from terminado>=0.8.1->notebook->jupyter->d2l==0.16.2) (0.7.0)\n"
          ],
          "name": "stdout"
        }
      ]
    },
    {
      "cell_type": "code",
      "metadata": {
        "id": "3HmVAydIOj91"
      },
      "source": [
        "%matplotlib inline\n",
        "import numpy as np\n",
        "from IPython import display\n",
        "from d2l import torch as d2l \n",
        "\n",
        "def f(x):\n",
        "    return 3 * x ** 2 - 4 * x"
      ],
      "execution_count": 63,
      "outputs": []
    },
    {
      "cell_type": "markdown",
      "metadata": {
        "id": "gqL6ualnSe4n"
      },
      "source": [
        "%matplotlib inline 이란 IPython에서 제공하는 Rich output애 대한 표현 방식이다.\n",
        "여기서 Richoutput이란 그림,소리,애니메이션과 같은 결과물들을 말한다. 첫번째 줄에서  %matplotlib inline의 역할은 notebook을 실행한 브라우저에서 바로그림을 볼 수 있개 해준다."
      ]
    },
    {
      "cell_type": "code",
      "metadata": {
        "colab": {
          "base_uri": "https://localhost:8080/"
        },
        "id": "qIGk1lcW0gst",
        "outputId": "53a752b1-c497-48f4-dffe-baf222c6ca3e"
      },
      "source": [
        "def numerical_lim(f,x,h):\n",
        "    return (f(x+h) - f(x)) / h\n",
        "\n",
        "h = 0.1\n",
        "for i in range(5):\n",
        "    print(f'h={h:5f}, numerical limit={numerical_lim(f,1,h):.5f}')\n",
        "    h *= 0.1\n",
        "    \n"
      ],
      "execution_count": 64,
      "outputs": [
        {
          "output_type": "stream",
          "text": [
            "h=0.100000, numerical limit=2.30000\n",
            "h=0.010000, numerical limit=2.03000\n",
            "h=0.001000, numerical limit=2.00300\n",
            "h=0.000100, numerical limit=2.00030\n",
            "h=0.000010, numerical limit=2.00003\n"
          ],
          "name": "stdout"
        }
      ]
    },
    {
      "cell_type": "markdown",
      "metadata": {
        "id": "iSid8KisVyBv"
      },
      "source": [
        "x 값의 1이라 가정하고 실제로 미분식을 대입하여 \n",
        "h가 0에 가까워질떄 미분의 결과가 2에가까워지는것을 코드로 구현한 부분임을 확인 할 수 있다. "
      ]
    },
    {
      "cell_type": "code",
      "metadata": {
        "id": "OjgcSRuz0gvC"
      },
      "source": [
        "def use_svg_display(): #@save\n",
        "    display.set_matplotlib_formats('svg')"
      ],
      "execution_count": 65,
      "outputs": []
    },
    {
      "cell_type": "code",
      "metadata": {
        "id": "wBlXSDkB0gxz"
      },
      "source": [
        "def set_figsize(figszie=(3.5,2.5)):\n",
        "    use_svg_display()\n",
        "    d2l.plt.rcParams['figure.figsize'] = figszie"
      ],
      "execution_count": 66,
      "outputs": []
    },
    {
      "cell_type": "markdown",
      "metadata": {
        "id": "2XWlLYd5ZRBF"
      },
      "source": [
        "svg format을 보여주는 파일 형식으로 지정해주며 \n",
        "set figsize를 설정해 축의 properties를 rcParams를 이용해 차트의 크기를 지정해주려는 코드라고 볼 수 있다.\n"
      ]
    },
    {
      "cell_type": "code",
      "metadata": {
        "id": "Z6CMJC6y0gzw"
      },
      "source": [
        "def set_axes(axes,xlabel,ylabel,xlim,ylim,xscale,yscale,legend):\n",
        "    axes.set_xlabel(xlabel)\n",
        "    axes.set_ylabel(ylabel)\n",
        "    axes.set_xscale(xscale)\n",
        "    axes.set_yscale(yscale)\n",
        "    axes.set_xlim(xlim)\n",
        "    axes.set_ylim(ylim)\n",
        "    if legend:\n",
        "        axes.legend(legend) #범례 라고 하며 그래프의 요소를 설명하는 영역이다.\n",
        "        #matplotlib 라이브러리에는 축에 범례를 배치하는데 사용되는 legend()라는 함수가 있다.\n",
        "        #legend의 Loc속성은 범례의 위치를 지정하는데 사용되며 기본값은 왼쪽위 이다.\n",
        "    axes.grid() #격자"
      ],
      "execution_count": 67,
      "outputs": []
    },
    {
      "cell_type": "code",
      "metadata": {
        "id": "SuOTA5M50g2H"
      },
      "source": [
        "def plot(X, Y=None, xlabel=None, ylabel=None, legend=None, xlim=None,\n",
        "         ylim=None, xscale='linear', yscale='linear',\n",
        "         fmts=('-', 'm--', 'g-.', 'r:'), figsize=(3.5, 2.5), axes=None):\n",
        "    \"\"\"Plot data points.\"\"\"\n",
        "    if legend is None:\n",
        "        legend = []\n",
        "\n",
        "    set_figsize(figsize)\n",
        "    axes = axes if axes else d2l.plt.gca()\n",
        "\n",
        "    def has_one_axis(X):\n",
        "        return (hasattr(X, \"ndim\") and X.ndim == 1 or\n",
        "                isinstance(X, list) and not hasattr(X[0], \"__len__\"))\n",
        "    if has_one_axis(X):\n",
        "        X = [X]\n",
        "    if Y is None:\n",
        "        X, Y = [[]] * len(X), X\n",
        "    elif has_one_axis(Y):\n",
        "        Y = [Y]\n",
        "    if len(X) != len(Y):\n",
        "        X = X * len(Y)\n",
        "    axes.cla()\n",
        "    for x, y, fmt in zip(X, Y, fmts):\n",
        "        if len(x):\n",
        "            axes.plot(x, y, fmt)\n",
        "        else:\n",
        "            axes.plot(y, fmt)\n",
        "    set_axes(axes, xlabel, ylabel, xlim, ylim, xscale, yscale, legend)"
      ],
      "execution_count": 68,
      "outputs": []
    },
    {
      "cell_type": "code",
      "metadata": {
        "colab": {
          "base_uri": "https://localhost:8080/",
          "height": 262
        },
        "id": "zHY2uX716-f3",
        "outputId": "ab119eb6-d38a-417a-a285-a09d818d8268"
      },
      "source": [
        "x = np.arange(0, 3, 0.1)\n",
        "plot(x, [f(x), 2 * x - 3], 'x', 'f(x)', legend=['f(x)', 'Tangent line (x=1)'])"
      ],
      "execution_count": 69,
      "outputs": [
        {
          "output_type": "display_data",
          "data": {
            "text/plain": [
              "<Figure size 252x180 with 1 Axes>"
            ],
            "image/svg+xml": "<?xml version=\"1.0\" encoding=\"utf-8\" standalone=\"no\"?>\n<!DOCTYPE svg PUBLIC \"-//W3C//DTD SVG 1.1//EN\"\n  \"http://www.w3.org/Graphics/SVG/1.1/DTD/svg11.dtd\">\n<!-- Created with matplotlib (https://matplotlib.org/) -->\n<svg height=\"180.65625pt\" version=\"1.1\" viewBox=\"0 0 243.529359 180.65625\" width=\"243.529359pt\" xmlns=\"http://www.w3.org/2000/svg\" xmlns:xlink=\"http://www.w3.org/1999/xlink\">\n <defs>\n  <style type=\"text/css\">\n*{stroke-linecap:butt;stroke-linejoin:round;}\n  </style>\n </defs>\n <g id=\"figure_1\">\n  <g id=\"patch_1\">\n   <path d=\"M 0 180.65625 \nL 243.529359 180.65625 \nL 243.529359 0 \nL 0 0 \nz\n\" style=\"fill:none;\"/>\n  </g>\n  <g id=\"axes_1\">\n   <g id=\"patch_2\">\n    <path d=\"M 40.603125 143.1 \nL 235.903125 143.1 \nL 235.903125 7.2 \nL 40.603125 7.2 \nz\n\" style=\"fill:#ffffff;\"/>\n   </g>\n   <g id=\"matplotlib.axis_1\">\n    <g id=\"xtick_1\">\n     <g id=\"line2d_1\">\n      <path clip-path=\"url(#p4cff769beb)\" d=\"M 49.480398 143.1 \nL 49.480398 7.2 \n\" style=\"fill:none;stroke:#b0b0b0;stroke-linecap:square;stroke-width:0.8;\"/>\n     </g>\n     <g id=\"line2d_2\">\n      <defs>\n       <path d=\"M 0 0 \nL 0 3.5 \n\" id=\"m25d2250e8a\" style=\"stroke:#000000;stroke-width:0.8;\"/>\n      </defs>\n      <g>\n       <use style=\"stroke:#000000;stroke-width:0.8;\" x=\"49.480398\" xlink:href=\"#m25d2250e8a\" y=\"143.1\"/>\n      </g>\n     </g>\n     <g id=\"text_1\">\n      <!-- 0 -->\n      <defs>\n       <path d=\"M 31.78125 66.40625 \nQ 24.171875 66.40625 20.328125 58.90625 \nQ 16.5 51.421875 16.5 36.375 \nQ 16.5 21.390625 20.328125 13.890625 \nQ 24.171875 6.390625 31.78125 6.390625 \nQ 39.453125 6.390625 43.28125 13.890625 \nQ 47.125 21.390625 47.125 36.375 \nQ 47.125 51.421875 43.28125 58.90625 \nQ 39.453125 66.40625 31.78125 66.40625 \nz\nM 31.78125 74.21875 \nQ 44.046875 74.21875 50.515625 64.515625 \nQ 56.984375 54.828125 56.984375 36.375 \nQ 56.984375 17.96875 50.515625 8.265625 \nQ 44.046875 -1.421875 31.78125 -1.421875 \nQ 19.53125 -1.421875 13.0625 8.265625 \nQ 6.59375 17.96875 6.59375 36.375 \nQ 6.59375 54.828125 13.0625 64.515625 \nQ 19.53125 74.21875 31.78125 74.21875 \nz\n\" id=\"DejaVuSans-48\"/>\n      </defs>\n      <g transform=\"translate(46.299148 157.698438)scale(0.1 -0.1)\">\n       <use xlink:href=\"#DejaVuSans-48\"/>\n      </g>\n     </g>\n    </g>\n    <g id=\"xtick_2\">\n     <g id=\"line2d_3\">\n      <path clip-path=\"url(#p4cff769beb)\" d=\"M 110.702968 143.1 \nL 110.702968 7.2 \n\" style=\"fill:none;stroke:#b0b0b0;stroke-linecap:square;stroke-width:0.8;\"/>\n     </g>\n     <g id=\"line2d_4\">\n      <g>\n       <use style=\"stroke:#000000;stroke-width:0.8;\" x=\"110.702968\" xlink:href=\"#m25d2250e8a\" y=\"143.1\"/>\n      </g>\n     </g>\n     <g id=\"text_2\">\n      <!-- 1 -->\n      <defs>\n       <path d=\"M 12.40625 8.296875 \nL 28.515625 8.296875 \nL 28.515625 63.921875 \nL 10.984375 60.40625 \nL 10.984375 69.390625 \nL 28.421875 72.90625 \nL 38.28125 72.90625 \nL 38.28125 8.296875 \nL 54.390625 8.296875 \nL 54.390625 0 \nL 12.40625 0 \nz\n\" id=\"DejaVuSans-49\"/>\n      </defs>\n      <g transform=\"translate(107.521718 157.698438)scale(0.1 -0.1)\">\n       <use xlink:href=\"#DejaVuSans-49\"/>\n      </g>\n     </g>\n    </g>\n    <g id=\"xtick_3\">\n     <g id=\"line2d_5\">\n      <path clip-path=\"url(#p4cff769beb)\" d=\"M 171.925539 143.1 \nL 171.925539 7.2 \n\" style=\"fill:none;stroke:#b0b0b0;stroke-linecap:square;stroke-width:0.8;\"/>\n     </g>\n     <g id=\"line2d_6\">\n      <g>\n       <use style=\"stroke:#000000;stroke-width:0.8;\" x=\"171.925539\" xlink:href=\"#m25d2250e8a\" y=\"143.1\"/>\n      </g>\n     </g>\n     <g id=\"text_3\">\n      <!-- 2 -->\n      <defs>\n       <path d=\"M 19.1875 8.296875 \nL 53.609375 8.296875 \nL 53.609375 0 \nL 7.328125 0 \nL 7.328125 8.296875 \nQ 12.9375 14.109375 22.625 23.890625 \nQ 32.328125 33.6875 34.8125 36.53125 \nQ 39.546875 41.84375 41.421875 45.53125 \nQ 43.3125 49.21875 43.3125 52.78125 \nQ 43.3125 58.59375 39.234375 62.25 \nQ 35.15625 65.921875 28.609375 65.921875 \nQ 23.96875 65.921875 18.8125 64.3125 \nQ 13.671875 62.703125 7.8125 59.421875 \nL 7.8125 69.390625 \nQ 13.765625 71.78125 18.9375 73 \nQ 24.125 74.21875 28.421875 74.21875 \nQ 39.75 74.21875 46.484375 68.546875 \nQ 53.21875 62.890625 53.21875 53.421875 \nQ 53.21875 48.921875 51.53125 44.890625 \nQ 49.859375 40.875 45.40625 35.40625 \nQ 44.1875 33.984375 37.640625 27.21875 \nQ 31.109375 20.453125 19.1875 8.296875 \nz\n\" id=\"DejaVuSans-50\"/>\n      </defs>\n      <g transform=\"translate(168.744289 157.698438)scale(0.1 -0.1)\">\n       <use xlink:href=\"#DejaVuSans-50\"/>\n      </g>\n     </g>\n    </g>\n    <g id=\"xtick_4\">\n     <g id=\"line2d_7\">\n      <path clip-path=\"url(#p4cff769beb)\" d=\"M 233.148109 143.1 \nL 233.148109 7.2 \n\" style=\"fill:none;stroke:#b0b0b0;stroke-linecap:square;stroke-width:0.8;\"/>\n     </g>\n     <g id=\"line2d_8\">\n      <g>\n       <use style=\"stroke:#000000;stroke-width:0.8;\" x=\"233.148109\" xlink:href=\"#m25d2250e8a\" y=\"143.1\"/>\n      </g>\n     </g>\n     <g id=\"text_4\">\n      <!-- 3 -->\n      <defs>\n       <path d=\"M 40.578125 39.3125 \nQ 47.65625 37.796875 51.625 33 \nQ 55.609375 28.21875 55.609375 21.1875 \nQ 55.609375 10.40625 48.1875 4.484375 \nQ 40.765625 -1.421875 27.09375 -1.421875 \nQ 22.515625 -1.421875 17.65625 -0.515625 \nQ 12.796875 0.390625 7.625 2.203125 \nL 7.625 11.71875 \nQ 11.71875 9.328125 16.59375 8.109375 \nQ 21.484375 6.890625 26.8125 6.890625 \nQ 36.078125 6.890625 40.9375 10.546875 \nQ 45.796875 14.203125 45.796875 21.1875 \nQ 45.796875 27.640625 41.28125 31.265625 \nQ 36.765625 34.90625 28.71875 34.90625 \nL 20.21875 34.90625 \nL 20.21875 43.015625 \nL 29.109375 43.015625 \nQ 36.375 43.015625 40.234375 45.921875 \nQ 44.09375 48.828125 44.09375 54.296875 \nQ 44.09375 59.90625 40.109375 62.90625 \nQ 36.140625 65.921875 28.71875 65.921875 \nQ 24.65625 65.921875 20.015625 65.03125 \nQ 15.375 64.15625 9.8125 62.3125 \nL 9.8125 71.09375 \nQ 15.4375 72.65625 20.34375 73.4375 \nQ 25.25 74.21875 29.59375 74.21875 \nQ 40.828125 74.21875 47.359375 69.109375 \nQ 53.90625 64.015625 53.90625 55.328125 \nQ 53.90625 49.265625 50.4375 45.09375 \nQ 46.96875 40.921875 40.578125 39.3125 \nz\n\" id=\"DejaVuSans-51\"/>\n      </defs>\n      <g transform=\"translate(229.966859 157.698438)scale(0.1 -0.1)\">\n       <use xlink:href=\"#DejaVuSans-51\"/>\n      </g>\n     </g>\n    </g>\n    <g id=\"text_5\">\n     <!-- x -->\n     <defs>\n      <path d=\"M 54.890625 54.6875 \nL 35.109375 28.078125 \nL 55.90625 0 \nL 45.3125 0 \nL 29.390625 21.484375 \nL 13.484375 0 \nL 2.875 0 \nL 24.125 28.609375 \nL 4.6875 54.6875 \nL 15.28125 54.6875 \nL 29.78125 35.203125 \nL 44.28125 54.6875 \nz\n\" id=\"DejaVuSans-120\"/>\n     </defs>\n     <g transform=\"translate(135.29375 171.376563)scale(0.1 -0.1)\">\n      <use xlink:href=\"#DejaVuSans-120\"/>\n     </g>\n    </g>\n   </g>\n   <g id=\"matplotlib.axis_2\">\n    <g id=\"ytick_1\">\n     <g id=\"line2d_9\">\n      <path clip-path=\"url(#p4cff769beb)\" d=\"M 40.603125 114.635514 \nL 235.903125 114.635514 \n\" style=\"fill:none;stroke:#b0b0b0;stroke-linecap:square;stroke-width:0.8;\"/>\n     </g>\n     <g id=\"line2d_10\">\n      <defs>\n       <path d=\"M 0 0 \nL -3.5 0 \n\" id=\"m8e3a7f3163\" style=\"stroke:#000000;stroke-width:0.8;\"/>\n      </defs>\n      <g>\n       <use style=\"stroke:#000000;stroke-width:0.8;\" x=\"40.603125\" xlink:href=\"#m8e3a7f3163\" y=\"114.635514\"/>\n      </g>\n     </g>\n     <g id=\"text_6\">\n      <!-- 0 -->\n      <g transform=\"translate(27.240625 118.434732)scale(0.1 -0.1)\">\n       <use xlink:href=\"#DejaVuSans-48\"/>\n      </g>\n     </g>\n    </g>\n    <g id=\"ytick_2\">\n     <g id=\"line2d_11\">\n      <path clip-path=\"url(#p4cff769beb)\" d=\"M 40.603125 77.490157 \nL 235.903125 77.490157 \n\" style=\"fill:none;stroke:#b0b0b0;stroke-linecap:square;stroke-width:0.8;\"/>\n     </g>\n     <g id=\"line2d_12\">\n      <g>\n       <use style=\"stroke:#000000;stroke-width:0.8;\" x=\"40.603125\" xlink:href=\"#m8e3a7f3163\" y=\"77.490157\"/>\n      </g>\n     </g>\n     <g id=\"text_7\">\n      <!-- 5 -->\n      <defs>\n       <path d=\"M 10.796875 72.90625 \nL 49.515625 72.90625 \nL 49.515625 64.59375 \nL 19.828125 64.59375 \nL 19.828125 46.734375 \nQ 21.96875 47.46875 24.109375 47.828125 \nQ 26.265625 48.1875 28.421875 48.1875 \nQ 40.625 48.1875 47.75 41.5 \nQ 54.890625 34.8125 54.890625 23.390625 \nQ 54.890625 11.625 47.5625 5.09375 \nQ 40.234375 -1.421875 26.90625 -1.421875 \nQ 22.3125 -1.421875 17.546875 -0.640625 \nQ 12.796875 0.140625 7.71875 1.703125 \nL 7.71875 11.625 \nQ 12.109375 9.234375 16.796875 8.0625 \nQ 21.484375 6.890625 26.703125 6.890625 \nQ 35.15625 6.890625 40.078125 11.328125 \nQ 45.015625 15.765625 45.015625 23.390625 \nQ 45.015625 31 40.078125 35.4375 \nQ 35.15625 39.890625 26.703125 39.890625 \nQ 22.75 39.890625 18.8125 39.015625 \nQ 14.890625 38.140625 10.796875 36.28125 \nz\n\" id=\"DejaVuSans-53\"/>\n      </defs>\n      <g transform=\"translate(27.240625 81.289376)scale(0.1 -0.1)\">\n       <use xlink:href=\"#DejaVuSans-53\"/>\n      </g>\n     </g>\n    </g>\n    <g id=\"ytick_3\">\n     <g id=\"line2d_13\">\n      <path clip-path=\"url(#p4cff769beb)\" d=\"M 40.603125 40.344801 \nL 235.903125 40.344801 \n\" style=\"fill:none;stroke:#b0b0b0;stroke-linecap:square;stroke-width:0.8;\"/>\n     </g>\n     <g id=\"line2d_14\">\n      <g>\n       <use style=\"stroke:#000000;stroke-width:0.8;\" x=\"40.603125\" xlink:href=\"#m8e3a7f3163\" y=\"40.344801\"/>\n      </g>\n     </g>\n     <g id=\"text_8\">\n      <!-- 10 -->\n      <g transform=\"translate(20.878125 44.14402)scale(0.1 -0.1)\">\n       <use xlink:href=\"#DejaVuSans-49\"/>\n       <use x=\"63.623047\" xlink:href=\"#DejaVuSans-48\"/>\n      </g>\n     </g>\n    </g>\n    <g id=\"text_9\">\n     <!-- f(x) -->\n     <defs>\n      <path d=\"M 37.109375 75.984375 \nL 37.109375 68.5 \nL 28.515625 68.5 \nQ 23.6875 68.5 21.796875 66.546875 \nQ 19.921875 64.59375 19.921875 59.515625 \nL 19.921875 54.6875 \nL 34.71875 54.6875 \nL 34.71875 47.703125 \nL 19.921875 47.703125 \nL 19.921875 0 \nL 10.890625 0 \nL 10.890625 47.703125 \nL 2.296875 47.703125 \nL 2.296875 54.6875 \nL 10.890625 54.6875 \nL 10.890625 58.5 \nQ 10.890625 67.625 15.140625 71.796875 \nQ 19.390625 75.984375 28.609375 75.984375 \nz\n\" id=\"DejaVuSans-102\"/>\n      <path d=\"M 31 75.875 \nQ 24.46875 64.65625 21.28125 53.65625 \nQ 18.109375 42.671875 18.109375 31.390625 \nQ 18.109375 20.125 21.3125 9.0625 \nQ 24.515625 -2 31 -13.1875 \nL 23.1875 -13.1875 \nQ 15.875 -1.703125 12.234375 9.375 \nQ 8.59375 20.453125 8.59375 31.390625 \nQ 8.59375 42.28125 12.203125 53.3125 \nQ 15.828125 64.359375 23.1875 75.875 \nz\n\" id=\"DejaVuSans-40\"/>\n      <path d=\"M 8.015625 75.875 \nL 15.828125 75.875 \nQ 23.140625 64.359375 26.78125 53.3125 \nQ 30.421875 42.28125 30.421875 31.390625 \nQ 30.421875 20.453125 26.78125 9.375 \nQ 23.140625 -1.703125 15.828125 -13.1875 \nL 8.015625 -13.1875 \nQ 14.5 -2 17.703125 9.0625 \nQ 20.90625 20.125 20.90625 31.390625 \nQ 20.90625 42.671875 17.703125 53.65625 \nQ 14.5 64.65625 8.015625 75.875 \nz\n\" id=\"DejaVuSans-41\"/>\n     </defs>\n     <g transform=\"translate(14.798437 83.771094)rotate(-90)scale(0.1 -0.1)\">\n      <use xlink:href=\"#DejaVuSans-102\"/>\n      <use x=\"35.205078\" xlink:href=\"#DejaVuSans-40\"/>\n      <use x=\"74.21875\" xlink:href=\"#DejaVuSans-120\"/>\n      <use x=\"133.398438\" xlink:href=\"#DejaVuSans-41\"/>\n     </g>\n    </g>\n   </g>\n   <g id=\"line2d_15\">\n    <path clip-path=\"url(#p4cff769beb)\" d=\"M 49.480398 114.635514 \nL 55.602655 117.38427 \nL 61.724912 119.687282 \nL 67.847169 121.54455 \nL 73.969426 122.956073 \nL 80.091683 123.921853 \nL 86.21394 124.441888 \nL 92.336197 124.516178 \nL 98.458454 124.144725 \nL 104.580711 123.327527 \nL 110.702968 122.064585 \nL 116.825225 120.355898 \nL 122.947482 118.201468 \nL 129.069739 115.601293 \nL 135.191996 112.555374 \nL 141.314254 109.06371 \nL 147.436511 105.126302 \nL 153.558768 100.74315 \nL 159.681025 95.914254 \nL 165.803282 90.639614 \nL 171.925539 84.919229 \nL 178.047796 78.7531 \nL 184.170053 72.141226 \nL 190.29231 65.083608 \nL 196.414567 57.580247 \nL 202.536824 49.63114 \nL 208.659081 41.23629 \nL 214.781338 32.395695 \nL 220.903595 23.109356 \nL 227.025852 13.377273 \n\" style=\"fill:none;stroke:#1f77b4;stroke-linecap:square;stroke-width:1.5;\"/>\n   </g>\n   <g id=\"line2d_16\">\n    <path clip-path=\"url(#p4cff769beb)\" d=\"M 49.480398 136.922727 \nL 55.602655 135.436913 \nL 61.724912 133.951099 \nL 67.847169 132.465285 \nL 73.969426 130.97947 \nL 80.091683 129.493656 \nL 86.21394 128.007842 \nL 92.336197 126.522028 \nL 98.458454 125.036213 \nL 104.580711 123.550399 \nL 110.702968 122.064585 \nL 116.825225 120.578771 \nL 122.947482 119.092956 \nL 129.069739 117.607142 \nL 135.191996 116.121328 \nL 141.314254 114.635514 \nL 147.436511 113.149699 \nL 153.558768 111.663885 \nL 159.681025 110.178071 \nL 165.803282 108.692257 \nL 171.925539 107.206442 \nL 178.047796 105.720628 \nL 184.170053 104.234814 \nL 190.29231 102.749 \nL 196.414567 101.263185 \nL 202.536824 99.777371 \nL 208.659081 98.291557 \nL 214.781338 96.805743 \nL 220.903595 95.319928 \nL 227.025852 93.834114 \n\" style=\"fill:none;stroke:#bf00bf;stroke-dasharray:5.55,2.4;stroke-dashoffset:0;stroke-width:1.5;\"/>\n   </g>\n   <g id=\"patch_3\">\n    <path d=\"M 40.603125 143.1 \nL 40.603125 7.2 \n\" style=\"fill:none;stroke:#000000;stroke-linecap:square;stroke-linejoin:miter;stroke-width:0.8;\"/>\n   </g>\n   <g id=\"patch_4\">\n    <path d=\"M 235.903125 143.1 \nL 235.903125 7.2 \n\" style=\"fill:none;stroke:#000000;stroke-linecap:square;stroke-linejoin:miter;stroke-width:0.8;\"/>\n   </g>\n   <g id=\"patch_5\">\n    <path d=\"M 40.603125 143.1 \nL 235.903125 143.1 \n\" style=\"fill:none;stroke:#000000;stroke-linecap:square;stroke-linejoin:miter;stroke-width:0.8;\"/>\n   </g>\n   <g id=\"patch_6\">\n    <path d=\"M 40.603125 7.2 \nL 235.903125 7.2 \n\" style=\"fill:none;stroke:#000000;stroke-linecap:square;stroke-linejoin:miter;stroke-width:0.8;\"/>\n   </g>\n   <g id=\"legend_1\">\n    <g id=\"patch_7\">\n     <path d=\"M 47.603125 44.55625 \nL 172.153125 44.55625 \nQ 174.153125 44.55625 174.153125 42.55625 \nL 174.153125 14.2 \nQ 174.153125 12.2 172.153125 12.2 \nL 47.603125 12.2 \nQ 45.603125 12.2 45.603125 14.2 \nL 45.603125 42.55625 \nQ 45.603125 44.55625 47.603125 44.55625 \nz\n\" style=\"fill:#ffffff;opacity:0.8;stroke:#cccccc;stroke-linejoin:miter;\"/>\n    </g>\n    <g id=\"line2d_17\">\n     <path d=\"M 49.603125 20.298437 \nL 69.603125 20.298437 \n\" style=\"fill:none;stroke:#1f77b4;stroke-linecap:square;stroke-width:1.5;\"/>\n    </g>\n    <g id=\"line2d_18\"/>\n    <g id=\"text_10\">\n     <!-- f(x) -->\n     <g transform=\"translate(77.603125 23.798437)scale(0.1 -0.1)\">\n      <use xlink:href=\"#DejaVuSans-102\"/>\n      <use x=\"35.205078\" xlink:href=\"#DejaVuSans-40\"/>\n      <use x=\"74.21875\" xlink:href=\"#DejaVuSans-120\"/>\n      <use x=\"133.398438\" xlink:href=\"#DejaVuSans-41\"/>\n     </g>\n    </g>\n    <g id=\"line2d_19\">\n     <path d=\"M 49.603125 34.976562 \nL 69.603125 34.976562 \n\" style=\"fill:none;stroke:#bf00bf;stroke-dasharray:5.55,2.4;stroke-dashoffset:0;stroke-width:1.5;\"/>\n    </g>\n    <g id=\"line2d_20\"/>\n    <g id=\"text_11\">\n     <!-- Tangent line (x=1) -->\n     <defs>\n      <path d=\"M -0.296875 72.90625 \nL 61.375 72.90625 \nL 61.375 64.59375 \nL 35.5 64.59375 \nL 35.5 0 \nL 25.59375 0 \nL 25.59375 64.59375 \nL -0.296875 64.59375 \nz\n\" id=\"DejaVuSans-84\"/>\n      <path d=\"M 34.28125 27.484375 \nQ 23.390625 27.484375 19.1875 25 \nQ 14.984375 22.515625 14.984375 16.5 \nQ 14.984375 11.71875 18.140625 8.90625 \nQ 21.296875 6.109375 26.703125 6.109375 \nQ 34.1875 6.109375 38.703125 11.40625 \nQ 43.21875 16.703125 43.21875 25.484375 \nL 43.21875 27.484375 \nz\nM 52.203125 31.203125 \nL 52.203125 0 \nL 43.21875 0 \nL 43.21875 8.296875 \nQ 40.140625 3.328125 35.546875 0.953125 \nQ 30.953125 -1.421875 24.3125 -1.421875 \nQ 15.921875 -1.421875 10.953125 3.296875 \nQ 6 8.015625 6 15.921875 \nQ 6 25.140625 12.171875 29.828125 \nQ 18.359375 34.515625 30.609375 34.515625 \nL 43.21875 34.515625 \nL 43.21875 35.40625 \nQ 43.21875 41.609375 39.140625 45 \nQ 35.0625 48.390625 27.6875 48.390625 \nQ 23 48.390625 18.546875 47.265625 \nQ 14.109375 46.140625 10.015625 43.890625 \nL 10.015625 52.203125 \nQ 14.9375 54.109375 19.578125 55.046875 \nQ 24.21875 56 28.609375 56 \nQ 40.484375 56 46.34375 49.84375 \nQ 52.203125 43.703125 52.203125 31.203125 \nz\n\" id=\"DejaVuSans-97\"/>\n      <path d=\"M 54.890625 33.015625 \nL 54.890625 0 \nL 45.90625 0 \nL 45.90625 32.71875 \nQ 45.90625 40.484375 42.875 44.328125 \nQ 39.84375 48.1875 33.796875 48.1875 \nQ 26.515625 48.1875 22.3125 43.546875 \nQ 18.109375 38.921875 18.109375 30.90625 \nL 18.109375 0 \nL 9.078125 0 \nL 9.078125 54.6875 \nL 18.109375 54.6875 \nL 18.109375 46.1875 \nQ 21.34375 51.125 25.703125 53.5625 \nQ 30.078125 56 35.796875 56 \nQ 45.21875 56 50.046875 50.171875 \nQ 54.890625 44.34375 54.890625 33.015625 \nz\n\" id=\"DejaVuSans-110\"/>\n      <path d=\"M 45.40625 27.984375 \nQ 45.40625 37.75 41.375 43.109375 \nQ 37.359375 48.484375 30.078125 48.484375 \nQ 22.859375 48.484375 18.828125 43.109375 \nQ 14.796875 37.75 14.796875 27.984375 \nQ 14.796875 18.265625 18.828125 12.890625 \nQ 22.859375 7.515625 30.078125 7.515625 \nQ 37.359375 7.515625 41.375 12.890625 \nQ 45.40625 18.265625 45.40625 27.984375 \nz\nM 54.390625 6.78125 \nQ 54.390625 -7.171875 48.1875 -13.984375 \nQ 42 -20.796875 29.203125 -20.796875 \nQ 24.46875 -20.796875 20.265625 -20.09375 \nQ 16.0625 -19.390625 12.109375 -17.921875 \nL 12.109375 -9.1875 \nQ 16.0625 -11.328125 19.921875 -12.34375 \nQ 23.78125 -13.375 27.78125 -13.375 \nQ 36.625 -13.375 41.015625 -8.765625 \nQ 45.40625 -4.15625 45.40625 5.171875 \nL 45.40625 9.625 \nQ 42.625 4.78125 38.28125 2.390625 \nQ 33.9375 0 27.875 0 \nQ 17.828125 0 11.671875 7.65625 \nQ 5.515625 15.328125 5.515625 27.984375 \nQ 5.515625 40.671875 11.671875 48.328125 \nQ 17.828125 56 27.875 56 \nQ 33.9375 56 38.28125 53.609375 \nQ 42.625 51.21875 45.40625 46.390625 \nL 45.40625 54.6875 \nL 54.390625 54.6875 \nz\n\" id=\"DejaVuSans-103\"/>\n      <path d=\"M 56.203125 29.59375 \nL 56.203125 25.203125 \nL 14.890625 25.203125 \nQ 15.484375 15.921875 20.484375 11.0625 \nQ 25.484375 6.203125 34.421875 6.203125 \nQ 39.59375 6.203125 44.453125 7.46875 \nQ 49.3125 8.734375 54.109375 11.28125 \nL 54.109375 2.78125 \nQ 49.265625 0.734375 44.1875 -0.34375 \nQ 39.109375 -1.421875 33.890625 -1.421875 \nQ 20.796875 -1.421875 13.15625 6.1875 \nQ 5.515625 13.8125 5.515625 26.8125 \nQ 5.515625 40.234375 12.765625 48.109375 \nQ 20.015625 56 32.328125 56 \nQ 43.359375 56 49.78125 48.890625 \nQ 56.203125 41.796875 56.203125 29.59375 \nz\nM 47.21875 32.234375 \nQ 47.125 39.59375 43.09375 43.984375 \nQ 39.0625 48.390625 32.421875 48.390625 \nQ 24.90625 48.390625 20.390625 44.140625 \nQ 15.875 39.890625 15.1875 32.171875 \nz\n\" id=\"DejaVuSans-101\"/>\n      <path d=\"M 18.3125 70.21875 \nL 18.3125 54.6875 \nL 36.8125 54.6875 \nL 36.8125 47.703125 \nL 18.3125 47.703125 \nL 18.3125 18.015625 \nQ 18.3125 11.328125 20.140625 9.421875 \nQ 21.96875 7.515625 27.59375 7.515625 \nL 36.8125 7.515625 \nL 36.8125 0 \nL 27.59375 0 \nQ 17.1875 0 13.234375 3.875 \nQ 9.28125 7.765625 9.28125 18.015625 \nL 9.28125 47.703125 \nL 2.6875 47.703125 \nL 2.6875 54.6875 \nL 9.28125 54.6875 \nL 9.28125 70.21875 \nz\n\" id=\"DejaVuSans-116\"/>\n      <path id=\"DejaVuSans-32\"/>\n      <path d=\"M 9.421875 75.984375 \nL 18.40625 75.984375 \nL 18.40625 0 \nL 9.421875 0 \nz\n\" id=\"DejaVuSans-108\"/>\n      <path d=\"M 9.421875 54.6875 \nL 18.40625 54.6875 \nL 18.40625 0 \nL 9.421875 0 \nz\nM 9.421875 75.984375 \nL 18.40625 75.984375 \nL 18.40625 64.59375 \nL 9.421875 64.59375 \nz\n\" id=\"DejaVuSans-105\"/>\n      <path d=\"M 10.59375 45.40625 \nL 73.1875 45.40625 \nL 73.1875 37.203125 \nL 10.59375 37.203125 \nz\nM 10.59375 25.484375 \nL 73.1875 25.484375 \nL 73.1875 17.1875 \nL 10.59375 17.1875 \nz\n\" id=\"DejaVuSans-61\"/>\n     </defs>\n     <g transform=\"translate(77.603125 38.476562)scale(0.1 -0.1)\">\n      <use xlink:href=\"#DejaVuSans-84\"/>\n      <use x=\"44.583984\" xlink:href=\"#DejaVuSans-97\"/>\n      <use x=\"105.863281\" xlink:href=\"#DejaVuSans-110\"/>\n      <use x=\"169.242188\" xlink:href=\"#DejaVuSans-103\"/>\n      <use x=\"232.71875\" xlink:href=\"#DejaVuSans-101\"/>\n      <use x=\"294.242188\" xlink:href=\"#DejaVuSans-110\"/>\n      <use x=\"357.621094\" xlink:href=\"#DejaVuSans-116\"/>\n      <use x=\"396.830078\" xlink:href=\"#DejaVuSans-32\"/>\n      <use x=\"428.617188\" xlink:href=\"#DejaVuSans-108\"/>\n      <use x=\"456.400391\" xlink:href=\"#DejaVuSans-105\"/>\n      <use x=\"484.183594\" xlink:href=\"#DejaVuSans-110\"/>\n      <use x=\"547.5625\" xlink:href=\"#DejaVuSans-101\"/>\n      <use x=\"609.085938\" xlink:href=\"#DejaVuSans-32\"/>\n      <use x=\"640.873047\" xlink:href=\"#DejaVuSans-40\"/>\n      <use x=\"679.886719\" xlink:href=\"#DejaVuSans-120\"/>\n      <use x=\"739.066406\" xlink:href=\"#DejaVuSans-61\"/>\n      <use x=\"822.855469\" xlink:href=\"#DejaVuSans-49\"/>\n      <use x=\"886.478516\" xlink:href=\"#DejaVuSans-41\"/>\n     </g>\n    </g>\n   </g>\n  </g>\n </g>\n <defs>\n  <clipPath id=\"p4cff769beb\">\n   <rect height=\"135.9\" width=\"195.3\" x=\"40.603125\" y=\"7.2\"/>\n  </clipPath>\n </defs>\n</svg>\n"
          },
          "metadata": {
            "tags": [],
            "needs_background": "light"
          }
        }
      ]
    },
    {
      "cell_type": "code",
      "metadata": {
        "colab": {
          "base_uri": "https://localhost:8080/"
        },
        "id": "agAOg0XI6-hj",
        "outputId": "fa317220-5b41-4912-c4dd-f0af34304eb7"
      },
      "source": [
        "print(x)"
      ],
      "execution_count": 70,
      "outputs": [
        {
          "output_type": "stream",
          "text": [
            "[0.  0.1 0.2 0.3 0.4 0.5 0.6 0.7 0.8 0.9 1.  1.1 1.2 1.3 1.4 1.5 1.6 1.7\n",
            " 1.8 1.9 2.  2.1 2.2 2.3 2.4 2.5 2.6 2.7 2.8 2.9]\n"
          ],
          "name": "stdout"
        }
      ]
    },
    {
      "cell_type": "markdown",
      "metadata": {
        "id": "Teg3p8NRj8sd"
      },
      "source": [
        "미분에대해 시각화하는 함수를 작성하고 0 부터 3까지 0.1의 간격으로 x 를 생성하고  F(x) = 2x-3의 직선이 위에서 선언한 2차 함수와 접하는 부분을 matplotlib으로 확인 하였다."
      ]
    },
    {
      "cell_type": "markdown",
      "metadata": {
        "id": "Go5PlWa5q832"
      },
      "source": [
        "------------2.5 Auto Differentiation--------"
      ]
    },
    {
      "cell_type": "code",
      "metadata": {
        "colab": {
          "base_uri": "https://localhost:8080/"
        },
        "id": "v0RZv6sUgdOy",
        "outputId": "b035f079-02b6-4c18-e935-93cdd2efcc5b"
      },
      "source": [
        "import torch\n",
        "x = torch.arange(4.0)\n",
        "x"
      ],
      "execution_count": 71,
      "outputs": [
        {
          "output_type": "execute_result",
          "data": {
            "text/plain": [
              "tensor([0., 1., 2., 3.])"
            ]
          },
          "metadata": {
            "tags": []
          },
          "execution_count": 71
        }
      ]
    },
    {
      "cell_type": "code",
      "metadata": {
        "id": "84mid5aVrlIB"
      },
      "source": [
        "x.requires_grad_(True)\n",
        "x.grad"
      ],
      "execution_count": 72,
      "outputs": []
    },
    {
      "cell_type": "code",
      "metadata": {
        "colab": {
          "base_uri": "https://localhost:8080/"
        },
        "id": "FkllifFKgdRM",
        "outputId": "e7387b66-9561-4c14-9362-91eec8001b2f"
      },
      "source": [
        "y = 2 * torch.dot(x,x)\n",
        "y"
      ],
      "execution_count": 73,
      "outputs": [
        {
          "output_type": "execute_result",
          "data": {
            "text/plain": [
              "tensor(28., grad_fn=<MulBackward0>)"
            ]
          },
          "metadata": {
            "tags": []
          },
          "execution_count": 73
        }
      ]
    },
    {
      "cell_type": "code",
      "metadata": {
        "colab": {
          "base_uri": "https://localhost:8080/"
        },
        "id": "dsZR1N9lgdTX",
        "outputId": "10631dbf-df51-4963-90f9-6d869ba6e1b1"
      },
      "source": [
        "y.backward()\n",
        "x.grad"
      ],
      "execution_count": 74,
      "outputs": [
        {
          "output_type": "execute_result",
          "data": {
            "text/plain": [
              "tensor([ 0.,  4.,  8., 12.])"
            ]
          },
          "metadata": {
            "tags": []
          },
          "execution_count": 74
        }
      ]
    },
    {
      "cell_type": "code",
      "metadata": {
        "colab": {
          "base_uri": "https://localhost:8080/"
        },
        "id": "gBDVhibtgdWp",
        "outputId": "4c11b3ac-ff3b-491b-b4de-5fed6be1c4e1"
      },
      "source": [
        "x.grad == 4*x"
      ],
      "execution_count": 75,
      "outputs": [
        {
          "output_type": "execute_result",
          "data": {
            "text/plain": [
              "tensor([True, True, True, True])"
            ]
          },
          "metadata": {
            "tags": []
          },
          "execution_count": 75
        }
      ]
    },
    {
      "cell_type": "markdown",
      "metadata": {
        "id": "vYPFWJupuqMJ"
      },
      "source": [
        "x grad를 변환 할 수 있는 값으로 지정해 놓고 y = 2x^2 으로 지정한 뒤 y.backward()를 사용함으로써 각각의 x grad에대한 편미분값을 계산하고 계산된 편미분 값을 대입해서 결과를 확인 할 수 있다. 마지막 x.grad == 4*x 결과가 전부 true인 리스트로 나온것으로 보아 모두 편미분이 잘된것을 알 수 있다. "
      ]
    },
    {
      "cell_type": "code",
      "metadata": {
        "colab": {
          "base_uri": "https://localhost:8080/"
        },
        "id": "JPsyzL9HruPL",
        "outputId": "c5fb24fa-5822-4790-d6eb-664ef1209fee"
      },
      "source": [
        "x.grad.zero_()\n",
        "print(x.grad)\n",
        "y = x.sum()\n",
        "print(y)\n",
        "y.backward()\n",
        "x.grad"
      ],
      "execution_count": 76,
      "outputs": [
        {
          "output_type": "stream",
          "text": [
            "tensor([0., 0., 0., 0.])\n",
            "tensor(6., grad_fn=<SumBackward0>)\n"
          ],
          "name": "stdout"
        },
        {
          "output_type": "execute_result",
          "data": {
            "text/plain": [
              "tensor([1., 1., 1., 1.])"
            ]
          },
          "metadata": {
            "tags": []
          },
          "execution_count": 76
        }
      ]
    },
    {
      "cell_type": "code",
      "metadata": {
        "colab": {
          "base_uri": "https://localhost:8080/"
        },
        "id": "iBzoyDoeruQ5",
        "outputId": "5954803d-ef85-458c-b3f6-b43f054e3ffc"
      },
      "source": [
        "x.grad.zero_()\n",
        "y =x * x\n",
        "y.sum().backward()\n",
        "x.grad"
      ],
      "execution_count": 77,
      "outputs": [
        {
          "output_type": "execute_result",
          "data": {
            "text/plain": [
              "tensor([0., 2., 4., 6.])"
            ]
          },
          "metadata": {
            "tags": []
          },
          "execution_count": 77
        }
      ]
    },
    {
      "cell_type": "markdown",
      "metadata": {
        "id": "oNu0pF95v4wt"
      },
      "source": [
        "첫번째의 경우 y = x 에대해 미분한것을 알 수 있으며 \n",
        "두번째의 경우 y = x^2를 편미분해서 x값에대해 각각의 값을 리스트로 출력 한것을 알 수 있다."
      ]
    },
    {
      "cell_type": "markdown",
      "metadata": {
        "id": "V84IQcUgwREJ"
      },
      "source": [
        "-------Detaching Computation-------"
      ]
    },
    {
      "cell_type": "code",
      "metadata": {
        "colab": {
          "base_uri": "https://localhost:8080/"
        },
        "id": "eoHq0eWwruTN",
        "outputId": "e6c9a5c7-012a-4130-cda2-81f0f602a3cf"
      },
      "source": [
        "x.grad.zero_()\n",
        "y = x * x\n",
        "u = y.detach()\n",
        "z = u * x\n",
        "\n",
        "z.sum().backward()\n",
        "print(x.grad)\n",
        "x.grad == u"
      ],
      "execution_count": 78,
      "outputs": [
        {
          "output_type": "stream",
          "text": [
            "tensor([0., 1., 4., 9.])\n"
          ],
          "name": "stdout"
        },
        {
          "output_type": "execute_result",
          "data": {
            "text/plain": [
              "tensor([True, True, True, True])"
            ]
          },
          "metadata": {
            "tags": []
          },
          "execution_count": 78
        }
      ]
    },
    {
      "cell_type": "markdown",
      "metadata": {
        "id": "OxczJZwv1xeN"
      },
      "source": [
        "u를 constant variable 로 두고 x에대해 partial derivative를 할 수 있는경우에대해 배웠다. 다시말해 이렇게 코드를 작성하게 되면 u에서 x로 역전파가 되지 않는것을 파악할 수 있었다."
      ]
    },
    {
      "cell_type": "code",
      "metadata": {
        "colab": {
          "base_uri": "https://localhost:8080/"
        },
        "id": "SgaMbwmfruVf",
        "outputId": "b1f78954-a102-444a-f732-6ee8a4157eb9"
      },
      "source": [
        "x.grad.zero_()\n",
        "y.sum().backward()\n",
        "x.grad == 2 * x"
      ],
      "execution_count": 79,
      "outputs": [
        {
          "output_type": "execute_result",
          "data": {
            "text/plain": [
              "tensor([True, True, True, True])"
            ]
          },
          "metadata": {
            "tags": []
          },
          "execution_count": 79
        }
      ]
    },
    {
      "cell_type": "code",
      "metadata": {
        "id": "d3xk0MiqruXP"
      },
      "source": [
        "def f(a):\n",
        "    b = a * 2\n",
        "    while b.norm() < 1000:\n",
        "        b = b * 2\n",
        "        print(b)\n",
        "    if b.sum() > 0:\n",
        "        c = b\n",
        "    else:\n",
        "        c = 100 * b\n",
        "    return c\n"
      ],
      "execution_count": 80,
      "outputs": []
    },
    {
      "cell_type": "code",
      "metadata": {
        "colab": {
          "base_uri": "https://localhost:8080/"
        },
        "id": "N7kFo5R8ruZl",
        "outputId": "4ee95b0d-79b0-49b1-99a8-eadecf92eeeb"
      },
      "source": [
        "a = torch.randn(size=(),requires_grad=True)\n",
        "print(a)\n",
        "print(a.grad)\n",
        "d = f(a)\n",
        "print(d)\n",
        "print(a)\n",
        "d.backward()\n",
        "print(a.grad)"
      ],
      "execution_count": 81,
      "outputs": [
        {
          "output_type": "stream",
          "text": [
            "tensor(0.1657, requires_grad=True)\n",
            "None\n",
            "tensor(0.6627, grad_fn=<MulBackward0>)\n",
            "tensor(1.3254, grad_fn=<MulBackward0>)\n",
            "tensor(2.6508, grad_fn=<MulBackward0>)\n",
            "tensor(5.3015, grad_fn=<MulBackward0>)\n",
            "tensor(10.6031, grad_fn=<MulBackward0>)\n",
            "tensor(21.2061, grad_fn=<MulBackward0>)\n",
            "tensor(42.4122, grad_fn=<MulBackward0>)\n",
            "tensor(84.8244, grad_fn=<MulBackward0>)\n",
            "tensor(169.6489, grad_fn=<MulBackward0>)\n",
            "tensor(339.2978, grad_fn=<MulBackward0>)\n",
            "tensor(678.5956, grad_fn=<MulBackward0>)\n",
            "tensor(1357.1912, grad_fn=<MulBackward0>)\n",
            "tensor(1357.1912, grad_fn=<MulBackward0>)\n",
            "tensor(0.1657, requires_grad=True)\n",
            "tensor(8192.)\n"
          ],
          "name": "stdout"
        }
      ]
    },
    {
      "cell_type": "code",
      "metadata": {
        "colab": {
          "base_uri": "https://localhost:8080/"
        },
        "id": "-BXrShEWrubR",
        "outputId": "50c10f32-33c0-498e-de8a-f0178f97d3dd"
      },
      "source": [
        "a.grad == d / a"
      ],
      "execution_count": 82,
      "outputs": [
        {
          "output_type": "execute_result",
          "data": {
            "text/plain": [
              "tensor(True)"
            ]
          },
          "metadata": {
            "tags": []
          },
          "execution_count": 82
        }
      ]
    },
    {
      "cell_type": "markdown",
      "metadata": {
        "id": "KP3QDjS2RomD"
      },
      "source": [
        "함수결과에의해 d 에대해 일반화 식을 세우면 2^k * a * (100 or 1) 이고 이에대해 편미분을 한 gradient는 2^k * (100 or 1) 인것을 확인할 수 있다. 따라서 둘을 나눌경우 a의 차이를 알 수있고 이로인해 d / a 가 grad인것을 알 수 있다."
      ]
    },
    {
      "cell_type": "markdown",
      "metadata": {
        "id": "lNqINTc3Dujd"
      },
      "source": [
        "2.6 Probability"
      ]
    },
    {
      "cell_type": "code",
      "metadata": {
        "colab": {
          "base_uri": "https://localhost:8080/"
        },
        "id": "auZyso-6E_Ib",
        "outputId": "4afcc1d1-a64e-419c-cdcb-00ac46fe951a"
      },
      "source": [
        "!pip install d2l==0.16.2"
      ],
      "execution_count": 83,
      "outputs": [
        {
          "output_type": "stream",
          "text": [
            "Requirement already satisfied: d2l==0.16.2 in /usr/local/lib/python3.7/dist-packages (0.16.2)\n",
            "Requirement already satisfied: matplotlib in /usr/local/lib/python3.7/dist-packages (from d2l==0.16.2) (3.2.2)\n",
            "Requirement already satisfied: requests in /usr/local/lib/python3.7/dist-packages (from d2l==0.16.2) (2.23.0)\n",
            "Requirement already satisfied: jupyter in /usr/local/lib/python3.7/dist-packages (from d2l==0.16.2) (1.0.0)\n",
            "Requirement already satisfied: numpy in /usr/local/lib/python3.7/dist-packages (from d2l==0.16.2) (1.19.5)\n",
            "Requirement already satisfied: pandas in /usr/local/lib/python3.7/dist-packages (from d2l==0.16.2) (1.1.5)\n",
            "Requirement already satisfied: cycler>=0.10 in /usr/local/lib/python3.7/dist-packages (from matplotlib->d2l==0.16.2) (0.10.0)\n",
            "Requirement already satisfied: python-dateutil>=2.1 in /usr/local/lib/python3.7/dist-packages (from matplotlib->d2l==0.16.2) (2.8.1)\n",
            "Requirement already satisfied: pyparsing!=2.0.4,!=2.1.2,!=2.1.6,>=2.0.1 in /usr/local/lib/python3.7/dist-packages (from matplotlib->d2l==0.16.2) (2.4.7)\n",
            "Requirement already satisfied: kiwisolver>=1.0.1 in /usr/local/lib/python3.7/dist-packages (from matplotlib->d2l==0.16.2) (1.3.1)\n",
            "Requirement already satisfied: chardet<4,>=3.0.2 in /usr/local/lib/python3.7/dist-packages (from requests->d2l==0.16.2) (3.0.4)\n",
            "Requirement already satisfied: certifi>=2017.4.17 in /usr/local/lib/python3.7/dist-packages (from requests->d2l==0.16.2) (2020.12.5)\n",
            "Requirement already satisfied: urllib3!=1.25.0,!=1.25.1,<1.26,>=1.21.1 in /usr/local/lib/python3.7/dist-packages (from requests->d2l==0.16.2) (1.24.3)\n",
            "Requirement already satisfied: idna<3,>=2.5 in /usr/local/lib/python3.7/dist-packages (from requests->d2l==0.16.2) (2.10)\n",
            "Requirement already satisfied: jupyter-console in /usr/local/lib/python3.7/dist-packages (from jupyter->d2l==0.16.2) (5.2.0)\n",
            "Requirement already satisfied: ipywidgets in /usr/local/lib/python3.7/dist-packages (from jupyter->d2l==0.16.2) (7.6.3)\n",
            "Requirement already satisfied: notebook in /usr/local/lib/python3.7/dist-packages (from jupyter->d2l==0.16.2) (5.3.1)\n",
            "Requirement already satisfied: qtconsole in /usr/local/lib/python3.7/dist-packages (from jupyter->d2l==0.16.2) (5.0.3)\n",
            "Requirement already satisfied: nbconvert in /usr/local/lib/python3.7/dist-packages (from jupyter->d2l==0.16.2) (5.6.1)\n",
            "Requirement already satisfied: ipykernel in /usr/local/lib/python3.7/dist-packages (from jupyter->d2l==0.16.2) (4.10.1)\n",
            "Requirement already satisfied: pytz>=2017.2 in /usr/local/lib/python3.7/dist-packages (from pandas->d2l==0.16.2) (2018.9)\n",
            "Requirement already satisfied: six in /usr/local/lib/python3.7/dist-packages (from cycler>=0.10->matplotlib->d2l==0.16.2) (1.15.0)\n",
            "Requirement already satisfied: jupyter-client in /usr/local/lib/python3.7/dist-packages (from jupyter-console->jupyter->d2l==0.16.2) (5.3.5)\n",
            "Requirement already satisfied: ipython in /usr/local/lib/python3.7/dist-packages (from jupyter-console->jupyter->d2l==0.16.2) (5.5.0)\n",
            "Requirement already satisfied: pygments in /usr/local/lib/python3.7/dist-packages (from jupyter-console->jupyter->d2l==0.16.2) (2.6.1)\n",
            "Requirement already satisfied: prompt-toolkit<2.0.0,>=1.0.0 in /usr/local/lib/python3.7/dist-packages (from jupyter-console->jupyter->d2l==0.16.2) (1.0.18)\n",
            "Requirement already satisfied: traitlets>=4.3.1 in /usr/local/lib/python3.7/dist-packages (from ipywidgets->jupyter->d2l==0.16.2) (5.0.5)\n",
            "Requirement already satisfied: jupyterlab-widgets>=1.0.0; python_version >= \"3.6\" in /usr/local/lib/python3.7/dist-packages (from ipywidgets->jupyter->d2l==0.16.2) (1.0.0)\n",
            "Requirement already satisfied: nbformat>=4.2.0 in /usr/local/lib/python3.7/dist-packages (from ipywidgets->jupyter->d2l==0.16.2) (5.1.2)\n",
            "Requirement already satisfied: widgetsnbextension~=3.5.0 in /usr/local/lib/python3.7/dist-packages (from ipywidgets->jupyter->d2l==0.16.2) (3.5.1)\n",
            "Requirement already satisfied: ipython-genutils in /usr/local/lib/python3.7/dist-packages (from notebook->jupyter->d2l==0.16.2) (0.2.0)\n",
            "Requirement already satisfied: tornado>=4 in /usr/local/lib/python3.7/dist-packages (from notebook->jupyter->d2l==0.16.2) (5.1.1)\n",
            "Requirement already satisfied: jupyter-core>=4.4.0 in /usr/local/lib/python3.7/dist-packages (from notebook->jupyter->d2l==0.16.2) (4.7.1)\n",
            "Requirement already satisfied: jinja2 in /usr/local/lib/python3.7/dist-packages (from notebook->jupyter->d2l==0.16.2) (2.11.3)\n",
            "Requirement already satisfied: terminado>=0.8.1 in /usr/local/lib/python3.7/dist-packages (from notebook->jupyter->d2l==0.16.2) (0.9.2)\n",
            "Requirement already satisfied: Send2Trash in /usr/local/lib/python3.7/dist-packages (from notebook->jupyter->d2l==0.16.2) (1.5.0)\n",
            "Requirement already satisfied: pyzmq>=17.1 in /usr/local/lib/python3.7/dist-packages (from qtconsole->jupyter->d2l==0.16.2) (22.0.3)\n",
            "Requirement already satisfied: qtpy in /usr/local/lib/python3.7/dist-packages (from qtconsole->jupyter->d2l==0.16.2) (1.9.0)\n",
            "Requirement already satisfied: pandocfilters>=1.4.1 in /usr/local/lib/python3.7/dist-packages (from nbconvert->jupyter->d2l==0.16.2) (1.4.3)\n",
            "Requirement already satisfied: entrypoints>=0.2.2 in /usr/local/lib/python3.7/dist-packages (from nbconvert->jupyter->d2l==0.16.2) (0.3)\n",
            "Requirement already satisfied: bleach in /usr/local/lib/python3.7/dist-packages (from nbconvert->jupyter->d2l==0.16.2) (3.3.0)\n",
            "Requirement already satisfied: testpath in /usr/local/lib/python3.7/dist-packages (from nbconvert->jupyter->d2l==0.16.2) (0.4.4)\n",
            "Requirement already satisfied: mistune<2,>=0.8.1 in /usr/local/lib/python3.7/dist-packages (from nbconvert->jupyter->d2l==0.16.2) (0.8.4)\n",
            "Requirement already satisfied: defusedxml in /usr/local/lib/python3.7/dist-packages (from nbconvert->jupyter->d2l==0.16.2) (0.7.1)\n",
            "Requirement already satisfied: decorator in /usr/local/lib/python3.7/dist-packages (from ipython->jupyter-console->jupyter->d2l==0.16.2) (4.4.2)\n",
            "Requirement already satisfied: setuptools>=18.5 in /usr/local/lib/python3.7/dist-packages (from ipython->jupyter-console->jupyter->d2l==0.16.2) (54.1.2)\n",
            "Requirement already satisfied: pickleshare in /usr/local/lib/python3.7/dist-packages (from ipython->jupyter-console->jupyter->d2l==0.16.2) (0.7.5)\n",
            "Requirement already satisfied: simplegeneric>0.8 in /usr/local/lib/python3.7/dist-packages (from ipython->jupyter-console->jupyter->d2l==0.16.2) (0.8.1)\n",
            "Requirement already satisfied: pexpect; sys_platform != \"win32\" in /usr/local/lib/python3.7/dist-packages (from ipython->jupyter-console->jupyter->d2l==0.16.2) (4.8.0)\n",
            "Requirement already satisfied: wcwidth in /usr/local/lib/python3.7/dist-packages (from prompt-toolkit<2.0.0,>=1.0.0->jupyter-console->jupyter->d2l==0.16.2) (0.2.5)\n",
            "Requirement already satisfied: jsonschema!=2.5.0,>=2.4 in /usr/local/lib/python3.7/dist-packages (from nbformat>=4.2.0->ipywidgets->jupyter->d2l==0.16.2) (2.6.0)\n",
            "Requirement already satisfied: MarkupSafe>=0.23 in /usr/local/lib/python3.7/dist-packages (from jinja2->notebook->jupyter->d2l==0.16.2) (1.1.1)\n",
            "Requirement already satisfied: ptyprocess; os_name != \"nt\" in /usr/local/lib/python3.7/dist-packages (from terminado>=0.8.1->notebook->jupyter->d2l==0.16.2) (0.7.0)\n",
            "Requirement already satisfied: webencodings in /usr/local/lib/python3.7/dist-packages (from bleach->nbconvert->jupyter->d2l==0.16.2) (0.5.1)\n",
            "Requirement already satisfied: packaging in /usr/local/lib/python3.7/dist-packages (from bleach->nbconvert->jupyter->d2l==0.16.2) (20.9)\n"
          ],
          "name": "stdout"
        }
      ]
    },
    {
      "cell_type": "code",
      "metadata": {
        "id": "cx77JMFFgdYz"
      },
      "source": [
        "%matplotlib inline\n",
        "import torch\n",
        "from torch.distributions import multinomial\n",
        "from d2l import torch as d2l"
      ],
      "execution_count": 84,
      "outputs": []
    },
    {
      "cell_type": "code",
      "metadata": {
        "colab": {
          "base_uri": "https://localhost:8080/"
        },
        "id": "Ryw_3TlfgdbI",
        "outputId": "4edb118f-d817-4919-8e21-6bd6c4a4628a"
      },
      "source": [
        "fair_probs = torch.ones([6]) / 6\n",
        "print(fair_probs)\n",
        "multinomial.Multinomial(1,fair_probs).sample()"
      ],
      "execution_count": 85,
      "outputs": [
        {
          "output_type": "stream",
          "text": [
            "tensor([0.1667, 0.1667, 0.1667, 0.1667, 0.1667, 0.1667])\n"
          ],
          "name": "stdout"
        },
        {
          "output_type": "execute_result",
          "data": {
            "text/plain": [
              "tensor([0., 0., 0., 1., 0., 0.])"
            ]
          },
          "metadata": {
            "tags": []
          },
          "execution_count": 85
        }
      ]
    },
    {
      "cell_type": "markdown",
      "metadata": {
        "id": "oT4Q3GkpVdEa"
      },
      "source": [
        "전반적으로 위과정은 주사위를 던질 확률 부여해주고 \n",
        "그 확률에 의해 실행을 해달라 즉 쉽게 풀면 1/6확률을 바탕으로 주사위를 던지는 의미와 같다고 볼수 있습니다. "
      ]
    },
    {
      "cell_type": "code",
      "metadata": {
        "colab": {
          "base_uri": "https://localhost:8080/"
        },
        "id": "DfqiA0PYgden",
        "outputId": "298732a2-bd2f-4712-f697-d5525a66b4c2"
      },
      "source": [
        "multinomial.Multinomial(10,fair_probs).sample()"
      ],
      "execution_count": 86,
      "outputs": [
        {
          "output_type": "execute_result",
          "data": {
            "text/plain": [
              "tensor([1., 1., 3., 1., 1., 3.])"
            ]
          },
          "metadata": {
            "tags": []
          },
          "execution_count": 86
        }
      ]
    },
    {
      "cell_type": "code",
      "metadata": {
        "colab": {
          "base_uri": "https://localhost:8080/"
        },
        "id": "TGn0ya8DgdgK",
        "outputId": "c66ab73c-3adf-4736-d702-c20dd04fe586"
      },
      "source": [
        "counts = multinomial.Multinomial(30000,fair_probs).sample()\n",
        "counts / 30000"
      ],
      "execution_count": 87,
      "outputs": [
        {
          "output_type": "execute_result",
          "data": {
            "text/plain": [
              "tensor([0.1695, 0.1637, 0.1663, 0.1663, 0.1685, 0.1657])"
            ]
          },
          "metadata": {
            "tags": []
          },
          "execution_count": 87
        }
      ]
    },
    {
      "cell_type": "markdown",
      "metadata": {
        "id": "JTxEc5vvWaF5"
      },
      "source": [
        "결국 기존이 1000번정도 돌렸다면 이를 30000번정도 시행했을때와 비교하면 주사위의 확률 1/6로점점 수렴 함을 확인 할 수 있다. "
      ]
    },
    {
      "cell_type": "code",
      "metadata": {
        "colab": {
          "base_uri": "https://localhost:8080/",
          "height": 407
        },
        "id": "pNlepCoPI5a7",
        "outputId": "8018f793-2a83-4cbd-b8da-7f28f4f3ddfe"
      },
      "source": [
        "counts = multinomial.Multinomial(10,fair_probs).sample((500,))\n",
        "cum_counts = counts.cumsum(dim = 0)\n",
        "estimates = cum_counts / cum_counts.sum(dim=1, keepdims=True)\n",
        "\n",
        "d2l.set_figsize((6,4.5))\n",
        "for i in range(6):\n",
        "    d2l.plt.plot(estimates[:, i].numpy(), label=(\"P(die=\" + str(i + 1) + \")\"))\n",
        "d2l.plt.axhline(y=0.167, color='black', linestyle='dashed')\n",
        "d2l.plt.gca().set_xlabel('Groups of experiments')\n",
        "d2l.plt.gca().set_ylabel('Estimated probability')\n",
        "d2l.plt.legend();"
      ],
      "execution_count": 88,
      "outputs": [
        {
          "output_type": "display_data",
          "data": {
            "text/plain": [
              "<Figure size 432x324 with 1 Axes>"
            ],
            "image/svg+xml": "<?xml version=\"1.0\" encoding=\"utf-8\" standalone=\"no\"?>\n<!DOCTYPE svg PUBLIC \"-//W3C//DTD SVG 1.1//EN\"\n  \"http://www.w3.org/Graphics/SVG/1.1/DTD/svg11.dtd\">\n<!-- Created with matplotlib (https://matplotlib.org/) -->\n<svg height=\"289.37625pt\" version=\"1.1\" viewBox=\"0 0 392.14375 289.37625\" width=\"392.14375pt\" xmlns=\"http://www.w3.org/2000/svg\" xmlns:xlink=\"http://www.w3.org/1999/xlink\">\n <defs>\n  <style type=\"text/css\">\n*{stroke-linecap:butt;stroke-linejoin:round;}\n  </style>\n </defs>\n <g id=\"figure_1\">\n  <g id=\"patch_1\">\n   <path d=\"M 0 289.37625 \nL 392.14375 289.37625 \nL 392.14375 0 \nL 0 0 \nz\n\" style=\"fill:none;\"/>\n  </g>\n  <g id=\"axes_1\">\n   <g id=\"patch_2\">\n    <path d=\"M 50.14375 251.82 \nL 384.94375 251.82 \nL 384.94375 7.2 \nL 50.14375 7.2 \nz\n\" style=\"fill:#ffffff;\"/>\n   </g>\n   <g id=\"matplotlib.axis_1\">\n    <g id=\"xtick_1\">\n     <g id=\"line2d_1\">\n      <defs>\n       <path d=\"M 0 0 \nL 0 3.5 \n\" id=\"ma31fad0d2f\" style=\"stroke:#000000;stroke-width:0.8;\"/>\n      </defs>\n      <g>\n       <use style=\"stroke:#000000;stroke-width:0.8;\" x=\"65.361932\" xlink:href=\"#ma31fad0d2f\" y=\"251.82\"/>\n      </g>\n     </g>\n     <g id=\"text_1\">\n      <!-- 0 -->\n      <defs>\n       <path d=\"M 31.78125 66.40625 \nQ 24.171875 66.40625 20.328125 58.90625 \nQ 16.5 51.421875 16.5 36.375 \nQ 16.5 21.390625 20.328125 13.890625 \nQ 24.171875 6.390625 31.78125 6.390625 \nQ 39.453125 6.390625 43.28125 13.890625 \nQ 47.125 21.390625 47.125 36.375 \nQ 47.125 51.421875 43.28125 58.90625 \nQ 39.453125 66.40625 31.78125 66.40625 \nz\nM 31.78125 74.21875 \nQ 44.046875 74.21875 50.515625 64.515625 \nQ 56.984375 54.828125 56.984375 36.375 \nQ 56.984375 17.96875 50.515625 8.265625 \nQ 44.046875 -1.421875 31.78125 -1.421875 \nQ 19.53125 -1.421875 13.0625 8.265625 \nQ 6.59375 17.96875 6.59375 36.375 \nQ 6.59375 54.828125 13.0625 64.515625 \nQ 19.53125 74.21875 31.78125 74.21875 \nz\n\" id=\"DejaVuSans-48\"/>\n      </defs>\n      <g transform=\"translate(62.180682 266.418437)scale(0.1 -0.1)\">\n       <use xlink:href=\"#DejaVuSans-48\"/>\n      </g>\n     </g>\n    </g>\n    <g id=\"xtick_2\">\n     <g id=\"line2d_2\">\n      <g>\n       <use style=\"stroke:#000000;stroke-width:0.8;\" x=\"126.356649\" xlink:href=\"#ma31fad0d2f\" y=\"251.82\"/>\n      </g>\n     </g>\n     <g id=\"text_2\">\n      <!-- 100 -->\n      <defs>\n       <path d=\"M 12.40625 8.296875 \nL 28.515625 8.296875 \nL 28.515625 63.921875 \nL 10.984375 60.40625 \nL 10.984375 69.390625 \nL 28.421875 72.90625 \nL 38.28125 72.90625 \nL 38.28125 8.296875 \nL 54.390625 8.296875 \nL 54.390625 0 \nL 12.40625 0 \nz\n\" id=\"DejaVuSans-49\"/>\n      </defs>\n      <g transform=\"translate(116.812899 266.418437)scale(0.1 -0.1)\">\n       <use xlink:href=\"#DejaVuSans-49\"/>\n       <use x=\"63.623047\" xlink:href=\"#DejaVuSans-48\"/>\n       <use x=\"127.246094\" xlink:href=\"#DejaVuSans-48\"/>\n      </g>\n     </g>\n    </g>\n    <g id=\"xtick_3\">\n     <g id=\"line2d_3\">\n      <g>\n       <use style=\"stroke:#000000;stroke-width:0.8;\" x=\"187.351365\" xlink:href=\"#ma31fad0d2f\" y=\"251.82\"/>\n      </g>\n     </g>\n     <g id=\"text_3\">\n      <!-- 200 -->\n      <defs>\n       <path d=\"M 19.1875 8.296875 \nL 53.609375 8.296875 \nL 53.609375 0 \nL 7.328125 0 \nL 7.328125 8.296875 \nQ 12.9375 14.109375 22.625 23.890625 \nQ 32.328125 33.6875 34.8125 36.53125 \nQ 39.546875 41.84375 41.421875 45.53125 \nQ 43.3125 49.21875 43.3125 52.78125 \nQ 43.3125 58.59375 39.234375 62.25 \nQ 35.15625 65.921875 28.609375 65.921875 \nQ 23.96875 65.921875 18.8125 64.3125 \nQ 13.671875 62.703125 7.8125 59.421875 \nL 7.8125 69.390625 \nQ 13.765625 71.78125 18.9375 73 \nQ 24.125 74.21875 28.421875 74.21875 \nQ 39.75 74.21875 46.484375 68.546875 \nQ 53.21875 62.890625 53.21875 53.421875 \nQ 53.21875 48.921875 51.53125 44.890625 \nQ 49.859375 40.875 45.40625 35.40625 \nQ 44.1875 33.984375 37.640625 27.21875 \nQ 31.109375 20.453125 19.1875 8.296875 \nz\n\" id=\"DejaVuSans-50\"/>\n      </defs>\n      <g transform=\"translate(177.807615 266.418437)scale(0.1 -0.1)\">\n       <use xlink:href=\"#DejaVuSans-50\"/>\n       <use x=\"63.623047\" xlink:href=\"#DejaVuSans-48\"/>\n       <use x=\"127.246094\" xlink:href=\"#DejaVuSans-48\"/>\n      </g>\n     </g>\n    </g>\n    <g id=\"xtick_4\">\n     <g id=\"line2d_4\">\n      <g>\n       <use style=\"stroke:#000000;stroke-width:0.8;\" x=\"248.346082\" xlink:href=\"#ma31fad0d2f\" y=\"251.82\"/>\n      </g>\n     </g>\n     <g id=\"text_4\">\n      <!-- 300 -->\n      <defs>\n       <path d=\"M 40.578125 39.3125 \nQ 47.65625 37.796875 51.625 33 \nQ 55.609375 28.21875 55.609375 21.1875 \nQ 55.609375 10.40625 48.1875 4.484375 \nQ 40.765625 -1.421875 27.09375 -1.421875 \nQ 22.515625 -1.421875 17.65625 -0.515625 \nQ 12.796875 0.390625 7.625 2.203125 \nL 7.625 11.71875 \nQ 11.71875 9.328125 16.59375 8.109375 \nQ 21.484375 6.890625 26.8125 6.890625 \nQ 36.078125 6.890625 40.9375 10.546875 \nQ 45.796875 14.203125 45.796875 21.1875 \nQ 45.796875 27.640625 41.28125 31.265625 \nQ 36.765625 34.90625 28.71875 34.90625 \nL 20.21875 34.90625 \nL 20.21875 43.015625 \nL 29.109375 43.015625 \nQ 36.375 43.015625 40.234375 45.921875 \nQ 44.09375 48.828125 44.09375 54.296875 \nQ 44.09375 59.90625 40.109375 62.90625 \nQ 36.140625 65.921875 28.71875 65.921875 \nQ 24.65625 65.921875 20.015625 65.03125 \nQ 15.375 64.15625 9.8125 62.3125 \nL 9.8125 71.09375 \nQ 15.4375 72.65625 20.34375 73.4375 \nQ 25.25 74.21875 29.59375 74.21875 \nQ 40.828125 74.21875 47.359375 69.109375 \nQ 53.90625 64.015625 53.90625 55.328125 \nQ 53.90625 49.265625 50.4375 45.09375 \nQ 46.96875 40.921875 40.578125 39.3125 \nz\n\" id=\"DejaVuSans-51\"/>\n      </defs>\n      <g transform=\"translate(238.802332 266.418437)scale(0.1 -0.1)\">\n       <use xlink:href=\"#DejaVuSans-51\"/>\n       <use x=\"63.623047\" xlink:href=\"#DejaVuSans-48\"/>\n       <use x=\"127.246094\" xlink:href=\"#DejaVuSans-48\"/>\n      </g>\n     </g>\n    </g>\n    <g id=\"xtick_5\">\n     <g id=\"line2d_5\">\n      <g>\n       <use style=\"stroke:#000000;stroke-width:0.8;\" x=\"309.340799\" xlink:href=\"#ma31fad0d2f\" y=\"251.82\"/>\n      </g>\n     </g>\n     <g id=\"text_5\">\n      <!-- 400 -->\n      <defs>\n       <path d=\"M 37.796875 64.3125 \nL 12.890625 25.390625 \nL 37.796875 25.390625 \nz\nM 35.203125 72.90625 \nL 47.609375 72.90625 \nL 47.609375 25.390625 \nL 58.015625 25.390625 \nL 58.015625 17.1875 \nL 47.609375 17.1875 \nL 47.609375 0 \nL 37.796875 0 \nL 37.796875 17.1875 \nL 4.890625 17.1875 \nL 4.890625 26.703125 \nz\n\" id=\"DejaVuSans-52\"/>\n      </defs>\n      <g transform=\"translate(299.797049 266.418437)scale(0.1 -0.1)\">\n       <use xlink:href=\"#DejaVuSans-52\"/>\n       <use x=\"63.623047\" xlink:href=\"#DejaVuSans-48\"/>\n       <use x=\"127.246094\" xlink:href=\"#DejaVuSans-48\"/>\n      </g>\n     </g>\n    </g>\n    <g id=\"xtick_6\">\n     <g id=\"line2d_6\">\n      <g>\n       <use style=\"stroke:#000000;stroke-width:0.8;\" x=\"370.335515\" xlink:href=\"#ma31fad0d2f\" y=\"251.82\"/>\n      </g>\n     </g>\n     <g id=\"text_6\">\n      <!-- 500 -->\n      <defs>\n       <path d=\"M 10.796875 72.90625 \nL 49.515625 72.90625 \nL 49.515625 64.59375 \nL 19.828125 64.59375 \nL 19.828125 46.734375 \nQ 21.96875 47.46875 24.109375 47.828125 \nQ 26.265625 48.1875 28.421875 48.1875 \nQ 40.625 48.1875 47.75 41.5 \nQ 54.890625 34.8125 54.890625 23.390625 \nQ 54.890625 11.625 47.5625 5.09375 \nQ 40.234375 -1.421875 26.90625 -1.421875 \nQ 22.3125 -1.421875 17.546875 -0.640625 \nQ 12.796875 0.140625 7.71875 1.703125 \nL 7.71875 11.625 \nQ 12.109375 9.234375 16.796875 8.0625 \nQ 21.484375 6.890625 26.703125 6.890625 \nQ 35.15625 6.890625 40.078125 11.328125 \nQ 45.015625 15.765625 45.015625 23.390625 \nQ 45.015625 31 40.078125 35.4375 \nQ 35.15625 39.890625 26.703125 39.890625 \nQ 22.75 39.890625 18.8125 39.015625 \nQ 14.890625 38.140625 10.796875 36.28125 \nz\n\" id=\"DejaVuSans-53\"/>\n      </defs>\n      <g transform=\"translate(360.791765 266.418437)scale(0.1 -0.1)\">\n       <use xlink:href=\"#DejaVuSans-53\"/>\n       <use x=\"63.623047\" xlink:href=\"#DejaVuSans-48\"/>\n       <use x=\"127.246094\" xlink:href=\"#DejaVuSans-48\"/>\n      </g>\n     </g>\n    </g>\n    <g id=\"text_7\">\n     <!-- Groups of experiments -->\n     <defs>\n      <path d=\"M 59.515625 10.40625 \nL 59.515625 29.984375 \nL 43.40625 29.984375 \nL 43.40625 38.09375 \nL 69.28125 38.09375 \nL 69.28125 6.78125 \nQ 63.578125 2.734375 56.6875 0.65625 \nQ 49.8125 -1.421875 42 -1.421875 \nQ 24.90625 -1.421875 15.25 8.5625 \nQ 5.609375 18.5625 5.609375 36.375 \nQ 5.609375 54.25 15.25 64.234375 \nQ 24.90625 74.21875 42 74.21875 \nQ 49.125 74.21875 55.546875 72.453125 \nQ 61.96875 70.703125 67.390625 67.28125 \nL 67.390625 56.78125 \nQ 61.921875 61.421875 55.765625 63.765625 \nQ 49.609375 66.109375 42.828125 66.109375 \nQ 29.4375 66.109375 22.71875 58.640625 \nQ 16.015625 51.171875 16.015625 36.375 \nQ 16.015625 21.625 22.71875 14.15625 \nQ 29.4375 6.6875 42.828125 6.6875 \nQ 48.046875 6.6875 52.140625 7.59375 \nQ 56.25 8.5 59.515625 10.40625 \nz\n\" id=\"DejaVuSans-71\"/>\n      <path d=\"M 41.109375 46.296875 \nQ 39.59375 47.171875 37.8125 47.578125 \nQ 36.03125 48 33.890625 48 \nQ 26.265625 48 22.1875 43.046875 \nQ 18.109375 38.09375 18.109375 28.8125 \nL 18.109375 0 \nL 9.078125 0 \nL 9.078125 54.6875 \nL 18.109375 54.6875 \nL 18.109375 46.1875 \nQ 20.953125 51.171875 25.484375 53.578125 \nQ 30.03125 56 36.53125 56 \nQ 37.453125 56 38.578125 55.875 \nQ 39.703125 55.765625 41.0625 55.515625 \nz\n\" id=\"DejaVuSans-114\"/>\n      <path d=\"M 30.609375 48.390625 \nQ 23.390625 48.390625 19.1875 42.75 \nQ 14.984375 37.109375 14.984375 27.296875 \nQ 14.984375 17.484375 19.15625 11.84375 \nQ 23.34375 6.203125 30.609375 6.203125 \nQ 37.796875 6.203125 41.984375 11.859375 \nQ 46.1875 17.53125 46.1875 27.296875 \nQ 46.1875 37.015625 41.984375 42.703125 \nQ 37.796875 48.390625 30.609375 48.390625 \nz\nM 30.609375 56 \nQ 42.328125 56 49.015625 48.375 \nQ 55.71875 40.765625 55.71875 27.296875 \nQ 55.71875 13.875 49.015625 6.21875 \nQ 42.328125 -1.421875 30.609375 -1.421875 \nQ 18.84375 -1.421875 12.171875 6.21875 \nQ 5.515625 13.875 5.515625 27.296875 \nQ 5.515625 40.765625 12.171875 48.375 \nQ 18.84375 56 30.609375 56 \nz\n\" id=\"DejaVuSans-111\"/>\n      <path d=\"M 8.5 21.578125 \nL 8.5 54.6875 \nL 17.484375 54.6875 \nL 17.484375 21.921875 \nQ 17.484375 14.15625 20.5 10.265625 \nQ 23.53125 6.390625 29.59375 6.390625 \nQ 36.859375 6.390625 41.078125 11.03125 \nQ 45.3125 15.671875 45.3125 23.6875 \nL 45.3125 54.6875 \nL 54.296875 54.6875 \nL 54.296875 0 \nL 45.3125 0 \nL 45.3125 8.40625 \nQ 42.046875 3.421875 37.71875 1 \nQ 33.40625 -1.421875 27.6875 -1.421875 \nQ 18.265625 -1.421875 13.375 4.4375 \nQ 8.5 10.296875 8.5 21.578125 \nz\nM 31.109375 56 \nz\n\" id=\"DejaVuSans-117\"/>\n      <path d=\"M 18.109375 8.203125 \nL 18.109375 -20.796875 \nL 9.078125 -20.796875 \nL 9.078125 54.6875 \nL 18.109375 54.6875 \nL 18.109375 46.390625 \nQ 20.953125 51.265625 25.265625 53.625 \nQ 29.59375 56 35.59375 56 \nQ 45.5625 56 51.78125 48.09375 \nQ 58.015625 40.1875 58.015625 27.296875 \nQ 58.015625 14.40625 51.78125 6.484375 \nQ 45.5625 -1.421875 35.59375 -1.421875 \nQ 29.59375 -1.421875 25.265625 0.953125 \nQ 20.953125 3.328125 18.109375 8.203125 \nz\nM 48.6875 27.296875 \nQ 48.6875 37.203125 44.609375 42.84375 \nQ 40.53125 48.484375 33.40625 48.484375 \nQ 26.265625 48.484375 22.1875 42.84375 \nQ 18.109375 37.203125 18.109375 27.296875 \nQ 18.109375 17.390625 22.1875 11.75 \nQ 26.265625 6.109375 33.40625 6.109375 \nQ 40.53125 6.109375 44.609375 11.75 \nQ 48.6875 17.390625 48.6875 27.296875 \nz\n\" id=\"DejaVuSans-112\"/>\n      <path d=\"M 44.28125 53.078125 \nL 44.28125 44.578125 \nQ 40.484375 46.53125 36.375 47.5 \nQ 32.28125 48.484375 27.875 48.484375 \nQ 21.1875 48.484375 17.84375 46.4375 \nQ 14.5 44.390625 14.5 40.28125 \nQ 14.5 37.15625 16.890625 35.375 \nQ 19.28125 33.59375 26.515625 31.984375 \nL 29.59375 31.296875 \nQ 39.15625 29.25 43.1875 25.515625 \nQ 47.21875 21.78125 47.21875 15.09375 \nQ 47.21875 7.46875 41.1875 3.015625 \nQ 35.15625 -1.421875 24.609375 -1.421875 \nQ 20.21875 -1.421875 15.453125 -0.5625 \nQ 10.6875 0.296875 5.421875 2 \nL 5.421875 11.28125 \nQ 10.40625 8.6875 15.234375 7.390625 \nQ 20.0625 6.109375 24.8125 6.109375 \nQ 31.15625 6.109375 34.5625 8.28125 \nQ 37.984375 10.453125 37.984375 14.40625 \nQ 37.984375 18.0625 35.515625 20.015625 \nQ 33.0625 21.96875 24.703125 23.78125 \nL 21.578125 24.515625 \nQ 13.234375 26.265625 9.515625 29.90625 \nQ 5.8125 33.546875 5.8125 39.890625 \nQ 5.8125 47.609375 11.28125 51.796875 \nQ 16.75 56 26.8125 56 \nQ 31.78125 56 36.171875 55.265625 \nQ 40.578125 54.546875 44.28125 53.078125 \nz\n\" id=\"DejaVuSans-115\"/>\n      <path id=\"DejaVuSans-32\"/>\n      <path d=\"M 37.109375 75.984375 \nL 37.109375 68.5 \nL 28.515625 68.5 \nQ 23.6875 68.5 21.796875 66.546875 \nQ 19.921875 64.59375 19.921875 59.515625 \nL 19.921875 54.6875 \nL 34.71875 54.6875 \nL 34.71875 47.703125 \nL 19.921875 47.703125 \nL 19.921875 0 \nL 10.890625 0 \nL 10.890625 47.703125 \nL 2.296875 47.703125 \nL 2.296875 54.6875 \nL 10.890625 54.6875 \nL 10.890625 58.5 \nQ 10.890625 67.625 15.140625 71.796875 \nQ 19.390625 75.984375 28.609375 75.984375 \nz\n\" id=\"DejaVuSans-102\"/>\n      <path d=\"M 56.203125 29.59375 \nL 56.203125 25.203125 \nL 14.890625 25.203125 \nQ 15.484375 15.921875 20.484375 11.0625 \nQ 25.484375 6.203125 34.421875 6.203125 \nQ 39.59375 6.203125 44.453125 7.46875 \nQ 49.3125 8.734375 54.109375 11.28125 \nL 54.109375 2.78125 \nQ 49.265625 0.734375 44.1875 -0.34375 \nQ 39.109375 -1.421875 33.890625 -1.421875 \nQ 20.796875 -1.421875 13.15625 6.1875 \nQ 5.515625 13.8125 5.515625 26.8125 \nQ 5.515625 40.234375 12.765625 48.109375 \nQ 20.015625 56 32.328125 56 \nQ 43.359375 56 49.78125 48.890625 \nQ 56.203125 41.796875 56.203125 29.59375 \nz\nM 47.21875 32.234375 \nQ 47.125 39.59375 43.09375 43.984375 \nQ 39.0625 48.390625 32.421875 48.390625 \nQ 24.90625 48.390625 20.390625 44.140625 \nQ 15.875 39.890625 15.1875 32.171875 \nz\n\" id=\"DejaVuSans-101\"/>\n      <path d=\"M 54.890625 54.6875 \nL 35.109375 28.078125 \nL 55.90625 0 \nL 45.3125 0 \nL 29.390625 21.484375 \nL 13.484375 0 \nL 2.875 0 \nL 24.125 28.609375 \nL 4.6875 54.6875 \nL 15.28125 54.6875 \nL 29.78125 35.203125 \nL 44.28125 54.6875 \nz\n\" id=\"DejaVuSans-120\"/>\n      <path d=\"M 9.421875 54.6875 \nL 18.40625 54.6875 \nL 18.40625 0 \nL 9.421875 0 \nz\nM 9.421875 75.984375 \nL 18.40625 75.984375 \nL 18.40625 64.59375 \nL 9.421875 64.59375 \nz\n\" id=\"DejaVuSans-105\"/>\n      <path d=\"M 52 44.1875 \nQ 55.375 50.25 60.0625 53.125 \nQ 64.75 56 71.09375 56 \nQ 79.640625 56 84.28125 50.015625 \nQ 88.921875 44.046875 88.921875 33.015625 \nL 88.921875 0 \nL 79.890625 0 \nL 79.890625 32.71875 \nQ 79.890625 40.578125 77.09375 44.375 \nQ 74.3125 48.1875 68.609375 48.1875 \nQ 61.625 48.1875 57.5625 43.546875 \nQ 53.515625 38.921875 53.515625 30.90625 \nL 53.515625 0 \nL 44.484375 0 \nL 44.484375 32.71875 \nQ 44.484375 40.625 41.703125 44.40625 \nQ 38.921875 48.1875 33.109375 48.1875 \nQ 26.21875 48.1875 22.15625 43.53125 \nQ 18.109375 38.875 18.109375 30.90625 \nL 18.109375 0 \nL 9.078125 0 \nL 9.078125 54.6875 \nL 18.109375 54.6875 \nL 18.109375 46.1875 \nQ 21.1875 51.21875 25.484375 53.609375 \nQ 29.78125 56 35.6875 56 \nQ 41.65625 56 45.828125 52.96875 \nQ 50 49.953125 52 44.1875 \nz\n\" id=\"DejaVuSans-109\"/>\n      <path d=\"M 54.890625 33.015625 \nL 54.890625 0 \nL 45.90625 0 \nL 45.90625 32.71875 \nQ 45.90625 40.484375 42.875 44.328125 \nQ 39.84375 48.1875 33.796875 48.1875 \nQ 26.515625 48.1875 22.3125 43.546875 \nQ 18.109375 38.921875 18.109375 30.90625 \nL 18.109375 0 \nL 9.078125 0 \nL 9.078125 54.6875 \nL 18.109375 54.6875 \nL 18.109375 46.1875 \nQ 21.34375 51.125 25.703125 53.5625 \nQ 30.078125 56 35.796875 56 \nQ 45.21875 56 50.046875 50.171875 \nQ 54.890625 44.34375 54.890625 33.015625 \nz\n\" id=\"DejaVuSans-110\"/>\n      <path d=\"M 18.3125 70.21875 \nL 18.3125 54.6875 \nL 36.8125 54.6875 \nL 36.8125 47.703125 \nL 18.3125 47.703125 \nL 18.3125 18.015625 \nQ 18.3125 11.328125 20.140625 9.421875 \nQ 21.96875 7.515625 27.59375 7.515625 \nL 36.8125 7.515625 \nL 36.8125 0 \nL 27.59375 0 \nQ 17.1875 0 13.234375 3.875 \nQ 9.28125 7.765625 9.28125 18.015625 \nL 9.28125 47.703125 \nL 2.6875 47.703125 \nL 2.6875 54.6875 \nL 9.28125 54.6875 \nL 9.28125 70.21875 \nz\n\" id=\"DejaVuSans-116\"/>\n     </defs>\n     <g transform=\"translate(160.397656 280.096562)scale(0.1 -0.1)\">\n      <use xlink:href=\"#DejaVuSans-71\"/>\n      <use x=\"77.490234\" xlink:href=\"#DejaVuSans-114\"/>\n      <use x=\"116.353516\" xlink:href=\"#DejaVuSans-111\"/>\n      <use x=\"177.535156\" xlink:href=\"#DejaVuSans-117\"/>\n      <use x=\"240.914062\" xlink:href=\"#DejaVuSans-112\"/>\n      <use x=\"304.390625\" xlink:href=\"#DejaVuSans-115\"/>\n      <use x=\"356.490234\" xlink:href=\"#DejaVuSans-32\"/>\n      <use x=\"388.277344\" xlink:href=\"#DejaVuSans-111\"/>\n      <use x=\"449.458984\" xlink:href=\"#DejaVuSans-102\"/>\n      <use x=\"484.664062\" xlink:href=\"#DejaVuSans-32\"/>\n      <use x=\"516.451172\" xlink:href=\"#DejaVuSans-101\"/>\n      <use x=\"576.224609\" xlink:href=\"#DejaVuSans-120\"/>\n      <use x=\"635.404297\" xlink:href=\"#DejaVuSans-112\"/>\n      <use x=\"698.880859\" xlink:href=\"#DejaVuSans-101\"/>\n      <use x=\"760.404297\" xlink:href=\"#DejaVuSans-114\"/>\n      <use x=\"801.517578\" xlink:href=\"#DejaVuSans-105\"/>\n      <use x=\"829.300781\" xlink:href=\"#DejaVuSans-109\"/>\n      <use x=\"926.712891\" xlink:href=\"#DejaVuSans-101\"/>\n      <use x=\"988.236328\" xlink:href=\"#DejaVuSans-110\"/>\n      <use x=\"1051.615234\" xlink:href=\"#DejaVuSans-116\"/>\n      <use x=\"1090.824219\" xlink:href=\"#DejaVuSans-115\"/>\n     </g>\n    </g>\n   </g>\n   <g id=\"matplotlib.axis_2\">\n    <g id=\"ytick_1\">\n     <g id=\"line2d_7\">\n      <defs>\n       <path d=\"M 0 0 \nL -3.5 0 \n\" id=\"m0ba692fdaa\" style=\"stroke:#000000;stroke-width:0.8;\"/>\n      </defs>\n      <g>\n       <use style=\"stroke:#000000;stroke-width:0.8;\" x=\"50.14375\" xlink:href=\"#m0ba692fdaa\" y=\"240.70091\"/>\n      </g>\n     </g>\n     <g id=\"text_8\">\n      <!-- 0.05 -->\n      <defs>\n       <path d=\"M 10.6875 12.40625 \nL 21 12.40625 \nL 21 0 \nL 10.6875 0 \nz\n\" id=\"DejaVuSans-46\"/>\n      </defs>\n      <g transform=\"translate(20.878125 244.500128)scale(0.1 -0.1)\">\n       <use xlink:href=\"#DejaVuSans-48\"/>\n       <use x=\"63.623047\" xlink:href=\"#DejaVuSans-46\"/>\n       <use x=\"95.410156\" xlink:href=\"#DejaVuSans-48\"/>\n       <use x=\"159.033203\" xlink:href=\"#DejaVuSans-53\"/>\n      </g>\n     </g>\n    </g>\n    <g id=\"ytick_2\">\n     <g id=\"line2d_8\">\n      <g>\n       <use style=\"stroke:#000000;stroke-width:0.8;\" x=\"50.14375\" xlink:href=\"#m0ba692fdaa\" y=\"201.457061\"/>\n      </g>\n     </g>\n     <g id=\"text_9\">\n      <!-- 0.10 -->\n      <g transform=\"translate(20.878125 205.256279)scale(0.1 -0.1)\">\n       <use xlink:href=\"#DejaVuSans-48\"/>\n       <use x=\"63.623047\" xlink:href=\"#DejaVuSans-46\"/>\n       <use x=\"95.410156\" xlink:href=\"#DejaVuSans-49\"/>\n       <use x=\"159.033203\" xlink:href=\"#DejaVuSans-48\"/>\n      </g>\n     </g>\n    </g>\n    <g id=\"ytick_3\">\n     <g id=\"line2d_9\">\n      <g>\n       <use style=\"stroke:#000000;stroke-width:0.8;\" x=\"50.14375\" xlink:href=\"#m0ba692fdaa\" y=\"162.213212\"/>\n      </g>\n     </g>\n     <g id=\"text_10\">\n      <!-- 0.15 -->\n      <g transform=\"translate(20.878125 166.01243)scale(0.1 -0.1)\">\n       <use xlink:href=\"#DejaVuSans-48\"/>\n       <use x=\"63.623047\" xlink:href=\"#DejaVuSans-46\"/>\n       <use x=\"95.410156\" xlink:href=\"#DejaVuSans-49\"/>\n       <use x=\"159.033203\" xlink:href=\"#DejaVuSans-53\"/>\n      </g>\n     </g>\n    </g>\n    <g id=\"ytick_4\">\n     <g id=\"line2d_10\">\n      <g>\n       <use style=\"stroke:#000000;stroke-width:0.8;\" x=\"50.14375\" xlink:href=\"#m0ba692fdaa\" y=\"122.969363\"/>\n      </g>\n     </g>\n     <g id=\"text_11\">\n      <!-- 0.20 -->\n      <g transform=\"translate(20.878125 126.768581)scale(0.1 -0.1)\">\n       <use xlink:href=\"#DejaVuSans-48\"/>\n       <use x=\"63.623047\" xlink:href=\"#DejaVuSans-46\"/>\n       <use x=\"95.410156\" xlink:href=\"#DejaVuSans-50\"/>\n       <use x=\"159.033203\" xlink:href=\"#DejaVuSans-48\"/>\n      </g>\n     </g>\n    </g>\n    <g id=\"ytick_5\">\n     <g id=\"line2d_11\">\n      <g>\n       <use style=\"stroke:#000000;stroke-width:0.8;\" x=\"50.14375\" xlink:href=\"#m0ba692fdaa\" y=\"83.725514\"/>\n      </g>\n     </g>\n     <g id=\"text_12\">\n      <!-- 0.25 -->\n      <g transform=\"translate(20.878125 87.524732)scale(0.1 -0.1)\">\n       <use xlink:href=\"#DejaVuSans-48\"/>\n       <use x=\"63.623047\" xlink:href=\"#DejaVuSans-46\"/>\n       <use x=\"95.410156\" xlink:href=\"#DejaVuSans-50\"/>\n       <use x=\"159.033203\" xlink:href=\"#DejaVuSans-53\"/>\n      </g>\n     </g>\n    </g>\n    <g id=\"ytick_6\">\n     <g id=\"line2d_12\">\n      <g>\n       <use style=\"stroke:#000000;stroke-width:0.8;\" x=\"50.14375\" xlink:href=\"#m0ba692fdaa\" y=\"44.481665\"/>\n      </g>\n     </g>\n     <g id=\"text_13\">\n      <!-- 0.30 -->\n      <g transform=\"translate(20.878125 48.280883)scale(0.1 -0.1)\">\n       <use xlink:href=\"#DejaVuSans-48\"/>\n       <use x=\"63.623047\" xlink:href=\"#DejaVuSans-46\"/>\n       <use x=\"95.410156\" xlink:href=\"#DejaVuSans-51\"/>\n       <use x=\"159.033203\" xlink:href=\"#DejaVuSans-48\"/>\n      </g>\n     </g>\n    </g>\n    <g id=\"text_14\">\n     <!-- Estimated probability -->\n     <defs>\n      <path d=\"M 9.8125 72.90625 \nL 55.90625 72.90625 \nL 55.90625 64.59375 \nL 19.671875 64.59375 \nL 19.671875 43.015625 \nL 54.390625 43.015625 \nL 54.390625 34.71875 \nL 19.671875 34.71875 \nL 19.671875 8.296875 \nL 56.78125 8.296875 \nL 56.78125 0 \nL 9.8125 0 \nz\n\" id=\"DejaVuSans-69\"/>\n      <path d=\"M 34.28125 27.484375 \nQ 23.390625 27.484375 19.1875 25 \nQ 14.984375 22.515625 14.984375 16.5 \nQ 14.984375 11.71875 18.140625 8.90625 \nQ 21.296875 6.109375 26.703125 6.109375 \nQ 34.1875 6.109375 38.703125 11.40625 \nQ 43.21875 16.703125 43.21875 25.484375 \nL 43.21875 27.484375 \nz\nM 52.203125 31.203125 \nL 52.203125 0 \nL 43.21875 0 \nL 43.21875 8.296875 \nQ 40.140625 3.328125 35.546875 0.953125 \nQ 30.953125 -1.421875 24.3125 -1.421875 \nQ 15.921875 -1.421875 10.953125 3.296875 \nQ 6 8.015625 6 15.921875 \nQ 6 25.140625 12.171875 29.828125 \nQ 18.359375 34.515625 30.609375 34.515625 \nL 43.21875 34.515625 \nL 43.21875 35.40625 \nQ 43.21875 41.609375 39.140625 45 \nQ 35.0625 48.390625 27.6875 48.390625 \nQ 23 48.390625 18.546875 47.265625 \nQ 14.109375 46.140625 10.015625 43.890625 \nL 10.015625 52.203125 \nQ 14.9375 54.109375 19.578125 55.046875 \nQ 24.21875 56 28.609375 56 \nQ 40.484375 56 46.34375 49.84375 \nQ 52.203125 43.703125 52.203125 31.203125 \nz\n\" id=\"DejaVuSans-97\"/>\n      <path d=\"M 45.40625 46.390625 \nL 45.40625 75.984375 \nL 54.390625 75.984375 \nL 54.390625 0 \nL 45.40625 0 \nL 45.40625 8.203125 \nQ 42.578125 3.328125 38.25 0.953125 \nQ 33.9375 -1.421875 27.875 -1.421875 \nQ 17.96875 -1.421875 11.734375 6.484375 \nQ 5.515625 14.40625 5.515625 27.296875 \nQ 5.515625 40.1875 11.734375 48.09375 \nQ 17.96875 56 27.875 56 \nQ 33.9375 56 38.25 53.625 \nQ 42.578125 51.265625 45.40625 46.390625 \nz\nM 14.796875 27.296875 \nQ 14.796875 17.390625 18.875 11.75 \nQ 22.953125 6.109375 30.078125 6.109375 \nQ 37.203125 6.109375 41.296875 11.75 \nQ 45.40625 17.390625 45.40625 27.296875 \nQ 45.40625 37.203125 41.296875 42.84375 \nQ 37.203125 48.484375 30.078125 48.484375 \nQ 22.953125 48.484375 18.875 42.84375 \nQ 14.796875 37.203125 14.796875 27.296875 \nz\n\" id=\"DejaVuSans-100\"/>\n      <path d=\"M 48.6875 27.296875 \nQ 48.6875 37.203125 44.609375 42.84375 \nQ 40.53125 48.484375 33.40625 48.484375 \nQ 26.265625 48.484375 22.1875 42.84375 \nQ 18.109375 37.203125 18.109375 27.296875 \nQ 18.109375 17.390625 22.1875 11.75 \nQ 26.265625 6.109375 33.40625 6.109375 \nQ 40.53125 6.109375 44.609375 11.75 \nQ 48.6875 17.390625 48.6875 27.296875 \nz\nM 18.109375 46.390625 \nQ 20.953125 51.265625 25.265625 53.625 \nQ 29.59375 56 35.59375 56 \nQ 45.5625 56 51.78125 48.09375 \nQ 58.015625 40.1875 58.015625 27.296875 \nQ 58.015625 14.40625 51.78125 6.484375 \nQ 45.5625 -1.421875 35.59375 -1.421875 \nQ 29.59375 -1.421875 25.265625 0.953125 \nQ 20.953125 3.328125 18.109375 8.203125 \nL 18.109375 0 \nL 9.078125 0 \nL 9.078125 75.984375 \nL 18.109375 75.984375 \nz\n\" id=\"DejaVuSans-98\"/>\n      <path d=\"M 9.421875 75.984375 \nL 18.40625 75.984375 \nL 18.40625 0 \nL 9.421875 0 \nz\n\" id=\"DejaVuSans-108\"/>\n      <path d=\"M 32.171875 -5.078125 \nQ 28.375 -14.84375 24.75 -17.8125 \nQ 21.140625 -20.796875 15.09375 -20.796875 \nL 7.90625 -20.796875 \nL 7.90625 -13.28125 \nL 13.1875 -13.28125 \nQ 16.890625 -13.28125 18.9375 -11.515625 \nQ 21 -9.765625 23.484375 -3.21875 \nL 25.09375 0.875 \nL 2.984375 54.6875 \nL 12.5 54.6875 \nL 29.59375 11.921875 \nL 46.6875 54.6875 \nL 56.203125 54.6875 \nz\n\" id=\"DejaVuSans-121\"/>\n     </defs>\n     <g transform=\"translate(14.798438 183.033437)rotate(-90)scale(0.1 -0.1)\">\n      <use xlink:href=\"#DejaVuSans-69\"/>\n      <use x=\"63.183594\" xlink:href=\"#DejaVuSans-115\"/>\n      <use x=\"115.283203\" xlink:href=\"#DejaVuSans-116\"/>\n      <use x=\"154.492188\" xlink:href=\"#DejaVuSans-105\"/>\n      <use x=\"182.275391\" xlink:href=\"#DejaVuSans-109\"/>\n      <use x=\"279.6875\" xlink:href=\"#DejaVuSans-97\"/>\n      <use x=\"340.966797\" xlink:href=\"#DejaVuSans-116\"/>\n      <use x=\"380.175781\" xlink:href=\"#DejaVuSans-101\"/>\n      <use x=\"441.699219\" xlink:href=\"#DejaVuSans-100\"/>\n      <use x=\"505.175781\" xlink:href=\"#DejaVuSans-32\"/>\n      <use x=\"536.962891\" xlink:href=\"#DejaVuSans-112\"/>\n      <use x=\"600.439453\" xlink:href=\"#DejaVuSans-114\"/>\n      <use x=\"639.302734\" xlink:href=\"#DejaVuSans-111\"/>\n      <use x=\"700.484375\" xlink:href=\"#DejaVuSans-98\"/>\n      <use x=\"763.960938\" xlink:href=\"#DejaVuSans-97\"/>\n      <use x=\"825.240234\" xlink:href=\"#DejaVuSans-98\"/>\n      <use x=\"888.716797\" xlink:href=\"#DejaVuSans-105\"/>\n      <use x=\"916.5\" xlink:href=\"#DejaVuSans-108\"/>\n      <use x=\"944.283203\" xlink:href=\"#DejaVuSans-105\"/>\n      <use x=\"972.066406\" xlink:href=\"#DejaVuSans-116\"/>\n      <use x=\"1011.275391\" xlink:href=\"#DejaVuSans-121\"/>\n     </g>\n    </g>\n   </g>\n   <g id=\"line2d_13\">\n    <path clip-path=\"url(#p2c0f1fae2d)\" d=\"M 65.361932 201.45706 \nL 65.971879 162.213207 \nL 66.581826 175.294489 \nL 67.191773 142.59129 \nL 67.80172 138.666897 \nL 68.411668 162.213207 \nL 69.021615 179.031998 \nL 69.631562 172.024172 \nL 70.241509 175.294489 \nL 71.461403 180.051327 \nL 72.071351 168.753854 \nL 72.681298 171.269479 \nL 73.901192 164.829473 \nL 74.511139 157.307731 \nL 75.121086 164.521669 \nL 75.731034 157.85278 \nL 76.340981 160.147744 \nL 77.560875 156.606943 \nL 78.170822 155.077969 \nL 78.780769 150.269437 \nL 80.000664 160.643462 \nL 80.610611 159.19445 \nL 81.220558 152.038884 \nL 82.440452 155.447034 \nL 83.0504 159.596953 \nL 84.270294 157.307731 \nL 84.880241 158.645588 \nL 85.490188 157.596284 \nL 86.100135 158.849453 \nL 87.32003 156.909987 \nL 87.929977 160.147744 \nL 88.539924 159.19445 \nL 89.149871 160.251016 \nL 89.759819 163.170373 \nL 90.369766 160.344452 \nL 92.199607 163.0853 \nL 93.419502 164.718143 \nL 95.249343 162.213207 \nL 95.85929 164.521669 \nL 96.469237 165.231964 \nL 97.079185 167.39636 \nL 97.689132 168.027114 \nL 98.299079 164.35379 \nL 98.909026 165.016345 \nL 100.12892 163.566444 \nL 100.738868 165.538962 \nL 101.958762 166.716601 \nL 102.568709 164.745078 \nL 103.178656 166.573634 \nL 103.788603 165.89232 \nL 104.398551 166.439474 \nL 105.008498 168.159251 \nL 105.618445 168.656231 \nL 106.228392 167.984367 \nL 106.838339 169.606976 \nL 107.448286 166.698227 \nL 108.058234 168.293247 \nL 108.668181 168.753854 \nL 109.278128 170.277016 \nL 109.888075 168.577075 \nL 110.498022 170.061981 \nL 111.717917 170.877444 \nL 112.327864 168.250722 \nL 112.937811 166.684029 \nL 113.547758 166.1376 \nL 114.157705 167.542625 \nL 114.767652 166.999049 \nL 115.3776 167.414207 \nL 116.597494 166.368447 \nL 117.207441 166.776447 \nL 117.817388 166.272918 \nL 118.427335 166.672743 \nL 119.037283 165.29981 \nL 119.64723 162.213207 \nL 120.257177 160.919454 \nL 120.867124 161.360085 \nL 121.477071 162.635183 \nL 122.696966 161.800119 \nL 123.306913 159.760469 \nL 123.91686 160.190328 \nL 124.526807 161.412317 \nL 125.136754 161.024001 \nL 125.746701 158.288826 \nL 126.966596 159.135258 \nL 127.576543 158.02212 \nL 128.18649 159.19445 \nL 128.796437 158.849453 \nL 129.406384 159.251407 \nL 130.626279 158.579519 \nL 131.846173 160.786159 \nL 132.45612 161.15257 \nL 133.066067 159.410081 \nL 134.285962 157.393787 \nL 134.895909 157.776945 \nL 138.555592 156.050959 \nL 139.165539 153.20643 \nL 139.775486 154.236823 \nL 140.995381 152.480731 \nL 141.605328 150.377761 \nL 142.825222 151.175879 \nL 143.435169 150.348791 \nL 144.045116 150.741938 \nL 145.874958 150.115488 \nL 146.484905 150.498635 \nL 147.704799 152.402254 \nL 148.314747 152.760314 \nL 148.924694 150.838181 \nL 149.534641 151.202346 \nL 150.754535 150.801878 \nL 151.364482 151.158605 \nL 152.584377 150.767084 \nL 153.194324 151.657971 \nL 153.804271 151.999061 \nL 154.414218 152.869434 \nL 155.024165 153.197729 \nL 155.634113 151.414574 \nL 156.24406 151.22493 \nL 156.854007 152.077386 \nL 157.463954 151.369511 \nL 158.073901 151.183891 \nL 158.683848 150.491021 \nL 159.293796 150.313459 \nL 160.51369 148.965286 \nL 161.123637 147.310479 \nL 161.733584 147.651031 \nL 162.343531 147.006218 \nL 162.953479 147.831926 \nL 163.563426 148.162946 \nL 164.173373 148.971426 \nL 164.78332 149.291452 \nL 165.393267 149.131925 \nL 166.003214 148.028693 \nL 166.613162 147.878627 \nL 167.223109 147.26317 \nL 167.833056 147.583851 \nL 168.443003 148.362438 \nL 169.05295 148.213939 \nL 169.662897 148.979824 \nL 170.272845 148.829465 \nL 171.492739 149.430934 \nL 172.102686 148.388671 \nL 172.712633 147.801623 \nL 173.32258 147.662118 \nL 174.542475 148.259844 \nL 175.762369 147.981922 \nL 176.372316 148.703036 \nL 177.592211 148.424834 \nL 178.202158 148.709948 \nL 178.812105 148.572303 \nL 179.422052 148.853605 \nL 180.641946 150.233508 \nL 181.251894 150.090763 \nL 182.471788 150.623064 \nL 183.081735 150.075933 \nL 183.691682 150.741938 \nL 184.301629 150.19979 \nL 184.911577 150.06156 \nL 186.131471 151.366926 \nL 186.741418 150.440052 \nL 187.351365 150.303389 \nL 187.961312 150.556622 \nL 188.57126 150.420731 \nL 189.181207 151.055649 \nL 190.401101 150.782966 \nL 191.011048 151.027766 \nL 191.620995 151.647562 \nL 192.230943 151.510349 \nL 192.84089 151.748191 \nL 193.450837 152.355752 \nL 194.060784 152.217137 \nL 195.280678 152.677322 \nL 195.890626 152.174085 \nL 197.11052 153.351701 \nL 197.720467 153.212325 \nL 198.940361 153.650921 \nL 199.550309 153.512083 \nL 200.160256 154.081599 \nL 200.770203 153.942082 \nL 201.38015 154.154205 \nL 201.990097 153.666768 \nL 202.600044 153.878236 \nL 203.209992 153.742076 \nL 203.819939 153.951345 \nL 205.039833 153.681938 \nL 205.64978 153.888762 \nL 206.259727 153.755491 \nL 206.869675 154.297066 \nL 208.699516 154.896558 \nL 209.309463 155.424193 \nL 210.529358 155.809398 \nL 211.139305 156.326635 \nL 212.359199 155.402299 \nL 212.969146 153.653856 \nL 213.579093 153.528094 \nL 214.189041 153.723726 \nL 214.798988 154.236823 \nL 215.408935 154.427998 \nL 216.628829 154.175315 \nL 217.238776 154.364445 \nL 217.848724 154.23936 \nL 219.068618 154.612625 \nL 219.678565 154.488044 \nL 220.288512 154.98003 \nL 220.898459 154.854992 \nL 221.508407 155.036321 \nL 222.118354 154.912032 \nL 222.728301 155.394778 \nL 223.338248 155.571943 \nL 225.16809 155.200047 \nL 226.387984 155.54916 \nL 227.607878 156.480958 \nL 228.217825 156.063052 \nL 228.827773 156.231808 \nL 229.43772 155.817913 \nL 230.047667 155.6967 \nL 230.657614 155.864941 \nL 231.267561 155.45694 \nL 231.877508 155.911279 \nL 232.487456 155.791492 \nL 233.097403 155.103816 \nL 233.70735 155.554505 \nL 234.927244 154.758282 \nL 236.147139 155.090658 \nL 237.97698 156.409545 \nL 238.586927 156.016819 \nL 239.196874 156.450129 \nL 239.806822 156.606943 \nL 240.416769 156.490151 \nL 241.026716 156.917332 \nL 241.636663 156.800271 \nL 244.076452 157.407845 \nL 244.686399 157.025037 \nL 245.906293 157.324245 \nL 246.51624 157.73573 \nL 247.126188 157.356946 \nL 247.736135 157.242329 \nL 248.346082 155.824673 \nL 248.956029 155.97578 \nL 250.175923 155.758628 \nL 250.785871 155.90846 \nL 251.395818 156.313805 \nL 252.005765 155.949535 \nL 252.615712 155.842462 \nL 253.225659 155.990072 \nL 253.835606 155.630374 \nL 254.445554 155.777727 \nL 255.055501 155.672572 \nL 255.665448 156.069602 \nL 256.275395 155.964189 \nL 256.885342 155.361107 \nL 257.495289 155.258607 \nL 258.715184 155.54916 \nL 259.325131 155.447034 \nL 261.154972 154.413192 \nL 263.594761 154.990415 \nL 264.204708 155.372545 \nL 265.424603 155.652689 \nL 266.03455 155.553651 \nL 267.864391 156.674286 \nL 269.694233 157.074135 \nL 270.30418 156.972933 \nL 270.914127 157.104543 \nL 271.524074 157.003856 \nL 272.134021 156.442059 \nL 273.353916 156.705303 \nL 273.963863 156.606943 \nL 274.57381 156.052842 \nL 275.183757 156.411943 \nL 275.793704 156.542138 \nL 276.403652 155.993007 \nL 277.623546 155.803761 \nL 278.233493 155.4857 \nL 278.84344 154.945832 \nL 280.673282 155.339996 \nL 281.283229 154.806631 \nL 282.503123 154.188555 \nL 283.723018 154.014642 \nL 284.332965 153.710381 \nL 284.942912 153.190384 \nL 285.552859 153.106901 \nL 286.772753 153.372566 \nL 287.382701 153.28927 \nL 289.212542 153.681938 \nL 289.822489 152.960601 \nL 292.262278 153.480668 \nL 292.872225 153.818811 \nL 294.092119 154.072196 \nL 294.702067 154.406081 \nL 295.312014 154.530557 \nL 295.921961 154.447273 \nL 296.531908 154.570989 \nL 297.141855 154.076032 \nL 297.751802 153.789139 \nL 298.36175 154.118522 \nL 299.581644 153.548982 \nL 301.411485 153.919405 \nL 302.021433 153.436307 \nL 304.461221 153.925065 \nL 305.071168 153.647295 \nL 305.681116 153.768333 \nL 306.90101 153.613179 \nL 307.510957 153.930586 \nL 308.120904 153.852997 \nL 308.730851 153.579566 \nL 311.17064 154.0536 \nL 311.780587 153.783046 \nL 313.000482 154.01732 \nL 313.610429 153.941228 \nL 314.220376 154.057401 \nL 314.830323 154.364445 \nL 315.44027 154.288049 \nL 316.660165 154.516476 \nL 317.880059 154.364445 \nL 318.490006 154.666319 \nL 319.099953 154.59031 \nL 319.7099 154.32689 \nL 320.929795 154.925072 \nL 322.149689 154.773615 \nL 324.589478 155.211965 \nL 325.199425 155.136446 \nL 325.809372 155.428064 \nL 326.419319 155.16944 \nL 327.029266 155.459619 \nL 328.249161 155.672572 \nL 328.859108 155.415784 \nL 329.469055 155.521863 \nL 330.079002 155.80789 \nL 330.688949 155.732582 \nL 331.298897 155.83721 \nL 331.908844 156.120559 \nL 332.518791 156.045041 \nL 333.128738 156.148254 \nL 334.348632 156.708414 \nL 335.568527 156.909987 \nL 336.178474 156.657339 \nL 337.398368 156.506607 \nL 338.008315 156.606943 \nL 338.618263 156.532033 \nL 339.22821 156.631866 \nL 339.838157 156.905286 \nL 341.058051 157.101982 \nL 341.667998 157.026803 \nL 342.277946 157.124449 \nL 342.887893 157.049551 \nL 344.107787 157.243463 \nL 344.717734 156.826797 \nL 345.327681 157.09445 \nL 345.937629 156.850164 \nL 346.547576 157.116613 \nL 347.157523 157.042861 \nL 347.76747 157.138577 \nL 348.377417 157.065094 \nL 348.987365 157.160355 \nL 350.817206 156.941647 \nL 351.427153 157.036358 \nL 352.0371 156.964033 \nL 353.256995 157.484041 \nL 353.866942 157.411225 \nL 354.476889 157.173477 \nL 355.696783 157.359156 \nL 356.916678 157.215558 \nL 357.526625 156.980699 \nL 358.136572 157.236341 \nL 358.746519 157.328081 \nL 359.356466 157.581945 \nL 359.966414 157.348267 \nL 361.186308 157.529795 \nL 363.016149 157.317765 \nL 363.626097 157.407845 \nL 364.236044 157.657405 \nL 365.455938 157.835096 \nL 366.065885 158.082282 \nL 366.675832 158.169905 \nL 367.28578 157.940695 \nL 368.505674 158.115462 \nL 369.115621 157.887738 \nL 369.725568 157.817903 \nL 369.725568 157.817903 \n\" style=\"fill:none;stroke:#1f77b4;stroke-linecap:square;stroke-width:1.5;\"/>\n   </g>\n   <g id=\"line2d_14\">\n    <path clip-path=\"url(#p2c0f1fae2d)\" d=\"M 65.361932 122.96936 \nL 66.581826 201.45706 \nL 67.191773 142.59129 \nL 67.80172 138.666897 \nL 68.411668 149.131925 \nL 69.021615 122.96936 \nL 69.631562 132.780325 \nL 70.241509 140.41107 \nL 70.851456 122.96936 \nL 71.461403 130.104611 \nL 72.071351 142.59129 \nL 72.681298 135.04439 \nL 73.291245 134.181888 \nL 73.901192 122.96936 \nL 74.511139 127.874848 \nL 75.121086 127.586283 \nL 75.731034 136.050643 \nL 76.340981 131.231222 \nL 77.560875 130.444379 \nL 78.170822 133.67223 \nL 78.780769 133.206886 \nL 79.390717 139.320972 \nL 80.000664 138.666897 \nL 81.220558 143.318029 \nL 81.830505 142.59129 \nL 82.440452 144.621139 \nL 83.660347 143.224254 \nL 84.270294 145.044028 \nL 84.880241 139.618274 \nL 85.490188 141.437053 \nL 86.100135 138.666897 \nL 86.710083 140.41107 \nL 87.32003 137.818382 \nL 87.929977 139.493084 \nL 88.539924 137.056895 \nL 89.149871 132.780325 \nL 89.759819 134.455366 \nL 90.979713 130.270547 \nL 91.58966 131.88842 \nL 92.199607 129.946042 \nL 92.809554 131.50063 \nL 93.419502 127.97922 \nL 94.029449 126.239678 \nL 95.249343 126.108875 \nL 95.85929 124.508335 \nL 96.469237 124.478745 \nL 97.689132 121.515892 \nL 98.299079 124.396408 \nL 98.909026 122.96936 \nL 99.518973 124.346339 \nL 100.12892 127.029071 \nL 101.348815 124.277487 \nL 101.958762 125.542727 \nL 102.568709 125.501219 \nL 103.178656 127.952706 \nL 103.788603 125.422099 \nL 104.398551 124.17687 \nL 105.008498 124.158567 \nL 106.228392 119.506674 \nL 107.448286 124.090615 \nL 108.668181 121.879251 \nL 109.278128 122.96936 \nL 109.888075 125.090658 \nL 111.107969 122.96936 \nL 111.717917 123.988688 \nL 112.327864 125.988118 \nL 112.937811 124.956392 \nL 113.547758 126.893753 \nL 114.767652 122.96936 \nL 115.3776 124.860629 \nL 115.987547 123.903744 \nL 116.597494 125.739517 \nL 117.817388 125.675834 \nL 119.037283 127.378781 \nL 119.64723 127.329788 \nL 120.257177 128.144373 \nL 121.477071 128.03309 \nL 122.087018 129.649161 \nL 122.696966 130.405035 \nL 123.306913 129.510007 \nL 123.91686 127.015118 \nL 124.526807 126.973833 \nL 125.746701 130.033256 \nL 126.356649 129.963316 \nL 126.966596 131.433719 \nL 127.576543 132.11356 \nL 128.18649 129.761568 \nL 129.406384 131.114313 \nL 130.016332 132.505257 \nL 130.626279 133.143695 \nL 131.236226 131.610206 \nL 132.45612 132.868708 \nL 133.066067 132.780325 \nL 133.676015 134.082663 \nL 134.285962 133.98518 \nL 135.505856 135.148492 \nL 136.115803 135.04439 \nL 136.72575 132.281462 \nL 137.335698 131.543646 \nL 139.165539 133.262826 \nL 139.775486 133.179144 \nL 140.385433 134.362737 \nL 140.995381 133.643693 \nL 141.605328 134.181888 \nL 142.215275 134.093598 \nL 143.435169 135.138002 \nL 144.045116 135.04439 \nL 144.655064 133.753935 \nL 145.874958 132.411493 \nL 146.484905 132.341027 \nL 147.094852 132.853001 \nL 147.704799 131.626088 \nL 149.534641 133.133239 \nL 150.754535 132.989068 \nL 151.364482 134.023963 \nL 151.97443 132.848931 \nL 152.584377 132.780325 \nL 153.194324 131.630077 \nL 153.804271 132.108344 \nL 154.414218 130.978317 \nL 155.024165 130.924202 \nL 156.24406 131.864631 \nL 156.854007 131.805721 \nL 158.073901 132.716198 \nL 158.683848 133.67223 \nL 159.293796 133.603179 \nL 161.123637 134.891541 \nL 161.733584 134.322925 \nL 162.343531 134.742516 \nL 162.953479 134.669395 \nL 163.563426 135.566153 \nL 164.173373 135.488869 \nL 164.78332 133.976783 \nL 165.393267 134.385754 \nL 166.003214 134.316984 \nL 166.613162 134.719019 \nL 169.05295 134.444173 \nL 170.882792 135.599568 \nL 171.492739 135.527394 \nL 172.712633 136.272367 \nL 173.32258 135.756686 \nL 176.372316 137.551782 \nL 176.982263 137.472521 \nL 178.812105 138.499018 \nL 180.031999 138.334684 \nL 180.641946 137.840721 \nL 181.861841 138.503381 \nL 182.471788 138.422904 \nL 183.081735 138.747818 \nL 183.691682 138.264405 \nL 184.301629 138.586817 \nL 184.911577 139.304364 \nL 185.521524 138.429055 \nL 186.131471 138.351373 \nL 186.741418 138.666897 \nL 187.351365 138.588805 \nL 187.961312 139.288587 \nL 188.57126 139.208191 \nL 190.401101 140.114739 \nL 191.620995 139.949878 \nL 192.230943 140.244162 \nL 193.450837 140.080424 \nL 194.670731 140.656736 \nL 195.280678 141.307606 \nL 195.890626 141.587376 \nL 196.500573 142.22792 \nL 197.11052 142.500859 \nL 197.720467 143.131345 \nL 198.330414 143.397665 \nL 198.940361 142.948051 \nL 199.550309 142.147349 \nL 200.160256 142.060965 \nL 201.990097 142.852908 \nL 202.600044 142.417645 \nL 203.209992 142.677732 \nL 205.039833 142.420663 \nL 205.64978 141.996686 \nL 206.259727 142.252983 \nL 206.869675 141.833358 \nL 207.479622 142.423575 \nL 208.089569 142.340794 \nL 208.699516 142.59129 \nL 209.309463 141.183809 \nL 209.91941 141.766833 \nL 210.529358 142.016592 \nL 211.139305 142.59129 \nL 211.749252 142.83554 \nL 212.359199 143.402109 \nL 212.969146 143.641014 \nL 213.579093 143.556303 \nL 214.189041 143.792624 \nL 214.798988 143.707983 \nL 215.408935 144.259547 \nL 216.018882 143.857219 \nL 216.628829 143.773327 \nL 217.238776 144.004069 \nL 218.458671 143.837126 \nL 219.068618 143.134187 \nL 219.678565 143.363806 \nL 220.288512 143.283832 \nL 220.898459 143.511065 \nL 221.508407 143.125731 \nL 222.118354 143.35183 \nL 222.728301 142.364009 \nL 223.948195 142.816827 \nL 224.558142 143.340216 \nL 225.16809 143.561192 \nL 225.778037 143.185893 \nL 228.217825 144.055611 \nL 229.43772 143.899417 \nL 230.047667 143.532561 \nL 230.657614 143.745514 \nL 231.267561 143.09441 \nL 231.877508 143.307421 \nL 232.487456 143.233459 \nL 233.70735 143.653845 \nL 235.537191 143.432225 \nL 236.147139 142.242141 \nL 236.757086 141.895473 \nL 239.196874 142.728502 \nL 239.806822 143.206606 \nL 240.416769 143.136339 \nL 241.026716 143.609729 \nL 241.636663 143.53855 \nL 242.24661 144.007297 \nL 242.856557 144.204051 \nL 243.466505 144.131574 \nL 244.076452 143.792624 \nL 244.686399 143.722041 \nL 245.296346 143.121614 \nL 248.346082 144.090639 \nL 249.565976 143.951228 \nL 251.395818 144.515002 \nL 252.005765 144.956147 \nL 252.615712 144.375099 \nL 253.225659 144.305826 \nL 253.835606 143.983812 \nL 255.055501 144.352234 \nL 255.665448 144.785427 \nL 256.885342 145.145253 \nL 258.105237 144.510148 \nL 258.715184 144.689231 \nL 259.935078 145.534575 \nL 260.545025 145.708793 \nL 261.154972 146.12567 \nL 262.374867 146.467228 \nL 262.984814 146.877918 \nL 263.594761 146.804587 \nL 264.204708 146.491671 \nL 264.814655 145.941371 \nL 265.424603 146.348681 \nL 266.03455 146.515671 \nL 266.644497 146.20741 \nL 267.254444 146.610241 \nL 267.864391 146.539237 \nL 268.474338 146.703665 \nL 269.084286 147.101397 \nL 269.694233 147.029574 \nL 270.30418 146.725279 \nL 271.524074 147.511233 \nL 272.134021 147.669907 \nL 272.743969 147.367296 \nL 273.353916 147.754946 \nL 273.963863 147.682691 \nL 274.57381 147.839014 \nL 275.183757 148.221927 \nL 275.793704 148.375782 \nL 276.403652 148.302568 \nL 277.013599 148.004237 \nL 277.623546 148.382285 \nL 278.233493 148.53393 \nL 278.84344 148.908317 \nL 279.453387 148.611647 \nL 280.063335 148.983695 \nL 280.673282 148.688499 \nL 281.283229 149.058231 \nL 281.893176 148.984946 \nL 282.503123 148.692218 \nL 283.11307 148.839606 \nL 283.723018 148.548924 \nL 284.332965 148.477861 \nL 284.942912 148.624617 \nL 285.552859 148.987379 \nL 286.772753 148.413173 \nL 287.382701 148.773537 \nL 287.992648 148.917486 \nL 288.602595 148.63291 \nL 289.212542 148.563181 \nL 289.822489 148.919229 \nL 290.432436 148.849091 \nL 291.042384 148.990888 \nL 291.652331 148.287972 \nL 292.262278 148.220102 \nL 292.872225 147.942718 \nL 293.482172 148.085428 \nL 294.092119 148.018623 \nL 294.702067 147.535806 \nL 295.312014 147.678457 \nL 295.921961 147.40616 \nL 296.531908 146.92877 \nL 297.141855 146.865883 \nL 297.751802 147.214259 \nL 298.36175 146.741091 \nL 299.581644 147.025329 \nL 300.191591 146.759676 \nL 300.801538 147.103818 \nL 301.411485 147.243908 \nL 302.021433 146.97974 \nL 303.241327 146.856924 \nL 303.851274 146.996207 \nL 304.461221 146.935074 \nL 305.071168 146.675035 \nL 305.681116 146.217621 \nL 306.291063 146.357114 \nL 307.510957 146.239585 \nL 308.120904 146.377979 \nL 308.730851 146.711887 \nL 309.340799 146.261222 \nL 309.950746 146.203282 \nL 310.560693 146.535144 \nL 312.390534 146.36102 \nL 313.610429 145.861607 \nL 314.220376 145.229929 \nL 314.830323 145.558505 \nL 315.44027 145.503547 \nL 316.050217 145.06784 \nL 316.660165 145.394416 \nL 317.270112 145.529839 \nL 317.880059 145.853724 \nL 318.490006 145.610047 \nL 319.099953 145.555756 \nL 319.7099 145.31395 \nL 320.929795 145.581299 \nL 322.149689 145.474133 \nL 322.759636 145.60648 \nL 323.979531 146.238661 \nL 325.199425 146.12967 \nL 325.809372 146.258941 \nL 326.419319 146.570558 \nL 327.639214 146.825253 \nL 328.249161 147.133396 \nL 328.859108 147.077596 \nL 329.469055 146.479508 \nL 330.079002 146.425451 \nL 330.688949 146.011626 \nL 331.908844 146.264801 \nL 332.518791 146.032947 \nL 333.128738 146.158909 \nL 333.738685 145.928354 \nL 334.348632 145.521254 \nL 334.95858 145.470355 \nL 335.568527 145.773224 \nL 336.178474 145.721974 \nL 337.398368 145.971347 \nL 338.008315 145.920003 \nL 339.838157 146.289431 \nL 340.448104 145.890554 \nL 341.058051 145.666689 \nL 341.667998 145.789574 \nL 342.277946 145.566925 \nL 342.887893 145.51736 \nL 344.107787 145.076156 \nL 344.717734 145.027993 \nL 345.327681 144.638788 \nL 345.937629 144.762047 \nL 347.76747 144.11368 \nL 348.377417 144.068207 \nL 348.987365 143.854506 \nL 349.597312 143.977847 \nL 350.207259 144.268377 \nL 350.817206 144.222963 \nL 351.427153 144.344737 \nL 352.0371 144.632636 \nL 352.647048 144.254167 \nL 353.256995 144.209162 \nL 355.696783 144.689231 \nL 356.306731 144.972194 \nL 356.916678 145.090108 \nL 357.526625 144.880512 \nL 358.136572 144.834958 \nL 358.746519 144.952428 \nL 359.966414 144.861588 \nL 360.576361 144.654623 \nL 361.186308 144.610005 \nL 361.796255 144.726738 \nL 362.406202 145.003818 \nL 363.016149 144.958755 \nL 363.626097 144.593526 \nL 364.236044 144.389625 \nL 364.845991 144.346094 \nL 365.455938 144.461939 \nL 366.065885 144.259547 \nL 366.675832 144.216542 \nL 367.28578 144.331942 \nL 369.115621 143.731644 \nL 369.725568 143.847091 \nL 369.725568 143.847091 \n\" style=\"fill:none;stroke:#ff7f0e;stroke-linecap:square;stroke-width:1.5;\"/>\n   </g>\n   <g id=\"line2d_15\">\n    <path clip-path=\"url(#p2c0f1fae2d)\" d=\"M 65.361932 201.45706 \nL 65.971879 240.700909 \nL 66.581826 201.45706 \nL 67.191773 221.078983 \nL 67.80172 217.154602 \nL 68.411668 214.538342 \nL 69.021615 212.669587 \nL 69.631562 201.45706 \nL 70.241509 201.45706 \nL 70.851456 185.759523 \nL 72.071351 188.375777 \nL 72.681298 195.419545 \nL 73.291245 195.850796 \nL 73.901192 201.45706 \nL 74.511139 186.740618 \nL 75.121086 192.223213 \nL 76.340981 184.933336 \nL 76.950928 185.759523 \nL 77.560875 190.244532 \nL 78.170822 180.051327 \nL 79.390717 181.835136 \nL 80.000664 179.4805 \nL 80.610611 171.269479 \nL 81.220558 172.387542 \nL 81.830505 167.819471 \nL 82.440452 168.979391 \nL 83.0504 167.445727 \nL 84.270294 159.760469 \nL 85.490188 157.596284 \nL 86.710083 164.393427 \nL 87.929977 158.082282 \nL 88.539924 157.181945 \nL 89.149871 158.288826 \nL 89.759819 155.513044 \nL 90.369766 154.738189 \nL 90.979713 155.824673 \nL 91.58966 151.510349 \nL 92.199607 152.620271 \nL 92.809554 150.269437 \nL 93.419502 151.358529 \nL 94.639396 156.606943 \nL 95.249343 157.503947 \nL 95.85929 159.904745 \nL 97.689132 157.85278 \nL 98.299079 155.791492 \nL 98.909026 156.606943 \nL 99.518973 153.262862 \nL 100.738868 149.575363 \nL 101.348815 151.748191 \nL 101.958762 151.276403 \nL 103.178656 152.869434 \nL 105.008498 147.942718 \nL 106.228392 149.516674 \nL 106.838339 149.131925 \nL 107.448286 146.515671 \nL 108.668181 145.861607 \nL 109.278128 146.623188 \nL 110.498022 150.178433 \nL 111.107969 148.787689 \nL 111.717917 148.452377 \nL 112.327864 150.138177 \nL 112.937811 150.787785 \nL 114.157705 150.100915 \nL 114.767652 150.727202 \nL 115.3776 152.284047 \nL 115.987547 152.869434 \nL 116.597494 149.747522 \nL 117.817388 150.936248 \nL 118.427335 148.834623 \nL 119.037283 149.425893 \nL 119.64723 150.876098 \nL 120.867124 148.563181 \nL 122.087018 151.358529 \nL 122.696966 151.885883 \nL 123.306913 150.767084 \nL 123.91686 151.289665 \nL 125.136754 149.131925 \nL 125.746701 148.870306 \nL 126.356649 149.390958 \nL 126.966596 148.362438 \nL 127.576543 148.115907 \nL 128.18649 148.628804 \nL 128.796437 149.879436 \nL 130.626279 149.131925 \nL 131.236226 149.611982 \nL 131.846173 148.656242 \nL 132.45612 148.424834 \nL 133.676015 149.36345 \nL 134.285962 150.508904 \nL 135.505856 151.387324 \nL 136.115803 151.14443 \nL 136.72575 152.235966 \nL 137.335698 151.99002 \nL 137.945645 152.402254 \nL 138.555592 151.510349 \nL 139.165539 151.919741 \nL 140.995381 151.22493 \nL 141.605328 151.623598 \nL 142.215275 150.161954 \nL 143.435169 150.957219 \nL 144.045116 150.741938 \nL 144.655064 151.728215 \nL 145.265011 151.510349 \nL 145.874958 150.705612 \nL 146.484905 151.084361 \nL 147.094852 150.294711 \nL 148.314747 149.895798 \nL 148.924694 150.269437 \nL 149.534641 148.379045 \nL 150.144588 147.636926 \nL 152.584377 149.131925 \nL 154.414218 148.597998 \nL 155.024165 148.955158 \nL 155.634113 148.780753 \nL 156.24406 149.131925 \nL 157.463954 150.853151 \nL 158.073901 151.183891 \nL 158.683848 151.000679 \nL 159.293796 151.326214 \nL 159.903743 151.14443 \nL 160.51369 151.964816 \nL 161.733584 152.58736 \nL 162.343531 152.402254 \nL 163.563426 151.069894 \nL 164.173373 151.37902 \nL 164.78332 151.205796 \nL 166.003214 151.81123 \nL 166.613162 151.168534 \nL 167.223109 151.935063 \nL 167.833056 151.763664 \nL 168.443003 150.670899 \nL 169.05295 150.508904 \nL 169.662897 149.43615 \nL 170.272845 148.829465 \nL 170.882792 149.583012 \nL 171.492739 148.982432 \nL 173.932528 151.908958 \nL 174.542475 151.312144 \nL 176.372316 152.134191 \nL 177.592211 153.51593 \nL 178.202158 153.351701 \nL 180.031999 154.11527 \nL 180.641946 154.777533 \nL 181.251894 154.200075 \nL 181.861841 154.037413 \nL 183.081735 154.526276 \nL 184.301629 154.204262 \nL 184.911577 154.444127 \nL 186.741418 153.972 \nL 187.351365 153.427278 \nL 187.961312 154.0536 \nL 188.57126 154.287114 \nL 189.181207 154.133597 \nL 190.401101 153.069019 \nL 191.011048 153.681938 \nL 191.620995 153.534281 \nL 192.230943 154.139118 \nL 192.84089 153.616945 \nL 193.450837 153.843676 \nL 194.060784 154.438489 \nL 194.670731 153.922258 \nL 195.280678 154.511142 \nL 197.11052 154.075084 \nL 197.720467 153.572362 \nL 198.330414 153.432623 \nL 199.550309 153.867231 \nL 200.160256 153.374508 \nL 200.770203 153.590127 \nL 201.38015 154.154205 \nL 201.990097 153.666768 \nL 202.600044 154.225525 \nL 203.819939 153.951345 \nL 204.429886 154.158801 \nL 205.64978 155.247859 \nL 207.479622 154.834022 \nL 208.089569 155.032426 \nL 209.309463 154.761849 \nL 209.91941 154.298482 \nL 210.529358 153.510597 \nL 211.139305 153.056318 \nL 213.579093 153.849769 \nL 214.189041 153.083007 \nL 214.798988 152.641546 \nL 215.408935 152.521409 \nL 216.018882 153.035219 \nL 217.238776 152.166787 \nL 217.848724 152.67586 \nL 218.458671 152.869434 \nL 219.068618 152.75125 \nL 219.678565 152.324993 \nL 220.288512 151.594288 \nL 220.898459 151.482467 \nL 221.508407 151.982324 \nL 222.728301 152.364372 \nL 223.338248 152.251311 \nL 223.948195 152.74056 \nL 224.558142 152.327356 \nL 225.778037 152.699556 \nL 226.387984 151.995002 \nL 227.607878 149.425893 \nL 228.217825 149.034302 \nL 230.047667 149.614636 \nL 230.657614 149.516674 \nL 231.267561 149.994427 \nL 231.877508 149.60935 \nL 233.097403 149.985059 \nL 233.70735 149.604181 \nL 234.927244 149.975878 \nL 235.537191 149.318808 \nL 236.147139 149.504347 \nL 236.757086 149.410256 \nL 237.367033 148.762134 \nL 237.97698 148.947684 \nL 238.586927 148.856529 \nL 240.416769 149.404455 \nL 241.026716 149.312984 \nL 242.24661 148.59249 \nL 242.856557 149.042337 \nL 243.466505 148.417594 \nL 245.296346 148.955158 \nL 245.906293 148.867663 \nL 246.51624 149.044138 \nL 247.126188 148.694428 \nL 247.736135 148.608676 \nL 248.346082 148.78425 \nL 248.956029 149.218554 \nL 249.565976 149.390958 \nL 250.175923 149.304049 \nL 250.785871 149.47505 \nL 251.395818 148.875429 \nL 252.005765 148.024073 \nL 252.615712 148.197553 \nL 253.225659 148.115907 \nL 253.835606 148.541158 \nL 254.445554 148.458938 \nL 255.055501 148.628804 \nL 255.665448 148.296065 \nL 256.275395 148.215401 \nL 256.885342 148.384425 \nL 257.495289 148.800753 \nL 258.715184 148.144666 \nL 259.325131 147.327613 \nL 259.935078 147.251498 \nL 260.545025 146.931343 \nL 261.154972 146.856924 \nL 261.76492 147.02596 \nL 262.374867 146.709466 \nL 264.204708 147.211745 \nL 264.814655 147.137829 \nL 265.424603 147.302935 \nL 266.03455 146.991353 \nL 266.644497 147.155898 \nL 267.254444 146.137412 \nL 267.864391 146.539237 \nL 268.474338 145.998691 \nL 269.694233 145.861607 \nL 270.30418 145.327879 \nL 270.914127 145.029514 \nL 271.524074 145.195965 \nL 272.134021 145.592293 \nL 273.353916 145.001 \nL 273.963863 144.936768 \nL 274.57381 144.644741 \nL 275.183757 144.809414 \nL 275.793704 144.746293 \nL 277.013599 145.523301 \nL 277.623546 145.458671 \nL 278.233493 145.170165 \nL 278.84344 145.554142 \nL 279.453387 145.712956 \nL 280.063335 145.426181 \nL 281.283229 146.184031 \nL 281.893176 145.898355 \nL 282.503123 146.053976 \nL 283.723018 145.488121 \nL 284.332965 145.64359 \nL 284.942912 145.580773 \nL 285.552859 145.301494 \nL 286.162806 145.672419 \nL 286.772753 145.610047 \nL 287.382701 145.978083 \nL 287.992648 146.12967 \nL 288.602595 146.06656 \nL 289.212542 145.79051 \nL 290.432436 146.091414 \nL 291.042384 145.817538 \nL 292.872225 146.263841 \nL 293.482172 146.201726 \nL 294.702067 146.911239 \nL 295.921961 146.370704 \nL 296.531908 146.722215 \nL 297.141855 146.865883 \nL 297.751802 146.803323 \nL 298.36175 146.536161 \nL 298.971697 146.883578 \nL 299.581644 146.617609 \nL 300.191591 146.759676 \nL 301.411485 146.637047 \nL 302.021433 146.777967 \nL 302.63138 147.11942 \nL 303.241327 147.057655 \nL 303.851274 146.595762 \nL 304.461221 146.935074 \nL 305.071168 147.073456 \nL 305.681116 147.409833 \nL 306.291063 147.149922 \nL 306.90101 147.286713 \nL 307.510957 146.436796 \nL 308.120904 146.377979 \nL 308.730851 146.515671 \nL 309.340799 146.84841 \nL 310.560693 147.11942 \nL 311.780587 146.612569 \nL 312.390534 146.94098 \nL 313.000482 146.882081 \nL 314.220376 147.148951 \nL 314.830323 147.08997 \nL 315.44027 146.840317 \nL 316.050217 146.972886 \nL 316.660165 146.344635 \nL 317.270112 146.098583 \nL 317.880059 146.042854 \nL 319.099953 146.308636 \nL 319.7099 146.628334 \nL 320.929795 146.515671 \nL 322.149689 146.776061 \nL 322.759636 147.090883 \nL 323.369583 146.478654 \nL 323.979531 146.423334 \nL 325.199425 146.681105 \nL 326.419319 146.20465 \nL 327.639214 146.461041 \nL 328.249161 146.406656 \nL 329.469055 146.660345 \nL 330.079002 146.60589 \nL 330.688949 146.911706 \nL 331.908844 146.802388 \nL 332.518791 146.569307 \nL 333.128738 146.694052 \nL 333.738685 146.640252 \nL 336.178474 147.132987 \nL 336.788421 146.902829 \nL 337.398368 147.024873 \nL 338.008315 146.79599 \nL 338.618263 146.742916 \nL 339.22821 146.864503 \nL 339.838157 146.811522 \nL 340.448104 146.932419 \nL 342.277946 146.774424 \nL 342.887893 146.894338 \nL 343.49784 146.841989 \nL 344.717734 147.079959 \nL 345.327681 147.027551 \nL 346.547576 147.26317 \nL 347.157523 147.210704 \nL 347.76747 147.327613 \nL 348.987365 147.223078 \nL 349.597312 147.339203 \nL 350.207259 147.11942 \nL 351.427153 147.684632 \nL 352.0371 147.798804 \nL 353.866942 147.641651 \nL 354.476889 147.424476 \nL 355.086836 147.537993 \nL 355.696783 147.32194 \nL 356.306731 147.599395 \nL 356.916678 147.711836 \nL 357.526625 147.496766 \nL 358.136572 147.445773 \nL 358.746519 147.557829 \nL 359.356466 147.344419 \nL 359.966414 147.618388 \nL 361.186308 147.193956 \nL 361.796255 147.30538 \nL 362.406202 147.25551 \nL 363.626097 147.797108 \nL 364.236044 147.906392 \nL 364.845991 147.536648 \nL 365.455938 147.327613 \nL 367.28578 147.180284 \nL 367.895727 146.973646 \nL 368.505674 146.925449 \nL 369.115621 147.034732 \nL 369.725568 146.986593 \nL 369.725568 146.986593 \n\" style=\"fill:none;stroke:#2ca02c;stroke-linecap:square;stroke-width:1.5;\"/>\n   </g>\n   <g id=\"line2d_16\">\n    <path clip-path=\"url(#p2c0f1fae2d)\" d=\"M 65.361932 201.45706 \nL 65.971879 122.96936 \nL 66.581826 18.319091 \nL 67.191773 64.103585 \nL 67.80172 75.876751 \nL 68.411668 57.562949 \nL 69.021615 66.906711 \nL 69.631562 93.536478 \nL 70.241509 88.085941 \nL 71.461403 94.428383 \nL 72.071351 83.725514 \nL 73.291245 78.119238 \nL 73.901192 81.10926 \nL 75.121086 104.501668 \nL 75.731034 114.248506 \nL 76.950928 122.96936 \nL 77.560875 119.231851 \nL 78.170822 126.53698 \nL 78.780769 129.794385 \nL 80.000664 122.96936 \nL 80.610611 122.96936 \nL 81.220558 120.062413 \nL 81.830505 122.96936 \nL 82.440452 122.96936 \nL 83.0504 125.585614 \nL 83.660347 125.501219 \nL 84.270294 130.327587 \nL 84.880241 132.483023 \nL 85.490188 132.203207 \nL 86.100135 136.424398 \nL 87.32003 139.93968 \nL 87.929977 139.493084 \nL 88.539924 141.081905 \nL 89.759819 140.198374 \nL 90.369766 141.656906 \nL 90.979713 144.87291 \nL 91.58966 146.158909 \nL 92.199607 145.64359 \nL 93.419502 148.018623 \nL 94.029449 150.767084 \nL 94.639396 150.19979 \nL 95.249343 151.22493 \nL 97.689132 149.131925 \nL 98.299079 151.510349 \nL 98.909026 152.402254 \nL 99.518973 154.63984 \nL 100.12892 154.093797 \nL 100.738868 156.22686 \nL 101.958762 157.709825 \nL 102.568709 159.681348 \nL 103.178656 159.098616 \nL 103.788603 160.986844 \nL 104.398551 160.40196 \nL 105.008498 158.645588 \nL 106.228392 159.904745 \nL 106.838339 158.23195 \nL 108.668181 160.032999 \nL 109.278128 158.450108 \nL 110.498022 157.503947 \nL 111.717917 158.645588 \nL 112.327864 157.181945 \nL 112.937811 157.742397 \nL 113.547758 155.34554 \nL 114.767652 156.47021 \nL 115.3776 154.175315 \nL 116.597494 153.441055 \nL 117.207441 153.999379 \nL 117.817388 153.642711 \nL 118.427335 155.077969 \nL 119.037283 154.717195 \nL 120.257177 155.744441 \nL 120.867124 155.388194 \nL 121.477071 153.351701 \nL 122.087018 153.028482 \nL 122.696966 153.538257 \nL 123.306913 154.854992 \nL 123.91686 155.335423 \nL 124.526807 155.005164 \nL 125.136754 155.474367 \nL 125.746701 155.149323 \nL 126.356649 154.0536 \nL 126.966596 155.287822 \nL 128.18649 156.175692 \nL 128.796437 155.859444 \nL 130.016332 156.711736 \nL 130.626279 156.399312 \nL 131.236226 156.81268 \nL 131.846173 156.505016 \nL 132.45612 155.495793 \nL 133.066067 155.20538 \nL 134.895909 152.316935 \nL 136.72575 153.566257 \nL 137.335698 154.628262 \nL 138.555592 154.104978 \nL 139.165539 154.493108 \nL 139.775486 154.236823 \nL 140.995381 154.992345 \nL 142.825222 157.920918 \nL 143.435169 155.824673 \nL 144.045116 155.571943 \nL 144.655064 154.723932 \nL 146.484905 157.527374 \nL 147.704799 154.710716 \nL 148.314747 153.906118 \nL 149.534641 153.460985 \nL 150.144588 153.803817 \nL 151.364482 152.264071 \nL 151.97443 152.059211 \nL 153.194324 152.74056 \nL 153.804271 151.999061 \nL 155.634113 152.994857 \nL 156.24406 153.841196 \nL 156.854007 153.116959 \nL 157.463954 152.918614 \nL 158.073901 153.748848 \nL 158.683848 153.548982 \nL 159.293796 154.364445 \nL 159.903743 154.163187 \nL 160.51369 152.964659 \nL 161.123637 153.271575 \nL 161.733584 152.58736 \nL 162.343531 152.402254 \nL 162.953479 153.194442 \nL 163.563426 153.007863 \nL 164.173373 151.860538 \nL 164.78332 151.68438 \nL 166.003214 152.284047 \nL 166.613162 152.108508 \nL 167.223109 151.000679 \nL 167.833056 151.763664 \nL 169.05295 152.344876 \nL 169.662897 152.174085 \nL 170.272845 152.912649 \nL 170.882792 151.838399 \nL 171.492739 151.22493 \nL 172.102686 151.510349 \nL 173.32258 149.425893 \nL 173.932528 149.716563 \nL 175.152422 149.421016 \nL 176.372316 148.274136 \nL 176.982263 148.989742 \nL 177.592211 148.424834 \nL 178.202158 147.444019 \nL 178.812105 148.152584 \nL 179.422052 147.601137 \nL 180.031999 147.886088 \nL 180.641946 147.754946 \nL 181.251894 147.214259 \nL 182.471788 146.963015 \nL 183.081735 147.243908 \nL 183.691682 147.11942 \nL 184.911577 147.671077 \nL 186.131471 149.000455 \nL 186.741418 149.26274 \nL 187.351365 149.131925 \nL 189.181207 146.438725 \nL 189.791154 146.324237 \nL 190.401101 146.591879 \nL 191.011048 146.477754 \nL 191.620995 146.742074 \nL 192.230943 146.628334 \nL 192.84089 145.768171 \nL 193.450837 146.404083 \nL 194.060784 145.923313 \nL 194.670731 146.184031 \nL 195.280678 146.075554 \nL 195.890626 146.698204 \nL 196.500573 145.498237 \nL 197.11052 145.756113 \nL 198.940361 145.445385 \nL 200.160256 145.949991 \nL 200.770203 145.846941 \nL 201.990097 146.341255 \nL 202.600044 146.237842 \nL 203.209992 146.826855 \nL 204.429886 146.618498 \nL 205.039833 146.174417 \nL 205.64978 146.073964 \nL 206.869675 146.549354 \nL 208.699516 146.249608 \nL 209.309463 146.482561 \nL 210.529358 146.285794 \nL 211.139305 145.534575 \nL 211.749252 145.766616 \nL 212.359199 145.348089 \nL 212.969146 145.578984 \nL 213.579093 144.842981 \nL 214.189041 144.753708 \nL 216.018882 145.439631 \nL 216.628829 145.349388 \nL 217.238776 145.88777 \nL 218.458671 145.082962 \nL 219.068618 145.305786 \nL 220.288512 145.130598 \nL 220.898459 145.350616 \nL 221.508407 145.26353 \nL 222.118354 144.87291 \nL 222.728301 145.091383 \nL 223.338248 144.704423 \nL 223.948195 144.921856 \nL 225.16809 144.754925 \nL 226.387984 145.182866 \nL 226.997931 145.099348 \nL 227.607878 145.31043 \nL 228.217825 145.227064 \nL 229.43772 146.224977 \nL 230.047667 146.428784 \nL 230.657614 146.053976 \nL 231.267561 146.544418 \nL 231.877508 146.458386 \nL 232.487456 146.087554 \nL 233.097403 146.572546 \nL 233.70735 146.770681 \nL 234.317297 146.685069 \nL 234.927244 147.162705 \nL 235.537191 147.076298 \nL 236.147139 147.269825 \nL 237.367033 148.207459 \nL 237.97698 147.289497 \nL 238.586927 147.204166 \nL 239.196874 146.296121 \nL 240.416769 146.134138 \nL 241.026716 145.782393 \nL 241.636663 145.703729 \nL 242.856557 145.010426 \nL 245.296346 145.773224 \nL 246.51624 145.093406 \nL 247.736135 144.945914 \nL 248.346082 145.394416 \nL 248.956029 144.800374 \nL 250.175923 144.656752 \nL 252.615712 145.394416 \nL 254.445554 145.178106 \nL 255.055501 144.855355 \nL 255.665448 143.782391 \nL 256.275395 143.96607 \nL 256.885342 143.899417 \nL 258.105237 144.262553 \nL 258.715184 143.948784 \nL 259.325131 144.129059 \nL 259.935078 143.572385 \nL 260.545025 143.508199 \nL 261.154972 143.688159 \nL 261.76492 144.110007 \nL 263.594761 143.193191 \nL 264.204708 143.131345 \nL 265.424603 143.485908 \nL 266.03455 143.185893 \nL 266.644497 143.124818 \nL 267.254444 142.827692 \nL 267.864391 142.768057 \nL 268.474338 142.943783 \nL 269.084286 142.649861 \nL 269.694233 142.824885 \nL 270.30418 143.231763 \nL 271.524074 142.649171 \nL 272.134021 143.052984 \nL 272.743969 142.994085 \nL 274.57381 143.503931 \nL 276.403652 141.969272 \nL 277.013599 141.914665 \nL 277.623546 141.635492 \nL 278.84344 141.976359 \nL 280.673282 141.815276 \nL 281.283229 141.983283 \nL 281.893176 141.929869 \nL 283.11307 142.262433 \nL 283.723018 142.645943 \nL 284.332965 142.59129 \nL 285.552859 142.916508 \nL 286.162806 142.429119 \nL 286.772753 142.160038 \nL 287.382701 142.107455 \nL 289.212542 142.59129 \nL 290.432436 142.485222 \nL 291.652331 142.802278 \nL 292.262278 142.538683 \nL 292.872225 142.696222 \nL 294.092119 142.173804 \nL 295.921961 142.643066 \nL 296.531908 143.004377 \nL 298.971697 143.613261 \nL 299.581644 143.355783 \nL 300.191591 143.302965 \nL 300.801538 142.844803 \nL 301.411485 142.793576 \nL 302.63138 143.496913 \nL 303.241327 143.645155 \nL 303.851274 143.392179 \nL 305.071168 143.28851 \nL 305.681116 143.43578 \nL 306.291063 143.780496 \nL 306.90101 143.925778 \nL 307.510957 144.267535 \nL 308.120904 144.214156 \nL 308.730851 143.964818 \nL 309.340799 143.912469 \nL 309.950746 144.055611 \nL 310.560693 144.392806 \nL 311.780587 144.6746 \nL 312.390534 144.427823 \nL 313.000482 144.375099 \nL 314.220376 144.654226 \nL 315.44027 144.548708 \nL 317.880059 145.097219 \nL 318.490006 145.044028 \nL 319.099953 145.367527 \nL 319.7099 145.501711 \nL 320.319848 144.885974 \nL 321.539742 144.78186 \nL 323.979531 143.837851 \nL 324.589478 143.97311 \nL 325.199425 144.291546 \nL 325.809372 144.425109 \nL 326.419319 144.375099 \nL 327.029266 143.960257 \nL 327.639214 143.729445 \nL 328.859108 143.996092 \nL 329.469055 144.309335 \nL 330.079002 144.440711 \nL 330.688949 144.751498 \nL 331.298897 144.88126 \nL 331.908844 144.652039 \nL 333.128738 144.55348 \nL 334.348632 143.745514 \nL 334.95858 143.698615 \nL 335.568527 143.298381 \nL 336.178474 143.60546 \nL 336.788421 143.735164 \nL 337.398368 143.513123 \nL 338.618263 143.771221 \nL 339.22821 143.376168 \nL 339.838157 143.156888 \nL 340.448104 143.459511 \nL 341.058051 143.587542 \nL 341.667998 143.542128 \nL 342.277946 143.669411 \nL 342.887893 143.451897 \nL 345.327681 143.273785 \nL 345.937629 143.570256 \nL 346.547576 143.355783 \nL 347.76747 143.267902 \nL 348.987365 143.854506 \nL 349.597312 143.977847 \nL 350.207259 143.932959 \nL 350.817206 144.055611 \nL 351.427153 143.676756 \nL 352.0371 143.799431 \nL 352.647048 143.422728 \nL 353.866942 143.005255 \nL 354.476889 142.963069 \nL 356.306731 142.344992 \nL 356.916678 142.304537 \nL 358.136572 142.876849 \nL 358.746519 142.347027 \nL 359.356466 142.144413 \nL 359.966414 142.429119 \nL 360.576361 142.389003 \nL 361.186308 142.510543 \nL 362.406202 142.430452 \nL 363.016149 142.711672 \nL 363.626097 142.671381 \nL 364.236044 142.311543 \nL 364.845991 142.59129 \nL 365.455938 142.551489 \nL 366.065885 142.670726 \nL 366.675832 142.630926 \nL 367.28578 142.749531 \nL 367.895727 142.709731 \nL 368.505674 142.985302 \nL 369.115621 142.945186 \nL 369.725568 143.062212 \nL 369.725568 143.062212 \n\" style=\"fill:none;stroke:#d62728;stroke-linecap:square;stroke-width:1.5;\"/>\n   </g>\n   <g id=\"line2d_17\">\n    <path clip-path=\"url(#p2c0f1fae2d)\" d=\"M 65.361932 44.481655 \nL 65.971879 122.96936 \nL 66.581826 149.131925 \nL 67.191773 162.213207 \nL 67.80172 170.061981 \nL 68.411668 162.213207 \nL 69.021615 179.031998 \nL 69.631562 172.024172 \nL 70.241509 157.85278 \nL 70.851456 170.061981 \nL 71.461403 158.645588 \nL 72.681298 153.156935 \nL 73.291245 162.213207 \nL 74.511139 167.118695 \nL 75.121086 155.287822 \nL 75.731034 153.492352 \nL 76.340981 156.016819 \nL 77.560875 152.869434 \nL 78.170822 151.510349 \nL 78.780769 153.681938 \nL 79.390717 145.861607 \nL 80.610611 150.138177 \nL 81.220558 152.038884 \nL 82.440452 150.034087 \nL 83.0504 146.515671 \nL 84.880241 151.510349 \nL 85.490188 152.979361 \nL 86.710083 151.312144 \nL 87.32003 152.667416 \nL 87.929977 151.885883 \nL 89.149871 158.288826 \nL 89.759819 157.427376 \nL 90.369766 160.344452 \nL 90.979713 159.475272 \nL 91.58966 156.861778 \nL 92.809554 155.388194 \nL 93.419502 156.368388 \nL 94.029449 154.037413 \nL 95.249343 152.794688 \nL 95.85929 149.131925 \nL 96.469237 150.138177 \nL 97.689132 149.131925 \nL 98.299079 150.08329 \nL 98.909026 152.402254 \nL 99.518973 151.885883 \nL 100.12892 152.74056 \nL 100.738868 150.905665 \nL 101.348815 150.440052 \nL 101.958762 148.703036 \nL 102.568709 148.287972 \nL 103.178656 142.902743 \nL 103.788603 143.817653 \nL 104.398551 145.911922 \nL 105.008498 146.753512 \nL 105.618445 148.741445 \nL 106.838339 147.994425 \nL 107.448286 149.879436 \nL 109.278128 151.999061 \nL 110.498022 151.22493 \nL 111.107969 152.918614 \nL 111.717917 152.529666 \nL 112.937811 153.768333 \nL 113.547758 153.383349 \nL 114.157705 152.038884 \nL 114.767652 153.598712 \nL 115.3776 152.284047 \nL 115.987547 151.935063 \nL 116.597494 153.441055 \nL 117.207441 152.174085 \nL 117.817388 152.74056 \nL 119.037283 155.599077 \nL 119.64723 156.108618 \nL 120.257177 157.469445 \nL 120.867124 157.09445 \nL 121.477071 157.571466 \nL 122.087018 155.533406 \nL 122.696966 155.190632 \nL 124.526807 159.009636 \nL 125.136754 157.85278 \nL 125.746701 159.073704 \nL 126.356649 159.493342 \nL 126.966596 159.135258 \nL 127.576543 158.02212 \nL 128.18649 157.685077 \nL 128.796437 156.606943 \nL 130.016332 155.978212 \nL 130.626279 154.945832 \nL 132.45612 154.081599 \nL 133.066067 154.504593 \nL 133.676015 154.225525 \nL 134.285962 154.63984 \nL 135.505856 154.093797 \nL 136.72575 156.22686 \nL 137.335698 155.287822 \nL 138.555592 156.050959 \nL 139.165539 157.066474 \nL 140.385433 156.516525 \nL 141.605328 157.229861 \nL 142.215275 156.960103 \nL 142.825222 154.241805 \nL 143.435169 155.216245 \nL 144.045116 155.571943 \nL 144.655064 156.521355 \nL 145.265011 156.267175 \nL 145.874958 157.197079 \nL 146.484905 155.184457 \nL 147.094852 155.527219 \nL 148.314747 157.343542 \nL 148.924694 157.663206 \nL 149.534641 158.542924 \nL 150.754535 159.151632 \nL 151.364482 158.896832 \nL 151.97443 159.743323 \nL 152.584377 160.032999 \nL 153.194324 159.236098 \nL 153.804271 159.525282 \nL 154.414218 158.742673 \nL 155.024165 156.909987 \nL 155.634113 157.73573 \nL 156.24406 158.027196 \nL 157.463954 156.533179 \nL 158.073901 155.287822 \nL 159.293796 154.870816 \nL 160.51369 155.464273 \nL 161.123637 156.252123 \nL 161.733584 156.536431 \nL 162.343531 157.307731 \nL 162.953479 156.606943 \nL 164.173373 157.157255 \nL 164.78332 157.905959 \nL 165.393267 156.742858 \nL 166.003214 157.012218 \nL 166.613162 156.808364 \nL 167.223109 157.074135 \nL 167.833056 156.407908 \nL 168.443003 156.211212 \nL 169.662897 156.737326 \nL 170.882792 156.349184 \nL 171.492739 156.606943 \nL 172.102686 155.969873 \nL 172.712633 155.783434 \nL 173.32258 156.040023 \nL 173.932528 155.416789 \nL 174.542475 155.236525 \nL 175.152422 154.624625 \nL 175.762369 154.881939 \nL 176.982263 152.828815 \nL 177.592211 152.667416 \nL 178.202158 152.929725 \nL 178.812105 152.349788 \nL 179.422052 152.610997 \nL 180.031999 151.623598 \nL 180.641946 151.059695 \nL 181.861841 151.584675 \nL 182.471788 152.249744 \nL 183.081735 152.098812 \nL 184.301629 152.602471 \nL 184.911577 152.452054 \nL 186.131471 151.366926 \nL 186.741418 152.009809 \nL 187.351365 152.255814 \nL 187.961312 151.333734 \nL 190.401101 153.831033 \nL 191.011048 152.923608 \nL 191.620995 153.156935 \nL 192.230943 152.261428 \nL 192.84089 152.869434 \nL 193.450837 152.355752 \nL 194.060784 152.58736 \nL 194.670731 152.448311 \nL 195.280678 151.577026 \nL 196.500573 151.312144 \nL 197.11052 150.819831 \nL 198.330414 150.565499 \nL 198.940361 150.796814 \nL 199.550309 151.381195 \nL 200.770203 151.126383 \nL 201.38015 150.299904 \nL 201.990097 150.178433 \nL 202.600044 149.710751 \nL 203.209992 148.901417 \nL 203.819939 148.787689 \nL 205.039833 149.245676 \nL 205.64978 148.792157 \nL 206.259727 149.357462 \nL 208.699516 148.910212 \nL 209.309463 149.131925 \nL 209.91941 148.362438 \nL 211.749252 148.046341 \nL 212.359199 147.618388 \nL 213.579093 148.703036 \nL 214.189041 148.597998 \nL 214.798988 148.812869 \nL 215.408935 148.390484 \nL 216.018882 148.287972 \nL 217.238776 148.713328 \nL 217.848724 148.610758 \nL 218.458671 148.820472 \nL 219.068618 148.718287 \nL 220.288512 149.131925 \nL 220.898459 148.416541 \nL 222.118354 148.827711 \nL 222.728301 148.727878 \nL 223.338248 148.930679 \nL 225.16809 147.73925 \nL 226.387984 147.552297 \nL 226.997931 147.754946 \nL 227.607878 148.250043 \nL 228.217825 148.448576 \nL 228.827773 147.478533 \nL 229.43772 147.678457 \nL 230.047667 147.587278 \nL 230.657614 147.208213 \nL 231.267561 147.406921 \nL 231.877508 147.890638 \nL 233.70735 147.620739 \nL 234.317297 148.096714 \nL 234.927244 148.006658 \nL 235.537191 148.477861 \nL 236.757086 148.853605 \nL 237.367033 148.762134 \nL 238.586927 149.682716 \nL 239.196874 149.863752 \nL 239.806822 148.949614 \nL 240.416769 149.131925 \nL 241.026716 149.041401 \nL 243.466505 149.756972 \nL 244.076452 149.398888 \nL 245.296346 149.22032 \nL 245.906293 149.66046 \nL 246.51624 149.044138 \nL 247.126188 149.481927 \nL 247.736135 149.131925 \nL 248.956029 149.99824 \nL 249.565976 149.909037 \nL 250.175923 150.33678 \nL 250.785871 149.47505 \nL 251.395818 149.131925 \nL 252.005765 149.55803 \nL 252.615712 149.471705 \nL 255.055501 150.138177 \nL 255.665448 150.552902 \nL 256.275395 150.465057 \nL 256.885342 150.876098 \nL 258.105237 150.700033 \nL 258.715184 151.106466 \nL 259.325131 151.018258 \nL 259.935078 151.175879 \nL 260.545025 151.577026 \nL 261.154972 151.244439 \nL 261.76492 150.670899 \nL 262.374867 150.827655 \nL 262.984814 150.017432 \nL 263.594761 149.934464 \nL 264.204708 149.611982 \nL 264.814655 149.770036 \nL 265.424603 149.211455 \nL 266.03455 149.369766 \nL 266.644497 149.290014 \nL 267.254444 149.447144 \nL 267.864391 149.131925 \nL 268.474338 149.523586 \nL 269.084286 149.210028 \nL 269.694233 149.131925 \nL 270.914127 149.441542 \nL 272.134021 148.824132 \nL 272.743969 149.208648 \nL 273.353916 148.443441 \nL 273.963863 148.597998 \nL 274.57381 148.979824 \nL 275.183757 148.904422 \nL 275.793704 149.056313 \nL 276.403652 149.433519 \nL 277.013599 149.583012 \nL 277.623546 149.506756 \nL 278.233493 149.655185 \nL 278.84344 150.026379 \nL 280.063335 149.873074 \nL 280.673282 150.0188 \nL 281.283229 149.721511 \nL 281.893176 150.087302 \nL 282.503123 150.231192 \nL 283.11307 150.593521 \nL 283.723018 150.735201 \nL 284.332965 151.094115 \nL 284.942912 151.233632 \nL 285.552859 150.721915 \nL 286.772753 151.43193 \nL 287.382701 151.138921 \nL 287.992648 150.418614 \nL 288.602595 150.343821 \nL 289.822489 150.620854 \nL 290.432436 150.121862 \nL 291.042384 149.837121 \nL 292.872225 149.621607 \nL 293.482172 149.969129 \nL 294.092119 149.897319 \nL 295.312014 149.339568 \nL 295.921961 149.477085 \nL 296.531908 149.407321 \nL 297.141855 149.543937 \nL 297.751802 149.474371 \nL 298.36175 149.610099 \nL 299.581644 150.287156 \nL 300.801538 150.551604 \nL 301.411485 150.480519 \nL 302.021433 150.611556 \nL 302.63138 150.138177 \nL 303.241327 150.068694 \nL 303.851274 150.19979 \nL 304.461221 149.930791 \nL 305.071168 150.06156 \nL 305.681116 149.992977 \nL 306.90101 149.461436 \nL 308.730851 149.26274 \nL 309.340799 149.001437 \nL 309.950746 148.93669 \nL 310.560693 148.093217 \nL 311.780587 148.744333 \nL 312.390534 148.68085 \nL 313.000482 148.810519 \nL 313.610429 148.747187 \nL 314.220376 148.876061 \nL 314.830323 148.621436 \nL 315.44027 148.940959 \nL 317.270112 148.752766 \nL 317.880059 148.312381 \nL 318.490006 148.440131 \nL 319.7099 147.942718 \nL 320.319848 148.070446 \nL 320.929795 148.384425 \nL 321.539742 148.137625 \nL 322.149689 148.263973 \nL 322.759636 148.204173 \nL 323.369583 148.329772 \nL 324.589478 147.84223 \nL 325.809372 147.725999 \nL 326.419319 148.034201 \nL 327.029266 148.158443 \nL 328.249161 148.041827 \nL 328.859108 148.16518 \nL 330.688949 147.451761 \nL 331.298897 146.856924 \nL 331.908844 146.981576 \nL 332.518791 147.284456 \nL 333.128738 147.050814 \nL 333.738685 147.17419 \nL 334.348632 147.474568 \nL 334.95858 147.064907 \nL 337.398368 147.551642 \nL 338.008315 147.496766 \nL 338.618263 147.61695 \nL 339.22821 147.387763 \nL 339.838157 147.333613 \nL 340.448104 147.106063 \nL 341.058051 147.05279 \nL 341.667998 147.345495 \nL 346.547576 148.282498 \nL 347.76747 148.850003 \nL 348.987365 149.075786 \nL 349.597312 148.68375 \nL 350.207259 148.796507 \nL 350.817206 148.574092 \nL 351.427153 148.853605 \nL 352.0371 148.798648 \nL 352.647048 149.076499 \nL 353.256995 149.187245 \nL 353.866942 149.463097 \nL 354.476889 149.572556 \nL 355.086836 149.351778 \nL 355.696783 149.29647 \nL 356.306731 149.077189 \nL 356.916678 149.022688 \nL 357.526625 149.295441 \nL 358.136572 148.751187 \nL 359.356466 149.294435 \nL 359.966414 149.240039 \nL 360.576361 149.509528 \nL 361.796255 149.722867 \nL 362.406202 149.346375 \nL 363.016149 149.131925 \nL 363.626097 149.238717 \nL 364.236044 149.18521 \nL 364.845991 149.291452 \nL 365.455938 149.556474 \nL 366.065885 149.502651 \nL 366.675832 149.290493 \nL 367.895727 149.500417 \nL 368.505674 149.289534 \nL 369.115621 149.551363 \nL 369.725568 149.498207 \nL 369.725568 149.498207 \n\" style=\"fill:none;stroke:#9467bd;stroke-linecap:square;stroke-width:1.5;\"/>\n   </g>\n   <g id=\"line2d_18\">\n    <path clip-path=\"url(#p2c0f1fae2d)\" d=\"M 65.361932 122.96936 \nL 65.971879 83.725514 \nL 66.581826 149.131925 \nL 67.191773 162.213207 \nL 67.80172 154.364445 \nL 68.411668 149.131925 \nL 69.021615 134.181888 \nL 69.631562 122.96936 \nL 70.241509 131.690215 \nL 70.851456 146.515671 \nL 71.461403 144.375099 \nL 72.071351 155.672572 \nL 72.681298 159.19445 \nL 73.291245 156.606943 \nL 74.511139 162.213207 \nL 75.121086 150.670899 \nL 75.731034 144.771497 \nL 76.950928 142.59129 \nL 78.170822 147.942718 \nL 79.390717 145.861607 \nL 80.000664 144.945914 \nL 81.220558 154.945832 \nL 81.830505 156.606943 \nL 82.440452 152.74056 \nL 83.0504 151.748191 \nL 83.660347 155.88356 \nL 84.270294 152.402254 \nL 84.880241 153.888762 \nL 85.490188 152.979361 \nL 86.710083 142.59129 \nL 87.32003 146.303548 \nL 89.149871 144.55348 \nL 89.759819 144.027039 \nL 90.369766 145.394416 \nL 90.979713 143.047616 \nL 91.58966 146.158909 \nL 92.199607 147.387763 \nL 94.639396 145.394416 \nL 95.249343 144.945914 \nL 95.85929 146.053976 \nL 96.469237 145.610047 \nL 97.079185 146.66376 \nL 97.689132 149.131925 \nL 98.299079 148.656242 \nL 98.909026 145.394416 \nL 99.518973 146.377979 \nL 100.12892 145.974376 \nL 100.738868 146.914759 \nL 101.348815 145.207544 \nL 102.568709 144.490184 \nL 103.178656 145.394416 \nL 103.788603 147.496766 \nL 105.008498 149.131925 \nL 105.618445 147.56998 \nL 106.228392 149.516674 \nL 106.838339 147.994425 \nL 107.448286 148.758181 \nL 108.058234 147.289497 \nL 108.668181 146.951717 \nL 109.278128 144.472839 \nL 110.498022 141.806411 \nL 111.107969 141.558558 \nL 111.717917 140.29781 \nL 112.327864 140.075652 \nL 112.937811 140.852637 \nL 114.157705 144.287008 \nL 115.3776 143.773327 \nL 115.987547 145.394416 \nL 116.597494 146.053976 \nL 117.817388 145.523301 \nL 118.427335 143.483194 \nL 119.037283 142.370816 \nL 119.64723 143.027336 \nL 120.257177 142.806909 \nL 120.867124 144.297546 \nL 121.477071 143.224254 \nL 122.087018 143.008775 \nL 122.696966 141.971646 \nL 123.306913 143.408869 \nL 123.91686 143.19815 \nL 124.526807 142.190845 \nL 125.746701 143.376168 \nL 126.356649 143.174115 \nL 126.966596 141.437053 \nL 127.576543 142.781787 \nL 128.18649 143.345982 \nL 128.796437 143.151917 \nL 130.016332 141.307606 \nL 130.626279 142.59129 \nL 131.846173 142.234528 \nL 132.45612 142.768057 \nL 133.066067 143.992853 \nL 134.285962 145.001 \nL 134.895909 144.809414 \nL 136.115803 143.09441 \nL 136.72575 143.589016 \nL 137.335698 144.734855 \nL 137.945645 143.899417 \nL 139.165539 144.842981 \nL 140.385433 144.490184 \nL 140.995381 145.573814 \nL 141.605328 145.394416 \nL 142.825222 146.270403 \nL 143.435169 147.306631 \nL 144.045116 147.11942 \nL 145.265011 147.942718 \nL 145.874958 147.754946 \nL 147.094852 148.550538 \nL 147.704799 149.516674 \nL 148.314747 148.749994 \nL 148.924694 149.700681 \nL 150.754535 150.801878 \nL 151.364482 150.05315 \nL 151.97443 150.412614 \nL 152.584377 149.676986 \nL 153.194324 150.575381 \nL 153.804271 150.386299 \nL 155.024165 152.137092 \nL 155.634113 152.4681 \nL 156.24406 150.701682 \nL 156.854007 150.518026 \nL 157.463954 150.853151 \nL 158.073901 150.670899 \nL 158.683848 151.000679 \nL 159.293796 150.313459 \nL 160.51369 150.964973 \nL 161.123637 150.787785 \nL 161.733584 151.106466 \nL 162.953479 150.756932 \nL 163.563426 150.100915 \nL 164.173373 149.934464 \nL 164.78332 150.727202 \nL 166.003214 151.338413 \nL 167.223109 152.869434 \nL 167.833056 152.692515 \nL 168.443003 152.979361 \nL 170.882792 152.289485 \nL 171.492739 153.018939 \nL 172.102686 153.294159 \nL 173.32258 154.717195 \nL 173.932528 153.662874 \nL 175.152422 154.190988 \nL 175.762369 154.019437 \nL 176.372316 154.278658 \nL 177.592211 153.940188 \nL 178.202158 154.195654 \nL 178.812105 153.608945 \nL 180.641946 153.125158 \nL 181.251894 153.789139 \nL 181.861841 153.219834 \nL 182.471788 152.249744 \nL 184.301629 151.801581 \nL 184.911577 150.858391 \nL 185.521524 151.113939 \nL 186.131471 150.578106 \nL 186.741418 150.440052 \nL 187.351365 151.084361 \nL 188.57126 151.58064 \nL 189.181207 151.055649 \nL 189.791154 150.918635 \nL 190.401101 150.401959 \nL 191.011048 150.648596 \nL 191.620995 149.760831 \nL 192.230943 150.008193 \nL 192.84089 150.626935 \nL 193.450837 149.751896 \nL 194.060784 149.255337 \nL 194.670731 149.131925 \nL 195.280678 148.642909 \nL 195.890626 148.523497 \nL 196.500573 148.768555 \nL 197.11052 148.287972 \nL 197.720467 148.531871 \nL 200.770203 147.958718 \nL 201.38015 147.496766 \nL 201.990097 148.085428 \nL 203.819939 148.787689 \nL 205.039833 148.563181 \nL 205.64978 148.792157 \nL 206.259727 148.004237 \nL 206.869675 147.89679 \nL 207.479622 147.454837 \nL 208.699516 147.247334 \nL 210.529358 148.912995 \nL 211.139305 149.131925 \nL 211.749252 149.023366 \nL 212.969146 150.100915 \nL 213.579093 150.311389 \nL 214.189041 150.840508 \nL 215.408935 149.979305 \nL 216.018882 149.870384 \nL 216.628829 150.392778 \nL 217.238776 149.655185 \nL 217.848724 149.861565 \nL 218.458671 149.754843 \nL 219.068618 150.269437 \nL 220.288512 150.670899 \nL 220.898459 151.175879 \nL 221.508407 150.760721 \nL 222.118354 150.653005 \nL 222.728301 150.849163 \nL 223.338248 150.741938 \nL 223.948195 150.334803 \nL 224.558142 150.829503 \nL 225.16809 151.022 \nL 225.778037 150.915734 \nL 226.387984 151.106466 \nL 226.997931 151.590815 \nL 227.607878 151.483625 \nL 228.217825 151.962956 \nL 228.827773 152.146951 \nL 229.43772 151.748191 \nL 230.047667 151.931612 \nL 230.657614 152.402254 \nL 231.267561 152.294433 \nL 231.877508 151.61451 \nL 232.487456 152.081164 \nL 233.097403 151.975681 \nL 233.70735 151.587622 \nL 234.927244 151.38247 \nL 235.537191 151.561307 \nL 236.147139 152.018195 \nL 236.757086 151.358529 \nL 237.97698 150.605872 \nL 239.196874 150.412614 \nL 239.806822 150.590469 \nL 240.416769 150.494565 \nL 241.026716 150.127733 \nL 241.636663 150.575381 \nL 242.24661 150.480519 \nL 242.856557 149.848712 \nL 245.296346 150.546119 \nL 245.906293 150.189006 \nL 247.126188 150.531932 \nL 247.736135 150.963312 \nL 248.346082 151.131062 \nL 248.956029 150.777914 \nL 249.565976 150.945172 \nL 250.175923 150.594971 \nL 252.005765 151.091987 \nL 252.615712 151.510349 \nL 253.225659 151.417978 \nL 253.835606 151.5794 \nL 254.445554 151.235024 \nL 255.055501 151.14443 \nL 255.665448 151.305174 \nL 257.495289 151.036164 \nL 258.105237 151.442819 \nL 258.715184 151.353278 \nL 259.935078 152.156974 \nL 261.154972 152.463188 \nL 261.76492 152.128882 \nL 262.374867 152.281123 \nL 262.984814 152.673942 \nL 264.814655 153.120129 \nL 265.424603 152.789916 \nL 266.03455 153.175238 \nL 266.644497 153.083978 \nL 267.254444 153.466084 \nL 268.474338 152.813482 \nL 269.084286 152.958695 \nL 269.694233 152.869434 \nL 270.30418 153.246511 \nL 270.914127 153.156935 \nL 271.524074 153.299422 \nL 272.134021 153.210208 \nL 272.743969 153.351701 \nL 273.353916 153.721855 \nL 273.963863 153.632196 \nL 274.57381 153.771222 \nL 275.183757 153.454435 \nL 275.793704 153.59318 \nL 276.403652 153.957298 \nL 277.013599 153.86826 \nL 278.233493 154.140194 \nL 278.84344 153.380554 \nL 279.453387 153.517135 \nL 280.063335 153.4306 \nL 280.673282 153.12283 \nL 281.283229 153.037885 \nL 281.893176 153.394367 \nL 282.503123 153.528994 \nL 283.11307 153.224395 \nL 283.723018 153.358754 \nL 284.332965 153.274335 \nL 284.942912 153.407805 \nL 285.552859 153.757351 \nL 286.162806 153.672534 \nL 286.772753 153.803817 \nL 287.382701 153.504305 \nL 288.602595 153.765631 \nL 289.212542 153.681938 \nL 289.822489 153.811408 \nL 290.432436 154.15231 \nL 291.042384 154.279815 \nL 291.652331 154.617631 \nL 292.262278 154.743206 \nL 293.482172 154.155141 \nL 294.702067 153.989695 \nL 295.312014 154.11527 \nL 295.921961 154.447273 \nL 296.531908 154.157901 \nL 297.141855 154.282038 \nL 297.751802 154.200075 \nL 298.36175 154.323452 \nL 298.971697 153.628617 \nL 299.581644 153.956713 \nL 301.411485 153.717118 \nL 302.021433 153.839851 \nL 302.63138 153.559438 \nL 303.241327 153.481206 \nL 303.851274 153.803817 \nL 304.461221 153.725352 \nL 305.071168 154.045705 \nL 305.681116 153.967041 \nL 306.90101 154.206285 \nL 307.510957 154.522206 \nL 308.730851 154.756878 \nL 309.340799 155.069068 \nL 309.950746 154.793977 \nL 310.560693 154.715008 \nL 311.17064 154.44215 \nL 311.780587 154.55824 \nL 312.390534 154.48043 \nL 314.220376 154.825005 \nL 314.830323 154.555878 \nL 317.880059 155.12095 \nL 318.490006 154.854992 \nL 319.099953 154.778527 \nL 319.7099 155.077969 \nL 320.319848 155.188655 \nL 320.929795 154.551317 \nL 321.539742 154.849168 \nL 322.149689 154.959609 \nL 322.759636 154.698435 \nL 323.369583 154.993819 \nL 323.979531 155.103149 \nL 324.589478 155.027713 \nL 325.809372 154.511142 \nL 326.419319 154.437624 \nL 327.029266 154.181912 \nL 327.639214 154.109493 \nL 328.249161 153.674043 \nL 328.859108 153.603133 \nL 329.469055 153.894236 \nL 330.079002 153.82315 \nL 330.688949 153.932398 \nL 331.298897 154.220753 \nL 331.908844 153.97021 \nL 332.518791 154.257173 \nL 333.128738 154.186064 \nL 333.738685 154.471225 \nL 334.348632 154.577526 \nL 334.95858 154.860524 \nL 336.178474 154.364445 \nL 337.398368 154.223969 \nL 338.008315 154.329405 \nL 338.618263 154.084757 \nL 339.22821 154.364445 \nL 339.838157 154.294833 \nL 341.058051 154.503049 \nL 341.667998 154.260717 \nL 342.277946 154.191947 \nL 343.49784 154.398795 \nL 344.107787 154.330165 \nL 344.717734 154.603841 \nL 345.327681 154.705698 \nL 345.937629 154.296341 \nL 346.547576 154.22853 \nL 347.157523 154.330539 \nL 348.987365 153.623354 \nL 349.597312 153.725784 \nL 350.817206 153.59463 \nL 352.0371 152.798021 \nL 352.647048 153.067405 \nL 353.866942 152.940403 \nL 354.476889 153.207775 \nL 355.086836 153.309141 \nL 355.696783 153.574631 \nL 356.916678 153.446845 \nL 358.136572 153.646465 \nL 359.356466 153.519439 \nL 359.966414 153.294159 \nL 360.576361 153.393454 \nL 361.186308 153.33086 \nL 361.796255 153.107345 \nL 362.406202 153.367256 \nL 363.016149 153.144596 \nL 363.626097 153.083007 \nL 364.236044 153.341386 \nL 364.845991 153.279656 \nL 365.455938 153.058973 \nL 366.065885 152.998062 \nL 366.675832 153.254511 \nL 367.28578 153.19346 \nL 367.895727 153.448494 \nL 369.115621 153.640909 \nL 369.725568 153.579566 \nL 369.725568 153.579566 \n\" style=\"fill:none;stroke:#8c564b;stroke-linecap:square;stroke-width:1.5;\"/>\n   </g>\n   <g id=\"line2d_19\">\n    <path clip-path=\"url(#p2c0f1fae2d)\" d=\"M 50.14375 148.870303 \nL 384.94375 148.870303 \n\" style=\"fill:none;stroke:#000000;stroke-dasharray:5.55,2.4;stroke-dashoffset:0;stroke-width:1.5;\"/>\n   </g>\n   <g id=\"patch_3\">\n    <path d=\"M 50.14375 251.82 \nL 50.14375 7.2 \n\" style=\"fill:none;stroke:#000000;stroke-linecap:square;stroke-linejoin:miter;stroke-width:0.8;\"/>\n   </g>\n   <g id=\"patch_4\">\n    <path d=\"M 384.94375 251.82 \nL 384.94375 7.2 \n\" style=\"fill:none;stroke:#000000;stroke-linecap:square;stroke-linejoin:miter;stroke-width:0.8;\"/>\n   </g>\n   <g id=\"patch_5\">\n    <path d=\"M 50.14375 251.82 \nL 384.94375 251.82 \n\" style=\"fill:none;stroke:#000000;stroke-linecap:square;stroke-linejoin:miter;stroke-width:0.8;\"/>\n   </g>\n   <g id=\"patch_6\">\n    <path d=\"M 50.14375 7.2 \nL 384.94375 7.2 \n\" style=\"fill:none;stroke:#000000;stroke-linecap:square;stroke-linejoin:miter;stroke-width:0.8;\"/>\n   </g>\n   <g id=\"legend_1\">\n    <g id=\"patch_7\">\n     <path d=\"M 302.089063 103.26875 \nL 377.94375 103.26875 \nQ 379.94375 103.26875 379.94375 101.26875 \nL 379.94375 14.2 \nQ 379.94375 12.2 377.94375 12.2 \nL 302.089063 12.2 \nQ 300.089063 12.2 300.089063 14.2 \nL 300.089063 101.26875 \nQ 300.089063 103.26875 302.089063 103.26875 \nz\n\" style=\"fill:#ffffff;opacity:0.8;stroke:#cccccc;stroke-linejoin:miter;\"/>\n    </g>\n    <g id=\"line2d_20\">\n     <path d=\"M 304.089063 20.298437 \nL 324.089063 20.298437 \n\" style=\"fill:none;stroke:#1f77b4;stroke-linecap:square;stroke-width:1.5;\"/>\n    </g>\n    <g id=\"line2d_21\"/>\n    <g id=\"text_15\">\n     <!-- P(die=1) -->\n     <defs>\n      <path d=\"M 19.671875 64.796875 \nL 19.671875 37.40625 \nL 32.078125 37.40625 \nQ 38.96875 37.40625 42.71875 40.96875 \nQ 46.484375 44.53125 46.484375 51.125 \nQ 46.484375 57.671875 42.71875 61.234375 \nQ 38.96875 64.796875 32.078125 64.796875 \nz\nM 9.8125 72.90625 \nL 32.078125 72.90625 \nQ 44.34375 72.90625 50.609375 67.359375 \nQ 56.890625 61.8125 56.890625 51.125 \nQ 56.890625 40.328125 50.609375 34.8125 \nQ 44.34375 29.296875 32.078125 29.296875 \nL 19.671875 29.296875 \nL 19.671875 0 \nL 9.8125 0 \nz\n\" id=\"DejaVuSans-80\"/>\n      <path d=\"M 31 75.875 \nQ 24.46875 64.65625 21.28125 53.65625 \nQ 18.109375 42.671875 18.109375 31.390625 \nQ 18.109375 20.125 21.3125 9.0625 \nQ 24.515625 -2 31 -13.1875 \nL 23.1875 -13.1875 \nQ 15.875 -1.703125 12.234375 9.375 \nQ 8.59375 20.453125 8.59375 31.390625 \nQ 8.59375 42.28125 12.203125 53.3125 \nQ 15.828125 64.359375 23.1875 75.875 \nz\n\" id=\"DejaVuSans-40\"/>\n      <path d=\"M 10.59375 45.40625 \nL 73.1875 45.40625 \nL 73.1875 37.203125 \nL 10.59375 37.203125 \nz\nM 10.59375 25.484375 \nL 73.1875 25.484375 \nL 73.1875 17.1875 \nL 10.59375 17.1875 \nz\n\" id=\"DejaVuSans-61\"/>\n      <path d=\"M 8.015625 75.875 \nL 15.828125 75.875 \nQ 23.140625 64.359375 26.78125 53.3125 \nQ 30.421875 42.28125 30.421875 31.390625 \nQ 30.421875 20.453125 26.78125 9.375 \nQ 23.140625 -1.703125 15.828125 -13.1875 \nL 8.015625 -13.1875 \nQ 14.5 -2 17.703125 9.0625 \nQ 20.90625 20.125 20.90625 31.390625 \nQ 20.90625 42.671875 17.703125 53.65625 \nQ 14.5 64.65625 8.015625 75.875 \nz\n\" id=\"DejaVuSans-41\"/>\n     </defs>\n     <g transform=\"translate(332.089063 23.798437)scale(0.1 -0.1)\">\n      <use xlink:href=\"#DejaVuSans-80\"/>\n      <use x=\"60.302734\" xlink:href=\"#DejaVuSans-40\"/>\n      <use x=\"99.316406\" xlink:href=\"#DejaVuSans-100\"/>\n      <use x=\"162.792969\" xlink:href=\"#DejaVuSans-105\"/>\n      <use x=\"190.576172\" xlink:href=\"#DejaVuSans-101\"/>\n      <use x=\"252.099609\" xlink:href=\"#DejaVuSans-61\"/>\n      <use x=\"335.888672\" xlink:href=\"#DejaVuSans-49\"/>\n      <use x=\"399.511719\" xlink:href=\"#DejaVuSans-41\"/>\n     </g>\n    </g>\n    <g id=\"line2d_22\">\n     <path d=\"M 304.089063 34.976562 \nL 324.089063 34.976562 \n\" style=\"fill:none;stroke:#ff7f0e;stroke-linecap:square;stroke-width:1.5;\"/>\n    </g>\n    <g id=\"line2d_23\"/>\n    <g id=\"text_16\">\n     <!-- P(die=2) -->\n     <g transform=\"translate(332.089063 38.476562)scale(0.1 -0.1)\">\n      <use xlink:href=\"#DejaVuSans-80\"/>\n      <use x=\"60.302734\" xlink:href=\"#DejaVuSans-40\"/>\n      <use x=\"99.316406\" xlink:href=\"#DejaVuSans-100\"/>\n      <use x=\"162.792969\" xlink:href=\"#DejaVuSans-105\"/>\n      <use x=\"190.576172\" xlink:href=\"#DejaVuSans-101\"/>\n      <use x=\"252.099609\" xlink:href=\"#DejaVuSans-61\"/>\n      <use x=\"335.888672\" xlink:href=\"#DejaVuSans-50\"/>\n      <use x=\"399.511719\" xlink:href=\"#DejaVuSans-41\"/>\n     </g>\n    </g>\n    <g id=\"line2d_24\">\n     <path d=\"M 304.089063 49.654687 \nL 324.089063 49.654687 \n\" style=\"fill:none;stroke:#2ca02c;stroke-linecap:square;stroke-width:1.5;\"/>\n    </g>\n    <g id=\"line2d_25\"/>\n    <g id=\"text_17\">\n     <!-- P(die=3) -->\n     <g transform=\"translate(332.089063 53.154687)scale(0.1 -0.1)\">\n      <use xlink:href=\"#DejaVuSans-80\"/>\n      <use x=\"60.302734\" xlink:href=\"#DejaVuSans-40\"/>\n      <use x=\"99.316406\" xlink:href=\"#DejaVuSans-100\"/>\n      <use x=\"162.792969\" xlink:href=\"#DejaVuSans-105\"/>\n      <use x=\"190.576172\" xlink:href=\"#DejaVuSans-101\"/>\n      <use x=\"252.099609\" xlink:href=\"#DejaVuSans-61\"/>\n      <use x=\"335.888672\" xlink:href=\"#DejaVuSans-51\"/>\n      <use x=\"399.511719\" xlink:href=\"#DejaVuSans-41\"/>\n     </g>\n    </g>\n    <g id=\"line2d_26\">\n     <path d=\"M 304.089063 64.332812 \nL 324.089063 64.332812 \n\" style=\"fill:none;stroke:#d62728;stroke-linecap:square;stroke-width:1.5;\"/>\n    </g>\n    <g id=\"line2d_27\"/>\n    <g id=\"text_18\">\n     <!-- P(die=4) -->\n     <g transform=\"translate(332.089063 67.832812)scale(0.1 -0.1)\">\n      <use xlink:href=\"#DejaVuSans-80\"/>\n      <use x=\"60.302734\" xlink:href=\"#DejaVuSans-40\"/>\n      <use x=\"99.316406\" xlink:href=\"#DejaVuSans-100\"/>\n      <use x=\"162.792969\" xlink:href=\"#DejaVuSans-105\"/>\n      <use x=\"190.576172\" xlink:href=\"#DejaVuSans-101\"/>\n      <use x=\"252.099609\" xlink:href=\"#DejaVuSans-61\"/>\n      <use x=\"335.888672\" xlink:href=\"#DejaVuSans-52\"/>\n      <use x=\"399.511719\" xlink:href=\"#DejaVuSans-41\"/>\n     </g>\n    </g>\n    <g id=\"line2d_28\">\n     <path d=\"M 304.089063 79.010937 \nL 324.089063 79.010937 \n\" style=\"fill:none;stroke:#9467bd;stroke-linecap:square;stroke-width:1.5;\"/>\n    </g>\n    <g id=\"line2d_29\"/>\n    <g id=\"text_19\">\n     <!-- P(die=5) -->\n     <g transform=\"translate(332.089063 82.510937)scale(0.1 -0.1)\">\n      <use xlink:href=\"#DejaVuSans-80\"/>\n      <use x=\"60.302734\" xlink:href=\"#DejaVuSans-40\"/>\n      <use x=\"99.316406\" xlink:href=\"#DejaVuSans-100\"/>\n      <use x=\"162.792969\" xlink:href=\"#DejaVuSans-105\"/>\n      <use x=\"190.576172\" xlink:href=\"#DejaVuSans-101\"/>\n      <use x=\"252.099609\" xlink:href=\"#DejaVuSans-61\"/>\n      <use x=\"335.888672\" xlink:href=\"#DejaVuSans-53\"/>\n      <use x=\"399.511719\" xlink:href=\"#DejaVuSans-41\"/>\n     </g>\n    </g>\n    <g id=\"line2d_30\">\n     <path d=\"M 304.089063 93.689062 \nL 324.089063 93.689062 \n\" style=\"fill:none;stroke:#8c564b;stroke-linecap:square;stroke-width:1.5;\"/>\n    </g>\n    <g id=\"line2d_31\"/>\n    <g id=\"text_20\">\n     <!-- P(die=6) -->\n     <defs>\n      <path d=\"M 33.015625 40.375 \nQ 26.375 40.375 22.484375 35.828125 \nQ 18.609375 31.296875 18.609375 23.390625 \nQ 18.609375 15.53125 22.484375 10.953125 \nQ 26.375 6.390625 33.015625 6.390625 \nQ 39.65625 6.390625 43.53125 10.953125 \nQ 47.40625 15.53125 47.40625 23.390625 \nQ 47.40625 31.296875 43.53125 35.828125 \nQ 39.65625 40.375 33.015625 40.375 \nz\nM 52.59375 71.296875 \nL 52.59375 62.3125 \nQ 48.875 64.0625 45.09375 64.984375 \nQ 41.3125 65.921875 37.59375 65.921875 \nQ 27.828125 65.921875 22.671875 59.328125 \nQ 17.53125 52.734375 16.796875 39.40625 \nQ 19.671875 43.65625 24.015625 45.921875 \nQ 28.375 48.1875 33.59375 48.1875 \nQ 44.578125 48.1875 50.953125 41.515625 \nQ 57.328125 34.859375 57.328125 23.390625 \nQ 57.328125 12.15625 50.6875 5.359375 \nQ 44.046875 -1.421875 33.015625 -1.421875 \nQ 20.359375 -1.421875 13.671875 8.265625 \nQ 6.984375 17.96875 6.984375 36.375 \nQ 6.984375 53.65625 15.1875 63.9375 \nQ 23.390625 74.21875 37.203125 74.21875 \nQ 40.921875 74.21875 44.703125 73.484375 \nQ 48.484375 72.75 52.59375 71.296875 \nz\n\" id=\"DejaVuSans-54\"/>\n     </defs>\n     <g transform=\"translate(332.089063 97.189062)scale(0.1 -0.1)\">\n      <use xlink:href=\"#DejaVuSans-80\"/>\n      <use x=\"60.302734\" xlink:href=\"#DejaVuSans-40\"/>\n      <use x=\"99.316406\" xlink:href=\"#DejaVuSans-100\"/>\n      <use x=\"162.792969\" xlink:href=\"#DejaVuSans-105\"/>\n      <use x=\"190.576172\" xlink:href=\"#DejaVuSans-101\"/>\n      <use x=\"252.099609\" xlink:href=\"#DejaVuSans-61\"/>\n      <use x=\"335.888672\" xlink:href=\"#DejaVuSans-54\"/>\n      <use x=\"399.511719\" xlink:href=\"#DejaVuSans-41\"/>\n     </g>\n    </g>\n   </g>\n  </g>\n </g>\n <defs>\n  <clipPath id=\"p2c0f1fae2d\">\n   <rect height=\"244.62\" width=\"334.8\" x=\"50.14375\" y=\"7.2\"/>\n  </clipPath>\n </defs>\n</svg>\n"
          },
          "metadata": {
            "tags": [],
            "needs_background": "light"
          }
        }
      ]
    },
    {
      "cell_type": "markdown",
      "metadata": {
        "id": "kkznNnxBTrie"
      },
      "source": [
        "전반적으로 2.6 probability에서 설명하고 싶은 내용은 실질적인 확률분포는 큰수의 법칙을 통해 확인할 수 있음을 보여주는 예시이다. "
      ]
    },
    {
      "cell_type": "code",
      "metadata": {
        "id": "cYV_JhrBJ-S4"
      },
      "source": [
        ""
      ],
      "execution_count": 88,
      "outputs": []
    },
    {
      "cell_type": "code",
      "metadata": {
        "id": "2qNDbUYKTqAO"
      },
      "source": [
        ""
      ],
      "execution_count": 88,
      "outputs": []
    },
    {
      "cell_type": "code",
      "metadata": {
        "id": "hMk1vmD-TqC1"
      },
      "source": [
        ""
      ],
      "execution_count": 88,
      "outputs": []
    }
  ]
}