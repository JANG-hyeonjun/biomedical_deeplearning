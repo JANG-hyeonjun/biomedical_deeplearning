{
  "nbformat": 4,
  "nbformat_minor": 0,
  "metadata": {
    "colab": {
      "name": "lab_01_201602955_장현준.ipynb",
      "provenance": [],
      "collapsed_sections": [],
      "authorship_tag": "ABX9TyP+IGgiuOuI/jdF+ms9roxS",
      "include_colab_link": true
    },
    "kernelspec": {
      "name": "python3",
      "display_name": "Python 3"
    },
    "language_info": {
      "name": "python"
    }
  },
  "cells": [
    {
      "cell_type": "markdown",
      "metadata": {
        "id": "view-in-github",
        "colab_type": "text"
      },
      "source": [
        "<a href=\"https://colab.research.google.com/github/JANG-hyeonjun/biomedical_deeplearning/blob/main/lab_01_201602955_%EC%9E%A5%ED%98%84%EC%A4%80.ipynb\" target=\"_parent\"><img src=\"https://colab.research.google.com/assets/colab-badge.svg\" alt=\"Open In Colab\"/></a>"
      ]
    },
    {
      "cell_type": "markdown",
      "metadata": {
        "id": "4w9_q6jXYnvw"
      },
      "source": [
        "학번:201602955\n",
        "\n",
        "이름:장현준 \n"
      ]
    },
    {
      "cell_type": "markdown",
      "metadata": {
        "id": "xRmYO_RqY-Vw"
      },
      "source": [
        "Data manipulation 2.1\n"
      ]
    },
    {
      "cell_type": "code",
      "metadata": {
        "id": "q7DNsJV9Ymce"
      },
      "source": [
        "import torch"
      ],
      "execution_count": null,
      "outputs": []
    },
    {
      "cell_type": "code",
      "metadata": {
        "colab": {
          "base_uri": "https://localhost:8080/"
        },
        "id": "PzfY6qH8Ym1l",
        "outputId": "d8741976-3706-437d-a8b5-09b44ef829a0"
      },
      "source": [
        "x = torch.arange(12)\n",
        "x"
      ],
      "execution_count": null,
      "outputs": [
        {
          "output_type": "execute_result",
          "data": {
            "text/plain": [
              "tensor([ 0,  1,  2,  3,  4,  5,  6,  7,  8,  9, 10, 11])"
            ]
          },
          "metadata": {
            "tags": []
          },
          "execution_count": 3
        }
      ]
    },
    {
      "cell_type": "code",
      "metadata": {
        "colab": {
          "base_uri": "https://localhost:8080/"
        },
        "id": "Z8cxePGwYm4X",
        "outputId": "e2b47be1-d05c-4855-b768-c075930dc184"
      },
      "source": [
        "x.numel()"
      ],
      "execution_count": null,
      "outputs": [
        {
          "output_type": "execute_result",
          "data": {
            "text/plain": [
              "12"
            ]
          },
          "metadata": {
            "tags": []
          },
          "execution_count": 4
        }
      ]
    },
    {
      "cell_type": "code",
      "metadata": {
        "colab": {
          "base_uri": "https://localhost:8080/"
        },
        "id": "jC17-2HnYnBr",
        "outputId": "bda7bd0a-ca6c-4753-8ce7-1a1d50088fbc"
      },
      "source": [
        "x.shape"
      ],
      "execution_count": null,
      "outputs": [
        {
          "output_type": "execute_result",
          "data": {
            "text/plain": [
              "torch.Size([12])"
            ]
          },
          "metadata": {
            "tags": []
          },
          "execution_count": 5
        }
      ]
    },
    {
      "cell_type": "code",
      "metadata": {
        "colab": {
          "base_uri": "https://localhost:8080/"
        },
        "id": "-VgSq-JmYnEe",
        "outputId": "ba44a9e9-80fd-4420-89c2-41a10ac7fa37"
      },
      "source": [
        "X = x.reshape(3,4)\n",
        "X"
      ],
      "execution_count": null,
      "outputs": [
        {
          "output_type": "execute_result",
          "data": {
            "text/plain": [
              "tensor([[ 0,  1,  2,  3],\n",
              "        [ 4,  5,  6,  7],\n",
              "        [ 8,  9, 10, 11]])"
            ]
          },
          "metadata": {
            "tags": []
          },
          "execution_count": 6
        }
      ]
    },
    {
      "cell_type": "markdown",
      "metadata": {
        "id": "X5HRcfHIZyMx"
      },
      "source": [
        "pytorch 를 이용해서 array의 개수 및 모양을 다양하게 바꿀수 있다는 점을 알수 있다 -> data를 다루기에 매운 좋은 tool임을 알 수 있다. "
      ]
    },
    {
      "cell_type": "code",
      "metadata": {
        "colab": {
          "base_uri": "https://localhost:8080/"
        },
        "id": "77nmS2AkYnHU",
        "outputId": "0e906830-be45-46d2-862d-41d6c7c74f36"
      },
      "source": [
        "torch.zeros((2,3,4))"
      ],
      "execution_count": null,
      "outputs": [
        {
          "output_type": "execute_result",
          "data": {
            "text/plain": [
              "tensor([[[0., 0., 0., 0.],\n",
              "         [0., 0., 0., 0.],\n",
              "         [0., 0., 0., 0.]],\n",
              "\n",
              "        [[0., 0., 0., 0.],\n",
              "         [0., 0., 0., 0.],\n",
              "         [0., 0., 0., 0.]]])"
            ]
          },
          "metadata": {
            "tags": []
          },
          "execution_count": 7
        }
      ]
    },
    {
      "cell_type": "code",
      "metadata": {
        "colab": {
          "base_uri": "https://localhost:8080/"
        },
        "id": "grKKhUxBaB1H",
        "outputId": "33757060-660e-4a51-cce8-07d7ca54ac9d"
      },
      "source": [
        "torch.ones((2,3,4))"
      ],
      "execution_count": null,
      "outputs": [
        {
          "output_type": "execute_result",
          "data": {
            "text/plain": [
              "tensor([[[1., 1., 1., 1.],\n",
              "         [1., 1., 1., 1.],\n",
              "         [1., 1., 1., 1.]],\n",
              "\n",
              "        [[1., 1., 1., 1.],\n",
              "         [1., 1., 1., 1.],\n",
              "         [1., 1., 1., 1.]]])"
            ]
          },
          "metadata": {
            "tags": []
          },
          "execution_count": 8
        }
      ]
    },
    {
      "cell_type": "code",
      "metadata": {
        "colab": {
          "base_uri": "https://localhost:8080/"
        },
        "id": "HT1SagNraB3Z",
        "outputId": "8ff98e95-581d-4434-f036-52cd76d35006"
      },
      "source": [
        "torch.randn(3,4)"
      ],
      "execution_count": null,
      "outputs": [
        {
          "output_type": "execute_result",
          "data": {
            "text/plain": [
              "tensor([[-0.0895, -1.1139,  1.5280, -0.7191],\n",
              "        [-0.3174, -0.1479, -2.1027,  1.5309],\n",
              "        [ 1.2167, -0.0678, -1.3941,  0.0047]])"
            ]
          },
          "metadata": {
            "tags": []
          },
          "execution_count": 9
        }
      ]
    },
    {
      "cell_type": "code",
      "metadata": {
        "id": "Zo3Rc5CdaB52",
        "colab": {
          "base_uri": "https://localhost:8080/"
        },
        "outputId": "c53d8c32-32c1-4fd8-b4f4-312f9da52f2d"
      },
      "source": [
        "torch.tensor([[2, 1, 4, 3], [1, 2, 3, 4], [4, 3, 2, 1]])"
      ],
      "execution_count": null,
      "outputs": [
        {
          "output_type": "execute_result",
          "data": {
            "text/plain": [
              "tensor([[2, 1, 4, 3],\n",
              "        [1, 2, 3, 4],\n",
              "        [4, 3, 2, 1]])"
            ]
          },
          "metadata": {
            "tags": []
          },
          "execution_count": 10
        }
      ]
    },
    {
      "cell_type": "markdown",
      "metadata": {
        "id": "r4NVfemXmKR1"
      },
      "source": [
        "initlization 할 때 사용하면 좋을 것같다. "
      ]
    },
    {
      "cell_type": "code",
      "metadata": {
        "id": "IdA3HvHHaB8L",
        "colab": {
          "base_uri": "https://localhost:8080/"
        },
        "outputId": "fe69cac1-0cae-4e6b-cd67-68e9bcfbed1d"
      },
      "source": [
        "x = torch.tensor([1.0, 2, 4, 8])\n",
        "y = torch.tensor([2, 2, 2, 2])\n",
        "x + y, x - y, x * y, x / y, x**y  "
      ],
      "execution_count": null,
      "outputs": [
        {
          "output_type": "execute_result",
          "data": {
            "text/plain": [
              "(tensor([ 3.,  4.,  6., 10.]),\n",
              " tensor([-1.,  0.,  2.,  6.]),\n",
              " tensor([ 2.,  4.,  8., 16.]),\n",
              " tensor([0.5000, 1.0000, 2.0000, 4.0000]),\n",
              " tensor([ 1.,  4., 16., 64.]))"
            ]
          },
          "metadata": {
            "tags": []
          },
          "execution_count": 12
        }
      ]
    },
    {
      "cell_type": "code",
      "metadata": {
        "id": "rDYJtdLxaB-z",
        "colab": {
          "base_uri": "https://localhost:8080/"
        },
        "outputId": "10f8654e-ea80-4813-a396-211a41518f3c"
      },
      "source": [
        "torch.exp(x)\n",
        "torch.cos(x)\n",
        "print(torch.cos(x**2 + 2* x))\n",
        "caculus = x **2 + 2 *x\n",
        "print(torch.cos(caculus))"
      ],
      "execution_count": null,
      "outputs": [
        {
          "output_type": "stream",
          "text": [
            "tensor([-0.9900, -0.1455,  0.4242, -0.1104])\n",
            "tensor([-0.9900, -0.1455,  0.4242, -0.1104])\n"
          ],
          "name": "stdout"
        }
      ]
    },
    {
      "cell_type": "markdown",
      "metadata": {
        "id": "PeTljRDhnFqP"
      },
      "source": [
        "수식을 어떤 변수로 삼아서 저장할수 도 있고 다양한 계산을  차원 이 많은 텐서에대해 모두 적용할 수있다는점 이 중요하고 편리한 기능 같다.\n",
        " "
      ]
    },
    {
      "cell_type": "code",
      "metadata": {
        "id": "py9Ab0n3YnJk",
        "colab": {
          "base_uri": "https://localhost:8080/"
        },
        "outputId": "f25b1bbc-5edc-48f3-bca4-76a73926d93d"
      },
      "source": [
        "X = torch.arange(12,dtype=torch.float32).reshape((3,4))\n",
        "Y = torch.tensor([[2.0,1,4,3],[1,2,3,4],[4,3,2,1]])\n",
        "torch.cat((X,Y), dim = 0),torch.cat((X,Y),dim = 1)"
      ],
      "execution_count": null,
      "outputs": [
        {
          "output_type": "execute_result",
          "data": {
            "text/plain": [
              "(tensor([[ 0.,  1.,  2.,  3.],\n",
              "         [ 4.,  5.,  6.,  7.],\n",
              "         [ 8.,  9., 10., 11.],\n",
              "         [ 2.,  1.,  4.,  3.],\n",
              "         [ 1.,  2.,  3.,  4.],\n",
              "         [ 4.,  3.,  2.,  1.]]),\n",
              " tensor([[ 0.,  1.,  2.,  3.,  2.,  1.,  4.,  3.],\n",
              "         [ 4.,  5.,  6.,  7.,  1.,  2.,  3.,  4.],\n",
              "         [ 8.,  9., 10., 11.,  4.,  3.,  2.,  1.]]))"
            ]
          },
          "metadata": {
            "tags": []
          },
          "execution_count": 35
        }
      ]
    },
    {
      "cell_type": "code",
      "metadata": {
        "colab": {
          "base_uri": "https://localhost:8080/"
        },
        "id": "p2IcFNbslPp1",
        "outputId": "44d2ce05-093f-4bc6-a222-d4b574a90816"
      },
      "source": [
        "X == Y"
      ],
      "execution_count": null,
      "outputs": [
        {
          "output_type": "execute_result",
          "data": {
            "text/plain": [
              "tensor([[False,  True, False,  True],\n",
              "        [False, False, False, False],\n",
              "        [False, False, False, False]])"
            ]
          },
          "metadata": {
            "tags": []
          },
          "execution_count": 25
        }
      ]
    },
    {
      "cell_type": "code",
      "metadata": {
        "colab": {
          "base_uri": "https://localhost:8080/"
        },
        "id": "qJi3tGctlPzd",
        "outputId": "732b39b4-74ce-4a99-a47e-5308d5640fc8"
      },
      "source": [
        "X.sum()"
      ],
      "execution_count": null,
      "outputs": [
        {
          "output_type": "execute_result",
          "data": {
            "text/plain": [
              "tensor(66.)"
            ]
          },
          "metadata": {
            "tags": []
          },
          "execution_count": 27
        }
      ]
    },
    {
      "cell_type": "markdown",
      "metadata": {
        "id": "XYdQZK5boHN-"
      },
      "source": [
        "dim 을 기준으로 행차원 아니면 열차원에서 텐서들에대해 cat과 같은 연산을 할수 있다. 하지만 cat연산은 테스팅 결과 텐서들의 차원이 같아야 연산이 됨을 확인 할 수 있었다. "
      ]
    },
    {
      "cell_type": "code",
      "metadata": {
        "colab": {
          "base_uri": "https://localhost:8080/"
        },
        "id": "vS3diQaslP3K",
        "outputId": "8dcce321-4117-4fb8-babc-9b53c2ecb848"
      },
      "source": [
        "a = torch.arange(3).reshape((3,1))\n",
        "b = torch.arange(2).reshape(1,2)\n",
        "a,b"
      ],
      "execution_count": null,
      "outputs": [
        {
          "output_type": "execute_result",
          "data": {
            "text/plain": [
              "(tensor([[0],\n",
              "         [1],\n",
              "         [2]]), tensor([[0, 1]]))"
            ]
          },
          "metadata": {
            "tags": []
          },
          "execution_count": 41
        }
      ]
    },
    {
      "cell_type": "code",
      "metadata": {
        "colab": {
          "base_uri": "https://localhost:8080/"
        },
        "id": "t6HxVNpro12g",
        "outputId": "9bcc07d8-2ac4-4c58-ef5a-017d733bd274"
      },
      "source": [
        "a + b"
      ],
      "execution_count": null,
      "outputs": [
        {
          "output_type": "execute_result",
          "data": {
            "text/plain": [
              "tensor([[0, 1],\n",
              "        [1, 2],\n",
              "        [2, 3]])"
            ]
          },
          "metadata": {
            "tags": []
          },
          "execution_count": 42
        }
      ]
    },
    {
      "cell_type": "markdown",
      "metadata": {
        "id": "D5PVlJ-2zNbb"
      },
      "source": [
        "broad casting을 파악할 수 있다. 수업시간의 내용을 상기시켜보면 브로드 캐스팅은 모양이 다른 텐서들의 계산을 도와주기도 하지만 의도 하지 않은 연산이 일어날 수 있음을 항상 주의 하라 하셨다."
      ]
    },
    {
      "cell_type": "code",
      "metadata": {
        "colab": {
          "base_uri": "https://localhost:8080/"
        },
        "id": "91TXymcHpJh3",
        "outputId": "043d6e32-c2a6-4b4b-d853-21e3509870ff"
      },
      "source": [
        "X[-1],X[1:3]"
      ],
      "execution_count": null,
      "outputs": [
        {
          "output_type": "execute_result",
          "data": {
            "text/plain": [
              "(tensor([ 8.,  9., 10., 11.]), tensor([[ 4.,  5.,  6.,  7.],\n",
              "         [ 8.,  9., 10., 11.]]))"
            ]
          },
          "metadata": {
            "tags": []
          },
          "execution_count": 44
        }
      ]
    },
    {
      "cell_type": "code",
      "metadata": {
        "colab": {
          "base_uri": "https://localhost:8080/"
        },
        "id": "sKNz_wzHpXJC",
        "outputId": "8137b2d0-951e-4151-a7d4-ff8bed193732"
      },
      "source": [
        "X[1,2] = 9 \n",
        "X"
      ],
      "execution_count": null,
      "outputs": [
        {
          "output_type": "execute_result",
          "data": {
            "text/plain": [
              "tensor([[ 0.,  1.,  2.,  3.],\n",
              "        [ 4.,  5.,  9.,  7.],\n",
              "        [ 8.,  9., 10., 11.]])"
            ]
          },
          "metadata": {
            "tags": []
          },
          "execution_count": 45
        }
      ]
    },
    {
      "cell_type": "code",
      "metadata": {
        "colab": {
          "base_uri": "https://localhost:8080/"
        },
        "id": "jzXNq9OuplT2",
        "outputId": "f5992697-0057-4d91-fe0d-ac5d0fe92338"
      },
      "source": [
        "X[0:2,:] = 12\n",
        "X"
      ],
      "execution_count": null,
      "outputs": [
        {
          "output_type": "execute_result",
          "data": {
            "text/plain": [
              "tensor([[12., 12., 12., 12.],\n",
              "        [12., 12., 12., 12.],\n",
              "        [ 8.,  9., 10., 11.]])"
            ]
          },
          "metadata": {
            "tags": []
          },
          "execution_count": 46
        }
      ]
    },
    {
      "cell_type": "markdown",
      "metadata": {
        "id": "Ya3FaRX6ptwc"
      },
      "source": [
        "파이썬 에서의 인덱싱과 슬라이싱을 다시 짚어볼 수 있었다.\n"
      ]
    },
    {
      "cell_type": "code",
      "metadata": {
        "colab": {
          "base_uri": "https://localhost:8080/"
        },
        "id": "6yLJKB3mprBV",
        "outputId": "f7bdd890-c204-4285-faeb-8416b99c9e76"
      },
      "source": [
        "before = id(Y)\n",
        "Y = Y + X\n",
        "id(Y) == before"
      ],
      "execution_count": null,
      "outputs": [
        {
          "output_type": "execute_result",
          "data": {
            "text/plain": [
              "False"
            ]
          },
          "metadata": {
            "tags": []
          },
          "execution_count": 48
        }
      ]
    },
    {
      "cell_type": "code",
      "metadata": {
        "colab": {
          "base_uri": "https://localhost:8080/"
        },
        "id": "ySNQ83XJp4ZM",
        "outputId": "24f40d70-a068-4e38-d403-abe26a5556a5"
      },
      "source": [
        "Z = torch.zeros_like(Y)\n",
        "print(Z)\n",
        "print(Y.shape)\n",
        "print('id(Z):',id(Z))\n",
        "Z[:] = X + Y\n",
        "print('id(Z):',id(Z))\n",
        "\n"
      ],
      "execution_count": null,
      "outputs": [
        {
          "output_type": "stream",
          "text": [
            "tensor([[0., 0., 0., 0.],\n",
            "        [0., 0., 0., 0.],\n",
            "        [0., 0., 0., 0.]])\n",
            "torch.Size([3, 4])\n",
            "id(Z): 140357240152864\n",
            "id(Z): 140357240152864\n"
          ],
          "name": "stdout"
        }
      ]
    },
    {
      "cell_type": "code",
      "metadata": {
        "colab": {
          "base_uri": "https://localhost:8080/"
        },
        "id": "RKB8gZkkp4br",
        "outputId": "2f9536ac-30f3-4f32-886d-be3778407023"
      },
      "source": [
        "before = id(X)\n",
        "X += Y\n",
        "id(X) == before"
      ],
      "execution_count": null,
      "outputs": [
        {
          "output_type": "execute_result",
          "data": {
            "text/plain": [
              "True"
            ]
          },
          "metadata": {
            "tags": []
          },
          "execution_count": 53
        }
      ]
    },
    {
      "cell_type": "markdown",
      "metadata": {
        "id": "ph4Meal5wgjc"
      },
      "source": [
        "메모리를 절약할수 있는 방법을 파악할 수 있었다. \n",
        "그냥 변수를 X = X + Y로 하면 X+Y를 할당해주는 부분이 존재하는데 슬라이싱이나 += 같은 연산을 사용하면 메모리를 절약함을 알 수 있다.\n",
        "zeros_like는 아무래도 Y의 텐서를 shpae을 그대로 가져와 0으로 초기화해준것을 알 수 있었다.\n",
        "\n"
      ]
    },
    {
      "cell_type": "markdown",
      "metadata": {
        "id": "WOUN-vYRyVzx"
      },
      "source": [
        "---------Conversion to to other Python Objects-----------\n"
      ]
    },
    {
      "cell_type": "code",
      "metadata": {
        "colab": {
          "base_uri": "https://localhost:8080/"
        },
        "id": "FgEoFdcSp4gf",
        "outputId": "485f3b9a-8e8d-4853-caca-26b22759c5b7"
      },
      "source": [
        "A = X.numpy()\n",
        "B = torch.tensor(A)\n",
        "type(A),type(B)"
      ],
      "execution_count": null,
      "outputs": [
        {
          "output_type": "execute_result",
          "data": {
            "text/plain": [
              "(numpy.ndarray, torch.Tensor)"
            ]
          },
          "metadata": {
            "tags": []
          },
          "execution_count": 55
        }
      ]
    },
    {
      "cell_type": "code",
      "metadata": {
        "colab": {
          "base_uri": "https://localhost:8080/"
        },
        "id": "YPqoxgDep4in",
        "outputId": "194c9345-4387-41d3-fabe-440b917ae432"
      },
      "source": [
        "a = torch.tensor([3.5])\n",
        "a,a.item(),float(a),int(a)"
      ],
      "execution_count": null,
      "outputs": [
        {
          "output_type": "execute_result",
          "data": {
            "text/plain": [
              "(tensor([3.5000]), 3.5, 3.5, 3)"
            ]
          },
          "metadata": {
            "tags": []
          },
          "execution_count": 56
        }
      ]
    },
    {
      "cell_type": "markdown",
      "metadata": {
        "id": "A49YEmb5y4mA"
      },
      "source": [
        "다양한 데이터를 텐서로 바꾸기 쉽다는것을 파악할수 있었다. \n",
        "위 와 같이 잘변경되면 Pandas나 다양한 툴로 가져온 데이터를 텐서로 manipulation을 쉽게 할 수 있다. "
      ]
    },
    {
      "cell_type": "code",
      "metadata": {
        "id": "BzqIujh4p4kn"
      },
      "source": [
        ""
      ],
      "execution_count": null,
      "outputs": []
    },
    {
      "cell_type": "code",
      "metadata": {
        "id": "d3_4QNLtp4mc"
      },
      "source": [
        ""
      ],
      "execution_count": null,
      "outputs": []
    },
    {
      "cell_type": "code",
      "metadata": {
        "id": "QSgV29E1p4oq"
      },
      "source": [
        ""
      ],
      "execution_count": null,
      "outputs": []
    }
  ]
}