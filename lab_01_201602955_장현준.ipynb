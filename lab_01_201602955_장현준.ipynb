{
  "nbformat": 4,
  "nbformat_minor": 0,
  "metadata": {
    "colab": {
      "name": "lab_01_201602955_장현준.ipynb",
      "provenance": [],
      "collapsed_sections": [],
      "authorship_tag": "ABX9TyO7c6/mYfGfD9PbVnTIS585",
      "include_colab_link": true
    },
    "kernelspec": {
      "name": "python3",
      "display_name": "Python 3"
    },
    "language_info": {
      "name": "python"
    }
  },
  "cells": [
    {
      "cell_type": "markdown",
      "metadata": {
        "id": "view-in-github",
        "colab_type": "text"
      },
      "source": [
        "<a href=\"https://colab.research.google.com/github/JANG-hyeonjun/biomedical_deeplearning/blob/main/lab_01_201602955_%EC%9E%A5%ED%98%84%EC%A4%80.ipynb\" target=\"_parent\"><img src=\"https://colab.research.google.com/assets/colab-badge.svg\" alt=\"Open In Colab\"/></a>"
      ]
    },
    {
      "cell_type": "markdown",
      "metadata": {
        "id": "4w9_q6jXYnvw"
      },
      "source": [
        "학번:201602955\n",
        "\n",
        "이름:장현준 \n"
      ]
    },
    {
      "cell_type": "markdown",
      "metadata": {
        "id": "xRmYO_RqY-Vw"
      },
      "source": [
        "Data manipulation 2.1\n"
      ]
    },
    {
      "cell_type": "code",
      "metadata": {
        "id": "q7DNsJV9Ymce"
      },
      "source": [
        "import torch"
      ],
      "execution_count": 33,
      "outputs": []
    },
    {
      "cell_type": "code",
      "metadata": {
        "colab": {
          "base_uri": "https://localhost:8080/"
        },
        "id": "PzfY6qH8Ym1l",
        "outputId": "4e19fa05-4537-4fc8-bcb5-0f3623b461be"
      },
      "source": [
        "x = torch.arange(12)\n",
        "x"
      ],
      "execution_count": 34,
      "outputs": [
        {
          "output_type": "execute_result",
          "data": {
            "text/plain": [
              "tensor([ 0,  1,  2,  3,  4,  5,  6,  7,  8,  9, 10, 11])"
            ]
          },
          "metadata": {
            "tags": []
          },
          "execution_count": 34
        }
      ]
    },
    {
      "cell_type": "code",
      "metadata": {
        "colab": {
          "base_uri": "https://localhost:8080/"
        },
        "id": "Z8cxePGwYm4X",
        "outputId": "f8c68b85-b248-4fe5-86c2-c9d421d45ea2"
      },
      "source": [
        "x.numel()"
      ],
      "execution_count": 35,
      "outputs": [
        {
          "output_type": "execute_result",
          "data": {
            "text/plain": [
              "12"
            ]
          },
          "metadata": {
            "tags": []
          },
          "execution_count": 35
        }
      ]
    },
    {
      "cell_type": "code",
      "metadata": {
        "colab": {
          "base_uri": "https://localhost:8080/"
        },
        "id": "jC17-2HnYnBr",
        "outputId": "07a6eb34-60df-4e0c-bbbc-638e9c64a3c2"
      },
      "source": [
        "x.shape"
      ],
      "execution_count": 36,
      "outputs": [
        {
          "output_type": "execute_result",
          "data": {
            "text/plain": [
              "torch.Size([12])"
            ]
          },
          "metadata": {
            "tags": []
          },
          "execution_count": 36
        }
      ]
    },
    {
      "cell_type": "code",
      "metadata": {
        "colab": {
          "base_uri": "https://localhost:8080/"
        },
        "id": "-VgSq-JmYnEe",
        "outputId": "698c8043-d34d-4874-8a79-d79b4afc4ac4"
      },
      "source": [
        "X = x.reshape(3,4)\n",
        "X"
      ],
      "execution_count": 37,
      "outputs": [
        {
          "output_type": "execute_result",
          "data": {
            "text/plain": [
              "tensor([[ 0,  1,  2,  3],\n",
              "        [ 4,  5,  6,  7],\n",
              "        [ 8,  9, 10, 11]])"
            ]
          },
          "metadata": {
            "tags": []
          },
          "execution_count": 37
        }
      ]
    },
    {
      "cell_type": "markdown",
      "metadata": {
        "id": "X5HRcfHIZyMx"
      },
      "source": [
        "pytorch 를 이용해서 array의 개수 및 모양을 다양하게 바꿀수 있다는 점을 알수 있다 -> data를 다루기에 매운 좋은 tool임을 알 수 있다. "
      ]
    },
    {
      "cell_type": "code",
      "metadata": {
        "colab": {
          "base_uri": "https://localhost:8080/"
        },
        "id": "77nmS2AkYnHU",
        "outputId": "f0de92fc-d4a0-4b8c-fe0f-e845e91d6558"
      },
      "source": [
        "torch.zeros((2,3,4))"
      ],
      "execution_count": 38,
      "outputs": [
        {
          "output_type": "execute_result",
          "data": {
            "text/plain": [
              "tensor([[[0., 0., 0., 0.],\n",
              "         [0., 0., 0., 0.],\n",
              "         [0., 0., 0., 0.]],\n",
              "\n",
              "        [[0., 0., 0., 0.],\n",
              "         [0., 0., 0., 0.],\n",
              "         [0., 0., 0., 0.]]])"
            ]
          },
          "metadata": {
            "tags": []
          },
          "execution_count": 38
        }
      ]
    },
    {
      "cell_type": "code",
      "metadata": {
        "colab": {
          "base_uri": "https://localhost:8080/"
        },
        "id": "grKKhUxBaB1H",
        "outputId": "aab2e424-ecdb-48fe-fd14-c844830b3444"
      },
      "source": [
        "torch.ones((2,3,4))"
      ],
      "execution_count": 39,
      "outputs": [
        {
          "output_type": "execute_result",
          "data": {
            "text/plain": [
              "tensor([[[1., 1., 1., 1.],\n",
              "         [1., 1., 1., 1.],\n",
              "         [1., 1., 1., 1.]],\n",
              "\n",
              "        [[1., 1., 1., 1.],\n",
              "         [1., 1., 1., 1.],\n",
              "         [1., 1., 1., 1.]]])"
            ]
          },
          "metadata": {
            "tags": []
          },
          "execution_count": 39
        }
      ]
    },
    {
      "cell_type": "code",
      "metadata": {
        "colab": {
          "base_uri": "https://localhost:8080/"
        },
        "id": "HT1SagNraB3Z",
        "outputId": "ccf5008a-b99b-4b9b-f7cb-3f9d20e90fff"
      },
      "source": [
        "torch.randn(3,4)"
      ],
      "execution_count": 40,
      "outputs": [
        {
          "output_type": "execute_result",
          "data": {
            "text/plain": [
              "tensor([[-1.4840, -0.9554,  0.2742,  0.0790],\n",
              "        [-0.4991, -0.5946, -0.0272,  0.1477],\n",
              "        [ 0.2704,  1.4632, -0.6553, -0.4603]])"
            ]
          },
          "metadata": {
            "tags": []
          },
          "execution_count": 40
        }
      ]
    },
    {
      "cell_type": "code",
      "metadata": {
        "id": "Zo3Rc5CdaB52",
        "colab": {
          "base_uri": "https://localhost:8080/"
        },
        "outputId": "de684e97-e2ce-4311-c810-464db874a3b7"
      },
      "source": [
        "torch.tensor([[2, 1, 4, 3], [1, 2, 3, 4], [4, 3, 2, 1]])"
      ],
      "execution_count": 41,
      "outputs": [
        {
          "output_type": "execute_result",
          "data": {
            "text/plain": [
              "tensor([[2, 1, 4, 3],\n",
              "        [1, 2, 3, 4],\n",
              "        [4, 3, 2, 1]])"
            ]
          },
          "metadata": {
            "tags": []
          },
          "execution_count": 41
        }
      ]
    },
    {
      "cell_type": "markdown",
      "metadata": {
        "id": "r4NVfemXmKR1"
      },
      "source": [
        "initlization 할 때 사용하면 좋을 것같다. "
      ]
    },
    {
      "cell_type": "code",
      "metadata": {
        "id": "IdA3HvHHaB8L",
        "colab": {
          "base_uri": "https://localhost:8080/"
        },
        "outputId": "8c79dad5-885e-4a2a-fe1d-faf9424b41c2"
      },
      "source": [
        "x = torch.tensor([1.0, 2, 4, 8])\n",
        "y = torch.tensor([2, 2, 2, 2])\n",
        "x + y, x - y, x * y, x / y, x**y  "
      ],
      "execution_count": 42,
      "outputs": [
        {
          "output_type": "execute_result",
          "data": {
            "text/plain": [
              "(tensor([ 3.,  4.,  6., 10.]),\n",
              " tensor([-1.,  0.,  2.,  6.]),\n",
              " tensor([ 2.,  4.,  8., 16.]),\n",
              " tensor([0.5000, 1.0000, 2.0000, 4.0000]),\n",
              " tensor([ 1.,  4., 16., 64.]))"
            ]
          },
          "metadata": {
            "tags": []
          },
          "execution_count": 42
        }
      ]
    },
    {
      "cell_type": "code",
      "metadata": {
        "id": "rDYJtdLxaB-z",
        "colab": {
          "base_uri": "https://localhost:8080/"
        },
        "outputId": "eca5e3dc-169d-4398-e6a5-e3934dbd7236"
      },
      "source": [
        "torch.exp(x)\n",
        "torch.cos(x)\n",
        "print(torch.cos(x**2 + 2* x))\n",
        "caculus = x **2 + 2 *x\n",
        "print(torch.cos(caculus))"
      ],
      "execution_count": 43,
      "outputs": [
        {
          "output_type": "stream",
          "text": [
            "tensor([-0.9900, -0.1455,  0.4242, -0.1104])\n",
            "tensor([-0.9900, -0.1455,  0.4242, -0.1104])\n"
          ],
          "name": "stdout"
        }
      ]
    },
    {
      "cell_type": "markdown",
      "metadata": {
        "id": "PeTljRDhnFqP"
      },
      "source": [
        "수식을 어떤 변수로 삼아서 저장할수 도 있고 다양한 계산을  차원 이 많은 텐서에대해 모두 적용할 수있다는점 이 중요하고 편리한 기능 같다.\n",
        " "
      ]
    },
    {
      "cell_type": "code",
      "metadata": {
        "id": "py9Ab0n3YnJk",
        "colab": {
          "base_uri": "https://localhost:8080/"
        },
        "outputId": "8822e5c5-dc8f-4996-d7ee-944358fe7cd4"
      },
      "source": [
        "X = torch.arange(12,dtype=torch.float32).reshape((3,4))\n",
        "Y = torch.tensor([[2.0,1,4,3],[1,2,3,4],[4,3,2,1]])\n",
        "torch.cat((X,Y), dim = 0),torch.cat((X,Y),dim = 1)"
      ],
      "execution_count": 44,
      "outputs": [
        {
          "output_type": "execute_result",
          "data": {
            "text/plain": [
              "(tensor([[ 0.,  1.,  2.,  3.],\n",
              "         [ 4.,  5.,  6.,  7.],\n",
              "         [ 8.,  9., 10., 11.],\n",
              "         [ 2.,  1.,  4.,  3.],\n",
              "         [ 1.,  2.,  3.,  4.],\n",
              "         [ 4.,  3.,  2.,  1.]]),\n",
              " tensor([[ 0.,  1.,  2.,  3.,  2.,  1.,  4.,  3.],\n",
              "         [ 4.,  5.,  6.,  7.,  1.,  2.,  3.,  4.],\n",
              "         [ 8.,  9., 10., 11.,  4.,  3.,  2.,  1.]]))"
            ]
          },
          "metadata": {
            "tags": []
          },
          "execution_count": 44
        }
      ]
    },
    {
      "cell_type": "code",
      "metadata": {
        "colab": {
          "base_uri": "https://localhost:8080/"
        },
        "id": "p2IcFNbslPp1",
        "outputId": "9066d8dc-88a0-4d3a-ff5a-39a287aefa67"
      },
      "source": [
        "X == Y"
      ],
      "execution_count": 45,
      "outputs": [
        {
          "output_type": "execute_result",
          "data": {
            "text/plain": [
              "tensor([[False,  True, False,  True],\n",
              "        [False, False, False, False],\n",
              "        [False, False, False, False]])"
            ]
          },
          "metadata": {
            "tags": []
          },
          "execution_count": 45
        }
      ]
    },
    {
      "cell_type": "code",
      "metadata": {
        "colab": {
          "base_uri": "https://localhost:8080/"
        },
        "id": "qJi3tGctlPzd",
        "outputId": "6e3ae286-3d26-42be-a9bd-68eb2619802d"
      },
      "source": [
        "X.sum()"
      ],
      "execution_count": 46,
      "outputs": [
        {
          "output_type": "execute_result",
          "data": {
            "text/plain": [
              "tensor(66.)"
            ]
          },
          "metadata": {
            "tags": []
          },
          "execution_count": 46
        }
      ]
    },
    {
      "cell_type": "markdown",
      "metadata": {
        "id": "XYdQZK5boHN-"
      },
      "source": [
        "dim 을 기준으로 행차원 아니면 열차원에서 텐서들에대해 cat과 같은 연산을 할수 있다. 하지만 cat연산은 테스팅 결과 텐서들의 차원이 같아야 연산이 됨을 확인 할 수 있었다. "
      ]
    },
    {
      "cell_type": "code",
      "metadata": {
        "colab": {
          "base_uri": "https://localhost:8080/"
        },
        "id": "vS3diQaslP3K",
        "outputId": "34eb0c56-2a97-426f-9f35-b08bce7f8ef3"
      },
      "source": [
        "a = torch.arange(3).reshape((3,1))\n",
        "b = torch.arange(2).reshape(1,2)\n",
        "a,b"
      ],
      "execution_count": 47,
      "outputs": [
        {
          "output_type": "execute_result",
          "data": {
            "text/plain": [
              "(tensor([[0],\n",
              "         [1],\n",
              "         [2]]), tensor([[0, 1]]))"
            ]
          },
          "metadata": {
            "tags": []
          },
          "execution_count": 47
        }
      ]
    },
    {
      "cell_type": "code",
      "metadata": {
        "colab": {
          "base_uri": "https://localhost:8080/"
        },
        "id": "t6HxVNpro12g",
        "outputId": "30ad779e-319b-4da7-ffb4-d65e9c5f3780"
      },
      "source": [
        "a + b"
      ],
      "execution_count": 48,
      "outputs": [
        {
          "output_type": "execute_result",
          "data": {
            "text/plain": [
              "tensor([[0, 1],\n",
              "        [1, 2],\n",
              "        [2, 3]])"
            ]
          },
          "metadata": {
            "tags": []
          },
          "execution_count": 48
        }
      ]
    },
    {
      "cell_type": "markdown",
      "metadata": {
        "id": "D5PVlJ-2zNbb"
      },
      "source": [
        "broad casting을 파악할 수 있다. 수업시간의 내용을 상기시켜보면 브로드 캐스팅은 모양이 다른 텐서들의 계산을 도와주기도 하지만 의도 하지 않은 연산이 일어날 수 있음을 항상 주의 하라 하셨다."
      ]
    },
    {
      "cell_type": "code",
      "metadata": {
        "colab": {
          "base_uri": "https://localhost:8080/"
        },
        "id": "91TXymcHpJh3",
        "outputId": "e361b75d-9faa-44a9-d534-f2775f9a8c3a"
      },
      "source": [
        "X[-1],X[1:3]"
      ],
      "execution_count": 49,
      "outputs": [
        {
          "output_type": "execute_result",
          "data": {
            "text/plain": [
              "(tensor([ 8.,  9., 10., 11.]), tensor([[ 4.,  5.,  6.,  7.],\n",
              "         [ 8.,  9., 10., 11.]]))"
            ]
          },
          "metadata": {
            "tags": []
          },
          "execution_count": 49
        }
      ]
    },
    {
      "cell_type": "code",
      "metadata": {
        "colab": {
          "base_uri": "https://localhost:8080/"
        },
        "id": "sKNz_wzHpXJC",
        "outputId": "4c364cc9-4d55-4fcb-8f71-7a7ac83d7bf2"
      },
      "source": [
        "X[1,2] = 9 \n",
        "X"
      ],
      "execution_count": 50,
      "outputs": [
        {
          "output_type": "execute_result",
          "data": {
            "text/plain": [
              "tensor([[ 0.,  1.,  2.,  3.],\n",
              "        [ 4.,  5.,  9.,  7.],\n",
              "        [ 8.,  9., 10., 11.]])"
            ]
          },
          "metadata": {
            "tags": []
          },
          "execution_count": 50
        }
      ]
    },
    {
      "cell_type": "code",
      "metadata": {
        "colab": {
          "base_uri": "https://localhost:8080/"
        },
        "id": "jzXNq9OuplT2",
        "outputId": "b0b1e024-731d-47b7-83c7-2b3e4e169ead"
      },
      "source": [
        "X[0:2,:] = 12\n",
        "X"
      ],
      "execution_count": 51,
      "outputs": [
        {
          "output_type": "execute_result",
          "data": {
            "text/plain": [
              "tensor([[12., 12., 12., 12.],\n",
              "        [12., 12., 12., 12.],\n",
              "        [ 8.,  9., 10., 11.]])"
            ]
          },
          "metadata": {
            "tags": []
          },
          "execution_count": 51
        }
      ]
    },
    {
      "cell_type": "markdown",
      "metadata": {
        "id": "Ya3FaRX6ptwc"
      },
      "source": [
        "파이썬 에서의 인덱싱과 슬라이싱을 다시 짚어볼 수 있었다.\n"
      ]
    },
    {
      "cell_type": "code",
      "metadata": {
        "colab": {
          "base_uri": "https://localhost:8080/"
        },
        "id": "6yLJKB3mprBV",
        "outputId": "7196b020-b817-493d-85c2-0ecb9668774f"
      },
      "source": [
        "before = id(Y)\n",
        "Y = Y + X\n",
        "id(Y) == before"
      ],
      "execution_count": 52,
      "outputs": [
        {
          "output_type": "execute_result",
          "data": {
            "text/plain": [
              "False"
            ]
          },
          "metadata": {
            "tags": []
          },
          "execution_count": 52
        }
      ]
    },
    {
      "cell_type": "code",
      "metadata": {
        "colab": {
          "base_uri": "https://localhost:8080/"
        },
        "id": "ySNQ83XJp4ZM",
        "outputId": "4ee3c0f7-26ae-4dbe-8875-b7dcb235fa9a"
      },
      "source": [
        "Z = torch.zeros_like(Y)\n",
        "print(Z)\n",
        "print(Y.shape)\n",
        "print('id(Z):',id(Z))\n",
        "Z[:] = X + Y\n",
        "print('id(Z):',id(Z))\n",
        "\n"
      ],
      "execution_count": 53,
      "outputs": [
        {
          "output_type": "stream",
          "text": [
            "tensor([[0., 0., 0., 0.],\n",
            "        [0., 0., 0., 0.],\n",
            "        [0., 0., 0., 0.]])\n",
            "torch.Size([3, 4])\n",
            "id(Z): 140549071273488\n",
            "id(Z): 140549071273488\n"
          ],
          "name": "stdout"
        }
      ]
    },
    {
      "cell_type": "code",
      "metadata": {
        "colab": {
          "base_uri": "https://localhost:8080/"
        },
        "id": "RKB8gZkkp4br",
        "outputId": "9b0255f4-f394-4cb1-fcf1-d4c01604a5a8"
      },
      "source": [
        "before = id(X)\n",
        "X += Y\n",
        "id(X) == before"
      ],
      "execution_count": 54,
      "outputs": [
        {
          "output_type": "execute_result",
          "data": {
            "text/plain": [
              "True"
            ]
          },
          "metadata": {
            "tags": []
          },
          "execution_count": 54
        }
      ]
    },
    {
      "cell_type": "markdown",
      "metadata": {
        "id": "ph4Meal5wgjc"
      },
      "source": [
        "메모리를 절약할수 있는 방법을 파악할 수 있었다. \n",
        "그냥 변수를 X = X + Y로 하면 X+Y를 할당해주는 부분이 존재하는데 슬라이싱이나 += 같은 연산을 사용하면 메모리를 절약함을 알 수 있다.\n",
        "zeros_like는 아무래도 Y의 텐서를 shpae을 그대로 가져와 0으로 초기화해준것을 알 수 있었다.\n",
        "\n"
      ]
    },
    {
      "cell_type": "markdown",
      "metadata": {
        "id": "WOUN-vYRyVzx"
      },
      "source": [
        "---------Conversion to to other Python Objects-----------\n"
      ]
    },
    {
      "cell_type": "code",
      "metadata": {
        "colab": {
          "base_uri": "https://localhost:8080/"
        },
        "id": "FgEoFdcSp4gf",
        "outputId": "956bdaea-e3ad-403f-9817-e1c6ca9aa393"
      },
      "source": [
        "A = X.numpy()\n",
        "B = torch.tensor(A)\n",
        "type(A),type(B)"
      ],
      "execution_count": 55,
      "outputs": [
        {
          "output_type": "execute_result",
          "data": {
            "text/plain": [
              "(numpy.ndarray, torch.Tensor)"
            ]
          },
          "metadata": {
            "tags": []
          },
          "execution_count": 55
        }
      ]
    },
    {
      "cell_type": "code",
      "metadata": {
        "colab": {
          "base_uri": "https://localhost:8080/"
        },
        "id": "YPqoxgDep4in",
        "outputId": "c4f68b1d-ae3e-4bfa-9dcd-64801e18b14f"
      },
      "source": [
        "a = torch.tensor([3.5])\n",
        "a,a.item(),float(a),int(a)"
      ],
      "execution_count": 56,
      "outputs": [
        {
          "output_type": "execute_result",
          "data": {
            "text/plain": [
              "(tensor([3.5000]), 3.5, 3.5, 3)"
            ]
          },
          "metadata": {
            "tags": []
          },
          "execution_count": 56
        }
      ]
    },
    {
      "cell_type": "markdown",
      "metadata": {
        "id": "A49YEmb5y4mA"
      },
      "source": [
        "다양한 데이터를 텐서로 바꾸기 쉽다는것을 파악할수 있었다. \n",
        "위 와 같이 잘변경되면 Pandas나 다양한 툴로 가져온 데이터를 텐서로 manipulation을 쉽게 할 수 있다. "
      ]
    },
    {
      "cell_type": "markdown",
      "metadata": {
        "id": "Rrs8cF2a1URU"
      },
      "source": [
        "2.1 Data_processing"
      ]
    },
    {
      "cell_type": "code",
      "metadata": {
        "colab": {
          "base_uri": "https://localhost:8080/",
          "height": 35
        },
        "id": "2pcZr1jR3AKA",
        "outputId": "52bb7efb-d8f0-4571-dd82-97a262f281d6"
      },
      "source": [
        "pwd"
      ],
      "execution_count": 57,
      "outputs": [
        {
          "output_type": "execute_result",
          "data": {
            "application/vnd.google.colaboratory.intrinsic+json": {
              "type": "string"
            },
            "text/plain": [
              "'/content'"
            ]
          },
          "metadata": {
            "tags": []
          },
          "execution_count": 57
        }
      ]
    },
    {
      "cell_type": "code",
      "metadata": {
        "id": "BzqIujh4p4kn"
      },
      "source": [
        "import os\n",
        "\n",
        "os.makedirs(os.path.join('..','data'),exist_ok=True)\n",
        "data_file = os.path.join('..','data','house_tiny.csv')\n",
        "with open(data_file,'w') as f:\n",
        "    f.write('NumRooms,Alley,Price\\n')  # Column names\n",
        "    f.write('NA,Pave,127500\\n')  # Each row represents a data example\n",
        "    f.write('2,NA,106000\\n')\n",
        "    f.write('4,NA,178100\\n')\n",
        "    f.write('NA,NA,140000\\n')\n"
      ],
      "execution_count": 58,
      "outputs": []
    },
    {
      "cell_type": "code",
      "metadata": {
        "id": "d3_4QNLtp4mc",
        "colab": {
          "base_uri": "https://localhost:8080/"
        },
        "outputId": "10989c1c-655d-4a8c-d92d-fc40b99c5d8f"
      },
      "source": [
        "import pandas as pd\n",
        "\n",
        "data = pd.read_csv(data_file)\n",
        "print(data)"
      ],
      "execution_count": 59,
      "outputs": [
        {
          "output_type": "stream",
          "text": [
            "   NumRooms Alley   Price\n",
            "0       NaN  Pave  127500\n",
            "1       2.0   NaN  106000\n",
            "2       4.0   NaN  178100\n",
            "3       NaN   NaN  140000\n"
          ],
          "name": "stdout"
        }
      ]
    },
    {
      "cell_type": "markdown",
      "metadata": {
        "id": "Tl7pw73D3CaU"
      },
      "source": [
        "위의 pwd를 이용해 현재경로를 파악한 결과 /content를 알수 있다. \n",
        "\n",
        "os.makedirs(os.path.join('..','data'),exist_ok=True)\n",
        "data_file = os.path.join('..','data','house_tiny.csv') 는 현재경로 부모 경로에 있는 곳에 data라는 directory를 만들고 그안에 집의 정보를 저장할 house_tiny.csv를 저장한것을 알 수 있다. 그런뒤 판다스 모듈을 이용해 csv파일을 읽어 print한 것임을 알 수 있다."
      ]
    },
    {
      "cell_type": "markdown",
      "metadata": {
        "id": "-PMf7HIM5dlP"
      },
      "source": [
        "-----------Handling Missing data-----------"
      ]
    },
    {
      "cell_type": "code",
      "metadata": {
        "id": "QSgV29E1p4oq",
        "colab": {
          "base_uri": "https://localhost:8080/"
        },
        "outputId": "73c93f0d-2700-424a-9359-a628601d92ee"
      },
      "source": [
        "inputs,outputs = data.iloc[:,0:2],data.iloc[:,2]\n",
        "inputs = inputs.fillna(inputs.mean())\n",
        "print(inputs)"
      ],
      "execution_count": 60,
      "outputs": [
        {
          "output_type": "stream",
          "text": [
            "   NumRooms Alley\n",
            "0       3.0  Pave\n",
            "1       2.0   NaN\n",
            "2       4.0   NaN\n",
            "3       3.0   NaN\n"
          ],
          "name": "stdout"
        }
      ]
    },
    {
      "cell_type": "code",
      "metadata": {
        "colab": {
          "base_uri": "https://localhost:8080/"
        },
        "id": "ddZ5d81_5ZiI",
        "outputId": "7fab4f83-f2e4-484e-a30d-931c23b18180"
      },
      "source": [
        "inputs = pd.get_dummies(inputs,dummy_na= True)\n",
        "print(inputs)\n",
        "print(type(inputs.values))"
      ],
      "execution_count": 61,
      "outputs": [
        {
          "output_type": "stream",
          "text": [
            "   NumRooms  Alley_Pave  Alley_nan\n",
            "0       3.0           1          0\n",
            "1       2.0           0          1\n",
            "2       4.0           0          1\n",
            "3       3.0           0          1\n",
            "<class 'numpy.ndarray'>\n"
          ],
          "name": "stdout"
        }
      ]
    },
    {
      "cell_type": "markdown",
      "metadata": {
        "id": "-4POyWRw6tEA"
      },
      "source": [
        "pave 와 nan은 서로간의 관계성이 필요 없으므로 \n",
        "pandas의 get_dummies를 이용해 카테고리적이게 구분하는 코드이다."
      ]
    },
    {
      "cell_type": "markdown",
      "metadata": {
        "id": "HZLoqF4M67A8"
      },
      "source": [
        "---------Conversion to the Tensor Format-------"
      ]
    },
    {
      "cell_type": "code",
      "metadata": {
        "colab": {
          "base_uri": "https://localhost:8080/"
        },
        "id": "nkEzjUSS5ZkU",
        "outputId": "e23321b1-2063-435d-d538-119ba6d4225b"
      },
      "source": [
        "import torch \n",
        "X,y = torch.tensor(inputs.values),torch.tensor(outputs.values)\n",
        "X,y"
      ],
      "execution_count": 62,
      "outputs": [
        {
          "output_type": "execute_result",
          "data": {
            "text/plain": [
              "(tensor([[3., 1., 0.],\n",
              "         [2., 0., 1.],\n",
              "         [4., 0., 1.],\n",
              "         [3., 0., 1.]], dtype=torch.float64),\n",
              " tensor([127500, 106000, 178100, 140000]))"
            ]
          },
          "metadata": {
            "tags": []
          },
          "execution_count": 62
        }
      ]
    },
    {
      "cell_type": "markdown",
      "metadata": {
        "id": "2LBcoUdD7dyR"
      },
      "source": [
        "위에서 inputs.values의 type을 프린트 해본 결과 \n",
        "numpy 의 ndarray형식임을 알 수 있었다. \n",
        "딥러닝을 pytorch 형식으로 해야하므로 numpy를 torch로 변경해주는것을 알 수 있다. \n",
        " "
      ]
    },
    {
      "cell_type": "markdown",
      "metadata": {
        "id": "_viOZDVA79Ux"
      },
      "source": [
        "2.3 linear-algebra\n"
      ]
    },
    {
      "cell_type": "code",
      "metadata": {
        "colab": {
          "base_uri": "https://localhost:8080/"
        },
        "id": "zNWpRKtr5Zme",
        "outputId": "148144b4-633c-4849-f0c5-0fdb0b817667"
      },
      "source": [
        "import torch\n",
        "x = torch.tensor([3.0])\n",
        "y = torch.tensor([2.0])\n",
        "\n",
        "x+y,x * y,x /y,x**y"
      ],
      "execution_count": 63,
      "outputs": [
        {
          "output_type": "execute_result",
          "data": {
            "text/plain": [
              "(tensor([5.]), tensor([6.]), tensor([1.5000]), tensor([9.]))"
            ]
          },
          "metadata": {
            "tags": []
          },
          "execution_count": 63
        }
      ]
    },
    {
      "cell_type": "markdown",
      "metadata": {
        "id": "FPpZOarY8kEg"
      },
      "source": [
        "하나의 숫자로 나타낼수있는 scalars 를 나타내는 부분  "
      ]
    },
    {
      "cell_type": "code",
      "metadata": {
        "colab": {
          "base_uri": "https://localhost:8080/"
        },
        "id": "ufIq0yJn5Zoy",
        "outputId": "079af92a-7620-4ab7-fcd6-b5c5077ace69"
      },
      "source": [
        "x = torch.arange(4)\n",
        "x"
      ],
      "execution_count": 64,
      "outputs": [
        {
          "output_type": "execute_result",
          "data": {
            "text/plain": [
              "tensor([0, 1, 2, 3])"
            ]
          },
          "metadata": {
            "tags": []
          },
          "execution_count": 64
        }
      ]
    },
    {
      "cell_type": "code",
      "metadata": {
        "colab": {
          "base_uri": "https://localhost:8080/"
        },
        "id": "N225muxs5Zrb",
        "outputId": "e986c7a7-9aa0-419d-9327-9c19df6fc038"
      },
      "source": [
        "x[3]"
      ],
      "execution_count": 65,
      "outputs": [
        {
          "output_type": "execute_result",
          "data": {
            "text/plain": [
              "tensor(3)"
            ]
          },
          "metadata": {
            "tags": []
          },
          "execution_count": 65
        }
      ]
    },
    {
      "cell_type": "markdown",
      "metadata": {
        "id": "Cb4ZDzXbuPid"
      },
      "source": [
        "Vector에 대한 부분을 다음과 같이 적용 시킬수 있다."
      ]
    },
    {
      "cell_type": "code",
      "metadata": {
        "colab": {
          "base_uri": "https://localhost:8080/"
        },
        "id": "-k0oyk1G5ZtD",
        "outputId": "bd2dadd3-0dc5-40a3-d8fe-94fedc01bb30"
      },
      "source": [
        "len(x)"
      ],
      "execution_count": 66,
      "outputs": [
        {
          "output_type": "execute_result",
          "data": {
            "text/plain": [
              "4"
            ]
          },
          "metadata": {
            "tags": []
          },
          "execution_count": 66
        }
      ]
    },
    {
      "cell_type": "code",
      "metadata": {
        "colab": {
          "base_uri": "https://localhost:8080/"
        },
        "id": "snntbh5s5ZvV",
        "outputId": "90c2fb95-db9b-4022-828d-d8cb635a5216"
      },
      "source": [
        "x.shape"
      ],
      "execution_count": 67,
      "outputs": [
        {
          "output_type": "execute_result",
          "data": {
            "text/plain": [
              "torch.Size([4])"
            ]
          },
          "metadata": {
            "tags": []
          },
          "execution_count": 67
        }
      ]
    },
    {
      "cell_type": "code",
      "metadata": {
        "colab": {
          "base_uri": "https://localhost:8080/"
        },
        "id": "vRZPxsUD5ZxE",
        "outputId": "37af6ee6-2782-4f9d-ab3f-7503f7acf6bf"
      },
      "source": [
        "A = torch.arange(20).reshape(5,4)\n",
        "A"
      ],
      "execution_count": 68,
      "outputs": [
        {
          "output_type": "execute_result",
          "data": {
            "text/plain": [
              "tensor([[ 0,  1,  2,  3],\n",
              "        [ 4,  5,  6,  7],\n",
              "        [ 8,  9, 10, 11],\n",
              "        [12, 13, 14, 15],\n",
              "        [16, 17, 18, 19]])"
            ]
          },
          "metadata": {
            "tags": []
          },
          "execution_count": 68
        }
      ]
    },
    {
      "cell_type": "code",
      "metadata": {
        "colab": {
          "base_uri": "https://localhost:8080/"
        },
        "id": "ZxV9klj35ZzS",
        "outputId": "ce874434-8438-4ca7-fcaa-09a9680b9865"
      },
      "source": [
        "A.T"
      ],
      "execution_count": 69,
      "outputs": [
        {
          "output_type": "execute_result",
          "data": {
            "text/plain": [
              "tensor([[ 0,  4,  8, 12, 16],\n",
              "        [ 1,  5,  9, 13, 17],\n",
              "        [ 2,  6, 10, 14, 18],\n",
              "        [ 3,  7, 11, 15, 19]])"
            ]
          },
          "metadata": {
            "tags": []
          },
          "execution_count": 69
        }
      ]
    },
    {
      "cell_type": "code",
      "metadata": {
        "colab": {
          "base_uri": "https://localhost:8080/"
        },
        "id": "XFZpP1VY6-Ti",
        "outputId": "ad131a29-eb7f-48b7-85fe-68b2437ae1cf"
      },
      "source": [
        "B = torch.tensor([[1,2,3],[2,0,4],[3,4,5]])\n",
        "B"
      ],
      "execution_count": 70,
      "outputs": [
        {
          "output_type": "execute_result",
          "data": {
            "text/plain": [
              "tensor([[1, 2, 3],\n",
              "        [2, 0, 4],\n",
              "        [3, 4, 5]])"
            ]
          },
          "metadata": {
            "tags": []
          },
          "execution_count": 70
        }
      ]
    },
    {
      "cell_type": "code",
      "metadata": {
        "colab": {
          "base_uri": "https://localhost:8080/"
        },
        "id": "8NCDbtJp6-Vo",
        "outputId": "08ca32d7-90e7-48e1-fad9-a6076991d36c"
      },
      "source": [
        "B == B.T"
      ],
      "execution_count": 72,
      "outputs": [
        {
          "output_type": "execute_result",
          "data": {
            "text/plain": [
              "tensor([[True, True, True],\n",
              "        [True, True, True],\n",
              "        [True, True, True]])"
            ]
          },
          "metadata": {
            "tags": []
          },
          "execution_count": 72
        }
      ]
    },
    {
      "cell_type": "markdown",
      "metadata": {
        "id": "aUpcElUIu5yJ"
      },
      "source": [
        "Matrices 와 tranpose연산을 확인 할 수 있었다."
      ]
    },
    {
      "cell_type": "code",
      "metadata": {
        "colab": {
          "base_uri": "https://localhost:8080/"
        },
        "id": "wW-wUtDbu5UY",
        "outputId": "1c2aa25c-509f-46a3-99ae-d82f33d22ee9"
      },
      "source": [
        "X = torch.arange(24).reshape(2,3,4)\n",
        "X"
      ],
      "execution_count": 73,
      "outputs": [
        {
          "output_type": "execute_result",
          "data": {
            "text/plain": [
              "tensor([[[ 0,  1,  2,  3],\n",
              "         [ 4,  5,  6,  7],\n",
              "         [ 8,  9, 10, 11]],\n",
              "\n",
              "        [[12, 13, 14, 15],\n",
              "         [16, 17, 18, 19],\n",
              "         [20, 21, 22, 23]]])"
            ]
          },
          "metadata": {
            "tags": []
          },
          "execution_count": 73
        }
      ]
    },
    {
      "cell_type": "code",
      "metadata": {
        "colab": {
          "base_uri": "https://localhost:8080/"
        },
        "id": "iTg9RpqFvuW4",
        "outputId": "ff9a3bb3-4b92-4aaf-c57d-bff36661ac66"
      },
      "source": [
        "A = torch.arange(20,dtype=torch.float32).reshape(5,4)\n",
        "B = A.clone()\n",
        "A, A+B"
      ],
      "execution_count": 75,
      "outputs": [
        {
          "output_type": "execute_result",
          "data": {
            "text/plain": [
              "(tensor([[ 0.,  1.,  2.,  3.],\n",
              "         [ 4.,  5.,  6.,  7.],\n",
              "         [ 8.,  9., 10., 11.],\n",
              "         [12., 13., 14., 15.],\n",
              "         [16., 17., 18., 19.]]), tensor([[ 0.,  2.,  4.,  6.],\n",
              "         [ 8., 10., 12., 14.],\n",
              "         [16., 18., 20., 22.],\n",
              "         [24., 26., 28., 30.],\n",
              "         [32., 34., 36., 38.]]))"
            ]
          },
          "metadata": {
            "tags": []
          },
          "execution_count": 75
        }
      ]
    },
    {
      "cell_type": "code",
      "metadata": {
        "colab": {
          "base_uri": "https://localhost:8080/"
        },
        "id": "izYlQIdJvuZt",
        "outputId": "3d57ea0a-e579-4749-c392-c1962822df93"
      },
      "source": [
        "A * B"
      ],
      "execution_count": 76,
      "outputs": [
        {
          "output_type": "execute_result",
          "data": {
            "text/plain": [
              "tensor([[  0.,   1.,   4.,   9.],\n",
              "        [ 16.,  25.,  36.,  49.],\n",
              "        [ 64.,  81., 100., 121.],\n",
              "        [144., 169., 196., 225.],\n",
              "        [256., 289., 324., 361.]])"
            ]
          },
          "metadata": {
            "tags": []
          },
          "execution_count": 76
        }
      ]
    },
    {
      "cell_type": "code",
      "metadata": {
        "colab": {
          "base_uri": "https://localhost:8080/"
        },
        "id": "DDtfDQr7vucO",
        "outputId": "a178b3cd-6ab8-4cee-cbf6-7cc167a03034"
      },
      "source": [
        "a = 2\n",
        "X = torch.arange(24).reshape(2,3,4)\n",
        "a + X, (a * X).shape"
      ],
      "execution_count": 77,
      "outputs": [
        {
          "output_type": "execute_result",
          "data": {
            "text/plain": [
              "(tensor([[[ 2,  3,  4,  5],\n",
              "          [ 6,  7,  8,  9],\n",
              "          [10, 11, 12, 13]],\n",
              " \n",
              "         [[14, 15, 16, 17],\n",
              "          [18, 19, 20, 21],\n",
              "          [22, 23, 24, 25]]]), torch.Size([2, 3, 4]))"
            ]
          },
          "metadata": {
            "tags": []
          },
          "execution_count": 77
        }
      ]
    },
    {
      "cell_type": "markdown",
      "metadata": {
        "id": "_CBVvEsFxoT6"
      },
      "source": [
        "주어진 텐서의 크기가 같을경우 결과적으로 연산의 결과는 같은 모양을 유지한다는것을 알 수 있으며 이렇게 size 같거나 broad casting이 적용 되었을때 elementwise multiplication을 Hadmard product라고 한다. "
      ]
    },
    {
      "cell_type": "markdown",
      "metadata": {
        "id": "vWmXaUmbyqRF"
      },
      "source": [
        "----------Reduction---------"
      ]
    },
    {
      "cell_type": "code",
      "metadata": {
        "colab": {
          "base_uri": "https://localhost:8080/"
        },
        "id": "5x5vMdE-vuem",
        "outputId": "69dd5ba4-c193-4ede-d3ca-430d4d311094"
      },
      "source": [
        "x = torch.arange(4,dtype=torch.float32)\n",
        "x,x.sum()"
      ],
      "execution_count": 79,
      "outputs": [
        {
          "output_type": "execute_result",
          "data": {
            "text/plain": [
              "(tensor([0., 1., 2., 3.]), tensor(6.))"
            ]
          },
          "metadata": {
            "tags": []
          },
          "execution_count": 79
        }
      ]
    },
    {
      "cell_type": "code",
      "metadata": {
        "colab": {
          "base_uri": "https://localhost:8080/"
        },
        "id": "ikoqJzrvvugj",
        "outputId": "875e1322-18e4-48ba-bbe6-98ee8e76e33e"
      },
      "source": [
        "print(A.shape)\n",
        "print(A.sum())\n",
        "print(A)\n"
      ],
      "execution_count": 81,
      "outputs": [
        {
          "output_type": "stream",
          "text": [
            "torch.Size([5, 4])\n",
            "tensor(190.)\n",
            "tensor([[ 0.,  1.,  2.,  3.],\n",
            "        [ 4.,  5.,  6.,  7.],\n",
            "        [ 8.,  9., 10., 11.],\n",
            "        [12., 13., 14., 15.],\n",
            "        [16., 17., 18., 19.]])\n"
          ],
          "name": "stdout"
        }
      ]
    },
    {
      "cell_type": "code",
      "metadata": {
        "colab": {
          "base_uri": "https://localhost:8080/"
        },
        "id": "H7jN3ssYvujU",
        "outputId": "b429aed2-3434-46ff-b79f-f43b0e124399"
      },
      "source": [
        "A_sum_axis0=A.sum(axis=0)\n",
        "A_sum_axis0,A_sum_axis0.shape"
      ],
      "execution_count": 83,
      "outputs": [
        {
          "output_type": "execute_result",
          "data": {
            "text/plain": [
              "(tensor([40., 45., 50., 55.]), torch.Size([4]))"
            ]
          },
          "metadata": {
            "tags": []
          },
          "execution_count": 83
        }
      ]
    },
    {
      "cell_type": "code",
      "metadata": {
        "colab": {
          "base_uri": "https://localhost:8080/"
        },
        "id": "jXvfffbF6-XW",
        "outputId": "490e64fe-4ded-4e74-f420-c089fdcbd8ab"
      },
      "source": [
        "A_sum_axis1 = A.sum(axis=1)\n",
        "A_sum_axis1 ,A_sum_axis1.shape"
      ],
      "execution_count": 85,
      "outputs": [
        {
          "output_type": "execute_result",
          "data": {
            "text/plain": [
              "(tensor([ 6., 22., 38., 54., 70.]), torch.Size([5]))"
            ]
          },
          "metadata": {
            "tags": []
          },
          "execution_count": 85
        }
      ]
    },
    {
      "cell_type": "code",
      "metadata": {
        "colab": {
          "base_uri": "https://localhost:8080/"
        },
        "id": "SKKXTahcxAWR",
        "outputId": "63b8c333-e558-419a-d6f8-e640a2ffcf78"
      },
      "source": [
        "A_sum_axis2 = A.sum(axis = -1)\n",
        "A_sum_axis2 ,A_sum_axis2.shape"
      ],
      "execution_count": 87,
      "outputs": [
        {
          "output_type": "execute_result",
          "data": {
            "text/plain": [
              "(tensor([ 6., 22., 38., 54., 70.]), torch.Size([5]))"
            ]
          },
          "metadata": {
            "tags": []
          },
          "execution_count": 87
        }
      ]
    },
    {
      "cell_type": "code",
      "metadata": {
        "colab": {
          "base_uri": "https://localhost:8080/"
        },
        "id": "iKrpjA9A1cm5",
        "outputId": "13c22925-5e70-46b4-df0b-a0f7e815989b"
      },
      "source": [
        " print(A.sum(axis=[0,1]))\n",
        " print(A.sum(axis=[0,-1]))"
      ],
      "execution_count": 89,
      "outputs": [
        {
          "output_type": "stream",
          "text": [
            "tensor(190.)\n",
            "tensor(190.)\n"
          ],
          "name": "stdout"
        }
      ]
    },
    {
      "cell_type": "markdown",
      "metadata": {
        "id": "LKlOeYGf0gAH"
      },
      "source": [
        "Reduction은 dimension을 줄인다고 볼 수 있으며 위의 코드는 어떤 행 또는 열을 기준으로 덧셈으로 압축을 했다 볼 수 있다. 첫번쨰 차원 행 두번째는 열이므로 -1은 마지막 차원 즉 열을 가리킨다고 볼 수 있다."
      ]
    },
    {
      "cell_type": "code",
      "metadata": {
        "colab": {
          "base_uri": "https://localhost:8080/"
        },
        "id": "l-7j0xjzxAZD",
        "outputId": "d2c32e16-ba76-46be-b92c-5933d36152f4"
      },
      "source": [
        "A.mean(),A.sum()/ A.numel()"
      ],
      "execution_count": 90,
      "outputs": [
        {
          "output_type": "execute_result",
          "data": {
            "text/plain": [
              "(tensor(9.5000), tensor(9.5000))"
            ]
          },
          "metadata": {
            "tags": []
          },
          "execution_count": 90
        }
      ]
    },
    {
      "cell_type": "code",
      "metadata": {
        "colab": {
          "base_uri": "https://localhost:8080/"
        },
        "id": "xgOQe0nkxAbq",
        "outputId": "b59b2d0e-c031-4985-a7a5-2148d36d4efc"
      },
      "source": [
        "A.mean(axis=0),A.sum(axis=0)/ A.shape[0]"
      ],
      "execution_count": 93,
      "outputs": [
        {
          "output_type": "execute_result",
          "data": {
            "text/plain": [
              "(tensor([ 8.,  9., 10., 11.]), tensor([ 8.,  9., 10., 11.]))"
            ]
          },
          "metadata": {
            "tags": []
          },
          "execution_count": 93
        }
      ]
    },
    {
      "cell_type": "markdown",
      "metadata": {
        "id": "_6XR19vn42UC"
      },
      "source": [
        "Reduction의 방벙중 mean 애 관해서 일어나는 원리가 적혀 있다고 볼 수 있습니다."
      ]
    },
    {
      "cell_type": "code",
      "metadata": {
        "colab": {
          "base_uri": "https://localhost:8080/"
        },
        "id": "Z-NBGwJ_xAdv",
        "outputId": "01a92eb2-0c2a-49bc-ae96-9291175ec8af"
      },
      "source": [
        "sum_A = A.sum(axis=1,keepdims= True)\n",
        "sum_A"
      ],
      "execution_count": 95,
      "outputs": [
        {
          "output_type": "execute_result",
          "data": {
            "text/plain": [
              "tensor([[ 6.],\n",
              "        [22.],\n",
              "        [38.],\n",
              "        [54.],\n",
              "        [70.]])"
            ]
          },
          "metadata": {
            "tags": []
          },
          "execution_count": 95
        }
      ]
    },
    {
      "cell_type": "code",
      "metadata": {
        "colab": {
          "base_uri": "https://localhost:8080/"
        },
        "id": "m2j1xCw26-Zk",
        "outputId": "da604c45-7d73-4152-ce37-af1886aa2514"
      },
      "source": [
        "A /sum_A"
      ],
      "execution_count": 96,
      "outputs": [
        {
          "output_type": "execute_result",
          "data": {
            "text/plain": [
              "tensor([[0.0000, 0.1667, 0.3333, 0.5000],\n",
              "        [0.1818, 0.2273, 0.2727, 0.3182],\n",
              "        [0.2105, 0.2368, 0.2632, 0.2895],\n",
              "        [0.2222, 0.2407, 0.2593, 0.2778],\n",
              "        [0.2286, 0.2429, 0.2571, 0.2714]])"
            ]
          },
          "metadata": {
            "tags": []
          },
          "execution_count": 96
        }
      ]
    },
    {
      "cell_type": "code",
      "metadata": {
        "colab": {
          "base_uri": "https://localhost:8080/"
        },
        "id": "tfX6dH2H6-bl",
        "outputId": "36ef0e17-7f65-4e11-a779-4b96319a7d92"
      },
      "source": [
        "A.cumsum(axis =0)"
      ],
      "execution_count": 97,
      "outputs": [
        {
          "output_type": "execute_result",
          "data": {
            "text/plain": [
              "tensor([[ 0.,  1.,  2.,  3.],\n",
              "        [ 4.,  6.,  8., 10.],\n",
              "        [12., 15., 18., 21.],\n",
              "        [24., 28., 32., 36.],\n",
              "        [40., 45., 50., 55.]])"
            ]
          },
          "metadata": {
            "tags": []
          },
          "execution_count": 97
        }
      ]
    },
    {
      "cell_type": "markdown",
      "metadata": {
        "id": "PTb-1P475Ijp"
      },
      "source": [
        ""
      ]
    },
    {
      "cell_type": "code",
      "metadata": {
        "id": "TExKISL76-d-"
      },
      "source": [
        ""
      ],
      "execution_count": 64,
      "outputs": []
    },
    {
      "cell_type": "code",
      "metadata": {
        "id": "mkGV2OWG0glF"
      },
      "source": [
        ""
      ],
      "execution_count": null,
      "outputs": []
    },
    {
      "cell_type": "code",
      "metadata": {
        "id": "7DWD8Axs0gnn"
      },
      "source": [
        ""
      ],
      "execution_count": null,
      "outputs": []
    },
    {
      "cell_type": "code",
      "metadata": {
        "id": "Jq3NfgMH0gre"
      },
      "source": [
        ""
      ],
      "execution_count": null,
      "outputs": []
    },
    {
      "cell_type": "code",
      "metadata": {
        "id": "qIGk1lcW0gst"
      },
      "source": [
        ""
      ],
      "execution_count": null,
      "outputs": []
    },
    {
      "cell_type": "code",
      "metadata": {
        "id": "OjgcSRuz0gvC"
      },
      "source": [
        ""
      ],
      "execution_count": null,
      "outputs": []
    },
    {
      "cell_type": "code",
      "metadata": {
        "id": "wBlXSDkB0gxz"
      },
      "source": [
        ""
      ],
      "execution_count": null,
      "outputs": []
    },
    {
      "cell_type": "code",
      "metadata": {
        "id": "Z6CMJC6y0gzw"
      },
      "source": [
        ""
      ],
      "execution_count": null,
      "outputs": []
    },
    {
      "cell_type": "code",
      "metadata": {
        "id": "SuOTA5M50g2H"
      },
      "source": [
        ""
      ],
      "execution_count": null,
      "outputs": []
    },
    {
      "cell_type": "code",
      "metadata": {
        "id": "zHY2uX716-f3"
      },
      "source": [
        ""
      ],
      "execution_count": 64,
      "outputs": []
    },
    {
      "cell_type": "code",
      "metadata": {
        "id": "agAOg0XI6-hj"
      },
      "source": [
        ""
      ],
      "execution_count": 64,
      "outputs": []
    }
  ]
}